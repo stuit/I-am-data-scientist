{
 "metadata": {
  "language_info": {
   "codemirror_mode": {
    "name": "ipython",
    "version": 3
   },
   "file_extension": ".py",
   "mimetype": "text/x-python",
   "name": "python",
   "nbconvert_exporter": "python",
   "pygments_lexer": "ipython3",
   "version": "3.8.2-final"
  },
  "orig_nbformat": 2,
  "kernelspec": {
   "name": "python3",
   "display_name": "Python 3.8.2 64-bit ('.venv': venv)",
   "metadata": {
    "interpreter": {
     "hash": "5fe2b6f147cab92693c5522d81c3baf49e1b1496590c7c8b7b73b224dd9c87c8"
    }
   }
  }
 },
 "nbformat": 4,
 "nbformat_minor": 2,
 "cells": [
  {
   "cell_type": "code",
   "execution_count": 2,
   "metadata": {},
   "outputs": [
    {
     "output_type": "execute_result",
     "data": {
      "text/plain": [
       "   row_number aircraft_code  flight_id flight_no   scheduled_departure  \\\n",
       "0           1           733     136119    PG0252  2017-01-03T10:05:00Z   \n",
       "1           2           733     136120    PG0252  2017-02-24T10:05:00Z   \n",
       "2           3           733     136122    PG0252  2017-01-08T10:05:00Z   \n",
       "3           4           733     136130    PG0252  2017-02-13T10:05:00Z   \n",
       "4           5           733     136131    PG0252  2017-01-28T10:05:00Z   \n",
       "\n",
       "      scheduled_arrival departure_airport arrival_airport   status  \\\n",
       "0  2017-01-03T11:45:00Z               AAQ             SVO  Arrived   \n",
       "1  2017-02-24T11:45:00Z               AAQ             SVO  Arrived   \n",
       "2  2017-01-08T11:45:00Z               AAQ             SVO  Arrived   \n",
       "3  2017-02-13T11:45:00Z               AAQ             SVO  Arrived   \n",
       "4  2017-01-28T11:45:00Z               AAQ             SVO  Arrived   \n",
       "\n",
       "       actual_departure        actual_arrival           model  range  \\\n",
       "0  2017-01-03T10:08:00Z  2017-01-03T11:49:00Z  Boeing 737-300   4200   \n",
       "1  2017-02-24T10:07:00Z  2017-02-24T11:46:00Z  Boeing 737-300   4200   \n",
       "2  2017-01-08T10:08:00Z  2017-01-08T11:48:00Z  Boeing 737-300   4200   \n",
       "3  2017-02-13T10:07:00Z  2017-02-13T11:46:00Z  Boeing 737-300   4200   \n",
       "4  2017-01-28T10:07:00Z  2017-01-28T11:46:00Z  Boeing 737-300   4200   \n",
       "\n",
       "   seats_num  economy  business  comfort  sold_tickets  total_income  \\\n",
       "0        130      118        12        0         113.0     1653000.0   \n",
       "1        130      118        12        0         109.0     1605400.0   \n",
       "2        130      118        12        0          97.0     1431000.0   \n",
       "3        130      118        12        0         107.0     1556600.0   \n",
       "4        130      118        12        0         124.0     1812800.0   \n",
       "\n",
       "      distance  litres_per_hour  \\\n",
       "0  1219.872758             3009   \n",
       "1  1219.872758             3009   \n",
       "2  1219.872758             3009   \n",
       "3  1219.872758             3009   \n",
       "4  1219.872758             3009   \n",
       "\n",
       "                                       flight_time  flight_time_sec  \\\n",
       "0  0 years 0 mons 0 days 1 hours 40 mins 0.00 secs           6000.0   \n",
       "1  0 years 0 mons 0 days 1 hours 40 mins 0.00 secs           6000.0   \n",
       "2  0 years 0 mons 0 days 1 hours 40 mins 0.00 secs           6000.0   \n",
       "3  0 years 0 mons 0 days 1 hours 40 mins 0.00 secs           6000.0   \n",
       "4  0 years 0 mons 0 days 1 hours 40 mins 0.00 secs           6000.0   \n",
       "\n",
       "   fuel_consumption  approx_fuel_cost  \n",
       "0            5015.0         304701.37  \n",
       "1            5015.0         304701.37  \n",
       "2            5015.0         304701.37  \n",
       "3            5015.0         304701.37  \n",
       "4            5015.0         304701.37  "
      ],
      "text/html": "<div>\n<style scoped>\n    .dataframe tbody tr th:only-of-type {\n        vertical-align: middle;\n    }\n\n    .dataframe tbody tr th {\n        vertical-align: top;\n    }\n\n    .dataframe thead th {\n        text-align: right;\n    }\n</style>\n<table border=\"1\" class=\"dataframe\">\n  <thead>\n    <tr style=\"text-align: right;\">\n      <th></th>\n      <th>row_number</th>\n      <th>aircraft_code</th>\n      <th>flight_id</th>\n      <th>flight_no</th>\n      <th>scheduled_departure</th>\n      <th>scheduled_arrival</th>\n      <th>departure_airport</th>\n      <th>arrival_airport</th>\n      <th>status</th>\n      <th>actual_departure</th>\n      <th>actual_arrival</th>\n      <th>model</th>\n      <th>range</th>\n      <th>seats_num</th>\n      <th>economy</th>\n      <th>business</th>\n      <th>comfort</th>\n      <th>sold_tickets</th>\n      <th>total_income</th>\n      <th>distance</th>\n      <th>litres_per_hour</th>\n      <th>flight_time</th>\n      <th>flight_time_sec</th>\n      <th>fuel_consumption</th>\n      <th>approx_fuel_cost</th>\n    </tr>\n  </thead>\n  <tbody>\n    <tr>\n      <th>0</th>\n      <td>1</td>\n      <td>733</td>\n      <td>136119</td>\n      <td>PG0252</td>\n      <td>2017-01-03T10:05:00Z</td>\n      <td>2017-01-03T11:45:00Z</td>\n      <td>AAQ</td>\n      <td>SVO</td>\n      <td>Arrived</td>\n      <td>2017-01-03T10:08:00Z</td>\n      <td>2017-01-03T11:49:00Z</td>\n      <td>Boeing 737-300</td>\n      <td>4200</td>\n      <td>130</td>\n      <td>118</td>\n      <td>12</td>\n      <td>0</td>\n      <td>113.0</td>\n      <td>1653000.0</td>\n      <td>1219.872758</td>\n      <td>3009</td>\n      <td>0 years 0 mons 0 days 1 hours 40 mins 0.00 secs</td>\n      <td>6000.0</td>\n      <td>5015.0</td>\n      <td>304701.37</td>\n    </tr>\n    <tr>\n      <th>1</th>\n      <td>2</td>\n      <td>733</td>\n      <td>136120</td>\n      <td>PG0252</td>\n      <td>2017-02-24T10:05:00Z</td>\n      <td>2017-02-24T11:45:00Z</td>\n      <td>AAQ</td>\n      <td>SVO</td>\n      <td>Arrived</td>\n      <td>2017-02-24T10:07:00Z</td>\n      <td>2017-02-24T11:46:00Z</td>\n      <td>Boeing 737-300</td>\n      <td>4200</td>\n      <td>130</td>\n      <td>118</td>\n      <td>12</td>\n      <td>0</td>\n      <td>109.0</td>\n      <td>1605400.0</td>\n      <td>1219.872758</td>\n      <td>3009</td>\n      <td>0 years 0 mons 0 days 1 hours 40 mins 0.00 secs</td>\n      <td>6000.0</td>\n      <td>5015.0</td>\n      <td>304701.37</td>\n    </tr>\n    <tr>\n      <th>2</th>\n      <td>3</td>\n      <td>733</td>\n      <td>136122</td>\n      <td>PG0252</td>\n      <td>2017-01-08T10:05:00Z</td>\n      <td>2017-01-08T11:45:00Z</td>\n      <td>AAQ</td>\n      <td>SVO</td>\n      <td>Arrived</td>\n      <td>2017-01-08T10:08:00Z</td>\n      <td>2017-01-08T11:48:00Z</td>\n      <td>Boeing 737-300</td>\n      <td>4200</td>\n      <td>130</td>\n      <td>118</td>\n      <td>12</td>\n      <td>0</td>\n      <td>97.0</td>\n      <td>1431000.0</td>\n      <td>1219.872758</td>\n      <td>3009</td>\n      <td>0 years 0 mons 0 days 1 hours 40 mins 0.00 secs</td>\n      <td>6000.0</td>\n      <td>5015.0</td>\n      <td>304701.37</td>\n    </tr>\n    <tr>\n      <th>3</th>\n      <td>4</td>\n      <td>733</td>\n      <td>136130</td>\n      <td>PG0252</td>\n      <td>2017-02-13T10:05:00Z</td>\n      <td>2017-02-13T11:45:00Z</td>\n      <td>AAQ</td>\n      <td>SVO</td>\n      <td>Arrived</td>\n      <td>2017-02-13T10:07:00Z</td>\n      <td>2017-02-13T11:46:00Z</td>\n      <td>Boeing 737-300</td>\n      <td>4200</td>\n      <td>130</td>\n      <td>118</td>\n      <td>12</td>\n      <td>0</td>\n      <td>107.0</td>\n      <td>1556600.0</td>\n      <td>1219.872758</td>\n      <td>3009</td>\n      <td>0 years 0 mons 0 days 1 hours 40 mins 0.00 secs</td>\n      <td>6000.0</td>\n      <td>5015.0</td>\n      <td>304701.37</td>\n    </tr>\n    <tr>\n      <th>4</th>\n      <td>5</td>\n      <td>733</td>\n      <td>136131</td>\n      <td>PG0252</td>\n      <td>2017-01-28T10:05:00Z</td>\n      <td>2017-01-28T11:45:00Z</td>\n      <td>AAQ</td>\n      <td>SVO</td>\n      <td>Arrived</td>\n      <td>2017-01-28T10:07:00Z</td>\n      <td>2017-01-28T11:46:00Z</td>\n      <td>Boeing 737-300</td>\n      <td>4200</td>\n      <td>130</td>\n      <td>118</td>\n      <td>12</td>\n      <td>0</td>\n      <td>124.0</td>\n      <td>1812800.0</td>\n      <td>1219.872758</td>\n      <td>3009</td>\n      <td>0 years 0 mons 0 days 1 hours 40 mins 0.00 secs</td>\n      <td>6000.0</td>\n      <td>5015.0</td>\n      <td>304701.37</td>\n    </tr>\n  </tbody>\n</table>\n</div>"
     },
     "metadata": {},
     "execution_count": 2
    }
   ],
   "source": [
    "import pandas as pd\n",
    "import matplotlib.pyplot as plt\n",
    "import seaborn as sns\n",
    "\n",
    "pd.set_option('display.max_rows', 50) # показывать больше строк\n",
    "pd.set_option('display.max_columns', 50) # показывать больше колонок\n",
    "\n",
    "flights = pd.read_csv('flights.csv')\n",
    "flights.head()"
   ]
  },
  {
   "cell_type": "code",
   "execution_count": null,
   "metadata": {},
   "outputs": [],
   "source": []
  },
  {
   "cell_type": "code",
   "execution_count": null,
   "metadata": {},
   "outputs": [],
   "source": []
  }
 ]
}