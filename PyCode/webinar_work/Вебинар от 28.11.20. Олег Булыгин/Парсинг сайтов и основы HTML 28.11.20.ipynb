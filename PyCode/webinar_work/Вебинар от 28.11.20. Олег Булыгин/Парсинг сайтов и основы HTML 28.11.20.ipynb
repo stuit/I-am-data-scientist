{
 "cells": [
  {
   "cell_type": "markdown",
   "metadata": {},
   "source": [
    "# Парсинг сайтов и основы HTML\n",
    "\n",
    "Булыгин Олег  \n",
    "FB: [fb.com/obulygin91](fb.com/obulygin91)  \n",
    "VK: [vk.com/obulygin91](vk.com/obulygin91)  \n",
    "LinkedIn: [linkedin.com/in/obulygin](linkedin.com/in/obulygin)  \n",
    "Telegram: @obulygin91  \n",
    "email: obulygin91@ya.ru  \n"
   ]
  },
  {
   "cell_type": "markdown",
   "metadata": {},
   "source": [
    "### План\n",
    "\n",
    "1) Основы клиент-серверного взаимодействия\n",
    "\n",
    "2) Протокол HTTP\n",
    "\n",
    "3) HTML\n",
    "\n",
    "4) Библиотека requests и простейшие запросы\n",
    "\n",
    "5) Библиотека Beautiful Soup"
   ]
  },
  {
   "cell_type": "markdown",
   "metadata": {},
   "source": [
    "Web scraping — это процесс извлечения информации из Интернета.\n",
    "\n",
    "Когда мы говорим “web scraping” , подразумевается именно автоматизация этого процесса."
   ]
  },
  {
   "cell_type": "markdown",
   "metadata": {},
   "source": [
    "Зачем нужен web scraping?\n",
    "\n",
    "- можно собирать цены на товары конкурентов для оптимизации своей стратегии ценообразования;\n",
    "- следить за трендами обсуждений в соцмедиа;\n",
    "- собирать отзывы на свои товары/услуги на различных площадках для анализа;\n",
    "- собирать контактные данные пользователей из соцсетей или форумов для дальнейшего взаимодействия с ними;\n",
    "- и еще много всего."
   ]
  },
  {
   "cell_type": "markdown",
   "metadata": {},
   "source": [
    "### Основы клиент-серверного взаимодействия\n",
    "\n",
    "Клиенты и серверы взаимодействуют, обмениваясь одиночными сообщениями \n",
    "(а не потоком данных). \n",
    "\n",
    "Сообщения, отправленные клиентом (например, веб-браузером), называются запросами, а сообщения, отправленные сервером – ответами.\n",
    "\n",
    "Фактически клиент и сервер — это программное обеспечение. \n",
    "\n",
    "Обычно эти программы расположены на разных вычислительных машинах и взаимодействуют между собой через вычислительную сеть посредством сетевых протоколов, но они могут быть расположены также и на одной машине. \n",
    "\n",
    "![Foo](https://raw.githubusercontent.com/alnagaev/reni_land/master/http1-request-response.png)\n"
   ]
  },
  {
   "cell_type": "markdown",
   "metadata": {},
   "source": [
    "### HTTP\n",
    "\n",
    "HTTP — это протокол клиент-серверного взаимодействия, позволяющий получать различные ресурсы, например HTML-документы. Протокол HTTP лежит в основе обмена данными в интернете. "
   ]
  },
  {
   "cell_type": "markdown",
   "metadata": {},
   "source": [
    "\n",
    "Сердцевиной веб-общения является запрос, который отправляется через Единый указатель ресурсов (URL).\n",
    "\n",
    "Структура URL очень проста и состоит из следующих компонентов\n",
    "\n",
    "![f](https://sitechecker.pro/wp-content/uploads/2017/12/url-structure.jpg)\n",
    "\n",
    "`https://` это протокол. Он отображает, какой протокол браузер должен использовать. Обычно это HTTP-протокол или его безопасная версия - HTTPS. \n",
    "\n",
    "`sitechecker.pro/` это доменное имя. Оно означает, какой веб-сервер должен быть запрошен. В качестве альтернативы может быть использован и IP-адрес, но это делается редко, поскольку запоминать IP сложнее, и это не популярно в интернете.\n",
    "Подробнее про IP и домены https://ru.wikipedia.org/wiki/DNS\n",
    "\n",
    "\n",
    "`/path/to/myfile.html` это адрес ресурса на веб-сервере. В прошлом, адрес отображал местоположение реального файла в реальной директории на веб-сервере. В наши дни это чаще всего абстракция, позволяющая обрабатывать адреса и отображать тот или иной контент из баз данных.\n",
    "\n",
    "`?name=article&topic=seo` это дополнительные параметры, которые браузер сообщает веб-серверу. Эти параметры - список пар ключ/значение, которые разделены символом &. Веб-сервер может использовать эти параметры для исполнения дополнительных команд перед тем как отдать ресурс. \n",
    "\n",
    "`#top` это якорь на другую часть того же самого ресурса. Якорь представляет собой вид \"закладки\" внутри ресурса, которая переадресовывает браузер на \"заложенную\" часть ресурса. В HTML-документе, например, браузер может переместиться в точку, где установлен якорь\n",
    "http://tehnopost.info/html/10-yakor-ankor-na-veb-stranice.html#ssilka_na_drugom_domene"
   ]
  },
  {
   "cell_type": "markdown",
   "metadata": {},
   "source": [
    "### Методы запросов\n",
    "\n",
    "HTTP методы\n",
    "\n",
    "Для того, чтобы указать серверу на то, какое действие мы хотим произвести с ресурсом, используется тип HTTP-запроса, который также называется HTTP метод. Существует несколько HTTP методов, которые описывают действия с ресурсами. Наиболее часто используемыми являются GET и POST. \n",
    "\n",
    "Подробнее про методы HTTP можно почитать [здесь](https://developer.mozilla.org/ru/docs/Web/HTTP/Methods).\n",
    "\n",
    "### GET — получение ресурса\n",
    "\n",
    "Метод GET запрашивает информацию из указанного источника и не влияет на его содержимое. Запрос доступен для кеширования данных и добавления в закладки. Длина запроса ограничена (макс. длина URL - 2048).\n",
    "\n",
    "Примечание: Строка запроса (имя/значение) отправляется в URL \n",
    "\n",
    "``/login-check.php?argument1=value1&argument2=value2``\n",
    "\n",
    "### POST — создание ресурса\n",
    "\n",
    "Метод POST используется для отправки данных, что может оказывать влияние на содержимое ресурса. В отличие от метода GET запросы POST не могут быть кешированы, они не остаются в истории браузера и их нельзя добавить в закладки. Запросы POST не ограничиваются в объеме.\n",
    "\n",
    "Примечание: Отправляемые данные содержатся в теле запроса. "
   ]
  },
  {
   "cell_type": "code",
   "execution_count": null,
   "metadata": {},
   "outputs": [],
   "source": []
  },
  {
   "cell_type": "markdown",
   "metadata": {},
   "source": [
    "### Библиотека requests\n",
    "\n",
    "Requests — это библиотека, которую вы можете использовать для отправки всех видов HTTP-запросов. У нее много функций, начиная от передачи параметров в URL-адресах до отправки пользовательских заголовков и проверки SSL.\n",
    "\n",
    "Документация: https://requests.readthedocs.io/en/master/user/quickstart/"
   ]
  },
  {
   "cell_type": "code",
   "execution_count": 1,
   "metadata": {},
   "outputs": [],
   "source": [
    "import requests"
   ]
  },
  {
   "cell_type": "code",
   "execution_count": 2,
   "metadata": {},
   "outputs": [
    {
     "output_type": "execute_result",
     "data": {
      "text/plain": [
       "<Response [200]>"
      ]
     },
     "metadata": {},
     "execution_count": 2
    }
   ],
   "source": [
    "# метод get\n",
    "res = requests.get('https://yandex.ru')\n",
    "res\n",
    "# res.status_code"
   ]
  },
  {
   "cell_type": "code",
   "execution_count": 3,
   "metadata": {},
   "outputs": [],
   "source": [
    "# браузер отрисовал бы страницу на основе данного текста\n",
    "#res.text"
   ]
  },
  {
   "cell_type": "code",
   "execution_count": 5,
   "metadata": {},
   "outputs": [
    {
     "data": {
      "text/plain": [
       "<RequestsCookieJar[Cookie(version=0, name='i', value='z+MRS1I0STcozjauL79poumvr6uj1K6IUe1OSxyBXdtd1nUZkRCAYP5MUzzo0CM8ay3AneZaAWa/hBT7RaEpoRmplPw=', port=None, port_specified=False, domain='.yandex.ru', domain_specified=True, domain_initial_dot=True, path='/', path_specified=True, secure=True, expires=1669634692, discard=False, comment=None, comment_url=None, rest={'HttpOnly': None}, rfc2109=False), Cookie(version=0, name='is_gdpr', value='0', port=None, port_specified=False, domain='.yandex.ru', domain_specified=True, domain_initial_dot=True, path='/', path_specified=True, secure=False, expires=1669634692, discard=False, comment=None, comment_url=None, rest={}, rfc2109=False), Cookie(version=0, name='is_gdpr_b', value='CLuMORCODygC', port=None, port_specified=False, domain='.yandex.ru', domain_specified=True, domain_initial_dot=True, path='/', path_specified=True, secure=False, expires=1669634692, discard=False, comment=None, comment_url=None, rest={}, rfc2109=False), Cookie(version=0, name='mda', value='0', port=None, port_specified=False, domain='.yandex.ru', domain_specified=True, domain_initial_dot=True, path='/', path_specified=True, secure=False, expires=1616930692, discard=False, comment=None, comment_url=None, rest={}, rfc2109=False), Cookie(version=0, name='yandex_gid', value='54', port=None, port_specified=False, domain='.yandex.ru', domain_specified=True, domain_initial_dot=True, path='/', path_specified=True, secure=False, expires=1609154692, discard=False, comment=None, comment_url=None, rest={}, rfc2109=False), Cookie(version=0, name='yandexuid', value='5435783781606562692', port=None, port_specified=False, domain='.yandex.ru', domain_specified=True, domain_initial_dot=True, path='/', path_specified=True, secure=True, expires=1921922692, discard=False, comment=None, comment_url=None, rest={}, rfc2109=False), Cookie(version=0, name='yp', value='1609154693.ygu.1', port=None, port_specified=False, domain='.yandex.ru', domain_specified=True, domain_initial_dot=True, path='/', path_specified=True, secure=False, expires=1921922692, discard=False, comment=None, comment_url=None, rest={}, rfc2109=False)]>"
      ]
     },
     "execution_count": 5,
     "metadata": {},
     "output_type": "execute_result"
    }
   ],
   "source": [
    "# посмотрим куки\n",
    "res.cookies"
   ]
  },
  {
   "cell_type": "code",
   "execution_count": null,
   "metadata": {},
   "outputs": [],
   "source": []
  },
  {
   "cell_type": "markdown",
   "metadata": {},
   "source": [
    "Вот мы получили HTML от сервера. А что это? Это файл, устроенный по определенному принципу.\n",
    "\n",
    "HTML (от англ. HyperText Markup Language — «язык гипертекстовой разметки») —  стандартизированный язык разметки документов в интернете. Большинство веб-страниц содержат описание разметки на языке HTML. Язык HTML интерпретируется браузерами; полученный в результате интерпретации текст отображается на экране монитора компьютера или мобильного устройства.\n"
   ]
  },
  {
   "cell_type": "markdown",
   "metadata": {},
   "source": [
    "Тэги\n",
    "\n",
    "Вся информация о форматировании документа сосредоточена в его фрагментах - тегах - заключенных между знаками «<» и «>».\n",
    "\n",
    "Большинство HTML-тегов — парные, например: `<p> </p>`\n",
    "\n",
    "Между начальным и закрывающим тегами находится содержимое тега — контент."
   ]
  },
  {
   "cell_type": "markdown",
   "metadata": {},
   "source": [
    "Можно вкладывать элементы внутрь других элементов — это называется вложенностью.\n",
    "`<p><i>Текст</i></p>`\n",
    "\n",
    "При вложении следует соблюдать порядок их закрытия (принцип «матрёшки»), например, следующая запись будет неверной (но все равно рабочей):\n",
    "\n",
    "`<p><i>Текст</p></i>`"
   ]
  },
  {
   "cell_type": "markdown",
   "metadata": {},
   "source": [
    "Атрибуты тэгов\n",
    "\n",
    "Атрибуты содержат дополнительную информацию о том, как браузер должен обработать текущий тег.\n",
    "\n",
    "Например, атрибут class позволяет дать элементу идентификационное имя, которое в дальнейшем может быть использовано для обращения к элементу с информацией о стиле и прочими вещами.\n",
    "\n",
    "Каждому элементу можно присвоить несколько значений class и только одно значение id. \n",
    "\n",
    "Множественные значения class записываются через пробел `<div class=\"nav_top\">`"
   ]
  },
  {
   "cell_type": "markdown",
   "metadata": {},
   "source": [
    "Элементы, находящиеся внутри тега `<html>`, \n",
    "образуют дерево документа, так называемую объектную модель документа,\n",
    "DOM (document object model). При этом элемент `<html>` является корневым элементом.\n",
    "\n",
    "\n",
    "![](https://html5book.ru/wp-content/uploads/2014/10/DOM.png)\n",
    "\n",
    "Чтобы разобраться во взаимодействии элементов веб-страницы, необходимо рассмотреть так называемые «родственные отношения» между элементами. Отношения между множественными вложенными элементами подразделяются на родительские, дочерние и сестринские.\n",
    "\n",
    "**Предок** — элемент, который заключает в себе другие элементы. На рисунке 1 предком для всех элементов является `<html>`. В то же время элемент `<body>` является предком для всех содержащихся в нем тегов: `<h1>`, `<p>`, `<span>`, `<nav>` и т.д.\n",
    "\n",
    "**Потомок** — элемент, расположенный внутри одного или более типов элементов. Например, `<body>` является потомком `<html>`, а элемент `<p>` является потомком одновременно для `<body>` и `<html>`"
   ]
  },
  {
   "cell_type": "code",
   "execution_count": null,
   "metadata": {},
   "outputs": [],
   "source": []
  },
  {
   "cell_type": "code",
   "execution_count": 6,
   "metadata": {},
   "outputs": [
    {
     "data": {
      "text/plain": [
       "<Response [404]>"
      ]
     },
     "execution_count": 6,
     "metadata": {},
     "output_type": "execute_result"
    }
   ],
   "source": [
    "# получаем плохой статус\n",
    "bad_request = requests.get('https://yandex.ru/secret')\n",
    "bad_request"
   ]
  },
  {
   "cell_type": "code",
   "execution_count": 4,
   "metadata": {},
   "outputs": [],
   "source": [
    "#bad_request.text"
   ]
  },
  {
   "cell_type": "code",
   "execution_count": 8,
   "metadata": {},
   "outputs": [
    {
     "data": {
      "text/plain": [
       "<Response [403]>"
      ]
     },
     "execution_count": 8,
     "metadata": {},
     "output_type": "execute_result"
    }
   ],
   "source": [
    "# попроуем сделать post запрос\n",
    "post_req = requests.post('https://yandex.ru')\n",
    "post_req"
   ]
  },
  {
   "cell_type": "code",
   "execution_count": null,
   "metadata": {},
   "outputs": [],
   "source": []
  },
  {
   "cell_type": "code",
   "execution_count": 9,
   "metadata": {},
   "outputs": [],
   "source": [
    "# cформируем поисковый запрос, обратите внимание на его формат\n",
    "URL = 'https://yandex.ru/search/?text=python'"
   ]
  },
  {
   "cell_type": "code",
   "execution_count": 10,
   "metadata": {},
   "outputs": [
    {
     "data": {
      "text/plain": [
       "<Response [200]>"
      ]
     },
     "execution_count": 10,
     "metadata": {},
     "output_type": "execute_result"
    }
   ],
   "source": [
    "req = requests.get(URL)\n",
    "req"
   ]
  },
  {
   "cell_type": "code",
   "execution_count": 5,
   "metadata": {},
   "outputs": [],
   "source": [
    "#req.text"
   ]
  },
  {
   "cell_type": "code",
   "execution_count": 7,
   "metadata": {},
   "outputs": [],
   "source": [
    "# в request можно передать параметры запроса (для get), данные (для post) и заголовки (headers) в виде словарей. \n",
    "# сегодня не будем рассматривать примеры с необходимостью передачи заголовка, \n",
    "# но в практике вам это точно понадобится\n",
    "URL = 'https://yandex.ru/search/'\n",
    "params = {\n",
    "    'text': 'python'\n",
    "}\n",
    "headers = {\n",
    "\n",
    "}\n",
    "req = requests.get(URL, params)\n",
    "# req = requests.post(URL, json=, headers)\n",
    "req = requests.get(URL, params=params, headers=headers)\n",
    "\n",
    "#req.text"
   ]
  },
  {
   "cell_type": "code",
   "execution_count": null,
   "metadata": {},
   "outputs": [],
   "source": []
  },
  {
   "cell_type": "code",
   "execution_count": 12,
   "metadata": {},
   "outputs": [],
   "source": [
    "# очень часто сайты могут ограничивать частые запросы к себе, \n",
    "# поэтому нужно задерживать исполнение\n",
    "import time\n",
    "time.sleep(0.2)"
   ]
  },
  {
   "cell_type": "markdown",
   "metadata": {},
   "source": [
    "### Beautiful Soup\n",
    "\n",
    "Beautiful Soup — это библиотека для извлечения данных из HTML и XML. С ее помощью можно извлечь из сложной структуры разметки нужную информацию. \n",
    "\n",
    "Документация: https://www.crummy.com/software/BeautifulSoup/bs4/doc/"
   ]
  },
  {
   "cell_type": "code",
   "execution_count": 14,
   "metadata": {},
   "outputs": [],
   "source": [
    "# как разбирать всю эту полученнную разметку, чтобы достать из нее нужные данные? Поможет BeautifulSoup.\n",
    "from bs4 import BeautifulSoup"
   ]
  },
  {
   "cell_type": "markdown",
   "metadata": {},
   "source": [
    "### Практика 1. Напишем скрипт, который будет отбирать посты из нужных хабов на habr.com"
   ]
  },
  {
   "cell_type": "code",
   "execution_count": 16,
   "metadata": {},
   "outputs": [],
   "source": [
    "# определяем список хабов, которые нам интересны\n",
    "DESIRED_HUBS = ['python', 'odfghohdfig', 'dfghdfh', 'dfhdfhdfh']"
   ]
  },
  {
   "cell_type": "code",
   "execution_count": 15,
   "metadata": {},
   "outputs": [],
   "source": [
    "# получаем страницу с самыми свежими постами\n",
    "req = requests.get('https://habr.com/ru/all/')\n",
    "\n",
    "# создаем soup-объект и указываем, что работаем с html\n",
    "soup = BeautifulSoup(req.text, 'html.parser')\n",
    "\n",
    "#soup"
   ]
  },
  {
   "cell_type": "code",
   "execution_count": 18,
   "metadata": {},
   "outputs": [
    {
     "data": {
      "text/plain": [
       "20"
      ]
     },
     "execution_count": 18,
     "metadata": {},
     "output_type": "execute_result"
    }
   ],
   "source": [
    "# извлекаем посты. find_all находит все указанные тэги и возвращает их список (со всеми вложениями)\n",
    "\n",
    "# ищем блоки со статьями\n",
    "posts = soup.find_all('article', class_='post')\n",
    "posts"
   ]
  },
  {
   "cell_type": "code",
   "execution_count": 19,
   "metadata": {},
   "outputs": [
    {
     "name": "stdout",
     "output_type": "stream",
     "text": [
      "Удобное логирование на бэкенде. Доклад Яндекса https://habr.com/ru/company/yandex/blog/530348/\n",
      "Как с помощью хакатона столкнуть математиков и ML–щиков, и кто тогда победит https://habr.com/ru/company/bashnipineft/blog/530340/\n"
     ]
    }
   ],
   "source": [
    "# добавляем извлечение хабов из постов, чтобы отбирать только нужные\n",
    "for post in posts:\n",
    "    hubs = post.find_all('a', class_='hub-link')  # ищем список всех хабов в каждой статье\n",
    "    for hub in hubs:\n",
    "            hub_lower = hub.text.lower()  # при помощи атрибута text обращаемся к содержимому тэга\n",
    "           # ищем вхождение хотя бы одного желаемого хаба\n",
    "            if any([hub_lower in desired for desired in DESIRED_HUBS]):\n",
    "               # пост нам интересен - делаем с ним все что захотим:\n",
    "                \n",
    "               # можно отправит в телеграм уведомление, можно на почту и т.п.\n",
    "                title_element = post.find('a', class_='post__title_link')\n",
    "                print(title_element.text, title_element.get('href')) # при помощи get достаем содержимое атрибута href\n",
    "               # так как пост уже нам подошел - дальше нет смысла проверять хабы\n",
    "                break"
   ]
  },
  {
   "cell_type": "markdown",
   "metadata": {},
   "source": [
    "### Практика 2. Напишем скрипт, который будет собирать новости с сайта Коммерсанта"
   ]
  },
  {
   "cell_type": "code",
   "execution_count": 20,
   "metadata": {},
   "outputs": [],
   "source": [
    "URL = 'https://www.kommersant.ru/search/results'\n",
    "params = {\n",
    "    'search_query': 'python'\n",
    "}"
   ]
  },
  {
   "cell_type": "code",
   "execution_count": 21,
   "metadata": {},
   "outputs": [],
   "source": [
    "res = requests.get(URL, params)"
   ]
  },
  {
   "cell_type": "code",
   "execution_count": 16,
   "metadata": {},
   "outputs": [],
   "source": [
    "#res.text"
   ]
  },
  {
   "cell_type": "code",
   "execution_count": 17,
   "metadata": {},
   "outputs": [],
   "source": [
    "soup = BeautifulSoup(res.text, 'html.parser')\n",
    "#soup"
   ]
  },
  {
   "cell_type": "code",
   "execution_count": 25,
   "metadata": {},
   "outputs": [
    {
     "data": {
      "text/plain": [
       "10"
      ]
     },
     "execution_count": 25,
     "metadata": {},
     "output_type": "execute_result"
    }
   ],
   "source": [
    "# добираемся до блоков с новостями\n",
    "news_blocks = soup.find_all('div', class_='search_results_item')\n",
    "news_blocks"
   ]
  },
  {
   "cell_type": "code",
   "execution_count": 26,
   "metadata": {},
   "outputs": [
    {
     "data": {
      "text/plain": [
       "[<div class=\"article_intro\">\n",
       " <a href=\"/doc/4529711?query=python\" target=\"_blank\">\n",
       " \t\t\t\t\t\t\t\t\t ...  знания языка программирования <mark>Python</mark>, некоторые разделы высшей ... \n",
       " \t\t\t\t\t\t\t\t</a>\n",
       " </div>,\n",
       " <div class=\"article_intro\">\n",
       " <a href=\"/doc/4492730?query=python\" target=\"_blank\">\n",
       " \t\t\t\t\t\t\t\t\t ...  и простого кода <mark>Python</mark>. Мы надеемся, что ... \n",
       " \t\t\t\t\t\t\t\t</a>\n",
       " </div>,\n",
       " <div class=\"article_intro\">\n",
       " <a href=\"/doc/4450879?query=python\" target=\"_blank\">\n",
       " \t\t\t\t\t\t\t\t\t ...  рубежом,— С++, С #, <mark>Python</mark>… В России большие ... \n",
       " \t\t\t\t\t\t\t\t</a>\n",
       " </div>,\n",
       " <div class=\"article_intro\">\n",
       " <a href=\"/doc/4450177?query=python\" target=\"_blank\">\n",
       " \t\t\t\t\t\t\t\t\t ...  и методологии, применяя <mark>Python</mark>-разработку, технологии машинного ... \n",
       " \t\t\t\t\t\t\t\t</a>\n",
       " </div>,\n",
       " <div class=\"article_intro\">\n",
       " <a href=\"/doc/4434580?query=python\" target=\"_blank\">\n",
       " \t\t\t\t\t\t\t\t\t ... , как «Программирование на <mark>Python</mark>», «Мобильная разработка», «Разработка ... \n",
       " \t\t\t\t\t\t\t\t</a>\n",
       " </div>,\n",
       " <div class=\"article_intro\">\n",
       " <a href=\"/doc/4407208?query=python\" target=\"_blank\">\n",
       " \t\t\t\t\t\t\t\t\t ...  и методологии, применяя <mark>Python</mark>-разработку, технологии машинного ... \n",
       " \t\t\t\t\t\t\t\t</a>\n",
       " </div>,\n",
       " <div class=\"article_intro\">\n",
       " <a href=\"/doc/4399817?query=python\" target=\"_blank\">\n",
       " \t\t\t\t\t\t\t\t\t ... , как «Программирование на <mark>Python</mark>», «Мобильная разработка», «Разработка ... \n",
       " \t\t\t\t\t\t\t\t</a>\n",
       " </div>,\n",
       " <div class=\"article_intro\">\n",
       " <a href=\"/doc/4377181?query=python\" target=\"_blank\">\n",
       " \t\t\t\t\t\t\t\t\t ...  сколько обойдется изучение <mark>Python</mark>, курсы по маркетингу ...  популярных сегодня языков <mark>Python</mark> в «Нетологии» стоило ... \n",
       " \t\t\t\t\t\t\t\t</a>\n",
       " </div>,\n",
       " <div class=\"article_intro\">\n",
       " <a href=\"/doc/4349643?query=python\" target=\"_blank\">\n",
       " \t\t\t\t\t\t\t\t\t ...  (Java, .net, JS, <mark>Python</mark> и других), DevOps ... \n",
       " \t\t\t\t\t\t\t\t</a>\n",
       " </div>,\n",
       " <div class=\"article_intro\">\n",
       " <a href=\"/doc/4317759?query=python\" target=\"_blank\">\n",
       " \t\t\t\t\t\t\t\t\t ...  числе программирование на <mark>Python</mark> и основы микроэлектроники ... \n",
       " \t\t\t\t\t\t\t\t</a>\n",
       " </div>]"
      ]
     },
     "execution_count": 26,
     "metadata": {},
     "output_type": "execute_result"
    }
   ],
   "source": [
    "# добираемся до текста со ссылкой\n",
    "articles_intro = list(map(lambda x: x.find('div', class_='article_intro'), news_blocks))\n",
    "articles_intro"
   ]
  },
  {
   "cell_type": "code",
   "execution_count": 27,
   "metadata": {},
   "outputs": [
    {
     "data": {
      "text/plain": [
       "['/doc/4529711?query=python',\n",
       " '/doc/4492730?query=python',\n",
       " '/doc/4450879?query=python',\n",
       " '/doc/4450177?query=python',\n",
       " '/doc/4434580?query=python',\n",
       " '/doc/4407208?query=python',\n",
       " '/doc/4399817?query=python',\n",
       " '/doc/4377181?query=python',\n",
       " '/doc/4349643?query=python',\n",
       " '/doc/4317759?query=python']"
      ]
     },
     "execution_count": 27,
     "metadata": {},
     "output_type": "execute_result"
    }
   ],
   "source": [
    "# добираемся до ссылок\n",
    "a_list = list(map(lambda x: x.find('a').get('href'), articles_intro))\n",
    "a_list"
   ]
  },
  {
   "cell_type": "code",
   "execution_count": 28,
   "metadata": {},
   "outputs": [
    {
     "data": {
      "text/plain": [
       "['https://www.kommersant.ru//doc/4529711?query=python',\n",
       " 'https://www.kommersant.ru//doc/4492730?query=python',\n",
       " 'https://www.kommersant.ru//doc/4450879?query=python',\n",
       " 'https://www.kommersant.ru//doc/4450177?query=python',\n",
       " 'https://www.kommersant.ru//doc/4434580?query=python',\n",
       " 'https://www.kommersant.ru//doc/4407208?query=python',\n",
       " 'https://www.kommersant.ru//doc/4399817?query=python',\n",
       " 'https://www.kommersant.ru//doc/4377181?query=python',\n",
       " 'https://www.kommersant.ru//doc/4349643?query=python',\n",
       " 'https://www.kommersant.ru//doc/4317759?query=python']"
      ]
     },
     "execution_count": 28,
     "metadata": {},
     "output_type": "execute_result"
    }
   ],
   "source": [
    "# формируем полноценные ссылки\n",
    "all_refs = list(map(lambda x: 'https://www.kommersant.ru/' + x, a_list))\n",
    "all_refs"
   ]
  },
  {
   "cell_type": "code",
   "execution_count": 31,
   "metadata": {},
   "outputs": [
    {
     "data": {
      "text/plain": [
       "['https://www.kommersant.ru//doc/4529711?query=python',\n",
       " 'https://www.kommersant.ru//doc/4492730?query=python',\n",
       " 'https://www.kommersant.ru//doc/4450879?query=python',\n",
       " 'https://www.kommersant.ru//doc/4450177?query=python',\n",
       " 'https://www.kommersant.ru//doc/4434580?query=python',\n",
       " 'https://www.kommersant.ru//doc/4407208?query=python',\n",
       " 'https://www.kommersant.ru//doc/4399817?query=python',\n",
       " 'https://www.kommersant.ru//doc/4377181?query=python',\n",
       " 'https://www.kommersant.ru//doc/4349643?query=python',\n",
       " 'https://www.kommersant.ru//doc/4317759?query=python']"
      ]
     },
     "execution_count": 31,
     "metadata": {},
     "output_type": "execute_result"
    }
   ],
   "source": [
    "# объединим все в одну функцию\n",
    "def get_all_links(url, query):\n",
    "    all_refs = []\n",
    "    params = {\n",
    "        'search_query': query,\n",
    "    }\n",
    "    res = requests.get(URL, params)\n",
    "    time.sleep(0.3)\n",
    "    soup = BeautifulSoup(res.text, 'html.parser')\n",
    "    news_blocks = soup.find_all('div', class_='search_results_item')\n",
    "    articles_intro = list(map(lambda x: x.find('div', class_='article_intro'), news_blocks))\n",
    "    a_list = list(map(lambda x: x.find('a').get('href'), articles_intro))\n",
    "    all_refs = list(map(lambda x: 'https://www.kommersant.ru/' + x, a_list))\n",
    "\n",
    "    return all_refs\n",
    "\n",
    "all_links = get_all_links(URL, 'python')\n",
    "all_links"
   ]
  },
  {
   "cell_type": "code",
   "execution_count": 33,
   "metadata": {},
   "outputs": [
    {
     "data": {
      "text/plain": [
       "['https://www.kommersant.ru//doc/4529711?query=python',\n",
       " 'https://www.kommersant.ru//doc/4492730?query=python',\n",
       " 'https://www.kommersant.ru//doc/4450879?query=python',\n",
       " 'https://www.kommersant.ru//doc/4450177?query=python',\n",
       " 'https://www.kommersant.ru//doc/4434580?query=python',\n",
       " 'https://www.kommersant.ru//doc/4407208?query=python',\n",
       " 'https://www.kommersant.ru//doc/4399817?query=python',\n",
       " 'https://www.kommersant.ru//doc/4377181?query=python',\n",
       " 'https://www.kommersant.ru//doc/4349643?query=python',\n",
       " 'https://www.kommersant.ru//doc/4317759?query=python',\n",
       " 'https://www.kommersant.ru//doc/4282410?query=python',\n",
       " 'https://www.kommersant.ru//doc/4275981?query=python']"
      ]
     },
     "execution_count": 33,
     "metadata": {},
     "output_type": "execute_result"
    }
   ],
   "source": [
    "# но мы же собрали только одну страницу? Хотим ВСЕ новости\n",
    "def get_all_links(url, query, pages):\n",
    "    all_refs = []\n",
    "    params = {\n",
    "        'search_query': query\n",
    "    }\n",
    "    for i in range(pages):\n",
    "        params['page'] = i + 1\n",
    "        res = requests.get(URL, params)\n",
    "        time.sleep(0.3)\n",
    "        soup = BeautifulSoup(res.text, 'html.parser')\n",
    "        news_blocks = soup.find_all('div', class_='search_results_item')\n",
    "        articles_intro = list(map(lambda x: x.find('div', class_='article_intro'), news_blocks))\n",
    "        a_list = list(map(lambda x: x.find('a').get('href'), articles_intro))\n",
    "        all_refs += list(map(lambda x: 'https://www.kommersant.ru/' + x, a_list))\n",
    "    return all_refs\n",
    "\n",
    "all_links = get_all_links(URL, 'python', 10)\n",
    "all_links"
   ]
  },
  {
   "cell_type": "code",
   "execution_count": 34,
   "metadata": {},
   "outputs": [],
   "source": [
    "import pandas as pd"
   ]
  },
  {
   "cell_type": "code",
   "execution_count": 18,
   "metadata": {},
   "outputs": [
    {
     "output_type": "error",
     "ename": "NameError",
     "evalue": "name 'all_links' is not defined",
     "traceback": [
      "\u001b[0;31m---------------------------------------------------------------------------\u001b[0m",
      "\u001b[0;31mNameError\u001b[0m                                 Traceback (most recent call last)",
      "\u001b[0;32m<ipython-input-18-a04b17bdcdb0>\u001b[0m in \u001b[0;36m<module>\u001b[0;34m\u001b[0m\n\u001b[1;32m      1\u001b[0m \u001b[0;31m# собираем даты, заголовки и тексты новостей\u001b[0m\u001b[0;34m\u001b[0m\u001b[0;34m\u001b[0m\u001b[0m\n\u001b[1;32m      2\u001b[0m \u001b[0;31m# получаем ошибочку. Значит не у всех получаемых страниц одинаковая разметка\u001b[0m\u001b[0;34m\u001b[0m\u001b[0;34m\u001b[0m\u001b[0m\n\u001b[0;32m----> 3\u001b[0;31m \u001b[0;32mfor\u001b[0m \u001b[0mlink\u001b[0m \u001b[0;32min\u001b[0m \u001b[0mall_links\u001b[0m\u001b[0;34m:\u001b[0m\u001b[0;34m\u001b[0m\u001b[0m\n\u001b[0m\u001b[1;32m      4\u001b[0m     \u001b[0msoup\u001b[0m \u001b[0;34m=\u001b[0m \u001b[0mBeautifulSoup\u001b[0m\u001b[0;34m(\u001b[0m\u001b[0mrequests\u001b[0m\u001b[0;34m.\u001b[0m\u001b[0mget\u001b[0m\u001b[0;34m(\u001b[0m\u001b[0mlink\u001b[0m\u001b[0;34m)\u001b[0m\u001b[0;34m.\u001b[0m\u001b[0mtext\u001b[0m\u001b[0;34m,\u001b[0m \u001b[0;34m'html.parser'\u001b[0m\u001b[0;34m)\u001b[0m\u001b[0;34m\u001b[0m\u001b[0m\n\u001b[1;32m      5\u001b[0m     \u001b[0mtime\u001b[0m\u001b[0;34m.\u001b[0m\u001b[0msleep\u001b[0m\u001b[0;34m(\u001b[0m\u001b[0;36m0.3\u001b[0m\u001b[0;34m)\u001b[0m\u001b[0;34m\u001b[0m\u001b[0m\n",
      "\u001b[0;31mNameError\u001b[0m: name 'all_links' is not defined"
     ]
    }
   ],
   "source": [
    "# собираем даты, заголовки и тексты новостей\n",
    "# получаем ошибочку. Значит не у всех получаемых страниц одинаковая разметка\n",
    "for link in all_links:\n",
    "    soup = BeautifulSoup(requests.get(link).text, 'html.parser')\n",
    "    time.sleep(0.3)\n",
    "    date = pd.to_datetime(soup.find('time', class_='title__cake').get('datetime'), dayfirst=True).date()\n",
    "    print(date)\n",
    "    title = soup.find('h1', class_='article_name').text\n",
    "    print(title)\n",
    "    text = soup.find('div', class_='article_text_wrapper').text\n",
    "    print(text)"
   ]
  },
  {
   "cell_type": "code",
   "execution_count": 36,
   "metadata": {},
   "outputs": [
    {
     "name": "stdout",
     "output_type": "stream",
     "text": [
      "2020-10-27\n",
      "В один клик\n",
      "\n",
      "Евразийские соревнования в IT-сфере Huawei Honor Cup проводятся с 2015 года, организованы они по инициативе Huawei. Зачем нужны Huawei Honor Cup и что они дают участникам и устроителям? Об этом «Коммерсантъ. Инициативы» узнал и у организаторов, и у победителей прошлого года.\n",
      "«Российские программисты очень талантливы»\n",
      "У Сай, вице-президент Huawei в регионе Евразия\n",
      "—Работая в России уже более 20 лет, какие вызовы компания Huawei как ведущий глобальный поставщик ИКТ-решений видит в настоящее время в российской IT-сфере?\n",
      "—Цифровая трансформация шагает семимильными шагами. Но стремительное развитие ИКТ одновременно создает и некоторые барьеры в социальной сфере. По статистике, только каждый четвертый россиянин обладает достаточно высоким уровнем цифровой грамотности. Недостаточный уровень цифровых навыков понижает конкурентоспособность на рынке труда, создает сложности при поиске работы. В частности, во время пандемии стало очевидно, что не все оказались готовы к дистанционным форматам работы из-за нехватки знаний в области технологий.\n",
      "При этом сегодня цифровая грамотность нужна не только сотрудникам компаний, занятых в сфере высоких технологий. Мы наблюдаем, как цифровизация стремительно захватывает традиционные отрасли, рабочие профессии, которые раньше были связаны исключительно с ручным трудом. Яркий пример тому — недавний совместный проект Huawei с «Билайном». На территории угольного разреза СУЭК развернули пилотную 5G-зону и тестируют беспилотные дистанционно управляемые самосвалы. Если раньше операторы находились за рулем самосвала, то сейчас могут управлять техникой, сидя за компьютером за много километров от карьера. Но для этого нужно понимать и уметь использовать новейшие технологические решения. Это просто, например, для 13–14-летних детей, но для поколения их родителей может стать серьезной проблемой в трудоустройстве. Вспомните, какой сложной задачей было научиться пользовать персональным компьютером, когда они только появились. Для поколения 50–60 лет выйти в интернет или подготовить презентацию в PowerPoint казалось невыполнимой миссией, некоторые из-за этого даже потеряли работу.\n",
      "Сегодня мы стоим на пороге нового мира более сложных интеллектуальных технологий. По данным исследования Ассоциации предприятий компьютерных и информационных технологий, проведенного по заказу Минкомсвязи России и при поддержке АНО «Цифровая экономика», численность ИКТ-специалистов в России составляет порядка 1,8 млн человек, а к 2024 году общая годовая потребность в высококвалифицированных кадрах составит до 300 тыс. человек в год.\n",
      "В России порядка 200 технических вузов, но далеко не во всех учебная программа соответствует самым актуальным направлениям ИКТ. Для родителей сегодняшних школьников встает серьезный выбор: куда ребенок пойдет учиться и какая профессия в будущем обеспечит ему стабильную работу?\n",
      "—Какие основные программы компании Huawei нацелены на образование молодежи и подготовку кадров?\n",
      "—Подготовка кадров — неотъемлемая часть бизнеса Huawei как на глобальном уровне, так на российском рынке. Мы привносим новые технологии и понимаем свою ответственность, стараясь помогать людям разных возрастов и профессий адаптироваться к стремительно меняющемуся миру технологий.\n",
      "Компания Huawei предлагает стратегию взаимодействия с локальными игроками российского рынка, чтобы совместными усилиями способствовать достижению национальных целей развития России, в том числе цифровой трансформации и подготовке кадров. Сотрудничество — основная идея нашей стратегии построения Сообщества единого цифрового будущего.\n",
      "Вместе с более чем 60 российскими вузами мы создали ИКТ Академии Huawei. Более десяти лет работает международная программа стажировок Seeds for the Future, а с 2012 года она стала доступна и в России. В рамках программы Huawei приглашает студентов пройти обучение в штаб-квартире Huawei в Шэньчжэне, научиться работать на инновационном оборудовании в наших лабораториях. За время действия программы ее участниками стали более 100 российских студентов из 12 вузов. Кроме того, компания поддерживает научные проекты российских студентов и аспирантов, дает возможность стипендий и стажировок. В 2015 году российский офис компании специально для российских студентов организовал соревнования по ИКТ Huawei Honor Cup.\n",
      "Благодаря этим проектам мы совместно с партнерами подготовили порядка 18 тыс. специалистов в сфере ИКТ. В ближайшие пять лет мы планируем продолжать сотрудничество в этой сфере, наша цель — подготовить свыше 130 тыс. российских кадров в области цифровых технологий.\n",
      "—Какую динамику в России вы прослеживаете за пять лет проведения Huawei Honor Cup — интерес общества и участников, достижения лауреатов предыдущих конкурсов?\n",
      "В этом году соревнования Huawei Honor Cup проходят в шестой раз, и за эти годы мероприятие стало очень масштабным. Количество участников выросло более чем в десять раз: в 2015 году всего было 1,5 тыс. участников из 70 учебных заведений, а в этом году мы получили уже более 18 тыс. заявок от студентов и выпускников более 1 тыс. вузов. Кроме того, расширилась и география проведения соревнований: с прошлого года Huawei Honor Cup стали евразийскими соревнованиями, в которых могут принять участие студенты и выпускники из России, Белоруссии, Казахстана, Узбекистана и других стран.\n",
      "Huawei Honor Cup — это не просто олимпиада или соревнования, это образовательный проект, он дает участникам возможность получать новые знания и компетенции, которые затем они смогут применить в новых исследованиях и дальнейшей работе. Для участников на протяжении всего времени проведения соревнований доступны бесплатные вебинары, онлайн-школы по актуальным направлениям ИКТ: 5G, облачные технологии, искусственный интеллект, разработка мобильных приложений. В этом году видео-курс по искусственному интеллекту изучили 1,3 тыс. человек, по облачным вычислениям и большим данным — более 2 тыс. Идея Huawei Honor Cup состоит в том, чтобы мотивировать студентов учиться самостоятельно, и мы рады видеть, что количество участников растет из года в год.\n",
      "—Как меняются сами Huawei Honor Cup?\n",
      "Технологии меняются очень быстро, вместе с ними меняются и Huawei Honor Cup. С первого года проведения соревнований мы ежегодно меняем список номинаций, чтобы задания охватывали наиболее актуальные вопросы.\n",
      "Я очень рад, что в этом году мы открыли участникам новую возможность попробовать себя в роли разработчиков. Российские программисты очень талантливы и обладают огромным потенциалом к разработке приложений. Поэтому мы представляем им новую свободную платформу для создания приложений, отличную от App Store и Google Play,— экосистему HMS (Huawei Mobile Service). Среди работ участников номинации App мы видим разработки высокого уровня, и не исключено, что некоторые из них смогут пополнить ряды приложений в галерее приложений APP Gallery для мобильных телефонов Huawei и Honor.\n",
      "—Каков шанс победителей Huawei Honor Cup начать работать и сделать карьеру в Huawei в России и в мире?\n",
      "За годы проведения соревнований более 15 победителей после финала получили приглашения на работу в различные подразделения Huawei в России. Однако Huawei Honor Cup не нацелены в первую очередь на поиск новых сотрудников для нашей компании. В рамках образовательных проектов компания Huawei предлагает студентам и молодым специалистам разностороннее образование в области ИКТ и готовит кадры для всей отрасли в целом.\n",
      "Как я уже говорил, в любом деле важную роль играет сотрудничество. Мы рады, что наши партнеры из числа российских компаний разделяют видение Huawei в деле подготовки кадров и поддерживают соревнования Huawei Honor Cup. В рамках финала прошлого года наши партнеры из «Сбера», «Лаборатории Касперского» вместе с экспертами Huawei провели для участников семинар о перспективах трудоустройства в цифровую эпоху. Также в рамках финала мы организуем ярмарки вакансий, где эксперты HR-департамента компании рассказывают о возможностях трудоустройства и могут рекомендовать для трудоустройства участников, показавших хорошие результаты в финале, нашим партнерам.\n",
      "В Китае есть поговорка: путь в тысячу ли начинается с первого шага. Каждый раз, стоя на сцене и вручая призы победителям Huawei Honor Cup, я чувствую гордость за наше общее дело. Все ребята, с которыми мы знакомимся во время соревнований, приехали из разных городов, из разных вузов, но их объединяют общие черты: упорство, вера в свои силы, талант и стремление к совершенству. Конечно, для студентов и выпускников крайне важно иметь возможность применять свои знания на практике, и надеюсь, что победа в Huawei Honor Cup станет для участников лишь первым шагом к их работе мечты.\n",
      "\n",
      "«Глубокое понимание темы и практический опыт»\n",
      "Федор Венедиктов, победитель Huawei Honor Cup 2019 в номинации IT\n",
      "\n",
      "\n",
      "\n",
      "\n",
      "\n",
      "\n",
      "\n",
      "\n",
      "\n",
      "\n",
      "\n",
      "\n",
      "Фото: предоставлено Huawei\n",
      "\n",
      "—Как вы узнали о Huawei Honor Cup?\n",
      "—Это был 2017 год, второй-третий курс бакалавриата, в это время студенты начинают искать занятия кроме учебы, многие с моего направления подготовки участвовали в конкурсах по робототехнике. Я решил, что это не моя область интересов, искал дальше. Увидел информацию о проведении Huawei Honor Cup 2017 случайно, в новостной ленте на портале своего университета (САФУ).\n",
      "—В какой номинации победили?\n",
      "—Номинация IT охватывает технологии и компоненты, используемые в центрах обработки данных за небольшим исключением сетевой инфраструктуры, для нее существует отдельная номинация IP. К IT можно отнести физические серверы, системы хранения данных, сети хранения и облачную операционную среду, всю продукцию собственной разработки компании. Каждые из этих компонент следует исследовать, чтобы справляться с заданиями отборочных этапов.\n",
      "—Вы участвовали несколько лет. Как менялись соревнования?\n",
      "—С моего первого участия формат улучшился, теперь он подразумевает более глубокое понимание темы и некий практический опыт. Однако участниками по-прежнему являются студенты и аспиранты, находящиеся в относительно равных условиях со свободным доступом к материалу, вопрос лишь в уровне подготовки. Единственным преимуществом может быть живой опыт работы с оборудованием, но другие могут частично компенсировать это, используя эмуляторы пользовательских интерфейсов. Ежегодно в этой номинации выступает пара сотен человек, но реальная конкуренция идет между несколькими десятками.\n",
      "—Что дал вам конкурс?\n",
      "—Благодаря участию в конкурсах я сменил специализацию. Моя программа бакалавриата по автоматизации в промышленности предлагала мне далеко не светлое будущее. Приняв участие в конкурсах Huawei, я заинтересовался сферой системного администрирования и телекоммуникаций серьезнее и уже не сомневаюсь выборе предметной области для работы. Также многочисленные дипломы призера конкурсов при поддержке компании Huawei помогли мне стать стипендиатом Фонда Владимира Потанина. А выигранный приз Huawei Honor Cup 2019 благополучно материализовался в «даче-мобиль» для родителей.\n",
      "\n",
      "«Не сомневайтесь в своих силах»\n",
      "Василь Тапкин, победитель Huawei Honor Cup 2019 в номинации AI\n",
      "\n",
      "\n",
      "\n",
      "\n",
      "\n",
      "\n",
      "\n",
      "\n",
      "\n",
      "\n",
      "\n",
      "\n",
      "Фото: предоставлено Huawei\n",
      "\n",
      "—Расскажите о номинации, в которой победили.\n",
      "—Номинация, в которой я участвовал, называется «Модели и методы искусственного интеллекта», она охватывает практические знания языка программирования Python, некоторые разделы высшей математики и широкий спектр теории машинного обучения, включающей в себя задачи классификации, регрессии, компьютерного зрения, обработки естественного языка и многое другое.\n",
      "—Сколько участников было в соревнованиях?\n",
      "—В соревновании принимало участие около 15 тыс. человек, но в финал сражаться за кубок вышли только по 20 сильнейших участников в каждой из номинаций.\n",
      "—Что бы вы посоветовали тем, кто думает об участии в конкурсе? Как правильно подготовиться?\n",
      "—Участникам этого года желаю вложить все свое упорство в подготовку. На сайте Huawei Honor Cup есть ссылка на онлайн-школу Huawei, где можно посмотреть лекции по искусственному интеллекту.\n",
      "\n",
      "«Победа в конкурсе становится все более престижной»\n",
      "\n",
      "\n",
      "\n",
      "\n",
      "\n",
      "\n",
      "\n",
      "\n",
      "\n",
      "\n",
      "\n",
      "\n",
      "Фото: предоставлено Huawei\n",
      "\n",
      "Александр Богачев, победитель Huawei Honor Cup 2019 в номинации 5G\n",
      "—Как вы узнали о Huawei Honor Cup и почему решили принять участие?\n",
      "—О конкурсе Huawei Honor Cup я узнал в 2016 году, когда учился в университете. С тех пор принимал участие каждый год. В первый раз я не прошел в финальную часть, но затем мои результаты улучшались раз за разом: в 2017 году, во время службы в армии, мне удалось выйти в финал и даже приехать на финальную часть, в 2018-м я занял второе место, а 2019-й принес долгожданную победу.\n",
      "—В какой номинации вы победили?\n",
      "—Я участвовал в номинации 5G, которая посвящена мобильной связи. Темпы развития технологий в области связи очень высокие, поэтому, когда я начинал в 2016 году, эта номинация была посвящена 2G/3G/4G, а в прошлом году она была целиком о пятом поколении сетей.\n",
      "—Насколько высока была конкуренция?\n",
      "—Каждый год количество участников увеличивается, конкуренция растет, и победа в конкурсе становится все более престижной. И если в финале участвует порядка 20 человек, то на первых этапах их число достигает нескольких тысяч.\n",
      "—Как конкурс изменил вашу жизнь?\n",
      "—Благодаря этому конкурсу я устроился в компанию Huawei и переехал из Петербурга в Москву, получил ценные знания в процессе подготовки, приобрел друзей. Поэтому можно сказать, что Huawei Honor Cup оказал очень большое влияние на жизнь в целом, без него она была бы совсем другой. В этом году я не могу принять участие, поэтому немного грустно расставаться с тем, что стало такой значимой частью жизни.\n",
      "\n"
     ]
    },
    {
     "name": "stdout",
     "output_type": "stream",
     "text": [
      "2020-09-17\n",
      "SuSMoST — мощный молекулярный инструмент\n",
      "\n",
      "Российские ученые разработали программу, которая позволяет моделировать процессы на поверхностях твердых тел, такие как поглощение одним веществом другого и самосборка молекулярных слоев. Этот программный комплекс позволит ускорить разработку новых материалов для разных сфер деятельности, например электроники, медицины и защиты окружающей среды. Исследование поддержано Президентской программой Российского научного фонда (РНФ).\n",
      "Одним из перспективных современных направлений в науке о материалах стала самосборка молекулярных монослоев. Этот процесс представляет собой формирование упорядоченной структуры за счет взаимодействия между частицами на поверхности. В результате образуется структура толщиной всего в одну молекулу. Этот процесс перспективен для промышленного производства наноразмерных устройств и новых материалов с атомарной точностью.\n",
      "Молекулы могут формировать на поверхности бесконечное число упорядоченных структур. Поэтому поиск монослоя с нужными свойствами — крайне трудоемкая задача. С подобными трудностями сталкивается индустрия производства лекарств: создание нового препарата требует поиска среди бесконечного пространства возможных химических соединений.\n",
      "Компьютерное моделирование радикально ускоряет такой поиск. Виртуальный скрининг уже давно стал неотъемлемой частью создания новых лекарств. Сегодня же активно развивается вычислительная наука о материалах, в которой российские ученые занимают лидирующее положение.\n",
      "Исследователи из Омского государственного технического университета представили набор компьютерных инструментов, предназначенных для моделирования самосборки молекулярных монослоев на поверхностях твердых тел. Он получил название SuSMoST. Эта программа позволяет предсказывать и объяснять структуру и термодинамические свойства адсорбционных слоев — плотность, теплоемкость, устойчивость. Программа находится в свободном доступе. Для моделирования используется комплекс разнообразных методов. В их числе широко известный метод Монте-Карло, основанный на случайных числах, и некоторые методы, основанные на тензорных сетях. Последние являются инструментом современной математики, также применяющимся в системах искусственного интеллекта.\n",
      "SuSMoST автоматически строит модели на основе описания адсорбционных комплексов — отдельных молекул, связанных с поверхностью. Инструмент также помогает вычислять взаимодействия между частицами методами квантовой химии. SuSMoST генерирует образцы адсорбционных слоев и вычисляет их термодинамические характеристики. С помощью этих данных можно, например, оценивать устойчивость к температуре той или иной самособирающейся структуры.\n",
      "\n",
      "\n",
      "\n",
      "\n",
      "\n",
      "\n",
      "\n",
      "\n",
      "\n",
      "\n",
      "\n",
      "\n",
      "Набор структур, которые могут формироваться смесью атомов металлов и органических молекул на поверхности инертного металла, например, золота\n",
      "\n",
      "«Программный комплекс SuSMoST и методика исследований с его помощью позволят ускорить разработку новых материалов и функциональных поверхностей для широчайшего спектра практических задач: катализ, химические сенсоры, защита окружающей среды, электроника, медицина и многое другое. Это действительно мощный инструмент, который при этом легок в применении благодаря использованию короткого и простого кода Python. Мы надеемся, что SuSMoST станет повседневным инструментом как в экспериментальной, так и в вычислительной науке»,— прокомментировал Павел Стишенко, руководитель проекта по гранту РНФ, кандидат физико-математических наук, старший научный сотрудник кафедры «Химия и химическая технология» Омского государственного технического университета.\n",
      "SuSMoST: Surface Science Modeling and Simulation Toolkit; Sergey S. Akimenko, Galina D. Anisimova, Anastasiya I. Fadeeva, Vasiliy F. Fefelov, Vitaliy A. Gorbunov, Tatyana R. Kayumova, Alexander V. Myshlyavtsev, Marta D. Myshlyavtseva, Pavel V. Stishenko; журнал Journal of Computational Chemistry, сентябрь 2020 г.\n",
      "\n",
      "2020-08-17\n",
      "Отстали на поколение\n",
      "\n",
      "Валерий Макаров, научный руководитель Центрального экономико-математического института, академик РАН\n",
      "В последние годы в Росси бурно развиваются так называемые ситуационные центры. Они создаются в министерствах, ведомствах, в региональных правительствах, в крупных корпорациях для оперативной работы, их сейчас около 200. Сначала это были комнаты для видеоконференций. Сейчас к этой технике добавляется цифровая аналитика. В условиях коронавируса эти центры сосредоточили у себя огромное количество информации. В том числе в одном из главных ситуационных центров сейчас работает президент, иногда нам по ТВ показывают репортажи из этого центра. И вся эта секретная информация доступна практически всему миру.\n",
      "Руководство страны давно говорит о переходе на отечественные носители, выделяют на это огромные деньги, но пока дело не движется. И вся цифровизация экономики, на которую выделены огромные деньги, у нас происходит на западной основе.\n",
      "Агент-ориентированные модели, которые наш институт создает для отсчитывания прогнозов развития экономики (см. «Управленческие эксперименты лучше опробовать на искусственном обществе», «Огонек» № 30 за 2020 год), предполагают создание электронных «двойников» всех участников экономического процесса — людей, учебных заведений, предприятий и организаций. И эти системы в основном построены на основе американских (Oracle) или немецких (SAP) решений. А в них предусмотрены так называемые закладки, которые могут передавать информацию о предприятии в штаб-квартиры этих корпораций. Кроме того, большие базы данных хранятся не в компьютерах предприятий, а в облачных хранилищах. И через них можно получить доступ к любому компьютеру, отправляющему информацию в облако. Мы даже пишем наши программы на языках, созданных за рубежом,— С++, С #, Python…\n",
      "В России большие проблемы с элементной базой — с микропроцессорами. Да, у нас есть фабрики, делающие чипы для закрытых ведомств — Минобороны, ФСО, ФСБ, МВД… Но они не подходят для гражданского применения. Тем более для мощных суперкомпьютеров, потребность в которых возрастает с каждым годом.\n",
      "Нам нужно создавать современную элементную базу и разрабатывать отечественное программное обеспечение. Китай эту проблему решил — они научились делать собственные микропроцессоры, их суперкомпьютеры уже обходят американские. Мы отстали на целое компьютерное поколение от развитого мира.\n",
      "\n",
      "2020-08-11\n",
      "Питерские и казанские программисты стали победителями хакатона DIGITALSUPERHERO\n",
      "\n",
      "8 августа шесть проектов в сфере финтех и кибербезопасности стали победителями второго этапа всероссийских соревнований программистов DIGITALSUPERHERO.\n",
      "Программисты из 41 города России в течение 7 дней в режиме онлайн готовили варианты решения задач, объявленных в рамках хакатона «Fintech&SecuritySuperhero» Ак Барс Банком, ИТ-компанией InnoSTage и международным KasperskyiHub. \n",
      "«Это очень нужное делание. Спасибо за возможность приобщиться начинающим разработчикам к сообществу профессионалов. Я получил не только эмоции, но и профессиональный опыт, знания. Эта атмосфера заряжает и подталкивает к подвигам. Будем участвовать ещё!» - поделился своими эмоциями один из победителей, представитель питерской команды «WhileTrue».\n",
      "По направлению финтех главный приз взяла питерская команда «Первый раз», создавшая решение по прогнозированию дефолта платежеспособности клиента по различным параметрам его финансовых операций. При проработке кейса команда использовала реальные обезличенные данные. В направлении кибербезопасности лидером стало решение по распознаванию пользователя за его рабочим местом, предложенное командой «Черный лебедь» из Казани.Оба решения-победителя были построены на базе машинного обучения – одной из наиболее востребованных на сегодня технологий для работы с большими объемами данных.\n",
      "«Хакатон стал настоящей проверкой нашей способности перестроиться, освоить новый дистанционный формат. Мы рады, что нам это удалось. Мероприятие прошло в атмосфере высокой вовлеченности и здорового соперничества. Хочется сказать спасибо коллегам из InnoSTage и KasperskyInnovationHub за совместную работу, отличных экспертов и поддержку», – отметил Мераб Гогичаты, заместитель Председателя Правления Ак Барс Банка.\n",
      "«Это была весьма продуктивная неделя. Было очень интересно наблюдать, какие подходы применяют участники для решения предложенных задач, часть которых отражала непосредственно те, над которыми ведётся работа в центре инноваций «Лаборатории Касперского». Мероприятия такого рода позволяют обмениваться знаниями и стимулировать прорывное мышление. Мы были рады встретить единомышленников и планируем предложить некоторым из них продолжить работу над своими проектами в составе уже нашей команды», — комментирует Виталий Мзоков, руководитель KasperskyInnovationHub.\n",
      "За призовой фонд в 700 тысяч рублей боролись более 200 участников из 69 команд - молодые программисты из Москвы, Санкт-Петербурга, Казани, Новосибирска, Самары, Екатеринбурга, Перми, Нижнего Новгорода, Уфы, Воронежа, Томска, Челябинска, Сыктывкара, Симферополя, Кемерово, Благовещенска, Куска, Улан-Удэ, а так же программисты из Беларусии и Казахстана.Разработчики из Санкт-Петербурга стали активными участниками этого этапа соревнований, взяв три номинации из шести возможных.\n",
      "Организаторы мероприятия – Ак Барс Банк, InnoSTage, KasperskyiHub, а также приглашенный эксперт – Руководитель Центра Информационной Безопасности «Татнефть – Цифровое развитие». В составе жюри – учредители серии хакатонов DIGITAL SUPERHERO – ГБУ «Безопасность Дорожного движения», Министерство цифрового развития РТ, а также представителями партнеров – SecurityLab и «Коммерсантъ Волга-Урал».\n",
      "«Мы уже ведем работу по подготовке следующего хакатона, он пройдет во второй половине сентября. Есть задачи, есть компании и гос.органы, заинтересованные в их решении. Состоявшийся сейчас хакатон - это еще ряд решений в копилку наших проектов для развития. Собирая в рамках такого мероприятия специалистов из разных городов, работающих над различными задачами, привлекая в него партнеров и их задачи – мы формируем виртуальную и реальную среду для взаимодействия бизнеса, государства и молодых специалистов, готовых предлагать для рынка свои идеи», - дополняет Айдар Гузаиров, генеральный директор ИТ-компании InnoSTage.\n",
      "Информационную поддержку мероприятию оказывает HeadHunter, TelecomDaily, BIS Journal, Tproger, SecurityLab.ru, «Коммерсантъ Волга-Урал», Codenrock, Татмедиа, REG.RU, Инвестиционно-венчурный фонд Республики Татарстан, Национальный Банковский Журнал, журнал «Системный администратор», Университет ИТМО, Университет Талантов, Технопарк в сфере высоких технологий «ИТ-парк».\n",
      "\n",
      "DIGITAL SUPERHERO – это марафон тематических хакатонов, который проходит с мая по сентябрь. Организаторы хакатона – IT-компания InnoSTage, один из крупнейших цифровых банков России – Ак Барс Банк, ГБУ БДД РТ и Министерство цифрового развития Татарстана. Партнер мероприятия – KasperskyiHub (центр инноваций «Лаборатории Касперского»)\n",
      "ПАО Ак Барс Банк — ведущий российский банк с головным офисом в Республике Татарстан. Входит в топ-20 банков страны по объему активов и собственного капитала. Ак Барс Банк занимает шестое место по степени цифровизации в рейтинге фонда «Сколково» и VR_bank, а интернет-банк для физических лиц «Ак Барс Онлайн 3.0» — в тройке лучших по версии аналитического агентства MarkswebbRank&Report.\n",
      "InnoSTage (Инностейдж) – российская ИТ-компания, специализирующаяся на решении нестандартных задач и задач, связанных с кибербезопасностью. Кибербезопасность – область, в которой компания входит в число лучших в России за счет высокой экспертизы и проектного опыта специалистов.\n",
      "Для решения нестандартных задач компания сама создает ИТ-продукты и методологии, применяя Python-разработку, технологии машинного обучения, datascience, математическое моделирование. www.innostage-group.ru\n",
      "«Лаборатория Касперского» – международная компания, работающая в сфере информационной безопасности с 1997 года. Глубокие экспертные знания и многолетний опыт компании лежат в основе защитных решений и сервисов нового поколения, обеспечивающих безопасность бизнеса, критически важной инфраструктуры, государственных органов и рядовых пользователей. Обширное портфолио «Лаборатории Касперского» включает в себя передовые продукты для защиты конечных устройств, а также ряд специализированных решений и сервисов для борьбы со сложными и постоянно эволюционирующими киберугрозами. Технологии «Лаборатории Касперского» защищают более 400 миллионов пользователей и 250 тысяч корпоративных клиентов во всём мире. Подробнее на www.kaspersky.ru.\n",
      "16+\n",
      "\n"
     ]
    },
    {
     "name": "stdout",
     "output_type": "stream",
     "text": [
      "2020-07-29\n",
      "В Тутаеве появится центр цифрового образования детей «IT-куб»\n",
      "\n",
      "В городе Тутаеве Ярославской области осенью 2020 года будет открыт второй в регионе центр цифрового образования детей «IT-куб», сообщила пресс-служба регионального правительства.  Работа по созданию центра ведется в рамках регионального проекта «Цифровая образовательная среда» национального проекта «Образование». На приобретение оборудования для центра из федерального и областного бюджетов выделено более 13 млн руб. Еще 14 млн руб. на ремонт помещений выделено из областного бюджета. \n",
      "Центр создается при Тутаевском политехническом техникуме. Занятия в новом центре будут проводиться для детей в возрасте от 5 до 18 лет. Они будут изучать такие направления, как «Программирование на Python», «Мобильная разработка», «Разработка VR/AR-приложений», «Системное администрирование», «Кибергигиена и работа с большими данными» и «Программирование роботов». \n",
      "По словам директора Тутаевского политехнического техникума Алексея Ободова, общая площадь центра составляет более 800 кв.м. «Наш “IT-куб” будет располагаться на двух этажах. На первом этаже будут помещения для занятий, а также шахматная гостиная и серверная. На втором этаже будет интерактивная зона, лекторий, медиатека и зона коворкинга. Во всех помещениях будет уложена тактильная плитка для маломобильных групп населения»,—рассказал господин Ободов.\n",
      "Первый «IT-куб» в Ярославской области был открыт в Переславле-Залесском 19 декабря 2019 года на базе Переславского колледжа имени Александра Невского.\n",
      "Антон Антонов\n",
      "\n",
      "2020-07-07\n",
      "Инновации на рынке Fintech и кибербезопасности: хакатон DIGITAL SUPERHERO приглашает выйти за рамки привычных подходов\n",
      "\n",
      "1-8 августа пройдет второй хакатон из серии DIGITAL SUPERHERO – «Fintech&Security». Участники в режиме онлайн поборются за призовой фонд в размере 700 тысяч рублей.\n",
      "Командам за ограниченное время предстоит сформировать прототипы новых продуктов: К примеру,API для существующих банковских сервисов, решения с применением машинного обучения и анализа данных, прототипы решений по направлению информационной безопасности. Хакатон будет проходить 7 дней.\n",
      "Организаторы хакатона – IT-компания InnoSTage, один из крупнейших цифровых банков России – Ак Барс Банк, ГБУ БДД РТ и Министерство цифрового развития Татарстана.\n",
      "Партнер мероприятия – KasperskyiHub (центр инноваций «Лаборатория Касперского»)\n",
      "«Финтех — активно развивающаяся отрасль на стыке финансовых сервисов и, собственно, технологий. Это мощнейший драйвер технологического прогресса, который с каждым годом усиливает свое влияние. В ближайшее время финансовые технологии еще глубже проникнут в другие отрасли, давая им возможность эволюционировать и расширяться. Одновременно с этим активно развивается рынок технологий информационной безопасности, готовых решений, которые можно встроить в собственную инфраструктуру. Поэтому участников хакатона ждут сложные и при этом интересные задачи. По итогу мы ожидаем получить решения, востребованные и применимые в реальной жизни. Всем участникам второго онлайн-хакатона из серии DIGITALSUPERHERO желаю успеха и бесконечного драйва!», - комментирует Айрат Хайруллин, Министр цифрового развития государственного управления, информационных технологий и связи Республики Татарстан.\n",
      "«Ак Барс Банк ставит целью создание новых сервисов – как специфичных для рынка Республики Татарстан, так и для работы в других регионах. Мы ищем талантливых специалистов и команды, которые создадут прототипы таких сервисов. Тех, кто себя хорошо проявит, мы готовы пригласить в состав команды цифрового и инновационного развития банка», – отмечает Мераб Гогичаты, заместитель Председателя Правления Ак Барс Банка.\n",
      "Основная платформа хакатона – Codenrock. Она зарекомендовала себя при проведении соревнования по направлению интеллектуальных транспортных систем и ситуационных центров. \n",
      "На хакатоне в режиме онлайн будут присутствовать менторы от компаний-организаторов. Участники смогут консультироваться с ними в ходе работы над проектами.\n",
      "«На этом хакатоне мы подготовили для участников интересные профессиональные вызовы. В кейсах от нашей компании мы предлагаем командам решить актуальные для специалистов по компьютерной защите задачи, используя инновации: биометрию и предиктивную аналитику на базе технологий машинного обучения и больших данных. Это направление сейчас особенно востребовано среди наших заказчиков - решение предложенных задач поможет улучшить процессы управления рисками кибербезопасности», – говорит Айдар Гузаиров, директор компании InnoSTage.\n",
      "«Участие в хакатонах позволяет нам тестировать свежие идеи и гипотезы для решения конкретных бизнес-задач. Мы заинтересованы в поиске творческих разработок и выходе за пределы привычных подходов, а участники - в рыночной и технологической экспертизе, которой их смогут обеспечить специалисты «Лаборатории Касперского». Как для нас, так и для команд соревнования - это хорошая возможность для нетворкинга и потенциального сотрудничества», -  комментирует Виталий Мзоков, руководитель KasperskyiHub.\n",
      "Все проекты будет оценивать экспертное жюри из представителей Ак Барс Банка, «Лаборатории Касперского»и InnoSTage. Победителей определят в трех основных номинациях по каждому направлению: 1-2-3 место по кибербезопасности и 1-2-3 место по финансовым технологиям.\n",
      "По итогам хакатона KasperskyiHub, казанский бизнес-акселератор DSH, который входит в компанию InnoSTage, и центр технологического развития Ак Барс Цифровые технологии планируют оказать поддержку лучшим командам, помочь наставничеством и ресурсами для дальнейшего развития проектов и формированию из них коммерческих продуктов.\n",
      "Заявки принимаются до 27 июля. Даты и формат проведения: 1-8 августа в режиме онлайн.\n",
      "Регистрация – на сайте \n",
      "Хакатон приурочен к форуму KAZANDIGITALWEEK, который пройдет в Казани в начале сентября.\n",
      "Информационную поддержку мероприятию оказывает HeadHunter, BiSJornal, Tproger, «Коммерсантъ Волга-Урал», АО Татмедиа, Технопарк в сфере высоких технологий ГАУ «ИТ-парк», Инвестиционно-венчурный фонд Республики Татарстан.\n",
      "#кодимдома #лучшекодитьдома #dshkazan #homehackaton #ИБ #fintech #innostage #акбарсбанк #kasperskylabrus\n",
      "Ак Барс Банк — один из ведущих российских банков с головным офисом в Республике Татарстан. Входит в топ-20 банков страны по объему активов и собственного капитала. Ак Барс Банк занимает шестое место по степени цифровизации в рейтинге фонда «Сколково» и VR_bank, а интернет-банк для физических лиц «Ак Барс Онлайн 3.0» — в тройке лучших по версии аналитического агентства MarkswebbRank&Report.\n",
      "InnoSTage (Инностейдж) – российская ИТ-компания, специализирующаяся на решении нестандартных задач и задач, связанных с кибербезопасностью. Кибербезопасность – область, в которой компания входит в число лучших в России за счет высокой экспертизы и проектного опыта специалистов.\n",
      "Для решения нестандартных задач компания сама создает ИТ-продукты и методологии, применяя Python-разработку, технологии машинного обучения, datascience, математическое моделирование. \n",
      "www.innostage-group.ru\n",
      "ПАО «АК БАРС БАНК», ООО \"АК Барс Цифровые Технологии\"\n",
      "• Диджитал Суперхироу – Цифровой Супер Герой\n",
      "• Информационная безопасность банков\n",
      "• Типичный программист\n",
      "• Финтех и Безопасность\n",
      "Контакты для связи:\n",
      "Ринат Зиганшин – коммуникации с командами\n",
      "Rinat.Ziganshin@innostage-group.ru\n",
      "Ольга Ясовеева – вопросы регистрации\n",
      "Olga.Yasoveeva@innostage-group.ru\n",
      "Диана Галиева – работа со СМИ и инфопартнерами\n",
      "Diana.Galieva@innostage-group.ru\n",
      "+ 7 905 020 42 91\n",
      "16+\n",
      "\n",
      "2020-07-02\n",
      "В Тутаеве откроют центр цифрового образования для детей «IT-куб»\n",
      "\n",
      "Осенью 2020 года в Тутаеве откроют второй в Ярославской области центр цифрового образования для детей «IT-куб», сообщает пресс-служба регионального правительства. На приобретение оборудования для центра из федерального и областного бюджетов выделено более 13 млн руб. Центр будет открыт на базе Тутаевского политехнического техникума.\n",
      "Посещать занятия в новом центре смогут дети в возрасте от 5 до 18 лет. Они будут изучать такие направления, как «Программирование на Python», «Мобильная разработка», «Разработка VR/AR-приложений», «Системное администрирование», «Кибергигиена и работа с большими данными» и «Программирование роботов». Будущие преподаватели центра сейчас проходят обучение по основным программам работы. Первый «IT-куб» в Ярославской области был открыт в Переславле-Залесском 19 декабря 2019 года на базе Переславского колледжа имени Александра Невского.\n",
      "Александр Гурко\n",
      "\n"
     ]
    },
    {
     "name": "stdout",
     "output_type": "stream",
     "text": [
      "2020-06-30\n",
      "Инвестиции в себя\n",
      "\n",
      "Карантинные меры в связи с пандемией COVID-19 привели к взрывному росту популярности различных онлайн-курсов: только с конца марта по конец апреля спрос на такие продукты вырос почти на 100%. Наиболее востребованными оказались женские тренинги, обучение новым профессиям, онлайн-курсы по фитнесу и здоровью, рисованию и иностранным языкам. «Деньги» подсчитали, во сколько обойдется изучение Python, курсы по маркетингу, тренировки и знания о правильном питании, а также стоит ли записываться на занятия этим летом.\n",
      "Онлайн-образование оказалось одной из немногих отраслей, которая из-за кризиса в связи с пандемией COVID-19 не только не пострадала, но и даже выросла, отмечают аналитики платежного сервиса CloudPayments. По их оценкам, основанным на данных 1,3 тыс. компаний, спрос на такие продукты в период действия ограничительных мер (с конца марта по конец апреля) вырос на 99% относительно периода конца февраля — конца марта. Как отмечают в CloudPayments, многие решили подтянуть иностранные языки, получить дополнительные знания в профессиональной сфере, а закрытие спортивных клубов привело к росту популярности онлайн-фитнеса.\n",
      "Основатель курса по маркетингу Qmarketing Academy Роман Кумар Виас добавляет, что потребители стали больше времени проводить онлайн — в частности, в социальных сетях, где они постоянно видели рекламу онлайн-курсов. Кроме того, кризис привел к осознанию людьми своей автономности: они поняли, что в таких условиях им никто не поможет, поэтому стали инвестировать в себя, указывает он. При этом рост спроса привел и к географическому масштабированию онлайн-обучения в стране. По словам одного из основателей, гендиректора образовательного холдинга «Нетология-групп» Максима Спиридонова, если раньше наиболее активными пользователями были жители Москвы и Санкт-Петербурга, то в период пандемии отмечен значительный рост интереса в Екатеринбурге, Самаре, Новосибирске, Казани, Нижнем Новгороде, Перми и Уфе.\n",
      "Ценные навыки\n",
      "По данным платформы для продажи и проведения онлайн-обучения GetCourse, в период пандемии наиболее востребованными были женские тренинги (как стать успешной и привлекательной и т. д.), обучение удаленным профессиям (маркетинг, копирайтинг, веб-дизайн, программирование, управление проектами), онлайн-курсы по фитнесу, здоровье (правильное питание, нормализация давления, улучшение зрения) и хобби (курсы по живописи, иностранные языки).\n",
      "Так, женский онлайн-курс Superwoman проекта «Сила Воли» на середину июня сроком один месяц стоит от 5 тыс. до 12 тыс. руб. в зависимости от версии. Самая дешевая дает временный доступ к материалам и предполагает самостоятельное прохождение. В самую дорогую включен постоянный доступ к информации, поддержка психолога, куратор и пр. Курс интернет-маркетолога для начинающих в «Нетологии» на середину июня стоил 44,9 тыс. руб. со скидкой 5 тыс. руб. Программа разбита на несколько модулей, включает 49 часов теории и 71 час практики. Участников обещают научить составлению маркетинговых стратегий, проведению исследования рынков, работе с аналитикой, управлению командой и пр. По итогам пишется дипломная работа. Организатор обещает помощь в трудоустройстве.\n",
      "Обучение программированию на одном из самых популярных сегодня языков Python в «Нетологии» стоило 59,9 тыс. руб. со скидкой 20 тыс. руб. В ходе курса за несколько месяцев участники создадут приложение для финансового планирования, сервис знакомств, телефонную и кулинарную книги. Курс Project Manager, который обещает дать необходимую базу для развития профессии руководителя проектов сроком на четыре месяца, там же доступен за 75 тыс. руб. за базовую онлайн-версию и 89,9 тыс. руб. за премиум (включает дополнительный блок и дипломного руководителя). По словам руководителя образовательных программ «Акселератора ФРИИ» (обучает среди прочего предпринимателей и венчурных инвесторов) Елизаветы Кондрашовой, средний чек на курс компании — 100 тыс. руб., что не входит в сегмент массового спроса.\n",
      "\n",
      "\n",
      "\n",
      "\n",
      "Самые востребованные профессии на следующие десять лет\n",
      "     Профессия    Биоинженер  Биофармаколог   Биоинформатик   Проектировщик умной среды   Специалист по робототехнике   Специалист по кибербезопасности   Специалист по альтернативной энергетике   Нейропсихолог   Программист   Инженер-проектировщик   Инженер 3D-печати   Архитектор   Дизайнер виртуальной реальности   Источник: HeadHunter.      открыть таблицу в новом окне\n",
      "\n",
      "\n",
      "\n",
      "\n",
      "Основатель и генеральный директор онлайн-университета Skillbox Дмитрий Крутов говорит, что людей в первую очередь сейчас интересуют профессии, спрос на которые будет оставаться высоким в ближайшем будущем. Это цифровые специальности — дизайн, программирование и разработка игр. Соответственно, мы видим увеличение спроса на курсы, которые позволяют получить эти профессии, указывает он. Пандемия показала, что наиболее активно будут развиваться компании, которые работают онлайн, а организация работы в удаленном формате простимулировала спрос на специалистов, обладающих навыками работы с digital-инструментами, добавляет Максим Спиридонов. В результате, по его словам, аудитория без опыта работы онлайн стала активно искать возможности освоить нужный навык и перейти на новую работу в интернете, а работники digital-сферы стали осваивать смежные или дополнительные навыки, чтобы не потерять конкурентоспособности в условиях экономического кризиса.\n",
      "Спортивные видеотренировки с персональным тренером предлагает, в частности, Zoom Class. Стандартная программа на восемь тренировок стоит 4,99 тыс. руб. Тариф «Любитель» (12 тренировок) доступен по 10 тыс. руб., «Про» на 16 занятий обойдется в 20 тыс. руб. В курсы входят рекомендации по питанию. Гендиректор сети фитнес-клубов World Class Николай Прянишников говорит, что компания развивает платные персональные онлайн-тренировки через приложение World Class 2.0. Большой плюс таких тренировок — постоянный контроль тренера за техникой выполнения упражнений, персональные рекомендации по выбору нагрузки и интенсивности тренировки, выбору инвентаря и пр., перечисляет он.\n",
      "Курс по правильному питанию также есть у «Силы Воли». За 10 тыс. руб. и 91 день там обещают рассказать о голодании, диетах, спорных продуктах (алкоголе, мучном и пр.). Базовый онлайн-курс рисования в школе рисования Вероники Калачевой с доступом на три месяца стоит 7,5 тыс. руб., на год — 8,5 тыс. руб. Он включает четыре направления: пейзажи, натюрморты, рисование животных, птиц и рыб, а также флористику. Онлайн-курс английского «Месяц за месяц» с индивидуальными занятиями два-три раза в неделю в Lingoda стоит €329 (25,83 тыс. руб. по курсу ЦБ на 12 июня) в месяц.\n",
      "По словам Максима Спиридонова, цены онлайн-курсов зависят от набора параметров: стоимости услуг экспертов курса, затрат на команду образовательного продукта — методистов, продюсеров, координаторов, маркетинга, уровня рентабельности продукта и длительности обучения. Также при определении стоимости курса всегда анализируются конкурентные предложения, добавляет он.\n",
      "Дмитрий Крутов указывает, что онлайн-образование — это не только предварительно записанные видеоуроки. В первую очередь это сложный IT-продукт — система управления обучением (LMS), это высокие постоянные издержки, которые несильно зависят от колебаний спроса, указывает он. По словам Елизаветы Кондрашовой, стоимость любого образовательного курса «Акселератора ФРИИ» складывается из гонорара преподавателя, наставников, методической разработки, команды сопровождения и накладных расходов в виде аренды площадки и кофе-брейков: «Очевидно, что при такой схеме онлайн-формат не будет стоить значительно меньше очного».\n",
      "Время сесть за парту\n",
      "Именно летний период может быть хорошим моментом для начала занятий. Как отмечает Роман Кумар Виас, летом практически все игроки раздают скидки, так как это традиционно мертвый сезон в образовании. Максим Спиридонов отмечает, что большинство образовательных компаний уже предоставляют скидки на обучение для пользователей и, скорее всего, предложения будут актуальны еще на весь летний период. Из-за того что после периода повышенного спроса произойдет отток трафика и скидки станут своеобразным триггером и инструментом повышения конверсии аудитории, рассуждает он.\n",
      "Но, добавляет господин Спиридонов, компании, у которых такие длительные скидки не были просчитаны заранее, скорее всего, будут плавно повышать стоимость продуктов. Skillbox во время карантина открыл бесплатный доступ к восьми курсам, говорит Дмитрий Крутов. По его словам, изменений ценовой политики сервис не планирует, наоборот, реализует проекты, которые делают онлайн-образование доступнее.\n",
      "\n",
      "\n",
      "\n",
      "\n",
      "Самые высокооплачиваемые профессии в России\n",
      "      Вакансия Зарплата в месяц (тыс. руб.)     Ведущий iOS-разработчик От 300   Разработчик интеграционных решений 230   Директор по управлению персоналом в IT-компании От 200   Руководитель направления стратегического маркетинга От 180   Senior GO Development 180–220   Внутренний аудитор 170–200   Часовой мастер 150   Ведущий дизайнер-консультант в фирме премиальной мебели 150–300   IT-рекрутер 150–200   Программист 1С 150     открыть таблицу в новом окне\n",
      "На ноябрь 2019 года.\n",
      "Источник: HeadHunter.\n",
      "\n",
      "\n",
      "\n",
      "Пандемия — хороший момент для начала занятий для тех, кто относится к обучению не как к формату для расширения кругозора, а рассматривают его как инвестицию, считает Елизавета Кондрашова: «В этот турбулентный и напряженный момент мы все получили несколько дополнительных часов в сутки, которые хотим потратить эффективно». Но нужно понимать, что просто прийти послушать лекцию — не панацея, предупреждает она. Нужно быть готовым выделять время и силы на то, чтобы учиться, отрабатывать навыки, заводить новые профессиональные знакомства, осваивать новые инструменты и пр., перечисляет госпожа Кондрашова.\n",
      "По словам Дмитрия Крутова, поскольку у многих людей появилось дополнительное время, момент для начала занятий очень удачный. Кроме того, текущая ситуация продемонстрировала уязвимость многих отраслей и профессий, а это хорошая мотивация к обучению и перепрофилированию, добавляет он. «Многие люди из-за кризиса, вызванного пандемией, остались без работы. У кого-то существенно упали доходы. Поэтому момент оказался не столько удачным, сколько необходимым»,— заключает Максим Спиридонов.\n",
      "Анатолий Костырев\n",
      "\n"
     ]
    },
    {
     "name": "stdout",
     "output_type": "stream",
     "text": [
      "2020-05-20\n",
      "«МТС»  сообщает об увеличении набора специалистов для развития цифровых продуктов компании\n",
      "\n",
      "На Кубани большинство вакансий открыто в сфере ИТ, но также высока потребность в сотрудниках, способных продавать инновационные решения компании\n",
      "\n",
      "\n",
      "\n",
      "\n",
      "\n",
      "\n",
      "Всего в Группе МТС открыто более 600 вакансий по ИТ-направлениям. Востребованы разработчики разного стека технологий (Java, .net, JS, Python и других), DevOps-инженеры, аналитики, специалисты по машинному обучению, QA-инженеры.\n",
      "В 2019 году МТС приняла в ИТ-команду 1204 специалиста, в 2020 — более 400. МТС перевела рекрутинг в онлайн и готова продолжать найм ИТ-экспертов, несмотря на дистанционный формат работы большинства сотрудников компании. Интервью проводятся в видеоформате, запущена система удаленной адаптации, предоставления доступов и оформления. Новые сотрудники, чей функционал допускает работу вне офиса, могут сразу приступить к рабочим обязанностям из дома.\n",
      "\n",
      "2020-04-09\n",
      "В Ростове стартовал прием заявок в бесплатные школы цифровых навыков.\n",
      "\n",
      "Занятия начнутся 20 апреля и в период эпидемии короновируса будут проходить дистанционно \n",
      "Благотворительный фонд «Система», оператор социальных инвестиций АФК «Система», объявляет об открытии бесплатных школ цифровых навыков «Лифт в будущее. Школа» в Ростовской области. В школах дети будут получать дополнительное образование в области сквозных технологий, программирования и микроэлектроники. Стартуют занятия 20 апреля в формате дистанционного обучения. Проект реализуется при поддержке телекоммуникационной компании «МТС» и АО Агрохолдинга «СТЕПЬ».\n",
      "Школа цифровых навыков –первая ступень всероссийского образовательного проекта «Лифт в будущее.3.0», задача которого создать в регионах полноценную экосистему для подготовки высококвалифицированных инженеров в области микроэлектроники (со школы и до вступления в профессию). Программа включает в себя: создание сети современных школ на базе региональных образовательных учреждений («Лифт в будущее. Школа»), формирование региональных образовательных кластеров на базе ведущих технических вузов («Лифт в будущее. Академия») и грантовую поддержку молодых ученых («Лифт в будущее. Наука»).\n",
      "Приоритетом программы является обучение детей из социально незащищенных слоев населения.В школах цифровых навыков дети от 13 до 17 лет в течение трех учебных лет по модульной программе будут осваивать сквозные технологии, в том числе программирование на Python и основы микроэлектроники.После успешного окончания школы участники программы смогут продолжить обучение, поступив на бесплатную двухлетнюю программу дополнительного образования «Лифт в будущее. Академия»у себя в регионе.Таким образом, каждый участник программы, переходя со ступени на ступень сможет выстроить персональную траекторию собственного развития в профессии.\n",
      "К проекту уже присоединились Республика Башкортостан и Костромская область.Всего до конца 2020 года в программе «Лифт в будущее»будут обучаться 2400 детей из восьми регионов России.\n",
      "Для ростовских детей занятия по программе«Лифт в будущее. Школа»начнутся 20 апреля. В связи со сложившейся эпидемиологической обстановкой временно обучение будет проходить в дистанционном формате в мини-группах по 6 человек. Для онлайн-занятий достаточно иметь дома компьютер и доступ к сети интернет.\n",
      "«Онлайн-формат уже апробирован и успешно применяется в Башкортостане и Костромской области,- прокомментировала президент БФ «Система» Анна Янчевская.-Современная интерактивная образовательная платформа и работа в мини-группах позволяет организовать онлайн-обучение в удобном для ученика и педагога темпе.Уже в сентябре Ростовские школьники смогут вернуться к очному обучению в специально оборудованных цифровых классах, которые будут открыты на базе Ростовского государственного университета путей сообщения».\n",
      "«Поддержка проекта «Лифт в будущее. Школа» и открытие школ цифровых навыков в Ростовской области очень важны для агрохолдинга «СТЕПЬ». Специалисты, обладающие высокими компетенциями в области цифровых технологий, — это стабильность и будущее экономики нашего региона. Кроме того, применение современных ИТ-технологий в сельскохозяйственном секторе дает ощутимую пользу, которую можно оценить сразу после внедрения. Наша задача предоставить все необходимые условия для того, чтобы ребята могли получать необходимые знания на местах и оставаться у нас в регионе», - отмечает генеральный директор АО Агрохолдинга «СТЕПЬ» Недужко Андрей Михайлович.\n",
      "Чтобы присоединиться к программе «Лифт в будущее. Школа», необходимо заполнить регистрационную форму на сайте проекта «Лифт в будущее. Школа»:http://bf.sistema.ru/school/, предоставить данные об общей успеваемости ученика и прикрепить мотивационное письмо «Почему я хочу учиться в школе цифровых навыков?». Сбор заявок будет проходить до 1-го мая 2020 года.\n",
      "Присоединиться к проекту «Лифт в будущее. Школа» можно также в социальных сетях:https://vk.com/lift2future\n",
      "\n",
      "2020-03-06\n",
      "АО «БЭСК» приняло участие в открытии бесплатных школ цифровых навыков для детей «Лифт в будущее»\n",
      "\n",
      "\n",
      "\n",
      "\n",
      "\n",
      "\n",
      "Семиклассники РИЛИ на открытом уроке в бесплатной школе цифровых навыков для детей «Лифт в будущее»\n",
      "\n",
      "6 марта в Уфе в республиканском инженерном лицее-интернате (РИЛИ) состоялась торжественное открытие бесплатной школы цифровых навыков для детей «Лифт в будущее». В ней приняли участие заместитель Премьер-министра Правительства Республики Башкортостан Фанур Ягафаров, министр образования и науки РБ Айбулат Хажин, президент Благотворительного фонда «Система» Анна Янчевская, заместитель генерального директора – технический директор АО «БЭСК» Рамиль Ишмаев и глава администрации Орджоникидзевского района г. Уфы Марат Галиуллин.\n",
      "На торжественной церемонии открытия заместитель генерального директора – технический директор АО «БЭСК» Рамиль Ишмаев отметил, что Башкирская электросетевая компания, являясь лидером отечественного электросетевого комплекса по внедрению инновационных технологий, первой в России завершает реализацию крупного проекта «умных» сетей в столице республики и заинтересована в том, чтобы сохранить передовые позиции в отрасли страны и в будущем. Обращаясь к учащимся РИЛИ, он сказал:\n",
      "- В основе «умных сетей» лежат цифровые технологии, и нам нужны специалисты в этой сфере. Уверен, что и в других отраслях промышленности будут востребованы высококвалифицированные специалисты.\n",
      "В школе цифровых навыков подростки от 13 до 17 лет в течение трех учебных лет будут получать дополнительное бесплатное образование в области сквозных технологий, программирования и микроэлектроники. Инициатор проекта – Благотворительный фонд «Система» при поддержке Правительства Республики Башкортостан и АО «БЭСК».\n",
      "«Лифт в будущее. Школа» стал первой в России сетевой программой дополнительного школьного образования, реализованной в регионах. Продолжительность курса составит три учебных года. Программа развивает алгоритмическое мышление и творческие способности, формирует умения в области программирования и микроэлектроники. В течение курса дети освоят самый актуальный на данный момент язык программирования — Python и получат базовые навыки в сфере микроэлектроники. Обучение будет проходить в малых группах (до 12 человек) по уникальной практико-ориентированной методике под руководством опытных наставников. Дети будут изучать не только теорию, но и использовать полученные знания в решении реальных задач, а также тренироваться работать в командах и управлять проектами — осваивать soft-skills.\n",
      "Ученики, успешно завершившие обучение в школе цифровых навыков, смогут перейти на следующую ступень - поступить в «Лифт в будущее. Академия» и воспользоваться преимуществом при поступлении в ведущие вузы-партнеры.\n",
      "Чтобы присоединиться к программе, необходимо заполнить регистрационную форму на сайте проекта и предоставить данные об общей успеваемости ученика, а также направить мотивационное письмо «Почему я хочу учиться в школе цифровых навыков»? Курс рассчитан на 300 учащихся. Чтобы попасть в первый поток учащихся, надо успеть подать заявку до 23 марта.\n",
      "«Лифт в будущее. Школа» будет работать по двум адресам в Уфе: в Школе № 31 с углубленным изучением отдельных предметов на ул. Рихарда Зорге, д. 50 и в Инженерном лицее-интернате на ул. Нежинской, д. 13. Подать заявку на обучение можно на сайте проекта «Лифт в будущее. Школа»: http://bf.sistema.ru/school/\n",
      "\n"
     ]
    },
    {
     "name": "stdout",
     "output_type": "stream",
     "text": [
      "2020-03-03\n",
      "В Башкирии стартует набор в бесплатные школы цифровых навыков\n",
      "\n",
      "В Уфе стартует набор детей в бесплатные школы цифровых навыков «Лифт в будущее». В школах дети в возрасте от 13 до 17 лет в течение трех учебных лет будут получать дополнительное бесплатное образование в области сквозных технологий, программирования и микроэлектроники. Инициатор проекта – Благотворительный фонд «Система» при поддержке Правительства Республики Башкортостан и АО «БЭСК».\n",
      "«Лифт в будущее. Школа» станет первой в России сетевой программой дополнительного школьного образования, реализованной в регионах. \n",
      "«Лифт в будущее» повысит качество жизни в регионах России, даст возможность получить современное инженерное образование детям, в том числе из незащищенных слоев населения, а также предоставит карьерные перспективы с учетом потребностей цифровой экономики через создание партнерских связей с отраслевыми предприятиями в регионе»,— отметила Анна Янчевская, президент БФ «Система».\n",
      "Чтобы присоединиться к программе, необходимо заполнить регистрационную форму на сайте проекта  и предоставить данные об общей успеваемости ученика, а также направить мотивационное письмо «Почему я хочу учиться в школе цифровых навыков?». Курс рассчитан на 300 учащихся. Чтобы попасть в первый поток учащихся, надо подать заявку до 23 марта.\n",
      "Продолжительность курса составит три учебных года. Программа развивает алгоритмическое мышление и творческие способности, формирует умения в области программирования и микроэлектроники. В течение курса дети освоят самый актуальный на данный момент язык программирования — Python и получат базовые навыки в сфере микроэлектроники. Обучение будет проходить в малых группах (до 12 человек) по уникальной практико-ориентированной методике под руководством опытных наставников. Дети будут изучать не только теорию, но и использовать полученные знания в решении реальных задач, а также тренироваться работать в командах и управлять проектами — осваивать soft-skills.\n",
      "Ученики, успешно завершившие обучение в школе цифровых навыков, смогут перейти на следующую ступень — поступить в «Лифт в будущее. Академия» и воспользоваться преимуществом при поступлении в ведущие вузы-партнеры.\n",
      "Председатель правления — генеральный директор АО «БЭСК» Дмитрий Шароватов отметил: «Отечественная энергетика сегодня следует курсом на цифровизацию отрасли. Отрадно, что по практическому внедрению многих цифровых технологий АО «БЭСК» является лидером российского электросетевого комплекса и нам очень нужны специалисты высокой квалификации. Уверен, что данный проект Благотворительного фонда «Система» откроет новые возможности как для профориентации талантливых детей в Республике Башкортостан, так и для пополнения промышленных компаний высококвалифицированными кадрами».\n",
      "«Лифт в будущее. Школа» будет работать по двум адресам в Уфе: в Школе № 31 с углубленным изучением отдельных предметов на ул. Рихарда Зорге, д. 50 и в Инженерном лицее-интернате на ул. Нежинской, д. 13. Подать заявку на обучение можно на сайте проекта «Лифт в будущее. Школа»: http://bf.sistema.ru/school/ \n",
      "Справка\n",
      "«Лифт в будущее» – флагманская программа корпоративного фонда АФК «Система», который поддерживает инженерное образование в России с 2011 года. В течение первых пяти лет программа открывала школьникам и студентам по всей стране доступ к дополнительному образованию, в том числе на базе выездных инженерно-конструкторских школ, которые прошли в 11 регионах России. Участниками программ проектного обучения стали свыше 20 тыс. человек. Благодаря программе учебные заведения и преподаватели получали необходимые ресурсы и компетенции в сфере проектной инновационной деятельности.\n",
      "В 2018 году БФ «Система» запустил уникальную программу дополнительного образования по микроэлектронике для студентов технических вузов в формате learning-by-doing, соединив вузовскую теорию с практикой технологической индустрии. Цель программы – содействие в получении лучшего образования в области передовых IT-профессий и развитии потенциала для создания собственных проектов.\n",
      "К программе дополнительного образования по микроэлектронике присоединились 9 ведущих технических вузов страны (МИЭТ, МАИ, ТГУ, ДВФУ, УрФУ и др.) и крупнейшее микроэлектронное предприятие России – ПАО «Микрон», входящее в ГК «Элемент». По итогу годовой программы были подготовлены новые специалисты в сфере интернета вещей: они получили не только инженерные навыки, но и научились самостоятельно управлять продуктом. На базе разработок двух команд в июне 2019 года был создан первый российский центр коллективного проектирования электроники на Дальнем Востоке.\n",
      "\n"
     ]
    }
   ],
   "source": [
    "for link in all_links:\n",
    "    soup = BeautifulSoup(requests.get(link).text, 'html.parser')\n",
    "    if soup.find('div', class_='b-article__publish_date'):\n",
    "        date = pd.to_datetime(soup.find('div', class_='b-article__publish_date').find('time').get('datetime'), dayfirst=True).date()\n",
    "    elif soup.find('time', class_='title__cake'):\n",
    "        date = pd.to_datetime(soup.find('time', class_='title__cake').get('datetime'), dayfirst=True).date()\n",
    "    print(date)\n",
    "    if soup.find('h2', class_='article_name'): \n",
    "        title = soup.find('h2', class_='article_name').text\n",
    "    else: \n",
    "        title = soup.find('h1', class_='article_name').text    \n",
    "    print(title)\n",
    "    text = soup.find('div', class_='article_text_wrapper').text\n",
    "    print(text)"
   ]
  },
  {
   "cell_type": "code",
   "execution_count": 37,
   "metadata": {},
   "outputs": [
    {
     "data": {
      "text/html": [
       "<div>\n",
       "<style scoped>\n",
       "    .dataframe tbody tr th:only-of-type {\n",
       "        vertical-align: middle;\n",
       "    }\n",
       "\n",
       "    .dataframe tbody tr th {\n",
       "        vertical-align: top;\n",
       "    }\n",
       "\n",
       "    .dataframe thead th {\n",
       "        text-align: right;\n",
       "    }\n",
       "</style>\n",
       "<table border=\"1\" class=\"dataframe\">\n",
       "  <thead>\n",
       "    <tr style=\"text-align: right;\">\n",
       "      <th></th>\n",
       "      <th>date</th>\n",
       "      <th>title</th>\n",
       "      <th>text</th>\n",
       "    </tr>\n",
       "  </thead>\n",
       "  <tbody>\n",
       "    <tr>\n",
       "      <th>0</th>\n",
       "      <td>2020-10-27</td>\n",
       "      <td>В один клик</td>\n",
       "      <td>\\nЕвразийские соревнования в IT-сфере Huawei H...</td>\n",
       "    </tr>\n",
       "    <tr>\n",
       "      <th>0</th>\n",
       "      <td>2020-09-17</td>\n",
       "      <td>SuSMoST — мощный молекулярный инструмент</td>\n",
       "      <td>\\nРоссийские ученые разработали программу, кот...</td>\n",
       "    </tr>\n",
       "    <tr>\n",
       "      <th>0</th>\n",
       "      <td>2020-08-17</td>\n",
       "      <td>Отстали на поколение</td>\n",
       "      <td>\\nВалерий Макаров, научный руководитель Центра...</td>\n",
       "    </tr>\n",
       "    <tr>\n",
       "      <th>0</th>\n",
       "      <td>2020-08-11</td>\n",
       "      <td>Питерские и казанские программисты стали побед...</td>\n",
       "      <td>\\n8 августа шесть проектов в сфере финтех и ки...</td>\n",
       "    </tr>\n",
       "    <tr>\n",
       "      <th>0</th>\n",
       "      <td>2020-07-29</td>\n",
       "      <td>В Тутаеве появится центр цифрового образования...</td>\n",
       "      <td>\\nВ городе Тутаеве Ярославской области осенью ...</td>\n",
       "    </tr>\n",
       "    <tr>\n",
       "      <th>0</th>\n",
       "      <td>2020-07-07</td>\n",
       "      <td>Инновации на рынке Fintech и кибербезопасности...</td>\n",
       "      <td>\\n1-8 августа пройдет второй хакатон из серии ...</td>\n",
       "    </tr>\n",
       "    <tr>\n",
       "      <th>0</th>\n",
       "      <td>2020-07-02</td>\n",
       "      <td>В Тутаеве откроют центр цифрового образования ...</td>\n",
       "      <td>\\nОсенью 2020 года в Тутаеве откроют второй в ...</td>\n",
       "    </tr>\n",
       "    <tr>\n",
       "      <th>0</th>\n",
       "      <td>2020-06-30</td>\n",
       "      <td>Инвестиции в себя</td>\n",
       "      <td>\\nКарантинные меры в связи с пандемией COVID-1...</td>\n",
       "    </tr>\n",
       "    <tr>\n",
       "      <th>0</th>\n",
       "      <td>2020-05-20</td>\n",
       "      <td>«МТС»  сообщает об увеличении набора специалис...</td>\n",
       "      <td>\\nНа Кубани большинство вакансий открыто в сфе...</td>\n",
       "    </tr>\n",
       "    <tr>\n",
       "      <th>0</th>\n",
       "      <td>2020-04-09</td>\n",
       "      <td>В Ростове стартовал прием заявок в бесплатные ...</td>\n",
       "      <td>\\nЗанятия начнутся 20 апреля и в период эпидем...</td>\n",
       "    </tr>\n",
       "    <tr>\n",
       "      <th>0</th>\n",
       "      <td>2020-03-06</td>\n",
       "      <td>АО «БЭСК» приняло участие в открытии бесплатны...</td>\n",
       "      <td>\\n\\n\\n\\n\\n\\nСемиклассники РИЛИ на открытом уро...</td>\n",
       "    </tr>\n",
       "    <tr>\n",
       "      <th>0</th>\n",
       "      <td>2020-03-03</td>\n",
       "      <td>В Башкирии стартует набор в бесплатные школы ц...</td>\n",
       "      <td>\\nВ Уфе стартует набор детей в бесплатные школ...</td>\n",
       "    </tr>\n",
       "  </tbody>\n",
       "</table>\n",
       "</div>"
      ],
      "text/plain": [
       "         date                                              title  \\\n",
       "0  2020-10-27                                        В один клик   \n",
       "0  2020-09-17           SuSMoST — мощный молекулярный инструмент   \n",
       "0  2020-08-17                               Отстали на поколение   \n",
       "0  2020-08-11  Питерские и казанские программисты стали побед...   \n",
       "0  2020-07-29  В Тутаеве появится центр цифрового образования...   \n",
       "0  2020-07-07  Инновации на рынке Fintech и кибербезопасности...   \n",
       "0  2020-07-02  В Тутаеве откроют центр цифрового образования ...   \n",
       "0  2020-06-30                                  Инвестиции в себя   \n",
       "0  2020-05-20  «МТС»  сообщает об увеличении набора специалис...   \n",
       "0  2020-04-09  В Ростове стартовал прием заявок в бесплатные ...   \n",
       "0  2020-03-06  АО «БЭСК» приняло участие в открытии бесплатны...   \n",
       "0  2020-03-03  В Башкирии стартует набор в бесплатные школы ц...   \n",
       "\n",
       "                                                text  \n",
       "0  \\nЕвразийские соревнования в IT-сфере Huawei H...  \n",
       "0  \\nРоссийские ученые разработали программу, кот...  \n",
       "0  \\nВалерий Макаров, научный руководитель Центра...  \n",
       "0  \\n8 августа шесть проектов в сфере финтех и ки...  \n",
       "0  \\nВ городе Тутаеве Ярославской области осенью ...  \n",
       "0  \\n1-8 августа пройдет второй хакатон из серии ...  \n",
       "0  \\nОсенью 2020 года в Тутаеве откроют второй в ...  \n",
       "0  \\nКарантинные меры в связи с пандемией COVID-1...  \n",
       "0  \\nНа Кубани большинство вакансий открыто в сфе...  \n",
       "0  \\nЗанятия начнутся 20 апреля и в период эпидем...  \n",
       "0  \\n\\n\\n\\n\\n\\nСемиклассники РИЛИ на открытом уро...  \n",
       "0  \\nВ Уфе стартует набор детей в бесплатные школ...  "
      ]
     },
     "execution_count": 37,
     "metadata": {},
     "output_type": "execute_result"
    }
   ],
   "source": [
    "# запишем данные в датафрейм\n",
    "kom_news = pd.DataFrame()\n",
    "for link in all_links:\n",
    "    soup = BeautifulSoup(requests.get(link).text, 'html.parser')\n",
    "    time.sleep(0.3)\n",
    "    if soup.find('div', class_='b-article__publish_date'):\n",
    "        date = pd.to_datetime(soup.find('div', class_='b-article__publish_date').find('time').get('datetime'), dayfirst=True).date()\n",
    "    elif soup.find('time', class_='title__cake'):\n",
    "        date = pd.to_datetime(soup.find('time', class_='title__cake').get('datetime'), dayfirst=True).date()\n",
    "    if soup.find('h2', class_='article_name'): \n",
    "        title = soup.find('h2', class_='article_name').text\n",
    "    else: \n",
    "        title = soup.find('h1', class_='article_name').text    \n",
    "    text = soup.find('div', class_='article_text_wrapper').text\n",
    "    row = {'date': date, 'title': title, 'text': text}\n",
    "    kom_news = pd.concat([kom_news, pd.DataFrame([row])])  \n",
    "kom_news"
   ]
  },
  {
   "cell_type": "code",
   "execution_count": 39,
   "metadata": {},
   "outputs": [],
   "source": [
    "# обернем в функцию \n",
    "def get_kom_news(links):\n",
    "    kom_news = pd.DataFrame()\n",
    "    for link in all_links:\n",
    "        soup = BeautifulSoup(requests.get(link).text, 'html.parser')\n",
    "        if soup.find('div', class_='b-article__publish_date'):\n",
    "            date = pd.to_datetime(soup.find('div', class_='b-article__publish_date').find('time').get('datetime'), dayfirst=True).date()\n",
    "        elif soup.find('time', class_='title__cake'):\n",
    "            date = pd.to_datetime(soup.find('time', class_='title__cake').get('datetime'), dayfirst=True).date()\n",
    "        if soup.find('h2', class_='article_name'): \n",
    "            title = soup.find('h2', class_='article_name').text\n",
    "        else: \n",
    "            title = soup.find('h1', class_='article_name').text    \n",
    "        text = soup.find('div', class_='article_text_wrapper').text\n",
    "        row = {'date': date, 'title': title, 'text': text}\n",
    "        kom_news = pd.concat([kom_news, pd.DataFrame([row])])  \n",
    "    return kom_news"
   ]
  },
  {
   "cell_type": "code",
   "execution_count": 40,
   "metadata": {},
   "outputs": [
    {
     "data": {
      "text/html": [
       "<div>\n",
       "<style scoped>\n",
       "    .dataframe tbody tr th:only-of-type {\n",
       "        vertical-align: middle;\n",
       "    }\n",
       "\n",
       "    .dataframe tbody tr th {\n",
       "        vertical-align: top;\n",
       "    }\n",
       "\n",
       "    .dataframe thead th {\n",
       "        text-align: right;\n",
       "    }\n",
       "</style>\n",
       "<table border=\"1\" class=\"dataframe\">\n",
       "  <thead>\n",
       "    <tr style=\"text-align: right;\">\n",
       "      <th></th>\n",
       "      <th>date</th>\n",
       "      <th>title</th>\n",
       "      <th>text</th>\n",
       "    </tr>\n",
       "  </thead>\n",
       "  <tbody>\n",
       "    <tr>\n",
       "      <th>0</th>\n",
       "      <td>2020-10-27</td>\n",
       "      <td>В один клик</td>\n",
       "      <td>\\nЕвразийские соревнования в IT-сфере Huawei H...</td>\n",
       "    </tr>\n",
       "    <tr>\n",
       "      <th>0</th>\n",
       "      <td>2020-09-17</td>\n",
       "      <td>SuSMoST — мощный молекулярный инструмент</td>\n",
       "      <td>\\nРоссийские ученые разработали программу, кот...</td>\n",
       "    </tr>\n",
       "    <tr>\n",
       "      <th>0</th>\n",
       "      <td>2020-08-17</td>\n",
       "      <td>Отстали на поколение</td>\n",
       "      <td>\\nВалерий Макаров, научный руководитель Центра...</td>\n",
       "    </tr>\n",
       "    <tr>\n",
       "      <th>0</th>\n",
       "      <td>2020-08-11</td>\n",
       "      <td>Питерские и казанские программисты стали побед...</td>\n",
       "      <td>\\n8 августа шесть проектов в сфере финтех и ки...</td>\n",
       "    </tr>\n",
       "    <tr>\n",
       "      <th>0</th>\n",
       "      <td>2020-07-29</td>\n",
       "      <td>В Тутаеве появится центр цифрового образования...</td>\n",
       "      <td>\\nВ городе Тутаеве Ярославской области осенью ...</td>\n",
       "    </tr>\n",
       "    <tr>\n",
       "      <th>0</th>\n",
       "      <td>2020-07-07</td>\n",
       "      <td>Инновации на рынке Fintech и кибербезопасности...</td>\n",
       "      <td>\\n1-8 августа пройдет второй хакатон из серии ...</td>\n",
       "    </tr>\n",
       "    <tr>\n",
       "      <th>0</th>\n",
       "      <td>2020-07-02</td>\n",
       "      <td>В Тутаеве откроют центр цифрового образования ...</td>\n",
       "      <td>\\nОсенью 2020 года в Тутаеве откроют второй в ...</td>\n",
       "    </tr>\n",
       "    <tr>\n",
       "      <th>0</th>\n",
       "      <td>2020-06-30</td>\n",
       "      <td>Инвестиции в себя</td>\n",
       "      <td>\\nКарантинные меры в связи с пандемией COVID-1...</td>\n",
       "    </tr>\n",
       "    <tr>\n",
       "      <th>0</th>\n",
       "      <td>2020-05-20</td>\n",
       "      <td>«МТС»  сообщает об увеличении набора специалис...</td>\n",
       "      <td>\\nНа Кубани большинство вакансий открыто в сфе...</td>\n",
       "    </tr>\n",
       "    <tr>\n",
       "      <th>0</th>\n",
       "      <td>2020-04-09</td>\n",
       "      <td>В Ростове стартовал прием заявок в бесплатные ...</td>\n",
       "      <td>\\nЗанятия начнутся 20 апреля и в период эпидем...</td>\n",
       "    </tr>\n",
       "    <tr>\n",
       "      <th>0</th>\n",
       "      <td>2020-03-06</td>\n",
       "      <td>АО «БЭСК» приняло участие в открытии бесплатны...</td>\n",
       "      <td>\\n\\n\\n\\n\\n\\nСемиклассники РИЛИ на открытом уро...</td>\n",
       "    </tr>\n",
       "    <tr>\n",
       "      <th>0</th>\n",
       "      <td>2020-03-03</td>\n",
       "      <td>В Башкирии стартует набор в бесплатные школы ц...</td>\n",
       "      <td>\\nВ Уфе стартует набор детей в бесплатные школ...</td>\n",
       "    </tr>\n",
       "  </tbody>\n",
       "</table>\n",
       "</div>"
      ],
      "text/plain": [
       "         date                                              title  \\\n",
       "0  2020-10-27                                        В один клик   \n",
       "0  2020-09-17           SuSMoST — мощный молекулярный инструмент   \n",
       "0  2020-08-17                               Отстали на поколение   \n",
       "0  2020-08-11  Питерские и казанские программисты стали побед...   \n",
       "0  2020-07-29  В Тутаеве появится центр цифрового образования...   \n",
       "0  2020-07-07  Инновации на рынке Fintech и кибербезопасности...   \n",
       "0  2020-07-02  В Тутаеве откроют центр цифрового образования ...   \n",
       "0  2020-06-30                                  Инвестиции в себя   \n",
       "0  2020-05-20  «МТС»  сообщает об увеличении набора специалис...   \n",
       "0  2020-04-09  В Ростове стартовал прием заявок в бесплатные ...   \n",
       "0  2020-03-06  АО «БЭСК» приняло участие в открытии бесплатны...   \n",
       "0  2020-03-03  В Башкирии стартует набор в бесплатные школы ц...   \n",
       "\n",
       "                                                text  \n",
       "0  \\nЕвразийские соревнования в IT-сфере Huawei H...  \n",
       "0  \\nРоссийские ученые разработали программу, кот...  \n",
       "0  \\nВалерий Макаров, научный руководитель Центра...  \n",
       "0  \\n8 августа шесть проектов в сфере финтех и ки...  \n",
       "0  \\nВ городе Тутаеве Ярославской области осенью ...  \n",
       "0  \\n1-8 августа пройдет второй хакатон из серии ...  \n",
       "0  \\nОсенью 2020 года в Тутаеве откроют второй в ...  \n",
       "0  \\nКарантинные меры в связи с пандемией COVID-1...  \n",
       "0  \\nНа Кубани большинство вакансий открыто в сфе...  \n",
       "0  \\nЗанятия начнутся 20 апреля и в период эпидем...  \n",
       "0  \\n\\n\\n\\n\\n\\nСемиклассники РИЛИ на открытом уро...  \n",
       "0  \\nВ Уфе стартует набор детей в бесплатные школ...  "
      ]
     },
     "execution_count": 40,
     "metadata": {},
     "output_type": "execute_result"
    }
   ],
   "source": [
    "kom_news = get_kom_news(all_links)\n",
    "kom_news"
   ]
  },
  {
   "cell_type": "markdown",
   "metadata": {},
   "source": [
    "### Проблемы веб-скрапинга\n",
    "\n",
    "1) Огромное многообразие сайтов и у каждого сайта своя структура\n",
    "\n",
    "2) Сайты постоянно меняются\n",
    "\n",
    "3) Контент сайта может формироваться динамически (тогда его содержимое из HTML не достать)\n",
    "\n",
    "4) Сайты могут использовать различные средства для защиты от скрапинга.\n"
   ]
  },
  {
   "cell_type": "markdown",
   "metadata": {
    "id": "7EGuFGDPuVom"
   },
   "source": [
    "### Спасибо за внимание! Буду рад ответить на ваши вопросы\n",
    "Форма ОС: https://forms.gle/7YCvFfDeqo9VQo3j6"
   ]
  },
  {
   "cell_type": "code",
   "execution_count": null,
   "metadata": {},
   "outputs": [],
   "source": []
  }
 ],
 "metadata": {
  "kernelspec": {
   "name": "python3",
   "display_name": "Python 3.6.3 64-bit ('.venv')",
   "metadata": {
    "interpreter": {
     "hash": "a6730fb0a06c18af636869813f8eb69d9f4a51b49b9b87b39aeaf81c3d64a67b"
    }
   }
  },
  "language_info": {
   "codemirror_mode": {
    "name": "ipython",
    "version": 3
   },
   "file_extension": ".py",
   "mimetype": "text/x-python",
   "name": "python",
   "nbconvert_exporter": "python",
   "pygments_lexer": "ipython3",
   "version": "3.6.3-final"
  }
 },
 "nbformat": 4,
 "nbformat_minor": 4
}