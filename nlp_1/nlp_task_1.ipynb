{
 "cells": [
  {
   "cell_type": "code",
   "execution_count": 7,
   "metadata": {},
   "outputs": [
    {
     "name": "stdout",
     "output_type": "stream",
     "text": [
      "Collecting gensim"
     ]
    },
    {
     "name": "stderr",
     "output_type": "stream",
     "text": [
      "WARNING: Ignoring invalid distribution -pencv-python (c:\\users\\ilkhom-pc\\appdata\\roaming\\python\\python39\\site-packages)\n",
      "WARNING: Ignoring invalid distribution -pencv-python (c:\\users\\ilkhom-pc\\appdata\\roaming\\python\\python39\\site-packages)\n",
      "WARNING: Ignoring invalid distribution -pencv-python (c:\\users\\ilkhom-pc\\appdata\\roaming\\python\\python39\\site-packages)\n",
      "WARNING: Ignoring invalid distribution -pencv-python (c:\\users\\ilkhom-pc\\appdata\\roaming\\python\\python39\\site-packages)\n",
      "WARNING: Ignoring invalid distribution -pencv-python (c:\\users\\ilkhom-pc\\appdata\\roaming\\python\\python39\\site-packages)\n",
      "WARNING: Ignoring invalid distribution -pencv-python (c:\\users\\ilkhom-pc\\appdata\\roaming\\python\\python39\\site-packages)\n"
     ]
    },
    {
     "name": "stdout",
     "output_type": "stream",
     "text": [
      "\n",
      "  Using cached gensim-4.3.1-cp39-cp39-win_amd64.whl (24.0 MB)\n",
      "Requirement already satisfied: numpy>=1.18.5 in d:\\programmfiles\\miniconda\\envs\\dev\\lib\\site-packages (from gensim) (1.25.1)\n",
      "Requirement already satisfied: scipy>=1.7.0 in d:\\programmfiles\\miniconda\\envs\\dev\\lib\\site-packages (from gensim) (1.11.2)\n",
      "Collecting smart-open>=1.8.1 (from gensim)\n",
      "  Using cached smart_open-6.3.0-py3-none-any.whl (56 kB)\n",
      "Installing collected packages: smart-open, gensim\n",
      "Successfully installed gensim-4.3.1 smart-open-6.3.0\n"
     ]
    }
   ],
   "source": [
    "!pip3 install --upgrade gensim"
   ]
  },
  {
   "cell_type": "code",
   "execution_count": 3,
   "metadata": {},
   "outputs": [
    {
     "data": {
      "text/html": [
       "<div>\n",
       "<style scoped>\n",
       "    .dataframe tbody tr th:only-of-type {\n",
       "        vertical-align: middle;\n",
       "    }\n",
       "\n",
       "    .dataframe tbody tr th {\n",
       "        vertical-align: top;\n",
       "    }\n",
       "\n",
       "    .dataframe thead th {\n",
       "        text-align: right;\n",
       "    }\n",
       "</style>\n",
       "<table border=\"1\" class=\"dataframe\">\n",
       "  <thead>\n",
       "    <tr style=\"text-align: right;\">\n",
       "      <th></th>\n",
       "      <th>id</th>\n",
       "      <th>description</th>\n",
       "    </tr>\n",
       "  </thead>\n",
       "  <tbody>\n",
       "    <tr>\n",
       "      <th>0</th>\n",
       "      <td>1</td>\n",
       "      <td>active classic boxers - there's a reason why o...</td>\n",
       "    </tr>\n",
       "    <tr>\n",
       "      <th>1</th>\n",
       "      <td>2</td>\n",
       "      <td>active sport boxer briefs - skinning up glory ...</td>\n",
       "    </tr>\n",
       "    <tr>\n",
       "      <th>2</th>\n",
       "      <td>3</td>\n",
       "      <td>active sport briefs - these superbreathable no...</td>\n",
       "    </tr>\n",
       "    <tr>\n",
       "      <th>3</th>\n",
       "      <td>4</td>\n",
       "      <td>alpine guide pants - skin in, climb ice, switc...</td>\n",
       "    </tr>\n",
       "    <tr>\n",
       "      <th>4</th>\n",
       "      <td>5</td>\n",
       "      <td>alpine wind jkt - on high ridges, steep ice an...</td>\n",
       "    </tr>\n",
       "    <tr>\n",
       "      <th>...</th>\n",
       "      <td>...</td>\n",
       "      <td>...</td>\n",
       "    </tr>\n",
       "    <tr>\n",
       "      <th>495</th>\n",
       "      <td>496</td>\n",
       "      <td>cap 2 bottoms - cut loose from the maddening c...</td>\n",
       "    </tr>\n",
       "    <tr>\n",
       "      <th>496</th>\n",
       "      <td>497</td>\n",
       "      <td>cap 2 crew - this crew takes the edge off fick...</td>\n",
       "    </tr>\n",
       "    <tr>\n",
       "      <th>497</th>\n",
       "      <td>498</td>\n",
       "      <td>all-time shell - no need to use that morning t...</td>\n",
       "    </tr>\n",
       "    <tr>\n",
       "      <th>498</th>\n",
       "      <td>499</td>\n",
       "      <td>all-wear cargo shorts - all-wear cargo shorts ...</td>\n",
       "    </tr>\n",
       "    <tr>\n",
       "      <th>499</th>\n",
       "      <td>500</td>\n",
       "      <td>all-wear shorts - time to simplify? our all-we...</td>\n",
       "    </tr>\n",
       "  </tbody>\n",
       "</table>\n",
       "<p>500 rows × 2 columns</p>\n",
       "</div>"
      ],
      "text/plain": [
       "      id                                        description\n",
       "0      1  active classic boxers - there's a reason why o...\n",
       "1      2  active sport boxer briefs - skinning up glory ...\n",
       "2      3  active sport briefs - these superbreathable no...\n",
       "3      4  alpine guide pants - skin in, climb ice, switc...\n",
       "4      5  alpine wind jkt - on high ridges, steep ice an...\n",
       "..   ...                                                ...\n",
       "495  496  cap 2 bottoms - cut loose from the maddening c...\n",
       "496  497  cap 2 crew - this crew takes the edge off fick...\n",
       "497  498  all-time shell - no need to use that morning t...\n",
       "498  499  all-wear cargo shorts - all-wear cargo shorts ...\n",
       "499  500  all-wear shorts - time to simplify? our all-we...\n",
       "\n",
       "[500 rows x 2 columns]"
      ]
     },
     "execution_count": 3,
     "metadata": {},
     "output_type": "execute_result"
    }
   ],
   "source": [
    "import pandas as pd\n",
    "\n",
    "# Load the CSV file\n",
    "df = pd.read_csv('sample-data.csv')\n",
    "\n",
    "# Preliminary text preprocessing\n",
    "df['description'] = df['description'].str.lower().str.replace('[^\\w\\s]', '')  # convert to lowercase and remove punctuation\n",
    "df"
   ]
  },
  {
   "cell_type": "code",
   "execution_count": 8,
   "metadata": {},
   "outputs": [],
   "source": [
    "from sklearn.feature_extraction.text import TfidfVectorizer\n",
    "from gensim.models import Word2Vec\n",
    "from sklearn.metrics.pairwise import cosine_similarity\n",
    "\n",
    "# TF-IDF Vectorization\n",
    "tfidf_vectorizer = TfidfVectorizer(max_features=5000)\n",
    "tfidf_vectors = tfidf_vectorizer.fit_transform(df['description'])\n",
    "\n",
    "# Word2Vec Vectorization\n",
    "sentences = [desc.split() for desc in df['description']]\n",
    "word2vec_model = Word2Vec(sentences, vector_size=300, window=5, min_count=1, workers=4)\n",
    "word2vec_model.train(sentences, total_examples=len(sentences), epochs=10)\n",
    "\n",
    "def get_word2vec_vec(sentence, model):\n",
    "    vec = [model.wv[word] for word in sentence if word in model.wv]\n",
    "    return sum(vec) / len(vec)\n",
    "\n",
    "word2vec_vectors = df['description'].apply(lambda x: get_word2vec_vec(x.split(), word2vec_model))"
   ]
  },
  {
   "cell_type": "code",
   "execution_count": 24,
   "metadata": {},
   "outputs": [],
   "source": [
    "tfidf_similarities = cosine_similarity(tfidf_vectors)\n",
    "word2vec_similarities = cosine_similarity(list(word2vec_vectors))"
   ]
  },
  {
   "cell_type": "code",
   "execution_count": 57,
   "metadata": {},
   "outputs": [
    {
     "data": {
      "text/plain": [
       "array([[1.        , 0.32792053, 0.20819843, ..., 0.17696975, 0.20143942,\n",
       "        0.22598052],\n",
       "       [0.32792053, 1.        , 0.5673509 , ..., 0.12925175, 0.21139731,\n",
       "        0.19396413],\n",
       "       [0.20819843, 0.5673509 , 1.        , ..., 0.13509939, 0.14185763,\n",
       "        0.15717399],\n",
       "       ...,\n",
       "       [0.17696975, 0.12925175, 0.13509939, ..., 1.        , 0.14187074,\n",
       "        0.17045334],\n",
       "       [0.20143942, 0.21139731, 0.14185763, ..., 0.14187074, 1.        ,\n",
       "        0.55846363],\n",
       "       [0.22598052, 0.19396413, 0.15717399, ..., 0.17045334, 0.55846363,\n",
       "        1.        ]])"
      ]
     },
     "execution_count": 57,
     "metadata": {},
     "output_type": "execute_result"
    }
   ],
   "source": [
    "tfidf_similarities"
   ]
  },
  {
   "cell_type": "code",
   "execution_count": 32,
   "metadata": {},
   "outputs": [
    {
     "data": {
      "text/plain": [
       "array([[1.0000001 , 0.99245334, 0.9746805 , ..., 0.8993511 , 0.9452015 ,\n",
       "        0.97037023],\n",
       "       [0.99245334, 1.0000001 , 0.9834    , ..., 0.9094849 , 0.9640587 ,\n",
       "        0.9826725 ],\n",
       "       [0.9746805 , 0.9834    , 1.0000002 , ..., 0.9609721 , 0.94972163,\n",
       "        0.962013  ],\n",
       "       ...,\n",
       "       [0.8993511 , 0.9094849 , 0.9609721 , ..., 1.        , 0.876427  ,\n",
       "        0.8849877 ],\n",
       "       [0.9452015 , 0.9640587 , 0.94972163, ..., 0.876427  , 1.0000004 ,\n",
       "        0.99092275],\n",
       "       [0.97037023, 0.9826725 , 0.962013  , ..., 0.8849877 , 0.99092275,\n",
       "        0.9999999 ]], dtype=float32)"
      ]
     },
     "execution_count": 32,
     "metadata": {},
     "output_type": "execute_result"
    }
   ],
   "source": [
    "word2vec_similarities"
   ]
  },
  {
   "cell_type": "code",
   "execution_count": 33,
   "metadata": {},
   "outputs": [],
   "source": [
    "threshold = 0.7  # example threshold\n",
    "\n",
    "def get_similar_ids(row_index, similarity_matrix):\n",
    "    return df['id'][similarity_matrix[row_index] > threshold].tolist()\n",
    "\n",
    "df['similar_ids_tfidf'] = [get_similar_ids(i, tfidf_similarities) for i in range(len(df))]\n",
    "df['similar_ids_word2vec'] = [get_similar_ids(i, word2vec_similarities) for i in range(len(df))]"
   ]
  },
  {
   "cell_type": "code",
   "execution_count": 34,
   "metadata": {},
   "outputs": [
    {
     "data": {
      "text/html": [
       "<div>\n",
       "<style scoped>\n",
       "    .dataframe tbody tr th:only-of-type {\n",
       "        vertical-align: middle;\n",
       "    }\n",
       "\n",
       "    .dataframe tbody tr th {\n",
       "        vertical-align: top;\n",
       "    }\n",
       "\n",
       "    .dataframe thead th {\n",
       "        text-align: right;\n",
       "    }\n",
       "</style>\n",
       "<table border=\"1\" class=\"dataframe\">\n",
       "  <thead>\n",
       "    <tr style=\"text-align: right;\">\n",
       "      <th></th>\n",
       "      <th>id</th>\n",
       "      <th>description</th>\n",
       "      <th>similar_ids_tfidf</th>\n",
       "      <th>similar_ids_word2vec</th>\n",
       "    </tr>\n",
       "  </thead>\n",
       "  <tbody>\n",
       "    <tr>\n",
       "      <th>0</th>\n",
       "      <td>1</td>\n",
       "      <td>active classic boxers - there's a reason why o...</td>\n",
       "      <td>[1]</td>\n",
       "      <td>[1, 2, 3, 4, 5, 6, 7, 8, 9, 10, 11, 12, 13, 14...</td>\n",
       "    </tr>\n",
       "    <tr>\n",
       "      <th>1</th>\n",
       "      <td>2</td>\n",
       "      <td>active sport boxer briefs - skinning up glory ...</td>\n",
       "      <td>[2]</td>\n",
       "      <td>[1, 2, 3, 4, 5, 6, 7, 8, 9, 10, 11, 12, 13, 14...</td>\n",
       "    </tr>\n",
       "    <tr>\n",
       "      <th>2</th>\n",
       "      <td>3</td>\n",
       "      <td>active sport briefs - these superbreathable no...</td>\n",
       "      <td>[3]</td>\n",
       "      <td>[1, 2, 3, 4, 5, 6, 7, 8, 9, 10, 11, 12, 13, 14...</td>\n",
       "    </tr>\n",
       "    <tr>\n",
       "      <th>3</th>\n",
       "      <td>4</td>\n",
       "      <td>alpine guide pants - skin in, climb ice, switc...</td>\n",
       "      <td>[4, 159]</td>\n",
       "      <td>[1, 2, 3, 4, 5, 6, 7, 8, 9, 10, 11, 12, 13, 14...</td>\n",
       "    </tr>\n",
       "    <tr>\n",
       "      <th>4</th>\n",
       "      <td>5</td>\n",
       "      <td>alpine wind jkt - on high ridges, steep ice an...</td>\n",
       "      <td>[5, 308]</td>\n",
       "      <td>[1, 2, 3, 4, 5, 6, 7, 8, 9, 10, 11, 12, 13, 14...</td>\n",
       "    </tr>\n",
       "    <tr>\n",
       "      <th>...</th>\n",
       "      <td>...</td>\n",
       "      <td>...</td>\n",
       "      <td>...</td>\n",
       "      <td>...</td>\n",
       "    </tr>\n",
       "    <tr>\n",
       "      <th>495</th>\n",
       "      <td>496</td>\n",
       "      <td>cap 2 bottoms - cut loose from the maddening c...</td>\n",
       "      <td>[173, 496]</td>\n",
       "      <td>[1, 2, 3, 4, 5, 6, 7, 8, 9, 10, 11, 12, 13, 14...</td>\n",
       "    </tr>\n",
       "    <tr>\n",
       "      <th>496</th>\n",
       "      <td>497</td>\n",
       "      <td>cap 2 crew - this crew takes the edge off fick...</td>\n",
       "      <td>[22, 23, 174, 175, 359, 360, 497]</td>\n",
       "      <td>[1, 2, 3, 4, 5, 6, 7, 8, 9, 10, 11, 12, 13, 14...</td>\n",
       "    </tr>\n",
       "    <tr>\n",
       "      <th>497</th>\n",
       "      <td>498</td>\n",
       "      <td>all-time shell - no need to use that morning t...</td>\n",
       "      <td>[498]</td>\n",
       "      <td>[1, 2, 3, 4, 5, 6, 7, 8, 9, 10, 11, 12, 13, 14...</td>\n",
       "    </tr>\n",
       "    <tr>\n",
       "      <th>498</th>\n",
       "      <td>499</td>\n",
       "      <td>all-wear cargo shorts - all-wear cargo shorts ...</td>\n",
       "      <td>[499]</td>\n",
       "      <td>[1, 2, 3, 4, 5, 6, 7, 8, 9, 10, 11, 12, 13, 14...</td>\n",
       "    </tr>\n",
       "    <tr>\n",
       "      <th>499</th>\n",
       "      <td>500</td>\n",
       "      <td>all-wear shorts - time to simplify? our all-we...</td>\n",
       "      <td>[500]</td>\n",
       "      <td>[1, 2, 3, 4, 5, 6, 7, 8, 9, 10, 11, 12, 13, 14...</td>\n",
       "    </tr>\n",
       "  </tbody>\n",
       "</table>\n",
       "<p>500 rows × 4 columns</p>\n",
       "</div>"
      ],
      "text/plain": [
       "      id                                        description  \\\n",
       "0      1  active classic boxers - there's a reason why o...   \n",
       "1      2  active sport boxer briefs - skinning up glory ...   \n",
       "2      3  active sport briefs - these superbreathable no...   \n",
       "3      4  alpine guide pants - skin in, climb ice, switc...   \n",
       "4      5  alpine wind jkt - on high ridges, steep ice an...   \n",
       "..   ...                                                ...   \n",
       "495  496  cap 2 bottoms - cut loose from the maddening c...   \n",
       "496  497  cap 2 crew - this crew takes the edge off fick...   \n",
       "497  498  all-time shell - no need to use that morning t...   \n",
       "498  499  all-wear cargo shorts - all-wear cargo shorts ...   \n",
       "499  500  all-wear shorts - time to simplify? our all-we...   \n",
       "\n",
       "                     similar_ids_tfidf  \\\n",
       "0                                  [1]   \n",
       "1                                  [2]   \n",
       "2                                  [3]   \n",
       "3                             [4, 159]   \n",
       "4                             [5, 308]   \n",
       "..                                 ...   \n",
       "495                         [173, 496]   \n",
       "496  [22, 23, 174, 175, 359, 360, 497]   \n",
       "497                              [498]   \n",
       "498                              [499]   \n",
       "499                              [500]   \n",
       "\n",
       "                                  similar_ids_word2vec  \n",
       "0    [1, 2, 3, 4, 5, 6, 7, 8, 9, 10, 11, 12, 13, 14...  \n",
       "1    [1, 2, 3, 4, 5, 6, 7, 8, 9, 10, 11, 12, 13, 14...  \n",
       "2    [1, 2, 3, 4, 5, 6, 7, 8, 9, 10, 11, 12, 13, 14...  \n",
       "3    [1, 2, 3, 4, 5, 6, 7, 8, 9, 10, 11, 12, 13, 14...  \n",
       "4    [1, 2, 3, 4, 5, 6, 7, 8, 9, 10, 11, 12, 13, 14...  \n",
       "..                                                 ...  \n",
       "495  [1, 2, 3, 4, 5, 6, 7, 8, 9, 10, 11, 12, 13, 14...  \n",
       "496  [1, 2, 3, 4, 5, 6, 7, 8, 9, 10, 11, 12, 13, 14...  \n",
       "497  [1, 2, 3, 4, 5, 6, 7, 8, 9, 10, 11, 12, 13, 14...  \n",
       "498  [1, 2, 3, 4, 5, 6, 7, 8, 9, 10, 11, 12, 13, 14...  \n",
       "499  [1, 2, 3, 4, 5, 6, 7, 8, 9, 10, 11, 12, 13, 14...  \n",
       "\n",
       "[500 rows x 4 columns]"
      ]
     },
     "execution_count": 34,
     "metadata": {},
     "output_type": "execute_result"
    }
   ],
   "source": [
    "df"
   ]
  },
  {
   "cell_type": "markdown",
   "metadata": {},
   "source": [
    "This solution provides you with columns similar_ids_tfidf and similar_ids_word2vec which list similar product IDs based on TF-IDF and Word2Vec, respectively.\n",
    "\n",
    "Note:\n",
    "\n",
    "Ensure you've installed pandas, sklearn, and gensim to run the above code.\n",
    "You can adjust parameters like max_features in TF-IDF or vector_size, window in Word2Vec to fine-tune the representations.\n",
    "Make sure you replace 'your_dataset_path.csv' with the correct path to your dataset."
   ]
  },
  {
   "cell_type": "code",
   "execution_count": 60,
   "metadata": {},
   "outputs": [
    {
     "name": "stdout",
     "output_type": "stream",
     "text": [
      "172    cap 2 bottoms - simul-climbing the final pitch...\n",
      "Name: description, dtype: object\n",
      "495    cap 2 bottoms - cut loose from the maddening c...\n",
      "Name: description, dtype: object\n"
     ]
    }
   ],
   "source": [
    "print(df[df[\"id\"] == 173][\"description\"])\n",
    "print(df[df[\"id\"] == 496][\"description\"])"
   ]
  },
  {
   "cell_type": "code",
   "execution_count": 63,
   "metadata": {},
   "outputs": [
    {
     "name": "stdout",
     "output_type": "stream",
     "text": [
      "done!\n"
     ]
    }
   ],
   "source": [
    "import pandas as pd\n",
    "from sklearn.feature_extraction.text import TfidfVectorizer\n",
    "from sklearn.metrics.pairwise import linear_kernel\n",
    "\n",
    "ds = pd.read_csv(\"sample-data.csv\")\n",
    "\n",
    "ds['description'] = ds['description'].str.lower().str.replace('[^\\w\\s]', '')\n",
    "tf = TfidfVectorizer(analyzer='word', ngram_range=(1, 3), min_df=0.0, stop_words='english')\n",
    "tfidf_matrix = tf.fit_transform(ds['description'])\n",
    "\n",
    "cosine_similarities = linear_kernel(tfidf_matrix, tfidf_matrix)\n",
    "\n",
    "results = {}\n",
    "\n",
    "for idx, row in ds.iterrows():\n",
    "    similar_indices = cosine_similarities[idx].argsort()[:-100:-1]\n",
    "    similar_items = [(cosine_similarities[idx][i], ds['id'][i]) for i in similar_indices]\n",
    "\n",
    "    # First item is the item itself, so remove it.\n",
    "    # Each dictionary entry is like: [(1,2), (3,4)], with each tuple being (score, item_id)\n",
    "    results[row['id']] = similar_items[1:]\n",
    "    \n",
    "print('done!')"
   ]
  },
  {
   "cell_type": "code",
   "execution_count": 66,
   "metadata": {},
   "outputs": [
    {
     "name": "stdout",
     "output_type": "stream",
     "text": [
      "10    Recommending 5 products similar to baby sunsha...\n",
      "Name: description, dtype: object\n",
      "-------\n",
      "418    Recommended: sunshade hoody - put an end to th...\n",
      "Name: description, dtype: object\n",
      "464    Recommended: baby baggies apron dress - this l...\n",
      "Name: description, dtype: object\n",
      "347    Recommended: runshade t-shirt - there's a long...\n",
      "Name: description, dtype: object\n",
      "244    Recommended: runshade t-shirt - out in the bac...\n",
      "Name: description, dtype: object\n",
      "116    Recommended: runshade top - from the trailhead...\n",
      "Name: description, dtype: object\n"
     ]
    }
   ],
   "source": [
    "# hacky little function to get a friendly item name from the description field, given an item ID\n",
    "def item(id):\n",
    "    return ds.loc[ds['id'] == id]['description']#.tolist()[0].split(' - ')[0]\n",
    "\n",
    "# Just reads the results out of the dictionary. No real logic here.\n",
    "def recommend(item_id, num):\n",
    "    print(\"Recommending \" + str(num) + \" products similar to \" + item(item_id) + \"...\")\n",
    "    print(\"-------\")\n",
    "    recs = results[item_id][:num]\n",
    "    for rec in recs:\n",
    "        print(\"Recommended: \" + item(rec[1]) + \" (score:\" + str(rec[0]) + \")\")\n",
    "\n",
    "# Just plug in any item id here (1-500), and the number of recommendations you want (1-99)\n",
    "# You can get a list of valid item IDs by evaluating the variable 'ds', or a few are listed below\n",
    "\n",
    "recommend(item_id=11, num=5)"
   ]
  },
  {
   "cell_type": "code",
   "execution_count": 67,
   "metadata": {},
   "outputs": [
    {
     "name": "stdout",
     "output_type": "stream",
     "text": [
      "172    Recommending 5 products similar to cap 2 botto...\n",
      "Name: description, dtype: object\n",
      "-------\n",
      "495    Recommended: cap 2 bottoms - cut loose from th...\n",
      "Name: description, dtype: object\n",
      "21    Recommended: cap 2 t-shirt - this one revels i...\n",
      "Name: description, dtype: object\n",
      "496    Recommended: cap 2 crew - this crew takes the ...\n",
      "Name: description, dtype: object\n",
      "22    Recommended: cap 2 zip neck - designed for wet...\n",
      "Name: description, dtype: object\n",
      "359    Recommended: cap 2 t-shirt - like a sweet bree...\n",
      "Name: description, dtype: object\n"
     ]
    }
   ],
   "source": [
    "recommend(item_id=173, num=5)"
   ]
  },
  {
   "cell_type": "code",
   "execution_count": 68,
   "metadata": {},
   "outputs": [
    {
     "name": "stdout",
     "output_type": "stream",
     "text": [
      "496    Recommending 5 products similar to cap 2 crew ...\n",
      "Name: description, dtype: object\n",
      "-------\n",
      "21    Recommended: cap 2 t-shirt - this one revels i...\n",
      "Name: description, dtype: object\n",
      "359    Recommended: cap 2 t-shirt - like a sweet bree...\n",
      "Name: description, dtype: object\n",
      "358    Recommended: cap 2 cap sleeve - the fastest-dr...\n",
      "Name: description, dtype: object\n",
      "22    Recommended: cap 2 zip neck - designed for wet...\n",
      "Name: description, dtype: object\n",
      "174    Recommended: cap 2 zip neck - the bugaboos hav...\n",
      "Name: description, dtype: object\n"
     ]
    }
   ],
   "source": [
    "recommend(item_id=497, num=5)"
   ]
  }
 ],
 "metadata": {
  "kernelspec": {
   "display_name": "dev",
   "language": "python",
   "name": "python3"
  },
  "language_info": {
   "codemirror_mode": {
    "name": "ipython",
    "version": 3
   },
   "file_extension": ".py",
   "mimetype": "text/x-python",
   "name": "python",
   "nbconvert_exporter": "python",
   "pygments_lexer": "ipython3",
   "version": "3.9.17"
  },
  "orig_nbformat": 4
 },
 "nbformat": 4,
 "nbformat_minor": 2
}
