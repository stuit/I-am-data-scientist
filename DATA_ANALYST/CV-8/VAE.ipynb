{
  "cells": [
    {
      "attachments": {},
      "cell_type": "markdown",
      "metadata": {
        "id": "KGkfdVHFlvEy"
      },
      "source": [
        "# Импорт библиотек"
      ]
    },
    {
      "cell_type": "code",
      "execution_count": 1,
      "metadata": {
        "id": "C1SgOu3ZEy8k"
      },
      "outputs": [],
      "source": [
        "import torch\n",
        "import torch.nn as nn\n",
        "import torch.nn.functional as F"
      ]
    },
    {
      "cell_type": "code",
      "execution_count": 2,
      "metadata": {
        "id": "JriDuoAHFSgV"
      },
      "outputs": [],
      "source": [
        "import scipy.io\n",
        "import torch\n",
        "import torch.optim as optim\n",
        "import torch.nn as nn\n",
        "from torch.utils.data import DataLoader, Dataset\n",
        "from tqdm import tqdm\n",
        "from torchvision.utils import save_image"
      ]
    },
    {
      "attachments": {},
      "cell_type": "markdown",
      "metadata": {
        "id": "GpQcVlcpl0ds"
      },
      "source": [
        "# Загрузка данных"
      ]
    },
    {
      "cell_type": "code",
      "execution_count": 4,
      "metadata": {
        "colab": {
          "base_uri": "https://localhost:8080/"
        },
        "id": "1b5MZAj0FWgM",
        "outputId": "7eac4b7b-1bf3-4b08-f9a2-64e2698ff021"
      },
      "outputs": [
        {
          "name": "stdout",
          "output_type": "stream",
          "text": [
            "Number of instances: 1965\n"
          ]
        }
      ],
      "source": [
        "# Переведем данные в привычный нам NumPy формат\n",
        "mat_data = scipy.io.loadmat('./frey_rawface.mat')\n",
        "data = mat_data['ff'].T.reshape(-1, 1, 28, 20)\n",
        "data = data.astype('float32') / 255.0\n",
        "print(f\"Number of instances: {len(data)}\")"
      ]
    },
    {
      "cell_type": "code",
      "execution_count": 5,
      "metadata": {
        "id": "av1ZCYNMFd9e"
      },
      "outputs": [],
      "source": [
        "# Подготовка torch датасета\n",
        "class FreyDataset(Dataset):\n",
        "    def __init__(self, X):\n",
        "        self.X = X\n",
        "    def __len__(self):\n",
        "        return (len(self.X))\n",
        "    def __getitem__(self, index):\n",
        "        data = self.X[index]\n",
        "        return torch.tensor(data, dtype=torch.float)"
      ]
    },
    {
      "attachments": {},
      "cell_type": "markdown",
      "metadata": {
        "id": "od9bw76EmUdA"
      },
      "source": [
        "## Задание 1. Разделите данные на `train` и `val` части. К `val` отнесите последние 300 объектов. Подготовьте данные для обучения с помощью `FreyDataset` и `DataLoader`."
      ]
    },
    {
      "cell_type": "code",
      "execution_count": 9,
      "metadata": {
        "id": "2AuayEE0nRXd"
      },
      "outputs": [
        {
          "name": "stdout",
          "output_type": "stream",
          "text": [
            "Training instances: 1500\n",
            "Validation instances: 465\n"
          ]
        }
      ],
      "source": [
        "x_train = FreyDataset(data[:1500])\n",
        "x_val = FreyDataset(data[1500:])\n",
        "print(f\"Training instances: {len(x_train)}\")\n",
        "print(f\"Validation instances: {len(x_val)}\")"
      ]
    },
    {
      "cell_type": "code",
      "execution_count": 10,
      "metadata": {
        "id": "a2HbjBh4n5Pn"
      },
      "outputs": [],
      "source": [
        "batch_size = 64\n",
        "\n",
        "train_loader = DataLoader(x_train)\n",
        "val_loader = DataLoader(x_val)"
      ]
    },
    {
      "cell_type": "code",
      "execution_count": 11,
      "metadata": {
        "id": "XD5VOPC6FMg4"
      },
      "outputs": [],
      "source": [
        "kernel_size = 4\n",
        "stride = 1\n",
        "padding = 0\n",
        "init_kernel = 16 "
      ]
    },
    {
      "attachments": {},
      "cell_type": "markdown",
      "metadata": {
        "id": "U2Y6EtzxpHrk"
      },
      "source": [
        "# Вариационныей автоэнкодер"
      ]
    },
    {
      "attachments": {},
      "cell_type": "markdown",
      "metadata": {
        "id": "vre-OvcUx4le"
      },
      "source": [
        "## Задание 2. Допишите трюк репараметризации в функции `reparameterize`. \n",
        "\n",
        "*Подробнее о трюке можно узнать в [дополнительных материалах](https://drive.google.com/file/d/18LWM4jROW6A89B7XEpH6w66M5BomGUKn/view?usp=sharing).*"
      ]
    },
    {
      "cell_type": "code",
      "execution_count": 12,
      "metadata": {
        "id": "S584SqI9yepn"
      },
      "outputs": [],
      "source": [
        "class ConvVAE(nn.Module):\n",
        "    def __init__(self):\n",
        "        super(ConvVAE, self).__init__()\n",
        " \n",
        "        # энкодер\n",
        "        self.enc1 = nn.Conv2d(\n",
        "            in_channels=1, out_channels=init_kernel, kernel_size=kernel_size, \n",
        "            stride=stride, padding=padding\n",
        "        )\n",
        "        self.enc2 = nn.Conv2d(\n",
        "            in_channels=init_kernel, out_channels=init_kernel*2, kernel_size=kernel_size, \n",
        "            stride=stride, padding=padding\n",
        "        )\n",
        "        self.enc3 = nn.Conv2d(\n",
        "            in_channels=init_kernel*2, out_channels=init_kernel*4, kernel_size=kernel_size, \n",
        "            stride=stride, padding=padding\n",
        "        )\n",
        "        self.enc4 = nn.Conv2d(\n",
        "            in_channels=init_kernel*4, out_channels=init_kernel*8, kernel_size=kernel_size, \n",
        "            stride=stride, padding=padding\n",
        "        )\n",
        "        self.enc5 = nn.Conv2d(\n",
        "            in_channels=init_kernel*8, out_channels=init_kernel, kernel_size=kernel_size, \n",
        "            stride=stride, padding=padding\n",
        "        )\n",
        "        # декодер \n",
        "        self.dec1 = nn.ConvTranspose2d(\n",
        "            in_channels=init_kernel, out_channels=init_kernel*8, kernel_size=kernel_size, \n",
        "            stride=stride, padding=padding\n",
        "        )\n",
        "        self.dec2 = nn.ConvTranspose2d(\n",
        "            in_channels=init_kernel*8, out_channels=init_kernel*4, kernel_size=kernel_size, \n",
        "            stride=stride, padding=padding\n",
        "        )\n",
        "        self.dec3 = nn.ConvTranspose2d(\n",
        "            in_channels=init_kernel*4, out_channels=init_kernel*2, kernel_size=kernel_size, \n",
        "            stride=stride, padding=padding\n",
        "        )\n",
        "        self.dec4 = nn.ConvTranspose2d(\n",
        "            in_channels=init_kernel*2, out_channels=init_kernel, kernel_size=kernel_size, \n",
        "            stride=stride, padding=padding\n",
        "        )\n",
        "        self.dec5 = nn.ConvTranspose2d(\n",
        "            in_channels=init_kernel, out_channels=1, kernel_size=kernel_size, \n",
        "            stride=stride, padding=padding\n",
        "        )\n",
        "    def reparameterize(self, mu, log_var):\n",
        "        std = torch.exp(0.5 * log_var)\n",
        "        eps = torch.randn_like(std)\n",
        "        return mu + eps*std\n",
        " \n",
        "    def forward(self, x):\n",
        "        # кодирование\n",
        "        x = F.relu(self.enc1(x))\n",
        "        x = F.relu(self.enc2(x))\n",
        "        x = F.relu(self.enc3(x))\n",
        "        x = F.relu(self.enc4(x))\n",
        "        x = self.enc5(x)\n",
        "        # сэмплирование среднего и logvar\n",
        "        mu = x\n",
        "        log_var = x\n",
        "        # получаем латентное предстваление через репораметризацию\n",
        "        z = self.reparameterize(mu, log_var)\n",
        " \n",
        "        # декодирование\n",
        "        x = F.relu(self.dec1(z))\n",
        "        x = F.relu(self.dec2(x))\n",
        "        x = F.relu(self.dec3(x))\n",
        "        x = F.relu(self.dec4(x))\n",
        "        reconstruction = torch.sigmoid(self.dec5(x))\n",
        "        return reconstruction, mu, log_var"
      ]
    },
    {
      "cell_type": "code",
      "execution_count": 13,
      "metadata": {
        "id": "xBTEiLHHFO7P"
      },
      "outputs": [],
      "source": [
        "lr = 0.001\n",
        "epochs = 20\n",
        "device = torch.device('cuda' if torch.cuda.is_available() else 'cpu')"
      ]
    },
    {
      "cell_type": "code",
      "execution_count": 14,
      "metadata": {
        "id": "acRIw67VFimf"
      },
      "outputs": [],
      "source": [
        "model = ConvVAE().to(device)\n",
        "optimizer = optim.Adam(model.parameters(), lr=lr)\n",
        "criterion = nn.BCELoss(reduction='sum')"
      ]
    },
    {
      "attachments": {},
      "cell_type": "markdown",
      "metadata": {
        "id": "uQr9FPCky9rD"
      },
      "source": [
        "## Задание 3. Прежде, чем перейти к обучению модели, определите функцию потерь VAE."
      ]
    },
    {
      "cell_type": "code",
      "execution_count": 15,
      "metadata": {
        "id": "GBGRkng8zMqs"
      },
      "outputs": [],
      "source": [
        "def final_loss(bce_loss, mu, logvar):\n",
        "    # KL divergence loss\n",
        "    kl_loss = -0.5 * torch.sum(1 + logvar - mu.pow(2) - logvar.exp())\n",
        "    \n",
        "    # Total loss\n",
        "    total_loss = bce_loss + kl_loss\n",
        "    \n",
        "    return total_loss"
      ]
    },
    {
      "attachments": {},
      "cell_type": "markdown",
      "metadata": {
        "id": "1iTeFIy1zb9f"
      },
      "source": [
        "## Обучение модели"
      ]
    },
    {
      "cell_type": "code",
      "execution_count": 19,
      "metadata": {
        "id": "2Pr8lM_OFsE0"
      },
      "outputs": [],
      "source": [
        "def fit(model, dataloader):\n",
        "    model.train()\n",
        "    running_loss = 0.0\n",
        "    for i, data in tqdm(enumerate(dataloader), total=int(len(x_train)/dataloader.batch_size)):\n",
        "        data = data\n",
        "        data = data.to(device)\n",
        "        data = data\n",
        "        optimizer.zero_grad()\n",
        "        reconstruction, mu, logvar = model(data)\n",
        "        bce_loss = criterion(reconstruction, data)\n",
        "        loss = final_loss(bce_loss, mu, logvar)\n",
        "        loss.backward()\n",
        "        running_loss += loss.item()\n",
        "        optimizer.step()\n",
        "    train_loss = running_loss/len(dataloader.dataset)\n",
        "    return train_loss"
      ]
    },
    {
      "cell_type": "code",
      "execution_count": 20,
      "metadata": {
        "id": "Hj2NsdvRFu5x"
      },
      "outputs": [],
      "source": [
        "def validate(model, dataloader, epoch):\n",
        "    model.eval()\n",
        "    running_loss = 0.0\n",
        "    with torch.no_grad():\n",
        "        for i, data in tqdm(enumerate(dataloader), total=int(len(x_val)/dataloader.batch_size)):\n",
        "            data= data\n",
        "            data = data.to(device)\n",
        "            data = data\n",
        "            reconstruction, mu, logvar = model(data)\n",
        "            bce_loss = criterion(reconstruction, data)\n",
        "            loss = final_loss(bce_loss, mu, logvar)\n",
        "            running_loss += loss.item()\n",
        "        \n",
        "            # save the last batch input and output of every epoch\n",
        "            if i == int(len(x_val)/dataloader.batch_size) - 1:\n",
        "                num_rows = 8\n",
        "                both = torch.cat((data[:8], reconstruction[:8]))\n",
        "                save_image(both.cpu(), f\"./output{epoch}.png\", nrow=num_rows)\n",
        "    val_loss = running_loss/len(dataloader.dataset)\n",
        "    return val_loss"
      ]
    },
    {
      "cell_type": "code",
      "execution_count": 21,
      "metadata": {
        "colab": {
          "base_uri": "https://localhost:8080/"
        },
        "id": "bYsIi6hIFyTd",
        "outputId": "61e9bd16-deda-490a-ad40-6bba757d7bbe"
      },
      "outputs": [
        {
          "name": "stdout",
          "output_type": "stream",
          "text": [
            "Epoch 1 of 20\n"
          ]
        },
        {
          "name": "stderr",
          "output_type": "stream",
          "text": [
            "100%|██████████| 1500/1500 [00:19<00:00, 77.29it/s] \n",
            "100%|██████████| 465/465 [00:00<00:00, 471.58it/s]\n"
          ]
        },
        {
          "name": "stdout",
          "output_type": "stream",
          "text": [
            "Train Loss: 350.5195\n",
            "Val Loss: 359.4132\n",
            "Epoch 2 of 20\n"
          ]
        },
        {
          "name": "stderr",
          "output_type": "stream",
          "text": [
            "100%|██████████| 1500/1500 [00:14<00:00, 102.60it/s]\n",
            "100%|██████████| 465/465 [00:00<00:00, 509.91it/s]\n"
          ]
        },
        {
          "name": "stdout",
          "output_type": "stream",
          "text": [
            "Train Loss: 349.3204\n",
            "Val Loss: 357.8627\n",
            "Epoch 3 of 20\n"
          ]
        },
        {
          "name": "stderr",
          "output_type": "stream",
          "text": [
            "100%|██████████| 1500/1500 [00:14<00:00, 106.25it/s]\n",
            "100%|██████████| 465/465 [00:00<00:00, 521.00it/s]\n"
          ]
        },
        {
          "name": "stdout",
          "output_type": "stream",
          "text": [
            "Train Loss: 349.2169\n",
            "Val Loss: 358.4506\n",
            "Epoch 4 of 20\n"
          ]
        },
        {
          "name": "stderr",
          "output_type": "stream",
          "text": [
            "100%|██████████| 1500/1500 [00:14<00:00, 101.20it/s]\n",
            "100%|██████████| 465/465 [00:00<00:00, 482.14it/s]\n"
          ]
        },
        {
          "name": "stdout",
          "output_type": "stream",
          "text": [
            "Train Loss: 349.1735\n",
            "Val Loss: 358.4936\n",
            "Epoch 5 of 20\n"
          ]
        },
        {
          "name": "stderr",
          "output_type": "stream",
          "text": [
            "100%|██████████| 1500/1500 [00:14<00:00, 103.09it/s]\n",
            "100%|██████████| 465/465 [00:00<00:00, 474.45it/s]\n"
          ]
        },
        {
          "name": "stdout",
          "output_type": "stream",
          "text": [
            "Train Loss: 349.1092\n",
            "Val Loss: 357.8372\n",
            "Epoch 6 of 20\n"
          ]
        },
        {
          "name": "stderr",
          "output_type": "stream",
          "text": [
            "100%|██████████| 1500/1500 [00:14<00:00, 103.87it/s]\n",
            "100%|██████████| 465/465 [00:00<00:00, 516.94it/s]\n"
          ]
        },
        {
          "name": "stdout",
          "output_type": "stream",
          "text": [
            "Train Loss: 349.0835\n",
            "Val Loss: 359.0703\n",
            "Epoch 7 of 20\n"
          ]
        },
        {
          "name": "stderr",
          "output_type": "stream",
          "text": [
            "100%|██████████| 1500/1500 [00:14<00:00, 104.76it/s]\n",
            "100%|██████████| 465/465 [00:00<00:00, 497.49it/s]\n"
          ]
        },
        {
          "name": "stdout",
          "output_type": "stream",
          "text": [
            "Train Loss: 349.1926\n",
            "Val Loss: 358.4469\n",
            "Epoch 8 of 20\n"
          ]
        },
        {
          "name": "stderr",
          "output_type": "stream",
          "text": [
            "100%|██████████| 1500/1500 [00:14<00:00, 104.23it/s]\n",
            "100%|██████████| 465/465 [00:00<00:00, 510.67it/s]\n"
          ]
        },
        {
          "name": "stdout",
          "output_type": "stream",
          "text": [
            "Train Loss: 349.0931\n",
            "Val Loss: 359.3743\n",
            "Epoch 9 of 20\n"
          ]
        },
        {
          "name": "stderr",
          "output_type": "stream",
          "text": [
            "100%|██████████| 1500/1500 [00:14<00:00, 101.98it/s]\n",
            "100%|██████████| 465/465 [00:01<00:00, 396.21it/s]\n"
          ]
        },
        {
          "name": "stdout",
          "output_type": "stream",
          "text": [
            "Train Loss: 349.0644\n",
            "Val Loss: 358.9108\n",
            "Epoch 10 of 20\n"
          ]
        },
        {
          "name": "stderr",
          "output_type": "stream",
          "text": [
            "100%|██████████| 1500/1500 [00:14<00:00, 104.10it/s]\n",
            "100%|██████████| 465/465 [00:00<00:00, 493.11it/s]\n"
          ]
        },
        {
          "name": "stdout",
          "output_type": "stream",
          "text": [
            "Train Loss: 349.4151\n",
            "Val Loss: 357.2295\n",
            "Epoch 11 of 20\n"
          ]
        },
        {
          "name": "stderr",
          "output_type": "stream",
          "text": [
            "100%|██████████| 1500/1500 [00:14<00:00, 103.02it/s]\n",
            "100%|██████████| 465/465 [00:00<00:00, 480.75it/s]\n"
          ]
        },
        {
          "name": "stdout",
          "output_type": "stream",
          "text": [
            "Train Loss: 349.2980\n",
            "Val Loss: 356.7569\n",
            "Epoch 12 of 20\n"
          ]
        },
        {
          "name": "stderr",
          "output_type": "stream",
          "text": [
            "100%|██████████| 1500/1500 [00:14<00:00, 105.77it/s]\n",
            "100%|██████████| 465/465 [00:00<00:00, 518.79it/s]\n"
          ]
        },
        {
          "name": "stdout",
          "output_type": "stream",
          "text": [
            "Train Loss: 349.3507\n",
            "Val Loss: 356.8867\n",
            "Epoch 13 of 20\n"
          ]
        },
        {
          "name": "stderr",
          "output_type": "stream",
          "text": [
            "100%|██████████| 1500/1500 [00:14<00:00, 104.10it/s]\n",
            "100%|██████████| 465/465 [00:00<00:00, 502.18it/s]\n"
          ]
        },
        {
          "name": "stdout",
          "output_type": "stream",
          "text": [
            "Train Loss: 349.3398\n",
            "Val Loss: 356.6053\n",
            "Epoch 14 of 20\n"
          ]
        },
        {
          "name": "stderr",
          "output_type": "stream",
          "text": [
            "100%|██████████| 1500/1500 [00:14<00:00, 107.08it/s]\n",
            "100%|██████████| 465/465 [00:01<00:00, 425.53it/s]\n"
          ]
        },
        {
          "name": "stdout",
          "output_type": "stream",
          "text": [
            "Train Loss: 349.2977\n",
            "Val Loss: 356.2008\n",
            "Epoch 15 of 20\n"
          ]
        },
        {
          "name": "stderr",
          "output_type": "stream",
          "text": [
            "100%|██████████| 1500/1500 [00:14<00:00, 106.27it/s]\n",
            "100%|██████████| 465/465 [00:00<00:00, 504.22it/s]\n"
          ]
        },
        {
          "name": "stdout",
          "output_type": "stream",
          "text": [
            "Train Loss: 349.3209\n",
            "Val Loss: 356.3856\n",
            "Epoch 16 of 20\n"
          ]
        },
        {
          "name": "stderr",
          "output_type": "stream",
          "text": [
            "100%|██████████| 1500/1500 [00:13<00:00, 108.39it/s]\n",
            "100%|██████████| 465/465 [00:00<00:00, 516.36it/s]\n"
          ]
        },
        {
          "name": "stdout",
          "output_type": "stream",
          "text": [
            "Train Loss: 349.3678\n",
            "Val Loss: 356.4615\n",
            "Epoch 17 of 20\n"
          ]
        },
        {
          "name": "stderr",
          "output_type": "stream",
          "text": [
            "100%|██████████| 1500/1500 [00:13<00:00, 107.42it/s]\n",
            "100%|██████████| 465/465 [00:00<00:00, 514.14it/s]\n"
          ]
        },
        {
          "name": "stdout",
          "output_type": "stream",
          "text": [
            "Train Loss: 349.4285\n",
            "Val Loss: 356.3751\n",
            "Epoch 18 of 20\n"
          ]
        },
        {
          "name": "stderr",
          "output_type": "stream",
          "text": [
            "100%|██████████| 1500/1500 [00:14<00:00, 104.75it/s]\n",
            "100%|██████████| 465/465 [00:00<00:00, 515.20it/s]\n"
          ]
        },
        {
          "name": "stdout",
          "output_type": "stream",
          "text": [
            "Train Loss: 349.4413\n",
            "Val Loss: 356.5963\n",
            "Epoch 19 of 20\n"
          ]
        },
        {
          "name": "stderr",
          "output_type": "stream",
          "text": [
            "100%|██████████| 1500/1500 [00:14<00:00, 106.17it/s]\n",
            "100%|██████████| 465/465 [00:00<00:00, 515.81it/s]\n"
          ]
        },
        {
          "name": "stdout",
          "output_type": "stream",
          "text": [
            "Train Loss: 349.4678\n",
            "Val Loss: 357.5825\n",
            "Epoch 20 of 20\n"
          ]
        },
        {
          "name": "stderr",
          "output_type": "stream",
          "text": [
            "100%|██████████| 1500/1500 [00:13<00:00, 108.33it/s]\n",
            "100%|██████████| 465/465 [00:00<00:00, 518.99it/s]"
          ]
        },
        {
          "name": "stdout",
          "output_type": "stream",
          "text": [
            "Train Loss: 349.7118\n",
            "Val Loss: 356.4847\n"
          ]
        },
        {
          "name": "stderr",
          "output_type": "stream",
          "text": [
            "\n"
          ]
        }
      ],
      "source": [
        "train_loss = []\n",
        "val_loss = []\n",
        "for epoch in range(epochs):\n",
        "    print(f\"Epoch {epoch+1} of {epochs}\")\n",
        "    train_epoch_loss = fit(model, train_loader)\n",
        "    val_epoch_loss = validate(model, val_loader, epoch)\n",
        "    train_loss.append(train_epoch_loss)\n",
        "    val_loss.append(val_epoch_loss)\n",
        "    print(f\"Train Loss: {train_epoch_loss:.4f}\")\n",
        "    print(f\"Val Loss: {val_epoch_loss:.4f}\")"
      ]
    },
    {
      "attachments": {},
      "cell_type": "markdown",
      "metadata": {
        "id": "dUIh-Xc00xsV"
      },
      "source": [
        "## Визуализация полученных изображений"
      ]
    },
    {
      "cell_type": "code",
      "execution_count": 22,
      "metadata": {
        "id": "Kj-8SpDJzsoV"
      },
      "outputs": [],
      "source": [
        "from PIL import Image\n",
        "import matplotlib.pyplot as plt"
      ]
    },
    {
      "cell_type": "code",
      "execution_count": 29,
      "metadata": {},
      "outputs": [
        {
          "data": {
            "text/plain": [
              "<matplotlib.image.AxesImage at 0x1e77ba230a0>"
            ]
          },
          "execution_count": 29,
          "metadata": {},
          "output_type": "execute_result"
        },
        {
          "data": {
            "image/png": "[encoded data removed]",
            "text/plain": [
              "<Figure size 100x100 with 1 Axes>"
            ]
          },
          "metadata": {},
          "output_type": "display_data"
        }
      ],
      "source": [
        "# 1я эпоха\n",
        "image_0 = Image.open(\"output0.png\")\n",
        "plt.figure(figsize=(1, 1))\n",
        "plt.imshow(image_0)"
      ]
    },
    {
      "cell_type": "code",
      "execution_count": 27,
      "metadata": {
        "colab": {
          "base_uri": "https://localhost:8080/",
          "height": 185
        },
        "id": "tnbgmZkM0hco",
        "outputId": "048c48e7-957c-4846-a49f-13c0c62f42cf"
      },
      "outputs": [
        {
          "data": {
            "text/plain": [
              "<matplotlib.image.AxesImage at 0x1e7788fbd00>"
            ]
          },
          "execution_count": 27,
          "metadata": {},
          "output_type": "execute_result"
        },
        {
          "data": {
            "image/png": "[encoded data removed]",
            "text/plain": [
              "<Figure size 100x100 with 1 Axes>"
            ]
          },
          "metadata": {},
          "output_type": "display_data"
        }
      ],
      "source": [
        "# 10я эпоха\n",
        "image_10 = Image.open(\"output10.png\")\n",
        "plt.figure(figsize=(1, 1))\n",
        "plt.imshow(image_10)"
      ]
    },
    {
      "cell_type": "code",
      "execution_count": 28,
      "metadata": {
        "colab": {
          "base_uri": "https://localhost:8080/",
          "height": 185
        },
        "id": "1MVtg-vS08mP",
        "outputId": "f8534fc7-d8da-46e0-abde-27b6893fecaf"
      },
      "outputs": [
        {
          "data": {
            "text/plain": [
              "<matplotlib.image.AxesImage at 0x1e77b89ccd0>"
            ]
          },
          "execution_count": 28,
          "metadata": {},
          "output_type": "execute_result"
        },
        {
          "data": {
            "image/png": "[encoded data removed]",
            "text/plain": [
              "<Figure size 100x100 with 1 Axes>"
            ]
          },
          "metadata": {},
          "output_type": "display_data"
        }
      ],
      "source": [
        "# 19я эпоха\n",
        "image_19 = Image.open(\"output19.png\")\n",
        "plt.figure(figsize=(1, 1))\n",
        "plt.imshow(image_19)"
      ]
    }
  ],
  "metadata": {
    "colab": {
      "collapsed_sections": [],
      "name": "VAE.ipynb",
      "provenance": []
    },
    "kernelspec": {
      "display_name": "Python 3",
      "name": "python3"
    },
    "language_info": {
      "codemirror_mode": {
        "name": "ipython",
        "version": 3
      },
      "file_extension": ".py",
      "mimetype": "text/x-python",
      "name": "python",
      "nbconvert_exporter": "python",
      "pygments_lexer": "ipython3",
      "version": "3.9.15"
    }
  },
  "nbformat": 4,
  "nbformat_minor": 0
}
