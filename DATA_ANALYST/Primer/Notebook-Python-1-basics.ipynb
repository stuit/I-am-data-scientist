{
 "cells": [
  {
   "cell_type": "markdown",
   "metadata": {},
   "source": [
    "# Блок A1.2 Модуля A1"
   ]
  },
  {
   "cell_type": "markdown",
   "metadata": {},
   "source": [
    "## A1.2.6 Задания\n",
    "Задания"
   ]
  },
  {
   "cell_type": "markdown",
   "metadata": {},
   "source": [
    "**Какую команду надо ввести для запуска Jupyter Notebook через консоль Anaconda Prompt?**\n",
    "\n",
    "`jupyter notebook`"
   ]
  },
  {
   "cell_type": "markdown",
   "metadata": {},
   "source": [
    "**Какие типы ячеек можно создавать в Jupyter Notebook? Может быть несколько верных вариантов ответа.**\n",
    "* код на языке Python __[верно]__\n",
    "* аудиозапись\n",
    "* текст в разметке markdown __[верно]__\n",
    "* картинка"
   ]
  },
  {
   "cell_type": "markdown",
   "metadata": {},
   "source": [
    "**Какой символ нужно поставить перед текстом в разметке Markdown, чтобы сделать заголовок второго уровня?**\n",
    "* `*`\n",
    "* `##` __[верно]__\n",
    "* `#`\n",
    "* `**`"
   ]
  },
  {
   "cell_type": "markdown",
   "metadata": {},
   "source": [
    "**Какое сочетание клавиш позволяет выполнить код в ячейке? Может быть несколько верных вариантов ответа**\n",
    "* Alt + R\n",
    "* Ctrl + Enter __[верно]__\n",
    "* Shift + Enter __[верно]__\n",
    "* Ctrl + Shift"
   ]
  },
  {
   "cell_type": "markdown",
   "metadata": {},
   "source": [
    "## А1.2.8 Hello, world!"
   ]
  },
  {
   "cell_type": "markdown",
   "metadata": {},
   "source": [
    "Итак, нашей первой программой на языке Python будет программа `\"Hello World!\"`.\n",
    "Стало хорошей, доброй традицией — начинать знакомство с новым языком программирования с этой простенькой программы. Её цель — вывести на экран фразу `\"Hello World!\"`, используя базовые функции языка.\n",
    "Создадим новый блокнот (или запускаем Jupyter Notebook) и напишем следующий код:"
   ]
  },
  {
   "cell_type": "code",
   "execution_count": 1,
   "metadata": {},
   "outputs": [
    {
     "name": "stdout",
     "output_type": "stream",
     "text": [
      "Hello World!\n"
     ]
    }
   ],
   "source": [
    "print (\"Hello World!\")"
   ]
  },
  {
   "cell_type": "markdown",
   "metadata": {},
   "source": [
    "Давайте разберём, из чего состоит этот код.\n",
    "Он состоит из всего одной функции `print()`, её задача  — вывести значение, которое подаётся в указанную функцию. Это значение носит название \"аргумент функции\". У функции `print ()` в аргумент передается выводимое значение, но другие функции могут иметь другие задачи."
   ]
  },
  {
   "cell_type": "markdown",
   "metadata": {},
   "source": [
    "Также в функцию print можно передать несколько значений, например:"
   ]
  },
  {
   "cell_type": "code",
   "execution_count": 2,
   "metadata": {},
   "outputs": [
    {
     "name": "stdout",
     "output_type": "stream",
     "text": [
      "Hello World!\n"
     ]
    }
   ],
   "source": [
    "print (\"Hello\", \"World!\")"
   ]
  },
  {
   "cell_type": "markdown",
   "metadata": {},
   "source": [
    "Как вы видите, в примере выше мы передали в функцию два аргумента, но результат вывода будет одним и тем же."
   ]
  },
  {
   "cell_type": "markdown",
   "metadata": {},
   "source": [
    "## А1.2.10 Проверка\n",
    "Немного вопросов для проверки"
   ]
  },
  {
   "cell_type": "markdown",
   "metadata": {},
   "source": [
    "**А1.2.10.1 Какая команда языка Python служит для вывода на экран заданной информации?**\n",
    "* show\n",
    "* print __[верно]__\n",
    "* display"
   ]
  },
  {
   "cell_type": "markdown",
   "metadata": {},
   "source": [
    "**А1.2.10.2 Сколько аргументов можно передавать в функцию для вывода на экран?**\n",
    "* 1\n",
    "* 2\n",
    "* сколько угодно __[верно]__"
   ]
  },
  {
   "cell_type": "markdown",
   "metadata": {},
   "source": [
    "**А1.2.10.3 Как передать в функцию для вывода на экран несколько аргументов?**\n",
    "* Перечислить их через запятую (,) __[верно]__\n",
    "* Перечислить их через точку с запятой (;)\n",
    "* Написав каждый из них с новой строки"
   ]
  },
  {
   "cell_type": "markdown",
   "metadata": {},
   "source": [
    "**А1.2.10.4 Что будет результатом выполнения команды print ('*Hello' + 'World!'*)?**\n",
    "* Вывод на экран фразы \"Hello, World!\"\n",
    "* Вывод на экран фразы \"Hello World!\"\n",
    "* Вывод на экран фразы \"HelloWorld!\" __[верно]__"
   ]
  }
 ],
 "metadata": {
  "kernelspec": {
   "display_name": "Python 3",
   "language": "python",
   "name": "python3"
  },
  "language_info": {
   "codemirror_mode": {
    "name": "ipython",
    "version": 3
   },
   "file_extension": ".py",
   "mimetype": "text/x-python",
   "name": "python",
   "nbconvert_exporter": "python",
   "pygments_lexer": "ipython3",
   "version": "3.7.3"
  }
 },
 "nbformat": 4,
 "nbformat_minor": 2
}
