{
 "cells": [
  {
   "cell_type": "markdown",
   "metadata": {},
   "source": [
    "# Блок A1.3 Модуля A1"
   ]
  },
  {
   "cell_type": "markdown",
   "metadata": {},
   "source": [
    "## А1.3.1 Основные математические действия в Python"
   ]
  },
  {
   "cell_type": "markdown",
   "metadata": {},
   "source": [
    "Python хорошо справляется с математическими вычислениями: поддерживает базовые операции, которые все учили в школе на уроках математики, и даже немножко больше.\n",
    "\n",
    "Знак в выражении (например, \"плюс\" или \"минус\") в Python называется оператором. Основные операторы перечислены в таблице ниже. Среди них особое внимание нужно уделить последним трём, поскольку их синтаксис может быть непривычным.\n",
    "\n",
    "`Что нужно сделать?` => `Оператор в Python` => `Пример`\n",
    "\n",
    "`Сложить` => `+` => `2 + 3 = 5`\n",
    "\n",
    "`Вычесть` => `-` => `5 - 2 = 3`\n",
    "\n",
    "`Умножить` => `*` => `2 * 3 = 6`\n",
    "\n",
    "`Разделить` => `/` => `6 / 3 = 2`\n",
    "\n",
    "`Получить целую часть от деления` => `//` => `7 // 3 = 2`\n",
    "\n",
    "`Получить остаток от деления` => `%` => `7 % 3 = 1`\n",
    "\n",
    "`Возвести в степень` => `**` => `2 ** 3 = 8`\n",
    "\n",
    "У Python нет собственного оператора для извлечения корней, однако извлечение корней всегда можно представить в виде возведения в степень, например, **4 ** (1/2) = 2**.\n",
    "\n",
    "В сложных вычислениях можно использовать скобки, чтобы отделить одни действия от других и назначить каким-то из них «приоритет».\n",
    "\n",
    "Например, *Python* без труда посчитает такое выражение, если вводить его целиком: __((123 - 33)**5 + 123 / (4 + 76)) % 13__. Нет необходимости делить это выражение на отдельные действия."
   ]
  },
  {
   "cell_type": "markdown",
   "metadata": {},
   "source": [
    "**Задача 1**\n",
    "\n",
    "Найдите, чему равен _x_ в этом уравнении:"
   ]
  },
  {
   "cell_type": "code",
   "execution_count": 1,
   "metadata": {},
   "outputs": [
    {
     "name": "stdout",
     "output_type": "stream",
     "text": [
      "20.0\n"
     ]
    }
   ],
   "source": [
    "x=((67+33)/25)*(25-20)\n",
    "print(x)"
   ]
  },
  {
   "cell_type": "markdown",
   "metadata": {},
   "source": [
    "**Задача 2**\n",
    "\n",
    "Вычислите ответ округлите до тысячных:"
   ]
  },
  {
   "cell_type": "code",
   "execution_count": 2,
   "metadata": {},
   "outputs": [
    {
     "name": "stdout",
     "output_type": "stream",
     "text": [
      "17.414\n"
     ]
    }
   ],
   "source": [
    "print(round((4+5*60-17+65/4)**0.5,3))"
   ]
  },
  {
   "cell_type": "markdown",
   "metadata": {},
   "source": [
    "**Задача 3**\n",
    "\n",
    "Вычислите ответ округлите до тысячных:"
   ]
  },
  {
   "cell_type": "code",
   "execution_count": 3,
   "metadata": {},
   "outputs": [
    {
     "name": "stdout",
     "output_type": "stream",
     "text": [
      "1916.731\n"
     ]
    }
   ],
   "source": [
    "print(round((6.996+45*(13/2)**2+2*18**0.5),3))"
   ]
  },
  {
   "cell_type": "markdown",
   "metadata": {},
   "source": [
    "**Задача 4**\n",
    "\n",
    "Вычислите ответ округлите до тысячных:"
   ]
  },
  {
   "cell_type": "code",
   "execution_count": 4,
   "metadata": {},
   "outputs": [
    {
     "name": "stdout",
     "output_type": "stream",
     "text": [
      "-0.391\n"
     ]
    }
   ],
   "source": [
    "print(round((1267-20*(5**3/2)**2)/(8**5*36**0.5),3))"
   ]
  },
  {
   "cell_type": "markdown",
   "metadata": {},
   "source": [
    "**Задача 5**\n",
    "\n",
    "Вычислите:"
   ]
  },
  {
   "cell_type": "code",
   "execution_count": 5,
   "metadata": {},
   "outputs": [
    {
     "name": "stdout",
     "output_type": "stream",
     "text": [
      "-4251528.0\n"
     ]
    }
   ],
   "source": [
    "print((((((9)**0.5)**3)**2)**2)/((-2)**(-3)))"
   ]
  },
  {
   "cell_type": "markdown",
   "metadata": {},
   "source": [
    "## А1.3.2 Переменные. Типы int, float и str"
   ]
  },
  {
   "cell_type": "markdown",
   "metadata": {},
   "source": [
    "В _Python_ вы можете хранить значения в переменных. \n",
    "Например,"
   ]
  },
  {
   "cell_type": "code",
   "execution_count": 6,
   "metadata": {},
   "outputs": [
    {
     "name": "stdout",
     "output_type": "stream",
     "text": [
      "5\n",
      "Слава\n"
     ]
    }
   ],
   "source": [
    "a = 5\n",
    "my_name = \"Слава\"\n",
    "print(a)\n",
    "print(my_name)"
   ]
  },
  {
   "cell_type": "markdown",
   "metadata": {},
   "source": [
    "### Выражения\n",
    "\n",
    "Если в переменных лежат числа, то их можно складывать, вычитать, умножать, одним словом, делать все то же, что и с числами.\n",
    "\n",
    "Например,"
   ]
  },
  {
   "cell_type": "code",
   "execution_count": 7,
   "metadata": {},
   "outputs": [
    {
     "name": "stdout",
     "output_type": "stream",
     "text": [
      "25\n"
     ]
    }
   ],
   "source": [
    "a = 10\n",
    "b = 15\n",
    "c = a + b\n",
    "print(c)"
   ]
  },
  {
   "cell_type": "markdown",
   "metadata": {},
   "source": [
    "В результате значение переменной `c` будет `25`."
   ]
  },
  {
   "cell_type": "markdown",
   "metadata": {},
   "source": [
    "### Правила наименования переменных\n",
    "\n",
    "Есть несколько правил при определении переменных:\n",
    "\n",
    "* имена переменных не должны повторять уже встроенные в _Python_ имена, например, `print`, `str`, `in` и т.д.;\n",
    "* имена переменных могут содержать только буквы, цифры и нижнее подчёркивание; \n",
    "* имена переменных не должны начинаться с цифры;\n",
    "* очень желательно, чтобы имена переменных выражали суть переменной и не были слишком длинными."
   ]
  },
  {
   "cell_type": "markdown",
   "metadata": {},
   "source": [
    "### Типы переменных\n",
    "\n",
    "В зависимости от нашей задачи нам придется сохранять в переменных разные типы значений. И соответственно, тип переменной зависит от того, какие значения там лежат. \n",
    "\n",
    "Давайте приведем пример. Нам нужно указать, сколько сотрудников работает в нашей компании.\n",
    "\n",
    "Создадим переменную `employees_count` и передадим ей значение `125` (столько сотрудников работает в `ООО “Питонисты”`)"
   ]
  },
  {
   "cell_type": "code",
   "execution_count": 8,
   "metadata": {},
   "outputs": [
    {
     "name": "stdout",
     "output_type": "stream",
     "text": [
      "125\n"
     ]
    }
   ],
   "source": [
    "employees_count = 125\n",
    "print(employees_count)"
   ]
  },
  {
   "cell_type": "markdown",
   "metadata": {},
   "source": [
    "В этом случае мы столкнулись с целым числом, и в _Python_ ему соответствует тип `int`.\n",
    "\n",
    "Другой пример: мы хотим сохранить в переменной текущую температуру в комнате.\n",
    "\n",
    "Для этого создадим переменную `room_temp` и присвоим ей значение `20.4`. В этом случае мы столкнулись с вещественным числом, и ему в _Python_ соответствует тип переменной `float`."
   ]
  },
  {
   "cell_type": "markdown",
   "metadata": {},
   "source": [
    "**_Важно!_**\n",
    "\n",
    "Вы можете управлять тем, как _Python_ интерпретирует число — как целое или как вещественное. Например, если вы хотите, чтобы `employees_count` имело тип `float`, то можете задать ему значение с точкой"
   ]
  },
  {
   "cell_type": "code",
   "execution_count": 9,
   "metadata": {},
   "outputs": [
    {
     "name": "stdout",
     "output_type": "stream",
     "text": [
      "125.0\n"
     ]
    }
   ],
   "source": [
    "employees_count = 125.0\n",
    "print(employees_count)"
   ]
  },
  {
   "cell_type": "markdown",
   "metadata": {},
   "source": [
    "**Упражнение № 1**\n",
    "\n",
    "Присвойте переменной `a` значение `1000`"
   ]
  },
  {
   "cell_type": "code",
   "execution_count": 10,
   "metadata": {},
   "outputs": [],
   "source": [
    "a = 1000"
   ]
  },
  {
   "cell_type": "markdown",
   "metadata": {},
   "source": [
    "**Упражнение № 2**\n",
    "\n",
    "Создайте переменную `room_temp` и присвойте ей значение `20.4`."
   ]
  },
  {
   "cell_type": "code",
   "execution_count": 11,
   "metadata": {},
   "outputs": [],
   "source": [
    " room_temp = 20.4"
   ]
  },
  {
   "cell_type": "markdown",
   "metadata": {},
   "source": [
    "## А1.3.3 Приведение типов"
   ]
  },
  {
   "cell_type": "markdown",
   "metadata": {},
   "source": [
    "Если вы хотите понять, какой тип переменной перед вами, вы можете воспользоваться встроенной функцией `type()`. Например,"
   ]
  },
  {
   "cell_type": "code",
   "execution_count": 12,
   "metadata": {},
   "outputs": [
    {
     "data": {
      "text/plain": [
       "str"
      ]
     },
     "execution_count": 12,
     "metadata": {},
     "output_type": "execute_result"
    }
   ],
   "source": [
    "type(\"Питонисты\")"
   ]
  },
  {
   "cell_type": "markdown",
   "metadata": {},
   "source": [
    "Результатом будет `str`."
   ]
  },
  {
   "cell_type": "markdown",
   "metadata": {},
   "source": [
    "Чтобы перевести переменную из одного типа в другой, можно воспользоваться соответствующими функциями `str()`, `int()`, `float()`. В этом случае переменная поменяет тип. Например,"
   ]
  },
  {
   "cell_type": "code",
   "execution_count": 13,
   "metadata": {},
   "outputs": [
    {
     "data": {
      "text/plain": [
       "2.0"
      ]
     },
     "execution_count": 13,
     "metadata": {},
     "output_type": "execute_result"
    }
   ],
   "source": [
    "a = float(2)\n",
    "a"
   ]
  },
  {
   "cell_type": "markdown",
   "metadata": {},
   "source": [
    "Значение `a` будет `2.0`."
   ]
  },
  {
   "cell_type": "markdown",
   "metadata": {},
   "source": [
    "**Упражнение**\n",
    "\n",
    "Дана переменная типа `float`:"
   ]
  },
  {
   "cell_type": "code",
   "execution_count": 14,
   "metadata": {},
   "outputs": [],
   "source": [
    "agent_name = 7.0"
   ]
  },
  {
   "cell_type": "markdown",
   "metadata": {},
   "source": [
    "Напишите код, с помощью которого можно привести хранящееся в данной переменной значение к типу `int`. Ответ запишите в одну строку без пробелов. Не присваивайте результат приведения какой-либо переменной."
   ]
  },
  {
   "cell_type": "code",
   "execution_count": 15,
   "metadata": {},
   "outputs": [
    {
     "data": {
      "text/plain": [
       "7"
      ]
     },
     "execution_count": 15,
     "metadata": {},
     "output_type": "execute_result"
    }
   ],
   "source": [
    "int(agent_name)"
   ]
  },
  {
   "cell_type": "markdown",
   "metadata": {},
   "source": [
    "Напишите код, с помощью которого можно привести хранящееся в данной переменной значение к типу `str`. Ответ запишите в одну строку без пробелов. Не присваивайте результат приведения какой-либо переменной."
   ]
  },
  {
   "cell_type": "code",
   "execution_count": 16,
   "metadata": {},
   "outputs": [
    {
     "data": {
      "text/plain": [
       "'7.0'"
      ]
     },
     "execution_count": 16,
     "metadata": {},
     "output_type": "execute_result"
    }
   ],
   "source": [
    "str(agent_name)"
   ]
  },
  {
   "cell_type": "markdown",
   "metadata": {},
   "source": [
    "## А1.3.4 Операции с переменными\n",
    "\n",
    "Как мы уже говорили, с переменным с типом `int` и `float` можно применять все операции, пройденные нами ранее. \n",
    "\n",
    "Важно держать в голове следующие правила работы с типами:\n",
    "\n",
    "* если хотя бы одна из переменных принадлежит к типу float, результат вычисления тоже получит тип float; \n",
    "* при операции деления результат всегда вернётся с типом float, даже если оба исходных числа принадлежат к типу int. \n",
    "\n",
    "К строковым (текстовым) переменным, как ни странно, тоже применимы некоторые из изученных операторов — это операторы `+` и `*`.  Так, оператор `+` «склеит» воедино две строки, а оператор `*` продублирует строку нужное количество раз, объединив результат в одну строку."
   ]
  },
  {
   "cell_type": "markdown",
   "metadata": {},
   "source": [
    "**Упражнение**\n",
    "\n",
    "Какое значение выдаст _Python_ для фрагментов кода, представленных ниже? Скопируйте ответ в том виде, в котором он будет выведен в ячейку `\"Out\"` в _Jupyter Notebook_."
   ]
  },
  {
   "cell_type": "code",
   "execution_count": 17,
   "metadata": {},
   "outputs": [
    {
     "data": {
      "text/plain": [
       "'hey!'"
      ]
     },
     "execution_count": 17,
     "metadata": {},
     "output_type": "execute_result"
    }
   ],
   "source": [
    "'hey'+'!'"
   ]
  },
  {
   "cell_type": "code",
   "execution_count": 18,
   "metadata": {},
   "outputs": [
    {
     "data": {
      "text/plain": [
       "float"
      ]
     },
     "execution_count": 18,
     "metadata": {},
     "output_type": "execute_result"
    }
   ],
   "source": [
    "type(2+3.4)"
   ]
  },
  {
   "cell_type": "code",
   "execution_count": 19,
   "metadata": {},
   "outputs": [
    {
     "data": {
      "text/plain": [
       "int"
      ]
     },
     "execution_count": 19,
     "metadata": {},
     "output_type": "execute_result"
    }
   ],
   "source": [
    "type(2+3)"
   ]
  },
  {
   "cell_type": "markdown",
   "metadata": {},
   "source": [
    "**Тест**"
   ]
  },
  {
   "cell_type": "markdown",
   "metadata": {},
   "source": [
    "1. К какому типу будет принадлежать результат выполнения операции `5 + 7.0`?"
   ]
  },
  {
   "cell_type": "markdown",
   "metadata": {},
   "source": [
    "* int\n",
    "* float  __[верно]__\n",
    "* str\n",
    "* ни к какому, будет ошибка"
   ]
  },
  {
   "cell_type": "markdown",
   "metadata": {},
   "source": [
    "2. К какому типу будет принадлежать результат применения такой функции: `str(int(float('2.4')))`?"
   ]
  },
  {
   "cell_type": "markdown",
   "metadata": {},
   "source": [
    "* int\n",
    "* float\n",
    "* str  __[верно]__\n",
    "* ни к какому, будет ошибка"
   ]
  },
  {
   "cell_type": "markdown",
   "metadata": {},
   "source": [
    "3. К какому типу будет принадлежать результат выполнения операции `4 ** (1/2)`?"
   ]
  },
  {
   "cell_type": "markdown",
   "metadata": {},
   "source": [
    "* int\n",
    "* float __[верно]__\n",
    "* str\n",
    "* ни к какому, будет ошибка"
   ]
  },
  {
   "cell_type": "markdown",
   "metadata": {},
   "source": [
    "4. Какой из кодов выполнится корректно, без ошибки?"
   ]
  },
  {
   "cell_type": "markdown",
   "metadata": {},
   "source": [
    "* '42' + 2\n",
    "* '42'*2 __[верно]__\n",
    "* '42'**2\n",
    "* '42'/2"
   ]
  },
  {
   "cell_type": "markdown",
   "metadata": {},
   "source": [
    "5. Каким будет результат выполнения функции `type('I' + 'love' + 'Python')`?"
   ]
  },
  {
   "cell_type": "markdown",
   "metadata": {},
   "source": [
    "* int\n",
    "* float\n",
    "* str  __[верно]__\n",
    "* ни к какому, будет ошибка"
   ]
  },
  {
   "cell_type": "markdown",
   "metadata": {},
   "source": [
    "## А1.3.5 Ввод данных с клавиатуры. Первые задачи по программированию"
   ]
  },
  {
   "cell_type": "markdown",
   "metadata": {},
   "source": [
    "В _Python_ мы можем позволить пользователю вводить свои данные с клавиатуры: для этого существует встроенная функция `input()`.\n",
    "\n",
    "При использовании функции `input()` появляется окно для ввода, после заполнения которого пользователю необходимо нажать `Enter`. \n",
    "\n",
    "Аргумент этой функции можно оставить пустым, а можно добавить в него сопроводительную фразу (в кавычках), что именно должен ввести пользователь.\n",
    "\n",
    "Если не присваивать введённые пользователем данные никакой переменной, то они просто выведутся на экране, а если присвоить, сохранятся под именем переменной, но не выведутся на экран.\n",
    "\n",
    "В этом случае необходимо отдельно вызвать переменную."
   ]
  },
  {
   "cell_type": "code",
   "execution_count": 20,
   "metadata": {},
   "outputs": [
    {
     "name": "stdout",
     "output_type": "stream",
     "text": [
      "Напишите что-нибудь хорошее: Я уже близок к тому, чтобы подружиться с Python!\n"
     ]
    },
    {
     "data": {
      "text/plain": [
       "'Я уже близок к тому, чтобы подружиться с Python!'"
      ]
     },
     "execution_count": 20,
     "metadata": {},
     "output_type": "execute_result"
    }
   ],
   "source": [
    "input ('Напишите что-нибудь хорошее: ')"
   ]
  },
  {
   "cell_type": "markdown",
   "metadata": {},
   "source": [
    "**Важно!**\n",
    "\n",
    "Введённые пользователем через `input()` данные всегда рассматриваются как строковые (имеют тип `string`), даже в том случае, когда он вводит числа."
   ]
  },
  {
   "cell_type": "code",
   "execution_count": 21,
   "metadata": {},
   "outputs": [
    {
     "name": "stdout",
     "output_type": "stream",
     "text": [
      "какой-либо текст\n"
     ]
    },
    {
     "data": {
      "text/plain": [
       "str"
      ]
     },
     "execution_count": 21,
     "metadata": {},
     "output_type": "execute_result"
    }
   ],
   "source": [
    "type(input())"
   ]
  },
  {
   "cell_type": "code",
   "execution_count": 22,
   "metadata": {},
   "outputs": [
    {
     "name": "stdout",
     "output_type": "stream",
     "text": [
      "4\n"
     ]
    },
    {
     "data": {
      "text/plain": [
       "str"
      ]
     },
     "execution_count": 22,
     "metadata": {},
     "output_type": "execute_result"
    }
   ],
   "source": [
    "type(input())"
   ]
  },
  {
   "cell_type": "code",
   "execution_count": 23,
   "metadata": {},
   "outputs": [
    {
     "name": "stdout",
     "output_type": "stream",
     "text": [
      "4.5\n"
     ]
    },
    {
     "data": {
      "text/plain": [
       "str"
      ]
     },
     "execution_count": 23,
     "metadata": {},
     "output_type": "execute_result"
    }
   ],
   "source": [
    "type(input())"
   ]
  },
  {
   "cell_type": "markdown",
   "metadata": {},
   "source": [
    "Чтобы преобразовать эти данные в числа (это необходимо, например, для последующих математических вычислений), следует воспользоваться уже рассмотренными функциями `int()` или `float()`."
   ]
  },
  {
   "cell_type": "code",
   "execution_count": 24,
   "metadata": {},
   "outputs": [
    {
     "name": "stdout",
     "output_type": "stream",
     "text": [
      "4\n"
     ]
    },
    {
     "data": {
      "text/plain": [
       "int"
      ]
     },
     "execution_count": 24,
     "metadata": {},
     "output_type": "execute_result"
    }
   ],
   "source": [
    "type(int(input()))"
   ]
  },
  {
   "cell_type": "code",
   "execution_count": 25,
   "metadata": {},
   "outputs": [
    {
     "name": "stdout",
     "output_type": "stream",
     "text": [
      "4.5\n"
     ]
    },
    {
     "data": {
      "text/plain": [
       "float"
      ]
     },
     "execution_count": 25,
     "metadata": {},
     "output_type": "execute_result"
    }
   ],
   "source": [
    "type(float(input()))"
   ]
  },
  {
   "cell_type": "markdown",
   "metadata": {},
   "source": [
    "### Примеры задач, которые можно решить с помощью функции `input`"
   ]
  },
  {
   "cell_type": "markdown",
   "metadata": {},
   "source": [
    "Пример 1: Программа, которая просит пользователя ввести его имя и сохраняет результат в переменную _**user_name**_."
   ]
  },
  {
   "cell_type": "code",
   "execution_count": 26,
   "metadata": {},
   "outputs": [
    {
     "name": "stdout",
     "output_type": "stream",
     "text": [
      "Введите своё имя: \n",
      "Сергей\n"
     ]
    }
   ],
   "source": [
    "user_name = input('Введите своё имя: \\n')"
   ]
  },
  {
   "cell_type": "markdown",
   "metadata": {},
   "source": [
    "_Напоминаем, что \\n - это знак перевода строки!_"
   ]
  },
  {
   "cell_type": "markdown",
   "metadata": {},
   "source": [
    "Пример 2: Программа, которая умножает **`5`** на **`целочисленный множитель`**, введённый пользователем."
   ]
  },
  {
   "cell_type": "code",
   "execution_count": 27,
   "metadata": {},
   "outputs": [
    {
     "name": "stdout",
     "output_type": "stream",
     "text": [
      "Введите множитель для числа 5: \n",
      "5\n",
      "25\n"
     ]
    }
   ],
   "source": [
    "multiplier = int(input('Введите множитель для числа 5: \\n'))\n",
    "print(5*multiplier)"
   ]
  },
  {
   "cell_type": "markdown",
   "metadata": {},
   "source": [
    "Пример 3: Программа, которая получает на вход два числа, **`a`** и **`b`**, и выводит на экран число **`a`** в степени **`b`**."
   ]
  },
  {
   "cell_type": "code",
   "execution_count": 28,
   "metadata": {},
   "outputs": [
    {
     "name": "stdout",
     "output_type": "stream",
     "text": [
      "Введите основание степени: \n",
      "2\n",
      "Введите показатель степени: \n",
      "3\n",
      "Полученное число: 8.0\n"
     ]
    }
   ],
   "source": [
    "a = float(input('Введите основание степени: \\n'))\n",
    "b = float(input('Введите показатель степени: \\n'))\n",
    "# В функции print() можно в качестве аргументов перечислять через запятую все нужные для вывода данные\n",
    "print('Полученное число:', a**b) "
   ]
  },
  {
   "cell_type": "markdown",
   "metadata": {},
   "source": [
    "**А1.3.5.1 Задание 1**"
   ]
  },
  {
   "cell_type": "markdown",
   "metadata": {},
   "source": [
    "Напишите программу, которая просит пользователя ввести своё имя в переменную `name`, а затем выводит на экран фразу: `\"Сегодня Вас зовут ...\"`, где вместо многоточия отображается имя пользователя. Вместо `name = input()` используйте `name = 'Алексей'` для проверки.\n",
    "\n",
    "Пояснения:\n",
    "\n",
    "Чтобы вывести строку в нужном формате, можно либо перечислять то, что нужно вывести на экран, внутри функции `print()`: `print('Привет,', name)`, либо складывать строки, например: `print('Привет, ' + name)`.\n",
    "\n",
    "Обратите внимание на использование пробелов в строке, которая будет выводиться на экран с помощью функции `print()`: между каждой парой слов должен быть только один пробел; в начале и в конце выводимой на экран строки пробелов быть не должно; перед запятой пробел не ставится, после - ставится один пробел."
   ]
  },
  {
   "cell_type": "code",
   "execution_count": 29,
   "metadata": {},
   "outputs": [
    {
     "name": "stdout",
     "output_type": "stream",
     "text": [
      "Сегодня Вас зовут Алексей\n"
     ]
    }
   ],
   "source": [
    "#name = input('Алексей')\n",
    "name='Алексей'\n",
    "print('Сегодня Вас зовут',name)"
   ]
  },
  {
   "cell_type": "markdown",
   "metadata": {},
   "source": [
    "**А1.3.5.2 Задание 2**"
   ]
  },
  {
   "cell_type": "markdown",
   "metadata": {},
   "source": [
    "Напишите программу, которая выводит на экран длину слова, значение которого хранится в переменной `word`. Вместо `word = input()` используйте `word = 'Очаровательно'` для проверки.\n",
    "\n",
    "**Подсказка №1:** Длину слова (и не только слова) в _Python_ можно узнать с помощью функции `len()`.\n",
    "\n",
    "**Подсказка №2:** Программа должна вывести на экран только одно число, равное количеству символов в заданном слове."
   ]
  },
  {
   "cell_type": "code",
   "execution_count": 30,
   "metadata": {},
   "outputs": [
    {
     "name": "stdout",
     "output_type": "stream",
     "text": [
      "13\n"
     ]
    }
   ],
   "source": [
    "#word = input()\n",
    "word='Очаровательно'\n",
    "print(len(word))"
   ]
  },
  {
   "cell_type": "markdown",
   "metadata": {},
   "source": [
    "**А1.3.5.3 Задание 3**"
   ]
  },
  {
   "cell_type": "markdown",
   "metadata": {},
   "source": [
    "Напишите программу, которая принимает на вход два целых числа `(a и b)` и выводит на экран остаток от деления первого числа `а` на второе число `b`.\n",
    "\n",
    "Вместо `a = int(input())` и` b = int(input())` используйте **`a = 117`** и **`b = 23`**."
   ]
  },
  {
   "cell_type": "code",
   "execution_count": 31,
   "metadata": {},
   "outputs": [
    {
     "name": "stdout",
     "output_type": "stream",
     "text": [
      "2\n"
     ]
    }
   ],
   "source": [
    "#a = int(input())\n",
    "#b = int(input())\n",
    "a=117\n",
    "b=23\n",
    "print(a%b)"
   ]
  },
  {
   "cell_type": "markdown",
   "metadata": {},
   "source": [
    "**А1.3.5.4 Задание 4**"
   ]
  },
  {
   "cell_type": "markdown",
   "metadata": {},
   "source": [
    "Напишите программу, с помощью которой пользователь может ввести три положительных числа и увидеть на экране их среднее геометрическое. Названия переменных `a`, `b`, `c`. Для теста используйте значения `a=12`, `b=17`, `c=25`.\n",
    "\n",
    "_Среднее геометрическое N чисел - это корень N-ной степени из произведения этих чисел_."
   ]
  },
  {
   "cell_type": "code",
   "execution_count": 32,
   "metadata": {},
   "outputs": [
    {
     "name": "stdout",
     "output_type": "stream",
     "text": [
      "17.213006207263156\n"
     ]
    }
   ],
   "source": [
    "#a = float(input())\n",
    "#b = float(input())\n",
    "#c = float(input())\n",
    "a=12\n",
    "b=17\n",
    "c=25\n",
    "print((a*b*c)**(1/3))"
   ]
  },
  {
   "cell_type": "markdown",
   "metadata": {},
   "source": [
    "**А1.3.5.5 Задание 5**"
   ]
  },
  {
   "cell_type": "markdown",
   "metadata": {},
   "source": [
    "Напишите программу, с помощью которой пользователь может рассчитать значение функции, предварительно указав значение аргумента `x`. Для проверок используйте `x = 100500`."
   ]
  },
  {
   "cell_type": "code",
   "execution_count": 33,
   "metadata": {},
   "outputs": [
    {
     "name": "stdout",
     "output_type": "stream",
     "text": [
      "113628013506.996\n"
     ]
    }
   ],
   "source": [
    "#x = float(input())\n",
    "x=100500\n",
    "print(6.996+45*((x/2)**2)+2*x)"
   ]
  },
  {
   "cell_type": "markdown",
   "metadata": {},
   "source": [
    "**А1.3.5.6 Задание 6**"
   ]
  },
  {
   "cell_type": "markdown",
   "metadata": {},
   "source": [
    "Напишите программу, с помощью которой пользователь сможет рассчитать свой индекс массы тела (__ИМТ - масса тела в килограммах делённая на квадрат роста в метрах__). Выведите ИМТ на экран. Названия переменных `weight` и `heigh`t. Для теста используйте значения `weight=80`, `height = 1.8`."
   ]
  },
  {
   "cell_type": "code",
   "execution_count": 34,
   "metadata": {},
   "outputs": [
    {
     "name": "stdout",
     "output_type": "stream",
     "text": [
      "24.691358024691358\n"
     ]
    }
   ],
   "source": [
    "#weight = float(input())\n",
    "#height = float(input())\n",
    "weight=80\n",
    "height=1.8\n",
    "print(weight/(height**2))"
   ]
  },
  {
   "cell_type": "markdown",
   "metadata": {},
   "source": [
    "**А1.3.5.7 Задание 7**"
   ]
  },
  {
   "cell_type": "markdown",
   "metadata": {},
   "source": [
    "Напишите программу, которая принимает на вход два числа `a` и `b` и выводит корень третьей степени их среднего арифметического на экран.\n",
    "\n",
    "Вместо `a = float(input())` и `b = float(input())` используйте значения **`a = 270`**, **`b = 12.8`**."
   ]
  },
  {
   "cell_type": "code",
   "execution_count": 35,
   "metadata": {},
   "outputs": [
    {
     "name": "stdout",
     "output_type": "stream",
     "text": [
      "5.209745039548078\n"
     ]
    }
   ],
   "source": [
    "#a = float(input())\n",
    "#b = float(input())\n",
    "a=270\n",
    "b=12.8\n",
    "print(((a+b)/2)**(1/3))"
   ]
  },
  {
   "cell_type": "markdown",
   "metadata": {},
   "source": [
    "**А1.3.5.8 Задание 8**"
   ]
  },
  {
   "cell_type": "markdown",
   "metadata": {},
   "source": [
    "Напишите программу, которая принимает на вход целое число, умножает его на `3` и выводит на экран сообщение: `\"Вы ввели число, которое при умножении на 3 даёт ...\"`. В сообщении вместо многоточия должен быть отображён результат умножения в виде целого числа.\n",
    "\n",
    "Вместо `a = int(input())` укажите значение **`a = 23`**."
   ]
  },
  {
   "cell_type": "code",
   "execution_count": 36,
   "metadata": {},
   "outputs": [
    {
     "name": "stdout",
     "output_type": "stream",
     "text": [
      "Вы ввели число, которое при умножении на 3 даёт 69\n"
     ]
    }
   ],
   "source": [
    "#a = int(input())\n",
    "a = 23\n",
    "print(\"Вы ввели число, которое при умножении на 3 даёт\",int(a*3))"
   ]
  },
  {
   "cell_type": "markdown",
   "metadata": {},
   "source": [
    "**А1.3.5.9 Задание 9**"
   ]
  },
  {
   "cell_type": "markdown",
   "metadata": {},
   "source": [
    "Напишите программу, которая на вход принимает 3 строки и выводит на экран среднее геометрическое длин этих строк Названия переменных `string_1`, `string_2`, `string_3`. Для теста используйте значения `string_1 = 'Hello, world!'`, `string_2 = 'Python <3'`, `tring_3 = 'qwerty'`."
   ]
  },
  {
   "cell_type": "code",
   "execution_count": 37,
   "metadata": {},
   "outputs": [
    {
     "name": "stdout",
     "output_type": "stream",
     "text": [
      "8.88748820522211\n"
     ]
    }
   ],
   "source": [
    "#string_1 = input()\n",
    "#string_2 = input()\n",
    "#string_3 = input()\n",
    "string_1='Hello, world!'\n",
    "string_2='Python <3'\n",
    "string_3='qwerty'\n",
    "print((len(string_1)*len(string_2)*len(string_3))**(1/3))"
   ]
  },
  {
   "cell_type": "markdown",
   "metadata": {},
   "source": [
    "**А1.3.5.10 Задание 10**"
   ]
  },
  {
   "cell_type": "markdown",
   "metadata": {},
   "source": [
    "Напишите программу, которая принимает на вход строку и целое число и выводит на экран эту строку, её длину и её длину в степени введённого целого числа. При введении, например, строки `\"привет\"` и числа `2` на экране должно быть выведено `\"привет 6 36\"`. Названия переменных `string` и `power`. Для теста используйте значения `string = 'Привет!'`, `power = 5`"
   ]
  },
  {
   "cell_type": "code",
   "execution_count": 38,
   "metadata": {},
   "outputs": [
    {
     "name": "stdout",
     "output_type": "stream",
     "text": [
      "Привет! 7 16807\n"
     ]
    }
   ],
   "source": [
    "#string = input()\n",
    "#power = float(input())\n",
    "string='Привет!'\n",
    "power=5\n",
    "print(string, len(string), len(string)**power)"
   ]
  }
 ],
 "metadata": {
  "kernelspec": {
   "display_name": "Python 3",
   "language": "python",
   "name": "python3"
  },
  "language_info": {
   "codemirror_mode": {
    "name": "ipython",
    "version": 3
   },
   "file_extension": ".py",
   "mimetype": "text/x-python",
   "name": "python",
   "nbconvert_exporter": "python",
   "pygments_lexer": "ipython3",
   "version": "3.7.3"
  }
 },
 "nbformat": 4,
 "nbformat_minor": 2
}
