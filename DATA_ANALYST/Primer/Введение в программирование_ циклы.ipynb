{
 "cells": [
  {
   "cell_type": "markdown",
   "metadata": {},
   "source": [
    "# Циклы "
   ]
  },
  {
   "cell_type": "markdown",
   "metadata": {},
   "source": [
    "**Цикл** - это управляющая конструкция (другая управляющая конструкция: - это if/else), которая реализует возможность последовательного перебора, повторения или выполнения каких-либо однотипных действий\n",
    "\n",
    "Цикл нужен нам в тех ситуациях, когда мы хотим применить одно и то же действие много раз\n",
    "\n",
    "Циклы в python делятся на два вида: while и for. \n",
    "\n"
   ]
  },
  {
   "cell_type": "markdown",
   "metadata": {},
   "source": [
    "Цикл while - переводится как \"пока\" или если точнее \"до тех пор пока\". Этот цикл работает до тех пор, пока условие цикла истинно. \n",
    "\n",
    "Проверка на истинность происходит до выполнения кода в теле цикла. В python нет аналога do...while как в JS или Си  "
   ]
  },
  {
   "cell_type": "markdown",
   "metadata": {},
   "source": [
    "http://pythontutor.com/visualize.html#mode=edit\n",
    "\n",
    "Визуализатор для этого урока. Он может очень сильно помочь на начальном этапе изчения Python, когда вы пишите свои собственные программы, но ещё не понимаете как именно работает ваш код. Самые частые ошибки новичков - это непонимание границ выполнения ключевых этапов работы программы. Порой очень хороший код не будет работать из-за одной маленькой ошибки. "
   ]
  },
  {
   "cell_type": "code",
   "execution_count": null,
   "metadata": {
    "scrolled": false
   },
   "outputs": [],
   "source": [
    "money = 10 # создаем переменную money и присваиваем ей значение 10\n",
    "while money > 0: # Запускаем цикл\n",
    "    print (\"У нас {} рублей\".format(money)) #Мы внутри цикла. Печатаем сообщение\n",
    "    money -= 1 # Все еще внутри цикла. Уменьшаем на один переменную money\n",
    "print (\"Денег больше нет, но вы держитесь\") # Мы вне цикла. Печатаем сообщение\n",
    "\n"
   ]
  },
  {
   "cell_type": "code",
   "execution_count": 5,
   "metadata": {},
   "outputs": [
    {
     "data": {
      "text/plain": [
       "'У нас 0 рублей'"
      ]
     },
     "execution_count": 5,
     "metadata": {},
     "output_type": "execute_result"
    }
   ],
   "source": [
    "\"У нас \" + str(money) + \" рублей\""
   ]
  },
  {
   "cell_type": "markdown",
   "metadata": {},
   "source": [
    "Сначала создаем нашу переменную-счетчик и устанавливаем значение 10\n",
    "\n",
    "Создаем условие цикла **while**: пока деньги больше 0, выводим их количество\n",
    "\n",
    "Каждый шаг цикла, каждая итерация означает вычитание единицы из переменной **money**. \n",
    "\n",
    "Единица - нужна здесь для понятности, чтобы шаг был максимально плавным.\n",
    "\n",
    "Шаг не обязан быть единицей, шаг не обязан быть целым числом.\n",
    "\n",
    "Если шаг будет отрицательным в этом примере, то мы попадем в вечный цикл и программу нужно будет остановить вручную. \n",
    "\n",
    "В реальных условиях вам в 99% случаев нужен именно шаг +- 1."
   ]
  },
  {
   "cell_type": "code",
   "execution_count": 10,
   "metadata": {},
   "outputs": [
    {
     "name": "stdout",
     "output_type": "stream",
     "text": [
      "0\n",
      "1.6\n",
      "3.2\n",
      "4.800000000000001\n",
      "6.4\n",
      "8.0\n",
      "9.6\n"
     ]
    }
   ],
   "source": [
    "incr = 0\n",
    "while incr < 10:\n",
    "    print(incr)\n",
    "    incr += 1.6\n"
   ]
  },
  {
   "cell_type": "markdown",
   "metadata": {},
   "source": [
    "### Немного об операторах в Питоне\n",
    "\n",
    "<code>\n",
    "с = 5\n",
    "а = 2\n",
    "с += а равносильно:\n",
    "с = с + а. с будет равно 7\n",
    "</code>\n",
    "\n",
    "http://pythonicway.com/python-operators"
   ]
  },
  {
   "cell_type": "markdown",
   "metadata": {},
   "source": [
    "Назойливый цикл while"
   ]
  },
  {
   "cell_type": "code",
   "execution_count": 11,
   "metadata": {},
   "outputs": [
    {
     "name": "stdout",
     "output_type": "stream",
     "text": [
      "Пожалуйста введите ваше имя\n",
      "Александр\n",
      "Пожалуйста введите ваше имя\n",
      "Саша\n",
      "Пожалуйста введите ваше имя\n",
      "Петя\n",
      "Пожалуйста введите ваше имя\n",
      "ваше имя\n",
      "Спасибо!\n"
     ]
    }
   ],
   "source": [
    "name = ''\n",
    "while name != 'ваше имя':\n",
    "    print('Пожалуйста введите ваше имя')\n",
    "    name = input()\n",
    "    \n",
    "print('Спасибо!')"
   ]
  },
  {
   "cell_type": "code",
   "execution_count": 13,
   "metadata": {},
   "outputs": [
    {
     "name": "stdout",
     "output_type": "stream",
     "text": [
      "1\n",
      "2\n",
      "3\n",
      "4\n"
     ]
    }
   ],
   "source": [
    "massiv = [1, 2, 3, 4]\n",
    "counter = 0\n",
    "while counter<len(massiv):\n",
    "    print(massiv[counter])\n",
    "    counter+=1\n"
   ]
  },
  {
   "cell_type": "markdown",
   "metadata": {},
   "source": [
    "## Ещё есть цикл **for**.\n",
    "#### Он быстрее while, чуть менее универсальный, но более удобный и надежный на практике. \n",
    "\n",
    "\n",
    "Отлично подходит для перебора коллекций данных, массивов, списков и строк"
   ]
  },
  {
   "cell_type": "code",
   "execution_count": 16,
   "metadata": {},
   "outputs": [
    {
     "name": "stdout",
     "output_type": "stream",
     "text": [
      "П\n",
      "р\n",
      "и\n",
      "в\n",
      "е\n",
      "т\n",
      "!\n"
     ]
    }
   ],
   "source": [
    "for symbol in 'Привет!':\n",
    "    print(symbol)"
   ]
  },
  {
   "cell_type": "code",
   "execution_count": 27,
   "metadata": {},
   "outputs": [
    {
     "name": "stdout",
     "output_type": "stream",
     "text": [
      "11\n"
     ]
    }
   ],
   "source": [
    "#задача на нахождение числа в строке, которую можно решить с помощью цикла\n",
    "# еще эту задачу можно решить с помощью регулярных выражений https://tproger.ru/translations/regular-expression-python/\n",
    "phrase = 'Для приготовления блюда нам потребуется 11 килограмм  картофеля'\n",
    "weight = ''\n",
    "\n",
    "for symbol in phrase:\n",
    "    if symbol.isdigit():\n",
    "        weight += symbol\n",
    "\n",
    "\n",
    "weight = int(weight)\n",
    "print(weight)\n",
    "\n"
   ]
  },
  {
   "cell_type": "code",
   "execution_count": 28,
   "metadata": {},
   "outputs": [
    {
     "data": {
      "text/plain": [
       "False"
      ]
     },
     "execution_count": 28,
     "metadata": {},
     "output_type": "execute_result"
    }
   ],
   "source": [
    "'.'.isdigit()"
   ]
  },
  {
   "cell_type": "code",
   "execution_count": null,
   "metadata": {},
   "outputs": [],
   "source": [
    "weight*2"
   ]
  },
  {
   "cell_type": "code",
   "execution_count": null,
   "metadata": {},
   "outputs": [],
   "source": [
    "range(0,10)"
   ]
  },
  {
   "cell_type": "code",
   "execution_count": null,
   "metadata": {},
   "outputs": [],
   "source": [
    "for i in range(3, 8, 2):\n",
    "    print(i)"
   ]
  },
  {
   "cell_type": "markdown",
   "metadata": {},
   "source": [
    "## Операторы **break** и **continue** (когда нужно больше контроля) \n",
    "\n",
    "Оператор **continue** начинает следующий проход цикла, минуя оставшееся тело цикла (for или while)"
   ]
  },
  {
   "cell_type": "code",
   "execution_count": 36,
   "metadata": {},
   "outputs": [
    {
     "name": "stdout",
     "output_type": "stream",
     "text": [
      "hell rld"
     ]
    }
   ],
   "source": [
    "for symbol in 'hello world':\n",
    "    if symbol in ('o', 'w'):\n",
    "        continue\n",
    "    print(symbol, end = '')\n",
    "\n"
   ]
  },
  {
   "cell_type": "code",
   "execution_count": null,
   "metadata": {},
   "outputs": [],
   "source": [
    "a = 5\n",
    "b = 6\n",
    "a != b\n"
   ]
  },
  {
   "cell_type": "markdown",
   "metadata": {},
   "source": [
    "Оператор **break** прерывает  досрочно цикл"
   ]
  },
  {
   "cell_type": "code",
   "execution_count": 37,
   "metadata": {},
   "outputs": [
    {
     "name": "stdout",
     "output_type": "stream",
     "text": [
      "hell"
     ]
    }
   ],
   "source": [
    "for symbol in 'hello world':\n",
    "    if symbol == 'o':\n",
    "        break\n",
    "    print(symbol, end='')\n",
    "\n"
   ]
  },
  {
   "cell_type": "code",
   "execution_count": 19,
   "metadata": {},
   "outputs": [
    {
     "name": "stdout",
     "output_type": "stream",
     "text": [
      "1\n",
      "2\n",
      "3\n",
      "4\n"
     ]
    }
   ],
   "source": [
    "massiv = [1, 2, 3, 4]\n",
    "counter = 0\n",
    "while massiv:\n",
    "    if counter == len(massiv):\n",
    "        break\n",
    "    counter<len(massiv)\n",
    "    print(massiv[counter])\n",
    "    counter+=1\n"
   ]
  },
  {
   "cell_type": "markdown",
   "metadata": {},
   "source": [
    "**Else** поможет нам проверить как именно закончился цикл: насильно, с помощью break или естественно"
   ]
  },
  {
   "cell_type": "code",
   "execution_count": 41,
   "metadata": {},
   "outputs": [
    {
     "name": "stdout",
     "output_type": "stream",
     "text": [
      "Буквы a в строке нет\n"
     ]
    }
   ],
   "source": [
    "first = 'hello world'\n",
    "second = 'i am an actor'\n",
    "\n",
    "for symbol in first:\n",
    "    if symbol == 'a':\n",
    "        print('В строке есть буква а')\n",
    "        break\n",
    "        \n",
    "else:\n",
    "    print('Буквы a в строке нет')\n",
    "\n"
   ]
  },
  {
   "cell_type": "code",
   "execution_count": 12,
   "metadata": {},
   "outputs": [
    {
     "data": {
      "text/plain": [
       "'к'"
      ]
     },
     "execution_count": 12,
     "metadata": {},
     "output_type": "execute_result"
    }
   ],
   "source": [
    "a = list('список')\n"
   ]
  },
  {
   "cell_type": "code",
   "execution_count": 59,
   "metadata": {},
   "outputs": [
    {
     "data": {
      "text/plain": [
       "[5, 2, 3, 4]"
      ]
     },
     "execution_count": 59,
     "metadata": {},
     "output_type": "execute_result"
    }
   ],
   "source": [
    "spisok = [1, 2, 3, 4]\n",
    "spisok[0] = 5\n",
    "spisok"
   ]
  },
  {
   "cell_type": "markdown",
   "metadata": {},
   "source": [
    "Но чаще нам нужно просто создать пустой список, чтобы потом в ходе программы наполнять его значениями\n"
   ]
  },
  {
   "cell_type": "markdown",
   "metadata": {},
   "source": [
    "Цикл *for* во всей красе раскрывает себя при работе со списками\n",
    "\n",
    "**Списки** в Python - упорядоченные изменяемые коллекции объектов произвольных типов (почти как массив, но типы могут отличаться). \n",
    "\n",
    "Чтобы использовать списки, их нужно создать. Создать список можно несколькими способами. Например, можно обработать любой итерируемый объект (например, строку) встроенной функцией list:"
   ]
  },
  {
   "cell_type": "markdown",
   "metadata": {},
   "source": [
    "Как только мы начинаем выходить за рамки написания простейших программ у нас возниает потребность в хранении коллекций или наборов данных. Для этого в языке Python предусмотрены 2 очень мощных по своим возможностям типа данных: списки и словари.\n",
    "\n",
    "Список в Python — это упорядоченная изменяемая коллекция объектов произвольных типов.\n",
    "\n",
    "В этом определении важна каждое слово. Мы будем к нему возвращаться по мере иллюстрации возможностей и свойств списков.\n",
    "\n",
    "    Когда мы называем список коллекцией, мы имеем в виду, что в одном списке может храниться множество объектов (например, чисел или строковых величин)\n",
    "\n",
    "    Говоря о том, что списки представляют собой упорядоченные коллекции, мы обращаем внимание на то, что каждый элемент в списке имеет свой порядковый номер.\n",
    "\n",
    "    Упоминание об изменяемости списков означает, что в процессе исполнения кода можно изменять состав элементов списка и последовательность их расположения.\n",
    "\n",
    "    Выражение «произвольных типов» означает, что в списке могут храниться данные, относящиеся к любым типам из тех, с которыми работает Python. То есть это могут быть также другие списки и словари\n",
    "\n"
   ]
  },
  {
   "cell_type": "code",
   "execution_count": 18,
   "metadata": {},
   "outputs": [
    {
     "name": "stdout",
     "output_type": "stream",
     "text": [
      "140071905568640\n",
      "140071905568640\n",
      "140071905568640\n",
      "[5, 5, 6, 7, 'список', {'яблоки': 10, 'морковь': 9}]\n"
     ]
    }
   ],
   "source": [
    "b = [5, 5, 6, 7]\n",
    "c = {'яблоки': 10, 'морковь': 9}\n",
    "print(id(b))\n",
    "b.append('список') #команда append нужна для того, чтобы добавить в конец списка какое-то значение\n",
    "print(id(b))\n",
    "b.append(c)\n",
    "print(id(b))\n",
    "print(b)\n",
    "\n"
   ]
  },
  {
   "cell_type": "markdown",
   "metadata": {},
   "source": [
    "Индексация списков"
   ]
  },
  {
   "cell_type": "code",
   "execution_count": null,
   "metadata": {},
   "outputs": [],
   "source": [
    "list('список')"
   ]
  },
  {
   "cell_type": "markdown",
   "metadata": {},
   "source": [
    "Список методов работы со списками тут: https://pythonworld.ru/tipy-dannyx-v-python/spiski-list-funkcii-i-metody-spiskov.html\n",
    "\n",
    "В отличие от строк и других примитивных типов данных список является изменяемым объектом. \n",
    "\n",
    "Чтобы изменить строку, нам нужно создать новую переменную и присвоить ей новое значение.\n",
    "\n",
    "Список мы можем менять в той же переменной.\n",
    "\n",
    "В этом есть как свои плюсы, так и минусы.\n",
    "\n",
    "Минус: можем случайно удалить то, что следовало оставить или записать то, что записывать не следовало.\n",
    "\n",
    "Подробнее: http://sheregeda.github.io/blog/2017/06/15/tipy-dannykh-v-python/"
   ]
  },
  {
   "cell_type": "code",
   "execution_count": 73,
   "metadata": {},
   "outputs": [
    {
     "name": "stdout",
     "output_type": "stream",
     "text": [
      "ГРУЗ ВЕСИТ 1 КИЛОГРАММ\n",
      "1\n",
      "ГРУЗ ВЕСИТ 5 КИЛОГРАММ\n",
      "6\n",
      "ГРУЗ ВЕСИТ 76 КИЛОГРАММ\n",
      "82\n",
      "ГРУЗ ВЕСИТ 12 КИЛОГРАММ\n",
      "94\n",
      "Груз слишком большой\n",
      "Груз слишком большой\n",
      "ГРУЗ ВЕСИТ 5 КИЛОГРАММ\n",
      "99\n",
      "ГРУЗ ВЕСИТ 6 КИЛОГРАММ\n",
      "105\n",
      "ГРУЗ ВЕСИТ 7 КИЛОГРАММ\n",
      "112\n",
      "ГРУЗ ВЕСИТ 50 КИЛОГРАММ\n",
      "162\n",
      "ГРУЗ ВЕСИТ 13 КИЛОГРАММ\n",
      "175\n"
     ]
    }
   ],
   "source": [
    "containers = [1, 5, 76, 12, 123, 333, 5, 6,7, 50, 13, 65]\n",
    "max_weight = 200\n",
    "sum_weight = 0\n",
    "\n",
    "for gruz in containers:\n",
    "#     new = 'Груз весит ' + str(i) +  ' килограмм'\n",
    "    if gruz<100:\n",
    "        new = 'Груз весит {} килограмм'.format(gruz)\n",
    "        sum_weight += gruz\n",
    "        \n",
    "    else:\n",
    "        print('Груз слишком большой')\n",
    "        continue\n",
    "        \n",
    "    if sum_weight >= max_weight:\n",
    "        break\n",
    "\n",
    "    print(new.upper())\n",
    "    print(sum_weight)\n",
    "# a[1.5]\n",
    "\n",
    "\n",
    "# for i in a:\n",
    "#     if i>10:\n",
    "#         print(i, end=' ')\n",
    "        \n"
   ]
  },
  {
   "cell_type": "code",
   "execution_count": 77,
   "metadata": {},
   "outputs": [
    {
     "data": {
      "text/plain": [
       "44"
      ]
     },
     "execution_count": 77,
     "metadata": {},
     "output_type": "execute_result"
    }
   ],
   "source": [
    "spisok = [4, 5.7, '234234', ['f', 44]]\n",
    "\n",
    "spisok[3][1]"
   ]
  },
  {
   "cell_type": "code",
   "execution_count": null,
   "metadata": {},
   "outputs": [],
   "source": [
    "#а ещё списки могут быть вложены друг в друга представим, очень часто такое встречается в данных, полученных из REST API\n",
    "\n",
    "array_of_arrays = [[1, 2, 3], [4, 5 ,6], [71, 2, 5]]\n",
    "new_list = []\n",
    "\n",
    "for i in array_of_arrays:\n",
    "    summ = 0\n",
    "    for j in i:\n",
    "        summ = summ + j\n",
    "    new_list.append(summ)\n",
    "    \n",
    "print(new_list)\n",
    "    \n",
    "    "
   ]
  },
  {
   "cell_type": "code",
   "execution_count": null,
   "metadata": {},
   "outputs": [],
   "source": [
    "array_of_arrays[0].index(2)"
   ]
  },
  {
   "cell_type": "markdown",
   "metadata": {},
   "source": [
    "## Ccылочная модель "
   ]
  },
  {
   "cell_type": "code",
   "execution_count": 24,
   "metadata": {},
   "outputs": [
    {
     "name": "stdout",
     "output_type": "stream",
     "text": [
      "2\n"
     ]
    }
   ],
   "source": [
    "first = second = 1\n",
    "first = 2\n",
    "print(first)"
   ]
  },
  {
   "cell_type": "code",
   "execution_count": 26,
   "metadata": {},
   "outputs": [
    {
     "name": "stdout",
     "output_type": "stream",
     "text": [
      "[2]\n"
     ]
    }
   ],
   "source": [
    "first = second = [1]\n",
    "first[0] = 2\n",
    "print(second)"
   ]
  },
  {
   "cell_type": "markdown",
   "metadata": {},
   "source": [
    "## range \n",
    "когда нужно пройтись по определенному промежутку"
   ]
  },
  {
   "cell_type": "markdown",
   "metadata": {},
   "source": [
    "Введение в range()\n",
    "\n",
    "Итак, как работает функция Python под названием range?\n",
    "Простыми словами, range() позволяет вам генерировать ряд чисел в рамках заданного диапазона.\n",
    "В зависимости от того, как много аргументов вы передаете функции, вы можете решить, где этот ряд чисел начнется и закончится, а также сможете определить величину хода цикла\n",
    "\n"
   ]
  },
  {
   "cell_type": "markdown",
   "metadata": {},
   "source": [
    "Есть три способа вызова range():\n",
    "\n",
    "- range(стоп) берет один аргумент\n",
    "- range(старт, стоп) берет два аргумента\n",
    "- range(старт, стоп, шаг) берет три аргумента"
   ]
  },
  {
   "cell_type": "code",
   "execution_count": null,
   "metadata": {},
   "outputs": [],
   "source": [
    "for i in range(10):\n",
    "    print(i, ' ', end = '')\n",
    "print('\\n *****************************************')\n",
    "for i in range(5,10):\n",
    "    print(i, ' ', end = '')\n",
    "print('\\n *****************************************')\n",
    "for i in range(15, 5, -2):\n",
    "    print(i, ' ', end = '')\n"
   ]
  },
  {
   "cell_type": "code",
   "execution_count": null,
   "metadata": {},
   "outputs": [],
   "source": [
    "for i in range(3, 16, 3):\n",
    "    quotient = i / 3\n",
    "    print(f\"{i} делится на 3, результат {int(quotient)}.\")\n",
    "    \n",
    "\n",
    "#https://python-scripts.com/range \n",
    "#если кому-то интересно, то по этой ссылке есть отличный материал по функции numpy arrange"
   ]
  },
  {
   "cell_type": "markdown",
   "metadata": {},
   "source": [
    "**list comprehensions** или генераторы списков"
   ]
  },
  {
   "cell_type": "code",
   "execution_count": null,
   "metadata": {},
   "outputs": [],
   "source": [
    "squares = [x ** 2 for x in range(10)] \n",
    "\n",
    "# равно по смыслу \n",
    "\n",
    "# squares = []\n",
    "# for x in range(10):\n",
    "#     squares.append(x ** 2)\n",
    "\n",
    "print(squares)"
   ]
  },
  {
   "cell_type": "markdown",
   "metadata": {},
   "source": [
    "### Кейс для циклов  №1\n",
    "\n",
    "Это симуляция реальных практических примеров, когда циклы могут упростить вашу жизнь в разы\n",
    "\n",
    "Сложить все текстовые файлы в один большой файл. Предположим у нас на компьютере есть три текстовых файла, а мы хотим создать из них один, который мы отправим по электронной почте своему коллеге. Три - это еще легко, проще сделать все руками, но их могло бы быть и 100 и 1000. В общем, посмотрим как работает чтение и запись файлов на питоне и проиллюстрируем силу циклов. \n"
   ]
  },
  {
   "cell_type": "code",
   "execution_count": null,
   "metadata": {},
   "outputs": [],
   "source": [
    "import os\n",
    "filenames = ['1раз.txt', '2два.txt', '3три.txt'] #для индексации\n",
    "data = ['раз', 'два', 'три']\n",
    "\n",
    "def write_files(filenames, data):\n",
    "    if len(filenames) == len(data):\n",
    "        for i in range(len(filenames)):\n",
    "            with open(filenames[i], 'w') as f:\n",
    "                f.write(data[i])\n",
    "\n",
    "    \n",
    "def check_files(filenames):\n",
    "    #этот код для меня, он проверяет все ли записалось как надо\n",
    "    if set(filenames).issubset(set(os.listdir())):\n",
    "        return sum([os.path.getsize(x) for x in filenames])\n",
    "    else:\n",
    "        return 0\n",
    "\n",
    "\n",
    "\n",
    "    \n",
    "write_files(filenames, data)"
   ]
  },
  {
   "cell_type": "code",
   "execution_count": null,
   "metadata": {},
   "outputs": [],
   "source": [
    "result_file = 'result.txt'\n",
    "with open(result_file, 'w') as result:\n",
    "    for i in os.listdir():\n",
    "        if i.endswith('.txt'):\n",
    "            with open(i) as f:\n",
    "                result.write(f.read() + ' ')\n",
    "                \n"
   ]
  },
  {
   "cell_type": "code",
   "execution_count": null,
   "metadata": {},
   "outputs": [],
   "source": [
    "import os\n",
    "os.listdir()"
   ]
  },
  {
   "cell_type": "code",
   "execution_count": null,
   "metadata": {},
   "outputs": [],
   "source": [
    "print(os.listdir())"
   ]
  },
  {
   "cell_type": "code",
   "execution_count": null,
   "metadata": {},
   "outputs": [],
   "source": [
    "with open('result.txt', 'r') as f:\n",
    "    print(f.read())"
   ]
  },
  {
   "cell_type": "markdown",
   "metadata": {},
   "source": [
    "### Кейс для циклов 2\n",
    "\n",
    "Сложение экселевских таблиц\n",
    "\n",
    "То же самое можно провернуть и с таблицами. Предположим, вы хотите создать одну большую таблицу из 3 маленьких\n",
    "\n",
    " "
   ]
  },
  {
   "cell_type": "code",
   "execution_count": 27,
   "metadata": {},
   "outputs": [
    {
     "name": "stdout",
     "output_type": "stream",
     "text": [
      "1219\n",
      "97\n",
      "1316\n"
     ]
    },
    {
     "name": "stderr",
     "output_type": "stream",
     "text": [
      "/home/politlen/anaconda3/lib/python3.7/site-packages/xlsxwriter/worksheet.py:931: UserWarning: Ignoring URL 'https://sudact.ru/regular/doc/XY8cS6vjuzY0/?regular-txt=%D0%BC%D0%B5%D0%B4%D0%B8%D1%86%D0%B8%D0%BD%D1%81%D0%BA%D0%B0%D1%8F+%D1%85%D0%B0%D0%BB%D0%B0%D1%82%D0%BD%D0%BE%D1%81%D1%82%D1%8C&regular-case_doc=&regular-lawchunkinfo=%D0%A1%D1%82%D0%B0%D1%82%D1%8C%D1%8F+151.+%D0%9A%D0%BE%D0%BC%D0%BF%D0%B5%D0%BD%D1%81%D0%B0%D1%86%D0%B8%D1%8F+%D0%BC%D0%BE%D1%80%D0%B0%D0%BB%D1%8C%D0%BD%D0%BE%D0%B3%D0%BE+%D0%B2%D1%80%D0%B5%D0%B4%D0%B0%28%D0%93%D0%9A+%D0%A0%D0%A4%29&regular-date_from=01.02.2018&regular-date_to=30.06.2018&regular-workflow_stage=10&regular-area=&regular-court=&regular-judge=&_=1583353070112&snippet_pos=420' with link or location/anchor > 255 characters since it exceeds Excel's limit for URLS\n",
      "  force_unicode(url))\n",
      "/home/politlen/anaconda3/lib/python3.7/site-packages/xlsxwriter/worksheet.py:931: UserWarning: Ignoring URL 'https://sudact.ru/regular/doc/EGEzGSac8P1X/?regular-txt=%D0%BC%D0%B5%D0%B4%D0%B8%D1%86%D0%B8%D0%BD%D1%81%D0%BA%D0%B0%D1%8F+%D1%85%D0%B0%D0%BB%D0%B0%D1%82%D0%BD%D0%BE%D1%81%D1%82%D1%8C&regular-case_doc=&regular-lawchunkinfo=%D0%A1%D1%82%D0%B0%D1%82%D1%8C%D1%8F+151.+%D0%9A%D0%BE%D0%BC%D0%BF%D0%B5%D0%BD%D1%81%D0%B0%D1%86%D0%B8%D1%8F+%D0%BC%D0%BE%D1%80%D0%B0%D0%BB%D1%8C%D0%BD%D0%BE%D0%B3%D0%BE+%D0%B2%D1%80%D0%B5%D0%B4%D0%B0%28%D0%93%D0%9A+%D0%A0%D0%A4%29&regular-date_from=01.02.2018&regular-date_to=30.06.2018&regular-workflow_stage=10&regular-area=&regular-court=&regular-judge=&_=1583353070112&snippet_pos=2034' with link or location/anchor > 255 characters since it exceeds Excel's limit for URLS\n",
      "  force_unicode(url))\n",
      "/home/politlen/anaconda3/lib/python3.7/site-packages/xlsxwriter/worksheet.py:931: UserWarning: Ignoring URL 'https://sudact.ru/regular/doc/QDsjpym9mlgX/?regular-txt=%D0%BC%D0%B5%D0%B4%D0%B8%D1%86%D0%B8%D0%BD%D1%81%D0%BA%D0%B0%D1%8F+%D1%85%D0%B0%D0%BB%D0%B0%D1%82%D0%BD%D0%BE%D1%81%D1%82%D1%8C&regular-case_doc=&regular-lawchunkinfo=%D0%A1%D1%82%D0%B0%D1%82%D1%8C%D1%8F+151.+%D0%9A%D0%BE%D0%BC%D0%BF%D0%B5%D0%BD%D1%81%D0%B0%D1%86%D0%B8%D1%8F+%D0%BC%D0%BE%D1%80%D0%B0%D0%BB%D1%8C%D0%BD%D0%BE%D0%B3%D0%BE+%D0%B2%D1%80%D0%B5%D0%B4%D0%B0%28%D0%93%D0%9A+%D0%A0%D0%A4%29&regular-date_from=01.02.2018&regular-date_to=30.06.2018&regular-workflow_stage=10&regular-area=&regular-court=&regular-judge=&_=1583353070112&snippet_pos=3318' with link or location/anchor > 255 characters since it exceeds Excel's limit for URLS\n",
      "  force_unicode(url))\n",
      "/home/politlen/anaconda3/lib/python3.7/site-packages/xlsxwriter/worksheet.py:931: UserWarning: Ignoring URL 'https://sudact.ru/regular/doc/OQXJqwMEDvHg/?regular-txt=%D0%BC%D0%B5%D0%B4%D0%B8%D1%86%D0%B8%D0%BD%D1%81%D0%BA%D0%B0%D1%8F+%D1%85%D0%B0%D0%BB%D0%B0%D1%82%D0%BD%D0%BE%D1%81%D1%82%D1%8C&regular-case_doc=&regular-lawchunkinfo=%D0%A1%D1%82%D0%B0%D1%82%D1%8C%D1%8F+151.+%D0%9A%D0%BE%D0%BC%D0%BF%D0%B5%D0%BD%D1%81%D0%B0%D1%86%D0%B8%D1%8F+%D0%BC%D0%BE%D1%80%D0%B0%D0%BB%D1%8C%D0%BD%D0%BE%D0%B3%D0%BE+%D0%B2%D1%80%D0%B5%D0%B4%D0%B0%28%D0%93%D0%9A+%D0%A0%D0%A4%29&regular-date_from=01.02.2018&regular-date_to=30.06.2018&regular-workflow_stage=10&regular-area=&regular-court=&regular-judge=&_=1583353070112&snippet_pos=938' with link or location/anchor > 255 characters since it exceeds Excel's limit for URLS\n",
      "  force_unicode(url))\n",
      "/home/politlen/anaconda3/lib/python3.7/site-packages/xlsxwriter/worksheet.py:931: UserWarning: Ignoring URL 'https://sudact.ru/regular/doc/PAykUVpoo4ZY/?regular-txt=%D0%BC%D0%B5%D0%B4%D0%B8%D1%86%D0%B8%D0%BD%D1%81%D0%BA%D0%B0%D1%8F+%D1%85%D0%B0%D0%BB%D0%B0%D1%82%D0%BD%D0%BE%D1%81%D1%82%D1%8C&regular-case_doc=&regular-lawchunkinfo=%D0%A1%D1%82%D0%B0%D1%82%D1%8C%D1%8F+151.+%D0%9A%D0%BE%D0%BC%D0%BF%D0%B5%D0%BD%D1%81%D0%B0%D1%86%D0%B8%D1%8F+%D0%BC%D0%BE%D1%80%D0%B0%D0%BB%D1%8C%D0%BD%D0%BE%D0%B3%D0%BE+%D0%B2%D1%80%D0%B5%D0%B4%D0%B0%28%D0%93%D0%9A+%D0%A0%D0%A4%29&regular-date_from=01.02.2018&regular-date_to=30.06.2018&regular-workflow_stage=10&regular-area=&regular-court=&regular-judge=&_=1583353070112&snippet_pos=2624' with link or location/anchor > 255 characters since it exceeds Excel's limit for URLS\n",
      "  force_unicode(url))\n",
      "/home/politlen/anaconda3/lib/python3.7/site-packages/xlsxwriter/worksheet.py:931: UserWarning: Ignoring URL 'https://sudact.ru/regular/doc/jXFZcxCyqNWX/?regular-txt=%D0%BC%D0%B5%D0%B4%D0%B8%D1%86%D0%B8%D0%BD%D1%81%D0%BA%D0%B0%D1%8F+%D1%85%D0%B0%D0%BB%D0%B0%D1%82%D0%BD%D0%BE%D1%81%D1%82%D1%8C&regular-case_doc=&regular-lawchunkinfo=%D0%A1%D1%82%D0%B0%D1%82%D1%8C%D1%8F+151.+%D0%9A%D0%BE%D0%BC%D0%BF%D0%B5%D0%BD%D1%81%D0%B0%D1%86%D0%B8%D1%8F+%D0%BC%D0%BE%D1%80%D0%B0%D0%BB%D1%8C%D0%BD%D0%BE%D0%B3%D0%BE+%D0%B2%D1%80%D0%B5%D0%B4%D0%B0%28%D0%93%D0%9A+%D0%A0%D0%A4%29&regular-date_from=01.02.2018&regular-date_to=30.06.2018&regular-workflow_stage=10&regular-area=&regular-court=&regular-judge=&_=1583353070112&snippet_pos=616' with link or location/anchor > 255 characters since it exceeds Excel's limit for URLS\n",
      "  force_unicode(url))\n",
      "/home/politlen/anaconda3/lib/python3.7/site-packages/xlsxwriter/worksheet.py:931: UserWarning: Ignoring URL 'https://sudact.ru/regular/doc/ARPUIwS9upJw/?regular-txt=%D0%BC%D0%B5%D0%B4%D0%B8%D1%86%D0%B8%D0%BD%D1%81%D0%BA%D0%B0%D1%8F+%D1%85%D0%B0%D0%BB%D0%B0%D1%82%D0%BD%D0%BE%D1%81%D1%82%D1%8C&regular-case_doc=&regular-lawchunkinfo=%D0%A1%D1%82%D0%B0%D1%82%D1%8C%D1%8F+151.+%D0%9A%D0%BE%D0%BC%D0%BF%D0%B5%D0%BD%D1%81%D0%B0%D1%86%D0%B8%D1%8F+%D0%BC%D0%BE%D1%80%D0%B0%D0%BB%D1%8C%D0%BD%D0%BE%D0%B3%D0%BE+%D0%B2%D1%80%D0%B5%D0%B4%D0%B0%28%D0%93%D0%9A+%D0%A0%D0%A4%29&regular-date_from=01.02.2018&regular-date_to=30.06.2018&regular-workflow_stage=10&regular-area=&regular-court=&regular-judge=&_=1583353070112&snippet_pos=764' with link or location/anchor > 255 characters since it exceeds Excel's limit for URLS\n",
      "  force_unicode(url))\n",
      "/home/politlen/anaconda3/lib/python3.7/site-packages/xlsxwriter/worksheet.py:931: UserWarning: Ignoring URL 'https://sudact.ru/regular/doc/furz7SLamcom/?regular-txt=%D0%BC%D0%B5%D0%B4%D0%B8%D1%86%D0%B8%D0%BD%D1%81%D0%BA%D0%B0%D1%8F+%D1%85%D0%B0%D0%BB%D0%B0%D1%82%D0%BD%D0%BE%D1%81%D1%82%D1%8C&regular-case_doc=&regular-lawchunkinfo=%D0%A1%D1%82%D0%B0%D1%82%D1%8C%D1%8F+151.+%D0%9A%D0%BE%D0%BC%D0%BF%D0%B5%D0%BD%D1%81%D0%B0%D1%86%D0%B8%D1%8F+%D0%BC%D0%BE%D1%80%D0%B0%D0%BB%D1%8C%D0%BD%D0%BE%D0%B3%D0%BE+%D0%B2%D1%80%D0%B5%D0%B4%D0%B0%28%D0%93%D0%9A+%D0%A0%D0%A4%29&regular-date_from=01.02.2018&regular-date_to=30.06.2018&regular-workflow_stage=10&regular-area=&regular-court=&regular-judge=&_=1583353070112&snippet_pos=386' with link or location/anchor > 255 characters since it exceeds Excel's limit for URLS\n",
      "  force_unicode(url))\n",
      "/home/politlen/anaconda3/lib/python3.7/site-packages/xlsxwriter/worksheet.py:931: UserWarning: Ignoring URL 'https://sudact.ru/regular/doc/HSYqFirzRhHA/?regular-txt=%D0%BC%D0%B5%D0%B4%D0%B8%D1%86%D0%B8%D0%BD%D1%81%D0%BA%D0%B0%D1%8F+%D1%85%D0%B0%D0%BB%D0%B0%D1%82%D0%BD%D0%BE%D1%81%D1%82%D1%8C&regular-case_doc=&regular-lawchunkinfo=%D0%A1%D1%82%D0%B0%D1%82%D1%8C%D1%8F+151.+%D0%9A%D0%BE%D0%BC%D0%BF%D0%B5%D0%BD%D1%81%D0%B0%D1%86%D0%B8%D1%8F+%D0%BC%D0%BE%D1%80%D0%B0%D0%BB%D1%8C%D0%BD%D0%BE%D0%B3%D0%BE+%D0%B2%D1%80%D0%B5%D0%B4%D0%B0%28%D0%93%D0%9A+%D0%A0%D0%A4%29&regular-date_from=01.02.2018&regular-date_to=30.06.2018&regular-workflow_stage=10&regular-area=&regular-court=&regular-judge=&_=1583353070112&snippet_pos=5602' with link or location/anchor > 255 characters since it exceeds Excel's limit for URLS\n",
      "  force_unicode(url))\n",
      "/home/politlen/anaconda3/lib/python3.7/site-packages/xlsxwriter/worksheet.py:931: UserWarning: Ignoring URL 'https://sudact.ru/regular/doc/ifv4og7nSRV1/?regular-txt=%D0%BC%D0%B5%D0%B4%D0%B8%D1%86%D0%B8%D0%BD%D1%81%D0%BA%D0%B0%D1%8F+%D1%85%D0%B0%D0%BB%D0%B0%D1%82%D0%BD%D0%BE%D1%81%D1%82%D1%8C&regular-case_doc=&regular-lawchunkinfo=%D0%A1%D1%82%D0%B0%D1%82%D1%8C%D1%8F+151.+%D0%9A%D0%BE%D0%BC%D0%BF%D0%B5%D0%BD%D1%81%D0%B0%D1%86%D0%B8%D1%8F+%D0%BC%D0%BE%D1%80%D0%B0%D0%BB%D1%8C%D0%BD%D0%BE%D0%B3%D0%BE+%D0%B2%D1%80%D0%B5%D0%B4%D0%B0%28%D0%93%D0%9A+%D0%A0%D0%A4%29&regular-date_from=01.02.2018&regular-date_to=30.06.2018&regular-workflow_stage=10&regular-area=&regular-court=&regular-judge=&_=1583353070112&snippet_pos=416' with link or location/anchor > 255 characters since it exceeds Excel's limit for URLS\n",
      "  force_unicode(url))\n",
      "/home/politlen/anaconda3/lib/python3.7/site-packages/xlsxwriter/worksheet.py:931: UserWarning: Ignoring URL 'https://sudact.ru/regular/doc/Cez1Uzd29l1K/?page=2&regular-court=&regular-date_from=01.02.2018&regular-case_doc=&regular-lawchunkinfo=%D0%A1%D1%82%D0%B0%D1%82%D1%8C%D1%8F+151.+%D0%9A%D0%BE%D0%BC%D0%BF%D0%B5%D0%BD%D1%81%D0%B0%D1%86%D0%B8%D1%8F+%D0%BC%D0%BE%D1%80%D0%B0%D0%BB%D1%8C%D0%BD%D0%BE%D0%B3%D0%BE+%D0%B2%D1%80%D0%B5%D0%B4%D0%B0%28%D0%93%D0%9A+%D0%A0%D0%A4%29&regular-workflow_stage=10&regular-date_to=30.06.2018&regular-area=&regular-txt=%D0%BC%D0%B5%D0%B4%D0%B8%D1%86%D0%B8%D0%BD%D1%81%D0%BA%D0%B0%D1%8F+%D1%85%D0%B0%D0%BB%D0%B0%D1%82%D0%BD%D0%BE%D1%81%D1%82%D1%8C&_=1583353288372&regular-judge=&snippet_pos=450' with link or location/anchor > 255 characters since it exceeds Excel's limit for URLS\n",
      "  force_unicode(url))\n",
      "/home/politlen/anaconda3/lib/python3.7/site-packages/xlsxwriter/worksheet.py:931: UserWarning: Ignoring URL 'https://sudact.ru/regular/doc/dBhTogmFvzxn/?page=2&regular-court=&regular-date_from=01.02.2018&regular-case_doc=&regular-lawchunkinfo=%D0%A1%D1%82%D0%B0%D1%82%D1%8C%D1%8F+151.+%D0%9A%D0%BE%D0%BC%D0%BF%D0%B5%D0%BD%D1%81%D0%B0%D1%86%D0%B8%D1%8F+%D0%BC%D0%BE%D1%80%D0%B0%D0%BB%D1%8C%D0%BD%D0%BE%D0%B3%D0%BE+%D0%B2%D1%80%D0%B5%D0%B4%D0%B0%28%D0%93%D0%9A+%D0%A0%D0%A4%29&regular-workflow_stage=10&regular-date_to=30.06.2018&regular-area=&regular-txt=%D0%BC%D0%B5%D0%B4%D0%B8%D1%86%D0%B8%D0%BD%D1%81%D0%BA%D0%B0%D1%8F+%D1%85%D0%B0%D0%BB%D0%B0%D1%82%D0%BD%D0%BE%D1%81%D1%82%D1%8C&_=1583353288372&regular-judge=&snippet_pos=274' with link or location/anchor > 255 characters since it exceeds Excel's limit for URLS\n",
      "  force_unicode(url))\n",
      "/home/politlen/anaconda3/lib/python3.7/site-packages/xlsxwriter/worksheet.py:931: UserWarning: Ignoring URL 'https://sudact.ru/regular/doc/pugsSiJwVGxj/?page=2&regular-court=&regular-date_from=01.02.2018&regular-case_doc=&regular-lawchunkinfo=%D0%A1%D1%82%D0%B0%D1%82%D1%8C%D1%8F+151.+%D0%9A%D0%BE%D0%BC%D0%BF%D0%B5%D0%BD%D1%81%D0%B0%D1%86%D0%B8%D1%8F+%D0%BC%D0%BE%D1%80%D0%B0%D0%BB%D1%8C%D0%BD%D0%BE%D0%B3%D0%BE+%D0%B2%D1%80%D0%B5%D0%B4%D0%B0%28%D0%93%D0%9A+%D0%A0%D0%A4%29&regular-workflow_stage=10&regular-date_to=30.06.2018&regular-area=&regular-txt=%D0%BC%D0%B5%D0%B4%D0%B8%D1%86%D0%B8%D0%BD%D1%81%D0%BA%D0%B0%D1%8F+%D1%85%D0%B0%D0%BB%D0%B0%D1%82%D0%BD%D0%BE%D1%81%D1%82%D1%8C&_=1583353288372&regular-judge=&snippet_pos=2380' with link or location/anchor > 255 characters since it exceeds Excel's limit for URLS\n",
      "  force_unicode(url))\n",
      "/home/politlen/anaconda3/lib/python3.7/site-packages/xlsxwriter/worksheet.py:931: UserWarning: Ignoring URL 'https://sudact.ru/regular/doc/mwkmuBj4gvlv/?page=2&regular-court=&regular-date_from=01.02.2018&regular-case_doc=&regular-lawchunkinfo=%D0%A1%D1%82%D0%B0%D1%82%D1%8C%D1%8F+151.+%D0%9A%D0%BE%D0%BC%D0%BF%D0%B5%D0%BD%D1%81%D0%B0%D1%86%D0%B8%D1%8F+%D0%BC%D0%BE%D1%80%D0%B0%D0%BB%D1%8C%D0%BD%D0%BE%D0%B3%D0%BE+%D0%B2%D1%80%D0%B5%D0%B4%D0%B0%28%D0%93%D0%9A+%D0%A0%D0%A4%29&regular-workflow_stage=10&regular-date_to=30.06.2018&regular-area=&regular-txt=%D0%BC%D0%B5%D0%B4%D0%B8%D1%86%D0%B8%D0%BD%D1%81%D0%BA%D0%B0%D1%8F+%D1%85%D0%B0%D0%BB%D0%B0%D1%82%D0%BD%D0%BE%D1%81%D1%82%D1%8C&_=1583353288372&regular-judge=&snippet_pos=5072' with link or location/anchor > 255 characters since it exceeds Excel's limit for URLS\n",
      "  force_unicode(url))\n",
      "/home/politlen/anaconda3/lib/python3.7/site-packages/xlsxwriter/worksheet.py:931: UserWarning: Ignoring URL 'https://sudact.ru/regular/doc/bXJEcKiA5kmd/?page=2&regular-court=&regular-date_from=01.02.2018&regular-case_doc=&regular-lawchunkinfo=%D0%A1%D1%82%D0%B0%D1%82%D1%8C%D1%8F+151.+%D0%9A%D0%BE%D0%BC%D0%BF%D0%B5%D0%BD%D1%81%D0%B0%D1%86%D0%B8%D1%8F+%D0%BC%D0%BE%D1%80%D0%B0%D0%BB%D1%8C%D0%BD%D0%BE%D0%B3%D0%BE+%D0%B2%D1%80%D0%B5%D0%B4%D0%B0%28%D0%93%D0%9A+%D0%A0%D0%A4%29&regular-workflow_stage=10&regular-date_to=30.06.2018&regular-area=&regular-txt=%D0%BC%D0%B5%D0%B4%D0%B8%D1%86%D0%B8%D0%BD%D1%81%D0%BA%D0%B0%D1%8F+%D1%85%D0%B0%D0%BB%D0%B0%D1%82%D0%BD%D0%BE%D1%81%D1%82%D1%8C&_=1583353288372&regular-judge=&snippet_pos=2734' with link or location/anchor > 255 characters since it exceeds Excel's limit for URLS\n",
      "  force_unicode(url))\n",
      "/home/politlen/anaconda3/lib/python3.7/site-packages/xlsxwriter/worksheet.py:931: UserWarning: Ignoring URL 'https://sudact.ru/regular/doc/3Jlln4LotwYR/?page=2&regular-court=&regular-date_from=01.02.2018&regular-case_doc=&regular-lawchunkinfo=%D0%A1%D1%82%D0%B0%D1%82%D1%8C%D1%8F+151.+%D0%9A%D0%BE%D0%BC%D0%BF%D0%B5%D0%BD%D1%81%D0%B0%D1%86%D0%B8%D1%8F+%D0%BC%D0%BE%D1%80%D0%B0%D0%BB%D1%8C%D0%BD%D0%BE%D0%B3%D0%BE+%D0%B2%D1%80%D0%B5%D0%B4%D0%B0%28%D0%93%D0%9A+%D0%A0%D0%A4%29&regular-workflow_stage=10&regular-date_to=30.06.2018&regular-area=&regular-txt=%D0%BC%D0%B5%D0%B4%D0%B8%D1%86%D0%B8%D0%BD%D1%81%D0%BA%D0%B0%D1%8F+%D1%85%D0%B0%D0%BB%D0%B0%D1%82%D0%BD%D0%BE%D1%81%D1%82%D1%8C&_=1583353288372&regular-judge=&snippet_pos=2178' with link or location/anchor > 255 characters since it exceeds Excel's limit for URLS\n",
      "  force_unicode(url))\n",
      "/home/politlen/anaconda3/lib/python3.7/site-packages/xlsxwriter/worksheet.py:931: UserWarning: Ignoring URL 'https://sudact.ru/regular/doc/y9kQ4wrrKnVT/?page=2&regular-court=&regular-date_from=01.02.2018&regular-case_doc=&regular-lawchunkinfo=%D0%A1%D1%82%D0%B0%D1%82%D1%8C%D1%8F+151.+%D0%9A%D0%BE%D0%BC%D0%BF%D0%B5%D0%BD%D1%81%D0%B0%D1%86%D0%B8%D1%8F+%D0%BC%D0%BE%D1%80%D0%B0%D0%BB%D1%8C%D0%BD%D0%BE%D0%B3%D0%BE+%D0%B2%D1%80%D0%B5%D0%B4%D0%B0%28%D0%93%D0%9A+%D0%A0%D0%A4%29&regular-workflow_stage=10&regular-date_to=30.06.2018&regular-area=&regular-txt=%D0%BC%D0%B5%D0%B4%D0%B8%D1%86%D0%B8%D0%BD%D1%81%D0%BA%D0%B0%D1%8F+%D1%85%D0%B0%D0%BB%D0%B0%D1%82%D0%BD%D0%BE%D1%81%D1%82%D1%8C&_=1583353288372&regular-judge=&snippet_pos=202' with link or location/anchor > 255 characters since it exceeds Excel's limit for URLS\n",
      "  force_unicode(url))\n",
      "/home/politlen/anaconda3/lib/python3.7/site-packages/xlsxwriter/worksheet.py:931: UserWarning: Ignoring URL 'https://sudact.ru/regular/doc/gijLnxbLJjYE/?page=2&regular-court=&regular-date_from=01.02.2018&regular-case_doc=&regular-lawchunkinfo=%D0%A1%D1%82%D0%B0%D1%82%D1%8C%D1%8F+151.+%D0%9A%D0%BE%D0%BC%D0%BF%D0%B5%D0%BD%D1%81%D0%B0%D1%86%D0%B8%D1%8F+%D0%BC%D0%BE%D1%80%D0%B0%D0%BB%D1%8C%D0%BD%D0%BE%D0%B3%D0%BE+%D0%B2%D1%80%D0%B5%D0%B4%D0%B0%28%D0%93%D0%9A+%D0%A0%D0%A4%29&regular-workflow_stage=10&regular-date_to=30.06.2018&regular-area=&regular-txt=%D0%BC%D0%B5%D0%B4%D0%B8%D1%86%D0%B8%D0%BD%D1%81%D0%BA%D0%B0%D1%8F+%D1%85%D0%B0%D0%BB%D0%B0%D1%82%D0%BD%D0%BE%D1%81%D1%82%D1%8C&_=1583353288372&regular-judge=&snippet_pos=4408' with link or location/anchor > 255 characters since it exceeds Excel's limit for URLS\n",
      "  force_unicode(url))\n",
      "/home/politlen/anaconda3/lib/python3.7/site-packages/xlsxwriter/worksheet.py:931: UserWarning: Ignoring URL 'https://sudact.ru/regular/doc/fr2KLZwVx551/?page=2&regular-court=&regular-date_from=01.02.2018&regular-case_doc=&regular-lawchunkinfo=%D0%A1%D1%82%D0%B0%D1%82%D1%8C%D1%8F+151.+%D0%9A%D0%BE%D0%BC%D0%BF%D0%B5%D0%BD%D1%81%D0%B0%D1%86%D0%B8%D1%8F+%D0%BC%D0%BE%D1%80%D0%B0%D0%BB%D1%8C%D0%BD%D0%BE%D0%B3%D0%BE+%D0%B2%D1%80%D0%B5%D0%B4%D0%B0%28%D0%93%D0%9A+%D0%A0%D0%A4%29&regular-workflow_stage=10&regular-date_to=30.06.2018&regular-area=&regular-txt=%D0%BC%D0%B5%D0%B4%D0%B8%D1%86%D0%B8%D0%BD%D1%81%D0%BA%D0%B0%D1%8F+%D1%85%D0%B0%D0%BB%D0%B0%D1%82%D0%BD%D0%BE%D1%81%D1%82%D1%8C&_=1583353288372&regular-judge=&snippet_pos=530' with link or location/anchor > 255 characters since it exceeds Excel's limit for URLS\n",
      "  force_unicode(url))\n",
      "/home/politlen/anaconda3/lib/python3.7/site-packages/xlsxwriter/worksheet.py:931: UserWarning: Ignoring URL 'https://sudact.ru/regular/doc/nFGQq2zQxkmu/?page=2&regular-court=&regular-date_from=01.02.2018&regular-case_doc=&regular-lawchunkinfo=%D0%A1%D1%82%D0%B0%D1%82%D1%8C%D1%8F+151.+%D0%9A%D0%BE%D0%BC%D0%BF%D0%B5%D0%BD%D1%81%D0%B0%D1%86%D0%B8%D1%8F+%D0%BC%D0%BE%D1%80%D0%B0%D0%BB%D1%8C%D0%BD%D0%BE%D0%B3%D0%BE+%D0%B2%D1%80%D0%B5%D0%B4%D0%B0%28%D0%93%D0%9A+%D0%A0%D0%A4%29&regular-workflow_stage=10&regular-date_to=30.06.2018&regular-area=&regular-txt=%D0%BC%D0%B5%D0%B4%D0%B8%D1%86%D0%B8%D0%BD%D1%81%D0%BA%D0%B0%D1%8F+%D1%85%D0%B0%D0%BB%D0%B0%D1%82%D0%BD%D0%BE%D1%81%D1%82%D1%8C&_=1583353288372&regular-judge=&snippet_pos=4094' with link or location/anchor > 255 characters since it exceeds Excel's limit for URLS\n",
      "  force_unicode(url))\n",
      "/home/politlen/anaconda3/lib/python3.7/site-packages/xlsxwriter/worksheet.py:931: UserWarning: Ignoring URL 'https://sudact.ru/regular/doc/5ZuwwCAUdmUu/?page=3&regular-court=&regular-date_from=01.02.2018&regular-case_doc=&regular-lawchunkinfo=%D0%A1%D1%82%D0%B0%D1%82%D1%8C%D1%8F+151.+%D0%9A%D0%BE%D0%BC%D0%BF%D0%B5%D0%BD%D1%81%D0%B0%D1%86%D0%B8%D1%8F+%D0%BC%D0%BE%D1%80%D0%B0%D0%BB%D1%8C%D0%BD%D0%BE%D0%B3%D0%BE+%D0%B2%D1%80%D0%B5%D0%B4%D0%B0%28%D0%93%D0%9A+%D0%A0%D0%A4%29&regular-workflow_stage=10&regular-date_to=30.06.2018&regular-area=&regular-txt=%D0%BC%D0%B5%D0%B4%D0%B8%D1%86%D0%B8%D0%BD%D1%81%D0%BA%D0%B0%D1%8F+%D1%85%D0%B0%D0%BB%D0%B0%D1%82%D0%BD%D0%BE%D1%81%D1%82%D1%8C&_=1583353292160&regular-judge=&snippet_pos=2272' with link or location/anchor > 255 characters since it exceeds Excel's limit for URLS\n",
      "  force_unicode(url))\n",
      "/home/politlen/anaconda3/lib/python3.7/site-packages/xlsxwriter/worksheet.py:931: UserWarning: Ignoring URL 'https://sudact.ru/regular/doc/twgifgqWvCUZ/?page=3&regular-court=&regular-date_from=01.02.2018&regular-case_doc=&regular-lawchunkinfo=%D0%A1%D1%82%D0%B0%D1%82%D1%8C%D1%8F+151.+%D0%9A%D0%BE%D0%BC%D0%BF%D0%B5%D0%BD%D1%81%D0%B0%D1%86%D0%B8%D1%8F+%D0%BC%D0%BE%D1%80%D0%B0%D0%BB%D1%8C%D0%BD%D0%BE%D0%B3%D0%BE+%D0%B2%D1%80%D0%B5%D0%B4%D0%B0%28%D0%93%D0%9A+%D0%A0%D0%A4%29&regular-workflow_stage=10&regular-date_to=30.06.2018&regular-area=&regular-txt=%D0%BC%D0%B5%D0%B4%D0%B8%D1%86%D0%B8%D0%BD%D1%81%D0%BA%D0%B0%D1%8F+%D1%85%D0%B0%D0%BB%D0%B0%D1%82%D0%BD%D0%BE%D1%81%D1%82%D1%8C&_=1583353292160&regular-judge=&snippet_pos=2148' with link or location/anchor > 255 characters since it exceeds Excel's limit for URLS\n",
      "  force_unicode(url))\n",
      "/home/politlen/anaconda3/lib/python3.7/site-packages/xlsxwriter/worksheet.py:931: UserWarning: Ignoring URL 'https://sudact.ru/regular/doc/2rLVCvN4A5Lx/?page=3&regular-court=&regular-date_from=01.02.2018&regular-case_doc=&regular-lawchunkinfo=%D0%A1%D1%82%D0%B0%D1%82%D1%8C%D1%8F+151.+%D0%9A%D0%BE%D0%BC%D0%BF%D0%B5%D0%BD%D1%81%D0%B0%D1%86%D0%B8%D1%8F+%D0%BC%D0%BE%D1%80%D0%B0%D0%BB%D1%8C%D0%BD%D0%BE%D0%B3%D0%BE+%D0%B2%D1%80%D0%B5%D0%B4%D0%B0%28%D0%93%D0%9A+%D0%A0%D0%A4%29&regular-workflow_stage=10&regular-date_to=30.06.2018&regular-area=&regular-txt=%D0%BC%D0%B5%D0%B4%D0%B8%D1%86%D0%B8%D0%BD%D1%81%D0%BA%D0%B0%D1%8F+%D1%85%D0%B0%D0%BB%D0%B0%D1%82%D0%BD%D0%BE%D1%81%D1%82%D1%8C&_=1583353292160&regular-judge=&snippet_pos=540' with link or location/anchor > 255 characters since it exceeds Excel's limit for URLS\n",
      "  force_unicode(url))\n",
      "/home/politlen/anaconda3/lib/python3.7/site-packages/xlsxwriter/worksheet.py:931: UserWarning: Ignoring URL 'https://sudact.ru/regular/doc/10Txlx9SiTm6/?page=3&regular-court=&regular-date_from=01.02.2018&regular-case_doc=&regular-lawchunkinfo=%D0%A1%D1%82%D0%B0%D1%82%D1%8C%D1%8F+151.+%D0%9A%D0%BE%D0%BC%D0%BF%D0%B5%D0%BD%D1%81%D0%B0%D1%86%D0%B8%D1%8F+%D0%BC%D0%BE%D1%80%D0%B0%D0%BB%D1%8C%D0%BD%D0%BE%D0%B3%D0%BE+%D0%B2%D1%80%D0%B5%D0%B4%D0%B0%28%D0%93%D0%9A+%D0%A0%D0%A4%29&regular-workflow_stage=10&regular-date_to=30.06.2018&regular-area=&regular-txt=%D0%BC%D0%B5%D0%B4%D0%B8%D1%86%D0%B8%D0%BD%D1%81%D0%BA%D0%B0%D1%8F+%D1%85%D0%B0%D0%BB%D0%B0%D1%82%D0%BD%D0%BE%D1%81%D1%82%D1%8C&_=1583353292160&regular-judge=&snippet_pos=544' with link or location/anchor > 255 characters since it exceeds Excel's limit for URLS\n",
      "  force_unicode(url))\n",
      "/home/politlen/anaconda3/lib/python3.7/site-packages/xlsxwriter/worksheet.py:931: UserWarning: Ignoring URL 'https://sudact.ru/regular/doc/JuNLaRCz3R1R/?page=3&regular-court=&regular-date_from=01.02.2018&regular-case_doc=&regular-lawchunkinfo=%D0%A1%D1%82%D0%B0%D1%82%D1%8C%D1%8F+151.+%D0%9A%D0%BE%D0%BC%D0%BF%D0%B5%D0%BD%D1%81%D0%B0%D1%86%D0%B8%D1%8F+%D0%BC%D0%BE%D1%80%D0%B0%D0%BB%D1%8C%D0%BD%D0%BE%D0%B3%D0%BE+%D0%B2%D1%80%D0%B5%D0%B4%D0%B0%28%D0%93%D0%9A+%D0%A0%D0%A4%29&regular-workflow_stage=10&regular-date_to=30.06.2018&regular-area=&regular-txt=%D0%BC%D0%B5%D0%B4%D0%B8%D1%86%D0%B8%D0%BD%D1%81%D0%BA%D0%B0%D1%8F+%D1%85%D0%B0%D0%BB%D0%B0%D1%82%D0%BD%D0%BE%D1%81%D1%82%D1%8C&_=1583353292160&regular-judge=&snippet_pos=390' with link or location/anchor > 255 characters since it exceeds Excel's limit for URLS\n",
      "  force_unicode(url))\n",
      "/home/politlen/anaconda3/lib/python3.7/site-packages/xlsxwriter/worksheet.py:931: UserWarning: Ignoring URL 'https://sudact.ru/regular/doc/EIlmuMmXnzQt/?page=3&regular-court=&regular-date_from=01.02.2018&regular-case_doc=&regular-lawchunkinfo=%D0%A1%D1%82%D0%B0%D1%82%D1%8C%D1%8F+151.+%D0%9A%D0%BE%D0%BC%D0%BF%D0%B5%D0%BD%D1%81%D0%B0%D1%86%D0%B8%D1%8F+%D0%BC%D0%BE%D1%80%D0%B0%D0%BB%D1%8C%D0%BD%D0%BE%D0%B3%D0%BE+%D0%B2%D1%80%D0%B5%D0%B4%D0%B0%28%D0%93%D0%9A+%D0%A0%D0%A4%29&regular-workflow_stage=10&regular-date_to=30.06.2018&regular-area=&regular-txt=%D0%BC%D0%B5%D0%B4%D0%B8%D1%86%D0%B8%D0%BD%D1%81%D0%BA%D0%B0%D1%8F+%D1%85%D0%B0%D0%BB%D0%B0%D1%82%D0%BD%D0%BE%D1%81%D1%82%D1%8C&_=1583353292160&regular-judge=&snippet_pos=186' with link or location/anchor > 255 characters since it exceeds Excel's limit for URLS\n",
      "  force_unicode(url))\n",
      "/home/politlen/anaconda3/lib/python3.7/site-packages/xlsxwriter/worksheet.py:931: UserWarning: Ignoring URL 'https://sudact.ru/regular/doc/mTSPH4ttMVgn/?page=3&regular-court=&regular-date_from=01.02.2018&regular-case_doc=&regular-lawchunkinfo=%D0%A1%D1%82%D0%B0%D1%82%D1%8C%D1%8F+151.+%D0%9A%D0%BE%D0%BC%D0%BF%D0%B5%D0%BD%D1%81%D0%B0%D1%86%D0%B8%D1%8F+%D0%BC%D0%BE%D1%80%D0%B0%D0%BB%D1%8C%D0%BD%D0%BE%D0%B3%D0%BE+%D0%B2%D1%80%D0%B5%D0%B4%D0%B0%28%D0%93%D0%9A+%D0%A0%D0%A4%29&regular-workflow_stage=10&regular-date_to=30.06.2018&regular-area=&regular-txt=%D0%BC%D0%B5%D0%B4%D0%B8%D1%86%D0%B8%D0%BD%D1%81%D0%BA%D0%B0%D1%8F+%D1%85%D0%B0%D0%BB%D0%B0%D1%82%D0%BD%D0%BE%D1%81%D1%82%D1%8C&_=1583353292160&regular-judge=&snippet_pos=1534' with link or location/anchor > 255 characters since it exceeds Excel's limit for URLS\n",
      "  force_unicode(url))\n",
      "/home/politlen/anaconda3/lib/python3.7/site-packages/xlsxwriter/worksheet.py:931: UserWarning: Ignoring URL 'https://sudact.ru/regular/doc/KJTlUO484poo/?page=3&regular-court=&regular-date_from=01.02.2018&regular-case_doc=&regular-lawchunkinfo=%D0%A1%D1%82%D0%B0%D1%82%D1%8C%D1%8F+151.+%D0%9A%D0%BE%D0%BC%D0%BF%D0%B5%D0%BD%D1%81%D0%B0%D1%86%D0%B8%D1%8F+%D0%BC%D0%BE%D1%80%D0%B0%D0%BB%D1%8C%D0%BD%D0%BE%D0%B3%D0%BE+%D0%B2%D1%80%D0%B5%D0%B4%D0%B0%28%D0%93%D0%9A+%D0%A0%D0%A4%29&regular-workflow_stage=10&regular-date_to=30.06.2018&regular-area=&regular-txt=%D0%BC%D0%B5%D0%B4%D0%B8%D1%86%D0%B8%D0%BD%D1%81%D0%BA%D0%B0%D1%8F+%D1%85%D0%B0%D0%BB%D0%B0%D1%82%D0%BD%D0%BE%D1%81%D1%82%D1%8C&_=1583353292160&regular-judge=&snippet_pos=550' with link or location/anchor > 255 characters since it exceeds Excel's limit for URLS\n",
      "  force_unicode(url))\n",
      "/home/politlen/anaconda3/lib/python3.7/site-packages/xlsxwriter/worksheet.py:931: UserWarning: Ignoring URL 'https://sudact.ru/regular/doc/3M6d4Btbet5X/?page=3&regular-court=&regular-date_from=01.02.2018&regular-case_doc=&regular-lawchunkinfo=%D0%A1%D1%82%D0%B0%D1%82%D1%8C%D1%8F+151.+%D0%9A%D0%BE%D0%BC%D0%BF%D0%B5%D0%BD%D1%81%D0%B0%D1%86%D0%B8%D1%8F+%D0%BC%D0%BE%D1%80%D0%B0%D0%BB%D1%8C%D0%BD%D0%BE%D0%B3%D0%BE+%D0%B2%D1%80%D0%B5%D0%B4%D0%B0%28%D0%93%D0%9A+%D0%A0%D0%A4%29&regular-workflow_stage=10&regular-date_to=30.06.2018&regular-area=&regular-txt=%D0%BC%D0%B5%D0%B4%D0%B8%D1%86%D0%B8%D0%BD%D1%81%D0%BA%D0%B0%D1%8F+%D1%85%D0%B0%D0%BB%D0%B0%D1%82%D0%BD%D0%BE%D1%81%D1%82%D1%8C&_=1583353292160&regular-judge=&snippet_pos=170' with link or location/anchor > 255 characters since it exceeds Excel's limit for URLS\n",
      "  force_unicode(url))\n",
      "/home/politlen/anaconda3/lib/python3.7/site-packages/xlsxwriter/worksheet.py:931: UserWarning: Ignoring URL 'https://sudact.ru/regular/doc/nhEiR7YVZRr/?page=3&regular-court=&regular-date_from=01.02.2018&regular-case_doc=&regular-lawchunkinfo=%D0%A1%D1%82%D0%B0%D1%82%D1%8C%D1%8F+151.+%D0%9A%D0%BE%D0%BC%D0%BF%D0%B5%D0%BD%D1%81%D0%B0%D1%86%D0%B8%D1%8F+%D0%BC%D0%BE%D1%80%D0%B0%D0%BB%D1%8C%D0%BD%D0%BE%D0%B3%D0%BE+%D0%B2%D1%80%D0%B5%D0%B4%D0%B0%28%D0%93%D0%9A+%D0%A0%D0%A4%29&regular-workflow_stage=10&regular-date_to=30.06.2018&regular-area=&regular-txt=%D0%BC%D0%B5%D0%B4%D0%B8%D1%86%D0%B8%D0%BD%D1%81%D0%BA%D0%B0%D1%8F+%D1%85%D0%B0%D0%BB%D0%B0%D1%82%D0%BD%D0%BE%D1%81%D1%82%D1%8C&_=1583353292160&regular-judge=&snippet_pos=1016' with link or location/anchor > 255 characters since it exceeds Excel's limit for URLS\n",
      "  force_unicode(url))\n",
      "/home/politlen/anaconda3/lib/python3.7/site-packages/xlsxwriter/worksheet.py:931: UserWarning: Ignoring URL 'https://sudact.ru/regular/doc/PSphcHptQPLR/?page=4&regular-court=&regular-date_from=01.02.2018&regular-case_doc=&regular-lawchunkinfo=%D0%A1%D1%82%D0%B0%D1%82%D1%8C%D1%8F+151.+%D0%9A%D0%BE%D0%BC%D0%BF%D0%B5%D0%BD%D1%81%D0%B0%D1%86%D0%B8%D1%8F+%D0%BC%D0%BE%D1%80%D0%B0%D0%BB%D1%8C%D0%BD%D0%BE%D0%B3%D0%BE+%D0%B2%D1%80%D0%B5%D0%B4%D0%B0%28%D0%93%D0%9A+%D0%A0%D0%A4%29&regular-workflow_stage=10&regular-date_to=30.06.2018&regular-area=&regular-txt=%D0%BC%D0%B5%D0%B4%D0%B8%D1%86%D0%B8%D0%BD%D1%81%D0%BA%D0%B0%D1%8F+%D1%85%D0%B0%D0%BB%D0%B0%D1%82%D0%BD%D0%BE%D1%81%D1%82%D1%8C&_=1583353295918&regular-judge=&snippet_pos=7550' with link or location/anchor > 255 characters since it exceeds Excel's limit for URLS\n",
      "  force_unicode(url))\n",
      "/home/politlen/anaconda3/lib/python3.7/site-packages/xlsxwriter/worksheet.py:931: UserWarning: Ignoring URL 'https://sudact.ru/regular/doc/9AsTdqaMsBLX/?page=4&regular-court=&regular-date_from=01.02.2018&regular-case_doc=&regular-lawchunkinfo=%D0%A1%D1%82%D0%B0%D1%82%D1%8C%D1%8F+151.+%D0%9A%D0%BE%D0%BC%D0%BF%D0%B5%D0%BD%D1%81%D0%B0%D1%86%D0%B8%D1%8F+%D0%BC%D0%BE%D1%80%D0%B0%D0%BB%D1%8C%D0%BD%D0%BE%D0%B3%D0%BE+%D0%B2%D1%80%D0%B5%D0%B4%D0%B0%28%D0%93%D0%9A+%D0%A0%D0%A4%29&regular-workflow_stage=10&regular-date_to=30.06.2018&regular-area=&regular-txt=%D0%BC%D0%B5%D0%B4%D0%B8%D1%86%D0%B8%D0%BD%D1%81%D0%BA%D0%B0%D1%8F+%D1%85%D0%B0%D0%BB%D0%B0%D1%82%D0%BD%D0%BE%D1%81%D1%82%D1%8C&_=1583353295918&regular-judge=&snippet_pos=926' with link or location/anchor > 255 characters since it exceeds Excel's limit for URLS\n",
      "  force_unicode(url))\n",
      "/home/politlen/anaconda3/lib/python3.7/site-packages/xlsxwriter/worksheet.py:931: UserWarning: Ignoring URL 'https://sudact.ru/regular/doc/0RyYIGKyI8bM/?page=4&regular-court=&regular-date_from=01.02.2018&regular-case_doc=&regular-lawchunkinfo=%D0%A1%D1%82%D0%B0%D1%82%D1%8C%D1%8F+151.+%D0%9A%D0%BE%D0%BC%D0%BF%D0%B5%D0%BD%D1%81%D0%B0%D1%86%D0%B8%D1%8F+%D0%BC%D0%BE%D1%80%D0%B0%D0%BB%D1%8C%D0%BD%D0%BE%D0%B3%D0%BE+%D0%B2%D1%80%D0%B5%D0%B4%D0%B0%28%D0%93%D0%9A+%D0%A0%D0%A4%29&regular-workflow_stage=10&regular-date_to=30.06.2018&regular-area=&regular-txt=%D0%BC%D0%B5%D0%B4%D0%B8%D1%86%D0%B8%D0%BD%D1%81%D0%BA%D0%B0%D1%8F+%D1%85%D0%B0%D0%BB%D0%B0%D1%82%D0%BD%D0%BE%D1%81%D1%82%D1%8C&_=1583353295918&regular-judge=&snippet_pos=4074' with link or location/anchor > 255 characters since it exceeds Excel's limit for URLS\n",
      "  force_unicode(url))\n",
      "/home/politlen/anaconda3/lib/python3.7/site-packages/xlsxwriter/worksheet.py:931: UserWarning: Ignoring URL 'https://sudact.ru/regular/doc/JHJbUkH6M15O/?page=4&regular-court=&regular-date_from=01.02.2018&regular-case_doc=&regular-lawchunkinfo=%D0%A1%D1%82%D0%B0%D1%82%D1%8C%D1%8F+151.+%D0%9A%D0%BE%D0%BC%D0%BF%D0%B5%D0%BD%D1%81%D0%B0%D1%86%D0%B8%D1%8F+%D0%BC%D0%BE%D1%80%D0%B0%D0%BB%D1%8C%D0%BD%D0%BE%D0%B3%D0%BE+%D0%B2%D1%80%D0%B5%D0%B4%D0%B0%28%D0%93%D0%9A+%D0%A0%D0%A4%29&regular-workflow_stage=10&regular-date_to=30.06.2018&regular-area=&regular-txt=%D0%BC%D0%B5%D0%B4%D0%B8%D1%86%D0%B8%D0%BD%D1%81%D0%BA%D0%B0%D1%8F+%D1%85%D0%B0%D0%BB%D0%B0%D1%82%D0%BD%D0%BE%D1%81%D1%82%D1%8C&_=1583353295918&regular-judge=&snippet_pos=1148' with link or location/anchor > 255 characters since it exceeds Excel's limit for URLS\n",
      "  force_unicode(url))\n",
      "/home/politlen/anaconda3/lib/python3.7/site-packages/xlsxwriter/worksheet.py:931: UserWarning: Ignoring URL 'https://sudact.ru/regular/doc/xFk0FWsN54ox/?page=4&regular-court=&regular-date_from=01.02.2018&regular-case_doc=&regular-lawchunkinfo=%D0%A1%D1%82%D0%B0%D1%82%D1%8C%D1%8F+151.+%D0%9A%D0%BE%D0%BC%D0%BF%D0%B5%D0%BD%D1%81%D0%B0%D1%86%D0%B8%D1%8F+%D0%BC%D0%BE%D1%80%D0%B0%D0%BB%D1%8C%D0%BD%D0%BE%D0%B3%D0%BE+%D0%B2%D1%80%D0%B5%D0%B4%D0%B0%28%D0%93%D0%9A+%D0%A0%D0%A4%29&regular-workflow_stage=10&regular-date_to=30.06.2018&regular-area=&regular-txt=%D0%BC%D0%B5%D0%B4%D0%B8%D1%86%D0%B8%D0%BD%D1%81%D0%BA%D0%B0%D1%8F+%D1%85%D0%B0%D0%BB%D0%B0%D1%82%D0%BD%D0%BE%D1%81%D1%82%D1%8C&_=1583353295918&regular-judge=&snippet_pos=626' with link or location/anchor > 255 characters since it exceeds Excel's limit for URLS\n",
      "  force_unicode(url))\n",
      "/home/politlen/anaconda3/lib/python3.7/site-packages/xlsxwriter/worksheet.py:931: UserWarning: Ignoring URL 'https://sudact.ru/regular/doc/PhIDmBUBiqYp/?page=4&regular-court=&regular-date_from=01.02.2018&regular-case_doc=&regular-lawchunkinfo=%D0%A1%D1%82%D0%B0%D1%82%D1%8C%D1%8F+151.+%D0%9A%D0%BE%D0%BC%D0%BF%D0%B5%D0%BD%D1%81%D0%B0%D1%86%D0%B8%D1%8F+%D0%BC%D0%BE%D1%80%D0%B0%D0%BB%D1%8C%D0%BD%D0%BE%D0%B3%D0%BE+%D0%B2%D1%80%D0%B5%D0%B4%D0%B0%28%D0%93%D0%9A+%D0%A0%D0%A4%29&regular-workflow_stage=10&regular-date_to=30.06.2018&regular-area=&regular-txt=%D0%BC%D0%B5%D0%B4%D0%B8%D1%86%D0%B8%D0%BD%D1%81%D0%BA%D0%B0%D1%8F+%D1%85%D0%B0%D0%BB%D0%B0%D1%82%D0%BD%D0%BE%D1%81%D1%82%D1%8C&_=1583353295918&regular-judge=&snippet_pos=796' with link or location/anchor > 255 characters since it exceeds Excel's limit for URLS\n",
      "  force_unicode(url))\n",
      "/home/politlen/anaconda3/lib/python3.7/site-packages/xlsxwriter/worksheet.py:931: UserWarning: Ignoring URL 'https://sudact.ru/regular/doc/Cd1ybtnwjTd5/?page=4&regular-court=&regular-date_from=01.02.2018&regular-case_doc=&regular-lawchunkinfo=%D0%A1%D1%82%D0%B0%D1%82%D1%8C%D1%8F+151.+%D0%9A%D0%BE%D0%BC%D0%BF%D0%B5%D0%BD%D1%81%D0%B0%D1%86%D0%B8%D1%8F+%D0%BC%D0%BE%D1%80%D0%B0%D0%BB%D1%8C%D0%BD%D0%BE%D0%B3%D0%BE+%D0%B2%D1%80%D0%B5%D0%B4%D0%B0%28%D0%93%D0%9A+%D0%A0%D0%A4%29&regular-workflow_stage=10&regular-date_to=30.06.2018&regular-area=&regular-txt=%D0%BC%D0%B5%D0%B4%D0%B8%D1%86%D0%B8%D0%BD%D1%81%D0%BA%D0%B0%D1%8F+%D1%85%D0%B0%D0%BB%D0%B0%D1%82%D0%BD%D0%BE%D1%81%D1%82%D1%8C&_=1583353295918&regular-judge=&snippet_pos=212' with link or location/anchor > 255 characters since it exceeds Excel's limit for URLS\n",
      "  force_unicode(url))\n",
      "/home/politlen/anaconda3/lib/python3.7/site-packages/xlsxwriter/worksheet.py:931: UserWarning: Ignoring URL 'https://sudact.ru/regular/doc/9hNT0UeXNpgV/?page=4&regular-court=&regular-date_from=01.02.2018&regular-case_doc=&regular-lawchunkinfo=%D0%A1%D1%82%D0%B0%D1%82%D1%8C%D1%8F+151.+%D0%9A%D0%BE%D0%BC%D0%BF%D0%B5%D0%BD%D1%81%D0%B0%D1%86%D0%B8%D1%8F+%D0%BC%D0%BE%D1%80%D0%B0%D0%BB%D1%8C%D0%BD%D0%BE%D0%B3%D0%BE+%D0%B2%D1%80%D0%B5%D0%B4%D0%B0%28%D0%93%D0%9A+%D0%A0%D0%A4%29&regular-workflow_stage=10&regular-date_to=30.06.2018&regular-area=&regular-txt=%D0%BC%D0%B5%D0%B4%D0%B8%D1%86%D0%B8%D0%BD%D1%81%D0%BA%D0%B0%D1%8F+%D1%85%D0%B0%D0%BB%D0%B0%D1%82%D0%BD%D0%BE%D1%81%D1%82%D1%8C&_=1583353295918&regular-judge=&snippet_pos=1450' with link or location/anchor > 255 characters since it exceeds Excel's limit for URLS\n",
      "  force_unicode(url))\n",
      "/home/politlen/anaconda3/lib/python3.7/site-packages/xlsxwriter/worksheet.py:931: UserWarning: Ignoring URL 'https://sudact.ru/regular/doc/m3fp61KJOX6Y/?page=4&regular-court=&regular-date_from=01.02.2018&regular-case_doc=&regular-lawchunkinfo=%D0%A1%D1%82%D0%B0%D1%82%D1%8C%D1%8F+151.+%D0%9A%D0%BE%D0%BC%D0%BF%D0%B5%D0%BD%D1%81%D0%B0%D1%86%D0%B8%D1%8F+%D0%BC%D0%BE%D1%80%D0%B0%D0%BB%D1%8C%D0%BD%D0%BE%D0%B3%D0%BE+%D0%B2%D1%80%D0%B5%D0%B4%D0%B0%28%D0%93%D0%9A+%D0%A0%D0%A4%29&regular-workflow_stage=10&regular-date_to=30.06.2018&regular-area=&regular-txt=%D0%BC%D0%B5%D0%B4%D0%B8%D1%86%D0%B8%D0%BD%D1%81%D0%BA%D0%B0%D1%8F+%D1%85%D0%B0%D0%BB%D0%B0%D1%82%D0%BD%D0%BE%D1%81%D1%82%D1%8C&_=1583353295918&regular-judge=&snippet_pos=1090' with link or location/anchor > 255 characters since it exceeds Excel's limit for URLS\n",
      "  force_unicode(url))\n",
      "/home/politlen/anaconda3/lib/python3.7/site-packages/xlsxwriter/worksheet.py:931: UserWarning: Ignoring URL 'https://sudact.ru/regular/doc/OTeNIUoao1YT/?page=4&regular-court=&regular-date_from=01.02.2018&regular-case_doc=&regular-lawchunkinfo=%D0%A1%D1%82%D0%B0%D1%82%D1%8C%D1%8F+151.+%D0%9A%D0%BE%D0%BC%D0%BF%D0%B5%D0%BD%D1%81%D0%B0%D1%86%D0%B8%D1%8F+%D0%BC%D0%BE%D1%80%D0%B0%D0%BB%D1%8C%D0%BD%D0%BE%D0%B3%D0%BE+%D0%B2%D1%80%D0%B5%D0%B4%D0%B0%28%D0%93%D0%9A+%D0%A0%D0%A4%29&regular-workflow_stage=10&regular-date_to=30.06.2018&regular-area=&regular-txt=%D0%BC%D0%B5%D0%B4%D0%B8%D1%86%D0%B8%D0%BD%D1%81%D0%BA%D0%B0%D1%8F+%D1%85%D0%B0%D0%BB%D0%B0%D1%82%D0%BD%D0%BE%D1%81%D1%82%D1%8C&_=1583353295918&regular-judge=&snippet_pos=1868' with link or location/anchor > 255 characters since it exceeds Excel's limit for URLS\n",
      "  force_unicode(url))\n",
      "/home/politlen/anaconda3/lib/python3.7/site-packages/xlsxwriter/worksheet.py:931: UserWarning: Ignoring URL 'https://sudact.ru/regular/doc/PiCD9Ue4pfU1/?page=5&regular-court=&regular-date_from=01.02.2018&regular-case_doc=&regular-lawchunkinfo=%D0%A1%D1%82%D0%B0%D1%82%D1%8C%D1%8F+151.+%D0%9A%D0%BE%D0%BC%D0%BF%D0%B5%D0%BD%D1%81%D0%B0%D1%86%D0%B8%D1%8F+%D0%BC%D0%BE%D1%80%D0%B0%D0%BB%D1%8C%D0%BD%D0%BE%D0%B3%D0%BE+%D0%B2%D1%80%D0%B5%D0%B4%D0%B0%28%D0%93%D0%9A+%D0%A0%D0%A4%29&regular-workflow_stage=10&regular-date_to=30.06.2018&regular-area=&regular-txt=%D0%BC%D0%B5%D0%B4%D0%B8%D1%86%D0%B8%D0%BD%D1%81%D0%BA%D0%B0%D1%8F+%D1%85%D0%B0%D0%BB%D0%B0%D1%82%D0%BD%D0%BE%D1%81%D1%82%D1%8C&_=1583353299570&regular-judge=&snippet_pos=14718' with link or location/anchor > 255 characters since it exceeds Excel's limit for URLS\n",
      "  force_unicode(url))\n",
      "/home/politlen/anaconda3/lib/python3.7/site-packages/xlsxwriter/worksheet.py:931: UserWarning: Ignoring URL 'https://sudact.ru/regular/doc/vhNOXHAYjSJW/?page=5&regular-court=&regular-date_from=01.02.2018&regular-case_doc=&regular-lawchunkinfo=%D0%A1%D1%82%D0%B0%D1%82%D1%8C%D1%8F+151.+%D0%9A%D0%BE%D0%BC%D0%BF%D0%B5%D0%BD%D1%81%D0%B0%D1%86%D0%B8%D1%8F+%D0%BC%D0%BE%D1%80%D0%B0%D0%BB%D1%8C%D0%BD%D0%BE%D0%B3%D0%BE+%D0%B2%D1%80%D0%B5%D0%B4%D0%B0%28%D0%93%D0%9A+%D0%A0%D0%A4%29&regular-workflow_stage=10&regular-date_to=30.06.2018&regular-area=&regular-txt=%D0%BC%D0%B5%D0%B4%D0%B8%D1%86%D0%B8%D0%BD%D1%81%D0%BA%D0%B0%D1%8F+%D1%85%D0%B0%D0%BB%D0%B0%D1%82%D0%BD%D0%BE%D1%81%D1%82%D1%8C&_=1583353299570&regular-judge=&snippet_pos=2146' with link or location/anchor > 255 characters since it exceeds Excel's limit for URLS\n",
      "  force_unicode(url))\n",
      "/home/politlen/anaconda3/lib/python3.7/site-packages/xlsxwriter/worksheet.py:931: UserWarning: Ignoring URL 'https://sudact.ru/regular/doc/Bo6wC7qMtiW9/?page=5&regular-court=&regular-date_from=01.02.2018&regular-case_doc=&regular-lawchunkinfo=%D0%A1%D1%82%D0%B0%D1%82%D1%8C%D1%8F+151.+%D0%9A%D0%BE%D0%BC%D0%BF%D0%B5%D0%BD%D1%81%D0%B0%D1%86%D0%B8%D1%8F+%D0%BC%D0%BE%D1%80%D0%B0%D0%BB%D1%8C%D0%BD%D0%BE%D0%B3%D0%BE+%D0%B2%D1%80%D0%B5%D0%B4%D0%B0%28%D0%93%D0%9A+%D0%A0%D0%A4%29&regular-workflow_stage=10&regular-date_to=30.06.2018&regular-area=&regular-txt=%D0%BC%D0%B5%D0%B4%D0%B8%D1%86%D0%B8%D0%BD%D1%81%D0%BA%D0%B0%D1%8F+%D1%85%D0%B0%D0%BB%D0%B0%D1%82%D0%BD%D0%BE%D1%81%D1%82%D1%8C&_=1583353299570&regular-judge=&snippet_pos=926' with link or location/anchor > 255 characters since it exceeds Excel's limit for URLS\n",
      "  force_unicode(url))\n",
      "/home/politlen/anaconda3/lib/python3.7/site-packages/xlsxwriter/worksheet.py:931: UserWarning: Ignoring URL 'https://sudact.ru/regular/doc/VkKLPEVsi1Jw/?page=5&regular-court=&regular-date_from=01.02.2018&regular-case_doc=&regular-lawchunkinfo=%D0%A1%D1%82%D0%B0%D1%82%D1%8C%D1%8F+151.+%D0%9A%D0%BE%D0%BC%D0%BF%D0%B5%D0%BD%D1%81%D0%B0%D1%86%D0%B8%D1%8F+%D0%BC%D0%BE%D1%80%D0%B0%D0%BB%D1%8C%D0%BD%D0%BE%D0%B3%D0%BE+%D0%B2%D1%80%D0%B5%D0%B4%D0%B0%28%D0%93%D0%9A+%D0%A0%D0%A4%29&regular-workflow_stage=10&regular-date_to=30.06.2018&regular-area=&regular-txt=%D0%BC%D0%B5%D0%B4%D0%B8%D1%86%D0%B8%D0%BD%D1%81%D0%BA%D0%B0%D1%8F+%D1%85%D0%B0%D0%BB%D0%B0%D1%82%D0%BD%D0%BE%D1%81%D1%82%D1%8C&_=1583353299570&regular-judge=&snippet_pos=652' with link or location/anchor > 255 characters since it exceeds Excel's limit for URLS\n",
      "  force_unicode(url))\n",
      "/home/politlen/anaconda3/lib/python3.7/site-packages/xlsxwriter/worksheet.py:931: UserWarning: Ignoring URL 'https://sudact.ru/regular/doc/zYcuTgvcXGo1/?page=5&regular-court=&regular-date_from=01.02.2018&regular-case_doc=&regular-lawchunkinfo=%D0%A1%D1%82%D0%B0%D1%82%D1%8C%D1%8F+151.+%D0%9A%D0%BE%D0%BC%D0%BF%D0%B5%D0%BD%D1%81%D0%B0%D1%86%D0%B8%D1%8F+%D0%BC%D0%BE%D1%80%D0%B0%D0%BB%D1%8C%D0%BD%D0%BE%D0%B3%D0%BE+%D0%B2%D1%80%D0%B5%D0%B4%D0%B0%28%D0%93%D0%9A+%D0%A0%D0%A4%29&regular-workflow_stage=10&regular-date_to=30.06.2018&regular-area=&regular-txt=%D0%BC%D0%B5%D0%B4%D0%B8%D1%86%D0%B8%D0%BD%D1%81%D0%BA%D0%B0%D1%8F+%D1%85%D0%B0%D0%BB%D0%B0%D1%82%D0%BD%D0%BE%D1%81%D1%82%D1%8C&_=1583353299570&regular-judge=&snippet_pos=208' with link or location/anchor > 255 characters since it exceeds Excel's limit for URLS\n",
      "  force_unicode(url))\n",
      "/home/politlen/anaconda3/lib/python3.7/site-packages/xlsxwriter/worksheet.py:931: UserWarning: Ignoring URL 'https://sudact.ru/regular/doc/g7hfb20mopYa/?page=5&regular-court=&regular-date_from=01.02.2018&regular-case_doc=&regular-lawchunkinfo=%D0%A1%D1%82%D0%B0%D1%82%D1%8C%D1%8F+151.+%D0%9A%D0%BE%D0%BC%D0%BF%D0%B5%D0%BD%D1%81%D0%B0%D1%86%D0%B8%D1%8F+%D0%BC%D0%BE%D1%80%D0%B0%D0%BB%D1%8C%D0%BD%D0%BE%D0%B3%D0%BE+%D0%B2%D1%80%D0%B5%D0%B4%D0%B0%28%D0%93%D0%9A+%D0%A0%D0%A4%29&regular-workflow_stage=10&regular-date_to=30.06.2018&regular-area=&regular-txt=%D0%BC%D0%B5%D0%B4%D0%B8%D1%86%D0%B8%D0%BD%D1%81%D0%BA%D0%B0%D1%8F+%D1%85%D0%B0%D0%BB%D0%B0%D1%82%D0%BD%D0%BE%D1%81%D1%82%D1%8C&_=1583353299570&regular-judge=&snippet_pos=640' with link or location/anchor > 255 characters since it exceeds Excel's limit for URLS\n",
      "  force_unicode(url))\n",
      "/home/politlen/anaconda3/lib/python3.7/site-packages/xlsxwriter/worksheet.py:931: UserWarning: Ignoring URL 'https://sudact.ru/regular/doc/M1sC5ZhFzoLr/?page=5&regular-court=&regular-date_from=01.02.2018&regular-case_doc=&regular-lawchunkinfo=%D0%A1%D1%82%D0%B0%D1%82%D1%8C%D1%8F+151.+%D0%9A%D0%BE%D0%BC%D0%BF%D0%B5%D0%BD%D1%81%D0%B0%D1%86%D0%B8%D1%8F+%D0%BC%D0%BE%D1%80%D0%B0%D0%BB%D1%8C%D0%BD%D0%BE%D0%B3%D0%BE+%D0%B2%D1%80%D0%B5%D0%B4%D0%B0%28%D0%93%D0%9A+%D0%A0%D0%A4%29&regular-workflow_stage=10&regular-date_to=30.06.2018&regular-area=&regular-txt=%D0%BC%D0%B5%D0%B4%D0%B8%D1%86%D0%B8%D0%BD%D1%81%D0%BA%D0%B0%D1%8F+%D1%85%D0%B0%D0%BB%D0%B0%D1%82%D0%BD%D0%BE%D1%81%D1%82%D1%8C&_=1583353299570&regular-judge=&snippet_pos=366' with link or location/anchor > 255 characters since it exceeds Excel's limit for URLS\n",
      "  force_unicode(url))\n",
      "/home/politlen/anaconda3/lib/python3.7/site-packages/xlsxwriter/worksheet.py:931: UserWarning: Ignoring URL 'https://sudact.ru/regular/doc/9bUiPlSY9qNK/?page=5&regular-court=&regular-date_from=01.02.2018&regular-case_doc=&regular-lawchunkinfo=%D0%A1%D1%82%D0%B0%D1%82%D1%8C%D1%8F+151.+%D0%9A%D0%BE%D0%BC%D0%BF%D0%B5%D0%BD%D1%81%D0%B0%D1%86%D0%B8%D1%8F+%D0%BC%D0%BE%D1%80%D0%B0%D0%BB%D1%8C%D0%BD%D0%BE%D0%B3%D0%BE+%D0%B2%D1%80%D0%B5%D0%B4%D0%B0%28%D0%93%D0%9A+%D0%A0%D0%A4%29&regular-workflow_stage=10&regular-date_to=30.06.2018&regular-area=&regular-txt=%D0%BC%D0%B5%D0%B4%D0%B8%D1%86%D0%B8%D0%BD%D1%81%D0%BA%D0%B0%D1%8F+%D1%85%D0%B0%D0%BB%D0%B0%D1%82%D0%BD%D0%BE%D1%81%D1%82%D1%8C&_=1583353299570&regular-judge=&snippet_pos=554' with link or location/anchor > 255 characters since it exceeds Excel's limit for URLS\n",
      "  force_unicode(url))\n",
      "/home/politlen/anaconda3/lib/python3.7/site-packages/xlsxwriter/worksheet.py:931: UserWarning: Ignoring URL 'https://sudact.ru/regular/doc/ykqpau8h5bZW/?page=5&regular-court=&regular-date_from=01.02.2018&regular-case_doc=&regular-lawchunkinfo=%D0%A1%D1%82%D0%B0%D1%82%D1%8C%D1%8F+151.+%D0%9A%D0%BE%D0%BC%D0%BF%D0%B5%D0%BD%D1%81%D0%B0%D1%86%D0%B8%D1%8F+%D0%BC%D0%BE%D1%80%D0%B0%D0%BB%D1%8C%D0%BD%D0%BE%D0%B3%D0%BE+%D0%B2%D1%80%D0%B5%D0%B4%D0%B0%28%D0%93%D0%9A+%D0%A0%D0%A4%29&regular-workflow_stage=10&regular-date_to=30.06.2018&regular-area=&regular-txt=%D0%BC%D0%B5%D0%B4%D0%B8%D1%86%D0%B8%D0%BD%D1%81%D0%BA%D0%B0%D1%8F+%D1%85%D0%B0%D0%BB%D0%B0%D1%82%D0%BD%D0%BE%D1%81%D1%82%D1%8C&_=1583353299570&regular-judge=&snippet_pos=1210' with link or location/anchor > 255 characters since it exceeds Excel's limit for URLS\n",
      "  force_unicode(url))\n",
      "/home/politlen/anaconda3/lib/python3.7/site-packages/xlsxwriter/worksheet.py:931: UserWarning: Ignoring URL 'https://sudact.ru/regular/doc/7v6YCSxjKyQl/?page=5&regular-court=&regular-date_from=01.02.2018&regular-case_doc=&regular-lawchunkinfo=%D0%A1%D1%82%D0%B0%D1%82%D1%8C%D1%8F+151.+%D0%9A%D0%BE%D0%BC%D0%BF%D0%B5%D0%BD%D1%81%D0%B0%D1%86%D0%B8%D1%8F+%D0%BC%D0%BE%D1%80%D0%B0%D0%BB%D1%8C%D0%BD%D0%BE%D0%B3%D0%BE+%D0%B2%D1%80%D0%B5%D0%B4%D0%B0%28%D0%93%D0%9A+%D0%A0%D0%A4%29&regular-workflow_stage=10&regular-date_to=30.06.2018&regular-area=&regular-txt=%D0%BC%D0%B5%D0%B4%D0%B8%D1%86%D0%B8%D0%BD%D1%81%D0%BA%D0%B0%D1%8F+%D1%85%D0%B0%D0%BB%D0%B0%D1%82%D0%BD%D0%BE%D1%81%D1%82%D1%8C&_=1583353299570&regular-judge=&snippet_pos=566' with link or location/anchor > 255 characters since it exceeds Excel's limit for URLS\n",
      "  force_unicode(url))\n",
      "/home/politlen/anaconda3/lib/python3.7/site-packages/xlsxwriter/worksheet.py:931: UserWarning: Ignoring URL 'https://sudact.ru/regular/doc/MI7Q2XHGqYUu/?page=6&regular-court=&regular-date_from=01.02.2018&regular-case_doc=&regular-lawchunkinfo=%D0%A1%D1%82%D0%B0%D1%82%D1%8C%D1%8F+151.+%D0%9A%D0%BE%D0%BC%D0%BF%D0%B5%D0%BD%D1%81%D0%B0%D1%86%D0%B8%D1%8F+%D0%BC%D0%BE%D1%80%D0%B0%D0%BB%D1%8C%D0%BD%D0%BE%D0%B3%D0%BE+%D0%B2%D1%80%D0%B5%D0%B4%D0%B0%28%D0%93%D0%9A+%D0%A0%D0%A4%29&regular-workflow_stage=10&regular-date_to=30.06.2018&regular-area=&regular-txt=%D0%BC%D0%B5%D0%B4%D0%B8%D1%86%D0%B8%D0%BD%D1%81%D0%BA%D0%B0%D1%8F+%D1%85%D0%B0%D0%BB%D0%B0%D1%82%D0%BD%D0%BE%D1%81%D1%82%D1%8C&_=1583353303157&regular-judge=&snippet_pos=378' with link or location/anchor > 255 characters since it exceeds Excel's limit for URLS\n",
      "  force_unicode(url))\n",
      "/home/politlen/anaconda3/lib/python3.7/site-packages/xlsxwriter/worksheet.py:931: UserWarning: Ignoring URL 'https://sudact.ru/regular/doc/Hud6Q0aGhzWO/?page=6&regular-court=&regular-date_from=01.02.2018&regular-case_doc=&regular-lawchunkinfo=%D0%A1%D1%82%D0%B0%D1%82%D1%8C%D1%8F+151.+%D0%9A%D0%BE%D0%BC%D0%BF%D0%B5%D0%BD%D1%81%D0%B0%D1%86%D0%B8%D1%8F+%D0%BC%D0%BE%D1%80%D0%B0%D0%BB%D1%8C%D0%BD%D0%BE%D0%B3%D0%BE+%D0%B2%D1%80%D0%B5%D0%B4%D0%B0%28%D0%93%D0%9A+%D0%A0%D0%A4%29&regular-workflow_stage=10&regular-date_to=30.06.2018&regular-area=&regular-txt=%D0%BC%D0%B5%D0%B4%D0%B8%D1%86%D0%B8%D0%BD%D1%81%D0%BA%D0%B0%D1%8F+%D1%85%D0%B0%D0%BB%D0%B0%D1%82%D0%BD%D0%BE%D1%81%D1%82%D1%8C&_=1583353303157&regular-judge=&snippet_pos=2226' with link or location/anchor > 255 characters since it exceeds Excel's limit for URLS\n",
      "  force_unicode(url))\n",
      "/home/politlen/anaconda3/lib/python3.7/site-packages/xlsxwriter/worksheet.py:931: UserWarning: Ignoring URL 'https://sudact.ru/regular/doc/NJiXu4AueFb1/?page=6&regular-court=&regular-date_from=01.02.2018&regular-case_doc=&regular-lawchunkinfo=%D0%A1%D1%82%D0%B0%D1%82%D1%8C%D1%8F+151.+%D0%9A%D0%BE%D0%BC%D0%BF%D0%B5%D0%BD%D1%81%D0%B0%D1%86%D0%B8%D1%8F+%D0%BC%D0%BE%D1%80%D0%B0%D0%BB%D1%8C%D0%BD%D0%BE%D0%B3%D0%BE+%D0%B2%D1%80%D0%B5%D0%B4%D0%B0%28%D0%93%D0%9A+%D0%A0%D0%A4%29&regular-workflow_stage=10&regular-date_to=30.06.2018&regular-area=&regular-txt=%D0%BC%D0%B5%D0%B4%D0%B8%D1%86%D0%B8%D0%BD%D1%81%D0%BA%D0%B0%D1%8F+%D1%85%D0%B0%D0%BB%D0%B0%D1%82%D0%BD%D0%BE%D1%81%D1%82%D1%8C&_=1583353303157&regular-judge=&snippet_pos=286' with link or location/anchor > 255 characters since it exceeds Excel's limit for URLS\n",
      "  force_unicode(url))\n",
      "/home/politlen/anaconda3/lib/python3.7/site-packages/xlsxwriter/worksheet.py:931: UserWarning: Ignoring URL 'https://sudact.ru/regular/doc/2QIrnCW1Pz5w/?page=6&regular-court=&regular-date_from=01.02.2018&regular-case_doc=&regular-lawchunkinfo=%D0%A1%D1%82%D0%B0%D1%82%D1%8C%D1%8F+151.+%D0%9A%D0%BE%D0%BC%D0%BF%D0%B5%D0%BD%D1%81%D0%B0%D1%86%D0%B8%D1%8F+%D0%BC%D0%BE%D1%80%D0%B0%D0%BB%D1%8C%D0%BD%D0%BE%D0%B3%D0%BE+%D0%B2%D1%80%D0%B5%D0%B4%D0%B0%28%D0%93%D0%9A+%D0%A0%D0%A4%29&regular-workflow_stage=10&regular-date_to=30.06.2018&regular-area=&regular-txt=%D0%BC%D0%B5%D0%B4%D0%B8%D1%86%D0%B8%D0%BD%D1%81%D0%BA%D0%B0%D1%8F+%D1%85%D0%B0%D0%BB%D0%B0%D1%82%D0%BD%D0%BE%D1%81%D1%82%D1%8C&_=1583353303157&regular-judge=&snippet_pos=3212' with link or location/anchor > 255 characters since it exceeds Excel's limit for URLS\n",
      "  force_unicode(url))\n",
      "/home/politlen/anaconda3/lib/python3.7/site-packages/xlsxwriter/worksheet.py:931: UserWarning: Ignoring URL 'https://sudact.ru/regular/doc/YDpJh3tBtSQ1/?page=6&regular-court=&regular-date_from=01.02.2018&regular-case_doc=&regular-lawchunkinfo=%D0%A1%D1%82%D0%B0%D1%82%D1%8C%D1%8F+151.+%D0%9A%D0%BE%D0%BC%D0%BF%D0%B5%D0%BD%D1%81%D0%B0%D1%86%D0%B8%D1%8F+%D0%BC%D0%BE%D1%80%D0%B0%D0%BB%D1%8C%D0%BD%D0%BE%D0%B3%D0%BE+%D0%B2%D1%80%D0%B5%D0%B4%D0%B0%28%D0%93%D0%9A+%D0%A0%D0%A4%29&regular-workflow_stage=10&regular-date_to=30.06.2018&regular-area=&regular-txt=%D0%BC%D0%B5%D0%B4%D0%B8%D1%86%D0%B8%D0%BD%D1%81%D0%BA%D0%B0%D1%8F+%D1%85%D0%B0%D0%BB%D0%B0%D1%82%D0%BD%D0%BE%D1%81%D1%82%D1%8C&_=1583353303157&regular-judge=&snippet_pos=7848' with link or location/anchor > 255 characters since it exceeds Excel's limit for URLS\n",
      "  force_unicode(url))\n",
      "/home/politlen/anaconda3/lib/python3.7/site-packages/xlsxwriter/worksheet.py:931: UserWarning: Ignoring URL 'https://sudact.ru/regular/doc/aiurn2s2VCrw/?page=6&regular-court=&regular-date_from=01.02.2018&regular-case_doc=&regular-lawchunkinfo=%D0%A1%D1%82%D0%B0%D1%82%D1%8C%D1%8F+151.+%D0%9A%D0%BE%D0%BC%D0%BF%D0%B5%D0%BD%D1%81%D0%B0%D1%86%D0%B8%D1%8F+%D0%BC%D0%BE%D1%80%D0%B0%D0%BB%D1%8C%D0%BD%D0%BE%D0%B3%D0%BE+%D0%B2%D1%80%D0%B5%D0%B4%D0%B0%28%D0%93%D0%9A+%D0%A0%D0%A4%29&regular-workflow_stage=10&regular-date_to=30.06.2018&regular-area=&regular-txt=%D0%BC%D0%B5%D0%B4%D0%B8%D1%86%D0%B8%D0%BD%D1%81%D0%BA%D0%B0%D1%8F+%D1%85%D0%B0%D0%BB%D0%B0%D1%82%D0%BD%D0%BE%D1%81%D1%82%D1%8C&_=1583353303157&regular-judge=&snippet_pos=1556' with link or location/anchor > 255 characters since it exceeds Excel's limit for URLS\n",
      "  force_unicode(url))\n",
      "/home/politlen/anaconda3/lib/python3.7/site-packages/xlsxwriter/worksheet.py:931: UserWarning: Ignoring URL 'https://sudact.ru/regular/doc/Ypxketgs6LLj/?page=6&regular-court=&regular-date_from=01.02.2018&regular-case_doc=&regular-lawchunkinfo=%D0%A1%D1%82%D0%B0%D1%82%D1%8C%D1%8F+151.+%D0%9A%D0%BE%D0%BC%D0%BF%D0%B5%D0%BD%D1%81%D0%B0%D1%86%D0%B8%D1%8F+%D0%BC%D0%BE%D1%80%D0%B0%D0%BB%D1%8C%D0%BD%D0%BE%D0%B3%D0%BE+%D0%B2%D1%80%D0%B5%D0%B4%D0%B0%28%D0%93%D0%9A+%D0%A0%D0%A4%29&regular-workflow_stage=10&regular-date_to=30.06.2018&regular-area=&regular-txt=%D0%BC%D0%B5%D0%B4%D0%B8%D1%86%D0%B8%D0%BD%D1%81%D0%BA%D0%B0%D1%8F+%D1%85%D0%B0%D0%BB%D0%B0%D1%82%D0%BD%D0%BE%D1%81%D1%82%D1%8C&_=1583353303157&regular-judge=&snippet_pos=2294' with link or location/anchor > 255 characters since it exceeds Excel's limit for URLS\n",
      "  force_unicode(url))\n",
      "/home/politlen/anaconda3/lib/python3.7/site-packages/xlsxwriter/worksheet.py:931: UserWarning: Ignoring URL 'https://sudact.ru/regular/doc/B4iXt63sESW4/?page=6&regular-court=&regular-date_from=01.02.2018&regular-case_doc=&regular-lawchunkinfo=%D0%A1%D1%82%D0%B0%D1%82%D1%8C%D1%8F+151.+%D0%9A%D0%BE%D0%BC%D0%BF%D0%B5%D0%BD%D1%81%D0%B0%D1%86%D0%B8%D1%8F+%D0%BC%D0%BE%D1%80%D0%B0%D0%BB%D1%8C%D0%BD%D0%BE%D0%B3%D0%BE+%D0%B2%D1%80%D0%B5%D0%B4%D0%B0%28%D0%93%D0%9A+%D0%A0%D0%A4%29&regular-workflow_stage=10&regular-date_to=30.06.2018&regular-area=&regular-txt=%D0%BC%D0%B5%D0%B4%D0%B8%D1%86%D0%B8%D0%BD%D1%81%D0%BA%D0%B0%D1%8F+%D1%85%D0%B0%D0%BB%D0%B0%D1%82%D0%BD%D0%BE%D1%81%D1%82%D1%8C&_=1583353303157&regular-judge=&snippet_pos=6552' with link or location/anchor > 255 characters since it exceeds Excel's limit for URLS\n",
      "  force_unicode(url))\n",
      "/home/politlen/anaconda3/lib/python3.7/site-packages/xlsxwriter/worksheet.py:931: UserWarning: Ignoring URL 'https://sudact.ru/regular/doc/3AW3XCBP83Uh/?page=6&regular-court=&regular-date_from=01.02.2018&regular-case_doc=&regular-lawchunkinfo=%D0%A1%D1%82%D0%B0%D1%82%D1%8C%D1%8F+151.+%D0%9A%D0%BE%D0%BC%D0%BF%D0%B5%D0%BD%D1%81%D0%B0%D1%86%D0%B8%D1%8F+%D0%BC%D0%BE%D1%80%D0%B0%D0%BB%D1%8C%D0%BD%D0%BE%D0%B3%D0%BE+%D0%B2%D1%80%D0%B5%D0%B4%D0%B0%28%D0%93%D0%9A+%D0%A0%D0%A4%29&regular-workflow_stage=10&regular-date_to=30.06.2018&regular-area=&regular-txt=%D0%BC%D0%B5%D0%B4%D0%B8%D1%86%D0%B8%D0%BD%D1%81%D0%BA%D0%B0%D1%8F+%D1%85%D0%B0%D0%BB%D0%B0%D1%82%D0%BD%D0%BE%D1%81%D1%82%D1%8C&_=1583353303157&regular-judge=&snippet_pos=204' with link or location/anchor > 255 characters since it exceeds Excel's limit for URLS\n",
      "  force_unicode(url))\n",
      "/home/politlen/anaconda3/lib/python3.7/site-packages/xlsxwriter/worksheet.py:931: UserWarning: Ignoring URL 'https://sudact.ru/regular/doc/ATIeZu4tKyLa/?page=6&regular-court=&regular-date_from=01.02.2018&regular-case_doc=&regular-lawchunkinfo=%D0%A1%D1%82%D0%B0%D1%82%D1%8C%D1%8F+151.+%D0%9A%D0%BE%D0%BC%D0%BF%D0%B5%D0%BD%D1%81%D0%B0%D1%86%D0%B8%D1%8F+%D0%BC%D0%BE%D1%80%D0%B0%D0%BB%D1%8C%D0%BD%D0%BE%D0%B3%D0%BE+%D0%B2%D1%80%D0%B5%D0%B4%D0%B0%28%D0%93%D0%9A+%D0%A0%D0%A4%29&regular-workflow_stage=10&regular-date_to=30.06.2018&regular-area=&regular-txt=%D0%BC%D0%B5%D0%B4%D0%B8%D1%86%D0%B8%D0%BD%D1%81%D0%BA%D0%B0%D1%8F+%D1%85%D0%B0%D0%BB%D0%B0%D1%82%D0%BD%D0%BE%D1%81%D1%82%D1%8C&_=1583353303157&regular-judge=&snippet_pos=2706' with link or location/anchor > 255 characters since it exceeds Excel's limit for URLS\n",
      "  force_unicode(url))\n",
      "/home/politlen/anaconda3/lib/python3.7/site-packages/xlsxwriter/worksheet.py:931: UserWarning: Ignoring URL 'https://sudact.ru/regular/doc/AfFhnUdT6Mz/?page=7&regular-court=&regular-date_from=01.02.2018&regular-case_doc=&regular-lawchunkinfo=%D0%A1%D1%82%D0%B0%D1%82%D1%8C%D1%8F+151.+%D0%9A%D0%BE%D0%BC%D0%BF%D0%B5%D0%BD%D1%81%D0%B0%D1%86%D0%B8%D1%8F+%D0%BC%D0%BE%D1%80%D0%B0%D0%BB%D1%8C%D0%BD%D0%BE%D0%B3%D0%BE+%D0%B2%D1%80%D0%B5%D0%B4%D0%B0%28%D0%93%D0%9A+%D0%A0%D0%A4%29&regular-workflow_stage=10&regular-date_to=30.06.2018&regular-area=&regular-txt=%D0%BC%D0%B5%D0%B4%D0%B8%D1%86%D0%B8%D0%BD%D1%81%D0%BA%D0%B0%D1%8F+%D1%85%D0%B0%D0%BB%D0%B0%D1%82%D0%BD%D0%BE%D1%81%D1%82%D1%8C&_=1583353306717&regular-judge=&snippet_pos=2614' with link or location/anchor > 255 characters since it exceeds Excel's limit for URLS\n",
      "  force_unicode(url))\n",
      "/home/politlen/anaconda3/lib/python3.7/site-packages/xlsxwriter/worksheet.py:931: UserWarning: Ignoring URL 'https://sudact.ru/regular/doc/WPwADDv2PF6w/?page=7&regular-court=&regular-date_from=01.02.2018&regular-case_doc=&regular-lawchunkinfo=%D0%A1%D1%82%D0%B0%D1%82%D1%8C%D1%8F+151.+%D0%9A%D0%BE%D0%BC%D0%BF%D0%B5%D0%BD%D1%81%D0%B0%D1%86%D0%B8%D1%8F+%D0%BC%D0%BE%D1%80%D0%B0%D0%BB%D1%8C%D0%BD%D0%BE%D0%B3%D0%BE+%D0%B2%D1%80%D0%B5%D0%B4%D0%B0%28%D0%93%D0%9A+%D0%A0%D0%A4%29&regular-workflow_stage=10&regular-date_to=30.06.2018&regular-area=&regular-txt=%D0%BC%D0%B5%D0%B4%D0%B8%D1%86%D0%B8%D0%BD%D1%81%D0%BA%D0%B0%D1%8F+%D1%85%D0%B0%D0%BB%D0%B0%D1%82%D0%BD%D0%BE%D1%81%D1%82%D1%8C&_=1583353306717&regular-judge=&snippet_pos=512' with link or location/anchor > 255 characters since it exceeds Excel's limit for URLS\n",
      "  force_unicode(url))\n",
      "/home/politlen/anaconda3/lib/python3.7/site-packages/xlsxwriter/worksheet.py:931: UserWarning: Ignoring URL 'https://sudact.ru/regular/doc/VyUUvoUYeiQx/?page=7&regular-court=&regular-date_from=01.02.2018&regular-case_doc=&regular-lawchunkinfo=%D0%A1%D1%82%D0%B0%D1%82%D1%8C%D1%8F+151.+%D0%9A%D0%BE%D0%BC%D0%BF%D0%B5%D0%BD%D1%81%D0%B0%D1%86%D0%B8%D1%8F+%D0%BC%D0%BE%D1%80%D0%B0%D0%BB%D1%8C%D0%BD%D0%BE%D0%B3%D0%BE+%D0%B2%D1%80%D0%B5%D0%B4%D0%B0%28%D0%93%D0%9A+%D0%A0%D0%A4%29&regular-workflow_stage=10&regular-date_to=30.06.2018&regular-area=&regular-txt=%D0%BC%D0%B5%D0%B4%D0%B8%D1%86%D0%B8%D0%BD%D1%81%D0%BA%D0%B0%D1%8F+%D1%85%D0%B0%D0%BB%D0%B0%D1%82%D0%BD%D0%BE%D1%81%D1%82%D1%8C&_=1583353306717&regular-judge=&snippet_pos=2258' with link or location/anchor > 255 characters since it exceeds Excel's limit for URLS\n",
      "  force_unicode(url))\n",
      "/home/politlen/anaconda3/lib/python3.7/site-packages/xlsxwriter/worksheet.py:931: UserWarning: Ignoring URL 'https://sudact.ru/regular/doc/Ha92AkdMj15p/?page=7&regular-court=&regular-date_from=01.02.2018&regular-case_doc=&regular-lawchunkinfo=%D0%A1%D1%82%D0%B0%D1%82%D1%8C%D1%8F+151.+%D0%9A%D0%BE%D0%BC%D0%BF%D0%B5%D0%BD%D1%81%D0%B0%D1%86%D0%B8%D1%8F+%D0%BC%D0%BE%D1%80%D0%B0%D0%BB%D1%8C%D0%BD%D0%BE%D0%B3%D0%BE+%D0%B2%D1%80%D0%B5%D0%B4%D0%B0%28%D0%93%D0%9A+%D0%A0%D0%A4%29&regular-workflow_stage=10&regular-date_to=30.06.2018&regular-area=&regular-txt=%D0%BC%D0%B5%D0%B4%D0%B8%D1%86%D0%B8%D0%BD%D1%81%D0%BA%D0%B0%D1%8F+%D1%85%D0%B0%D0%BB%D0%B0%D1%82%D0%BD%D0%BE%D1%81%D1%82%D1%8C&_=1583353306717&regular-judge=&snippet_pos=460' with link or location/anchor > 255 characters since it exceeds Excel's limit for URLS\n",
      "  force_unicode(url))\n",
      "/home/politlen/anaconda3/lib/python3.7/site-packages/xlsxwriter/worksheet.py:931: UserWarning: Ignoring URL 'https://sudact.ru/regular/doc/3bH26pxaUW68/?page=7&regular-court=&regular-date_from=01.02.2018&regular-case_doc=&regular-lawchunkinfo=%D0%A1%D1%82%D0%B0%D1%82%D1%8C%D1%8F+151.+%D0%9A%D0%BE%D0%BC%D0%BF%D0%B5%D0%BD%D1%81%D0%B0%D1%86%D0%B8%D1%8F+%D0%BC%D0%BE%D1%80%D0%B0%D0%BB%D1%8C%D0%BD%D0%BE%D0%B3%D0%BE+%D0%B2%D1%80%D0%B5%D0%B4%D0%B0%28%D0%93%D0%9A+%D0%A0%D0%A4%29&regular-workflow_stage=10&regular-date_to=30.06.2018&regular-area=&regular-txt=%D0%BC%D0%B5%D0%B4%D0%B8%D1%86%D0%B8%D0%BD%D1%81%D0%BA%D0%B0%D1%8F+%D1%85%D0%B0%D0%BB%D0%B0%D1%82%D0%BD%D0%BE%D1%81%D1%82%D1%8C&_=1583353306717&regular-judge=&snippet_pos=268' with link or location/anchor > 255 characters since it exceeds Excel's limit for URLS\n",
      "  force_unicode(url))\n",
      "/home/politlen/anaconda3/lib/python3.7/site-packages/xlsxwriter/worksheet.py:931: UserWarning: Ignoring URL 'https://sudact.ru/regular/doc/AXgaG9U7gomt/?page=7&regular-court=&regular-date_from=01.02.2018&regular-case_doc=&regular-lawchunkinfo=%D0%A1%D1%82%D0%B0%D1%82%D1%8C%D1%8F+151.+%D0%9A%D0%BE%D0%BC%D0%BF%D0%B5%D0%BD%D1%81%D0%B0%D1%86%D0%B8%D1%8F+%D0%BC%D0%BE%D1%80%D0%B0%D0%BB%D1%8C%D0%BD%D0%BE%D0%B3%D0%BE+%D0%B2%D1%80%D0%B5%D0%B4%D0%B0%28%D0%93%D0%9A+%D0%A0%D0%A4%29&regular-workflow_stage=10&regular-date_to=30.06.2018&regular-area=&regular-txt=%D0%BC%D0%B5%D0%B4%D0%B8%D1%86%D0%B8%D0%BD%D1%81%D0%BA%D0%B0%D1%8F+%D1%85%D0%B0%D0%BB%D0%B0%D1%82%D0%BD%D0%BE%D1%81%D1%82%D1%8C&_=1583353306717&regular-judge=&snippet_pos=156' with link or location/anchor > 255 characters since it exceeds Excel's limit for URLS\n",
      "  force_unicode(url))\n",
      "/home/politlen/anaconda3/lib/python3.7/site-packages/xlsxwriter/worksheet.py:931: UserWarning: Ignoring URL 'https://sudact.ru/regular/doc/JsIJHJ5ETGQK/?page=7&regular-court=&regular-date_from=01.02.2018&regular-case_doc=&regular-lawchunkinfo=%D0%A1%D1%82%D0%B0%D1%82%D1%8C%D1%8F+151.+%D0%9A%D0%BE%D0%BC%D0%BF%D0%B5%D0%BD%D1%81%D0%B0%D1%86%D0%B8%D1%8F+%D0%BC%D0%BE%D1%80%D0%B0%D0%BB%D1%8C%D0%BD%D0%BE%D0%B3%D0%BE+%D0%B2%D1%80%D0%B5%D0%B4%D0%B0%28%D0%93%D0%9A+%D0%A0%D0%A4%29&regular-workflow_stage=10&regular-date_to=30.06.2018&regular-area=&regular-txt=%D0%BC%D0%B5%D0%B4%D0%B8%D1%86%D0%B8%D0%BD%D1%81%D0%BA%D0%B0%D1%8F+%D1%85%D0%B0%D0%BB%D0%B0%D1%82%D0%BD%D0%BE%D1%81%D1%82%D1%8C&_=1583353306717&regular-judge=&snippet_pos=4672' with link or location/anchor > 255 characters since it exceeds Excel's limit for URLS\n",
      "  force_unicode(url))\n",
      "/home/politlen/anaconda3/lib/python3.7/site-packages/xlsxwriter/worksheet.py:931: UserWarning: Ignoring URL 'https://sudact.ru/regular/doc/7oVdiHwui3WO/?page=7&regular-court=&regular-date_from=01.02.2018&regular-case_doc=&regular-lawchunkinfo=%D0%A1%D1%82%D0%B0%D1%82%D1%8C%D1%8F+151.+%D0%9A%D0%BE%D0%BC%D0%BF%D0%B5%D0%BD%D1%81%D0%B0%D1%86%D0%B8%D1%8F+%D0%BC%D0%BE%D1%80%D0%B0%D0%BB%D1%8C%D0%BD%D0%BE%D0%B3%D0%BE+%D0%B2%D1%80%D0%B5%D0%B4%D0%B0%28%D0%93%D0%9A+%D0%A0%D0%A4%29&regular-workflow_stage=10&regular-date_to=30.06.2018&regular-area=&regular-txt=%D0%BC%D0%B5%D0%B4%D0%B8%D1%86%D0%B8%D0%BD%D1%81%D0%BA%D0%B0%D1%8F+%D1%85%D0%B0%D0%BB%D0%B0%D1%82%D0%BD%D0%BE%D1%81%D1%82%D1%8C&_=1583353306717&regular-judge=&snippet_pos=584' with link or location/anchor > 255 characters since it exceeds Excel's limit for URLS\n",
      "  force_unicode(url))\n",
      "/home/politlen/anaconda3/lib/python3.7/site-packages/xlsxwriter/worksheet.py:931: UserWarning: Ignoring URL 'https://sudact.ru/regular/doc/7k0pX8vDLXYn/?page=7&regular-court=&regular-date_from=01.02.2018&regular-case_doc=&regular-lawchunkinfo=%D0%A1%D1%82%D0%B0%D1%82%D1%8C%D1%8F+151.+%D0%9A%D0%BE%D0%BC%D0%BF%D0%B5%D0%BD%D1%81%D0%B0%D1%86%D0%B8%D1%8F+%D0%BC%D0%BE%D1%80%D0%B0%D0%BB%D1%8C%D0%BD%D0%BE%D0%B3%D0%BE+%D0%B2%D1%80%D0%B5%D0%B4%D0%B0%28%D0%93%D0%9A+%D0%A0%D0%A4%29&regular-workflow_stage=10&regular-date_to=30.06.2018&regular-area=&regular-txt=%D0%BC%D0%B5%D0%B4%D0%B8%D1%86%D0%B8%D0%BD%D1%81%D0%BA%D0%B0%D1%8F+%D1%85%D0%B0%D0%BB%D0%B0%D1%82%D0%BD%D0%BE%D1%81%D1%82%D1%8C&_=1583353306717&regular-judge=&snippet_pos=592' with link or location/anchor > 255 characters since it exceeds Excel's limit for URLS\n",
      "  force_unicode(url))\n",
      "/home/politlen/anaconda3/lib/python3.7/site-packages/xlsxwriter/worksheet.py:931: UserWarning: Ignoring URL 'https://sudact.ru/regular/doc/WlsqSxqFMUJQ/?page=7&regular-court=&regular-date_from=01.02.2018&regular-case_doc=&regular-lawchunkinfo=%D0%A1%D1%82%D0%B0%D1%82%D1%8C%D1%8F+151.+%D0%9A%D0%BE%D0%BC%D0%BF%D0%B5%D0%BD%D1%81%D0%B0%D1%86%D0%B8%D1%8F+%D0%BC%D0%BE%D1%80%D0%B0%D0%BB%D1%8C%D0%BD%D0%BE%D0%B3%D0%BE+%D0%B2%D1%80%D0%B5%D0%B4%D0%B0%28%D0%93%D0%9A+%D0%A0%D0%A4%29&regular-workflow_stage=10&regular-date_to=30.06.2018&regular-area=&regular-txt=%D0%BC%D0%B5%D0%B4%D0%B8%D1%86%D0%B8%D0%BD%D1%81%D0%BA%D0%B0%D1%8F+%D1%85%D0%B0%D0%BB%D0%B0%D1%82%D0%BD%D0%BE%D1%81%D1%82%D1%8C&_=1583353306717&regular-judge=&snippet_pos=3014' with link or location/anchor > 255 characters since it exceeds Excel's limit for URLS\n",
      "  force_unicode(url))\n",
      "/home/politlen/anaconda3/lib/python3.7/site-packages/xlsxwriter/worksheet.py:931: UserWarning: Ignoring URL 'https://sudact.ru/regular/doc/TdWRVMuvLx51/?page=8&regular-court=&regular-date_from=01.02.2018&regular-case_doc=&regular-lawchunkinfo=%D0%A1%D1%82%D0%B0%D1%82%D1%8C%D1%8F+151.+%D0%9A%D0%BE%D0%BC%D0%BF%D0%B5%D0%BD%D1%81%D0%B0%D1%86%D0%B8%D1%8F+%D0%BC%D0%BE%D1%80%D0%B0%D0%BB%D1%8C%D0%BD%D0%BE%D0%B3%D0%BE+%D0%B2%D1%80%D0%B5%D0%B4%D0%B0%28%D0%93%D0%9A+%D0%A0%D0%A4%29&regular-workflow_stage=10&regular-date_to=30.06.2018&regular-area=&regular-txt=%D0%BC%D0%B5%D0%B4%D0%B8%D1%86%D0%B8%D0%BD%D1%81%D0%BA%D0%B0%D1%8F+%D1%85%D0%B0%D0%BB%D0%B0%D1%82%D0%BD%D0%BE%D1%81%D1%82%D1%8C&_=1583353310234&regular-judge=&snippet_pos=974' with link or location/anchor > 255 characters since it exceeds Excel's limit for URLS\n",
      "  force_unicode(url))\n",
      "/home/politlen/anaconda3/lib/python3.7/site-packages/xlsxwriter/worksheet.py:931: UserWarning: Ignoring URL 'https://sudact.ru/regular/doc/DIdHFVqFpPa/?page=8&regular-court=&regular-date_from=01.02.2018&regular-case_doc=&regular-lawchunkinfo=%D0%A1%D1%82%D0%B0%D1%82%D1%8C%D1%8F+151.+%D0%9A%D0%BE%D0%BC%D0%BF%D0%B5%D0%BD%D1%81%D0%B0%D1%86%D0%B8%D1%8F+%D0%BC%D0%BE%D1%80%D0%B0%D0%BB%D1%8C%D0%BD%D0%BE%D0%B3%D0%BE+%D0%B2%D1%80%D0%B5%D0%B4%D0%B0%28%D0%93%D0%9A+%D0%A0%D0%A4%29&regular-workflow_stage=10&regular-date_to=30.06.2018&regular-area=&regular-txt=%D0%BC%D0%B5%D0%B4%D0%B8%D1%86%D0%B8%D0%BD%D1%81%D0%BA%D0%B0%D1%8F+%D1%85%D0%B0%D0%BB%D0%B0%D1%82%D0%BD%D0%BE%D1%81%D1%82%D1%8C&_=1583353310234&regular-judge=&snippet_pos=1716' with link or location/anchor > 255 characters since it exceeds Excel's limit for URLS\n",
      "  force_unicode(url))\n",
      "/home/politlen/anaconda3/lib/python3.7/site-packages/xlsxwriter/worksheet.py:931: UserWarning: Ignoring URL 'https://sudact.ru/regular/doc/mc7lUMPKNU6V/?page=8&regular-court=&regular-date_from=01.02.2018&regular-case_doc=&regular-lawchunkinfo=%D0%A1%D1%82%D0%B0%D1%82%D1%8C%D1%8F+151.+%D0%9A%D0%BE%D0%BC%D0%BF%D0%B5%D0%BD%D1%81%D0%B0%D1%86%D0%B8%D1%8F+%D0%BC%D0%BE%D1%80%D0%B0%D0%BB%D1%8C%D0%BD%D0%BE%D0%B3%D0%BE+%D0%B2%D1%80%D0%B5%D0%B4%D0%B0%28%D0%93%D0%9A+%D0%A0%D0%A4%29&regular-workflow_stage=10&regular-date_to=30.06.2018&regular-area=&regular-txt=%D0%BC%D0%B5%D0%B4%D0%B8%D1%86%D0%B8%D0%BD%D1%81%D0%BA%D0%B0%D1%8F+%D1%85%D0%B0%D0%BB%D0%B0%D1%82%D0%BD%D0%BE%D1%81%D1%82%D1%8C&_=1583353310234&regular-judge=&snippet_pos=968' with link or location/anchor > 255 characters since it exceeds Excel's limit for URLS\n",
      "  force_unicode(url))\n",
      "/home/politlen/anaconda3/lib/python3.7/site-packages/xlsxwriter/worksheet.py:931: UserWarning: Ignoring URL 'https://sudact.ru/regular/doc/ZudiiwW9G4gP/?page=8&regular-court=&regular-date_from=01.02.2018&regular-case_doc=&regular-lawchunkinfo=%D0%A1%D1%82%D0%B0%D1%82%D1%8C%D1%8F+151.+%D0%9A%D0%BE%D0%BC%D0%BF%D0%B5%D0%BD%D1%81%D0%B0%D1%86%D0%B8%D1%8F+%D0%BC%D0%BE%D1%80%D0%B0%D0%BB%D1%8C%D0%BD%D0%BE%D0%B3%D0%BE+%D0%B2%D1%80%D0%B5%D0%B4%D0%B0%28%D0%93%D0%9A+%D0%A0%D0%A4%29&regular-workflow_stage=10&regular-date_to=30.06.2018&regular-area=&regular-txt=%D0%BC%D0%B5%D0%B4%D0%B8%D1%86%D0%B8%D0%BD%D1%81%D0%BA%D0%B0%D1%8F+%D1%85%D0%B0%D0%BB%D0%B0%D1%82%D0%BD%D0%BE%D1%81%D1%82%D1%8C&_=1583353310234&regular-judge=&snippet_pos=756' with link or location/anchor > 255 characters since it exceeds Excel's limit for URLS\n",
      "  force_unicode(url))\n",
      "/home/politlen/anaconda3/lib/python3.7/site-packages/xlsxwriter/worksheet.py:931: UserWarning: Ignoring URL 'https://sudact.ru/regular/doc/eUcnppE85SoQ/?page=8&regular-court=&regular-date_from=01.02.2018&regular-case_doc=&regular-lawchunkinfo=%D0%A1%D1%82%D0%B0%D1%82%D1%8C%D1%8F+151.+%D0%9A%D0%BE%D0%BC%D0%BF%D0%B5%D0%BD%D1%81%D0%B0%D1%86%D0%B8%D1%8F+%D0%BC%D0%BE%D1%80%D0%B0%D0%BB%D1%8C%D0%BD%D0%BE%D0%B3%D0%BE+%D0%B2%D1%80%D0%B5%D0%B4%D0%B0%28%D0%93%D0%9A+%D0%A0%D0%A4%29&regular-workflow_stage=10&regular-date_to=30.06.2018&regular-area=&regular-txt=%D0%BC%D0%B5%D0%B4%D0%B8%D1%86%D0%B8%D0%BD%D1%81%D0%BA%D0%B0%D1%8F+%D1%85%D0%B0%D0%BB%D0%B0%D1%82%D0%BD%D0%BE%D1%81%D1%82%D1%8C&_=1583353310234&regular-judge=&snippet_pos=4548' with link or location/anchor > 255 characters since it exceeds Excel's limit for URLS\n",
      "  force_unicode(url))\n",
      "/home/politlen/anaconda3/lib/python3.7/site-packages/xlsxwriter/worksheet.py:931: UserWarning: Ignoring URL 'https://sudact.ru/regular/doc/yvIosdzcUg66/?page=8&regular-court=&regular-date_from=01.02.2018&regular-case_doc=&regular-lawchunkinfo=%D0%A1%D1%82%D0%B0%D1%82%D1%8C%D1%8F+151.+%D0%9A%D0%BE%D0%BC%D0%BF%D0%B5%D0%BD%D1%81%D0%B0%D1%86%D0%B8%D1%8F+%D0%BC%D0%BE%D1%80%D0%B0%D0%BB%D1%8C%D0%BD%D0%BE%D0%B3%D0%BE+%D0%B2%D1%80%D0%B5%D0%B4%D0%B0%28%D0%93%D0%9A+%D0%A0%D0%A4%29&regular-workflow_stage=10&regular-date_to=30.06.2018&regular-area=&regular-txt=%D0%BC%D0%B5%D0%B4%D0%B8%D1%86%D0%B8%D0%BD%D1%81%D0%BA%D0%B0%D1%8F+%D1%85%D0%B0%D0%BB%D0%B0%D1%82%D0%BD%D0%BE%D1%81%D1%82%D1%8C&_=1583353310234&regular-judge=&snippet_pos=1442' with link or location/anchor > 255 characters since it exceeds Excel's limit for URLS\n",
      "  force_unicode(url))\n",
      "/home/politlen/anaconda3/lib/python3.7/site-packages/xlsxwriter/worksheet.py:931: UserWarning: Ignoring URL 'https://sudact.ru/regular/doc/5wIkdPDwWmlZ/?page=8&regular-court=&regular-date_from=01.02.2018&regular-case_doc=&regular-lawchunkinfo=%D0%A1%D1%82%D0%B0%D1%82%D1%8C%D1%8F+151.+%D0%9A%D0%BE%D0%BC%D0%BF%D0%B5%D0%BD%D1%81%D0%B0%D1%86%D0%B8%D1%8F+%D0%BC%D0%BE%D1%80%D0%B0%D0%BB%D1%8C%D0%BD%D0%BE%D0%B3%D0%BE+%D0%B2%D1%80%D0%B5%D0%B4%D0%B0%28%D0%93%D0%9A+%D0%A0%D0%A4%29&regular-workflow_stage=10&regular-date_to=30.06.2018&regular-area=&regular-txt=%D0%BC%D0%B5%D0%B4%D0%B8%D1%86%D0%B8%D0%BD%D1%81%D0%BA%D0%B0%D1%8F+%D1%85%D0%B0%D0%BB%D0%B0%D1%82%D0%BD%D0%BE%D1%81%D1%82%D1%8C&_=1583353310234&regular-judge=&snippet_pos=518' with link or location/anchor > 255 characters since it exceeds Excel's limit for URLS\n",
      "  force_unicode(url))\n",
      "/home/politlen/anaconda3/lib/python3.7/site-packages/xlsxwriter/worksheet.py:931: UserWarning: Ignoring URL 'https://sudact.ru/regular/doc/bfTkkSISHLxX/?page=8&regular-court=&regular-date_from=01.02.2018&regular-case_doc=&regular-lawchunkinfo=%D0%A1%D1%82%D0%B0%D1%82%D1%8C%D1%8F+151.+%D0%9A%D0%BE%D0%BC%D0%BF%D0%B5%D0%BD%D1%81%D0%B0%D1%86%D0%B8%D1%8F+%D0%BC%D0%BE%D1%80%D0%B0%D0%BB%D1%8C%D0%BD%D0%BE%D0%B3%D0%BE+%D0%B2%D1%80%D0%B5%D0%B4%D0%B0%28%D0%93%D0%9A+%D0%A0%D0%A4%29&regular-workflow_stage=10&regular-date_to=30.06.2018&regular-area=&regular-txt=%D0%BC%D0%B5%D0%B4%D0%B8%D1%86%D0%B8%D0%BD%D1%81%D0%BA%D0%B0%D1%8F+%D1%85%D0%B0%D0%BB%D0%B0%D1%82%D0%BD%D0%BE%D1%81%D1%82%D1%8C&_=1583353310234&regular-judge=&snippet_pos=2310' with link or location/anchor > 255 characters since it exceeds Excel's limit for URLS\n",
      "  force_unicode(url))\n",
      "/home/politlen/anaconda3/lib/python3.7/site-packages/xlsxwriter/worksheet.py:931: UserWarning: Ignoring URL 'https://sudact.ru/regular/doc/9gYZBdvkJQNJ/?page=8&regular-court=&regular-date_from=01.02.2018&regular-case_doc=&regular-lawchunkinfo=%D0%A1%D1%82%D0%B0%D1%82%D1%8C%D1%8F+151.+%D0%9A%D0%BE%D0%BC%D0%BF%D0%B5%D0%BD%D1%81%D0%B0%D1%86%D0%B8%D1%8F+%D0%BC%D0%BE%D1%80%D0%B0%D0%BB%D1%8C%D0%BD%D0%BE%D0%B3%D0%BE+%D0%B2%D1%80%D0%B5%D0%B4%D0%B0%28%D0%93%D0%9A+%D0%A0%D0%A4%29&regular-workflow_stage=10&regular-date_to=30.06.2018&regular-area=&regular-txt=%D0%BC%D0%B5%D0%B4%D0%B8%D1%86%D0%B8%D0%BD%D1%81%D0%BA%D0%B0%D1%8F+%D1%85%D0%B0%D0%BB%D0%B0%D1%82%D0%BD%D0%BE%D1%81%D1%82%D1%8C&_=1583353310234&regular-judge=&snippet_pos=4674' with link or location/anchor > 255 characters since it exceeds Excel's limit for URLS\n",
      "  force_unicode(url))\n",
      "/home/politlen/anaconda3/lib/python3.7/site-packages/xlsxwriter/worksheet.py:931: UserWarning: Ignoring URL 'https://sudact.ru/regular/doc/P17ABHhLqyVO/?page=8&regular-court=&regular-date_from=01.02.2018&regular-case_doc=&regular-lawchunkinfo=%D0%A1%D1%82%D0%B0%D1%82%D1%8C%D1%8F+151.+%D0%9A%D0%BE%D0%BC%D0%BF%D0%B5%D0%BD%D1%81%D0%B0%D1%86%D0%B8%D1%8F+%D0%BC%D0%BE%D1%80%D0%B0%D0%BB%D1%8C%D0%BD%D0%BE%D0%B3%D0%BE+%D0%B2%D1%80%D0%B5%D0%B4%D0%B0%28%D0%93%D0%9A+%D0%A0%D0%A4%29&regular-workflow_stage=10&regular-date_to=30.06.2018&regular-area=&regular-txt=%D0%BC%D0%B5%D0%B4%D0%B8%D1%86%D0%B8%D0%BD%D1%81%D0%BA%D0%B0%D1%8F+%D1%85%D0%B0%D0%BB%D0%B0%D1%82%D0%BD%D0%BE%D1%81%D1%82%D1%8C&_=1583353310234&regular-judge=&snippet_pos=3612' with link or location/anchor > 255 characters since it exceeds Excel's limit for URLS\n",
      "  force_unicode(url))\n",
      "/home/politlen/anaconda3/lib/python3.7/site-packages/xlsxwriter/worksheet.py:931: UserWarning: Ignoring URL 'https://sudact.ru/regular/doc/DITeoDqanQ1M/?page=9&regular-court=&regular-date_from=01.02.2018&regular-case_doc=&regular-lawchunkinfo=%D0%A1%D1%82%D0%B0%D1%82%D1%8C%D1%8F+151.+%D0%9A%D0%BE%D0%BC%D0%BF%D0%B5%D0%BD%D1%81%D0%B0%D1%86%D0%B8%D1%8F+%D0%BC%D0%BE%D1%80%D0%B0%D0%BB%D1%8C%D0%BD%D0%BE%D0%B3%D0%BE+%D0%B2%D1%80%D0%B5%D0%B4%D0%B0%28%D0%93%D0%9A+%D0%A0%D0%A4%29&regular-workflow_stage=10&regular-date_to=30.06.2018&regular-area=&regular-txt=%D0%BC%D0%B5%D0%B4%D0%B8%D1%86%D0%B8%D0%BD%D1%81%D0%BA%D0%B0%D1%8F+%D1%85%D0%B0%D0%BB%D0%B0%D1%82%D0%BD%D0%BE%D1%81%D1%82%D1%8C&_=1583353313775&regular-judge=&snippet_pos=2662' with link or location/anchor > 255 characters since it exceeds Excel's limit for URLS\n",
      "  force_unicode(url))\n",
      "/home/politlen/anaconda3/lib/python3.7/site-packages/xlsxwriter/worksheet.py:931: UserWarning: Ignoring URL 'https://sudact.ru/regular/doc/z36tytMQX0mQ/?page=9&regular-court=&regular-date_from=01.02.2018&regular-case_doc=&regular-lawchunkinfo=%D0%A1%D1%82%D0%B0%D1%82%D1%8C%D1%8F+151.+%D0%9A%D0%BE%D0%BC%D0%BF%D0%B5%D0%BD%D1%81%D0%B0%D1%86%D0%B8%D1%8F+%D0%BC%D0%BE%D1%80%D0%B0%D0%BB%D1%8C%D0%BD%D0%BE%D0%B3%D0%BE+%D0%B2%D1%80%D0%B5%D0%B4%D0%B0%28%D0%93%D0%9A+%D0%A0%D0%A4%29&regular-workflow_stage=10&regular-date_to=30.06.2018&regular-area=&regular-txt=%D0%BC%D0%B5%D0%B4%D0%B8%D1%86%D0%B8%D0%BD%D1%81%D0%BA%D0%B0%D1%8F+%D1%85%D0%B0%D0%BB%D0%B0%D1%82%D0%BD%D0%BE%D1%81%D1%82%D1%8C&_=1583353313775&regular-judge=&snippet_pos=3280' with link or location/anchor > 255 characters since it exceeds Excel's limit for URLS\n",
      "  force_unicode(url))\n",
      "/home/politlen/anaconda3/lib/python3.7/site-packages/xlsxwriter/worksheet.py:931: UserWarning: Ignoring URL 'https://sudact.ru/regular/doc/IHwLKxmK7yZ6/?page=9&regular-court=&regular-date_from=01.02.2018&regular-case_doc=&regular-lawchunkinfo=%D0%A1%D1%82%D0%B0%D1%82%D1%8C%D1%8F+151.+%D0%9A%D0%BE%D0%BC%D0%BF%D0%B5%D0%BD%D1%81%D0%B0%D1%86%D0%B8%D1%8F+%D0%BC%D0%BE%D1%80%D0%B0%D0%BB%D1%8C%D0%BD%D0%BE%D0%B3%D0%BE+%D0%B2%D1%80%D0%B5%D0%B4%D0%B0%28%D0%93%D0%9A+%D0%A0%D0%A4%29&regular-workflow_stage=10&regular-date_to=30.06.2018&regular-area=&regular-txt=%D0%BC%D0%B5%D0%B4%D0%B8%D1%86%D0%B8%D0%BD%D1%81%D0%BA%D0%B0%D1%8F+%D1%85%D0%B0%D0%BB%D0%B0%D1%82%D0%BD%D0%BE%D1%81%D1%82%D1%8C&_=1583353313775&regular-judge=&snippet_pos=1832' with link or location/anchor > 255 characters since it exceeds Excel's limit for URLS\n",
      "  force_unicode(url))\n",
      "/home/politlen/anaconda3/lib/python3.7/site-packages/xlsxwriter/worksheet.py:931: UserWarning: Ignoring URL 'https://sudact.ru/regular/doc/wM2abMVWe2WW/?page=9&regular-court=&regular-date_from=01.02.2018&regular-case_doc=&regular-lawchunkinfo=%D0%A1%D1%82%D0%B0%D1%82%D1%8C%D1%8F+151.+%D0%9A%D0%BE%D0%BC%D0%BF%D0%B5%D0%BD%D1%81%D0%B0%D1%86%D0%B8%D1%8F+%D0%BC%D0%BE%D1%80%D0%B0%D0%BB%D1%8C%D0%BD%D0%BE%D0%B3%D0%BE+%D0%B2%D1%80%D0%B5%D0%B4%D0%B0%28%D0%93%D0%9A+%D0%A0%D0%A4%29&regular-workflow_stage=10&regular-date_to=30.06.2018&regular-area=&regular-txt=%D0%BC%D0%B5%D0%B4%D0%B8%D1%86%D0%B8%D0%BD%D1%81%D0%BA%D0%B0%D1%8F+%D1%85%D0%B0%D0%BB%D0%B0%D1%82%D0%BD%D0%BE%D1%81%D1%82%D1%8C&_=1583353313775&regular-judge=&snippet_pos=2014' with link or location/anchor > 255 characters since it exceeds Excel's limit for URLS\n",
      "  force_unicode(url))\n",
      "/home/politlen/anaconda3/lib/python3.7/site-packages/xlsxwriter/worksheet.py:931: UserWarning: Ignoring URL 'https://sudact.ru/regular/doc/f6BV4DE3lyoN/?page=9&regular-court=&regular-date_from=01.02.2018&regular-case_doc=&regular-lawchunkinfo=%D0%A1%D1%82%D0%B0%D1%82%D1%8C%D1%8F+151.+%D0%9A%D0%BE%D0%BC%D0%BF%D0%B5%D0%BD%D1%81%D0%B0%D1%86%D0%B8%D1%8F+%D0%BC%D0%BE%D1%80%D0%B0%D0%BB%D1%8C%D0%BD%D0%BE%D0%B3%D0%BE+%D0%B2%D1%80%D0%B5%D0%B4%D0%B0%28%D0%93%D0%9A+%D0%A0%D0%A4%29&regular-workflow_stage=10&regular-date_to=30.06.2018&regular-area=&regular-txt=%D0%BC%D0%B5%D0%B4%D0%B8%D1%86%D0%B8%D0%BD%D1%81%D0%BA%D0%B0%D1%8F+%D1%85%D0%B0%D0%BB%D0%B0%D1%82%D0%BD%D0%BE%D1%81%D1%82%D1%8C&_=1583353313775&regular-judge=&snippet_pos=550' with link or location/anchor > 255 characters since it exceeds Excel's limit for URLS\n",
      "  force_unicode(url))\n",
      "/home/politlen/anaconda3/lib/python3.7/site-packages/xlsxwriter/worksheet.py:931: UserWarning: Ignoring URL 'https://sudact.ru/regular/doc/CrUZYoNHOMJq/?page=9&regular-court=&regular-date_from=01.02.2018&regular-case_doc=&regular-lawchunkinfo=%D0%A1%D1%82%D0%B0%D1%82%D1%8C%D1%8F+151.+%D0%9A%D0%BE%D0%BC%D0%BF%D0%B5%D0%BD%D1%81%D0%B0%D1%86%D0%B8%D1%8F+%D0%BC%D0%BE%D1%80%D0%B0%D0%BB%D1%8C%D0%BD%D0%BE%D0%B3%D0%BE+%D0%B2%D1%80%D0%B5%D0%B4%D0%B0%28%D0%93%D0%9A+%D0%A0%D0%A4%29&regular-workflow_stage=10&regular-date_to=30.06.2018&regular-area=&regular-txt=%D0%BC%D0%B5%D0%B4%D0%B8%D1%86%D0%B8%D0%BD%D1%81%D0%BA%D0%B0%D1%8F+%D1%85%D0%B0%D0%BB%D0%B0%D1%82%D0%BD%D0%BE%D1%81%D1%82%D1%8C&_=1583353313775&regular-judge=&snippet_pos=3236' with link or location/anchor > 255 characters since it exceeds Excel's limit for URLS\n",
      "  force_unicode(url))\n",
      "/home/politlen/anaconda3/lib/python3.7/site-packages/xlsxwriter/worksheet.py:931: UserWarning: Ignoring URL 'https://sudact.ru/regular/doc/UNS96sz7C2lE/?page=9&regular-court=&regular-date_from=01.02.2018&regular-case_doc=&regular-lawchunkinfo=%D0%A1%D1%82%D0%B0%D1%82%D1%8C%D1%8F+151.+%D0%9A%D0%BE%D0%BC%D0%BF%D0%B5%D0%BD%D1%81%D0%B0%D1%86%D0%B8%D1%8F+%D0%BC%D0%BE%D1%80%D0%B0%D0%BB%D1%8C%D0%BD%D0%BE%D0%B3%D0%BE+%D0%B2%D1%80%D0%B5%D0%B4%D0%B0%28%D0%93%D0%9A+%D0%A0%D0%A4%29&regular-workflow_stage=10&regular-date_to=30.06.2018&regular-area=&regular-txt=%D0%BC%D0%B5%D0%B4%D0%B8%D1%86%D0%B8%D0%BD%D1%81%D0%BA%D0%B0%D1%8F+%D1%85%D0%B0%D0%BB%D0%B0%D1%82%D0%BD%D0%BE%D1%81%D1%82%D1%8C&_=1583353313775&regular-judge=&snippet_pos=1414' with link or location/anchor > 255 characters since it exceeds Excel's limit for URLS\n",
      "  force_unicode(url))\n",
      "/home/politlen/anaconda3/lib/python3.7/site-packages/xlsxwriter/worksheet.py:931: UserWarning: Ignoring URL 'https://sudact.ru/regular/doc/iXztz6i4tExr/?page=9&regular-court=&regular-date_from=01.02.2018&regular-case_doc=&regular-lawchunkinfo=%D0%A1%D1%82%D0%B0%D1%82%D1%8C%D1%8F+151.+%D0%9A%D0%BE%D0%BC%D0%BF%D0%B5%D0%BD%D1%81%D0%B0%D1%86%D0%B8%D1%8F+%D0%BC%D0%BE%D1%80%D0%B0%D0%BB%D1%8C%D0%BD%D0%BE%D0%B3%D0%BE+%D0%B2%D1%80%D0%B5%D0%B4%D0%B0%28%D0%93%D0%9A+%D0%A0%D0%A4%29&regular-workflow_stage=10&regular-date_to=30.06.2018&regular-area=&regular-txt=%D0%BC%D0%B5%D0%B4%D0%B8%D1%86%D0%B8%D0%BD%D1%81%D0%BA%D0%B0%D1%8F+%D1%85%D0%B0%D0%BB%D0%B0%D1%82%D0%BD%D0%BE%D1%81%D1%82%D1%8C&_=1583353313775&regular-judge=&snippet_pos=888' with link or location/anchor > 255 characters since it exceeds Excel's limit for URLS\n",
      "  force_unicode(url))\n",
      "/home/politlen/anaconda3/lib/python3.7/site-packages/xlsxwriter/worksheet.py:931: UserWarning: Ignoring URL 'https://sudact.ru/regular/doc/tXxwNWjcPqmX/?page=9&regular-court=&regular-date_from=01.02.2018&regular-case_doc=&regular-lawchunkinfo=%D0%A1%D1%82%D0%B0%D1%82%D1%8C%D1%8F+151.+%D0%9A%D0%BE%D0%BC%D0%BF%D0%B5%D0%BD%D1%81%D0%B0%D1%86%D0%B8%D1%8F+%D0%BC%D0%BE%D1%80%D0%B0%D0%BB%D1%8C%D0%BD%D0%BE%D0%B3%D0%BE+%D0%B2%D1%80%D0%B5%D0%B4%D0%B0%28%D0%93%D0%9A+%D0%A0%D0%A4%29&regular-workflow_stage=10&regular-date_to=30.06.2018&regular-area=&regular-txt=%D0%BC%D0%B5%D0%B4%D0%B8%D1%86%D0%B8%D0%BD%D1%81%D0%BA%D0%B0%D1%8F+%D1%85%D0%B0%D0%BB%D0%B0%D1%82%D0%BD%D0%BE%D1%81%D1%82%D1%8C&_=1583353313775&regular-judge=&snippet_pos=342' with link or location/anchor > 255 characters since it exceeds Excel's limit for URLS\n",
      "  force_unicode(url))\n",
      "/home/politlen/anaconda3/lib/python3.7/site-packages/xlsxwriter/worksheet.py:931: UserWarning: Ignoring URL 'https://sudact.ru/regular/doc/JlJ7u65sYxoK/?page=9&regular-court=&regular-date_from=01.02.2018&regular-case_doc=&regular-lawchunkinfo=%D0%A1%D1%82%D0%B0%D1%82%D1%8C%D1%8F+151.+%D0%9A%D0%BE%D0%BC%D0%BF%D0%B5%D0%BD%D1%81%D0%B0%D1%86%D0%B8%D1%8F+%D0%BC%D0%BE%D1%80%D0%B0%D0%BB%D1%8C%D0%BD%D0%BE%D0%B3%D0%BE+%D0%B2%D1%80%D0%B5%D0%B4%D0%B0%28%D0%93%D0%9A+%D0%A0%D0%A4%29&regular-workflow_stage=10&regular-date_to=30.06.2018&regular-area=&regular-txt=%D0%BC%D0%B5%D0%B4%D0%B8%D1%86%D0%B8%D0%BD%D1%81%D0%BA%D0%B0%D1%8F+%D1%85%D0%B0%D0%BB%D0%B0%D1%82%D0%BD%D0%BE%D1%81%D1%82%D1%8C&_=1583353313775&regular-judge=&snippet_pos=1110' with link or location/anchor > 255 characters since it exceeds Excel's limit for URLS\n",
      "  force_unicode(url))\n",
      "/home/politlen/anaconda3/lib/python3.7/site-packages/xlsxwriter/worksheet.py:931: UserWarning: Ignoring URL 'https://sudact.ru/regular/doc/YOBsf7C3UOUP/?page=10&regular-court=&regular-date_from=01.02.2018&regular-case_doc=&regular-lawchunkinfo=%D0%A1%D1%82%D0%B0%D1%82%D1%8C%D1%8F+151.+%D0%9A%D0%BE%D0%BC%D0%BF%D0%B5%D0%BD%D1%81%D0%B0%D1%86%D0%B8%D1%8F+%D0%BC%D0%BE%D1%80%D0%B0%D0%BB%D1%8C%D0%BD%D0%BE%D0%B3%D0%BE+%D0%B2%D1%80%D0%B5%D0%B4%D0%B0%28%D0%93%D0%9A+%D0%A0%D0%A4%29&regular-workflow_stage=10&regular-date_to=30.06.2018&regular-area=&regular-txt=%D0%BC%D0%B5%D0%B4%D0%B8%D1%86%D0%B8%D0%BD%D1%81%D0%BA%D0%B0%D1%8F+%D1%85%D0%B0%D0%BB%D0%B0%D1%82%D0%BD%D0%BE%D1%81%D1%82%D1%8C&_=1583353317361&regular-judge=&snippet_pos=3388' with link or location/anchor > 255 characters since it exceeds Excel's limit for URLS\n",
      "  force_unicode(url))\n",
      "/home/politlen/anaconda3/lib/python3.7/site-packages/xlsxwriter/worksheet.py:931: UserWarning: Ignoring URL 'https://sudact.ru/regular/doc/Sk87VV1crRlV/?page=10&regular-court=&regular-date_from=01.02.2018&regular-case_doc=&regular-lawchunkinfo=%D0%A1%D1%82%D0%B0%D1%82%D1%8C%D1%8F+151.+%D0%9A%D0%BE%D0%BC%D0%BF%D0%B5%D0%BD%D1%81%D0%B0%D1%86%D0%B8%D1%8F+%D0%BC%D0%BE%D1%80%D0%B0%D0%BB%D1%8C%D0%BD%D0%BE%D0%B3%D0%BE+%D0%B2%D1%80%D0%B5%D0%B4%D0%B0%28%D0%93%D0%9A+%D0%A0%D0%A4%29&regular-workflow_stage=10&regular-date_to=30.06.2018&regular-area=&regular-txt=%D0%BC%D0%B5%D0%B4%D0%B8%D1%86%D0%B8%D0%BD%D1%81%D0%BA%D0%B0%D1%8F+%D1%85%D0%B0%D0%BB%D0%B0%D1%82%D0%BD%D0%BE%D1%81%D1%82%D1%8C&_=1583353317361&regular-judge=&snippet_pos=4782' with link or location/anchor > 255 characters since it exceeds Excel's limit for URLS\n",
      "  force_unicode(url))\n",
      "/home/politlen/anaconda3/lib/python3.7/site-packages/xlsxwriter/worksheet.py:931: UserWarning: Ignoring URL 'https://sudact.ru/regular/doc/1fTSgVGaG9VF/?page=10&regular-court=&regular-date_from=01.02.2018&regular-case_doc=&regular-lawchunkinfo=%D0%A1%D1%82%D0%B0%D1%82%D1%8C%D1%8F+151.+%D0%9A%D0%BE%D0%BC%D0%BF%D0%B5%D0%BD%D1%81%D0%B0%D1%86%D0%B8%D1%8F+%D0%BC%D0%BE%D1%80%D0%B0%D0%BB%D1%8C%D0%BD%D0%BE%D0%B3%D0%BE+%D0%B2%D1%80%D0%B5%D0%B4%D0%B0%28%D0%93%D0%9A+%D0%A0%D0%A4%29&regular-workflow_stage=10&regular-date_to=30.06.2018&regular-area=&regular-txt=%D0%BC%D0%B5%D0%B4%D0%B8%D1%86%D0%B8%D0%BD%D1%81%D0%BA%D0%B0%D1%8F+%D1%85%D0%B0%D0%BB%D0%B0%D1%82%D0%BD%D0%BE%D1%81%D1%82%D1%8C&_=1583353317361&regular-judge=&snippet_pos=1470' with link or location/anchor > 255 characters since it exceeds Excel's limit for URLS\n",
      "  force_unicode(url))\n",
      "/home/politlen/anaconda3/lib/python3.7/site-packages/xlsxwriter/worksheet.py:931: UserWarning: Ignoring URL 'https://sudact.ru/regular/doc/kzEOTvGxldUx/?page=10&regular-court=&regular-date_from=01.02.2018&regular-case_doc=&regular-lawchunkinfo=%D0%A1%D1%82%D0%B0%D1%82%D1%8C%D1%8F+151.+%D0%9A%D0%BE%D0%BC%D0%BF%D0%B5%D0%BD%D1%81%D0%B0%D1%86%D0%B8%D1%8F+%D0%BC%D0%BE%D1%80%D0%B0%D0%BB%D1%8C%D0%BD%D0%BE%D0%B3%D0%BE+%D0%B2%D1%80%D0%B5%D0%B4%D0%B0%28%D0%93%D0%9A+%D0%A0%D0%A4%29&regular-workflow_stage=10&regular-date_to=30.06.2018&regular-area=&regular-txt=%D0%BC%D0%B5%D0%B4%D0%B8%D1%86%D0%B8%D0%BD%D1%81%D0%BA%D0%B0%D1%8F+%D1%85%D0%B0%D0%BB%D0%B0%D1%82%D0%BD%D0%BE%D1%81%D1%82%D1%8C&_=1583353317361&regular-judge=&snippet_pos=1080' with link or location/anchor > 255 characters since it exceeds Excel's limit for URLS\n",
      "  force_unicode(url))\n",
      "/home/politlen/anaconda3/lib/python3.7/site-packages/xlsxwriter/worksheet.py:931: UserWarning: Ignoring URL 'https://sudact.ru/regular/doc/VvFaGfkRPPlp/?page=10&regular-court=&regular-date_from=01.02.2018&regular-case_doc=&regular-lawchunkinfo=%D0%A1%D1%82%D0%B0%D1%82%D1%8C%D1%8F+151.+%D0%9A%D0%BE%D0%BC%D0%BF%D0%B5%D0%BD%D1%81%D0%B0%D1%86%D0%B8%D1%8F+%D0%BC%D0%BE%D1%80%D0%B0%D0%BB%D1%8C%D0%BD%D0%BE%D0%B3%D0%BE+%D0%B2%D1%80%D0%B5%D0%B4%D0%B0%28%D0%93%D0%9A+%D0%A0%D0%A4%29&regular-workflow_stage=10&regular-date_to=30.06.2018&regular-area=&regular-txt=%D0%BC%D0%B5%D0%B4%D0%B8%D1%86%D0%B8%D0%BD%D1%81%D0%BA%D0%B0%D1%8F+%D1%85%D0%B0%D0%BB%D0%B0%D1%82%D0%BD%D0%BE%D1%81%D1%82%D1%8C&_=1583353317361&regular-judge=&snippet_pos=310' with link or location/anchor > 255 characters since it exceeds Excel's limit for URLS\n",
      "  force_unicode(url))\n",
      "/home/politlen/anaconda3/lib/python3.7/site-packages/xlsxwriter/worksheet.py:931: UserWarning: Ignoring URL 'https://sudact.ru/regular/doc/rsktYPrdGTZQ/?page=10&regular-court=&regular-date_from=01.02.2018&regular-case_doc=&regular-lawchunkinfo=%D0%A1%D1%82%D0%B0%D1%82%D1%8C%D1%8F+151.+%D0%9A%D0%BE%D0%BC%D0%BF%D0%B5%D0%BD%D1%81%D0%B0%D1%86%D0%B8%D1%8F+%D0%BC%D0%BE%D1%80%D0%B0%D0%BB%D1%8C%D0%BD%D0%BE%D0%B3%D0%BE+%D0%B2%D1%80%D0%B5%D0%B4%D0%B0%28%D0%93%D0%9A+%D0%A0%D0%A4%29&regular-workflow_stage=10&regular-date_to=30.06.2018&regular-area=&regular-txt=%D0%BC%D0%B5%D0%B4%D0%B8%D1%86%D0%B8%D0%BD%D1%81%D0%BA%D0%B0%D1%8F+%D1%85%D0%B0%D0%BB%D0%B0%D1%82%D0%BD%D0%BE%D1%81%D1%82%D1%8C&_=1583353317361&regular-judge=&snippet_pos=1300' with link or location/anchor > 255 characters since it exceeds Excel's limit for URLS\n",
      "  force_unicode(url))\n",
      "/home/politlen/anaconda3/lib/python3.7/site-packages/xlsxwriter/worksheet.py:931: UserWarning: Ignoring URL 'https://sudact.ru/regular/doc/8VYqxN9hSUV4/?page=10&regular-court=&regular-date_from=01.02.2018&regular-case_doc=&regular-lawchunkinfo=%D0%A1%D1%82%D0%B0%D1%82%D1%8C%D1%8F+151.+%D0%9A%D0%BE%D0%BC%D0%BF%D0%B5%D0%BD%D1%81%D0%B0%D1%86%D0%B8%D1%8F+%D0%BC%D0%BE%D1%80%D0%B0%D0%BB%D1%8C%D0%BD%D0%BE%D0%B3%D0%BE+%D0%B2%D1%80%D0%B5%D0%B4%D0%B0%28%D0%93%D0%9A+%D0%A0%D0%A4%29&regular-workflow_stage=10&regular-date_to=30.06.2018&regular-area=&regular-txt=%D0%BC%D0%B5%D0%B4%D0%B8%D1%86%D0%B8%D0%BD%D1%81%D0%BA%D0%B0%D1%8F+%D1%85%D0%B0%D0%BB%D0%B0%D1%82%D0%BD%D0%BE%D1%81%D1%82%D1%8C&_=1583353317361&regular-judge=&snippet_pos=986' with link or location/anchor > 255 characters since it exceeds Excel's limit for URLS\n",
      "  force_unicode(url))\n"
     ]
    }
   ],
   "source": [
    "import pandas as pd\n",
    "import os\n",
    "\n",
    "big_df = pd.DataFrame()\n",
    "for i in os.listdir():\n",
    "    if i.endswith('.xlsx'): # чтобы этот код сработал, у вас должны быть файлы разрешения .xlsx в рабочей папке\n",
    "        df = pd.read_excel(i, index_col=0)\n",
    "        print(len(df))\n",
    "        big_df = big_df.append(df)\n",
    "        \n",
    "print(len(big_df))\n",
    "\n",
    "big_df.to_excel('result.xlsx')\n"
   ]
  },
  {
   "cell_type": "markdown",
   "metadata": {},
   "source": [
    "# Спасибо за внимание!"
   ]
  },
  {
   "cell_type": "markdown",
   "metadata": {},
   "source": [
    "Для любопытных\n",
    "\n",
    "Почему постоянно используется переменная i: https://softwareengineering.stackexchange.com/questions/86904/why-do-most-of-us-use-i-as-a-loop-counter-variable"
   ]
  },
  {
   "cell_type": "markdown",
   "metadata": {},
   "source": [
    "Отличный теоретический материал по спискам и циклам  питоне\n",
    "\n",
    "https://www.youtube.com/watch?v=3I6OjxoeSS8"
   ]
  }
 ],
 "metadata": {
  "kernelspec": {
   "display_name": "Python 3",
   "language": "python",
   "name": "python3"
  },
  "language_info": {
   "codemirror_mode": {
    "name": "ipython",
    "version": 3
   },
   "file_extension": ".py",
   "mimetype": "text/x-python",
   "name": "python",
   "nbconvert_exporter": "python",
   "pygments_lexer": "ipython3",
   "version": "3.8.3"
  }
 },
 "nbformat": 4,
 "nbformat_minor": 2
}
