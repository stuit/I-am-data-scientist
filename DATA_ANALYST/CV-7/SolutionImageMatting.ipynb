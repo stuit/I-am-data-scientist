{
  "nbformat": 4,
  "nbformat_minor": 0,
  "metadata": {
    "colab": {
      "name": "SolutionImageMatting.ipynb",
      "provenance": [],
      "collapsed_sections": []
    },
    "kernelspec": {
      "name": "python3",
      "display_name": "Python 3"
    },
    "language_info": {
      "name": "python"
    },
    "accelerator": "GPU",
    "widgets": {
      "application/vnd.jupyter.widget-state+json": {
        "55231058470c44f493050d53bace78cc": {
          "model_module": "@jupyter-widgets/controls",
          "model_name": "HBoxModel",
          "model_module_version": "1.5.0",
          "state": {
            "_view_name": "HBoxView",
            "_dom_classes": [],
            "_model_name": "HBoxModel",
            "_view_module": "@jupyter-widgets/controls",
            "_model_module_version": "1.5.0",
            "_view_count": null,
            "_view_module_version": "1.5.0",
            "box_style": "",
            "layout": "IPY_MODEL_ee95381d42e04fa9a3c1bc7b914ca305",
            "_model_module": "@jupyter-widgets/controls",
            "children": [
              "IPY_MODEL_7bb9d8a886c94cafb3433362771dd3fa",
              "IPY_MODEL_b144d5319fa946dc886313f7edf1bb03",
              "IPY_MODEL_64e9d288608943edb4b8a6f588396b52"
            ]
          }
        },
        "ee95381d42e04fa9a3c1bc7b914ca305": {
          "model_module": "@jupyter-widgets/base",
          "model_name": "LayoutModel",
          "model_module_version": "1.2.0",
          "state": {
            "_view_name": "LayoutView",
            "grid_template_rows": null,
            "right": null,
            "justify_content": null,
            "_view_module": "@jupyter-widgets/base",
            "overflow": null,
            "_model_module_version": "1.2.0",
            "_view_count": null,
            "flex_flow": null,
            "width": null,
            "min_width": null,
            "border": null,
            "align_items": null,
            "bottom": null,
            "_model_module": "@jupyter-widgets/base",
            "top": null,
            "grid_column": null,
            "overflow_y": null,
            "overflow_x": null,
            "grid_auto_flow": null,
            "grid_area": null,
            "grid_template_columns": null,
            "flex": null,
            "_model_name": "LayoutModel",
            "justify_items": null,
            "grid_row": null,
            "max_height": null,
            "align_content": null,
            "visibility": null,
            "align_self": null,
            "height": null,
            "min_height": null,
            "padding": null,
            "grid_auto_rows": null,
            "grid_gap": null,
            "max_width": null,
            "order": null,
            "_view_module_version": "1.2.0",
            "grid_template_areas": null,
            "object_position": null,
            "object_fit": null,
            "grid_auto_columns": null,
            "margin": null,
            "display": null,
            "left": null
          }
        },
        "7bb9d8a886c94cafb3433362771dd3fa": {
          "model_module": "@jupyter-widgets/controls",
          "model_name": "HTMLModel",
          "model_module_version": "1.5.0",
          "state": {
            "_view_name": "HTMLView",
            "style": "IPY_MODEL_dfd8f7ff102246af81a4ca04a7f9a51d",
            "_dom_classes": [],
            "description": "",
            "_model_name": "HTMLModel",
            "placeholder": "​",
            "_view_module": "@jupyter-widgets/controls",
            "_model_module_version": "1.5.0",
            "value": "100%",
            "_view_count": null,
            "_view_module_version": "1.5.0",
            "description_tooltip": null,
            "_model_module": "@jupyter-widgets/controls",
            "layout": "IPY_MODEL_6654faa745f24cc3adf3aa45aca4e842"
          }
        },
        "b144d5319fa946dc886313f7edf1bb03": {
          "model_module": "@jupyter-widgets/controls",
          "model_name": "FloatProgressModel",
          "model_module_version": "1.5.0",
          "state": {
            "_view_name": "ProgressView",
            "style": "IPY_MODEL_390bc602f6f04b128d69ea9775621aa8",
            "_dom_classes": [],
            "description": "",
            "_model_name": "FloatProgressModel",
            "bar_style": "success",
            "max": 168312152,
            "_view_module": "@jupyter-widgets/controls",
            "_model_module_version": "1.5.0",
            "value": 168312152,
            "_view_count": null,
            "_view_module_version": "1.5.0",
            "orientation": "horizontal",
            "min": 0,
            "description_tooltip": null,
            "_model_module": "@jupyter-widgets/controls",
            "layout": "IPY_MODEL_15e4b984b2254b5b9e38d8818264ea41"
          }
        },
        "64e9d288608943edb4b8a6f588396b52": {
          "model_module": "@jupyter-widgets/controls",
          "model_name": "HTMLModel",
          "model_module_version": "1.5.0",
          "state": {
            "_view_name": "HTMLView",
            "style": "IPY_MODEL_5a2cbe8bb6ea4db888eee3e9f23a205f",
            "_dom_classes": [],
            "description": "",
            "_model_name": "HTMLModel",
            "placeholder": "​",
            "_view_module": "@jupyter-widgets/controls",
            "_model_module_version": "1.5.0",
            "value": " 161M/161M [00:02&lt;00:00, 85.3MB/s]",
            "_view_count": null,
            "_view_module_version": "1.5.0",
            "description_tooltip": null,
            "_model_module": "@jupyter-widgets/controls",
            "layout": "IPY_MODEL_3cccdbb797f5404b92ad1469c28dbd7d"
          }
        },
        "dfd8f7ff102246af81a4ca04a7f9a51d": {
          "model_module": "@jupyter-widgets/controls",
          "model_name": "DescriptionStyleModel",
          "model_module_version": "1.5.0",
          "state": {
            "_view_name": "StyleView",
            "_model_name": "DescriptionStyleModel",
            "description_width": "",
            "_view_module": "@jupyter-widgets/base",
            "_model_module_version": "1.5.0",
            "_view_count": null,
            "_view_module_version": "1.2.0",
            "_model_module": "@jupyter-widgets/controls"
          }
        },
        "6654faa745f24cc3adf3aa45aca4e842": {
          "model_module": "@jupyter-widgets/base",
          "model_name": "LayoutModel",
          "model_module_version": "1.2.0",
          "state": {
            "_view_name": "LayoutView",
            "grid_template_rows": null,
            "right": null,
            "justify_content": null,
            "_view_module": "@jupyter-widgets/base",
            "overflow": null,
            "_model_module_version": "1.2.0",
            "_view_count": null,
            "flex_flow": null,
            "width": null,
            "min_width": null,
            "border": null,
            "align_items": null,
            "bottom": null,
            "_model_module": "@jupyter-widgets/base",
            "top": null,
            "grid_column": null,
            "overflow_y": null,
            "overflow_x": null,
            "grid_auto_flow": null,
            "grid_area": null,
            "grid_template_columns": null,
            "flex": null,
            "_model_name": "LayoutModel",
            "justify_items": null,
            "grid_row": null,
            "max_height": null,
            "align_content": null,
            "visibility": null,
            "align_self": null,
            "height": null,
            "min_height": null,
            "padding": null,
            "grid_auto_rows": null,
            "grid_gap": null,
            "max_width": null,
            "order": null,
            "_view_module_version": "1.2.0",
            "grid_template_areas": null,
            "object_position": null,
            "object_fit": null,
            "grid_auto_columns": null,
            "margin": null,
            "display": null,
            "left": null
          }
        },
        "390bc602f6f04b128d69ea9775621aa8": {
          "model_module": "@jupyter-widgets/controls",
          "model_name": "ProgressStyleModel",
          "model_module_version": "1.5.0",
          "state": {
            "_view_name": "StyleView",
            "_model_name": "ProgressStyleModel",
            "description_width": "",
            "_view_module": "@jupyter-widgets/base",
            "_model_module_version": "1.5.0",
            "_view_count": null,
            "_view_module_version": "1.2.0",
            "bar_color": null,
            "_model_module": "@jupyter-widgets/controls"
          }
        },
        "15e4b984b2254b5b9e38d8818264ea41": {
          "model_module": "@jupyter-widgets/base",
          "model_name": "LayoutModel",
          "model_module_version": "1.2.0",
          "state": {
            "_view_name": "LayoutView",
            "grid_template_rows": null,
            "right": null,
            "justify_content": null,
            "_view_module": "@jupyter-widgets/base",
            "overflow": null,
            "_model_module_version": "1.2.0",
            "_view_count": null,
            "flex_flow": null,
            "width": null,
            "min_width": null,
            "border": null,
            "align_items": null,
            "bottom": null,
            "_model_module": "@jupyter-widgets/base",
            "top": null,
            "grid_column": null,
            "overflow_y": null,
            "overflow_x": null,
            "grid_auto_flow": null,
            "grid_area": null,
            "grid_template_columns": null,
            "flex": null,
            "_model_name": "LayoutModel",
            "justify_items": null,
            "grid_row": null,
            "max_height": null,
            "align_content": null,
            "visibility": null,
            "align_self": null,
            "height": null,
            "min_height": null,
            "padding": null,
            "grid_auto_rows": null,
            "grid_gap": null,
            "max_width": null,
            "order": null,
            "_view_module_version": "1.2.0",
            "grid_template_areas": null,
            "object_position": null,
            "object_fit": null,
            "grid_auto_columns": null,
            "margin": null,
            "display": null,
            "left": null
          }
        },
        "5a2cbe8bb6ea4db888eee3e9f23a205f": {
          "model_module": "@jupyter-widgets/controls",
          "model_name": "DescriptionStyleModel",
          "model_module_version": "1.5.0",
          "state": {
            "_view_name": "StyleView",
            "_model_name": "DescriptionStyleModel",
            "description_width": "",
            "_view_module": "@jupyter-widgets/base",
            "_model_module_version": "1.5.0",
            "_view_count": null,
            "_view_module_version": "1.2.0",
            "_model_module": "@jupyter-widgets/controls"
          }
        },
        "3cccdbb797f5404b92ad1469c28dbd7d": {
          "model_module": "@jupyter-widgets/base",
          "model_name": "LayoutModel",
          "model_module_version": "1.2.0",
          "state": {
            "_view_name": "LayoutView",
            "grid_template_rows": null,
            "right": null,
            "justify_content": null,
            "_view_module": "@jupyter-widgets/base",
            "overflow": null,
            "_model_module_version": "1.2.0",
            "_view_count": null,
            "flex_flow": null,
            "width": null,
            "min_width": null,
            "border": null,
            "align_items": null,
            "bottom": null,
            "_model_module": "@jupyter-widgets/base",
            "top": null,
            "grid_column": null,
            "overflow_y": null,
            "overflow_x": null,
            "grid_auto_flow": null,
            "grid_area": null,
            "grid_template_columns": null,
            "flex": null,
            "_model_name": "LayoutModel",
            "justify_items": null,
            "grid_row": null,
            "max_height": null,
            "align_content": null,
            "visibility": null,
            "align_self": null,
            "height": null,
            "min_height": null,
            "padding": null,
            "grid_auto_rows": null,
            "grid_gap": null,
            "max_width": null,
            "order": null,
            "_view_module_version": "1.2.0",
            "grid_template_areas": null,
            "object_position": null,
            "object_fit": null,
            "grid_auto_columns": null,
            "margin": null,
            "display": null,
            "left": null
          }
        }
      }
    }
  },
  "cells": [
    {
      "cell_type": "code",
      "metadata": {
        "colab": {
          "base_uri": "https://localhost:8080/"
        },
        "id": "iFG2XuaCcAZB",
        "outputId": "5fe30b38-8428-4a5b-c76e-5cc01f9430fd"
      },
      "source": [
        "!git clone https://github.com/QLYoo/LFPNet\n",
        "%cd LFPNet"
      ],
      "execution_count": 1,
      "outputs": [
        {
          "output_type": "stream",
          "name": "stdout",
          "text": [
            "Cloning into 'LFPNet'...\n",
            "remote: Enumerating objects: 39, done.\u001b[K\n",
            "remote: Counting objects: 100% (39/39), done.\u001b[K\n",
            "remote: Compressing objects: 100% (39/39), done.\u001b[K\n",
            "remote: Total 39 (delta 18), reused 6 (delta 0), pack-reused 0\u001b[K\n",
            "Unpacking objects: 100% (39/39), done.\n",
            "/content/LFPNet\n"
          ]
        }
      ]
    },
    {
      "cell_type": "markdown",
      "metadata": {
        "id": "jn5KgcnjlgUC"
      },
      "source": [
        "**Получаем TRIMAP**"
      ]
    },
    {
      "cell_type": "code",
      "metadata": {
        "id": "hrBOOAHdqJ3V"
      },
      "source": [
        "CLASS_MAP = {\"background\": 0, \"aeroplane\": 1, \"bicycle\": 2, \"bird\": 3, \"boat\": 4, \"bottle\": 5, \"bus\": 6, \"car\": 7,\n",
        "             \"cat\": 8, \"chair\": 9, \"cow\": 10, \"diningtable\": 11, \"dog\": 12, \"horse\": 13, \"motorbike\": 14, \"person\": 15,\n",
        "             \"potted plant\": 16, \"sheep\": 17, \"sofa\": 18, \"train\": 19, \"tv/monitor\": 20}"
      ],
      "execution_count": 2,
      "outputs": []
    },
    {
      "cell_type": "code",
      "metadata": {
        "id": "6fqdmz2BqTuO"
      },
      "source": [
        "target_class = 'cat'\n",
        "conf_threshold = 0.7"
      ],
      "execution_count": 3,
      "outputs": []
    },
    {
      "cell_type": "code",
      "metadata": {
        "id": "ISdo32QJcEFI"
      },
      "source": [
        "import os\n",
        "import argparse\n",
        "import torch\n",
        "import numpy as np\n",
        "from torchvision import transforms\n",
        "import cv2\n",
        "\n",
        "from PIL import Image\n",
        "from io import BytesIO\n",
        "from six.moves import urllib\n",
        "\n",
        "import matplotlib.pyplot as plt"
      ],
      "execution_count": 4,
      "outputs": []
    },
    {
      "cell_type": "code",
      "metadata": {
        "id": "X52RK0CimIkC"
      },
      "source": [
        "def trimap(probs, size, conf_threshold):\n",
        "    \"\"\"\n",
        "    This function creates a trimap based on simple dilation algorithm\n",
        "    Inputs [3]: an image with probabilities of each pixel being the foreground, size of dilation kernel,\n",
        "    foreground confidence threshold\n",
        "    Output    : a trimap\n",
        "    \"\"\"\n",
        "    mask = (probs > 0.05).astype(np.uint8) * 255\n",
        "\n",
        "    pixels = 2 * size + 1\n",
        "    kernel = np.ones((pixels, pixels), np.uint8)\n",
        "\n",
        "    dilation = cv2.dilate(mask, kernel, iterations=1)\n",
        "\n",
        "    remake = np.zeros_like(mask)\n",
        "    remake[dilation == 255] = 127  # Set every pixel within dilated region as probably foreground.\n",
        "    remake[probs > conf_threshold] = 255  # Set every pixel with large enough probability as definitely foreground.\n",
        "\n",
        "    return remake"
      ],
      "execution_count": 5,
      "outputs": []
    },
    {
      "cell_type": "code",
      "metadata": {
        "colab": {
          "base_uri": "https://localhost:8080/",
          "height": 100,
          "referenced_widgets": [
            "55231058470c44f493050d53bace78cc",
            "ee95381d42e04fa9a3c1bc7b914ca305",
            "7bb9d8a886c94cafb3433362771dd3fa",
            "b144d5319fa946dc886313f7edf1bb03",
            "64e9d288608943edb4b8a6f588396b52",
            "dfd8f7ff102246af81a4ca04a7f9a51d",
            "6654faa745f24cc3adf3aa45aca4e842",
            "390bc602f6f04b128d69ea9775621aa8",
            "15e4b984b2254b5b9e38d8818264ea41",
            "5a2cbe8bb6ea4db888eee3e9f23a205f",
            "3cccdbb797f5404b92ad1469c28dbd7d"
          ]
        },
        "id": "ctXknSUUmJY6",
        "outputId": "4d3553ce-8b24-455c-8b95-1c75946ed088"
      },
      "source": [
        "torch.hub._validate_not_a_forked_repo=lambda a,b,c: True\n",
        "model = torch.hub.load('pytorch/vision:v0.10.0', 'deeplabv3_resnet50', pretrained=True)\n",
        "model.eval()\n",
        "print('loaded')"
      ],
      "execution_count": 6,
      "outputs": [
        {
          "output_type": "stream",
          "name": "stderr",
          "text": [
            "Downloading: \"https://github.com/pytorch/vision/archive/v0.10.0.zip\" to /root/.cache/torch/hub/v0.10.0.zip\n",
            "Downloading: \"https://download.pytorch.org/models/deeplabv3_resnet50_coco-cd0a2569.pth\" to /root/.cache/torch/hub/checkpoints/deeplabv3_resnet50_coco-cd0a2569.pth\n"
          ]
        },
        {
          "output_type": "display_data",
          "data": {
            "application/vnd.jupyter.widget-view+json": {
              "model_id": "55231058470c44f493050d53bace78cc",
              "version_minor": 0,
              "version_major": 2
            },
            "text/plain": [
              "  0%|          | 0.00/161M [00:00<?, ?B/s]"
            ]
          },
          "metadata": {}
        },
        {
          "output_type": "stream",
          "name": "stdout",
          "text": [
            "loaded\n"
          ]
        }
      ]
    },
    {
      "cell_type": "code",
      "metadata": {
        "id": "eGK9Z1ALpYB1"
      },
      "source": [
        "SAMPLE_IMAGE = 'image1'  # @param ['image1', 'image2', 'image3']\n",
        "IMAGE_URL = 'https://funart.pro/uploads/posts/2021-07/1626857468_3-funart-pro-p-sibirskaya-koshka-serebristaya-zhivotnie-k-3.jpg'  #@param {type:\"string\"}\n",
        "\n",
        "_SAMPLE_URL = ('https://github.com/tensorflow/models/blob/master/research/'\n",
        "               'deeplab/g3doc/img/%s.jpg?raw=true')\n",
        "\n",
        "\n",
        "image_url = IMAGE_URL or _SAMPLE_URL % SAMPLE_IMAGE\n",
        "f = urllib.request.urlopen(image_url)\n",
        "jpeg_str = f.read()\n",
        "input_image = np.array(Image.open(BytesIO(jpeg_str)))"
      ],
      "execution_count": 7,
      "outputs": []
    },
    {
      "cell_type": "code",
      "metadata": {
        "colab": {
          "base_uri": "https://localhost:8080/",
          "height": 298
        },
        "id": "6WfEi9RFpL6F",
        "outputId": "0034d0b7-d16e-482c-da25-765ebecbe0d2"
      },
      "source": [
        "preprocess = transforms.Compose([\n",
        "    transforms.ToTensor(),\n",
        "    transforms.Normalize(mean=[0.485, 0.456, 0.406], std=[0.229, 0.224, 0.225]),\n",
        "])\n",
        "\n",
        "input_tensor = preprocess(input_image)\n",
        "input_batch = input_tensor.unsqueeze(0)  # create a mini-batch as expected by the model\n",
        "\n",
        "with torch.no_grad():\n",
        "    output = model(input_batch)['out'][0]\n",
        "    output = torch.softmax(output, 0)\n",
        "\n",
        "output_cat = output[CLASS_MAP[target_class], ...].numpy()\n",
        "plt.title('Segmentation mask')\n",
        "plt.imshow(output_cat, cmap='gray', vmin=0, vmax=1)\n",
        "\n",
        "trimap_image = trimap(output_cat, 7, conf_threshold)\n",
        "cv2.imwrite('trimap.png', trimap_image)\n",
        "cv2.imwrite('image.png', input_image)"
      ],
      "execution_count": 8,
      "outputs": [
        {
          "output_type": "execute_result",
          "data": {
            "text/plain": [
              "True"
            ]
          },
          "metadata": {},
          "execution_count": 8
        },
        {
          "output_type": "display_data",
          "data": {
            "image/png": "[encoded data removed]",
            "text/plain": [
              "<Figure size 432x288 with 1 Axes>"
            ]
          },
          "metadata": {
            "needs_background": "light"
          }
        }
      ]
    },
    {
      "cell_type": "markdown",
      "metadata": {
        "id": "G2j-xOAPqpqY"
      },
      "source": [
        "**Подгружаем модель**"
      ]
    },
    {
      "cell_type": "code",
      "metadata": {
        "colab": {
          "base_uri": "https://localhost:8080/"
        },
        "id": "B3TTc1VHkS6H",
        "outputId": "baca84fc-9f3f-412c-afb3-77a589b26353"
      },
      "source": [
        "!gdown  https://drive.google.com/uc?id=1M3djMM_LULFE7_Ksg4kpQO3f46qAT7ay"
      ],
      "execution_count": 9,
      "outputs": [
        {
          "output_type": "stream",
          "name": "stdout",
          "text": [
            "Downloading...\n",
            "From: https://drive.google.com/uc?id=1M3djMM_LULFE7_Ksg4kpQO3f46qAT7ay\n",
            "To: /content/LFPNet/model.pth\n",
            "100% 471M/471M [00:08<00:00, 55.3MB/s]\n"
          ]
        }
      ]
    },
    {
      "cell_type": "code",
      "metadata": {
        "id": "OnVJLqoMvE-M"
      },
      "source": [
        "from eval import *\n",
        "import torch\n",
        "import torch.optim\n",
        "import numpy as np\n",
        "import argparse\n",
        "import torch.nn as nn\n",
        "import os\n",
        "import cv2"
      ],
      "execution_count": 10,
      "outputs": []
    },
    {
      "cell_type": "code",
      "metadata": {
        "id": "811fU9U_jTz1"
      },
      "source": [
        "import os\n",
        "import  torch.nn.functional as F\n",
        "import resnetws as resnet\n",
        "from collections import OrderedDict\n",
        "import layers as L\n",
        "\n",
        "\n",
        "class ResnetDilatedINC(nn.Module):\n",
        "    def __init__(self,inc=13, orig_resnet=resnet.l_resnet50(), dilate_scale=8,needinc=False):\n",
        "        super(ResnetDilatedINC, self).__init__()\n",
        "        from functools import partial\n",
        "\n",
        "        if dilate_scale == 8:\n",
        "            orig_resnet.layer3.apply(\n",
        "                partial(self._nostride_dilate, dilate=2))\n",
        "            orig_resnet.layer4.apply(\n",
        "                partial(self._nostride_dilate, dilate=4))\n",
        "\n",
        "        elif dilate_scale == 16:\n",
        "            orig_resnet.layer4.apply(\n",
        "                partial(self._nostride_dilate, dilate=2))\n",
        "\n",
        "        if needinc:\n",
        "            conv1 = orig_resnet.conv1\n",
        "            conv1_weights=orig_resnet.conv1.weight\n",
        "            c_out, c_in, h, w = conv1_weights.size()\n",
        "            conv1_mod = torch.zeros(c_out, inc, h, w)\n",
        "            conv1_mod[:, :3, :, :] = conv1_weights\n",
        "            conv1.weight = torch.nn.Parameter(conv1_mod)\n",
        "            conv1.in_channels = inc\n",
        "            self.conv1 =conv1\n",
        "        else:\n",
        "            self.conv1 =orig_resnet.conv1\n",
        "        self.bn1 = orig_resnet.bn1\n",
        "        self.relu = orig_resnet.relu\n",
        "        self.maxpool = orig_resnet.maxpool\n",
        "        self.layer1 = orig_resnet.layer1\n",
        "        self.layer2 = orig_resnet.layer2\n",
        "        self.layer3 = orig_resnet.layer3\n",
        "        self.layer4 = orig_resnet.layer4\n",
        "\n",
        "    def _nostride_dilate(self, m, dilate):\n",
        "        classname = m.__class__.__name__\n",
        "        if classname.find('Conv') != -1:\n",
        "            # the convolution with stride\n",
        "            if m.stride == (2, 2):\n",
        "                m.stride = (1, 1)\n",
        "                if m.kernel_size == (3, 3):\n",
        "                    m.dilation = (dilate // 2, dilate // 2)\n",
        "                    m.padding = (dilate // 2, dilate // 2)\n",
        "            # other convoluions\n",
        "            else:\n",
        "                if m.kernel_size == (3, 3):\n",
        "                    m.dilation = (dilate, dilate)\n",
        "                    m.padding = (dilate, dilate)\n",
        "\n",
        "    def forward(self, x, return_feature_maps=False):\n",
        "        conv_out = [x]\n",
        "        x = self.relu(self.bn1(self.conv1(x)))\n",
        "        conv_out.append(x)\n",
        "        x, indices = self.maxpool(x)\n",
        "        x = self.layer1(x)\n",
        "        conv_out.append(x)\n",
        "        x = self.layer2(x)\n",
        "        conv_out.append(x)\n",
        "        x = self.layer3(x)\n",
        "        conv_out.append(x)\n",
        "        x = self.layer4(x)\n",
        "        conv_out.append(x)\n",
        "\n",
        "        if return_feature_maps:\n",
        "            return conv_out, indices\n",
        "        return [x]\n",
        "\n",
        "\n",
        "\n",
        "class _ImagePool(nn.Module):\n",
        "    def __init__(self, in_ch, out_ch):\n",
        "        super().__init__()\n",
        "        self.pool = nn.AdaptiveAvgPool2d(1)\n",
        "        self.conv = _ConvBnReLU(in_ch, out_ch, 1, 1, 0, 1)\n",
        "\n",
        "    def forward(self, x):\n",
        "        _, _, H, W = x.shape\n",
        "        h = self.pool(x)\n",
        "        h = self.conv(h)\n",
        "        h = F.interpolate(h, size=(H, W), mode=\"bilinear\", align_corners=False)\n",
        "        return h\n",
        "\n",
        "class _ImagePoolEH(nn.Module):\n",
        "    def __init__(self, in_ch, out_ch):\n",
        "        super().__init__()\n",
        "        self.pool = nn.AdaptiveAvgPool2d(1)\n",
        "        self.conv = _ConvBnReLU(in_ch, out_ch, 1, 1, 0, 1)\n",
        "\n",
        "    def forward(self, x):\n",
        "        _, _, H, W = x.shape\n",
        "        h = self.pool(x)\n",
        "        h = self.conv(h)\n",
        "        h = F.interpolate(h, size=(H, W), mode=\"bilinear\", align_corners=False)\n",
        "        return h\n",
        "\n",
        "\n",
        "class GNs_(nn.Module):\n",
        "    def __init__(self,ch):\n",
        "        super(GNs_, self).__init__()\n",
        "        if ch%32==0 :\n",
        "            g=32\n",
        "        else:\n",
        "            g=16\n",
        "        self.gn=nn.GroupNorm(g,ch)\n",
        "    def forward(self,x):\n",
        "        return self.gn(x)\n",
        "\n",
        "\n",
        "class _ConvBnReLU(nn.Sequential):\n",
        "    def __init__(\n",
        "            self, in_ch, out_ch, kernel_size, stride, padding, dilation, relu=True\n",
        "    ):\n",
        "        super(_ConvBnReLU, self).__init__()\n",
        "        self.add_module(\n",
        "            \"conv\",\n",
        "            L.Conv2d(\n",
        "                in_ch, out_ch, kernel_size, stride, padding, dilation, bias=False\n",
        "            ),\n",
        "        )\n",
        "        self.add_module(\"bn\", GNs_(out_ch))\n",
        "\n",
        "        if relu:\n",
        "            self.add_module(\"relu\", nn.ReLU())\n",
        "\n",
        "class _ConvBnReLUEH(nn.Sequential):\n",
        "    def __init__(\n",
        "            self, in_ch, out_ch, kernel_size, stride, padding, dilation, relu=True\n",
        "    ):\n",
        "        super(_ConvBnReLUEH, self).__init__()\n",
        "        self.add_module(\n",
        "            \"conv\",\n",
        "            L.Conv2d(\n",
        "                in_ch, out_ch, kernel_size, stride, padding, dilation, bias=True\n",
        "            ),\n",
        "        )\n",
        "        self.add_module(\"bn\", GNs_(out_ch))\n",
        "\n",
        "        if relu:\n",
        "            self.add_module(\"relu\", nn.ReLU())\n",
        "\n",
        "class _ASPPEH(nn.Module):\n",
        "    def __init__(self, in_ch, out_ch, rates=[3, 7, 12 ,18]):\n",
        "        super(_ASPPEH, self).__init__()\n",
        "        self.stages = nn.Module()\n",
        "        self.stages.add_module(\"c0\", _ConvBnReLUEH(in_ch, out_ch, 1, 1, 0, 1))\n",
        "        for i, rate in enumerate(rates):\n",
        "            self.stages.add_module(\n",
        "                \"c{}\".format(i + 1),\n",
        "                _ConvBnReLUEH(in_ch, out_ch, 3, 1, padding=rate, dilation=rate),\n",
        "            )\n",
        "        self.stages.add_module(\"imagepool\", _ImagePoolEH(in_ch, out_ch))\n",
        "\n",
        "    def forward(self, x):\n",
        "        return torch.cat([stage(x) for stage in self.stages.children()], dim=1)\n",
        "\n",
        "class GResBlock0x(nn.Module):\n",
        "    def __init__(self, inplanes, planes, stride=1):\n",
        "        super(GResBlock0x, self).__init__()\n",
        "        self.in_conv1 =  nn.Sequential(L.Conv2d(inplanes, planes,kernel_size=3, stride=stride,padding=1,bias=True),GNs_(planes))\n",
        "        self.in_prelu1 = nn.Sequential(nn.LeakyReLU())\n",
        "        self.basic_block1 = GBasicBlock(planes, planes, stride)\n",
        "        self.basic_block2 = GBasicBlock(planes, planes, stride)\n",
        "        self.ro_conv = nn.Sequential(L.Conv2d(planes, planes,kernel_size=3, stride=stride,padding=1,bias=True),GNs_(planes))\n",
        "        self.ro_ = nn.LeakyReLU()\n",
        "    def forward(self, x):\n",
        "        out = self.in_conv1(x)\n",
        "        out = self.in_prelu1(out)\n",
        "        out_temp = out\n",
        "        out = self.basic_block1(out)\n",
        "        out = self.basic_block2(out)\n",
        "        out = self.ro_conv(out)\n",
        "        out += out_temp\n",
        "        out=self.ro_(out)\n",
        "        return out\n",
        "\n",
        "class GBasicBlock(nn.Module):\n",
        "    def __init__(self, inplanes, planes, stride=1):\n",
        "        super(GBasicBlock, self).__init__()\n",
        "        self.conv1 = L.Conv2d(inplanes, planes, kernel_size=3,stride=stride,padding=1,bias=True)\n",
        "        self.prelu1 =  nn.Sequential(GNs_(planes),nn.LeakyReLU())\n",
        "        self.conv2 = nn.Sequential(L.Conv2d(planes, planes,kernel_size=3, stride=stride,padding=1,bias=True),GNs_(planes))\n",
        "        self.prelu2 =  nn.LeakyReLU()\n",
        "\n",
        "    def forward(self, x):\n",
        "        residual = x\n",
        "        out = self.conv1(x)\n",
        "        out = self.prelu1(out)\n",
        "        out = self.conv2(out)\n",
        "        out += residual\n",
        "        out = self.prelu2(out)\n",
        "        return out\n",
        "\n",
        "\n",
        "class PPMmoduleEH(nn.Module):\n",
        "    def __init__(self, features, out_features=1024, sizes=(1, 2, 3, 6)):\n",
        "        super().__init__()\n",
        "        self.stages = []\n",
        "        self.stages = nn.ModuleList([self._make_stage(features, size) for size in sizes])\n",
        "        self.bottleneck = nn.Sequential(L.Conv2d(512 * (len(sizes)+1), out_features, kernel_size=1),nn.GroupNorm(32,out_features))\n",
        "        self.relu = nn.ReLU()\n",
        "        self.trans = L.Conv2d(features, 512, kernel_size=1)\n",
        "    def _make_stage(self, features, size):\n",
        "        prior = nn.AdaptiveAvgPool2d(output_size=(size, size))\n",
        "        conv = nn.Sequential(L.Conv2d(features, 512, kernel_size=1, bias=True),nn.GroupNorm(32,512))\n",
        "        return nn.Sequential(prior, conv)\n",
        "\n",
        "    def forward(self, feats):\n",
        "        h, w = feats.size(2), feats.size(3)\n",
        "        priors = [F.upsample(input=stage(feats), size=(h, w), mode='bilinear') for stage in self.stages] + [self.trans(feats) ]\n",
        "        bottle = self.bottleneck(torch.cat(priors, 1))\n",
        "        return self.relu(bottle)\n",
        "\n",
        "\n",
        "def fba_fusion(alpha, img, F, B):\n",
        "    F = ((alpha * img + (1 - alpha**2) * F - alpha * (1 - alpha) * B))\n",
        "    B = ((1 - alpha) * img + (2 * alpha - alpha**2) * B - alpha * (1 - alpha) * F)\n",
        "    F = torch.clamp(F, 0, 1)\n",
        "    B = torch.clamp(B, 0, 1)\n",
        "    la = 0.1\n",
        "    alpha = (alpha * la + torch.sum((img - B) * (F - B), 1, keepdim=True)) / (torch.sum((F - B) * (F - B), 1, keepdim=True) + la)\n",
        "    alpha = torch.clamp(alpha, 0, 1)\n",
        "    return alpha, F, B\n",
        "\n",
        "\n",
        "class SEB(nn.Module):\n",
        "    def __init__(self,inc,oc):\n",
        "        super(SEB, self).__init__()\n",
        "        self.c=nn.Sequential(nn.Conv2d(inc,inc,1,1,0),nn.ReLU(),nn.Conv2d(inc,oc,1,1,0),nn.Sigmoid())\n",
        "    def forward(self,x,y):\n",
        "        y_=torch.cat([x,y],1)\n",
        "        y_=self.c(y_)\n",
        "        x=x*y_\n",
        "        return x\n",
        "\n",
        "\n",
        "class LFPNet(nn.Module):\n",
        "    def __init__(self):\n",
        "        super(LFPNet, self).__init__()\n",
        "        self.resnet_stem=nn.Sequential(nn.Upsample(scale_factor=0.5,mode='bicubic',align_corners=True),nn.Conv2d(12, 16, kernel_size=5, stride=2, padding=2, bias=True),nn.GroupNorm(8,16),nn.LeakyReLU())\n",
        "        self.resnet=ResnetDilatedINC(16,dilate_scale=8,needinc=True)\n",
        "        self.se1=SEB(2048+1024,2048)\n",
        "        self.setensor=nn.Parameter(torch.randn(1,1024,1,1))\n",
        "        self.rppm=PPMmoduleEH(2048,512)\n",
        "        self.aspp=_ASPPEH(2048+512,256)\n",
        "        self.resnet1=nn.Sequential((L.Conv2d(256*6, 256, kernel_size=3, stride=1, padding=1, bias=True)),nn.GroupNorm(32,256),nn.LeakyReLU())\n",
        "        self.presnet2=nn.Sequential( (L.Conv2d(256, 256, kernel_size=3, stride=1, padding=1, bias=True)),nn.GroupNorm(32,256),nn.LeakyReLU())\n",
        "        self.resnet2=nn.Sequential( (L.Conv2d(512, 256, kernel_size=3, stride=1, padding=1, bias=True)),nn.GroupNorm(32,256),nn.LeakyReLU())\n",
        "        self.resnet3=nn.Sequential((L.Conv2d(320, 128, kernel_size=3, stride=1, padding=1, bias=True)),nn.GroupNorm(16,128),nn.LeakyReLU())\n",
        "        self.resnet4=nn.Sequential( L.Conv2d(128+16, 64, kernel_size=3, stride=1, padding=1, bias=True),nn.GroupNorm(16,64),nn.LeakyReLU())\n",
        "        self.oesnet5=nn.Sequential( (L.Conv2d(64+16, 64, kernel_size=3, stride=1, padding=1, bias=True)),nn.GroupNorm(16,64),nn.LeakyReLU())\n",
        "        self.stem_conv = nn.Sequential( L.Conv2d(12, 32, kernel_size=3, stride=1, padding=1, bias=True),\n",
        "                                        nn.GroupNorm(16, 32), nn.ReLU()\n",
        "                                       )\n",
        "        self.pre_conv = nn.Sequential( L.Conv2d(32, 64, kernel_size=3, stride=2, padding=1, bias=True),nn.GroupNorm(16, 64),)\n",
        "        self.pre_prelu = nn.ReLU()\n",
        "        self.res1 = nn.Sequential(L.Conv2d(64, 64, kernel_size=3, stride=1, padding=1, bias=True),nn.GroupNorm(32,64),nn.ReLU())\n",
        "        self.ds1 = nn.Sequential((L.Conv2d(64,64,3,2,1,bias=True)),nn.GroupNorm(32,64),nn.ReLU())\n",
        "        resnet2 = ResnetDilatedINC(dilate_scale=8)\n",
        "        self.res2 = resnet2.layer1\n",
        "        self.res3 = resnet2.layer2\n",
        "        self.res4 = resnet2.layer3\n",
        "        self.res5 = resnet2.layer4\n",
        "        self.res2c = nn.Sequential(L.Conv2d(128,64,1,1,0,bias=True),nn.GroupNorm(32,64),nn.ReLU())\n",
        "        self.res3c = nn.Sequential(L.Conv2d(512+128,512,1,1,0,bias=True),nn.GroupNorm(32,512),nn.ReLU())\n",
        "        pool_scales = (1, 2, 3, 6,1,2)\n",
        "        self.ppm = []\n",
        "        for scale in pool_scales:\n",
        "            self.ppm.append(nn.Sequential(\n",
        "                nn.AdaptiveAvgPool2d(scale),\n",
        "                (L.Conv2d(2048, 256, kernel_size=1, bias=True)),\n",
        "                GNs_(256),\n",
        "                nn.LeakyReLU()\n",
        "            ))\n",
        "        self.ppm = nn.ModuleList(self.ppm)\n",
        "        self.res44 = nn.Sequential( L.Conv2d(3072+512,512,3, 1, 1, 1, bias=True),nn.GroupNorm(32,512),nn.LeakyReLU(),GResBlock0x(512,512))\n",
        "        self.res33 = nn.Sequential( GResBlock0x(1024,256))\n",
        "        self.ups3 = nn.Upsample(scale_factor=2,mode='bilinear',align_corners=False)\n",
        "        self.res22 = nn.Sequential(GResBlock0x(512,128))\n",
        "        self.ups2 = nn.Upsample(scale_factor=2,mode='bilinear',align_corners=False)\n",
        "        self.res11 = nn.Sequential(L.Conv2d(128+64, 64, kernel_size=3, stride=1, padding=1, bias=True),nn.GroupNorm(32,64),nn.LeakyReLU())\n",
        "        self.ups1 =  nn.Upsample(scale_factor=2,mode='bilinear',align_corners=False)\n",
        "        self.out_ups = nn.Upsample(scale_factor=2,mode='bilinear',align_corners=False)\n",
        "        self.out_conv3 =( nn.Conv2d(64+3+3+3, 32, kernel_size=3, stride=1, padding=1, bias=True))\n",
        "        self.out_prelu3 = nn.PReLU(32)\n",
        "        self.out_conv2 = (nn.Conv2d(32, 16, kernel_size=3, stride=1, padding=1, bias=True))\n",
        "        self.out_prelu2 = nn.PReLU(16)\n",
        "        self.out_conv1 =nn.Sequential((nn.Conv2d(16, 7, kernel_size=1, stride=1, padding=0, bias=True)))\n",
        "\n",
        "    def forward(self, x,xbig,raw):\n",
        "        x_=self.resnet_stem(xbig)\n",
        "        feat,idx=self.resnet(x_,True)\n",
        "        b,_,_,_=x.shape\n",
        "        setensor=torch.reshape(self.setensor,[b,1024,1,1])\n",
        "        setensor=torch.nn.functional.interpolate(setensor, (feat[-1].shape[2], feat[-1].shape[3]),mode='bilinear',align_corners=False)\n",
        "        featz=self.se1(feat[-1],setensor)\n",
        "        feat1p=self.rppm(featz)\n",
        "        feat1=torch.cat([featz,feat1p],1)\n",
        "        feat1=self.aspp(feat1)\n",
        "        feat1=self.resnet1(feat1)\n",
        "        feat2=torch.nn.functional.interpolate(feat1,scale_factor=2,mode='bilinear',align_corners=False)\n",
        "        featr2=self.presnet2(feat[-4])\n",
        "        feat2=torch.cat([feat2,featr2],1)\n",
        "        feat3=self.resnet2(feat2)\n",
        "        feat3=torch.nn.functional.interpolate(feat3,scale_factor=2,mode='bilinear',align_corners=False)\n",
        "        feat3=torch.cat([feat3,feat[-5]],1)\n",
        "        feat3=self.resnet3(feat3)\n",
        "        feat4=torch.nn.functional.interpolate(feat3,scale_factor=2,mode='bilinear',align_corners=False)\n",
        "        feat4=torch.cat([feat4,feat[-6]],1)\n",
        "        feat4=self.resnet4(feat4)\n",
        "        feat5=torch.cat([feat4,x_],1)\n",
        "        feat5_=self.oesnet5(feat5)\n",
        "        _,_,feat5_h,feat5_w=feat5_.shape\n",
        "        feat5_=feat5_[:,:,feat5_h//4: feat5_h//4+feat5_h//2 ,feat5_w//4: feat5_w//4+feat5_w//2]\n",
        "        _,_,feat5_h,feat5_w=feat3.shape\n",
        "        feat3=feat3[:,:,feat5_h//4: feat5_h//4+feat5_h//2 ,feat5_w//4: feat5_w//4+feat5_w//2]\n",
        "        pre_ = self.stem_conv(x)\n",
        "        pre = self.pre_conv(pre_)\n",
        "        pre = self.pre_prelu(pre)\n",
        "        resc1 = self.res1(pre)\n",
        "        down1 = self.ds1(resc1)\n",
        "        down1=self.res2c( torch.cat([down1,feat5_],1))\n",
        "        resc2 = self.res2(down1)\n",
        "        resc3 = self.res3(resc2)\n",
        "        down3 =   self.res3c( torch.cat([resc3,feat3],1))\n",
        "        resc4 = self.res4(down3)\n",
        "        resc5 = self.res5(resc4)\n",
        "        ppm_out = [resc5]\n",
        "        for pool_scale in self.ppm:\n",
        "            ppm_out.append(nn.functional.interpolate(\n",
        "                pool_scale(resc5),\n",
        "                (resc5.shape[2], resc5.shape[3]),\n",
        "                mode='bilinear', align_corners=False))\n",
        "        ppm_out = torch.cat(ppm_out, 1)\n",
        "        ppm_out=(ppm_out)\n",
        "        upres4 = self.res44(ppm_out)\n",
        "        up3 = upres4\n",
        "        merge3 = torch.cat([up3, resc3], dim=1)\n",
        "        upres3 = self.res33(merge3)\n",
        "        up2 = self.ups2(upres3)\n",
        "        merge2 = torch.cat([up2, resc2], dim=1)\n",
        "        upres2 = self.res22(merge2)\n",
        "        up1 = self.ups1(upres2)\n",
        "        merge1 = torch.cat([up1, resc1], dim=1)\n",
        "        upres1 = self.res11(merge1)\n",
        "        up0 = self.out_ups(upres1)\n",
        "        merge0 = torch.cat([up0, raw,x[:,3:6],x[:,0:3]], dim=1)\n",
        "        out = self.out_conv3(merge0)\n",
        "        out = self.out_prelu3(out)\n",
        "        out = self.out_conv2(out)\n",
        "        out = self.out_prelu2(out)\n",
        "        out = self.out_conv1(out)\n",
        "        alpha = torch.clamp(out[:, 0:1], 0, 1)\n",
        "        F = torch.clamp(out[:, 1:4],0,1)\n",
        "        B = torch.clamp(out[:, 4:7],0,1)\n",
        "        alpha, F, B=fba_fusion(alpha,raw, F, B)\n",
        "        output = torch.cat((alpha, F, B), 1)\n",
        "        return output\n"
      ],
      "execution_count": 11,
      "outputs": []
    },
    {
      "cell_type": "code",
      "metadata": {
        "id": "00dGdMVTjfB-"
      },
      "source": [
        "IMG_SCALE = 1. / 255\n",
        "IMG_MEAN = np.array([0.485, 0.456, 0.406]).reshape((1, 1, 3))\n",
        "IMG_STD = np.array([0.229, 0.224, 0.225]).reshape((1, 1, 3))\n",
        "segmodel = model.LFPNet()\n",
        "segmodel.load_state_dict(torch.load('model.pth',map_location='cpu'),strict=False)\n",
        "segmodel=segmodel.cuda()\n",
        "segmodel.eval()"
      ],
      "execution_count": null,
      "outputs": []
    },
    {
      "cell_type": "code",
      "metadata": {
        "colab": {
          "base_uri": "https://localhost:8080/"
        },
        "id": "kW2W5kNSj2Or",
        "outputId": "d2f5315e-efe7-4388-9931-00c950b89130"
      },
      "source": [
        "img=cv2.imread('image.png')\n",
        "raw_h,raw_w,_=img.shape\n",
        "alphaall=np.zeros((raw_h,raw_w),np.float32)\n",
        "img = cv2.imread('image.png')\n",
        "h1_, w1_, _ = img.shape\n",
        "psss=512\n",
        "qsss=1024-512\n",
        "wsss=qsss+psss\n",
        "wsss2=wsss//2\n",
        "wx=(w1_-1-psss) //qsss+1\n",
        "hx=(h1_-1-psss) //qsss+1\n",
        "alphalist=[]\n",
        "newh=hx*qsss+psss\n",
        "neww=wx*qsss+psss\n",
        "raw_h, raw_w, _ = img.shape\n",
        "imgzys=img.copy()\n",
        "alls=[]\n",
        "alltri=[]\n",
        "ph1=(newh-raw_h)//2\n",
        "ph2=newh-raw_h-ph1\n",
        "pw1=(neww-raw_w)//2\n",
        "pw2=neww-raw_w-pw1\n",
        "allp=set(list(np.arange(0,16)))\n",
        "tp = np.zeros((newh, neww,16), np.float32)\n",
        "wp = np.zeros((newh, neww, 16), np.float32)\n",
        "apPP = np.zeros((newh, neww, 16), np.float32)\n",
        "allp = set(list(np.arange(0, 16)))\n",
        "wsm = genwmap(qsss, psss)\n",
        "for x11 in [0]:\n",
        "    for y11 in [0]:\n",
        "        pwh=[0,0,0,0]\n",
        "        pwh=[ph1,ph2,pw1,pw2]\n",
        "        imgbp = cv2.copyMakeBorder(imgzys, pwh[0], pwh[1], pwh[2], pwh[3], cv2.BORDER_REPLICATE)\n",
        "        tri = trimap_image\n",
        "        trizys=tri.copy()\n",
        "        tribp = cv2.copyMakeBorder(tri, pwh[0], pwh[1], pwh[2], pwh[3], cv2.BORDER_CONSTANT)\n",
        "        imgbpp=cv2.copyMakeBorder(imgbp, wsss2,wsss2,wsss2,wsss2, cv2.BORDER_REPLICATE)\n",
        "        tribpp=cv2.copyMakeBorder(tribp, wsss2,wsss2,wsss2,wsss2, cv2.BORDER_CONSTANT)\n",
        "        alls = []\n",
        "        for px in range(hx):\n",
        "            for py in range(wx):\n",
        "                nnns=0\n",
        "                for zzz in range(16):\n",
        "                    if np.sum(tp[px*qsss:px*qsss+wsss,py*qsss:py*qsss+wsss,zzz])==0:\n",
        "                        nnns=zzz\n",
        "                        break\n",
        "                wp[px*qsss: px*qsss+wsss, py*qsss:py*qsss+wsss,nnns]=wsm\n",
        "                tp[px*qsss:px*qsss+wsss,py*qsss:py*qsss+wsss,nnns] = 1\n",
        "                alls = []\n",
        "                for fl1, fl2 in zip([0], [0]):\n",
        "                    if fl1 >= 0:\n",
        "                        imgf = imgbp[px * qsss:px * qsss + wsss, py * qsss:py * qsss + wsss].copy()\n",
        "                        trif = tribp[px * qsss:px * qsss + wsss, py * qsss:py * qsss + wsss].copy()\n",
        "                        imgrr = cv2.flip(imgf, fl1)\n",
        "                        trirr = cv2.flip(trif, fl1)\n",
        "                        imgss2=cv2.flip(imgzys.copy(), fl1)\n",
        "                        triss2=cv2.flip(trizys.copy(), fl1)\n",
        "                        img4x2 = imgbpp[px*qsss:(px)*qsss+wsss+wsss,py*qsss:(py)*qsss+wsss+wsss].copy()\n",
        "                        tri4x2 = tribpp[px*qsss:(px)*qsss+wsss+wsss,py*qsss:(py)*qsss+wsss+wsss].copy()\n",
        "                        img4x2 = cv2.flip(img4x2, fl1)\n",
        "                        tri4x2 = cv2.flip(tri4x2, fl1)\n",
        "                    else:\n",
        "                        imgf = imgbp[px * qsss:px * qsss + wsss, py * qsss:py * qsss + wsss].copy()\n",
        "                        trif = tribp[px * qsss:px * qsss + wsss, py * qsss:py * qsss + wsss].copy()\n",
        "                        imgrr = imgf.copy()\n",
        "                        trirr = trif.copy()\n",
        "                        imgss2 = imgzys.copy()\n",
        "                        triss2 = trizys.copy()\n",
        "                        img4x2 = imgbpp[px*qsss:(px)*qsss+wsss+wsss,py*qsss:(py)*qsss+wsss+wsss].copy()\n",
        "                        tri4x2 = tribpp[px*qsss:(px)*qsss+wsss+wsss,py*qsss:(py)*qsss+wsss+wsss].copy()\n",
        "                    for fr1, fr2 in zip([0], [2]):\n",
        "                        if fr1 >= 0:\n",
        "                            imgrr3 = cv2.rotate(imgrr.copy(), fr1)\n",
        "                            trirr3 = cv2.rotate(trirr.copy(), fr1)\n",
        "                            imgss3 = cv2.rotate(imgss2.copy(), fr1)\n",
        "                            triss3 = cv2.rotate(triss2.copy(), fr1)\n",
        "                            img4x3 = cv2.rotate(img4x2.copy(), fr1)\n",
        "                            tri4x3 = cv2.rotate(tri4x2.copy(), fr1)\n",
        "                        else:\n",
        "                            imgrr3= imgrr.copy()\n",
        "                            trirr3= trirr.copy()\n",
        "                            imgss3= imgss2.copy()\n",
        "                            triss3= triss2.copy()\n",
        "                            img4x3=img4x2.copy()\n",
        "                            tri4x3=tri4x2.copy()\n",
        "                        img=imgrr3\n",
        "                        tri=trirr3\n",
        "                        imgss=imgss3\n",
        "                        triss=triss3\n",
        "                        img4x=img4x3\n",
        "                        tri4x=tri4x3\n",
        "                        tritemp = np.zeros([*tri.shape, 2], np.float32)\n",
        "                        tritemp[:, :, 0] = (tri == 0)\n",
        "                        tritemp[:, :, 1] = (tri == 255)\n",
        "                        sixc = trimap_transform(tritemp)\n",
        "                        sixc = np.transpose(sixc, [2, 0, 1])\n",
        "                        tritemp = np.zeros([*tri4x.shape, 2], np.float32)\n",
        "                        tritemp[:, :, 0] = (tri4x == 0)\n",
        "                        tritemp[:, :, 1] = (tri4x == 255)\n",
        "                        sixc4x = trimap_transform(tritemp)\n",
        "                        sixc4x = np.transpose(sixc4x, [2, 0, 1])\n",
        "                        h_, w_ = tri.shape\n",
        "                        tri2 = np.array(tri, np.float32) / 255.\n",
        "                        tri2 = tri2[np.newaxis, np.newaxis, :, :]\n",
        "                        tri24x = np.array(tri4x, np.float32) / 255.\n",
        "                        tri24x = tri2[np.newaxis, np.newaxis, :, :]\n",
        "                        mattinginput = ((img[:, :, ::-1] / 255.) - IMG_MEAN) / IMG_STD\n",
        "                        mattinginput4x = ((img4x[:, :, ::-1] / 255.) - IMG_MEAN) / IMG_STD\n",
        "                        raw = img[:, :, ::-1] / 255.\n",
        "                        raw = np.transpose(raw, [2, 0, 1])[None, :, :, :]\n",
        "                        h_, w_ = tri.shape\n",
        "                        trixs = np.zeros((1, 3, h_, w_), np.float32)\n",
        "                        trixs[0, 0] = (tri == 0)\n",
        "                        trixs[0, 1] = (tri == 128)\n",
        "                        trixs[0, 2] = (tri == 255)\n",
        "                        ntrixs = trixs\n",
        "                        trixs = torch.from_numpy(trixs)\n",
        "                        h_, w_ = tri4x.shape\n",
        "                        tris4x = np.zeros((1, 3, h_, w_), np.float32)\n",
        "                        tris4x[0, 0] = (tri4x == 0)\n",
        "                        tris4x[0, 1] = (tri4x == 128)\n",
        "                        tris4x[0, 2] = (tri4x == 255)\n",
        "                        tris4x = torch.from_numpy(tris4x)\n",
        "                        mattinginput = np.transpose(mattinginput, (2, 0, 1)).astype(np.float32)\n",
        "                        mattinginput = np.array(mattinginput)[np.newaxis, :, :, :]\n",
        "                        mattinginput4x = np.transpose(mattinginput4x, (2, 0, 1)).astype(np.float32)\n",
        "                        mattinginput4x = np.array(mattinginput4x)[np.newaxis, :, :, :]\n",
        "                        i1 = torch.from_numpy(mattinginput)\n",
        "                        i2 = torch.from_numpy(mattinginput4x)\n",
        "                        sixc = sixc[None, :, :, :]\n",
        "                        sixc4x = sixc4x[None, :, :, :]\n",
        "                        sixc2 = torch.from_numpy(sixc)\n",
        "                        sixc24x = torch.from_numpy(sixc4x)\n",
        "                        i2i = torch.cat([i2, tris4x, sixc24x], 1).float().cuda()\n",
        "                        i1i = torch.cat([i1, trixs, sixc2], 1).float().cuda()\n",
        "                        rawi = torch.from_numpy(raw).float().cuda()\n",
        "                        with torch.no_grad():\n",
        "                            preda= segmodel(i1i, i2i, rawi)\n",
        "                        preda = preda.detach().cpu()\n",
        "                        ap = preda[0, 0].numpy() * ntrixs[0, 1] + ntrixs[0, 2]\n",
        "                        a1 = ap\n",
        "                        if fr2 >= 0:\n",
        "                            a1 = cv2.rotate(a1, fr2)\n",
        "                        if fl2 >= 0:\n",
        "                            a1 = cv2.flip(a1, fl2)\n",
        "                        alls.append(a1)\n",
        "                a1 = np.array(sum(alls) * 255. / len(alls))\n",
        "                alls=[]\n",
        "                apPP[px * qsss:px * qsss + wsss, py * qsss:py * qsss + wsss,nnns] = a1\n",
        "palpha=np.sum(apPP*wp,2)/ np.sum(wp,2)\n",
        "palpha=np.clip(palpha,0,255)\n",
        "palpha=np.array(palpha,np.uint8)\n",
        "wholealpha=palpha[ph1:ph1+raw_h,pw1:pw1+raw_w]\n",
        "wholealpha[trizys==0]=0\n",
        "wholealpha[trizys==255]=255"
      ],
      "execution_count": 16,
      "outputs": [
        {
          "output_type": "stream",
          "name": "stderr",
          "text": [
            "/usr/local/lib/python3.7/dist-packages/torch/nn/functional.py:3680: UserWarning: The default behavior for interpolate/upsample with float scale_factor changed in 1.6.0 to align with other frameworks/libraries, and now uses scale_factor directly, instead of relying on the computed output size. If you wish to restore the old behavior, please set recompute_scale_factor=True. See the documentation of nn.Upsample for details. \n",
            "  \"The default behavior for interpolate/upsample with float scale_factor changed \"\n",
            "/usr/local/lib/python3.7/dist-packages/torch/nn/functional.py:3509: UserWarning: nn.functional.upsample is deprecated. Use nn.functional.interpolate instead.\n",
            "  warnings.warn(\"nn.functional.upsample is deprecated. Use nn.functional.interpolate instead.\")\n",
            "/usr/local/lib/python3.7/dist-packages/torch/nn/functional.py:3635: UserWarning: Default upsampling behavior when mode=bilinear is changed to align_corners=False since 0.4.0. Please specify align_corners=True if the old behavior is desired. See the documentation of nn.Upsample for details.\n",
            "  \"See the documentation of nn.Upsample for details.\".format(mode)\n"
          ]
        }
      ]
    },
    {
      "cell_type": "code",
      "metadata": {
        "id": "1RfoF5YXmrFK"
      },
      "source": [
        "alpha = np.clip(preda[0, :1].detach().cpu().numpy(), 0,255)"
      ],
      "execution_count": 33,
      "outputs": []
    },
    {
      "cell_type": "code",
      "metadata": {
        "colab": {
          "base_uri": "https://localhost:8080/"
        },
        "id": "jNk1oB3znTTs",
        "outputId": "9c17a808-6852-45e0-868d-48969ae77cd2"
      },
      "source": [
        "alpha.squeeze()"
      ],
      "execution_count": 35,
      "outputs": [
        {
          "output_type": "execute_result",
          "data": {
            "text/plain": [
              "array([[0.        , 0.        , 0.        , ..., 0.        , 0.00470898,\n",
              "        0.007916  ],\n",
              "       [0.        , 0.        , 0.        , ..., 0.        , 0.01223631,\n",
              "        0.00175705],\n",
              "       [0.        , 0.        , 0.        , ..., 0.        , 0.        ,\n",
              "        0.        ],\n",
              "       ...,\n",
              "       [0.        , 0.        , 0.        , ..., 0.        , 0.        ,\n",
              "        0.        ],\n",
              "       [0.01803128, 0.        , 0.        , ..., 0.        , 0.        ,\n",
              "        0.        ],\n",
              "       [0.        , 0.        , 0.        , ..., 0.        , 0.        ,\n",
              "        0.        ]], dtype=float32)"
            ]
          },
          "metadata": {},
          "execution_count": 35
        }
      ]
    },
    {
      "cell_type": "code",
      "metadata": {
        "colab": {
          "base_uri": "https://localhost:8080/",
          "height": 595
        },
        "id": "dNxA4EXXkqQF",
        "outputId": "d73a4508-a050-4f04-c26f-8309035a4f49"
      },
      "source": [
        "plt.figure(figsize=(10, 10))\n",
        "plt.imshow(palpha)\n",
        "plt.show()"
      ],
      "execution_count": 37,
      "outputs": [
        {
          "output_type": "display_data",
          "data": {
            "image/png": "[encoded data removed]",
            "text/plain": [
              "<Figure size 720x720 with 1 Axes>"
            ]
          },
          "metadata": {
            "needs_background": "light"
          }
        }
      ]
    },
    {
      "cell_type": "code",
      "metadata": {
        "colab": {
          "base_uri": "https://localhost:8080/",
          "height": 595
        },
        "id": "lrrvODH8k0cE",
        "outputId": "553d5825-5be4-463a-dc1c-6846b8513c7e"
      },
      "source": [
        "plt.figure(figsize=(10, 10))\n",
        "plt.imshow(wholealpha)\n",
        "plt.show()"
      ],
      "execution_count": 38,
      "outputs": [
        {
          "output_type": "display_data",
          "data": {
            "image/png": "[encoded data removed]",
            "text/plain": [
              "<Figure size 720x720 with 1 Axes>"
            ]
          },
          "metadata": {
            "needs_background": "light"
          }
        }
      ]
    }
  ]
}