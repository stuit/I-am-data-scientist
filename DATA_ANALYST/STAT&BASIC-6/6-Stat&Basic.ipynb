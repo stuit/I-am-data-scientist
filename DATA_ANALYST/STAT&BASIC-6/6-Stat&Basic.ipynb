{
 "cells": [
  {
   "cell_type": "code",
   "execution_count": 4,
   "metadata": {},
   "outputs": [],
   "source": [
    "import numpy as np\n",
    "from scipy.optimize import linprog\n",
    "import cvxpy"
   ]
  },
  {
   "cell_type": "code",
   "execution_count": 7,
   "metadata": {},
   "outputs": [
    {
     "data": {
      "text/plain": [
       "     con: array([4.39231822e-06, 6.01910284e-06, 5.61240671e-06])\n",
       "     fun: 1899.9999256826582\n",
       " message: 'Optimization terminated successfully.'\n",
       "     nit: 5\n",
       "   slack: array([7.20364821e-06, 8.82017957e-06])\n",
       "  status: 0\n",
       " success: True\n",
       "       x: array([1.09999995e+02, 4.43103329e-08, 6.99999980e+01, 8.98577274e-07,\n",
       "       1.49999994e+02, 6.99999963e+01])"
      ]
     },
     "execution_count": 7,
     "metadata": {},
     "output_type": "execute_result"
    }
   ],
   "source": [
    "c = np.array([2, 5, 3, 7, 7, 6])\n",
    "\n",
    "A_ub = np.array([[1, 1, 1, 0, 0, 0], [0, 0, 0, 1, 1, 1]])\n",
    "b_ub = np.array([180, 220])\n",
    "\n",
    "A_eq = np.array([[1, 0, 0, 1, 0, 0], [0, 1, 0, 0, 1, 0], [0, 0, 1, 0, 0, 1]])\n",
    "b_eq = np.array([110, 150, 140])\n",
    "\n",
    "linprog(c=c, A_ub=A_ub, b_ub=b_ub, A_eq=A_eq, b_eq=b_eq)"
   ]
  },
  {
   "cell_type": "code",
   "execution_count": 8,
   "metadata": {},
   "outputs": [
    {
     "name": "stdout",
     "output_type": "stream",
     "text": [
      "Defaulting to user installation because normal site-packages is not writeable\n",
      "Collecting pulp\n",
      "  Downloading PuLP-2.6.0-py3-none-any.whl (14.2 MB)\n",
      "     |████████████████████████████████| 14.2 MB 480 kB/s            \n",
      "\u001b[?25hInstalling collected packages: pulp\n",
      "\u001b[33m  WARNING: The script pulptest is installed in '/Users/ilkhom/Library/Python/3.8/bin' which is not on PATH.\n",
      "  Consider adding this directory to PATH or, if you prefer to suppress this warning, use --no-warn-script-location.\u001b[0m\n",
      "Successfully installed pulp-2.6.0\n",
      "Welcome to the CBC MILP Solver \n",
      "Version: 2.10.3 \n",
      "Build Date: Dec 15 2019 \n",
      "\n",
      "command line - /Users/ilkhom/Library/Python/3.8/lib/python/site-packages/pulp/apis/../solverdir/cbc/osx/64/cbc /var/folders/ww/67t1k6ss6bqfd8tw6ntmpfgm0000gn/T/3af3f7f78e724ee5b32aaece7d99b19e-pulp.mps timeMode elapsed branch printingOptions all solution /var/folders/ww/67t1k6ss6bqfd8tw6ntmpfgm0000gn/T/3af3f7f78e724ee5b32aaece7d99b19e-pulp.sol (default strategy 1)\n",
      "At line 2 NAME          MODEL\n",
      "At line 3 ROWS\n",
      "At line 10 COLUMNS\n",
      "At line 41 RHS\n",
      "At line 47 BOUNDS\n",
      "At line 54 ENDATA\n",
      "Problem MODEL has 5 rows, 6 columns and 12 elements\n",
      "Coin0008I MODEL read with 0 errors\n",
      "Option for timeMode changed from cpu to elapsed\n",
      "Continuous objective value is 1900 - 0.00 seconds\n",
      "Cgl0004I processed model has 3 rows, 4 columns (4 integer (0 of which binary)) and 8 elements\n",
      "Cutoff increment increased from 1e-05 to 0.9999\n",
      "Cbc0012I Integer solution of 1900 found by DiveCoefficient after 0 iterations and 0 nodes (0.00 seconds)\n",
      "Cbc0001I Search completed - best objective 1900, took 0 iterations and 0 nodes (0.00 seconds)\n",
      "Cbc0035I Maximum depth 0, 0 variables fixed on reduced cost\n",
      "Cuts at root node changed objective from 1900 to 1900\n",
      "Probing was tried 0 times and created 0 cuts of which 0 were active after adding rounds of cuts (0.000 seconds)\n",
      "Gomory was tried 0 times and created 0 cuts of which 0 were active after adding rounds of cuts (0.000 seconds)\n",
      "Knapsack was tried 0 times and created 0 cuts of which 0 were active after adding rounds of cuts (0.000 seconds)\n",
      "Clique was tried 0 times and created 0 cuts of which 0 were active after adding rounds of cuts (0.000 seconds)\n",
      "MixedIntegerRounding2 was tried 0 times and created 0 cuts of which 0 were active after adding rounds of cuts (0.000 seconds)\n",
      "FlowCover was tried 0 times and created 0 cuts of which 0 were active after adding rounds of cuts (0.000 seconds)\n",
      "TwoMirCuts was tried 0 times and created 0 cuts of which 0 were active after adding rounds of cuts (0.000 seconds)\n",
      "ZeroHalf was tried 0 times and created 0 cuts of which 0 were active after adding rounds of cuts (0.000 seconds)\n",
      "\n",
      "Result - Optimal solution found\n",
      "\n",
      "Objective value:                1900.00000000\n",
      "Enumerated nodes:               0\n",
      "Total iterations:               0\n",
      "Time (CPU seconds):             0.00\n",
      "Time (Wallclock seconds):       0.00\n",
      "\n",
      "Option for printingOptions changed from normal to all\n",
      "Total time (CPU seconds):       0.00   (Wallclock seconds):       0.04\n",
      "\n",
      "objective: 1900.0\n"
     ]
    }
   ],
   "source": [
    "!pip3 install pulp\n",
    "from pulp import LpMaximize, LpProblem, LpStatus, lpSum, LpVariable\n",
    "# Create the model\n",
    "model = LpProblem(name=\"sklad\", sense=1)\n",
    "\n",
    "# Initialize the decision variables\n",
    "a = LpVariable(name=\"x1\", lowBound=0, cat='Integer')\n",
    "b = LpVariable(name=\"x2\", lowBound=0, cat='Integer')\n",
    "c = LpVariable(name=\"x3\", lowBound=0, cat='Integer')\n",
    "d = LpVariable(name=\"x4\", lowBound=0, cat='Integer')\n",
    "e = LpVariable(name=\"x5\", lowBound=0, cat='Integer')\n",
    "f = LpVariable(name=\"x6\", lowBound=0, cat='Integer')\n",
    "\n",
    "# Add the constraints to the model\n",
    "model += (a + b + c == 180, \"first_constraint\")\n",
    "model += (d + e + f == 220, \"red_constraint\")\n",
    "model += (a + d == 110, \"blue_constraint\")\n",
    "model += (b + e == 150, \"yellow_constraint\")\n",
    "model += (c + f == 140, \"green_constraint\")\n",
    "\n",
    "# Add the objective function to the model\n",
    "model += 2 * a + 5 * b + 3 * c + 7 * d + 7 * e + 6 * f \n",
    "# Solve the problem\n",
    "status = model.solve()\n",
    "print(f\"objective: {model.objective.value()}\")"
   ]
  },
  {
   "cell_type": "code",
   "execution_count": 10,
   "metadata": {},
   "outputs": [
    {
     "data": {
      "text/plain": [
       "     con: array([], dtype=float64)\n",
       "     fun: 32.00000000007108\n",
       " message: 'Optimization terminated successfully.'\n",
       "     nit: 8\n",
       "   slack: array([-1.58761893e-13, -1.57651669e-13, -1.61204383e-13, -1.57429625e-13,\n",
       "       -1.60760294e-13,  1.58095759e-13,  1.59428026e-13,  1.59650071e-13,\n",
       "        1.58761893e-13,  1.60094160e-13])\n",
       "  status: 0\n",
       " success: True\n",
       "       x: array([1.05712516e-14, 1.83620474e-14, 3.24181434e-01, 1.08314435e-12,\n",
       "       6.75818566e-01, 7.70554050e-13, 6.88028074e-15, 5.08008856e-01,\n",
       "       4.91991144e-01, 2.52364073e-12, 2.93732986e-01, 4.91991144e-01,\n",
       "       8.94560215e-15, 2.14275870e-01, 1.41583444e-13, 1.07350386e-12,\n",
       "       5.08008856e-01, 1.67809710e-01, 8.69179879e-15, 3.24181434e-01,\n",
       "       7.06267014e-01, 2.68191101e-12, 1.69659199e-13, 2.93732986e-01,\n",
       "       8.22003631e-15])"
      ]
     },
     "execution_count": 10,
     "metadata": {},
     "output_type": "execute_result"
    }
   ],
   "source": [
    "cost=np.array([\n",
    "    [1000,12,10,19,8],\n",
    "    [12,1000,3,7,2],\n",
    "    [10,3,1000,6,20],\n",
    "    [19,7,6,1000,4],\n",
    "    [8,2,20,4,1000]\n",
    "])\n",
    "stock=np.array([1,1,1,1,1])\n",
    "demand=np.array([1,1,1,1,1])\n",
    "num_workers=5\n",
    "num_tasks=5\n",
    "c=cost.flatten()\n",
    "A=[]\n",
    "b=[]\n",
    "for i in range(0, num_workers):\n",
    "    A.append([0]*(num_tasks*i)+[1]*num_tasks+[0]*(num_tasks*(num_workers-i-1)))\n",
    "    b.append(stock[i])\n",
    "for j in range(0, num_tasks):\n",
    "    A.append(([0] * j + [-1] + [0] * (num_tasks - j - 1)) * num_workers)\n",
    "    b.append(-demand[j])\n",
    "A = np.asarray(A)\n",
    "b = np.asarray(b)\n",
    "linprog(c=c, A_ub=A, b_ub=b)"
   ]
  },
  {
   "cell_type": "code",
   "execution_count": 11,
   "metadata": {},
   "outputs": [
    {
     "name": "stdout",
     "output_type": "stream",
     "text": [
      "32.0\n"
     ]
    }
   ],
   "source": [
    "x = cvxpy.Variable(shape=(5,5), boolean=True)\n",
    "u = cvxpy.Variable(shape=5, integer=True)\n",
    "\n",
    "from itertools import product\n",
    "constraints = [\n",
    "    cvxpy.sum(x, axis=0) == np.ones(5),\n",
    "    cvxpy.sum(x, axis=1) == np.ones(5),\n",
    "    u >= 0,\n",
    "    u <= 4,\n",
    "    cvxpy.sum(cvxpy.diag(x)) == 0\n",
    "]\n",
    "\n",
    "for i, j in product(range(5), range(5)):\n",
    "    if i >= 0 and j >= 1 and i != j:\n",
    "        constraints.append(u[i] - u[j] + 5 * x[i,j] <= 4)\n",
    "\n",
    "d = np.array([[0, 12, 10, 19, 8], \n",
    "                [12, 0, 3, 7, 2], \n",
    "                [10, 3, 0, 6, 20], \n",
    "                [19, 7, 6, 0, 4], \n",
    "                [8, 2, 20, 4, 0]])\n",
    "\n",
    "func = cvxpy.sum(cvxpy.multiply(x, d))\n",
    "problem = cvxpy.Problem(cvxpy.Minimize(func), constraints=constraints)\n",
    "result = problem.solve(solver='ECOS_BB')\n",
    "print(np.round(result))"
   ]
  },
  {
   "cell_type": "markdown",
   "metadata": {},
   "source": [
    "<img src=\"stat&basic6_img5.png\" width=\"800px\">"
   ]
  },
  {
   "cell_type": "markdown",
   "metadata": {},
   "source": [
    "<h1>Задача 9.4</h1>\n",
    "<img src=\"stat$basic_img3.jpg\" width=\"800px\">"
   ]
  },
  {
   "cell_type": "markdown",
   "metadata": {},
   "source": [
    "<img src=\"stat$basic_img4.jpg\" width=\"800px\">"
   ]
  },
  {
   "cell_type": "code",
   "execution_count": 15,
   "metadata": {},
   "outputs": [
    {
     "data": {
      "text/plain": [
       "(-1, 3)"
      ]
     },
     "execution_count": 15,
     "metadata": {},
     "output_type": "execute_result"
    }
   ],
   "source": [
    "def f(x, y):\n",
    "    return x**2 + x*y - 2*x + 3*y - 1\n",
    "def grad(x, y):\n",
    "    dx = 2*x + y - 2\n",
    "    dy = x + 3\n",
    "    return (dx, dy)\n",
    "\n",
    "x0 = (0, 1)\n",
    "vec = grad(*x0)\n",
    "vec"
   ]
  },
  {
   "cell_type": "code",
   "execution_count": 17,
   "metadata": {},
   "outputs": [
    {
     "data": {
      "text/plain": [
       "array([-3,  8])"
      ]
     },
     "execution_count": 17,
     "metadata": {},
     "output_type": "execute_result"
    }
   ],
   "source": [
    "A1 = [[0,1],[1,-2]]\n",
    "# получил матрицу Гессе и сделал из нее обратную [0;1][1;-2]\n",
    "# градиент в точке равен (-1;3)\n",
    "# подставляем в формулу: x(n-1)=  (0;1) - [[0;1],[1;-2]] * (-1;3)\n",
    "\n",
    "# Решение: Сначала нужно перемножить обратную матрицу Гессе и вектор градиента - получим вектор, а затем покомпонентно вычесть его из вектора x_n\n",
    "x_n = np.array([0,1])\n",
    "a = np.array(A1)\n",
    "b = np.array(vec)\n",
    "c = a.dot(b) # [3, -7]\n",
    "x_n - c"
   ]
  }
 ],
 "metadata": {
  "interpreter": {
   "hash": "31f2aee4e71d21fbe5cf8b01ff0e069b9275f58929596ceb00d14d90e3e16cd6"
  },
  "kernelspec": {
   "display_name": "Python 3.8.9 64-bit",
   "language": "python",
   "name": "python3"
  },
  "language_info": {
   "codemirror_mode": {
    "name": "ipython",
    "version": 3
   },
   "file_extension": ".py",
   "mimetype": "text/x-python",
   "name": "python",
   "nbconvert_exporter": "python",
   "pygments_lexer": "ipython3",
   "version": "3.8.9"
  },
  "orig_nbformat": 4
 },
 "nbformat": 4,
 "nbformat_minor": 2
}
