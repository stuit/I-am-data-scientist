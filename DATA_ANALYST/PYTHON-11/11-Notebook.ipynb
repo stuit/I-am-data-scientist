{
 "metadata": {
  "language_info": {
   "codemirror_mode": {
    "name": "ipython",
    "version": 3
   },
   "file_extension": ".py",
   "mimetype": "text/x-python",
   "name": "python",
   "nbconvert_exporter": "python",
   "pygments_lexer": "ipython3",
   "version": "3.8.2-final"
  },
  "orig_nbformat": 2,
  "kernelspec": {
   "name": "python3",
   "display_name": "Python 3.8.2 64-bit ('.venv')",
   "metadata": {
    "interpreter": {
     "hash": "a6730fb0a06c18af636869813f8eb69d9f4a51b49b9b87b39aeaf81c3d64a67b"
    }
   }
  }
 },
 "nbformat": 4,
 "nbformat_minor": 2,
 "cells": [
  {
   "cell_type": "code",
   "execution_count": 451,
   "metadata": {},
   "outputs": [
    {
     "output_type": "execute_result",
     "data": {
      "text/plain": [
       "                            user_id                  time  bet  win\n",
       "0  Запись пользователя № - user_919  [2019-01-01 14:06:51  NaN  NaN\n",
       "1  Запись пользователя № - user_973  [2019-01-01 14:51:16  NaN  NaN\n",
       "2  Запись пользователя № - user_903  [2019-01-01 16:31:16  NaN  NaN\n",
       "3  Запись пользователя № - user_954  [2019-01-01 17:17:51  NaN  NaN\n",
       "4  Запись пользователя № - user_954  [2019-01-01 21:31:18  NaN  NaN"
      ],
      "text/html": "<div>\n<style scoped>\n    .dataframe tbody tr th:only-of-type {\n        vertical-align: middle;\n    }\n\n    .dataframe tbody tr th {\n        vertical-align: top;\n    }\n\n    .dataframe thead th {\n        text-align: right;\n    }\n</style>\n<table border=\"1\" class=\"dataframe\">\n  <thead>\n    <tr style=\"text-align: right;\">\n      <th></th>\n      <th>user_id</th>\n      <th>time</th>\n      <th>bet</th>\n      <th>win</th>\n    </tr>\n  </thead>\n  <tbody>\n    <tr>\n      <th>0</th>\n      <td>Запись пользователя № - user_919</td>\n      <td>[2019-01-01 14:06:51</td>\n      <td>NaN</td>\n      <td>NaN</td>\n    </tr>\n    <tr>\n      <th>1</th>\n      <td>Запись пользователя № - user_973</td>\n      <td>[2019-01-01 14:51:16</td>\n      <td>NaN</td>\n      <td>NaN</td>\n    </tr>\n    <tr>\n      <th>2</th>\n      <td>Запись пользователя № - user_903</td>\n      <td>[2019-01-01 16:31:16</td>\n      <td>NaN</td>\n      <td>NaN</td>\n    </tr>\n    <tr>\n      <th>3</th>\n      <td>Запись пользователя № - user_954</td>\n      <td>[2019-01-01 17:17:51</td>\n      <td>NaN</td>\n      <td>NaN</td>\n    </tr>\n    <tr>\n      <th>4</th>\n      <td>Запись пользователя № - user_954</td>\n      <td>[2019-01-01 21:31:18</td>\n      <td>NaN</td>\n      <td>NaN</td>\n    </tr>\n  </tbody>\n</table>\n</div>"
     },
     "metadata": {},
     "execution_count": 451
    }
   ],
   "source": [
    "import pandas as pd\n",
    "import numpy as np\n",
    "log = pd.read_csv(\"log.csv\", header=None)\n",
    "log.columns = ['user_id', 'time', 'bet', 'win']\n",
    "usr = pd.read_csv('users.csv')\n",
    "log.head()"
   ]
  },
  {
   "cell_type": "code",
   "execution_count": 452,
   "metadata": {},
   "outputs": [
    {
     "output_type": "execute_result",
     "data": {
      "text/plain": [
       "15"
      ]
     },
     "metadata": {},
     "execution_count": 452
    }
   ],
   "source": [
    "len(log[log.time.isna() == True])"
   ]
  },
  {
   "source": [
    "**Удаление пропусков**\n",
    "\n",
    "Пропуски можно удалять автоматически. Во многих случаях это правильно, так как данные с большим количеством пропусков часто не имеют смысла и не приносят никакой пользы.  \n",
    "\n",
    "Удалять данные с пропусками можно с помощью метода **dropna()**.\n",
    "\n",
    "Параметр axis в методе **dropna()** говорит методу, по какой оси удалять значения.  \n",
    "\n",
    "Если нужно удалить строки, в которых встречается пропуск (NaN), следует указать axis=0.  Зачем это делать? Например, у нас из 1000 примеров данных про пользователей пропуски есть в пяти. Разумно их удалить, так как их количество пренебрежимо мало.\n",
    "Если нужно удалить столбцы, в которых встречается пропуск (NaN), нужно указывать axis=1. Зачем? Иногда в одном конкретном столбце пропусков настолько много, что с ними просто не хочется возиться - смысла в них все равно почти нет. \n",
    "\n",
    "Еще один интересный параметр - **subset**. Что он делает? Если передать в него список значений по одной оси (например, названия столбцов) и задать при этом в параметре axis другую ось (в нашем случае 0), то мы удалим те строки, для которых в данных столбцах находится пропуск. То же самое работает и наоборот: нужно поменять axis на 1 и вместо названий столбцов передавать индексы строк.\n",
    "\n",
    "Перед удалением строк обязательно сделайте бэкап."
   ],
   "cell_type": "markdown",
   "metadata": {}
  },
  {
   "cell_type": "code",
   "execution_count": 453,
   "metadata": {},
   "outputs": [
    {
     "output_type": "display_data",
     "data": {
      "text/plain": "                              user_id\n0    Запись пользователя № - user_919\n1    Запись пользователя № - user_973\n2    Запись пользователя № - user_903\n3    Запись пользователя № - user_954\n4    Запись пользователя № - user_954\n..                                ...\n995  Запись пользователя № - user_984\n996                            #error\n997                            #error\n998                            #error\n999                            #error\n\n[1000 rows x 1 columns]",
      "text/html": "<div>\n<style scoped>\n    .dataframe tbody tr th:only-of-type {\n        vertical-align: middle;\n    }\n\n    .dataframe tbody tr th {\n        vertical-align: top;\n    }\n\n    .dataframe thead th {\n        text-align: right;\n    }\n</style>\n<table border=\"1\" class=\"dataframe\">\n  <thead>\n    <tr style=\"text-align: right;\">\n      <th></th>\n      <th>user_id</th>\n    </tr>\n  </thead>\n  <tbody>\n    <tr>\n      <th>0</th>\n      <td>Запись пользователя № - user_919</td>\n    </tr>\n    <tr>\n      <th>1</th>\n      <td>Запись пользователя № - user_973</td>\n    </tr>\n    <tr>\n      <th>2</th>\n      <td>Запись пользователя № - user_903</td>\n    </tr>\n    <tr>\n      <th>3</th>\n      <td>Запись пользователя № - user_954</td>\n    </tr>\n    <tr>\n      <th>4</th>\n      <td>Запись пользователя № - user_954</td>\n    </tr>\n    <tr>\n      <th>...</th>\n      <td>...</td>\n    </tr>\n    <tr>\n      <th>995</th>\n      <td>Запись пользователя № - user_984</td>\n    </tr>\n    <tr>\n      <th>996</th>\n      <td>#error</td>\n    </tr>\n    <tr>\n      <th>997</th>\n      <td>#error</td>\n    </tr>\n    <tr>\n      <th>998</th>\n      <td>#error</td>\n    </tr>\n    <tr>\n      <th>999</th>\n      <td>#error</td>\n    </tr>\n  </tbody>\n</table>\n<p>1000 rows × 1 columns</p>\n</div>"
     },
     "metadata": {}
    }
   ],
   "source": [
    "nolog = log.copy()\n",
    "display(nolog.dropna(axis=1))"
   ]
  },
  {
   "cell_type": "code",
   "execution_count": 454,
   "metadata": {},
   "outputs": [
    {
     "output_type": "display_data",
     "data": {
      "text/plain": "                              user_id                  time        bet  \\\n14   Запись пользователя № - user_917   [2019-01-02 8:57:36   145732.0   \n29   Запись пользователя № - user_942  [2019-01-04 13:59:42  1678321.0   \n151  Запись пользователя № - user_982  [2019-01-16 21:54:22      100.0   \n189  Запись пользователя № - user_964  [2019-01-21 18:34:44      200.0   \n205  Запись пользователя № - user_931   [2019-01-22 5:26:59      300.0   \n..                                ...                   ...        ...   \n967  Запись пользователя № - user_975  [2019-04-19 22:25:15     1000.0   \n971  Запись пользователя № - user_912  [2019-04-20 10:35:49    10554.0   \n972  Запись пользователя № - user_926  [2019-04-20 10:35:50    10354.0   \n976  Запись пользователя № - user_970  [2019-04-20 10:35:54    10354.0   \n991  Запись пользователя № - user_965  [2019-04-20 12:55:41      800.0   \n\n           win  \n14   1987653.0  \n29   9876543.0  \n151     4749.0  \n189     4667.0  \n205     4319.0  \n..         ...  \n967     6108.0  \n971    31799.0  \n972    30244.0  \n976    30691.0  \n991     6927.0  \n\n[133 rows x 4 columns]",
      "text/html": "<div>\n<style scoped>\n    .dataframe tbody tr th:only-of-type {\n        vertical-align: middle;\n    }\n\n    .dataframe tbody tr th {\n        vertical-align: top;\n    }\n\n    .dataframe thead th {\n        text-align: right;\n    }\n</style>\n<table border=\"1\" class=\"dataframe\">\n  <thead>\n    <tr style=\"text-align: right;\">\n      <th></th>\n      <th>user_id</th>\n      <th>time</th>\n      <th>bet</th>\n      <th>win</th>\n    </tr>\n  </thead>\n  <tbody>\n    <tr>\n      <th>14</th>\n      <td>Запись пользователя № - user_917</td>\n      <td>[2019-01-02 8:57:36</td>\n      <td>145732.0</td>\n      <td>1987653.0</td>\n    </tr>\n    <tr>\n      <th>29</th>\n      <td>Запись пользователя № - user_942</td>\n      <td>[2019-01-04 13:59:42</td>\n      <td>1678321.0</td>\n      <td>9876543.0</td>\n    </tr>\n    <tr>\n      <th>151</th>\n      <td>Запись пользователя № - user_982</td>\n      <td>[2019-01-16 21:54:22</td>\n      <td>100.0</td>\n      <td>4749.0</td>\n    </tr>\n    <tr>\n      <th>189</th>\n      <td>Запись пользователя № - user_964</td>\n      <td>[2019-01-21 18:34:44</td>\n      <td>200.0</td>\n      <td>4667.0</td>\n    </tr>\n    <tr>\n      <th>205</th>\n      <td>Запись пользователя № - user_931</td>\n      <td>[2019-01-22 5:26:59</td>\n      <td>300.0</td>\n      <td>4319.0</td>\n    </tr>\n    <tr>\n      <th>...</th>\n      <td>...</td>\n      <td>...</td>\n      <td>...</td>\n      <td>...</td>\n    </tr>\n    <tr>\n      <th>967</th>\n      <td>Запись пользователя № - user_975</td>\n      <td>[2019-04-19 22:25:15</td>\n      <td>1000.0</td>\n      <td>6108.0</td>\n    </tr>\n    <tr>\n      <th>971</th>\n      <td>Запись пользователя № - user_912</td>\n      <td>[2019-04-20 10:35:49</td>\n      <td>10554.0</td>\n      <td>31799.0</td>\n    </tr>\n    <tr>\n      <th>972</th>\n      <td>Запись пользователя № - user_926</td>\n      <td>[2019-04-20 10:35:50</td>\n      <td>10354.0</td>\n      <td>30244.0</td>\n    </tr>\n    <tr>\n      <th>976</th>\n      <td>Запись пользователя № - user_970</td>\n      <td>[2019-04-20 10:35:54</td>\n      <td>10354.0</td>\n      <td>30691.0</td>\n    </tr>\n    <tr>\n      <th>991</th>\n      <td>Запись пользователя № - user_965</td>\n      <td>[2019-04-20 12:55:41</td>\n      <td>800.0</td>\n      <td>6927.0</td>\n    </tr>\n  </tbody>\n</table>\n<p>133 rows × 4 columns</p>\n</div>"
     },
     "metadata": {}
    }
   ],
   "source": [
    "display(nolog.dropna(axis=0))"
   ]
  },
  {
   "cell_type": "code",
   "execution_count": 455,
   "metadata": {},
   "outputs": [
    {
     "output_type": "display_data",
     "data": {
      "text/plain": "                              user_id                  time      bet     win\n0    Запись пользователя № - user_919  [2019-01-01 14:06:51      NaN     NaN\n1    Запись пользователя № - user_973  [2019-01-01 14:51:16      NaN     NaN\n2    Запись пользователя № - user_903  [2019-01-01 16:31:16      NaN     NaN\n3    Запись пользователя № - user_954  [2019-01-01 17:17:51      NaN     NaN\n4    Запись пользователя № - user_954  [2019-01-01 21:31:18      NaN     NaN\n..                                ...                   ...      ...     ...\n991  Запись пользователя № - user_965  [2019-04-20 12:55:41    800.0  6927.0\n992  Запись пользователя № - user_967  [2019-04-20 14:59:36  10154.0     NaN\n993  Запись пользователя № - user_973  [2019-04-20 17:09:56  10254.0     NaN\n994  Запись пользователя № - user_977  [2019-04-20 18:10:07  10354.0     NaN\n995  Запись пользователя № - user_984   [2019-04-20 9:59:58   9754.0     NaN\n\n[986 rows x 4 columns]",
      "text/html": "<div>\n<style scoped>\n    .dataframe tbody tr th:only-of-type {\n        vertical-align: middle;\n    }\n\n    .dataframe tbody tr th {\n        vertical-align: top;\n    }\n\n    .dataframe thead th {\n        text-align: right;\n    }\n</style>\n<table border=\"1\" class=\"dataframe\">\n  <thead>\n    <tr style=\"text-align: right;\">\n      <th></th>\n      <th>user_id</th>\n      <th>time</th>\n      <th>bet</th>\n      <th>win</th>\n    </tr>\n  </thead>\n  <tbody>\n    <tr>\n      <th>0</th>\n      <td>Запись пользователя № - user_919</td>\n      <td>[2019-01-01 14:06:51</td>\n      <td>NaN</td>\n      <td>NaN</td>\n    </tr>\n    <tr>\n      <th>1</th>\n      <td>Запись пользователя № - user_973</td>\n      <td>[2019-01-01 14:51:16</td>\n      <td>NaN</td>\n      <td>NaN</td>\n    </tr>\n    <tr>\n      <th>2</th>\n      <td>Запись пользователя № - user_903</td>\n      <td>[2019-01-01 16:31:16</td>\n      <td>NaN</td>\n      <td>NaN</td>\n    </tr>\n    <tr>\n      <th>3</th>\n      <td>Запись пользователя № - user_954</td>\n      <td>[2019-01-01 17:17:51</td>\n      <td>NaN</td>\n      <td>NaN</td>\n    </tr>\n    <tr>\n      <th>4</th>\n      <td>Запись пользователя № - user_954</td>\n      <td>[2019-01-01 21:31:18</td>\n      <td>NaN</td>\n      <td>NaN</td>\n    </tr>\n    <tr>\n      <th>...</th>\n      <td>...</td>\n      <td>...</td>\n      <td>...</td>\n      <td>...</td>\n    </tr>\n    <tr>\n      <th>991</th>\n      <td>Запись пользователя № - user_965</td>\n      <td>[2019-04-20 12:55:41</td>\n      <td>800.0</td>\n      <td>6927.0</td>\n    </tr>\n    <tr>\n      <th>992</th>\n      <td>Запись пользователя № - user_967</td>\n      <td>[2019-04-20 14:59:36</td>\n      <td>10154.0</td>\n      <td>NaN</td>\n    </tr>\n    <tr>\n      <th>993</th>\n      <td>Запись пользователя № - user_973</td>\n      <td>[2019-04-20 17:09:56</td>\n      <td>10254.0</td>\n      <td>NaN</td>\n    </tr>\n    <tr>\n      <th>994</th>\n      <td>Запись пользователя № - user_977</td>\n      <td>[2019-04-20 18:10:07</td>\n      <td>10354.0</td>\n      <td>NaN</td>\n    </tr>\n    <tr>\n      <th>995</th>\n      <td>Запись пользователя № - user_984</td>\n      <td>[2019-04-20 9:59:58</td>\n      <td>9754.0</td>\n      <td>NaN</td>\n    </tr>\n  </tbody>\n</table>\n<p>986 rows × 4 columns</p>\n</div>"
     },
     "metadata": {}
    }
   ],
   "source": [
    "display(log.drop_duplicates(subset=['user_id','time']))"
   ]
  },
  {
   "cell_type": "code",
   "execution_count": 456,
   "metadata": {},
   "outputs": [
    {
     "output_type": "execute_result",
     "data": {
      "text/plain": [
       "'2019-04-20'"
      ]
     },
     "metadata": {},
     "execution_count": 456
    }
   ],
   "source": [
    "def filter_time(t):\n",
    "    if type(t) is str:\n",
    "        return t[1:]\n",
    "    else:\n",
    "        return t\n",
    "nolog.time = pd.to_datetime(log.time.apply(filter_time))\n",
    "nolog[nolog.time.isna() == False].time.dt.strftime('%Y-%m-%d').max()"
   ]
  },
  {
   "cell_type": "code",
   "execution_count": 457,
   "metadata": {},
   "outputs": [
    {
     "output_type": "execute_result",
     "data": {
      "text/plain": [
       "                              user_id                time       bet     win\n",
       "0    Запись пользователя № - user_973 2019-01-01 14:51:16       NaN     NaN\n",
       "1    Запись пользователя № - user_903 2019-01-01 16:31:16       NaN     NaN\n",
       "2    Запись пользователя № - user_954 2019-01-01 17:17:51       NaN     NaN\n",
       "3    Запись пользователя № - user_954 2019-01-01 21:31:18       NaN     NaN\n",
       "4    Запись пользователя № - user_917 2019-01-01 23:34:55  156789.0     NaN\n",
       "..                                ...                 ...       ...     ...\n",
       "990  Запись пользователя № - user_965 2019-04-20 12:55:41     800.0  6927.0\n",
       "991  Запись пользователя № - user_967 2019-04-20 14:59:36   10154.0     NaN\n",
       "992  Запись пользователя № - user_973 2019-04-20 17:09:56   10254.0     NaN\n",
       "993  Запись пользователя № - user_977 2019-04-20 18:10:07   10354.0     NaN\n",
       "994  Запись пользователя № - user_984 2019-04-20 09:59:58    9754.0     NaN\n",
       "\n",
       "[984 rows x 4 columns]"
      ],
      "text/html": "<div>\n<style scoped>\n    .dataframe tbody tr th:only-of-type {\n        vertical-align: middle;\n    }\n\n    .dataframe tbody tr th {\n        vertical-align: top;\n    }\n\n    .dataframe thead th {\n        text-align: right;\n    }\n</style>\n<table border=\"1\" class=\"dataframe\">\n  <thead>\n    <tr style=\"text-align: right;\">\n      <th></th>\n      <th>user_id</th>\n      <th>time</th>\n      <th>bet</th>\n      <th>win</th>\n    </tr>\n  </thead>\n  <tbody>\n    <tr>\n      <th>0</th>\n      <td>Запись пользователя № - user_973</td>\n      <td>2019-01-01 14:51:16</td>\n      <td>NaN</td>\n      <td>NaN</td>\n    </tr>\n    <tr>\n      <th>1</th>\n      <td>Запись пользователя № - user_903</td>\n      <td>2019-01-01 16:31:16</td>\n      <td>NaN</td>\n      <td>NaN</td>\n    </tr>\n    <tr>\n      <th>2</th>\n      <td>Запись пользователя № - user_954</td>\n      <td>2019-01-01 17:17:51</td>\n      <td>NaN</td>\n      <td>NaN</td>\n    </tr>\n    <tr>\n      <th>3</th>\n      <td>Запись пользователя № - user_954</td>\n      <td>2019-01-01 21:31:18</td>\n      <td>NaN</td>\n      <td>NaN</td>\n    </tr>\n    <tr>\n      <th>4</th>\n      <td>Запись пользователя № - user_917</td>\n      <td>2019-01-01 23:34:55</td>\n      <td>156789.0</td>\n      <td>NaN</td>\n    </tr>\n    <tr>\n      <th>...</th>\n      <td>...</td>\n      <td>...</td>\n      <td>...</td>\n      <td>...</td>\n    </tr>\n    <tr>\n      <th>990</th>\n      <td>Запись пользователя № - user_965</td>\n      <td>2019-04-20 12:55:41</td>\n      <td>800.0</td>\n      <td>6927.0</td>\n    </tr>\n    <tr>\n      <th>991</th>\n      <td>Запись пользователя № - user_967</td>\n      <td>2019-04-20 14:59:36</td>\n      <td>10154.0</td>\n      <td>NaN</td>\n    </tr>\n    <tr>\n      <th>992</th>\n      <td>Запись пользователя № - user_973</td>\n      <td>2019-04-20 17:09:56</td>\n      <td>10254.0</td>\n      <td>NaN</td>\n    </tr>\n    <tr>\n      <th>993</th>\n      <td>Запись пользователя № - user_977</td>\n      <td>2019-04-20 18:10:07</td>\n      <td>10354.0</td>\n      <td>NaN</td>\n    </tr>\n    <tr>\n      <th>994</th>\n      <td>Запись пользователя № - user_984</td>\n      <td>2019-04-20 09:59:58</td>\n      <td>9754.0</td>\n      <td>NaN</td>\n    </tr>\n  </tbody>\n</table>\n<p>984 rows × 4 columns</p>\n</div>"
     },
     "metadata": {},
     "execution_count": 457
    }
   ],
   "source": [
    "log = pd.read_csv(\"log.csv\")  \n",
    "# log = log.dropna()\n",
    "log.columns = ['user_id', 'time', 'bet', 'win']\n",
    "log = log.dropna(subset=['time'])\n",
    "log['time'] = log['time'].apply(lambda x: x[1:])  \n",
    "log['time'] = pd.to_datetime(log['time'])  \n",
    "# Пропущенная строка  \n",
    "log"
   ]
  },
  {
   "cell_type": "code",
   "execution_count": 458,
   "metadata": {},
   "outputs": [
    {
     "output_type": "execute_result",
     "data": {
      "text/plain": [
       "36    25\n",
       "31    23\n",
       "50    22\n",
       "14    21\n",
       "29    21\n",
       "43    21\n",
       "5     21\n",
       "6     21\n",
       "40    21\n",
       "18    21\n",
       "53    21\n",
       "12    21\n",
       "45    20\n",
       "57    20\n",
       "58    20\n",
       "48    20\n",
       "2     20\n",
       "56    19\n",
       "21    19\n",
       "27    19\n",
       "35    18\n",
       "34    18\n",
       "33    18\n",
       "54    18\n",
       "47    18\n",
       "3     18\n",
       "20    18\n",
       "9     18\n",
       "51    17\n",
       "10    17\n",
       "55    16\n",
       "17    16\n",
       "25    16\n",
       "24    15\n",
       "37    15\n",
       "49    15\n",
       "38    15\n",
       "15    15\n",
       "16    15\n",
       "28    15\n",
       "30    15\n",
       "32    14\n",
       "7     14\n",
       "19    14\n",
       "4     14\n",
       "44    14\n",
       "59    13\n",
       "41    13\n",
       "1     13\n",
       "39    12\n",
       "23    12\n",
       "0     12\n",
       "42    11\n",
       "22    11\n",
       "13    11\n",
       "46    10\n",
       "52    10\n",
       "26     9\n",
       "8      9\n",
       "11     6\n",
       "Name: time, dtype: int64"
      ]
     },
     "metadata": {},
     "execution_count": 458
    }
   ],
   "source": [
    "log.time.dt.minute.value_counts()"
   ]
  },
  {
   "cell_type": "code",
   "execution_count": 459,
   "metadata": {},
   "outputs": [
    {
     "output_type": "execute_result",
     "data": {
      "text/plain": [
       "1    291\n",
       "3    264\n",
       "2    259\n",
       "4    170\n",
       "Name: time, dtype: int64"
      ]
     },
     "metadata": {},
     "execution_count": 459
    }
   ],
   "source": [
    "log.time.dt.month.value_counts()"
   ]
  },
  {
   "cell_type": "code",
   "execution_count": 460,
   "metadata": {},
   "outputs": [
    {
     "output_type": "execute_result",
     "data": {
      "text/plain": [
       "283"
      ]
     },
     "metadata": {},
     "execution_count": 460
    }
   ],
   "source": [
    "log.time[log.time.dt.day_of_week > 4].dt.day_of_week.value_counts().sum()"
   ]
  },
  {
   "cell_type": "code",
   "execution_count": 461,
   "metadata": {},
   "outputs": [
    {
     "output_type": "execute_result",
     "data": {
      "text/plain": [
       "ночь     265\n",
       "утро     253\n",
       "день     239\n",
       "вечер    227\n",
       "Name: time, dtype: int64"
      ]
     },
     "metadata": {},
     "execution_count": 461
    }
   ],
   "source": [
    "def get_daytime_name(time):\n",
    "    if 0 <= time <= 5:\n",
    "        return 'ночь'\n",
    "    elif 5 < time <= 11:\n",
    "        return 'утро'\n",
    "    elif 11 < time <= 17:\n",
    "        return 'день'\n",
    "    elif 17 < time <= 23:\n",
    "        return 'вечер'\n",
    "\n",
    "log.time.apply(lambda x: get_daytime_name(x.hour)).value_counts()"
   ]
  },
  {
   "cell_type": "code",
   "execution_count": 462,
   "metadata": {},
   "outputs": [
    {
     "output_type": "execute_result",
     "data": {
      "text/plain": [
       "                              user_id                time        bet  \\\n",
       "13   Запись пользователя № - user_917 2019-01-02 08:57:36   145732.0   \n",
       "28   Запись пользователя № - user_942 2019-01-04 13:59:42  1678321.0   \n",
       "150  Запись пользователя № - user_982 2019-01-16 21:54:22      100.0   \n",
       "188  Запись пользователя № - user_964 2019-01-21 18:34:44      200.0   \n",
       "204  Запись пользователя № - user_931 2019-01-22 05:26:59      300.0   \n",
       "..                                ...                 ...        ...   \n",
       "966  Запись пользователя № - user_975 2019-04-19 22:25:15     1000.0   \n",
       "970  Запись пользователя № - user_912 2019-04-20 10:35:49    10554.0   \n",
       "971  Запись пользователя № - user_926 2019-04-20 10:35:50    10354.0   \n",
       "975  Запись пользователя № - user_970 2019-04-20 10:35:54    10354.0   \n",
       "990  Запись пользователя № - user_965 2019-04-20 12:55:41      800.0   \n",
       "\n",
       "           win  hour  \n",
       "13   1987653.0     8  \n",
       "28   9876543.0    13  \n",
       "150     4749.0    21  \n",
       "188     4667.0    18  \n",
       "204     4319.0     5  \n",
       "..         ...   ...  \n",
       "966     6108.0    22  \n",
       "970    31799.0    10  \n",
       "971    30244.0    10  \n",
       "975    30691.0    10  \n",
       "990     6927.0    12  \n",
       "\n",
       "[133 rows x 5 columns]"
      ],
      "text/html": "<div>\n<style scoped>\n    .dataframe tbody tr th:only-of-type {\n        vertical-align: middle;\n    }\n\n    .dataframe tbody tr th {\n        vertical-align: top;\n    }\n\n    .dataframe thead th {\n        text-align: right;\n    }\n</style>\n<table border=\"1\" class=\"dataframe\">\n  <thead>\n    <tr style=\"text-align: right;\">\n      <th></th>\n      <th>user_id</th>\n      <th>time</th>\n      <th>bet</th>\n      <th>win</th>\n      <th>hour</th>\n    </tr>\n  </thead>\n  <tbody>\n    <tr>\n      <th>13</th>\n      <td>Запись пользователя № - user_917</td>\n      <td>2019-01-02 08:57:36</td>\n      <td>145732.0</td>\n      <td>1987653.0</td>\n      <td>8</td>\n    </tr>\n    <tr>\n      <th>28</th>\n      <td>Запись пользователя № - user_942</td>\n      <td>2019-01-04 13:59:42</td>\n      <td>1678321.0</td>\n      <td>9876543.0</td>\n      <td>13</td>\n    </tr>\n    <tr>\n      <th>150</th>\n      <td>Запись пользователя № - user_982</td>\n      <td>2019-01-16 21:54:22</td>\n      <td>100.0</td>\n      <td>4749.0</td>\n      <td>21</td>\n    </tr>\n    <tr>\n      <th>188</th>\n      <td>Запись пользователя № - user_964</td>\n      <td>2019-01-21 18:34:44</td>\n      <td>200.0</td>\n      <td>4667.0</td>\n      <td>18</td>\n    </tr>\n    <tr>\n      <th>204</th>\n      <td>Запись пользователя № - user_931</td>\n      <td>2019-01-22 05:26:59</td>\n      <td>300.0</td>\n      <td>4319.0</td>\n      <td>5</td>\n    </tr>\n    <tr>\n      <th>...</th>\n      <td>...</td>\n      <td>...</td>\n      <td>...</td>\n      <td>...</td>\n      <td>...</td>\n    </tr>\n    <tr>\n      <th>966</th>\n      <td>Запись пользователя № - user_975</td>\n      <td>2019-04-19 22:25:15</td>\n      <td>1000.0</td>\n      <td>6108.0</td>\n      <td>22</td>\n    </tr>\n    <tr>\n      <th>970</th>\n      <td>Запись пользователя № - user_912</td>\n      <td>2019-04-20 10:35:49</td>\n      <td>10554.0</td>\n      <td>31799.0</td>\n      <td>10</td>\n    </tr>\n    <tr>\n      <th>971</th>\n      <td>Запись пользователя № - user_926</td>\n      <td>2019-04-20 10:35:50</td>\n      <td>10354.0</td>\n      <td>30244.0</td>\n      <td>10</td>\n    </tr>\n    <tr>\n      <th>975</th>\n      <td>Запись пользователя № - user_970</td>\n      <td>2019-04-20 10:35:54</td>\n      <td>10354.0</td>\n      <td>30691.0</td>\n      <td>10</td>\n    </tr>\n    <tr>\n      <th>990</th>\n      <td>Запись пользователя № - user_965</td>\n      <td>2019-04-20 12:55:41</td>\n      <td>800.0</td>\n      <td>6927.0</td>\n      <td>12</td>\n    </tr>\n  </tbody>\n</table>\n<p>133 rows × 5 columns</p>\n</div>"
     },
     "metadata": {},
     "execution_count": 462
    }
   ],
   "source": [
    "log = pd.read_csv(\"log.csv\")  \n",
    "log.columns = ['user_id', 'time', 'bet', 'win']\n",
    "log = log.dropna()\n",
    "# log = log.dropna(subset=['time'])\n",
    "log['time'] = log['time'].apply(lambda x: x[1:])  \n",
    "log['time'] = pd.to_datetime(log['time'])\n",
    "log['hour'] = log['time'].dt.hour\n",
    "log"
   ]
  },
  {
   "cell_type": "code",
   "execution_count": 463,
   "metadata": {},
   "outputs": [
    {
     "output_type": "execute_result",
     "data": {
      "text/plain": [
       "                              user_id                time        bet  \\\n",
       "14   Запись пользователя № - user_917 2019-01-02 08:57:36   145732.0   \n",
       "29   Запись пользователя № - user_942 2019-01-04 13:59:42  1678321.0   \n",
       "151  Запись пользователя № - user_982 2019-01-16 21:54:22      100.0   \n",
       "189  Запись пользователя № - user_964 2019-01-21 18:34:44      200.0   \n",
       "205  Запись пользователя № - user_931 2019-01-22 05:26:59      300.0   \n",
       "..                                ...                 ...        ...   \n",
       "967  Запись пользователя № - user_975 2019-04-19 22:25:15     1000.0   \n",
       "971  Запись пользователя № - user_912 2019-04-20 10:35:49    10554.0   \n",
       "972  Запись пользователя № - user_926 2019-04-20 10:35:50    10354.0   \n",
       "976  Запись пользователя № - user_970 2019-04-20 10:35:54    10354.0   \n",
       "991  Запись пользователя № - user_965 2019-04-20 12:55:41      800.0   \n",
       "\n",
       "           win  hour  \n",
       "14   1987653.0     8  \n",
       "29   9876543.0    13  \n",
       "151     4749.0    21  \n",
       "189     4667.0    18  \n",
       "205     4319.0     5  \n",
       "..         ...   ...  \n",
       "967     6108.0    22  \n",
       "971    31799.0    10  \n",
       "972    30244.0    10  \n",
       "976    30691.0    10  \n",
       "991     6927.0    12  \n",
       "\n",
       "[133 rows x 5 columns]"
      ],
      "text/html": "<div>\n<style scoped>\n    .dataframe tbody tr th:only-of-type {\n        vertical-align: middle;\n    }\n\n    .dataframe tbody tr th {\n        vertical-align: top;\n    }\n\n    .dataframe thead th {\n        text-align: right;\n    }\n</style>\n<table border=\"1\" class=\"dataframe\">\n  <thead>\n    <tr style=\"text-align: right;\">\n      <th></th>\n      <th>user_id</th>\n      <th>time</th>\n      <th>bet</th>\n      <th>win</th>\n      <th>hour</th>\n    </tr>\n  </thead>\n  <tbody>\n    <tr>\n      <th>14</th>\n      <td>Запись пользователя № - user_917</td>\n      <td>2019-01-02 08:57:36</td>\n      <td>145732.0</td>\n      <td>1987653.0</td>\n      <td>8</td>\n    </tr>\n    <tr>\n      <th>29</th>\n      <td>Запись пользователя № - user_942</td>\n      <td>2019-01-04 13:59:42</td>\n      <td>1678321.0</td>\n      <td>9876543.0</td>\n      <td>13</td>\n    </tr>\n    <tr>\n      <th>151</th>\n      <td>Запись пользователя № - user_982</td>\n      <td>2019-01-16 21:54:22</td>\n      <td>100.0</td>\n      <td>4749.0</td>\n      <td>21</td>\n    </tr>\n    <tr>\n      <th>189</th>\n      <td>Запись пользователя № - user_964</td>\n      <td>2019-01-21 18:34:44</td>\n      <td>200.0</td>\n      <td>4667.0</td>\n      <td>18</td>\n    </tr>\n    <tr>\n      <th>205</th>\n      <td>Запись пользователя № - user_931</td>\n      <td>2019-01-22 05:26:59</td>\n      <td>300.0</td>\n      <td>4319.0</td>\n      <td>5</td>\n    </tr>\n    <tr>\n      <th>...</th>\n      <td>...</td>\n      <td>...</td>\n      <td>...</td>\n      <td>...</td>\n      <td>...</td>\n    </tr>\n    <tr>\n      <th>967</th>\n      <td>Запись пользователя № - user_975</td>\n      <td>2019-04-19 22:25:15</td>\n      <td>1000.0</td>\n      <td>6108.0</td>\n      <td>22</td>\n    </tr>\n    <tr>\n      <th>971</th>\n      <td>Запись пользователя № - user_912</td>\n      <td>2019-04-20 10:35:49</td>\n      <td>10554.0</td>\n      <td>31799.0</td>\n      <td>10</td>\n    </tr>\n    <tr>\n      <th>972</th>\n      <td>Запись пользователя № - user_926</td>\n      <td>2019-04-20 10:35:50</td>\n      <td>10354.0</td>\n      <td>30244.0</td>\n      <td>10</td>\n    </tr>\n    <tr>\n      <th>976</th>\n      <td>Запись пользователя № - user_970</td>\n      <td>2019-04-20 10:35:54</td>\n      <td>10354.0</td>\n      <td>30691.0</td>\n      <td>10</td>\n    </tr>\n    <tr>\n      <th>991</th>\n      <td>Запись пользователя № - user_965</td>\n      <td>2019-04-20 12:55:41</td>\n      <td>800.0</td>\n      <td>6927.0</td>\n      <td>12</td>\n    </tr>\n  </tbody>\n</table>\n<p>133 rows × 5 columns</p>\n</div>"
     },
     "metadata": {},
     "execution_count": 463
    }
   ],
   "source": [
    "log = pd.read_csv(\"log.csv\", header=None)\n",
    "log.columns = ['user_id', 'time', 'bet', 'win']\n",
    "log = log.dropna()\n",
    "log['time'] = log['time'].apply(lambda x: x[1:])\n",
    "log['time'] = pd.to_datetime(log['time'])\n",
    "log['hour'] = log.time.apply(lambda x: x.hour)\n",
    "log"
   ]
  },
  {
   "cell_type": "code",
   "execution_count": 464,
   "metadata": {},
   "outputs": [
    {
     "output_type": "execute_result",
     "data": {
      "text/plain": [
       "user_id    515\n",
       "time       515\n",
       "bet        515\n",
       "win        515\n",
       "dtype: int64"
      ]
     },
     "metadata": {},
     "execution_count": 464
    }
   ],
   "source": [
    "log = pd.read_csv(\"log.csv\", header=None)\n",
    "log.columns = ['user_id', 'time', 'bet', 'win']\n",
    "log = log.fillna(0)\n",
    "log[log.bet == 0].count()"
   ]
  },
  {
   "cell_type": "code",
   "execution_count": 465,
   "metadata": {
    "tags": []
   },
   "outputs": [
    {
     "output_type": "execute_result",
     "data": {
      "text/plain": [
       "user_id    347\n",
       "time       347\n",
       "bet        347\n",
       "win        347\n",
       "dtype: int64"
      ]
     },
     "metadata": {},
     "execution_count": 465
    }
   ],
   "source": [
    "def fillna_win(row): \n",
    "    if row.bet == 0 and row.win == 0:\n",
    "        return 0\n",
    "    elif row.bet > 0 and row.win == 0:\n",
    "        return row.bet * -1\n",
    "    return row.win\n",
    "  \n",
    "# Применяем функцию  \n",
    "new_win = log.apply(lambda row: fillna_win(row), axis=1)  \n",
    "  \n",
    "# Заменяем старый столбец с пропусками на новый без пропусков  \n",
    "log['win'] = new_win\n",
    "log[log.win < 0].count()"
   ]
  },
  {
   "cell_type": "code",
   "execution_count": 466,
   "metadata": {},
   "outputs": [
    {
     "output_type": "execute_result",
     "data": {
      "text/plain": [
       "                              user_id                  time        bet  \\\n",
       "709  Запись пользователя № - user_947   [2019-03-19 8:06:57      200.0   \n",
       "469  Запись пользователя № - user_979  [2019-02-20 15:03:15      100.0   \n",
       "620  Запись пользователя № - user_946   [2019-03-08 7:00:34      100.0   \n",
       "601  Запись пользователя № - user_992  [2019-03-06 16:04:28      100.0   \n",
       "624  Запись пользователя № - user_902  [2019-03-09 16:52:11      200.0   \n",
       "..                                ...                   ...        ...   \n",
       "987                            #error                     0    10554.0   \n",
       "971  Запись пользователя № - user_912  [2019-04-20 10:35:49    10554.0   \n",
       "966  Запись пользователя № - user_940  [2019-04-19 20:34:13    10754.0   \n",
       "14   Запись пользователя № - user_917   [2019-01-02 8:57:36   145732.0   \n",
       "29   Запись пользователя № - user_942  [2019-01-04 13:59:42  1678321.0   \n",
       "\n",
       "           win        net  \n",
       "709     3736.0     3536.0  \n",
       "469     3691.0     3591.0  \n",
       "620     3794.0     3694.0  \n",
       "601     3834.0     3734.0  \n",
       "624     4021.0     3821.0  \n",
       "..         ...        ...  \n",
       "987    31634.0    21080.0  \n",
       "971    31799.0    21245.0  \n",
       "966    32279.0    21525.0  \n",
       "14   1987653.0  1841921.0  \n",
       "29   9876543.0  8198222.0  \n",
       "\n",
       "[138 rows x 5 columns]"
      ],
      "text/html": "<div>\n<style scoped>\n    .dataframe tbody tr th:only-of-type {\n        vertical-align: middle;\n    }\n\n    .dataframe tbody tr th {\n        vertical-align: top;\n    }\n\n    .dataframe thead th {\n        text-align: right;\n    }\n</style>\n<table border=\"1\" class=\"dataframe\">\n  <thead>\n    <tr style=\"text-align: right;\">\n      <th></th>\n      <th>user_id</th>\n      <th>time</th>\n      <th>bet</th>\n      <th>win</th>\n      <th>net</th>\n    </tr>\n  </thead>\n  <tbody>\n    <tr>\n      <th>709</th>\n      <td>Запись пользователя № - user_947</td>\n      <td>[2019-03-19 8:06:57</td>\n      <td>200.0</td>\n      <td>3736.0</td>\n      <td>3536.0</td>\n    </tr>\n    <tr>\n      <th>469</th>\n      <td>Запись пользователя № - user_979</td>\n      <td>[2019-02-20 15:03:15</td>\n      <td>100.0</td>\n      <td>3691.0</td>\n      <td>3591.0</td>\n    </tr>\n    <tr>\n      <th>620</th>\n      <td>Запись пользователя № - user_946</td>\n      <td>[2019-03-08 7:00:34</td>\n      <td>100.0</td>\n      <td>3794.0</td>\n      <td>3694.0</td>\n    </tr>\n    <tr>\n      <th>601</th>\n      <td>Запись пользователя № - user_992</td>\n      <td>[2019-03-06 16:04:28</td>\n      <td>100.0</td>\n      <td>3834.0</td>\n      <td>3734.0</td>\n    </tr>\n    <tr>\n      <th>624</th>\n      <td>Запись пользователя № - user_902</td>\n      <td>[2019-03-09 16:52:11</td>\n      <td>200.0</td>\n      <td>4021.0</td>\n      <td>3821.0</td>\n    </tr>\n    <tr>\n      <th>...</th>\n      <td>...</td>\n      <td>...</td>\n      <td>...</td>\n      <td>...</td>\n      <td>...</td>\n    </tr>\n    <tr>\n      <th>987</th>\n      <td>#error</td>\n      <td>0</td>\n      <td>10554.0</td>\n      <td>31634.0</td>\n      <td>21080.0</td>\n    </tr>\n    <tr>\n      <th>971</th>\n      <td>Запись пользователя № - user_912</td>\n      <td>[2019-04-20 10:35:49</td>\n      <td>10554.0</td>\n      <td>31799.0</td>\n      <td>21245.0</td>\n    </tr>\n    <tr>\n      <th>966</th>\n      <td>Запись пользователя № - user_940</td>\n      <td>[2019-04-19 20:34:13</td>\n      <td>10754.0</td>\n      <td>32279.0</td>\n      <td>21525.0</td>\n    </tr>\n    <tr>\n      <th>14</th>\n      <td>Запись пользователя № - user_917</td>\n      <td>[2019-01-02 8:57:36</td>\n      <td>145732.0</td>\n      <td>1987653.0</td>\n      <td>1841921.0</td>\n    </tr>\n    <tr>\n      <th>29</th>\n      <td>Запись пользователя № - user_942</td>\n      <td>[2019-01-04 13:59:42</td>\n      <td>1678321.0</td>\n      <td>9876543.0</td>\n      <td>8198222.0</td>\n    </tr>\n  </tbody>\n</table>\n<p>138 rows × 5 columns</p>\n</div>"
     },
     "metadata": {},
     "execution_count": 466
    }
   ],
   "source": [
    "def calculate_net(row):\n",
    "    if row.win <= 0:\n",
    "        return row.win\n",
    "    elif row.win > 0:\n",
    "        return row.win - row.bet\n",
    "\n",
    "net = log.apply(lambda row: calculate_net(row), axis=1)\n",
    "log['net'] = net\n",
    "log[log.net > 0].sort_values(by=['net'])"
   ]
  },
  {
   "cell_type": "code",
   "execution_count": 467,
   "metadata": {},
   "outputs": [
    {
     "output_type": "execute_result",
     "data": {
      "text/plain": [
       "80253.33333333333"
      ]
     },
     "metadata": {},
     "execution_count": 467
    }
   ],
   "source": [
    "log[log.net > 0].net.mean()"
   ]
  },
  {
   "cell_type": "code",
   "execution_count": 468,
   "metadata": {},
   "outputs": [
    {
     "output_type": "execute_result",
     "data": {
      "text/plain": [
       "5347.0"
      ]
     },
     "metadata": {},
     "execution_count": 468
    }
   ],
   "source": [
    "log[log.net > 0].net.median()"
   ]
  },
  {
   "cell_type": "code",
   "execution_count": 469,
   "metadata": {},
   "outputs": [
    {
     "output_type": "display_data",
     "data": {
      "text/plain": "3291.083"
     },
     "metadata": {}
    },
    {
     "output_type": "display_data",
     "data": {
      "text/plain": "3291.083"
     },
     "metadata": {}
    },
    {
     "output_type": "display_data",
     "data": {
      "text/plain": "3291.083"
     },
     "metadata": {}
    },
    {
     "output_type": "display_data",
     "data": {
      "text/plain": "3291.083"
     },
     "metadata": {}
    },
    {
     "output_type": "display_data",
     "data": {
      "text/plain": "3291.083"
     },
     "metadata": {}
    }
   ],
   "source": [
    "display(log.bet.mean())\n",
    "display(log.bet.mean(skipna=False))\n",
    "# display(pd.mean(log['bet']))\n",
    "display(log.bet.sum() / log.bet.dropna().shape[0])\n",
    "display(np.mean(log.bet))\n",
    "display(log['bet'].dropna().mean())"
   ]
  },
  {
   "cell_type": "code",
   "execution_count": 470,
   "metadata": {},
   "outputs": [
    {
     "output_type": "display_data",
     "data": {
      "text/plain": "6785.738144329897"
     },
     "metadata": {}
    },
    {
     "output_type": "display_data",
     "data": {
      "text/plain": "nan"
     },
     "metadata": {}
    },
    {
     "output_type": "display_data",
     "data": {
      "text/plain": "6785.738144329897"
     },
     "metadata": {}
    },
    {
     "output_type": "display_data",
     "data": {
      "text/plain": "6785.738144329897"
     },
     "metadata": {}
    },
    {
     "output_type": "display_data",
     "data": {
      "text/plain": "6785.738144329897"
     },
     "metadata": {}
    }
   ],
   "source": [
    "rawlog = pd.read_csv(\"log.csv\", header=None)\n",
    "rawlog.columns = ['user_id', 'time', 'bet', 'win']\n",
    "display(rawlog.bet.mean())\n",
    "display(rawlog.bet.mean(skipna=False))\n",
    "# display(pd.mean(log['bet']))\n",
    "display(rawlog.bet.sum() / rawlog.bet.dropna().shape[0])\n",
    "display(np.mean(rawlog.bet))\n",
    "display(rawlog['bet'].dropna().mean())"
   ]
  },
  {
   "cell_type": "code",
   "execution_count": 471,
   "metadata": {},
   "outputs": [
    {
     "output_type": "execute_result",
     "data": {
      "text/plain": [
       "48.5"
      ]
     },
     "metadata": {},
     "execution_count": 471
    }
   ],
   "source": [
    "log[log.bet > 0].bet.count() / len(log) * 100"
   ]
  },
  {
   "cell_type": "code",
   "execution_count": 472,
   "metadata": {},
   "outputs": [
    {
     "output_type": "execute_result",
     "data": {
      "text/plain": [
       "bet     6785.738144\n",
       "win    24794.554639\n",
       "net    20421.892784\n",
       "dtype: float64"
      ]
     },
     "metadata": {},
     "execution_count": 472
    }
   ],
   "source": [
    "log[log.bet > 0].mean()"
   ]
  },
  {
   "cell_type": "code",
   "execution_count": 473,
   "metadata": {},
   "outputs": [
    {
     "output_type": "execute_result",
     "data": {
      "text/plain": [
       "bet    3372.743516\n",
       "win   -3372.743516\n",
       "net   -3372.743516\n",
       "dtype: float64"
      ]
     },
     "metadata": {},
     "execution_count": 473
    }
   ],
   "source": [
    "log[(log.bet > 0) & (log.net < 0)].mean()"
   ]
  },
  {
   "cell_type": "code",
   "execution_count": 474,
   "metadata": {},
   "outputs": [
    {
     "output_type": "display_data",
     "data": {
      "text/plain": "user_id    28.453608\ntime       28.453608\nbet        28.453608\nwin        28.453608\nnet        28.453608\ndtype: float64"
     },
     "metadata": {}
    },
    {
     "output_type": "display_data",
     "data": {
      "text/plain": "user_id    71.546392\ntime       71.546392\nbet        71.546392\nwin        71.546392\nnet        71.546392\ndtype: float64"
     },
     "metadata": {}
    }
   ],
   "source": [
    "display(log[(log.bet > 0) & (log.net > 0)].count() / log[log.bet > 0].count() * 100)\n",
    "display(log[(log.bet > 0) & (log.net < 0)].count() / log[log.bet > 0].count() * 100)"
   ]
  },
  {
   "cell_type": "code",
   "execution_count": 475,
   "metadata": {},
   "outputs": [
    {
     "output_type": "execute_result",
     "data": {
      "text/plain": [
       "48"
      ]
     },
     "metadata": {},
     "execution_count": 475
    }
   ],
   "source": [
    "log = pd.read_csv(\"log.csv\", header=None)\n",
    "log.columns = ['user_id', 'time', 'bet', 'win']\n",
    "log = log.dropna(subset=['bet'])\n",
    "min_bet_amount = len(log[log.bet == log.bet.min()])\n",
    "min_bet_amount"
   ]
  },
  {
   "cell_type": "code",
   "execution_count": 476,
   "metadata": {},
   "outputs": [],
   "source": [
    "us = pd.read_csv('users.csv', encoding='koi8_r', sep='\\t')\n",
    "us.columns = ['user_id', 'email', 'geo']\n",
    "log = pd.read_csv(\"log.csv\", header=None)\n",
    "log.columns = ['user_id', 'time', 'bet', 'win']\n",
    "# Приведем признак user_id к одному формату в обоих датасетах  \n",
    "us.user_id = us.user_id.apply(lambda x: x.lower())  \n",
    "# Избавимся от ошибок в user_id  \n",
    "log = log[log.user_id != '#error']  \n",
    "log.user_id = log.user_id.str.split(' - ').apply(lambda x: x[1])  \n",
    "log = log.fillna(0)\n",
    "new_win = log.apply(lambda row: fillna_win(row), axis=1)  \n",
    "log['win'] = new_win\n",
    "log['time'] = log['time'].apply(lambda x: x[1:])\n",
    "log['time'] = pd.to_datetime(log['time'])"
   ]
  },
  {
   "cell_type": "code",
   "execution_count": 477,
   "metadata": {},
   "outputs": [
    {
     "output_type": "execute_result",
     "data": {
      "text/plain": [
       "      user_id                email      geo                time    bet     win\n",
       "0    user_943  Accumanst@gmail.com   Ижевск 2019-01-06 21:06:57    0.0     0.0\n",
       "1    user_943  Accumanst@gmail.com   Ижевск 2019-01-10 12:16:22  100.0  -100.0\n",
       "2    user_943  Accumanst@gmail.com   Ижевск 2019-01-27 01:18:47  100.0  -100.0\n",
       "3    user_943  Accumanst@gmail.com   Ижевск 2019-02-10 11:09:24  100.0  5456.0\n",
       "4    user_943  Accumanst@gmail.com   Ижевск 2019-02-12 15:09:38  300.0  5245.0\n",
       "..        ...                  ...      ...                 ...    ...     ...\n",
       "970  user_965  Visuareda@yahoo.com  Воронеж 2019-04-20 12:55:41  800.0  6927.0\n",
       "971  user_921         Aavast@ya.ru   Ижевск 2019-01-07 01:05:59    0.0     0.0\n",
       "972  user_921         Aavast@ya.ru   Ижевск 2019-02-05 14:08:57    0.0     0.0\n",
       "973  user_921         Aavast@ya.ru   Ижевск 2019-02-09 23:20:21  400.0  6067.0\n",
       "974  user_921         Aavast@ya.ru   Ижевск 2019-02-10 17:53:37  900.0  -900.0\n",
       "\n",
       "[975 rows x 6 columns]"
      ],
      "text/html": "<div>\n<style scoped>\n    .dataframe tbody tr th:only-of-type {\n        vertical-align: middle;\n    }\n\n    .dataframe tbody tr th {\n        vertical-align: top;\n    }\n\n    .dataframe thead th {\n        text-align: right;\n    }\n</style>\n<table border=\"1\" class=\"dataframe\">\n  <thead>\n    <tr style=\"text-align: right;\">\n      <th></th>\n      <th>user_id</th>\n      <th>email</th>\n      <th>geo</th>\n      <th>time</th>\n      <th>bet</th>\n      <th>win</th>\n    </tr>\n  </thead>\n  <tbody>\n    <tr>\n      <th>0</th>\n      <td>user_943</td>\n      <td>Accumanst@gmail.com</td>\n      <td>Ижевск</td>\n      <td>2019-01-06 21:06:57</td>\n      <td>0.0</td>\n      <td>0.0</td>\n    </tr>\n    <tr>\n      <th>1</th>\n      <td>user_943</td>\n      <td>Accumanst@gmail.com</td>\n      <td>Ижевск</td>\n      <td>2019-01-10 12:16:22</td>\n      <td>100.0</td>\n      <td>-100.0</td>\n    </tr>\n    <tr>\n      <th>2</th>\n      <td>user_943</td>\n      <td>Accumanst@gmail.com</td>\n      <td>Ижевск</td>\n      <td>2019-01-27 01:18:47</td>\n      <td>100.0</td>\n      <td>-100.0</td>\n    </tr>\n    <tr>\n      <th>3</th>\n      <td>user_943</td>\n      <td>Accumanst@gmail.com</td>\n      <td>Ижевск</td>\n      <td>2019-02-10 11:09:24</td>\n      <td>100.0</td>\n      <td>5456.0</td>\n    </tr>\n    <tr>\n      <th>4</th>\n      <td>user_943</td>\n      <td>Accumanst@gmail.com</td>\n      <td>Ижевск</td>\n      <td>2019-02-12 15:09:38</td>\n      <td>300.0</td>\n      <td>5245.0</td>\n    </tr>\n    <tr>\n      <th>...</th>\n      <td>...</td>\n      <td>...</td>\n      <td>...</td>\n      <td>...</td>\n      <td>...</td>\n      <td>...</td>\n    </tr>\n    <tr>\n      <th>970</th>\n      <td>user_965</td>\n      <td>Visuareda@yahoo.com</td>\n      <td>Воронеж</td>\n      <td>2019-04-20 12:55:41</td>\n      <td>800.0</td>\n      <td>6927.0</td>\n    </tr>\n    <tr>\n      <th>971</th>\n      <td>user_921</td>\n      <td>Aavast@ya.ru</td>\n      <td>Ижевск</td>\n      <td>2019-01-07 01:05:59</td>\n      <td>0.0</td>\n      <td>0.0</td>\n    </tr>\n    <tr>\n      <th>972</th>\n      <td>user_921</td>\n      <td>Aavast@ya.ru</td>\n      <td>Ижевск</td>\n      <td>2019-02-05 14:08:57</td>\n      <td>0.0</td>\n      <td>0.0</td>\n    </tr>\n    <tr>\n      <th>973</th>\n      <td>user_921</td>\n      <td>Aavast@ya.ru</td>\n      <td>Ижевск</td>\n      <td>2019-02-09 23:20:21</td>\n      <td>400.0</td>\n      <td>6067.0</td>\n    </tr>\n    <tr>\n      <th>974</th>\n      <td>user_921</td>\n      <td>Aavast@ya.ru</td>\n      <td>Ижевск</td>\n      <td>2019-02-10 17:53:37</td>\n      <td>900.0</td>\n      <td>-900.0</td>\n    </tr>\n  </tbody>\n</table>\n<p>975 rows × 6 columns</p>\n</div>"
     },
     "metadata": {},
     "execution_count": 477
    }
   ],
   "source": [
    "newdf = pd.merge(us, log, on='user_id')  \n",
    "newdf"
   ]
  },
  {
   "cell_type": "code",
   "execution_count": 478,
   "metadata": {},
   "outputs": [
    {
     "output_type": "execute_result",
     "data": {
      "text/plain": [
       "0.0"
      ]
     },
     "metadata": {},
     "execution_count": 478
    }
   ],
   "source": [
    "newdf.groupby('user_id').win.median().median() "
   ]
  },
  {
   "cell_type": "code",
   "execution_count": 479,
   "metadata": {},
   "outputs": [
    {
     "output_type": "execute_result",
     "data": {
      "text/plain": [
       "bet    4100.0\n",
       "win    3328.5\n",
       "dtype: float64"
      ]
     },
     "metadata": {},
     "execution_count": 479
    }
   ],
   "source": [
    "newdf.groupby(by=['user_id']).sum().median()"
   ]
  },
  {
   "cell_type": "code",
   "execution_count": 480,
   "metadata": {},
   "outputs": [
    {
     "output_type": "execute_result",
     "data": {
      "text/plain": [
       "1986.0"
      ]
     },
     "metadata": {},
     "execution_count": 480
    }
   ],
   "source": [
    "net = newdf.apply(lambda row: calculate_net(row), axis=1)\n",
    "newdf['net'] = net\n",
    "newdf.groupby(by=['user_id']).net.sum().median()"
   ]
  },
  {
   "cell_type": "code",
   "execution_count": 481,
   "metadata": {},
   "outputs": [
    {
     "output_type": "execute_result",
     "data": {
      "text/plain": [
       "5.05"
      ]
     },
     "metadata": {},
     "execution_count": 481
    }
   ],
   "source": [
    "group_null = newdf[newdf.bet==0].groupby('user_id').bet.count()\n",
    "group_not_null = newdf[newdf.bet>0].groupby('user_id').bet.count()\n",
    "grp = group_null/(group_null+group_not_null)\n",
    "newdf[newdf.bet == 0].groupby('user_id').bet.count().sum()/100"
   ]
  },
  {
   "cell_type": "code",
   "execution_count": 486,
   "metadata": {},
   "outputs": [
    {
     "output_type": "execute_result",
     "data": {
      "text/plain": [
       "      user_id                email      geo                time    bet  \\\n",
       "0    user_943  Accumanst@gmail.com   Ижевск 2019-01-06 21:06:57    0.0   \n",
       "1    user_943  Accumanst@gmail.com   Ижевск 2019-01-10 12:16:22  100.0   \n",
       "2    user_943  Accumanst@gmail.com   Ижевск 2019-01-27 01:18:47  100.0   \n",
       "3    user_943  Accumanst@gmail.com   Ижевск 2019-02-10 11:09:24  100.0   \n",
       "4    user_943  Accumanst@gmail.com   Ижевск 2019-02-12 15:09:38  300.0   \n",
       "..        ...                  ...      ...                 ...    ...   \n",
       "970  user_965  Visuareda@yahoo.com  Воронеж 2019-04-20 12:55:41  800.0   \n",
       "971  user_921         Aavast@ya.ru   Ижевск 2019-01-07 01:05:59    0.0   \n",
       "972  user_921         Aavast@ya.ru   Ижевск 2019-02-05 14:08:57    0.0   \n",
       "973  user_921         Aavast@ya.ru   Ижевск 2019-02-09 23:20:21  400.0   \n",
       "974  user_921         Aavast@ya.ru   Ижевск 2019-02-10 17:53:37  900.0   \n",
       "\n",
       "        win     net  \n",
       "0       0.0     0.0  \n",
       "1    -100.0  -100.0  \n",
       "2    -100.0  -100.0  \n",
       "3    5456.0  5356.0  \n",
       "4    5245.0  4945.0  \n",
       "..      ...     ...  \n",
       "970  6927.0  6127.0  \n",
       "971     0.0     0.0  \n",
       "972     0.0     0.0  \n",
       "973  6067.0  5667.0  \n",
       "974  -900.0  -900.0  \n",
       "\n",
       "[975 rows x 7 columns]"
      ],
      "text/html": "<div>\n<style scoped>\n    .dataframe tbody tr th:only-of-type {\n        vertical-align: middle;\n    }\n\n    .dataframe tbody tr th {\n        vertical-align: top;\n    }\n\n    .dataframe thead th {\n        text-align: right;\n    }\n</style>\n<table border=\"1\" class=\"dataframe\">\n  <thead>\n    <tr style=\"text-align: right;\">\n      <th></th>\n      <th>user_id</th>\n      <th>email</th>\n      <th>geo</th>\n      <th>time</th>\n      <th>bet</th>\n      <th>win</th>\n      <th>net</th>\n    </tr>\n  </thead>\n  <tbody>\n    <tr>\n      <th>0</th>\n      <td>user_943</td>\n      <td>Accumanst@gmail.com</td>\n      <td>Ижевск</td>\n      <td>2019-01-06 21:06:57</td>\n      <td>0.0</td>\n      <td>0.0</td>\n      <td>0.0</td>\n    </tr>\n    <tr>\n      <th>1</th>\n      <td>user_943</td>\n      <td>Accumanst@gmail.com</td>\n      <td>Ижевск</td>\n      <td>2019-01-10 12:16:22</td>\n      <td>100.0</td>\n      <td>-100.0</td>\n      <td>-100.0</td>\n    </tr>\n    <tr>\n      <th>2</th>\n      <td>user_943</td>\n      <td>Accumanst@gmail.com</td>\n      <td>Ижевск</td>\n      <td>2019-01-27 01:18:47</td>\n      <td>100.0</td>\n      <td>-100.0</td>\n      <td>-100.0</td>\n    </tr>\n    <tr>\n      <th>3</th>\n      <td>user_943</td>\n      <td>Accumanst@gmail.com</td>\n      <td>Ижевск</td>\n      <td>2019-02-10 11:09:24</td>\n      <td>100.0</td>\n      <td>5456.0</td>\n      <td>5356.0</td>\n    </tr>\n    <tr>\n      <th>4</th>\n      <td>user_943</td>\n      <td>Accumanst@gmail.com</td>\n      <td>Ижевск</td>\n      <td>2019-02-12 15:09:38</td>\n      <td>300.0</td>\n      <td>5245.0</td>\n      <td>4945.0</td>\n    </tr>\n    <tr>\n      <th>...</th>\n      <td>...</td>\n      <td>...</td>\n      <td>...</td>\n      <td>...</td>\n      <td>...</td>\n      <td>...</td>\n      <td>...</td>\n    </tr>\n    <tr>\n      <th>970</th>\n      <td>user_965</td>\n      <td>Visuareda@yahoo.com</td>\n      <td>Воронеж</td>\n      <td>2019-04-20 12:55:41</td>\n      <td>800.0</td>\n      <td>6927.0</td>\n      <td>6127.0</td>\n    </tr>\n    <tr>\n      <th>971</th>\n      <td>user_921</td>\n      <td>Aavast@ya.ru</td>\n      <td>Ижевск</td>\n      <td>2019-01-07 01:05:59</td>\n      <td>0.0</td>\n      <td>0.0</td>\n      <td>0.0</td>\n    </tr>\n    <tr>\n      <th>972</th>\n      <td>user_921</td>\n      <td>Aavast@ya.ru</td>\n      <td>Ижевск</td>\n      <td>2019-02-05 14:08:57</td>\n      <td>0.0</td>\n      <td>0.0</td>\n      <td>0.0</td>\n    </tr>\n    <tr>\n      <th>973</th>\n      <td>user_921</td>\n      <td>Aavast@ya.ru</td>\n      <td>Ижевск</td>\n      <td>2019-02-09 23:20:21</td>\n      <td>400.0</td>\n      <td>6067.0</td>\n      <td>5667.0</td>\n    </tr>\n    <tr>\n      <th>974</th>\n      <td>user_921</td>\n      <td>Aavast@ya.ru</td>\n      <td>Ижевск</td>\n      <td>2019-02-10 17:53:37</td>\n      <td>900.0</td>\n      <td>-900.0</td>\n      <td>-900.0</td>\n    </tr>\n  </tbody>\n</table>\n<p>975 rows × 7 columns</p>\n</div>"
     },
     "metadata": {},
     "execution_count": 486
    }
   ],
   "source": [
    "newdf"
   ]
  },
  {
   "cell_type": "code",
   "execution_count": 495,
   "metadata": {},
   "outputs": [
    {
     "output_type": "execute_result",
     "data": {
      "text/plain": [
       "Timedelta('46 days 06:54:48')"
      ]
     },
     "metadata": {},
     "execution_count": 495
    }
   ],
   "source": [
    "apptime = newdf[newdf.bet == 0].groupby('user_id').time.min()\n",
    "bettime = newdf[newdf.bet > 0].groupby('user_id').time.min()\n",
    "(bettime - apptime).mean()"
   ]
  },
  {
   "cell_type": "code",
   "execution_count": 506,
   "metadata": {},
   "outputs": [
    {
     "output_type": "execute_result",
     "data": {
      "text/plain": [
       "geo\n",
       "Москва             11379755.0\n",
       "Воронеж              107514.0\n",
       "Санкт-Петербург      105345.0\n",
       "Казань                75352.0\n",
       "Ярославль             46845.0\n",
       "Ижевск                34479.0\n",
       "Хабаровск             33451.0\n",
       "Екатеринбург          28582.0\n",
       "Красноярск            27397.0\n",
       "Арзангелтск           25813.0\n",
       "Пермь                 19518.0\n",
       "Краснодар              3248.0\n",
       "Ставрополь              487.0\n",
       "Тюмень                 -499.0\n",
       "Name: win, dtype: float64"
      ]
     },
     "metadata": {},
     "execution_count": 506
    }
   ],
   "source": [
    "newdf.groupby('geo').win.sum().sort_values(ascending=False)"
   ]
  },
  {
   "cell_type": "code",
   "execution_count": 519,
   "metadata": {},
   "outputs": [
    {
     "output_type": "execute_result",
     "data": {
      "text/plain": [
       "127.81602335164835"
      ]
     },
     "metadata": {},
     "execution_count": 519
    }
   ],
   "source": [
    "grpd = newdf[newdf.bet>0].groupby('geo').bet.mean()\n",
    "grpd.max() / grpd.min()"
   ]
  },
  {
   "cell_type": "code",
   "execution_count": 524,
   "metadata": {},
   "outputs": [
    {
     "output_type": "execute_result",
     "data": {
      "text/plain": [
       "geo\n",
       "Арзангелтск         96\n",
       "Воронеж             88\n",
       "Екатеринбург        49\n",
       "Ижевск              61\n",
       "Казань              66\n",
       "Краснодар           86\n",
       "Красноярск          56\n",
       "Москва              61\n",
       "Пермь               55\n",
       "Санкт-Петербург    115\n",
       "Ставрополь          36\n",
       "Тюмень              32\n",
       "Хабаровск           60\n",
       "Ярославль           89\n",
       "Name: user_id, dtype: int64"
      ]
     },
     "metadata": {},
     "execution_count": 524
    }
   ],
   "source": [
    "usrs = pd.read_csv('users.csv', encoding='koi8_r', sep='\\t')\n",
    "usrs.columns = ['user_id', 'email', 'geo']\n",
    "usrs.user_id = usrs.user_id.apply(lambda x: x.lower()) \n",
    "logs = pd.read_csv(\"log.csv\", header=None)\n",
    "logs.columns = ['user_id', 'time', 'bet', 'win']\n",
    "logs = logs[logs.user_id != '#error']  \n",
    "logs.user_id = logs.user_id.str.split(' - ').apply(lambda x: x[1])\n",
    "dfs = pd.merge(usrs, logs, on='user_id')\n",
    "dfs.groupby('geo').user_id.count()"
   ]
  },
  {
   "cell_type": "code",
   "execution_count": 533,
   "metadata": {},
   "outputs": [
    {
     "output_type": "execute_result",
     "data": {
      "text/plain": [
       "0      1\n",
       "1      1\n",
       "2      1\n",
       "3      1\n",
       "4      1\n",
       "      ..\n",
       "991    4\n",
       "992    4\n",
       "993    4\n",
       "994    4\n",
       "995    4\n",
       "Name: time, Length: 985, dtype: int64"
      ]
     },
     "metadata": {},
     "execution_count": 533
    }
   ],
   "source": []
  }
 ]
}