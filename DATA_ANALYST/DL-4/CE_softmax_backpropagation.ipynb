{
 "cells": [
  {
   "cell_type": "markdown",
   "id": "catholic-advisory",
   "metadata": {},
   "source": [
    "**Importing the Libraries**"
   ]
  },
  {
   "cell_type": "code",
   "execution_count": 1,
   "id": "broken-vegetation",
   "metadata": {},
   "outputs": [],
   "source": [
    "import numpy as np\n",
    "np.random.seed(42)"
   ]
  },
  {
   "cell_type": "markdown",
   "id": "loose-robinson",
   "metadata": {},
   "source": [
    "--------------------------------"
   ]
  },
  {
   "cell_type": "markdown",
   "id": "dated-sensitivity",
   "metadata": {},
   "source": [
    "**Nodes in each layer**"
   ]
  },
  {
   "cell_type": "code",
   "execution_count": 2,
   "id": "indian-voice",
   "metadata": {},
   "outputs": [],
   "source": [
    "input_nodes = 1\n",
    "hidden_1_nodes = 2\n",
    "output_nodes = 3"
   ]
  },
  {
   "cell_type": "markdown",
   "id": "monetary-classics",
   "metadata": {},
   "source": [
    "-------------------------------------"
   ]
  },
  {
   "cell_type": "markdown",
   "id": "threaded-advantage",
   "metadata": {},
   "source": [
    "**Inputs and true outputs**"
   ]
  },
  {
   "cell_type": "code",
   "execution_count": 3,
   "id": "cathedral-bunch",
   "metadata": {},
   "outputs": [
    {
     "data": {
      "text/plain": [
       "array([[0.02333333],\n",
       "       [0.26333333],\n",
       "       [0.86      ],\n",
       "       [0.94666667],\n",
       "       [0.30333333],\n",
       "       [0.54      ],\n",
       "       [0.42333333],\n",
       "       [0.19      ],\n",
       "       [0.17666667],\n",
       "       [0.96666667]])"
      ]
     },
     "execution_count": 3,
     "metadata": {},
     "output_type": "execute_result"
    }
   ],
   "source": [
    "X = np.array([0.02333333, 0.26333333, 0.86, 0.94666667, 0.30333333, 0.54, 0.42333333, 0.19, 0.17666667, 0.96666667]).reshape((-1,1)) #np.random.randint(1, 100, size = (input_nodes, 1)) / 100\n",
    "X"
   ]
  },
  {
   "cell_type": "code",
   "execution_count": 4,
   "id": "continental-locking",
   "metadata": {},
   "outputs": [
    {
     "data": {
      "text/plain": [
       "array([[0],\n",
       "       [0],\n",
       "       [2],\n",
       "       [2],\n",
       "       [0],\n",
       "       [1],\n",
       "       [1],\n",
       "       [0],\n",
       "       [0],\n",
       "       [2]])"
      ]
     },
     "execution_count": 4,
     "metadata": {},
     "output_type": "execute_result"
    }
   ],
   "source": [
    "ys = np.array([0, 0, 2, 2, 0, 1, 1, 0, 0, 2]).reshape((-1,1)) #np.array([[0],[1],[0]])\n",
    "ys"
   ]
  },
  {
   "cell_type": "markdown",
   "id": "integral-philip",
   "metadata": {},
   "source": [
    "------------------"
   ]
  },
  {
   "cell_type": "markdown",
   "id": "nuclear-mills",
   "metadata": {},
   "source": [
    "**Defining Activation functions and loss with their derivatives**"
   ]
  },
  {
   "cell_type": "markdown",
   "id": "north-hunger",
   "metadata": {},
   "source": [
    "Sigmoid for first hidden layer"
   ]
  },
  {
   "cell_type": "code",
   "execution_count": 5,
   "id": "compatible-stage",
   "metadata": {},
   "outputs": [],
   "source": [
    "def sig(x):\n",
    "    return 1/(1 + np.exp(-x))           "
   ]
  },
  {
   "cell_type": "code",
   "execution_count": 6,
   "id": "western-spending",
   "metadata": {},
   "outputs": [],
   "source": [
    "def sig_dash(x):\n",
    "    return sig(x) * (1 - sig(x))"
   ]
  },
  {
   "cell_type": "markdown",
   "id": "figured-affairs",
   "metadata": {},
   "source": [
    "Softmax for second hidden layer and output layer"
   ]
  },
  {
   "cell_type": "code",
   "execution_count": 7,
   "id": "minor-contest",
   "metadata": {},
   "outputs": [],
   "source": [
    "def softmax(x):\n",
    "    return np.exp(x) / np.sum(np.exp(x))      "
   ]
  },
  {
   "cell_type": "code",
   "execution_count": 8,
   "id": "adjustable-sword",
   "metadata": {},
   "outputs": [],
   "source": [
    "def softmax_dash(x):\n",
    "    \n",
    "    I = np.eye(x.shape[0])\n",
    "    sm = softmax(x)\n",
    "    smT = sm.T\n",
    "    IsmT = I - smT\n",
    "    \n",
    "    return sm * IsmT"
   ]
  },
  {
   "cell_type": "markdown",
   "id": "outstanding-reference",
   "metadata": {},
   "source": [
    "Categorical cross-entropy loss"
   ]
  },
  {
   "cell_type": "code",
   "execution_count": 9,
   "id": "e7c876cb",
   "metadata": {},
   "outputs": [],
   "source": [
    "def targets_to_onehot(N_classes, targets):\n",
    "    one_hot = []\n",
    "    for value in range(len(targets)):\n",
    "        letter = [0 for _ in range(N_classes)]\n",
    "        letter[targets[value]] = 1\n",
    "        one_hot.append(letter)\n",
    "    return one_hot"
   ]
  },
  {
   "cell_type": "code",
   "execution_count": 10,
   "id": "synthetic-finder",
   "metadata": {},
   "outputs": [],
   "source": [
    "def cross_E(y_true, y_pred):\n",
    "    targets_one_hot = targets_to_onehot(len(y_pred), y_true)\n",
    "    eps = 1e-12\n",
    "    preds = np.clip(y_pred, eps, 1-eps)\n",
    "    N = preds.shape[0]\n",
    "    # return -np.sum(targets_one_hot*np.log(preds))/N\n",
    "    return -np.sum(targets_one_hot * np.log(y_pred + 10**-100))/N"
   ]
  },
  {
   "cell_type": "code",
   "execution_count": 11,
   "id": "macro-treasure",
   "metadata": {},
   "outputs": [],
   "source": [
    "def cross_E_grad(y_true, y_pred):\n",
    "    return -y_true/(y_pred + 10**-100)"
   ]
  },
  {
   "cell_type": "markdown",
   "id": "attached-willow",
   "metadata": {},
   "source": [
    "--------------------"
   ]
  },
  {
   "cell_type": "markdown",
   "id": "removed-congo",
   "metadata": {},
   "source": [
    "**Random initialization of weights and biases**"
   ]
  },
  {
   "cell_type": "code",
   "execution_count": 12,
   "id": "adjacent-appraisal",
   "metadata": {},
   "outputs": [
    {
     "name": "stdout",
     "output_type": "stream",
     "text": [
      "[[ 0.28401832]\n",
      " [-0.95381398]]\n",
      "[-0.52433746  0.3322185 ]\n"
     ]
    }
   ],
   "source": [
    "w1 = np.array([[0.28401832],[-0.95381398]]) #np.random.random(size = (hidden_1_nodes, input_nodes))\n",
    "b1 = np.array([-0.5243374610380842, 0.33221849539671044]) #np.zeros(shape = (hidden_1_nodes, 1))\n",
    "\n",
    "print(w1,b1, sep='\\n')"
   ]
  },
  {
   "cell_type": "code",
   "execution_count": 13,
   "id": "vulnerable-interference",
   "metadata": {},
   "outputs": [
    {
     "name": "stdout",
     "output_type": "stream",
     "text": [
      "[[-0.15495577 -0.56723879]\n",
      " [ 0.63793899 -0.37206676]\n",
      " [-0.71792529  0.49335413]]\n",
      "[0.3684357  0.90728299 0.52282658]\n"
     ]
    }
   ],
   "source": [
    "w2 = np.array([[-0.15495577, -0.56723879], [ 0.63793899, -0.37206676], [-0.71792529, 0.49335413]]) #np.random.random(size = (output_nodes, hidden_1_nodes))\n",
    "b2 = np.array([0.36843569825503186, 0.9072829906890265, 0.5228265849455143]) #np.zeros(shape = (output_nodes, 1))\n",
    "\n",
    "print(w2,b2, sep='\\n')"
   ]
  },
  {
   "cell_type": "markdown",
   "id": "present-happiness",
   "metadata": {},
   "source": [
    "------------------"
   ]
  },
  {
   "cell_type": "markdown",
   "id": "diagnostic-packing",
   "metadata": {},
   "source": [
    "**Forward feed before training**"
   ]
  },
  {
   "cell_type": "code",
   "execution_count": 14,
   "id": "perfect-license",
   "metadata": {},
   "outputs": [
    {
     "data": {
      "text/plain": [
       "array([0.18786572, 0.4845507 , 0.32758358])"
      ]
     },
     "execution_count": 14,
     "metadata": {},
     "output_type": "execute_result"
    }
   ],
   "source": [
    "x = X[0, :]\n",
    "\n",
    "in_hidden_1 = w1.dot(x) + b1\n",
    "out_hidden_1 = sig(in_hidden_1)\n",
    "\n",
    "in_output_layer = w2.dot(out_hidden_1) + b2\n",
    "y_hat = softmax(in_output_layer)\n",
    "\n",
    "y_hat"
   ]
  },
  {
   "cell_type": "code",
   "execution_count": 15,
   "id": "curious-found",
   "metadata": {},
   "outputs": [
    {
     "data": {
      "text/plain": [
       "array([0])"
      ]
     },
     "execution_count": 15,
     "metadata": {},
     "output_type": "execute_result"
    }
   ],
   "source": [
    "y = ys[0,:]\n",
    "y"
   ]
  },
  {
   "cell_type": "code",
   "execution_count": 16,
   "id": "ruled-theology",
   "metadata": {},
   "outputs": [
    {
     "data": {
      "text/plain": [
       "0.5573426040225352"
      ]
     },
     "execution_count": 16,
     "metadata": {},
     "output_type": "execute_result"
    }
   ],
   "source": [
    "cross_E(y, y_hat)"
   ]
  },
  {
   "cell_type": "markdown",
   "id": "controlled-riding",
   "metadata": {},
   "source": [
    "-------------------------"
   ]
  },
  {
   "cell_type": "markdown",
   "id": "legitimate-delaware",
   "metadata": {},
   "source": [
    "**SGD Momentum**"
   ]
  },
  {
   "cell_type": "code",
   "execution_count": 17,
   "id": "standard-orlando",
   "metadata": {},
   "outputs": [],
   "source": [
    "learning_rate = 0.01\n",
    "momentum = 0.9"
   ]
  },
  {
   "cell_type": "code",
   "execution_count": 18,
   "id": "clean-samuel",
   "metadata": {},
   "outputs": [
    {
     "name": "stdout",
     "output_type": "stream",
     "text": [
      "[[0.]\n",
      " [0.]]\n",
      "[0. 0.]\n",
      "[[0. 0.]\n",
      " [0. 0.]\n",
      " [0. 0.]]\n",
      "[0. 0. 0.]\n"
     ]
    }
   ],
   "source": [
    "update_w1 = np.zeros(w1.shape)\n",
    "\n",
    "update_b1 = np.zeros(b1.shape)\n",
    "\n",
    "update_w2 = np.zeros(w2.shape)\n",
    "\n",
    "update_b2 = np.zeros(b2.shape)\n",
    "\n",
    "print(update_w1, update_b1, sep='\\n')\n",
    "print(update_w2, update_b2, sep='\\n')"
   ]
  },
  {
   "cell_type": "markdown",
   "id": "varied-visitor",
   "metadata": {},
   "source": [
    "---------------------------------------------"
   ]
  },
  {
   "cell_type": "markdown",
   "id": "f8ff04a8",
   "metadata": {},
   "source": [
    "**Total number of epochs**"
   ]
  },
  {
   "cell_type": "code",
   "execution_count": 19,
   "id": "74c103e4",
   "metadata": {},
   "outputs": [],
   "source": [
    "epochs = 1000"
   ]
  },
  {
   "cell_type": "markdown",
   "id": "3e869d04",
   "metadata": {},
   "source": [
    "------------------------"
   ]
  },
  {
   "cell_type": "markdown",
   "id": "absent-parking",
   "metadata": {},
   "source": [
    "**Backpropagation in ANNs**"
   ]
  },
  {
   "cell_type": "code",
   "execution_count": 20,
   "id": "experimental-strategy",
   "metadata": {},
   "outputs": [
    {
     "name": "stdout",
     "output_type": "stream",
     "text": [
      "loss before training is 0.5573426040225352 -- epoch number 1\n",
      "\n",
      "\n"
     ]
    },
    {
     "ename": "ValueError",
     "evalue": "shapes (3,1) and (2,) not aligned: 1 (dim 1) != 2 (dim 0)",
     "output_type": "error",
     "traceback": [
      "\u001b[1;31m---------------------------------------------------------------------------\u001b[0m",
      "\u001b[1;31mValueError\u001b[0m                                Traceback (most recent call last)",
      "\u001b[1;32m~\\AppData\\Local\\Temp\\ipykernel_22532\\907526829.py\u001b[0m in \u001b[0;36m<module>\u001b[1;34m\u001b[0m\n\u001b[0;32m     22\u001b[0m         \u001b[0merror_upto_softmax\u001b[0m \u001b[1;33m=\u001b[0m \u001b[0mresh\u001b[0m\u001b[1;33m\u001b[0m\u001b[1;33m\u001b[0m\u001b[0m\n\u001b[0;32m     23\u001b[0m \u001b[1;33m\u001b[0m\u001b[0m\n\u001b[1;32m---> 24\u001b[1;33m         \u001b[0mgrad_w2\u001b[0m \u001b[1;33m=\u001b[0m \u001b[0merror_upto_softmax\u001b[0m \u001b[1;33m.\u001b[0m\u001b[0mdot\u001b[0m\u001b[1;33m(\u001b[0m \u001b[0mout_hidden_1\u001b[0m\u001b[1;33m.\u001b[0m\u001b[0mT\u001b[0m \u001b[1;33m)\u001b[0m \u001b[1;31m#(3,2)\u001b[0m\u001b[1;33m\u001b[0m\u001b[1;33m\u001b[0m\u001b[0m\n\u001b[0m\u001b[0;32m     25\u001b[0m \u001b[1;33m\u001b[0m\u001b[0m\n\u001b[0;32m     26\u001b[0m         \u001b[0mgrad_b2\u001b[0m \u001b[1;33m=\u001b[0m \u001b[0merror_upto_softmax\u001b[0m \u001b[1;31m#(3,1)\u001b[0m\u001b[1;33m\u001b[0m\u001b[1;33m\u001b[0m\u001b[0m\n",
      "\u001b[1;31mValueError\u001b[0m: shapes (3,1) and (2,) not aligned: 1 (dim 1) != 2 (dim 0)"
     ]
    }
   ],
   "source": [
    "for epoch in range(epochs):\n",
    "    for i in range(len(X)):\n",
    "    #------------------------------------------Forward Propagation-------------------------------------------------\n",
    "        x = X[i, :]\n",
    "        y = ys[i,:]\n",
    "        in_hidden_1 = w1.dot(x) + b1 #(2,1)\n",
    "        out_hidden_1 = sig(in_hidden_1) #(2,1)\n",
    "\n",
    "        in_output_layer = w2.dot(out_hidden_1) + b2 #(3,1)\n",
    "        y_hat = softmax(in_output_layer) #(3,1) [0.18786572274388938, 0.4845507011829411, 0.3275835760731695]\n",
    "        \n",
    "        loss = cross_E(y, y_hat)\n",
    "        print(f'loss before training is {loss} -- epoch number {epoch + 1}')\n",
    "        print('\\n')\n",
    "        \n",
    "    #-----------------------------------------Gradient Calculations via Back Propagation---------------------------\n",
    "\n",
    "        sd = softmax_dash(in_output_layer) #(3,3) [[ 0.15257219, -0.23478938, -0.107311  ],[-0.03529353,  0.24976132, -0.107311  ],[-0.03529353, -0.23478938,  0.22027258]]\n",
    "        ced = cross_E_grad(y, y_hat) #(3,1)\n",
    "        summ = np.sum(ced * sd, axis = 0) #(3,)\n",
    "        resh = summ.reshape((-1, 1)) #(3,1)\n",
    "        error_upto_softmax = resh\n",
    "        \n",
    "        grad_w2 = error_upto_softmax .dot( out_hidden_1.T ) #(3,2)\n",
    "        \n",
    "        grad_b2 = error_upto_softmax #(3,1)\n",
    "        \n",
    "        #-----------------------------------------c\n",
    "        \n",
    "        error_grad_upto_H1 = np.sum(error_upto_softmax * w2, axis = 0) .reshape((-1, 1)) #(2,1)\n",
    "        \n",
    "        grad_w1 = error_grad_upto_H1 * sig_dash(in_hidden_1) .dot( x.T ) #(2,1)\n",
    "        \n",
    "        grad_b1 = error_grad_upto_H1 * sig_dash(in_hidden_1) #(2,1)\n",
    "        \n",
    "    #-----------------------------------------Updating weights and biases via SGD Momentum------------------------\n",
    "\n",
    "        update_w1 = - learning_rate * grad_w1 + momentum * update_w1\n",
    "        w1 += update_w1 #(2,1)\n",
    "        \n",
    "        update_b1 = - learning_rate * grad_b1 + momentum * update_b1\n",
    "        b1 += update_b1 #(2,1)\n",
    "        \n",
    "        update_w2 = - learning_rate * grad_w2 + momentum * update_w2\n",
    "        w2 += update_w2 #(3,2)\n",
    "        \n",
    "        update_b2 = - learning_rate * grad_b2 + momentum * update_b2\n",
    "        b2 += update_b2 #(3,1)"
   ]
  },
  {
   "cell_type": "markdown",
   "id": "elegant-philippines",
   "metadata": {},
   "source": [
    "-------------------------"
   ]
  },
  {
   "cell_type": "markdown",
   "id": "retired-belief",
   "metadata": {},
   "source": [
    "**Forward feed after training**"
   ]
  },
  {
   "cell_type": "code",
   "execution_count": null,
   "id": "inner-province",
   "metadata": {},
   "outputs": [
    {
     "ename": "ValueError",
     "evalue": "operands could not be broadcast together with shapes (3,2) (3,) ",
     "output_type": "error",
     "traceback": [
      "\u001b[1;31m---------------------------------------------------------------------------\u001b[0m",
      "\u001b[1;31mValueError\u001b[0m                                Traceback (most recent call last)",
      "\u001b[1;32m~\\AppData\\Local\\Temp\\ipykernel_13864\\2255095917.py\u001b[0m in \u001b[0;36m<module>\u001b[1;34m\u001b[0m\n\u001b[0;32m      2\u001b[0m \u001b[0mout_hidden_1\u001b[0m \u001b[1;33m=\u001b[0m \u001b[0msig\u001b[0m\u001b[1;33m(\u001b[0m\u001b[0min_hidden_1\u001b[0m\u001b[1;33m)\u001b[0m\u001b[1;33m\u001b[0m\u001b[1;33m\u001b[0m\u001b[0m\n\u001b[0;32m      3\u001b[0m \u001b[1;33m\u001b[0m\u001b[0m\n\u001b[1;32m----> 4\u001b[1;33m \u001b[0min_output_layer\u001b[0m \u001b[1;33m=\u001b[0m \u001b[0mw2\u001b[0m\u001b[1;33m.\u001b[0m\u001b[0mdot\u001b[0m\u001b[1;33m(\u001b[0m\u001b[0min_hidden_1\u001b[0m\u001b[1;33m)\u001b[0m \u001b[1;33m+\u001b[0m \u001b[0mb2\u001b[0m\u001b[1;33m\u001b[0m\u001b[1;33m\u001b[0m\u001b[0m\n\u001b[0m\u001b[0;32m      5\u001b[0m \u001b[0my_hat\u001b[0m \u001b[1;33m=\u001b[0m \u001b[0msoftmax\u001b[0m\u001b[1;33m(\u001b[0m\u001b[0min_output_layer\u001b[0m\u001b[1;33m)\u001b[0m\u001b[1;33m\u001b[0m\u001b[1;33m\u001b[0m\u001b[0m\n\u001b[0;32m      6\u001b[0m \u001b[1;33m\u001b[0m\u001b[0m\n",
      "\u001b[1;31mValueError\u001b[0m: operands could not be broadcast together with shapes (3,2) (3,) "
     ]
    }
   ],
   "source": [
    "in_hidden_1 = w1.dot(x) + b1\n",
    "out_hidden_1 = sig(in_hidden_1)\n",
    "\n",
    "in_output_layer = w2.dot(in_hidden_1) + b2\n",
    "y_hat = softmax(in_output_layer)\n",
    "\n",
    "y_hat"
   ]
  },
  {
   "cell_type": "code",
   "execution_count": null,
   "id": "burning-jefferson",
   "metadata": {},
   "outputs": [
    {
     "data": {
      "text/plain": [
       "array([[0],\n",
       "       [1],\n",
       "       [0]])"
      ]
     },
     "execution_count": 64,
     "metadata": {},
     "output_type": "execute_result"
    }
   ],
   "source": [
    "y"
   ]
  },
  {
   "cell_type": "code",
   "execution_count": null,
   "id": "dying-supervision",
   "metadata": {},
   "outputs": [
    {
     "data": {
      "text/plain": [
       "0.001991270523606741"
      ]
     },
     "execution_count": 65,
     "metadata": {},
     "output_type": "execute_result"
    }
   ],
   "source": [
    "cross_E(y, y_hat)"
   ]
  },
  {
   "cell_type": "code",
   "execution_count": null,
   "id": "6f257f84",
   "metadata": {},
   "outputs": [],
   "source": []
  },
  {
   "cell_type": "code",
   "execution_count": null,
   "id": "2bd068e8",
   "metadata": {},
   "outputs": [
    {
     "name": "stdout",
     "output_type": "stream",
     "text": [
      "[0, 0, 2, 2, 0, 1, 1, 0, 0, 2]\n",
      "[0.02333333, 0.26333333, 0.86, 0.94666667, 0.30333333, 0.54, 0.42333333, 0.19, 0.17666667, 0.96666667]\n",
      "Predicted class labels: [0 0 0 1 1 2 2]\n"
     ]
    }
   ],
   "source": [
    "import numpy as np\n",
    "\n",
    "class NeuralNetwork:\n",
    "    \n",
    "    def __init__(self):\n",
    "        self.input_layer_size = 1\n",
    "        self.hidden_layer_size = 2\n",
    "        self.output_layer_size = 3\n",
    "        self.W1 = np.array([[0.28401832, -0.95381398]]) #np.random.randn(self.input_layer_size, self.hidden_layer_size) #[[-0.946956],[-0.05371076]] here [[2.268696555647382, 1.0747582434460212]]\n",
    "        self.b1 = np.array([[-0.52433746, 0.33221849]]) #np.zeros((1, self.hidden_layer_size)) #[-0.04069894424931042, -0.8648014344296282] here [[0., 0.]]\n",
    "        self.W2 = np.array([[-0.15495577, 0.63793899, -0.71792529],[-0.56723879, -0.37206676, 0.49335413]]) #np.random.randn(self.hidden_layer_size, self.output_layer_size) #[[-0.01435154,  0.48572941],[0.17128856, 0.85747956],[ 0.08848815, -0.77120695]] here [[ 0.78696879, -0.5470661 ,  1.32080322],[-0.49238067, -0.46736653, -0.30174847]]\n",
    "        self.b2 = np.array([[0.36843569, 0.90728299, 0.52282658]]) #np.zeros((1, self.output_layer_size)) #[0.5863426622842711, 0.4967395061795983, 0.20838814081519974] here [[0., 0., 0.]]\n",
    "        \n",
    "    def sigmoid(self, x):\n",
    "        return 1 / (1 + np.exp(-x))\n",
    "    \n",
    "    def softmax(self, x):\n",
    "        exp_x = np.exp(x)\n",
    "        return exp_x / np.sum(exp_x, axis=1, keepdims=True)\n",
    "    \n",
    "    def cross_entropy_loss(self, y_true, y_pred):\n",
    "        m = y_true.shape[0]\n",
    "        log_likelihood = -np.log(y_pred[range(m), y_true])\n",
    "        loss = np.sum(log_likelihood) / m\n",
    "        return loss\n",
    "    \n",
    "    def sigmoid_derivative(self, x):\n",
    "        return x * (1 - x)\n",
    "    \n",
    "    def softmax_derivative(self, x):\n",
    "        return x * (1 - x)\n",
    "    \n",
    "    def train(self, X, y, epochs, learning_rate):\n",
    "        for i in range(epochs):\n",
    "            for j in range(X.shape[0]):\n",
    "                # Forward propagation\n",
    "                x = X[j] # [0.02333333]\n",
    "                z1 = np.dot(x, self.W1) + self.b1 #[[-0.51771037,  0.30996283]]\n",
    "                a1 = self.sigmoid(z1) #[[0.37338778, 0.57687619]]\n",
    "                z2 = np.dot(a1, self.W2) + self.b2 #[[-0.01664945,  0.93084516,  0.5393663 ]]\n",
    "                a2 = self.softmax(z2) #[[0.18786572, 0.4845507 , 0.32758358]]\n",
    "\n",
    "                # Backpropagation\n",
    "                delta2 = a2\n",
    "                delta2[0, y[j]] -= 1 #[[-0.81213428,  0.4845507 ,  0.32758358]]\n",
    "                sigd = self.sigmoid_derivative(a1) #[[0.23396935, 0.24409005]]\n",
    "                dot = np.dot(delta2, self.W2.T) #[[0.19977815, 0.44200356]]\n",
    "                delta1 = sigd * dot #[[0.04674196, 0.10788867]]\n",
    "\n",
    "                # Update weights\n",
    "                self.W2 -= learning_rate * np.outer(a1, delta2) # here [[-0.12463167,  0.61984646, -0.73015686],[-0.5203887 , -0.40001934,  0.47445661]]\n",
    "                self.b2 -= learning_rate * delta2 # here [[0.44964912, 0.85882792, 0.49006822]]\n",
    "                self.W1 -= learning_rate * np.outer(x, delta1) # here [[ 0.28390926, -0.95406572]]\n",
    "                self.b1 -= learning_rate * delta1 # here [[-0.52901166,  0.32142962]]\n",
    "        \n",
    "    def predict(self, X):\n",
    "        z1 = np.dot(X, self.W1) + self.b1\n",
    "        a1 = self.sigmoid(z1)\n",
    "        z2 = np.dot(a1, self.W2) + self.b2\n",
    "        a2 = self.softmax(z2)\n",
    "        return np.argmax(a2, axis=1)\n",
    "\n",
    "# new_data_x = np.random.randint(1, 300, 200)\n",
    "# new_data_target = new_data_x // 100\n",
    "# print(new_data_target)\n",
    "# new_data_x = new_data_x / 300   \n",
    "# print(new_data_x)\n",
    "\n",
    "new_data_x = [0.02333333, 0.26333333, 0.86, 0.94666667, 0.30333333, 0.54, 0.42333333, 0.19, 0.17666667, 0.96666667]\n",
    "new_data_target = [0, 0, 2, 2, 0, 1, 1, 0, 0, 2]\n",
    "print(new_data_target)\n",
    "print(new_data_x)\n",
    "\n",
    "X_train = np.array(new_data_x).reshape(-1, 1)\n",
    "y_train = np.array(new_data_target)\n",
    "\n",
    "nn = NeuralNetwork()\n",
    "nn.train(X_train, y_train, epochs=500, learning_rate=0.1)\n",
    "X_test = np.array([0.0, 0.0, 0.000001, 0.5, 0.4, 0.8, 0.9]).reshape(-1, 1)\n",
    "y_pred = nn.predict(X_test)\n",
    "print(\"Predicted class labels:\", y_pred)"
   ]
  },
  {
   "cell_type": "code",
   "execution_count": null,
   "id": "1de81b6a",
   "metadata": {},
   "outputs": [],
   "source": [
    "class NeuralNetwork:\n",
    "    def __init__(self, input_size, hidden_size, output_size, learning_rate):\n",
    "        self.input_size = input_size\n",
    "        self.hidden_size = hidden_size\n",
    "        self.output_size = output_size\n",
    "        self.learning_rate = learning_rate\n",
    "        \n",
    "        # Initialize weights\n",
    "        self.W1 = np.random.randn(self.input_size, self.hidden_size)\n",
    "        self.b1 = np.zeros((1, self.hidden_size))\n",
    "        self.W2 = np.random.randn(self.hidden_size, self.output_size)\n",
    "        self.b2 = np.zeros((1, self.output_size))\n",
    "        \n",
    "    def sigmoid(self, x):\n",
    "        return 1 / (1 + np.exp(-x))\n",
    "    \n",
    "    def sigmoid_derivative(self, x):\n",
    "        return x * (1 - x)\n",
    "    \n",
    "    def softmax(self, x):\n",
    "        exp_x = np.exp(x)\n",
    "        return exp_x / np.sum(exp_x, axis=1, keepdims=True)\n",
    "    \n",
    "    def softmax_derivative(self, x):\n",
    "        s = x.reshape(-1,1)\n",
    "        return np.diagflat(s) - np.dot(s, s.T)\n",
    "        \n",
    "    def forward(self, X):\n",
    "        # Hidden layer\n",
    "        self.z1 = np.dot(X, self.W1) + self.b1\n",
    "        self.a1 = self.sigmoid(self.z1)\n",
    "        \n",
    "        # Output layer\n",
    "        self.z2 = np.dot(self.a1, self.W2) + self.b2\n",
    "        self.a2 = self.softmax(self.z2)\n",
    "        \n",
    "        return self.a2\n",
    "    \n",
    "    def backward(self, X, y, output):\n",
    "        # Output layer error\n",
    "        self.output_error = output - y\n",
    "        d_z2 = self.output_error * self.softmax_derivative(self.a2)\n",
    "        \n",
    "        # Hidden layer error\n",
    "        d_a1 = np.dot(d_z2, self.W2.T)\n",
    "        d_z1 = d_a1 * self.sigmoid_derivative(self.a1)\n",
    "        \n",
    "        # Update weights and biases\n",
    "        self.W2 -= self.learning_rate * np.dot(self.a1.T, d_z2)\n",
    "        self.b2 -= self.learning_rate * np.sum(d_z2, axis=0, keepdims=True)\n",
    "        self.W1 -= self.learning_rate * np.dot(X.T, d_z1)\n",
    "        self.b1 -= self.learning_rate * np.sum(d_z1, axis=0)\n",
    "        \n",
    "    def train(self, X, y, epochs):\n",
    "        for i in range(epochs):\n",
    "            for j in range(X.shape[0]):\n",
    "                output = self.forward(X[j])\n",
    "                self.backward(X[j], y[j], output)\n",
    "                \n",
    "    def predict(self, X):\n",
    "        output = self.forward(X)\n",
    "        return np.argmax(output, axis=1)"
   ]
  },
  {
   "cell_type": "code",
   "execution_count": null,
   "id": "ddbba199",
   "metadata": {},
   "outputs": [
    {
     "ename": "ValueError",
     "evalue": "shapes (2,1) and (3,3) not aligned: 1 (dim 1) != 3 (dim 0)",
     "output_type": "error",
     "traceback": [
      "\u001b[1;31m---------------------------------------------------------------------------\u001b[0m",
      "\u001b[1;31mValueError\u001b[0m                                Traceback (most recent call last)",
      "\u001b[1;32m~\\AppData\\Local\\Temp\\ipykernel_25740\\2644014061.py\u001b[0m in \u001b[0;36m<module>\u001b[1;34m\u001b[0m\n\u001b[0;32m      3\u001b[0m \u001b[1;33m\u001b[0m\u001b[0m\n\u001b[0;32m      4\u001b[0m \u001b[0mnn\u001b[0m \u001b[1;33m=\u001b[0m \u001b[0mNeuralNetwork\u001b[0m\u001b[1;33m(\u001b[0m\u001b[1;36m1\u001b[0m\u001b[1;33m,\u001b[0m\u001b[1;36m2\u001b[0m\u001b[1;33m,\u001b[0m\u001b[1;36m3\u001b[0m\u001b[1;33m,\u001b[0m\u001b[1;36m0.1\u001b[0m\u001b[1;33m)\u001b[0m\u001b[1;33m\u001b[0m\u001b[1;33m\u001b[0m\u001b[0m\n\u001b[1;32m----> 5\u001b[1;33m \u001b[0mnn\u001b[0m\u001b[1;33m.\u001b[0m\u001b[0mtrain\u001b[0m\u001b[1;33m(\u001b[0m\u001b[0mX_train\u001b[0m\u001b[1;33m.\u001b[0m\u001b[0mreshape\u001b[0m\u001b[1;33m(\u001b[0m\u001b[1;33m-\u001b[0m\u001b[1;36m1\u001b[0m\u001b[1;33m,\u001b[0m \u001b[1;36m1\u001b[0m\u001b[1;33m)\u001b[0m\u001b[1;33m,\u001b[0m \u001b[0my_train\u001b[0m\u001b[1;33m.\u001b[0m\u001b[0mreshape\u001b[0m\u001b[1;33m(\u001b[0m\u001b[1;33m-\u001b[0m\u001b[1;36m1\u001b[0m\u001b[1;33m,\u001b[0m \u001b[1;36m1\u001b[0m\u001b[1;33m)\u001b[0m\u001b[1;33m,\u001b[0m \u001b[0mepochs\u001b[0m\u001b[1;33m=\u001b[0m\u001b[1;36m1000\u001b[0m\u001b[1;33m)\u001b[0m\u001b[1;33m\u001b[0m\u001b[1;33m\u001b[0m\u001b[0m\n\u001b[0m\u001b[0;32m      6\u001b[0m \u001b[0mX_test\u001b[0m \u001b[1;33m=\u001b[0m \u001b[0mnp\u001b[0m\u001b[1;33m.\u001b[0m\u001b[0marray\u001b[0m\u001b[1;33m(\u001b[0m\u001b[1;33m[\u001b[0m\u001b[1;36m0.0\u001b[0m\u001b[1;33m,\u001b[0m \u001b[1;36m0.0\u001b[0m\u001b[1;33m,\u001b[0m \u001b[1;36m0.000001\u001b[0m\u001b[1;33m,\u001b[0m \u001b[1;36m0.5\u001b[0m\u001b[1;33m,\u001b[0m \u001b[1;36m0.4\u001b[0m\u001b[1;33m,\u001b[0m \u001b[1;36m0.8\u001b[0m\u001b[1;33m,\u001b[0m \u001b[1;36m0.9\u001b[0m\u001b[1;33m]\u001b[0m\u001b[1;33m)\u001b[0m\u001b[1;33m.\u001b[0m\u001b[0mreshape\u001b[0m\u001b[1;33m(\u001b[0m\u001b[1;33m-\u001b[0m\u001b[1;36m1\u001b[0m\u001b[1;33m,\u001b[0m \u001b[1;36m1\u001b[0m\u001b[1;33m)\u001b[0m\u001b[1;33m\u001b[0m\u001b[1;33m\u001b[0m\u001b[0m\n\u001b[0;32m      7\u001b[0m \u001b[0my_pred\u001b[0m \u001b[1;33m=\u001b[0m \u001b[0mnn\u001b[0m\u001b[1;33m.\u001b[0m\u001b[0mpredict\u001b[0m\u001b[1;33m(\u001b[0m\u001b[0mX_test\u001b[0m\u001b[1;33m)\u001b[0m\u001b[1;33m\u001b[0m\u001b[1;33m\u001b[0m\u001b[0m\n",
      "\u001b[1;32m~\\AppData\\Local\\Temp\\ipykernel_25740\\62332639.py\u001b[0m in \u001b[0;36mtrain\u001b[1;34m(self, X, y, epochs)\u001b[0m\n\u001b[0;32m     56\u001b[0m             \u001b[1;32mfor\u001b[0m \u001b[0mj\u001b[0m \u001b[1;32min\u001b[0m \u001b[0mrange\u001b[0m\u001b[1;33m(\u001b[0m\u001b[0mX\u001b[0m\u001b[1;33m.\u001b[0m\u001b[0mshape\u001b[0m\u001b[1;33m[\u001b[0m\u001b[1;36m0\u001b[0m\u001b[1;33m]\u001b[0m\u001b[1;33m)\u001b[0m\u001b[1;33m:\u001b[0m\u001b[1;33m\u001b[0m\u001b[1;33m\u001b[0m\u001b[0m\n\u001b[0;32m     57\u001b[0m                 \u001b[0moutput\u001b[0m \u001b[1;33m=\u001b[0m \u001b[0mself\u001b[0m\u001b[1;33m.\u001b[0m\u001b[0mforward\u001b[0m\u001b[1;33m(\u001b[0m\u001b[0mX\u001b[0m\u001b[1;33m[\u001b[0m\u001b[0mj\u001b[0m\u001b[1;33m]\u001b[0m\u001b[1;33m)\u001b[0m\u001b[1;33m\u001b[0m\u001b[1;33m\u001b[0m\u001b[0m\n\u001b[1;32m---> 58\u001b[1;33m                 \u001b[0mself\u001b[0m\u001b[1;33m.\u001b[0m\u001b[0mbackward\u001b[0m\u001b[1;33m(\u001b[0m\u001b[0mX\u001b[0m\u001b[1;33m[\u001b[0m\u001b[0mj\u001b[0m\u001b[1;33m]\u001b[0m\u001b[1;33m,\u001b[0m \u001b[0my\u001b[0m\u001b[1;33m[\u001b[0m\u001b[0mj\u001b[0m\u001b[1;33m]\u001b[0m\u001b[1;33m,\u001b[0m \u001b[0moutput\u001b[0m\u001b[1;33m)\u001b[0m\u001b[1;33m\u001b[0m\u001b[1;33m\u001b[0m\u001b[0m\n\u001b[0m\u001b[0;32m     59\u001b[0m \u001b[1;33m\u001b[0m\u001b[0m\n\u001b[0;32m     60\u001b[0m     \u001b[1;32mdef\u001b[0m \u001b[0mpredict\u001b[0m\u001b[1;33m(\u001b[0m\u001b[0mself\u001b[0m\u001b[1;33m,\u001b[0m \u001b[0mX\u001b[0m\u001b[1;33m)\u001b[0m\u001b[1;33m:\u001b[0m\u001b[1;33m\u001b[0m\u001b[1;33m\u001b[0m\u001b[0m\n",
      "\u001b[1;32m~\\AppData\\Local\\Temp\\ipykernel_25740\\62332639.py\u001b[0m in \u001b[0;36mbackward\u001b[1;34m(self, X, y, output)\u001b[0m\n\u001b[0;32m     47\u001b[0m \u001b[1;33m\u001b[0m\u001b[0m\n\u001b[0;32m     48\u001b[0m         \u001b[1;31m# Update weights and biases\u001b[0m\u001b[1;33m\u001b[0m\u001b[1;33m\u001b[0m\u001b[0m\n\u001b[1;32m---> 49\u001b[1;33m         \u001b[0mself\u001b[0m\u001b[1;33m.\u001b[0m\u001b[0mW2\u001b[0m \u001b[1;33m-=\u001b[0m \u001b[0mself\u001b[0m\u001b[1;33m.\u001b[0m\u001b[0mlearning_rate\u001b[0m \u001b[1;33m*\u001b[0m \u001b[0mnp\u001b[0m\u001b[1;33m.\u001b[0m\u001b[0mdot\u001b[0m\u001b[1;33m(\u001b[0m\u001b[0mself\u001b[0m\u001b[1;33m.\u001b[0m\u001b[0ma1\u001b[0m\u001b[1;33m.\u001b[0m\u001b[0mT\u001b[0m\u001b[1;33m,\u001b[0m \u001b[0md_z2\u001b[0m\u001b[1;33m)\u001b[0m\u001b[1;33m\u001b[0m\u001b[1;33m\u001b[0m\u001b[0m\n\u001b[0m\u001b[0;32m     50\u001b[0m         \u001b[0mself\u001b[0m\u001b[1;33m.\u001b[0m\u001b[0mb2\u001b[0m \u001b[1;33m-=\u001b[0m \u001b[0mself\u001b[0m\u001b[1;33m.\u001b[0m\u001b[0mlearning_rate\u001b[0m \u001b[1;33m*\u001b[0m \u001b[0mnp\u001b[0m\u001b[1;33m.\u001b[0m\u001b[0msum\u001b[0m\u001b[1;33m(\u001b[0m\u001b[0md_z2\u001b[0m\u001b[1;33m,\u001b[0m \u001b[0maxis\u001b[0m\u001b[1;33m=\u001b[0m\u001b[1;36m0\u001b[0m\u001b[1;33m,\u001b[0m \u001b[0mkeepdims\u001b[0m\u001b[1;33m=\u001b[0m\u001b[1;32mTrue\u001b[0m\u001b[1;33m)\u001b[0m\u001b[1;33m\u001b[0m\u001b[1;33m\u001b[0m\u001b[0m\n\u001b[0;32m     51\u001b[0m         \u001b[0mself\u001b[0m\u001b[1;33m.\u001b[0m\u001b[0mW1\u001b[0m \u001b[1;33m-=\u001b[0m \u001b[0mself\u001b[0m\u001b[1;33m.\u001b[0m\u001b[0mlearning_rate\u001b[0m \u001b[1;33m*\u001b[0m \u001b[0mnp\u001b[0m\u001b[1;33m.\u001b[0m\u001b[0mdot\u001b[0m\u001b[1;33m(\u001b[0m\u001b[0mX\u001b[0m\u001b[1;33m.\u001b[0m\u001b[0mT\u001b[0m\u001b[1;33m,\u001b[0m \u001b[0md_z1\u001b[0m\u001b[1;33m)\u001b[0m\u001b[1;33m\u001b[0m\u001b[1;33m\u001b[0m\u001b[0m\n",
      "\u001b[1;32m<__array_function__ internals>\u001b[0m in \u001b[0;36mdot\u001b[1;34m(*args, **kwargs)\u001b[0m\n",
      "\u001b[1;31mValueError\u001b[0m: shapes (2,1) and (3,3) not aligned: 1 (dim 1) != 3 (dim 0)"
     ]
    }
   ],
   "source": [
    "X_train = np.array([0.88333333, 0.58, 0.91333333, 0.4, 0.74, 0.96, 0.51666667, 0.3, 0.69333333, 0.63666667])\n",
    "y_train = np.array([2, 1, 2, 1, 2, 2, 1, 0, 2, 1])\n",
    "\n",
    "nn = NeuralNetwork(1,2,3,0.1)\n",
    "nn.train(X_train.reshape(-1, 1), y_train.reshape(-1, 1), epochs=1000)\n",
    "X_test = np.array([0.0, 0.0, 0.000001, 0.5, 0.4, 0.8, 0.9]).reshape(-1, 1)\n",
    "y_pred = nn.predict(X_test)\n",
    "print(\"Predicted class labels:\", y_pred)"
   ]
  },
  {
   "cell_type": "code",
   "execution_count": null,
   "id": "7eaea5c0",
   "metadata": {},
   "outputs": [],
   "source": [
    "import numpy as np\n",
    "\n",
    "class MultiClassNN:\n",
    "    def __init__(self):\n",
    "        self.input_size = 1\n",
    "        self.hidden_size = 2\n",
    "        self.output_size = 3\n",
    "        self.learning_rate = 0.1\n",
    "        self.epochs = 1500\n",
    "\n",
    "        self.W1 = np.array([[0.28401832, -0.95381398]]) #np.random.randn(self.input_layer_size, self.hidden_layer_size) #[[-0.946956],[-0.05371076]] here [[2.268696555647382, 1.0747582434460212]]\n",
    "        self.b1 = np.array([[-0.52433746, 0.33221849]]) #np.zeros((1, self.hidden_layer_size)) #[-0.04069894424931042, -0.8648014344296282] here [[0., 0.]]\n",
    "        self.W2 = np.array([[-0.15495577, 0.63793899, -0.71792529],[-0.56723879, -0.37206676, 0.49335413]]) #np.random.randn(self.hidden_layer_size, self.output_layer_size) #[[-0.01435154,  0.48572941],[0.17128856, 0.85747956],[ 0.08848815, -0.77120695]] here [[ 0.78696879, -0.5470661 ,  1.32080322],[-0.49238067, -0.46736653, -0.30174847]]\n",
    "        self.b2 = np.array([[0.36843569, 0.90728299, 0.52282658]]) #np.zeros((1, self.output_layer_size)) #[0.5863426622842711, 0.4967395061795983, 0.20838814081519974] here [[0., 0., 0.]]\n",
    "\n",
    "    def sigmoid(self, z):\n",
    "        return 1.0 / (1.0 + np.exp(-z))\n",
    "\n",
    "    def softmax(self, z):\n",
    "        return np.exp(z) / np.sum(np.exp(z), axis=1, keepdims=True)\n",
    "\n",
    "    def cross_entropy_loss(self, y, y_hat):\n",
    "        return -np.sum(y * np.log(y_hat))\n",
    "        \n",
    "    def apply(self, x):\n",
    "        h_array = self.forward(x)\n",
    "        return h_array[-1]\n",
    "\n",
    "    def forward(self, x):\n",
    "        self.z1 = np.dot(x, self.W1) + self.b1\n",
    "        self.a1 = self.sigmoid(self.z1)\n",
    "        self.z2 = np.dot(self.a1, self.W2) + self.b2\n",
    "        self.a2 = self.softmax(self.z2)\n",
    "        return self.a2\n",
    "\n",
    "    def backward(self, x, y, y_hat):\n",
    "        delta3 = y_hat - y\n",
    "        dW2 = np.dot(self.a1.T, delta3)\n",
    "        db2 = np.sum(delta3, axis=0)\n",
    "        delta2 = delta3.dot(self.W2.T) * self.a1 * (1 - self.a1)\n",
    "        dW1 = np.dot(x.T, delta2)\n",
    "        db1 = np.sum(delta2, axis=0)\n",
    "\n",
    "        self.W2 -= self.learning_rate * dW2\n",
    "        self.b2 -= self.learning_rate * db2\n",
    "        self.W1 -= self.learning_rate * dW1\n",
    "        self.b1 -= self.learning_rate * db1\n",
    "\n",
    "    def train(self, X, y):\n",
    "        costs = []\n",
    "        m = X.shape[0]\n",
    "\n",
    "        for epoch in range(self.epochs):\n",
    "            avg_cost = 0\n",
    "\n",
    "            for i in range(m):\n",
    "                x = X[i]\n",
    "                x = x.reshape(1, -1)\n",
    "                y_i = y[i]\n",
    "                y_i = y_i.reshape(1, -1)\n",
    "\n",
    "                y_hat = self.forward(x)\n",
    "                cost = self.cross_entropy_loss(y_i, y_hat)\n",
    "                self.backward(x, y_i, y_hat)\n",
    "\n",
    "                avg_cost += cost / m\n",
    "\n",
    "            costs.append(avg_cost)\n",
    "\n",
    "        return costs"
   ]
  },
  {
   "cell_type": "code",
   "execution_count": null,
   "id": "b89a740a",
   "metadata": {},
   "outputs": [
    {
     "name": "stderr",
     "output_type": "stream",
     "text": [
      "d:\\ProgrammFiles\\Anaconda3\\lib\\site-packages\\numpy\\core\\fromnumeric.py:86: RuntimeWarning: overflow encountered in reduce\n",
      "  return ufunc.reduce(obj, axis, dtype, out, **passkwargs)\n",
      "C:\\Users\\ilkhom-pc\\AppData\\Local\\Temp\\ipykernel_13864\\4125930933.py:23: RuntimeWarning: divide by zero encountered in log\n",
      "  return -np.sum(y * np.log(y_hat))\n",
      "C:\\Users\\ilkhom-pc\\AppData\\Local\\Temp\\ipykernel_13864\\4125930933.py:20: RuntimeWarning: overflow encountered in exp\n",
      "  return np.exp(z) / np.sum(np.exp(z), axis=1, keepdims=True)\n",
      "C:\\Users\\ilkhom-pc\\AppData\\Local\\Temp\\ipykernel_13864\\4125930933.py:20: RuntimeWarning: invalid value encountered in true_divide\n",
      "  return np.exp(z) / np.sum(np.exp(z), axis=1, keepdims=True)\n"
     ]
    },
    {
     "data": {
      "text/plain": [
       "<AxesSubplot:>"
      ]
     },
     "execution_count": 41,
     "metadata": {},
     "output_type": "execute_result"
    },
    {
     "data": {
      "image/png": "[encoded data removed]",
      "text/plain": [
       "<Figure size 640x480 with 1 Axes>"
      ]
     },
     "metadata": {},
     "output_type": "display_data"
    }
   ],
   "source": [
    "import seaborn as sns\n",
    "\n",
    "new_data_x = np.array([0.02333333, 0.26333333, 0.86, 0.94666667, 0.30333333, 0.54, 0.42333333, 0.19, 0.17666667, 0.96666667])\n",
    "new_data_target = np.array([0, 0, 2, 2, 0, 1, 1, 0, 0, 2])\n",
    "\n",
    "N = MultiClassNN()\n",
    "avg_cost_func = N.train(X=new_data_x.reshape(-1, 1), y=new_data_target.reshape(-1, 1))\n",
    "sns.lineplot(data=avg_cost_func)"
   ]
  },
  {
   "cell_type": "code",
   "execution_count": null,
   "id": "de21aff6",
   "metadata": {},
   "outputs": [
    {
     "name": "stdout",
     "output_type": "stream",
     "text": [
      "[array([nan, nan, nan]), array([nan, nan, nan]), array([nan, nan, nan])]\n"
     ]
    }
   ],
   "source": [
    "predictions = [N.apply([0.2]), N.apply([0.6]),N.apply([0.9])]\n",
    "print(predictions)"
   ]
  }
 ],
 "metadata": {
  "kernelspec": {
   "display_name": "Python 3",
   "language": "python",
   "name": "python3"
  },
  "language_info": {
   "codemirror_mode": {
    "name": "ipython",
    "version": 3
   },
   "file_extension": ".py",
   "mimetype": "text/x-python",
   "name": "python",
   "nbconvert_exporter": "python",
   "pygments_lexer": "ipython3",
   "version": "3.9.13"
  },
  "vscode": {
   "interpreter": {
    "hash": "5147a8decd31e7b15d80b003c7388619c1258d9dc84c7b27bb729bd71864e42d"
   }
  }
 },
 "nbformat": 4,
 "nbformat_minor": 5
}
