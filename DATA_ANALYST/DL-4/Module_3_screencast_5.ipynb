{
  "cells": [
    {
      "cell_type": "markdown",
      "metadata": {
        "id": "oA2jzY_8jnEJ"
      },
      "source": [
        "#Аналогия с PyTorch"
      ]
    },
    {
      "cell_type": "code",
      "execution_count": 59,
      "metadata": {
        "id": "_wViSQ0garh1"
      },
      "outputs": [],
      "source": [
        "import torch\n",
        "import numpy as np\n",
        "import random\n",
        "\n",
        "\n",
        "np.random.seed(0)\n",
        "random.seed(0)\n",
        "torch.manual_seed(0)\n",
        "torch.use_deterministic_algorithms(True)\n",
        "\n",
        "\n",
        "data = [[1, 2],[3, 4]]\n",
        "x_data = torch.tensor(data)\n",
        "\n",
        "np_array = np.array(data)\n",
        "x_np = torch.from_numpy(np_array)"
      ]
    },
    {
      "cell_type": "code",
      "execution_count": 60,
      "metadata": {
        "colab": {
          "base_uri": "https://localhost:8080/"
        },
        "id": "-SCGwlhesSTg",
        "outputId": "e785964d-8faa-44be-d70c-43d2cc0e5239"
      },
      "outputs": [
        {
          "name": "stdout",
          "output_type": "stream",
          "text": [
            "Random Tensor: \n",
            " tensor([[0.4963, 0.7682, 0.0885],\n",
            "        [0.1320, 0.3074, 0.6341]]) \n",
            "\n",
            "Ones Tensor: \n",
            " tensor([[1., 1., 1.],\n",
            "        [1., 1., 1.]]) \n",
            "\n",
            "Zeros Tensor: \n",
            " tensor([[0., 0., 0.],\n",
            "        [0., 0., 0.]])\n"
          ]
        }
      ],
      "source": [
        "shape = (2,3,)\n",
        "rand_tensor = torch.rand(shape)\n",
        "ones_tensor = torch.ones(shape)\n",
        "zeros_tensor = torch.zeros(shape)\n",
        "\n",
        "print(f\"Random Tensor: \\n {rand_tensor} \\n\")\n",
        "print(f\"Ones Tensor: \\n {ones_tensor} \\n\")\n",
        "print(f\"Zeros Tensor: \\n {zeros_tensor}\")\n",
        "\n"
      ]
    },
    {
      "cell_type": "code",
      "execution_count": 61,
      "metadata": {
        "colab": {
          "base_uri": "https://localhost:8080/"
        },
        "id": "tH_oQI3osW2j",
        "outputId": "d26fa6af-36f7-4c30-d8dd-828e7e0e4bc5"
      },
      "outputs": [
        {
          "name": "stdout",
          "output_type": "stream",
          "text": [
            "Shape of tensor: torch.Size([3, 4])\n",
            "Datatype of tensor: torch.float32\n",
            "Device tensor is stored on: cpu\n"
          ]
        }
      ],
      "source": [
        "tensor = torch.rand(3,4)\n",
        "\n",
        "print(f\"Shape of tensor: {tensor.shape}\")\n",
        "print(f\"Datatype of tensor: {tensor.dtype}\")\n",
        "print(f\"Device tensor is stored on: {tensor.device}\")"
      ]
    },
    {
      "cell_type": "code",
      "execution_count": 62,
      "metadata": {
        "colab": {
          "base_uri": "https://localhost:8080/"
        },
        "id": "Ru5RzCcmsX0J",
        "outputId": "9abe9a34-760a-449e-be40-b9d116764e12"
      },
      "outputs": [
        {
          "name": "stdout",
          "output_type": "stream",
          "text": [
            "Device tensor is stored on: cpu\n"
          ]
        }
      ],
      "source": [
        "# We move our tensor to the GPU if available\n",
        "if torch.cuda.is_available():\n",
        "  tensor = tensor.to('cuda')\n",
        "print(f\"Device tensor is stored on: {tensor.device}\")"
      ]
    },
    {
      "cell_type": "code",
      "execution_count": 63,
      "metadata": {
        "colab": {
          "base_uri": "https://localhost:8080/"
        },
        "id": "ZqVjiP0NsbNb",
        "outputId": "24c05738-21e0-400b-ed5f-46edd6905e3a"
      },
      "outputs": [],
      "source": [
        "import torch\n",
        "from torch.utils.data import Dataset\n",
        "from torchvision import datasets\n",
        "from torchvision.transforms import ToTensor\n",
        "import matplotlib.pyplot as plt\n",
        "from torch.utils.data import DataLoader\n",
        "\n",
        "training_data = datasets.FashionMNIST(\n",
        "    root=\"data\",\n",
        "    train=True,\n",
        "    download=True,\n",
        "    transform=ToTensor()\n",
        ")\n",
        "\n",
        "test_data = datasets.FashionMNIST(\n",
        "    root=\"data\",\n",
        "    train=False,\n",
        "    download=True,\n",
        "    transform=ToTensor()\n",
        ")\n",
        "\n",
        "train_dataloader = DataLoader(training_data, batch_size=64, worker_init_fn=np.random.seed(0), num_workers=0)\n",
        "test_dataloader = DataLoader(test_data, batch_size=64, worker_init_fn=np.random.seed(0), num_workers=0)"
      ]
    },
    {
      "cell_type": "code",
      "execution_count": 64,
      "metadata": {
        "colab": {
          "base_uri": "https://localhost:8080/",
          "height": 482
        },
        "id": "jFGifF22smSa",
        "outputId": "449e9527-cfcb-4434-ef63-2c33c7b26f14"
      },
      "outputs": [
        {
          "data": {
            "image/png": "[encoded data removed]",
            "text/plain": [
              "<Figure size 800x800 with 9 Axes>"
            ]
          },
          "metadata": {},
          "output_type": "display_data"
        }
      ],
      "source": [
        "labels_map = {\n",
        "    0: \"T-Shirt\",\n",
        "    1: \"Trouser\",\n",
        "    2: \"Pullover\",\n",
        "    3: \"Dress\",\n",
        "    4: \"Coat\",\n",
        "    5: \"Sandal\",\n",
        "    6: \"Shirt\",\n",
        "    7: \"Sneaker\",\n",
        "    8: \"Bag\",\n",
        "    9: \"Ankle Boot\",\n",
        "}\n",
        "figure = plt.figure(figsize=(8, 8))\n",
        "cols, rows = 3, 3\n",
        "for i in range(1, cols * rows + 1):\n",
        "    sample_idx = torch.randint(len(training_data), size=(1,)).item()\n",
        "    img, label = training_data[sample_idx]\n",
        "    figure.add_subplot(rows, cols, i)\n",
        "    plt.title(labels_map[label])\n",
        "    plt.axis(\"off\")\n",
        "    plt.imshow(img.squeeze(), cmap=\"gray\")\n",
        "plt.show()"
      ]
    },
    {
      "cell_type": "code",
      "execution_count": 65,
      "metadata": {
        "id": "nsTG-VsMs1x-"
      },
      "outputs": [],
      "source": [
        "from torch import nn\n",
        "class NeuralNetwork(nn.Module):\n",
        "    def __init__(self):\n",
        "        super(NeuralNetwork, self).__init__()\n",
        "        self.flatten = nn.Flatten()\n",
        "        self.linear_relu_stack = nn.Sequential(\n",
        "            nn.Linear(28*28, 512),\n",
        "            nn.ReLU(),\n",
        "            nn.Linear(512, 512),\n",
        "            nn.ReLU(),\n",
        "            nn.Linear(512, 10),\n",
        "            nn.ReLU()\n",
        "        )\n",
        "\n",
        "    def forward(self, x):\n",
        "        x = self.flatten(x)\n",
        "        logits = self.linear_relu_stack(x)\n",
        "        return logits"
      ]
    },
    {
      "cell_type": "code",
      "execution_count": 66,
      "metadata": {
        "colab": {
          "base_uri": "https://localhost:8080/"
        },
        "id": "cE1ZUsxls9Wt",
        "outputId": "80d99501-023f-4071-c314-acf7d2d7fb1a"
      },
      "outputs": [
        {
          "name": "stdout",
          "output_type": "stream",
          "text": [
            "NeuralNetwork(\n",
            "  (flatten): Flatten(start_dim=1, end_dim=-1)\n",
            "  (linear_relu_stack): Sequential(\n",
            "    (0): Linear(in_features=784, out_features=512, bias=True)\n",
            "    (1): ReLU()\n",
            "    (2): Linear(in_features=512, out_features=512, bias=True)\n",
            "    (3): ReLU()\n",
            "    (4): Linear(in_features=512, out_features=10, bias=True)\n",
            "    (5): ReLU()\n",
            "  )\n",
            ")\n",
            "Predicted class: tensor([3])\n"
          ]
        }
      ],
      "source": [
        "device = \"cpu\"\n",
        "\n",
        "model = NeuralNetwork().to(device)\n",
        "print(model)\n",
        "\n",
        "X = torch.rand(1, 28, 28, device=device)\n",
        "logits = model(X)\n",
        "pred_probab = nn.Softmax(dim=1)(logits)\n",
        "y_pred = pred_probab.argmax(1)\n",
        "print(f\"Predicted class: {y_pred}\")"
      ]
    },
    {
      "cell_type": "code",
      "execution_count": 67,
      "metadata": {
        "colab": {
          "base_uri": "https://localhost:8080/"
        },
        "id": "XS2DcrdHtBE6",
        "outputId": "77e113b0-c3a6-4cf3-a374-f46fcefb6a22"
      },
      "outputs": [
        {
          "name": "stdout",
          "output_type": "stream",
          "text": [
            "torch.Size([3, 28, 28])\n",
            "torch.Size([3, 784])\n",
            "torch.Size([3, 20])\n"
          ]
        }
      ],
      "source": [
        "input_image = torch.rand(3,28,28)\n",
        "print(input_image.size())\n",
        "\n",
        "flatten = nn.Flatten()\n",
        "flat_image = flatten(input_image)\n",
        "print(flat_image.size())\n",
        "\n",
        "layer1 = nn.Linear(in_features=28*28, out_features=20)\n",
        "hidden1 = layer1(flat_image)\n",
        "print(hidden1.size())"
      ]
    },
    {
      "cell_type": "code",
      "execution_count": 68,
      "metadata": {
        "id": "Jo-Q89LbtMqX"
      },
      "outputs": [],
      "source": [
        "x = torch.ones(5)  # input tensor\n",
        "y = torch.zeros(3)  # expected output\n",
        "w = torch.randn(5, 3, requires_grad=True)\n",
        "b = torch.randn(3, requires_grad=True)\n",
        "z = torch.matmul(x, w)+b\n",
        "loss = torch.nn.functional.binary_cross_entropy_with_logits(z, y)"
      ]
    },
    {
      "cell_type": "code",
      "execution_count": 69,
      "metadata": {
        "colab": {
          "base_uri": "https://localhost:8080/"
        },
        "id": "VNnkoB7FtQhA",
        "outputId": "5f895ac2-4f20-44be-e592-905fba2d99a8"
      },
      "outputs": [
        {
          "name": "stdout",
          "output_type": "stream",
          "text": [
            "Gradient function for z = <AddBackward0 object at 0x0000024939B0BF10>\n",
            "Gradient function for loss = <BinaryCrossEntropyWithLogitsBackward0 object at 0x0000024939B0BDF0>\n",
            "tensor([[0.0527, 0.0099, 0.3289],\n",
            "        [0.0527, 0.0099, 0.3289],\n",
            "        [0.0527, 0.0099, 0.3289],\n",
            "        [0.0527, 0.0099, 0.3289],\n",
            "        [0.0527, 0.0099, 0.3289]])\n",
            "tensor([0.0527, 0.0099, 0.3289])\n"
          ]
        }
      ],
      "source": [
        "print('Gradient function for z =',z.grad_fn)\n",
        "print('Gradient function for loss =', loss.grad_fn)\n",
        "loss.backward()\n",
        "print(w.grad)\n",
        "print(b.grad)"
      ]
    },
    {
      "cell_type": "code",
      "execution_count": 70,
      "metadata": {
        "colab": {
          "base_uri": "https://localhost:8080/"
        },
        "id": "SxNPOoX4tUja",
        "outputId": "8ff8d8f0-b2fc-4dd4-c8a6-3b70e16ef814"
      },
      "outputs": [
        {
          "name": "stdout",
          "output_type": "stream",
          "text": [
            "True\n",
            "False\n"
          ]
        }
      ],
      "source": [
        "z = torch.matmul(x, w)+b\n",
        "print(z.requires_grad)\n",
        "\n",
        "with torch.no_grad():\n",
        "    z = torch.matmul(x, w)+b\n",
        "print(z.requires_grad)"
      ]
    },
    {
      "cell_type": "code",
      "execution_count": 71,
      "metadata": {
        "id": "oflStLcbtlOR"
      },
      "outputs": [],
      "source": [
        "def train_loop(dataloader, model, loss_fn, optimizer):\n",
        "    size = len(dataloader.dataset)\n",
        "    for batch, (X, y) in enumerate(dataloader):\n",
        "        # Compute prediction and loss\n",
        "        pred = model(X)\n",
        "        loss = loss_fn(pred, y)\n",
        "\n",
        "        # Backpropagation\n",
        "        optimizer.zero_grad()\n",
        "        loss.backward()\n",
        "        optimizer.step()\n",
        "\n",
        "        if batch % 100 == 0:\n",
        "            loss, current = loss.item(), batch * len(X)\n",
        "            print(f\"loss: {loss:>7f}  [{current:>5d}/{size:>5d}]\")\n",
        "\n",
        "\n",
        "def test_loop(dataloader, model, loss_fn):\n",
        "    size = len(dataloader.dataset)\n",
        "    num_batches = len(dataloader)\n",
        "    test_loss, correct = 0, 0\n",
        "\n",
        "    with torch.no_grad():\n",
        "        for X, y in dataloader:\n",
        "            pred = model(X)\n",
        "            test_loss += loss_fn(pred, y).item()\n",
        "            correct += (pred.argmax(1) == y).type(torch.float).sum().item()\n",
        "\n",
        "    test_loss /= num_batches\n",
        "    correct /= size\n",
        "    print(f\"Test Error: \\n Accuracy: {(100*correct):>0.1f}%, Avg loss: {test_loss:>8f} \\n\")"
      ]
    },
    {
      "cell_type": "code",
      "execution_count": 72,
      "metadata": {
        "colab": {
          "base_uri": "https://localhost:8080/"
        },
        "id": "JHKFEmSKtomx",
        "outputId": "893e8a18-b5c3-4d5f-e4fa-e5ba03fa4f22"
      },
      "outputs": [
        {
          "name": "stdout",
          "output_type": "stream",
          "text": [
            "Epoch 1\n",
            "-------------------------------\n",
            "loss: 2.297958  [    0/60000]\n",
            "loss: 1.394587  [ 6400/60000]\n",
            "loss: 1.276299  [12800/60000]\n",
            "loss: 1.704265  [19200/60000]\n",
            "loss: 1.464753  [25600/60000]\n",
            "loss: 1.369066  [32000/60000]\n",
            "loss: 1.484664  [38400/60000]\n",
            "loss: 1.386333  [44800/60000]\n",
            "loss: 1.309383  [51200/60000]\n",
            "loss: 1.611396  [57600/60000]\n",
            "Test Error: \n",
            " Accuracy: 55.8%, Avg loss: 1.225588 \n",
            "\n",
            "Epoch 2\n",
            "-------------------------------\n",
            "loss: 0.947898  [    0/60000]\n",
            "loss: 0.983876  [ 6400/60000]\n",
            "loss: 1.062283  [12800/60000]\n",
            "loss: 1.355248  [19200/60000]\n",
            "loss: 1.082766  [25600/60000]\n",
            "loss: 1.150000  [32000/60000]\n",
            "loss: 1.247969  [38400/60000]\n",
            "loss: 1.255364  [44800/60000]\n",
            "loss: 1.126085  [51200/60000]\n",
            "loss: 1.602336  [57600/60000]\n",
            "Test Error: \n",
            " Accuracy: 56.0%, Avg loss: 1.203128 \n",
            "\n",
            "Epoch 3\n",
            "-------------------------------\n",
            "loss: 0.921981  [    0/60000]\n",
            "loss: 0.958183  [ 6400/60000]\n",
            "loss: 1.000998  [12800/60000]\n",
            "loss: 1.303448  [19200/60000]\n",
            "loss: 1.076474  [25600/60000]\n",
            "loss: 1.194505  [32000/60000]\n",
            "loss: 1.207298  [38400/60000]\n",
            "loss: 1.162580  [44800/60000]\n",
            "loss: 1.091805  [51200/60000]\n",
            "loss: 1.570572  [57600/60000]\n",
            "Test Error: \n",
            " Accuracy: 56.3%, Avg loss: 1.193075 \n",
            "\n",
            "Epoch 4\n",
            "-------------------------------\n",
            "loss: 0.886212  [    0/60000]\n",
            "loss: 0.961064  [ 6400/60000]\n",
            "loss: 0.984602  [12800/60000]\n",
            "loss: 1.269206  [19200/60000]\n",
            "loss: 1.006524  [25600/60000]\n",
            "loss: 1.180929  [32000/60000]\n",
            "loss: 1.192475  [38400/60000]\n",
            "loss: 1.131203  [44800/60000]\n",
            "loss: 1.088715  [51200/60000]\n",
            "loss: 1.539536  [57600/60000]\n",
            "Test Error: \n",
            " Accuracy: 56.6%, Avg loss: 1.186880 \n",
            "\n",
            "Epoch 5\n",
            "-------------------------------\n",
            "loss: 0.858914  [    0/60000]\n",
            "loss: 0.923350  [ 6400/60000]\n",
            "loss: 1.013227  [12800/60000]\n",
            "loss: 1.271958  [19200/60000]\n",
            "loss: 1.073885  [25600/60000]\n",
            "loss: 1.185864  [32000/60000]\n",
            "loss: 1.189324  [38400/60000]\n",
            "loss: 1.083884  [44800/60000]\n",
            "loss: 1.052004  [51200/60000]\n",
            "loss: 1.490051  [57600/60000]\n",
            "Test Error: \n",
            " Accuracy: 56.8%, Avg loss: 1.174770 \n",
            "\n",
            "Done!\n"
          ]
        }
      ],
      "source": [
        "learning_rate = 1e-3\n",
        "batch_size = 64\n",
        "epochs = 5\n",
        "\n",
        "loss_fn = nn.CrossEntropyLoss()\n",
        "# optimizer = torch.optim.SGD(model.parameters(), lr=learning_rate)\n",
        "# optimizer = torch.optim.RMSprop(model.parameters(), lr=learning_rate)\n",
        "# optimizer = torch.optim.Adagrad(model.parameters(), lr=learning_rate)\n",
        "optimizer = torch.optim.Adam(model.parameters(), lr=learning_rate)\n",
        "\n",
        "for t in range(epochs):\n",
        "    print(f\"Epoch {t+1}\\n-------------------------------\")\n",
        "    train_loop(train_dataloader, model, loss_fn, optimizer)\n",
        "    test_loop(test_dataloader, model, loss_fn)\n",
        "print(\"Done!\")"
      ]
    },
    {
      "cell_type": "code",
      "execution_count": null,
      "metadata": {
        "id": "zYK6kIkdj2vy"
      },
      "outputs": [],
      "source": []
    }
  ],
  "metadata": {
    "colab": {
      "collapsed_sections": [],
      "name": "module3_screencast5.ipynb",
      "provenance": []
    },
    "kernelspec": {
      "display_name": "cv",
      "language": "python",
      "name": "python3"
    },
    "language_info": {
      "codemirror_mode": {
        "name": "ipython",
        "version": 3
      },
      "file_extension": ".py",
      "mimetype": "text/x-python",
      "name": "python",
      "nbconvert_exporter": "python",
      "pygments_lexer": "ipython3",
      "version": "3.9.16"
    },
    "vscode": {
      "interpreter": {
        "hash": "c10ef8c5d34037a9a1f9c48ca236d04c61053852c1d6a43f18302876dc336c99"
      }
    }
  },
  "nbformat": 4,
  "nbformat_minor": 0
}
