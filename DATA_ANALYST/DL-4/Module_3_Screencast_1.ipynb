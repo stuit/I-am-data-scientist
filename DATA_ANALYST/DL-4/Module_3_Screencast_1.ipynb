{
  "cells": [
    {
      "cell_type": "markdown",
      "metadata": {
        "id": "G7gwJl2iiuse"
      },
      "source": [
        "#Необходимые вещи из прошлых ноутбуков"
      ]
    },
    {
      "cell_type": "code",
      "execution_count": 149,
      "metadata": {
        "id": "relevant-synthesis"
      },
      "outputs": [],
      "source": [
        "import numpy as np  \n",
        "\n",
        "import seaborn as sns"
      ]
    },
    {
      "cell_type": "code",
      "execution_count": 150,
      "metadata": {
        "id": "vqM-vtOkryqo"
      },
      "outputs": [],
      "source": [
        "np.random.seed(42)"
      ]
    },
    {
      "cell_type": "markdown",
      "metadata": {
        "id": "challenging-startup"
      },
      "source": [
        "Сгенерируем выборку:"
      ]
    },
    {
      "cell_type": "code",
      "execution_count": 151,
      "metadata": {
        "id": "QWfPweCVpEgP"
      },
      "outputs": [],
      "source": [
        "def linear_func(x):\n",
        "    target_k = -3\n",
        "    target_b = 10\n",
        "    return target_k * x + target_b\n",
        "\n",
        "def linear_func2(x):\n",
        "    target_k = 5\n",
        "    target_b = -2\n",
        "    return target_k * x + target_b"
      ]
    },
    {
      "cell_type": "code",
      "execution_count": 152,
      "metadata": {
        "colab": {
          "base_uri": "https://localhost:8080/"
        },
        "id": "posted-breakdown",
        "outputId": "458ef0ad-939f-4526-cd64-7c66c6944ff1"
      },
      "outputs": [
        {
          "name": "stdout",
          "output_type": "stream",
          "text": [
            "[0.  0.1 0.2 0.3 0.4 0.5 0.6 0.7 0.8 0.9 1. ]\n"
          ]
        }
      ],
      "source": [
        "xes = np.linspace(0, 1, 11)\n",
        "\n",
        "print(xes)"
      ]
    },
    {
      "cell_type": "code",
      "execution_count": 153,
      "metadata": {
        "colab": {
          "base_uri": "https://localhost:8080/"
        },
        "id": "lSkmrafussNu",
        "outputId": "b8693b58-74ce-460c-9901-86cabd6f4b96"
      },
      "outputs": [
        {
          "name": "stdout",
          "output_type": "stream",
          "text": [
            "[10.   9.7  9.4  9.1  8.8  8.5  8.2  7.9  7.6  7.3  7. ]\n"
          ]
        }
      ],
      "source": [
        "target_ys = np.array([linear_func(x) for x in xes])\n",
        "print(target_ys)"
      ]
    },
    {
      "cell_type": "code",
      "execution_count": 154,
      "metadata": {
        "colab": {
          "base_uri": "https://localhost:8080/"
        },
        "id": "hWUSfJYessYU",
        "outputId": "2b9dc1f6-6040-41df-d6c6-07d490f26d20"
      },
      "outputs": [
        {
          "name": "stdout",
          "output_type": "stream",
          "text": [
            "[10.04967142  9.68617357  9.46476885  9.25230299  8.77658466  8.4765863\n",
            "  8.35792128  7.97674347  7.55305256  7.354256    6.95365823]\n"
          ]
        }
      ],
      "source": [
        "noise = np.random.normal(0, 0.1, 11)\n",
        "noisy_target_ys = target_ys + noise\n",
        "\n",
        "print(noisy_target_ys)"
      ]
    },
    {
      "cell_type": "code",
      "execution_count": 155,
      "metadata": {
        "colab": {
          "base_uri": "https://localhost:8080/",
          "height": 282
        },
        "id": "plain-boxing",
        "outputId": "d15a9459-94b3-47a3-aa6c-e2a0291e7366"
      },
      "outputs": [
        {
          "data": {
            "text/plain": [
              "<AxesSubplot: >"
            ]
          },
          "execution_count": 155,
          "metadata": {},
          "output_type": "execute_result"
        },
        {
          "data": {
            "image/png": "[encoded data removed]",
            "text/plain": [
              "<Figure size 640x480 with 1 Axes>"
            ]
          },
          "metadata": {},
          "output_type": "display_data"
        }
      ],
      "source": [
        "sns.lineplot(x = xes, y = target_ys, color = \"g\")\n",
        "sns.lineplot(x = xes, y = noisy_target_ys, color = \"b\")\n"
      ]
    },
    {
      "cell_type": "markdown",
      "metadata": {
        "id": "8OPBOU2AiyJj"
      },
      "source": [
        "#Начало нового материала"
      ]
    },
    {
      "cell_type": "markdown",
      "metadata": {
        "id": "norwegian-modeling"
      },
      "source": [
        "Переходим к более сложным конструкциям — несколько входных параметров, несколько нейронов."
      ]
    },
    {
      "cell_type": "markdown",
      "metadata": {
        "id": "1GcH9ktNTG0w"
      },
      "source": [
        "Создадим линейный слой — основной элемент нашей сети."
      ]
    },
    {
      "cell_type": "code",
      "execution_count": 156,
      "metadata": {
        "id": "iMbq_sQYnaOI"
      },
      "outputs": [],
      "source": [
        "class SimpleLinearLayer:\n",
        "    def __init__(self, input_size, output_size):\n",
        "        \n",
        "        self.input_size = input_size\n",
        "        self.output_size = output_size\n",
        "        \n",
        "        self.W = np.random.random_sample((output_size, input_size)) * 2 - 1\n",
        "        self.b = np.random.random_sample((output_size,)) * 2 - 1\n",
        "            \n",
        "        self.grad_W = np.zeros((output_size, input_size))\n",
        "        self.grad_b = np.zeros((output_size,))\n",
        "        \n",
        "    def forward(self, x):\n",
        "        h = self.W @ x + self.b \n",
        "        return h\n",
        "    \n",
        "    def backward(self, delta_next, w_next):\n",
        "        return w_next.T @ delta_next\n",
        "\n",
        "    def backward_as_last_layer(self, loss_der):\n",
        "        return loss_der\n",
        "    \n",
        "    def clear_grad(self):\n",
        "        self.grad_W = np.zeros((self.output_size, self.input_size))\n",
        "        self.grad_b = np.zeros((self.output_size,))"
      ]
    },
    {
      "cell_type": "code",
      "execution_count": 157,
      "metadata": {
        "id": "VB46-F5cNBF4"
      },
      "outputs": [],
      "source": [
        "import tqdm\n",
        "\n",
        "\n",
        "class SimpleNN:\n",
        "    def __init__(self, structure, loss, loss_derivative):\n",
        "        self.structure = structure\n",
        "        self.layers = []\n",
        "        self.loss = loss\n",
        "        self.loss_derivative = loss_derivative\n",
        "        for i in range(1, len(structure)):\n",
        "            print(i, structure[i-1], structure[i])\n",
        "            self.layers.append(SimpleLinearLayer(structure[i-1], structure[i]))\n",
        "        \n",
        "    def apply(self, x):\n",
        "        h_array = [x]\n",
        "        for layer in self.layers:\n",
        "            h = layer.forward(h_array[-1])\n",
        "            h_array.append(h)\n",
        "        return h_array[-1]\n",
        "    \n",
        "    def forward(self, x):\n",
        "        h_array = [x]\n",
        "        for layer in self.layers:\n",
        "            h = layer.forward(h_array[-1])\n",
        "            h_array.append(h)\n",
        "        return h_array\n",
        "    \n",
        "    def clear_grad_values(self):\n",
        "        for layer in self.layers:\n",
        "            layer.clear_grad()\n",
        "    \n",
        "    def train(self, X, y, iter_num = 500, alpha = 0.1):\n",
        "        cnt = 0\n",
        "        m = len(y)\n",
        "        avg_cost_func = []     \n",
        "        for _ in tqdm.tqdm(range(iter_num)):    \n",
        "            avg_cost = 0\n",
        "            self.clear_grad_values()\n",
        "            for i in range(len(y)):\n",
        "                # one sample per time\n",
        "                # forward\n",
        "                h = self.forward(X[i, :])\n",
        "\n",
        "                # backward pass\n",
        "                grads = {}\n",
        "                for layer_num, layer in reversed(list(enumerate(self.layers))):\n",
        "                    if layer_num == len(self.layers) - 1:\n",
        "                        loss_deriv = self.loss_derivative(h[-1], y[i,:])\n",
        "                        avg_cost += self.loss(h[-1], y[i,:])\n",
        "                        grads[layer_num] = layer.backward_as_last_layer(loss_deriv)\n",
        "                    else:\n",
        "                        grads[layer_num] = layer.backward(grads[layer_num+1], self.layers[layer_num+1].W)\n",
        "                    layer.grad_W += grads[layer_num][:,np.newaxis] @ np.transpose(h[layer_num][:,np.newaxis])\n",
        "                    layer.grad_b += grads[layer_num]\n",
        "                        \n",
        "            # update weights\n",
        "            for layer in self.layers:\n",
        "                layer.W -= alpha * (layer.grad_W / m)\n",
        "                layer.b -= alpha * (layer.grad_b / m)\n",
        "                \n",
        "            # complete the average cost calculation\n",
        "            avg_cost = avg_cost / m\n",
        "            avg_cost_func.append(avg_cost)\n",
        "            \n",
        "        return avg_cost_func"
      ]
    },
    {
      "cell_type": "markdown",
      "metadata": {
        "id": "haSUVQm_cNqy"
      },
      "source": [
        "Зададим метрики:"
      ]
    },
    {
      "cell_type": "code",
      "execution_count": 158,
      "metadata": {
        "id": "lv_DbhE9y8fC"
      },
      "outputs": [],
      "source": [
        "def MSE_loss(x, y):\n",
        "    return ((x-y) ** 2).mean()\n",
        "\n",
        "def MSE_loss_derivative(x, y):\n",
        "    return 2 * (x - y)"
      ]
    },
    {
      "cell_type": "markdown",
      "metadata": {
        "id": "SDNWBnv7cRWN"
      },
      "source": [
        "Реализуем обучение нашей модели:"
      ]
    },
    {
      "cell_type": "code",
      "execution_count": 159,
      "metadata": {
        "colab": {
          "base_uri": "https://localhost:8080/",
          "height": 332
        },
        "id": "4soTsununaIo",
        "outputId": "4402874e-476a-4db1-8d89-d091bb602595"
      },
      "outputs": [
        {
          "name": "stdout",
          "output_type": "stream",
          "text": [
            "1 1 4\n",
            "2 4 4\n",
            "3 4 1\n",
            "[1.70575389]\n"
          ]
        },
        {
          "name": "stderr",
          "output_type": "stream",
          "text": [
            "100%|██████████| 250/250 [00:00<00:00, 2226.17it/s]"
          ]
        },
        {
          "name": "stdout",
          "output_type": "stream",
          "text": [
            "0.014239096833848816\n",
            "[47.45942848654906, 25.932179008311717, 9.046808413220305, 2.2722465911692464, 1.5574711341405616, 1.4813929631817062, 1.4111998121951508, 1.3435876904633288, 1.278473593735937, 1.2157809726359257, 1.15543845453008, 1.0973791996706417, 1.0415403146023938, 0.9878623177031636, 0.9362886527498755, 0.8867652471109125, 0.8392401117413345, 0.7936629806200268, 0.7499849876305991, 0.7081583791623474, 0.6681362609045521, 0.6298723774365542, 0.5933209232866402, 0.5584363841537141, 0.5251734069657377, 0.49348669739638157, 0.46333094338463887, 0.4346607631092144, 0.4074306757681048, 0.38159509341103354, 0.35710833197500214, 0.33392463958705926, 0.3119982401284698, 0.2912833900051193, 0.27173444604315256, 0.25330594242880156, 0.23595267463807168, 0.2196297883555216, 0.20429287146084976, 0.1898980472656026, 0.1764020673076364, 0.16376240215468527, 0.15193732882717054, 0.1408860136202444, 0.1305685892820108, 0.12094622568510373, 0.11198119330827237, 0.10363691902006343, 0.09587803382470811, 0.08867041238834257, 0.08198120430938832, 0.07577885722858661, 0.07003313199057905, 0.06471511016936561, 0.05979719435411263, 0.05525310165985558, 0.051057850980095625, 0.04718774453598117, 0.04362034430074231, 0.04033444388954608, 0.03731003650533091, 0.03452827952191645, 0.03197145626816676, 0.029622935552722277, 0.027467129439118033, 0.025489449747310156, 0.02367626372092478, 0.022014849260982804, 0.02049335008742025, 0.01910073115022061, 0.01782673457310303, 0.016661836375049713, 0.015597204178961231, 0.014624656082745574, 0.013736620836444759, 0.012926099439734183, 0.012186628247407062, 0.011512243646293517, 0.010897448345454778, 0.01033717930236414, 0.009826777291038466, 0.009361958103605607, 0.008938785364420858, 0.008553644925445612, 0.008203220802994921, 0.007884472608998765, 0.007594614424425134, 0.007331095058338294, 0.007091579633047607, 0.0068739324338074805, 0.006676200960410749, 0.006496601117661368, 0.006333503481994692, 0.006185420582336353, 0.006050995134550389, 0.005928989170455407, 0.005818274004286409, 0.005717820981608553, 0.0056266929579704885, 0.005544036456978708, 0.0054690744599353025, 0.005401099781678771, 0.005339468989755639, 0.005283596826527564, 0.005232951096239546, 0.005187047981442563, 0.005145447755452542, 0.005107750859734832, 0.005073594317216434, 0.005042648454549757, 0.0050146139082653364, 0.004989218891573859, 0.004966216700290221, 0.004945383437969656, 0.004926515941864966, 0.004909429892733025, 0.004893958092850755, 0.004879948897837472, 0.00486726478903717, 0.00485578107428676, 0.004845384705890021, 0.004835973205542362, 0.004827453686802634, 0.004819741966497641, 0.004812761757173431, 0.00480644393337747, 0.004800725865173786, 0.004795550812862698, 0.004790867377397142, 0.0047866290014690225, 0.0047827935166783325, 0.004779322732602156, 0.004776182063947614, 0.004773340192315904, 0.004770768759409619, 0.004768442088800856, 0.004766336933636826, 0.004764432247893733, 0.004762708979008198, 0.004761149879909301, 0.004759739338656056, 0.004758463224048547, 0.00475730874572738, 0.004756264327416, 0.004755319492080832, 0.004754464757897315, 0.004753691544014547, 0.00475299208520032, 0.004752359354537076, 0.004751786993413654, 0.004751269248129034, 0.004750800912486395, 0.0047503772758163065, 0.004749994075916072, 0.004749647456445371, 0.004749333928355053, 0.004749050334972425, 0.0047487938203950196, 0.004748561800882404, 0.004748351938962041, 0.004748162119992987, 0.004747990430954662, 0.00474783514125029, 0.004747694685334614, 0.0047475676469924235, 0.00474745274511172, 0.004747348820810319, 0.004747254825786407, 0.004747169811778219, 0.004747092921026486, 0.004747023377644848, 0.004746960479812432, 0.004746903592709061, 0.004746852142124659, 0.0047468056086764, 0.004746763522577704, 0.004746725458905642, 0.004746691033319165, 0.004746659898185757, 0.004746631739077794, 0.004746606271602608, 0.004746583238534356, 0.004746562407221531, 0.0047465435672392284, 0.004746526528267079, 0.004746511118169387, 0.004746497181258279, 0.004746484576722545, 0.004746473177206821, 0.004746462867526217, 0.004746453543503598, 0.004746445110918107, 0.0047464374845535735, 0.0047464305873386875, 0.004746424349568375, 0.004746418708200042, 0.004746413606216821, 0.0047464089920521875, 0.004746404819068606, 0.004746401045086564, 0.004746397631958751, 0.004746394545184499, 0.004746391753561252, 0.004746389228869378, 0.0047463869455872205, 0.004746384880632773, 0.004746383013130771, 0.004746381324202058, 0.004746379796771912, 0.004746378415398535, 0.004746377166116523, 0.0047463760362952195, 0.004746375014512114, 0.0047463740904365136, 0.004746373254725644, 0.00474637249892992, 0.004746371815407823, 0.004746371197248285, 0.004746370638201162, 0.004746370132614018, 0.004746369675374754, 0.004746369261860104, 0.004746368887889034, 0.00474636854968002, 0.004746368243813343, 0.004746367967196288, 0.004746367717031776, 0.0047463674907903255, 0.004746367286184191, 0.00474636710114444, 0.00474636693379996, 0.004746366782458559, 0.00474636664558994, 0.004746366521810152, 0.00474636640986749, 0.0047463663086299, 0.004746366217073756, 0.004746366134273207, 0.004746366059390892, 0.004746365991669655, 0.004746365930424777, 0.004746365875036782, 0.004746365824945634, 0.004746365779644753, 0.004746365738676021, 0.00474636570162528, 0.004746365668117696, 0.004746365637814491, 0.004746365610409362, 0.004746365585624965]\n",
            "[3.96667974]\n"
          ]
        },
        {
          "name": "stderr",
          "output_type": "stream",
          "text": [
            "\n"
          ]
        },
        {
          "data": {
            "image/png": "[encoded data removed]",
            "text/plain": [
              "<Figure size 640x480 with 1 Axes>"
            ]
          },
          "metadata": {},
          "output_type": "display_data"
        }
      ],
      "source": [
        "N = SimpleNN([1,4,4,1], MSE_loss, MSE_loss_derivative)\n",
        "\n",
        "print(N.apply([1]))\n",
        "\n",
        "avg_cost_func = N.train(xes.reshape(-1, 1), noisy_target_ys.reshape(-1, 1), 250, 0.01)\n",
        "\n",
        "print(sum(avg_cost_func[-3:]))\n",
        "\n",
        "sns.lineplot(data=avg_cost_func)\n",
        "\n",
        "\n",
        "prediction = N.apply([2])\n",
        "print(prediction)"
      ]
    }
  ],
  "metadata": {
    "colab": {
      "name": "module3_screencast1",
      "provenance": []
    },
    "kernelspec": {
      "display_name": "base",
      "language": "python",
      "name": "python3"
    },
    "language_info": {
      "codemirror_mode": {
        "name": "ipython",
        "version": 3
      },
      "file_extension": ".py",
      "mimetype": "text/x-python",
      "name": "python",
      "nbconvert_exporter": "python",
      "pygments_lexer": "ipython3",
      "version": "3.9.15"
    },
    "vscode": {
      "interpreter": {
        "hash": "e1ee14927c398d5d175e65fb4700c164225c347e1a8003efb902fa79721cb9b9"
      }
    }
  },
  "nbformat": 4,
  "nbformat_minor": 0
}
