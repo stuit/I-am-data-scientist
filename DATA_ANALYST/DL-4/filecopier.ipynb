{
 "cells": [
  {
   "cell_type": "code",
   "execution_count": 6,
   "metadata": {},
   "outputs": [],
   "source": [
    "import os\n",
    "import sys\n",
    "import json\n",
    "import shutil"
   ]
  },
  {
   "cell_type": "code",
   "execution_count": 7,
   "metadata": {},
   "outputs": [],
   "source": [
    "jsonFilePath = 'D:/Projects/DataScience/OfficeDetect/data/raw_data/marked/via_region_data.json'\n",
    "imgFilePath = 'D:/Projects/DataScience/OfficeDetect/data/raw_data/marked/'\n",
    "trainImgFilePath = 'D:/Projects/DataScience/OfficeDetect/data/raw_data/marked/train'\n",
    "valImgFilePath = 'D:/Projects/DataScience/OfficeDetect/data/raw_data/marked/val'\n",
    "trainJsonFilePath = 'D:/Projects/DataScience/OfficeDetect/data/raw_data/marked/via_region_data_train.json'\n",
    "valJsonFilePath = 'D:/Projects/DataScience/OfficeDetect/data/raw_data/marked/via_region_data_val.json'"
   ]
  },
  {
   "cell_type": "code",
   "execution_count": 8,
   "metadata": {},
   "outputs": [],
   "source": [
    "f = open(trainJsonFilePath)\n",
    "data = json.load(f)\n",
    "for i in data['_via_img_metadata']:\n",
    "    imgname = data['_via_img_metadata'][i]['filename']\n",
    "    shutil.copy(f'{imgFilePath}/{imgname}', f'{trainImgFilePath}/{imgname}')"
   ]
  },
  {
   "cell_type": "code",
   "execution_count": 9,
   "metadata": {},
   "outputs": [],
   "source": [
    "f = open(valJsonFilePath)\n",
    "data = json.load(f)\n",
    "for i in data['_via_img_metadata']:\n",
    "    imgname = data['_via_img_metadata'][i]['filename']\n",
    "    shutil.copy(f'{imgFilePath}/{imgname}', f'{valImgFilePath}/{imgname}')"
   ]
  }
 ],
 "metadata": {
  "kernelspec": {
   "display_name": "Python 3",
   "language": "python",
   "name": "python3"
  },
  "language_info": {
   "codemirror_mode": {
    "name": "ipython",
    "version": 3
   },
   "file_extension": ".py",
   "mimetype": "text/x-python",
   "name": "python",
   "nbconvert_exporter": "python",
   "pygments_lexer": "ipython3",
   "version": "3.9.13"
  },
  "orig_nbformat": 4,
  "vscode": {
   "interpreter": {
    "hash": "59caf401a30ade1bf4a2834f87930d59529d9172f0fa68dc5cf91cbe3ee15e69"
   }
  }
 },
 "nbformat": 4,
 "nbformat_minor": 2
}
