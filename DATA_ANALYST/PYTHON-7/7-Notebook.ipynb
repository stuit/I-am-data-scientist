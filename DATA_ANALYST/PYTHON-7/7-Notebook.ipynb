{
 "metadata": {
  "language_info": {
   "codemirror_mode": {
    "name": "ipython",
    "version": 3
   },
   "file_extension": ".py",
   "mimetype": "text/x-python",
   "name": "python",
   "nbconvert_exporter": "python",
   "pygments_lexer": "ipython3",
   "version": "3.6.3-final"
  },
  "orig_nbformat": 2,
  "kernelspec": {
   "name": "python3",
   "display_name": "Python 3.6.3 64-bit ('.venv': venv)",
   "metadata": {
    "interpreter": {
     "hash": "a6730fb0a06c18af636869813f8eb69d9f4a51b49b9b87b39aeaf81c3d64a67b"
    }
   }
  }
 },
 "nbformat": 4,
 "nbformat_minor": 2,
 "cells": [
  {
   "cell_type": "code",
   "execution_count": 4,
   "metadata": {},
   "outputs": [
    {
     "output_type": "display_data",
     "data": {
      "text/plain": "      movieId                                      title  \\\n0           1                           Toy Story (1995)   \n1           2                             Jumanji (1995)   \n2           3                    Grumpier Old Men (1995)   \n3           4                   Waiting to Exhale (1995)   \n4           5         Father of the Bride Part II (1995)   \n...       ...                                        ...   \n9737   193581  Black Butler: Book of the Atlantic (2017)   \n9738   193583               No Game No Life: Zero (2017)   \n9739   193585                               Flint (2017)   \n9740   193587        Bungo Stray Dogs: Dead Apple (2018)   \n9741   193609        Andrew Dice Clay: Dice Rules (1991)   \n\n                                           genres  \n0     Adventure|Animation|Children|Comedy|Fantasy  \n1                      Adventure|Children|Fantasy  \n2                                  Comedy|Romance  \n3                            Comedy|Drama|Romance  \n4                                          Comedy  \n...                                           ...  \n9737              Action|Animation|Comedy|Fantasy  \n9738                     Animation|Comedy|Fantasy  \n9739                                        Drama  \n9740                             Action|Animation  \n9741                                       Comedy  \n\n[9742 rows x 3 columns]",
      "text/html": "<div>\n<style scoped>\n    .dataframe tbody tr th:only-of-type {\n        vertical-align: middle;\n    }\n\n    .dataframe tbody tr th {\n        vertical-align: top;\n    }\n\n    .dataframe thead th {\n        text-align: right;\n    }\n</style>\n<table border=\"1\" class=\"dataframe\">\n  <thead>\n    <tr style=\"text-align: right;\">\n      <th></th>\n      <th>movieId</th>\n      <th>title</th>\n      <th>genres</th>\n    </tr>\n  </thead>\n  <tbody>\n    <tr>\n      <th>0</th>\n      <td>1</td>\n      <td>Toy Story (1995)</td>\n      <td>Adventure|Animation|Children|Comedy|Fantasy</td>\n    </tr>\n    <tr>\n      <th>1</th>\n      <td>2</td>\n      <td>Jumanji (1995)</td>\n      <td>Adventure|Children|Fantasy</td>\n    </tr>\n    <tr>\n      <th>2</th>\n      <td>3</td>\n      <td>Grumpier Old Men (1995)</td>\n      <td>Comedy|Romance</td>\n    </tr>\n    <tr>\n      <th>3</th>\n      <td>4</td>\n      <td>Waiting to Exhale (1995)</td>\n      <td>Comedy|Drama|Romance</td>\n    </tr>\n    <tr>\n      <th>4</th>\n      <td>5</td>\n      <td>Father of the Bride Part II (1995)</td>\n      <td>Comedy</td>\n    </tr>\n    <tr>\n      <th>...</th>\n      <td>...</td>\n      <td>...</td>\n      <td>...</td>\n    </tr>\n    <tr>\n      <th>9737</th>\n      <td>193581</td>\n      <td>Black Butler: Book of the Atlantic (2017)</td>\n      <td>Action|Animation|Comedy|Fantasy</td>\n    </tr>\n    <tr>\n      <th>9738</th>\n      <td>193583</td>\n      <td>No Game No Life: Zero (2017)</td>\n      <td>Animation|Comedy|Fantasy</td>\n    </tr>\n    <tr>\n      <th>9739</th>\n      <td>193585</td>\n      <td>Flint (2017)</td>\n      <td>Drama</td>\n    </tr>\n    <tr>\n      <th>9740</th>\n      <td>193587</td>\n      <td>Bungo Stray Dogs: Dead Apple (2018)</td>\n      <td>Action|Animation</td>\n    </tr>\n    <tr>\n      <th>9741</th>\n      <td>193609</td>\n      <td>Andrew Dice Clay: Dice Rules (1991)</td>\n      <td>Comedy</td>\n    </tr>\n  </tbody>\n</table>\n<p>9742 rows × 3 columns</p>\n</div>"
     },
     "metadata": {}
    }
   ],
   "source": [
    "import pandas as pd\n",
    "\n",
    "movs = pd.read_csv(\"movies.csv\")\n",
    "display(movs)"
   ]
  },
  {
   "cell_type": "code",
   "execution_count": null,
   "metadata": {},
   "outputs": [],
   "source": [
    "rats = pd.read_csv(\"ratings.csv\")\n",
    "display(rats)"
   ]
  }
 ]
}