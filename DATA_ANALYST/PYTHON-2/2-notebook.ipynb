{
 "cells": [
  {
   "cell_type": "code",
   "execution_count": 1,
   "metadata": {},
   "outputs": [
    {
     "name": "stdout",
     "output_type": "stream",
     "text": [
      "кошка\n",
      "хомяк\n",
      "морская свинка\n"
     ]
    }
   ],
   "source": [
    "animals = ['кошка', 'собака', 'хомяк', 'морская свинка', 'попугай', 'лошадь']\n",
    "print(animals[0])\n",
    "print(animals[2])\n",
    "print(animals[3])"
   ]
  },
  {
   "cell_type": "code",
   "execution_count": 4,
   "metadata": {},
   "outputs": [
    {
     "data": {
      "text/plain": [
       "['глаза', 'уши', 'рот', 'нос']"
      ]
     },
     "execution_count": 4,
     "metadata": {},
     "output_type": "execute_result"
    }
   ],
   "source": [
    "body = ['голова', 'руки', 'ноги', 'глаза', 'уши', 'рот', 'нос', 'туловище']\n",
    "body[3:7]\n",
    "body[-3:7]\n",
    "body[-5:7]"
   ]
  },
  {
   "cell_type": "code",
   "execution_count": 6,
   "metadata": {},
   "outputs": [
    {
     "data": {
      "text/plain": [
       "['глаза', 'уши', 'рот', 'нос']"
      ]
     },
     "execution_count": 6,
     "metadata": {},
     "output_type": "execute_result"
    }
   ],
   "source": [
    "body[-5:-1]"
   ]
  },
  {
   "cell_type": "code",
   "execution_count": 7,
   "metadata": {},
   "outputs": [
    {
     "data": {
      "text/plain": [
       "[]"
      ]
     },
     "execution_count": 7,
     "metadata": {},
     "output_type": "execute_result"
    }
   ],
   "source": [
    "body[-1:-5]"
   ]
  },
  {
   "cell_type": "code",
   "execution_count": 8,
   "metadata": {},
   "outputs": [
    {
     "ename": "SyntaxError",
     "evalue": "invalid syntax (<ipython-input-8-e0c2f170d9bc>, line 1)",
     "output_type": "error",
     "traceback": [
      "\u001b[1;36m  File \u001b[1;32m\"<ipython-input-8-e0c2f170d9bc>\"\u001b[1;36m, line \u001b[1;32m1\u001b[0m\n\u001b[1;33m    body(3:-1)\u001b[0m\n\u001b[1;37m          ^\u001b[0m\n\u001b[1;31mSyntaxError\u001b[0m\u001b[1;31m:\u001b[0m invalid syntax\n"
     ]
    }
   ],
   "source": [
    "body(3:-1)"
   ]
  },
  {
   "cell_type": "code",
   "execution_count": 9,
   "metadata": {},
   "outputs": [
    {
     "data": {
      "text/plain": [
       "'туловище'"
      ]
     },
     "execution_count": 9,
     "metadata": {},
     "output_type": "execute_result"
    }
   ],
   "source": [
    "body[-1]"
   ]
  },
  {
   "cell_type": "code",
   "execution_count": 10,
   "metadata": {},
   "outputs": [
    {
     "data": {
      "text/plain": [
       "['туловище']"
      ]
     },
     "execution_count": 10,
     "metadata": {},
     "output_type": "execute_result"
    }
   ],
   "source": [
    "body[-1:]"
   ]
  },
  {
   "cell_type": "code",
   "execution_count": 11,
   "metadata": {},
   "outputs": [
    {
     "data": {
      "text/plain": [
       "['туловище']"
      ]
     },
     "execution_count": 11,
     "metadata": {},
     "output_type": "execute_result"
    }
   ],
   "source": [
    "body[7:]"
   ]
  },
  {
   "cell_type": "code",
   "execution_count": 12,
   "metadata": {},
   "outputs": [
    {
     "data": {
      "text/plain": [
       "[]"
      ]
     },
     "execution_count": 12,
     "metadata": {},
     "output_type": "execute_result"
    }
   ],
   "source": [
    "body[7:-1]"
   ]
  },
  {
   "cell_type": "code",
   "execution_count": 13,
   "metadata": {},
   "outputs": [
    {
     "data": {
      "text/plain": [
       "['голова', 'руки', 'ноги', 'глаза', 'уши', 'рот', 'нос', 'туловище']"
      ]
     },
     "execution_count": 13,
     "metadata": {},
     "output_type": "execute_result"
    }
   ],
   "source": [
    "body"
   ]
  },
  {
   "cell_type": "code",
   "execution_count": 14,
   "metadata": {},
   "outputs": [
    {
     "data": {
      "text/plain": [
       "['голова', 'руки', 'ноги', 'глаза', 'уши', 'рот', 'нос', 'туловище']"
      ]
     },
     "execution_count": 14,
     "metadata": {},
     "output_type": "execute_result"
    }
   ],
   "source": [
    "body[:]"
   ]
  },
  {
   "cell_type": "code",
   "execution_count": 15,
   "metadata": {},
   "outputs": [
    {
     "data": {
      "text/plain": [
       "['руки', 'ноги', 'глаза', 'уши', 'рот', 'нос', 'туловище']"
      ]
     },
     "execution_count": 15,
     "metadata": {},
     "output_type": "execute_result"
    }
   ],
   "source": [
    "body[1:]"
   ]
  },
  {
   "cell_type": "code",
   "execution_count": 16,
   "metadata": {},
   "outputs": [
    {
     "data": {
      "text/plain": [
       "['руки', 'ноги', 'глаза', 'уши', 'рот', 'нос']"
      ]
     },
     "execution_count": 16,
     "metadata": {},
     "output_type": "execute_result"
    }
   ],
   "source": [
    "body[1:7]"
   ]
  },
  {
   "cell_type": "code",
   "execution_count": 17,
   "metadata": {},
   "outputs": [
    {
     "data": {
      "text/plain": [
       "['руки', 'ноги', 'глаза', 'уши', 'рот', 'нос', 'туловище']"
      ]
     },
     "execution_count": 17,
     "metadata": {},
     "output_type": "execute_result"
    }
   ],
   "source": [
    "body[1:8]"
   ]
  },
  {
   "cell_type": "code",
   "execution_count": 18,
   "metadata": {},
   "outputs": [],
   "source": [
    "sparta = ['Иванов', 'Петров', 'Сидоров', 'Зайцев', 'Дятлов', \n",
    "          'Козлов', 'Лисичкин', 'Огурцов', 'Капустин', 'Арбузов']"
   ]
  },
  {
   "cell_type": "code",
   "execution_count": 20,
   "metadata": {},
   "outputs": [
    {
     "data": {
      "text/plain": [
       "['Иванов', 'Сидоров', 'Дятлов', 'Лисичкин', 'Капустин']"
      ]
     },
     "execution_count": 20,
     "metadata": {},
     "output_type": "execute_result"
    }
   ],
   "source": [
    "sparta[0:9:2]"
   ]
  },
  {
   "cell_type": "code",
   "execution_count": 22,
   "metadata": {},
   "outputs": [
    {
     "data": {
      "text/plain": [
       "['Петров', 'Дятлов', 'Огурцов']"
      ]
     },
     "execution_count": 22,
     "metadata": {},
     "output_type": "execute_result"
    }
   ],
   "source": [
    "sparta[1:10:3]"
   ]
  },
  {
   "cell_type": "code",
   "execution_count": 23,
   "metadata": {},
   "outputs": [
    {
     "data": {
      "text/plain": [
       "['Иванов', 'Козлов']"
      ]
     },
     "execution_count": 23,
     "metadata": {},
     "output_type": "execute_result"
    }
   ],
   "source": [
    "sparta[0:10:5]"
   ]
  },
  {
   "cell_type": "code",
   "execution_count": 24,
   "metadata": {},
   "outputs": [
    {
     "data": {
      "text/plain": [
       "['Арбузов', 'Лисичкин', 'Зайцев', 'Иванов']"
      ]
     },
     "execution_count": 24,
     "metadata": {},
     "output_type": "execute_result"
    }
   ],
   "source": [
    "sparta[::-3]"
   ]
  },
  {
   "cell_type": "code",
   "execution_count": 25,
   "metadata": {},
   "outputs": [
    {
     "data": {
      "text/plain": [
       "['Капустин', 'Козлов', 'Сидоров']"
      ]
     },
     "execution_count": 25,
     "metadata": {},
     "output_type": "execute_result"
    }
   ],
   "source": [
    "sparta[-2:1:-3]"
   ]
  },
  {
   "cell_type": "code",
   "execution_count": 26,
   "metadata": {},
   "outputs": [
    {
     "name": "stdout",
     "output_type": "stream",
     "text": [
      "[66500.0, 95000.0, 123500.0, 93100.0, 104500.0]\n"
     ]
    }
   ],
   "source": [
    "old_salary = [35000, 50000, 65000, 49000, 55000]\n",
    "new_salary = []\n",
    "for salary in old_salary:\n",
    "    new_salary.append(salary * 1.9)\n",
    "\n",
    "print(new_salary)"
   ]
  },
  {
   "cell_type": "code",
   "execution_count": 27,
   "metadata": {},
   "outputs": [
    {
     "name": "stdout",
     "output_type": "stream",
     "text": [
      "[10, 29, 31, 65, 87, 90, 100]\n"
     ]
    }
   ],
   "source": [
    "my_list = [10, 65, 31, 29, 90, 87, 100]\n",
    "my_list.sort()\n",
    "print(my_list)"
   ]
  },
  {
   "cell_type": "code",
   "execution_count": 29,
   "metadata": {},
   "outputs": [
    {
     "name": "stdout",
     "output_type": "stream",
     "text": [
      "[100, 90, 87, 65, 31, 29, 10]\n"
     ]
    }
   ],
   "source": [
    "my_list = [10, 65, 31, 29, 90, 87, 100]\n",
    "my_list.sort(reverse = True)\n",
    "print(my_list)"
   ]
  },
  {
   "cell_type": "code",
   "execution_count": 30,
   "metadata": {},
   "outputs": [
    {
     "name": "stdout",
     "output_type": "stream",
     "text": [
      "['апельсин', 'банан', 'вишня', 'груша', 'дыня']\n"
     ]
    }
   ],
   "source": [
    "my_list = ['банан', 'дыня', 'апельсин', 'груша', 'вишня']\n",
    "my_list.sort(reverse = False)\n",
    "print(my_list)"
   ]
  },
  {
   "cell_type": "code",
   "execution_count": 31,
   "metadata": {},
   "outputs": [
    {
     "name": "stdout",
     "output_type": "stream",
     "text": [
      "29000\n"
     ]
    }
   ],
   "source": [
    "salary = [100000, 45000, 78000, 29000, 55000, 60000]\n",
    "lowest_salary = min(salary)\n",
    "print(lowest_salary) "
   ]
  },
  {
   "cell_type": "code",
   "execution_count": 32,
   "metadata": {},
   "outputs": [
    {
     "name": "stdout",
     "output_type": "stream",
     "text": [
      "100000\n"
     ]
    }
   ],
   "source": [
    "salary = [100000, 45000, 78000, 29000, 55000, 60000]\n",
    "highest_salary = max(salary)\n",
    "print(highest_salary) "
   ]
  },
  {
   "cell_type": "code",
   "execution_count": 33,
   "metadata": {},
   "outputs": [
    {
     "name": "stdout",
     "output_type": "stream",
     "text": [
      "3\n"
     ]
    }
   ],
   "source": [
    "my_friends = ['Дмитрий', 'Евгений', 'Елена', 'Михаил', 'Елена', 'Татьяна', 'Антон', 'Елена']\n",
    "popular_name = my_friends.count('Елена')\n",
    "print(popular_name) "
   ]
  },
  {
   "cell_type": "code",
   "execution_count": 34,
   "metadata": {},
   "outputs": [
    {
     "name": "stdout",
     "output_type": "stream",
     "text": [
      "590\n"
     ]
    }
   ],
   "source": [
    "my_list = [1, 10, 45, 31, 12, 54, 111, 398, 97, 63]\n",
    "my_list.sort(reverse = True)\n",
    "new_list = my_list[::2]\n",
    "result = 0\n",
    "for number in new_list:\n",
    "    result += number\n",
    "print(result)"
   ]
  },
  {
   "cell_type": "code",
   "execution_count": 35,
   "metadata": {},
   "outputs": [
    {
     "data": {
      "text/plain": [
       "[1024, 512, 256, 128, 64, 32, 16, 8, 4, 2, 1]"
      ]
     },
     "execution_count": 35,
     "metadata": {},
     "output_type": "execute_result"
    }
   ],
   "source": [
    "my_list = [1]\n",
    "for i in range(10):\n",
    "    my_list.append(my_list[i] * 2)\n",
    "my_list.sort(reverse = True)\n",
    "my_list"
   ]
  },
  {
   "cell_type": "code",
   "execution_count": 36,
   "metadata": {},
   "outputs": [
    {
     "data": {
      "text/plain": [
       "['яблоко',\n",
       " 'банан',\n",
       " 'апельсин',\n",
       " 'баклажан',\n",
       " 'перец',\n",
       " 'помидор',\n",
       " 'арбуз',\n",
       " 'ананас']"
      ]
     },
     "execution_count": 36,
     "metadata": {},
     "output_type": "execute_result"
    }
   ],
   "source": [
    "'яблоко банан апельсин баклажан перец помидор арбуз ананас'.split()"
   ]
  },
  {
   "cell_type": "code",
   "execution_count": 38,
   "metadata": {},
   "outputs": [
    {
     "data": {
      "text/plain": [
       "['а', 'а', 'а', 'б', 'б', 'п', 'п', 'я']"
      ]
     },
     "execution_count": 38,
     "metadata": {},
     "output_type": "execute_result"
    }
   ],
   "source": [
    "fruits = 'яблоко банан апельсин баклажан перец помидор арбуз ананас'.split()\n",
    "my_list = []\n",
    "for fruit in fruits:\n",
    "    my_list.append(fruit[0])\n",
    "my_list.sort()\n",
    "my_list"
   ]
  },
  {
   "cell_type": "code",
   "execution_count": 39,
   "metadata": {},
   "outputs": [
    {
     "data": {
      "text/plain": [
       "True"
      ]
     },
     "execution_count": 39,
     "metadata": {},
     "output_type": "execute_result"
    }
   ],
   "source": [
    "my_list.count(my_list[0]) == 3"
   ]
  },
  {
   "cell_type": "code",
   "execution_count": 55,
   "metadata": {},
   "outputs": [
    {
     "name": "stdout",
     "output_type": "stream",
     "text": [
      "[1, 2, 3, 4, 5, 6, 7, 8, 9, 10, 11, 12, 13, 14, 15, 16, 17, 18, 19, 20, 21, 22, 23, 24, 25, 26, 27, 28, 29, 30, 31, 32, 33, 34, 35, 36, 37, 38, 39, 40, 41, 42, 43, 44, 45, 46, 47, 48, 49]\n",
      "[3, 6, 9, 12, 15, 18, 21, 24, 27, 30, 33, 36, 39, 42, 45, 48]\n"
     ]
    },
    {
     "data": {
      "text/plain": [
       "408"
      ]
     },
     "execution_count": 55,
     "metadata": {},
     "output_type": "execute_result"
    }
   ],
   "source": [
    "my_list = []\n",
    "temp = 0\n",
    "for i in range(1, 50):\n",
    "    my_list.append(i)\n",
    "print(my_list)\n",
    "print(my_list[2::3])\n",
    "for num in my_list[2::3]:\n",
    "    temp += num\n",
    "result=temp\n",
    "result"
   ]
  },
  {
   "cell_type": "code",
   "execution_count": 62,
   "metadata": {},
   "outputs": [
    {
     "data": {
      "text/plain": [
       "15"
      ]
     },
     "execution_count": 62,
     "metadata": {},
     "output_type": "execute_result"
    }
   ],
   "source": [
    "raw_list = ['переменные', 'циклы', 'условия', 'списки', 'словари', 'файлы', 'функции']\n",
    "my_list = []\n",
    "for raw in raw_list:\n",
    "    my_list.append(len(raw))\n",
    "result = min(my_list)+max(my_list)\n",
    "result"
   ]
  },
  {
   "cell_type": "code",
   "execution_count": 65,
   "metadata": {},
   "outputs": [
    {
     "name": "stdout",
     "output_type": "stream",
     "text": [
      "[4, 16, 20, 1633, 128, 3479, 781, 104, 5041, 28]\n",
      "5041\n"
     ]
    }
   ],
   "source": [
    "raw_list = [2, 8, 10, 23, 64, 49, 11, 52, 71, 14]\n",
    "x_min = min(raw_list)\n",
    "x_max = max(raw_list)\n",
    "my_list = []\n",
    "for num in raw_list:\n",
    "    if num%2==0:\n",
    "        my_list.append(num*x_min)\n",
    "    else:\n",
    "        my_list.append(num*x_max)\n",
    "result=max(my_list)\n",
    "print(my_list)\n",
    "print(result)"
   ]
  },
  {
   "cell_type": "code",
   "execution_count": 67,
   "metadata": {},
   "outputs": [
    {
     "data": {
      "text/plain": [
       "[1, 3, 5, 7, 9, 11, 13, 15, 17, 19, 21, 23]"
      ]
     },
     "execution_count": 67,
     "metadata": {},
     "output_type": "execute_result"
    }
   ],
   "source": [
    "my_list = [x for x in range(1, 25, 2)]\n",
    "my_list"
   ]
  },
  {
   "cell_type": "code",
   "execution_count": 68,
   "metadata": {},
   "outputs": [
    {
     "data": {
      "text/plain": [
       "[15, 30, 45, 60, 75, 90]"
      ]
     },
     "execution_count": 68,
     "metadata": {},
     "output_type": "execute_result"
    }
   ],
   "source": [
    "my_list = [x for x in range(10, 100) if x%3 == 0 and x%5 == 0]\n",
    "my_list"
   ]
  },
  {
   "cell_type": "code",
   "execution_count": 69,
   "metadata": {},
   "outputs": [
    {
     "data": {
      "text/plain": [
       "[1,\n",
       " 1,\n",
       " 4,\n",
       " 1024,\n",
       " 9,\n",
       " 59049,\n",
       " 16,\n",
       " 1048576,\n",
       " 25,\n",
       " 9765625,\n",
       " 36,\n",
       " 60466176,\n",
       " 49,\n",
       " 282475249,\n",
       " 64,\n",
       " 1073741824,\n",
       " 81,\n",
       " 3486784401]"
      ]
     },
     "execution_count": 69,
     "metadata": {},
     "output_type": "execute_result"
    }
   ],
   "source": [
    "powers = [x**y for x in range(1, 10) for y in [2,10]]\n",
    "powers"
   ]
  },
  {
   "cell_type": "code",
   "execution_count": 70,
   "metadata": {},
   "outputs": [
    {
     "data": {
      "text/plain": [
       "[3,\n",
       " 6,\n",
       " 9,\n",
       " 12,\n",
       " 15,\n",
       " 18,\n",
       " 21,\n",
       " 24,\n",
       " 27,\n",
       " 30,\n",
       " 33,\n",
       " 36,\n",
       " 39,\n",
       " 42,\n",
       " 45,\n",
       " 48,\n",
       " 51,\n",
       " 54,\n",
       " 57,\n",
       " 60,\n",
       " 63,\n",
       " 66,\n",
       " 69,\n",
       " 72,\n",
       " 75,\n",
       " 78,\n",
       " 81,\n",
       " 84,\n",
       " 87,\n",
       " 90,\n",
       " 93,\n",
       " 96,\n",
       " 99]"
      ]
     },
     "execution_count": 70,
     "metadata": {},
     "output_type": "execute_result"
    }
   ],
   "source": [
    "[x for x in range(3,100,3)]"
   ]
  },
  {
   "cell_type": "code",
   "execution_count": 71,
   "metadata": {},
   "outputs": [
    {
     "data": {
      "text/plain": [
       "[100,\n",
       " 225,\n",
       " 400,\n",
       " 625,\n",
       " 900,\n",
       " 1225,\n",
       " 1600,\n",
       " 2025,\n",
       " 2500,\n",
       " 3025,\n",
       " 3600,\n",
       " 4225,\n",
       " 4900,\n",
       " 5625,\n",
       " 6400,\n",
       " 7225,\n",
       " 8100,\n",
       " 9025]"
      ]
     },
     "execution_count": 71,
     "metadata": {},
     "output_type": "execute_result"
    }
   ],
   "source": [
    "[x**2 for x in range(10, 100, 5)]"
   ]
  },
  {
   "cell_type": "code",
   "execution_count": 72,
   "metadata": {},
   "outputs": [
    {
     "data": {
      "text/plain": [
       "[3,\n",
       " 5,\n",
       " 7,\n",
       " 6,\n",
       " 10,\n",
       " 14,\n",
       " 9,\n",
       " 15,\n",
       " 21,\n",
       " 12,\n",
       " 20,\n",
       " 28,\n",
       " 15,\n",
       " 25,\n",
       " 35,\n",
       " 18,\n",
       " 30,\n",
       " 42,\n",
       " 21,\n",
       " 35,\n",
       " 49,\n",
       " 24,\n",
       " 40,\n",
       " 56,\n",
       " 27,\n",
       " 45,\n",
       " 63]"
      ]
     },
     "execution_count": 72,
     "metadata": {},
     "output_type": "execute_result"
    }
   ],
   "source": [
    "[x*y for x in range(1, 10) for y in [3, 5, 7]]"
   ]
  },
  {
   "cell_type": "code",
   "execution_count": 73,
   "metadata": {},
   "outputs": [
    {
     "name": "stdout",
     "output_type": "stream",
     "text": [
      "+79265748370\n"
     ]
    }
   ],
   "source": [
    "employee_base = {\n",
    "    'Мария Никитина': '+79033923029',\n",
    "    'Егор Савичев': '+78125849204',\n",
    "    'Александр Пахомов': '+79053049385',\n",
    "    'Алина Егорова': '+79265748370',\n",
    "    'Руслан Башаров': '+79030598495'\n",
    "}\n",
    "print(employee_base['Алина Егорова'])"
   ]
  },
  {
   "cell_type": "code",
   "execution_count": 76,
   "metadata": {},
   "outputs": [
    {
     "name": "stdout",
     "output_type": "stream",
     "text": [
      "A\n",
      "B\n",
      "C\n",
      "C\n",
      "A\n",
      "{'Россия': 'A', 'Египет': 'A'}\n"
     ]
    }
   ],
   "source": [
    "draw_dict = {\n",
    "     'Россия': 'A',\n",
    "    'Португалия': 'B',\n",
    "    'Франция': 'C',\n",
    "    'Дания': 'C',\n",
    "    'Египет': 'A'\n",
    "}\n",
    "draw_new = {}\n",
    "for i in draw_dict:\n",
    "    print(draw_dict[i])\n",
    "    if draw_dict[i] == 'A':\n",
    "        draw_new[i] = draw_dict[i]\n",
    "print(draw_new)"
   ]
  },
  {
   "cell_type": "code",
   "execution_count": 77,
   "metadata": {},
   "outputs": [
    {
     "name": "stdout",
     "output_type": "stream",
     "text": [
      "{'Россия': 'A', 'Египет': 'A'}\n"
     ]
    }
   ],
   "source": [
    "draw_dict = {\n",
    "    'Россия': 'A',\n",
    "    'Португалия': 'B',\n",
    "    'Франция': 'C',\n",
    "    'Дания': 'C',\n",
    "    'Египет': 'A'\n",
    "}\n",
    "draw_new = {}\n",
    "for country, group in draw_dict.items():\n",
    "    if group == 'A':\n",
    "        draw_new[country] = group\n",
    "print(draw_new)"
   ]
  },
  {
   "cell_type": "code",
   "execution_count": 79,
   "metadata": {},
   "outputs": [
    {
     "data": {
      "text/plain": [
       "'Пульсометр Beurer PM62'"
      ]
     },
     "execution_count": 79,
     "metadata": {},
     "output_type": "execute_result"
    }
   ],
   "source": [
    "csv_file = [\n",
    "    ['100412', 'Ботинки для горных лыж ATOMIC Hawx Prime 100', 9],\n",
    "    ['100728', 'Скейтборд Jdbug RT03', 32],\n",
    "    ['100732', 'Роллерсерф Razor RipStik Bright', 11],\n",
    "    ['100803', 'Ботинки для сноуборда DC Tucknee', 20],\n",
    "    ['100898', 'Шагомер Omron HJA-306', 2],\n",
    "    ['100934', 'Пульсометр Beurer PM62', 17],\n",
    "]\n",
    "pulsometer_id = csv_file[5][1]\n",
    "pulsometer_id"
   ]
  },
  {
   "cell_type": "code",
   "execution_count": 80,
   "metadata": {},
   "outputs": [
    {
     "name": "stdout",
     "output_type": "stream",
     "text": [
      "Количество шагомеров на складе - 2шт\n"
     ]
    }
   ],
   "source": [
    "for record in csv_file:\n",
    "    if record[1] == 'Шагомер Omron HJA-306':\n",
    "        print('Количество шагомеров на складе - {}шт'.format(record[2]))"
   ]
  },
  {
   "cell_type": "code",
   "execution_count": 81,
   "metadata": {},
   "outputs": [
    {
     "name": "stdout",
     "output_type": "stream",
     "text": [
      "[['100728', 'Скейтборд Jdbug RT03', 32], ['100732', 'Роллерсерф Razor RipStik Bright', 11], ['100803', 'Ботинки для сноуборда DC Tucknee', 20], ['100934', 'Пульсометр Beurer PM62', 17]]\n"
     ]
    }
   ],
   "source": [
    "csv_file = [\n",
    "    ['100412', 'Ботинки для горных лыж ATOMIC Hawx Prime 100', 9],\n",
    "    ['100728', 'Скейтборд Jdbug RT03', 32],\n",
    "    ['100732', 'Роллерсерф Razor RipStik Bright', 11],\n",
    "    ['100803', 'Ботинки для сноуборда DC Tucknee', 20],\n",
    "    ['100898', 'Шагомер Omron HJA-306', 2],\n",
    "    ['100934', 'Пульсометр Beurer PM62', 17],\n",
    "]\n",
    "csv_file_filtered = []\n",
    "for record in csv_file:\n",
    "    if record[2] > 10:\n",
    "        csv_file_filtered.append(record)\n",
    "print(csv_file_filtered)"
   ]
  },
  {
   "cell_type": "code",
   "execution_count": 83,
   "metadata": {},
   "outputs": [
    {
     "name": "stdout",
     "output_type": "stream",
     "text": [
      "[{'id': '100412', 'position': 'Ботинки для горных лыж ATOMIC Hawx Prime 100', 'count': 9}, {'id': '100803', 'position': 'Ботинки для сноуборда DC Tucknee', 'count': 20}]\n"
     ]
    }
   ],
   "source": [
    "csv_dict = [\n",
    "    {'id': '100412', 'position': 'Ботинки для горных лыж ATOMIC Hawx Prime 100', 'count': 9},\n",
    "    {'id': '100728', 'position': 'Скейтборд Jdbug RT03', 'count': 32},\n",
    "    {'id': '100732', 'position': 'Роллерсерф Razor RipStik Bright', 'count': 11},\n",
    "    {'id': '100803', 'position': 'Ботинки для сноуборда DC Tucknee', 'count': 20},\n",
    "    {'id': '100898', 'position': 'Шагомер Omron HJA-306', 'count': 2},\n",
    "    {'id': '100934', 'position': 'Пульсометр Beurer PM62', 'count': 17},\n",
    "]\n",
    "csv_dict_boots = []\n",
    "for record in csv_dict:\n",
    "    if 'Ботинки' in record['position']:\n",
    "        csv_dict_boots.append(record)\n",
    "print(csv_dict_boots)"
   ]
  },
  {
   "cell_type": "code",
   "execution_count": 84,
   "metadata": {},
   "outputs": [],
   "source": [
    "defect_stats = [\n",
    "    {'step number': 1, 'damage': 0.98},\n",
    "    {'step number': 2, 'damage': 0.99},\n",
    "    {'step number': 3, 'damage': 0.99},\n",
    "    {'step number': 4, 'damage': 0.96},\n",
    "    {'step number': 5, 'damage': 0.97},\n",
    "    {'step number': 6, 'damage': 0.97},\n",
    "    {'step number': 7, 'damage': 0.94},\n",
    "    {'step number': 8, 'damage': 0.95},\n",
    "    {'step number': 9, 'damage': 0.95},\n",
    "    {'step number': 10, 'damage': 0.92},\n",
    "    {'step number': 11, 'damage': 0.93},\n",
    "    {'step number': 12, 'damage': 0.93},\n",
    "    {'step number': 13, 'damage': 0.90},\n",
    "    {'step number': 14, 'damage': 0.91},\n",
    "    {'step number': 15, 'damage': 0.91},\n",
    "    {'step number': 16, 'damage': 0.88},\n",
    "    {'step number': 17, 'damage': 0.89},\n",
    "    {'step number': 18, 'damage': 0.89},\n",
    "]"
   ]
  },
  {
   "cell_type": "code",
   "execution_count": 89,
   "metadata": {},
   "outputs": [
    {
     "name": "stdout",
     "output_type": "stream",
     "text": [
      "98.0\n",
      "97.02\n",
      "96.04979999999999\n",
      "92.20780799999999\n",
      "89.44157375999998\n",
      "5\n"
     ]
    }
   ],
   "source": [
    "defect_stats = [\n",
    "    {'step number': 1, 'damage': 0.98},\n",
    "    {'step number': 2, 'damage': 0.99},\n",
    "    {'step number': 3, 'damage': 0.99},\n",
    "    {'step number': 4, 'damage': 0.96},\n",
    "    {'step number': 5, 'damage': 0.97},\n",
    "    {'step number': 6, 'damage': 0.97},\n",
    "]\n",
    "state = 100\n",
    "for i in defect_stats:\n",
    "    state = state*i['damage']\n",
    "    print(state)\n",
    "    if state < 90:\n",
    "        print(i['step number'])\n",
    "        break"
   ]
  },
  {
   "cell_type": "code",
   "execution_count": 94,
   "metadata": {},
   "outputs": [
    {
     "name": "stdout",
     "output_type": "stream",
     "text": [
      "{'AMD': 0.13121, 'AUD': 45.5309, 'INR': 0.929658, 'MDL': 3.6930500000000004}\n"
     ]
    }
   ],
   "source": [
    "currency = {\n",
    "\t'AMD': {\n",
    "\t\t'Name': 'Армянских драмов',\n",
    "\t\t'Nominal': 100,\n",
    "\t\t'Value': 13.121\n",
    "\t},\n",
    "\n",
    "\t'AUD': {\n",
    "\t\t'Name': 'Австралийский доллар',\n",
    "\t\t'Nominal': 1,\n",
    "\t\t'Value': 45.5309\n",
    "\t},\n",
    "\n",
    "\t'INR': {\n",
    "\t\t'Name': 'Индийских рупий',\n",
    "\t\t'Nominal': 100,\n",
    "\t\t'Value': 92.9658\n",
    "\t},\n",
    "\n",
    "\t'MDL': {\n",
    "\t\t'Name': 'Молдавских леев',\n",
    "\t\t'Nominal': 10,\n",
    "\t\t'Value': 36.9305\n",
    "\t},\n",
    "}\n",
    "final = {}\n",
    "for curr, info in currency.items():\n",
    "    final[curr] = (info['Value'] / info['Nominal'])\n",
    "print(final)"
   ]
  },
  {
   "cell_type": "code",
   "execution_count": 95,
   "metadata": {},
   "outputs": [
    {
     "name": "stdout",
     "output_type": "stream",
     "text": [
      "225\n"
     ]
    }
   ],
   "source": [
    "bodycount = {\n",
    "\t'Проклятие Черной жемчужины': {\n",
    "\t\t'человек': 17\n",
    "\t}, \n",
    "\n",
    "\t'Сундук мертвеца': {\n",
    "\t\t'человек': 56,\n",
    "\t\t'раков-отшельников': 1\n",
    "\t},\n",
    "\n",
    "\t'На краю света': {\n",
    "\t\t'человек': 88\n",
    "\t},\n",
    "\n",
    "\t'На странных берегах': {\n",
    "\t\t'человек': 56,\n",
    "\t\t'русалок': 2,\n",
    "\t\t'ядовитых жаб': 3,\n",
    "\t\t'пиратов зомби': 2\n",
    "\t}\n",
    "}\n",
    "total = 0\n",
    "for stats in bodycount.values():\n",
    "    for count in stats.values():\n",
    "        total += count\n",
    "print(total)"
   ]
  },
  {
   "cell_type": "code",
   "execution_count": 107,
   "metadata": {},
   "outputs": [
    {
     "data": {
      "text/plain": [
       "{'events_data': [{'id': 47946124,\n",
       "   'client_id': 62526,\n",
       "   'user_id': 110777,\n",
       "   'category': 'page',\n",
       "   'action': 'enter',\n",
       "   'options': {'name': 'landing'}},\n",
       "  {'id': 47947076,\n",
       "   'client_id': 61944,\n",
       "   'user_id': 108565,\n",
       "   'category': 'page',\n",
       "   'action': 'enter',\n",
       "   'options': {'name': 'landing'}},\n",
       "  {'id': 47962056,\n",
       "   'client_id': 27115,\n",
       "   'user_id': 49440,\n",
       "   'category': 'page',\n",
       "   'action': 'enter',\n",
       "   'options': {'name': 'page'}},\n",
       "  {'id': 47962120,\n",
       "   'client_id': 27115,\n",
       "   'user_id': 49440,\n",
       "   'category': 'datepicker',\n",
       "   'action': 'apply',\n",
       "   'options': {'endDate': '2019-03-31 23:59:59',\n",
       "    'startDate': '2019-03-25 00:00:00'}},\n",
       "  {'id': 47962218,\n",
       "   'client_id': 27115,\n",
       "   'user_id': 49440,\n",
       "   'category': 'table',\n",
       "   'action': 'sort',\n",
       "   'options': {'dir': 'ASC', 'name': 'deal_date'}},\n",
       "  {'id': 47962238,\n",
       "   'client_id': 27115,\n",
       "   'user_id': 49440,\n",
       "   'category': 'table',\n",
       "   'action': 'sort',\n",
       "   'options': {'dir': 'DESC', 'name': 'deal_date'}},\n",
       "  {'id': 47962532,\n",
       "   'client_id': 27115,\n",
       "   'user_id': 49440,\n",
       "   'category': 'table',\n",
       "   'action': 'sort',\n",
       "   'options': {'dir': 'ASC', 'name': 'deal_date'}},\n",
       "  {'id': 47962534,\n",
       "   'client_id': 27115,\n",
       "   'user_id': 49440,\n",
       "   'category': 'table',\n",
       "   'action': 'sort',\n",
       "   'options': {'dir': 'DESC', 'name': 'deal_date'}},\n",
       "  {'id': 47962696,\n",
       "   'client_id': 27115,\n",
       "   'user_id': 49440,\n",
       "   'category': 'datepicker',\n",
       "   'action': 'apply',\n",
       "   'options': {'endDate': '2019-03-10 23:59:59',\n",
       "    'startDate': '2019-03-04 00:00:00'}},\n",
       "  {'id': 47962748,\n",
       "   'client_id': 27115,\n",
       "   'user_id': 49440,\n",
       "   'category': 'datepicker',\n",
       "   'action': 'apply',\n",
       "   'options': {'endDate': '2019-02-24 23:59:59',\n",
       "    'startDate': '2019-02-18 00:00:00'}},\n",
       "  {'id': 47962830,\n",
       "   'client_id': 27115,\n",
       "   'user_id': 49440,\n",
       "   'category': 'datepicker',\n",
       "   'action': 'apply',\n",
       "   'options': {'endDate': '2019-03-31 23:59:59',\n",
       "    'startDate': '2019-03-25 00:00:00'}},\n",
       "  {'id': 47962860,\n",
       "   'client_id': 27115,\n",
       "   'user_id': 49440,\n",
       "   'category': 'datepicker',\n",
       "   'action': 'apply',\n",
       "   'options': {'endDate': '2019-03-31 23:59:59',\n",
       "    'startDate': '2019-03-28 00:00:00'}},\n",
       "  {'id': 47962952,\n",
       "   'client_id': 27115,\n",
       "   'user_id': 49440,\n",
       "   'category': 'datepicker',\n",
       "   'action': 'apply',\n",
       "   'options': {'endDate': '2019-03-31 23:59:59',\n",
       "    'startDate': '2019-03-29 00:00:00'}},\n",
       "  {'id': 47964366,\n",
       "   'client_id': 62017,\n",
       "   'user_id': 108835,\n",
       "   'category': 'page',\n",
       "   'action': 'enter',\n",
       "   'options': {'name': 'landing'}},\n",
       "  {'id': 47989384,\n",
       "   'client_id': 63120,\n",
       "   'user_id': 113069,\n",
       "   'category': 'page',\n",
       "   'action': 'enter',\n",
       "   'options': {'name': 'landing'}},\n",
       "  {'id': 48010418,\n",
       "   'client_id': 59883,\n",
       "   'user_id': 108493,\n",
       "   'category': 'page',\n",
       "   'action': 'enter',\n",
       "   'options': {'name': 'landing'}},\n",
       "  {'id': 48012170,\n",
       "   'client_id': 2913,\n",
       "   'user_id': 37412,\n",
       "   'category': 'page',\n",
       "   'action': 'enter',\n",
       "   'options': {'name': 'landing'}},\n",
       "  {'id': 48014430,\n",
       "   'client_id': 62940,\n",
       "   'user_id': 112351,\n",
       "   'category': 'page',\n",
       "   'action': 'enter',\n",
       "   'options': {'name': 'landing'}},\n",
       "  {'id': 48022684,\n",
       "   'client_id': 63149,\n",
       "   'user_id': 113143,\n",
       "   'category': 'page',\n",
       "   'action': 'enter',\n",
       "   'options': {'name': 'landing'}},\n",
       "  {'id': 48026886,\n",
       "   'client_id': 45391,\n",
       "   'user_id': 76047,\n",
       "   'category': 'page',\n",
       "   'action': 'enter',\n",
       "   'options': {'name': 'landing'}},\n",
       "  {'id': 48034878,\n",
       "   'client_id': 18923,\n",
       "   'user_id': 36488,\n",
       "   'category': 'page',\n",
       "   'action': 'enter',\n",
       "   'options': {'name': 'landing'}},\n",
       "  {'id': 48042052,\n",
       "   'client_id': 63019,\n",
       "   'user_id': 113169,\n",
       "   'category': 'page',\n",
       "   'action': 'enter',\n",
       "   'options': {'name': 'landing'}},\n",
       "  {'id': 48043326,\n",
       "   'client_id': 18923,\n",
       "   'user_id': 36488,\n",
       "   'category': 'page',\n",
       "   'action': 'enter',\n",
       "   'options': {'name': 'landing'}},\n",
       "  {'id': 48043640,\n",
       "   'client_id': 18923,\n",
       "   'user_id': 36488,\n",
       "   'category': 'page',\n",
       "   'action': 'enter',\n",
       "   'options': {'name': 'landing'}},\n",
       "  {'id': 48051248,\n",
       "   'client_id': 15759,\n",
       "   'user_id': 92681,\n",
       "   'category': 'page',\n",
       "   'action': 'enter',\n",
       "   'options': {'name': 'landing'}},\n",
       "  {'id': 48061250,\n",
       "   'client_id': 62007,\n",
       "   'user_id': 92681,\n",
       "   'category': 'page',\n",
       "   'action': 'enter',\n",
       "   'options': {'name': 'page'}},\n",
       "  {'id': 48066902,\n",
       "   'client_id': 62941,\n",
       "   'user_id': 112357,\n",
       "   'category': 'page',\n",
       "   'action': 'enter',\n",
       "   'options': {'name': 'landing'}},\n",
       "  {'id': 48081876,\n",
       "   'client_id': 51009,\n",
       "   'user_id': 87778,\n",
       "   'category': 'page',\n",
       "   'action': 'enter',\n",
       "   'options': {'name': 'landing'}},\n",
       "  {'id': 48106514,\n",
       "   'client_id': 62236,\n",
       "   'user_id': 109579,\n",
       "   'category': 'page',\n",
       "   'action': 'enter',\n",
       "   'options': {'name': 'landing'}},\n",
       "  {'id': 48110768,\n",
       "   'client_id': 44682,\n",
       "   'user_id': 74909,\n",
       "   'category': 'page',\n",
       "   'action': 'enter',\n",
       "   'options': {'name': 'landing'}},\n",
       "  {'id': 48114652,\n",
       "   'client_id': 39709,\n",
       "   'user_id': 67955,\n",
       "   'category': 'page',\n",
       "   'action': 'enter',\n",
       "   'options': {'name': 'landing'}},\n",
       "  {'id': 48118216,\n",
       "   'client_id': 60459,\n",
       "   'user_id': 32532,\n",
       "   'category': 'page',\n",
       "   'action': 'enter',\n",
       "   'options': {'name': 'page'}},\n",
       "  {'id': 48118370,\n",
       "   'client_id': 62144,\n",
       "   'user_id': 109283,\n",
       "   'category': 'page',\n",
       "   'action': 'enter',\n",
       "   'options': {'name': 'landing'}},\n",
       "  {'id': 48118516,\n",
       "   'client_id': 60459,\n",
       "   'user_id': 32532,\n",
       "   'category': 'report',\n",
       "   'action': 'change_mode',\n",
       "   'options': {'mode': 'deals'}},\n",
       "  {'id': 48118564,\n",
       "   'client_id': 60459,\n",
       "   'user_id': 32532,\n",
       "   'category': 'report',\n",
       "   'action': 'change_mode',\n",
       "   'options': {'mode': 'summary'}},\n",
       "  {'id': 48118590,\n",
       "   'client_id': 60459,\n",
       "   'user_id': 32532,\n",
       "   'category': 'report',\n",
       "   'action': 'change_mode',\n",
       "   'options': {'mode': 'deals'}},\n",
       "  {'id': 48118920,\n",
       "   'client_id': 60459,\n",
       "   'user_id': 32532,\n",
       "   'category': 'report',\n",
       "   'action': 'change_mode',\n",
       "   'options': {'mode': 'summary'}},\n",
       "  {'id': 48120374,\n",
       "   'client_id': 60459,\n",
       "   'user_id': 32532,\n",
       "   'category': 'page',\n",
       "   'action': 'enter',\n",
       "   'options': {'name': 'page'}},\n",
       "  {'id': 48120386,\n",
       "   'client_id': 60459,\n",
       "   'user_id': 32532,\n",
       "   'category': 'report',\n",
       "   'action': 'change_mode',\n",
       "   'options': {'mode': 'deals'}},\n",
       "  {'id': 48120602,\n",
       "   'client_id': 52492,\n",
       "   'user_id': 91178,\n",
       "   'category': 'page',\n",
       "   'action': 'enter',\n",
       "   'options': {'name': 'page'}},\n",
       "  {'id': 48120604,\n",
       "   'client_id': 52492,\n",
       "   'user_id': 105477,\n",
       "   'category': 'page',\n",
       "   'action': 'enter',\n",
       "   'options': {'name': 'page'}},\n",
       "  {'id': 48120770,\n",
       "   'client_id': 60459,\n",
       "   'user_id': 32532,\n",
       "   'category': 'page',\n",
       "   'action': 'enter',\n",
       "   'options': {'name': 'page'}},\n",
       "  {'id': 48120876,\n",
       "   'client_id': 60459,\n",
       "   'user_id': 32532,\n",
       "   'category': 'table',\n",
       "   'action': 'sort',\n",
       "   'options': {'dir': 'ASC', 'name': 'visitor_id'}},\n",
       "  {'id': 48120896,\n",
       "   'client_id': 60459,\n",
       "   'user_id': 32532,\n",
       "   'category': 'table',\n",
       "   'action': 'sort',\n",
       "   'options': {'dir': 'DESC', 'name': 'visitor_id'}},\n",
       "  {'id': 48121006,\n",
       "   'client_id': 60459,\n",
       "   'user_id': 32532,\n",
       "   'category': 'table',\n",
       "   'action': 'sort',\n",
       "   'options': {'dir': 'ASC', 'name': 'visitor_id'}},\n",
       "  {'id': 48121008,\n",
       "   'client_id': 60459,\n",
       "   'user_id': 32532,\n",
       "   'category': 'table',\n",
       "   'action': 'sort',\n",
       "   'options': {'dir': 'DESC', 'name': 'visitor_id'}},\n",
       "  {'id': 48125372,\n",
       "   'client_id': 52492,\n",
       "   'user_id': 91178,\n",
       "   'category': 'page',\n",
       "   'action': 'enter',\n",
       "   'options': {'name': 'page'}},\n",
       "  {'id': 48130434,\n",
       "   'client_id': 18923,\n",
       "   'user_id': 36488,\n",
       "   'category': 'page',\n",
       "   'action': 'enter',\n",
       "   'options': {'name': 'landing'}},\n",
       "  {'id': 48135712,\n",
       "   'client_id': 25301,\n",
       "   'user_id': 54229,\n",
       "   'category': 'page',\n",
       "   'action': 'enter',\n",
       "   'options': {'name': 'landing'}},\n",
       "  {'id': 48136376,\n",
       "   'client_id': 18923,\n",
       "   'user_id': 36488,\n",
       "   'category': 'page',\n",
       "   'action': 'enter',\n",
       "   'options': {'name': 'landing'}},\n",
       "  {'id': 48136890,\n",
       "   'client_id': 33645,\n",
       "   'user_id': 61378,\n",
       "   'category': 'page',\n",
       "   'action': 'enter',\n",
       "   'options': {'name': 'landing'}},\n",
       "  {'id': 48145332,\n",
       "   'client_id': 62089,\n",
       "   'user_id': 109095,\n",
       "   'category': 'page',\n",
       "   'action': 'enter',\n",
       "   'options': {'name': 'landing'}},\n",
       "  {'id': 48155244,\n",
       "   'client_id': 26705,\n",
       "   'user_id': 48880,\n",
       "   'category': 'page',\n",
       "   'action': 'enter',\n",
       "   'options': {'name': 'landing'}},\n",
       "  {'id': 48160942,\n",
       "   'client_id': 1103,\n",
       "   'user_id': 109501,\n",
       "   'category': 'page',\n",
       "   'action': 'enter',\n",
       "   'options': {'name': 'page'}},\n",
       "  {'id': 48166190,\n",
       "   'client_id': 62439,\n",
       "   'user_id': 110397,\n",
       "   'category': 'page',\n",
       "   'action': 'enter',\n",
       "   'options': {'name': 'landing'}},\n",
       "  {'id': 48167428,\n",
       "   'client_id': 44196,\n",
       "   'user_id': 74136,\n",
       "   'category': 'page',\n",
       "   'action': 'enter',\n",
       "   'options': {'name': 'landing'}},\n",
       "  {'id': 48171114,\n",
       "   'client_id': 62602,\n",
       "   'user_id': 111069,\n",
       "   'category': 'page',\n",
       "   'action': 'enter',\n",
       "   'options': {'name': 'page'}},\n",
       "  {'id': 48173426,\n",
       "   'client_id': 62602,\n",
       "   'user_id': 111069,\n",
       "   'category': 'page',\n",
       "   'action': 'enter',\n",
       "   'options': {'name': 'page'}},\n",
       "  {'id': 48173444,\n",
       "   'client_id': 62602,\n",
       "   'user_id': 111069,\n",
       "   'category': 'report',\n",
       "   'action': 'link_click',\n",
       "   'options': {'url': 'javascript:void(0);',\n",
       "    'name': 'deal_count',\n",
       "    'value': '1'}},\n",
       "  {'id': 48173446,\n",
       "   'client_id': 62602,\n",
       "   'user_id': 111069,\n",
       "   'category': 'page',\n",
       "   'action': 'enter',\n",
       "   'options': {'name': 'page'}},\n",
       "  {'id': 48173640,\n",
       "   'client_id': 62602,\n",
       "   'user_id': 111069,\n",
       "   'category': 'page',\n",
       "   'action': 'enter',\n",
       "   'options': {'name': 'page'}},\n",
       "  {'id': 48173686,\n",
       "   'client_id': 62602,\n",
       "   'user_id': 111069,\n",
       "   'category': 'page',\n",
       "   'action': 'enter',\n",
       "   'options': {'name': 'page'}},\n",
       "  {'id': 48173698,\n",
       "   'client_id': 62602,\n",
       "   'user_id': 111069,\n",
       "   'category': 'page',\n",
       "   'action': 'enter',\n",
       "   'options': {'name': 'page'}},\n",
       "  {'id': 48174302,\n",
       "   'client_id': 62602,\n",
       "   'user_id': 111069,\n",
       "   'category': 'page',\n",
       "   'action': 'enter',\n",
       "   'options': {'name': 'page'}},\n",
       "  {'id': 48174312,\n",
       "   'client_id': 62602,\n",
       "   'user_id': 111069,\n",
       "   'category': 'report',\n",
       "   'action': 'link_click',\n",
       "   'options': {'url': 'javascript:void(0);',\n",
       "    'name': 'deal_count',\n",
       "    'value': '1'}},\n",
       "  {'id': 48174314,\n",
       "   'client_id': 62602,\n",
       "   'user_id': 111069,\n",
       "   'category': 'page',\n",
       "   'action': 'enter',\n",
       "   'options': {'name': 'page'}},\n",
       "  {'id': 48174338,\n",
       "   'client_id': 62602,\n",
       "   'user_id': 111069,\n",
       "   'category': 'page',\n",
       "   'action': 'enter',\n",
       "   'options': {'name': 'page'}},\n",
       "  {'id': 48179988,\n",
       "   'client_id': 50149,\n",
       "   'user_id': 86073,\n",
       "   'category': 'page',\n",
       "   'action': 'enter',\n",
       "   'options': {'name': 'landing'}},\n",
       "  {'id': 57301281,\n",
       "   'client_id': 57009,\n",
       "   'user_id': 107244,\n",
       "   'category': 'page',\n",
       "   'action': 'enter',\n",
       "   'options': {'name': 'landing'}},\n",
       "  {'id': 57326589,\n",
       "   'client_id': 57207,\n",
       "   'user_id': 107968,\n",
       "   'category': 'page',\n",
       "   'action': 'enter',\n",
       "   'options': {'name': 'landing'}},\n",
       "  {'id': 57328781,\n",
       "   'client_id': 32792,\n",
       "   'user_id': 57997,\n",
       "   'category': 'page',\n",
       "   'action': 'enter',\n",
       "   'options': {'name': 'landing'}},\n",
       "  {'id': 57335607,\n",
       "   'client_id': 27323,\n",
       "   'user_id': 92681,\n",
       "   'category': 'page',\n",
       "   'action': 'enter',\n",
       "   'options': {'name': 'landing'}},\n",
       "  {'id': 57355249,\n",
       "   'client_id': 24500,\n",
       "   'user_id': 45371,\n",
       "   'category': 'page',\n",
       "   'action': 'enter',\n",
       "   'options': {'name': 'landing'}},\n",
       "  {'id': 57357969,\n",
       "   'client_id': 24500,\n",
       "   'user_id': 45371,\n",
       "   'category': 'page',\n",
       "   'action': 'enter',\n",
       "   'options': {'name': 'page'}},\n",
       "  {'id': 57364085,\n",
       "   'client_id': 58330,\n",
       "   'user_id': 122756,\n",
       "   'category': 'page',\n",
       "   'action': 'enter',\n",
       "   'options': {'name': 'landing'}},\n",
       "  {'id': 57368897,\n",
       "   'client_id': 61245,\n",
       "   'user_id': 122796,\n",
       "   'category': 'page',\n",
       "   'action': 'enter',\n",
       "   'options': {'name': 'landing'}},\n",
       "  {'id': 57380235,\n",
       "   'client_id': 19799,\n",
       "   'user_id': 108493,\n",
       "   'category': 'page',\n",
       "   'action': 'enter',\n",
       "   'options': {'name': 'landing'}},\n",
       "  {'id': 57397813,\n",
       "   'client_id': 56544,\n",
       "   'user_id': 105404,\n",
       "   'category': 'page',\n",
       "   'action': 'enter',\n",
       "   'options': {'name': 'page'}},\n",
       "  {'id': 57397881,\n",
       "   'client_id': 56544,\n",
       "   'user_id': 105404,\n",
       "   'category': 'datepicker',\n",
       "   'action': 'apply',\n",
       "   'options': {'endDate': '2019-03-31 23:59:59',\n",
       "    'startDate': '2019-03-31 00:00:00'}},\n",
       "  {'id': 57397923,\n",
       "   'client_id': 56544,\n",
       "   'user_id': 105404,\n",
       "   'category': 'datepicker',\n",
       "   'action': 'apply',\n",
       "   'options': {'endDate': '2019-03-30 23:59:59',\n",
       "    'startDate': '2019-03-30 00:00:00'}},\n",
       "  {'id': 57397987,\n",
       "   'client_id': 56544,\n",
       "   'user_id': 105404,\n",
       "   'category': 'datepicker',\n",
       "   'action': 'apply',\n",
       "   'options': {'endDate': '2019-03-29 23:59:59',\n",
       "    'startDate': '2019-03-29 00:00:00'}},\n",
       "  {'id': 57398079,\n",
       "   'client_id': 56544,\n",
       "   'user_id': 105404,\n",
       "   'category': 'datepicker',\n",
       "   'action': 'apply',\n",
       "   'options': {'endDate': '2019-03-28 23:59:59',\n",
       "    'startDate': '2019-03-28 00:00:00'}},\n",
       "  {'id': 57398119,\n",
       "   'client_id': 56544,\n",
       "   'user_id': 105404,\n",
       "   'category': 'datepicker',\n",
       "   'action': 'apply',\n",
       "   'options': {'endDate': '2019-03-27 23:59:59',\n",
       "    'startDate': '2019-03-27 00:00:00'}},\n",
       "  {'id': 57398165,\n",
       "   'client_id': 56544,\n",
       "   'user_id': 105404,\n",
       "   'category': 'datepicker',\n",
       "   'action': 'apply',\n",
       "   'options': {'endDate': '2019-03-26 23:59:59',\n",
       "    'startDate': '2019-03-26 00:00:00'}},\n",
       "  {'id': 57398203,\n",
       "   'client_id': 56544,\n",
       "   'user_id': 105404,\n",
       "   'category': 'datepicker',\n",
       "   'action': 'apply',\n",
       "   'options': {'endDate': '2019-03-25 23:59:59',\n",
       "    'startDate': '2019-03-25 00:00:00'}},\n",
       "  {'id': 57414209,\n",
       "   'client_id': 23207,\n",
       "   'user_id': 43300,\n",
       "   'category': 'page',\n",
       "   'action': 'enter',\n",
       "   'options': {'name': 'landing'}},\n",
       "  {'id': 57414633,\n",
       "   'client_id': 23207,\n",
       "   'user_id': 43300,\n",
       "   'category': 'page',\n",
       "   'action': 'enter',\n",
       "   'options': {'name': 'landing'}},\n",
       "  {'id': 57414663,\n",
       "   'client_id': 23207,\n",
       "   'user_id': 85282,\n",
       "   'category': 'page',\n",
       "   'action': 'enter',\n",
       "   'options': {'name': 'landing'}},\n",
       "  {'id': 57414851,\n",
       "   'client_id': 23207,\n",
       "   'user_id': 43300,\n",
       "   'category': 'page',\n",
       "   'action': 'enter',\n",
       "   'options': {'name': 'landing'}},\n",
       "  {'id': 57420219,\n",
       "   'client_id': 48128,\n",
       "   'user_id': 121686,\n",
       "   'category': 'page',\n",
       "   'action': 'enter',\n",
       "   'options': {'name': 'landing'}},\n",
       "  {'id': 57424709,\n",
       "   'client_id': 58113,\n",
       "   'user_id': 120952,\n",
       "   'category': 'page',\n",
       "   'action': 'enter',\n",
       "   'options': {'name': 'page'}},\n",
       "  {'id': 57424757,\n",
       "   'client_id': 58113,\n",
       "   'user_id': 120952,\n",
       "   'category': 'report',\n",
       "   'action': 'change_mode',\n",
       "   'options': {'mode': 'deals'}},\n",
       "  {'id': 57425399,\n",
       "   'client_id': 58113,\n",
       "   'user_id': 120952,\n",
       "   'category': 'table',\n",
       "   'action': 'sort',\n",
       "   'options': {'dir': 'ASC', 'name': 'ac'}},\n",
       "  {'id': 57425421,\n",
       "   'client_id': 58113,\n",
       "   'user_id': 120952,\n",
       "   'category': 'table',\n",
       "   'action': 'sort',\n",
       "   'options': {'dir': 'DESC', 'name': 'ac'}},\n",
       "  {'id': 57426007,\n",
       "   'client_id': 58113,\n",
       "   'user_id': 120952,\n",
       "   'category': 'datepicker',\n",
       "   'action': 'apply',\n",
       "   'options': {'endDate': '2019-03-24 23:59:59',\n",
       "    'startDate': '2019-03-18 00:00:00'}},\n",
       "  {'id': 57426303,\n",
       "   'client_id': 58113,\n",
       "   'user_id': 120952,\n",
       "   'category': 'datepicker',\n",
       "   'action': 'apply',\n",
       "   'options': {'endDate': '2019-03-17 23:59:59',\n",
       "    'startDate': '2019-03-11 00:00:00'}},\n",
       "  {'id': 57431787,\n",
       "   'client_id': 58113,\n",
       "   'user_id': 120952,\n",
       "   'category': 'page',\n",
       "   'action': 'enter',\n",
       "   'options': {'name': 'page'}},\n",
       "  {'id': 57444593,\n",
       "   'client_id': 57613,\n",
       "   'user_id': 110958,\n",
       "   'category': 'page',\n",
       "   'action': 'enter',\n",
       "   'options': {'name': 'landing'}},\n",
       "  {'id': 57453741,\n",
       "   'client_id': 61244,\n",
       "   'user_id': 120170,\n",
       "   'category': 'page',\n",
       "   'action': 'enter',\n",
       "   'options': {'name': 'landing'}},\n",
       "  {'id': 57467371,\n",
       "   'client_id': 53666,\n",
       "   'user_id': 122224,\n",
       "   'category': 'page',\n",
       "   'action': 'enter',\n",
       "   'options': {'name': 'landing'}},\n",
       "  {'id': 57473917,\n",
       "   'client_id': 53018,\n",
       "   'user_id': 92402,\n",
       "   'category': 'page',\n",
       "   'action': 'enter',\n",
       "   'options': {'name': 'landing'}},\n",
       "  {'id': 57475785,\n",
       "   'client_id': 53666,\n",
       "   'user_id': 122224,\n",
       "   'category': 'page',\n",
       "   'action': 'enter',\n",
       "   'options': {'name': 'landing'}},\n",
       "  {'id': 57492477,\n",
       "   'client_id': 41737,\n",
       "   'user_id': 122874,\n",
       "   'category': 'page',\n",
       "   'action': 'enter',\n",
       "   'options': {'name': 'landing'}},\n",
       "  {'id': 57493427,\n",
       "   'client_id': 61078,\n",
       "   'user_id': 119662,\n",
       "   'category': 'page',\n",
       "   'action': 'enter',\n",
       "   'options': {'name': 'landing'}},\n",
       "  {'id': 57515935,\n",
       "   'client_id': 20820,\n",
       "   'user_id': 116898,\n",
       "   'category': 'page',\n",
       "   'action': 'enter',\n",
       "   'options': {'name': 'landing'}},\n",
       "  {'id': 57517657,\n",
       "   'client_id': 41737,\n",
       "   'user_id': 122874,\n",
       "   'category': 'page',\n",
       "   'action': 'enter',\n",
       "   'options': {'name': 'landing'}},\n",
       "  {'id': 57540495,\n",
       "   'client_id': 49700,\n",
       "   'user_id': 84946,\n",
       "   'category': 'page',\n",
       "   'action': 'enter',\n",
       "   'options': {'name': 'landing'}}]}"
      ]
     },
     "execution_count": 107,
     "metadata": {},
     "output_type": "execute_result"
    }
   ],
   "source": [
    "import json\n",
    "with open('data.json', 'rb') as infile:\n",
    "    data = json.load(infile)\n",
    "data"
   ]
  },
  {
   "cell_type": "code",
   "execution_count": 97,
   "metadata": {},
   "outputs": [
    {
     "data": {
      "text/plain": [
       "dict"
      ]
     },
     "execution_count": 97,
     "metadata": {},
     "output_type": "execute_result"
    }
   ],
   "source": [
    "type(data)"
   ]
  },
  {
   "cell_type": "code",
   "execution_count": 99,
   "metadata": {},
   "outputs": [
    {
     "data": {
      "text/plain": [
       "dict_keys(['events_data'])"
      ]
     },
     "execution_count": 99,
     "metadata": {},
     "output_type": "execute_result"
    }
   ],
   "source": [
    "data.keys()"
   ]
  },
  {
   "cell_type": "code",
   "execution_count": 102,
   "metadata": {},
   "outputs": [
    {
     "name": "stdout",
     "output_type": "stream",
     "text": [
      "107\n"
     ]
    }
   ],
   "source": [
    "data_list = data['events_data']\n",
    "print(len(data_list))"
   ]
  },
  {
   "cell_type": "code",
   "execution_count": 103,
   "metadata": {},
   "outputs": [
    {
     "name": "stdout",
     "output_type": "stream",
     "text": [
      "['page', 'page', 'page', 'datepicker', 'table', 'table', 'table', 'table', 'datepicker', 'datepicker', 'datepicker', 'datepicker', 'datepicker', 'page', 'page', 'page', 'page', 'page', 'page', 'page', 'page', 'page', 'page', 'page', 'page', 'page', 'page', 'page', 'page', 'page', 'page', 'page', 'page', 'report', 'report', 'report', 'report', 'page', 'report', 'page', 'page', 'page', 'table', 'table', 'table', 'table', 'page', 'page', 'page', 'page', 'page', 'page', 'page', 'page', 'page', 'page', 'page', 'page', 'report', 'page', 'page', 'page', 'page', 'page', 'report', 'page', 'page', 'page', 'page', 'page', 'page', 'page', 'page', 'page', 'page', 'page', 'page', 'page', 'datepicker', 'datepicker', 'datepicker', 'datepicker', 'datepicker', 'datepicker', 'datepicker', 'page', 'page', 'page', 'page', 'page', 'page', 'report', 'table', 'table', 'datepicker', 'datepicker', 'page', 'page', 'page', 'page', 'page', 'page', 'page', 'page', 'page', 'page', 'page']\n"
     ]
    }
   ],
   "source": [
    "categories = []\n",
    "for item in data_list:\n",
    "    category = item['category']\n",
    "    categories.append(category)\n",
    "print(categories)"
   ]
  },
  {
   "cell_type": "code",
   "execution_count": 104,
   "metadata": {},
   "outputs": [
    {
     "name": "stdout",
     "output_type": "stream",
     "text": [
      "Counter({'page': 74, 'datepicker': 15, 'table': 10, 'report': 8})\n"
     ]
    }
   ],
   "source": [
    "import collections\n",
    "c = collections.Counter()\n",
    "for category in categories:\n",
    "    c[category] += 1\n",
    "print(c)"
   ]
  },
  {
   "cell_type": "code",
   "execution_count": 105,
   "metadata": {},
   "outputs": [
    {
     "name": "stdout",
     "output_type": "stream",
     "text": [
      "[27115, 27115, 27115, 27115, 60459, 60459, 60459, 60459, 58113, 58113]\n"
     ]
    }
   ],
   "source": [
    "table_clients = []\n",
    "for item in data_list:\n",
    "    client_id = item['client_id']\n",
    "    category = item['category']\n",
    "    if category == 'table':\n",
    "        table_clients.append(client_id)\n",
    "print (table_clients)"
   ]
  },
  {
   "cell_type": "code",
   "execution_count": 106,
   "metadata": {},
   "outputs": [
    {
     "name": "stdout",
     "output_type": "stream",
     "text": [
      "Counter({27115: 4, 60459: 4, 58113: 2})\n"
     ]
    }
   ],
   "source": [
    "c = collections.Counter()\n",
    "for table_client in table_clients:\n",
    "    c[table_client] += 1\n",
    "print (c)"
   ]
  },
  {
   "cell_type": "code",
   "execution_count": 108,
   "metadata": {},
   "outputs": [
    {
     "name": "stdout",
     "output_type": "stream",
     "text": [
      "[62526, 61944, 27115, 27115, 27115, 27115, 27115, 27115, 27115, 27115, 27115, 27115, 27115, 62017, 63120, 59883, 2913, 62940, 63149, 45391, 18923, 63019, 18923, 18923, 15759, 62007, 62941, 51009, 62236, 44682, 39709, 60459, 62144, 60459, 60459, 60459, 60459, 60459, 60459, 52492, 52492, 60459, 60459, 60459, 60459, 60459, 52492, 18923, 25301, 18923, 33645, 62089, 26705, 1103, 62439, 44196, 62602, 62602, 62602, 62602, 62602, 62602, 62602, 62602, 62602, 62602, 62602, 50149, 57009, 57207, 32792, 27323, 24500, 24500, 58330, 61245, 19799, 56544, 56544, 56544, 56544, 56544, 56544, 56544, 56544, 23207, 23207, 23207, 23207, 48128, 58113, 58113, 58113, 58113, 58113, 58113, 58113, 57613, 61244, 53666, 53018, 53666, 41737, 61078, 20820, 41737, 49700]\n"
     ]
    }
   ],
   "source": [
    "clients = []\n",
    "for item in data_list:\n",
    "    client_id = item['client_id']\n",
    "    clients.append(client_id)\n",
    "print(clients)"
   ]
  },
  {
   "cell_type": "code",
   "execution_count": 112,
   "metadata": {},
   "outputs": [
    {
     "name": "stdout",
     "output_type": "stream",
     "text": [
      "51\n"
     ]
    }
   ],
   "source": [
    "c = collections.Counter()\n",
    "for client in clients:\n",
    "    c[client] += 1\n",
    "print(len(c.keys()))"
   ]
  },
  {
   "cell_type": "code",
   "execution_count": 113,
   "metadata": {},
   "outputs": [
    {
     "data": {
      "text/plain": [
       "12"
      ]
     },
     "execution_count": 113,
     "metadata": {},
     "output_type": "execute_result"
    }
   ],
   "source": [
    "c[60459]"
   ]
  },
  {
   "cell_type": "code",
   "execution_count": 117,
   "metadata": {},
   "outputs": [
    {
     "name": "stdout",
     "output_type": "stream",
     "text": [
      "[62526, 61944, 27115, 62017, 63120, 59883, 2913, 62940, 63149, 45391, 18923, 63019, 18923, 18923, 15759, 62007, 62941, 51009, 62236, 44682, 39709, 60459, 62144, 60459, 52492, 52492, 60459, 52492, 18923, 25301, 18923, 33645, 62089, 26705, 1103, 62439, 44196, 62602, 62602, 62602, 62602, 62602, 62602, 62602, 62602, 62602, 50149, 57009, 57207, 32792, 27323, 24500, 24500, 58330, 61245, 19799, 56544, 23207, 23207, 23207, 23207, 48128, 58113, 58113, 57613, 61244, 53666, 53018, 53666, 41737, 61078, 20820, 41737, 49700]\n"
     ]
    }
   ],
   "source": [
    "page_clients = []\n",
    "for item in data_list:\n",
    "    client_id = item['client_id']\n",
    "    category = item['category']\n",
    "    if category == 'page':\n",
    "        page_clients.append(client_id)\n",
    "print(page_clients)"
   ]
  },
  {
   "cell_type": "code",
   "execution_count": 118,
   "metadata": {},
   "outputs": [
    {
     "name": "stdout",
     "output_type": "stream",
     "text": [
      "Counter({62602: 9, 18923: 5, 23207: 4, 60459: 3, 52492: 3, 24500: 2, 58113: 2, 53666: 2, 41737: 2, 62526: 1, 61944: 1, 27115: 1, 62017: 1, 63120: 1, 59883: 1, 2913: 1, 62940: 1, 63149: 1, 45391: 1, 63019: 1, 15759: 1, 62007: 1, 62941: 1, 51009: 1, 62236: 1, 44682: 1, 39709: 1, 62144: 1, 25301: 1, 33645: 1, 62089: 1, 26705: 1, 1103: 1, 62439: 1, 44196: 1, 50149: 1, 57009: 1, 57207: 1, 32792: 1, 27323: 1, 58330: 1, 61245: 1, 19799: 1, 56544: 1, 48128: 1, 57613: 1, 61244: 1, 53018: 1, 61078: 1, 20820: 1, 49700: 1})\n"
     ]
    }
   ],
   "source": [
    "c1 = collections.Counter()\n",
    "for page_client in page_clients:\n",
    "    c1[page_client] += 1\n",
    "print(c1)"
   ]
  },
  {
   "cell_type": "code",
   "execution_count": 120,
   "metadata": {},
   "outputs": [
    {
     "name": "stdout",
     "output_type": "stream",
     "text": [
      "[60459, 60459, 60459, 60459, 60459, 62602, 62602, 58113]\n"
     ]
    }
   ],
   "source": [
    "report_clients = []\n",
    "for item in data_list:\n",
    "    client_id = item['client_id']\n",
    "    category = item['category']\n",
    "    if category == 'report':\n",
    "        report_clients.append(client_id)\n",
    "print(report_clients)"
   ]
  },
  {
   "cell_type": "code",
   "execution_count": 121,
   "metadata": {},
   "outputs": [
    {
     "name": "stdout",
     "output_type": "stream",
     "text": [
      "Counter({60459: 5, 62602: 2, 58113: 1})\n"
     ]
    }
   ],
   "source": [
    "c2 = collections.Counter()\n",
    "for report_client in report_clients:\n",
    "    c2[report_client] += 1\n",
    "print(c2)"
   ]
  },
  {
   "cell_type": "code",
   "execution_count": 137,
   "metadata": {},
   "outputs": [
    {
     "data": {
      "text/plain": [
       "[60459, 62602, 58113]"
      ]
     },
     "execution_count": 137,
     "metadata": {},
     "output_type": "execute_result"
    }
   ],
   "source": [
    "keys = [x for x in c2.keys()]\n",
    "keys"
   ]
  }
 ],
 "metadata": {
  "kernelspec": {
   "display_name": "Python 3",
   "language": "python",
   "name": "python3"
  },
  "language_info": {
   "codemirror_mode": {
    "name": "ipython",
    "version": 3
   },
   "file_extension": ".py",
   "mimetype": "text/x-python",
   "name": "python",
   "nbconvert_exporter": "python",
   "pygments_lexer": "ipython3",
   "version": "3.8.3"
  }
 },
 "nbformat": 4,
 "nbformat_minor": 4
}
