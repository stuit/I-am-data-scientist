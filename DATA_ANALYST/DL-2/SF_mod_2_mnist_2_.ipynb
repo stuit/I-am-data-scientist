{
  "cells": [
    {
      "cell_type": "markdown",
      "metadata": {
        "id": "frHiDRbv-JnK"
      },
      "source": [
        "Для воспроизводимости кода установим определенную версию tensorflow и keras"
      ]
    },
    {
      "cell_type": "code",
      "execution_count": 1,
      "metadata": {
        "id": "sfrrvxH_-Gdg"
      },
      "outputs": [
        {
          "name": "stdout",
          "output_type": "stream",
          "text": [
            "\u001b[31mERROR: Could not find a version that satisfies the requirement tensorflow==2.1 (from versions: 2.5.0, 2.5.1, 2.5.2, 2.5.3, 2.6.0rc0, 2.6.0rc1, 2.6.0rc2, 2.6.0, 2.6.1, 2.6.2, 2.6.3, 2.6.4, 2.6.5, 2.7.0rc0, 2.7.0rc1, 2.7.0, 2.7.1, 2.7.2, 2.7.3, 2.7.4, 2.8.0rc0, 2.8.0rc1, 2.8.0, 2.8.1, 2.8.2, 2.8.3, 2.9.0rc0, 2.9.0rc1, 2.9.0rc2, 2.9.0, 2.9.1, 2.9.2, 2.10.0rc0, 2.10.0rc1, 2.10.0rc2, 2.10.0rc3, 2.10.0)\u001b[0m\n",
            "\u001b[31mERROR: No matching distribution found for tensorflow==2.1\u001b[0m\n",
            "\u001b[33mWARNING: You are using pip version 21.2.4; however, version 22.2.2 is available.\n",
            "You should consider upgrading via the '/Applications/Xcode.app/Contents/Developer/usr/bin/python3 -m pip install --upgrade pip' command.\u001b[0m\n"
          ]
        }
      ],
      "source": [
        "!pip3 install -q tensorflow==2.1"
      ]
    },
    {
      "cell_type": "code",
      "execution_count": 2,
      "metadata": {
        "id": "NPDfQS-kNO1v"
      },
      "outputs": [
        {
          "name": "stderr",
          "output_type": "stream",
          "text": [
            "2022-10-15 01:08:02.999888: I tensorflow/core/platform/cpu_feature_guard.cc:193] This TensorFlow binary is optimized with oneAPI Deep Neural Network Library (oneDNN) to use the following CPU instructions in performance-critical operations:  AVX2 FMA\n",
            "To enable them in other operations, rebuild TensorFlow with the appropriate compiler flags.\n"
          ]
        },
        {
          "ename": "ModuleNotFoundError",
          "evalue": "No module named 'pandas'",
          "output_type": "error",
          "traceback": [
            "\u001b[0;31m---------------------------------------------------------------------------\u001b[0m",
            "\u001b[0;31mModuleNotFoundError\u001b[0m                       Traceback (most recent call last)",
            "Cell \u001b[0;32mIn [2], line 7\u001b[0m\n\u001b[1;32m      5\u001b[0m \u001b[39mfrom\u001b[39;00m \u001b[39mtensorflow\u001b[39;00m\u001b[39m.\u001b[39;00m\u001b[39mkeras\u001b[39;00m\u001b[39m.\u001b[39;00m\u001b[39mbackend\u001b[39;00m \u001b[39mimport\u001b[39;00m clear_session\n\u001b[1;32m      6\u001b[0m \u001b[39mimport\u001b[39;00m \u001b[39mnumpy\u001b[39;00m \u001b[39mas\u001b[39;00m \u001b[39mnp\u001b[39;00m\n\u001b[0;32m----> 7\u001b[0m \u001b[39mimport\u001b[39;00m \u001b[39mpandas\u001b[39;00m \u001b[39mas\u001b[39;00m \u001b[39mpd\u001b[39;00m\n\u001b[1;32m      8\u001b[0m \u001b[39mimport\u001b[39;00m \u001b[39msklearn\u001b[39;00m\n\u001b[1;32m      9\u001b[0m \u001b[39mfrom\u001b[39;00m \u001b[39msklearn\u001b[39;00m\u001b[39m.\u001b[39;00m\u001b[39mmetrics\u001b[39;00m \u001b[39mimport\u001b[39;00m accuracy_score\n",
            "\u001b[0;31mModuleNotFoundError\u001b[0m: No module named 'pandas'"
          ]
        }
      ],
      "source": [
        "import tensorflow as tf\n",
        "from tensorflow import keras\n",
        "from tensorflow.keras.layers import Dense\n",
        "from tensorflow.keras.models import Sequential\n",
        "from tensorflow.keras.backend import clear_session\n",
        "import numpy as np\n",
        "import pandas as pd\n",
        "import sklearn\n",
        "from sklearn.metrics import accuracy_score\n",
        "import matplotlib.pyplot as plt"
      ]
    },
    {
      "cell_type": "code",
      "execution_count": null,
      "metadata": {
        "colab": {
          "base_uri": "https://localhost:8080/",
          "height": 51
        },
        "id": "B4QHV0JB9r9D",
        "outputId": "ffa88d18-7403-4ca2-b715-628d1c9e3ea8"
      },
      "outputs": [
        {
          "name": "stdout",
          "output_type": "stream",
          "text": [
            "We're using TF 2.1.0\n",
            "We are using Keras 2.2.4-tf\n"
          ]
        }
      ],
      "source": [
        "print(\"We're using TF\", tf.__version__)\n",
        "print(\"We are using Keras\", keras.__version__)"
      ]
    },
    {
      "cell_type": "code",
      "execution_count": null,
      "metadata": {
        "colab": {
          "base_uri": "https://localhost:8080/",
          "height": 34
        },
        "id": "Xfoji_vbLUiA",
        "outputId": "ea409841-df9a-402c-9799-de1628d2a5c0"
      },
      "outputs": [
        {
          "data": {
            "text/plain": [
              "'/device:GPU:0'"
            ]
          },
          "execution_count": 6,
          "metadata": {
            "tags": []
          },
          "output_type": "execute_result"
        }
      ],
      "source": [
        "# Проверяем что у нас работает GPU\n",
        "tf.test.gpu_device_name()"
      ]
    },
    {
      "cell_type": "code",
      "execution_count": null,
      "metadata": {
        "colab": {
          "base_uri": "https://localhost:8080/",
          "height": 34
        },
        "id": "5oglA59FL0wA",
        "outputId": "ba63ddb3-6367-452c-f24a-f55029d69e3e"
      },
      "outputs": [
        {
          "name": "stdout",
          "output_type": "stream",
          "text": [
            "GPU 0: Tesla P100-PCIE-16GB (UUID: GPU-13de090b-141b-aea6-2527-6a888ca6d8bd)\n"
          ]
        }
      ],
      "source": [
        "#GPU count and name\n",
        "!nvidia-smi -L"
      ]
    },
    {
      "cell_type": "code",
      "execution_count": null,
      "metadata": {
        "colab": {
          "base_uri": "https://localhost:8080/",
          "height": 289
        },
        "id": "rYt8uY3aOaFT",
        "outputId": "a5511fb1-9e56-4432-aa94-4864a7145a9d"
      },
      "outputs": [
        {
          "name": "stdout",
          "output_type": "stream",
          "text": [
            "Mon Apr  6 18:54:09 2020       \n",
            "+-----------------------------------------------------------------------------+\n",
            "| NVIDIA-SMI 440.64.00    Driver Version: 418.67       CUDA Version: 10.1     |\n",
            "|-------------------------------+----------------------+----------------------+\n",
            "| GPU  Name        Persistence-M| Bus-Id        Disp.A | Volatile Uncorr. ECC |\n",
            "| Fan  Temp  Perf  Pwr:Usage/Cap|         Memory-Usage | GPU-Util  Compute M. |\n",
            "|===============================+======================+======================|\n",
            "|   0  Tesla P100-PCIE...  Off  | 00000000:00:04.0 Off |                    0 |\n",
            "| N/A   37C    P0    33W / 250W |    265MiB / 16280MiB |      0%      Default |\n",
            "+-------------------------------+----------------------+----------------------+\n",
            "                                                                               \n",
            "+-----------------------------------------------------------------------------+\n",
            "| Processes:                                                       GPU Memory |\n",
            "|  GPU       PID   Type   Process name                             Usage      |\n",
            "|=============================================================================|\n",
            "+-----------------------------------------------------------------------------+\n"
          ]
        }
      ],
      "source": [
        "#use this command to see GPU activity while doing Deep Learning tasks, for this command 'nvidia-smi' and for above one to work, go to 'Runtime > change runtime type > Hardware Accelerator > GPU'\n",
        "!nvidia-smi"
      ]
    },
    {
      "cell_type": "markdown",
      "metadata": {
        "id": "aM4jVTyFDFqx"
      },
      "source": [
        "# MNIST"
      ]
    },
    {
      "cell_type": "code",
      "execution_count": null,
      "metadata": {
        "colab": {
          "base_uri": "https://localhost:8080/",
          "height": 51
        },
        "id": "5ynJ91PONjLN",
        "outputId": "e88112cd-2e1b-49da-9cf9-b378a1857f64"
      },
      "outputs": [
        {
          "name": "stdout",
          "output_type": "stream",
          "text": [
            "Downloading data from https://storage.googleapis.com/tensorflow/tf-keras-datasets/mnist.npz\n",
            "11493376/11490434 [==============================] - 0s 0us/step\n"
          ]
        }
      ],
      "source": [
        "# скачиваем данные\n",
        "(x_train, y_train), (x_val, y_val) = tf.keras.datasets.mnist.load_data()"
      ]
    },
    {
      "cell_type": "code",
      "execution_count": null,
      "metadata": {
        "colab": {
          "base_uri": "https://localhost:8080/",
          "height": 85
        },
        "id": "gFOePELMN8KM",
        "outputId": "14bd8f90-bc73-4fca-d0d2-60de88f0d7ea"
      },
      "outputs": [
        {
          "name": "stdout",
          "output_type": "stream",
          "text": [
            "(60000, 28, 28)\n",
            "(10000, 28, 28)\n",
            "[5 0 4 1 9 2 1 3 1 4]\n",
            "[7 2 1 0 4 1 4 9 5 9]\n"
          ]
        }
      ],
      "source": [
        "# что за данные\n",
        "print(x_train.shape)\n",
        "print(x_val.shape)\n",
        "print (y_train[:10])\n",
        "print (y_val[:10])"
      ]
    },
    {
      "cell_type": "code",
      "execution_count": null,
      "metadata": {
        "colab": {
          "base_uri": "https://localhost:8080/",
          "height": 581
        },
        "id": "S_1_CbatN_Kt",
        "outputId": "432fbdc6-df9c-465c-f6f6-29c3bddf7ab3"
      },
      "outputs": [
        {
          "name": "stdout",
          "output_type": "stream",
          "text": [
            "Пример кусочка картинки (пиксели со значениями от 0 до 255):\n"
          ]
        },
        {
          "data": {
            "image/png": "[encoded data removed]",
            "text/plain": [
              "<Figure size 432x288 with 1 Axes>"
            ]
          },
          "metadata": {
            "tags": []
          },
          "output_type": "display_data"
        },
        {
          "name": "stdout",
          "output_type": "stream",
          "text": [
            "Пример картинки:\n"
          ]
        },
        {
          "data": {
            "image/png": "[encoded data removed]",
            "text/plain": [
              "<Figure size 432x288 with 1 Axes>"
            ]
          },
          "metadata": {
            "tags": []
          },
          "output_type": "display_data"
        },
        {
          "name": "stdout",
          "output_type": "stream",
          "text": [
            "y_train [shape (60000,)] 10 примеров:\n",
            " [5 0 4 1 9 2 1 3 1 4]\n"
          ]
        }
      ],
      "source": [
        "# нарисуем картинку\n",
        "x_train_image = np.tile(x_train[5, :, :].reshape((28, 28))[:, :, np.newaxis], (1, 1, 3))\n",
        "print(\"Пример кусочка картинки (пиксели со значениями от 0 до 255):\")\n",
        "plt.imshow(x_train_image[15:20, 5:10], cmap=\"Greys\")\n",
        "plt.show()\n",
        "print(\"Пример картинки:\")\n",
        "plt.imshow(x_train_image, cmap=\"Greys\")\n",
        "plt.show()\n",
        "print(\"y_train [shape %s] 10 примеров:\\n\" % (str(y_train.shape)), y_train[:10])"
      ]
    },
    {
      "cell_type": "code",
      "execution_count": null,
      "metadata": {
        "colab": {
          "base_uri": "https://localhost:8080/",
          "height": 589
        },
        "id": "N8lbRW0WBPvh",
        "outputId": "6d7cdadf-e01d-4849-d3ff-54c885a9a0a0"
      },
      "outputs": [
        {
          "data": {
            "image/png": "[encoded data removed]",
            "text/plain": [
              "<Figure size 720x720 with 25 Axes>"
            ]
          },
          "metadata": {
            "tags": []
          },
          "output_type": "display_data"
        }
      ],
      "source": [
        "# Посмотрим побольше примеров\n",
        "plt.figure(figsize=(10,10))\n",
        "for i in range(25):\n",
        "    plt.subplot(5,5,i+1)\n",
        "    plt.xticks([])\n",
        "    plt.yticks([])\n",
        "    plt.grid(False)\n",
        "    plt.imshow(x_train[i], cmap=\"Greys\")\n",
        "    plt.xlabel(y_train[i])\n",
        "plt.show()"
      ]
    },
    {
      "cell_type": "markdown",
      "metadata": {
        "id": "Zs9l8YcDCn77"
      },
      "source": [
        "# Data"
      ]
    },
    {
      "cell_type": "code",
      "execution_count": null,
      "metadata": {
        "colab": {
          "base_uri": "https://localhost:8080/",
          "height": 51
        },
        "id": "Gy5rjeOE1RGk",
        "outputId": "69f5b766-089d-44e4-b4b9-e56c21c07b73"
      },
      "outputs": [
        {
          "name": "stdout",
          "output_type": "stream",
          "text": [
            "(60000, 28, 28) (60000, 784)\n",
            "(10000, 28, 28) (10000, 784)\n"
          ]
        }
      ],
      "source": [
        "# вытянем картинку в вектор размера 28*28=784 и будем использовать это как фичи!\n",
        "\n",
        "x_train_flat = x_train.reshape(-1, 28*28).astype(float)\n",
        "print(x_train.shape, x_train_flat.shape)\n",
        "\n",
        "x_val_flat = x_val.reshape(-1, 28*28).astype(float)\n",
        "print(x_val.shape, x_val_flat.shape)"
      ]
    },
    {
      "cell_type": "code",
      "execution_count": null,
      "metadata": {
        "id": "eiiClrqZC1ev"
      },
      "outputs": [],
      "source": [
        "# центрируем и нормируем, так сети будет проще учиться\n",
        "x_train_float = x_train_flat.astype(np.float) / 255 - 0.5\n",
        "x_val_float = x_val_flat.astype(np.float) / 255 - 0.5\n",
        "\n",
        "# по сути, это действия аналогичны нормализации через StandardScaler\n",
        "# from sklearn.preprocessing import StandardScaler\n",
        "# scaler = StandardScaler()\n",
        "# x_train_flat = scaler.fit_transform(x_train_flat)\n",
        "# x_val_flat = scaler.transform(x_val_flat)\n",
        "\n",
        "# Но попробуйте пропустить нормирование и посмотрите что будет ;)\n",
        "# x_train_float = x_train_flat.astype(np.float)\n",
        "# x_val_float = x_val_flat.astype(np.float)"
      ]
    },
    {
      "cell_type": "code",
      "execution_count": null,
      "metadata": {
        "colab": {
          "base_uri": "https://localhost:8080/",
          "height": 119
        },
        "id": "lLz736fXE1mN",
        "outputId": "62b25294-0a2a-4c72-d47a-747a313d9030"
      },
      "outputs": [
        {
          "name": "stdout",
          "output_type": "stream",
          "text": [
            "(60000, 10)\n",
            "[[0. 0. 0. 0. 0. 1. 0. 0. 0. 0.]\n",
            " [1. 0. 0. 0. 0. 0. 0. 0. 0. 0.]\n",
            " [0. 0. 0. 0. 1. 0. 0. 0. 0. 0.]\n",
            " [0. 1. 0. 0. 0. 0. 0. 0. 0. 0.]\n",
            " [0. 0. 0. 0. 0. 0. 0. 0. 0. 1.]] [5 0 4 1 9]\n"
          ]
        }
      ],
      "source": [
        "# one-hot encode для ответов\n",
        "y_train_oh = keras.utils.to_categorical(y_train, 10)\n",
        "y_val_oh = keras.utils.to_categorical(y_val, 10)\n",
        "\n",
        "print(y_train_oh.shape)\n",
        "print(y_train_oh[:5], y_train[:5])"
      ]
    },
    {
      "cell_type": "markdown",
      "metadata": {
        "id": "n8jUd6IORgQh"
      },
      "source": [
        "# Собираем модель\n",
        "\n",
        "Построим простой Multi layer Perceptron (MLP) классификатор в Keras (по аналогии со знакомым нам уже MLPClassifier из sklearn)\n",
        "\n",
        "<img src=\"https://cdn-images-1.medium.com/max/1600/1*Gh5PS4R_A5drl5ebd_gNrg@2x.png\" width=\"500\">\n"
      ]
    },
    {
      "cell_type": "markdown",
      "metadata": {
        "id": "cSdaCoTkUCxH"
      },
      "source": [
        "Сначала надо будет посчитать логиты (logit, линейное преобразование) $z_k$ для каждого класса: $$z_k = \\vec{x} \\cdot \\vec{w_k} + b_k \\quad k = 0..9$$\n",
        "\n",
        "А затем превратить логиты $z_k$ в вероятности $p_k$ при помощи функции softmax: $$p_k = \\frac{e^{z_k}}{\\sum_{i=0}^{9}{e^{z_i}}} \\quad k = 0..9$$\n",
        "\n",
        "Мы будем использовать cross-entropy для минимизации ошибки: $$\\text{cross-entropy}(y, p) = -\\sum_{k=0}^{9}{\\log(p_k)[y = k]}$$\n",
        "\n",
        "где $$ [x]=\\begin{cases} 1, \\quad \\text{если $x$ истина} \\\\ 0, \\quad \\text{иначе} \\end{cases} $$\n",
        "\n",
        "Минимизация cross-entropy двигает $p_k$ в сторону 1 когда $y = k$, что как раз мы и хотим.\n"
      ]
    },
    {
      "cell_type": "code",
      "execution_count": null,
      "metadata": {
        "id": "EaI0ev6BOI2r"
      },
      "outputs": [],
      "source": [
        "clear_session()"
      ]
    },
    {
      "cell_type": "code",
      "execution_count": null,
      "metadata": {
        "id": "yrIcMsFlHp4U"
      },
      "outputs": [],
      "source": [
        "# Архитектура сети\n",
        "model = Sequential()\n",
        "model.add(Dense(256, activation='relu', input_shape=(x_train_float.shape[1],))) # первый скрытый слой\n",
        "model.add(Dense(128, activation='relu',)) # второй скрытый слой\n",
        "model.add(Dense(10, activation='softmax',)) # выходной слой"
      ]
    },
    {
      "cell_type": "code",
      "execution_count": null,
      "metadata": {
        "colab": {
          "base_uri": "https://localhost:8080/",
          "height": 255
        },
        "id": "dumFu1lQHpm_",
        "outputId": "345b2a7d-297f-4f2d-887e-7843b4aa6026"
      },
      "outputs": [
        {
          "name": "stdout",
          "output_type": "stream",
          "text": [
            "Model: \"sequential\"\n",
            "_________________________________________________________________\n",
            "Layer (type)                 Output Shape              Param #   \n",
            "=================================================================\n",
            "dense (Dense)                (None, 256)               200960    \n",
            "_________________________________________________________________\n",
            "dense_1 (Dense)              (None, 128)               32896     \n",
            "_________________________________________________________________\n",
            "dense_2 (Dense)              (None, 10)                1290      \n",
            "=================================================================\n",
            "Total params: 235,146\n",
            "Trainable params: 235,146\n",
            "Non-trainable params: 0\n",
            "_________________________________________________________________\n"
          ]
        }
      ],
      "source": [
        "model.summary()"
      ]
    },
    {
      "cell_type": "code",
      "execution_count": null,
      "metadata": {
        "id": "UNi21kLiJCys"
      },
      "outputs": [],
      "source": [
        "model.compile(\n",
        "    loss='categorical_crossentropy',  # минимизируем кросс-энтропию\n",
        "    optimizer='adam',  # так будет быстрее, позже узнаем что это :)\n",
        "    metrics=['accuracy']  # выводим процент правильных ответов\n",
        ")"
      ]
    },
    {
      "cell_type": "code",
      "execution_count": null,
      "metadata": {
        "colab": {
          "base_uri": "https://localhost:8080/",
          "height": 374
        },
        "id": "rsO0ZQFDJFq_",
        "outputId": "07b403ea-10ed-4ef4-ec05-fa40baf8688b"
      },
      "outputs": [
        {
          "name": "stdout",
          "output_type": "stream",
          "text": [
            "Train on 60000 samples, validate on 10000 samples\n",
            "Epoch 1/10\n",
            "60000/60000 [==============================] - 4s 59us/sample - loss: 0.3003 - accuracy: 0.9081 - val_loss: 0.1794 - val_accuracy: 0.9450\n",
            "Epoch 2/10\n",
            "60000/60000 [==============================] - 3s 53us/sample - loss: 0.1412 - accuracy: 0.9570 - val_loss: 0.1191 - val_accuracy: 0.9629\n",
            "Epoch 3/10\n",
            "60000/60000 [==============================] - 3s 52us/sample - loss: 0.1049 - accuracy: 0.9670 - val_loss: 0.1063 - val_accuracy: 0.9645\n",
            "Epoch 4/10\n",
            "60000/60000 [==============================] - 3s 52us/sample - loss: 0.0840 - accuracy: 0.9739 - val_loss: 0.0945 - val_accuracy: 0.9703\n",
            "Epoch 5/10\n",
            "60000/60000 [==============================] - 3s 52us/sample - loss: 0.0732 - accuracy: 0.9765 - val_loss: 0.1058 - val_accuracy: 0.9669\n",
            "Epoch 6/10\n",
            "60000/60000 [==============================] - 3s 52us/sample - loss: 0.0609 - accuracy: 0.9798 - val_loss: 0.1227 - val_accuracy: 0.9617\n",
            "Epoch 7/10\n",
            "60000/60000 [==============================] - 3s 52us/sample - loss: 0.0537 - accuracy: 0.9823 - val_loss: 0.0811 - val_accuracy: 0.9750\n",
            "Epoch 8/10\n",
            "60000/60000 [==============================] - 3s 51us/sample - loss: 0.0485 - accuracy: 0.9841 - val_loss: 0.0915 - val_accuracy: 0.9729\n",
            "Epoch 9/10\n",
            "60000/60000 [==============================] - 3s 52us/sample - loss: 0.0428 - accuracy: 0.9857 - val_loss: 0.0879 - val_accuracy: 0.9749\n",
            "Epoch 10/10\n",
            "60000/60000 [==============================] - 3s 52us/sample - loss: 0.0403 - accuracy: 0.9869 - val_loss: 0.0750 - val_accuracy: 0.9795\n"
          ]
        }
      ],
      "source": [
        "history = model.fit(\n",
        "                    x_train_float, \n",
        "                    y_train_oh,\n",
        "                    batch_size=64,  # 64 объекта для подсчета градиента на каждом шаге\n",
        "                    epochs=10,  # 10 проходов по датасету\n",
        "                    validation_data=(x_val_float, y_val_oh)\n",
        "                    )"
      ]
    },
    {
      "cell_type": "code",
      "execution_count": null,
      "metadata": {
        "colab": {
          "base_uri": "https://localhost:8080/",
          "height": 350
        },
        "id": "zM4NTDXyQn0A",
        "outputId": "ed04b618-3cd1-46c3-c334-f82675d159fb"
      },
      "outputs": [
        {
          "data": {
            "image/png": "[encoded data removed]",
            "text/plain": [
              "<Figure size 720x360 with 1 Axes>"
            ]
          },
          "metadata": {
            "tags": []
          },
          "output_type": "display_data"
        }
      ],
      "source": [
        "# Plot training & validation accuracy values\n",
        "plt.style.use(['dark_background'])\n",
        "fig, ax = plt.subplots(figsize=(10, 5))\n",
        "plt.plot(history.history['accuracy'])\n",
        "plt.plot(history.history['val_accuracy'])\n",
        "plt.title('Model accuracy')\n",
        "plt.ylabel('Accuracy')\n",
        "plt.xlabel('Epoch')\n",
        "plt.legend(['Train', 'Test'], loc='upper left')\n",
        "plt.show()"
      ]
    },
    {
      "cell_type": "code",
      "execution_count": null,
      "metadata": {
        "colab": {
          "base_uri": "https://localhost:8080/",
          "height": 350
        },
        "id": "uUwz9JG0R-9w",
        "outputId": "a0fd66f7-4ba4-421d-9ebf-ab39b3e93595"
      },
      "outputs": [
        {
          "data": {
            "image/png": "[encoded data removed]",
            "text/plain": [
              "<Figure size 720x360 with 1 Axes>"
            ]
          },
          "metadata": {
            "tags": []
          },
          "output_type": "display_data"
        }
      ],
      "source": [
        "# Plot training & validation loss values\n",
        "plt.style.use(['dark_background'])\n",
        "fig, ax = plt.subplots(figsize=(10, 5))\n",
        "plt.plot(history.history['loss'])\n",
        "plt.plot(history.history['val_loss'])\n",
        "plt.title('Model loss')\n",
        "plt.ylabel('Loss')\n",
        "plt.xlabel('Epoch')\n",
        "plt.legend(['Train', 'Test'], loc='upper left')\n",
        "plt.show()"
      ]
    },
    {
      "cell_type": "code",
      "execution_count": null,
      "metadata": {
        "colab": {
          "base_uri": "https://localhost:8080/",
          "height": 238
        },
        "id": "gpkK_GHOSF2j",
        "outputId": "1695d436-4893-4d52-dbfc-f9ac9a50fb1b"
      },
      "outputs": [
        {
          "data": {
            "text/plain": [
              "array([[3.7976780e-10, 1.4765423e-06, 1.0373625e-06, ..., 9.9997568e-01,\n",
              "        2.8929936e-09, 1.1557075e-06],\n",
              "       [4.6935046e-11, 1.5245649e-07, 9.9998355e-01, ..., 7.1067874e-12,\n",
              "        1.7328855e-08, 3.7978248e-17],\n",
              "       [2.9848115e-07, 9.9863905e-01, 8.8465272e-04, ..., 4.6329878e-04,\n",
              "        1.6476364e-06, 9.9760364e-08],\n",
              "       ...,\n",
              "       [1.0953818e-14, 1.2799708e-12, 2.5284492e-12, ..., 2.2487969e-09,\n",
              "        4.3461439e-09, 1.1370821e-08],\n",
              "       [5.6421749e-07, 1.1316542e-14, 2.9154648e-09, ..., 1.6111365e-08,\n",
              "        1.0832634e-03, 4.2164494e-11],\n",
              "       [1.4757423e-09, 5.9035822e-13, 8.4996798e-10, ..., 1.7336293e-14,\n",
              "        1.1791868e-08, 1.4659207e-09]], dtype=float32)"
            ]
          },
          "execution_count": 31,
          "metadata": {
            "tags": []
          },
          "output_type": "execute_result"
        }
      ],
      "source": [
        "model.predict(x_val_float)"
      ]
    },
    {
      "cell_type": "code",
      "execution_count": null,
      "metadata": {
        "colab": {
          "base_uri": "https://localhost:8080/",
          "height": 34
        },
        "id": "_zELjA8bTG9m",
        "outputId": "6c65d279-a8ee-4549-f7d3-d4bd10cac99d"
      },
      "outputs": [
        {
          "data": {
            "text/plain": [
              "array([7, 2, 1, ..., 4, 5, 6])"
            ]
          },
          "execution_count": 32,
          "metadata": {
            "tags": []
          },
          "output_type": "execute_result"
        }
      ],
      "source": [
        "model.predict_classes(x_val_float)"
      ]
    },
    {
      "cell_type": "code",
      "execution_count": null,
      "metadata": {
        "colab": {
          "base_uri": "https://localhost:8080/",
          "height": 34
        },
        "id": "WV5Z-2qlJxa2",
        "outputId": "7121b72f-43ac-4f39-bbeb-109e22526151"
      },
      "outputs": [
        {
          "data": {
            "text/plain": [
              "array([7, 2, 1, ..., 4, 5, 6])"
            ]
          },
          "execution_count": 35,
          "metadata": {
            "tags": []
          },
          "output_type": "execute_result"
        }
      ],
      "source": [
        "# аналогично\n",
        "np.argmax(model.predict(x_val_float), axis = 1)"
      ]
    },
    {
      "cell_type": "code",
      "execution_count": null,
      "metadata": {
        "colab": {
          "base_uri": "https://localhost:8080/",
          "height": 34
        },
        "id": "j5MI71XhJPCk",
        "outputId": "b9a95153-ca91-4800-eb70-1f13d5a8f5e4"
      },
      "outputs": [
        {
          "name": "stdout",
          "output_type": "stream",
          "text": [
            "Test Accuracy:  0.9795\n"
          ]
        }
      ],
      "source": [
        "predicts = model.predict_classes(x_val_float)\n",
        "print('Test Accuracy: ', accuracy_score(y_val, predicts))"
      ]
    },
    {
      "cell_type": "code",
      "execution_count": null,
      "metadata": {
        "id": "eo1J3PATJCm2"
      },
      "outputs": [],
      "source": []
    },
    {
      "cell_type": "code",
      "execution_count": null,
      "metadata": {
        "id": "e3p6CJJXW9f4"
      },
      "outputs": [],
      "source": []
    }
  ],
  "metadata": {
    "accelerator": "GPU",
    "colab": {
      "collapsed_sections": [],
      "name": "SF_mod_2_mnist_2 .ipynb",
      "provenance": []
    },
    "kernelspec": {
      "display_name": "Python 3.9.6 64-bit",
      "language": "python",
      "name": "python3"
    },
    "language_info": {
      "codemirror_mode": {
        "name": "ipython",
        "version": 3
      },
      "file_extension": ".py",
      "mimetype": "text/x-python",
      "name": "python",
      "nbconvert_exporter": "python",
      "pygments_lexer": "ipython3",
      "version": "3.9.6"
    },
    "vscode": {
      "interpreter": {
        "hash": "31f2aee4e71d21fbe5cf8b01ff0e069b9275f58929596ceb00d14d90e3e16cd6"
      }
    }
  },
  "nbformat": 4,
  "nbformat_minor": 0
}
