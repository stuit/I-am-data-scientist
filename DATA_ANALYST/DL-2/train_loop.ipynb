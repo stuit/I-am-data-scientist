{
  "cells": [
    {
      "cell_type": "markdown",
      "metadata": {
        "id": "USoiuVcy8Maq"
      },
      "source": [
        "Делаем полноценный скрипт для обучения нейросети, это будет нейросеть для задачи линейной регрессии"
      ]
    },
    {
      "cell_type": "markdown",
      "metadata": {
        "id": "bcCC4aYK8jUF"
      },
      "source": [
        "Сгенерируем наши исходные данные"
      ]
    },
    {
      "cell_type": "code",
      "execution_count": 1,
      "metadata": {
        "id": "tEWF08_j9DQE"
      },
      "outputs": [],
      "source": [
        "import torch\n",
        "import numpy as np\n",
        "import matplotlib.pyplot as plt"
      ]
    },
    {
      "cell_type": "markdown",
      "metadata": {
        "id": "qLjKHQez9Py8"
      },
      "source": [
        "Для начала определимся с тем, где будут жить наши тензоры: на GPU или CPU"
      ]
    },
    {
      "cell_type": "code",
      "execution_count": 2,
      "metadata": {
        "colab": {
          "base_uri": "https://localhost:8080/",
          "height": 35
        },
        "id": "wiIolS6A7e_Y",
        "outputId": "2b92f566-f173-4efe-a96a-3a702d73cf8d"
      },
      "outputs": [
        {
          "data": {
            "text/plain": [
              "'cpu'"
            ]
          },
          "execution_count": 2,
          "metadata": {},
          "output_type": "execute_result"
        }
      ],
      "source": [
        "device = 'cuda' if torch.cuda.is_available() else 'cpu'\n",
        "device"
      ]
    },
    {
      "cell_type": "markdown",
      "metadata": {
        "id": "BC5bjVPe-mAO"
      },
      "source": [
        "Сгенерируем исходные данные для линейной регрессии"
      ]
    },
    {
      "cell_type": "code",
      "execution_count": 3,
      "metadata": {
        "colab": {
          "base_uri": "https://localhost:8080/",
          "height": 282
        },
        "id": "pmHV2gSv-ujc",
        "outputId": "2b0126f3-498a-4efb-8893-f1b398040c0c"
      },
      "outputs": [
        {
          "data": {
            "text/plain": [
              "[<matplotlib.lines.Line2D at 0x121e56bb0>]"
            ]
          },
          "execution_count": 3,
          "metadata": {},
          "output_type": "execute_result"
        },
        {
          "data": {
            "image/png": "[encoded data removed]",
            "text/plain": [
              "<Figure size 640x480 with 1 Axes>"
            ]
          },
          "metadata": {},
          "output_type": "display_data"
        }
      ],
      "source": [
        "np.random.seed(42)\n",
        "data_size = 100\n",
        "\n",
        "x = np.random.rand(data_size, 1)\n",
        "y = 1 + 2 * x + .1 * np.random.randn(data_size, 1)\n",
        "\n",
        "# Перемешаем индексы\n",
        "idx = np.arange(data_size)\n",
        "np.random.shuffle(idx)\n",
        "\n",
        "# Возьмем первые 80% для тренировки\n",
        "margin = int(data_size * 0.8)\n",
        "train_idx = idx[:margin]\n",
        "# оставшиеся 20% для валидации\n",
        "val_idx = idx[margin:]\n",
        "\n",
        "# Соберем датасеты\n",
        "x_train, y_train = x[train_idx], y[train_idx]\n",
        "x_val, y_val = x[val_idx], y[val_idx]\n",
        "\n",
        "plt.plot(x_train, y_train, 'o')\n",
        "plt.plot(x_val, y_val, 'o')"
      ]
    },
    {
      "cell_type": "markdown",
      "metadata": {
        "id": "6YrCxCHdCia-"
      },
      "source": [
        "Определим гиперпараметры: количество эпох и шаг обучения. Зафиксируем генератор случайных чисел в PyTorch"
      ]
    },
    {
      "cell_type": "code",
      "execution_count": 4,
      "metadata": {
        "colab": {
          "base_uri": "https://localhost:8080/"
        },
        "id": "MrXV8kvS9bzt",
        "outputId": "888a8348-be42-4aa4-bb94-a51bb168ad51"
      },
      "outputs": [
        {
          "data": {
            "text/plain": [
              "<torch._C.Generator at 0x110d74b70>"
            ]
          },
          "execution_count": 4,
          "metadata": {},
          "output_type": "execute_result"
        }
      ],
      "source": [
        "lr = 1e-1\n",
        "n_epochs = 1000\n",
        "torch.manual_seed(42)"
      ]
    },
    {
      "cell_type": "markdown",
      "metadata": {
        "id": "kyXsOPZID_bm"
      },
      "source": [
        "Создадим тензоры для исходных данных"
      ]
    },
    {
      "cell_type": "code",
      "execution_count": 5,
      "metadata": {
        "id": "lZ7TBQw9D_11"
      },
      "outputs": [],
      "source": [
        "x_train_tensor = torch.from_numpy(x_train).float().to(device)\n",
        "y_train_tensor = torch.from_numpy(y_train).float().to(device)"
      ]
    },
    {
      "cell_type": "markdown",
      "metadata": {
        "id": "DPanF4YUC8gU"
      },
      "source": [
        "Создадим тензоры для параметров регрессии **а** и **b**. Инициализируем их случайными значениями\n",
        "\n",
        "Обратите внимание на параметр **requires_grad**=**True**, таким образом мы сообщаем PyTorch, что он должен менять эти значения"
      ]
    },
    {
      "cell_type": "code",
      "execution_count": 6,
      "metadata": {
        "colab": {
          "base_uri": "https://localhost:8080/"
        },
        "id": "cfDyspAODfhW",
        "outputId": "a0ee2ce0-f35b-49bb-aca1-fb44017c8631"
      },
      "outputs": [
        {
          "data": {
            "text/plain": [
              "tensor([0.3367], requires_grad=True)"
            ]
          },
          "execution_count": 6,
          "metadata": {},
          "output_type": "execute_result"
        }
      ],
      "source": [
        "a = torch.randn(1, requires_grad=True, dtype=torch.float, device=device)\n",
        "b = torch.randn(1, requires_grad=True, dtype=torch.float, device=device)\n",
        "a"
      ]
    },
    {
      "cell_type": "markdown",
      "metadata": {
        "id": "vkPJMtgdEnOW"
      },
      "source": [
        "Собственно, цикл обучения"
      ]
    },
    {
      "cell_type": "code",
      "execution_count": 16,
      "metadata": {
        "colab": {
          "base_uri": "https://localhost:8080/"
        },
        "id": "-kx7uB75FDKl",
        "outputId": "2646c436-39df-479f-a482-878bcc0a85e3"
      },
      "outputs": [
        {
          "name": "stdout",
          "output_type": "stream",
          "text": [
            "a = 1.023543119430542, b = 1.9689600467681885\n"
          ]
        }
      ],
      "source": [
        "import torch.optim as optim\n",
        "\n",
        "# Оптимизатор будет обновлять параметры\n",
        "optimizer = optim.SGD([a, b], lr=lr)\n",
        "\n",
        "for epoch in range(n_epochs):\n",
        "    # Считаем целевую переменную yhat\n",
        "    yhat = a + b * x_train_tensor\n",
        "    # Считаем ошибку\n",
        "    error = y_train_tensor - yhat\n",
        "    # Считаем лосс\n",
        "    # loss =  error.abs().mean() # MAE\n",
        "    loss = (error ** 2).mean() # MSE\n",
        "\n",
        "    # Здесь считается градиент для каждого тензора (а и b) и записывается в параметры a и b\n",
        "    loss.backward()     \n",
        "    \n",
        "    # Обновляем параметры. Обязательно делать это в режиме no_grad()\n",
        "    # with torch.no_grad():\n",
        "    #     a -= lr * a.grad\n",
        "    #     b -= lr * b.grad\n",
        "    optimizer.step()\n",
        "    \n",
        "    # Обнуляем градиенты\n",
        "    optimizer.zero_grad()\n",
        "    \n",
        "print(f'a = {a.item()}, b = {b.item()}')"
      ]
    },
    {
      "cell_type": "code",
      "execution_count": null,
      "metadata": {
        "id": "TcOeLMIBFKBc"
      },
      "outputs": [],
      "source": []
    }
  ],
  "metadata": {
    "accelerator": "GPU",
    "colab": {
      "name": "train_loop.ipynb",
      "provenance": []
    },
    "kernelspec": {
      "display_name": "Python 3.9.6 64-bit",
      "language": "python",
      "name": "python3"
    },
    "language_info": {
      "codemirror_mode": {
        "name": "ipython",
        "version": 3
      },
      "file_extension": ".py",
      "mimetype": "text/x-python",
      "name": "python",
      "nbconvert_exporter": "python",
      "pygments_lexer": "ipython3",
      "version": "3.9.6"
    },
    "vscode": {
      "interpreter": {
        "hash": "31f2aee4e71d21fbe5cf8b01ff0e069b9275f58929596ceb00d14d90e3e16cd6"
      }
    }
  },
  "nbformat": 4,
  "nbformat_minor": 0
}
