{
 "cells": [
  {
   "cell_type": "markdown",
   "id": "ac91218c",
   "metadata": {},
   "source": [
    "# Описание задачи\n",
    "## В задачи пректа входит:\n",
    "\n",
    "- EDA предоставленных данных\n",
    "- Создание скоринговой модели \n",
    "- Эксперименты с моделью (обагащение данных, отбор признаков, различные подходык кодировке признаков и т.д.)\n",
    "- Подбор гиперпараметров\n",
    "- Получение предсказанных моделью значений для участие в соревновании на Kaggle\n",
    "\n",
    "\n",
    "## Описание датасета\n",
    "Первоначальная версия датасета состоит из 19-ти столбцов, содержащих следующую информацию:\n",
    "\n",
    "- **client_id** - идентификатор клиента\n",
    "- **education** - уровень образования\n",
    "- **sex** - пол заёмщика\n",
    "- **age** - возраст заёмщика\n",
    "- **car** - флаг наличия автомобиля\n",
    "- **car_type**\t- флаг автомобиля-иномарки\n",
    "- **decline_app_cnt** - количество отказанных прошлых заявок\n",
    "- **good_work** - флаг наличия «хорошей» работы\n",
    "- **bki_request_cnt** - количество запросов в БКИ\n",
    "- **home_address** - категоризатор домашнего адреса\n",
    "- **work_address** - категоризатор рабочего адреса\n",
    "- **income** - доход заёмщика\n",
    "- **foreign_passport** - наличие загранпаспорта\n",
    "- **sna** - связь заемщика с клиентами банка\n",
    "- **first_time** - давность наличия информации о заемщике\n",
    "- **score_bki** - скоринговый балл по данным из БКИ\n",
    "- **region_rating** - рейтинг региона\n",
    "- **app_date** - дата подачи заявки\n",
    "- **default** - наличие дефолта (целевая переменная)\n",
    "\n",
    "# План работы\n",
    "- Импорт библиотек, определение функций, установка параметров\n",
    "- Ознакомление с данными, разделение признаков на типы \n",
    "- Первичная визуализация, первичный анализ\n",
    "- Первичная предобработка\n",
    "- Baseline\n",
    "- Устранение дисбаланса выборки\n",
    "- Работа с  выбросами\n",
    "- Обработка пропусков\n",
    "- Биннинг числовых признаков, dummy кодирование выделяющихся bin-ов\n",
    "- Dummy-кодирование категориальных признаков\n",
    "- Создание новых признаков\n",
    "- Отбор признаков\n",
    "- Определение оптимального размера набора данных\n",
    "- Подбор гиперпараметров\n",
    "- Получение submission"
   ]
  },
  {
   "cell_type": "markdown",
   "id": "f52fcfd8",
   "metadata": {},
   "source": [
    "# Импорт библиотек, определение функций, установка параметров\n",
    "## Импорт библиотек"
   ]
  },
  {
   "cell_type": "code",
   "execution_count": 1,
   "id": "e549547a",
   "metadata": {},
   "outputs": [],
   "source": [
    "import pandas as pd\n",
    "import numpy as np\n",
    "\n",
    "import matplotlib.pyplot as plt\n",
    "import seaborn as sns\n",
    "\n",
    "from sklearn.preprocessing import LabelEncoder, OneHotEncoder, StandardScaler, MinMaxScaler\n",
    "from sklearn.model_selection import train_test_split, cross_validate, learning_curve\n",
    "from sklearn.model_selection import StratifiedKFold\n",
    "from sklearn.model_selection import RandomizedSearchCV, GridSearchCV\n",
    "from sklearn.linear_model import LogisticRegression\n",
    "from sklearn.ensemble import RandomForestClassifier, GradientBoostingClassifier\n",
    "from sklearn.neighbors import KNeighborsClassifier\n",
    "from sklearn.metrics import roc_auc_score, f1_score\n",
    "from tqdm import tqdm\n",
    "\n",
    "import warnings\n",
    "import os"
   ]
  },
  {
   "cell_type": "markdown",
   "id": "746a97ec",
   "metadata": {},
   "source": [
    "## Функции используемые в ноутбуке¶"
   ]
  },
  {
   "cell_type": "code",
   "execution_count": 2,
   "id": "43f4caed",
   "metadata": {},
   "outputs": [],
   "source": [
    "def get_data():\n",
    "    '''Возвращает обьедеиненный из train и test датасет \n",
    "    Проводит первичную обработку: \n",
    "     - удаляет идентификатор  client_id \n",
    "     - приводит временной ряд app_date к числовому виду       \n",
    "    '''\n",
    "    train = pd.read_csv(f'{path}train.csv')\n",
    "    test = pd.read_csv(f'{path}test.csv')\n",
    "\n",
    "    train['sample'] = 1  # помечаем где у нас трейн\n",
    "    test['sample'] = 0   # помечаем где у нас тест\n",
    "    test['default'] = 0  # в тесте нет значения default -  пока просто заполняем нулями\n",
    "\n",
    "    data = test.append(train, sort=False).reset_index(drop=True) # объединяем\n",
    "    \n",
    "    data.app_date = pd.to_datetime(data.app_date,format='%d%b%Y') # приводим временной ряд\n",
    "    data.app_date = (data.app_date - data.app_date.min()).dt.days # к числовому виду\n",
    "    \n",
    "    data.drop(columns='client_id',inplace=True) # \n",
    "    \n",
    "    return data\n",
    "\n",
    "def df_describe(df):\n",
    "    '''\n",
    "    Вывод простой статистки DataFrame\n",
    "    '''\n",
    "    desc = df.describe(include='all',percentiles=[0.5]).T # сохранение отчета от df.describe()\n",
    "    # получение и сохранение дополнительных статистик/свойств\n",
    "    desc['type'] = [type(x) for x in df.iloc[0]] # тип данных\n",
    "    desc['NaN'] = df.isna().sum()                # количество пропусков\n",
    "    desc.unique = df.nunique()                   # количество уникальных значений\n",
    "    desc.top = df.mode(axis=0).iloc[0]           # самое распрстроненноё значение\n",
    "    desc.freq = [df[col].value_counts().iloc[0] for col in  df.columns] # количество top в признаке\n",
    "    return desc\n",
    "\n",
    "def nums_visualisation(df,annotation=False):\n",
    "    '''\n",
    "    визуализация распределений количественных признаков: \\n\n",
    "        - гисторгамма распределения \\n\n",
    "        - boxplot распределения\n",
    "    '''\n",
    "    columns = df.columns\n",
    "    cols_num = df.shape[1]\n",
    "    \n",
    "    fstr = '\\033[1m{}\\033[0m, '* (len(columns)-1) + '\\033[1m{}\\033[0m'\n",
    "    if annotation: print(('Всего признаков этого типа {}. К ним относятся: ' + fstr).format(len(columns),*columns))\n",
    "\n",
    "    indent = 0.05\n",
    "    fig = plt.figure(figsize=(14,3))\n",
    "    for i,col in enumerate(columns):\n",
    "        row = df[col]\n",
    "        min_diff = pd.Series(row.unique()).sort_values().diff().min()\n",
    "        bins = min(int((row.max()-row.min()) /min_diff + 1),100)\n",
    "        \n",
    "        fig.add_axes([1/cols_num*i, 0.35, 1/cols_num-indent, 1])\n",
    "        plt.title(col)\n",
    "        row.plot.hist(bins=bins,density=True)\n",
    "    \n",
    "        fig.add_axes([1/cols_num*i, 0, 1/cols_num-indent, 0.2])\n",
    "        sns.boxplot(x=row)\n",
    "\n",
    "    plt.tight_layout()\n",
    "    \n",
    "def num_visualisation(column,df_inp,lg=False):\n",
    "    '''\n",
    "    Визулизация распределения количественного ризнака:\n",
    "        - гистограмма распределения в обучающей выборке при двух значениях целевой переменной\n",
    "        - boxplot распределения в обучающей выборке при двух значениях целевой переменной\n",
    "    '''\n",
    "    df = df_inp.copy()\n",
    "    \n",
    "    if lg: df[column] = np.log(df[column]+1)\n",
    "        \n",
    "    hue = df.default\n",
    "    trn = df[df['sample']==1]\n",
    "    tst = df[df['sample']==0]\n",
    "    \n",
    "    row = df[column]\n",
    "    row1 = trn[column][hue==0]\n",
    "    row2 = trn[column][hue==1]\n",
    "    \n",
    "    fig = plt.figure(figsize=(14,2))\n",
    "    \n",
    "    ax1 = fig.add_axes([0, 0.4, 1, 1])\n",
    "    plt.title('Распределение '+column+' в train в зависимоcти от значения default' )\n",
    "    row1.plot.kde(alpha = 0.65)\n",
    "    row2.plot.kde(alpha = 0.65)\n",
    "    plt.legend(['negative','positive'])\n",
    "    \n",
    "    ax2 = fig.add_axes([0, 0, 1, 0.30]) \n",
    "    ax1.get_shared_x_axes().join(ax1, ax2)\n",
    "    sns.boxplot(data = [row1,row2],orient='h',saturation = 0.5)\n",
    "\n",
    "def cats_visualisation(df,annotation=False):\n",
    "    '''\n",
    "    Визуализация распределения категориальных/бинарных переменных\n",
    "    '''\n",
    "    columns = df.columns\n",
    "    cols_num = df.shape[1]\n",
    "    \n",
    "    fstr = '\\033[1m{}\\033[0m, '* (len(columns)-1) + '\\033[1m{}\\033[0m'\n",
    "    if annotation: print(('Признаков этого типа {}. К ним относятся: ' + fstr).format(len(columns),*columns))\n",
    "    \n",
    "    indent = 0.05\n",
    "    fig = plt.figure(figsize=(14,2))\n",
    "    for i,col in enumerate(columns):        \n",
    "        fig.add_axes([1/cols_num*i, 0, 1/cols_num-indent, 1])\n",
    "        plt.title(col)\n",
    "        sns.countplot(df[col])\n",
    "    \n",
    "    fig = plt.figure(figsize=(14,2))\n",
    "    hue = data.default\n",
    "    for i,col in enumerate(columns):\n",
    "        fig.add_axes([1/cols_num*i, 0, 1/cols_num-indent, 1])         \n",
    "        dist = pd.Series(data.groupby(col).default.value_counts(normalize=True)[:,1])  \n",
    "        if annotation:\n",
    "            title = 'Доля полож-ного\\n класса default\\nв каждой из\\nкатегорий\\n'+ col\n",
    "        else:\n",
    "            title = 'доля default=1'\n",
    "        dist.plot.bar(title = title)\n",
    "        \n",
    "def  predproc_naive(data):\n",
    "    '''\n",
    "    Предподготовка для наивной модели\n",
    "    '''\n",
    "    feat_to_log = num_cols.drop(['app_date', 'score_bki']) # призеаки со скошенным распределением\n",
    "    data[feat_to_log] = np.log(data[feat_to_log]+1)        # их логарфмирование\n",
    "    \n",
    "    train_ind = data[data['sample']==1].index              # индесксы наблюдений из train в data\n",
    "    \n",
    "    scaler = StandardScaler()                                # обучение scaler на наблюдениях из \n",
    "    scaler.fit(data.loc[train_ind][num_cols])                # train и нормализация обученным scaler\n",
    "    data[num_cols] = scaler.transform(data[num_cols].values) # числовых признаков во всем data\n",
    "    \n",
    "    coder = LabelEncoder()                      # кодирование категориальных  и бинарных\n",
    "    column_to_code = cat_cols.append(bin_cols)  # признаков во всем data\n",
    "    data[column_to_code] = data[column_to_code].apply(lambda x: coder.fit_transform(x))\n",
    "    \n",
    "    return data\n",
    "\n",
    "def numeric_binning(feat,target,max_bin=20):\n",
    "    '''\n",
    "    WOE-binning для числовых переменных\n",
    "    '''\n",
    "    monotonic = lambda x: all(x.diff()[1:] <= 0) | all(x.diff()[1:] >= 0) # функция проверяющая монотонность\n",
    "    train_ind = data[data['sample']==1].index                             # индексы строк из train в data\n",
    "           \n",
    "    for n in range(max_bin,0,-1):                                  # начиная с n = max_bin пытамся\n",
    "        try:                                                       # разбить train на n бинов и нсли получилось\n",
    "            df = pd.DataFrame({\"feat\": feat[train_ind],            # сохраняем значение признака,  \n",
    "                               \"target\": target[train_ind],        # целевую \n",
    "                               \"bin\": pd.qcut(feat[train_ind], n)})# и бин\n",
    "            binned_feat = df.groupby(\"bin\")                        # группируем по бин\n",
    "            if monotonic(binned_feat.target.mean()): break         # если разбиение монотонное - выходим из цикла\n",
    "        except Exception as e:                                     # \n",
    "            continue                                               # \n",
    "            \n",
    "    event = binned_feat.target.sum()                                 # расчет по сгруппированному для каждого бина\n",
    "    nonevent = binned_feat.target.count() - binned_feat.target.sum() # вспомогательных event и nonevent (доли 1 и 0)\n",
    "    woe = np.log((event/event.sum())/(nonevent/nonevent.sum()))      # WoE и\n",
    "    iv = (event/event.sum() - nonevent/nonevent.sum()) * woe         # IV\n",
    "    \n",
    "    bins_tbl = pd.DataFrame({'woe':woe, 'iv':iv}).reset_index()      # формируем таблицу величин \n",
    "    bins_list = bins_tbl.bin.to_list()                               # бин , WoE и IV\n",
    "    bins_list[0] = pd.Interval(left=-np.inf, right=bins_list[0].right) # крайние бины расширяем до - и + бесконечности\n",
    "    bins_list[-1] = pd.Interval(left=bins_list[-1].left, right=np.inf) # ВАЖНО: бины расчитываются по train\n",
    "    bins_tbl.bin = pd.Series(bins_list)                                # впоследствии применяются ко всему df\n",
    "        \n",
    "    result = feat.apply(lambda x: bins_tbl[[x in xx for xx in bins_tbl.bin]].woe.iloc[0]) # сосопставляем кажжому наблюдению \n",
    "                                                                                          # WoE бина, к которому наблюдение \n",
    "    return result, bins_tbl                                                               # принадлежит.\n",
    "\n",
    "\n",
    "def validation(X,y,model):\n",
    "    '''\n",
    "    Валидация модели\n",
    "    '''\n",
    "    model = model\n",
    "    cv_results = cross_validate(model, X, y, scoring=('f1','precision','recall','accuracy'), cv=5,)\n",
    "    \n",
    "    result = pd.DataFrame({'mean':pd.Series(cv_results).apply(lambda x:(x.mean())),\n",
    "             'std':pd.Series(cv_results).apply(lambda x:(x.std()))}).iloc[2:,:]\n",
    "    return result \n",
    "\n",
    "def wiskers(row, wiskers_coef = 1.5):\n",
    "    '''\n",
    "    возвращает Lower Inner Fence и Upper Inner Fence метода IQR\n",
    "    '''\n",
    "    quart_1 = row.quantile(0.25)\n",
    "    quart_3 = row.quantile(0.75)\n",
    "    iqr = quart_3 - quart_1\n",
    "    l_board = quart_1 - wiskers_coef*iqr\n",
    "    r_board = quart_3 + wiskers_coef*iqr\n",
    "    \n",
    "    return l_board,r_board\n",
    "\n",
    "def outers_defolt_dist(df):\n",
    "    '''\n",
    "    возвращает долю позитивного класса вне Lower Inner Fence и Upper Inner Fence для признаков из df\n",
    "    '''\n",
    "    left_outer = []\n",
    "    right_outer = []\n",
    "    for feat in df.columns:\n",
    "        left_b, right_b = wiskers(df[feat])        # получение границ\n",
    "        left_mask = df[feat] < left_b              # маска индесков слева от левой границы\n",
    "        right_mask = df[feat] > right_b            # маска индексов справо от правой границы \n",
    "    \n",
    "        left_outer_dist = data.default[left_mask].value_counts(normalize=True).to_list() # получение доли 1 слева\n",
    "        left_outer_dist = left_outer_dist[1]  if left_outer_dist else np.NaN             # замена [] на NaN\n",
    "        right_outer_dist = data.default[right_mask].value_counts(normalize=True).to_list() # анлагочино\n",
    "        right_outer_dist = right_outer_dist[1]  if right_outer_dist else np.NaN            # справа\n",
    "        \n",
    "        left_outer.append(left_outer_dist)     # накапливания результатов по\n",
    "        right_outer.append(right_outer_dist)   # очередному признаку из df.columns\n",
    "        \n",
    "    result = pd.DataFrame([left_outer,right_outer],columns = df.columns, index = ['left_outer','right_outer'] )\n",
    "    \n",
    "    return result\n",
    "\n",
    "def class_weight_study():\n",
    "    '''\n",
    "    Строит зависимость метрик (f1,precision,recall,accuracy) от веса позитивного класса \n",
    "    цеелвой переменной при обучении LogisticRegression.\n",
    "    Выводит отчет в табличном и графическом виде\n",
    "    '''\n",
    "    f1_weight = pd.DataFrame(columns=['test_f1','test_precision','test_recall','test_accuracy'])\n",
    "\n",
    "    for pos_weight in range(1,14):\n",
    "        metrics = validation(X_train, y_train, LogisticRegression(class_weight={0:1,1:pos_weight}))\n",
    "        to_append = metrics['mean']             # получениезначений метрик при очерендном значении weight \n",
    "        to_append.name = pos_weight             # и их сохрание в pd.Series, замена в Series имени, котрое при  \n",
    "        f1_weight = f1_weight.append(to_append) # append станет индексом в DataFrame. Добавление Series в DataFrame\n",
    "\n",
    "    display(f1_weight.T)                        # вывод табличной части отчета\n",
    "\n",
    "    f1_weight.plot.line(figsize=(15,7),linewidth = 2,   # построение графической части\n",
    "                        xticks = f1_weight.index,\n",
    "                        grid=True, \n",
    "                        title = \"Зависимость метрик от веса позитивного класса \");\n",
    "    \n",
    "def model_imputer(model):\n",
    "    '''\n",
    "    заполняет пропускив data.education прогнозами переданной модели model\n",
    "    '''\n",
    "    imp = model \n",
    "\n",
    "    train_ind = data[data['sample']==1].index                             # индексы строк train-а в data\n",
    "    to_fill_index_train = train_ind[data.loc[train_ind].education.isna()] # индексы с пропусками из train.\n",
    "    to_fill_index = data.index[data.education.isna()]                     # индексы с пропусками\n",
    "    \n",
    "    to_learn_index = train_ind.drop(to_fill_index_train)                  # индексы наблюдение для обучения model\n",
    "\n",
    "    num_cols.drop(['app_date','score_bki'])                               # логарифмирование скошенных числовых\n",
    "    data[num_cols.drop(['app_date','score_bki'])] = np.log(data[num_cols.drop(['app_date','score_bki'])]+1)\n",
    "\n",
    "    scaler = StandardScaler()                                             # обучение scaler на наблюдениях\n",
    "    scaler.fit(data.loc[train_ind][num_cols].values)                      # из train и нормализация \n",
    "    data[num_cols] = scaler.transform(data[num_cols].values)              # всего датасета\n",
    "    \n",
    "    data.decline_app_cnt = (                                              # переопределение миноритарных \n",
    "        data.decline_app_cnt.apply(lambda x: x if x<4 else 4))            # категорий \n",
    "        \n",
    "    coder = LabelEncoder()                                                # кодирование категориальных признаков \n",
    "    column_to_code = cat_cols.append(bin_cols)                            # для обучения model\n",
    "    data[column_to_code] = data[column_to_code].apply(lambda x: coder.fit_transform(x))\n",
    "    \n",
    "    X_imp_train = data[data.columns.drop(['education'])].loc[to_learn_index]\n",
    "    y_imp_train = data.education.loc[to_learn_index]                      # данные для обучения\n",
    "\n",
    "    X_to_fill = data[data.columns.drop(['education'])].loc[to_fill_index] # данные для получения предсказания\n",
    "    \n",
    "    imp.fit(X_imp_train ,y_imp_train)                                     # обучение model\n",
    "\n",
    "    data.education[to_fill_index] = imp.predict(X_to_fill)                # заполнение пропусков\n",
    "    \n",
    "    return data"
   ]
  },
  {
   "cell_type": "markdown",
   "id": "8b3d4fa5",
   "metadata": {},
   "source": [
    "## Установка параметров"
   ]
  },
  {
   "cell_type": "code",
   "execution_count": 3,
   "id": "ffb790c2",
   "metadata": {},
   "outputs": [
    {
     "name": "stdout",
     "output_type": "stream",
     "text": [
      "Populating the interactive namespace from numpy and matplotlib\n"
     ]
    }
   ],
   "source": [
    "%pylab inline\n",
    "\n",
    "warnings.filterwarnings(\"ignore\")\n",
    "\n",
    "pd.set_option('display.max_rows', 70)    # выведем больше строк\n",
    "pd.set_option('display.max_columns', 30) # выведем больше колонок\n",
    "\n",
    "# альтернативные пути на kaggle и локальный (НЕ ЗАБЫВАТЬ МЕНЯТЬ!)\n",
    "path = './Project_5_data/'\n",
    "# path = '/kaggle/input/sf-scoring/'\n",
    "\n",
    "RANDOM_SEED = 42\n",
    "\n",
    "# словарь гиперпараметров для их подбора\n",
    "solvers_hyperparameters = {\n",
    "    'newton-cg': {'penalty': ['l2'] , \n",
    "                   'tol': logspace(-5,-2,4) ,\n",
    "                  'C': logspace(-4, 2, 7) , \n",
    "                  'class_weight':  [{0:1, 1:x} for x in range(5,6,1)] ,\n",
    "                  'max_iter': [500] \n",
    "                 }, \n",
    "    'lbfgs':     {'penalty': ['l2'] , \n",
    "                  'tol': logspace(-5,-2,4) ,\n",
    "                  'C': logspace(-4, 2, 7) , \n",
    "                 'class_weight':  [{0:1, 1:x} for x in range(5,6,1)] ,\n",
    "                  'max_iter': [500] \n",
    "                 }, \n",
    "    'liblinear': {'penalty': ['l1', 'l2'] , \n",
    "                  'tol': logspace(-5,-2,4) ,\n",
    "                  'C': logspace(-4, 2, 7) , \n",
    "                  'intercept_scaling': [1,3,10,33,100],  \n",
    "                 'class_weight':  [{0:1, 1:x} for x in range(5,6,1)] \n",
    "                 },\n",
    "    'sag':       {'penalty': ['l2'] , \n",
    "                  'tol': logspace(-5,-2,4) ,\n",
    "                  'C': logspace(-4, 2, 7) , \n",
    "                 'class_weight':  [{0:1, 1:x} for x in range(5,6,1)] ,\n",
    "                  'max_iter': [500] \n",
    "                 }, \n",
    "    'saga':      {'penalty': ['l1', 'l2'] , \n",
    "                  'tol': logspace(-5,-2,4) ,\n",
    "                  'C': logspace(-4, 2, 7) , \n",
    "                 'class_weight':  [{0:1, 1:x} for x in range(5,6,1)] \n",
    "                 }\n",
    "}"
   ]
  },
  {
   "cell_type": "markdown",
   "id": "8e428141",
   "metadata": {},
   "source": [
    "# Ознакомление с данными, разделение признаков на типы\n",
    "## Загрузка датасетов, их объединение, ознакомление с данными"
   ]
  },
  {
   "cell_type": "code",
   "execution_count": 4,
   "id": "63f2f64b",
   "metadata": {},
   "outputs": [],
   "source": [
    "train = pd.read_csv(f'{path}train.csv')\n",
    "test = pd.read_csv(f'{path}test.csv')\n",
    "sample_submission = pd.read_csv(f'{path}sample_submission.csv')"
   ]
  },
  {
   "cell_type": "markdown",
   "id": "7c2c59d3",
   "metadata": {},
   "source": [
    "Для корректной обработки признаков объединяем трейн и тест в один датасет data"
   ]
  },
  {
   "cell_type": "code",
   "execution_count": 5,
   "id": "dbe97132",
   "metadata": {},
   "outputs": [],
   "source": [
    "train['sample'] = 1  # помечаем где у нас трейн\n",
    "test['sample'] = 0   # помечаем где у нас тест\n",
    "test['default'] = 0  # в тесте нет значения default -  пока просто заполняем нулями\n",
    "\n",
    "data = test.append(train, sort=False).reset_index(drop=True) # объединяем\n",
    "\n",
    "train_index = data[data['sample']==1].index # сохраняем data инжексы наблюдений из train \n",
    "test_index = data[data['sample']==0].index  # сохраняем data инжексы наблюдений из test "
   ]
  },
  {
   "cell_type": "markdown",
   "id": "5a5bd42f",
   "metadata": {},
   "source": [
    "Проверим наличие дупликатов в данных"
   ]
  },
  {
   "cell_type": "code",
   "execution_count": 6,
   "id": "145ec877",
   "metadata": {},
   "outputs": [
    {
     "data": {
      "text/plain": [
       "0"
      ]
     },
     "execution_count": 6,
     "metadata": {},
     "output_type": "execute_result"
    }
   ],
   "source": [
    "data.duplicated().sum()"
   ]
  },
  {
   "cell_type": "markdown",
   "id": "4dc07f01",
   "metadata": {},
   "source": [
    "Посмотрим на краткую сводку и простую статистику о наборе данных."
   ]
  },
  {
   "cell_type": "code",
   "execution_count": 7,
   "id": "1d8fb345",
   "metadata": {},
   "outputs": [
    {
     "name": "stdout",
     "output_type": "stream",
     "text": [
      "<class 'pandas.core.frame.DataFrame'>\n",
      "RangeIndex: 110148 entries, 0 to 110147\n",
      "Columns: 20 entries, client_id to default\n",
      "dtypes: float64(1), int64(13), object(6)\n",
      "memory usage: 16.8+ MB\n"
     ]
    }
   ],
   "source": [
    "data.info(verbose=False)"
   ]
  },
  {
   "cell_type": "code",
   "execution_count": 8,
   "id": "1a4df73d",
   "metadata": {},
   "outputs": [
    {
     "data": {
      "text/html": [
       "<div>\n",
       "<style scoped>\n",
       "    .dataframe tbody tr th:only-of-type {\n",
       "        vertical-align: middle;\n",
       "    }\n",
       "\n",
       "    .dataframe tbody tr th {\n",
       "        vertical-align: top;\n",
       "    }\n",
       "\n",
       "    .dataframe thead th {\n",
       "        text-align: right;\n",
       "    }\n",
       "</style>\n",
       "<table border=\"1\" class=\"dataframe\">\n",
       "  <thead>\n",
       "    <tr style=\"text-align: right;\">\n",
       "      <th></th>\n",
       "      <th>count</th>\n",
       "      <th>unique</th>\n",
       "      <th>top</th>\n",
       "      <th>freq</th>\n",
       "      <th>mean</th>\n",
       "      <th>std</th>\n",
       "      <th>min</th>\n",
       "      <th>50%</th>\n",
       "      <th>max</th>\n",
       "      <th>type</th>\n",
       "      <th>NaN</th>\n",
       "    </tr>\n",
       "  </thead>\n",
       "  <tbody>\n",
       "    <tr>\n",
       "      <th>client_id</th>\n",
       "      <td>110148.0</td>\n",
       "      <td>110148</td>\n",
       "      <td>1</td>\n",
       "      <td>1</td>\n",
       "      <td>55074.5</td>\n",
       "      <td>31797.133063</td>\n",
       "      <td>1.0</td>\n",
       "      <td>55074.5</td>\n",
       "      <td>110148.0</td>\n",
       "      <td>&lt;class 'numpy.int64'&gt;</td>\n",
       "      <td>0</td>\n",
       "    </tr>\n",
       "    <tr>\n",
       "      <th>app_date</th>\n",
       "      <td>110148</td>\n",
       "      <td>120</td>\n",
       "      <td>18MAR2014</td>\n",
       "      <td>1491</td>\n",
       "      <td>NaN</td>\n",
       "      <td>NaN</td>\n",
       "      <td>NaN</td>\n",
       "      <td>NaN</td>\n",
       "      <td>NaN</td>\n",
       "      <td>&lt;class 'str'&gt;</td>\n",
       "      <td>0</td>\n",
       "    </tr>\n",
       "    <tr>\n",
       "      <th>education</th>\n",
       "      <td>109670</td>\n",
       "      <td>5</td>\n",
       "      <td>SCH</td>\n",
       "      <td>57998</td>\n",
       "      <td>NaN</td>\n",
       "      <td>NaN</td>\n",
       "      <td>NaN</td>\n",
       "      <td>NaN</td>\n",
       "      <td>NaN</td>\n",
       "      <td>&lt;class 'str'&gt;</td>\n",
       "      <td>478</td>\n",
       "    </tr>\n",
       "    <tr>\n",
       "      <th>sex</th>\n",
       "      <td>110148</td>\n",
       "      <td>2</td>\n",
       "      <td>F</td>\n",
       "      <td>61836</td>\n",
       "      <td>NaN</td>\n",
       "      <td>NaN</td>\n",
       "      <td>NaN</td>\n",
       "      <td>NaN</td>\n",
       "      <td>NaN</td>\n",
       "      <td>&lt;class 'str'&gt;</td>\n",
       "      <td>0</td>\n",
       "    </tr>\n",
       "    <tr>\n",
       "      <th>age</th>\n",
       "      <td>110148.0</td>\n",
       "      <td>52</td>\n",
       "      <td>31.0</td>\n",
       "      <td>4084</td>\n",
       "      <td>39.24941</td>\n",
       "      <td>11.518063</td>\n",
       "      <td>21.0</td>\n",
       "      <td>37.0</td>\n",
       "      <td>72.0</td>\n",
       "      <td>&lt;class 'numpy.int64'&gt;</td>\n",
       "      <td>0</td>\n",
       "    </tr>\n",
       "    <tr>\n",
       "      <th>car</th>\n",
       "      <td>110148</td>\n",
       "      <td>2</td>\n",
       "      <td>N</td>\n",
       "      <td>74290</td>\n",
       "      <td>NaN</td>\n",
       "      <td>NaN</td>\n",
       "      <td>NaN</td>\n",
       "      <td>NaN</td>\n",
       "      <td>NaN</td>\n",
       "      <td>&lt;class 'str'&gt;</td>\n",
       "      <td>0</td>\n",
       "    </tr>\n",
       "    <tr>\n",
       "      <th>car_type</th>\n",
       "      <td>110148</td>\n",
       "      <td>2</td>\n",
       "      <td>N</td>\n",
       "      <td>89140</td>\n",
       "      <td>NaN</td>\n",
       "      <td>NaN</td>\n",
       "      <td>NaN</td>\n",
       "      <td>NaN</td>\n",
       "      <td>NaN</td>\n",
       "      <td>&lt;class 'str'&gt;</td>\n",
       "      <td>0</td>\n",
       "    </tr>\n",
       "    <tr>\n",
       "      <th>decline_app_cnt</th>\n",
       "      <td>110148.0</td>\n",
       "      <td>24</td>\n",
       "      <td>0.0</td>\n",
       "      <td>91471</td>\n",
       "      <td>0.273205</td>\n",
       "      <td>0.799099</td>\n",
       "      <td>0.0</td>\n",
       "      <td>0.0</td>\n",
       "      <td>33.0</td>\n",
       "      <td>&lt;class 'numpy.int64'&gt;</td>\n",
       "      <td>0</td>\n",
       "    </tr>\n",
       "    <tr>\n",
       "      <th>good_work</th>\n",
       "      <td>110148.0</td>\n",
       "      <td>2</td>\n",
       "      <td>0.0</td>\n",
       "      <td>91917</td>\n",
       "      <td>0.165514</td>\n",
       "      <td>0.371645</td>\n",
       "      <td>0.0</td>\n",
       "      <td>0.0</td>\n",
       "      <td>1.0</td>\n",
       "      <td>&lt;class 'numpy.int64'&gt;</td>\n",
       "      <td>0</td>\n",
       "    </tr>\n",
       "    <tr>\n",
       "      <th>score_bki</th>\n",
       "      <td>110148.0</td>\n",
       "      <td>102618</td>\n",
       "      <td>-1.775263</td>\n",
       "      <td>517</td>\n",
       "      <td>-1.904535</td>\n",
       "      <td>0.499397</td>\n",
       "      <td>-3.624586</td>\n",
       "      <td>-1.920823</td>\n",
       "      <td>0.199773</td>\n",
       "      <td>&lt;class 'numpy.float64'&gt;</td>\n",
       "      <td>0</td>\n",
       "    </tr>\n",
       "    <tr>\n",
       "      <th>bki_request_cnt</th>\n",
       "      <td>110148.0</td>\n",
       "      <td>40</td>\n",
       "      <td>0.0</td>\n",
       "      <td>28908</td>\n",
       "      <td>2.005002</td>\n",
       "      <td>2.266926</td>\n",
       "      <td>0.0</td>\n",
       "      <td>1.0</td>\n",
       "      <td>53.0</td>\n",
       "      <td>&lt;class 'numpy.int64'&gt;</td>\n",
       "      <td>0</td>\n",
       "    </tr>\n",
       "    <tr>\n",
       "      <th>region_rating</th>\n",
       "      <td>110148.0</td>\n",
       "      <td>7</td>\n",
       "      <td>50.0</td>\n",
       "      <td>40981</td>\n",
       "      <td>56.751189</td>\n",
       "      <td>13.065923</td>\n",
       "      <td>20.0</td>\n",
       "      <td>50.0</td>\n",
       "      <td>80.0</td>\n",
       "      <td>&lt;class 'numpy.int64'&gt;</td>\n",
       "      <td>0</td>\n",
       "    </tr>\n",
       "    <tr>\n",
       "      <th>home_address</th>\n",
       "      <td>110148.0</td>\n",
       "      <td>3</td>\n",
       "      <td>2.0</td>\n",
       "      <td>59591</td>\n",
       "      <td>1.574945</td>\n",
       "      <td>0.527562</td>\n",
       "      <td>1.0</td>\n",
       "      <td>2.0</td>\n",
       "      <td>3.0</td>\n",
       "      <td>&lt;class 'numpy.int64'&gt;</td>\n",
       "      <td>0</td>\n",
       "    </tr>\n",
       "    <tr>\n",
       "      <th>work_address</th>\n",
       "      <td>110148.0</td>\n",
       "      <td>3</td>\n",
       "      <td>3.0</td>\n",
       "      <td>67113</td>\n",
       "      <td>2.497867</td>\n",
       "      <td>0.687651</td>\n",
       "      <td>1.0</td>\n",
       "      <td>3.0</td>\n",
       "      <td>3.0</td>\n",
       "      <td>&lt;class 'numpy.int64'&gt;</td>\n",
       "      <td>0</td>\n",
       "    </tr>\n",
       "    <tr>\n",
       "      <th>income</th>\n",
       "      <td>110148.0</td>\n",
       "      <td>1207</td>\n",
       "      <td>30000.0</td>\n",
       "      <td>10437</td>\n",
       "      <td>41012.648537</td>\n",
       "      <td>45399.735051</td>\n",
       "      <td>1000.0</td>\n",
       "      <td>30000.0</td>\n",
       "      <td>1000000.0</td>\n",
       "      <td>&lt;class 'numpy.int64'&gt;</td>\n",
       "      <td>0</td>\n",
       "    </tr>\n",
       "    <tr>\n",
       "      <th>sna</th>\n",
       "      <td>110148.0</td>\n",
       "      <td>4</td>\n",
       "      <td>1.0</td>\n",
       "      <td>70681</td>\n",
       "      <td>1.731588</td>\n",
       "      <td>1.122652</td>\n",
       "      <td>1.0</td>\n",
       "      <td>1.0</td>\n",
       "      <td>4.0</td>\n",
       "      <td>&lt;class 'numpy.int64'&gt;</td>\n",
       "      <td>0</td>\n",
       "    </tr>\n",
       "    <tr>\n",
       "      <th>first_time</th>\n",
       "      <td>110148.0</td>\n",
       "      <td>4</td>\n",
       "      <td>3.0</td>\n",
       "      <td>46588</td>\n",
       "      <td>2.76557</td>\n",
       "      <td>1.010151</td>\n",
       "      <td>1.0</td>\n",
       "      <td>3.0</td>\n",
       "      <td>4.0</td>\n",
       "      <td>&lt;class 'numpy.int64'&gt;</td>\n",
       "      <td>0</td>\n",
       "    </tr>\n",
       "    <tr>\n",
       "      <th>foreign_passport</th>\n",
       "      <td>110148</td>\n",
       "      <td>2</td>\n",
       "      <td>N</td>\n",
       "      <td>93721</td>\n",
       "      <td>NaN</td>\n",
       "      <td>NaN</td>\n",
       "      <td>NaN</td>\n",
       "      <td>NaN</td>\n",
       "      <td>NaN</td>\n",
       "      <td>&lt;class 'str'&gt;</td>\n",
       "      <td>0</td>\n",
       "    </tr>\n",
       "    <tr>\n",
       "      <th>sample</th>\n",
       "      <td>110148.0</td>\n",
       "      <td>2</td>\n",
       "      <td>1.0</td>\n",
       "      <td>73799</td>\n",
       "      <td>0.669999</td>\n",
       "      <td>0.470215</td>\n",
       "      <td>0.0</td>\n",
       "      <td>1.0</td>\n",
       "      <td>1.0</td>\n",
       "      <td>&lt;class 'numpy.int64'&gt;</td>\n",
       "      <td>0</td>\n",
       "    </tr>\n",
       "    <tr>\n",
       "      <th>default</th>\n",
       "      <td>110148.0</td>\n",
       "      <td>2</td>\n",
       "      <td>0.0</td>\n",
       "      <td>100776</td>\n",
       "      <td>0.085086</td>\n",
       "      <td>0.27901</td>\n",
       "      <td>0.0</td>\n",
       "      <td>0.0</td>\n",
       "      <td>1.0</td>\n",
       "      <td>&lt;class 'numpy.int64'&gt;</td>\n",
       "      <td>0</td>\n",
       "    </tr>\n",
       "  </tbody>\n",
       "</table>\n",
       "</div>"
      ],
      "text/plain": [
       "                     count  unique        top    freq          mean  \\\n",
       "client_id         110148.0  110148          1       1       55074.5   \n",
       "app_date            110148     120  18MAR2014    1491           NaN   \n",
       "education           109670       5        SCH   57998           NaN   \n",
       "sex                 110148       2          F   61836           NaN   \n",
       "age               110148.0      52       31.0    4084      39.24941   \n",
       "car                 110148       2          N   74290           NaN   \n",
       "car_type            110148       2          N   89140           NaN   \n",
       "decline_app_cnt   110148.0      24        0.0   91471      0.273205   \n",
       "good_work         110148.0       2        0.0   91917      0.165514   \n",
       "score_bki         110148.0  102618  -1.775263     517     -1.904535   \n",
       "bki_request_cnt   110148.0      40        0.0   28908      2.005002   \n",
       "region_rating     110148.0       7       50.0   40981     56.751189   \n",
       "home_address      110148.0       3        2.0   59591      1.574945   \n",
       "work_address      110148.0       3        3.0   67113      2.497867   \n",
       "income            110148.0    1207    30000.0   10437  41012.648537   \n",
       "sna               110148.0       4        1.0   70681      1.731588   \n",
       "first_time        110148.0       4        3.0   46588       2.76557   \n",
       "foreign_passport    110148       2          N   93721           NaN   \n",
       "sample            110148.0       2        1.0   73799      0.669999   \n",
       "default           110148.0       2        0.0  100776      0.085086   \n",
       "\n",
       "                           std       min       50%        max  \\\n",
       "client_id         31797.133063       1.0   55074.5   110148.0   \n",
       "app_date                   NaN       NaN       NaN        NaN   \n",
       "education                  NaN       NaN       NaN        NaN   \n",
       "sex                        NaN       NaN       NaN        NaN   \n",
       "age                  11.518063      21.0      37.0       72.0   \n",
       "car                        NaN       NaN       NaN        NaN   \n",
       "car_type                   NaN       NaN       NaN        NaN   \n",
       "decline_app_cnt       0.799099       0.0       0.0       33.0   \n",
       "good_work             0.371645       0.0       0.0        1.0   \n",
       "score_bki             0.499397 -3.624586 -1.920823   0.199773   \n",
       "bki_request_cnt       2.266926       0.0       1.0       53.0   \n",
       "region_rating        13.065923      20.0      50.0       80.0   \n",
       "home_address          0.527562       1.0       2.0        3.0   \n",
       "work_address          0.687651       1.0       3.0        3.0   \n",
       "income            45399.735051    1000.0   30000.0  1000000.0   \n",
       "sna                   1.122652       1.0       1.0        4.0   \n",
       "first_time            1.010151       1.0       3.0        4.0   \n",
       "foreign_passport           NaN       NaN       NaN        NaN   \n",
       "sample                0.470215       0.0       1.0        1.0   \n",
       "default                0.27901       0.0       0.0        1.0   \n",
       "\n",
       "                                     type  NaN  \n",
       "client_id           <class 'numpy.int64'>    0  \n",
       "app_date                    <class 'str'>    0  \n",
       "education                   <class 'str'>  478  \n",
       "sex                         <class 'str'>    0  \n",
       "age                 <class 'numpy.int64'>    0  \n",
       "car                         <class 'str'>    0  \n",
       "car_type                    <class 'str'>    0  \n",
       "decline_app_cnt     <class 'numpy.int64'>    0  \n",
       "good_work           <class 'numpy.int64'>    0  \n",
       "score_bki         <class 'numpy.float64'>    0  \n",
       "bki_request_cnt     <class 'numpy.int64'>    0  \n",
       "region_rating       <class 'numpy.int64'>    0  \n",
       "home_address        <class 'numpy.int64'>    0  \n",
       "work_address        <class 'numpy.int64'>    0  \n",
       "income              <class 'numpy.int64'>    0  \n",
       "sna                 <class 'numpy.int64'>    0  \n",
       "first_time          <class 'numpy.int64'>    0  \n",
       "foreign_passport            <class 'str'>    0  \n",
       "sample              <class 'numpy.int64'>    0  \n",
       "default             <class 'numpy.int64'>    0  "
      ]
     },
     "metadata": {},
     "output_type": "display_data"
    }
   ],
   "source": [
    "display(df_describe(data))"
   ]
  },
  {
   "cell_type": "markdown",
   "id": "97415c7d",
   "metadata": {},
   "source": [
    "Как видиим 14 признаков представлены числовым типом данных, 6 строковыми величинами. Из этих 6 \"строковых\" признаков 4 признака бинарных, один категориальный(5 уникальных значений, одно из них NaN) и один,`app_date`, судя по значению **top** - временной ряд. В числовых признаках 5 признаков разумно отнести к численным (количество уникальных значений от 40 до 110148), 6 признаков являются категориальными(количество уникальных значений от 3 до 24) и 3 признака бинарные.  \n",
    "\n",
    "Пропуски встречаются только в одном признаке `education`. Их количество не велико и составляет менее 0,5% от количества наблюдений.  \n",
    "\n",
    "Сравнивая количество уникальных значений **unique** и частоту  наиболее часто встречающейся категории **freq** можно заметь несбалансированность признаков по категориям. В `foreign_passport` `good_work` `decline_app_cnt` и `default` доля мажоритарной категории составляет около 6/7. Такой дисбаланс, особенно в целевой переменной `*default`(в рней доля положительного класса равна 0.085086) может создать проблемы при обучении модели. В таком случаенам придется предпринимать меры для устранения несбалансированности.\n",
    "\n",
    "В данных присутвует признак `client_id` - идентификатор клиента, удалим его."
   ]
  },
  {
   "cell_type": "code",
   "execution_count": 9,
   "id": "408cba4e",
   "metadata": {},
   "outputs": [],
   "source": [
    "data.drop(columns='client_id',inplace=True)"
   ]
  },
  {
   "cell_type": "markdown",
   "id": "5347b7ed",
   "metadata": {},
   "source": [
    "## Разделение признаков на типы\n",
    "Разделим признаки на количественные `num_cols` , категориальные `cat_cols` и бинарные `bin_cols` .   \n",
    "К **бинарным**, очевидно, отнесем признаки с двумя уникальными значениями (созданный нами `sample` не будем рассмптриаать, так же исключим из факторов целевую перемнную `default`).   \n",
    "**Категориальными** признаками будем считать признаки с количеством уникальных значений от 3 до 30  \n",
    "Порогом для **количественного признака** будет наличие не менее чем 30 уникальных значений. \n",
    "\n",
    "Но для начала **Временной ряд** приведем в числовой вид взяв количество дней прошедших от самой раней даты в ряду."
   ]
  },
  {
   "cell_type": "code",
   "execution_count": 10,
   "id": "0dd4663f",
   "metadata": {},
   "outputs": [],
   "source": [
    "data.app_date = pd.to_datetime(data.app_date,format='%d%b%Y')\n",
    "data.app_date = (data.app_date - data.app_date.min()).dt.days"
   ]
  },
  {
   "cell_type": "code",
   "execution_count": 11,
   "id": "97f269c4",
   "metadata": {},
   "outputs": [],
   "source": [
    "num_threshold = 30 \n",
    "\n",
    "num_uniq = data.nunique()\n",
    "# time_col = pd.Index(['app_date'])\n",
    "bin_cols = data.columns[num_uniq==2].drop(['sample','default'])\n",
    "cat_cols = data.columns[(num_uniq>2) & (num_uniq<num_threshold)]\n",
    "num_cols = data.columns[num_uniq>=num_threshold] "
   ]
  },
  {
   "cell_type": "markdown",
   "id": "c2070ea5",
   "metadata": {},
   "source": [
    "# Первичная визуализация, первичный анализ\n",
    "Осуществим первичную визуализацию **числовых признаков**"
   ]
  },
  {
   "cell_type": "code",
   "execution_count": 12,
   "id": "9aed87f7",
   "metadata": {
    "scrolled": false
   },
   "outputs": [
    {
     "name": "stdout",
     "output_type": "stream",
     "text": [
      "Всего признаков этого типа 5. К ним относятся: \u001b[1mapp_date\u001b[0m, \u001b[1mage\u001b[0m, \u001b[1mscore_bki\u001b[0m, \u001b[1mbki_request_cnt\u001b[0m, \u001b[1mincome\u001b[0m\n"
     ]
    },
    {
     "data": {
      "image/png": "[encoded data removed]",
      "text/plain": [
       "<Figure size 1008x216 with 10 Axes>"
      ]
     },
     "metadata": {
      "needs_background": "light"
     },
     "output_type": "display_data"
    }
   ],
   "source": [
    "nums_visualisation(data[num_cols],annotation=True)"
   ]
  },
  {
   "cell_type": "markdown",
   "id": "e8b0edb8",
   "metadata": {},
   "source": [
    "Кроме `app_date` и `score_bki`  числовые признаки имеют сильно скошенное вправо распределение. Такая ассиметрия будет мешать модели. Применим логарифмирование к скошенным признакам: "
   ]
  },
  {
   "cell_type": "code",
   "execution_count": 13,
   "id": "c9a1d177",
   "metadata": {},
   "outputs": [
    {
     "data": {
      "image/png": "[encoded data removed]",
      "text/plain": [
       "<Figure size 1008x216 with 6 Axes>"
      ]
     },
     "metadata": {
      "needs_background": "light"
     },
     "output_type": "display_data"
    }
   ],
   "source": [
    "nums_visualisation(np.log(train[num_cols.drop(['app_date','score_bki'])]+1))"
   ]
  },
  {
   "cell_type": "markdown",
   "id": "98abecf3",
   "metadata": {},
   "source": [
    "Ситуация улучшилась: логарифмированные `age` и `income` рапсределены похоже на нормально, а в `bki_request_cnt` скошенность, судя по boxplot существенно уменьшилась. Значит при предобработке применим логарифирование.  \n",
    "Так же во всех признаках, кроме `age`есть длинные \"хвосты\" в распределениях - возможные выбросы, аномалии. Их наличие может неблагоприятно сказаться на точности модели. Позже проверим наличие этой проблемы и примем меры по её решению.\n",
    "\n",
    "\n",
    "Теперь посмотрим на **категориальные признкаи**"
   ]
  },
  {
   "cell_type": "code",
   "execution_count": 14,
   "id": "c73a6d28",
   "metadata": {
    "scrolled": false
   },
   "outputs": [
    {
     "name": "stdout",
     "output_type": "stream",
     "text": [
      "Признаков этого типа 7. К ним относятся: \u001b[1meducation\u001b[0m, \u001b[1mdecline_app_cnt\u001b[0m, \u001b[1mregion_rating\u001b[0m, \u001b[1mhome_address\u001b[0m, \u001b[1mwork_address\u001b[0m, \u001b[1msna\u001b[0m, \u001b[1mfirst_time\u001b[0m\n"
     ]
    },
    {
     "data": {
      "image/png": "[encoded data removed]",
      "text/plain": [
       "<Figure size 1008x144 with 7 Axes>"
      ]
     },
     "metadata": {
      "needs_background": "light"
     },
     "output_type": "display_data"
    },
    {
     "data": {
      "image/png": "[encoded data removed]",
      "text/plain": [
       "<Figure size 1008x144 with 7 Axes>"
      ]
     },
     "metadata": {
      "needs_background": "light"
     },
     "output_type": "display_data"
    }
   ],
   "source": [
    "cats_visualisation(data[cat_cols],annotation=True)"
   ]
  },
  {
   "cell_type": "markdown",
   "id": "95edc1ec",
   "metadata": {},
   "source": [
    "Как видим распределение по категориям в признаках имеет несбалансированый характер(крайне малочисленные категории пристутвуют напрмер в `education`, `decline_app_cnt`, `region_rating`). На последующих этапах работы возможно будет иметь смысл обьеденить миноритарные категории в одну. Классы, что имеют очень малую долю в распределении необходимо проверить -  не являются ли они выбросами.  \n",
    "Сравнение доли положительного класса в зависимости от категории во многоих признаках (например - `education`, `region_rating`, но осбенно `decline_app_cnt`) указывают на их(признаков) потенциальную полезность.\n",
    "\n",
    "Рассмотрим **бинарные признаки**"
   ]
  },
  {
   "cell_type": "code",
   "execution_count": 15,
   "id": "03a66695",
   "metadata": {},
   "outputs": [
    {
     "data": {
      "image/png": "[encoded data removed]",
      "text/plain": [
       "<Figure size 1008x144 with 5 Axes>"
      ]
     },
     "metadata": {
      "needs_background": "light"
     },
     "output_type": "display_data"
    },
    {
     "data": {
      "image/png": "[encoded data removed]",
      "text/plain": [
       "<Figure size 1008x144 with 5 Axes>"
      ]
     },
     "metadata": {
      "needs_background": "light"
     },
     "output_type": "display_data"
    }
   ],
   "source": [
    "cats_visualisation(train[bin_cols]) "
   ]
  },
  {
   "cell_type": "markdown",
   "id": "ebfeec45",
   "metadata": {},
   "source": [
    "Бинарные факторы в большинстве тоже несбалансированы, но это не так интересно, как доля положительного клааса в каждой категории. Если признак `sex` кажетcя малоинформативным, то `foreign_passport` вероятно окажеться полезен.  \n",
    "\n",
    "Более глубокий анализ, обработку выбросов, заполнение пропусков, возможное обьединение категорий, биннинг числовых признаков проведем на следующих этапах, а сейчас подготовим данные для обучения наивной модели, которая будет служить нам  **Baseline**.\n",
    "\n",
    "# Первичная предобработка\n",
    "\n",
    " **Пропуски** встречаются только в одном признаке `education`. Их количество не велико и составляет менее 0,5% от количества наблюдений. Поэтому для построения  **Baseline**, мы просто удалим эти 0,5% наблюдений.  \n",
    "**Числовые признаки** co скошенным распределением логарфмируем (т.е. все кроме `score_bki` и `app_date`), затем все признаки нормализуем  \n",
    "**Бинарные признаки** и **Категориальные признаки** мы кодируем самым простым методом, используя реализацию `sklearn.preprocessing.LabelEncoder`  "
   ]
  },
  {
   "cell_type": "code",
   "execution_count": 16,
   "id": "5172aacf",
   "metadata": {},
   "outputs": [],
   "source": [
    "data.dropna(subset=['education'],inplace=True)\n",
    "data = predproc_naive(data)"
   ]
  },
  {
   "cell_type": "markdown",
   "id": "633f05ea",
   "metadata": {},
   "source": [
    "# Baseline\n",
    "Обучим на подготовленных данных модель `LogisticRegression()` с параметрами по умолчанию и получим значения метрик. Для оценки модели по условиям задачи гланой основной метрикой будет **F1**, вспомогательными возьмём - , **Precision**, **Recall** и **Accuracy**.\n",
    "Для понимания стабильности результата посмотирим и стндартное отклонение метрик.\n",
    "\n",
    "Мы будем рассматривать эту модель как первую итерацию, первое приближение которое нужно последовательно улучшать."
   ]
  },
  {
   "cell_type": "code",
   "execution_count": 17,
   "id": "dff4095d",
   "metadata": {},
   "outputs": [],
   "source": [
    "X_train = data[data['sample']==1].drop(columns=['sample','default'])\n",
    "y_train = data[data['sample']==1].default"
   ]
  },
  {
   "cell_type": "code",
   "execution_count": 18,
   "id": "1b06b6f7",
   "metadata": {},
   "outputs": [
    {
     "data": {
      "text/html": [
       "<div>\n",
       "<style scoped>\n",
       "    .dataframe tbody tr th:only-of-type {\n",
       "        vertical-align: middle;\n",
       "    }\n",
       "\n",
       "    .dataframe tbody tr th {\n",
       "        vertical-align: top;\n",
       "    }\n",
       "\n",
       "    .dataframe thead th {\n",
       "        text-align: right;\n",
       "    }\n",
       "</style>\n",
       "<table border=\"1\" class=\"dataframe\">\n",
       "  <thead>\n",
       "    <tr style=\"text-align: right;\">\n",
       "      <th></th>\n",
       "      <th>mean</th>\n",
       "      <th>std</th>\n",
       "    </tr>\n",
       "  </thead>\n",
       "  <tbody>\n",
       "    <tr>\n",
       "      <th>test_f1</th>\n",
       "      <td>0.046902</td>\n",
       "      <td>0.005365</td>\n",
       "    </tr>\n",
       "    <tr>\n",
       "      <th>test_precision</th>\n",
       "      <td>0.452066</td>\n",
       "      <td>0.072996</td>\n",
       "    </tr>\n",
       "    <tr>\n",
       "      <th>test_recall</th>\n",
       "      <td>0.024741</td>\n",
       "      <td>0.002783</td>\n",
       "    </tr>\n",
       "    <tr>\n",
       "      <th>test_accuracy</th>\n",
       "      <td>0.872217</td>\n",
       "      <td>0.001076</td>\n",
       "    </tr>\n",
       "  </tbody>\n",
       "</table>\n",
       "</div>"
      ],
      "text/plain": [
       "                    mean       std\n",
       "test_f1         0.046902  0.005365\n",
       "test_precision  0.452066  0.072996\n",
       "test_recall     0.024741  0.002783\n",
       "test_accuracy   0.872217  0.001076"
      ]
     },
     "execution_count": 18,
     "metadata": {},
     "output_type": "execute_result"
    }
   ],
   "source": [
    "metrics_naive = validation(X_train, y_train, LogisticRegression())\n",
    "metrics_naive"
   ]
  },
  {
   "cell_type": "markdown",
   "id": "8708ee9c",
   "metadata": {},
   "source": [
    "Целевая метрика **F1** неприлично мала. При взгляде на пару вспомогательных **precision** и **recall** становится понятно что проблема в том что модель позитивный класс почти игнорирует.    \n",
    "Из того, что модель отнесла к позитивному классу почти половина действительно к нему относится (что, учитывая что доля класса в выборке приблизительно **0,085**, оказывается гораздо лучше случайного угадывания).   \n",
    "Но вот из реального положительного класса модель таковым посчитала лишь **0,03**! Т.е. верно классифицированным позитвным классом оказалось **0.03 * 0.085** = **0,0025** часть выборки. Приблизительно столько же (**precision** = **0.45**) отнесено к позитивному классу ошибочно. Итого по мнению модели к позитивному классу относится около **0.005** выбоки при реальной доле **0.085**...     \n",
    "Причины такого фиаско могут быть следующие -  дисбаланс классов, плохо подготовленные данные,  ненастроенная модель. Попробуем последовательно решить эти проблемы. Начнем с несбалансированности выборки."
   ]
  },
  {
   "cell_type": "markdown",
   "id": "be006890",
   "metadata": {},
   "source": [
    "# Устранение дисбаланса выборки"
   ]
  },
  {
   "cell_type": "markdown",
   "id": "293d4da7",
   "metadata": {},
   "source": [
    "полность сбаоансированной выборка станет, если увеличить количество позитивного класса в `(1-0.085)/0.085` раз. Или в"
   ]
  },
  {
   "cell_type": "code",
   "execution_count": 19,
   "id": "7bed784c",
   "metadata": {},
   "outputs": [
    {
     "name": "stdout",
     "output_type": "stream",
     "text": [
      "11 раз\n"
     ]
    }
   ],
   "source": [
    "print (round((1-0.085)/0.085), 'раз')"
   ]
  },
  {
   "cell_type": "markdown",
   "id": "81619478",
   "metadata": {},
   "source": [
    "Посмотрим как ведуь себя метрики при разных весах миноритарного(позитивного) класса:"
   ]
  },
  {
   "cell_type": "code",
   "execution_count": 20,
   "id": "f4eaa788",
   "metadata": {},
   "outputs": [
    {
     "data": {
      "text/html": [
       "<div>\n",
       "<style scoped>\n",
       "    .dataframe tbody tr th:only-of-type {\n",
       "        vertical-align: middle;\n",
       "    }\n",
       "\n",
       "    .dataframe tbody tr th {\n",
       "        vertical-align: top;\n",
       "    }\n",
       "\n",
       "    .dataframe thead th {\n",
       "        text-align: right;\n",
       "    }\n",
       "</style>\n",
       "<table border=\"1\" class=\"dataframe\">\n",
       "  <thead>\n",
       "    <tr style=\"text-align: right;\">\n",
       "      <th></th>\n",
       "      <th>1</th>\n",
       "      <th>2</th>\n",
       "      <th>3</th>\n",
       "      <th>4</th>\n",
       "      <th>5</th>\n",
       "      <th>6</th>\n",
       "      <th>7</th>\n",
       "      <th>8</th>\n",
       "      <th>9</th>\n",
       "      <th>10</th>\n",
       "      <th>11</th>\n",
       "      <th>12</th>\n",
       "      <th>13</th>\n",
       "    </tr>\n",
       "  </thead>\n",
       "  <tbody>\n",
       "    <tr>\n",
       "      <th>test_f1</th>\n",
       "      <td>0.046902</td>\n",
       "      <td>0.212577</td>\n",
       "      <td>0.307189</td>\n",
       "      <td>0.338816</td>\n",
       "      <td>0.343867</td>\n",
       "      <td>0.345054</td>\n",
       "      <td>0.337464</td>\n",
       "      <td>0.327900</td>\n",
       "      <td>0.319572</td>\n",
       "      <td>0.311321</td>\n",
       "      <td>0.304023</td>\n",
       "      <td>0.296900</td>\n",
       "      <td>0.291250</td>\n",
       "    </tr>\n",
       "    <tr>\n",
       "      <th>test_precision</th>\n",
       "      <td>0.452066</td>\n",
       "      <td>0.393001</td>\n",
       "      <td>0.327969</td>\n",
       "      <td>0.286710</td>\n",
       "      <td>0.258206</td>\n",
       "      <td>0.241015</td>\n",
       "      <td>0.224886</td>\n",
       "      <td>0.211700</td>\n",
       "      <td>0.201492</td>\n",
       "      <td>0.192686</td>\n",
       "      <td>0.185590</td>\n",
       "      <td>0.179315</td>\n",
       "      <td>0.174413</td>\n",
       "    </tr>\n",
       "    <tr>\n",
       "      <th>test_recall</th>\n",
       "      <td>0.024741</td>\n",
       "      <td>0.145765</td>\n",
       "      <td>0.288960</td>\n",
       "      <td>0.414160</td>\n",
       "      <td>0.514728</td>\n",
       "      <td>0.607262</td>\n",
       "      <td>0.675806</td>\n",
       "      <td>0.726893</td>\n",
       "      <td>0.771983</td>\n",
       "      <td>0.810111</td>\n",
       "      <td>0.840206</td>\n",
       "      <td>0.862483</td>\n",
       "      <td>0.882297</td>\n",
       "    </tr>\n",
       "    <tr>\n",
       "      <th>test_accuracy</th>\n",
       "      <td>0.872217</td>\n",
       "      <td>0.862815</td>\n",
       "      <td>0.834458</td>\n",
       "      <td>0.794671</td>\n",
       "      <td>0.750490</td>\n",
       "      <td>0.707124</td>\n",
       "      <td>0.662888</td>\n",
       "      <td>0.621442</td>\n",
       "      <td>0.582376</td>\n",
       "      <td>0.544672</td>\n",
       "      <td>0.511294</td>\n",
       "      <td>0.481032</td>\n",
       "      <td>0.454458</td>\n",
       "    </tr>\n",
       "  </tbody>\n",
       "</table>\n",
       "</div>"
      ],
      "text/plain": [
       "                      1         2         3         4         5         6   \\\n",
       "test_f1         0.046902  0.212577  0.307189  0.338816  0.343867  0.345054   \n",
       "test_precision  0.452066  0.393001  0.327969  0.286710  0.258206  0.241015   \n",
       "test_recall     0.024741  0.145765  0.288960  0.414160  0.514728  0.607262   \n",
       "test_accuracy   0.872217  0.862815  0.834458  0.794671  0.750490  0.707124   \n",
       "\n",
       "                      7         8         9         10        11        12  \\\n",
       "test_f1         0.337464  0.327900  0.319572  0.311321  0.304023  0.296900   \n",
       "test_precision  0.224886  0.211700  0.201492  0.192686  0.185590  0.179315   \n",
       "test_recall     0.675806  0.726893  0.771983  0.810111  0.840206  0.862483   \n",
       "test_accuracy   0.662888  0.621442  0.582376  0.544672  0.511294  0.481032   \n",
       "\n",
       "                      13  \n",
       "test_f1         0.291250  \n",
       "test_precision  0.174413  \n",
       "test_recall     0.882297  \n",
       "test_accuracy   0.454458  "
      ]
     },
     "metadata": {},
     "output_type": "display_data"
    },
    {
     "data": {
      "image/png": "[encoded data removed]",
      "text/plain": [
       "<Figure size 1080x504 with 1 Axes>"
      ]
     },
     "metadata": {
      "needs_background": "light"
     },
     "output_type": "display_data"
    }
   ],
   "source": [
    "class_weight_study()"
   ]
  },
  {
   "cell_type": "markdown",
   "id": "e6989a98",
   "metadata": {},
   "source": [
    "Как видим при росте веса позитивного класса:   \n",
    "- монотонно растет **recal**,  \n",
    "- монотонно убывают **precision** и **accuracy**  \n",
    "- сначала довольно быстро возрастает основная метрика **f1** , затем очень медленно снижается\n",
    "\n",
    "Я такое поведение вижу как сдвиг с ростом веса позитивного класса  разделяющей гиперплоскости от центра класса позитвного в сторону центра класса негативного.   \n",
    "При этом:\n",
    "- все больше позитивного класса попадает в 'позитвную' область и классификатор правильно его классифицирует как позитивный\n",
    "- но вместе с тем тудаже, в 'позитвную' область, попадает все больше и негативного класса, вследствие чего классификатор ошибочно относит его к позитвному.\n",
    "\n",
    "Исходя из поведения метрик и нашей цели можем выбрать оптимальный для нас вес. Для участия в соревновании, где метрикой является **F1**  возьмем максимизирующий её вес **5**. Если бы нам было важно как можно полно верно классифицировать неплательщиков, вес стоило взять побольше(помня при этом что с ростом веса мы теряем верно классифицированных хороших клиентов)"
   ]
  },
  {
   "cell_type": "code",
   "execution_count": 21,
   "id": "8a000fd0",
   "metadata": {},
   "outputs": [
    {
     "data": {
      "text/html": [
       "<div>\n",
       "<style scoped>\n",
       "    .dataframe tbody tr th:only-of-type {\n",
       "        vertical-align: middle;\n",
       "    }\n",
       "\n",
       "    .dataframe tbody tr th {\n",
       "        vertical-align: top;\n",
       "    }\n",
       "\n",
       "    .dataframe thead th {\n",
       "        text-align: right;\n",
       "    }\n",
       "</style>\n",
       "<table border=\"1\" class=\"dataframe\">\n",
       "  <thead>\n",
       "    <tr style=\"text-align: right;\">\n",
       "      <th></th>\n",
       "      <th>mean</th>\n",
       "      <th>std</th>\n",
       "    </tr>\n",
       "  </thead>\n",
       "  <tbody>\n",
       "    <tr>\n",
       "      <th>test_f1</th>\n",
       "      <td>0.343867</td>\n",
       "      <td>0.009006</td>\n",
       "    </tr>\n",
       "    <tr>\n",
       "      <th>test_precision</th>\n",
       "      <td>0.258206</td>\n",
       "      <td>0.006348</td>\n",
       "    </tr>\n",
       "    <tr>\n",
       "      <th>test_recall</th>\n",
       "      <td>0.514728</td>\n",
       "      <td>0.017412</td>\n",
       "    </tr>\n",
       "    <tr>\n",
       "      <th>test_accuracy</th>\n",
       "      <td>0.750490</td>\n",
       "      <td>0.003812</td>\n",
       "    </tr>\n",
       "  </tbody>\n",
       "</table>\n",
       "</div>"
      ],
      "text/plain": [
       "                    mean       std\n",
       "test_f1         0.343867  0.009006\n",
       "test_precision  0.258206  0.006348\n",
       "test_recall     0.514728  0.017412\n",
       "test_accuracy   0.750490  0.003812"
      ]
     },
     "execution_count": 21,
     "metadata": {},
     "output_type": "execute_result"
    }
   ],
   "source": [
    "metrics_class_weight = validation(X_train, y_train, LogisticRegression(class_weight={0:1,1:5}))\n",
    "metrics_class_weight"
   ]
  },
  {
   "cell_type": "markdown",
   "id": "4a527e34",
   "metadata": {},
   "source": [
    "Посмотрим на изменеия метрик:"
   ]
  },
  {
   "cell_type": "code",
   "execution_count": 22,
   "id": "c4f06b68",
   "metadata": {},
   "outputs": [
    {
     "data": {
      "text/html": [
       "<div>\n",
       "<style scoped>\n",
       "    .dataframe tbody tr th:only-of-type {\n",
       "        vertical-align: middle;\n",
       "    }\n",
       "\n",
       "    .dataframe tbody tr th {\n",
       "        vertical-align: top;\n",
       "    }\n",
       "\n",
       "    .dataframe thead th {\n",
       "        text-align: right;\n",
       "    }\n",
       "</style>\n",
       "<table border=\"1\" class=\"dataframe\">\n",
       "  <thead>\n",
       "    <tr style=\"text-align: right;\">\n",
       "      <th></th>\n",
       "      <th>mean</th>\n",
       "      <th>std</th>\n",
       "    </tr>\n",
       "  </thead>\n",
       "  <tbody>\n",
       "    <tr>\n",
       "      <th>test_f1</th>\n",
       "      <td>7.331671</td>\n",
       "      <td>1.678880</td>\n",
       "    </tr>\n",
       "    <tr>\n",
       "      <th>test_precision</th>\n",
       "      <td>0.571170</td>\n",
       "      <td>0.086962</td>\n",
       "    </tr>\n",
       "    <tr>\n",
       "      <th>test_recall</th>\n",
       "      <td>20.804943</td>\n",
       "      <td>6.255771</td>\n",
       "    </tr>\n",
       "    <tr>\n",
       "      <th>test_accuracy</th>\n",
       "      <td>0.860439</td>\n",
       "      <td>3.543230</td>\n",
       "    </tr>\n",
       "  </tbody>\n",
       "</table>\n",
       "</div>"
      ],
      "text/plain": [
       "                     mean       std\n",
       "test_f1          7.331671  1.678880\n",
       "test_precision   0.571170  0.086962\n",
       "test_recall     20.804943  6.255771\n",
       "test_accuracy    0.860439  3.543230"
      ]
     },
     "execution_count": 22,
     "metadata": {},
     "output_type": "execute_result"
    }
   ],
   "source": [
    "metrics_class_weight/metrics_naive"
   ]
  },
  {
   "cell_type": "markdown",
   "id": "9bb105dd",
   "metadata": {},
   "source": [
    "Радикальный рост в **F1** и **Recall** (в 7 и 20 раз соответственно) и ощутимые потери в **precision** и **accuracy** (на 40 и 15 %). НЕплохой результат.  \n",
    "Но останавливаться не будем, перейдем к подготовке данных и начнем с выбросов."
   ]
  },
  {
   "cell_type": "markdown",
   "id": "d80e6bf5",
   "metadata": {},
   "source": [
    "# Работа с  выбросами\n",
    "\n",
    "Поскольку в дальнейшем будет осущетсвлен биннинг числовых переменных, то проблему выбросов в них отчасти можно считать решенной. Однако все же применим ***IQR***, найдем наблюдения вне границ и посмотрим на распределение целевой переменной в этих \"хвостах\". Если обнаружим аномальую, противоречащую логики картину, то это будет указывать на выбросы/ошибочные наблюдения, от которых лучше все таки избавится.   \n",
    "Применим собственную `outers_defolt_dist`, которая возвращает долю положительного класса за левой (Q1-1.5xIQR) и правой (Q3+1.5xIQR) границей. "
   ]
  },
  {
   "cell_type": "code",
   "execution_count": 23,
   "id": "a960d128",
   "metadata": {},
   "outputs": [
    {
     "data": {
      "text/html": [
       "<div>\n",
       "<style scoped>\n",
       "    .dataframe tbody tr th:only-of-type {\n",
       "        vertical-align: middle;\n",
       "    }\n",
       "\n",
       "    .dataframe tbody tr th {\n",
       "        vertical-align: top;\n",
       "    }\n",
       "\n",
       "    .dataframe thead th {\n",
       "        text-align: right;\n",
       "    }\n",
       "</style>\n",
       "<table border=\"1\" class=\"dataframe\">\n",
       "  <thead>\n",
       "    <tr style=\"text-align: right;\">\n",
       "      <th></th>\n",
       "      <th>app_date</th>\n",
       "      <th>age</th>\n",
       "      <th>score_bki</th>\n",
       "      <th>bki_request_cnt</th>\n",
       "      <th>income</th>\n",
       "    </tr>\n",
       "  </thead>\n",
       "  <tbody>\n",
       "    <tr>\n",
       "      <th>left_outer</th>\n",
       "      <td>NaN</td>\n",
       "      <td>NaN</td>\n",
       "      <td>0.024691</td>\n",
       "      <td>NaN</td>\n",
       "      <td>0.070034</td>\n",
       "    </tr>\n",
       "    <tr>\n",
       "      <th>right_outer</th>\n",
       "      <td>NaN</td>\n",
       "      <td>NaN</td>\n",
       "      <td>0.239631</td>\n",
       "      <td>0.266667</td>\n",
       "      <td>0.066860</td>\n",
       "    </tr>\n",
       "  </tbody>\n",
       "</table>\n",
       "</div>"
      ],
      "text/plain": [
       "             app_date  age  score_bki  bki_request_cnt    income\n",
       "left_outer        NaN  NaN   0.024691              NaN  0.070034\n",
       "right_outer       NaN  NaN   0.239631         0.266667  0.066860"
      ]
     },
     "execution_count": 23,
     "metadata": {},
     "output_type": "execute_result"
    }
   ],
   "source": [
    "outers_defolt_dist(data[num_cols]) "
   ]
  },
  {
   "cell_type": "markdown",
   "id": "357759ad",
   "metadata": {},
   "source": [
    "При этом в общем по выборке доля положительного класса соствляет:"
   ]
  },
  {
   "cell_type": "code",
   "execution_count": 24,
   "id": "ca95d9a6",
   "metadata": {},
   "outputs": [
    {
     "data": {
      "text/plain": [
       "0.085137"
      ]
     },
     "execution_count": 24,
     "metadata": {},
     "output_type": "execute_result"
    }
   ],
   "source": [
    "round(data.default.value_counts(normalize=True)[1],6)"
   ]
  },
  {
   "cell_type": "markdown",
   "id": "94c07d54",
   "metadata": {},
   "source": [
    "Сравним ***defolt_dist*** на всей выборке и в \"хвостах\" и попытаемся сделать какие то выводы.\n",
    "\n",
    "- В **app_date** выбросов нет. Ок\n",
    "- И в **age** выбросов нет. Хорошо бы везде так.    \n",
    "- В **score_bki** формально выбросы есть и слева и справа. При этом ***defolt_dist*** ведет себя абсолютно логично - при экстремально малых значениях  скорингового балла **score_bki** экстремально низкая доля \"дефолтных\" клиентов, при экстремально высоких знвчениях - существенно повышенная.\n",
    "- В **bki_request_cnt** слевыа выбросов нет, справа присутсвуют. Поведение укладывается в рамки здравого смысла - при экстремально большом количестве запросов значительно повышается доля \"дефолтных\" клиент.ов (т.е. ненадежным клиентам приходится много раз запрашивать в разных местах кредиты, и возможно они их уже понабрали, что делает их еще менее интересными заемщиками)\n",
    "- В **income** формально выбросы есть и слева и справа. Пониженные значения ***defolt_dist*** в правом хвосте не вызывают удивления - обеспеченные клиенты более кредитоспособны. А вот немного, но ниже среднего ***defolt_dist*** в левом хвосте немного озадачивает. Посмотрим на распределение поближе."
   ]
  },
  {
   "cell_type": "code",
   "execution_count": 25,
   "id": "b1f04b82",
   "metadata": {},
   "outputs": [
    {
     "data": {
      "image/png": "[encoded data removed]",
      "text/plain": [
       "<Figure size 1008x144 with 2 Axes>"
      ]
     },
     "metadata": {
      "needs_background": "light"
     },
     "output_type": "display_data"
    }
   ],
   "source": [
    "num_visualisation('income',data)"
   ]
  },
  {
   "cell_type": "markdown",
   "id": "1545fb40",
   "metadata": {},
   "source": [
    "Наблюдается любопытная картина - не только макисмальные, но и минимальные доходы у недефолтных клиентов (это особенно хорошо видно на boxplot-ах). Обьяснение такому поведени распределения можно найти - напрмер официальный минимальный **income** у тех, кто не полность показывает свой доход.  Или, что выглядит более логично, клиентам с минимальными доходами просто не дают кредитов. А раз нет кредитов то  и дефолтов по ним тоже нет.   \n",
    "Попробуем понять, как обстоят дела в действительости. Для это посмотим на распределения признаков, косвенно говорящих о благосостоянии клиента на всей выборке и в левом хвосте. Признаками будут `car`, `car_type`,`good_work`, `foreign_passport`. Будем использовать собственную `wiskers`, возвращающую *Lower Inner Fence* и *Upper Inner Fence*. "
   ]
  },
  {
   "cell_type": "code",
   "execution_count": 26,
   "id": "9cd93a7e",
   "metadata": {},
   "outputs": [
    {
     "data": {
      "text/html": [
       "<div>\n",
       "<style scoped>\n",
       "    .dataframe tbody tr th:only-of-type {\n",
       "        vertical-align: middle;\n",
       "    }\n",
       "\n",
       "    .dataframe tbody tr th {\n",
       "        vertical-align: top;\n",
       "    }\n",
       "\n",
       "    .dataframe thead th {\n",
       "        text-align: right;\n",
       "    }\n",
       "</style>\n",
       "<table border=\"1\" class=\"dataframe\">\n",
       "  <thead>\n",
       "    <tr style=\"text-align: right;\">\n",
       "      <th></th>\n",
       "      <th>car</th>\n",
       "      <th>car_type</th>\n",
       "      <th>good_work</th>\n",
       "      <th>foreign_passport</th>\n",
       "    </tr>\n",
       "  </thead>\n",
       "  <tbody>\n",
       "    <tr>\n",
       "      <th>total</th>\n",
       "      <td>0.325139</td>\n",
       "      <td>0.190854</td>\n",
       "      <td>0.165615</td>\n",
       "      <td>0.149029</td>\n",
       "    </tr>\n",
       "    <tr>\n",
       "      <th>left_outer</th>\n",
       "      <td>0.118255</td>\n",
       "      <td>0.059701</td>\n",
       "      <td>0.146958</td>\n",
       "      <td>0.133180</td>\n",
       "    </tr>\n",
       "  </tbody>\n",
       "</table>\n",
       "</div>"
      ],
      "text/plain": [
       "                 car  car_type  good_work  foreign_passport\n",
       "total       0.325139  0.190854   0.165615          0.149029\n",
       "left_outer  0.118255  0.059701   0.146958          0.133180"
      ]
     },
     "execution_count": 26,
     "metadata": {},
     "output_type": "execute_result"
    }
   ],
   "source": [
    "to_study = ['car', 'car_type','good_work', 'foreign_passport']\n",
    "left_iqr_bound = wiskers(data.income)[0]\n",
    "left_outer_index = data.index[data.income < left_iqr_bound]\n",
    "total_dist = data[to_study].apply(lambda x: x.value_counts(normalize=True)).loc[1]\n",
    "left_outer_dist = data.loc[left_outer_index][to_study].apply(lambda x: x.value_counts(normalize=True)).loc[1]\n",
    "\n",
    "pd.DataFrame({'total':total_dist, 'left_outer':left_outer_dist}).T"
   ]
  },
  {
   "cell_type": "markdown",
   "id": "50cef2a2",
   "metadata": {},
   "source": [
    "Похоже в левом хвосте и в правду находятся люди с низкими доходами и наверное без кредитов вообще. Зато и дефолтов у них тоже нет."
   ]
  },
  {
   "cell_type": "markdown",
   "id": "e06b4be1",
   "metadata": {},
   "source": [
    "Обратимся теперь к категориальным переменнным. Для поиска выбросов в воспользуемся графиками и здравым смыслом:"
   ]
  },
  {
   "cell_type": "code",
   "execution_count": 27,
   "id": "33b5a54e",
   "metadata": {},
   "outputs": [
    {
     "data": {
      "image/png": "[encoded data removed]",
      "text/plain": [
       "<Figure size 1008x144 with 6 Axes>"
      ]
     },
     "metadata": {
      "needs_background": "light"
     },
     "output_type": "display_data"
    },
    {
     "data": {
      "image/png": "[encoded data removed]",
      "text/plain": [
       "<Figure size 1008x144 with 6 Axes>"
      ]
     },
     "metadata": {
      "needs_background": "light"
     },
     "output_type": "display_data"
    }
   ],
   "source": [
    "data = get_data()\n",
    "cats_visualisation(data[cat_cols.drop('decline_app_cnt')])"
   ]
  },
  {
   "cell_type": "markdown",
   "id": "efec1a1c",
   "metadata": {},
   "source": [
    "**education** -  в распределении присутствуют пара миноритарных категорий ***ACD*** и ***PGR*** (ученая степень и аспирант). У этих категорий минимальная доля дефолтов. Их малочисленность и достаточная финасовая дисциплина абсолютно логичны. Нет повода считать эти категории выбросом.  \n",
    "**region_rating** -  в распределении две миноритарных категории ***20*** и ***30*** (это два минимальных значения рейтингв). И вполне в соответствии с рейтингом высока(максимальна) доля дефолтов. Нет противоречия здравому смыслу и повода считать эти две категории выбросом. Остается порадоваться их малому колчеству.  \n",
    "**home_address**, **work_address**, **sna** нам неизвестно значение категорий, потому мы не можем судить о логичности распределения доли позитивгой класса по категориям. оставляем как есть. \n",
    "**first_time** - распределение приблизительно раномерное."
   ]
  },
  {
   "cell_type": "code",
   "execution_count": 28,
   "id": "dd28c89b",
   "metadata": {},
   "outputs": [
    {
     "data": {
      "image/png": "[encoded data removed]",
      "text/plain": [
       "<Figure size 1008x144 with 1 Axes>"
      ]
     },
     "metadata": {
      "needs_background": "light"
     },
     "output_type": "display_data"
    },
    {
     "data": {
      "image/png": "[encoded data removed]",
      "text/plain": [
       "<Figure size 1008x144 with 1 Axes>"
      ]
     },
     "metadata": {
      "needs_background": "light"
     },
     "output_type": "display_data"
    }
   ],
   "source": [
    "cats_visualisation(data[['decline_app_cnt']])"
   ]
  },
  {
   "cell_type": "markdown",
   "id": "c57d81c8",
   "metadata": {},
   "source": [
    "**decline_app_cnt** - все, кроме первой пары категорий можно смело относить к миноритарным. Большое количество крайне малочисленных категорий вынудит провести их обьедениение. Примем в этом признаке 5 категорий - **0**, **1**, **2**, **3** и **>=4**"
   ]
  },
  {
   "cell_type": "markdown",
   "id": "6aa3e57d",
   "metadata": {},
   "source": [
    "В результате проведенног анализа выбросы не обнаружены, т.е. датасет не изменился, соответсвенно и метррики не изменились. Идем дальше"
   ]
  },
  {
   "cell_type": "markdown",
   "id": "448d8627",
   "metadata": {},
   "source": [
    "## Обработка пропусков\n",
    "В наивном **Baseline** мы просто удалили пропуски в единственном не полностью заполненом признаке `education`. Испытаем более интелектуальный подход. Попробуем обучить классификатор на наблюдениях без пропусков и затем заполнить пропуски его предсказаниями.\n",
    "Для эксперимента возьмём три классификатора `RandomForestClassifier`, `GradientBoostingClassifier` и `KNeighborsClassifier`. Выберем лучший по изменению метрик. Будем использовать собсвенную функцию `model_imputer`, которая возвращает **data** с пропусками заполненными переданными функции классификатором\n",
    "\n",
    "Обучим модели на обновленных данных и посмотрим на метрики."
   ]
  },
  {
   "cell_type": "code",
   "execution_count": 29,
   "id": "d0d78f41",
   "metadata": {},
   "outputs": [
    {
     "name": "stdout",
     "output_type": "stream",
     "text": [
      "Wall time: 25.8 s\n"
     ]
    },
    {
     "data": {
      "text/html": [
       "<div>\n",
       "<style scoped>\n",
       "    .dataframe tbody tr th:only-of-type {\n",
       "        vertical-align: middle;\n",
       "    }\n",
       "\n",
       "    .dataframe tbody tr th {\n",
       "        vertical-align: top;\n",
       "    }\n",
       "\n",
       "    .dataframe thead th {\n",
       "        text-align: right;\n",
       "    }\n",
       "</style>\n",
       "<table border=\"1\" class=\"dataframe\">\n",
       "  <thead>\n",
       "    <tr style=\"text-align: right;\">\n",
       "      <th></th>\n",
       "      <th>mean</th>\n",
       "      <th>std</th>\n",
       "    </tr>\n",
       "  </thead>\n",
       "  <tbody>\n",
       "    <tr>\n",
       "      <th>test_f1</th>\n",
       "      <td>0.345342</td>\n",
       "      <td>0.008384</td>\n",
       "    </tr>\n",
       "    <tr>\n",
       "      <th>test_precision</th>\n",
       "      <td>0.259203</td>\n",
       "      <td>0.005959</td>\n",
       "    </tr>\n",
       "    <tr>\n",
       "      <th>test_recall</th>\n",
       "      <td>0.517388</td>\n",
       "      <td>0.016581</td>\n",
       "    </tr>\n",
       "    <tr>\n",
       "      <th>test_accuracy</th>\n",
       "      <td>0.750932</td>\n",
       "      <td>0.003921</td>\n",
       "    </tr>\n",
       "  </tbody>\n",
       "</table>\n",
       "</div>"
      ],
      "text/plain": [
       "                    mean       std\n",
       "test_f1         0.345342  0.008384\n",
       "test_precision  0.259203  0.005959\n",
       "test_recall     0.517388  0.016581\n",
       "test_accuracy   0.750932  0.003921"
      ]
     },
     "execution_count": 29,
     "metadata": {},
     "output_type": "execute_result"
    }
   ],
   "source": [
    "%%time\n",
    "data = get_data()\n",
    "data = model_imputer(RandomForestClassifier())\n",
    "\n",
    "X_train = data[data['sample']==1].drop(columns=['sample','default'])\n",
    "y_train = data[data['sample']==1].default\n",
    "\n",
    "metrics_rfc_fill = validation(X_train, y_train, LogisticRegression(class_weight={0:1,1:5}))\n",
    "metrics_rfc_fill"
   ]
  },
  {
   "cell_type": "code",
   "execution_count": 30,
   "id": "9842c0cb",
   "metadata": {},
   "outputs": [
    {
     "name": "stdout",
     "output_type": "stream",
     "text": [
      "Wall time: 1min 33s\n"
     ]
    },
    {
     "data": {
      "text/html": [
       "<div>\n",
       "<style scoped>\n",
       "    .dataframe tbody tr th:only-of-type {\n",
       "        vertical-align: middle;\n",
       "    }\n",
       "\n",
       "    .dataframe tbody tr th {\n",
       "        vertical-align: top;\n",
       "    }\n",
       "\n",
       "    .dataframe thead th {\n",
       "        text-align: right;\n",
       "    }\n",
       "</style>\n",
       "<table border=\"1\" class=\"dataframe\">\n",
       "  <thead>\n",
       "    <tr style=\"text-align: right;\">\n",
       "      <th></th>\n",
       "      <th>mean</th>\n",
       "      <th>std</th>\n",
       "    </tr>\n",
       "  </thead>\n",
       "  <tbody>\n",
       "    <tr>\n",
       "      <th>test_f1</th>\n",
       "      <td>0.345355</td>\n",
       "      <td>0.008425</td>\n",
       "    </tr>\n",
       "    <tr>\n",
       "      <th>test_precision</th>\n",
       "      <td>0.259217</td>\n",
       "      <td>0.005997</td>\n",
       "    </tr>\n",
       "    <tr>\n",
       "      <th>test_recall</th>\n",
       "      <td>0.517388</td>\n",
       "      <td>0.016581</td>\n",
       "    </tr>\n",
       "    <tr>\n",
       "      <th>test_accuracy</th>\n",
       "      <td>0.750945</td>\n",
       "      <td>0.003929</td>\n",
       "    </tr>\n",
       "  </tbody>\n",
       "</table>\n",
       "</div>"
      ],
      "text/plain": [
       "                    mean       std\n",
       "test_f1         0.345355  0.008425\n",
       "test_precision  0.259217  0.005997\n",
       "test_recall     0.517388  0.016581\n",
       "test_accuracy   0.750945  0.003929"
      ]
     },
     "execution_count": 30,
     "metadata": {},
     "output_type": "execute_result"
    }
   ],
   "source": [
    "%%time\n",
    "data = get_data()\n",
    "data = model_imputer(GradientBoostingClassifier())\n",
    "\n",
    "X_train = data[data['sample']==1].drop(columns=['sample','default'])\n",
    "y_train = data[data['sample']==1].default\n",
    "\n",
    "metrics_gbc_fill = validation(X_train, y_train, LogisticRegression(class_weight={0:1,1:5}))\n",
    "metrics_gbc_fill"
   ]
  },
  {
   "cell_type": "code",
   "execution_count": 31,
   "id": "8a049e35",
   "metadata": {},
   "outputs": [
    {
     "name": "stdout",
     "output_type": "stream",
     "text": [
      "Wall time: 3.95 s\n"
     ]
    },
    {
     "data": {
      "text/html": [
       "<div>\n",
       "<style scoped>\n",
       "    .dataframe tbody tr th:only-of-type {\n",
       "        vertical-align: middle;\n",
       "    }\n",
       "\n",
       "    .dataframe tbody tr th {\n",
       "        vertical-align: top;\n",
       "    }\n",
       "\n",
       "    .dataframe thead th {\n",
       "        text-align: right;\n",
       "    }\n",
       "</style>\n",
       "<table border=\"1\" class=\"dataframe\">\n",
       "  <thead>\n",
       "    <tr style=\"text-align: right;\">\n",
       "      <th></th>\n",
       "      <th>mean</th>\n",
       "      <th>std</th>\n",
       "    </tr>\n",
       "  </thead>\n",
       "  <tbody>\n",
       "    <tr>\n",
       "      <th>test_f1</th>\n",
       "      <td>0.345483</td>\n",
       "      <td>0.008643</td>\n",
       "    </tr>\n",
       "    <tr>\n",
       "      <th>test_precision</th>\n",
       "      <td>0.259336</td>\n",
       "      <td>0.006108</td>\n",
       "    </tr>\n",
       "    <tr>\n",
       "      <th>test_recall</th>\n",
       "      <td>0.517495</td>\n",
       "      <td>0.017099</td>\n",
       "    </tr>\n",
       "    <tr>\n",
       "      <th>test_accuracy</th>\n",
       "      <td>0.751040</td>\n",
       "      <td>0.003940</td>\n",
       "    </tr>\n",
       "  </tbody>\n",
       "</table>\n",
       "</div>"
      ],
      "text/plain": [
       "                    mean       std\n",
       "test_f1         0.345483  0.008643\n",
       "test_precision  0.259336  0.006108\n",
       "test_recall     0.517495  0.017099\n",
       "test_accuracy   0.751040  0.003940"
      ]
     },
     "execution_count": 31,
     "metadata": {},
     "output_type": "execute_result"
    }
   ],
   "source": [
    "%%time\n",
    "data = get_data()\n",
    "data = model_imputer(KNeighborsClassifier())\n",
    "\n",
    "X_train = data[data['sample']==1].drop(columns=['sample','default'])\n",
    "y_train = data[data['sample']==1].default\n",
    "\n",
    "metrics_knc_fill = validation(X_train, y_train, LogisticRegression(class_weight={0:1,1:5}))\n",
    "metrics_knc_fill\n"
   ]
  },
  {
   "cell_type": "markdown",
   "id": "1b89f1e9",
   "metadata": {},
   "source": [
    "Лучший результат у `KNeighborsClassifier()`, использовать будем его.\n",
    "\n",
    "Посмотим насколько изменились метрики **metrics_knc_fill** по сравнению с **metrics_class_weight** опимизированного по весам классов `LogisticRegression`"
   ]
  },
  {
   "cell_type": "code",
   "execution_count": 32,
   "id": "eb1edd06",
   "metadata": {},
   "outputs": [
    {
     "data": {
      "text/html": [
       "<div>\n",
       "<style scoped>\n",
       "    .dataframe tbody tr th:only-of-type {\n",
       "        vertical-align: middle;\n",
       "    }\n",
       "\n",
       "    .dataframe tbody tr th {\n",
       "        vertical-align: top;\n",
       "    }\n",
       "\n",
       "    .dataframe thead th {\n",
       "        text-align: right;\n",
       "    }\n",
       "</style>\n",
       "<table border=\"1\" class=\"dataframe\">\n",
       "  <thead>\n",
       "    <tr style=\"text-align: right;\">\n",
       "      <th></th>\n",
       "      <th>mean</th>\n",
       "      <th>std</th>\n",
       "    </tr>\n",
       "  </thead>\n",
       "  <tbody>\n",
       "    <tr>\n",
       "      <th>test_f1</th>\n",
       "      <td>0.001616</td>\n",
       "      <td>-0.000363</td>\n",
       "    </tr>\n",
       "    <tr>\n",
       "      <th>test_precision</th>\n",
       "      <td>0.001129</td>\n",
       "      <td>-0.000240</td>\n",
       "    </tr>\n",
       "    <tr>\n",
       "      <th>test_recall</th>\n",
       "      <td>0.002767</td>\n",
       "      <td>-0.000313</td>\n",
       "    </tr>\n",
       "    <tr>\n",
       "      <th>test_accuracy</th>\n",
       "      <td>0.000550</td>\n",
       "      <td>0.000128</td>\n",
       "    </tr>\n",
       "  </tbody>\n",
       "</table>\n",
       "</div>"
      ],
      "text/plain": [
       "                    mean       std\n",
       "test_f1         0.001616 -0.000363\n",
       "test_precision  0.001129 -0.000240\n",
       "test_recall     0.002767 -0.000313\n",
       "test_accuracy   0.000550  0.000128"
      ]
     },
     "execution_count": 32,
     "metadata": {},
     "output_type": "execute_result"
    }
   ],
   "source": [
    "metrics_knc_fill - metrics_class_weight"
   ]
  },
  {
   "cell_type": "markdown",
   "id": "1012b7f5",
   "metadata": {},
   "source": [
    "Изменения незначительные (порядка 0.5 % от величинв основной метрики), что и не удивительно. Ведь мы заполнли пропуcки всего  в 0,5% наблюдений. Но заполнили, видимо неплохо, ведь эффект неотрицательный.  \n",
    "В качетсве еще одного экпереимента заполним пропуски модой и посмотим насколько этот распространенный метод хуже."
   ]
  },
  {
   "cell_type": "code",
   "execution_count": 33,
   "id": "7fea07d9",
   "metadata": {},
   "outputs": [
    {
     "data": {
      "text/html": [
       "<div>\n",
       "<style scoped>\n",
       "    .dataframe tbody tr th:only-of-type {\n",
       "        vertical-align: middle;\n",
       "    }\n",
       "\n",
       "    .dataframe tbody tr th {\n",
       "        vertical-align: top;\n",
       "    }\n",
       "\n",
       "    .dataframe thead th {\n",
       "        text-align: right;\n",
       "    }\n",
       "</style>\n",
       "<table border=\"1\" class=\"dataframe\">\n",
       "  <thead>\n",
       "    <tr style=\"text-align: right;\">\n",
       "      <th></th>\n",
       "      <th>mean</th>\n",
       "      <th>std</th>\n",
       "    </tr>\n",
       "  </thead>\n",
       "  <tbody>\n",
       "    <tr>\n",
       "      <th>test_f1</th>\n",
       "      <td>0.345483</td>\n",
       "      <td>0.008643</td>\n",
       "    </tr>\n",
       "    <tr>\n",
       "      <th>test_precision</th>\n",
       "      <td>0.259336</td>\n",
       "      <td>0.006108</td>\n",
       "    </tr>\n",
       "    <tr>\n",
       "      <th>test_recall</th>\n",
       "      <td>0.517495</td>\n",
       "      <td>0.017099</td>\n",
       "    </tr>\n",
       "    <tr>\n",
       "      <th>test_accuracy</th>\n",
       "      <td>0.751040</td>\n",
       "      <td>0.003940</td>\n",
       "    </tr>\n",
       "  </tbody>\n",
       "</table>\n",
       "</div>"
      ],
      "text/plain": [
       "                    mean       std\n",
       "test_f1         0.345483  0.008643\n",
       "test_precision  0.259336  0.006108\n",
       "test_recall     0.517495  0.017099\n",
       "test_accuracy   0.751040  0.003940"
      ]
     },
     "execution_count": 33,
     "metadata": {},
     "output_type": "execute_result"
    }
   ],
   "source": [
    "to_fill_index = train_index[data.loc[train_index].education.isna()] # индексы с пропусками из train.\n",
    "\n",
    "data.education[to_fill_index] = data.education.mode()[0]\n",
    "\n",
    "X_train = data[data['sample']==1].drop(columns=['sample','default'])\n",
    "y_train = train.default\n",
    "\n",
    "metrics_mode_fill = validation(X_train, y_train, LogisticRegression(class_weight={0:1,1:5}))\n",
    "metrics_mode_fill"
   ]
  },
  {
   "cell_type": "code",
   "execution_count": 34,
   "id": "b607dfbf",
   "metadata": {},
   "outputs": [
    {
     "data": {
      "text/html": [
       "<div>\n",
       "<style scoped>\n",
       "    .dataframe tbody tr th:only-of-type {\n",
       "        vertical-align: middle;\n",
       "    }\n",
       "\n",
       "    .dataframe tbody tr th {\n",
       "        vertical-align: top;\n",
       "    }\n",
       "\n",
       "    .dataframe thead th {\n",
       "        text-align: right;\n",
       "    }\n",
       "</style>\n",
       "<table border=\"1\" class=\"dataframe\">\n",
       "  <thead>\n",
       "    <tr style=\"text-align: right;\">\n",
       "      <th></th>\n",
       "      <th>mean</th>\n",
       "      <th>std</th>\n",
       "    </tr>\n",
       "  </thead>\n",
       "  <tbody>\n",
       "    <tr>\n",
       "      <th>test_f1</th>\n",
       "      <td>0.0</td>\n",
       "      <td>0.0</td>\n",
       "    </tr>\n",
       "    <tr>\n",
       "      <th>test_precision</th>\n",
       "      <td>0.0</td>\n",
       "      <td>0.0</td>\n",
       "    </tr>\n",
       "    <tr>\n",
       "      <th>test_recall</th>\n",
       "      <td>0.0</td>\n",
       "      <td>0.0</td>\n",
       "    </tr>\n",
       "    <tr>\n",
       "      <th>test_accuracy</th>\n",
       "      <td>0.0</td>\n",
       "      <td>0.0</td>\n",
       "    </tr>\n",
       "  </tbody>\n",
       "</table>\n",
       "</div>"
      ],
      "text/plain": [
       "                mean  std\n",
       "test_f1          0.0  0.0\n",
       "test_precision   0.0  0.0\n",
       "test_recall      0.0  0.0\n",
       "test_accuracy    0.0  0.0"
      ]
     },
     "execution_count": 34,
     "metadata": {},
     "output_type": "execute_result"
    }
   ],
   "source": [
    "metrics_knc_fill - metrics_mode_fill"
   ]
  },
  {
   "cell_type": "markdown",
   "id": "e4e9700d",
   "metadata": {},
   "source": [
    "Сюрприз! Похоже метод ближайших соседей заполнил пропуски так же или почти так же как и мода. Учитывая, что мажоритарного класса SCH в признаке больше половины (57998 из 109670), то с большой вероятность у пропуска в ближайших соседях будет доминировать именно мажоритарный класс (если предположить более-менее равномерность распределения SCH и пропусков в признаковом прстранстве)."
   ]
  },
  {
   "cell_type": "markdown",
   "id": "96e1ce40",
   "metadata": {},
   "source": [
    "## Биннинг числовых признаков, dummy кодирование отобранных по IV бинов\n",
    "\n",
    "В каждом из числовых признаков `age`, `score_bki`, `bki_request_cnt`, `income` проведем монотонный WoE бининг. Для этого используем сосбтвенную реализацию `numeric_binning`, которая возвращает обработанный признак и таблицу бинов с соотвтетвующими им значениями **WoE** и **IV**. \n",
    "\n",
    "После проведения бининга обучим модель и сравним полученные метрики с ранее достигнутыми результатами.   \n",
    "Затем проэкспериментируем с выделением в отдельные dummy-признаки бинов, в которых IV превысит пороговое значение 0.02. "
   ]
  },
  {
   "cell_type": "code",
   "execution_count": 35,
   "id": "fca3a6dc",
   "metadata": {},
   "outputs": [],
   "source": [
    "data = get_data()\n",
    "data = model_imputer(KNeighborsClassifier())"
   ]
  },
  {
   "cell_type": "markdown",
   "id": "269f19a3",
   "metadata": {},
   "source": [
    "Проведем биннинг"
   ]
  },
  {
   "cell_type": "code",
   "execution_count": 36,
   "id": "8173c85c",
   "metadata": {
    "scrolled": true
   },
   "outputs": [
    {
     "name": "stdout",
     "output_type": "stream",
     "text": [
      "Wall time: 9min 39s\n"
     ]
    },
    {
     "data": {
      "text/html": [
       "<div>\n",
       "<style scoped>\n",
       "    .dataframe tbody tr th:only-of-type {\n",
       "        vertical-align: middle;\n",
       "    }\n",
       "\n",
       "    .dataframe tbody tr th {\n",
       "        vertical-align: top;\n",
       "    }\n",
       "\n",
       "    .dataframe thead th {\n",
       "        text-align: right;\n",
       "    }\n",
       "</style>\n",
       "<table border=\"1\" class=\"dataframe\">\n",
       "  <thead>\n",
       "    <tr style=\"text-align: right;\">\n",
       "      <th></th>\n",
       "      <th>mean</th>\n",
       "      <th>std</th>\n",
       "    </tr>\n",
       "  </thead>\n",
       "  <tbody>\n",
       "    <tr>\n",
       "      <th>test_f1</th>\n",
       "      <td>0.346758</td>\n",
       "      <td>0.009471</td>\n",
       "    </tr>\n",
       "    <tr>\n",
       "      <th>test_precision</th>\n",
       "      <td>0.259183</td>\n",
       "      <td>0.006625</td>\n",
       "    </tr>\n",
       "    <tr>\n",
       "      <th>test_recall</th>\n",
       "      <td>0.523896</td>\n",
       "      <td>0.018759</td>\n",
       "    </tr>\n",
       "    <tr>\n",
       "      <th>test_accuracy</th>\n",
       "      <td>0.749387</td>\n",
       "      <td>0.004164</td>\n",
       "    </tr>\n",
       "  </tbody>\n",
       "</table>\n",
       "</div>"
      ],
      "text/plain": [
       "                    mean       std\n",
       "test_f1         0.346758  0.009471\n",
       "test_precision  0.259183  0.006625\n",
       "test_recall     0.523896  0.018759\n",
       "test_accuracy   0.749387  0.004164"
      ]
     },
     "execution_count": 36,
     "metadata": {},
     "output_type": "execute_result"
    }
   ],
   "source": [
    "%%time\n",
    "for feat in num_cols:\n",
    "    data[feat] = numeric_binning(data[feat],data.default)[0]\n",
    "\n",
    "\n",
    "X_train = data[data['sample']==1].drop(columns=['sample','default'])\n",
    "y_train = train.default\n",
    "\n",
    "metrics_num_binning = validation(X_train, y_train, LogisticRegression(class_weight={0:1,1:5}))\n",
    "metrics_num_binning"
   ]
  },
  {
   "cell_type": "code",
   "execution_count": 37,
   "id": "563fadcb",
   "metadata": {},
   "outputs": [
    {
     "data": {
      "text/html": [
       "<div>\n",
       "<style scoped>\n",
       "    .dataframe tbody tr th:only-of-type {\n",
       "        vertical-align: middle;\n",
       "    }\n",
       "\n",
       "    .dataframe tbody tr th {\n",
       "        vertical-align: top;\n",
       "    }\n",
       "\n",
       "    .dataframe thead th {\n",
       "        text-align: right;\n",
       "    }\n",
       "</style>\n",
       "<table border=\"1\" class=\"dataframe\">\n",
       "  <thead>\n",
       "    <tr style=\"text-align: right;\">\n",
       "      <th></th>\n",
       "      <th>mean</th>\n",
       "      <th>std</th>\n",
       "    </tr>\n",
       "  </thead>\n",
       "  <tbody>\n",
       "    <tr>\n",
       "      <th>test_f1</th>\n",
       "      <td>0.001276</td>\n",
       "      <td>0.000827</td>\n",
       "    </tr>\n",
       "    <tr>\n",
       "      <th>test_precision</th>\n",
       "      <td>-0.000153</td>\n",
       "      <td>0.000517</td>\n",
       "    </tr>\n",
       "    <tr>\n",
       "      <th>test_recall</th>\n",
       "      <td>0.006402</td>\n",
       "      <td>0.001660</td>\n",
       "    </tr>\n",
       "    <tr>\n",
       "      <th>test_accuracy</th>\n",
       "      <td>-0.001653</td>\n",
       "      <td>0.000224</td>\n",
       "    </tr>\n",
       "  </tbody>\n",
       "</table>\n",
       "</div>"
      ],
      "text/plain": [
       "                    mean       std\n",
       "test_f1         0.001276  0.000827\n",
       "test_precision -0.000153  0.000517\n",
       "test_recall     0.006402  0.001660\n",
       "test_accuracy  -0.001653  0.000224"
      ]
     },
     "execution_count": 37,
     "metadata": {},
     "output_type": "execute_result"
    }
   ],
   "source": [
    "metrics_num_binning - metrics_knc_fill"
   ]
  },
  {
   "cell_type": "markdown",
   "id": "a37108c1",
   "metadata": {},
   "source": [
    "Изменения по сравнению с метриками на предидущем этапе **metrics_knc_fill** незначительные , но все же рост. Ктому же бининг поавышает робастность, так что - сочтем процедуру полезной.  \n",
    "\n",
    "Теперь проведем dummy-кодирование бинов со значением IV превышающим 0.02"
   ]
  },
  {
   "cell_type": "code",
   "execution_count": 38,
   "id": "37486328",
   "metadata": {},
   "outputs": [
    {
     "name": "stdout",
     "output_type": "stream",
     "text": [
      "Wall time: 8min 55s\n"
     ]
    }
   ],
   "source": [
    "%%time\n",
    "for feat in num_cols:\n",
    "    \n",
    "    bins_tbl = numeric_binning(data[feat],data.default)[1]\n",
    "    bins = bins_tbl.bin\n",
    "    to_dummy_mask = bins_tbl.iv > 0.02\n",
    "\n",
    "    bins_list = bins.to_list()\n",
    "    bins_list[0] = pd.Interval(left=-np.inf, right=bins.to_list()[0].right)\n",
    "    bins_list[-1] = pd.Interval(left=bins.to_list()[-1].left, right=np.inf)\n",
    "    \n",
    "    to_dummy = pd.Series(bins_list)[to_dummy_mask]\n",
    "    for i,bin_to_dummy in enumerate(to_dummy):\n",
    "        data[feat + '_'+str(i)] = data[feat].apply(lambda x: x in bin_to_dummy).astype(int)\n",
    "         "
   ]
  },
  {
   "cell_type": "code",
   "execution_count": 39,
   "id": "e88ed948",
   "metadata": {},
   "outputs": [
    {
     "data": {
      "text/html": [
       "<div>\n",
       "<style scoped>\n",
       "    .dataframe tbody tr th:only-of-type {\n",
       "        vertical-align: middle;\n",
       "    }\n",
       "\n",
       "    .dataframe tbody tr th {\n",
       "        vertical-align: top;\n",
       "    }\n",
       "\n",
       "    .dataframe thead th {\n",
       "        text-align: right;\n",
       "    }\n",
       "</style>\n",
       "<table border=\"1\" class=\"dataframe\">\n",
       "  <thead>\n",
       "    <tr style=\"text-align: right;\">\n",
       "      <th></th>\n",
       "      <th>mean</th>\n",
       "      <th>std</th>\n",
       "    </tr>\n",
       "  </thead>\n",
       "  <tbody>\n",
       "    <tr>\n",
       "      <th>test_f1</th>\n",
       "      <td>0.344275</td>\n",
       "      <td>0.007597</td>\n",
       "    </tr>\n",
       "    <tr>\n",
       "      <th>test_precision</th>\n",
       "      <td>0.239878</td>\n",
       "      <td>0.005504</td>\n",
       "    </tr>\n",
       "    <tr>\n",
       "      <th>test_recall</th>\n",
       "      <td>0.609685</td>\n",
       "      <td>0.014899</td>\n",
       "    </tr>\n",
       "    <tr>\n",
       "      <th>test_accuracy</th>\n",
       "      <td>0.705050</td>\n",
       "      <td>0.005135</td>\n",
       "    </tr>\n",
       "  </tbody>\n",
       "</table>\n",
       "</div>"
      ],
      "text/plain": [
       "                    mean       std\n",
       "test_f1         0.344275  0.007597\n",
       "test_precision  0.239878  0.005504\n",
       "test_recall     0.609685  0.014899\n",
       "test_accuracy   0.705050  0.005135"
      ]
     },
     "execution_count": 39,
     "metadata": {},
     "output_type": "execute_result"
    }
   ],
   "source": [
    "X_train = data[data['sample']==1].drop(columns=['sample','default'])\n",
    "y_train = train.default\n",
    "\n",
    "metrics_num_bin_dum = validation(X_train, y_train, LogisticRegression(class_weight={0:1,1:6}))\n",
    "metrics_num_bin_dum"
   ]
  },
  {
   "cell_type": "code",
   "execution_count": 40,
   "id": "612188e9",
   "metadata": {},
   "outputs": [
    {
     "data": {
      "text/html": [
       "<div>\n",
       "<style scoped>\n",
       "    .dataframe tbody tr th:only-of-type {\n",
       "        vertical-align: middle;\n",
       "    }\n",
       "\n",
       "    .dataframe tbody tr th {\n",
       "        vertical-align: top;\n",
       "    }\n",
       "\n",
       "    .dataframe thead th {\n",
       "        text-align: right;\n",
       "    }\n",
       "</style>\n",
       "<table border=\"1\" class=\"dataframe\">\n",
       "  <thead>\n",
       "    <tr style=\"text-align: right;\">\n",
       "      <th></th>\n",
       "      <th>mean</th>\n",
       "      <th>std</th>\n",
       "    </tr>\n",
       "  </thead>\n",
       "  <tbody>\n",
       "    <tr>\n",
       "      <th>test_f1</th>\n",
       "      <td>-0.002484</td>\n",
       "      <td>-0.001874</td>\n",
       "    </tr>\n",
       "    <tr>\n",
       "      <th>test_precision</th>\n",
       "      <td>-0.019305</td>\n",
       "      <td>-0.001120</td>\n",
       "    </tr>\n",
       "    <tr>\n",
       "      <th>test_recall</th>\n",
       "      <td>0.085789</td>\n",
       "      <td>-0.003860</td>\n",
       "    </tr>\n",
       "    <tr>\n",
       "      <th>test_accuracy</th>\n",
       "      <td>-0.044337</td>\n",
       "      <td>0.000971</td>\n",
       "    </tr>\n",
       "  </tbody>\n",
       "</table>\n",
       "</div>"
      ],
      "text/plain": [
       "                    mean       std\n",
       "test_f1        -0.002484 -0.001874\n",
       "test_precision -0.019305 -0.001120\n",
       "test_recall     0.085789 -0.003860\n",
       "test_accuracy  -0.044337  0.000971"
      ]
     },
     "execution_count": 40,
     "metadata": {},
     "output_type": "execute_result"
    }
   ],
   "source": [
    "metrics_num_bin_dum - metrics_num_binning"
   ]
  },
  {
   "cell_type": "markdown",
   "id": "c938c94f",
   "metadata": {},
   "source": [
    "Первый неудачный эксперимент: никакого улучшения, даже небольшой падение метрик. Хорошо, что бининг и dummy-кодирование при превышении IV порога проведены раздельно и есть возможность разделить эффекты от них."
   ]
  },
  {
   "cell_type": "markdown",
   "id": "60f9dfbf",
   "metadata": {},
   "source": [
    "## Dummy-кодирование категориальных признаков"
   ]
  },
  {
   "cell_type": "code",
   "execution_count": 41,
   "id": "2fc13170",
   "metadata": {},
   "outputs": [
    {
     "name": "stdout",
     "output_type": "stream",
     "text": [
      "Wall time: 8min 40s\n"
     ]
    }
   ],
   "source": [
    "%%time\n",
    "data = get_data()\n",
    "data = model_imputer(RandomForestClassifier())\n",
    "\n",
    "for feat in num_cols:\n",
    "    data[feat] = numeric_binning(data[feat],data.default)[0]"
   ]
  },
  {
   "cell_type": "code",
   "execution_count": 42,
   "id": "c460f317",
   "metadata": {},
   "outputs": [],
   "source": [
    "data = pd.get_dummies(data,columns=cat_cols)"
   ]
  },
  {
   "cell_type": "code",
   "execution_count": 43,
   "id": "8366b797",
   "metadata": {},
   "outputs": [
    {
     "data": {
      "text/html": [
       "<div>\n",
       "<style scoped>\n",
       "    .dataframe tbody tr th:only-of-type {\n",
       "        vertical-align: middle;\n",
       "    }\n",
       "\n",
       "    .dataframe tbody tr th {\n",
       "        vertical-align: top;\n",
       "    }\n",
       "\n",
       "    .dataframe thead th {\n",
       "        text-align: right;\n",
       "    }\n",
       "</style>\n",
       "<table border=\"1\" class=\"dataframe\">\n",
       "  <thead>\n",
       "    <tr style=\"text-align: right;\">\n",
       "      <th></th>\n",
       "      <th>mean</th>\n",
       "      <th>std</th>\n",
       "    </tr>\n",
       "  </thead>\n",
       "  <tbody>\n",
       "    <tr>\n",
       "      <th>test_f1</th>\n",
       "      <td>0.353507</td>\n",
       "      <td>0.007812</td>\n",
       "    </tr>\n",
       "    <tr>\n",
       "      <th>test_precision</th>\n",
       "      <td>0.263040</td>\n",
       "      <td>0.006190</td>\n",
       "    </tr>\n",
       "    <tr>\n",
       "      <th>test_recall</th>\n",
       "      <td>0.539049</td>\n",
       "      <td>0.015137</td>\n",
       "    </tr>\n",
       "    <tr>\n",
       "      <th>test_accuracy</th>\n",
       "      <td>0.749617</td>\n",
       "      <td>0.005164</td>\n",
       "    </tr>\n",
       "  </tbody>\n",
       "</table>\n",
       "</div>"
      ],
      "text/plain": [
       "                    mean       std\n",
       "test_f1         0.353507  0.007812\n",
       "test_precision  0.263040  0.006190\n",
       "test_recall     0.539049  0.015137\n",
       "test_accuracy   0.749617  0.005164"
      ]
     },
     "execution_count": 43,
     "metadata": {},
     "output_type": "execute_result"
    }
   ],
   "source": [
    "X_train = data[data['sample']==1].drop(columns=['sample','default'])\n",
    "y_train = train.default\n",
    "\n",
    "metrics_dum = validation(X_train, y_train, LogisticRegression(class_weight={0:1,1:5}))\n",
    "metrics_dum"
   ]
  },
  {
   "cell_type": "code",
   "execution_count": 44,
   "id": "ef89e0d7",
   "metadata": {},
   "outputs": [
    {
     "data": {
      "text/html": [
       "<div>\n",
       "<style scoped>\n",
       "    .dataframe tbody tr th:only-of-type {\n",
       "        vertical-align: middle;\n",
       "    }\n",
       "\n",
       "    .dataframe tbody tr th {\n",
       "        vertical-align: top;\n",
       "    }\n",
       "\n",
       "    .dataframe thead th {\n",
       "        text-align: right;\n",
       "    }\n",
       "</style>\n",
       "<table border=\"1\" class=\"dataframe\">\n",
       "  <thead>\n",
       "    <tr style=\"text-align: right;\">\n",
       "      <th></th>\n",
       "      <th>mean</th>\n",
       "      <th>std</th>\n",
       "    </tr>\n",
       "  </thead>\n",
       "  <tbody>\n",
       "    <tr>\n",
       "      <th>test_f1</th>\n",
       "      <td>0.006748</td>\n",
       "      <td>-0.001659</td>\n",
       "    </tr>\n",
       "    <tr>\n",
       "      <th>test_precision</th>\n",
       "      <td>0.003858</td>\n",
       "      <td>-0.000434</td>\n",
       "    </tr>\n",
       "    <tr>\n",
       "      <th>test_recall</th>\n",
       "      <td>0.015153</td>\n",
       "      <td>-0.003622</td>\n",
       "    </tr>\n",
       "    <tr>\n",
       "      <th>test_accuracy</th>\n",
       "      <td>0.000230</td>\n",
       "      <td>0.001000</td>\n",
       "    </tr>\n",
       "  </tbody>\n",
       "</table>\n",
       "</div>"
      ],
      "text/plain": [
       "                    mean       std\n",
       "test_f1         0.006748 -0.001659\n",
       "test_precision  0.003858 -0.000434\n",
       "test_recall     0.015153 -0.003622\n",
       "test_accuracy   0.000230  0.001000"
      ]
     },
     "execution_count": 44,
     "metadata": {},
     "output_type": "execute_result"
    }
   ],
   "source": [
    "metrics_dum - metrics_num_binning"
   ]
  },
  {
   "cell_type": "markdown",
   "id": "76ba44f2",
   "metadata": {},
   "source": [
    "Прирост основной метрики 2% от её величины. Неплохо. "
   ]
  },
  {
   "cell_type": "markdown",
   "id": "3b41230c",
   "metadata": {},
   "source": [
    "## Создание новых признаков\n",
    "Cоздадим несколько признаков основываясь на предположениях о возможных зависимостях.  "
   ]
  },
  {
   "cell_type": "code",
   "execution_count": 45,
   "id": "c619087d",
   "metadata": {},
   "outputs": [],
   "source": [
    "data = get_data()"
   ]
  },
  {
   "cell_type": "code",
   "execution_count": 46,
   "id": "0649b6bb",
   "metadata": {},
   "outputs": [],
   "source": [
    "# кумулятивная 'крутость' клиента по машине, иномарке, загранпаспорту и хорошей работе\n",
    "coolness_car = np.array([2 if x=='Y' else 1  for x in data.car])\n",
    "coolness_import_car = np.array([2 if x=='Y' else 1  for x in data.car_type])\n",
    "coolness_passport =  np.array([2 if x=='Y' else 1  for x in data.foreign_passport])\n",
    "coolness_work = np.array([2 if x=='Y' else 1  for x in data.good_work])\n",
    "data['collness'] = coolness_car*coolness_import_car*coolness_passport*coolness_work\n",
    "# разница 'расширенная кумулятивная крутость' клиента по машине, иномарке, загранпаспорту, хорошей работе и work_address и\n",
    "# 'кумулятивная крутость' клиента по машине, иномарке, загранпаспорту и хорошей работе\n",
    "# признак обнаружен при созерцании пары графиков 'кумулятивная крутость' и 'крутость' :). \n",
    "# интересен монотоной зависимостью доли default\n",
    "coolness_car = np.array([2 if x=='Y' else 1  for x in data.car])\n",
    "coolness_import_car = np.array([2 if x=='Y' else 1  for x in data.car_type])\n",
    "coolness_passport =  np.array([2 if x=='Y' else 1  for x in data.foreign_passport])\n",
    "coolness_work = np.array([2 if x=='Y' else 1  for x in data.good_work])\n",
    "data['collness_diff'] =  (coolness_car*coolness_import_car*coolness_passport*coolness_work*(4-data.work_address) - \n",
    "            coolness_car*coolness_import_car*coolness_passport*coolness_work)\n",
    "# 'кумулитивная хорошесть' адрессов\n",
    "monoton_home_address = data.home_address.map({1:3 ,2:1 ,3:2 })\n",
    "data['collness_address'] = monoton_home_address*(4-data.work_address)"
   ]
  },
  {
   "cell_type": "markdown",
   "id": "33ec26fd",
   "metadata": {},
   "source": [
    "Появились новые признаки. Надо переопределить `cat_cols`"
   ]
  },
  {
   "cell_type": "code",
   "execution_count": 47,
   "id": "147c7978",
   "metadata": {},
   "outputs": [],
   "source": [
    "num_uniq = data.nunique()\n",
    "cat_cols = data.columns[(num_uniq>2) & (num_uniq<num_threshold)]"
   ]
  },
  {
   "cell_type": "code",
   "execution_count": 48,
   "id": "024c3ae8",
   "metadata": {},
   "outputs": [
    {
     "name": "stdout",
     "output_type": "stream",
     "text": [
      "Wall time: 8min 37s\n"
     ]
    },
    {
     "data": {
      "text/html": [
       "<div>\n",
       "<style scoped>\n",
       "    .dataframe tbody tr th:only-of-type {\n",
       "        vertical-align: middle;\n",
       "    }\n",
       "\n",
       "    .dataframe tbody tr th {\n",
       "        vertical-align: top;\n",
       "    }\n",
       "\n",
       "    .dataframe thead th {\n",
       "        text-align: right;\n",
       "    }\n",
       "</style>\n",
       "<table border=\"1\" class=\"dataframe\">\n",
       "  <thead>\n",
       "    <tr style=\"text-align: right;\">\n",
       "      <th></th>\n",
       "      <th>mean</th>\n",
       "      <th>std</th>\n",
       "    </tr>\n",
       "  </thead>\n",
       "  <tbody>\n",
       "    <tr>\n",
       "      <th>test_f1</th>\n",
       "      <td>0.354401</td>\n",
       "      <td>0.007125</td>\n",
       "    </tr>\n",
       "    <tr>\n",
       "      <th>test_precision</th>\n",
       "      <td>0.263756</td>\n",
       "      <td>0.005553</td>\n",
       "    </tr>\n",
       "    <tr>\n",
       "      <th>test_recall</th>\n",
       "      <td>0.540223</td>\n",
       "      <td>0.015247</td>\n",
       "    </tr>\n",
       "    <tr>\n",
       "      <th>test_accuracy</th>\n",
       "      <td>0.750064</td>\n",
       "      <td>0.004934</td>\n",
       "    </tr>\n",
       "  </tbody>\n",
       "</table>\n",
       "</div>"
      ],
      "text/plain": [
       "                    mean       std\n",
       "test_f1         0.354401  0.007125\n",
       "test_precision  0.263756  0.005553\n",
       "test_recall     0.540223  0.015247\n",
       "test_accuracy   0.750064  0.004934"
      ]
     },
     "execution_count": 48,
     "metadata": {},
     "output_type": "execute_result"
    }
   ],
   "source": [
    "%%time\n",
    "data = model_imputer(RandomForestClassifier())\n",
    "\n",
    "for feat in num_cols:\n",
    "    data[feat] = numeric_binning(data[feat],data.default)[0]\n",
    "\n",
    "data = pd.get_dummies(data,columns=cat_cols)\n",
    "\n",
    "X_train = data[data['sample']==1].drop(columns=['sample','default'])\n",
    "y_train = train.default\n",
    "\n",
    "metrics_new_feat = validation(X_train, y_train, LogisticRegression(class_weight={0:1,1:5}))\n",
    "metrics_new_feat"
   ]
  },
  {
   "cell_type": "code",
   "execution_count": 49,
   "id": "b38d115f",
   "metadata": {},
   "outputs": [
    {
     "data": {
      "text/html": [
       "<div>\n",
       "<style scoped>\n",
       "    .dataframe tbody tr th:only-of-type {\n",
       "        vertical-align: middle;\n",
       "    }\n",
       "\n",
       "    .dataframe tbody tr th {\n",
       "        vertical-align: top;\n",
       "    }\n",
       "\n",
       "    .dataframe thead th {\n",
       "        text-align: right;\n",
       "    }\n",
       "</style>\n",
       "<table border=\"1\" class=\"dataframe\">\n",
       "  <thead>\n",
       "    <tr style=\"text-align: right;\">\n",
       "      <th></th>\n",
       "      <th>mean</th>\n",
       "      <th>std</th>\n",
       "    </tr>\n",
       "  </thead>\n",
       "  <tbody>\n",
       "    <tr>\n",
       "      <th>test_f1</th>\n",
       "      <td>0.000894</td>\n",
       "      <td>-0.000687</td>\n",
       "    </tr>\n",
       "    <tr>\n",
       "      <th>test_precision</th>\n",
       "      <td>0.000715</td>\n",
       "      <td>-0.000637</td>\n",
       "    </tr>\n",
       "    <tr>\n",
       "      <th>test_recall</th>\n",
       "      <td>0.001174</td>\n",
       "      <td>0.000110</td>\n",
       "    </tr>\n",
       "    <tr>\n",
       "      <th>test_accuracy</th>\n",
       "      <td>0.000447</td>\n",
       "      <td>-0.000231</td>\n",
       "    </tr>\n",
       "  </tbody>\n",
       "</table>\n",
       "</div>"
      ],
      "text/plain": [
       "                    mean       std\n",
       "test_f1         0.000894 -0.000687\n",
       "test_precision  0.000715 -0.000637\n",
       "test_recall     0.001174  0.000110\n",
       "test_accuracy   0.000447 -0.000231"
      ]
     },
     "execution_count": 49,
     "metadata": {},
     "output_type": "execute_result"
    }
   ],
   "source": [
    "metrics_new_feat - metrics_dum"
   ]
  },
  {
   "cell_type": "markdown",
   "id": "679629b1",
   "metadata": {},
   "source": [
    "Новые признаки улучшили метрику. Не зря старались. Оставляем.\n",
    "## Отбор признаков"
   ]
  },
  {
   "cell_type": "markdown",
   "id": "785c12a4",
   "metadata": {},
   "source": [
    "Благодаря созданию новых признаков и их дальнейшей обработке в наборе уже несколько десятков признаков. Наверное уже имеет смысл попробовать отбросить те из них, что неполезны для модели - это вероятно улучшит качество и точно ускорит обучение.  \n",
    "\n",
    "Прибегнем к отбору при помощи ***Lasso*** . Обучим эту модель на обогащенном по признакам наборе данных."
   ]
  },
  {
   "cell_type": "code",
   "execution_count": 50,
   "id": "a88c0514",
   "metadata": {},
   "outputs": [],
   "source": [
    "from sklearn.linear_model import Lasso"
   ]
  },
  {
   "cell_type": "code",
   "execution_count": 51,
   "id": "56086f12",
   "metadata": {},
   "outputs": [
    {
     "data": {
      "text/plain": [
       "Lasso(alpha=0.0001)"
      ]
     },
     "execution_count": 51,
     "metadata": {},
     "output_type": "execute_result"
    }
   ],
   "source": [
    "selector = Lasso(alpha=0.0001)\n",
    "selector.fit(X_train,y_train)"
   ]
  },
  {
   "cell_type": "markdown",
   "id": "17608792",
   "metadata": {},
   "source": [
    "Теперь получим список упорядоченных по полезности с точки selector-модели признаков. "
   ]
  },
  {
   "cell_type": "code",
   "execution_count": 52,
   "id": "8d5b5ae7",
   "metadata": {},
   "outputs": [],
   "source": [
    "sorted_by_Lasso = (abs(pd.Series(selector.coef_,index = X_train.columns)) # Seris модулей коэффициентов\n",
    "                   .sort_values()                                         # отсортированный \n",
    "                   .index)                                                # его индексы - названия признаков"
   ]
  },
  {
   "cell_type": "markdown",
   "id": "0ebe3b54",
   "metadata": {},
   "source": [
    "После чего станем удалять их по одному, начиная с самого неполезного. И при этом будем следить за изменением метрики и остановимся на том количестве удаляемых признаков при котором изменение метрики будет наиболее выгодным."
   ]
  },
  {
   "cell_type": "code",
   "execution_count": 53,
   "id": "a4757d36",
   "metadata": {},
   "outputs": [
    {
     "name": "stderr",
     "output_type": "stream",
     "text": [
      "100%|██████████████████████████████████████████████████████████████████████████████████| 57/57 [02:48<00:00,  2.95s/it]\n"
     ]
    }
   ],
   "source": [
    "model = LogisticRegression(random_state=RANDOM_SEED,class_weight={0:1,1:5})\n",
    "metrics_changes = pd.Series()\n",
    "\n",
    "for loc in tqdm(range(0,len(sorted_by_Lasso),1)):\n",
    "    to_drop = sorted_by_Lasso[:loc] \n",
    "    X_tmp = X_train.drop(columns=to_drop)\n",
    "    metrics_tmp = validation(X_tmp,y_train,model)\n",
    "    metrics_changes.loc[loc] = metrics_tmp.loc['test_f1']['mean']"
   ]
  },
  {
   "cell_type": "markdown",
   "id": "651740a5",
   "metadata": {},
   "source": [
    "Посмотрим сколько пизнаков из **sorted_by_Lasso** наиболее выгодно отбросить и какова метрика на наборе с отобранными таким образом признаками"
   ]
  },
  {
   "cell_type": "code",
   "execution_count": 54,
   "id": "67c4ecf9",
   "metadata": {},
   "outputs": [
    {
     "name": "stdout",
     "output_type": "stream",
     "text": [
      "Оптимально отбросить 29 признаков, метрика при этом будет равна 0.3555725991353021\n"
     ]
    }
   ],
   "source": [
    "print('Оптимально отбросить {} признаков, метрика при этом будет равна {}'.\n",
    "      format(metrics_changes.idxmax(),  metrics_changes.max()))"
   ]
  },
  {
   "cell_type": "markdown",
   "id": "3823f832",
   "metadata": {},
   "source": [
    "Мы неплохо сократим обьем данных! И немного, но опять увеличим метрику. Кругом профит."
   ]
  },
  {
   "cell_type": "code",
   "execution_count": 55,
   "id": "c450424c",
   "metadata": {},
   "outputs": [],
   "source": [
    "to_drop = sorted_by_Lasso[:metrics_changes.idxmax()]\n",
    "X_train_select = X_train.drop(columns=to_drop)"
   ]
  },
  {
   "cell_type": "markdown",
   "id": "6b25dc1f",
   "metadata": {},
   "source": [
    "## Определение оптимального размера набора данных\n",
    "В дальнейшем при отборе призгаков, при подборе гиперпараметров нам предстоит многократное обучение модели на обучающей выборке. Для того чтобы оптимизировать по времени обучения процесс, проверим зависимость метрики от размера выборки, возможно что начиная с некоторого момента рост размера обучающей выборки перестает ощутимо влиять на качество модели и мы сможет произвести эксперименты используя сокращенный/оптимизированный набор данных.\n",
    "\n",
    "Получим при различных значениях взятой для обучения доли исходных данных значения метрики на тестовой выборке."
   ]
  },
  {
   "cell_type": "code",
   "execution_count": 56,
   "id": "cd7cac6b",
   "metadata": {},
   "outputs": [
    {
     "name": "stdout",
     "output_type": "stream",
     "text": [
      "Wall time: 6min 31s\n"
     ]
    }
   ],
   "source": [
    "%%time\n",
    "model = LogisticRegression(class_weight={0:1,1:5})\n",
    "cv = StratifiedKFold(n_splits=20,shuffle=True,random_state=RANDOM_SEED)\n",
    "\n",
    "_, _, test_scores = learning_curve(\n",
    "       model, X_train, y_train, train_sizes=np.linspace(.1, 1.0, 19), cv=cv, scoring = 'f1')"
   ]
  },
  {
   "cell_type": "markdown",
   "id": "4fe06892",
   "metadata": {},
   "source": [
    "Визуализируем полученный результат"
   ]
  },
  {
   "cell_type": "code",
   "execution_count": 57,
   "id": "89dc13c7",
   "metadata": {},
   "outputs": [
    {
     "data": {
      "image/png": "[encoded data removed]",
      "text/plain": [
       "<Figure size 1008x504 with 1 Axes>"
      ]
     },
     "metadata": {
      "needs_background": "light"
     },
     "output_type": "display_data"
    }
   ],
   "source": [
    "train_prop = np.linspace(.1, 1.0, 19)\n",
    "\n",
    "test_scores_mean = test_scores.mean(axis=1)\n",
    "test_scores_std = test_scores.std(axis=1)\n",
    "\n",
    "plt.figure(figsize=(14,7))\n",
    "plt.grid(True)\n",
    "plt.xticks(train_prop)\n",
    "plt.errorbar(train_prop, test_scores_mean , yerr = test_scores_std, fmt='o-')\n",
    "\n",
    "plt.title('Зависимость метрики от доли исходного набора данных, взятой для обучения')\n",
    "plt.ylabel('roc_auc')\n",
    "plt.xlabel(\"Доля исходного набора данных, взятая для обучения\");"
   ]
  },
  {
   "cell_type": "markdown",
   "id": "eb03dd5e",
   "metadata": {},
   "source": [
    "Как видим где то после 0.5-0.6 выборки метрика стабилизируется.  Примем в качестве оптимального с точки зрения затрат времени размер данных в 0.5 от исходного. В этом решении есть изрядняа доля волюнтаризма, но время поджимает, приходится нго экономить."
   ]
  },
  {
   "cell_type": "code",
   "execution_count": 58,
   "id": "228c5644",
   "metadata": {},
   "outputs": [
    {
     "name": "stdout",
     "output_type": "stream",
     "text": [
      "Wall time: 3.82 s\n"
     ]
    },
    {
     "data": {
      "text/html": [
       "<div>\n",
       "<style scoped>\n",
       "    .dataframe tbody tr th:only-of-type {\n",
       "        vertical-align: middle;\n",
       "    }\n",
       "\n",
       "    .dataframe tbody tr th {\n",
       "        vertical-align: top;\n",
       "    }\n",
       "\n",
       "    .dataframe thead th {\n",
       "        text-align: right;\n",
       "    }\n",
       "</style>\n",
       "<table border=\"1\" class=\"dataframe\">\n",
       "  <thead>\n",
       "    <tr style=\"text-align: right;\">\n",
       "      <th></th>\n",
       "      <th>mean</th>\n",
       "      <th>std</th>\n",
       "    </tr>\n",
       "  </thead>\n",
       "  <tbody>\n",
       "    <tr>\n",
       "      <th>test_f1</th>\n",
       "      <td>0.347499</td>\n",
       "      <td>0.008697</td>\n",
       "    </tr>\n",
       "    <tr>\n",
       "      <th>test_precision</th>\n",
       "      <td>0.257986</td>\n",
       "      <td>0.006555</td>\n",
       "    </tr>\n",
       "    <tr>\n",
       "      <th>test_recall</th>\n",
       "      <td>0.532226</td>\n",
       "      <td>0.014588</td>\n",
       "    </tr>\n",
       "    <tr>\n",
       "      <th>test_accuracy</th>\n",
       "      <td>0.746172</td>\n",
       "      <td>0.004388</td>\n",
       "    </tr>\n",
       "  </tbody>\n",
       "</table>\n",
       "</div>"
      ],
      "text/plain": [
       "                    mean       std\n",
       "test_f1         0.347499  0.008697\n",
       "test_precision  0.257986  0.006555\n",
       "test_recall     0.532226  0.014588\n",
       "test_accuracy   0.746172  0.004388"
      ]
     },
     "execution_count": 58,
     "metadata": {},
     "output_type": "execute_result"
    }
   ],
   "source": [
    "%%time\n",
    "X_train_opt, _, y_train_opt, _ = train_test_split(\n",
    "    X_train, y_train, train_size=0.5, stratify=y_train, random_state=RANDOM_SEED)            \n",
    "\n",
    "validation(X_train_opt, y_train_opt, LogisticRegression(class_weight={0:1,1:5}))"
   ]
  },
  {
   "cell_type": "markdown",
   "id": "e2344708",
   "metadata": {},
   "source": [
    "Метрики просели, но это плата за сильно сокращенное время обучения. Окончательную модель обучим на полном датасете"
   ]
  },
  {
   "cell_type": "markdown",
   "id": "4c90ee2e",
   "metadata": {},
   "source": [
    "## Подбор гиперпараметров"
   ]
  },
  {
   "cell_type": "markdown",
   "id": "3246c384",
   "metadata": {},
   "source": [
    "Для подбора гиперпараметров будем использовать оптимальный по признакам и количесву наболюдений данных. Используем для поиска парметров, близких к оптимальным реализацию ***sklearn.model_selection.RandomizedSearchCV***. Этот подход позволяет обойтись меньшимим ресурсами, по сравнению с, например, ***GridSearchCV***."
   ]
  },
  {
   "cell_type": "code",
   "execution_count": 59,
   "id": "df668837",
   "metadata": {},
   "outputs": [],
   "source": [
    "X_train_select_opt, _, y_train_opt, _ = train_test_split(\n",
    "    X_train_select, y_train, train_size=0.5, stratify=y_train, random_state=RANDOM_SEED)  "
   ]
  },
  {
   "cell_type": "code",
   "execution_count": 60,
   "id": "4ac3255d",
   "metadata": {},
   "outputs": [
    {
     "name": "stderr",
     "output_type": "stream",
     "text": [
      "100%|███████████████████████████████████████████████████████████████████████████████████| 5/5 [12:48<00:00, 153.69s/it]"
     ]
    },
    {
     "name": "stdout",
     "output_type": "stream",
     "text": [
      "Wall time: 12min 48s\n"
     ]
    },
    {
     "name": "stderr",
     "output_type": "stream",
     "text": [
      "\n"
     ]
    }
   ],
   "source": [
    "%%time\n",
    "n_iter = 50\n",
    "search = pd.Series()\n",
    "\n",
    "for solver in tqdm(solvers_hyperparameters):\n",
    "    hyperparameters = solvers_hyperparameters[solver]\n",
    "    model = LogisticRegression(solver=solver, random_state=RANDOM_SEED)\n",
    "    clf = RandomizedSearchCV(model, hyperparameters, n_iter=n_iter, scoring='f1', cv=5, random_state=RANDOM_SEED)\n",
    "    search[solver] = clf.fit(X_train_select_opt, y_train_opt)"
   ]
  },
  {
   "cell_type": "markdown",
   "id": "ffb9d01a",
   "metadata": {},
   "source": [
    "Получим оптимальные из перебранных solver и прочие параметры модели. Так же посмотрим на метрику выбранной модели."
   ]
  },
  {
   "cell_type": "code",
   "execution_count": 61,
   "id": "9747db8a",
   "metadata": {},
   "outputs": [
    {
     "data": {
      "text/plain": [
       "('sag',\n",
       " 0.3531375060213729,\n",
       " {'tol': 0.001,\n",
       "  'penalty': 'l2',\n",
       "  'max_iter': 500,\n",
       "  'class_weight': {0: 1, 1: 5},\n",
       "  'C': 1.0})"
      ]
     },
     "execution_count": 61,
     "metadata": {},
     "output_type": "execute_result"
    }
   ],
   "source": [
    "fin_solver = search.apply(lambda x: x.best_score_).idxmax()\n",
    "fin_params = search[fin_solver].best_params_\n",
    "fin_solver, search[fin_solver].best_score_, fin_params"
   ]
  },
  {
   "cell_type": "markdown",
   "id": "51a609bb",
   "metadata": {},
   "source": [
    "Метрика улучшилась. Хорошо.\n",
    "Определим окончательную модель."
   ]
  },
  {
   "cell_type": "code",
   "execution_count": 62,
   "id": "50e5635d",
   "metadata": {},
   "outputs": [],
   "source": [
    "fin_model = search[fin_solver].best_estimator_"
   ]
  },
  {
   "cell_type": "markdown",
   "id": "23a6d77e",
   "metadata": {},
   "source": [
    "Проведем валидацию этой модели и убедимся в возросшем её качестве на полном датасете:"
   ]
  },
  {
   "cell_type": "code",
   "execution_count": 63,
   "id": "614ea765",
   "metadata": {},
   "outputs": [
    {
     "data": {
      "text/html": [
       "<div>\n",
       "<style scoped>\n",
       "    .dataframe tbody tr th:only-of-type {\n",
       "        vertical-align: middle;\n",
       "    }\n",
       "\n",
       "    .dataframe tbody tr th {\n",
       "        vertical-align: top;\n",
       "    }\n",
       "\n",
       "    .dataframe thead th {\n",
       "        text-align: right;\n",
       "    }\n",
       "</style>\n",
       "<table border=\"1\" class=\"dataframe\">\n",
       "  <thead>\n",
       "    <tr style=\"text-align: right;\">\n",
       "      <th></th>\n",
       "      <th>mean</th>\n",
       "      <th>std</th>\n",
       "    </tr>\n",
       "  </thead>\n",
       "  <tbody>\n",
       "    <tr>\n",
       "      <th>test_f1</th>\n",
       "      <td>0.355555</td>\n",
       "      <td>0.006818</td>\n",
       "    </tr>\n",
       "    <tr>\n",
       "      <th>test_precision</th>\n",
       "      <td>0.265188</td>\n",
       "      <td>0.005654</td>\n",
       "    </tr>\n",
       "    <tr>\n",
       "      <th>test_recall</th>\n",
       "      <td>0.539583</td>\n",
       "      <td>0.013605</td>\n",
       "    </tr>\n",
       "    <tr>\n",
       "      <th>test_accuracy</th>\n",
       "      <td>0.751595</td>\n",
       "      <td>0.005090</td>\n",
       "    </tr>\n",
       "  </tbody>\n",
       "</table>\n",
       "</div>"
      ],
      "text/plain": [
       "                    mean       std\n",
       "test_f1         0.355555  0.006818\n",
       "test_precision  0.265188  0.005654\n",
       "test_recall     0.539583  0.013605\n",
       "test_accuracy   0.751595  0.005090"
      ]
     },
     "execution_count": 63,
     "metadata": {},
     "output_type": "execute_result"
    }
   ],
   "source": [
    "validation(X_train_select, y_train, fin_model)"
   ]
  },
  {
   "cell_type": "markdown",
   "id": "9631627a",
   "metadata": {},
   "source": [
    "Все Ок. Переходим к завершающему этапу."
   ]
  },
  {
   "cell_type": "markdown",
   "id": "d76d74ef",
   "metadata": {},
   "source": [
    "## Получение submission"
   ]
  },
  {
   "cell_type": "markdown",
   "id": "89bebd7d",
   "metadata": {},
   "source": [
    "Обучим модель"
   ]
  },
  {
   "cell_type": "code",
   "execution_count": 65,
   "id": "1ba17b6a",
   "metadata": {},
   "outputs": [
    {
     "data": {
      "text/plain": [
       "LogisticRegression(class_weight={0: 1, 1: 5}, max_iter=500, random_state=42,\n",
       "                   solver='sag', tol=0.001)"
      ]
     },
     "execution_count": 65,
     "metadata": {},
     "output_type": "execute_result"
    }
   ],
   "source": [
    "fin_model.fit(X_train_select,y_train)"
   ]
  },
  {
   "cell_type": "code",
   "execution_count": 66,
   "id": "9da5de39",
   "metadata": {},
   "outputs": [],
   "source": [
    "X_test_select = data[data['sample'] == 0].drop(columns=to_drop.append(pd.Index(['sample', 'default'])))"
   ]
  },
  {
   "cell_type": "code",
   "execution_count": 67,
   "id": "a10073bc",
   "metadata": {},
   "outputs": [],
   "source": [
    "pred = fin_model.predict(X_test_select)"
   ]
  },
  {
   "cell_type": "markdown",
   "id": "462373ba",
   "metadata": {},
   "source": [
    "Сформируем и отправим submission:"
   ]
  },
  {
   "cell_type": "code",
   "execution_count": 68,
   "id": "983f1a79",
   "metadata": {},
   "outputs": [],
   "source": [
    "submission = pd.DataFrame(dict(client_id = test.client_id,default = pred))\n",
    "submission.to_csv('submission_1.csv', index=False)"
   ]
  }
 ],
 "metadata": {
  "kernelspec": {
   "display_name": "Python 3",
   "language": "python",
   "name": "python3"
  },
  "language_info": {
   "codemirror_mode": {
    "name": "ipython",
    "version": 3
   },
   "file_extension": ".py",
   "mimetype": "text/x-python",
   "name": "python",
   "nbconvert_exporter": "python",
   "pygments_lexer": "ipython3",
   "version": "3.8.8"
  }
 },
 "nbformat": 4,
 "nbformat_minor": 5
}
