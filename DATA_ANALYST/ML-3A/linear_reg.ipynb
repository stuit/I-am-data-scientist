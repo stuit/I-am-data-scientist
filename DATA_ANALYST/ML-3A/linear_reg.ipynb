{
 "cells": [
  {
   "cell_type": "markdown",
   "metadata": {},
   "source": [
    "<p><b>Для начала ответ на главный вопрос: а где мне, дизайнеру, пригодится линейная регрессия?</b> Она популярна для решения прикладных задач, вроде прогнозирования. Это в первую очередь таргетированная реклама, нейрон в слоях классификации, простенькие системы скоринга для банков. В общем, любые задачи, где отношения между переменными линейны по своей природе: как возраст влияет на здоровье или сколько операторов в банке справляются с поставленными KPI.</p>\n",
    "\n",
    "<p>Линейная регрессия позволяет прогнозировать зависимость переменной Y на основе переменной X. Визуализируя эту зависимость на графике, получается прямая линия, часто называемая «линия наилучшего соответствия». Линейная регрессия весьма проста, мы прогнозируем Y с учетом X. Есть целевая target-переменная, и потенциальное множество значений для target-переменной бесконечно. <b>Пример:</b> предсказание стоимости квартиры, подавая на вход количество комнат и удаленность от метро, это задача для линейной регрессии. Метрическая модель отвечает на метрическую гипотезу, или целевая переменная линейно зависит от признаков объектов. Типовая задача это прогноз выручки за год магазина, где гипотеза это зависимость количества магазинов и объема выручки. В общем, модель про деньги, поэтому очень популярна в банках: выдавать кредиты надо c умом, каждый параметр влияет на решение о кредите (заработок, дети, просрочки, стаж, состояние здоровья, риск дефолта).</p>"
   ]
  },
  {
   "cell_type": "code",
   "execution_count": 1,
   "metadata": {},
   "outputs": [],
   "source": [
    "# https://your-scorpion.ru/linear-regression-python/\n",
    "\n",
    "import pandas as pd\n",
    "import numpy as np\n",
    "import matplotlib\n",
    "%matplotlib inline"
   ]
  },
  {
   "cell_type": "markdown",
   "metadata": {},
   "source": [
    "<h4>Итак, у нас есть отдел дизайна с 18 дизайнерами, и мы хотим узнать, кто из наших дизайнеров работает наиболее эффективно.</h4>\n",
    "<p>Условие задачи: я, как руководитель дизайн-отдела, хочу понять, кто из моих сотрудников самый эффективный. \n",
    "Все работы дизайнеров тестируются по метрике SUM и я точно знаю, у кого какое качество дизайна. \n",
    "Теперь мне надо правильно соотнести количество лет опыта и результативность работы.</p>\n",
    "<p>В рамках статьи и в рамках терминологии машинного обучения мы будем называть наши наблюдения признаками. Признак это любая характеристика исследуемых данных, выраженная числом. Для начала укажем кол-во лет опыта у специалистов и посмотрим на форму данных командой командой x.shape. У нас всего 18 наблюдений (18 дизайнеров), это один набор признаков. Для добавления второго набора признаков создаем двухмерный массив NumPy. Второй набор данных это результативность (SUM), некий средний балл в диапазоне от 0 до 100. Весь наш набор данных будет называться «признаковым описанием». Внесли данные и визуализировали</p>"
   ]
  },
  {
   "cell_type": "code",
   "execution_count": 2,
   "metadata": {},
   "outputs": [
    {
     "name": "stdout",
     "output_type": "stream",
     "text": [
      "[[ 1  3  4  5 11  0  8  6  3  7 16  0  2  3  2  4 21  4]]\n",
      "(1, 18)\n",
      "[[32 54 54 35 86 12 74 67 35 75 94 12 56 54 40 35 87 47]]\n",
      "(1, 18)\n"
     ]
    }
   ],
   "source": [
    "x = np.array([[1,3,4,5,11,0,8,6,3,7,16,0,2,3,2,4,21,4]])\n",
    "print (x)\n",
    "print (x.shape)\n",
    "y = np.array([[32,54,54,35,86,12,74,67,35,75,94,12,56,54,40,35,87,47]])\n",
    "print (y)\n",
    "print (y.shape)"
   ]
  },
  {
   "cell_type": "code",
   "execution_count": 3,
   "metadata": {},
   "outputs": [
    {
     "data": {
      "text/plain": [
       "<matplotlib.collections.PathCollection at 0x140919bb0>"
      ]
     },
     "execution_count": 3,
     "metadata": {},
     "output_type": "execute_result"
    }
   ],
   "source": [
    "matplotlib.use('TkAgg')\n",
    "from matplotlib import pyplot as plt\n",
    "plt.scatter(x,y)"
   ]
  },
  {
   "cell_type": "code",
   "execution_count": 4,
   "metadata": {},
   "outputs": [
    {
     "name": "stdout",
     "output_type": "stream",
     "text": [
      "[[32 54 54 35 86 12 74 67 35 75 94 12 56 54 40 35 87 47]]\n",
      "(1, 18)\n"
     ]
    },
    {
     "data": {
      "image/png": "[encoded data removed]",
      "text/plain": [
       "<Figure size 432x288 with 1 Axes>"
      ]
     },
     "metadata": {
      "needs_background": "light"
     },
     "output_type": "display_data"
    }
   ],
   "source": [
    "import numpy as np\n",
    "import matplotlib\n",
    "matplotlib.use('TkAgg')\n",
    " \n",
    "y = np.array([[32, 54, 54, 35, 86, 12, 74, 67, 35, 75, 94, 12, 56, 54, 40, 35, 87, 47]])\n",
    "print(y)\n",
    "print(y.shape)\n",
    "\n",
    "# Так как у нас линейная регрессия, попробуем на глаз подобрать вес для признака и интерсепт, и нарисовать по ним линию. \n",
    "# Интерсепт может быть 15, а какой наклон? \n",
    "# Наклон сложно определить из-за разного масштаба по горизонтали и вертикали. Но попробуем на глаз 3, 4, 5\n",
    "\n",
    "%matplotlib inline\n",
    "X = np.array([[1,1,1,1,1,1,1,1,1,1,1,1,1,1,1,1,1,1],[1,3,4,5,11,0,8,6,3,7,16,0,2,3,2,4,21,4]])\n",
    "plt.scatter(X[1], y)\n",
    "plt.plot(X[1], 15*np.ones(18) + X[1]*4)\n",
    "plt.plot(X[1], 15*np.ones(18) + X[1]*5)\n",
    "plt.plot(X[1], 15*np.ones(18) + X[1]*3)\n",
    "plt.show()"
   ]
  },
  {
   "cell_type": "code",
   "execution_count": 5,
   "metadata": {},
   "outputs": [
    {
     "name": "stdout",
     "output_type": "stream",
     "text": [
      "[ 20.  30.  35.  40.  70.  15.  55.  45.  30.  50.  95.  15.  25.  30.\n",
      "  25.  35. 120.  35.]\n",
      "179.0\n"
     ]
    }
   ],
   "source": [
    "# Допустим, я думаю что значение 5 наиболее близко к реальности. Теперь посмотрим на ошибки, ведь чем меньше ошибка, тем качественнее модель. \n",
    "# Ошибки могут быть разные, сейчас мы подсчитаем наши предсказания, возьмем ошибку и просуммируем для каждого наблюдения. \n",
    "# Подход весьма примитивен, но это хорошая демонстрация.\n",
    "\n",
    "y_pred1 = 15*np.ones(18) + X[1]*5\n",
    "print (y_pred1)\n",
    "err = np.sum(y - y_pred1)\n",
    "print (err)\n",
    "\n",
    "# Получаем число 179. И это весьма большое значение, значит, мы слишком мало предсказывали. \n",
    "# Отрицательное значение значило бы перепрогноз, это более желанный результат. \n",
    "# Лучше переработать, чем недоработать."
   ]
  },
  {
   "cell_type": "markdown",
   "metadata": {},
   "source": [
    "<img src=\"img/img_1.png\" width=\"400px\">"
   ]
  },
  {
   "cell_type": "markdown",
   "metadata": {},
   "source": [
    "<img src=\"img/img_0.png\" width=\"400px\"/>\n",
    "<br>\n",
    "X — матрица наблюдений и признаков размерности строк на столбцов. y — ответ (нужно предсказать)."
   ]
  },
  {
   "cell_type": "code",
   "execution_count": 6,
   "metadata": {},
   "outputs": [
    {
     "name": "stdout",
     "output_type": "stream",
     "text": [
      "MSE: 326.1666666666667\n",
      "MAE: 14.944444444444445\n"
     ]
    }
   ],
   "source": [
    "# Итак, регрессия это целевая переменная, например, потенциальная выручка магазина. \n",
    "# И нам надо правильно выбрать функци потерь. MSE это квадратичная функция потерь, считаем матрицу Гессе и понимаем, \n",
    "# что она удовлетворяет достаточному условию минимума. Но сейчас мы посмотрим на MAE, так как она дифференцируема\n",
    "\n",
    "def calc_mse(y, y_pred):\n",
    "    err = np.mean((y - y_pred) ** 2)\n",
    "    return err\n",
    " \n",
    "print ('MSE:', calc_mse (y, y_pred1))\n",
    " \n",
    " \n",
    "def calc_mae(y, y_pred):\n",
    "    err = np.mean(np.abs(y - y_pred))\n",
    "    return err\n",
    " \n",
    "print ('MAE:', calc_mae(y, y_pred1))"
   ]
  },
  {
   "cell_type": "code",
   "execution_count": 7,
   "metadata": {},
   "outputs": [
    {
     "name": "stdout",
     "output_type": "stream",
     "text": [
      "[[ 0.11485909 -0.01067464]\n",
      " [-0.01067464  0.00192143]]\n"
     ]
    }
   ],
   "source": [
    "# Следующим шагом находим из квадртаной матрицы обратную матрицу\n",
    "print (np.linalg.inv(np.dot(X, X.T)))#, результат [[ 0.11485909 -0.01067464] [-0.01067464 0.00192143]]"
   ]
  },
  {
   "cell_type": "code",
   "execution_count": 8,
   "metadata": {},
   "outputs": [
    {
     "name": "stdout",
     "output_type": "stream",
     "text": [
      "[[32.48548249]\n",
      " [ 3.64261315]]\n"
     ]
    }
   ],
   "source": [
    "# И последний шаг, умножаем на транспонированную матрицу и умножаем на y. \n",
    "# И мы получаем набор весов. Это два числа, которые ранее мы пытались угадать на глаз, \n",
    "# в этот раз их угадала система:[[32.48548249] [ 3.64261315]]\n",
    "W = np.linalg.inv(np.dot(X, X.T)) @ X @ y.T\n",
    "print (W)"
   ]
  },
  {
   "cell_type": "code",
   "execution_count": 9,
   "metadata": {},
   "outputs": [
    {
     "name": "stdout",
     "output_type": "stream",
     "text": [
      "(2, 18)\n",
      "(18, 2)\n",
      "[[  18  100]\n",
      " [ 100 1076]]\n",
      "[[ 0.11485909 -0.01067464]\n",
      " [-0.01067464  0.00192143]]\n",
      "[[32.48548249]\n",
      " [ 3.64261315]]\n"
     ]
    },
    {
     "data": {
      "image/png": "[encoded data removed]",
      "text/plain": [
       "<Figure size 432x288 with 1 Axes>"
      ]
     },
     "metadata": {
      "needs_background": "light"
     },
     "output_type": "display_data"
    }
   ],
   "source": [
    "X = np.array([[1,1,1,1,1,1,1,1,1,1,1,1,1,1,1,1,1,1],[1,3,4,5,11,0,8,6,3,7,16,0,2,3,2,4,21,4]])\n",
    "y = np.array([[32,54,54,35,86,12,74,67,35,75,94,12,56,54,40,35,87,47]])\n",
    " \n",
    "print (X.shape)\n",
    "print (X.T.shape)\n",
    "print (np.dot(X, X.T))\n",
    "print (np.linalg.inv(np.dot(X, X.T)))\n",
    "W = np.linalg.inv(np.dot(X, X.T)) @ X @ y.T\n",
    "print (W)\n",
    " \n",
    "plt.scatter(X[1], y)\n",
    "plt.plot(X[1], 15*np.ones(18) + X[1]*4)\n",
    "plt.plot(X[1], W[0] + W[1] * X[1])\n",
    " \n",
    "plt.show()\n",
    "\n",
    "# На примере ниже видно, что построенная машиной линейная регрессия более жестко отсеивает людей, чем сделал бы это я «на глаз». \n",
    "# Это элементарный пример использования машинного обучения для решения бизнес-задач.\n",
    "# Оранжевая линия основана на значениях, которые мы подсчитали с использованием весов."
   ]
  },
  {
   "cell_type": "code",
   "execution_count": 10,
   "metadata": {},
   "outputs": [
    {
     "name": "stdout",
     "output_type": "stream",
     "text": [
      "MSE: 174.00144700635732\n",
      "MAE: 11.478128854730052\n"
     ]
    }
   ],
   "source": [
    "# Теперь подсчитаем новые MAE и MSE для свеженайденных значений\n",
    "\n",
    "y_ml=W[0] + W[1] * X[1]\n",
    "print ('MSE:', calc_mse (y, y_ml))\n",
    "print ('MAE:', calc_mae(y, y_ml))\n",
    "\n",
    "# Ранее MSE = 326.1666666666667 и MAE = 14.944444444444445, \n",
    "# сейчас MSE = 174.00144700635732 и MAE = 11.478128854730052\n",
    "# Уже куда лучше (помним, чем значение ближе к нулю, тем лучше)"
   ]
  },
  {
   "cell_type": "markdown",
   "metadata": {},
   "source": [
    "<p>Давайте пощупаем в деле <b>градиентный спуск</b>. Он перебирает разные варианты, и двигается к поставленной цели. Матрицы позволяют сразу выполнять много операций. В математическом анализе есть тема поиска частных производных итеративным перебором весов в MSE. Этим и займемся.</p>"
   ]
  },
  {
   "cell_type": "code",
   "execution_count": 11,
   "metadata": {},
   "outputs": [
    {
     "name": "stdout",
     "output_type": "stream",
     "text": [
      "W: [[32.48548249]\n",
      " [ 3.64261315]]\n",
      "-103.44444444444444\n"
     ]
    }
   ],
   "source": [
    "# Процесс минимизации ошибки в градиентном спуске строится на трехмерном пространстве, \n",
    "# образованного за счет двух значений весов (W0 = интерсепт и slope(m) опыт). Мы можем задать начальные веса -1 и 1. \n",
    "# Найдем производную для каждого веса векторным способом: где W[0] одновременно и интерсепт и вес. Это вес при псевдо-признаке 1.\n",
    "\n",
    "import numpy as np\n",
    "X = np.array( [[1, 1, 1, 1, 1, 1, 1, 1, 1, 1, 1, 1, 1, 1, 1, 1, 1, 1], [1, 3, 4, 5, 11, 0, 8, 6, 3, 7, 16, 0, 2, 3, 2, 4, 21, 4]])\n",
    "y = np.array([[32, 54, 54, 35, 86, 12, 74, 67, 35, 75, 94, 12, 56, 54, 40, 35, 87, 47]])\n",
    "W = np.linalg.inv(np.dot(X, X.T)) @ X @ y.T\n",
    "print('W:', W)\n",
    " \n",
    "W = np.array([1, 0.75])\n",
    "gradient_form_direct = 1/18 * 2 * np.sum(X[0] * W[0] - y[0])\n",
    "print(gradient_form_direct)\n",
    "\n",
    "# Мы получаем значение -103.44 , и это не очень хорошо. С таким огромным шагом мы можем просто проскочить нужное нам минимальное значение."
   ]
  },
  {
   "cell_type": "code",
   "execution_count": 12,
   "metadata": {},
   "outputs": [
    {
     "name": "stdout",
     "output_type": "stream",
     "text": [
      "-0.0010344444444444446\n",
      "1.0010344444444443\n"
     ]
    }
   ],
   "source": [
    "# Для уменьшения длины шага, мы с каждой итерацией меняем альфу, например, делим на номер итерации. \n",
    "# Давайте добавим альфу как скорость обучения, введя alpha = 1e-5 (10 в -5 степени, или 1/10^5). \n",
    "# Если видим минус в степени, то отсчет нулей идет назад = — 0,00001.\n",
    "# Напомню, W[0] это и интерсепт, и вес одновременно. Вес при псевдо-признаке 1.\n",
    "\n",
    "alpha = 1e-5\n",
    "gradient_form_direct = alpha * (1/18 * 2 * np.sum(X[0] * W[0] - y[0]))\n",
    "print(gradient_form_direct)\n",
    "print(W[0] - gradient_form_direct)\n",
    "\n",
    "# Получили 1.001, с этим уже можно работать."
   ]
  },
  {
   "cell_type": "code",
   "execution_count": 13,
   "metadata": {},
   "outputs": [
    {
     "name": "stdout",
     "output_type": "stream",
     "text": [
      "gradient form direct: -0.006200000000000001\n",
      "result: 1.0062\n",
      "0 [1.97888889 7.75555556]\n",
      "200 [28.02854376  4.06017628]\n",
      "400 [31.83681266  3.70338594]\n",
      "600 [32.39107407  3.65145812]\n",
      "800 [32.47174214  3.64390046]\n",
      "1000 [32.4834827   3.64280051]\n",
      "1200 [32.48519144  3.64264042]\n",
      "1400 [32.48544013  3.64261712]\n",
      "1600 [32.48547633  3.64261373]\n",
      "1800 [32.4854816   3.64261324]\n"
     ]
    }
   ],
   "source": [
    "# Теперь надо указать минимальное значение, и если ошибка приблизилась к нему, то останавливаем алгоритм. \n",
    "# Это называется доходимость. Или ручками задаем фиксированное количество шагов, пожалуй, так мы сейчас и поступим. \n",
    "# Есть еще нюанс, что при малом количестве данных мы сделаем больше вычислений, чем сделали бы при МНК, \n",
    "# но давайте симулировать ситуацию с большими данными на игрушечных данных\n",
    "\n",
    "import numpy as np\n",
    " \n",
    "X = np.array( [[1, 1, 1, 1, 1, 1, 1, 1, 1, 1, 1, 1, 1, 1, 1, 1, 1, 1],\n",
    "               [1, 3, 4, 5, 11, 0, 8, 6, 3, 7, 16, 0, 2, 3, 2, 4, 21, 4]])\n",
    "y = np.array([32, 54, 54, 35, 86, 12, 74, 67, 35, 75, 94, 12, 56, 54, 40, 35, 87, 47])\n",
    "W = np.array([1, 0.5])\n",
    "\n",
    "gradient_form_direct = 1e-4 * (1/18 * 2 * np.sum(X[0] * W[0] - y[0]))\n",
    "print('gradient form direct:', gradient_form_direct)\n",
    "print('result:', W[0] - gradient_form_direct)\n",
    " \n",
    "for i in range(2000):\n",
    "  gradient_form = np.dot(W, X)\n",
    "  W -= (1e-2 * (1/18 * 2 * np.dot((gradient_form - y), X.T)))\n",
    "  if i % 200 == 0:\n",
    "    print(i, W)"
   ]
  },
  {
   "cell_type": "code",
   "execution_count": 14,
   "metadata": {},
   "outputs": [],
   "source": [
    "# Добавим новый фактор — месячную зарплату.\n",
    "X = np.array( [[1, 1, 1, 1, 1, 1, 1, 1, 1, 1, 1, 1, 1, 1, 1, 1, 1, 1],\n",
    "               [1, 3, 4, 5, 11, 0, 8, 6, 3, 7, 16, 0, 2, 3, 2, 4, 21, 4],\n",
    "               [65000, 80000, 85000, 75000, 120000, 25000, 65000, 65000, 29000, 36650, 260000, 12000, 35000, 45600, 25000, 65000, 175000, 73000]])"
   ]
  },
  {
   "cell_type": "code",
   "execution_count": 15,
   "metadata": {},
   "outputs": [
    {
     "name": "stdout",
     "output_type": "stream",
     "text": [
      "0 21\n",
      "12000 260000\n"
     ]
    }
   ],
   "source": [
    "# Находим для каждого признака минимум и максимум\n",
    "print (X[1].min(), X[1].max())\n",
    "print (X[2].min(), X[2].max())"
   ]
  },
  {
   "cell_type": "markdown",
   "metadata": {},
   "source": [
    "<p>Нормализация по шагам: (X[1].max() -X [1].min()) получаем размах, максимальный опыт у дизайнеров 21 год. Смотрим на минимальный опыт (X[1] -X [1].min()), получаем [ 1 3 4 5 11 0 8 6 3 7 16 0 2 3 2 4 21 4], минимальный опыт ноль. И приводим все к нужному нам диапазону (X[1] - X[1].min()) / (X[1].max() -X[1].min()), результат вида [0.04761905 0.14285714 0.19047619 0.23809524 0.52380952 0. 0.38095238 0.28571429 0.14285714 0.33333333 0.76190476 0. 0.0952381 0.14285714 0.0952381 0.19047619 1. 0.19047619].</p>"
   ]
  },
  {
   "cell_type": "code",
   "execution_count": 16,
   "metadata": {},
   "outputs": [
    {
     "name": "stdout",
     "output_type": "stream",
     "text": [
      "[[1.         1.         1.         1.         1.         1.\n",
      "  1.         1.         1.         1.         1.         1.\n",
      "  1.         1.         1.         1.         1.         1.        ]\n",
      " [0.04761905 0.14285714 0.19047619 0.23809524 0.52380952 0.\n",
      "  0.38095238 0.28571429 0.14285714 0.33333333 0.76190476 0.\n",
      "  0.0952381  0.14285714 0.0952381  0.19047619 1.         0.19047619]\n",
      " [0.21370968 0.27419355 0.29435484 0.25403226 0.43548387 0.05241935\n",
      "  0.21370968 0.21370968 0.06854839 0.09939516 1.         0.\n",
      "  0.09274194 0.13548387 0.05241935 0.21370968 0.65725806 0.24596774]]\n"
     ]
    }
   ],
   "source": [
    "# Теперь сделаем это для двух признаков:\n",
    "X_norm = X.copy()\n",
    "X_norm = X_norm.astype(np.float64)\n",
    "X_norm[1] = (X[1] -X[1].min()) / (X[1].max() -X [1].min())\n",
    "X_norm[2] = (X[2] -X[2].min()) / (X[2].max() -X [2].min())\n",
    "print(X_norm)"
   ]
  },
  {
   "cell_type": "markdown",
   "metadata": {},
   "source": [
    "<p>А теперь <b>стандартизация</b>: мы пытаемся получить стандартное нормальное распределение, это диапазон от -1 до 1 с 0 в середине, и большинство значений скопятся в районе нуля. Так мы сможем привести все признаки к одному масштабу. Это важно для линейных моделей, так как они не смогут работать одновременно с наборами признаков: количество арбузов 100-600, и количество семечек в мандаринах 10000-30000. Также критично для метода ближайших соседей (kNN). Поэтому лучше наши данные заранее привести к виду, когда признаки находятся в примерно одном масштабе.</p>"
   ]
  },
  {
   "cell_type": "code",
   "execution_count": 17,
   "metadata": {},
   "outputs": [
    {
     "data": {
      "text/plain": [
       "(array([5., 6., 2., 2., 0., 1., 0., 1., 0., 1.]),\n",
       " array([ 0. ,  2.1,  4.2,  6.3,  8.4, 10.5, 12.6, 14.7, 16.8, 18.9, 21. ]),\n",
       " <BarContainer object of 10 artists>)"
      ]
     },
     "execution_count": 17,
     "metadata": {},
     "output_type": "execute_result"
    },
    {
     "data": {
      "image/png": "[encoded data removed]",
      "text/plain": [
       "<Figure size 432x288 with 1 Axes>"
      ]
     },
     "metadata": {
      "needs_background": "light"
     },
     "output_type": "display_data"
    }
   ],
   "source": [
    "import matplotlib\n",
    "matplotlib.use('TkAgg')\n",
    "from matplotlib import pyplot as plt\n",
    "plt.hist(X[1], alpha=0.6, color='g')"
   ]
  },
  {
   "cell_type": "code",
   "execution_count": 18,
   "metadata": {},
   "outputs": [
    {
     "data": {
      "text/plain": [
       "(array([5., 6., 2., 2., 0., 1., 0., 1., 0., 1.]),\n",
       " array([ 0. ,  2.1,  4.2,  6.3,  8.4, 10.5, 12.6, 14.7, 16.8, 18.9, 21. ]),\n",
       " <BarContainer object of 10 artists>)"
      ]
     },
     "execution_count": 18,
     "metadata": {},
     "output_type": "execute_result"
    },
    {
     "data": {
      "image/png": "[encoded data removed]",
      "text/plain": [
       "<Figure size 432x288 with 1 Axes>"
      ]
     },
     "metadata": {
      "needs_background": "light"
     },
     "output_type": "display_data"
    }
   ],
   "source": [
    "# либо\n",
    "import matplotlib.pyplot as plt\n",
    "plt.hist(X[1], alpha=0.6, color='g')"
   ]
  },
  {
   "cell_type": "code",
   "execution_count": 19,
   "metadata": {},
   "outputs": [
    {
     "name": "stdout",
     "output_type": "stream",
     "text": [
      "средний стаж работы дизайнера: 5.555555555555555\n",
      "среднее квадратичное отклонение 5.377134947805716\n",
      "[[ 1.00000000e+00  1.00000000e+00  1.00000000e+00  1.00000000e+00\n",
      "   1.00000000e+00  1.00000000e+00  1.00000000e+00  1.00000000e+00\n",
      "   1.00000000e+00  1.00000000e+00  1.00000000e+00  1.00000000e+00\n",
      "   1.00000000e+00  1.00000000e+00  1.00000000e+00  1.00000000e+00\n",
      "   1.00000000e+00  1.00000000e+00]\n",
      " [-8.47208709e-01 -4.75263422e-01 -2.89290779e-01 -1.03318135e-01\n",
      "   1.01251773e+00 -1.03318135e+00  4.54599795e-01  8.26545082e-02\n",
      "  -4.75263422e-01  2.68627152e-01  1.94238094e+00 -1.03318135e+00\n",
      "  -6.61236065e-01 -4.75263422e-01 -6.61236065e-01 -2.89290779e-01\n",
      "   2.87224416e+00 -2.89290779e-01]\n",
      " [ 6.50000000e+04  8.00000000e+04  8.50000000e+04  7.50000000e+04\n",
      "   1.20000000e+05  2.50000000e+04  6.50000000e+04  6.50000000e+04\n",
      "   2.90000000e+04  3.66500000e+04  2.60000000e+05  1.20000000e+04\n",
      "   3.50000000e+04  4.56000000e+04  2.50000000e+04  6.50000000e+04\n",
      "   1.75000000e+05  7.30000000e+04]]\n"
     ]
    }
   ],
   "source": [
    "X1_mean = X[1].mean()\n",
    "print('средний стаж работы дизайнера:', X1_mean)\n",
    " \n",
    "X1_std = X[1].std()\n",
    "print('среднее квадратичное отклонение', X1_std)\n",
    " \n",
    "X_standarted = X.copy().astype(np.float64)\n",
    "X_standarted[1] = (X[1] - X1_mean) / X1_std\n",
    "print(X_standarted)"
   ]
  },
  {
   "cell_type": "code",
   "execution_count": 20,
   "metadata": {},
   "outputs": [
    {
     "name": "stdout",
     "output_type": "stream",
     "text": [
      "[-0.15764177  0.09837795  0.18371785  0.01303804  0.78109718 -0.84036101\n",
      " -0.15764177 -0.15764177 -0.77208908 -0.64151903  3.17061451 -1.06224476\n",
      " -0.6696812  -0.4887606  -0.84036101 -0.15764177  1.71983613 -0.02109792]\n"
     ]
    }
   ],
   "source": [
    "# Отрицательные значения в результате это то, что меньше среднего. \n",
    "# Идеально среднее значение будет равно нулю, подсчитаем его по первому признаку:\n",
    "\n",
    "def calc_feature_std(x):\n",
    "    result = (x - x.mean()) / x.std()\n",
    "    return result\n",
    "X_standarted[2] = calc_feature_std(X[2])\n",
    "print(X_standarted[2])\n",
    "\n",
    "# Данные стандартизировались. Алгоритмам проще работать с признаками в стандартизированном виде. \n",
    "# На практике специалисты пробуют и стандартизацию, и нормализацию, выбирая наиболее подходящий способ масштабирования данных, аксиомы тут нет."
   ]
  },
  {
   "cell_type": "markdown",
   "metadata": {},
   "source": [
    "<h1>Python Scikit-learn: Линейная регрессия и SVM</h1>"
   ]
  },
  {
   "cell_type": "code",
   "execution_count": 21,
   "metadata": {},
   "outputs": [
    {
     "data": {
      "text/html": [
       "<div>\n",
       "<style scoped>\n",
       "    .dataframe tbody tr th:only-of-type {\n",
       "        vertical-align: middle;\n",
       "    }\n",
       "\n",
       "    .dataframe tbody tr th {\n",
       "        vertical-align: top;\n",
       "    }\n",
       "\n",
       "    .dataframe thead th {\n",
       "        text-align: right;\n",
       "    }\n",
       "</style>\n",
       "<table border=\"1\" class=\"dataframe\">\n",
       "  <thead>\n",
       "    <tr style=\"text-align: right;\">\n",
       "      <th></th>\n",
       "      <th>UI</th>\n",
       "      <th>UX</th>\n",
       "      <th>Payment</th>\n",
       "      <th>MRPPU</th>\n",
       "      <th>CPA</th>\n",
       "      <th>ARPPU</th>\n",
       "      <th>Tools</th>\n",
       "      <th>TSDB</th>\n",
       "    </tr>\n",
       "  </thead>\n",
       "  <tbody>\n",
       "    <tr>\n",
       "      <th>0</th>\n",
       "      <td>6.319198</td>\n",
       "      <td>1.138523</td>\n",
       "      <td>0.894866</td>\n",
       "      <td>0.002440</td>\n",
       "      <td>0.418893</td>\n",
       "      <td>12.226309</td>\n",
       "      <td>0.800379</td>\n",
       "      <td>0.277260</td>\n",
       "    </tr>\n",
       "    <tr>\n",
       "      <th>1</th>\n",
       "      <td>11.346108</td>\n",
       "      <td>1.958677</td>\n",
       "      <td>0.916285</td>\n",
       "      <td>0.165704</td>\n",
       "      <td>1.649946</td>\n",
       "      <td>13.008662</td>\n",
       "      <td>1.167110</td>\n",
       "      <td>1.210324</td>\n",
       "    </tr>\n",
       "    <tr>\n",
       "      <th>2</th>\n",
       "      <td>10.853067</td>\n",
       "      <td>3.303166</td>\n",
       "      <td>1.487594</td>\n",
       "      <td>0.267133</td>\n",
       "      <td>1.974418</td>\n",
       "      <td>14.092832</td>\n",
       "      <td>1.386364</td>\n",
       "      <td>2.993851</td>\n",
       "    </tr>\n",
       "    <tr>\n",
       "      <th>3</th>\n",
       "      <td>4.954018</td>\n",
       "      <td>3.501818</td>\n",
       "      <td>1.583971</td>\n",
       "      <td>0.377622</td>\n",
       "      <td>2.290452</td>\n",
       "      <td>15.158165</td>\n",
       "      <td>1.730341</td>\n",
       "      <td>3.741826</td>\n",
       "    </tr>\n",
       "    <tr>\n",
       "      <th>4</th>\n",
       "      <td>12.698464</td>\n",
       "      <td>5.586376</td>\n",
       "      <td>2.139095</td>\n",
       "      <td>0.483847</td>\n",
       "      <td>3.329945</td>\n",
       "      <td>16.024220</td>\n",
       "      <td>1.301580</td>\n",
       "      <td>4.536269</td>\n",
       "    </tr>\n",
       "  </tbody>\n",
       "</table>\n",
       "</div>"
      ],
      "text/plain": [
       "          UI        UX   Payment     MRPPU       CPA      ARPPU     Tools  \\\n",
       "0   6.319198  1.138523  0.894866  0.002440  0.418893  12.226309  0.800379   \n",
       "1  11.346108  1.958677  0.916285  0.165704  1.649946  13.008662  1.167110   \n",
       "2  10.853067  3.303166  1.487594  0.267133  1.974418  14.092832  1.386364   \n",
       "3   4.954018  3.501818  1.583971  0.377622  2.290452  15.158165  1.730341   \n",
       "4  12.698464  5.586376  2.139095  0.483847  3.329945  16.024220  1.301580   \n",
       "\n",
       "       TSDB  \n",
       "0  0.277260  \n",
       "1  1.210324  \n",
       "2  2.993851  \n",
       "3  3.741826  \n",
       "4  4.536269  "
      ]
     },
     "metadata": {},
     "output_type": "display_data"
    },
    {
     "data": {
      "text/html": [
       "<div>\n",
       "<style scoped>\n",
       "    .dataframe tbody tr th:only-of-type {\n",
       "        vertical-align: middle;\n",
       "    }\n",
       "\n",
       "    .dataframe tbody tr th {\n",
       "        vertical-align: top;\n",
       "    }\n",
       "\n",
       "    .dataframe thead th {\n",
       "        text-align: right;\n",
       "    }\n",
       "</style>\n",
       "<table border=\"1\" class=\"dataframe\">\n",
       "  <thead>\n",
       "    <tr style=\"text-align: right;\">\n",
       "      <th></th>\n",
       "      <th>Price_for_freelancers</th>\n",
       "    </tr>\n",
       "  </thead>\n",
       "  <tbody>\n",
       "    <tr>\n",
       "      <th>0</th>\n",
       "      <td>6.751361</td>\n",
       "    </tr>\n",
       "    <tr>\n",
       "      <th>1</th>\n",
       "      <td>8.538630</td>\n",
       "    </tr>\n",
       "    <tr>\n",
       "      <th>2</th>\n",
       "      <td>11.089474</td>\n",
       "    </tr>\n",
       "    <tr>\n",
       "      <th>3</th>\n",
       "      <td>12.098576</td>\n",
       "    </tr>\n",
       "    <tr>\n",
       "      <th>4</th>\n",
       "      <td>14.408471</td>\n",
       "    </tr>\n",
       "  </tbody>\n",
       "</table>\n",
       "</div>"
      ],
      "text/plain": [
       "   Price_for_freelancers\n",
       "0               6.751361\n",
       "1               8.538630\n",
       "2              11.089474\n",
       "3              12.098576\n",
       "4              14.408471"
      ]
     },
     "metadata": {},
     "output_type": "display_data"
    }
   ],
   "source": [
    "# Возьмем Scikit-learn, в нем есть почти все нужные алгоритмы машинного обучения.\n",
    "# Нам главное — решить задачу. Итак, создадим наш набор данных\n",
    "\n",
    "import numpy as np \n",
    "import matplotlib as mpl \n",
    "import matplotlib.pyplot as plt \n",
    "import pandas as pd\n",
    " \n",
    "def generate_dataset(n):\n",
    "    x = [] \n",
    "    y = [] \n",
    "    random_x1 = np.random.rand()\n",
    "    random_x2 = np.random.rand() \n",
    "    random_x3 = np.random.rand()\n",
    "    random_x4 = np.random.rand()\n",
    "    random_x5 = np.random.rand() \n",
    "    random_x6 = np.random.rand()\n",
    "    random_x7 = np.random.rand() \n",
    "    for i in range(n): \n",
    "        x0 = i + np.random.rand() / 0.215 * 3.237\n",
    "        x1 = i + np.random.rand() / 0.211 * 0.698\n",
    "        x2 = i/2 + np.random.rand() - 1024 * 0.002 * 0.02 * 0.05\n",
    "        x3 = i * 0.12 + np.random.rand() * 0.054\n",
    "        x4 = i/1.42 + np.random.rand()\n",
    "        x5 = i + 1 * 12 + np.random.rand() * 0.25\n",
    "        x6 = i/4 + np.random.rand()\n",
    "        x7 = i + np.random.rand()\n",
    "        x.append([x0, x1, x2, x3, x4, x5, x6, x7]) \n",
    "        y.append(random_x1 * x1 + 1 + random_x2 * x2 + 1 + random_x3 * x3 + 1 + random_x4 * x4 + 1\n",
    "                 + random_x5 * x5 + random_x6 * x6 + + random_x7 * x7) \n",
    "    return np.array(x), np.array(y) \n",
    " \n",
    "x, y = generate_dataset(3000) \n",
    "X = pd.DataFrame(x)\n",
    "y = pd.DataFrame(y)\n",
    "X.columns = ['UI', 'UX', 'Payment', 'MRPPU', 'CPA', 'ARPPU', 'Tools', 'TSDB']\n",
    "y.columns = ['Price_for_freelancers']\n",
    "\n",
    "display(X.head(), y.head())"
   ]
  },
  {
   "cell_type": "markdown",
   "metadata": {},
   "source": [
    "В примере выше мы вывели в таблицу <b>X</b> признаки, а в таблицу <b>y</b> целевые значения: Price_for_freelancers это величина, которую мы хотим предсказать, то есть цена на фрилансеров."
   ]
  },
  {
   "cell_type": "code",
   "execution_count": 22,
   "metadata": {},
   "outputs": [
    {
     "name": "stdout",
     "output_type": "stream",
     "text": [
      "      Price_for_freelancers           UI           UX      Payment  \\\n",
      "0                  6.751361     6.319198     1.138523     0.894866   \n",
      "1                  8.538630    11.346108     1.958677     0.916285   \n",
      "2                 11.089474    10.853067     3.303166     1.487594   \n",
      "3                 12.098576     4.954018     3.501818     1.583971   \n",
      "4                 14.408471    12.698464     5.586376     2.139095   \n",
      "...                     ...          ...          ...          ...   \n",
      "2995            6010.767521  3004.165055  2996.143906  1497.513924   \n",
      "2996            6013.352440  2999.751522  2998.280937  1498.936822   \n",
      "2997            6014.564193  3007.056674  2997.971139  1499.302237   \n",
      "2998            6016.288864  3001.958383  2999.515087  1499.328371   \n",
      "2999            6019.504716  3006.299679  3001.565319  1499.653643   \n",
      "\n",
      "           MRPPU          CPA        ARPPU       Tools         TSDB  \n",
      "0       0.002440     0.418893    12.226309    0.800379     0.277260  \n",
      "1       0.165704     1.649946    13.008662    1.167110     1.210324  \n",
      "2       0.267133     1.974418    14.092832    1.386364     2.993851  \n",
      "3       0.377622     2.290452    15.158165    1.730341     3.741826  \n",
      "4       0.483847     3.329945    16.024220    1.301580     4.536269  \n",
      "...          ...          ...          ...         ...          ...  \n",
      "2995  359.437747  2109.942898  3007.161312  749.692747  2995.635418  \n",
      "2996  359.522498  2110.519959  3008.132927  749.033670  2996.430953  \n",
      "2997  359.643557  2110.745233  3009.082596  749.661198  2997.631655  \n",
      "2998  359.783277  2111.592772  3010.100996  749.533346  2998.316512  \n",
      "2999  359.929609  2112.640482  3011.074805  750.293399  2999.482372  \n",
      "\n",
      "[3000 rows x 9 columns]\n"
     ]
    },
    {
     "name": "stderr",
     "output_type": "stream",
     "text": [
      "/Users/ilkhom/Library/Python/3.8/lib/python/site-packages/seaborn/_decorators.py:36: FutureWarning: Pass the following variables as keyword args: x, y, data. From version 0.12, the only valid positional argument will be `data`, and passing other arguments without an explicit keyword will result in an error or misinterpretation.\n",
      "  warnings.warn(\n"
     ]
    },
    {
     "data": {
      "image/png": "[encoded data removed]",
      "text/plain": [
       "<Figure size 360x360 with 1 Axes>"
      ]
     },
     "metadata": {},
     "output_type": "display_data"
    }
   ],
   "source": [
    "import seaborn as sns\n",
    "new_df = pd.concat([y.reset_index(drop=True), X.reset_index(drop=True)], axis=1)\n",
    "print(new_df)\n",
    " \n",
    "sns.set_style('whitegrid') \n",
    "sns.lmplot('Price_for_freelancers', 'CPA', new_df, palette ='plasma', scatter_kws ={'s':0.4});"
   ]
  },
  {
   "cell_type": "code",
   "execution_count": 23,
   "metadata": {},
   "outputs": [
    {
     "name": "stdout",
     "output_type": "stream",
     "text": [
      "[[1319.15268723]\n",
      " [  86.50546744]\n",
      " [5971.71322386]\n",
      " [2389.45234904]\n",
      " [3920.0501286 ]\n",
      " [2574.35731455]\n",
      " [2664.26901492]\n",
      " [ 135.26213875]\n",
      " [4124.09073688]\n",
      " [1306.14605206]\n",
      " [1896.68557883]\n",
      " [1287.27948754]\n",
      " [2475.98180762]\n",
      " [1329.6994341 ]\n",
      " [3028.97076691]\n",
      " [4332.37836191]\n",
      " [5451.24111099]\n",
      " [5264.81470531]\n",
      " [3909.72759315]\n",
      " [3654.03458701]\n",
      " [5729.30375011]\n",
      " [1995.01686411]\n",
      " [ 903.70917019]\n",
      " [4488.78426728]\n",
      " [5117.57778895]\n",
      " [5320.56372446]\n",
      " [5590.42976839]\n",
      " [1256.25320902]\n",
      " [1368.99442668]\n",
      " [4367.01932957]\n",
      " [4043.30050637]\n",
      " [1084.06491216]\n",
      " [4887.54147058]\n",
      " [ 375.5528731 ]\n",
      " [5958.7713478 ]\n",
      " [2604.1608898 ]\n",
      " [1456.23956169]\n",
      " [2293.36279828]\n",
      " [4128.36277276]\n",
      " [5964.7291178 ]\n",
      " [5577.61862815]\n",
      " [5643.35464976]\n",
      " [1579.908426  ]\n",
      " [4411.91774779]\n",
      " [3542.88290173]\n",
      " [ 111.08146742]\n",
      " [2877.15365386]\n",
      " [4595.84541248]\n",
      " [5910.96304783]\n",
      " [4475.52801234]\n",
      " [4950.40459104]\n",
      " [2483.3711412 ]\n",
      " [2473.98379926]\n",
      " [4754.46574323]\n",
      " [ 952.05394461]\n",
      " [3360.4256238 ]\n",
      " [2289.43344275]\n",
      " [ 601.21079191]\n",
      " [5865.91767248]\n",
      " [  84.86526922]\n",
      " [3836.31007639]\n",
      " [ 546.88823584]\n",
      " [4063.92287775]\n",
      " [5314.60043562]\n",
      " [ 612.94053534]\n",
      " [4524.4394346 ]\n",
      " [4135.85631982]\n",
      " [  51.57455628]\n",
      " [2101.59149847]\n",
      " [1432.14345586]\n",
      " [1938.55719766]\n",
      " [5873.48427285]\n",
      " [  61.08451011]\n",
      " [ 535.5003254 ]\n",
      " [ 795.71997113]\n",
      " [4537.19271209]\n",
      " [2661.7510927 ]\n",
      " [5667.44775909]\n",
      " [5100.89247653]\n",
      " [  19.33976036]\n",
      " [2794.43839537]\n",
      " [1610.99383458]\n",
      " [3802.81120236]\n",
      " [ 103.61385073]\n",
      " [3431.89034931]\n",
      " [2831.11480763]\n",
      " [ 948.61769973]\n",
      " [4696.9890418 ]\n",
      " [4289.32303809]\n",
      " [5041.1042491 ]\n",
      " [2420.91632789]\n",
      " [5895.67792442]\n",
      " [4818.03029078]\n",
      " [3211.92836247]\n",
      " [4774.87478802]\n",
      " [ 837.83863185]\n",
      " [3663.5136339 ]\n",
      " [  58.82867535]\n",
      " [ 613.01924619]\n",
      " [5258.34697424]\n",
      " [2318.32664369]\n",
      " [3654.99399187]\n",
      " [5996.88259384]\n",
      " [1334.52617377]\n",
      " [1347.77908638]\n",
      " [2521.69390996]\n",
      " [3350.30171501]\n",
      " [2571.4702274 ]\n",
      " [4770.61602179]\n",
      " [4762.3936203 ]\n",
      " [1352.02896789]\n",
      " [1286.79050063]\n",
      " [2987.93733447]\n",
      " [3633.89506799]\n",
      " [3685.15657294]\n",
      " [ 875.41469106]\n",
      " [5278.8553944 ]\n",
      " [2480.75336599]\n",
      " [2925.11819566]\n",
      " [1128.33744945]\n",
      " [1631.49396068]\n",
      " [5830.07787255]\n",
      " [2781.60539441]\n",
      " [2881.92440939]\n",
      " [5221.62996327]\n",
      " [5762.39371905]\n",
      " [ 324.20119572]\n",
      " [ 398.5463357 ]\n",
      " [4207.53222825]\n",
      " [2503.33241949]\n",
      " [4714.85758763]\n",
      " [2617.04337011]\n",
      " [2972.86766911]\n",
      " [2327.14470625]\n",
      " [3235.00357419]\n",
      " [  15.77288939]\n",
      " [3819.13700198]\n",
      " [1911.93340578]\n",
      " [ 545.24587086]\n",
      " [3311.91169046]\n",
      " [  76.87233703]\n",
      " [1812.04001118]\n",
      " [   6.75136101]\n",
      " [2871.51183501]\n",
      " [5995.32382094]\n",
      " [4187.98567103]\n",
      " [4959.43792672]\n",
      " [4635.47497013]\n",
      " [2628.23808454]\n",
      " [4681.94214974]\n",
      " [1582.92099688]\n",
      " [2357.12692895]\n",
      " [5400.37978063]\n",
      " [1668.61003518]\n",
      " [4899.37667422]\n",
      " [5632.79535263]\n",
      " [4406.43026707]\n",
      " [2457.78063122]\n",
      " [3341.32332295]\n",
      " [4349.36679991]\n",
      " [2190.65833672]\n",
      " [1309.16911035]\n",
      " [ 553.9871729 ]\n",
      " [3670.32102461]\n",
      " [2373.22366841]\n",
      " [1090.03729021]\n",
      " [3015.82758848]\n",
      " [5556.93551588]\n",
      " [  94.17768215]\n",
      " [ 332.83159107]\n",
      " [1672.65617685]\n",
      " [1326.82842413]\n",
      " [2806.80064204]\n",
      " [ 818.08050035]\n",
      " [2880.16002856]\n",
      " [5907.18231422]\n",
      " [ 445.32290911]\n",
      " [4890.74512162]\n",
      " [ 416.71903858]\n",
      " [4373.30424062]\n",
      " [1435.22876719]\n",
      " [5266.81562806]\n",
      " [2406.07403708]\n",
      " [ 711.78309611]\n",
      " [3332.67984891]\n",
      " [ 934.10151903]\n",
      " [1056.27562714]\n",
      " [ 495.46795063]\n",
      " [1537.31530024]\n",
      " [4975.72014278]\n",
      " [3131.28240357]\n",
      " [3276.05979036]\n",
      " [ 745.368017  ]\n",
      " [5719.78713982]\n",
      " [3182.79738631]\n",
      " [2834.05888222]\n",
      " [ 960.20291714]\n",
      " [1903.68886085]\n",
      " [3219.77942043]\n",
      " [1826.36720369]\n",
      " [5354.4792705 ]\n",
      " [5714.69071474]\n",
      " [5184.71559745]\n",
      " [ 691.60280596]\n",
      " [ 687.92511147]\n",
      " [5349.84805147]\n",
      " [3560.23170664]\n",
      " [6006.60814719]\n",
      " [ 739.77491377]\n",
      " [ 760.28223062]\n",
      " [1820.3147502 ]\n",
      " [4442.65774795]\n",
      " [1881.63094762]\n",
      " [ 379.91258405]\n",
      " [ 966.311751  ]\n",
      " [3193.8227057 ]\n",
      " [1734.89645606]\n",
      " [3489.85926015]\n",
      " [ 571.23357745]\n",
      " [ 918.47279849]\n",
      " [1589.54111848]\n",
      " [1525.3325825 ]\n",
      " [3095.14046322]\n",
      " [2701.71643157]\n",
      " [1157.2016185 ]\n",
      " [2050.63560067]\n",
      " [5257.53499462]\n",
      " [ 568.01617839]\n",
      " [4177.03418496]\n",
      " [2164.35083259]\n",
      " [5483.08865418]\n",
      " [1141.6925765 ]\n",
      " [3996.02466442]\n",
      " [5429.85937218]\n",
      " [3979.6791855 ]\n",
      " [1912.11622065]\n",
      " [ 239.79542692]\n",
      " [ 294.56879748]\n",
      " [2310.36932806]\n",
      " [3533.83963056]\n",
      " [5521.36434449]\n",
      " [2467.93348884]\n",
      " [2159.23558659]\n",
      " [3481.92383556]\n",
      " [1378.89628697]\n",
      " [2730.60697416]\n",
      " [1709.09218844]\n",
      " [3430.28973314]\n",
      " [ 123.54254966]\n",
      " [2366.50364197]\n",
      " [5072.25004674]\n",
      " [4610.35372958]\n",
      " [1787.71978602]\n",
      " [1680.1696047 ]\n",
      " [4362.76061809]\n",
      " [3259.04042578]\n",
      " [4674.36194767]\n",
      " [5740.05800014]\n",
      " [3583.65938779]\n",
      " [5519.50390262]\n",
      " [1548.17289042]\n",
      " [2713.76193176]\n",
      " [2911.20821488]\n",
      " [3012.68799514]\n",
      " [2351.38237973]\n",
      " [4551.7988455 ]\n",
      " [2649.87980839]\n",
      " [1493.34376858]\n",
      " [3681.92668285]\n",
      " [ 193.36452776]\n",
      " [5569.59403084]\n",
      " [4624.50241613]\n",
      " [1494.28041015]\n",
      " [4653.71850147]\n",
      " [3626.32058256]\n",
      " [2134.3712717 ]\n",
      " [3790.34641444]\n",
      " [2656.9818023 ]\n",
      " [3033.85302679]\n",
      " [4639.32484223]\n",
      " [ 707.06957908]\n",
      " [2393.94924636]\n",
      " [ 577.312214  ]\n",
      " [ 230.49231789]\n",
      " [3738.45455782]\n",
      " [3969.50030889]\n",
      " [3585.15711538]\n",
      " [1282.31114787]\n",
      " [3412.51883219]\n",
      " [1972.3528541 ]\n",
      " [5038.54956257]\n",
      " [4873.27267398]\n",
      " [1697.39297015]\n",
      " [ 843.74021981]\n",
      " [5149.37231767]\n",
      " [1511.46181265]\n",
      " [4167.88470905]\n",
      " [4942.61222421]\n",
      " [3405.24920113]\n",
      " [2016.59343654]\n",
      " [3358.58517038]\n",
      " [5575.49086381]\n",
      " [ 333.59003411]\n",
      " [4785.86453316]\n",
      " [5908.18858978]\n",
      " [5920.3134903 ]\n",
      " [1617.00812474]\n",
      " [2632.29441454]\n",
      " [1764.11108459]\n",
      " [ 920.05065507]\n",
      " [2788.56685815]\n",
      " [3134.30701895]\n",
      " [2072.94030832]\n",
      " [3422.01046748]\n",
      " [5559.59099461]\n",
      " [4530.58846327]\n",
      " [5238.03506491]\n",
      " [4790.70834712]\n",
      " [ 534.40837645]\n",
      " [3779.73453614]\n",
      " [4262.94610178]\n",
      " [5391.31639551]\n",
      " [2686.74226132]\n",
      " [2613.86546124]\n",
      " [5486.88268244]\n",
      " [4211.70481498]\n",
      " [1549.58858975]\n",
      " [1163.40926203]\n",
      " [5711.8726442 ]\n",
      " [3206.85028644]\n",
      " [3984.39837289]\n",
      " [5393.7697294 ]\n",
      " [1059.50359342]\n",
      " [1107.67761706]\n",
      " [1264.73703476]\n",
      " [5203.81967387]\n",
      " [4145.05541331]\n",
      " [2724.74010971]\n",
      " [3500.99246159]\n",
      " [5956.92000331]\n",
      " [1109.11511397]\n",
      " [4601.20655361]\n",
      " [ 845.28355775]\n",
      " [4067.47996812]\n",
      " [ 700.9800057 ]\n",
      " [5145.28119142]\n",
      " [ 386.95593782]\n",
      " [3053.13530678]\n",
      " [3461.51065826]\n",
      " [1476.67249009]\n",
      " [1038.58583163]\n",
      " [2471.74348865]\n",
      " [4920.34727957]\n",
      " [4494.95593244]\n",
      " [2118.8668515 ]\n",
      " [3660.68725049]\n",
      " [ 660.15206783]\n",
      " [ 154.07470833]\n",
      " [1809.74037321]\n",
      " [1363.33592541]\n",
      " [5058.36230491]\n",
      " [3326.42916915]\n",
      " [2219.10173263]\n",
      " [ 916.03722702]\n",
      " [3365.65527359]\n",
      " [1652.74578283]\n",
      " [3659.95430849]\n",
      " [5687.00668041]\n",
      " [5445.51041105]\n",
      " [4602.67322745]\n",
      " [ 511.79723109]\n",
      " [4542.14726569]\n",
      " [1753.71130435]\n",
      " [ 643.23771607]\n",
      " [4029.34019279]\n",
      " [ 108.2388546 ]\n",
      " [2756.01300655]\n",
      " [4706.4389181 ]\n",
      " [4109.43075999]\n",
      " [1459.96512856]\n",
      " [5605.30663302]\n",
      " [5313.38352678]\n",
      " [  35.13124272]\n",
      " [1711.64924991]\n",
      " [ 694.24422381]\n",
      " [1768.59395237]\n",
      " [3052.71032498]\n",
      " [4662.49036484]\n",
      " [5875.78634239]\n",
      " [5600.63275359]\n",
      " [1594.39138338]\n",
      " [ 622.45247284]\n",
      " [4061.53763601]\n",
      " [5310.83464299]\n",
      " [5850.22550321]\n",
      " [5607.35179352]\n",
      " [5292.67934606]\n",
      " [5971.81928436]\n",
      " [1725.81596152]\n",
      " [ 764.4757176 ]\n",
      " [2611.42299941]\n",
      " [4299.87152886]\n",
      " [1035.40340595]\n",
      " [2814.42511873]\n",
      " [2057.23848044]\n",
      " [1000.78277545]\n",
      " [2312.76832813]\n",
      " [4375.89603693]\n",
      " [5331.18793148]\n",
      " [2930.80413986]\n",
      " [ 226.75878101]\n",
      " [5091.68052942]\n",
      " [2463.61896221]\n",
      " [5779.13237338]\n",
      " [ 246.46598277]\n",
      " [4514.41565829]\n",
      " [4222.48282041]\n",
      " [2925.23104937]\n",
      " [4828.57014162]\n",
      " [3716.43513311]\n",
      " [3610.16691742]\n",
      " [6010.76752103]\n",
      " [1543.63481932]\n",
      " [5018.4093086 ]\n",
      " [1023.76373631]\n",
      " [5823.73975427]\n",
      " [  92.35398119]\n",
      " [3229.07081799]\n",
      " [5594.45162371]\n",
      " [ 831.4058715 ]\n",
      " [4811.6828128 ]\n",
      " [5467.62365836]\n",
      " [3812.04786694]\n",
      " [5669.96800899]\n",
      " [1771.83291682]\n",
      " [5649.73222136]\n",
      " [5532.2412436 ]\n",
      " [5879.23067194]\n",
      " [5529.91609136]\n",
      " [2168.66400788]\n",
      " [4701.99534052]\n",
      " [2252.13471352]\n",
      " [4189.54521167]\n",
      " [5794.20321395]\n",
      " [4852.70192512]\n",
      " [ 255.47668709]\n",
      " [ 164.39112156]\n",
      " [5941.57788382]\n",
      " [3242.77545455]\n",
      " [1434.59695016]\n",
      " [5474.27904881]\n",
      " [3022.30824219]\n",
      " [1249.22562927]\n",
      " [1823.85896044]\n",
      " [3614.85182281]\n",
      " [5152.78094326]\n",
      " [1862.27630963]\n",
      " [1490.36974332]\n",
      " [1849.92761716]\n",
      " [5190.03840026]\n",
      " [4594.25816552]\n",
      " [4916.23266173]\n",
      " [1695.62252003]\n",
      " [5094.5580172 ]\n",
      " [ 354.69725331]\n",
      " [3844.25493994]\n",
      " [2192.01422524]\n",
      " [ 172.28312512]\n",
      " [2671.07288661]\n",
      " [1561.86895293]\n",
      " [4748.82167993]\n",
      " [2618.81324661]\n",
      " [1568.98821883]\n",
      " [1653.48022151]\n",
      " [1635.85693614]\n",
      " [4736.13491641]\n",
      " [3768.76153384]\n",
      " [4840.52995189]\n",
      " [3553.63616766]\n",
      " [1270.17210023]\n",
      " [  41.77669385]\n",
      " [ 823.95738588]\n",
      " [2531.24068762]\n",
      " [1686.40731184]\n",
      " [2333.92043406]\n",
      " [5883.92258868]\n",
      " [4716.90776442]\n",
      " [4108.86302536]\n",
      " [2362.36779745]\n",
      " [5023.33910856]\n",
      " [ 997.84455884]\n",
      " [4721.14255838]\n",
      " [1703.44100859]\n",
      " [4860.34174829]\n",
      " [4783.05835182]\n",
      " [4965.72508853]\n",
      " [2723.81302311]\n",
      " [5780.17083356]\n",
      " [1123.61669354]\n",
      " [ 724.02702257]\n",
      " [ 233.00535783]\n",
      " [5362.24201726]\n",
      " [1952.26578354]\n",
      " [4160.25832114]\n",
      " [2556.98290592]\n",
      " [5618.26476156]\n",
      " [ 839.93924138]\n",
      " [1192.67645163]\n",
      " [3965.59872924]\n",
      " [3506.45818637]\n",
      " [4209.32125132]\n",
      " [5700.85348186]\n",
      " [1901.87099345]\n",
      " [3113.96958403]\n",
      " [1521.81562747]\n",
      " [1783.03403455]\n",
      " [5450.93509763]\n",
      " [5430.59142749]\n",
      " [2025.58848449]\n",
      " [ 203.78895457]\n",
      " [  75.55467283]\n",
      " [4649.57925286]\n",
      " [4210.74822289]\n",
      " [5042.99765234]\n",
      " [5230.38246458]\n",
      " [2945.45324778]\n",
      " [3904.04333009]\n",
      " [3160.9878949 ]\n",
      " [2956.40667322]\n",
      " [3462.68325843]\n",
      " [ 464.954779  ]\n",
      " [3183.9292362 ]\n",
      " [4939.00607305]\n",
      " [ 128.05146046]\n",
      " [2010.19467995]\n",
      " [3607.15670673]\n",
      " [4267.6035175 ]\n",
      " [2160.86985419]\n",
      " [4297.9238468 ]\n",
      " [5784.22162065]\n",
      " [5188.17296951]\n",
      " [ 943.77154173]\n",
      " [1683.96015953]\n",
      " [3290.34586963]\n",
      " [  40.02016517]\n",
      " [  51.95816429]\n",
      " [4836.18418592]\n",
      " [3346.36379389]\n",
      " [1603.51472507]\n",
      " [1101.41526433]\n",
      " [3645.66487232]\n",
      " [4011.91543703]\n",
      " [3111.23374203]\n",
      " [3613.42751045]\n",
      " [4683.6672641 ]\n",
      " [2248.46158842]\n",
      " [ 770.25394537]\n",
      " [3945.80778386]\n",
      " [1715.62150468]\n",
      " [3900.43552592]\n",
      " [4632.13965886]\n",
      " [  14.40847147]\n",
      " [2170.42364174]\n",
      " [2517.46596848]\n",
      " [5145.99305985]\n",
      " [3244.92822234]\n",
      " [1307.15950436]\n",
      " [5572.39961565]\n",
      " [1438.54228279]\n",
      " [2239.63179671]\n",
      " [3605.87339186]\n",
      " [4777.47646008]\n",
      " [3592.42727525]\n",
      " [2726.31051549]\n",
      " [1496.83088496]\n",
      " [3118.20445102]\n",
      " [1233.94605621]\n",
      " [1258.96721306]\n",
      " [3300.69745958]\n",
      " [5107.51660926]\n",
      " [ 268.44692367]\n",
      " [5540.03870329]\n",
      " [ 644.06731314]\n",
      " [1780.38333208]\n",
      " [ 993.45270455]\n",
      " [2828.79811315]\n",
      " [1800.08255977]\n",
      " [3709.3771789 ]\n",
      " [2383.37333805]\n",
      " [4978.36502544]\n",
      " [4114.92954713]\n",
      " [4309.20152062]\n",
      " [3936.29360215]\n",
      " [4931.30624353]\n",
      " [1130.45579831]\n",
      " [ 129.35818798]\n",
      " [2259.63829998]\n",
      " [2960.00435338]\n",
      " [3727.83936233]\n",
      " [4642.16768304]\n",
      " [4918.69535269]\n",
      " [ 937.55324939]\n",
      " [5470.29745877]\n",
      " [ 482.95535113]\n",
      " [5949.98523968]\n",
      " [5282.78974552]\n",
      " [4934.81513806]\n",
      " [3407.26748745]\n",
      " [4420.8783415 ]\n",
      " [ 346.00003377]\n",
      " [2646.4031136 ]\n",
      " [2037.25520751]\n",
      " [ 144.27152702]\n",
      " [ 489.33665742]\n",
      " [4637.30192099]\n",
      " [5385.68923745]\n",
      " [5798.77221421]\n",
      " [5985.67973508]\n",
      " [3889.35620059]\n",
      " [ 493.3781179 ]\n",
      " [ 506.22827246]\n",
      " [1643.71569113]\n",
      " [3448.10461649]\n",
      " [3630.59220927]\n",
      " [3279.13341616]\n",
      " [2233.73434801]\n",
      " [4099.11193391]\n",
      " [5383.34515357]\n",
      " [4042.52269281]\n",
      " [ 566.46340693]\n",
      " [ 880.59269851]\n",
      " [5891.94225517]\n",
      " [4710.47608285]\n",
      " [4474.18921257]\n",
      " [1751.79024165]\n",
      " [1338.19381324]\n",
      " [3415.02219534]\n",
      " [ 686.90612968]\n",
      " [4848.91491177]\n",
      " [1096.69931973]\n",
      " [2702.92464306]\n",
      " [5141.75787679]\n",
      " [ 977.50837164]\n",
      " [  99.60160128]\n",
      " [3130.88564452]\n",
      " [4694.09656739]\n",
      " [5171.6965028 ]\n",
      " [1753.45664893]\n",
      " [2594.54603091]\n",
      " [3038.27444497]\n",
      " [ 292.3607125 ]\n",
      " [3230.73531379]\n",
      " [2606.4892014 ]\n",
      " [  91.27987664]\n",
      " [5889.4606703 ]\n",
      " [1968.00524275]\n",
      " [3030.06035857]\n",
      " [4037.16856181]\n",
      " [5611.96267426]\n",
      " [5308.78378833]\n",
      " [1055.3283613 ]\n",
      " [ 522.23264866]\n",
      " [4269.53902601]\n",
      " [ 838.56118343]\n",
      " [2565.57348055]\n",
      " [5398.64655193]\n",
      " [2204.7800613 ]\n",
      " [5274.8972745 ]\n",
      " [4988.92233867]\n",
      " [5176.34460711]\n",
      " [2018.40167126]\n",
      " [3318.76936641]\n",
      " [1217.87002563]\n",
      " [2040.24230705]\n",
      " [ 999.41407407]\n",
      " [ 907.45159647]\n",
      " [5208.13397134]\n",
      " [3163.5610336 ]\n",
      " [ 682.66381421]\n",
      " [ 286.75766982]\n",
      " [ 110.37125293]\n",
      " [5233.54625461]\n",
      " [3621.7752366 ]\n",
      " [1417.61651325]\n",
      " [3497.92103106]\n",
      " [2612.85126678]\n",
      " [4685.47795257]\n",
      " [5296.6313298 ]\n",
      " [ 502.32972384]\n",
      " [5839.9637031 ]\n",
      " [1250.5428641 ]\n",
      " [3471.3707486 ]\n",
      " [ 705.22916116]\n",
      " [2706.1127784 ]\n",
      " [2215.85035862]\n",
      " [3784.92648084]\n",
      " [2369.03953397]\n",
      " [1943.43242867]\n",
      " [1941.59583665]\n",
      " [4994.46840242]\n",
      " [5717.17364837]\n",
      " [2097.03594738]\n",
      " [2695.03666735]\n",
      " [2304.47719802]\n",
      " [ 342.35700215]\n",
      " [ 974.58055812]\n",
      " [4153.67477878]\n",
      " [2031.4572005 ]\n",
      " [3811.40291381]\n",
      " [3832.41018182]\n",
      " [4179.01493216]\n",
      " [3977.12316756]\n",
      " [ 877.96316532]\n",
      " [4727.77052913]\n",
      " [4057.8848543 ]\n",
      " [1453.44730212]\n",
      " [5444.74639457]\n",
      " [3597.14766041]\n",
      " [3512.9165562 ]\n",
      " [5747.8186104 ]\n",
      " [4458.46915326]\n",
      " [3388.73967526]\n",
      " [ 617.36462966]\n",
      " [2396.76393348]\n",
      " [4907.41505097]\n",
      " [3720.09030972]\n",
      " [4025.60675151]\n",
      " [3820.49691718]\n",
      " [3953.2608682 ]\n",
      " [ 217.19027109]\n",
      " [4674.1807494 ]\n",
      " [3309.58382898]\n",
      " [2298.82441808]\n",
      " [1077.32459041]\n",
      " [ 532.32421481]\n",
      " [5252.65088051]\n",
      " [4225.00924625]\n",
      " [1667.51858887]\n",
      " [3799.36013688]\n",
      " [1805.71911755]\n",
      " [4992.15813371]\n",
      " [4802.49040656]\n",
      " [2017.39267926]\n",
      " [5017.12235691]\n",
      " [2990.9210037 ]\n",
      " [3292.5325185 ]\n",
      " [4233.53251135]\n",
      " [3858.45761882]\n",
      " [ 464.97897392]\n",
      " [2593.10394024]]\n"
     ]
    }
   ],
   "source": [
    "# Используем функцию train_test_split, очень популярный способ деления данных на тестовую и проверочную выборку.\n",
    "# Получается, что тренировочная выборка 75% и 25% тестовая. random_state не задаем. Начнем строить модель\n",
    "from sklearn.model_selection import train_test_split\n",
    "X_train, X_test, y_train, y_test = train_test_split(X, y, test_size=0.25)\n",
    "from sklearn.linear_model import LinearRegression\n",
    "lr = LinearRegression()\n",
    "lr.fit(X_train, y_train)\n",
    "y_pred = lr.predict(X_test)\n",
    "print(y_pred)\n",
    "\n",
    "# В примере выше мы вызываем линейную регрессию, обучаем по X_train, y_train, и делаем предсказание по X_test. \n",
    "# В результате работы lr.fit мы получаем LinearRegression(copy_X=True, fit_intercept=True, n_jobs=None, normalize=False). \n",
    "# И методом predict получаем предсказанные значения."
   ]
  },
  {
   "cell_type": "code",
   "execution_count": 24,
   "metadata": {},
   "outputs": [
    {
     "data": {
      "text/html": [
       "<div>\n",
       "<style scoped>\n",
       "    .dataframe tbody tr th:only-of-type {\n",
       "        vertical-align: middle;\n",
       "    }\n",
       "\n",
       "    .dataframe tbody tr th {\n",
       "        vertical-align: top;\n",
       "    }\n",
       "\n",
       "    .dataframe thead th {\n",
       "        text-align: right;\n",
       "    }\n",
       "</style>\n",
       "<table border=\"1\" class=\"dataframe\">\n",
       "  <thead>\n",
       "    <tr style=\"text-align: right;\">\n",
       "      <th></th>\n",
       "      <th>y_test</th>\n",
       "      <th>y_pred</th>\n",
       "    </tr>\n",
       "  </thead>\n",
       "  <tbody>\n",
       "    <tr>\n",
       "      <th>655</th>\n",
       "      <td>1319.152687</td>\n",
       "      <td>1319.152687</td>\n",
       "    </tr>\n",
       "    <tr>\n",
       "      <th>40</th>\n",
       "      <td>86.505467</td>\n",
       "      <td>86.505467</td>\n",
       "    </tr>\n",
       "    <tr>\n",
       "      <th>2975</th>\n",
       "      <td>5971.713224</td>\n",
       "      <td>5971.713224</td>\n",
       "    </tr>\n",
       "    <tr>\n",
       "      <th>1189</th>\n",
       "      <td>2389.452349</td>\n",
       "      <td>2389.452349</td>\n",
       "    </tr>\n",
       "    <tr>\n",
       "      <th>1952</th>\n",
       "      <td>3920.050129</td>\n",
       "      <td>3920.050129</td>\n",
       "    </tr>\n",
       "    <tr>\n",
       "      <th>1281</th>\n",
       "      <td>2574.357315</td>\n",
       "      <td>2574.357315</td>\n",
       "    </tr>\n",
       "    <tr>\n",
       "      <th>1325</th>\n",
       "      <td>2664.269015</td>\n",
       "      <td>2664.269015</td>\n",
       "    </tr>\n",
       "    <tr>\n",
       "      <th>64</th>\n",
       "      <td>135.262139</td>\n",
       "      <td>135.262139</td>\n",
       "    </tr>\n",
       "    <tr>\n",
       "      <th>2054</th>\n",
       "      <td>4124.090737</td>\n",
       "      <td>4124.090737</td>\n",
       "    </tr>\n",
       "    <tr>\n",
       "      <th>648</th>\n",
       "      <td>1306.146052</td>\n",
       "      <td>1306.146052</td>\n",
       "    </tr>\n",
       "  </tbody>\n",
       "</table>\n",
       "</div>"
      ],
      "text/plain": [
       "           y_test       y_pred\n",
       "655   1319.152687  1319.152687\n",
       "40      86.505467    86.505467\n",
       "2975  5971.713224  5971.713224\n",
       "1189  2389.452349  2389.452349\n",
       "1952  3920.050129  3920.050129\n",
       "1281  2574.357315  2574.357315\n",
       "1325  2664.269015  2664.269015\n",
       "64     135.262139   135.262139\n",
       "2054  4124.090737  4124.090737\n",
       "648   1306.146052  1306.146052"
      ]
     },
     "execution_count": 24,
     "metadata": {},
     "output_type": "execute_result"
    }
   ],
   "source": [
    "# Но мы же наверняка хотим сопоставить предсказанные и полученные значения, верно?\n",
    "check_test = pd.DataFrame({\n",
    "    \"y_test\": y_test[\"Price_for_freelancers\"],\n",
    "    \"y_pred\": y_pred.flatten(),\n",
    "})\n",
    " \n",
    "check_test.head(10)"
   ]
  },
  {
   "cell_type": "code",
   "execution_count": 25,
   "metadata": {},
   "outputs": [
    {
     "data": {
      "image/png": "[encoded data removed]",
      "text/plain": [
       "<Figure size 1152x720 with 1 Axes>"
      ]
     },
     "metadata": {},
     "output_type": "display_data"
    }
   ],
   "source": [
    "# Тест и предсказание одинаковые. Если визуализировать данные, то все становится примерно понятно:\n",
    "strangeDataCheck = X.head(8)\n",
    "strangeDataCheck.plot(kind='bar',figsize=(16,10))\n",
    "plt.grid(which='major', linestyle='-', linewidth='0.5', color='blue')\n",
    "plt.grid(which='minor', linestyle=':', linewidth='0.5', color='red')\n",
    "plt.show()"
   ]
  },
  {
   "cell_type": "code",
   "execution_count": 26,
   "metadata": {},
   "outputs": [
    {
     "data": {
      "text/plain": [
       "1.0"
      ]
     },
     "execution_count": 26,
     "metadata": {},
     "output_type": "execute_result"
    }
   ],
   "source": [
    "# Но давайте займемся всякими проверками и узнаем, почему такой странный результат. \n",
    "# Существует метрика, которая показывает, насколько сильны отклонения при условии X=Y. \n",
    "# Вызываем из класса metrics r2_score, получаем коэффициент детерминации.\n",
    "from sklearn.metrics import r2_score\n",
    "r2_score(y_test, y_pred)\n",
    "\n",
    "# В нашем случае коэффицент детерминации = 1, что практически идеально, но невозможно при работе с реальными данными."
   ]
  },
  {
   "cell_type": "markdown",
   "metadata": {},
   "source": [
    "Описанное выше это простой метод классификации. Но если мы хотим к классификации добавить еще и регрессию, то тогда нужно использовать случайный лес. В примере ниже разберем алгоритм из деревьев решений под названием <b>случайный лес</b>. Для каждого дерева выбирается подмножество признаков из тестовой выборки, и идет обучение. Каждое дерево дает некий ответ, и если за один ответ проголосовало наибольшее количество деревьев, то этот ответ считается победителем."
   ]
  },
  {
   "cell_type": "code",
   "execution_count": 27,
   "metadata": {},
   "outputs": [
    {
     "data": {
      "text/plain": [
       "0.9999996167722496"
      ]
     },
     "execution_count": 27,
     "metadata": {},
     "output_type": "execute_result"
    }
   ],
   "source": [
    "from sklearn.ensemble import RandomForestRegressor\n",
    "model = RandomForestRegressor(n_estimators=2000, max_depth=18)\n",
    "model.fit(X_train, y_train.values[:, 0])\n",
    "y_pred_forest = model.predict(X_test)\n",
    "r2_score(y_test, y_pred_forest)"
   ]
  },
  {
   "cell_type": "code",
   "execution_count": 28,
   "metadata": {},
   "outputs": [
    {
     "name": "stdout",
     "output_type": "stream",
     "text": [
      "[4.]\n",
      "[[-3.70090659e-15  7.23696632e-01  6.20196687e-01  4.76203632e-01\n",
      "   2.78134353e-01  4.38642186e-02  7.27112586e-01  4.92277568e-01]]\n"
     ]
    }
   ],
   "source": [
    "print(lr.intercept_)\n",
    "print(lr.coef_)"
   ]
  },
  {
   "cell_type": "code",
   "execution_count": 29,
   "metadata": {},
   "outputs": [
    {
     "name": "stdout",
     "output_type": "stream",
     "text": [
      "               UI           UX      Payment       MRPPU          CPA  \\\n",
      "2195  2204.924986  2196.847941  1098.131256  263.401430  1546.109108   \n",
      "297    306.713547   299.696047   148.703750   35.670705   209.443876   \n",
      "1464  1468.156618  1466.295549   732.062808  175.690250  1031.938041   \n",
      "1147  1149.469279  1148.031561   574.284533  137.656832   808.088239   \n",
      "2028  2037.387795  2028.108012  1014.146749  243.413714  1428.520219   \n",
      "...           ...          ...          ...         ...          ...   \n",
      "2653  2655.679702  2654.508558  1327.336635  318.372050  1869.183808   \n",
      "2377  2379.077701  2378.788177  1188.930087  285.252137  1674.531455   \n",
      "1203  1214.093101  1206.245456   602.272757  144.370019   847.393749   \n",
      "1399  1406.109322  1401.393681   699.872403  167.906044   985.637089   \n",
      "2402  2405.709455  2405.241062  1201.695289  288.279375  1692.509178   \n",
      "\n",
      "            ARPPU       Tools         TSDB  \n",
      "2195  2207.017751  549.150397  2195.055837  \n",
      "297    309.084591   74.274058   297.082100  \n",
      "1464  1476.187110  366.630974  1464.301947  \n",
      "1147  1159.190359  287.648774  1147.205914  \n",
      "2028  2040.123837  507.938453  2028.554245  \n",
      "...           ...         ...          ...  \n",
      "2653  2665.194354  663.724840  2653.621254  \n",
      "2377  2389.134244  594.648952  2377.810296  \n",
      "1203  1215.074209  301.436336  1203.937594  \n",
      "1399  1411.230903  349.827761  1399.277370  \n",
      "2402  2414.211680  600.662034  2402.009947  \n",
      "\n",
      "[2250 rows x 8 columns]\n"
     ]
    },
    {
     "data": {
      "image/png": "[encoded data removed]",
      "text/plain": [
       "<Figure size 432x288 with 1 Axes>"
      ]
     },
     "metadata": {
      "needs_background": "light"
     },
     "output_type": "display_data"
    }
   ],
   "source": [
    "from matplotlib import pyplot as plt\n",
    "%config inlineBackend.figure_format = 'svg'\n",
    "%matplotlib inline\n",
    "plt.barh(X_train.columns, lr.coef_.flatten())\n",
    "print(X_train)"
   ]
  },
  {
   "cell_type": "code",
   "execution_count": 30,
   "metadata": {},
   "outputs": [
    {
     "data": {
      "text/plain": [
       "Text(0.5, 1.0, 'Масштаб признаков')"
      ]
     },
     "execution_count": 30,
     "metadata": {},
     "output_type": "execute_result"
    },
    {
     "data": {
      "image/png": "[encoded data removed]",
      "text/plain": [
       "<Figure size 432x288 with 1 Axes>"
      ]
     },
     "metadata": {
      "needs_background": "light"
     },
     "output_type": "display_data"
    }
   ],
   "source": [
    "# В примере ниже мы возьмем набор данных, в котором признаки имеют разный масштаб разброса значений. \n",
    "# И нужна стандартизация. От значения признака отнимается среднее по данному признаку и делится на среднее квадратичное отклонение.\n",
    "\n",
    "import pandas as pd\n",
    "import numpy as np\n",
    "from sklearn.datasets import load_boston\n",
    "from matplotlib import pyplot as plt\n",
    "%config inlineBackend.figure_format = 'svg'\n",
    "%matplotlib inline\n",
    " \n",
    "boston = load_boston()\n",
    "X = boston.data\n",
    "y = boston.target\n",
    "X = pd.DataFrame(X, columns=boston.feature_names)\n",
    "feature_names = boston['feature_names']\n",
    " \n",
    " \n",
    "from sklearn.model_selection import train_test_split\n",
    "X_train, X_test, y_train, y_test = train_test_split(X, y, test_size=0.25, random_state=42)\n",
    "from sklearn.linear_model import LinearRegression\n",
    "lr = LinearRegression()\n",
    "lr.fit(X_train, y_train)\n",
    "y_pred = lr.predict(X_test)\n",
    " \n",
    "from sklearn.preprocessing import StandardScaler\n",
    "scaler = StandardScaler()\n",
    "X_train_scaled = scaler.fit_transform(X_train)\n",
    "X_train_scaled = pd.DataFrame(X_train_scaled, columns=feature_names)\n",
    "X_test_scaled = scaler.fit_transform(X_test)\n",
    "X_test_scaled = pd.DataFrame(X_test_scaled, columns=feature_names)\n",
    "lr.fit(X_train_scaled, y_train)\n",
    " \n",
    "plt.barh(X_train.columns, lr.coef_.flatten(), color = \"green\")\n",
    "plt.xlabel('Вес признака', fontsize = 20)\n",
    "plt.ylabel('Признак', fontsize = 20)\n",
    "plt.title(\"Масштаб признаков\")\n"
   ]
  },
  {
   "cell_type": "code",
   "execution_count": 32,
   "metadata": {},
   "outputs": [
    {
     "ename": "ValueError",
     "evalue": "Shape of passed values is (379, 13), indices imply (379, 8)",
     "output_type": "error",
     "traceback": [
      "\u001b[0;31m---------------------------------------------------------------------------\u001b[0m",
      "\u001b[0;31mValueError\u001b[0m                                Traceback (most recent call last)",
      "\u001b[0;32m/var/folders/ww/67t1k6ss6bqfd8tw6ntmpfgm0000gn/T/ipykernel_88534/3076476476.py\u001b[0m in \u001b[0;36m<module>\u001b[0;34m\u001b[0m\n\u001b[1;32m      3\u001b[0m \u001b[0mscaler\u001b[0m \u001b[0;34m=\u001b[0m \u001b[0mStandardScaler\u001b[0m\u001b[0;34m(\u001b[0m\u001b[0;34m)\u001b[0m\u001b[0;34m\u001b[0m\u001b[0;34m\u001b[0m\u001b[0m\n\u001b[1;32m      4\u001b[0m \u001b[0mX_train_scaled\u001b[0m \u001b[0;34m=\u001b[0m \u001b[0mscaler\u001b[0m\u001b[0;34m.\u001b[0m\u001b[0mfit_transform\u001b[0m\u001b[0;34m(\u001b[0m\u001b[0mX_train\u001b[0m\u001b[0;34m)\u001b[0m\u001b[0;34m\u001b[0m\u001b[0;34m\u001b[0m\u001b[0m\n\u001b[0;32m----> 5\u001b[0;31m \u001b[0mX_train_scaled\u001b[0m \u001b[0;34m=\u001b[0m \u001b[0mpd\u001b[0m\u001b[0;34m.\u001b[0m\u001b[0mDataFrame\u001b[0m\u001b[0;34m(\u001b[0m\u001b[0mX_train_scaled\u001b[0m\u001b[0;34m,\u001b[0m \u001b[0mcolumns\u001b[0m\u001b[0;34m=\u001b[0m\u001b[0mfeature_names\u001b[0m\u001b[0;34m)\u001b[0m\u001b[0;34m\u001b[0m\u001b[0;34m\u001b[0m\u001b[0m\n\u001b[0m\u001b[1;32m      6\u001b[0m \u001b[0mX_test_scaled\u001b[0m \u001b[0;34m=\u001b[0m \u001b[0mscaler\u001b[0m\u001b[0;34m.\u001b[0m\u001b[0mfit_transform\u001b[0m\u001b[0;34m(\u001b[0m\u001b[0mX_test\u001b[0m\u001b[0;34m)\u001b[0m\u001b[0;34m\u001b[0m\u001b[0;34m\u001b[0m\u001b[0m\n\u001b[1;32m      7\u001b[0m \u001b[0mX_test_scaled\u001b[0m \u001b[0;34m=\u001b[0m \u001b[0mpd\u001b[0m\u001b[0;34m.\u001b[0m\u001b[0mDataFrame\u001b[0m\u001b[0;34m(\u001b[0m\u001b[0mX_test_scaled\u001b[0m\u001b[0;34m,\u001b[0m \u001b[0mcolumns\u001b[0m\u001b[0;34m=\u001b[0m\u001b[0mfeature_names\u001b[0m\u001b[0;34m)\u001b[0m\u001b[0;34m\u001b[0m\u001b[0;34m\u001b[0m\u001b[0m\n",
      "\u001b[0;32m~/Library/Python/3.8/lib/python/site-packages/pandas/core/frame.py\u001b[0m in \u001b[0;36m__init__\u001b[0;34m(self, data, index, columns, dtype, copy)\u001b[0m\n\u001b[1;32m    692\u001b[0m                 )\n\u001b[1;32m    693\u001b[0m             \u001b[0;32melse\u001b[0m\u001b[0;34m:\u001b[0m\u001b[0;34m\u001b[0m\u001b[0;34m\u001b[0m\u001b[0m\n\u001b[0;32m--> 694\u001b[0;31m                 mgr = ndarray_to_mgr(\n\u001b[0m\u001b[1;32m    695\u001b[0m                     \u001b[0mdata\u001b[0m\u001b[0;34m,\u001b[0m\u001b[0;34m\u001b[0m\u001b[0;34m\u001b[0m\u001b[0m\n\u001b[1;32m    696\u001b[0m                     \u001b[0mindex\u001b[0m\u001b[0;34m,\u001b[0m\u001b[0;34m\u001b[0m\u001b[0;34m\u001b[0m\u001b[0m\n",
      "\u001b[0;32m~/Library/Python/3.8/lib/python/site-packages/pandas/core/internals/construction.py\u001b[0m in \u001b[0;36mndarray_to_mgr\u001b[0;34m(values, index, columns, dtype, copy, typ)\u001b[0m\n\u001b[1;32m    349\u001b[0m     )\n\u001b[1;32m    350\u001b[0m \u001b[0;34m\u001b[0m\u001b[0m\n\u001b[0;32m--> 351\u001b[0;31m     \u001b[0m_check_values_indices_shape_match\u001b[0m\u001b[0;34m(\u001b[0m\u001b[0mvalues\u001b[0m\u001b[0;34m,\u001b[0m \u001b[0mindex\u001b[0m\u001b[0;34m,\u001b[0m \u001b[0mcolumns\u001b[0m\u001b[0;34m)\u001b[0m\u001b[0;34m\u001b[0m\u001b[0;34m\u001b[0m\u001b[0m\n\u001b[0m\u001b[1;32m    352\u001b[0m \u001b[0;34m\u001b[0m\u001b[0m\n\u001b[1;32m    353\u001b[0m     \u001b[0;32mif\u001b[0m \u001b[0mtyp\u001b[0m \u001b[0;34m==\u001b[0m \u001b[0;34m\"array\"\u001b[0m\u001b[0;34m:\u001b[0m\u001b[0;34m\u001b[0m\u001b[0;34m\u001b[0m\u001b[0m\n",
      "\u001b[0;32m~/Library/Python/3.8/lib/python/site-packages/pandas/core/internals/construction.py\u001b[0m in \u001b[0;36m_check_values_indices_shape_match\u001b[0;34m(values, index, columns)\u001b[0m\n\u001b[1;32m    420\u001b[0m         \u001b[0mpassed\u001b[0m \u001b[0;34m=\u001b[0m \u001b[0mvalues\u001b[0m\u001b[0;34m.\u001b[0m\u001b[0mshape\u001b[0m\u001b[0;34m\u001b[0m\u001b[0;34m\u001b[0m\u001b[0m\n\u001b[1;32m    421\u001b[0m         \u001b[0mimplied\u001b[0m \u001b[0;34m=\u001b[0m \u001b[0;34m(\u001b[0m\u001b[0mlen\u001b[0m\u001b[0;34m(\u001b[0m\u001b[0mindex\u001b[0m\u001b[0;34m)\u001b[0m\u001b[0;34m,\u001b[0m \u001b[0mlen\u001b[0m\u001b[0;34m(\u001b[0m\u001b[0mcolumns\u001b[0m\u001b[0;34m)\u001b[0m\u001b[0;34m)\u001b[0m\u001b[0;34m\u001b[0m\u001b[0;34m\u001b[0m\u001b[0m\n\u001b[0;32m--> 422\u001b[0;31m         \u001b[0;32mraise\u001b[0m \u001b[0mValueError\u001b[0m\u001b[0;34m(\u001b[0m\u001b[0;34mf\"Shape of passed values is {passed}, indices imply {implied}\"\u001b[0m\u001b[0;34m)\u001b[0m\u001b[0;34m\u001b[0m\u001b[0;34m\u001b[0m\u001b[0m\n\u001b[0m\u001b[1;32m    423\u001b[0m \u001b[0;34m\u001b[0m\u001b[0m\n\u001b[1;32m    424\u001b[0m \u001b[0;34m\u001b[0m\u001b[0m\n",
      "\u001b[0;31mValueError\u001b[0m: Shape of passed values is (379, 13), indices imply (379, 8)"
     ]
    }
   ],
   "source": [
    "feature_names = ['UI', 'UX', 'Payment', 'MRPPU', 'CPA', 'ARPPU', 'Tools', 'TSDB']\n",
    "from sklearn.preprocessing import StandardScaler\n",
    "scaler = StandardScaler()\n",
    "X_train_scaled = scaler.fit_transform(X_train)\n",
    "X_train_scaled = pd.DataFrame(X_train_scaled, columns=feature_names)\n",
    "X_test_scaled = scaler.fit_transform(X_test)\n",
    "X_test_scaled = pd.DataFrame(X_test_scaled, columns=feature_names)\n",
    " \n",
    "lr.fit(X_train_scaled, y_train)\n",
    "# from matplotlib import pyplot as plt\n",
    "%config inlineBackend.figure_format = 'svg'\n",
    "%matplotlib inline\n",
    "plt.barh(X_train_scaled.columns, lr.coef_.flatten())\n",
    "plt.xlabel('вес признака')\n",
    "plt.ylabel('признак')\n",
    " \n",
    "print(X_train.describe())\n",
    "print(X_train_scaled.describe())"
   ]
  },
  {
   "cell_type": "code",
   "execution_count": null,
   "metadata": {},
   "outputs": [],
   "source": []
  },
  {
   "cell_type": "code",
   "execution_count": null,
   "metadata": {},
   "outputs": [],
   "source": []
  }
 ],
 "metadata": {
  "interpreter": {
   "hash": "31f2aee4e71d21fbe5cf8b01ff0e069b9275f58929596ceb00d14d90e3e16cd6"
  },
  "kernelspec": {
   "display_name": "Python 3.8.9 64-bit",
   "language": "python",
   "name": "python3"
  },
  "language_info": {
   "codemirror_mode": {
    "name": "ipython",
    "version": 3
   },
   "file_extension": ".py",
   "mimetype": "text/x-python",
   "name": "python",
   "nbconvert_exporter": "python",
   "pygments_lexer": "ipython3",
   "version": "3.8.9"
  },
  "orig_nbformat": 4
 },
 "nbformat": 4,
 "nbformat_minor": 2
}
