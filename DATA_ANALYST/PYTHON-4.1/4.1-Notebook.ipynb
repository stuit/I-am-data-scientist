{
 "cells": [
  {
   "cell_type": "code",
   "execution_count": 1,
   "metadata": {},
   "outputs": [
    {
     "name": "stdout",
     "output_type": "stream",
     "text": [
      "115\n"
     ]
    }
   ],
   "source": [
    "# Дополните аргументы и код функции\n",
    "def sum_2(x, y):\n",
    "    result = x+y\n",
    "    return result\n",
    "\n",
    "# Передайте аргументы 42 и 73 в функцию\n",
    "print(sum_2(42, 73))"
   ]
  },
  {
   "cell_type": "code",
   "execution_count": 2,
   "metadata": {},
   "outputs": [
    {
     "name": "stdout",
     "output_type": "stream",
     "text": [
      "16\n"
     ]
    }
   ],
   "source": [
    "def power(x, y):\n",
    "    return x**y\n",
    "print(power(4, 2))"
   ]
  },
  {
   "cell_type": "code",
   "execution_count": 25,
   "metadata": {},
   "outputs": [
    {
     "name": "stdout",
     "output_type": "stream",
     "text": [
      "3\n",
      "5.0\n",
      "1\n",
      "6.5\n"
     ]
    }
   ],
   "source": [
    "def get_median(arr):\n",
    "    if len(arr) == 0:\n",
    "        return 0\n",
    "    sort = sorted(arr)\n",
    "    length = len(sort)\n",
    "    if length%2 == 0:\n",
    "        idx = length//2\n",
    "        return (sort[idx-1]+sort[idx])/2\n",
    "    else:\n",
    "        return sort[length//2]\n",
    "print(get_median([5, 2, 1, 3, 4]))\n",
    "print(get_median([3, 3, 7, 9]))\n",
    "print(get_median([1]))\n",
    "print(get_median([3, 3, 7, 9, 3, 6, 10, 11]))"
   ]
  },
  {
   "cell_type": "code",
   "execution_count": 16,
   "metadata": {},
   "outputs": [
    {
     "data": {
      "text/plain": [
       "3"
      ]
     },
     "execution_count": 16,
     "metadata": {},
     "output_type": "execute_result"
    }
   ],
   "source": [
    "7//2"
   ]
  },
  {
   "cell_type": "code",
   "execution_count": 26,
   "metadata": {},
   "outputs": [
    {
     "name": "stdout",
     "output_type": "stream",
     "text": [
      "29.0\n"
     ]
    }
   ],
   "source": [
    "user_db = [{'orders': 12}, {'orders': 30}, {'orders': 45}]\n",
    "\n",
    "def avg_orders(arr):\n",
    "    order_sum = sum([user['orders'] for user in user_db])\n",
    "    orders_per_user = order_sum/len(user_db)\n",
    "    return orders_per_user\n",
    "print(avg_orders(user_db))"
   ]
  },
  {
   "cell_type": "code",
   "execution_count": 45,
   "metadata": {},
   "outputs": [
    {
     "name": "stdout",
     "output_type": "stream",
     "text": [
      "€6.38\n"
     ]
    }
   ],
   "source": [
    "from random import random\n",
    "def get_euro_rate():\n",
    "    return random()*20+65\n",
    "\n",
    "def to_euro(price):  \n",
    "    exchange_rate = get_euro_rate()\n",
    "    rounded = round(price/exchange_rate, 2)\n",
    "    return '€' + str(rounded)\n",
    "print(to_euro(500))"
   ]
  },
  {
   "cell_type": "code",
   "execution_count": 46,
   "metadata": {},
   "outputs": [
    {
     "data": {
      "text/plain": [
       "<map at 0x12e9a4b1d30>"
      ]
     },
     "execution_count": 46,
     "metadata": {},
     "output_type": "execute_result"
    }
   ],
   "source": [
    "map(lambda x, y: x + y, [1,2,3])"
   ]
  },
  {
   "cell_type": "code",
   "execution_count": 48,
   "metadata": {},
   "outputs": [
    {
     "name": "stdout",
     "output_type": "stream",
     "text": [
      "[-14, -10, -3, -2, 5, 24]\n"
     ]
    }
   ],
   "source": [
    "values = [4, 8, 15, 16, 23, 42]\n",
    "mean = 18\n",
    "\n",
    "result = map(lambda val: val-mean, values)\n",
    "print(list(result))"
   ]
  },
  {
   "cell_type": "code",
   "execution_count": 49,
   "metadata": {},
   "outputs": [
    {
     "name": "stdout",
     "output_type": "stream",
     "text": [
      "[23, 42]\n"
     ]
    }
   ],
   "source": [
    "values = [4, 8, 15, 16, 23, 42]\n",
    "mean = 18\n",
    "\n",
    "result = list(filter(lambda val: val > mean, values))\n",
    "print(result)"
   ]
  },
  {
   "cell_type": "code",
   "execution_count": 51,
   "metadata": {},
   "outputs": [
    {
     "name": "stdout",
     "output_type": "stream",
     "text": [
      "Hello, Alice\n",
      "Hello, Bob\n",
      "Hello, Rob\n"
     ]
    }
   ],
   "source": [
    "def hello(name=\"Alice\"):  \n",
    "    print(\"Hello,\", name)  \n",
    "  \n",
    "hello()  \n",
    "# => Hello, Alice  \n",
    "  \n",
    "hello(\"Bob\")  \n",
    "# => Hello, Bob  \n",
    "  \n",
    "hello(name='Rob')  \n",
    "# => Hello, Bob"
   ]
  },
  {
   "cell_type": "code",
   "execution_count": 53,
   "metadata": {},
   "outputs": [],
   "source": [
    "def resize_image(image, target_size=(128, 128), channels=3, channel_order='rgb', anti_aliasing=True):  \n",
    "    resized_image = image # мы как-то реализуем изменение размера, сейчас не важны детали   \n",
    "    return resized_image\n",
    "image_1 = \"\"\n",
    "resized_image_1 = resize_image(image_1, channels=1)  \n",
    "resized_image_2 = resize_image(image_1, anti_aliasing=False)  \n",
    "resized_image_3 = resize_image(image_1, target_size=(120, 120))"
   ]
  },
  {
   "cell_type": "code",
   "execution_count": 55,
   "metadata": {},
   "outputs": [
    {
     "name": "stdout",
     "output_type": "stream",
     "text": [
      "[10.0, 20.0]\n",
      "[5.0, 10.0]\n",
      "[-5.0, 5.0]\n"
     ]
    }
   ],
   "source": [
    "def normalize(numbers, mean=0, std=1):\n",
    "    return [(x-mean)/std for x in numbers]\n",
    "print(normalize([10, 20]))\n",
    "print(normalize([10, 20], std=2))\n",
    "print(normalize([10, 20], mean=15))"
   ]
  },
  {
   "cell_type": "code",
   "execution_count": 56,
   "metadata": {},
   "outputs": [
    {
     "name": "stdout",
     "output_type": "stream",
     "text": [
      "21\n"
     ]
    }
   ],
   "source": [
    "def sum_args(*args):\n",
    "    return sum(args)\n",
    "print(sum_args(10, 15, -4))"
   ]
  },
  {
   "cell_type": "code",
   "execution_count": 61,
   "metadata": {},
   "outputs": [
    {
     "name": "stdout",
     "output_type": "stream",
     "text": [
      "8\n",
      "4.0\n",
      "24\n",
      "3.4285714285714284\n"
     ]
    }
   ],
   "source": [
    "def count_letters(sentence, average=False):\n",
    "    splited = sentence.split()\n",
    "    length = len(''.join(splited))\n",
    "    if average:\n",
    "        return length/len(splited)\n",
    "    return length\n",
    "print(count_letters(\"Beep boop\")) # => 8\n",
    "print(count_letters(\"Beep boop\", average=True)) # => 4\n",
    "print(count_letters(\"I will build my own theme park\")) # => 24\n",
    "print(count_letters(\"I will build my own theme park\", average=True))"
   ]
  },
  {
   "cell_type": "code",
   "execution_count": 1,
   "metadata": {},
   "outputs": [
    {
     "output_type": "execute_result",
     "data": {
      "text/plain": [
       "5"
      ]
     },
     "metadata": {},
     "execution_count": 1
    }
   ],
   "source": [
    "def always(n):\n",
    "    return lambda: n\n",
    "five = always(5)\n",
    "five() # должно вернуть 5"
   ]
  },
  {
   "cell_type": "code",
   "execution_count": null,
   "metadata": {},
   "outputs": [],
   "source": []
  }
 ],
 "metadata": {
  "kernelspec": {
   "name": "python3",
   "display_name": "Python 3.6.3 64-bit",
   "metadata": {
    "interpreter": {
     "hash": "aee8b7b246df8f9039afb4144a1f6fd8d2ca17a180786b69acc140d282b71a49"
    }
   }
  },
  "language_info": {
   "codemirror_mode": {
    "name": "ipython",
    "version": 3
   },
   "file_extension": ".py",
   "mimetype": "text/x-python",
   "name": "python",
   "nbconvert_exporter": "python",
   "pygments_lexer": "ipython3",
   "version": "3.6.3-final"
  }
 },
 "nbformat": 4,
 "nbformat_minor": 4
}