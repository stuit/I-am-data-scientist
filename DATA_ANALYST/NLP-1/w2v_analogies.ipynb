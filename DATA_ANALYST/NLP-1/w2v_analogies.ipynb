{
  "nbformat": 4,
  "nbformat_minor": 0,
  "metadata": {
    "colab": {
      "name": "w2v analogies.ipynb",
      "provenance": [],
      "collapsed_sections": []
    },
    "kernelspec": {
      "name": "python3",
      "display_name": "Python 3"
    },
    "language_info": {
      "name": "python"
    }
  },
  "cells": [
    {
      "cell_type": "code",
      "execution_count": null,
      "metadata": {
        "id": "lKGOle2qtdkL"
      },
      "outputs": [],
      "source": [
        "import numpy as np\n",
        "import gensim\n",
        "import gensim.downloader\n",
        "from gensim.models import word2vec,KeyedVectors"
      ]
    },
    {
      "cell_type": "code",
      "source": [
        "word_vectors = gensim.downloader.load(\"word2vec-google-news-300\")"
      ],
      "metadata": {
        "id": "_ckDQMkltfAy"
      },
      "execution_count": null,
      "outputs": []
    },
    {
      "cell_type": "code",
      "source": [
        "word_vectors.most_similar(positive=[\"France\", \"London\"], negative=[\"England\"], topn=3)"
      ],
      "metadata": {
        "colab": {
          "base_uri": "https://localhost:8080/"
        },
        "id": "dNN_JDkgth2y",
        "outputId": "7bc628ed-cecf-4edd-c3c1-e8a6c34782cb"
      },
      "execution_count": null,
      "outputs": [
        {
          "output_type": "execute_result",
          "data": {
            "text/plain": [
              "[('Paris', 0.731147289276123),\n",
              " ('Brussels', 0.5476802587509155),\n",
              " ('Hopital_Europeen_Georges_Pompidou', 0.5315897464752197)]"
            ]
          },
          "metadata": {},
          "execution_count": 8
        }
      ]
    },
    {
      "cell_type": "code",
      "source": [
        "word_vectors.most_similar(positive=[\"Germany\", \"London\"], negative=[\"England\"], topn=3)"
      ],
      "metadata": {
        "colab": {
          "base_uri": "https://localhost:8080/"
        },
        "id": "DVVQPRW9tlDf",
        "outputId": "93b11807-be50-4c44-edae-bbebe6a0546f"
      },
      "execution_count": null,
      "outputs": [
        {
          "output_type": "execute_result",
          "data": {
            "text/plain": [
              "[('Berlin', 0.6245037317276001),\n",
              " ('Dusseldorf', 0.6113624572753906),\n",
              " ('Frankfurt', 0.6081353425979614)]"
            ]
          },
          "metadata": {},
          "execution_count": 9
        }
      ]
    },
    {
      "cell_type": "code",
      "source": [
        "word_vectors.most_similar(positive=[\"Brazil\", \"London\"], negative=[\"England\"], topn=3)"
      ],
      "metadata": {
        "colab": {
          "base_uri": "https://localhost:8080/"
        },
        "id": "YZ0QC1nZtnD2",
        "outputId": "2354a55d-b791-4c87-f4df-10a6f85be561"
      },
      "execution_count": null,
      "outputs": [
        {
          "output_type": "execute_result",
          "data": {
            "text/plain": [
              "[('Sao_Paulo', 0.6006280183792114),\n",
              " ('Rio_de_Janeiro', 0.5958665013313293),\n",
              " ('Sao_Paolo', 0.563147783279419)]"
            ]
          },
          "metadata": {},
          "execution_count": 12
        }
      ]
    },
    {
      "cell_type": "code",
      "source": [
        "word_vectors.most_similar(positive=[\"pizza\", \"Russia\"], negative=[\"Italy\"], topn=3)"
      ],
      "metadata": {
        "colab": {
          "base_uri": "https://localhost:8080/"
        },
        "id": "i38gwnmkvm-0",
        "outputId": "438c25de-df43-4bb1-9d68-12b239ff7fa9"
      },
      "execution_count": null,
      "outputs": [
        {
          "output_type": "execute_result",
          "data": {
            "text/plain": [
              "[('Domino_pizza', 0.48511114716529846),\n",
              " ('borscht', 0.4624710977077484),\n",
              " ('Urals_Mediterranean', 0.462126225233078)]"
            ]
          },
          "metadata": {},
          "execution_count": 21
        }
      ]
    },
    {
      "cell_type": "code",
      "source": [
        "word_vectors.most_similar(positive=[\"pizza\", \"Japan\"], negative=[\"Italy\"], topn=3)"
      ],
      "metadata": {
        "colab": {
          "base_uri": "https://localhost:8080/"
        },
        "id": "GK1ne2R_vxOT",
        "outputId": "b5b0a9ad-7213-4857-d03e-45d6cfcb14d0"
      },
      "execution_count": null,
      "outputs": [
        {
          "output_type": "execute_result",
          "data": {
            "text/plain": [
              "[('sushi', 0.5427544116973877),\n",
              " ('ramen', 0.5419158339500427),\n",
              " ('bento', 0.5399653911590576)]"
            ]
          },
          "metadata": {},
          "execution_count": 18
        }
      ]
    },
    {
      "cell_type": "code",
      "source": [
        "word_vectors.most_similar(positive=[\"pizza\", \"Norway\"], negative=[\"Italy\"], topn=3)"
      ],
      "metadata": {
        "colab": {
          "base_uri": "https://localhost:8080/"
        },
        "id": "sFVX67kqvzNv",
        "outputId": "20881c0b-658f-4145-a510-7ca83972d887"
      },
      "execution_count": null,
      "outputs": [
        {
          "output_type": "execute_result",
          "data": {
            "text/plain": [
              "[('lutefisk', 0.5353184342384338),\n",
              " ('donuts', 0.5171973705291748),\n",
              " ('lefse', 0.4872244894504547)]"
            ]
          },
          "metadata": {},
          "execution_count": 20
        }
      ]
    }
  ]
}