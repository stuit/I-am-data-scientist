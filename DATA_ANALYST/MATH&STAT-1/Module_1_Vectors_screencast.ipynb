{
  "nbformat": 4,
  "nbformat_minor": 0,
  "metadata": {
    "colab": {
      "name": "Module_1_Vectors_screencast.ipynb",
      "provenance": []
    },
    "kernelspec": {
      "name": "python3",
      "display_name": "Python 3.8.2 64-bit ('.venv')",
      "metadata": {
        "interpreter": {
          "hash": "a6730fb0a06c18af636869813f8eb69d9f4a51b49b9b87b39aeaf81c3d64a67b"
        }
      }
    },
    "language_info": {
      "codemirror_mode": {
        "name": "ipython",
        "version": 3
      },
      "file_extension": ".py",
      "mimetype": "text/x-python",
      "name": "python",
      "nbconvert_exporter": "python",
      "pygments_lexer": "ipython3",
      "version": "3.8.2-final"
    }
  },
  "cells": [
    {
      "cell_type": "code",
      "metadata": {
        "colab_type": "code",
        "id": "Tc7xkEvkymVV",
        "colab": {}
      },
      "source": [
        "import numpy as np"
      ],
      "execution_count": 1,
      "outputs": []
    },
    {
      "cell_type": "code",
      "metadata": {
        "colab_type": "code",
        "id": "vJHPEH0xymVm",
        "colab": {}
      },
      "source": [
        "# как создать вектор?\n"
      ],
      "execution_count": 2,
      "outputs": []
    },
    {
      "cell_type": "code",
      "metadata": {
        "colab_type": "code",
        "id": "Cnl8HEfuymVq",
        "colab": {},
        "outputId": "2a66605c-8a14-415a-923e-d592488abf83"
      },
      "source": [
        "# как одномерный массив numpy\n",
        "a=np.array([1,2,3])\n",
        "print(a, type(a))"
      ],
      "execution_count": 3,
      "outputs": [
        {
          "output_type": "stream",
          "name": "stdout",
          "text": [
            "[1 2 3] <class 'numpy.ndarray'>\n"
          ]
        }
      ]
    },
    {
      "cell_type": "code",
      "metadata": {
        "colab_type": "code",
        "id": "Z_4zzU8rymVw",
        "colab": {},
        "outputId": "54f34bca-7c08-40fa-cc9c-10ae082b1d74"
      },
      "source": [
        "np.array([1,2,3], dtype='float')"
      ],
      "execution_count": 4,
      "outputs": [
        {
          "output_type": "execute_result",
          "data": {
            "text/plain": [
              "array([1., 2., 3.])"
            ]
          },
          "metadata": {},
          "execution_count": 4
        }
      ]
    },
    {
      "cell_type": "code",
      "metadata": {
        "colab_type": "code",
        "id": "FLn74OREymVz",
        "colab": {},
        "outputId": "f2334338-9ac2-441a-ef7d-7f8cf166babe"
      },
      "source": [
        "# преобразовать из списка (list)\n",
        "x=[1,2,3]\n",
        "x_arr=np.array(x)\n",
        "print(x, type(x))\n",
        "print(x_arr, type(x_arr))"
      ],
      "execution_count": 5,
      "outputs": [
        {
          "output_type": "stream",
          "name": "stdout",
          "text": [
            "[1, 2, 3] <class 'list'>\n[1 2 3] <class 'numpy.ndarray'>\n"
          ]
        }
      ]
    },
    {
      "cell_type": "code",
      "metadata": {
        "colab_type": "code",
        "id": "nGkg5GBwymV3",
        "colab": {},
        "outputId": "33be0248-0ee3-461d-a262-f12a98fd380b"
      },
      "source": [
        "# нулевой вектор\n",
        "np.zeros(5) "
      ],
      "execution_count": 6,
      "outputs": [
        {
          "output_type": "execute_result",
          "data": {
            "text/plain": [
              "array([0., 0., 0., 0., 0.])"
            ]
          },
          "metadata": {},
          "execution_count": 6
        }
      ]
    },
    {
      "cell_type": "code",
      "metadata": {
        "colab_type": "code",
        "id": "LUDaxkcJymV6",
        "colab": {},
        "outputId": "191da2cb-a5fa-44f4-f74d-961b84fd6e73"
      },
      "source": [
        "# вектор из единиц\n",
        "np.ones(8)"
      ],
      "execution_count": 7,
      "outputs": [
        {
          "output_type": "execute_result",
          "data": {
            "text/plain": [
              "array([1., 1., 1., 1., 1., 1., 1., 1.])"
            ]
          },
          "metadata": {},
          "execution_count": 7
        }
      ]
    },
    {
      "cell_type": "code",
      "metadata": {
        "colab_type": "code",
        "id": "4JJrxHdLymWB",
        "colab": {},
        "outputId": "c5408ec0-6e97-4a81-c3f6-3d4a63b9358e"
      },
      "source": [
        "# массив чисел по порядку\n",
        "np.arange(10,50, 5)"
      ],
      "execution_count": 8,
      "outputs": [
        {
          "output_type": "execute_result",
          "data": {
            "text/plain": [
              "array([10, 15, 20, 25, 30, 35, 40, 45])"
            ]
          },
          "metadata": {},
          "execution_count": 8
        }
      ]
    },
    {
      "cell_type": "code",
      "metadata": {
        "colab_type": "code",
        "id": "ul4_CKIkymWF",
        "colab": {},
        "outputId": "f4f0f1ae-5c3b-494c-ac3f-b5b6b4591091"
      },
      "source": [
        "# случайный вектор\n",
        "np.random.randint(-4, 2, 10) # dim=10, случаные целые числа от -4 до 2"
      ],
      "execution_count": 9,
      "outputs": [
        {
          "output_type": "execute_result",
          "data": {
            "text/plain": [
              "array([-4, -3, -2, -2, -4,  1, -3,  0, -2,  1])"
            ]
          },
          "metadata": {},
          "execution_count": 9
        }
      ]
    },
    {
      "cell_type": "code",
      "metadata": {
        "colab_type": "code",
        "id": "xSF7nv58ymWJ",
        "colab": {},
        "outputId": "79b775dc-8161-465f-ebd7-e870cf7be016"
      },
      "source": [
        "# преобразовать из Pandas Series\n",
        "import pandas as pd\n",
        "data = [65, 70, 120, 35]\n",
        "s = pd.Series(data)\n",
        "print('Series:\\n',s)"
      ],
      "execution_count": 10,
      "outputs": [
        {
          "output_type": "stream",
          "name": "stdout",
          "text": [
            "Series:\n 0     65\n1     70\n2    120\n3     35\ndtype: int64\n"
          ]
        }
      ]
    },
    {
      "cell_type": "code",
      "metadata": {
        "colab_type": "code",
        "id": "znujxj8aymWO",
        "colab": {},
        "outputId": "9d09762e-69f8-4039-d4d6-7d879c9b4c99"
      },
      "source": [
        "x = s.values # возвращает значения s\n",
        "print('vector:\\n',x)\n",
        "print('type of x:',type(x))"
      ],
      "execution_count": 11,
      "outputs": [
        {
          "output_type": "stream",
          "name": "stdout",
          "text": [
            "vector:\n [ 65  70 120  35]\ntype of x: <class 'numpy.ndarray'>\n"
          ]
        }
      ]
    },
    {
      "cell_type": "code",
      "metadata": {
        "colab_type": "code",
        "id": "0ZYwt1ilymWU",
        "colab": {},
        "outputId": "07ee9250-4476-402e-a59a-79178b2e922d"
      },
      "source": [
        "# преобразовать из Pandas DataFrame\n",
        "d = {'$$': [65, 70, 120, 35], '2.Area': [50, 52, 80, 33],'3.Rooms':[3,2,1,1], \n",
        "     '4.Floor':[5,12,10,3], '5.Demo':[8,4,5,10]}\n",
        "df = pd.DataFrame(d)\n",
        "print('Data Frame:\\n',df)"
      ],
      "execution_count": 12,
      "outputs": [
        {
          "output_type": "stream",
          "name": "stdout",
          "text": [
            "Data Frame:\n     $$  2.Area  3.Rooms  4.Floor  5.Demo\n0   65      50        3        5       8\n1   70      52        2       12       4\n2  120      80        1       10       5\n3   35      33        1        3      10\n"
          ]
        }
      ]
    },
    {
      "cell_type": "code",
      "metadata": {
        "colab_type": "code",
        "id": "mnUU7al2ymWa",
        "colab": {},
        "outputId": "461d3383-c973-4aa6-bb61-272d9bfe2e63"
      },
      "source": [
        "A = df.values # возвращает значения df\n",
        "print('Matrix:\\n',A)"
      ],
      "execution_count": 13,
      "outputs": [
        {
          "output_type": "stream",
          "name": "stdout",
          "text": [
            "Matrix:\n [[ 65  50   3   5   8]\n [ 70  52   2  12   4]\n [120  80   1  10   5]\n [ 35  33   1   3  10]]\n"
          ]
        }
      ]
    },
    {
      "cell_type": "code",
      "metadata": {
        "colab_type": "code",
        "id": "w-4RhmRvymWf",
        "colab": {},
        "outputId": "ff57c7d9-8d15-4b70-f3cd-0148d7a5a200"
      },
      "source": [
        "x=A[1] # вторая строка матрицы А\n",
        "print('Second apartment vector:\\n',x)\n",
        "print('type of x:',type(x))"
      ],
      "execution_count": 14,
      "outputs": [
        {
          "output_type": "stream",
          "name": "stdout",
          "text": [
            "Second apartment vector:\n [70 52  2 12  4]\ntype of x: <class 'numpy.ndarray'>\n"
          ]
        }
      ]
    },
    {
      "cell_type": "code",
      "metadata": {
        "colab_type": "code",
        "id": "W6_SwmjNymWj",
        "colab": {},
        "outputId": "61676e9a-f456-42d0-be18-34b588b551d5"
      },
      "source": [
        "y=A[:,0] # первый столбец матрицы А\n",
        "print('$$ vector:\\n',y)"
      ],
      "execution_count": 15,
      "outputs": [
        {
          "output_type": "stream",
          "name": "stdout",
          "text": [
            "$$ vector:\n [ 65  70 120  35]\n"
          ]
        }
      ]
    },
    {
      "cell_type": "code",
      "metadata": {
        "colab_type": "code",
        "id": "xBlKUENeymWn",
        "colab": {},
        "outputId": "0f3d0749-05fc-4aa3-92e8-c7cfee913069"
      },
      "source": [
        "# индексация векторов - поиск нужной координаты\n",
        "print('$$ of 3 apartment:',y[2]) # третья координата"
      ],
      "execution_count": 16,
      "outputs": [
        {
          "output_type": "stream",
          "name": "stdout",
          "text": [
            "$$ of 3 apartment: 120\n"
          ]
        }
      ]
    },
    {
      "cell_type": "code",
      "metadata": {
        "colab_type": "code",
        "id": "NOi0XzfMymWr",
        "colab": {},
        "outputId": "b6085028-5289-4506-fbc7-a0e84a161a0c"
      },
      "source": [
        "# размерность вектора\n",
        "print('Number of apartments = dim(y):', len(y))"
      ],
      "execution_count": 17,
      "outputs": [
        {
          "output_type": "stream",
          "name": "stdout",
          "text": [
            "Number of apartments = dim(y): 4\n"
          ]
        }
      ]
    },
    {
      "cell_type": "code",
      "metadata": {
        "colab_type": "code",
        "id": "Rhk38HtvymWy",
        "colab": {},
        "outputId": "dcd68f3b-30d9-4fee-d004-2de8e5c32196"
      },
      "source": [
        "# сумма векторов и умножение на число\n",
        "a=np.array([1,2,3])\n",
        "b=np.array([6,7,8])\n",
        "print('a+b:',a+b)\n",
        "print('2a:',2*a)"
      ],
      "execution_count": 18,
      "outputs": [
        {
          "output_type": "stream",
          "name": "stdout",
          "text": [
            "a+b: [ 7  9 11]\n2a: [2 4 6]\n"
          ]
        }
      ]
    },
    {
      "cell_type": "code",
      "metadata": {
        "colab_type": "code",
        "id": "GB9jEZniymW6",
        "colab": {},
        "outputId": "1d90e326-fdc8-4bb2-e7ee-8f40ba365bc6"
      },
      "source": [
        "# сумма списков и умножение на число не является векторной операцией!\n",
        "a_list=[1,2,3]\n",
        "b_list=[6,7,8]\n",
        "print('a+b:',a_list+b_list)\n",
        "print('2a:',2*a_list)"
      ],
      "execution_count": 19,
      "outputs": [
        {
          "output_type": "stream",
          "name": "stdout",
          "text": [
            "a+b: [1, 2, 3, 6, 7, 8]\n2a: [1, 2, 3, 1, 2, 3]\n"
          ]
        }
      ]
    },
    {
      "cell_type": "code",
      "metadata": {
        "colab_type": "code",
        "id": "Uhem8xWDymXE",
        "colab": {},
        "outputId": "ebc19e52-60d8-4fe9-c068-9a222fa47ebe"
      },
      "source": [
        "# линейная комбинация с коэффициентами 2, 2, 3\n",
        "a=np.array([1,2,3])\n",
        "b=np.array([6,7,8])\n",
        "c=np.array([1,0,1])\n",
        "\n",
        "d=2*a+2*b+3*c\n",
        "print('linear combination:',d)"
      ],
      "execution_count": 20,
      "outputs": [
        {
          "output_type": "stream",
          "name": "stdout",
          "text": [
            "linear combination: [17 18 25]\n"
          ]
        }
      ]
    },
    {
      "cell_type": "code",
      "metadata": {
        "colab_type": "code",
        "id": "5nG5tKovymXK",
        "colab": {}
      },
      "source": [
        "# скалярное произведение\n",
        "\n",
        "s=np.dot(a,b)\n",
        "print('scalar product:',s)\n",
        "\n",
        "# покоординатное умножение\n",
        "print('coordinate product:',a*b)"
      ],
      "execution_count": 21,
      "outputs": [
        {
          "output_type": "stream",
          "name": "stdout",
          "text": [
            "scalar product: 44\ncoordinate product: [ 6 14 24]\n"
          ]
        }
      ]
    },
    {
      "cell_type": "code",
      "metadata": {
        "colab_type": "code",
        "id": "J9PPebk7ymXW",
        "colab": {}
      },
      "source": [
        "# скалярное произведение - еще один способ\n",
        "s1=a@b\n",
        "print('scalar product:',s1)"
      ],
      "execution_count": 22,
      "outputs": [
        {
          "output_type": "stream",
          "name": "stdout",
          "text": [
            "scalar product: 44\n"
          ]
        }
      ]
    },
    {
      "cell_type": "code",
      "metadata": {
        "colab_type": "code",
        "id": "Hpgi94aRymXa",
        "colab": {}
      },
      "source": [
        "# длина вектора\n",
        "l=np.linalg.norm(a)\n",
        "print('length of a:',l)"
      ],
      "execution_count": 23,
      "outputs": [
        {
          "output_type": "stream",
          "name": "stdout",
          "text": [
            "length of a: 3.7416573867739413\n"
          ]
        }
      ]
    },
    {
      "cell_type": "code",
      "metadata": {
        "colab_type": "code",
        "id": "-0HZq_wUymXi",
        "colab": {}
      },
      "source": [
        "# нормировка\n",
        "a_norm=a/np.linalg.norm(a)\n",
        "print('a_norm:',a_norm)\n",
        "print('length of a_norm:',np.linalg.norm(a_norm))"
      ],
      "execution_count": 24,
      "outputs": [
        {
          "output_type": "stream",
          "name": "stdout",
          "text": [
            "a_norm: [0.26726124 0.53452248 0.80178373]\nlength of a_norm: 1.0\n"
          ]
        }
      ]
    },
    {
      "cell_type": "code",
      "metadata": {
        "colab_type": "code",
        "id": "RXKe-abRymXo",
        "colab": {}
      },
      "source": [
        "#пропорциональность и ортогональность\n",
        "a=np.array([1,2,1])\n",
        "b=a*2\n",
        "c=np.array([-1,1,-1])\n",
        "print('a:',a)\n",
        "print('b:',b)\n",
        "print('c:',c)"
      ],
      "execution_count": 25,
      "outputs": [
        {
          "output_type": "stream",
          "name": "stdout",
          "text": [
            "a: [1 2 1]\nb: [2 4 2]\nc: [-1  1 -1]\n"
          ]
        }
      ]
    },
    {
      "cell_type": "code",
      "metadata": {
        "colab_type": "code",
        "id": "ze2-yWVDymXq",
        "colab": {}
      },
      "source": [
        "#пропорциональность и ортогональность\n",
        "print(\"(a,b):\",np.dot(a,b))\n",
        "print(\"(a,c):\",np.dot(a,c))\n",
        "print(\"(b,c):\",np.dot(b,c))"
      ],
      "execution_count": 26,
      "outputs": [
        {
          "output_type": "stream",
          "name": "stdout",
          "text": [
            "(a,b): 12\n(a,c): 0\n(b,c): 0\n"
          ]
        }
      ]
    },
    {
      "cell_type": "code",
      "metadata": {
        "colab_type": "code",
        "id": "AF7Z9P9WymXy",
        "colab": {}
      },
      "source": [
        "# попарная ортогональность - да\n",
        "a=np.array([1,0,1])\n",
        "b=np.array([0,1,0])\n",
        "c=np.array([1,0,-1])\n",
        "print('a:',a)\n",
        "print('b:',b)\n",
        "print('c:',c)"
      ],
      "execution_count": 27,
      "outputs": [
        {
          "output_type": "stream",
          "name": "stdout",
          "text": [
            "a: [1 0 1]\nb: [0 1 0]\nc: [ 1  0 -1]\n"
          ]
        }
      ]
    },
    {
      "cell_type": "code",
      "metadata": {
        "colab_type": "code",
        "id": "F9Xi-O17ymX4",
        "colab": {}
      },
      "source": [
        "# попарная ортогональность - да\n",
        "print('(a,b):',np.dot(a,b))\n",
        "print('(b,c):',np.dot(b,c))\n",
        "print('(a,c):',np.dot(a,c))"
      ],
      "execution_count": 28,
      "outputs": [
        {
          "output_type": "stream",
          "name": "stdout",
          "text": [
            "(a,b): 0\n(b,c): 0\n(a,c): 0\n"
          ]
        }
      ]
    },
    {
      "cell_type": "code",
      "metadata": {
        "colab_type": "code",
        "id": "0JhrwPvPymX7",
        "colab": {}
      },
      "source": [
        "# попарная ортогональность - нет\n",
        "c1=np.array([1,0,4])\n",
        "print('a:',a)\n",
        "print('b:',b)\n",
        "print('с1:',c1)"
      ],
      "execution_count": 29,
      "outputs": [
        {
          "output_type": "stream",
          "name": "stdout",
          "text": [
            "a: [1 0 1]\n",
            "b: [0 1 0]\n",
            "с1: [1 0 4]\n"
          ]
        }
      ]
    },
    {
      "cell_type": "code",
      "metadata": {
        "colab_type": "code",
        "id": "ZmeF_7G2ymX-",
        "colab": {}
      },
      "source": [
        "# попарная ортогональность - нет\n",
        "print('(a,b):',a@b)\n",
        "print('(b,c1):',b@c1)\n",
        "print('(a,c1):',a@c1)"
      ],
      "execution_count": 30,
      "outputs": [
        {
          "output_type": "stream",
          "name": "stdout",
          "text": [
            "(a,b): 0\n(b,c1): 0\n(a,c1): 5\n"
          ]
        }
      ]
    },
    {
      "cell_type": "code",
      "metadata": {
        "colab_type": "code",
        "id": "2djqzK80ymYE",
        "colab": {}
      },
      "source": [
        "Hut_Paradise_DF = pd.DataFrame({'1.Rent': [65, 70, 120, 35, 40, 50, 100, 90, 85], \n",
        "                                '2.Area': [50, 52, 80, 33, 33, 44, 80, 65, 65], \n",
        "                                '3.Rooms':[3, 2, 1, 1, 1, 2, 4, 3, 2],\n",
        "                                '4.Floor':[5, 12, 10, 3, 6, 13, 8, 21, 5], \n",
        "                                '5.Demo two weeks':[8, 4, 5, 10, 20, 12, 5, 1, 10], \n",
        "                                '6.Liv.Area': [37, 40, 65, 20, 16, 35, 60, 50, 40]})"
      ],
      "execution_count": 32,
      "outputs": []
    },
    {
      "cell_type": "code",
      "execution_count": null,
      "metadata": {},
      "outputs": [],
      "source": []
    }
  ]
}