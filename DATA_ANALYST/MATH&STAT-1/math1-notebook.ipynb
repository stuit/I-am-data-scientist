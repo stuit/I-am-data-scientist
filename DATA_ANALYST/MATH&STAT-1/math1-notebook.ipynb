{
 "metadata": {
  "language_info": {
   "codemirror_mode": {
    "name": "ipython",
    "version": 3
   },
   "file_extension": ".py",
   "mimetype": "text/x-python",
   "name": "python",
   "nbconvert_exporter": "python",
   "pygments_lexer": "ipython3",
   "version": "3.8.2-final"
  },
  "orig_nbformat": 2,
  "kernelspec": {
   "name": "python3",
   "display_name": "Python 3.8.2 64-bit ('.venv')",
   "metadata": {
    "interpreter": {
     "hash": "a6730fb0a06c18af636869813f8eb69d9f4a51b49b9b87b39aeaf81c3d64a67b"
    }
   }
  }
 },
 "nbformat": 4,
 "nbformat_minor": 2,
 "cells": [
  {
   "cell_type": "code",
   "execution_count": 1,
   "metadata": {},
   "outputs": [],
   "source": [
    "import numpy as np\n",
    "apartment = np.array([59.50, 31.40, 19, 22, 60550, 2])"
   ]
  },
  {
   "cell_type": "code",
   "execution_count": 2,
   "metadata": {},
   "outputs": [],
   "source": [
    "share_living_space = apartment[1]/apartment[0]"
   ]
  },
  {
   "cell_type": "code",
   "execution_count": 3,
   "metadata": {},
   "outputs": [],
   "source": [
    "apartment = np.delete(apartment, [0, 1])"
   ]
  },
  {
   "cell_type": "code",
   "execution_count": 4,
   "metadata": {},
   "outputs": [],
   "source": [
    "apartment = np.append(apartment, share_living_space)"
   ]
  },
  {
   "cell_type": "code",
   "execution_count": 5,
   "metadata": {},
   "outputs": [
    {
     "output_type": "execute_result",
     "data": {
      "text/plain": [
       "array([1.90000000e+01, 2.20000000e+01, 6.05500000e+04, 2.00000000e+00,\n",
       "       5.27731092e-01])"
      ]
     },
     "metadata": {},
     "execution_count": 5
    }
   ],
   "source": [
    "apartment"
   ]
  },
  {
   "cell_type": "code",
   "execution_count": 6,
   "metadata": {},
   "outputs": [
    {
     "output_type": "execute_result",
     "data": {
      "text/plain": [
       "0.5277310924369748"
      ]
     },
     "metadata": {},
     "execution_count": 6
    }
   ],
   "source": [
    "share_living_space"
   ]
  },
  {
   "cell_type": "code",
   "execution_count": 7,
   "metadata": {},
   "outputs": [
    {
     "output_type": "execute_result",
     "data": {
      "text/plain": [
       "5"
      ]
     },
     "metadata": {},
     "execution_count": 7
    }
   ],
   "source": [
    "len(apartment)"
   ]
  },
  {
   "cell_type": "code",
   "execution_count": 10,
   "metadata": {},
   "outputs": [
    {
     "output_type": "execute_result",
     "data": {
      "text/plain": [
       "array([394., 496., 400.])"
      ]
     },
     "metadata": {},
     "execution_count": 10
    }
   ],
   "source": [
    "a = np.array([2,3,2.5], float)\n",
    "a = a*72\n",
    "b = np.array([120,150,90], float)\n",
    "c = np.array([130,130,130], float)\n",
    "a+b+c"
   ]
  },
  {
   "cell_type": "code",
   "execution_count": 11,
   "metadata": {},
   "outputs": [
    {
     "output_type": "execute_result",
     "data": {
      "text/plain": [
       "array([1800, 3000, 2700])"
      ]
     },
     "metadata": {},
     "execution_count": 11
    }
   ],
   "source": [
    "p=np.array([2,4,5])\n",
    "v=np.array([8,10,2])\n",
    "s=np.array([0,12,7])\n",
    "500*p+100*v+0*s"
   ]
  },
  {
   "cell_type": "code",
   "execution_count": 12,
   "metadata": {},
   "outputs": [
    {
     "output_type": "execute_result",
     "data": {
      "text/plain": [
       "array([7, 7])"
      ]
     },
     "metadata": {},
     "execution_count": 12
    }
   ],
   "source": [
    "a1=np.array([4,5])\n",
    "b1=np.array([2,1])\n",
    "c1=np.array([1,0])\n",
    "2*a1+(-3*b1)+5*c1"
   ]
  },
  {
   "cell_type": "code",
   "execution_count": 16,
   "metadata": {},
   "outputs": [
    {
     "output_type": "execute_result",
     "data": {
      "text/plain": [
       "array([-200, 1200,  200,  600])"
      ]
     },
     "metadata": {},
     "execution_count": 16
    }
   ],
   "source": [
    "r1=np.array([3,4,5,9])\n",
    "r2=np.array([1,5,3,6])\n",
    "400*r2-200*r1"
   ]
  },
  {
   "cell_type": "code",
   "execution_count": 18,
   "metadata": {},
   "outputs": [
    {
     "output_type": "execute_result",
     "data": {
      "text/plain": [
       "7"
      ]
     },
     "metadata": {},
     "execution_count": 18
    }
   ],
   "source": [
    "s1=np.array([4,5,-1])\n",
    "s2=np.array([2,0,1])\n",
    "np.dot(s1,s2)"
   ]
  },
  {
   "cell_type": "code",
   "execution_count": 31,
   "metadata": {},
   "outputs": [
    {
     "output_type": "execute_result",
     "data": {
      "text/plain": [
       "7.280109889280518"
      ]
     },
     "metadata": {},
     "execution_count": 31
    }
   ],
   "source": [
    "l1=np.array([4,6,1])\n",
    "l2=l1*l1\n",
    "np.sqrt(l2.sum())"
   ]
  },
  {
   "cell_type": "code",
   "execution_count": 37,
   "metadata": {},
   "outputs": [
    {
     "output_type": "execute_result",
     "data": {
      "text/plain": [
       "array([[ 65,  50,   3,   5,   8,  37],\n",
       "       [ 70,  52,   2,  12,   4,  40],\n",
       "       [120,  80,   1,  10,   5,  65],\n",
       "       [ 35,  33,   1,   3,  10,  20],\n",
       "       [ 40,  33,   1,   6,  20,  16],\n",
       "       [ 50,  44,   2,  13,  12,  35],\n",
       "       [100,  80,   4,   8,   5,  60],\n",
       "       [ 90,  65,   3,  21,   1,  50],\n",
       "       [ 85,  65,   2,   5,  10,  40]])"
      ]
     },
     "metadata": {},
     "execution_count": 37
    }
   ],
   "source": [
    "import pandas as pd\n",
    "Hut_Paradise_DF = pd.DataFrame({'1.Rent': [65, 70, 120, 35, 40, 50, 100, 90, 85], \n",
    "                                '2.Area': [50, 52, 80, 33, 33, 44, 80, 65, 65], \n",
    "                                '3.Rooms':[3, 2, 1, 1, 1, 2, 4, 3, 2],\n",
    "                                '4.Floor':[5, 12, 10, 3, 6, 13, 8, 21, 5], \n",
    "                                '5.Demo two weeks':[8, 4, 5, 10, 20, 12, 5, 1, 10], \n",
    "                                '6.Liv.Area': [37, 40, 65, 20, 16, 35, 60, 50, 40]})\n",
    "vec = Hut_Paradise_DF.values\n",
    "vec"
   ]
  },
  {
   "cell_type": "code",
   "execution_count": 36,
   "metadata": {},
   "outputs": [
    {
     "output_type": "execute_result",
     "data": {
      "text/plain": [
       "array([40, 33,  1,  6, 20, 16])"
      ]
     },
     "metadata": {},
     "execution_count": 36
    }
   ],
   "source": [
    "vec[4]"
   ]
  },
  {
   "cell_type": "code",
   "execution_count": 38,
   "metadata": {},
   "outputs": [
    {
     "output_type": "execute_result",
     "data": {
      "text/plain": [
       "array([ 5, 12, 10,  3,  6, 13,  8, 21,  5])"
      ]
     },
     "metadata": {},
     "execution_count": 38
    }
   ],
   "source": [
    "vec[:, 3]"
   ]
  },
  {
   "cell_type": "code",
   "execution_count": 42,
   "metadata": {},
   "outputs": [
    {
     "output_type": "execute_result",
     "data": {
      "text/plain": [
       "array([10])"
      ]
     },
     "metadata": {},
     "execution_count": 42
    }
   ],
   "source": [
    "vec[2:3,3]"
   ]
  },
  {
   "cell_type": "code",
   "execution_count": 44,
   "metadata": {},
   "outputs": [
    {
     "output_type": "execute_result",
     "data": {
      "text/plain": [
       "9"
      ]
     },
     "metadata": {},
     "execution_count": 44
    }
   ],
   "source": [
    "len(vec)"
   ]
  },
  {
   "cell_type": "code",
   "execution_count": 47,
   "metadata": {},
   "outputs": [
    {
     "output_type": "execute_result",
     "data": {
      "text/plain": [
       "(array([50, 52, 80, 33, 33, 44, 80, 65, 65]),\n",
       " array([37, 40, 65, 20, 16, 35, 60, 50, 40]))"
      ]
     },
     "metadata": {},
     "execution_count": 47
    }
   ],
   "source": [
    "obsh = vec[:, 1]\n",
    "jil = vec[:, 5]\n",
    "obsh, jil"
   ]
  },
  {
   "cell_type": "code",
   "execution_count": 48,
   "metadata": {},
   "outputs": [
    {
     "output_type": "execute_result",
     "data": {
      "text/plain": [
       "array([13, 12, 15, 13, 17,  9, 20, 15, 25])"
      ]
     },
     "metadata": {},
     "execution_count": 48
    }
   ],
   "source": [
    "obsh-jil"
   ]
  },
  {
   "cell_type": "code",
   "execution_count": 49,
   "metadata": {},
   "outputs": [
    {
     "output_type": "execute_result",
     "data": {
      "text/plain": [
       "array([ 65,  70, 120,  35,  40,  50, 100,  90,  85])"
      ]
     },
     "metadata": {},
     "execution_count": 49
    }
   ],
   "source": [
    "cost = vec[:,0]\n",
    "cost"
   ]
  },
  {
   "cell_type": "code",
   "execution_count": 53,
   "metadata": {},
   "outputs": [
    {
     "output_type": "execute_result",
     "data": {
      "text/plain": [
       "array([26., 28., 48., 14., 16., 20., 40., 36., 34.])"
      ]
     },
     "metadata": {},
     "execution_count": 53
    }
   ],
   "source": [
    "grvn = 10/4\n",
    "cost/grvn"
   ]
  },
  {
   "cell_type": "code",
   "execution_count": 55,
   "metadata": {},
   "outputs": [
    {
     "output_type": "execute_result",
     "data": {
      "text/plain": [
       "array([10, 20, 30, 15,  5, 40, 20,  8, 20])"
      ]
     },
     "metadata": {},
     "execution_count": 55
    }
   ],
   "source": [
    "look=np.array([10,20,30,15,5,40,20,8,20])\n",
    "look"
   ]
  },
  {
   "cell_type": "code",
   "execution_count": 62,
   "metadata": {},
   "outputs": [
    {
     "output_type": "execute_result",
     "data": {
      "text/plain": [
       "array([ 8,  4,  5, 10, 20, 12,  5,  1, 10])"
      ]
     },
     "metadata": {},
     "execution_count": 62
    }
   ],
   "source": [
    "demos = vec[:, 4]\n",
    "demos"
   ]
  },
  {
   "cell_type": "code",
   "execution_count": 64,
   "metadata": {},
   "outputs": [
    {
     "output_type": "execute_result",
     "data": {
      "text/plain": [
       "1348"
      ]
     },
     "metadata": {},
     "execution_count": 64
    }
   ],
   "source": [
    "(look*demos).sum()"
   ]
  },
  {
   "cell_type": "code",
   "execution_count": 65,
   "metadata": {},
   "outputs": [],
   "source": [
    "u=np.array([3,0,1,1,1])\n",
    "v=np.array([0,1,0,2,-2])\n",
    "w=np.array([1,-4,-1,0,-2])"
   ]
  },
  {
   "cell_type": "code",
   "execution_count": 67,
   "metadata": {},
   "outputs": [
    {
     "output_type": "execute_result",
     "data": {
      "text/plain": [
       "(0, 0, 0)"
      ]
     },
     "metadata": {},
     "execution_count": 67
    }
   ],
   "source": [
    "u@v, u@w, v@w"
   ]
  },
  {
   "source": [
    "<img src=\"math_pic0.png\"></img>"
   ],
   "cell_type": "markdown",
   "metadata": {}
  },
  {
   "cell_type": "code",
   "execution_count": 69,
   "metadata": {},
   "outputs": [
    {
     "output_type": "execute_result",
     "data": {
      "text/plain": [
       "array([-3, 14,  3,  4,  2])"
      ]
     },
     "metadata": {},
     "execution_count": 69
    }
   ],
   "source": [
    "nev=2*v+(-3*w)\n",
    "nev"
   ]
  },
  {
   "cell_type": "code",
   "execution_count": 70,
   "metadata": {},
   "outputs": [
    {
     "output_type": "execute_result",
     "data": {
      "text/plain": [
       "0"
      ]
     },
     "metadata": {},
     "execution_count": 70
    }
   ],
   "source": [
    "u@nev"
   ]
  },
  {
   "cell_type": "code",
   "execution_count": 73,
   "metadata": {},
   "outputs": [
    {
     "output_type": "execute_result",
     "data": {
      "text/plain": [
       "(array([0.8660254 , 0.        , 0.28867513, 0.28867513, 0.28867513]),\n",
       " array([ 0.        ,  0.33333333,  0.        ,  0.66666667, -0.66666667]),\n",
       " array([ 0.21320072, -0.85280287, -0.21320072,  0.        , -0.42640143]))"
      ]
     },
     "metadata": {},
     "execution_count": 73
    }
   ],
   "source": [
    "u_norm=u/np.linalg.norm(u)\n",
    "v_norm=v/np.linalg.norm(v)\n",
    "w_norm=w/np.linalg.norm(w)\n",
    "u_norm,v_norm,w_norm"
   ]
  },
  {
   "cell_type": "code",
   "execution_count": 74,
   "metadata": {},
   "outputs": [],
   "source": [
    "import numpy as np\n",
    "\n",
    "Husband_Income = np.array([100,220,140])\n",
    "Wife_Income = np.array([150,200,130])\n",
    "Mother_In_Law_Income = np.array([90,80,100])\n",
    "\n",
    "Husband_Сonsumption = np.array([50,50,60])\n",
    "Wife_Сonsumption = np.array([100,80,140])\n",
    "Mother_In_Law_Сonsumption = np.array([100,20,140])"
   ]
  },
  {
   "cell_type": "code",
   "execution_count": 76,
   "metadata": {},
   "outputs": [
    {
     "output_type": "execute_result",
     "data": {
      "text/plain": [
       "array([[100, 220, 140],\n",
       "       [150, 200, 130],\n",
       "       [ 90,  80, 100]])"
      ]
     },
     "metadata": {},
     "execution_count": 76
    }
   ],
   "source": [
    "Inc = np.array([Husband_Income, Wife_Income, Mother_In_Law_Income])\n",
    "Inc"
   ]
  },
  {
   "cell_type": "code",
   "execution_count": 77,
   "metadata": {},
   "outputs": [
    {
     "output_type": "execute_result",
     "data": {
      "text/plain": [
       "array([[ 50,  50,  60],\n",
       "       [100,  80, 140],\n",
       "       [100,  20, 140]])"
      ]
     },
     "metadata": {},
     "execution_count": 77
    }
   ],
   "source": [
    "Cons = np.array([Husband_Сonsumption, Wife_Сonsumption, Mother_In_Law_Сonsumption])\n",
    "Cons"
   ]
  },
  {
   "cell_type": "code",
   "execution_count": 80,
   "metadata": {},
   "outputs": [
    {
     "output_type": "execute_result",
     "data": {
      "text/plain": [
       "array([[ 87. , 191.4, 121.8],\n",
       "       [130.5, 174. , 113.1],\n",
       "       [ 78.3,  69.6,  87. ]])"
      ]
     },
     "metadata": {},
     "execution_count": 80
    }
   ],
   "source": [
    "net = Inc-(Inc*0.13)\n",
    "net"
   ]
  },
  {
   "cell_type": "code",
   "execution_count": 81,
   "metadata": {},
   "outputs": [
    {
     "output_type": "execute_result",
     "data": {
      "text/plain": [
       "array([[ 37. , 141.4,  61.8],\n",
       "       [ 30.5,  94. , -26.9],\n",
       "       [-21.7,  49.6, -53. ]])"
      ]
     },
     "metadata": {},
     "execution_count": 81
    }
   ],
   "source": [
    "prof = net - Cons\n",
    "prof "
   ]
  },
  {
   "cell_type": "code",
   "execution_count": 85,
   "metadata": {},
   "outputs": [
    {
     "output_type": "execute_result",
     "data": {
      "text/plain": [
       "(array([[ 1,  1],\n",
       "        [ 2, -1],\n",
       "        [ 1,  2]]),\n",
       " array([[ 1,  2,  1],\n",
       "        [ 1, -1,  2]]))"
      ]
     },
     "metadata": {},
     "execution_count": 85
    }
   ],
   "source": [
    "matr = np.array([[1,1],[2,-1],[1,2]])\n",
    "tmatr = matr.T\n",
    "matr, tmatr"
   ]
  },
  {
   "cell_type": "code",
   "execution_count": 91,
   "metadata": {},
   "outputs": [
    {
     "output_type": "execute_result",
     "data": {
      "text/plain": [
       "array([[2, 1, 3],\n",
       "       [1, 5, 0],\n",
       "       [3, 0, 5]])"
      ]
     },
     "metadata": {},
     "execution_count": 91
    }
   ],
   "source": [
    "matr@tmatr"
   ]
  },
  {
   "cell_type": "code",
   "execution_count": 93,
   "metadata": {},
   "outputs": [
    {
     "output_type": "execute_result",
     "data": {
      "text/plain": [
       "(array([[ 5, -1,  3,  1,  2],\n",
       "        [-2,  8,  5, -1,  1]]),\n",
       " array([1, 2, 3, 4, 5]))"
      ]
     },
     "metadata": {},
     "execution_count": 93
    }
   ],
   "source": [
    "A = np.array([[5,-1,3,1,2], [-2,8,5,-1,1]])\n",
    "x = np.array([1,2,3,4,5])\n",
    "A, x"
   ]
  },
  {
   "cell_type": "code",
   "execution_count": 96,
   "metadata": {},
   "outputs": [
    {
     "output_type": "execute_result",
     "data": {
      "text/plain": [
       "array([26, 30])"
      ]
     },
     "metadata": {},
     "execution_count": 96
    }
   ],
   "source": [
    "A@x"
   ]
  },
  {
   "cell_type": "code",
   "execution_count": 97,
   "metadata": {},
   "outputs": [
    {
     "output_type": "execute_result",
     "data": {
      "text/plain": [
       "(array([[1, 9, 8, 5],\n",
       "        [3, 6, 3, 2],\n",
       "        [3, 3, 3, 3],\n",
       "        [0, 2, 5, 9],\n",
       "        [4, 4, 1, 2]]),\n",
       " array([[ 1, -1,  0,  1,  1],\n",
       "        [-2,  0,  2, -1,  1]]))"
      ]
     },
     "metadata": {},
     "execution_count": 97
    }
   ],
   "source": [
    "A=np.array( [ [1,9,8,5] , [3,6,3,2] , [3,3,3,3], [0,2,5,9], [4,4,1,2] ] )\n",
    "B=np.array( [ [1,-1,0,1,1] , [-2,0,2,-1,1] ] )\n",
    "A, B"
   ]
  },
  {
   "cell_type": "code",
   "execution_count": 99,
   "metadata": {},
   "outputs": [
    {
     "output_type": "execute_result",
     "data": {
      "text/plain": [
       "array([[  2,   9,  11,  14],\n",
       "       [  8, -10, -14, -11]])"
      ]
     },
     "metadata": {},
     "execution_count": 99
    }
   ],
   "source": [
    "B@A"
   ]
  },
  {
   "cell_type": "code",
   "execution_count": 100,
   "metadata": {},
   "outputs": [
    {
     "output_type": "execute_result",
     "data": {
      "text/plain": [
       "(array([1, 2, 1, 0, 4]),\n",
       " array([ 2,  1, -1,  1,  0]),\n",
       " array([-1,  1, -1,  0,  0]))"
      ]
     },
     "metadata": {},
     "execution_count": 100
    }
   ],
   "source": [
    "x = np.array([1,2,1,0,4])\n",
    "y = np.array([2,1,-1,1,0])\n",
    "z = np.array([-1,1,-1,0,0])\n",
    "x,y,z"
   ]
  },
  {
   "cell_type": "code",
   "execution_count": 102,
   "metadata": {},
   "outputs": [
    {
     "output_type": "execute_result",
     "data": {
      "text/plain": [
       "(matrix([[ 1,  2,  1,  0,  4],\n",
       "         [ 2,  1, -1,  1,  0],\n",
       "         [-1,  1, -1,  0,  0]]),\n",
       " matrix([[ 1,  2, -1],\n",
       "         [ 2,  1,  1],\n",
       "         [ 1, -1, -1],\n",
       "         [ 0,  1,  0],\n",
       "         [ 4,  0,  0]]))"
      ]
     },
     "metadata": {},
     "execution_count": 102
    }
   ],
   "source": [
    "A=np.matrix([[1,2,1,0,4],[ 2,1,-1,1,0],[-1,1,-1,0,0]])\n",
    "A, A.T"
   ]
  },
  {
   "cell_type": "code",
   "execution_count": 105,
   "metadata": {},
   "outputs": [
    {
     "output_type": "execute_result",
     "data": {
      "text/plain": [
       "matrix([[22,  3,  0],\n",
       "        [ 3,  7,  0],\n",
       "        [ 0,  0,  3]])"
      ]
     },
     "metadata": {},
     "execution_count": 105
    }
   ],
   "source": [
    "A@A.T"
   ]
  },
  {
   "cell_type": "code",
   "execution_count": 106,
   "metadata": {},
   "outputs": [],
   "source": [
    "Count_DF = pd.DataFrame({'Женские стрижки': [10, 2, 12, 4, 6, 10, 22, 7], \n",
    "                         'Мужские стрижки': [5, 21, 12, 8, 25, 3, 1, 0], \n",
    "                         'Окрашивания':[12, 3, 0, 18, 27, 2, 4, 31],\n",
    "                         'Укладка':[15, 25, 30, 14, 25, 17, 25, 31],\n",
    "                         'Уход':[10, 6, 4, 5, 18, 12, 20, 28]\n",
    "                        }, \n",
    "                        index=['Аня', 'Борис', 'Вика', 'Галя', 'Дима', 'Егор', 'Женя','Юра'])\n",
    "Price_DF = pd.DataFrame({'Женские стрижки': [2, 1.8, 2, 1.8, 2.5, 5, 1.1, 4.5], \n",
    "                         'Мужские стрижки': [1.5, 2.5, 2, 1.2, 3.5, 5, 1, 4], \n",
    "                         'Окрашивания':[1, 1, 0, 2.8, 2, 3, 1.5, 2.5],\n",
    "                         'Укладка':[0.8, 1, 0.5, 0.8, 1, 2, 0.5, 1],\n",
    "                         'Уход':[1, 1, 2, 2, 1.5, 2.5, 1.7, 2] \n",
    "                        }, \n",
    "                        index=['Аня', 'Борис', 'Вика', 'Галя', 'Дима', 'Егор', 'Женя','Юра'])"
   ]
  },
  {
   "cell_type": "code",
   "execution_count": 107,
   "metadata": {},
   "outputs": [
    {
     "output_type": "execute_result",
     "data": {
      "text/plain": [
       "       Женские стрижки  Мужские стрижки  Окрашивания  Укладка  Уход\n",
       "Аня                 10                5           12       15    10\n",
       "Борис                2               21            3       25     6\n",
       "Вика                12               12            0       30     4\n",
       "Галя                 4                8           18       14     5\n",
       "Дима                 6               25           27       25    18\n",
       "Егор                10                3            2       17    12\n",
       "Женя                22                1            4       25    20\n",
       "Юра                  7                0           31       31    28"
      ],
      "text/html": "<div>\n<style scoped>\n    .dataframe tbody tr th:only-of-type {\n        vertical-align: middle;\n    }\n\n    .dataframe tbody tr th {\n        vertical-align: top;\n    }\n\n    .dataframe thead th {\n        text-align: right;\n    }\n</style>\n<table border=\"1\" class=\"dataframe\">\n  <thead>\n    <tr style=\"text-align: right;\">\n      <th></th>\n      <th>Женские стрижки</th>\n      <th>Мужские стрижки</th>\n      <th>Окрашивания</th>\n      <th>Укладка</th>\n      <th>Уход</th>\n    </tr>\n  </thead>\n  <tbody>\n    <tr>\n      <th>Аня</th>\n      <td>10</td>\n      <td>5</td>\n      <td>12</td>\n      <td>15</td>\n      <td>10</td>\n    </tr>\n    <tr>\n      <th>Борис</th>\n      <td>2</td>\n      <td>21</td>\n      <td>3</td>\n      <td>25</td>\n      <td>6</td>\n    </tr>\n    <tr>\n      <th>Вика</th>\n      <td>12</td>\n      <td>12</td>\n      <td>0</td>\n      <td>30</td>\n      <td>4</td>\n    </tr>\n    <tr>\n      <th>Галя</th>\n      <td>4</td>\n      <td>8</td>\n      <td>18</td>\n      <td>14</td>\n      <td>5</td>\n    </tr>\n    <tr>\n      <th>Дима</th>\n      <td>6</td>\n      <td>25</td>\n      <td>27</td>\n      <td>25</td>\n      <td>18</td>\n    </tr>\n    <tr>\n      <th>Егор</th>\n      <td>10</td>\n      <td>3</td>\n      <td>2</td>\n      <td>17</td>\n      <td>12</td>\n    </tr>\n    <tr>\n      <th>Женя</th>\n      <td>22</td>\n      <td>1</td>\n      <td>4</td>\n      <td>25</td>\n      <td>20</td>\n    </tr>\n    <tr>\n      <th>Юра</th>\n      <td>7</td>\n      <td>0</td>\n      <td>31</td>\n      <td>31</td>\n      <td>28</td>\n    </tr>\n  </tbody>\n</table>\n</div>"
     },
     "metadata": {},
     "execution_count": 107
    }
   ],
   "source": [
    "Count_DF"
   ]
  },
  {
   "cell_type": "code",
   "execution_count": 108,
   "metadata": {},
   "outputs": [
    {
     "output_type": "execute_result",
     "data": {
      "text/plain": [
       "       Женские стрижки  Мужские стрижки  Окрашивания  Укладка  Уход\n",
       "Аня                2.0              1.5          1.0      0.8   1.0\n",
       "Борис              1.8              2.5          1.0      1.0   1.0\n",
       "Вика               2.0              2.0          0.0      0.5   2.0\n",
       "Галя               1.8              1.2          2.8      0.8   2.0\n",
       "Дима               2.5              3.5          2.0      1.0   1.5\n",
       "Егор               5.0              5.0          3.0      2.0   2.5\n",
       "Женя               1.1              1.0          1.5      0.5   1.7\n",
       "Юра                4.5              4.0          2.5      1.0   2.0"
      ],
      "text/html": "<div>\n<style scoped>\n    .dataframe tbody tr th:only-of-type {\n        vertical-align: middle;\n    }\n\n    .dataframe tbody tr th {\n        vertical-align: top;\n    }\n\n    .dataframe thead th {\n        text-align: right;\n    }\n</style>\n<table border=\"1\" class=\"dataframe\">\n  <thead>\n    <tr style=\"text-align: right;\">\n      <th></th>\n      <th>Женские стрижки</th>\n      <th>Мужские стрижки</th>\n      <th>Окрашивания</th>\n      <th>Укладка</th>\n      <th>Уход</th>\n    </tr>\n  </thead>\n  <tbody>\n    <tr>\n      <th>Аня</th>\n      <td>2.0</td>\n      <td>1.5</td>\n      <td>1.0</td>\n      <td>0.8</td>\n      <td>1.0</td>\n    </tr>\n    <tr>\n      <th>Борис</th>\n      <td>1.8</td>\n      <td>2.5</td>\n      <td>1.0</td>\n      <td>1.0</td>\n      <td>1.0</td>\n    </tr>\n    <tr>\n      <th>Вика</th>\n      <td>2.0</td>\n      <td>2.0</td>\n      <td>0.0</td>\n      <td>0.5</td>\n      <td>2.0</td>\n    </tr>\n    <tr>\n      <th>Галя</th>\n      <td>1.8</td>\n      <td>1.2</td>\n      <td>2.8</td>\n      <td>0.8</td>\n      <td>2.0</td>\n    </tr>\n    <tr>\n      <th>Дима</th>\n      <td>2.5</td>\n      <td>3.5</td>\n      <td>2.0</td>\n      <td>1.0</td>\n      <td>1.5</td>\n    </tr>\n    <tr>\n      <th>Егор</th>\n      <td>5.0</td>\n      <td>5.0</td>\n      <td>3.0</td>\n      <td>2.0</td>\n      <td>2.5</td>\n    </tr>\n    <tr>\n      <th>Женя</th>\n      <td>1.1</td>\n      <td>1.0</td>\n      <td>1.5</td>\n      <td>0.5</td>\n      <td>1.7</td>\n    </tr>\n    <tr>\n      <th>Юра</th>\n      <td>4.5</td>\n      <td>4.0</td>\n      <td>2.5</td>\n      <td>1.0</td>\n      <td>2.0</td>\n    </tr>\n  </tbody>\n</table>\n</div>"
     },
     "metadata": {},
     "execution_count": 108
    }
   ],
   "source": [
    "Price_DF"
   ]
  },
  {
   "cell_type": "code",
   "execution_count": 115,
   "metadata": {},
   "outputs": [
    {
     "output_type": "execute_result",
     "data": {
      "text/plain": [
       "       Женские стрижки  Мужские стрижки  Окрашивания  Укладка  Уход\n",
       "Аня               20.0              7.5         12.0     12.0  10.0\n",
       "Борис              3.6             52.5          3.0     25.0   6.0\n",
       "Вика              24.0             24.0          0.0     15.0   8.0\n",
       "Галя               7.2              9.6         50.4     11.2  10.0\n",
       "Дима              15.0             87.5         54.0     25.0  27.0\n",
       "Егор              50.0             15.0          6.0     34.0  30.0\n",
       "Женя              24.2              1.0          6.0     12.5  34.0\n",
       "Юра               31.5              0.0         77.5     31.0  56.0"
      ],
      "text/html": "<div>\n<style scoped>\n    .dataframe tbody tr th:only-of-type {\n        vertical-align: middle;\n    }\n\n    .dataframe tbody tr th {\n        vertical-align: top;\n    }\n\n    .dataframe thead th {\n        text-align: right;\n    }\n</style>\n<table border=\"1\" class=\"dataframe\">\n  <thead>\n    <tr style=\"text-align: right;\">\n      <th></th>\n      <th>Женские стрижки</th>\n      <th>Мужские стрижки</th>\n      <th>Окрашивания</th>\n      <th>Укладка</th>\n      <th>Уход</th>\n    </tr>\n  </thead>\n  <tbody>\n    <tr>\n      <th>Аня</th>\n      <td>20.0</td>\n      <td>7.5</td>\n      <td>12.0</td>\n      <td>12.0</td>\n      <td>10.0</td>\n    </tr>\n    <tr>\n      <th>Борис</th>\n      <td>3.6</td>\n      <td>52.5</td>\n      <td>3.0</td>\n      <td>25.0</td>\n      <td>6.0</td>\n    </tr>\n    <tr>\n      <th>Вика</th>\n      <td>24.0</td>\n      <td>24.0</td>\n      <td>0.0</td>\n      <td>15.0</td>\n      <td>8.0</td>\n    </tr>\n    <tr>\n      <th>Галя</th>\n      <td>7.2</td>\n      <td>9.6</td>\n      <td>50.4</td>\n      <td>11.2</td>\n      <td>10.0</td>\n    </tr>\n    <tr>\n      <th>Дима</th>\n      <td>15.0</td>\n      <td>87.5</td>\n      <td>54.0</td>\n      <td>25.0</td>\n      <td>27.0</td>\n    </tr>\n    <tr>\n      <th>Егор</th>\n      <td>50.0</td>\n      <td>15.0</td>\n      <td>6.0</td>\n      <td>34.0</td>\n      <td>30.0</td>\n    </tr>\n    <tr>\n      <th>Женя</th>\n      <td>24.2</td>\n      <td>1.0</td>\n      <td>6.0</td>\n      <td>12.5</td>\n      <td>34.0</td>\n    </tr>\n    <tr>\n      <th>Юра</th>\n      <td>31.5</td>\n      <td>0.0</td>\n      <td>77.5</td>\n      <td>31.0</td>\n      <td>56.0</td>\n    </tr>\n  </tbody>\n</table>\n</div>"
     },
     "metadata": {},
     "execution_count": 115
    }
   ],
   "source": [
    "Profit_DF=Price_DF*Count_DF\n",
    "Profit_DF"
   ]
  },
  {
   "cell_type": "code",
   "execution_count": 116,
   "metadata": {},
   "outputs": [
    {
     "output_type": "execute_result",
     "data": {
      "text/plain": [
       "array([ 3.6, 52.5,  3. , 25. ,  6. ])"
      ]
     },
     "metadata": {},
     "execution_count": 116
    }
   ],
   "source": [
    "Profit_DF.values[1]"
   ]
  },
  {
   "cell_type": "code",
   "execution_count": 117,
   "metadata": {},
   "outputs": [],
   "source": [
    "com = [0.2, 0.2, 0.3, 0.1, 0.1]"
   ]
  },
  {
   "cell_type": "code",
   "execution_count": 126,
   "metadata": {},
   "outputs": [
    {
     "output_type": "execute_result",
     "data": {
      "text/plain": [
       "array([11.3 , 15.22, 11.9 , 20.6 , 41.9 , 21.2 , 11.49, 38.25])"
      ]
     },
     "metadata": {},
     "execution_count": 126
    }
   ],
   "source": [
    "SaloonCom_DF = Profit_DF@com\n",
    "SaloonCom_DF.values"
   ]
  },
  {
   "cell_type": "code",
   "execution_count": 160,
   "metadata": {},
   "outputs": [
    {
     "output_type": "execute_result",
     "data": {
      "text/plain": [
       "array([ 50.2 ,  74.88,  59.1 ,  67.8 , 166.6 , 113.8 ,  66.21, 157.75])"
      ]
     },
     "metadata": {},
     "execution_count": 160
    }
   ],
   "source": [
    "Profit_DF.sum(axis=1).values-SaloonCom_DF.values"
   ]
  },
  {
   "cell_type": "code",
   "execution_count": 161,
   "metadata": {},
   "outputs": [
    {
     "output_type": "execute_result",
     "data": {
      "text/plain": [
       "matrix([[1, 2],\n",
       "        [2, 5]])"
      ]
     },
     "metadata": {},
     "execution_count": 161
    }
   ],
   "source": [
    "A = np.matrix([[1,2],[2,5]])\n",
    "A"
   ]
  },
  {
   "cell_type": "code",
   "execution_count": 163,
   "metadata": {},
   "outputs": [
    {
     "output_type": "execute_result",
     "data": {
      "text/plain": [
       "matrix([[ 5., -2.],\n",
       "        [-2.,  1.]])"
      ]
     },
     "metadata": {},
     "execution_count": 163
    }
   ],
   "source": [
    "np.linalg.inv(A)"
   ]
  },
  {
   "cell_type": "code",
   "execution_count": 164,
   "metadata": {},
   "outputs": [
    {
     "output_type": "execute_result",
     "data": {
      "text/plain": [
       "(matrix([[1, 2],\n",
       "         [1, 1]]),\n",
       " matrix([[ 5, -2],\n",
       "         [-1,  4]]))"
      ]
     },
     "metadata": {},
     "execution_count": 164
    }
   ],
   "source": [
    "A=np.matrix([[1,2],[1,1]])\n",
    "B=np.matrix([[5,-2],[-1,4]])\n",
    "A,B"
   ]
  },
  {
   "cell_type": "code",
   "execution_count": 165,
   "metadata": {},
   "outputs": [
    {
     "output_type": "execute_result",
     "data": {
      "text/plain": [
       "matrix([[6, 0],\n",
       "        [0, 5]])"
      ]
     },
     "metadata": {},
     "execution_count": 165
    }
   ],
   "source": [
    "A+B"
   ]
  },
  {
   "cell_type": "code",
   "execution_count": 166,
   "metadata": {},
   "outputs": [
    {
     "output_type": "execute_result",
     "data": {
      "text/plain": [
       "matrix([[2, 0, 0],\n",
       "        [0, 1, 0],\n",
       "        [0, 0, 4]])"
      ]
     },
     "metadata": {},
     "execution_count": 166
    }
   ],
   "source": [
    "A=np.matrix([[2,0,0],[0,1,0],[0,0,4]])\n",
    "A"
   ]
  },
  {
   "cell_type": "code",
   "execution_count": 167,
   "metadata": {},
   "outputs": [
    {
     "output_type": "execute_result",
     "data": {
      "text/plain": [
       "7.999999999999998"
      ]
     },
     "metadata": {},
     "execution_count": 167
    }
   ],
   "source": [
    "np.linalg.det(A)"
   ]
  },
  {
   "cell_type": "code",
   "execution_count": 171,
   "metadata": {},
   "outputs": [
    {
     "output_type": "execute_result",
     "data": {
      "text/plain": [
       "0.12500000000000003"
      ]
     },
     "metadata": {},
     "execution_count": 171
    }
   ],
   "source": [
    "A1 = np.linalg.inv(A)\n",
    "np.linalg.det(A1)"
   ]
  },
  {
   "cell_type": "code",
   "execution_count": 176,
   "metadata": {},
   "outputs": [
    {
     "output_type": "execute_result",
     "data": {
      "text/plain": [
       "(matrix([[1, 0, 3, 5],\n",
       "         [0, 4, 5, 5],\n",
       "         [0, 0, 0, 0],\n",
       "         [0, 0, 0, 0]]),\n",
       " matrix([[1, 0, 3, 5],\n",
       "         [0, 4, 5, 5],\n",
       "         [0, 0, 0, 4],\n",
       "         [0, 0, 0, 0]]))"
      ]
     },
     "metadata": {},
     "execution_count": 176
    }
   ],
   "source": [
    "A = np.matrix([[1,0,3,5],[0,4,5,5],[0,0,0,0],[0,0,0,0]])\n",
    "B = np.matrix([[1,0,3,5],[0,4,5,5],[0,0,0,4],[0,0,0,0]])\n",
    "A, B"
   ]
  },
  {
   "cell_type": "code",
   "execution_count": 184,
   "metadata": {},
   "outputs": [
    {
     "output_type": "execute_result",
     "data": {
      "text/plain": [
       "2"
      ]
     },
     "metadata": {},
     "execution_count": 184
    }
   ],
   "source": [
    "np.linalg.matrix_rank(A)"
   ]
  },
  {
   "cell_type": "code",
   "execution_count": 185,
   "metadata": {},
   "outputs": [
    {
     "output_type": "execute_result",
     "data": {
      "text/plain": [
       "3"
      ]
     },
     "metadata": {},
     "execution_count": 185
    }
   ],
   "source": [
    "np.linalg.matrix_rank(B)"
   ]
  },
  {
   "cell_type": "code",
   "execution_count": 186,
   "metadata": {},
   "outputs": [
    {
     "output_type": "execute_result",
     "data": {
      "text/plain": [
       "array([[ 8,  6, 11],\n",
       "       [ 7,  5,  9],\n",
       "       [ 6, 10,  6]])"
      ]
     },
     "metadata": {},
     "execution_count": 186
    }
   ],
   "source": [
    "A=np.array( [[ 8 , 6 ,11],[ 7 , 5 , 9],[ 6 ,10,  6]])\n",
    "A"
   ]
  },
  {
   "cell_type": "code",
   "execution_count": 188,
   "metadata": {},
   "outputs": [
    {
     "output_type": "execute_result",
     "data": {
      "text/plain": [
       "array([[-1.875  ,  2.3125 , -0.03125],\n",
       "       [ 0.375  , -0.5625 ,  0.15625],\n",
       "       [ 1.25   , -1.375  , -0.0625 ]])"
      ]
     },
     "metadata": {},
     "execution_count": 188
    }
   ],
   "source": [
    "np.linalg.inv(A)"
   ]
  },
  {
   "cell_type": "code",
   "execution_count": 189,
   "metadata": {},
   "outputs": [],
   "source": [
    "v1 = np.array([9, 10, 7, 7, 9])\n",
    "v2 = np.array([2, 0, 5, 1, 4])\n",
    "v3 = np.array([4, 0, 0, 4, 1])\n",
    "v4 = np.array([3, -4, 3, -1, -4])"
   ]
  },
  {
   "cell_type": "code",
   "execution_count": 190,
   "metadata": {},
   "outputs": [
    {
     "output_type": "execute_result",
     "data": {
      "text/plain": [
       "matrix([[ 9, 10,  7,  7,  9],\n",
       "        [ 2,  0,  5,  1,  4],\n",
       "        [ 4,  0,  0,  4,  1],\n",
       "        [ 3, -4,  3, -1, -4]])"
      ]
     },
     "metadata": {},
     "execution_count": 190
    }
   ],
   "source": [
    "A = np.matrix([v1,v2,v3,v4])\n",
    "A"
   ]
  },
  {
   "cell_type": "code",
   "execution_count": 191,
   "metadata": {},
   "outputs": [
    {
     "output_type": "execute_result",
     "data": {
      "text/plain": [
       "4"
      ]
     },
     "metadata": {},
     "execution_count": 191
    }
   ],
   "source": [
    "np.linalg.matrix_rank(A)"
   ]
  },
  {
   "cell_type": "code",
   "execution_count": 193,
   "metadata": {},
   "outputs": [
    {
     "output_type": "execute_result",
     "data": {
      "text/plain": [
       "matrix([[360,  96,  73, -35],\n",
       "        [ 96,  46,  16,   4],\n",
       "        [ 73,  16,  33,   4],\n",
       "        [-35,   4,   4,  51]])"
      ]
     },
     "metadata": {},
     "execution_count": 193
    }
   ],
   "source": [
    "A_GR = A@A.T\n",
    "A_GR"
   ]
  },
  {
   "cell_type": "code",
   "execution_count": 195,
   "metadata": {},
   "outputs": [
    {
     "output_type": "execute_result",
     "data": {
      "text/plain": [
       "3716647.9999999995"
      ]
     },
     "metadata": {},
     "execution_count": 195
    }
   ],
   "source": [
    "np.linalg.det(A_GR)"
   ]
  },
  {
   "cell_type": "code",
   "execution_count": 196,
   "metadata": {},
   "outputs": [
    {
     "output_type": "execute_result",
     "data": {
      "text/plain": [
       "matrix([[ 0.01711488, -0.02798543, -0.02623063,  0.01599775],\n",
       "        [-0.02798543,  0.071967  ,  0.03031441, -0.02722776],\n",
       "        [-0.02623063,  0.03031441,  0.07683106, -0.02640498],\n",
       "        [ 0.01599775, -0.02722776, -0.02640498,  0.03479318]])"
      ]
     },
     "metadata": {},
     "execution_count": 196
    }
   ],
   "source": [
    "np.linalg.inv(A_GR)"
   ]
  },
  {
   "cell_type": "code",
   "execution_count": 198,
   "metadata": {},
   "outputs": [
    {
     "output_type": "execute_result",
     "data": {
      "text/plain": [
       "-31.0"
      ]
     },
     "metadata": {},
     "execution_count": 198
    }
   ],
   "source": [
    "A = np.matrix([[-2,7],[3,5]])\n",
    "np.linalg.det(A)"
   ]
  },
  {
   "cell_type": "code",
   "execution_count": 200,
   "metadata": {},
   "outputs": [
    {
     "output_type": "execute_result",
     "data": {
      "text/plain": [
       "87.0"
      ]
     },
     "metadata": {},
     "execution_count": 200
    }
   ],
   "source": [
    "B = np.matrix([[2,0,5],[1,3,16],[0,-1,10]])\n",
    "np.linalg.det(B)"
   ]
  },
  {
   "cell_type": "code",
   "execution_count": 201,
   "metadata": {},
   "outputs": [
    {
     "output_type": "execute_result",
     "data": {
      "text/plain": [
       "matrix([[ 2, -1],\n",
       "        [-1,  2]])"
      ]
     },
     "metadata": {},
     "execution_count": 201
    }
   ],
   "source": [
    "C = np.matrix([[2,-1],[-1,2]])\n",
    "C"
   ]
  },
  {
   "cell_type": "code",
   "execution_count": 204,
   "metadata": {},
   "outputs": [
    {
     "output_type": "execute_result",
     "data": {
      "text/plain": [
       "matrix([[ 1,  2,  1],\n",
       "        [ 2,  5,  6],\n",
       "        [ 3,  8, 10]])"
      ]
     },
     "metadata": {},
     "execution_count": 204
    }
   ],
   "source": [
    "A = np.matrix([[1,2,1],[2,5,6],[3,8,10]])\n",
    "A"
   ]
  },
  {
   "cell_type": "code",
   "execution_count": 205,
   "metadata": {},
   "outputs": [
    {
     "output_type": "execute_result",
     "data": {
      "text/plain": [
       "-0.9999999999999999"
      ]
     },
     "metadata": {},
     "execution_count": 205
    }
   ],
   "source": [
    "np.linalg.det(A)"
   ]
  },
  {
   "cell_type": "code",
   "execution_count": 206,
   "metadata": {},
   "outputs": [
    {
     "output_type": "execute_result",
     "data": {
      "text/plain": [
       "matrix([[ 3,  2,  1],\n",
       "        [ 1,  5,  6],\n",
       "        [ 1,  8, 10]])"
      ]
     },
     "metadata": {},
     "execution_count": 206
    }
   ],
   "source": [
    "A1 = np.matrix([[3,2,1],[1,5,6],[1,8,10]])\n",
    "A1"
   ]
  },
  {
   "cell_type": "code",
   "execution_count": 207,
   "metadata": {},
   "outputs": [
    {
     "output_type": "execute_result",
     "data": {
      "text/plain": [
       "0.9999999999999893"
      ]
     },
     "metadata": {},
     "execution_count": 207
    }
   ],
   "source": [
    "np.linalg.det(A1)"
   ]
  },
  {
   "cell_type": "code",
   "execution_count": 208,
   "metadata": {},
   "outputs": [
    {
     "output_type": "execute_result",
     "data": {
      "text/plain": [
       "matrix([[ 1,  3,  1],\n",
       "        [ 2,  1,  6],\n",
       "        [ 3,  1, 10]])"
      ]
     },
     "metadata": {},
     "execution_count": 208
    }
   ],
   "source": [
    "A2 = np.matrix([[1,3,1],[2,1,6],[3,1,10]])\n",
    "A2"
   ]
  },
  {
   "cell_type": "code",
   "execution_count": 209,
   "metadata": {},
   "outputs": [
    {
     "output_type": "execute_result",
     "data": {
      "text/plain": [
       "-2.999999999999994"
      ]
     },
     "metadata": {},
     "execution_count": 209
    }
   ],
   "source": [
    "np.linalg.det(A2)"
   ]
  },
  {
   "cell_type": "code",
   "execution_count": 210,
   "metadata": {},
   "outputs": [
    {
     "output_type": "execute_result",
     "data": {
      "text/plain": [
       "matrix([[1, 2, 3],\n",
       "        [2, 5, 1],\n",
       "        [3, 8, 1]])"
      ]
     },
     "metadata": {},
     "execution_count": 210
    }
   ],
   "source": [
    "A3 = np.matrix([[1,2,3],[2,5,1],[3,8,1]])\n",
    "A3"
   ]
  },
  {
   "cell_type": "code",
   "execution_count": 211,
   "metadata": {},
   "outputs": [
    {
     "output_type": "execute_result",
     "data": {
      "text/plain": [
       "1.999999999999998"
      ]
     },
     "metadata": {},
     "execution_count": 211
    }
   ],
   "source": [
    "np.linalg.det(A3)"
   ]
  },
  {
   "cell_type": "code",
   "execution_count": 212,
   "metadata": {},
   "outputs": [
    {
     "output_type": "execute_result",
     "data": {
      "text/plain": [
       "matrix([[ 2,  3,  0],\n",
       "        [ 3,  4,  0],\n",
       "        [ 7,  8, -4]])"
      ]
     },
     "metadata": {},
     "execution_count": 212
    }
   ],
   "source": [
    "A = np.matrix([[2,3,0],[3,4,0],[7,8,-4]])\n",
    "A"
   ]
  },
  {
   "cell_type": "code",
   "execution_count": 213,
   "metadata": {},
   "outputs": [
    {
     "output_type": "execute_result",
     "data": {
      "text/plain": [
       "4.0"
      ]
     },
     "metadata": {},
     "execution_count": 213
    }
   ],
   "source": [
    "np.linalg.det(A)"
   ]
  },
  {
   "cell_type": "code",
   "execution_count": 215,
   "metadata": {},
   "outputs": [
    {
     "output_type": "execute_result",
     "data": {
      "text/plain": [
       "matrix([[ 2,  3,  0,  2,  3],\n",
       "        [ 3,  4,  0,  3,  4],\n",
       "        [ 7,  8, -4,  7,  8]])"
      ]
     },
     "metadata": {},
     "execution_count": 215
    }
   ],
   "source": [
    "B = np.matrix([[2,3,0,2,3],[3,4,0,3,4],[7,8,-4,7,8]])\n",
    "B"
   ]
  },
  {
   "cell_type": "code",
   "execution_count": 216,
   "metadata": {},
   "outputs": [
    {
     "output_type": "execute_result",
     "data": {
      "text/plain": [
       "4"
      ]
     },
     "metadata": {},
     "execution_count": 216
    }
   ],
   "source": [
    "((2*4*-4)+(3*0*7)+(0*3*8))-((3*3*-4)+(2*0*8)+(0*4*7))"
   ]
  },
  {
   "cell_type": "code",
   "execution_count": 217,
   "metadata": {},
   "outputs": [
    {
     "output_type": "execute_result",
     "data": {
      "text/plain": [
       "matrix([[ 4,  7],\n",
       "        [ 5, 10]])"
      ]
     },
     "metadata": {},
     "execution_count": 217
    }
   ],
   "source": [
    "A = np.matrix([[4,7],[5,10]])\n",
    "A"
   ]
  },
  {
   "cell_type": "code",
   "execution_count": 234,
   "metadata": {},
   "outputs": [
    {
     "output_type": "execute_result",
     "data": {
      "text/plain": [
       "matrix([[ 2. , -1. ],\n",
       "        [-1.4,  0.8]])"
      ]
     },
     "metadata": {},
     "execution_count": 234
    }
   ],
   "source": [
    "A1 = np.linalg.inv(A)\n",
    "A1.T"
   ]
  },
  {
   "cell_type": "code",
   "execution_count": 220,
   "metadata": {},
   "outputs": [
    {
     "output_type": "execute_result",
     "data": {
      "text/plain": [
       "array([20, 30])"
      ]
     },
     "metadata": {},
     "execution_count": 220
    }
   ],
   "source": [
    "V = np.array([20,30])\n",
    "V"
   ]
  },
  {
   "cell_type": "code",
   "execution_count": 233,
   "metadata": {},
   "outputs": [
    {
     "output_type": "execute_result",
     "data": {
      "text/plain": [
       "matrix([[-2.,  4.]])"
      ]
     },
     "metadata": {},
     "execution_count": 233
    }
   ],
   "source": [
    "V*A1.T"
   ]
  },
  {
   "cell_type": "code",
   "execution_count": 275,
   "metadata": {},
   "outputs": [
    {
     "output_type": "execute_result",
     "data": {
      "text/plain": [
       "(matrix([[1, 5],\n",
       "         [2, 1],\n",
       "         [1, 1]]),\n",
       " matrix([[1, 2, 1],\n",
       "         [5, 1, 1]]))"
      ]
     },
     "metadata": {},
     "execution_count": 275
    }
   ],
   "source": [
    "A = np.matrix([[1,5],[2,1],[1,1]])\n",
    "A, A.T"
   ]
  },
  {
   "cell_type": "code",
   "execution_count": 277,
   "metadata": {},
   "outputs": [
    {
     "output_type": "execute_result",
     "data": {
      "text/plain": [
       "matrix([[1, 1]])"
      ]
     },
     "metadata": {},
     "execution_count": 277
    }
   ],
   "source": [
    "w = np.matrix([[1,1]])\n",
    "w"
   ]
  },
  {
   "cell_type": "code",
   "execution_count": 267,
   "metadata": {},
   "outputs": [
    {
     "output_type": "execute_result",
     "data": {
      "text/plain": [
       "matrix([[6, 3, 2]])"
      ]
     },
     "metadata": {},
     "execution_count": 267
    }
   ],
   "source": [
    "b = w*A.T\n",
    "b"
   ]
  },
  {
   "cell_type": "code",
   "execution_count": 265,
   "metadata": {},
   "outputs": [
    {
     "output_type": "execute_result",
     "data": {
      "text/plain": [
       "matrix([[1, 2, 2]])"
      ]
     },
     "metadata": {},
     "execution_count": 265
    }
   ],
   "source": [
    "b1 = np.matrix([[1,2,2]])\n",
    "b1"
   ]
  },
  {
   "cell_type": "code",
   "execution_count": 281,
   "metadata": {},
   "outputs": [
    {
     "output_type": "execute_result",
     "data": {
      "text/plain": [
       "(matrix([[-5, -1,  0]]), matrix([[5, 1, 0]]))"
      ]
     },
     "metadata": {},
     "execution_count": 281
    }
   ],
   "source": [
    "b1-b, b-b1"
   ]
  },
  {
   "cell_type": "code",
   "execution_count": 292,
   "metadata": {},
   "outputs": [
    {
     "output_type": "execute_result",
     "data": {
      "text/plain": [
       "matrix([[-5],\n",
       "        [-1],\n",
       "        [ 0]])"
      ]
     },
     "metadata": {},
     "execution_count": 292
    }
   ],
   "source": []
  },
  {
   "cell_type": "code",
   "execution_count": null,
   "metadata": {},
   "outputs": [],
   "source": []
  }
 ]
}