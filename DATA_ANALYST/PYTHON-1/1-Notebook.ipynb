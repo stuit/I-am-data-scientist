{
 "cells": [
  {
   "cell_type": "code",
   "execution_count": null,
   "metadata": {},
   "outputs": [],
   "source": [
    "# Это заголовок первого уровня\n",
    "## А это заголовок второго уровня\n",
    "Список:\n",
    "\n",
    "- Первый элемент списка\n",
    "\n",
    "- Второй элемент списка"
   ]
  },
  {
   "cell_type": "code",
   "execution_count": 2,
   "metadata": {},
   "outputs": [
    {
     "data": {
      "text/plain": [
       "4"
      ]
     },
     "execution_count": 2,
     "metadata": {},
     "output_type": "execute_result"
    }
   ],
   "source": [
    "2+2"
   ]
  },
  {
   "cell_type": "code",
   "execution_count": 3,
   "metadata": {},
   "outputs": [
    {
     "name": "stdout",
     "output_type": "stream",
     "text": [
      "Hello World!\n"
     ]
    }
   ],
   "source": [
    "print (\"Hello World!\")"
   ]
  },
  {
   "cell_type": "code",
   "execution_count": 4,
   "metadata": {},
   "outputs": [
    {
     "data": {
      "text/plain": [
       "17.414074767267998"
      ]
     },
     "execution_count": 4,
     "metadata": {},
     "output_type": "execute_result"
    }
   ],
   "source": [
    "(4+(5*60)-17+(65/4))**(1/2)"
   ]
  },
  {
   "cell_type": "code",
   "execution_count": 5,
   "metadata": {},
   "outputs": [
    {
     "data": {
      "text/plain": [
       "1916.7312813742387"
      ]
     },
     "execution_count": 5,
     "metadata": {},
     "output_type": "execute_result"
    }
   ],
   "source": [
    "6.996+45*((13/2)**2)+2*(18**(1/2))"
   ]
  },
  {
   "cell_type": "code",
   "execution_count": 6,
   "metadata": {},
   "outputs": [
    {
     "ename": "SyntaxError",
     "evalue": "unexpected EOF while parsing (<ipython-input-6-80d42b091f10>, line 1)",
     "output_type": "error",
     "traceback": [
      "\u001b[1;36m  File \u001b[1;32m\"<ipython-input-6-80d42b091f10>\"\u001b[1;36m, line \u001b[1;32m1\u001b[0m\n\u001b[1;33m    1267-20*(((5**3)/2)**2)/((8**5)*(36**(1/2))\u001b[0m\n\u001b[1;37m                                               ^\u001b[0m\n\u001b[1;31mSyntaxError\u001b[0m\u001b[1;31m:\u001b[0m unexpected EOF while parsing\n"
     ]
    }
   ],
   "source": [
    "1267-20*(((5**3)/2)**2)/((8**5)*(36**(1/2))"
   ]
  },
  {
   "cell_type": "code",
   "execution_count": 7,
   "metadata": {},
   "outputs": [
    {
     "data": {
      "text/plain": [
       "1266.6026357014973"
      ]
     },
     "execution_count": 7,
     "metadata": {},
     "output_type": "execute_result"
    }
   ],
   "source": [
    "1267-20*(((5**3)/2)**2)/((8**5)*(36**(1/2)))"
   ]
  },
  {
   "cell_type": "code",
   "execution_count": 10,
   "metadata": {},
   "outputs": [
    {
     "data": {
      "text/plain": [
       "-0.3909200032552083"
      ]
     },
     "execution_count": 10,
     "metadata": {},
     "output_type": "execute_result"
    }
   ],
   "source": [
    "(1267-(20*(((5**3)/2)**2)))/((8**5)*(36**(1/2)))"
   ]
  },
  {
   "cell_type": "code",
   "execution_count": 11,
   "metadata": {},
   "outputs": [
    {
     "data": {
      "text/plain": [
       "-0.3909200032552083"
      ]
     },
     "execution_count": 11,
     "metadata": {},
     "output_type": "execute_result"
    }
   ],
   "source": [
    "(1267-(20*(((5**3)/2)**2)))/((8**5)*(36**(1/2)))"
   ]
  },
  {
   "cell_type": "code",
   "execution_count": 12,
   "metadata": {},
   "outputs": [
    {
     "data": {
      "text/plain": [
       "1266.542236328125"
      ]
     },
     "execution_count": 12,
     "metadata": {},
     "output_type": "execute_result"
    }
   ],
   "source": [
    "1267-(20*((5**3)/2)*2)/8**5*(36**(1/2))"
   ]
  },
  {
   "cell_type": "code",
   "execution_count": 13,
   "metadata": {},
   "outputs": [
    {
     "data": {
      "text/plain": [
       "1266.542236328125"
      ]
     },
     "execution_count": 13,
     "metadata": {},
     "output_type": "execute_result"
    }
   ],
   "source": [
    "1267-(20*((5**3)/2)**2)/8**5*(36**(1/2))"
   ]
  },
  {
   "cell_type": "code",
   "execution_count": 14,
   "metadata": {},
   "outputs": [
    {
     "data": {
      "text/plain": [
       "6.0"
      ]
     },
     "execution_count": 14,
     "metadata": {},
     "output_type": "execute_result"
    }
   ],
   "source": [
    "36**(1/2)"
   ]
  },
  {
   "cell_type": "code",
   "execution_count": 27,
   "metadata": {},
   "outputs": [
    {
     "data": {
      "text/plain": [
       "-0.391"
      ]
     },
     "execution_count": 27,
     "metadata": {},
     "output_type": "execute_result"
    }
   ],
   "source": [
    "round((1267-(20*(((5**3)/2)**2)))/(8**5*(36**(1/2))), 3)"
   ]
  },
  {
   "cell_type": "code",
   "execution_count": 29,
   "metadata": {},
   "outputs": [
    {
     "data": {
      "text/plain": [
       "-4251528.0"
      ]
     },
     "execution_count": 29,
     "metadata": {},
     "output_type": "execute_result"
    }
   ],
   "source": [
    "((((9**(1/2))**3)**2)**2)/((-2)**(-3))"
   ]
  },
  {
   "cell_type": "code",
   "execution_count": 30,
   "metadata": {},
   "outputs": [
    {
     "data": {
      "text/plain": [
       "'hey!'"
      ]
     },
     "execution_count": 30,
     "metadata": {},
     "output_type": "execute_result"
    }
   ],
   "source": [
    "'hey'+'!'"
   ]
  },
  {
   "cell_type": "code",
   "execution_count": 1,
   "metadata": {},
   "outputs": [
    {
     "data": {
      "text/plain": [
       "2.0"
      ]
     },
     "execution_count": 1,
     "metadata": {},
     "output_type": "execute_result"
    }
   ],
   "source": [
    "4 ** (1/2)"
   ]
  },
  {
   "cell_type": "code",
   "execution_count": 3,
   "metadata": {},
   "outputs": [
    {
     "name": "stdout",
     "output_type": "stream",
     "text": [
      "Aleksey\n",
      "Сегодня Вас зовут Aleksey\n"
     ]
    }
   ],
   "source": [
    "name = input()\n",
    "print(\"Сегодня Вас зовут\", name)"
   ]
  },
  {
   "cell_type": "code",
   "execution_count": 9,
   "metadata": {},
   "outputs": [
    {
     "name": "stdout",
     "output_type": "stream",
     "text": [
      "13\n"
     ]
    }
   ],
   "source": [
    "word = 'Очаровательно'\n",
    "print(len(word))"
   ]
  },
  {
   "cell_type": "code",
   "execution_count": 16,
   "metadata": {},
   "outputs": [
    {
     "name": "stdout",
     "output_type": "stream",
     "text": [
      "2\n"
     ]
    }
   ],
   "source": [
    "a = 117\n",
    "b = 23\n",
    "print(a%b)"
   ]
  },
  {
   "cell_type": "code",
   "execution_count": 19,
   "metadata": {},
   "outputs": [
    {
     "name": "stdout",
     "output_type": "stream",
     "text": [
      "17.213006207263156\n"
     ]
    }
   ],
   "source": [
    "a=12\n",
    "b=17\n",
    "c=25\n",
    "print((a*b*c)**(1/3))"
   ]
  },
  {
   "cell_type": "code",
   "execution_count": 20,
   "metadata": {},
   "outputs": [
    {
     "name": "stdout",
     "output_type": "stream",
     "text": [
      "113628013506.996\n"
     ]
    }
   ],
   "source": [
    "#x = float(input())\n",
    "x = 100500\n",
    "print(6.996+45*((x/2)**2)+2*x)"
   ]
  },
  {
   "cell_type": "code",
   "execution_count": 21,
   "metadata": {},
   "outputs": [
    {
     "name": "stdout",
     "output_type": "stream",
     "text": [
      "24.691358024691358\n"
     ]
    }
   ],
   "source": [
    "weight=80\n",
    "height = 1.8\n",
    "print(80/(1.8**2))"
   ]
  },
  {
   "cell_type": "code",
   "execution_count": 22,
   "metadata": {},
   "outputs": [
    {
     "name": "stdout",
     "output_type": "stream",
     "text": [
      "5.209745039548078\n"
     ]
    }
   ],
   "source": [
    "a = 270\n",
    "b = 12.8\n",
    "print(((a+b)/2)**(1/3))"
   ]
  },
  {
   "cell_type": "code",
   "execution_count": 24,
   "metadata": {},
   "outputs": [
    {
     "name": "stdout",
     "output_type": "stream",
     "text": [
      "Вы ввели число, которое при умножении на 3 даёт 69\n"
     ]
    }
   ],
   "source": [
    "a=23\n",
    "print(\"Вы ввели число, которое при умножении на 3 даёт\", a*3)"
   ]
  },
  {
   "cell_type": "code",
   "execution_count": 25,
   "metadata": {},
   "outputs": [
    {
     "name": "stdout",
     "output_type": "stream",
     "text": [
      "8.88748820522211\n"
     ]
    }
   ],
   "source": [
    "string_1 = 'Hello, world!'\n",
    "string_2 = 'Python <3'\n",
    "string_3 = 'qwerty'\n",
    "print((len(string_1)*len(string_2)*len(string_3))**(1/3))"
   ]
  },
  {
   "cell_type": "code",
   "execution_count": 26,
   "metadata": {},
   "outputs": [
    {
     "name": "stdout",
     "output_type": "stream",
     "text": [
      "Привет! 7 16807\n"
     ]
    }
   ],
   "source": [
    "string = 'Привет!'\n",
    "power = 5\n",
    "print(string, len(string), len(string)**power)"
   ]
  },
  {
   "cell_type": "code",
   "execution_count": 27,
   "metadata": {},
   "outputs": [
    {
     "name": "stdout",
     "output_type": "stream",
     "text": [
      "Ого! Вы ввели редкое слово!\n"
     ]
    }
   ],
   "source": [
    "word = 'ОченьДлинноеСлово'\n",
    "if 'ф' in word:\n",
    "    print(\"Эх, это не очень редкое слово...\")\n",
    "else:\n",
    "    print(\"Ого! Вы ввели редкое слово!\")"
   ]
  },
  {
   "cell_type": "code",
   "execution_count": 34,
   "metadata": {},
   "outputs": [
    {
     "name": "stdout",
     "output_type": "stream",
     "text": [
      "True\n"
     ]
    }
   ],
   "source": [
    "number = 169\n",
    "print((number**(1/2)).is_integer())"
   ]
  },
  {
   "cell_type": "code",
   "execution_count": 38,
   "metadata": {},
   "outputs": [
    {
     "name": "stdout",
     "output_type": "stream",
     "text": [
      "13\n"
     ]
    }
   ],
   "source": [
    "number = 169\n",
    "result=number**(1/2)\n",
    "if result.is_integer():\n",
    "    print(int(result))\n",
    "else:\n",
    "    print(\"Квадратный корень из\",number ,\"- не целое число\")"
   ]
  },
  {
   "cell_type": "code",
   "execution_count": 1,
   "metadata": {},
   "outputs": [
    {
     "name": "stdout",
     "output_type": "stream",
     "text": [
      "пятница\n"
     ]
    }
   ],
   "source": [
    "number = 5\n",
    "if number == 1:\n",
    "    print('понедельник')\n",
    "elif number == 2:\n",
    "    print('вторник')\n",
    "elif number == 3:\n",
    "    print('среда')\n",
    "elif number == 4:\n",
    "    print('четверг')\n",
    "elif number == 5:\n",
    "    print('пятница')\n",
    "elif number == 6:\n",
    "    print('суббота')\n",
    "else:\n",
    "    print('воскресение')"
   ]
  },
  {
   "cell_type": "code",
   "execution_count": 6,
   "metadata": {},
   "outputs": [
    {
     "data": {
      "text/plain": [
       "29.06122448979592"
      ]
     },
     "execution_count": 6,
     "metadata": {},
     "output_type": "execute_result"
    }
   ],
   "source": [
    "89/(1.75**2)"
   ]
  },
  {
   "cell_type": "code",
   "execution_count": 9,
   "metadata": {},
   "outputs": [
    {
     "name": "stdout",
     "output_type": "stream",
     "text": [
      "Избыточная масса тела\n"
     ]
    }
   ],
   "source": [
    "weight=80\n",
    "height=1.8\n",
    "mass=weight/(height**2)\n",
    "if mass > 24.99:\n",
    "    print(\"Избыточная масса тела\")\n",
    "elif mass < 18.5:\n",
    "    print(\"Недостаточная масса тела\")\n",
    "else:\n",
    "    print(\"Норма\")"
   ]
  },
  {
   "cell_type": "code",
   "execution_count": 11,
   "metadata": {},
   "outputs": [
    {
     "name": "stdout",
     "output_type": "stream",
     "text": [
      "yes\n"
     ]
    }
   ],
   "source": [
    "mark=30\n",
    "if mark > 20 and mark < 40:\n",
    "    print('yes')"
   ]
  },
  {
   "cell_type": "code",
   "execution_count": 24,
   "metadata": {},
   "outputs": [
    {
     "name": "stdout",
     "output_type": "stream",
     "text": [
      "хорошо\n"
     ]
    }
   ],
   "source": [
    "mark=7\n",
    "if mark >= 1 and mark < 4:\n",
    "    print('неудовлетворительно')\n",
    "elif mark >= 4 and mark < 6:\n",
    "    print('удовлетворительно')\n",
    "elif mark >= 6 and mark < 8:\n",
    "    print('хорошо')\n",
    "elif mark >= 8 and mark < 11:\n",
    "    print('отлично')"
   ]
  },
  {
   "cell_type": "code",
   "execution_count": 31,
   "metadata": {},
   "outputs": [
    {
     "name": "stdout",
     "output_type": "stream",
     "text": [
      "Придётся потерпеть!\n"
     ]
    }
   ],
   "source": [
    "balance = 455\n",
    "if balance < 2500:\n",
    "    print(\"Придётся потерпеть!\")\n",
    "elif balance >= 2500 and balance < 5000:\n",
    "    print(\"Эх, только фастфуд.\")\n",
    "else:\n",
    "    print(\"Сегодня твой выбор - ресторан!\")"
   ]
  },
  {
   "cell_type": "code",
   "execution_count": 46,
   "metadata": {},
   "outputs": [
    {
     "name": "stdout",
     "output_type": "stream",
     "text": [
      "Число не делится ни на 2, ни на 3, ни на 5 без остатка!\n"
     ]
    }
   ],
   "source": [
    "number = 7\n",
    "if number%2 == 0:\n",
    "    print(\"Число делится на 2 без остатка.\")\n",
    "elif number%3 == 0:\n",
    "    print(\"Число делится на 3 без остатка.\")\n",
    "elif number%5 == 0:\n",
    "    print(\"Число делится на 5 без остатка.\")\n",
    "else:\n",
    "    print(\"Число не делится ни на 2, ни на 3, ни на 5 без остатка!\")"
   ]
  },
  {
   "cell_type": "code",
   "execution_count": 49,
   "metadata": {},
   "outputs": [
    {
     "data": {
      "text/plain": [
       "True"
      ]
     },
     "execution_count": 49,
     "metadata": {},
     "output_type": "execute_result"
    }
   ],
   "source": [
    "x = 5\n",
    "y = 10\n",
    "y > x * x or y >= 2 * x and x < y"
   ]
  },
  {
   "cell_type": "code",
   "execution_count": 50,
   "metadata": {},
   "outputs": [
    {
     "data": {
      "text/plain": [
       "False"
      ]
     },
     "execution_count": 50,
     "metadata": {},
     "output_type": "execute_result"
    }
   ],
   "source": [
    "a = True\n",
    "b = False\n",
    "a and b or not a and not b"
   ]
  },
  {
   "cell_type": "code",
   "execution_count": 51,
   "metadata": {},
   "outputs": [
    {
     "data": {
      "text/plain": [
       "True"
      ]
     },
     "execution_count": 51,
     "metadata": {},
     "output_type": "execute_result"
    }
   ],
   "source": [
    "\"239\" < \"30\" and 239 > 30"
   ]
  },
  {
   "cell_type": "code",
   "execution_count": 56,
   "metadata": {},
   "outputs": [
    {
     "data": {
      "text/plain": [
       "True"
      ]
     },
     "execution_count": 56,
     "metadata": {},
     "output_type": "execute_result"
    }
   ],
   "source": [
    "\"5a\"<\"5b\" and 123/2 > 30 or True"
   ]
  },
  {
   "cell_type": "code",
   "execution_count": 57,
   "metadata": {},
   "outputs": [
    {
     "data": {
      "text/plain": [
       "False"
      ]
     },
     "execution_count": 57,
     "metadata": {},
     "output_type": "execute_result"
    }
   ],
   "source": [
    "False and True or 12<5**2 and \"Python\" > \"Ruby\""
   ]
  },
  {
   "cell_type": "code",
   "execution_count": 58,
   "metadata": {},
   "outputs": [
    {
     "data": {
      "text/plain": [
       "True"
      ]
     },
     "execution_count": 58,
     "metadata": {},
     "output_type": "execute_result"
    }
   ],
   "source": [
    "\"Android\" > \"Apple\" or \"Apple\" > \"Android\""
   ]
  },
  {
   "cell_type": "code",
   "execution_count": 59,
   "metadata": {},
   "outputs": [
    {
     "data": {
      "text/plain": [
       "True"
      ]
     },
     "execution_count": 59,
     "metadata": {},
     "output_type": "execute_result"
    }
   ],
   "source": [
    "x = 10\n",
    "y = 15\n",
    "y > x**y - 1000 or \"test\" > \"push\""
   ]
  },
  {
   "cell_type": "code",
   "execution_count": 69,
   "metadata": {},
   "outputs": [
    {
     "name": "stdout",
     "output_type": "stream",
     "text": [
      "Аня не любит такие цветы\n"
     ]
    }
   ],
   "source": [
    "flower = 'роза'\n",
    "color = 'фиолетовый'\n",
    "if (color == 'синий' or color == 'белый') and flower == 'роза':\n",
    "    print(\"Ане понравятся эти цветы\")\n",
    "else:\n",
    "    print(\"Аня не любит такие цветы\")"
   ]
  },
  {
   "cell_type": "code",
   "execution_count": 76,
   "metadata": {},
   "outputs": [
    {
     "name": "stdout",
     "output_type": "stream",
     "text": [
      "Ваша половинка нашлась!\n"
     ]
    }
   ],
   "source": [
    "height = 180\n",
    "weight = 79\n",
    "color = 'красный'\n",
    "if height > 170 and weight < 80 and color == 'красный':\n",
    "    print(\"Ваша половинка нашлась!\")\n",
    "else:\n",
    "    print(\"Попробуем поискать ещё...\")"
   ]
  },
  {
   "cell_type": "code",
   "execution_count": 86,
   "metadata": {},
   "outputs": [
    {
     "name": "stdout",
     "output_type": "stream",
     "text": [
      "Вова, это нужное число\n"
     ]
    }
   ],
   "source": [
    "number = 821\n",
    "if number%2 == 0 or number%5 == 0 or number%173 == 0 or number%821 == 0:\n",
    "    print(\"Вова, это нужное число\")\n",
    "else:\n",
    "    print(\"Вова, в этот раз ты не попал\")"
   ]
  },
  {
   "cell_type": "code",
   "execution_count": 89,
   "metadata": {},
   "outputs": [
    {
     "name": "stdout",
     "output_type": "stream",
     "text": [
      "Ruby\n"
     ]
    }
   ],
   "source": [
    "fav_word = 'рубин'\n",
    "if fav_word in [\"плюс\", \"плюсы\"]:\n",
    "    print(\"C++\")\n",
    "elif fav_word in [\"рубин\", \"кристалл\"]:\n",
    "    print(\"Ruby\")\n",
    "else:\n",
    "    print(\"Python\")"
   ]
  },
  {
   "cell_type": "code",
   "execution_count": 114,
   "metadata": {},
   "outputs": [
    {
     "name": "stdout",
     "output_type": "stream",
     "text": [
      "Преподаватель свободен.\n"
     ]
    }
   ],
   "source": [
    "hour = 12\n",
    "minute = 30\n",
    "if (hour == 10 and minute < 30) or hour == 12 or (hour == 13 and minute < 40) or (15 <= hour < 18) or (hour == 19 and minute > 30):\n",
    "    print(\"Преподаватель свободен.\")\n",
    "else:\n",
    "    print(\"Преподаватель занят.\")"
   ]
  },
  {
   "cell_type": "code",
   "execution_count": 6,
   "metadata": {},
   "outputs": [
    {
     "name": "stdout",
     "output_type": "stream",
     "text": [
      "о\n",
      "ш\n",
      "п\n",
      "и\n"
     ]
    }
   ],
   "source": [
    "word = 'подшипник'\n",
    "for i, letter in enumerate(word):\n",
    "    if i%2 == 1:\n",
    "        print(letter)"
   ]
  },
  {
   "cell_type": "code",
   "execution_count": 12,
   "metadata": {},
   "outputs": [
    {
     "name": "stdout",
     "output_type": "stream",
     "text": [
      "2013 год невисокосный\n",
      "2014 год невисокосный\n",
      "2015 год невисокосный\n",
      "2016 год високосный\n",
      "2017 год невисокосный\n",
      "2018 год невисокосный\n",
      "2019 год невисокосный\n",
      "2020 год високосный\n"
     ]
    }
   ],
   "source": [
    "year_1 = 2013\n",
    "year_2 = 2020\n",
    "for i in range(year_1, year_2+1):\n",
    "    if i % 4 != 0 or (i % 100 == 0 and i % 400 != 0):\n",
    "        print(i, \"год невисокосный\")\n",
    "    else:\n",
    "        print(i, \"год високосный\")"
   ]
  },
  {
   "cell_type": "code",
   "execution_count": 13,
   "metadata": {},
   "outputs": [
    {
     "name": "stdout",
     "output_type": "stream",
     "text": [
      "и\n",
      "у\n",
      "а\n",
      "и\n",
      "а\n"
     ]
    }
   ],
   "source": [
    "word = 'Зимушка-зима'\n",
    "letters = 'ауоыиэяюёе'\n",
    "for i, letter in enumerate(word):\n",
    "    if letter in letters:\n",
    "        print(letter)"
   ]
  },
  {
   "cell_type": "code",
   "execution_count": 15,
   "metadata": {},
   "outputs": [
    {
     "name": "stdout",
     "output_type": "stream",
     "text": [
      "Буква 1 в этом имени - С\n",
      "Буква 2 в этом имени - е\n",
      "Буква 3 в этом имени - р\n",
      "Буква 4 в этом имени - г\n",
      "Буква 5 в этом имени - е\n",
      "Буква 6 в этом имени - й\n"
     ]
    }
   ],
   "source": [
    "name = 'Сергей'\n",
    "for i, letter in enumerate(name):\n",
    "    print(\"Буква\", i+1, \"в этом имени -\", letter)"
   ]
  },
  {
   "cell_type": "code",
   "execution_count": 18,
   "metadata": {},
   "outputs": [
    {
     "name": "stdout",
     "output_type": "stream",
     "text": [
      "25\n",
      "27\n",
      "33\n",
      "35\n",
      "39\n",
      "45\n"
     ]
    }
   ],
   "source": [
    "num_1 = 25\n",
    "num_2 = 45\n",
    "if num_1 < 0 or num_1 > num_2:\n",
    "    print(\"Введён неверный диапазон чисел\")\n",
    "else:\n",
    "    for i in range(num_1, num_2+1):\n",
    "        if i%2 == 1 and (i%3 == 0 or i%5 == 0):\n",
    "            print(i)"
   ]
  },
  {
   "cell_type": "code",
   "execution_count": 19,
   "metadata": {},
   "outputs": [
    {
     "name": "stdout",
     "output_type": "stream",
     "text": [
      "1 1 1\n",
      "2 4 8\n",
      "3 9 27\n",
      "4 16 64\n",
      "5 25 125\n",
      "6 36 216\n",
      "7 49 343\n",
      "8 64 512\n",
      "9 81 729\n",
      "10 100 1000\n"
     ]
    }
   ],
   "source": [
    "for i in range(1, 11):\n",
    "    print(i, i**2, i**3)"
   ]
  },
  {
   "cell_type": "code",
   "execution_count": 21,
   "metadata": {},
   "outputs": [
    {
     "name": "stdout",
     "output_type": "stream",
     "text": [
      "1\n",
      "2\n",
      "3\n",
      "4\n",
      "6\n",
      "7\n",
      "12\n",
      "14\n",
      "21\n",
      "28\n",
      "42\n",
      "84\n"
     ]
    }
   ],
   "source": [
    "number = 84\n",
    "for i in range(1, number+1):\n",
    "    if number%i == 0:\n",
    "        print(i)"
   ]
  },
  {
   "cell_type": "code",
   "execution_count": 23,
   "metadata": {},
   "outputs": [
    {
     "name": "stdout",
     "output_type": "stream",
     "text": [
      "2\n",
      "3\n",
      "4\n",
      "6\n",
      "12\n"
     ]
    }
   ],
   "source": [
    "num_1 = 12\n",
    "num_2 = 36\n",
    "max = num_1\n",
    "if num_2 > num_1:\n",
    "    max = num_2\n",
    "for i in range(2, max):\n",
    "    if num_1%i == 0 and num_2%i == 0:\n",
    "        print(i)"
   ]
  },
  {
   "cell_type": "code",
   "execution_count": 35,
   "metadata": {},
   "outputs": [
    {
     "name": "stdout",
     "output_type": "stream",
     "text": [
      "55\n"
     ]
    }
   ],
   "source": [
    "n = 10\n",
    "num1 = 0\n",
    "num2 = 1\n",
    "fib = 1\n",
    "for i in range(n):\n",
    "    if i==9:\n",
    "        print(fib)\n",
    "    fib = num1 + num2\n",
    "    num1 = num2\n",
    "    num2 = fib"
   ]
  },
  {
   "cell_type": "code",
   "execution_count": 36,
   "metadata": {},
   "outputs": [
    {
     "name": "stdout",
     "output_type": "stream",
     "text": [
      "15 X 1 = 15\n",
      "15 X 2 = 30\n",
      "15 X 3 = 45\n",
      "15 X 4 = 60\n",
      "15 X 5 = 75\n",
      "15 X 6 = 90\n",
      "15 X 7 = 105\n",
      "15 X 8 = 120\n",
      "15 X 9 = 135\n",
      "15 X 10 = 150\n"
     ]
    }
   ],
   "source": [
    "number = 15\n",
    "for i in range(1, 11):\n",
    "    print(number, 'X', i, '=', i*number)"
   ]
  },
  {
   "cell_type": "code",
   "execution_count": 38,
   "metadata": {},
   "outputs": [
    {
     "name": "stdout",
     "output_type": "stream",
     "text": [
      "Общих делителей не найдено\n"
     ]
    }
   ],
   "source": [
    "num_1 = 1813\n",
    "num_2 = 2500\n",
    "max = num_1\n",
    "if num_2 > num_1:\n",
    "    max = num_2\n",
    "for i in range(2, max+1):\n",
    "    if num_1%i == 0 and num_2%i == 0:\n",
    "        print(i)\n",
    "        break\n",
    "else:\n",
    "    print(\"Общих делителей не найдено\")"
   ]
  },
  {
   "cell_type": "code",
   "execution_count": 39,
   "metadata": {},
   "outputs": [
    {
     "name": "stdout",
     "output_type": "stream",
     "text": [
      "4\n"
     ]
    }
   ],
   "source": [
    "num_1 = 1812\n",
    "num_2 = 2500\n",
    "max = 0\n",
    "len = num_1\n",
    "if num_2 > num_1:\n",
    "    len = num_2\n",
    "for i in range(2, len+1):\n",
    "    if num_1%i == 0 and num_2%i == 0:\n",
    "        max = i\n",
    "else:\n",
    "    if max != 0:\n",
    "        print(max)\n",
    "    else:\n",
    "        print(\"Общих делителей не найдено\")"
   ]
  },
  {
   "cell_type": "code",
   "execution_count": 40,
   "metadata": {},
   "outputs": [
    {
     "name": "stdout",
     "output_type": "stream",
     "text": [
      "стркция"
     ]
    }
   ],
   "source": [
    "string = 'абстракция'\n",
    "for i, letter in enumerate(string):\n",
    "    if letter in [\"а\", \"б\", \"в\"]:\n",
    "        continue\n",
    "    print(letter, end='')"
   ]
  },
  {
   "cell_type": "code",
   "execution_count": 43,
   "metadata": {},
   "outputs": [
    {
     "name": "stdout",
     "output_type": "stream",
     "text": [
      "Увы, это неправильный ответ\n",
      "Увы, это неправильный ответ\n",
      "Увы, это неправильный ответ\n",
      "Увы, это неправильный ответ\n",
      "Увы, это неправильный ответ\n",
      "Это безнадёжно!\n"
     ]
    }
   ],
   "source": [
    "string = 'Нет'\n",
    "for i in range(5):\n",
    "    if string == 'Да':\n",
    "        print(\"Это отлично!\")\n",
    "        break\n",
    "    else:\n",
    "        print(\"Увы, это неправильный ответ\")\n",
    "else:\n",
    "    print(\"Это безнадёжно!\")"
   ]
  },
  {
   "cell_type": "code",
   "execution_count": 46,
   "metadata": {},
   "outputs": [
    {
     "name": "stdout",
     "output_type": "stream",
     "text": [
      "Не является простым\n"
     ]
    }
   ],
   "source": [
    "number = 4\n",
    "for i in range(1, number+1):\n",
    "    if number%i == 0 and i != 1 and i != number:\n",
    "        print(\"Не является простым\")\n",
    "        break\n",
    "else:\n",
    "    print(\"Простое\")"
   ]
  },
  {
   "cell_type": "code",
   "execution_count": 52,
   "metadata": {},
   "outputs": [
    {
     "name": "stdout",
     "output_type": "stream",
     "text": [
      "Строка мне не нравится!\n"
     ]
    }
   ],
   "source": [
    "string = 'прелестная строка'\n",
    "letters = 'ауоыиэяюёе'\n",
    "for i, letter in enumerate(string):\n",
    "    if i%2 == 0 and (letter in letters):\n",
    "        print(\"Строка мне не нравится!\")\n",
    "        break\n",
    "else:\n",
    "    print(\"Какая хорошая строка!\")"
   ]
  },
  {
   "cell_type": "code",
   "execution_count": 56,
   "metadata": {},
   "outputs": [
    {
     "name": "stdout",
     "output_type": "stream",
     "text": [
      "19\n"
     ]
    }
   ],
   "source": [
    "Y = 170000\n",
    "Z = 1000000\n",
    "year=0\n",
    "while Y < Z:\n",
    "    Y += Y*.1\n",
    "    year += 1\n",
    "else:\n",
    "    print(year)"
   ]
  },
  {
   "cell_type": "code",
   "execution_count": 57,
   "metadata": {},
   "outputs": [
    {
     "name": "stdout",
     "output_type": "stream",
     "text": [
      "Перевес 62 кг\n"
     ]
    }
   ],
   "source": [
    "weight = 77\n",
    "total=0\n",
    "while total < 400:\n",
    "    total += weight\n",
    "else:\n",
    "    print(\"Перевес\", total-400, \"кг\")"
   ]
  },
  {
   "cell_type": "code",
   "execution_count": 58,
   "metadata": {},
   "outputs": [
    {
     "name": "stdout",
     "output_type": "stream",
     "text": [
      "7\n"
     ]
    }
   ],
   "source": [
    "attack = 80\n",
    "current_health = 500\n",
    "time=0\n",
    "while current_health > 0:\n",
    "    time += 1\n",
    "    current_health -= attack\n",
    "else:\n",
    "    print(time)"
   ]
  },
  {
   "cell_type": "code",
   "execution_count": 59,
   "metadata": {},
   "outputs": [
    {
     "name": "stdout",
     "output_type": "stream",
     "text": [
      "10000\n",
      "7200\n",
      "4400\n",
      "1600\n",
      "Слишком большие расходы\n"
     ]
    }
   ],
   "source": [
    "spent = 2800\n",
    "balance = 10000\n",
    "while balance > 0:\n",
    "    print(balance)\n",
    "    balance -= spent\n",
    "else:\n",
    "    print(\"Слишком большие расходы\")"
   ]
  },
  {
   "cell_type": "code",
   "execution_count": 60,
   "metadata": {},
   "outputs": [
    {
     "name": "stdout",
     "output_type": "stream",
     "text": [
      "20\n"
     ]
    }
   ],
   "source": [
    "volume = 1000\n",
    "litre=0\n",
    "tries=0\n",
    "while volume > 0:\n",
    "    litre += 5\n",
    "    volume -= litre\n",
    "    tries += 1\n",
    "else:\n",
    "    print(tries)"
   ]
  },
  {
   "cell_type": "code",
   "execution_count": 68,
   "metadata": {},
   "outputs": [
    {
     "data": {
      "text/plain": [
       "'heyblye'"
      ]
     },
     "execution_count": 68,
     "metadata": {},
     "output_type": "execute_result"
    }
   ],
   "source": [
    "\"hey\" + \"blye\""
   ]
  },
  {
   "cell_type": "code",
   "execution_count": null,
   "metadata": {},
   "outputs": [],
   "source": []
  }
 ],
 "metadata": {
  "kernelspec": {
   "display_name": "Python 3",
   "language": "python",
   "name": "python3"
  },
  "language_info": {
   "codemirror_mode": {
    "name": "ipython",
    "version": 3
   },
   "file_extension": ".py",
   "mimetype": "text/x-python",
   "name": "python",
   "nbconvert_exporter": "python",
   "pygments_lexer": "ipython3",
   "version": "3.8.3"
  }
 },
 "nbformat": 4,
 "nbformat_minor": 4
}
