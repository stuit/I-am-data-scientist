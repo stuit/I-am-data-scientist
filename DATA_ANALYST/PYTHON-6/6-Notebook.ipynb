{
 "metadata": {
  "language_info": {
   "codemirror_mode": {
    "name": "ipython",
    "version": 3
   },
   "file_extension": ".py",
   "mimetype": "text/x-python",
   "name": "python",
   "nbconvert_exporter": "python",
   "pygments_lexer": "ipython3",
   "version": "3.6.3-final"
  },
  "orig_nbformat": 2,
  "kernelspec": {
   "name": "python3",
   "display_name": "Python 3.6.3 64-bit ('.venv')",
   "metadata": {
    "interpreter": {
     "hash": "a6730fb0a06c18af636869813f8eb69d9f4a51b49b9b87b39aeaf81c3d64a67b"
    }
   }
  }
 },
 "nbformat": 4,
 "nbformat_minor": 2,
 "cells": [
  {
   "cell_type": "code",
   "execution_count": 1,
   "metadata": {},
   "outputs": [
    {
     "output_type": "display_data",
     "data": {
      "text/plain": "       Unnamed: 0                Name  Age Nationality                 Club  \\\n0               0            L. Messi   31   Argentina         FC Barcelona   \n1               1   Cristiano Ronaldo   33    Portugal             Juventus   \n2               2           Neymar Jr   26      Brazil  Paris Saint-Germain   \n3               3              De Gea   27       Spain    Manchester United   \n4               4        K. De Bruyne   27     Belgium      Manchester City   \n...           ...                 ...  ...         ...                  ...   \n12892       13121        J. Lundstram   19     England      Crewe Alexandra   \n12893       13122  N. Christoffersson   19      Sweden       Trelleborgs FF   \n12894       13123           B. Worman   16     England     Cambridge United   \n12895       13124      D. Walker-Rice   17     England      Tranmere Rovers   \n12896       13125           G. Nugent   16     England      Tranmere Rovers   \n\n           Value    Wage Position  Crossing  Finishing  ...  Penalties  \\\n0      110500000  565000       RF        84         95  ...         75   \n1       77000000  405000       ST        84         94  ...         85   \n2      118500000  290000       LW        79         87  ...         81   \n3       72000000  260000       GK        17         13  ...         40   \n4      102000000  355000      RCM        93         82  ...         79   \n...          ...     ...      ...       ...        ...  ...        ...   \n12892    1100000    1000       CM        34         38  ...         43   \n12893      60000    1000       ST        23         52  ...         43   \n12894      60000    1000       ST        25         40  ...         55   \n12895      60000    1000       RW        44         50  ...         50   \n12896      60000    1000       CM        41         34  ...         33   \n\n       Composure  Marking  StandingTackle  SlidingTackle  GKDiving  \\\n0             96       33              28             26         6   \n1             95       28              31             23         7   \n2             94       27              24             33         9   \n3             68       15              21             13        90   \n4             88       68              58             51        15   \n...          ...      ...             ...            ...       ...   \n12892         45       40              48             47        10   \n12893         42       22              15             19        10   \n12894         41       32              13             11         6   \n12895         46       20              25             27        14   \n12896         43       40              43             50        10   \n\n       GKHandling  GKKicking  GKPositioning  GKReflexes  \n0              11         15             14           8  \n1              11         15             14          11  \n2               9         15             15          11  \n3              85         87             88          94  \n4              13          5             10          13  \n...           ...        ...            ...         ...  \n12892          13          7              8           9  \n12893           9          9              5          12  \n12894           5         10              6          13  \n12895           6         14              8           9  \n12896          15          9             12           9  \n\n[12897 rows x 42 columns]",
      "text/html": "<div>\n<style scoped>\n    .dataframe tbody tr th:only-of-type {\n        vertical-align: middle;\n    }\n\n    .dataframe tbody tr th {\n        vertical-align: top;\n    }\n\n    .dataframe thead th {\n        text-align: right;\n    }\n</style>\n<table border=\"1\" class=\"dataframe\">\n  <thead>\n    <tr style=\"text-align: right;\">\n      <th></th>\n      <th>Unnamed: 0</th>\n      <th>Name</th>\n      <th>Age</th>\n      <th>Nationality</th>\n      <th>Club</th>\n      <th>Value</th>\n      <th>Wage</th>\n      <th>Position</th>\n      <th>Crossing</th>\n      <th>Finishing</th>\n      <th>...</th>\n      <th>Penalties</th>\n      <th>Composure</th>\n      <th>Marking</th>\n      <th>StandingTackle</th>\n      <th>SlidingTackle</th>\n      <th>GKDiving</th>\n      <th>GKHandling</th>\n      <th>GKKicking</th>\n      <th>GKPositioning</th>\n      <th>GKReflexes</th>\n    </tr>\n  </thead>\n  <tbody>\n    <tr>\n      <th>0</th>\n      <td>0</td>\n      <td>L. Messi</td>\n      <td>31</td>\n      <td>Argentina</td>\n      <td>FC Barcelona</td>\n      <td>110500000</td>\n      <td>565000</td>\n      <td>RF</td>\n      <td>84</td>\n      <td>95</td>\n      <td>...</td>\n      <td>75</td>\n      <td>96</td>\n      <td>33</td>\n      <td>28</td>\n      <td>26</td>\n      <td>6</td>\n      <td>11</td>\n      <td>15</td>\n      <td>14</td>\n      <td>8</td>\n    </tr>\n    <tr>\n      <th>1</th>\n      <td>1</td>\n      <td>Cristiano Ronaldo</td>\n      <td>33</td>\n      <td>Portugal</td>\n      <td>Juventus</td>\n      <td>77000000</td>\n      <td>405000</td>\n      <td>ST</td>\n      <td>84</td>\n      <td>94</td>\n      <td>...</td>\n      <td>85</td>\n      <td>95</td>\n      <td>28</td>\n      <td>31</td>\n      <td>23</td>\n      <td>7</td>\n      <td>11</td>\n      <td>15</td>\n      <td>14</td>\n      <td>11</td>\n    </tr>\n    <tr>\n      <th>2</th>\n      <td>2</td>\n      <td>Neymar Jr</td>\n      <td>26</td>\n      <td>Brazil</td>\n      <td>Paris Saint-Germain</td>\n      <td>118500000</td>\n      <td>290000</td>\n      <td>LW</td>\n      <td>79</td>\n      <td>87</td>\n      <td>...</td>\n      <td>81</td>\n      <td>94</td>\n      <td>27</td>\n      <td>24</td>\n      <td>33</td>\n      <td>9</td>\n      <td>9</td>\n      <td>15</td>\n      <td>15</td>\n      <td>11</td>\n    </tr>\n    <tr>\n      <th>3</th>\n      <td>3</td>\n      <td>De Gea</td>\n      <td>27</td>\n      <td>Spain</td>\n      <td>Manchester United</td>\n      <td>72000000</td>\n      <td>260000</td>\n      <td>GK</td>\n      <td>17</td>\n      <td>13</td>\n      <td>...</td>\n      <td>40</td>\n      <td>68</td>\n      <td>15</td>\n      <td>21</td>\n      <td>13</td>\n      <td>90</td>\n      <td>85</td>\n      <td>87</td>\n      <td>88</td>\n      <td>94</td>\n    </tr>\n    <tr>\n      <th>4</th>\n      <td>4</td>\n      <td>K. De Bruyne</td>\n      <td>27</td>\n      <td>Belgium</td>\n      <td>Manchester City</td>\n      <td>102000000</td>\n      <td>355000</td>\n      <td>RCM</td>\n      <td>93</td>\n      <td>82</td>\n      <td>...</td>\n      <td>79</td>\n      <td>88</td>\n      <td>68</td>\n      <td>58</td>\n      <td>51</td>\n      <td>15</td>\n      <td>13</td>\n      <td>5</td>\n      <td>10</td>\n      <td>13</td>\n    </tr>\n    <tr>\n      <th>...</th>\n      <td>...</td>\n      <td>...</td>\n      <td>...</td>\n      <td>...</td>\n      <td>...</td>\n      <td>...</td>\n      <td>...</td>\n      <td>...</td>\n      <td>...</td>\n      <td>...</td>\n      <td>...</td>\n      <td>...</td>\n      <td>...</td>\n      <td>...</td>\n      <td>...</td>\n      <td>...</td>\n      <td>...</td>\n      <td>...</td>\n      <td>...</td>\n      <td>...</td>\n      <td>...</td>\n    </tr>\n    <tr>\n      <th>12892</th>\n      <td>13121</td>\n      <td>J. Lundstram</td>\n      <td>19</td>\n      <td>England</td>\n      <td>Crewe Alexandra</td>\n      <td>1100000</td>\n      <td>1000</td>\n      <td>CM</td>\n      <td>34</td>\n      <td>38</td>\n      <td>...</td>\n      <td>43</td>\n      <td>45</td>\n      <td>40</td>\n      <td>48</td>\n      <td>47</td>\n      <td>10</td>\n      <td>13</td>\n      <td>7</td>\n      <td>8</td>\n      <td>9</td>\n    </tr>\n    <tr>\n      <th>12893</th>\n      <td>13122</td>\n      <td>N. Christoffersson</td>\n      <td>19</td>\n      <td>Sweden</td>\n      <td>Trelleborgs FF</td>\n      <td>60000</td>\n      <td>1000</td>\n      <td>ST</td>\n      <td>23</td>\n      <td>52</td>\n      <td>...</td>\n      <td>43</td>\n      <td>42</td>\n      <td>22</td>\n      <td>15</td>\n      <td>19</td>\n      <td>10</td>\n      <td>9</td>\n      <td>9</td>\n      <td>5</td>\n      <td>12</td>\n    </tr>\n    <tr>\n      <th>12894</th>\n      <td>13123</td>\n      <td>B. Worman</td>\n      <td>16</td>\n      <td>England</td>\n      <td>Cambridge United</td>\n      <td>60000</td>\n      <td>1000</td>\n      <td>ST</td>\n      <td>25</td>\n      <td>40</td>\n      <td>...</td>\n      <td>55</td>\n      <td>41</td>\n      <td>32</td>\n      <td>13</td>\n      <td>11</td>\n      <td>6</td>\n      <td>5</td>\n      <td>10</td>\n      <td>6</td>\n      <td>13</td>\n    </tr>\n    <tr>\n      <th>12895</th>\n      <td>13124</td>\n      <td>D. Walker-Rice</td>\n      <td>17</td>\n      <td>England</td>\n      <td>Tranmere Rovers</td>\n      <td>60000</td>\n      <td>1000</td>\n      <td>RW</td>\n      <td>44</td>\n      <td>50</td>\n      <td>...</td>\n      <td>50</td>\n      <td>46</td>\n      <td>20</td>\n      <td>25</td>\n      <td>27</td>\n      <td>14</td>\n      <td>6</td>\n      <td>14</td>\n      <td>8</td>\n      <td>9</td>\n    </tr>\n    <tr>\n      <th>12896</th>\n      <td>13125</td>\n      <td>G. Nugent</td>\n      <td>16</td>\n      <td>England</td>\n      <td>Tranmere Rovers</td>\n      <td>60000</td>\n      <td>1000</td>\n      <td>CM</td>\n      <td>41</td>\n      <td>34</td>\n      <td>...</td>\n      <td>33</td>\n      <td>43</td>\n      <td>40</td>\n      <td>43</td>\n      <td>50</td>\n      <td>10</td>\n      <td>15</td>\n      <td>9</td>\n      <td>12</td>\n      <td>9</td>\n    </tr>\n  </tbody>\n</table>\n<p>12897 rows × 42 columns</p>\n</div>"
     },
     "metadata": {}
    }
   ],
   "source": [
    "import pandas as pd\n",
    "df = pd.read_csv(\"data_sf.csv\")\n",
    "display(df)"
   ]
  },
  {
   "cell_type": "code",
   "execution_count": 2,
   "metadata": {},
   "outputs": [
    {
     "output_type": "execute_result",
     "data": {
      "text/plain": [
       "                 Name  Age Nationality                 Club      Value  \\\n",
       "0            L. Messi   31   Argentina         FC Barcelona  110500000   \n",
       "1   Cristiano Ronaldo   33    Portugal             Juventus   77000000   \n",
       "2           Neymar Jr   26      Brazil  Paris Saint-Germain  118500000   \n",
       "3              De Gea   27       Spain    Manchester United   72000000   \n",
       "4        K. De Bruyne   27     Belgium      Manchester City  102000000   \n",
       "5           E. Hazard   27     Belgium              Chelsea   93000000   \n",
       "6           L. Modrić   32     Croatia          Real Madrid   67000000   \n",
       "7           L. Suárez   31     Uruguay         FC Barcelona   80000000   \n",
       "8        Sergio Ramos   32       Spain          Real Madrid   51000000   \n",
       "9            J. Oblak   25    Slovenia      Atlético Madrid   68000000   \n",
       "10     R. Lewandowski   29      Poland    FC Bayern München   77000000   \n",
       "11           T. Kroos   28     Germany          Real Madrid   76500000   \n",
       "12           D. Godín   32     Uruguay      Atlético Madrid   44000000   \n",
       "13        David Silva   32       Spain      Manchester City   60000000   \n",
       "14           N. Kanté   27      France              Chelsea   63000000   \n",
       "15          P. Dybala   24   Argentina             Juventus   89000000   \n",
       "16            H. Kane   24     England    Tottenham Hotspur   83500000   \n",
       "17       A. Griezmann   27      France      Atlético Madrid   78000000   \n",
       "18      M. ter Stegen   26     Germany         FC Barcelona   58000000   \n",
       "19        T. Courtois   26     Belgium          Real Madrid   53500000   \n",
       "20    Sergio Busquets   29       Spain         FC Barcelona   51500000   \n",
       "21          E. Cavani   31     Uruguay  Paris Saint-Germain   60000000   \n",
       "22           M. Neuer   32     Germany    FC Bayern München   38000000   \n",
       "23          S. Agüero   30   Argentina      Manchester City   64500000   \n",
       "24       G. Chiellini   33       Italy             Juventus   27000000   \n",
       "\n",
       "      Wage Position  \n",
       "0   565000       RF  \n",
       "1   405000       ST  \n",
       "2   290000       LW  \n",
       "3   260000       GK  \n",
       "4   355000      RCM  \n",
       "5   340000       LF  \n",
       "6   420000      RCM  \n",
       "7   455000       RS  \n",
       "8   380000      RCB  \n",
       "9    94000       GK  \n",
       "10  205000       ST  \n",
       "11  355000      LCM  \n",
       "12  125000       CB  \n",
       "13  285000      LCM  \n",
       "14  225000      LDM  \n",
       "15  205000       LF  \n",
       "16  205000       ST  \n",
       "17  145000      CAM  \n",
       "18  240000       GK  \n",
       "19  240000       GK  \n",
       "20  315000      CDM  \n",
       "21  200000       LS  \n",
       "22  130000       GK  \n",
       "23  300000       ST  \n",
       "24  215000      LCB  "
      ],
      "text/html": "<div>\n<style scoped>\n    .dataframe tbody tr th:only-of-type {\n        vertical-align: middle;\n    }\n\n    .dataframe tbody tr th {\n        vertical-align: top;\n    }\n\n    .dataframe thead th {\n        text-align: right;\n    }\n</style>\n<table border=\"1\" class=\"dataframe\">\n  <thead>\n    <tr style=\"text-align: right;\">\n      <th></th>\n      <th>Name</th>\n      <th>Age</th>\n      <th>Nationality</th>\n      <th>Club</th>\n      <th>Value</th>\n      <th>Wage</th>\n      <th>Position</th>\n    </tr>\n  </thead>\n  <tbody>\n    <tr>\n      <th>0</th>\n      <td>L. Messi</td>\n      <td>31</td>\n      <td>Argentina</td>\n      <td>FC Barcelona</td>\n      <td>110500000</td>\n      <td>565000</td>\n      <td>RF</td>\n    </tr>\n    <tr>\n      <th>1</th>\n      <td>Cristiano Ronaldo</td>\n      <td>33</td>\n      <td>Portugal</td>\n      <td>Juventus</td>\n      <td>77000000</td>\n      <td>405000</td>\n      <td>ST</td>\n    </tr>\n    <tr>\n      <th>2</th>\n      <td>Neymar Jr</td>\n      <td>26</td>\n      <td>Brazil</td>\n      <td>Paris Saint-Germain</td>\n      <td>118500000</td>\n      <td>290000</td>\n      <td>LW</td>\n    </tr>\n    <tr>\n      <th>3</th>\n      <td>De Gea</td>\n      <td>27</td>\n      <td>Spain</td>\n      <td>Manchester United</td>\n      <td>72000000</td>\n      <td>260000</td>\n      <td>GK</td>\n    </tr>\n    <tr>\n      <th>4</th>\n      <td>K. De Bruyne</td>\n      <td>27</td>\n      <td>Belgium</td>\n      <td>Manchester City</td>\n      <td>102000000</td>\n      <td>355000</td>\n      <td>RCM</td>\n    </tr>\n    <tr>\n      <th>5</th>\n      <td>E. Hazard</td>\n      <td>27</td>\n      <td>Belgium</td>\n      <td>Chelsea</td>\n      <td>93000000</td>\n      <td>340000</td>\n      <td>LF</td>\n    </tr>\n    <tr>\n      <th>6</th>\n      <td>L. Modrić</td>\n      <td>32</td>\n      <td>Croatia</td>\n      <td>Real Madrid</td>\n      <td>67000000</td>\n      <td>420000</td>\n      <td>RCM</td>\n    </tr>\n    <tr>\n      <th>7</th>\n      <td>L. Suárez</td>\n      <td>31</td>\n      <td>Uruguay</td>\n      <td>FC Barcelona</td>\n      <td>80000000</td>\n      <td>455000</td>\n      <td>RS</td>\n    </tr>\n    <tr>\n      <th>8</th>\n      <td>Sergio Ramos</td>\n      <td>32</td>\n      <td>Spain</td>\n      <td>Real Madrid</td>\n      <td>51000000</td>\n      <td>380000</td>\n      <td>RCB</td>\n    </tr>\n    <tr>\n      <th>9</th>\n      <td>J. Oblak</td>\n      <td>25</td>\n      <td>Slovenia</td>\n      <td>Atlético Madrid</td>\n      <td>68000000</td>\n      <td>94000</td>\n      <td>GK</td>\n    </tr>\n    <tr>\n      <th>10</th>\n      <td>R. Lewandowski</td>\n      <td>29</td>\n      <td>Poland</td>\n      <td>FC Bayern München</td>\n      <td>77000000</td>\n      <td>205000</td>\n      <td>ST</td>\n    </tr>\n    <tr>\n      <th>11</th>\n      <td>T. Kroos</td>\n      <td>28</td>\n      <td>Germany</td>\n      <td>Real Madrid</td>\n      <td>76500000</td>\n      <td>355000</td>\n      <td>LCM</td>\n    </tr>\n    <tr>\n      <th>12</th>\n      <td>D. Godín</td>\n      <td>32</td>\n      <td>Uruguay</td>\n      <td>Atlético Madrid</td>\n      <td>44000000</td>\n      <td>125000</td>\n      <td>CB</td>\n    </tr>\n    <tr>\n      <th>13</th>\n      <td>David Silva</td>\n      <td>32</td>\n      <td>Spain</td>\n      <td>Manchester City</td>\n      <td>60000000</td>\n      <td>285000</td>\n      <td>LCM</td>\n    </tr>\n    <tr>\n      <th>14</th>\n      <td>N. Kanté</td>\n      <td>27</td>\n      <td>France</td>\n      <td>Chelsea</td>\n      <td>63000000</td>\n      <td>225000</td>\n      <td>LDM</td>\n    </tr>\n    <tr>\n      <th>15</th>\n      <td>P. Dybala</td>\n      <td>24</td>\n      <td>Argentina</td>\n      <td>Juventus</td>\n      <td>89000000</td>\n      <td>205000</td>\n      <td>LF</td>\n    </tr>\n    <tr>\n      <th>16</th>\n      <td>H. Kane</td>\n      <td>24</td>\n      <td>England</td>\n      <td>Tottenham Hotspur</td>\n      <td>83500000</td>\n      <td>205000</td>\n      <td>ST</td>\n    </tr>\n    <tr>\n      <th>17</th>\n      <td>A. Griezmann</td>\n      <td>27</td>\n      <td>France</td>\n      <td>Atlético Madrid</td>\n      <td>78000000</td>\n      <td>145000</td>\n      <td>CAM</td>\n    </tr>\n    <tr>\n      <th>18</th>\n      <td>M. ter Stegen</td>\n      <td>26</td>\n      <td>Germany</td>\n      <td>FC Barcelona</td>\n      <td>58000000</td>\n      <td>240000</td>\n      <td>GK</td>\n    </tr>\n    <tr>\n      <th>19</th>\n      <td>T. Courtois</td>\n      <td>26</td>\n      <td>Belgium</td>\n      <td>Real Madrid</td>\n      <td>53500000</td>\n      <td>240000</td>\n      <td>GK</td>\n    </tr>\n    <tr>\n      <th>20</th>\n      <td>Sergio Busquets</td>\n      <td>29</td>\n      <td>Spain</td>\n      <td>FC Barcelona</td>\n      <td>51500000</td>\n      <td>315000</td>\n      <td>CDM</td>\n    </tr>\n    <tr>\n      <th>21</th>\n      <td>E. Cavani</td>\n      <td>31</td>\n      <td>Uruguay</td>\n      <td>Paris Saint-Germain</td>\n      <td>60000000</td>\n      <td>200000</td>\n      <td>LS</td>\n    </tr>\n    <tr>\n      <th>22</th>\n      <td>M. Neuer</td>\n      <td>32</td>\n      <td>Germany</td>\n      <td>FC Bayern München</td>\n      <td>38000000</td>\n      <td>130000</td>\n      <td>GK</td>\n    </tr>\n    <tr>\n      <th>23</th>\n      <td>S. Agüero</td>\n      <td>30</td>\n      <td>Argentina</td>\n      <td>Manchester City</td>\n      <td>64500000</td>\n      <td>300000</td>\n      <td>ST</td>\n    </tr>\n    <tr>\n      <th>24</th>\n      <td>G. Chiellini</td>\n      <td>33</td>\n      <td>Italy</td>\n      <td>Juventus</td>\n      <td>27000000</td>\n      <td>215000</td>\n      <td>LCB</td>\n    </tr>\n  </tbody>\n</table>\n</div>"
     },
     "metadata": {},
     "execution_count": 2
    }
   ],
   "source": [
    "small_df = df[df.columns[1:8]].head(25)\n",
    "small_df"
   ]
  },
  {
   "cell_type": "code",
   "execution_count": 3,
   "metadata": {},
   "outputs": [
    {
     "output_type": "display_data",
     "data": {
      "text/plain": "Spain        4\nBelgium      3\nUruguay      3\nArgentina    3\nGermany      3\nFrance       2\nCroatia      1\nPortugal     1\nPoland       1\nSlovenia     1\nItaly        1\nEngland      1\nBrazil       1\nName: Nationality, dtype: int64"
     },
     "metadata": {}
    }
   ],
   "source": [
    "s = small_df['Nationality'].value_counts()\n",
    "display(s)"
   ]
  },
  {
   "cell_type": "code",
   "execution_count": 4,
   "metadata": {},
   "outputs": [
    {
     "output_type": "execute_result",
     "data": {
      "text/plain": [
       "Index(['Spain', 'Belgium', 'Uruguay', 'Argentina', 'Germany', 'France',\n",
       "       'Croatia', 'Portugal', 'Poland', 'Slovenia', 'Italy', 'England',\n",
       "       'Brazil'],\n",
       "      dtype='object')"
      ]
     },
     "metadata": {},
     "execution_count": 4
    }
   ],
   "source": [
    "s.index"
   ]
  },
  {
   "cell_type": "code",
   "execution_count": 5,
   "metadata": {},
   "outputs": [
    {
     "output_type": "execute_result",
     "data": {
      "text/plain": [
       "3"
      ]
     },
     "metadata": {},
     "execution_count": 5
    }
   ],
   "source": [
    "s['Germany']"
   ]
  },
  {
   "cell_type": "code",
   "execution_count": 6,
   "metadata": {},
   "outputs": [
    {
     "output_type": "execute_result",
     "data": {
      "text/plain": [
       "Spain        4\n",
       "Belgium      3\n",
       "Uruguay      3\n",
       "Argentina    3\n",
       "Germany      3\n",
       "France       2\n",
       "Name: Nationality, dtype: int64"
      ]
     },
     "metadata": {},
     "execution_count": 6
    }
   ],
   "source": [
    "s.loc[s > 1]"
   ]
  },
  {
   "cell_type": "code",
   "execution_count": 16,
   "metadata": {},
   "outputs": [
    {
     "output_type": "execute_result",
     "data": {
      "text/plain": [
       "10"
      ]
     },
     "metadata": {},
     "execution_count": 16
    }
   ],
   "source": [
    "small_df.Club.value_counts().count()"
   ]
  },
  {
   "cell_type": "code",
   "execution_count": 17,
   "metadata": {},
   "outputs": [
    {
     "output_type": "execute_result",
     "data": {
      "text/plain": [
       "650"
      ]
     },
     "metadata": {},
     "execution_count": 17
    }
   ],
   "source": [
    "df.Club.value_counts().count()"
   ]
  },
  {
   "cell_type": "code",
   "execution_count": 18,
   "metadata": {},
   "outputs": [
    {
     "output_type": "execute_result",
     "data": {
      "text/plain": [
       "Shonan Bellmare      30\n",
       "V-Varen Nagasaki     30\n",
       "De Graafschap        29\n",
       "Padova               29\n",
       "FC Emmen             29\n",
       "                     ..\n",
       "Dijon FCO             8\n",
       "Dinamo Zagreb         7\n",
       "GD Chaves             7\n",
       "Vitória Guimarães     7\n",
       "Atlético Mineiro      6\n",
       "Name: Club, Length: 650, dtype: int64"
      ]
     },
     "metadata": {},
     "execution_count": 18
    }
   ],
   "source": [
    "df.Club.value_counts()"
   ]
  },
  {
   "cell_type": "code",
   "execution_count": 3,
   "metadata": {},
   "outputs": [
    {
     "output_type": "display_data",
     "data": {
      "text/plain": "Spain        0.16\nGermany      0.12\nArgentina    0.12\nUruguay      0.12\nBelgium      0.12\nFrance       0.08\nPortugal     0.04\nItaly        0.04\nSlovenia     0.04\nEngland      0.04\nPoland       0.04\nCroatia      0.04\nBrazil       0.04\nName: Nationality, dtype: float64"
     },
     "metadata": {}
    }
   ],
   "source": [
    "import pandas as pd\n",
    "df = pd.read_csv(\"data_sf.csv\")\n",
    "small_df = df[df.columns[1:8]].head(25)\n",
    "s = small_df['Nationality'].value_counts(normalize=True)\n",
    "display(s)"
   ]
  },
  {
   "cell_type": "code",
   "execution_count": 4,
   "metadata": {},
   "outputs": [
    {
     "output_type": "execute_result",
     "data": {
      "text/plain": [
       "GK     0.127239\n",
       "ST     0.117237\n",
       "CB     0.108785\n",
       "CM     0.082732\n",
       "LB     0.077692\n",
       "RB     0.073505\n",
       "RM     0.059394\n",
       "LM     0.056447\n",
       "CDM    0.053578\n",
       "CAM    0.049081\n",
       "RCB    0.032411\n",
       "LCB    0.031713\n",
       "LW     0.018764\n",
       "RCM    0.018609\n",
       "RW     0.018376\n",
       "LCM    0.018066\n",
       "LDM    0.011476\n",
       "RDM    0.010700\n",
       "LS     0.009382\n",
       "RS     0.008839\n",
       "RWB    0.005428\n",
       "LWB    0.004652\n",
       "CF     0.003954\n",
       "LF     0.000620\n",
       "RF     0.000465\n",
       "LAM    0.000465\n",
       "RAM    0.000388\n",
       "Name: Position, dtype: float64"
      ]
     },
     "metadata": {},
     "execution_count": 4
    }
   ],
   "source": [
    "df.Position.value_counts(normalize=True)"
   ]
  },
  {
   "cell_type": "code",
   "execution_count": 5,
   "metadata": {},
   "outputs": [
    {
     "output_type": "display_data",
     "data": {
      "text/plain": "27    5\n32    5\n31    3\n26    3\n29    2\n24    2\n33    2\n30    1\n28    1\n25    1\nName: Age, dtype: int64"
     },
     "metadata": {}
    }
   ],
   "source": [
    "s = small_df['Age'].value_counts()\n",
    "display(s)"
   ]
  },
  {
   "cell_type": "code",
   "execution_count": 7,
   "metadata": {},
   "outputs": [
    {
     "output_type": "display_data",
     "data": {
      "text/plain": "205000    3\n355000    2\n240000    2\n300000    1\n130000    1\n225000    1\n455000    1\n340000    1\n315000    1\n565000    1\n405000    1\n215000    1\n380000    1\n285000    1\n145000    1\n290000    1\n125000    1\n200000    1\n420000    1\n94000     1\n260000    1\nName: Wage, dtype: int64"
     },
     "metadata": {}
    }
   ],
   "source": [
    "s = small_df['Wage'].value_counts()\n",
    "display(s)"
   ]
  },
  {
   "cell_type": "code",
   "execution_count": 8,
   "metadata": {},
   "outputs": [
    {
     "output_type": "display_data",
     "data": {
      "text/plain": "(211750.0, 329500.0]     9\n(93528.999, 211750.0]    8\n(329500.0, 447250.0]     6\n(447250.0, 565000.0]     2\nName: Wage, dtype: int64"
     },
     "metadata": {}
    }
   ],
   "source": [
    "s = small_df['Wage'].value_counts(bins=4)\n",
    "display(s)"
   ]
  },
  {
   "cell_type": "code",
   "execution_count": 9,
   "metadata": {},
   "outputs": [
    {
     "output_type": "execute_result",
     "data": {
      "text/plain": [
       "        Name  Age Nationality          Club      Value    Wage Position\n",
       "0   L. Messi   31   Argentina  FC Barcelona  110500000  565000       RF\n",
       "7  L. Suárez   31     Uruguay  FC Barcelona   80000000  455000       RS"
      ],
      "text/html": "<div>\n<style scoped>\n    .dataframe tbody tr th:only-of-type {\n        vertical-align: middle;\n    }\n\n    .dataframe tbody tr th {\n        vertical-align: top;\n    }\n\n    .dataframe thead th {\n        text-align: right;\n    }\n</style>\n<table border=\"1\" class=\"dataframe\">\n  <thead>\n    <tr style=\"text-align: right;\">\n      <th></th>\n      <th>Name</th>\n      <th>Age</th>\n      <th>Nationality</th>\n      <th>Club</th>\n      <th>Value</th>\n      <th>Wage</th>\n      <th>Position</th>\n    </tr>\n  </thead>\n  <tbody>\n    <tr>\n      <th>0</th>\n      <td>L. Messi</td>\n      <td>31</td>\n      <td>Argentina</td>\n      <td>FC Barcelona</td>\n      <td>110500000</td>\n      <td>565000</td>\n      <td>RF</td>\n    </tr>\n    <tr>\n      <th>7</th>\n      <td>L. Suárez</td>\n      <td>31</td>\n      <td>Uruguay</td>\n      <td>FC Barcelona</td>\n      <td>80000000</td>\n      <td>455000</td>\n      <td>RS</td>\n    </tr>\n  </tbody>\n</table>\n</div>"
     },
     "metadata": {},
     "execution_count": 9
    }
   ],
   "source": [
    "small_df.loc[(small_df['Wage'] > s.index[3].left) & (small_df['Wage'] <= s.index[3].right)]"
   ]
  },
  {
   "cell_type": "code",
   "execution_count": 10,
   "metadata": {},
   "outputs": [
    {
     "output_type": "display_data",
     "data": {
      "text/plain": "(211750.0, 329500.0]     9\n(93528.999, 211750.0]    8\n(329500.0, 447250.0]     6\n(447250.0, 565000.0]     2\nName: Wage, dtype: int64"
     },
     "metadata": {}
    },
    {
     "output_type": "execute_result",
     "data": {
      "text/plain": [
       "0      True\n",
       "1     False\n",
       "2     False\n",
       "3     False\n",
       "4     False\n",
       "5     False\n",
       "6     False\n",
       "7      True\n",
       "8     False\n",
       "9     False\n",
       "10    False\n",
       "11    False\n",
       "12    False\n",
       "13    False\n",
       "14    False\n",
       "15    False\n",
       "16    False\n",
       "17    False\n",
       "18    False\n",
       "19    False\n",
       "20    False\n",
       "21    False\n",
       "22    False\n",
       "23    False\n",
       "24    False\n",
       "Name: Wage, dtype: bool"
      ]
     },
     "metadata": {},
     "execution_count": 10
    }
   ],
   "source": [
    "small_df = df[df.columns[0:7]].head(25)\n",
    "\n",
    "s = small_df['Wage'].value_counts(bins=4)\n",
    "\n",
    "display(s)\n",
    "\n",
    "s.index\n",
    "\n",
    "s.index[3]\n",
    "\n",
    "s.index[3].left\n",
    "\n",
    "s.index[3].right\n",
    "\n",
    "small_df['Wage'] > s.index[3].left"
   ]
  },
  {
   "cell_type": "code",
   "execution_count": 13,
   "metadata": {},
   "outputs": [
    {
     "output_type": "execute_result",
     "data": {
      "text/plain": [
       "(21.2, 39.4]     4859\n",
       "(39.4, 57.6]     3957\n",
       "(57.6, 75.8]     2108\n",
       "(2.908, 21.2]    1760\n",
       "(75.8, 94.0]      213\n",
       "Name: FKAccuracy, dtype: int64"
      ]
     },
     "metadata": {},
     "execution_count": 13
    }
   ],
   "source": [
    "df.FKAccuracy.value_counts(bins=5)"
   ]
  },
  {
   "cell_type": "code",
   "execution_count": 16,
   "metadata": {},
   "outputs": [
    {
     "output_type": "execute_result",
     "data": {
      "text/plain": [
       "32    382\n",
       "35    361\n",
       "42    355\n",
       "40    353\n",
       "39    343\n",
       "     ... \n",
       "3       1\n",
       "90      1\n",
       "92      1\n",
       "93      1\n",
       "94      1\n",
       "Name: FKAccuracy, Length: 89, dtype: int64"
      ]
     },
     "metadata": {},
     "execution_count": 16
    }
   ],
   "source": [
    "df.FKAccuracy.value_counts()"
   ]
  },
  {
   "cell_type": "code",
   "execution_count": 17,
   "metadata": {},
   "outputs": [
    {
     "output_type": "stream",
     "name": "stdout",
     "text": [
      "Index(['Spain', 'Germany', 'Argentina', 'Uruguay', 'Belgium', 'France',\n       'Portugal', 'Italy', 'Slovenia', 'England', 'Poland', 'Croatia',\n       'Brazil'],\n      dtype='object')\n13\n"
     ]
    }
   ],
   "source": [
    "s = small_df['Nationality'].value_counts()\n",
    "print(s.index)\n",
    "print(len(s.index))"
   ]
  },
  {
   "cell_type": "code",
   "execution_count": 18,
   "metadata": {},
   "outputs": [
    {
     "output_type": "execute_result",
     "data": {
      "text/plain": [
       "array(['Argentina', 'Portugal', 'Brazil', 'Spain', 'Belgium', 'Croatia',\n",
       "       'Uruguay', 'Slovenia', 'Poland', 'Germany', 'France', 'England',\n",
       "       'Italy'], dtype=object)"
      ]
     },
     "metadata": {},
     "execution_count": 18
    }
   ],
   "source": [
    "small_df['Nationality'].unique()"
   ]
  },
  {
   "cell_type": "code",
   "execution_count": 19,
   "metadata": {},
   "outputs": [
    {
     "output_type": "display_data",
     "data": {
      "text/plain": "        index  Nationality\n0       Spain            4\n1     Germany            3\n2   Argentina            3\n3     Uruguay            3\n4     Belgium            3\n5      France            2\n6    Portugal            1\n7       Italy            1\n8    Slovenia            1\n9     England            1\n10     Poland            1\n11    Croatia            1\n12     Brazil            1",
      "text/html": "<div>\n<style scoped>\n    .dataframe tbody tr th:only-of-type {\n        vertical-align: middle;\n    }\n\n    .dataframe tbody tr th {\n        vertical-align: top;\n    }\n\n    .dataframe thead th {\n        text-align: right;\n    }\n</style>\n<table border=\"1\" class=\"dataframe\">\n  <thead>\n    <tr style=\"text-align: right;\">\n      <th></th>\n      <th>index</th>\n      <th>Nationality</th>\n    </tr>\n  </thead>\n  <tbody>\n    <tr>\n      <th>0</th>\n      <td>Spain</td>\n      <td>4</td>\n    </tr>\n    <tr>\n      <th>1</th>\n      <td>Germany</td>\n      <td>3</td>\n    </tr>\n    <tr>\n      <th>2</th>\n      <td>Argentina</td>\n      <td>3</td>\n    </tr>\n    <tr>\n      <th>3</th>\n      <td>Uruguay</td>\n      <td>3</td>\n    </tr>\n    <tr>\n      <th>4</th>\n      <td>Belgium</td>\n      <td>3</td>\n    </tr>\n    <tr>\n      <th>5</th>\n      <td>France</td>\n      <td>2</td>\n    </tr>\n    <tr>\n      <th>6</th>\n      <td>Portugal</td>\n      <td>1</td>\n    </tr>\n    <tr>\n      <th>7</th>\n      <td>Italy</td>\n      <td>1</td>\n    </tr>\n    <tr>\n      <th>8</th>\n      <td>Slovenia</td>\n      <td>1</td>\n    </tr>\n    <tr>\n      <th>9</th>\n      <td>England</td>\n      <td>1</td>\n    </tr>\n    <tr>\n      <th>10</th>\n      <td>Poland</td>\n      <td>1</td>\n    </tr>\n    <tr>\n      <th>11</th>\n      <td>Croatia</td>\n      <td>1</td>\n    </tr>\n    <tr>\n      <th>12</th>\n      <td>Brazil</td>\n      <td>1</td>\n    </tr>\n  </tbody>\n</table>\n</div>"
     },
     "metadata": {}
    }
   ],
   "source": [
    "s = small_df['Nationality'].value_counts()\n",
    "s_df = s.reset_index()\n",
    "display(s_df)"
   ]
  },
  {
   "cell_type": "code",
   "execution_count": 20,
   "metadata": {},
   "outputs": [
    {
     "output_type": "display_data",
     "data": {
      "text/plain": "   Nationality  Players Count\n0        Spain              4\n1      Germany              3\n2    Argentina              3\n3      Uruguay              3\n4      Belgium              3\n5       France              2\n6     Portugal              1\n7        Italy              1\n8     Slovenia              1\n9      England              1\n10      Poland              1\n11     Croatia              1\n12      Brazil              1",
      "text/html": "<div>\n<style scoped>\n    .dataframe tbody tr th:only-of-type {\n        vertical-align: middle;\n    }\n\n    .dataframe tbody tr th {\n        vertical-align: top;\n    }\n\n    .dataframe thead th {\n        text-align: right;\n    }\n</style>\n<table border=\"1\" class=\"dataframe\">\n  <thead>\n    <tr style=\"text-align: right;\">\n      <th></th>\n      <th>Nationality</th>\n      <th>Players Count</th>\n    </tr>\n  </thead>\n  <tbody>\n    <tr>\n      <th>0</th>\n      <td>Spain</td>\n      <td>4</td>\n    </tr>\n    <tr>\n      <th>1</th>\n      <td>Germany</td>\n      <td>3</td>\n    </tr>\n    <tr>\n      <th>2</th>\n      <td>Argentina</td>\n      <td>3</td>\n    </tr>\n    <tr>\n      <th>3</th>\n      <td>Uruguay</td>\n      <td>3</td>\n    </tr>\n    <tr>\n      <th>4</th>\n      <td>Belgium</td>\n      <td>3</td>\n    </tr>\n    <tr>\n      <th>5</th>\n      <td>France</td>\n      <td>2</td>\n    </tr>\n    <tr>\n      <th>6</th>\n      <td>Portugal</td>\n      <td>1</td>\n    </tr>\n    <tr>\n      <th>7</th>\n      <td>Italy</td>\n      <td>1</td>\n    </tr>\n    <tr>\n      <th>8</th>\n      <td>Slovenia</td>\n      <td>1</td>\n    </tr>\n    <tr>\n      <th>9</th>\n      <td>England</td>\n      <td>1</td>\n    </tr>\n    <tr>\n      <th>10</th>\n      <td>Poland</td>\n      <td>1</td>\n    </tr>\n    <tr>\n      <th>11</th>\n      <td>Croatia</td>\n      <td>1</td>\n    </tr>\n    <tr>\n      <th>12</th>\n      <td>Brazil</td>\n      <td>1</td>\n    </tr>\n  </tbody>\n</table>\n</div>"
     },
     "metadata": {}
    }
   ],
   "source": [
    "s_df.columns = ['Nationality','Players Count']\n",
    "display(s_df)"
   ]
  },
  {
   "cell_type": "code",
   "execution_count": 25,
   "metadata": {},
   "outputs": [
    {
     "output_type": "execute_result",
     "data": {
      "text/plain": [
       "(620.999, 95750.0]      0.970194\n",
       "(95750.0, 190500.0]     0.016393\n",
       "(190500.0, 285250.0]    0.008942\n",
       "(285250.0, 380000.0]    0.004471\n",
       "Name: Wage, dtype: float64"
      ]
     },
     "metadata": {},
     "execution_count": 25
    }
   ],
   "source": [
    "df[df.Nationality == 'Spain'].Wage.value_counts(bins=4, normalize=True)"
   ]
  },
  {
   "cell_type": "code",
   "execution_count": 29,
   "metadata": {},
   "outputs": [
    {
     "output_type": "execute_result",
     "data": {
      "text/plain": [
       "13"
      ]
     },
     "metadata": {},
     "execution_count": 29
    }
   ],
   "source": [
    "df[df.Club == \"Manchester United\"].Nationality.nunique()"
   ]
  },
  {
   "cell_type": "code",
   "execution_count": 41,
   "metadata": {},
   "outputs": [
    {
     "output_type": "execute_result",
     "data": {
      "text/plain": [
       "['Alex Sandro', 'Douglas Costa']"
      ]
     },
     "metadata": {},
     "execution_count": 41
    }
   ],
   "source": [
    "newds = df[(df.Nationality == 'Brazil') & (df.Club == 'Juventus')].Name.sort_index(ascending=True)\n",
    "[pl for pl in newds]"
   ]
  },
  {
   "cell_type": "code",
   "execution_count": 48,
   "metadata": {},
   "outputs": [
    {
     "output_type": "execute_result",
     "data": {
      "text/plain": [
       "Hokkaido Consadole Sapporo    4\n",
       "Club Atlético Huracán         4\n",
       "Estudiantes de La Plata       3\n",
       "Club Atlético Tigre           3\n",
       "Hammarby IF                   3\n",
       "                             ..\n",
       "Shimizu S-Pulse               1\n",
       "Watford                       1\n",
       "Jagiellonia Białystok         1\n",
       "HJK Helsinki                  1\n",
       "Arsenal                       1\n",
       "Name: Club, Length: 212, dtype: int64"
      ]
     },
     "metadata": {},
     "execution_count": 48
    }
   ],
   "source": [
    "df[df.Age > 35].Club.value_counts()"
   ]
  },
  {
   "cell_type": "code",
   "execution_count": 50,
   "metadata": {},
   "outputs": [
    {
     "output_type": "execute_result",
     "data": {
      "text/plain": [
       "(22.25, 28.5]      200\n",
       "(15.974, 22.25]    197\n",
       "(28.5, 34.75]      128\n",
       "(34.75, 41.0]       49\n",
       "Name: Age, dtype: int64"
      ]
     },
     "metadata": {},
     "execution_count": 50
    }
   ],
   "source": [
    "df[df.Nationality == 'Argentina'].Age.value_counts(bins=4)"
   ]
  },
  {
   "cell_type": "code",
   "execution_count": 56,
   "metadata": {},
   "outputs": [
    {
     "output_type": "execute_result",
     "data": {
      "text/plain": [
       "21    0.117735\n",
       "22    0.095380\n",
       "20    0.077496\n",
       "23    0.071535\n",
       "25    0.064083\n",
       "27    0.062593\n",
       "24    0.059613\n",
       "28    0.053651\n",
       "26    0.053651\n",
       "29    0.047690\n",
       "19    0.047690\n",
       "18    0.038748\n",
       "30    0.038748\n",
       "31    0.032787\n",
       "32    0.032787\n",
       "33    0.031297\n",
       "34    0.022355\n",
       "17    0.013413\n",
       "35    0.011923\n",
       "36    0.010432\n",
       "37    0.008942\n",
       "39    0.002981\n",
       "16    0.002981\n",
       "38    0.001490\n",
       "Name: Age, dtype: float64"
      ]
     },
     "metadata": {},
     "execution_count": 56
    }
   ],
   "source": [
    "df[(df.Nationality == 'Spain')].Age.value_counts(normalize=True)"
   ]
  },
  {
   "cell_type": "code",
   "execution_count": 57,
   "metadata": {},
   "outputs": [
    {
     "output_type": "display_data",
     "data": {
      "text/plain": "                       Unnamed: 0  Age     Value    Wage  Crossing  Finishing  \\\nClub                                                                            \n SSV Jahn Regensburg       129124  609  15195000   90000      1104        944   \n1. FC Heidenheim 1846      117834  473  18290000   76000       961        860   \n1. FC Kaiserslautern       167351  544  11195000   33000      1106        918   \n1. FC Köln                  54865  225  46810000   92000       444        357   \n1. FC Magdeburg            116731  515  57525000   84000       948        903   \n...                           ...  ...       ...     ...       ...        ...   \nZagłębie Sosnowiec         220803  656   6815000   27000      1161       1007   \nÇaykur Rizespor            119137  557  27515000  118000      1110        921   \nÖrebro SK                  224465  622   8465000   36000      1114        974   \nÖstersunds FK              136103  478  11030000   39000       944        805   \nŚląsk Wrocław              172358  628   9170000   50000      1058       1054   \n\n                       HeadingAccuracy  ShortPassing  Volleys  Dribbling  ...  \\\nClub                                                                      ...   \n SSV Jahn Regensburg              1283          1362      944       1196  ...   \n1. FC Heidenheim 1846              955          1136      846       1040  ...   \n1. FC Kaiserslautern              1133          1272      899       1131  ...   \n1. FC Köln                         434           567      320        486  ...   \n1. FC Magdeburg                   1044          1157      769       1024  ...   \n...                                ...           ...      ...        ...  ...   \nZagłębie Sosnowiec                1152          1357      979       1252  ...   \nÇaykur Rizespor                   1137          1290      888       1233  ...   \nÖrebro SK                         1149          1311      965       1270  ...   \nÖstersunds FK                      856          1109      801       1066  ...   \nŚląsk Wrocław                     1289          1313      988       1238  ...   \n\n                       Penalties  Composure  Marking  StandingTackle  \\\nClub                                                                   \n SSV Jahn Regensburg        1042       1332     1205            1146   \n1. FC Heidenheim 1846        923       1093      888             952   \n1. FC Kaiserslautern        1030       1174      938             989   \n1. FC Köln                   431        515      453             458   \n1. FC Magdeburg              938       1057      933             930   \n...                          ...        ...      ...             ...   \nZagłębie Sosnowiec          1113       1371     1219            1187   \nÇaykur Rizespor             1063       1200     1050            1155   \nÖrebro SK                   1066       1393     1112            1045   \nÖstersunds FK                847       1132      920             842   \nŚląsk Wrocław               1150       1314     1047            1161   \n\n                       SlidingTackle  GKDiving  GKHandling  GKKicking  \\\nClub                                                                    \n SSV Jahn Regensburg            1088       405         406        368   \n1. FC Heidenheim 1846            890       335         317        287   \n1. FC Kaiserslautern             996       392         373        348   \n1. FC Köln                       452       272         251        276   \n1. FC Magdeburg                  892       367         373        354   \n...                              ...       ...         ...        ...   \nZagłębie Sosnowiec              1156       427         391        417   \nÇaykur Rizespor                 1143       375         394        387   \nÖrebro SK                       1008       412         406        386   \nÖstersunds FK                    816       342         357        369   \nŚląsk Wrocław                   1129       408         403        367   \n\n                       GKPositioning  GKReflexes  \nClub                                              \n SSV Jahn Regensburg             409         424  \n1. FC Heidenheim 1846            335         306  \n1. FC Kaiserslautern             368         356  \n1. FC Köln                       252         268  \n1. FC Magdeburg                  361         394  \n...                              ...         ...  \nZagłębie Sosnowiec               391         413  \nÇaykur Rizespor                  388         389  \nÖrebro SK                        428         407  \nÖstersunds FK                    337         363  \nŚląsk Wrocław                    394         403  \n\n[650 rows x 38 columns]",
      "text/html": "<div>\n<style scoped>\n    .dataframe tbody tr th:only-of-type {\n        vertical-align: middle;\n    }\n\n    .dataframe tbody tr th {\n        vertical-align: top;\n    }\n\n    .dataframe thead th {\n        text-align: right;\n    }\n</style>\n<table border=\"1\" class=\"dataframe\">\n  <thead>\n    <tr style=\"text-align: right;\">\n      <th></th>\n      <th>Unnamed: 0</th>\n      <th>Age</th>\n      <th>Value</th>\n      <th>Wage</th>\n      <th>Crossing</th>\n      <th>Finishing</th>\n      <th>HeadingAccuracy</th>\n      <th>ShortPassing</th>\n      <th>Volleys</th>\n      <th>Dribbling</th>\n      <th>...</th>\n      <th>Penalties</th>\n      <th>Composure</th>\n      <th>Marking</th>\n      <th>StandingTackle</th>\n      <th>SlidingTackle</th>\n      <th>GKDiving</th>\n      <th>GKHandling</th>\n      <th>GKKicking</th>\n      <th>GKPositioning</th>\n      <th>GKReflexes</th>\n    </tr>\n    <tr>\n      <th>Club</th>\n      <th></th>\n      <th></th>\n      <th></th>\n      <th></th>\n      <th></th>\n      <th></th>\n      <th></th>\n      <th></th>\n      <th></th>\n      <th></th>\n      <th></th>\n      <th></th>\n      <th></th>\n      <th></th>\n      <th></th>\n      <th></th>\n      <th></th>\n      <th></th>\n      <th></th>\n      <th></th>\n      <th></th>\n    </tr>\n  </thead>\n  <tbody>\n    <tr>\n      <th>SSV Jahn Regensburg</th>\n      <td>129124</td>\n      <td>609</td>\n      <td>15195000</td>\n      <td>90000</td>\n      <td>1104</td>\n      <td>944</td>\n      <td>1283</td>\n      <td>1362</td>\n      <td>944</td>\n      <td>1196</td>\n      <td>...</td>\n      <td>1042</td>\n      <td>1332</td>\n      <td>1205</td>\n      <td>1146</td>\n      <td>1088</td>\n      <td>405</td>\n      <td>406</td>\n      <td>368</td>\n      <td>409</td>\n      <td>424</td>\n    </tr>\n    <tr>\n      <th>1. FC Heidenheim 1846</th>\n      <td>117834</td>\n      <td>473</td>\n      <td>18290000</td>\n      <td>76000</td>\n      <td>961</td>\n      <td>860</td>\n      <td>955</td>\n      <td>1136</td>\n      <td>846</td>\n      <td>1040</td>\n      <td>...</td>\n      <td>923</td>\n      <td>1093</td>\n      <td>888</td>\n      <td>952</td>\n      <td>890</td>\n      <td>335</td>\n      <td>317</td>\n      <td>287</td>\n      <td>335</td>\n      <td>306</td>\n    </tr>\n    <tr>\n      <th>1. FC Kaiserslautern</th>\n      <td>167351</td>\n      <td>544</td>\n      <td>11195000</td>\n      <td>33000</td>\n      <td>1106</td>\n      <td>918</td>\n      <td>1133</td>\n      <td>1272</td>\n      <td>899</td>\n      <td>1131</td>\n      <td>...</td>\n      <td>1030</td>\n      <td>1174</td>\n      <td>938</td>\n      <td>989</td>\n      <td>996</td>\n      <td>392</td>\n      <td>373</td>\n      <td>348</td>\n      <td>368</td>\n      <td>356</td>\n    </tr>\n    <tr>\n      <th>1. FC Köln</th>\n      <td>54865</td>\n      <td>225</td>\n      <td>46810000</td>\n      <td>92000</td>\n      <td>444</td>\n      <td>357</td>\n      <td>434</td>\n      <td>567</td>\n      <td>320</td>\n      <td>486</td>\n      <td>...</td>\n      <td>431</td>\n      <td>515</td>\n      <td>453</td>\n      <td>458</td>\n      <td>452</td>\n      <td>272</td>\n      <td>251</td>\n      <td>276</td>\n      <td>252</td>\n      <td>268</td>\n    </tr>\n    <tr>\n      <th>1. FC Magdeburg</th>\n      <td>116731</td>\n      <td>515</td>\n      <td>57525000</td>\n      <td>84000</td>\n      <td>948</td>\n      <td>903</td>\n      <td>1044</td>\n      <td>1157</td>\n      <td>769</td>\n      <td>1024</td>\n      <td>...</td>\n      <td>938</td>\n      <td>1057</td>\n      <td>933</td>\n      <td>930</td>\n      <td>892</td>\n      <td>367</td>\n      <td>373</td>\n      <td>354</td>\n      <td>361</td>\n      <td>394</td>\n    </tr>\n    <tr>\n      <th>...</th>\n      <td>...</td>\n      <td>...</td>\n      <td>...</td>\n      <td>...</td>\n      <td>...</td>\n      <td>...</td>\n      <td>...</td>\n      <td>...</td>\n      <td>...</td>\n      <td>...</td>\n      <td>...</td>\n      <td>...</td>\n      <td>...</td>\n      <td>...</td>\n      <td>...</td>\n      <td>...</td>\n      <td>...</td>\n      <td>...</td>\n      <td>...</td>\n      <td>...</td>\n      <td>...</td>\n    </tr>\n    <tr>\n      <th>Zagłębie Sosnowiec</th>\n      <td>220803</td>\n      <td>656</td>\n      <td>6815000</td>\n      <td>27000</td>\n      <td>1161</td>\n      <td>1007</td>\n      <td>1152</td>\n      <td>1357</td>\n      <td>979</td>\n      <td>1252</td>\n      <td>...</td>\n      <td>1113</td>\n      <td>1371</td>\n      <td>1219</td>\n      <td>1187</td>\n      <td>1156</td>\n      <td>427</td>\n      <td>391</td>\n      <td>417</td>\n      <td>391</td>\n      <td>413</td>\n    </tr>\n    <tr>\n      <th>Çaykur Rizespor</th>\n      <td>119137</td>\n      <td>557</td>\n      <td>27515000</td>\n      <td>118000</td>\n      <td>1110</td>\n      <td>921</td>\n      <td>1137</td>\n      <td>1290</td>\n      <td>888</td>\n      <td>1233</td>\n      <td>...</td>\n      <td>1063</td>\n      <td>1200</td>\n      <td>1050</td>\n      <td>1155</td>\n      <td>1143</td>\n      <td>375</td>\n      <td>394</td>\n      <td>387</td>\n      <td>388</td>\n      <td>389</td>\n    </tr>\n    <tr>\n      <th>Örebro SK</th>\n      <td>224465</td>\n      <td>622</td>\n      <td>8465000</td>\n      <td>36000</td>\n      <td>1114</td>\n      <td>974</td>\n      <td>1149</td>\n      <td>1311</td>\n      <td>965</td>\n      <td>1270</td>\n      <td>...</td>\n      <td>1066</td>\n      <td>1393</td>\n      <td>1112</td>\n      <td>1045</td>\n      <td>1008</td>\n      <td>412</td>\n      <td>406</td>\n      <td>386</td>\n      <td>428</td>\n      <td>407</td>\n    </tr>\n    <tr>\n      <th>Östersunds FK</th>\n      <td>136103</td>\n      <td>478</td>\n      <td>11030000</td>\n      <td>39000</td>\n      <td>944</td>\n      <td>805</td>\n      <td>856</td>\n      <td>1109</td>\n      <td>801</td>\n      <td>1066</td>\n      <td>...</td>\n      <td>847</td>\n      <td>1132</td>\n      <td>920</td>\n      <td>842</td>\n      <td>816</td>\n      <td>342</td>\n      <td>357</td>\n      <td>369</td>\n      <td>337</td>\n      <td>363</td>\n    </tr>\n    <tr>\n      <th>Śląsk Wrocław</th>\n      <td>172358</td>\n      <td>628</td>\n      <td>9170000</td>\n      <td>50000</td>\n      <td>1058</td>\n      <td>1054</td>\n      <td>1289</td>\n      <td>1313</td>\n      <td>988</td>\n      <td>1238</td>\n      <td>...</td>\n      <td>1150</td>\n      <td>1314</td>\n      <td>1047</td>\n      <td>1161</td>\n      <td>1129</td>\n      <td>408</td>\n      <td>403</td>\n      <td>367</td>\n      <td>394</td>\n      <td>403</td>\n    </tr>\n  </tbody>\n</table>\n<p>650 rows × 38 columns</p>\n</div>"
     },
     "metadata": {}
    }
   ],
   "source": [
    "grouped_df = df.groupby(['Club']).sum()\n",
    "display(grouped_df)"
   ]
  },
  {
   "cell_type": "code",
   "execution_count": 58,
   "metadata": {},
   "outputs": [
    {
     "output_type": "execute_result",
     "data": {
      "text/plain": [
       "Unnamed: 0             26041\n",
       "Age                      275\n",
       "Value              152250000\n",
       "Wage                  158000\n",
       "Crossing                 844\n",
       "Finishing                723\n",
       "HeadingAccuracy          848\n",
       "ShortPassing             940\n",
       "Volleys                  696\n",
       "Dribbling                932\n",
       "Curve                    779\n",
       "FKAccuracy               680\n",
       "LongPassing              878\n",
       "BallControl              951\n",
       "Acceleration             944\n",
       "SprintSpeed              969\n",
       "Agility                  969\n",
       "Reactions                924\n",
       "Balance                  918\n",
       "ShotPower                876\n",
       "Jumping                  915\n",
       "Stamina                  974\n",
       "Strength                 896\n",
       "LongShots                720\n",
       "Aggression               847\n",
       "Interceptions            801\n",
       "Positioning              813\n",
       "Vision                   881\n",
       "Penalties                710\n",
       "Composure                929\n",
       "Marking                  750\n",
       "StandingTackle           814\n",
       "SlidingTackle            756\n",
       "GKDiving                 150\n",
       "GKHandling               130\n",
       "GKKicking                139\n",
       "GKPositioning            155\n",
       "GKReflexes               129\n",
       "Name: Ajax, dtype: int64"
      ]
     },
     "metadata": {},
     "execution_count": 58
    }
   ],
   "source": [
    "grouped_df.loc['Ajax']"
   ]
  },
  {
   "cell_type": "code",
   "execution_count": 59,
   "metadata": {},
   "outputs": [
    {
     "output_type": "execute_result",
     "data": {
      "text/plain": [
       "158000"
      ]
     },
     "metadata": {},
     "execution_count": 59
    }
   ],
   "source": [
    "grouped_df.loc['Ajax']['Wage']"
   ]
  },
  {
   "cell_type": "code",
   "execution_count": 60,
   "metadata": {},
   "outputs": [
    {
     "output_type": "display_data",
     "data": {
      "text/plain": "Club\n SSV Jahn Regensburg      90000\n1. FC Heidenheim 1846     76000\n1. FC Kaiserslautern      33000\n1. FC Köln                92000\n1. FC Magdeburg           84000\n                          ...  \nZagłębie Sosnowiec        27000\nÇaykur Rizespor          118000\nÖrebro SK                 36000\nÖstersunds FK             39000\nŚląsk Wrocław             50000\nName: Wage, Length: 650, dtype: int64"
     },
     "metadata": {}
    }
   ],
   "source": [
    "grouped_df = df.groupby(['Club'])['Wage'].sum()\n",
    "display(grouped_df)"
   ]
  },
  {
   "cell_type": "code",
   "execution_count": 61,
   "metadata": {},
   "outputs": [
    {
     "output_type": "stream",
     "name": "stdout",
     "text": [
      "Club\nReal Madrid          4138000\nFC Barcelona         3967000\nManchester City      3097000\nManchester United    2357000\nJuventus             2335000\nName: Wage, dtype: int64\n"
     ]
    }
   ],
   "source": [
    "grouped_df = df.groupby(['Club'])['Wage'].sum().sort_values(ascending=False)\n",
    "print(grouped_df.head(5))"
   ]
  },
  {
   "cell_type": "code",
   "execution_count": 64,
   "metadata": {},
   "outputs": [
    {
     "output_type": "execute_result",
     "data": {
      "text/plain": [
       "Position\n",
       "ST     11873000\n",
       "GK      8784000\n",
       "CB      7476000\n",
       "CM      6194000\n",
       "LB      6096000\n",
       "CAM     5500000\n",
       "LM      5440000\n",
       "RM      5098000\n",
       "RB      5034000\n",
       "CDM     4921000\n",
       "RCB     4711000\n",
       "LCB     3989000\n",
       "RW      3276000\n",
       "RCM     3241000\n",
       "LCM     3145000\n",
       "LW      2945000\n",
       "LS      1866000\n",
       "RDM     1557000\n",
       "RS      1537000\n",
       "LDM     1516000\n",
       "RF       714000\n",
       "LF       601000\n",
       "RWB      420000\n",
       "LAM      366000\n",
       "LWB      347000\n",
       "CF       248000\n",
       "RAM       59000\n",
       "Name: Wage, dtype: int64"
      ]
     },
     "metadata": {},
     "execution_count": 64
    }
   ],
   "source": [
    "df.groupby(['Position']).Wage.sum().sort_values(ascending=False)"
   ]
  },
  {
   "cell_type": "code",
   "execution_count": 65,
   "metadata": {},
   "outputs": [
    {
     "output_type": "execute_result",
     "data": {
      "text/plain": [
       "                     Wage        Age  ShotPower\n",
       "Nationality                                    \n",
       "Afghanistan   1250.000000  22.500000  53.750000\n",
       "Albania       5931.034483  23.689655  54.551724\n",
       "Algeria      15810.810811  27.027027  56.567568\n",
       "Andorra       1000.000000  28.000000  58.000000\n",
       "Angola        7100.000000  24.700000  63.700000\n",
       "...                   ...        ...        ...\n",
       "Uzbekistan    9000.000000  29.500000  71.500000\n",
       "Venezuela     6611.111111  23.638889  57.222222\n",
       "Wales         9529.411765  24.754902  48.558824\n",
       "Zambia        2833.333333  21.833333  66.833333\n",
       "Zimbabwe      5000.000000  26.555556  62.888889\n",
       "\n",
       "[156 rows x 3 columns]"
      ],
      "text/html": "<div>\n<style scoped>\n    .dataframe tbody tr th:only-of-type {\n        vertical-align: middle;\n    }\n\n    .dataframe tbody tr th {\n        vertical-align: top;\n    }\n\n    .dataframe thead th {\n        text-align: right;\n    }\n</style>\n<table border=\"1\" class=\"dataframe\">\n  <thead>\n    <tr style=\"text-align: right;\">\n      <th></th>\n      <th>Wage</th>\n      <th>Age</th>\n      <th>ShotPower</th>\n    </tr>\n    <tr>\n      <th>Nationality</th>\n      <th></th>\n      <th></th>\n      <th></th>\n    </tr>\n  </thead>\n  <tbody>\n    <tr>\n      <th>Afghanistan</th>\n      <td>1250.000000</td>\n      <td>22.500000</td>\n      <td>53.750000</td>\n    </tr>\n    <tr>\n      <th>Albania</th>\n      <td>5931.034483</td>\n      <td>23.689655</td>\n      <td>54.551724</td>\n    </tr>\n    <tr>\n      <th>Algeria</th>\n      <td>15810.810811</td>\n      <td>27.027027</td>\n      <td>56.567568</td>\n    </tr>\n    <tr>\n      <th>Andorra</th>\n      <td>1000.000000</td>\n      <td>28.000000</td>\n      <td>58.000000</td>\n    </tr>\n    <tr>\n      <th>Angola</th>\n      <td>7100.000000</td>\n      <td>24.700000</td>\n      <td>63.700000</td>\n    </tr>\n    <tr>\n      <th>...</th>\n      <td>...</td>\n      <td>...</td>\n      <td>...</td>\n    </tr>\n    <tr>\n      <th>Uzbekistan</th>\n      <td>9000.000000</td>\n      <td>29.500000</td>\n      <td>71.500000</td>\n    </tr>\n    <tr>\n      <th>Venezuela</th>\n      <td>6611.111111</td>\n      <td>23.638889</td>\n      <td>57.222222</td>\n    </tr>\n    <tr>\n      <th>Wales</th>\n      <td>9529.411765</td>\n      <td>24.754902</td>\n      <td>48.558824</td>\n    </tr>\n    <tr>\n      <th>Zambia</th>\n      <td>2833.333333</td>\n      <td>21.833333</td>\n      <td>66.833333</td>\n    </tr>\n    <tr>\n      <th>Zimbabwe</th>\n      <td>5000.000000</td>\n      <td>26.555556</td>\n      <td>62.888889</td>\n    </tr>\n  </tbody>\n</table>\n<p>156 rows × 3 columns</p>\n</div>"
     },
     "metadata": {},
     "execution_count": 65
    }
   ],
   "source": [
    "df.groupby(['Nationality'])[['Wage','Age','ShotPower']].mean()"
   ]
  },
  {
   "cell_type": "code",
   "execution_count": 66,
   "metadata": {},
   "outputs": [
    {
     "output_type": "execute_result",
     "data": {
      "text/plain": [
       "                            Wage        Age  ShotPower\n",
       "Nationality                                           \n",
       "Dominican Republic  71000.000000  23.000000  75.500000\n",
       "Egypt               35545.454545  25.818182  59.363636\n",
       "Gabon               28900.000000  26.400000  56.900000\n",
       "Croatia             26722.222222  24.819444  54.305556\n",
       "Equatorial Guinea   25666.666667  28.000000  55.333333\n",
       "Belgium             20024.390244  24.030488  56.390244\n",
       "Ecuador             18333.333333  24.619048  60.666667\n",
       "Uruguay             17590.361446  26.771084  56.192771\n",
       "Brazil              17371.158392  27.898345  58.203310\n",
       "Algeria             15810.810811  27.027027  56.567568"
      ],
      "text/html": "<div>\n<style scoped>\n    .dataframe tbody tr th:only-of-type {\n        vertical-align: middle;\n    }\n\n    .dataframe tbody tr th {\n        vertical-align: top;\n    }\n\n    .dataframe thead th {\n        text-align: right;\n    }\n</style>\n<table border=\"1\" class=\"dataframe\">\n  <thead>\n    <tr style=\"text-align: right;\">\n      <th></th>\n      <th>Wage</th>\n      <th>Age</th>\n      <th>ShotPower</th>\n    </tr>\n    <tr>\n      <th>Nationality</th>\n      <th></th>\n      <th></th>\n      <th></th>\n    </tr>\n  </thead>\n  <tbody>\n    <tr>\n      <th>Dominican Republic</th>\n      <td>71000.000000</td>\n      <td>23.000000</td>\n      <td>75.500000</td>\n    </tr>\n    <tr>\n      <th>Egypt</th>\n      <td>35545.454545</td>\n      <td>25.818182</td>\n      <td>59.363636</td>\n    </tr>\n    <tr>\n      <th>Gabon</th>\n      <td>28900.000000</td>\n      <td>26.400000</td>\n      <td>56.900000</td>\n    </tr>\n    <tr>\n      <th>Croatia</th>\n      <td>26722.222222</td>\n      <td>24.819444</td>\n      <td>54.305556</td>\n    </tr>\n    <tr>\n      <th>Equatorial Guinea</th>\n      <td>25666.666667</td>\n      <td>28.000000</td>\n      <td>55.333333</td>\n    </tr>\n    <tr>\n      <th>Belgium</th>\n      <td>20024.390244</td>\n      <td>24.030488</td>\n      <td>56.390244</td>\n    </tr>\n    <tr>\n      <th>Ecuador</th>\n      <td>18333.333333</td>\n      <td>24.619048</td>\n      <td>60.666667</td>\n    </tr>\n    <tr>\n      <th>Uruguay</th>\n      <td>17590.361446</td>\n      <td>26.771084</td>\n      <td>56.192771</td>\n    </tr>\n    <tr>\n      <th>Brazil</th>\n      <td>17371.158392</td>\n      <td>27.898345</td>\n      <td>58.203310</td>\n    </tr>\n    <tr>\n      <th>Algeria</th>\n      <td>15810.810811</td>\n      <td>27.027027</td>\n      <td>56.567568</td>\n    </tr>\n  </tbody>\n</table>\n</div>"
     },
     "metadata": {},
     "execution_count": 66
    }
   ],
   "source": [
    "df.groupby(['Nationality'])[['Wage','Age','ShotPower']].mean().sort_values(['Wage'],ascending=False).head(10)"
   ]
  },
  {
   "cell_type": "code",
   "execution_count": 67,
   "metadata": {},
   "outputs": [
    {
     "output_type": "execute_result",
     "data": {
      "text/plain": [
       "            Name         Club    Wage  Age  ShotPower\n",
       "291      Mariano  Real Madrid  140000   24         85\n",
       "6279  L. Quezada   Córdoba CF    2000   22         66"
      ],
      "text/html": "<div>\n<style scoped>\n    .dataframe tbody tr th:only-of-type {\n        vertical-align: middle;\n    }\n\n    .dataframe tbody tr th {\n        vertical-align: top;\n    }\n\n    .dataframe thead th {\n        text-align: right;\n    }\n</style>\n<table border=\"1\" class=\"dataframe\">\n  <thead>\n    <tr style=\"text-align: right;\">\n      <th></th>\n      <th>Name</th>\n      <th>Club</th>\n      <th>Wage</th>\n      <th>Age</th>\n      <th>ShotPower</th>\n    </tr>\n  </thead>\n  <tbody>\n    <tr>\n      <th>291</th>\n      <td>Mariano</td>\n      <td>Real Madrid</td>\n      <td>140000</td>\n      <td>24</td>\n      <td>85</td>\n    </tr>\n    <tr>\n      <th>6279</th>\n      <td>L. Quezada</td>\n      <td>Córdoba CF</td>\n      <td>2000</td>\n      <td>22</td>\n      <td>66</td>\n    </tr>\n  </tbody>\n</table>\n</div>"
     },
     "metadata": {},
     "execution_count": 67
    }
   ],
   "source": [
    "df.loc[df['Nationality'] == 'Dominican Republic'][['Name','Club','Wage','Age','ShotPower']]"
   ]
  },
  {
   "cell_type": "code",
   "execution_count": 71,
   "metadata": {},
   "outputs": [
    {
     "output_type": "execute_result",
     "data": {
      "text/plain": [
       "                   Wage         Value\n",
       "Position                             \n",
       "LF         75125.000000  2.736250e+07\n",
       "RF        119000.000000  2.636583e+07\n",
       "LAM        61000.000000  1.324583e+07\n",
       "RAM        11800.000000  8.345000e+06\n",
       "LS         15421.487603  5.848430e+06\n",
       "LCM        13497.854077  4.318090e+06\n",
       "RCM        13504.166667  4.217604e+06\n",
       "RS         13482.456140  3.645833e+06\n",
       "LW         12169.421488  3.603099e+06\n",
       "RW         13822.784810  3.495738e+06\n",
       "LDM        10243.243243  3.369459e+06\n",
       "RCB        11270.334928  3.009055e+06\n",
       "CAM         8688.783570  2.963199e+06\n",
       "RDM        11282.608696  2.692717e+06\n",
       "LCB         9753.056235  2.636516e+06\n",
       "LM          7472.527473  2.466174e+06\n",
       "ST          7852.513228  2.157252e+06\n",
       "RM          6655.352480  2.138734e+06\n",
       "LWB         5783.333333  1.931333e+06\n",
       "CF          4862.745098  1.848627e+06\n",
       "CDM         7121.562952  1.658900e+06\n",
       "CM          5805.060918  1.617465e+06\n",
       "RWB         6000.000000  1.555571e+06\n",
       "GK          5352.833638  1.502502e+06\n",
       "LB          6083.832335  1.429032e+06\n",
       "CB          5328.581611  1.321251e+06\n",
       "RB          5310.126582  1.248940e+06"
      ],
      "text/html": "<div>\n<style scoped>\n    .dataframe tbody tr th:only-of-type {\n        vertical-align: middle;\n    }\n\n    .dataframe tbody tr th {\n        vertical-align: top;\n    }\n\n    .dataframe thead th {\n        text-align: right;\n    }\n</style>\n<table border=\"1\" class=\"dataframe\">\n  <thead>\n    <tr style=\"text-align: right;\">\n      <th></th>\n      <th>Wage</th>\n      <th>Value</th>\n    </tr>\n    <tr>\n      <th>Position</th>\n      <th></th>\n      <th></th>\n    </tr>\n  </thead>\n  <tbody>\n    <tr>\n      <th>LF</th>\n      <td>75125.000000</td>\n      <td>2.736250e+07</td>\n    </tr>\n    <tr>\n      <th>RF</th>\n      <td>119000.000000</td>\n      <td>2.636583e+07</td>\n    </tr>\n    <tr>\n      <th>LAM</th>\n      <td>61000.000000</td>\n      <td>1.324583e+07</td>\n    </tr>\n    <tr>\n      <th>RAM</th>\n      <td>11800.000000</td>\n      <td>8.345000e+06</td>\n    </tr>\n    <tr>\n      <th>LS</th>\n      <td>15421.487603</td>\n      <td>5.848430e+06</td>\n    </tr>\n    <tr>\n      <th>LCM</th>\n      <td>13497.854077</td>\n      <td>4.318090e+06</td>\n    </tr>\n    <tr>\n      <th>RCM</th>\n      <td>13504.166667</td>\n      <td>4.217604e+06</td>\n    </tr>\n    <tr>\n      <th>RS</th>\n      <td>13482.456140</td>\n      <td>3.645833e+06</td>\n    </tr>\n    <tr>\n      <th>LW</th>\n      <td>12169.421488</td>\n      <td>3.603099e+06</td>\n    </tr>\n    <tr>\n      <th>RW</th>\n      <td>13822.784810</td>\n      <td>3.495738e+06</td>\n    </tr>\n    <tr>\n      <th>LDM</th>\n      <td>10243.243243</td>\n      <td>3.369459e+06</td>\n    </tr>\n    <tr>\n      <th>RCB</th>\n      <td>11270.334928</td>\n      <td>3.009055e+06</td>\n    </tr>\n    <tr>\n      <th>CAM</th>\n      <td>8688.783570</td>\n      <td>2.963199e+06</td>\n    </tr>\n    <tr>\n      <th>RDM</th>\n      <td>11282.608696</td>\n      <td>2.692717e+06</td>\n    </tr>\n    <tr>\n      <th>LCB</th>\n      <td>9753.056235</td>\n      <td>2.636516e+06</td>\n    </tr>\n    <tr>\n      <th>LM</th>\n      <td>7472.527473</td>\n      <td>2.466174e+06</td>\n    </tr>\n    <tr>\n      <th>ST</th>\n      <td>7852.513228</td>\n      <td>2.157252e+06</td>\n    </tr>\n    <tr>\n      <th>RM</th>\n      <td>6655.352480</td>\n      <td>2.138734e+06</td>\n    </tr>\n    <tr>\n      <th>LWB</th>\n      <td>5783.333333</td>\n      <td>1.931333e+06</td>\n    </tr>\n    <tr>\n      <th>CF</th>\n      <td>4862.745098</td>\n      <td>1.848627e+06</td>\n    </tr>\n    <tr>\n      <th>CDM</th>\n      <td>7121.562952</td>\n      <td>1.658900e+06</td>\n    </tr>\n    <tr>\n      <th>CM</th>\n      <td>5805.060918</td>\n      <td>1.617465e+06</td>\n    </tr>\n    <tr>\n      <th>RWB</th>\n      <td>6000.000000</td>\n      <td>1.555571e+06</td>\n    </tr>\n    <tr>\n      <th>GK</th>\n      <td>5352.833638</td>\n      <td>1.502502e+06</td>\n    </tr>\n    <tr>\n      <th>LB</th>\n      <td>6083.832335</td>\n      <td>1.429032e+06</td>\n    </tr>\n    <tr>\n      <th>CB</th>\n      <td>5328.581611</td>\n      <td>1.321251e+06</td>\n    </tr>\n    <tr>\n      <th>RB</th>\n      <td>5310.126582</td>\n      <td>1.248940e+06</td>\n    </tr>\n  </tbody>\n</table>\n</div>"
     },
     "metadata": {},
     "execution_count": 71
    }
   ],
   "source": [
    "df.groupby(['Position'])[['Wage','Value']].mean().sort_values(['Value'], ascending=False)"
   ]
  },
  {
   "cell_type": "code",
   "execution_count": 72,
   "metadata": {},
   "outputs": [
    {
     "output_type": "execute_result",
     "data": {
      "text/plain": [
       "             Club  Name\n",
       "Nationality            \n",
       "Afghanistan     4     4\n",
       "Albania        26    29\n",
       "Algeria        33    37\n",
       "Andorra         1     1\n",
       "Angola          9    10\n",
       "...           ...   ...\n",
       "Uzbekistan      2     2\n",
       "Venezuela      34    36\n",
       "Wales          56   101\n",
       "Zambia          5     6\n",
       "Zimbabwe        8     9\n",
       "\n",
       "[156 rows x 2 columns]"
      ],
      "text/html": "<div>\n<style scoped>\n    .dataframe tbody tr th:only-of-type {\n        vertical-align: middle;\n    }\n\n    .dataframe tbody tr th {\n        vertical-align: top;\n    }\n\n    .dataframe thead th {\n        text-align: right;\n    }\n</style>\n<table border=\"1\" class=\"dataframe\">\n  <thead>\n    <tr style=\"text-align: right;\">\n      <th></th>\n      <th>Club</th>\n      <th>Name</th>\n    </tr>\n    <tr>\n      <th>Nationality</th>\n      <th></th>\n      <th></th>\n    </tr>\n  </thead>\n  <tbody>\n    <tr>\n      <th>Afghanistan</th>\n      <td>4</td>\n      <td>4</td>\n    </tr>\n    <tr>\n      <th>Albania</th>\n      <td>26</td>\n      <td>29</td>\n    </tr>\n    <tr>\n      <th>Algeria</th>\n      <td>33</td>\n      <td>37</td>\n    </tr>\n    <tr>\n      <th>Andorra</th>\n      <td>1</td>\n      <td>1</td>\n    </tr>\n    <tr>\n      <th>Angola</th>\n      <td>9</td>\n      <td>10</td>\n    </tr>\n    <tr>\n      <th>...</th>\n      <td>...</td>\n      <td>...</td>\n    </tr>\n    <tr>\n      <th>Uzbekistan</th>\n      <td>2</td>\n      <td>2</td>\n    </tr>\n    <tr>\n      <th>Venezuela</th>\n      <td>34</td>\n      <td>36</td>\n    </tr>\n    <tr>\n      <th>Wales</th>\n      <td>56</td>\n      <td>101</td>\n    </tr>\n    <tr>\n      <th>Zambia</th>\n      <td>5</td>\n      <td>6</td>\n    </tr>\n    <tr>\n      <th>Zimbabwe</th>\n      <td>8</td>\n      <td>9</td>\n    </tr>\n  </tbody>\n</table>\n<p>156 rows × 2 columns</p>\n</div>"
     },
     "metadata": {},
     "execution_count": 72
    }
   ],
   "source": [
    "df.groupby(['Nationality'])[['Club','Name']].nunique()"
   ]
  },
  {
   "cell_type": "code",
   "execution_count": 73,
   "metadata": {},
   "outputs": [
    {
     "output_type": "execute_result",
     "data": {
      "text/plain": [
       "Club\n",
       " SSV Jahn Regensburg     24\n",
       "1. FC Heidenheim 1846    20\n",
       "1. FC Kaiserslautern     23\n",
       "1. FC Köln               10\n",
       "1. FC Magdeburg          21\n",
       "                         ..\n",
       "Zagłębie Sosnowiec       25\n",
       "Çaykur Rizespor          22\n",
       "Örebro SK                26\n",
       "Östersunds FK            20\n",
       "Śląsk Wrocław            24\n",
       "Name: Name, Length: 650, dtype: int64"
      ]
     },
     "metadata": {},
     "execution_count": 73
    }
   ],
   "source": [
    "df.groupby(['Club'])['Name'].count()"
   ]
  },
  {
   "cell_type": "code",
   "execution_count": 74,
   "metadata": {},
   "outputs": [
    {
     "output_type": "execute_result",
     "data": {
      "text/plain": [
       "Club\n",
       " SSV Jahn Regensburg     57.5\n",
       "1. FC Heidenheim 1846    59.5\n",
       "1. FC Kaiserslautern     54.0\n",
       "1. FC Köln               60.5\n",
       "1. FC Magdeburg          53.0\n",
       "                         ... \n",
       "Zagłębie Sosnowiec       58.0\n",
       "Çaykur Rizespor          62.0\n",
       "Örebro SK                55.0\n",
       "Östersunds FK            61.5\n",
       "Śląsk Wrocław            54.5\n",
       "Name: Dribbling, Length: 650, dtype: float64"
      ]
     },
     "metadata": {},
     "execution_count": 74
    }
   ],
   "source": [
    "df.groupby(['Club'])['Dribbling'].median()"
   ]
  },
  {
   "cell_type": "code",
   "execution_count": 75,
   "metadata": {},
   "outputs": [
    {
     "output_type": "execute_result",
     "data": {
      "text/plain": [
       "Club\n",
       " SSV Jahn Regensburg     92\n",
       "1. FC Heidenheim 1846    86\n",
       "1. FC Kaiserslautern     85\n",
       "1. FC Köln               76\n",
       "1. FC Magdeburg          86\n",
       "                         ..\n",
       "Zagłębie Sosnowiec       84\n",
       "Çaykur Rizespor          81\n",
       "Örebro SK                85\n",
       "Östersunds FK            88\n",
       "Śląsk Wrocław            85\n",
       "Name: Strength, Length: 650, dtype: int64"
      ]
     },
     "metadata": {},
     "execution_count": 75
    }
   ],
   "source": [
    "df.groupby(['Club'])['Strength'].max()"
   ]
  },
  {
   "cell_type": "code",
   "execution_count": 76,
   "metadata": {},
   "outputs": [
    {
     "output_type": "execute_result",
     "data": {
      "text/plain": [
       "Club\n",
       " SSV Jahn Regensburg     29\n",
       "1. FC Heidenheim 1846    22\n",
       "1. FC Kaiserslautern     29\n",
       "1. FC Köln               31\n",
       "1. FC Magdeburg          19\n",
       "                         ..\n",
       "Zagłębie Sosnowiec       28\n",
       "Çaykur Rizespor          39\n",
       "Örebro SK                34\n",
       "Östersunds FK            32\n",
       "Śląsk Wrocław            31\n",
       "Name: Balance, Length: 650, dtype: int64"
      ]
     },
     "metadata": {},
     "execution_count": 76
    }
   ],
   "source": [
    "df.groupby(['Club'])['Balance'].min()"
   ]
  },
  {
   "cell_type": "code",
   "execution_count": 103,
   "metadata": {},
   "outputs": [
    {
     "output_type": "execute_result",
     "data": {
      "text/plain": [
       "                           mean  median\n",
       "Club                                   \n",
       "Cruzeiro                13000.0   13000\n",
       "Göztepe SK               7000.0    7000\n",
       "Brøndby IF               6000.0    6000\n",
       "Sunderland               4000.0    4000\n",
       "CD Feirense              4000.0    4000\n",
       "1. FC Magdeburg          4000.0    4000\n",
       "Northampton Town         2500.0    2500\n",
       "Stade Brestois 29        2000.0    2000\n",
       "Jeonnam Dragons          2000.0    2000\n",
       "Pohang Steelers          2000.0    2000\n",
       "AJ Auxerre               2000.0    2000\n",
       "Grimsby Town             2000.0    2000\n",
       "Heracles Almelo          2000.0    2000\n",
       "Philadelphia Union       2000.0    2000\n",
       "Kashiwa Reysol           2000.0    2000\n",
       "CD Tondela               2000.0    2000\n",
       "Benevento                2000.0    2000\n",
       "FC Metz                  1500.0    1500\n",
       "PAOK                     1000.0    1000\n",
       "Orlando Pirates          1000.0    1000\n",
       "Panathinaikos FC         1000.0    1000\n",
       "Patriotas Boyacá FC      1000.0    1000\n",
       "PFC CSKA Moscow          1000.0    1000\n",
       "Shakhtar Donetsk         1000.0    1000\n",
       "SK Slavia Praha          1000.0    1000\n",
       "Shamrock Rovers          1000.0    1000\n",
       "Sligo Rovers             1000.0    1000\n",
       "Sparta Praha             1000.0    1000\n",
       "Spartak Moscow           1000.0    1000\n",
       "St. Patrick's Athletic   1000.0    1000\n",
       "Trelleborgs FF           1000.0    1000\n",
       "Olympiacos CFP           1000.0    1000\n",
       "Jaguares de Córdoba      1000.0    1000\n",
       "Lokomotiv Moscow         1000.0    1000\n",
       "Dynamo Kyiv              1000.0    1000\n",
       "Bohemian FC              1000.0    1000\n",
       "Boyacá Chicó FC          1000.0    1000\n",
       "Bray Wanderers           1000.0    1000\n",
       "Cork City                1000.0    1000\n",
       "Deportivo Pasto          1000.0    1000\n",
       "Dinamo Zagreb            1000.0    1000\n",
       "Dundalk                  1000.0    1000\n",
       "Envigado FC              1000.0    1000\n",
       "Limerick FC              1000.0    1000\n",
       "FC Energie Cottbus       1000.0    1000\n",
       "HJK Helsinki             1000.0    1000\n",
       "IF Brommapojkarna        1000.0    1000\n",
       "IK Sirius                1000.0    1000\n",
       "Itagüí Leones FC         1000.0    1000\n",
       "AEK Athens               1000.0    1000\n",
       "Kaizer Chiefs            1000.0    1000\n",
       "Viktoria Plzeň           1000.0    1000"
      ],
      "text/html": "<div>\n<style scoped>\n    .dataframe tbody tr th:only-of-type {\n        vertical-align: middle;\n    }\n\n    .dataframe tbody tr th {\n        vertical-align: top;\n    }\n\n    .dataframe thead th {\n        text-align: right;\n    }\n</style>\n<table border=\"1\" class=\"dataframe\">\n  <thead>\n    <tr style=\"text-align: right;\">\n      <th></th>\n      <th>mean</th>\n      <th>median</th>\n    </tr>\n    <tr>\n      <th>Club</th>\n      <th></th>\n      <th></th>\n    </tr>\n  </thead>\n  <tbody>\n    <tr>\n      <th>Cruzeiro</th>\n      <td>13000.0</td>\n      <td>13000</td>\n    </tr>\n    <tr>\n      <th>Göztepe SK</th>\n      <td>7000.0</td>\n      <td>7000</td>\n    </tr>\n    <tr>\n      <th>Brøndby IF</th>\n      <td>6000.0</td>\n      <td>6000</td>\n    </tr>\n    <tr>\n      <th>Sunderland</th>\n      <td>4000.0</td>\n      <td>4000</td>\n    </tr>\n    <tr>\n      <th>CD Feirense</th>\n      <td>4000.0</td>\n      <td>4000</td>\n    </tr>\n    <tr>\n      <th>1. FC Magdeburg</th>\n      <td>4000.0</td>\n      <td>4000</td>\n    </tr>\n    <tr>\n      <th>Northampton Town</th>\n      <td>2500.0</td>\n      <td>2500</td>\n    </tr>\n    <tr>\n      <th>Stade Brestois 29</th>\n      <td>2000.0</td>\n      <td>2000</td>\n    </tr>\n    <tr>\n      <th>Jeonnam Dragons</th>\n      <td>2000.0</td>\n      <td>2000</td>\n    </tr>\n    <tr>\n      <th>Pohang Steelers</th>\n      <td>2000.0</td>\n      <td>2000</td>\n    </tr>\n    <tr>\n      <th>AJ Auxerre</th>\n      <td>2000.0</td>\n      <td>2000</td>\n    </tr>\n    <tr>\n      <th>Grimsby Town</th>\n      <td>2000.0</td>\n      <td>2000</td>\n    </tr>\n    <tr>\n      <th>Heracles Almelo</th>\n      <td>2000.0</td>\n      <td>2000</td>\n    </tr>\n    <tr>\n      <th>Philadelphia Union</th>\n      <td>2000.0</td>\n      <td>2000</td>\n    </tr>\n    <tr>\n      <th>Kashiwa Reysol</th>\n      <td>2000.0</td>\n      <td>2000</td>\n    </tr>\n    <tr>\n      <th>CD Tondela</th>\n      <td>2000.0</td>\n      <td>2000</td>\n    </tr>\n    <tr>\n      <th>Benevento</th>\n      <td>2000.0</td>\n      <td>2000</td>\n    </tr>\n    <tr>\n      <th>FC Metz</th>\n      <td>1500.0</td>\n      <td>1500</td>\n    </tr>\n    <tr>\n      <th>PAOK</th>\n      <td>1000.0</td>\n      <td>1000</td>\n    </tr>\n    <tr>\n      <th>Orlando Pirates</th>\n      <td>1000.0</td>\n      <td>1000</td>\n    </tr>\n    <tr>\n      <th>Panathinaikos FC</th>\n      <td>1000.0</td>\n      <td>1000</td>\n    </tr>\n    <tr>\n      <th>Patriotas Boyacá FC</th>\n      <td>1000.0</td>\n      <td>1000</td>\n    </tr>\n    <tr>\n      <th>PFC CSKA Moscow</th>\n      <td>1000.0</td>\n      <td>1000</td>\n    </tr>\n    <tr>\n      <th>Shakhtar Donetsk</th>\n      <td>1000.0</td>\n      <td>1000</td>\n    </tr>\n    <tr>\n      <th>SK Slavia Praha</th>\n      <td>1000.0</td>\n      <td>1000</td>\n    </tr>\n    <tr>\n      <th>Shamrock Rovers</th>\n      <td>1000.0</td>\n      <td>1000</td>\n    </tr>\n    <tr>\n      <th>Sligo Rovers</th>\n      <td>1000.0</td>\n      <td>1000</td>\n    </tr>\n    <tr>\n      <th>Sparta Praha</th>\n      <td>1000.0</td>\n      <td>1000</td>\n    </tr>\n    <tr>\n      <th>Spartak Moscow</th>\n      <td>1000.0</td>\n      <td>1000</td>\n    </tr>\n    <tr>\n      <th>St. Patrick's Athletic</th>\n      <td>1000.0</td>\n      <td>1000</td>\n    </tr>\n    <tr>\n      <th>Trelleborgs FF</th>\n      <td>1000.0</td>\n      <td>1000</td>\n    </tr>\n    <tr>\n      <th>Olympiacos CFP</th>\n      <td>1000.0</td>\n      <td>1000</td>\n    </tr>\n    <tr>\n      <th>Jaguares de Córdoba</th>\n      <td>1000.0</td>\n      <td>1000</td>\n    </tr>\n    <tr>\n      <th>Lokomotiv Moscow</th>\n      <td>1000.0</td>\n      <td>1000</td>\n    </tr>\n    <tr>\n      <th>Dynamo Kyiv</th>\n      <td>1000.0</td>\n      <td>1000</td>\n    </tr>\n    <tr>\n      <th>Bohemian FC</th>\n      <td>1000.0</td>\n      <td>1000</td>\n    </tr>\n    <tr>\n      <th>Boyacá Chicó FC</th>\n      <td>1000.0</td>\n      <td>1000</td>\n    </tr>\n    <tr>\n      <th>Bray Wanderers</th>\n      <td>1000.0</td>\n      <td>1000</td>\n    </tr>\n    <tr>\n      <th>Cork City</th>\n      <td>1000.0</td>\n      <td>1000</td>\n    </tr>\n    <tr>\n      <th>Deportivo Pasto</th>\n      <td>1000.0</td>\n      <td>1000</td>\n    </tr>\n    <tr>\n      <th>Dinamo Zagreb</th>\n      <td>1000.0</td>\n      <td>1000</td>\n    </tr>\n    <tr>\n      <th>Dundalk</th>\n      <td>1000.0</td>\n      <td>1000</td>\n    </tr>\n    <tr>\n      <th>Envigado FC</th>\n      <td>1000.0</td>\n      <td>1000</td>\n    </tr>\n    <tr>\n      <th>Limerick FC</th>\n      <td>1000.0</td>\n      <td>1000</td>\n    </tr>\n    <tr>\n      <th>FC Energie Cottbus</th>\n      <td>1000.0</td>\n      <td>1000</td>\n    </tr>\n    <tr>\n      <th>HJK Helsinki</th>\n      <td>1000.0</td>\n      <td>1000</td>\n    </tr>\n    <tr>\n      <th>IF Brommapojkarna</th>\n      <td>1000.0</td>\n      <td>1000</td>\n    </tr>\n    <tr>\n      <th>IK Sirius</th>\n      <td>1000.0</td>\n      <td>1000</td>\n    </tr>\n    <tr>\n      <th>Itagüí Leones FC</th>\n      <td>1000.0</td>\n      <td>1000</td>\n    </tr>\n    <tr>\n      <th>AEK Athens</th>\n      <td>1000.0</td>\n      <td>1000</td>\n    </tr>\n    <tr>\n      <th>Kaizer Chiefs</th>\n      <td>1000.0</td>\n      <td>1000</td>\n    </tr>\n    <tr>\n      <th>Viktoria Plzeň</th>\n      <td>1000.0</td>\n      <td>1000</td>\n    </tr>\n  </tbody>\n</table>\n</div>"
     },
     "metadata": {},
     "execution_count": 103
    }
   ],
   "source": [
    "some = df.groupby(['Club'])['Wage'].agg(['mean','median'])\n",
    "some[some['mean'] == some['median']].sort_values(['mean'], ascending=False)"
   ]
  },
  {
   "cell_type": "code",
   "execution_count": 107,
   "metadata": {},
   "outputs": [
    {
     "output_type": "execute_result",
     "data": {
      "text/plain": [
       "2035000"
      ]
     },
     "metadata": {},
     "execution_count": 107
    }
   ],
   "source": [
    "clubs = df.groupby(['Club']).Wage.sum()\n",
    "clubs[\"Chelsea\"]"
   ]
  },
  {
   "cell_type": "code",
   "execution_count": 138,
   "metadata": {},
   "outputs": [
    {
     "output_type": "execute_result",
     "data": {
      "text/plain": [
       "      Wage  Age       Name\n",
       "23  300000   30  S. Agüero"
      ],
      "text/html": "<div>\n<style scoped>\n    .dataframe tbody tr th:only-of-type {\n        vertical-align: middle;\n    }\n\n    .dataframe tbody tr th {\n        vertical-align: top;\n    }\n\n    .dataframe thead th {\n        text-align: right;\n    }\n</style>\n<table border=\"1\" class=\"dataframe\">\n  <thead>\n    <tr style=\"text-align: right;\">\n      <th></th>\n      <th>Wage</th>\n      <th>Age</th>\n      <th>Name</th>\n    </tr>\n  </thead>\n  <tbody>\n    <tr>\n      <th>23</th>\n      <td>300000</td>\n      <td>30</td>\n      <td>S. Agüero</td>\n    </tr>\n  </tbody>\n</table>\n</div>"
     },
     "metadata": {},
     "execution_count": 138
    }
   ],
   "source": [
    "maxs = df[(df.Nationality == \"Argentina\") & (df.Age == 30)][['Wage','Age','Name']]\n",
    "maxs[maxs.Wage == maxs.Wage.max()]"
   ]
  },
  {
   "cell_type": "code",
   "execution_count": 141,
   "metadata": {},
   "outputs": [
    {
     "output_type": "execute_result",
     "data": {
      "text/plain": [
       "      Wage  Age      Name              Club\n",
       "3366  1000   30   J. Miño  Deportes Iquique\n",
       "6893  1000   30  L. Trejo    Atlético Huila"
      ],
      "text/html": "<div>\n<style scoped>\n    .dataframe tbody tr th:only-of-type {\n        vertical-align: middle;\n    }\n\n    .dataframe tbody tr th {\n        vertical-align: top;\n    }\n\n    .dataframe thead th {\n        text-align: right;\n    }\n</style>\n<table border=\"1\" class=\"dataframe\">\n  <thead>\n    <tr style=\"text-align: right;\">\n      <th></th>\n      <th>Wage</th>\n      <th>Age</th>\n      <th>Name</th>\n      <th>Club</th>\n    </tr>\n  </thead>\n  <tbody>\n    <tr>\n      <th>3366</th>\n      <td>1000</td>\n      <td>30</td>\n      <td>J. Miño</td>\n      <td>Deportes Iquique</td>\n    </tr>\n    <tr>\n      <th>6893</th>\n      <td>1000</td>\n      <td>30</td>\n      <td>L. Trejo</td>\n      <td>Atlético Huila</td>\n    </tr>\n  </tbody>\n</table>\n</div>"
     },
     "metadata": {},
     "execution_count": 141
    }
   ],
   "source": [
    "maxs = df[(df.Nationality == \"Argentina\") & (df.Age == 30)][['Wage','Age','Name','Club']]\n",
    "maxs[maxs.Wage == maxs.Wage.min()]"
   ]
  },
  {
   "cell_type": "code",
   "execution_count": 144,
   "metadata": {},
   "outputs": [
    {
     "output_type": "execute_result",
     "data": {
      "text/plain": [
       "   Strength  Balance\n",
       "0        59       95"
      ],
      "text/html": "<div>\n<style scoped>\n    .dataframe tbody tr th:only-of-type {\n        vertical-align: middle;\n    }\n\n    .dataframe tbody tr th {\n        vertical-align: top;\n    }\n\n    .dataframe thead th {\n        text-align: right;\n    }\n</style>\n<table border=\"1\" class=\"dataframe\">\n  <thead>\n    <tr style=\"text-align: right;\">\n      <th></th>\n      <th>Strength</th>\n      <th>Balance</th>\n    </tr>\n  </thead>\n  <tbody>\n    <tr>\n      <th>0</th>\n      <td>59</td>\n      <td>95</td>\n    </tr>\n  </tbody>\n</table>\n</div>"
     },
     "metadata": {},
     "execution_count": 144
    }
   ],
   "source": [
    "df[(df.Club == \"FC Barcelona\") & (df.Nationality == \"Argentina\")][['Strength','Balance']]"
   ]
  },
  {
   "cell_type": "code",
   "execution_count": 145,
   "metadata": {},
   "outputs": [
    {
     "output_type": "display_data",
     "data": {
      "text/plain": "                           Wage                                        \nClub               FC Barcelona  Juventus Manchester United Real Madrid\nNationality                                                            \nArgentina              565000.0  205000.0          206000.0         NaN\nBelgium                110000.0       NaN          230000.0    240000.0\nBosnia Herzegovina          NaN  180000.0               NaN         NaN\nBrazil                 465000.0  335000.0           91000.0    570000.0\nChile                  205000.0       NaN          215000.0         NaN\nCosta Rica                  NaN       NaN               NaN    195000.0\nCroatia                260000.0  160000.0               NaN    420000.0\nDominican Republic          NaN       NaN               NaN    140000.0\nEcuador                     NaN       NaN          120000.0         NaN\nEngland                     NaN       NaN          478000.0         NaN\nFrance                 495000.0  145000.0          375000.0    459000.0\nGermany                240000.0  160000.0               NaN    355000.0\nItaly                       NaN  460000.0           88000.0         NaN\nIvory Coast                 NaN       NaN          105000.0         NaN\nMorocco                     NaN  160000.0               NaN         NaN\nNetherlands            135000.0       NaN               NaN         NaN\nPoland                      NaN  125000.0               NaN         NaN\nPortugal               125000.0  405000.0               NaN         NaN\nScotland                    NaN       NaN           11000.0         NaN\nSerbia                      NaN       NaN          165000.0         NaN\nSpain                  912000.0       NaN          260000.0   1404000.0\nUruguay                455000.0       NaN               NaN         NaN\nWales                       NaN       NaN           13000.0    355000.0",
      "text/html": "<div>\n<style scoped>\n    .dataframe tbody tr th:only-of-type {\n        vertical-align: middle;\n    }\n\n    .dataframe tbody tr th {\n        vertical-align: top;\n    }\n\n    .dataframe thead tr th {\n        text-align: left;\n    }\n\n    .dataframe thead tr:last-of-type th {\n        text-align: right;\n    }\n</style>\n<table border=\"1\" class=\"dataframe\">\n  <thead>\n    <tr>\n      <th></th>\n      <th colspan=\"4\" halign=\"left\">Wage</th>\n    </tr>\n    <tr>\n      <th>Club</th>\n      <th>FC Barcelona</th>\n      <th>Juventus</th>\n      <th>Manchester United</th>\n      <th>Real Madrid</th>\n    </tr>\n    <tr>\n      <th>Nationality</th>\n      <th></th>\n      <th></th>\n      <th></th>\n      <th></th>\n    </tr>\n  </thead>\n  <tbody>\n    <tr>\n      <th>Argentina</th>\n      <td>565000.0</td>\n      <td>205000.0</td>\n      <td>206000.0</td>\n      <td>NaN</td>\n    </tr>\n    <tr>\n      <th>Belgium</th>\n      <td>110000.0</td>\n      <td>NaN</td>\n      <td>230000.0</td>\n      <td>240000.0</td>\n    </tr>\n    <tr>\n      <th>Bosnia Herzegovina</th>\n      <td>NaN</td>\n      <td>180000.0</td>\n      <td>NaN</td>\n      <td>NaN</td>\n    </tr>\n    <tr>\n      <th>Brazil</th>\n      <td>465000.0</td>\n      <td>335000.0</td>\n      <td>91000.0</td>\n      <td>570000.0</td>\n    </tr>\n    <tr>\n      <th>Chile</th>\n      <td>205000.0</td>\n      <td>NaN</td>\n      <td>215000.0</td>\n      <td>NaN</td>\n    </tr>\n    <tr>\n      <th>Costa Rica</th>\n      <td>NaN</td>\n      <td>NaN</td>\n      <td>NaN</td>\n      <td>195000.0</td>\n    </tr>\n    <tr>\n      <th>Croatia</th>\n      <td>260000.0</td>\n      <td>160000.0</td>\n      <td>NaN</td>\n      <td>420000.0</td>\n    </tr>\n    <tr>\n      <th>Dominican Republic</th>\n      <td>NaN</td>\n      <td>NaN</td>\n      <td>NaN</td>\n      <td>140000.0</td>\n    </tr>\n    <tr>\n      <th>Ecuador</th>\n      <td>NaN</td>\n      <td>NaN</td>\n      <td>120000.0</td>\n      <td>NaN</td>\n    </tr>\n    <tr>\n      <th>England</th>\n      <td>NaN</td>\n      <td>NaN</td>\n      <td>478000.0</td>\n      <td>NaN</td>\n    </tr>\n    <tr>\n      <th>France</th>\n      <td>495000.0</td>\n      <td>145000.0</td>\n      <td>375000.0</td>\n      <td>459000.0</td>\n    </tr>\n    <tr>\n      <th>Germany</th>\n      <td>240000.0</td>\n      <td>160000.0</td>\n      <td>NaN</td>\n      <td>355000.0</td>\n    </tr>\n    <tr>\n      <th>Italy</th>\n      <td>NaN</td>\n      <td>460000.0</td>\n      <td>88000.0</td>\n      <td>NaN</td>\n    </tr>\n    <tr>\n      <th>Ivory Coast</th>\n      <td>NaN</td>\n      <td>NaN</td>\n      <td>105000.0</td>\n      <td>NaN</td>\n    </tr>\n    <tr>\n      <th>Morocco</th>\n      <td>NaN</td>\n      <td>160000.0</td>\n      <td>NaN</td>\n      <td>NaN</td>\n    </tr>\n    <tr>\n      <th>Netherlands</th>\n      <td>135000.0</td>\n      <td>NaN</td>\n      <td>NaN</td>\n      <td>NaN</td>\n    </tr>\n    <tr>\n      <th>Poland</th>\n      <td>NaN</td>\n      <td>125000.0</td>\n      <td>NaN</td>\n      <td>NaN</td>\n    </tr>\n    <tr>\n      <th>Portugal</th>\n      <td>125000.0</td>\n      <td>405000.0</td>\n      <td>NaN</td>\n      <td>NaN</td>\n    </tr>\n    <tr>\n      <th>Scotland</th>\n      <td>NaN</td>\n      <td>NaN</td>\n      <td>11000.0</td>\n      <td>NaN</td>\n    </tr>\n    <tr>\n      <th>Serbia</th>\n      <td>NaN</td>\n      <td>NaN</td>\n      <td>165000.0</td>\n      <td>NaN</td>\n    </tr>\n    <tr>\n      <th>Spain</th>\n      <td>912000.0</td>\n      <td>NaN</td>\n      <td>260000.0</td>\n      <td>1404000.0</td>\n    </tr>\n    <tr>\n      <th>Uruguay</th>\n      <td>455000.0</td>\n      <td>NaN</td>\n      <td>NaN</td>\n      <td>NaN</td>\n    </tr>\n    <tr>\n      <th>Wales</th>\n      <td>NaN</td>\n      <td>NaN</td>\n      <td>13000.0</td>\n      <td>355000.0</td>\n    </tr>\n  </tbody>\n</table>\n</div>"
     },
     "metadata": {}
    }
   ],
   "source": [
    "pivot = df.loc[df['Club'].isin(['FC Barcelona','Real Madrid','Juventus','Manchester United'])].pivot_table(values=['Wage'],\n",
    "index=['Nationality'],\n",
    "columns=['Club'],\n",
    "aggfunc='sum')\n",
    "display(pivot)"
   ]
  },
  {
   "cell_type": "code",
   "execution_count": 146,
   "metadata": {},
   "outputs": [
    {
     "output_type": "display_data",
     "data": {
      "text/plain": "                           Wage                                           \\\nClub               FC Barcelona   Juventus Manchester United Real Madrid   \nNationality                                                                \nArgentina              565000.0   205000.0          206000.0         NaN   \nBelgium                110000.0        NaN          230000.0    240000.0   \nBosnia Herzegovina          NaN   180000.0               NaN         NaN   \nBrazil                 465000.0   335000.0           91000.0    570000.0   \nChile                  205000.0        NaN          215000.0         NaN   \nCosta Rica                  NaN        NaN               NaN    195000.0   \nCroatia                260000.0   160000.0               NaN    420000.0   \nDominican Republic          NaN        NaN               NaN    140000.0   \nEcuador                     NaN        NaN          120000.0         NaN   \nEngland                     NaN        NaN          478000.0         NaN   \nFrance                 495000.0   145000.0          375000.0    459000.0   \nGermany                240000.0   160000.0               NaN    355000.0   \nItaly                       NaN   460000.0           88000.0         NaN   \nIvory Coast                 NaN        NaN          105000.0         NaN   \nMorocco                     NaN   160000.0               NaN         NaN   \nNetherlands            135000.0        NaN               NaN         NaN   \nPoland                      NaN   125000.0               NaN         NaN   \nPortugal               125000.0   405000.0               NaN         NaN   \nScotland                    NaN        NaN           11000.0         NaN   \nSerbia                      NaN        NaN          165000.0         NaN   \nSpain                  912000.0        NaN          260000.0   1404000.0   \nUruguay                455000.0        NaN               NaN         NaN   \nWales                       NaN        NaN           13000.0    355000.0   \nAll                   3967000.0  2335000.0         2357000.0   4138000.0   \n\n                              \nClub                     All  \nNationality                   \nArgentina             976000  \nBelgium               580000  \nBosnia Herzegovina    180000  \nBrazil               1461000  \nChile                 420000  \nCosta Rica            195000  \nCroatia               840000  \nDominican Republic    140000  \nEcuador               120000  \nEngland               478000  \nFrance               1474000  \nGermany               755000  \nItaly                 548000  \nIvory Coast           105000  \nMorocco               160000  \nNetherlands           135000  \nPoland                125000  \nPortugal              530000  \nScotland               11000  \nSerbia                165000  \nSpain                2576000  \nUruguay               455000  \nWales                 368000  \nAll                 12797000  ",
      "text/html": "<div>\n<style scoped>\n    .dataframe tbody tr th:only-of-type {\n        vertical-align: middle;\n    }\n\n    .dataframe tbody tr th {\n        vertical-align: top;\n    }\n\n    .dataframe thead tr th {\n        text-align: left;\n    }\n\n    .dataframe thead tr:last-of-type th {\n        text-align: right;\n    }\n</style>\n<table border=\"1\" class=\"dataframe\">\n  <thead>\n    <tr>\n      <th></th>\n      <th colspan=\"5\" halign=\"left\">Wage</th>\n    </tr>\n    <tr>\n      <th>Club</th>\n      <th>FC Barcelona</th>\n      <th>Juventus</th>\n      <th>Manchester United</th>\n      <th>Real Madrid</th>\n      <th>All</th>\n    </tr>\n    <tr>\n      <th>Nationality</th>\n      <th></th>\n      <th></th>\n      <th></th>\n      <th></th>\n      <th></th>\n    </tr>\n  </thead>\n  <tbody>\n    <tr>\n      <th>Argentina</th>\n      <td>565000.0</td>\n      <td>205000.0</td>\n      <td>206000.0</td>\n      <td>NaN</td>\n      <td>976000</td>\n    </tr>\n    <tr>\n      <th>Belgium</th>\n      <td>110000.0</td>\n      <td>NaN</td>\n      <td>230000.0</td>\n      <td>240000.0</td>\n      <td>580000</td>\n    </tr>\n    <tr>\n      <th>Bosnia Herzegovina</th>\n      <td>NaN</td>\n      <td>180000.0</td>\n      <td>NaN</td>\n      <td>NaN</td>\n      <td>180000</td>\n    </tr>\n    <tr>\n      <th>Brazil</th>\n      <td>465000.0</td>\n      <td>335000.0</td>\n      <td>91000.0</td>\n      <td>570000.0</td>\n      <td>1461000</td>\n    </tr>\n    <tr>\n      <th>Chile</th>\n      <td>205000.0</td>\n      <td>NaN</td>\n      <td>215000.0</td>\n      <td>NaN</td>\n      <td>420000</td>\n    </tr>\n    <tr>\n      <th>Costa Rica</th>\n      <td>NaN</td>\n      <td>NaN</td>\n      <td>NaN</td>\n      <td>195000.0</td>\n      <td>195000</td>\n    </tr>\n    <tr>\n      <th>Croatia</th>\n      <td>260000.0</td>\n      <td>160000.0</td>\n      <td>NaN</td>\n      <td>420000.0</td>\n      <td>840000</td>\n    </tr>\n    <tr>\n      <th>Dominican Republic</th>\n      <td>NaN</td>\n      <td>NaN</td>\n      <td>NaN</td>\n      <td>140000.0</td>\n      <td>140000</td>\n    </tr>\n    <tr>\n      <th>Ecuador</th>\n      <td>NaN</td>\n      <td>NaN</td>\n      <td>120000.0</td>\n      <td>NaN</td>\n      <td>120000</td>\n    </tr>\n    <tr>\n      <th>England</th>\n      <td>NaN</td>\n      <td>NaN</td>\n      <td>478000.0</td>\n      <td>NaN</td>\n      <td>478000</td>\n    </tr>\n    <tr>\n      <th>France</th>\n      <td>495000.0</td>\n      <td>145000.0</td>\n      <td>375000.0</td>\n      <td>459000.0</td>\n      <td>1474000</td>\n    </tr>\n    <tr>\n      <th>Germany</th>\n      <td>240000.0</td>\n      <td>160000.0</td>\n      <td>NaN</td>\n      <td>355000.0</td>\n      <td>755000</td>\n    </tr>\n    <tr>\n      <th>Italy</th>\n      <td>NaN</td>\n      <td>460000.0</td>\n      <td>88000.0</td>\n      <td>NaN</td>\n      <td>548000</td>\n    </tr>\n    <tr>\n      <th>Ivory Coast</th>\n      <td>NaN</td>\n      <td>NaN</td>\n      <td>105000.0</td>\n      <td>NaN</td>\n      <td>105000</td>\n    </tr>\n    <tr>\n      <th>Morocco</th>\n      <td>NaN</td>\n      <td>160000.0</td>\n      <td>NaN</td>\n      <td>NaN</td>\n      <td>160000</td>\n    </tr>\n    <tr>\n      <th>Netherlands</th>\n      <td>135000.0</td>\n      <td>NaN</td>\n      <td>NaN</td>\n      <td>NaN</td>\n      <td>135000</td>\n    </tr>\n    <tr>\n      <th>Poland</th>\n      <td>NaN</td>\n      <td>125000.0</td>\n      <td>NaN</td>\n      <td>NaN</td>\n      <td>125000</td>\n    </tr>\n    <tr>\n      <th>Portugal</th>\n      <td>125000.0</td>\n      <td>405000.0</td>\n      <td>NaN</td>\n      <td>NaN</td>\n      <td>530000</td>\n    </tr>\n    <tr>\n      <th>Scotland</th>\n      <td>NaN</td>\n      <td>NaN</td>\n      <td>11000.0</td>\n      <td>NaN</td>\n      <td>11000</td>\n    </tr>\n    <tr>\n      <th>Serbia</th>\n      <td>NaN</td>\n      <td>NaN</td>\n      <td>165000.0</td>\n      <td>NaN</td>\n      <td>165000</td>\n    </tr>\n    <tr>\n      <th>Spain</th>\n      <td>912000.0</td>\n      <td>NaN</td>\n      <td>260000.0</td>\n      <td>1404000.0</td>\n      <td>2576000</td>\n    </tr>\n    <tr>\n      <th>Uruguay</th>\n      <td>455000.0</td>\n      <td>NaN</td>\n      <td>NaN</td>\n      <td>NaN</td>\n      <td>455000</td>\n    </tr>\n    <tr>\n      <th>Wales</th>\n      <td>NaN</td>\n      <td>NaN</td>\n      <td>13000.0</td>\n      <td>355000.0</td>\n      <td>368000</td>\n    </tr>\n    <tr>\n      <th>All</th>\n      <td>3967000.0</td>\n      <td>2335000.0</td>\n      <td>2357000.0</td>\n      <td>4138000.0</td>\n      <td>12797000</td>\n    </tr>\n  </tbody>\n</table>\n</div>"
     },
     "metadata": {}
    }
   ],
   "source": [
    "pivot = df.loc[df['Club'].isin(['FC Barcelona','Real Madrid','Juventus','Manchester United'])].pivot_table(values=['Wage'],\n",
    "index=['Nationality'],\n",
    "columns=['Club'],\n",
    "aggfunc='sum',\n",
    "margins=True)\n",
    "display(pivot)"
   ]
  },
  {
   "cell_type": "code",
   "execution_count": 147,
   "metadata": {},
   "outputs": [
    {
     "output_type": "execute_result",
     "data": {
      "text/plain": [
       "Position                   CAM       CB      CDM      CF      CM       GK  \\\n",
       "Club                                                                        \n",
       " SSV Jahn Regensburg       NaN   5000.0   5000.0     NaN  4000.0   5000.0   \n",
       "1. FC Heidenheim 1846   5000.0   7000.0      NaN     NaN  1000.0   4000.0   \n",
       "1. FC Kaiserslautern       NaN   1000.0   1000.0     NaN     NaN   1000.0   \n",
       "1. FC Köln                 NaN   1000.0  10000.0     NaN  3000.0  25000.0   \n",
       "1. FC Magdeburg            NaN   7000.0      NaN  4000.0     NaN   6000.0   \n",
       "...                        ...      ...      ...     ...     ...      ...   \n",
       "Zagłębie Sosnowiec      2000.0   1000.0   1000.0     NaN     NaN   1000.0   \n",
       "Çaykur Rizespor        11000.0  11000.0  13000.0     NaN     NaN   3000.0   \n",
       "Örebro SK                  NaN   2000.0      NaN     NaN  1000.0   2000.0   \n",
       "Östersunds FK           1000.0   1000.0      NaN  3000.0  8000.0   1000.0   \n",
       "Śląsk Wrocław              NaN   1000.0   3000.0     NaN  1000.0   2000.0   \n",
       "\n",
       "Position               LAM      LB     LCB     LCM  ...      RB     RCB  \\\n",
       "Club                                                ...                   \n",
       " SSV Jahn Regensburg   NaN  6000.0     NaN     NaN  ...  4000.0  8000.0   \n",
       "1. FC Heidenheim 1846  NaN  6000.0  6000.0     NaN  ...  6000.0  3000.0   \n",
       "1. FC Kaiserslautern   NaN  2000.0  2000.0     NaN  ...  2000.0     NaN   \n",
       "1. FC Köln             NaN     NaN     NaN     NaN  ...  5000.0     NaN   \n",
       "1. FC Magdeburg        NaN  2000.0  5000.0  4000.0  ...     NaN  3000.0   \n",
       "...                    ...     ...     ...     ...  ...     ...     ...   \n",
       "Zagłębie Sosnowiec     NaN  1000.0  1000.0     NaN  ...  1000.0  1000.0   \n",
       "Çaykur Rizespor        NaN  7000.0  4000.0     NaN  ...  6000.0     NaN   \n",
       "Örebro SK              NaN     NaN  2000.0  2000.0  ...     NaN  2000.0   \n",
       "Östersunds FK          NaN  2000.0  3000.0  5000.0  ...  1000.0  1000.0   \n",
       "Śląsk Wrocław          NaN  3000.0  2000.0     NaN  ...  2000.0  4000.0   \n",
       "\n",
       "Position                  RCM      RDM  RF       RM      RS      RW     RWB  \\\n",
       "Club                                                                          \n",
       " SSV Jahn Regensburg      NaN   5000.0 NaN      NaN     NaN     NaN     NaN   \n",
       "1. FC Heidenheim 1846     NaN      NaN NaN   3000.0     NaN     NaN     NaN   \n",
       "1. FC Kaiserslautern      NaN   2000.0 NaN   2000.0  2000.0     NaN     NaN   \n",
       "1. FC Köln                NaN      NaN NaN  18000.0     NaN     NaN     NaN   \n",
       "1. FC Magdeburg        3000.0      NaN NaN   5000.0  8000.0  4000.0     NaN   \n",
       "...                       ...      ...  ..      ...     ...     ...     ...   \n",
       "Zagłębie Sosnowiec        NaN   1000.0 NaN   1000.0     NaN     NaN     NaN   \n",
       "Çaykur Rizespor           NaN  10000.0 NaN  12000.0     NaN     NaN     NaN   \n",
       "Örebro SK              2000.0      NaN NaN      NaN     NaN  2000.0  1000.0   \n",
       "Östersunds FK             NaN      NaN NaN   2000.0     NaN  1000.0     NaN   \n",
       "Śląsk Wrocław             NaN   3000.0 NaN   3000.0  4000.0     NaN     NaN   \n",
       "\n",
       "Position                   ST  \n",
       "Club                           \n",
       " SSV Jahn Regensburg   3000.0  \n",
       "1. FC Heidenheim 1846  4000.0  \n",
       "1. FC Kaiserslautern   1000.0  \n",
       "1. FC Köln                NaN  \n",
       "1. FC Magdeburg        1000.0  \n",
       "...                       ...  \n",
       "Zagłębie Sosnowiec     2000.0  \n",
       "Çaykur Rizespor        2000.0  \n",
       "Örebro SK              2000.0  \n",
       "Östersunds FK          1000.0  \n",
       "Śląsk Wrocław          1000.0  \n",
       "\n",
       "[650 rows x 27 columns]"
      ],
      "text/html": "<div>\n<style scoped>\n    .dataframe tbody tr th:only-of-type {\n        vertical-align: middle;\n    }\n\n    .dataframe tbody tr th {\n        vertical-align: top;\n    }\n\n    .dataframe thead th {\n        text-align: right;\n    }\n</style>\n<table border=\"1\" class=\"dataframe\">\n  <thead>\n    <tr style=\"text-align: right;\">\n      <th>Position</th>\n      <th>CAM</th>\n      <th>CB</th>\n      <th>CDM</th>\n      <th>CF</th>\n      <th>CM</th>\n      <th>GK</th>\n      <th>LAM</th>\n      <th>LB</th>\n      <th>LCB</th>\n      <th>LCM</th>\n      <th>...</th>\n      <th>RB</th>\n      <th>RCB</th>\n      <th>RCM</th>\n      <th>RDM</th>\n      <th>RF</th>\n      <th>RM</th>\n      <th>RS</th>\n      <th>RW</th>\n      <th>RWB</th>\n      <th>ST</th>\n    </tr>\n    <tr>\n      <th>Club</th>\n      <th></th>\n      <th></th>\n      <th></th>\n      <th></th>\n      <th></th>\n      <th></th>\n      <th></th>\n      <th></th>\n      <th></th>\n      <th></th>\n      <th></th>\n      <th></th>\n      <th></th>\n      <th></th>\n      <th></th>\n      <th></th>\n      <th></th>\n      <th></th>\n      <th></th>\n      <th></th>\n      <th></th>\n    </tr>\n  </thead>\n  <tbody>\n    <tr>\n      <th>SSV Jahn Regensburg</th>\n      <td>NaN</td>\n      <td>5000.0</td>\n      <td>5000.0</td>\n      <td>NaN</td>\n      <td>4000.0</td>\n      <td>5000.0</td>\n      <td>NaN</td>\n      <td>6000.0</td>\n      <td>NaN</td>\n      <td>NaN</td>\n      <td>...</td>\n      <td>4000.0</td>\n      <td>8000.0</td>\n      <td>NaN</td>\n      <td>5000.0</td>\n      <td>NaN</td>\n      <td>NaN</td>\n      <td>NaN</td>\n      <td>NaN</td>\n      <td>NaN</td>\n      <td>3000.0</td>\n    </tr>\n    <tr>\n      <th>1. FC Heidenheim 1846</th>\n      <td>5000.0</td>\n      <td>7000.0</td>\n      <td>NaN</td>\n      <td>NaN</td>\n      <td>1000.0</td>\n      <td>4000.0</td>\n      <td>NaN</td>\n      <td>6000.0</td>\n      <td>6000.0</td>\n      <td>NaN</td>\n      <td>...</td>\n      <td>6000.0</td>\n      <td>3000.0</td>\n      <td>NaN</td>\n      <td>NaN</td>\n      <td>NaN</td>\n      <td>3000.0</td>\n      <td>NaN</td>\n      <td>NaN</td>\n      <td>NaN</td>\n      <td>4000.0</td>\n    </tr>\n    <tr>\n      <th>1. FC Kaiserslautern</th>\n      <td>NaN</td>\n      <td>1000.0</td>\n      <td>1000.0</td>\n      <td>NaN</td>\n      <td>NaN</td>\n      <td>1000.0</td>\n      <td>NaN</td>\n      <td>2000.0</td>\n      <td>2000.0</td>\n      <td>NaN</td>\n      <td>...</td>\n      <td>2000.0</td>\n      <td>NaN</td>\n      <td>NaN</td>\n      <td>2000.0</td>\n      <td>NaN</td>\n      <td>2000.0</td>\n      <td>2000.0</td>\n      <td>NaN</td>\n      <td>NaN</td>\n      <td>1000.0</td>\n    </tr>\n    <tr>\n      <th>1. FC Köln</th>\n      <td>NaN</td>\n      <td>1000.0</td>\n      <td>10000.0</td>\n      <td>NaN</td>\n      <td>3000.0</td>\n      <td>25000.0</td>\n      <td>NaN</td>\n      <td>NaN</td>\n      <td>NaN</td>\n      <td>NaN</td>\n      <td>...</td>\n      <td>5000.0</td>\n      <td>NaN</td>\n      <td>NaN</td>\n      <td>NaN</td>\n      <td>NaN</td>\n      <td>18000.0</td>\n      <td>NaN</td>\n      <td>NaN</td>\n      <td>NaN</td>\n      <td>NaN</td>\n    </tr>\n    <tr>\n      <th>1. FC Magdeburg</th>\n      <td>NaN</td>\n      <td>7000.0</td>\n      <td>NaN</td>\n      <td>4000.0</td>\n      <td>NaN</td>\n      <td>6000.0</td>\n      <td>NaN</td>\n      <td>2000.0</td>\n      <td>5000.0</td>\n      <td>4000.0</td>\n      <td>...</td>\n      <td>NaN</td>\n      <td>3000.0</td>\n      <td>3000.0</td>\n      <td>NaN</td>\n      <td>NaN</td>\n      <td>5000.0</td>\n      <td>8000.0</td>\n      <td>4000.0</td>\n      <td>NaN</td>\n      <td>1000.0</td>\n    </tr>\n    <tr>\n      <th>...</th>\n      <td>...</td>\n      <td>...</td>\n      <td>...</td>\n      <td>...</td>\n      <td>...</td>\n      <td>...</td>\n      <td>...</td>\n      <td>...</td>\n      <td>...</td>\n      <td>...</td>\n      <td>...</td>\n      <td>...</td>\n      <td>...</td>\n      <td>...</td>\n      <td>...</td>\n      <td>...</td>\n      <td>...</td>\n      <td>...</td>\n      <td>...</td>\n      <td>...</td>\n      <td>...</td>\n    </tr>\n    <tr>\n      <th>Zagłębie Sosnowiec</th>\n      <td>2000.0</td>\n      <td>1000.0</td>\n      <td>1000.0</td>\n      <td>NaN</td>\n      <td>NaN</td>\n      <td>1000.0</td>\n      <td>NaN</td>\n      <td>1000.0</td>\n      <td>1000.0</td>\n      <td>NaN</td>\n      <td>...</td>\n      <td>1000.0</td>\n      <td>1000.0</td>\n      <td>NaN</td>\n      <td>1000.0</td>\n      <td>NaN</td>\n      <td>1000.0</td>\n      <td>NaN</td>\n      <td>NaN</td>\n      <td>NaN</td>\n      <td>2000.0</td>\n    </tr>\n    <tr>\n      <th>Çaykur Rizespor</th>\n      <td>11000.0</td>\n      <td>11000.0</td>\n      <td>13000.0</td>\n      <td>NaN</td>\n      <td>NaN</td>\n      <td>3000.0</td>\n      <td>NaN</td>\n      <td>7000.0</td>\n      <td>4000.0</td>\n      <td>NaN</td>\n      <td>...</td>\n      <td>6000.0</td>\n      <td>NaN</td>\n      <td>NaN</td>\n      <td>10000.0</td>\n      <td>NaN</td>\n      <td>12000.0</td>\n      <td>NaN</td>\n      <td>NaN</td>\n      <td>NaN</td>\n      <td>2000.0</td>\n    </tr>\n    <tr>\n      <th>Örebro SK</th>\n      <td>NaN</td>\n      <td>2000.0</td>\n      <td>NaN</td>\n      <td>NaN</td>\n      <td>1000.0</td>\n      <td>2000.0</td>\n      <td>NaN</td>\n      <td>NaN</td>\n      <td>2000.0</td>\n      <td>2000.0</td>\n      <td>...</td>\n      <td>NaN</td>\n      <td>2000.0</td>\n      <td>2000.0</td>\n      <td>NaN</td>\n      <td>NaN</td>\n      <td>NaN</td>\n      <td>NaN</td>\n      <td>2000.0</td>\n      <td>1000.0</td>\n      <td>2000.0</td>\n    </tr>\n    <tr>\n      <th>Östersunds FK</th>\n      <td>1000.0</td>\n      <td>1000.0</td>\n      <td>NaN</td>\n      <td>3000.0</td>\n      <td>8000.0</td>\n      <td>1000.0</td>\n      <td>NaN</td>\n      <td>2000.0</td>\n      <td>3000.0</td>\n      <td>5000.0</td>\n      <td>...</td>\n      <td>1000.0</td>\n      <td>1000.0</td>\n      <td>NaN</td>\n      <td>NaN</td>\n      <td>NaN</td>\n      <td>2000.0</td>\n      <td>NaN</td>\n      <td>1000.0</td>\n      <td>NaN</td>\n      <td>1000.0</td>\n    </tr>\n    <tr>\n      <th>Śląsk Wrocław</th>\n      <td>NaN</td>\n      <td>1000.0</td>\n      <td>3000.0</td>\n      <td>NaN</td>\n      <td>1000.0</td>\n      <td>2000.0</td>\n      <td>NaN</td>\n      <td>3000.0</td>\n      <td>2000.0</td>\n      <td>NaN</td>\n      <td>...</td>\n      <td>2000.0</td>\n      <td>4000.0</td>\n      <td>NaN</td>\n      <td>3000.0</td>\n      <td>NaN</td>\n      <td>3000.0</td>\n      <td>4000.0</td>\n      <td>NaN</td>\n      <td>NaN</td>\n      <td>1000.0</td>\n    </tr>\n  </tbody>\n</table>\n<p>650 rows × 27 columns</p>\n</div>"
     },
     "metadata": {},
     "execution_count": 147
    }
   ],
   "source": [
    "df2 = df.pivot_table(columns = 'Position', index = 'Club', values = 'Wage', aggfunc = 'max')\n",
    "df2"
   ]
  },
  {
   "cell_type": "code",
   "execution_count": 148,
   "metadata": {},
   "outputs": [
    {
     "output_type": "display_data",
     "data": {
      "text/plain": "                           Wage                                         \\\nClub               FC Barcelona Juventus Manchester United Real Madrid   \nNationality                                                              \nArgentina                565000   205000            206000           0   \nBelgium                  110000        0            230000      240000   \nBosnia Herzegovina            0   180000                 0           0   \nBrazil                   465000   335000             91000      570000   \nChile                    205000        0            215000           0   \nCosta Rica                    0        0                 0      195000   \nCroatia                  260000   160000                 0      420000   \nDominican Republic            0        0                 0      140000   \nEcuador                       0        0            120000           0   \nEngland                       0        0            478000           0   \nFrance                   495000   145000            375000      459000   \nGermany                  240000   160000                 0      355000   \nItaly                         0   460000             88000           0   \nIvory Coast                   0        0            105000           0   \nMorocco                       0   160000                 0           0   \nNetherlands              135000        0                 0           0   \nPoland                        0   125000                 0           0   \nPortugal                 125000   405000                 0           0   \nScotland                      0        0             11000           0   \nSerbia                        0        0            165000           0   \nSpain                    912000        0            260000     1404000   \nUruguay                  455000        0                 0           0   \nWales                         0        0             13000      355000   \nAll                     3967000  2335000           2357000     4138000   \n\n                              \nClub                     All  \nNationality                   \nArgentina             976000  \nBelgium               580000  \nBosnia Herzegovina    180000  \nBrazil               1461000  \nChile                 420000  \nCosta Rica            195000  \nCroatia               840000  \nDominican Republic    140000  \nEcuador               120000  \nEngland               478000  \nFrance               1474000  \nGermany               755000  \nItaly                 548000  \nIvory Coast           105000  \nMorocco               160000  \nNetherlands           135000  \nPoland                125000  \nPortugal              530000  \nScotland               11000  \nSerbia                165000  \nSpain                2576000  \nUruguay               455000  \nWales                 368000  \nAll                 12797000  ",
      "text/html": "<div>\n<style scoped>\n    .dataframe tbody tr th:only-of-type {\n        vertical-align: middle;\n    }\n\n    .dataframe tbody tr th {\n        vertical-align: top;\n    }\n\n    .dataframe thead tr th {\n        text-align: left;\n    }\n\n    .dataframe thead tr:last-of-type th {\n        text-align: right;\n    }\n</style>\n<table border=\"1\" class=\"dataframe\">\n  <thead>\n    <tr>\n      <th></th>\n      <th colspan=\"5\" halign=\"left\">Wage</th>\n    </tr>\n    <tr>\n      <th>Club</th>\n      <th>FC Barcelona</th>\n      <th>Juventus</th>\n      <th>Manchester United</th>\n      <th>Real Madrid</th>\n      <th>All</th>\n    </tr>\n    <tr>\n      <th>Nationality</th>\n      <th></th>\n      <th></th>\n      <th></th>\n      <th></th>\n      <th></th>\n    </tr>\n  </thead>\n  <tbody>\n    <tr>\n      <th>Argentina</th>\n      <td>565000</td>\n      <td>205000</td>\n      <td>206000</td>\n      <td>0</td>\n      <td>976000</td>\n    </tr>\n    <tr>\n      <th>Belgium</th>\n      <td>110000</td>\n      <td>0</td>\n      <td>230000</td>\n      <td>240000</td>\n      <td>580000</td>\n    </tr>\n    <tr>\n      <th>Bosnia Herzegovina</th>\n      <td>0</td>\n      <td>180000</td>\n      <td>0</td>\n      <td>0</td>\n      <td>180000</td>\n    </tr>\n    <tr>\n      <th>Brazil</th>\n      <td>465000</td>\n      <td>335000</td>\n      <td>91000</td>\n      <td>570000</td>\n      <td>1461000</td>\n    </tr>\n    <tr>\n      <th>Chile</th>\n      <td>205000</td>\n      <td>0</td>\n      <td>215000</td>\n      <td>0</td>\n      <td>420000</td>\n    </tr>\n    <tr>\n      <th>Costa Rica</th>\n      <td>0</td>\n      <td>0</td>\n      <td>0</td>\n      <td>195000</td>\n      <td>195000</td>\n    </tr>\n    <tr>\n      <th>Croatia</th>\n      <td>260000</td>\n      <td>160000</td>\n      <td>0</td>\n      <td>420000</td>\n      <td>840000</td>\n    </tr>\n    <tr>\n      <th>Dominican Republic</th>\n      <td>0</td>\n      <td>0</td>\n      <td>0</td>\n      <td>140000</td>\n      <td>140000</td>\n    </tr>\n    <tr>\n      <th>Ecuador</th>\n      <td>0</td>\n      <td>0</td>\n      <td>120000</td>\n      <td>0</td>\n      <td>120000</td>\n    </tr>\n    <tr>\n      <th>England</th>\n      <td>0</td>\n      <td>0</td>\n      <td>478000</td>\n      <td>0</td>\n      <td>478000</td>\n    </tr>\n    <tr>\n      <th>France</th>\n      <td>495000</td>\n      <td>145000</td>\n      <td>375000</td>\n      <td>459000</td>\n      <td>1474000</td>\n    </tr>\n    <tr>\n      <th>Germany</th>\n      <td>240000</td>\n      <td>160000</td>\n      <td>0</td>\n      <td>355000</td>\n      <td>755000</td>\n    </tr>\n    <tr>\n      <th>Italy</th>\n      <td>0</td>\n      <td>460000</td>\n      <td>88000</td>\n      <td>0</td>\n      <td>548000</td>\n    </tr>\n    <tr>\n      <th>Ivory Coast</th>\n      <td>0</td>\n      <td>0</td>\n      <td>105000</td>\n      <td>0</td>\n      <td>105000</td>\n    </tr>\n    <tr>\n      <th>Morocco</th>\n      <td>0</td>\n      <td>160000</td>\n      <td>0</td>\n      <td>0</td>\n      <td>160000</td>\n    </tr>\n    <tr>\n      <th>Netherlands</th>\n      <td>135000</td>\n      <td>0</td>\n      <td>0</td>\n      <td>0</td>\n      <td>135000</td>\n    </tr>\n    <tr>\n      <th>Poland</th>\n      <td>0</td>\n      <td>125000</td>\n      <td>0</td>\n      <td>0</td>\n      <td>125000</td>\n    </tr>\n    <tr>\n      <th>Portugal</th>\n      <td>125000</td>\n      <td>405000</td>\n      <td>0</td>\n      <td>0</td>\n      <td>530000</td>\n    </tr>\n    <tr>\n      <th>Scotland</th>\n      <td>0</td>\n      <td>0</td>\n      <td>11000</td>\n      <td>0</td>\n      <td>11000</td>\n    </tr>\n    <tr>\n      <th>Serbia</th>\n      <td>0</td>\n      <td>0</td>\n      <td>165000</td>\n      <td>0</td>\n      <td>165000</td>\n    </tr>\n    <tr>\n      <th>Spain</th>\n      <td>912000</td>\n      <td>0</td>\n      <td>260000</td>\n      <td>1404000</td>\n      <td>2576000</td>\n    </tr>\n    <tr>\n      <th>Uruguay</th>\n      <td>455000</td>\n      <td>0</td>\n      <td>0</td>\n      <td>0</td>\n      <td>455000</td>\n    </tr>\n    <tr>\n      <th>Wales</th>\n      <td>0</td>\n      <td>0</td>\n      <td>13000</td>\n      <td>355000</td>\n      <td>368000</td>\n    </tr>\n    <tr>\n      <th>All</th>\n      <td>3967000</td>\n      <td>2335000</td>\n      <td>2357000</td>\n      <td>4138000</td>\n      <td>12797000</td>\n    </tr>\n  </tbody>\n</table>\n</div>"
     },
     "metadata": {}
    }
   ],
   "source": [
    "pivot = df.loc[df['Club'].isin(['FC Barcelona','Real Madrid','Juventus','Manchester United'])].pivot_table(values=['Wage'],\n",
    "index=['Nationality'],\n",
    "columns=['Club'],\n",
    "aggfunc='sum',\n",
    "margins=True,\n",
    "fill_value=0)\n",
    "display(pivot)"
   ]
  },
  {
   "cell_type": "code",
   "execution_count": 149,
   "metadata": {},
   "outputs": [
    {
     "output_type": "display_data",
     "data": {
      "text/plain": "                           Name                                       \nClub               FC Barcelona Juventus Manchester United Real Madrid\nNationality                                                           \nArgentina                     1        1                 2           0\nBelgium                       1        0                 1           1\nBosnia Herzegovina            0        1                 0           0\nBrazil                        2        2                 1           2\nChile                         1        0                 1           0\nCosta Rica                    0        0                 0           1\nCroatia                       1        1                 0           1\nDominican Republic            0        0                 0           1\nEcuador                       0        0                 1           0\nEngland                       0        0                 6           0\nFrance                        3        1                 2           3\nGermany                       1        1                 0           1\nItaly                         0        4                 1           0\nIvory Coast                   0        0                 1           0\nMorocco                       0        1                 0           0\nNetherlands                   1        0                 0           0\nPoland                        0        1                 0           0\nPortugal                      1        1                 0           0\nScotland                      0        0                 1           0\nSerbia                        0        0                 1           0\nSpain                         9        0                 1          11\nUruguay                       1        0                 0           0\nWales                         0        0                 1           1",
      "text/html": "<div>\n<style scoped>\n    .dataframe tbody tr th:only-of-type {\n        vertical-align: middle;\n    }\n\n    .dataframe tbody tr th {\n        vertical-align: top;\n    }\n\n    .dataframe thead tr th {\n        text-align: left;\n    }\n\n    .dataframe thead tr:last-of-type th {\n        text-align: right;\n    }\n</style>\n<table border=\"1\" class=\"dataframe\">\n  <thead>\n    <tr>\n      <th></th>\n      <th colspan=\"4\" halign=\"left\">Name</th>\n    </tr>\n    <tr>\n      <th>Club</th>\n      <th>FC Barcelona</th>\n      <th>Juventus</th>\n      <th>Manchester United</th>\n      <th>Real Madrid</th>\n    </tr>\n    <tr>\n      <th>Nationality</th>\n      <th></th>\n      <th></th>\n      <th></th>\n      <th></th>\n    </tr>\n  </thead>\n  <tbody>\n    <tr>\n      <th>Argentina</th>\n      <td>1</td>\n      <td>1</td>\n      <td>2</td>\n      <td>0</td>\n    </tr>\n    <tr>\n      <th>Belgium</th>\n      <td>1</td>\n      <td>0</td>\n      <td>1</td>\n      <td>1</td>\n    </tr>\n    <tr>\n      <th>Bosnia Herzegovina</th>\n      <td>0</td>\n      <td>1</td>\n      <td>0</td>\n      <td>0</td>\n    </tr>\n    <tr>\n      <th>Brazil</th>\n      <td>2</td>\n      <td>2</td>\n      <td>1</td>\n      <td>2</td>\n    </tr>\n    <tr>\n      <th>Chile</th>\n      <td>1</td>\n      <td>0</td>\n      <td>1</td>\n      <td>0</td>\n    </tr>\n    <tr>\n      <th>Costa Rica</th>\n      <td>0</td>\n      <td>0</td>\n      <td>0</td>\n      <td>1</td>\n    </tr>\n    <tr>\n      <th>Croatia</th>\n      <td>1</td>\n      <td>1</td>\n      <td>0</td>\n      <td>1</td>\n    </tr>\n    <tr>\n      <th>Dominican Republic</th>\n      <td>0</td>\n      <td>0</td>\n      <td>0</td>\n      <td>1</td>\n    </tr>\n    <tr>\n      <th>Ecuador</th>\n      <td>0</td>\n      <td>0</td>\n      <td>1</td>\n      <td>0</td>\n    </tr>\n    <tr>\n      <th>England</th>\n      <td>0</td>\n      <td>0</td>\n      <td>6</td>\n      <td>0</td>\n    </tr>\n    <tr>\n      <th>France</th>\n      <td>3</td>\n      <td>1</td>\n      <td>2</td>\n      <td>3</td>\n    </tr>\n    <tr>\n      <th>Germany</th>\n      <td>1</td>\n      <td>1</td>\n      <td>0</td>\n      <td>1</td>\n    </tr>\n    <tr>\n      <th>Italy</th>\n      <td>0</td>\n      <td>4</td>\n      <td>1</td>\n      <td>0</td>\n    </tr>\n    <tr>\n      <th>Ivory Coast</th>\n      <td>0</td>\n      <td>0</td>\n      <td>1</td>\n      <td>0</td>\n    </tr>\n    <tr>\n      <th>Morocco</th>\n      <td>0</td>\n      <td>1</td>\n      <td>0</td>\n      <td>0</td>\n    </tr>\n    <tr>\n      <th>Netherlands</th>\n      <td>1</td>\n      <td>0</td>\n      <td>0</td>\n      <td>0</td>\n    </tr>\n    <tr>\n      <th>Poland</th>\n      <td>0</td>\n      <td>1</td>\n      <td>0</td>\n      <td>0</td>\n    </tr>\n    <tr>\n      <th>Portugal</th>\n      <td>1</td>\n      <td>1</td>\n      <td>0</td>\n      <td>0</td>\n    </tr>\n    <tr>\n      <th>Scotland</th>\n      <td>0</td>\n      <td>0</td>\n      <td>1</td>\n      <td>0</td>\n    </tr>\n    <tr>\n      <th>Serbia</th>\n      <td>0</td>\n      <td>0</td>\n      <td>1</td>\n      <td>0</td>\n    </tr>\n    <tr>\n      <th>Spain</th>\n      <td>9</td>\n      <td>0</td>\n      <td>1</td>\n      <td>11</td>\n    </tr>\n    <tr>\n      <th>Uruguay</th>\n      <td>1</td>\n      <td>0</td>\n      <td>0</td>\n      <td>0</td>\n    </tr>\n    <tr>\n      <th>Wales</th>\n      <td>0</td>\n      <td>0</td>\n      <td>1</td>\n      <td>1</td>\n    </tr>\n  </tbody>\n</table>\n</div>"
     },
     "metadata": {}
    }
   ],
   "source": [
    "pivot = df.loc[df['Club'].isin(['FC Barcelona','Real Madrid','Juventus','Manchester United'])].pivot_table(values=['Name'],\n",
    "index=['Nationality'],\n",
    "columns=['Club'],\n",
    "aggfunc='count',\n",
    "fill_value=0)\n",
    "display(pivot)"
   ]
  },
  {
   "cell_type": "code",
   "execution_count": 150,
   "metadata": {},
   "outputs": [
    {
     "output_type": "execute_result",
     "data": {
      "text/plain": [
       "2"
      ]
     },
     "metadata": {},
     "execution_count": 150
    }
   ],
   "source": [
    "pivot.loc['Argentina']['Name']['Manchester United']"
   ]
  },
  {
   "cell_type": "code",
   "execution_count": 199,
   "metadata": {},
   "outputs": [
    {
     "output_type": "display_data",
     "data": {
      "text/plain": "                      count                                 ...             \\\n                       Name                                 ...              \nPosition                CAM CB CDM CF CM GK LAM LB LCB LCM  ... RB RCB RCM   \nClub                                                        ...              \n SSV Jahn Regensburg      0  5   1  0  2  3   0  2   0   0  ...  2   1   0   \n1. FC Heidenheim 1846     1  3   0  0  1  2   0  2   1   0  ...  2   1   0   \n1. FC Kaiserslautern      0  3   3  0  0  3   0  2   1   0  ...  2   0   0   \n1. FC Köln                0  1   1  0  2  3   0  0   0   0  ...  1   0   0   \n1. FC Magdeburg           0  4   0  1  0  3   0  1   1   1  ...  0   1   1   \n...                     ... ..  .. .. .. ..  .. ..  ..  ..  ... ..  ..  ..   \nZagłębie Sosnowiec        3  2   2  0  0  3   0  3   1   0  ...  1   1   0   \nÇaykur Rizespor           1  2   5  0  0  3   0  2   1   0  ...  3   0   0   \nÖrebro SK                 0  4   0  0  1  3   0  0   1   1  ...  0   1   1   \nÖstersunds FK             1  1   0  1  3  3   0  2   1   1  ...  1   1   0   \nŚląsk Wrocław             0  1   3  0  1  3   0  2   1   0  ...  2   1   0   \n\n                                              \n                                              \nPosition              RDM RF RM RS RW RWB ST  \nClub                                          \n SSV Jahn Regensburg    1  0  0  0  0   0  3  \n1. FC Heidenheim 1846   0  0  3  0  0   0  2  \n1. FC Kaiserslautern    1  0  2  1  0   0  1  \n1. FC Köln              0  0  1  0  0   0  0  \n1. FC Magdeburg         0  0  3  1  2   0  1  \n...                    .. .. .. .. ..  .. ..  \nZagłębie Sosnowiec      1  0  2  0  0   0  1  \nÇaykur Rizespor         1  0  1  0  0   0  1  \nÖrebro SK               0  0  0  0  2   2  5  \nÖstersunds FK           0  0  1  0  1   0  1  \nŚląsk Wrocław           1  0  2  1  0   0  2  \n\n[650 rows x 27 columns]",
      "text/html": "<div>\n<style scoped>\n    .dataframe tbody tr th:only-of-type {\n        vertical-align: middle;\n    }\n\n    .dataframe tbody tr th {\n        vertical-align: top;\n    }\n\n    .dataframe thead tr th {\n        text-align: left;\n    }\n\n    .dataframe thead tr:last-of-type th {\n        text-align: right;\n    }\n</style>\n<table border=\"1\" class=\"dataframe\">\n  <thead>\n    <tr>\n      <th></th>\n      <th colspan=\"21\" halign=\"left\">count</th>\n    </tr>\n    <tr>\n      <th></th>\n      <th colspan=\"21\" halign=\"left\">Name</th>\n    </tr>\n    <tr>\n      <th>Position</th>\n      <th>CAM</th>\n      <th>CB</th>\n      <th>CDM</th>\n      <th>CF</th>\n      <th>CM</th>\n      <th>GK</th>\n      <th>LAM</th>\n      <th>LB</th>\n      <th>LCB</th>\n      <th>LCM</th>\n      <th>...</th>\n      <th>RB</th>\n      <th>RCB</th>\n      <th>RCM</th>\n      <th>RDM</th>\n      <th>RF</th>\n      <th>RM</th>\n      <th>RS</th>\n      <th>RW</th>\n      <th>RWB</th>\n      <th>ST</th>\n    </tr>\n    <tr>\n      <th>Club</th>\n      <th></th>\n      <th></th>\n      <th></th>\n      <th></th>\n      <th></th>\n      <th></th>\n      <th></th>\n      <th></th>\n      <th></th>\n      <th></th>\n      <th></th>\n      <th></th>\n      <th></th>\n      <th></th>\n      <th></th>\n      <th></th>\n      <th></th>\n      <th></th>\n      <th></th>\n      <th></th>\n      <th></th>\n    </tr>\n  </thead>\n  <tbody>\n    <tr>\n      <th>SSV Jahn Regensburg</th>\n      <td>0</td>\n      <td>5</td>\n      <td>1</td>\n      <td>0</td>\n      <td>2</td>\n      <td>3</td>\n      <td>0</td>\n      <td>2</td>\n      <td>0</td>\n      <td>0</td>\n      <td>...</td>\n      <td>2</td>\n      <td>1</td>\n      <td>0</td>\n      <td>1</td>\n      <td>0</td>\n      <td>0</td>\n      <td>0</td>\n      <td>0</td>\n      <td>0</td>\n      <td>3</td>\n    </tr>\n    <tr>\n      <th>1. FC Heidenheim 1846</th>\n      <td>1</td>\n      <td>3</td>\n      <td>0</td>\n      <td>0</td>\n      <td>1</td>\n      <td>2</td>\n      <td>0</td>\n      <td>2</td>\n      <td>1</td>\n      <td>0</td>\n      <td>...</td>\n      <td>2</td>\n      <td>1</td>\n      <td>0</td>\n      <td>0</td>\n      <td>0</td>\n      <td>3</td>\n      <td>0</td>\n      <td>0</td>\n      <td>0</td>\n      <td>2</td>\n    </tr>\n    <tr>\n      <th>1. FC Kaiserslautern</th>\n      <td>0</td>\n      <td>3</td>\n      <td>3</td>\n      <td>0</td>\n      <td>0</td>\n      <td>3</td>\n      <td>0</td>\n      <td>2</td>\n      <td>1</td>\n      <td>0</td>\n      <td>...</td>\n      <td>2</td>\n      <td>0</td>\n      <td>0</td>\n      <td>1</td>\n      <td>0</td>\n      <td>2</td>\n      <td>1</td>\n      <td>0</td>\n      <td>0</td>\n      <td>1</td>\n    </tr>\n    <tr>\n      <th>1. FC Köln</th>\n      <td>0</td>\n      <td>1</td>\n      <td>1</td>\n      <td>0</td>\n      <td>2</td>\n      <td>3</td>\n      <td>0</td>\n      <td>0</td>\n      <td>0</td>\n      <td>0</td>\n      <td>...</td>\n      <td>1</td>\n      <td>0</td>\n      <td>0</td>\n      <td>0</td>\n      <td>0</td>\n      <td>1</td>\n      <td>0</td>\n      <td>0</td>\n      <td>0</td>\n      <td>0</td>\n    </tr>\n    <tr>\n      <th>1. FC Magdeburg</th>\n      <td>0</td>\n      <td>4</td>\n      <td>0</td>\n      <td>1</td>\n      <td>0</td>\n      <td>3</td>\n      <td>0</td>\n      <td>1</td>\n      <td>1</td>\n      <td>1</td>\n      <td>...</td>\n      <td>0</td>\n      <td>1</td>\n      <td>1</td>\n      <td>0</td>\n      <td>0</td>\n      <td>3</td>\n      <td>1</td>\n      <td>2</td>\n      <td>0</td>\n      <td>1</td>\n    </tr>\n    <tr>\n      <th>...</th>\n      <td>...</td>\n      <td>...</td>\n      <td>...</td>\n      <td>...</td>\n      <td>...</td>\n      <td>...</td>\n      <td>...</td>\n      <td>...</td>\n      <td>...</td>\n      <td>...</td>\n      <td>...</td>\n      <td>...</td>\n      <td>...</td>\n      <td>...</td>\n      <td>...</td>\n      <td>...</td>\n      <td>...</td>\n      <td>...</td>\n      <td>...</td>\n      <td>...</td>\n      <td>...</td>\n    </tr>\n    <tr>\n      <th>Zagłębie Sosnowiec</th>\n      <td>3</td>\n      <td>2</td>\n      <td>2</td>\n      <td>0</td>\n      <td>0</td>\n      <td>3</td>\n      <td>0</td>\n      <td>3</td>\n      <td>1</td>\n      <td>0</td>\n      <td>...</td>\n      <td>1</td>\n      <td>1</td>\n      <td>0</td>\n      <td>1</td>\n      <td>0</td>\n      <td>2</td>\n      <td>0</td>\n      <td>0</td>\n      <td>0</td>\n      <td>1</td>\n    </tr>\n    <tr>\n      <th>Çaykur Rizespor</th>\n      <td>1</td>\n      <td>2</td>\n      <td>5</td>\n      <td>0</td>\n      <td>0</td>\n      <td>3</td>\n      <td>0</td>\n      <td>2</td>\n      <td>1</td>\n      <td>0</td>\n      <td>...</td>\n      <td>3</td>\n      <td>0</td>\n      <td>0</td>\n      <td>1</td>\n      <td>0</td>\n      <td>1</td>\n      <td>0</td>\n      <td>0</td>\n      <td>0</td>\n      <td>1</td>\n    </tr>\n    <tr>\n      <th>Örebro SK</th>\n      <td>0</td>\n      <td>4</td>\n      <td>0</td>\n      <td>0</td>\n      <td>1</td>\n      <td>3</td>\n      <td>0</td>\n      <td>0</td>\n      <td>1</td>\n      <td>1</td>\n      <td>...</td>\n      <td>0</td>\n      <td>1</td>\n      <td>1</td>\n      <td>0</td>\n      <td>0</td>\n      <td>0</td>\n      <td>0</td>\n      <td>2</td>\n      <td>2</td>\n      <td>5</td>\n    </tr>\n    <tr>\n      <th>Östersunds FK</th>\n      <td>1</td>\n      <td>1</td>\n      <td>0</td>\n      <td>1</td>\n      <td>3</td>\n      <td>3</td>\n      <td>0</td>\n      <td>2</td>\n      <td>1</td>\n      <td>1</td>\n      <td>...</td>\n      <td>1</td>\n      <td>1</td>\n      <td>0</td>\n      <td>0</td>\n      <td>0</td>\n      <td>1</td>\n      <td>0</td>\n      <td>1</td>\n      <td>0</td>\n      <td>1</td>\n    </tr>\n    <tr>\n      <th>Śląsk Wrocław</th>\n      <td>0</td>\n      <td>1</td>\n      <td>3</td>\n      <td>0</td>\n      <td>1</td>\n      <td>3</td>\n      <td>0</td>\n      <td>2</td>\n      <td>1</td>\n      <td>0</td>\n      <td>...</td>\n      <td>2</td>\n      <td>1</td>\n      <td>0</td>\n      <td>1</td>\n      <td>0</td>\n      <td>2</td>\n      <td>1</td>\n      <td>0</td>\n      <td>0</td>\n      <td>2</td>\n    </tr>\n  </tbody>\n</table>\n<p>650 rows × 27 columns</p>\n</div>"
     },
     "metadata": {}
    }
   ],
   "source": [
    "pivot = df.pivot_table(values=['Name'],\n",
    "index=['Club'],\n",
    "columns=['Position'],\n",
    "aggfunc=['count'],\n",
    "fill_value=0)\n",
    "display(pivot)"
   ]
  },
  {
   "cell_type": "code",
   "execution_count": 201,
   "metadata": {},
   "outputs": [
    {
     "output_type": "execute_result",
     "data": {
      "text/plain": [
       "2.5246153846153847"
      ]
     },
     "metadata": {},
     "execution_count": 201
    }
   ],
   "source": [
    "pivot['count']['Name']['GK'].mean()"
   ]
  },
  {
   "cell_type": "code",
   "execution_count": 204,
   "metadata": {},
   "outputs": [
    {
     "output_type": "execute_result",
     "data": {
      "text/plain": [
       "Club\n",
       "1. FC Kaiserslautern    0\n",
       "1. FC Magdeburg         0\n",
       "AEK Athens              0\n",
       "AS Nancy Lorraine       0\n",
       "Al Ahli                 0\n",
       "                       ..\n",
       "Waasland-Beveren        0\n",
       "Watford                 0\n",
       "Wellington Phoenix      0\n",
       "Zagłębie Sosnowiec      0\n",
       "Çaykur Rizespor         0\n",
       "Name: CM, Length: 136, dtype: int64"
      ]
     },
     "metadata": {},
     "execution_count": 204
    }
   ],
   "source": [
    "sers = pivot['count']['Name']['CM']\n",
    "sers[sers == 0]"
   ]
  },
  {
   "cell_type": "code",
   "execution_count": 210,
   "metadata": {},
   "outputs": [
    {
     "output_type": "execute_result",
     "data": {
      "text/plain": [
       "365    61000\n",
       "Name: Wage, dtype: int64"
      ]
     },
     "metadata": {},
     "execution_count": 210
    }
   ],
   "source": [
    "df.loc[(df['Nationality'] == 'Russia') & (df['Club'] == 'AS Monaco')].Wage"
   ]
  },
  {
   "cell_type": "code",
   "execution_count": 220,
   "metadata": {},
   "outputs": [
    {
     "output_type": "display_data",
     "data": {
      "text/plain": "                      SprintSpeed                                              \\\nPosition                      CAM         CB        CDM         CF         CM   \nClub                                                                            \n SSV Jahn Regensburg     0.000000  46.600000  82.000000   0.000000  61.000000   \n1. FC Heidenheim 1846   68.000000  61.333333   0.000000   0.000000  68.000000   \n1. FC Kaiserslautern     0.000000  59.000000  65.666667   0.000000   0.000000   \n1. FC Köln               0.000000  60.000000  32.000000   0.000000  68.500000   \n1. FC Magdeburg          0.000000  60.000000   0.000000  64.000000   0.000000   \n...                           ...        ...        ...        ...        ...   \nÇaykur Rizespor         74.000000  58.000000  62.800000   0.000000   0.000000   \nÖrebro SK                0.000000  60.750000   0.000000   0.000000  63.000000   \nÖstersunds FK           67.000000  76.000000   0.000000  77.000000  56.333333   \nŚląsk Wrocław            0.000000  62.000000  66.666667   0.000000  72.000000   \nAll                     68.236967  57.734854  60.813314  69.803922  64.299906   \n\n                                                                             \\\nPosition                      GK        LAM         LB       LCB        LCM   \nClub                                                                          \n SSV Jahn Regensburg   33.000000   0.000000  76.000000   0.00000   0.000000   \n1. FC Heidenheim 1846  41.000000   0.000000  60.000000  55.00000   0.000000   \n1. FC Kaiserslautern   42.666667   0.000000  68.000000  45.00000   0.000000   \n1. FC Köln             33.000000   0.000000   0.000000   0.00000   0.000000   \n1. FC Magdeburg        39.333333   0.000000  69.000000  60.00000  66.000000   \n...                          ...        ...        ...       ...        ...   \nÇaykur Rizespor        47.000000   0.000000  75.500000  63.00000   0.000000   \nÖrebro SK              33.666667   0.000000   0.000000  58.00000  44.000000   \nÖstersunds FK          32.666667   0.000000  74.500000  53.00000  62.000000   \nŚląsk Wrocław          30.666667   0.000000  78.500000  59.00000   0.000000   \nAll                    37.622182  76.333333  70.718563  58.93643  65.334764   \n\n                       ...                                              \\\nPosition               ...        RCB        RCM        RDM         RF   \nClub                   ...                                               \n SSV Jahn Regensburg   ...  57.000000   0.000000  65.000000   0.000000   \n1. FC Heidenheim 1846  ...  59.000000   0.000000   0.000000   0.000000   \n1. FC Kaiserslautern   ...   0.000000   0.000000  55.000000   0.000000   \n1. FC Köln             ...   0.000000   0.000000   0.000000   0.000000   \n1. FC Magdeburg        ...  68.000000  71.000000   0.000000   0.000000   \n...                    ...        ...        ...        ...        ...   \nÇaykur Rizespor        ...   0.000000   0.000000  32.000000   0.000000   \nÖrebro SK              ...  62.000000  66.000000   0.000000   0.000000   \nÖstersunds FK          ...  73.000000   0.000000   0.000000   0.000000   \nŚląsk Wrocław          ...  58.000000   0.000000  69.000000   0.000000   \nAll                    ...  58.239234  65.233333  62.152174  76.333333   \n\n                                                                              \\\nPosition                      RM         RS         RW        RWB         ST   \nClub                                                                           \n SSV Jahn Regensburg    0.000000   0.000000   0.000000   0.000000  61.666667   \n1. FC Heidenheim 1846  78.333333   0.000000   0.000000   0.000000  69.000000   \n1. FC Kaiserslautern   82.500000  69.000000   0.000000   0.000000  79.000000   \n1. FC Köln             77.000000   0.000000   0.000000   0.000000   0.000000   \n1. FC Magdeburg        76.000000  53.000000  80.500000   0.000000  44.000000   \n...                          ...        ...        ...        ...        ...   \nÇaykur Rizespor        85.000000   0.000000   0.000000   0.000000  48.000000   \nÖrebro SK               0.000000   0.000000  77.500000  72.000000  72.200000   \nÖstersunds FK          85.000000   0.000000  67.000000   0.000000  52.000000   \nŚląsk Wrocław          68.000000  81.000000   0.000000   0.000000  54.000000   \nAll                    74.943864  71.991228  75.417722  73.128571  68.700397   \n\n                                  \nPosition                     All  \nClub                              \n SSV Jahn Regensburg   59.041667  \n1. FC Heidenheim 1846  65.450000  \n1. FC Kaiserslautern   65.217391  \n1. FC Köln             55.200000  \n1. FC Magdeburg        63.238095  \n...                          ...  \nÇaykur Rizespor        61.318182  \nÖrebro SK              63.000000  \nÖstersunds FK          61.450000  \nŚląsk Wrocław          60.583333  \nAll                    63.205629  \n\n[651 rows x 28 columns]",
      "text/html": "<div>\n<style scoped>\n    .dataframe tbody tr th:only-of-type {\n        vertical-align: middle;\n    }\n\n    .dataframe tbody tr th {\n        vertical-align: top;\n    }\n\n    .dataframe thead tr th {\n        text-align: left;\n    }\n\n    .dataframe thead tr:last-of-type th {\n        text-align: right;\n    }\n</style>\n<table border=\"1\" class=\"dataframe\">\n  <thead>\n    <tr>\n      <th></th>\n      <th colspan=\"21\" halign=\"left\">SprintSpeed</th>\n    </tr>\n    <tr>\n      <th>Position</th>\n      <th>CAM</th>\n      <th>CB</th>\n      <th>CDM</th>\n      <th>CF</th>\n      <th>CM</th>\n      <th>GK</th>\n      <th>LAM</th>\n      <th>LB</th>\n      <th>LCB</th>\n      <th>LCM</th>\n      <th>...</th>\n      <th>RCB</th>\n      <th>RCM</th>\n      <th>RDM</th>\n      <th>RF</th>\n      <th>RM</th>\n      <th>RS</th>\n      <th>RW</th>\n      <th>RWB</th>\n      <th>ST</th>\n      <th>All</th>\n    </tr>\n    <tr>\n      <th>Club</th>\n      <th></th>\n      <th></th>\n      <th></th>\n      <th></th>\n      <th></th>\n      <th></th>\n      <th></th>\n      <th></th>\n      <th></th>\n      <th></th>\n      <th></th>\n      <th></th>\n      <th></th>\n      <th></th>\n      <th></th>\n      <th></th>\n      <th></th>\n      <th></th>\n      <th></th>\n      <th></th>\n      <th></th>\n    </tr>\n  </thead>\n  <tbody>\n    <tr>\n      <th>SSV Jahn Regensburg</th>\n      <td>0.000000</td>\n      <td>46.600000</td>\n      <td>82.000000</td>\n      <td>0.000000</td>\n      <td>61.000000</td>\n      <td>33.000000</td>\n      <td>0.000000</td>\n      <td>76.000000</td>\n      <td>0.00000</td>\n      <td>0.000000</td>\n      <td>...</td>\n      <td>57.000000</td>\n      <td>0.000000</td>\n      <td>65.000000</td>\n      <td>0.000000</td>\n      <td>0.000000</td>\n      <td>0.000000</td>\n      <td>0.000000</td>\n      <td>0.000000</td>\n      <td>61.666667</td>\n      <td>59.041667</td>\n    </tr>\n    <tr>\n      <th>1. FC Heidenheim 1846</th>\n      <td>68.000000</td>\n      <td>61.333333</td>\n      <td>0.000000</td>\n      <td>0.000000</td>\n      <td>68.000000</td>\n      <td>41.000000</td>\n      <td>0.000000</td>\n      <td>60.000000</td>\n      <td>55.00000</td>\n      <td>0.000000</td>\n      <td>...</td>\n      <td>59.000000</td>\n      <td>0.000000</td>\n      <td>0.000000</td>\n      <td>0.000000</td>\n      <td>78.333333</td>\n      <td>0.000000</td>\n      <td>0.000000</td>\n      <td>0.000000</td>\n      <td>69.000000</td>\n      <td>65.450000</td>\n    </tr>\n    <tr>\n      <th>1. FC Kaiserslautern</th>\n      <td>0.000000</td>\n      <td>59.000000</td>\n      <td>65.666667</td>\n      <td>0.000000</td>\n      <td>0.000000</td>\n      <td>42.666667</td>\n      <td>0.000000</td>\n      <td>68.000000</td>\n      <td>45.00000</td>\n      <td>0.000000</td>\n      <td>...</td>\n      <td>0.000000</td>\n      <td>0.000000</td>\n      <td>55.000000</td>\n      <td>0.000000</td>\n      <td>82.500000</td>\n      <td>69.000000</td>\n      <td>0.000000</td>\n      <td>0.000000</td>\n      <td>79.000000</td>\n      <td>65.217391</td>\n    </tr>\n    <tr>\n      <th>1. FC Köln</th>\n      <td>0.000000</td>\n      <td>60.000000</td>\n      <td>32.000000</td>\n      <td>0.000000</td>\n      <td>68.500000</td>\n      <td>33.000000</td>\n      <td>0.000000</td>\n      <td>0.000000</td>\n      <td>0.00000</td>\n      <td>0.000000</td>\n      <td>...</td>\n      <td>0.000000</td>\n      <td>0.000000</td>\n      <td>0.000000</td>\n      <td>0.000000</td>\n      <td>77.000000</td>\n      <td>0.000000</td>\n      <td>0.000000</td>\n      <td>0.000000</td>\n      <td>0.000000</td>\n      <td>55.200000</td>\n    </tr>\n    <tr>\n      <th>1. FC Magdeburg</th>\n      <td>0.000000</td>\n      <td>60.000000</td>\n      <td>0.000000</td>\n      <td>64.000000</td>\n      <td>0.000000</td>\n      <td>39.333333</td>\n      <td>0.000000</td>\n      <td>69.000000</td>\n      <td>60.00000</td>\n      <td>66.000000</td>\n      <td>...</td>\n      <td>68.000000</td>\n      <td>71.000000</td>\n      <td>0.000000</td>\n      <td>0.000000</td>\n      <td>76.000000</td>\n      <td>53.000000</td>\n      <td>80.500000</td>\n      <td>0.000000</td>\n      <td>44.000000</td>\n      <td>63.238095</td>\n    </tr>\n    <tr>\n      <th>...</th>\n      <td>...</td>\n      <td>...</td>\n      <td>...</td>\n      <td>...</td>\n      <td>...</td>\n      <td>...</td>\n      <td>...</td>\n      <td>...</td>\n      <td>...</td>\n      <td>...</td>\n      <td>...</td>\n      <td>...</td>\n      <td>...</td>\n      <td>...</td>\n      <td>...</td>\n      <td>...</td>\n      <td>...</td>\n      <td>...</td>\n      <td>...</td>\n      <td>...</td>\n      <td>...</td>\n    </tr>\n    <tr>\n      <th>Çaykur Rizespor</th>\n      <td>74.000000</td>\n      <td>58.000000</td>\n      <td>62.800000</td>\n      <td>0.000000</td>\n      <td>0.000000</td>\n      <td>47.000000</td>\n      <td>0.000000</td>\n      <td>75.500000</td>\n      <td>63.00000</td>\n      <td>0.000000</td>\n      <td>...</td>\n      <td>0.000000</td>\n      <td>0.000000</td>\n      <td>32.000000</td>\n      <td>0.000000</td>\n      <td>85.000000</td>\n      <td>0.000000</td>\n      <td>0.000000</td>\n      <td>0.000000</td>\n      <td>48.000000</td>\n      <td>61.318182</td>\n    </tr>\n    <tr>\n      <th>Örebro SK</th>\n      <td>0.000000</td>\n      <td>60.750000</td>\n      <td>0.000000</td>\n      <td>0.000000</td>\n      <td>63.000000</td>\n      <td>33.666667</td>\n      <td>0.000000</td>\n      <td>0.000000</td>\n      <td>58.00000</td>\n      <td>44.000000</td>\n      <td>...</td>\n      <td>62.000000</td>\n      <td>66.000000</td>\n      <td>0.000000</td>\n      <td>0.000000</td>\n      <td>0.000000</td>\n      <td>0.000000</td>\n      <td>77.500000</td>\n      <td>72.000000</td>\n      <td>72.200000</td>\n      <td>63.000000</td>\n    </tr>\n    <tr>\n      <th>Östersunds FK</th>\n      <td>67.000000</td>\n      <td>76.000000</td>\n      <td>0.000000</td>\n      <td>77.000000</td>\n      <td>56.333333</td>\n      <td>32.666667</td>\n      <td>0.000000</td>\n      <td>74.500000</td>\n      <td>53.00000</td>\n      <td>62.000000</td>\n      <td>...</td>\n      <td>73.000000</td>\n      <td>0.000000</td>\n      <td>0.000000</td>\n      <td>0.000000</td>\n      <td>85.000000</td>\n      <td>0.000000</td>\n      <td>67.000000</td>\n      <td>0.000000</td>\n      <td>52.000000</td>\n      <td>61.450000</td>\n    </tr>\n    <tr>\n      <th>Śląsk Wrocław</th>\n      <td>0.000000</td>\n      <td>62.000000</td>\n      <td>66.666667</td>\n      <td>0.000000</td>\n      <td>72.000000</td>\n      <td>30.666667</td>\n      <td>0.000000</td>\n      <td>78.500000</td>\n      <td>59.00000</td>\n      <td>0.000000</td>\n      <td>...</td>\n      <td>58.000000</td>\n      <td>0.000000</td>\n      <td>69.000000</td>\n      <td>0.000000</td>\n      <td>68.000000</td>\n      <td>81.000000</td>\n      <td>0.000000</td>\n      <td>0.000000</td>\n      <td>54.000000</td>\n      <td>60.583333</td>\n    </tr>\n    <tr>\n      <th>All</th>\n      <td>68.236967</td>\n      <td>57.734854</td>\n      <td>60.813314</td>\n      <td>69.803922</td>\n      <td>64.299906</td>\n      <td>37.622182</td>\n      <td>76.333333</td>\n      <td>70.718563</td>\n      <td>58.93643</td>\n      <td>65.334764</td>\n      <td>...</td>\n      <td>58.239234</td>\n      <td>65.233333</td>\n      <td>62.152174</td>\n      <td>76.333333</td>\n      <td>74.943864</td>\n      <td>71.991228</td>\n      <td>75.417722</td>\n      <td>73.128571</td>\n      <td>68.700397</td>\n      <td>63.205629</td>\n    </tr>\n  </tbody>\n</table>\n<p>651 rows × 28 columns</p>\n</div>"
     },
     "metadata": {}
    }
   ],
   "source": [
    "pivot = df.pivot_table(values=['SprintSpeed'],\n",
    "index=['Club'],\n",
    "columns=['Position'],\n",
    "aggfunc='mean',\n",
    "margins=True,\n",
    "fill_value=0)\n",
    "display(pivot)"
   ]
  },
  {
   "cell_type": "code",
   "execution_count": 232,
   "metadata": {},
   "outputs": [
    {
     "output_type": "execute_result",
     "data": {
      "text/plain": [
       "                      SprintSpeed                                              \\\n",
       "Position                      CAM         CB        CDM         CF         CM   \n",
       "Club                                                                            \n",
       " SSV Jahn Regensburg     0.000000  46.600000  82.000000   0.000000  61.000000   \n",
       "1. FC Heidenheim 1846   68.000000  61.333333   0.000000   0.000000  68.000000   \n",
       "1. FC Kaiserslautern     0.000000  59.000000  65.666667   0.000000   0.000000   \n",
       "1. FC Köln               0.000000  60.000000  32.000000   0.000000  68.500000   \n",
       "1. FC Magdeburg          0.000000  60.000000   0.000000  64.000000   0.000000   \n",
       "...                           ...        ...        ...        ...        ...   \n",
       "Çaykur Rizespor         74.000000  58.000000  62.800000   0.000000   0.000000   \n",
       "Örebro SK                0.000000  60.750000   0.000000   0.000000  63.000000   \n",
       "Östersunds FK           67.000000  76.000000   0.000000  77.000000  56.333333   \n",
       "Śląsk Wrocław            0.000000  62.000000  66.666667   0.000000  72.000000   \n",
       "All                     68.236967  57.734854  60.813314  69.803922  64.299906   \n",
       "\n",
       "                                                                             \\\n",
       "Position                      GK        LAM         LB       LCB        LCM   \n",
       "Club                                                                          \n",
       " SSV Jahn Regensburg   33.000000   0.000000  76.000000   0.00000   0.000000   \n",
       "1. FC Heidenheim 1846  41.000000   0.000000  60.000000  55.00000   0.000000   \n",
       "1. FC Kaiserslautern   42.666667   0.000000  68.000000  45.00000   0.000000   \n",
       "1. FC Köln             33.000000   0.000000   0.000000   0.00000   0.000000   \n",
       "1. FC Magdeburg        39.333333   0.000000  69.000000  60.00000  66.000000   \n",
       "...                          ...        ...        ...       ...        ...   \n",
       "Çaykur Rizespor        47.000000   0.000000  75.500000  63.00000   0.000000   \n",
       "Örebro SK              33.666667   0.000000   0.000000  58.00000  44.000000   \n",
       "Östersunds FK          32.666667   0.000000  74.500000  53.00000  62.000000   \n",
       "Śląsk Wrocław          30.666667   0.000000  78.500000  59.00000   0.000000   \n",
       "All                    37.622182  76.333333  70.718563  58.93643  65.334764   \n",
       "\n",
       "                       ...                                              \\\n",
       "Position               ...        RCB        RCM        RDM         RF   \n",
       "Club                   ...                                               \n",
       " SSV Jahn Regensburg   ...  57.000000   0.000000  65.000000   0.000000   \n",
       "1. FC Heidenheim 1846  ...  59.000000   0.000000   0.000000   0.000000   \n",
       "1. FC Kaiserslautern   ...   0.000000   0.000000  55.000000   0.000000   \n",
       "1. FC Köln             ...   0.000000   0.000000   0.000000   0.000000   \n",
       "1. FC Magdeburg        ...  68.000000  71.000000   0.000000   0.000000   \n",
       "...                    ...        ...        ...        ...        ...   \n",
       "Çaykur Rizespor        ...   0.000000   0.000000  32.000000   0.000000   \n",
       "Örebro SK              ...  62.000000  66.000000   0.000000   0.000000   \n",
       "Östersunds FK          ...  73.000000   0.000000   0.000000   0.000000   \n",
       "Śląsk Wrocław          ...  58.000000   0.000000  69.000000   0.000000   \n",
       "All                    ...  58.239234  65.233333  62.152174  76.333333   \n",
       "\n",
       "                                                                              \\\n",
       "Position                      RM         RS         RW        RWB         ST   \n",
       "Club                                                                           \n",
       " SSV Jahn Regensburg    0.000000   0.000000   0.000000   0.000000  61.666667   \n",
       "1. FC Heidenheim 1846  78.333333   0.000000   0.000000   0.000000  69.000000   \n",
       "1. FC Kaiserslautern   82.500000  69.000000   0.000000   0.000000  79.000000   \n",
       "1. FC Köln             77.000000   0.000000   0.000000   0.000000   0.000000   \n",
       "1. FC Magdeburg        76.000000  53.000000  80.500000   0.000000  44.000000   \n",
       "...                          ...        ...        ...        ...        ...   \n",
       "Çaykur Rizespor        85.000000   0.000000   0.000000   0.000000  48.000000   \n",
       "Örebro SK               0.000000   0.000000  77.500000  72.000000  72.200000   \n",
       "Östersunds FK          85.000000   0.000000  67.000000   0.000000  52.000000   \n",
       "Śląsk Wrocław          68.000000  81.000000   0.000000   0.000000  54.000000   \n",
       "All                    74.943864  71.991228  75.417722  73.128571  68.700397   \n",
       "\n",
       "                                  \n",
       "Position                     All  \n",
       "Club                              \n",
       " SSV Jahn Regensburg   59.041667  \n",
       "1. FC Heidenheim 1846  65.450000  \n",
       "1. FC Kaiserslautern   65.217391  \n",
       "1. FC Köln             55.200000  \n",
       "1. FC Magdeburg        63.238095  \n",
       "...                          ...  \n",
       "Çaykur Rizespor        61.318182  \n",
       "Örebro SK              63.000000  \n",
       "Östersunds FK          61.450000  \n",
       "Śląsk Wrocław          60.583333  \n",
       "All                    63.205629  \n",
       "\n",
       "[651 rows x 28 columns]"
      ],
      "text/html": "<div>\n<style scoped>\n    .dataframe tbody tr th:only-of-type {\n        vertical-align: middle;\n    }\n\n    .dataframe tbody tr th {\n        vertical-align: top;\n    }\n\n    .dataframe thead tr th {\n        text-align: left;\n    }\n\n    .dataframe thead tr:last-of-type th {\n        text-align: right;\n    }\n</style>\n<table border=\"1\" class=\"dataframe\">\n  <thead>\n    <tr>\n      <th></th>\n      <th colspan=\"21\" halign=\"left\">SprintSpeed</th>\n    </tr>\n    <tr>\n      <th>Position</th>\n      <th>CAM</th>\n      <th>CB</th>\n      <th>CDM</th>\n      <th>CF</th>\n      <th>CM</th>\n      <th>GK</th>\n      <th>LAM</th>\n      <th>LB</th>\n      <th>LCB</th>\n      <th>LCM</th>\n      <th>...</th>\n      <th>RCB</th>\n      <th>RCM</th>\n      <th>RDM</th>\n      <th>RF</th>\n      <th>RM</th>\n      <th>RS</th>\n      <th>RW</th>\n      <th>RWB</th>\n      <th>ST</th>\n      <th>All</th>\n    </tr>\n    <tr>\n      <th>Club</th>\n      <th></th>\n      <th></th>\n      <th></th>\n      <th></th>\n      <th></th>\n      <th></th>\n      <th></th>\n      <th></th>\n      <th></th>\n      <th></th>\n      <th></th>\n      <th></th>\n      <th></th>\n      <th></th>\n      <th></th>\n      <th></th>\n      <th></th>\n      <th></th>\n      <th></th>\n      <th></th>\n      <th></th>\n    </tr>\n  </thead>\n  <tbody>\n    <tr>\n      <th>SSV Jahn Regensburg</th>\n      <td>0.000000</td>\n      <td>46.600000</td>\n      <td>82.000000</td>\n      <td>0.000000</td>\n      <td>61.000000</td>\n      <td>33.000000</td>\n      <td>0.000000</td>\n      <td>76.000000</td>\n      <td>0.00000</td>\n      <td>0.000000</td>\n      <td>...</td>\n      <td>57.000000</td>\n      <td>0.000000</td>\n      <td>65.000000</td>\n      <td>0.000000</td>\n      <td>0.000000</td>\n      <td>0.000000</td>\n      <td>0.000000</td>\n      <td>0.000000</td>\n      <td>61.666667</td>\n      <td>59.041667</td>\n    </tr>\n    <tr>\n      <th>1. FC Heidenheim 1846</th>\n      <td>68.000000</td>\n      <td>61.333333</td>\n      <td>0.000000</td>\n      <td>0.000000</td>\n      <td>68.000000</td>\n      <td>41.000000</td>\n      <td>0.000000</td>\n      <td>60.000000</td>\n      <td>55.00000</td>\n      <td>0.000000</td>\n      <td>...</td>\n      <td>59.000000</td>\n      <td>0.000000</td>\n      <td>0.000000</td>\n      <td>0.000000</td>\n      <td>78.333333</td>\n      <td>0.000000</td>\n      <td>0.000000</td>\n      <td>0.000000</td>\n      <td>69.000000</td>\n      <td>65.450000</td>\n    </tr>\n    <tr>\n      <th>1. FC Kaiserslautern</th>\n      <td>0.000000</td>\n      <td>59.000000</td>\n      <td>65.666667</td>\n      <td>0.000000</td>\n      <td>0.000000</td>\n      <td>42.666667</td>\n      <td>0.000000</td>\n      <td>68.000000</td>\n      <td>45.00000</td>\n      <td>0.000000</td>\n      <td>...</td>\n      <td>0.000000</td>\n      <td>0.000000</td>\n      <td>55.000000</td>\n      <td>0.000000</td>\n      <td>82.500000</td>\n      <td>69.000000</td>\n      <td>0.000000</td>\n      <td>0.000000</td>\n      <td>79.000000</td>\n      <td>65.217391</td>\n    </tr>\n    <tr>\n      <th>1. FC Köln</th>\n      <td>0.000000</td>\n      <td>60.000000</td>\n      <td>32.000000</td>\n      <td>0.000000</td>\n      <td>68.500000</td>\n      <td>33.000000</td>\n      <td>0.000000</td>\n      <td>0.000000</td>\n      <td>0.00000</td>\n      <td>0.000000</td>\n      <td>...</td>\n      <td>0.000000</td>\n      <td>0.000000</td>\n      <td>0.000000</td>\n      <td>0.000000</td>\n      <td>77.000000</td>\n      <td>0.000000</td>\n      <td>0.000000</td>\n      <td>0.000000</td>\n      <td>0.000000</td>\n      <td>55.200000</td>\n    </tr>\n    <tr>\n      <th>1. FC Magdeburg</th>\n      <td>0.000000</td>\n      <td>60.000000</td>\n      <td>0.000000</td>\n      <td>64.000000</td>\n      <td>0.000000</td>\n      <td>39.333333</td>\n      <td>0.000000</td>\n      <td>69.000000</td>\n      <td>60.00000</td>\n      <td>66.000000</td>\n      <td>...</td>\n      <td>68.000000</td>\n      <td>71.000000</td>\n      <td>0.000000</td>\n      <td>0.000000</td>\n      <td>76.000000</td>\n      <td>53.000000</td>\n      <td>80.500000</td>\n      <td>0.000000</td>\n      <td>44.000000</td>\n      <td>63.238095</td>\n    </tr>\n    <tr>\n      <th>...</th>\n      <td>...</td>\n      <td>...</td>\n      <td>...</td>\n      <td>...</td>\n      <td>...</td>\n      <td>...</td>\n      <td>...</td>\n      <td>...</td>\n      <td>...</td>\n      <td>...</td>\n      <td>...</td>\n      <td>...</td>\n      <td>...</td>\n      <td>...</td>\n      <td>...</td>\n      <td>...</td>\n      <td>...</td>\n      <td>...</td>\n      <td>...</td>\n      <td>...</td>\n      <td>...</td>\n    </tr>\n    <tr>\n      <th>Çaykur Rizespor</th>\n      <td>74.000000</td>\n      <td>58.000000</td>\n      <td>62.800000</td>\n      <td>0.000000</td>\n      <td>0.000000</td>\n      <td>47.000000</td>\n      <td>0.000000</td>\n      <td>75.500000</td>\n      <td>63.00000</td>\n      <td>0.000000</td>\n      <td>...</td>\n      <td>0.000000</td>\n      <td>0.000000</td>\n      <td>32.000000</td>\n      <td>0.000000</td>\n      <td>85.000000</td>\n      <td>0.000000</td>\n      <td>0.000000</td>\n      <td>0.000000</td>\n      <td>48.000000</td>\n      <td>61.318182</td>\n    </tr>\n    <tr>\n      <th>Örebro SK</th>\n      <td>0.000000</td>\n      <td>60.750000</td>\n      <td>0.000000</td>\n      <td>0.000000</td>\n      <td>63.000000</td>\n      <td>33.666667</td>\n      <td>0.000000</td>\n      <td>0.000000</td>\n      <td>58.00000</td>\n      <td>44.000000</td>\n      <td>...</td>\n      <td>62.000000</td>\n      <td>66.000000</td>\n      <td>0.000000</td>\n      <td>0.000000</td>\n      <td>0.000000</td>\n      <td>0.000000</td>\n      <td>77.500000</td>\n      <td>72.000000</td>\n      <td>72.200000</td>\n      <td>63.000000</td>\n    </tr>\n    <tr>\n      <th>Östersunds FK</th>\n      <td>67.000000</td>\n      <td>76.000000</td>\n      <td>0.000000</td>\n      <td>77.000000</td>\n      <td>56.333333</td>\n      <td>32.666667</td>\n      <td>0.000000</td>\n      <td>74.500000</td>\n      <td>53.00000</td>\n      <td>62.000000</td>\n      <td>...</td>\n      <td>73.000000</td>\n      <td>0.000000</td>\n      <td>0.000000</td>\n      <td>0.000000</td>\n      <td>85.000000</td>\n      <td>0.000000</td>\n      <td>67.000000</td>\n      <td>0.000000</td>\n      <td>52.000000</td>\n      <td>61.450000</td>\n    </tr>\n    <tr>\n      <th>Śląsk Wrocław</th>\n      <td>0.000000</td>\n      <td>62.000000</td>\n      <td>66.666667</td>\n      <td>0.000000</td>\n      <td>72.000000</td>\n      <td>30.666667</td>\n      <td>0.000000</td>\n      <td>78.500000</td>\n      <td>59.00000</td>\n      <td>0.000000</td>\n      <td>...</td>\n      <td>58.000000</td>\n      <td>0.000000</td>\n      <td>69.000000</td>\n      <td>0.000000</td>\n      <td>68.000000</td>\n      <td>81.000000</td>\n      <td>0.000000</td>\n      <td>0.000000</td>\n      <td>54.000000</td>\n      <td>60.583333</td>\n    </tr>\n    <tr>\n      <th>All</th>\n      <td>68.236967</td>\n      <td>57.734854</td>\n      <td>60.813314</td>\n      <td>69.803922</td>\n      <td>64.299906</td>\n      <td>37.622182</td>\n      <td>76.333333</td>\n      <td>70.718563</td>\n      <td>58.93643</td>\n      <td>65.334764</td>\n      <td>...</td>\n      <td>58.239234</td>\n      <td>65.233333</td>\n      <td>62.152174</td>\n      <td>76.333333</td>\n      <td>74.943864</td>\n      <td>71.991228</td>\n      <td>75.417722</td>\n      <td>73.128571</td>\n      <td>68.700397</td>\n      <td>63.205629</td>\n    </tr>\n  </tbody>\n</table>\n<p>651 rows × 28 columns</p>\n</div>"
     },
     "metadata": {},
     "execution_count": 232
    }
   ],
   "source": [
    "dats = pivot\n",
    "dats"
   ]
  },
  {
   "cell_type": "code",
   "execution_count": 233,
   "metadata": {},
   "outputs": [
    {
     "output_type": "execute_result",
     "data": {
      "text/plain": [
       "             Position\n",
       "SprintSpeed  RF          76.333333\n",
       "             LAM         76.333333\n",
       "             LF          75.875000\n",
       "             RW          75.417722\n",
       "             RM          74.943864\n",
       "             LW          74.747934\n",
       "             LM          74.211538\n",
       "             RAM         73.800000\n",
       "             RWB         73.128571\n",
       "             LWB         72.833333\n",
       "             LS          72.338843\n",
       "             RS          71.991228\n",
       "             RB          71.186709\n",
       "             LB          70.718563\n",
       "             CF          69.803922\n",
       "             ST          68.700397\n",
       "             CAM         68.236967\n",
       "             LCM         65.334764\n",
       "             RCM         65.233333\n",
       "             CM          64.299906\n",
       "             All         63.205629\n",
       "             RDM         62.152174\n",
       "             LDM         62.006757\n",
       "             CDM         60.813314\n",
       "             LCB         58.936430\n",
       "             RCB         58.239234\n",
       "             CB          57.734854\n",
       "             GK          37.622182\n",
       "Name: All, dtype: float64"
      ]
     },
     "metadata": {},
     "execution_count": 233
    }
   ],
   "source": [
    "dats.loc['All'].sort_values(ascending=False)"
   ]
  },
  {
   "cell_type": "code",
   "execution_count": 246,
   "metadata": {},
   "outputs": [
    {
     "output_type": "execute_result",
     "data": {
      "text/plain": [
       "Club\n",
       "Vitória                  91.000000\n",
       "Sydney FC                88.000000\n",
       "CD Lugo                  87.000000\n",
       "Brøndby IF               84.666667\n",
       "Leicester City           84.500000\n",
       "                           ...    \n",
       "Al Ittihad                0.000000\n",
       "Cagliari                  0.000000\n",
       "KAA Gent                  0.000000\n",
       "Sporting de Charleroi     0.000000\n",
       "Girona FC                 0.000000\n",
       "Name: ST, Length: 651, dtype: float64"
      ]
     },
     "metadata": {},
     "execution_count": 246
    }
   ],
   "source": [
    "pivot['SprintSpeed']['ST'].sort_values(ascending=False)"
   ]
  }
 ]
}