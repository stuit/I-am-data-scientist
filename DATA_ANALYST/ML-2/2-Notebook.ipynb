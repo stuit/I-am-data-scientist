{
 "metadata": {
  "language_info": {
   "codemirror_mode": {
    "name": "ipython",
    "version": 3
   },
   "file_extension": ".py",
   "mimetype": "text/x-python",
   "name": "python",
   "nbconvert_exporter": "python",
   "pygments_lexer": "ipython3",
   "version": "3.8.2-final"
  },
  "orig_nbformat": 2,
  "kernelspec": {
   "name": "python3",
   "display_name": "Python 3.8.2 64-bit ('.venv')",
   "metadata": {
    "interpreter": {
     "hash": "a6730fb0a06c18af636869813f8eb69d9f4a51b49b9b87b39aeaf81c3d64a67b"
    }
   }
  }
 },
 "nbformat": 4,
 "nbformat_minor": 2,
 "cells": [
  {
   "cell_type": "code",
   "execution_count": 3,
   "metadata": {},
   "outputs": [
    {
     "output_type": "execute_result",
     "data": {
      "text/plain": [
       "   id  full_sq  life_sq  floor           sub_area  preschool_quota  \\\n",
       "0   1       43     27.0    4.0           Bibirevo           5001.0   \n",
       "1   2       34     19.0    3.0  Nagatinskij Zaton           3119.0   \n",
       "2   3       43     29.0    2.0     Tekstil'shhiki           1463.0   \n",
       "3   4       89     50.0    9.0             Mitino           6839.0   \n",
       "4   5       77     77.0    4.0          Basmannoe           3240.0   \n",
       "\n",
       "   preschool_education_centers_raion  school_quota  \\\n",
       "0                                  5       11065.0   \n",
       "1                                  5        6237.0   \n",
       "2                                  4        5580.0   \n",
       "3                                  9       17063.0   \n",
       "4                                  7        7770.0   \n",
       "\n",
       "   school_education_centers_raion  school_education_centers_top_20_raion  ...  \\\n",
       "0                               5                                      0  ...   \n",
       "1                               8                                      0  ...   \n",
       "2                               7                                      0  ...   \n",
       "3                              10                                      0  ...   \n",
       "4                               9                                      0  ...   \n",
       "\n",
       "   shopping_centers_km  office_km  additional_education_km  preschool_km  \\\n",
       "0             0.648488   0.637189                 0.947962      0.177975   \n",
       "1             0.519311   0.688796                 1.072315      0.273345   \n",
       "2             1.486533   1.543049                 0.391957      0.158072   \n",
       "3             0.599914   0.934273                 0.892674      0.236455   \n",
       "4             0.429052   0.077901                 0.810801      0.376838   \n",
       "\n",
       "   big_church_km  church_synagogue_km  theater_km  museum_km    ecology  \\\n",
       "0       0.625783             0.628187   14.053047   7.389498       good   \n",
       "1       0.967821             0.471447    6.829889   0.709260  excellent   \n",
       "2       3.178751             0.755946    4.273200   3.156423       poor   \n",
       "3       1.031777             1.561505   16.990677  16.041521       good   \n",
       "4       0.378756             0.121681    1.112486   1.800125  excellent   \n",
       "\n",
       "   price_doc  \n",
       "0    5850000  \n",
       "1    6000000  \n",
       "2    5700000  \n",
       "3   13100000  \n",
       "4   16331452  \n",
       "\n",
       "[5 rows x 56 columns]"
      ],
      "text/html": "<div>\n<style scoped>\n    .dataframe tbody tr th:only-of-type {\n        vertical-align: middle;\n    }\n\n    .dataframe tbody tr th {\n        vertical-align: top;\n    }\n\n    .dataframe thead th {\n        text-align: right;\n    }\n</style>\n<table border=\"1\" class=\"dataframe\">\n  <thead>\n    <tr style=\"text-align: right;\">\n      <th></th>\n      <th>id</th>\n      <th>full_sq</th>\n      <th>life_sq</th>\n      <th>floor</th>\n      <th>sub_area</th>\n      <th>preschool_quota</th>\n      <th>preschool_education_centers_raion</th>\n      <th>school_quota</th>\n      <th>school_education_centers_raion</th>\n      <th>school_education_centers_top_20_raion</th>\n      <th>...</th>\n      <th>shopping_centers_km</th>\n      <th>office_km</th>\n      <th>additional_education_km</th>\n      <th>preschool_km</th>\n      <th>big_church_km</th>\n      <th>church_synagogue_km</th>\n      <th>theater_km</th>\n      <th>museum_km</th>\n      <th>ecology</th>\n      <th>price_doc</th>\n    </tr>\n  </thead>\n  <tbody>\n    <tr>\n      <th>0</th>\n      <td>1</td>\n      <td>43</td>\n      <td>27.0</td>\n      <td>4.0</td>\n      <td>Bibirevo</td>\n      <td>5001.0</td>\n      <td>5</td>\n      <td>11065.0</td>\n      <td>5</td>\n      <td>0</td>\n      <td>...</td>\n      <td>0.648488</td>\n      <td>0.637189</td>\n      <td>0.947962</td>\n      <td>0.177975</td>\n      <td>0.625783</td>\n      <td>0.628187</td>\n      <td>14.053047</td>\n      <td>7.389498</td>\n      <td>good</td>\n      <td>5850000</td>\n    </tr>\n    <tr>\n      <th>1</th>\n      <td>2</td>\n      <td>34</td>\n      <td>19.0</td>\n      <td>3.0</td>\n      <td>Nagatinskij Zaton</td>\n      <td>3119.0</td>\n      <td>5</td>\n      <td>6237.0</td>\n      <td>8</td>\n      <td>0</td>\n      <td>...</td>\n      <td>0.519311</td>\n      <td>0.688796</td>\n      <td>1.072315</td>\n      <td>0.273345</td>\n      <td>0.967821</td>\n      <td>0.471447</td>\n      <td>6.829889</td>\n      <td>0.709260</td>\n      <td>excellent</td>\n      <td>6000000</td>\n    </tr>\n    <tr>\n      <th>2</th>\n      <td>3</td>\n      <td>43</td>\n      <td>29.0</td>\n      <td>2.0</td>\n      <td>Tekstil'shhiki</td>\n      <td>1463.0</td>\n      <td>4</td>\n      <td>5580.0</td>\n      <td>7</td>\n      <td>0</td>\n      <td>...</td>\n      <td>1.486533</td>\n      <td>1.543049</td>\n      <td>0.391957</td>\n      <td>0.158072</td>\n      <td>3.178751</td>\n      <td>0.755946</td>\n      <td>4.273200</td>\n      <td>3.156423</td>\n      <td>poor</td>\n      <td>5700000</td>\n    </tr>\n    <tr>\n      <th>3</th>\n      <td>4</td>\n      <td>89</td>\n      <td>50.0</td>\n      <td>9.0</td>\n      <td>Mitino</td>\n      <td>6839.0</td>\n      <td>9</td>\n      <td>17063.0</td>\n      <td>10</td>\n      <td>0</td>\n      <td>...</td>\n      <td>0.599914</td>\n      <td>0.934273</td>\n      <td>0.892674</td>\n      <td>0.236455</td>\n      <td>1.031777</td>\n      <td>1.561505</td>\n      <td>16.990677</td>\n      <td>16.041521</td>\n      <td>good</td>\n      <td>13100000</td>\n    </tr>\n    <tr>\n      <th>4</th>\n      <td>5</td>\n      <td>77</td>\n      <td>77.0</td>\n      <td>4.0</td>\n      <td>Basmannoe</td>\n      <td>3240.0</td>\n      <td>7</td>\n      <td>7770.0</td>\n      <td>9</td>\n      <td>0</td>\n      <td>...</td>\n      <td>0.429052</td>\n      <td>0.077901</td>\n      <td>0.810801</td>\n      <td>0.376838</td>\n      <td>0.378756</td>\n      <td>0.121681</td>\n      <td>1.112486</td>\n      <td>1.800125</td>\n      <td>excellent</td>\n      <td>16331452</td>\n    </tr>\n  </tbody>\n</table>\n<p>5 rows × 56 columns</p>\n</div>"
     },
     "metadata": {},
     "execution_count": 3
    }
   ],
   "source": [
    "import pandas as pd\n",
    "import numpy as np\n",
    "data = pd.read_csv('data_flats.csv',sep=\";\")\n",
    "data.head()"
   ]
  },
  {
   "cell_type": "code",
   "execution_count": 4,
   "metadata": {},
   "outputs": [
    {
     "output_type": "stream",
     "name": "stdout",
     "text": [
      "<class 'pandas.core.frame.DataFrame'>\nRangeIndex: 30469 entries, 0 to 30468\nData columns (total 56 columns):\n #   Column                                 Non-Null Count  Dtype  \n---  ------                                 --------------  -----  \n 0   id                                     30469 non-null  int64  \n 1   full_sq                                30469 non-null  int64  \n 2   life_sq                                24086 non-null  float64\n 3   floor                                  30302 non-null  float64\n 4   sub_area                               30469 non-null  object \n 5   preschool_quota                        23781 non-null  float64\n 6   preschool_education_centers_raion      30469 non-null  int64  \n 7   school_quota                           23784 non-null  float64\n 8   school_education_centers_raion         30469 non-null  int64  \n 9   school_education_centers_top_20_raion  30469 non-null  int64  \n 10  hospital_beds_raion                    16029 non-null  float64\n 11  healthcare_centers_raion               30469 non-null  int64  \n 12  university_top_20_raion                30469 non-null  int64  \n 13  sport_objects_raion                    30469 non-null  int64  \n 14  additional_education_raion             30469 non-null  int64  \n 15  culture_objects_top_25_raion           30469 non-null  int64  \n 16  shopping_centers_raion                 30469 non-null  int64  \n 17  office_raion                           30469 non-null  int64  \n 18  metro_min_avto                         30469 non-null  float64\n 19  metro_km_avto                          30469 non-null  float64\n 20  metro_min_walk                         30444 non-null  float64\n 21  metro_km_walk                          30444 non-null  float64\n 22  kindergarten_km                        30469 non-null  float64\n 23  school_km                              30469 non-null  float64\n 24  park_km                                30469 non-null  float64\n 25  green_zone_km                          30469 non-null  float64\n 26  industrial_km                          30469 non-null  float64\n 27  railroad_station_walk_km               30444 non-null  float64\n 28  railroad_station_walk_min              30444 non-null  float64\n 29  public_transport_station_km            30469 non-null  float64\n 30  public_transport_station_min_walk      30469 non-null  float64\n 31  mkad_km                                30469 non-null  float64\n 32  ttk_km                                 30469 non-null  float64\n 33  sadovoe_km                             30469 non-null  float64\n 34  bulvar_ring_km                         30469 non-null  float64\n 35  kremlin_km                             30469 non-null  float64\n 36  big_market_km                          30469 non-null  float64\n 37  market_shop_km                         30469 non-null  float64\n 38  fitness_km                             30469 non-null  float64\n 39  swim_pool_km                           30469 non-null  float64\n 40  ice_rink_km                            30469 non-null  float64\n 41  stadium_km                             30469 non-null  float64\n 42  basketball_km                          30469 non-null  float64\n 43  hospice_morgue_km                      30469 non-null  float64\n 44  university_km                          30469 non-null  float64\n 45  workplaces_km                          30469 non-null  float64\n 46  shopping_centers_km                    30469 non-null  float64\n 47  office_km                              30469 non-null  float64\n 48  additional_education_km                30469 non-null  float64\n 49  preschool_km                           30469 non-null  float64\n 50  big_church_km                          30469 non-null  float64\n 51  church_synagogue_km                    30469 non-null  float64\n 52  theater_km                             30469 non-null  float64\n 53  museum_km                              30469 non-null  float64\n 54  ecology                                30469 non-null  object \n 55  price_doc                              30469 non-null  int64  \ndtypes: float64(41), int64(13), object(2)\nmemory usage: 13.0+ MB\n"
     ]
    }
   ],
   "source": [
    "data.info()"
   ]
  },
  {
   "cell_type": "code",
   "execution_count": 5,
   "metadata": {},
   "outputs": [
    {
     "output_type": "execute_result",
     "data": {
      "text/plain": [
       "   one  two  three\n",
       "0    1  2.0    NaN\n",
       "1    3  NaN    4.0\n",
       "2    0  1.0    2.0"
      ],
      "text/html": "<div>\n<style scoped>\n    .dataframe tbody tr th:only-of-type {\n        vertical-align: middle;\n    }\n\n    .dataframe tbody tr th {\n        vertical-align: top;\n    }\n\n    .dataframe thead th {\n        text-align: right;\n    }\n</style>\n<table border=\"1\" class=\"dataframe\">\n  <thead>\n    <tr style=\"text-align: right;\">\n      <th></th>\n      <th>one</th>\n      <th>two</th>\n      <th>three</th>\n    </tr>\n  </thead>\n  <tbody>\n    <tr>\n      <th>0</th>\n      <td>1</td>\n      <td>2.0</td>\n      <td>NaN</td>\n    </tr>\n    <tr>\n      <th>1</th>\n      <td>3</td>\n      <td>NaN</td>\n      <td>4.0</td>\n    </tr>\n    <tr>\n      <th>2</th>\n      <td>0</td>\n      <td>1.0</td>\n      <td>2.0</td>\n    </tr>\n  </tbody>\n</table>\n</div>"
     },
     "metadata": {},
     "execution_count": 5
    }
   ],
   "source": [
    "test_data = pd.DataFrame([[1, 2, np.nan], [3, np.nan, 4],\n",
    "                          [0, 1, 2]], columns=['one', 'two', 'three'])\n",
    "test_data.head()"
   ]
  },
  {
   "cell_type": "code",
   "execution_count": 6,
   "metadata": {},
   "outputs": [
    {
     "output_type": "execute_result",
     "data": {
      "text/plain": [
       "     one    two  three\n",
       "0  False  False   True\n",
       "1  False   True  False\n",
       "2  False  False  False"
      ],
      "text/html": "<div>\n<style scoped>\n    .dataframe tbody tr th:only-of-type {\n        vertical-align: middle;\n    }\n\n    .dataframe tbody tr th {\n        vertical-align: top;\n    }\n\n    .dataframe thead th {\n        text-align: right;\n    }\n</style>\n<table border=\"1\" class=\"dataframe\">\n  <thead>\n    <tr style=\"text-align: right;\">\n      <th></th>\n      <th>one</th>\n      <th>two</th>\n      <th>three</th>\n    </tr>\n  </thead>\n  <tbody>\n    <tr>\n      <th>0</th>\n      <td>False</td>\n      <td>False</td>\n      <td>True</td>\n    </tr>\n    <tr>\n      <th>1</th>\n      <td>False</td>\n      <td>True</td>\n      <td>False</td>\n    </tr>\n    <tr>\n      <th>2</th>\n      <td>False</td>\n      <td>False</td>\n      <td>False</td>\n    </tr>\n  </tbody>\n</table>\n</div>"
     },
     "metadata": {},
     "execution_count": 6
    }
   ],
   "source": [
    "test_data.isna()"
   ]
  },
  {
   "cell_type": "code",
   "execution_count": 7,
   "metadata": {},
   "outputs": [
    {
     "output_type": "execute_result",
     "data": {
      "text/plain": [
       "   one  two  three\n",
       "2    0  1.0    2.0"
      ],
      "text/html": "<div>\n<style scoped>\n    .dataframe tbody tr th:only-of-type {\n        vertical-align: middle;\n    }\n\n    .dataframe tbody tr th {\n        vertical-align: top;\n    }\n\n    .dataframe thead th {\n        text-align: right;\n    }\n</style>\n<table border=\"1\" class=\"dataframe\">\n  <thead>\n    <tr style=\"text-align: right;\">\n      <th></th>\n      <th>one</th>\n      <th>two</th>\n      <th>three</th>\n    </tr>\n  </thead>\n  <tbody>\n    <tr>\n      <th>2</th>\n      <td>0</td>\n      <td>1.0</td>\n      <td>2.0</td>\n    </tr>\n  </tbody>\n</table>\n</div>"
     },
     "metadata": {},
     "execution_count": 7
    }
   ],
   "source": [
    "test_data.dropna(axis=0)"
   ]
  },
  {
   "cell_type": "code",
   "execution_count": 8,
   "metadata": {},
   "outputs": [
    {
     "output_type": "execute_result",
     "data": {
      "text/plain": [
       "   one  two  three\n",
       "0    1  2.0   -1.0\n",
       "1    3 -1.0    4.0\n",
       "2    0  1.0    2.0"
      ],
      "text/html": "<div>\n<style scoped>\n    .dataframe tbody tr th:only-of-type {\n        vertical-align: middle;\n    }\n\n    .dataframe tbody tr th {\n        vertical-align: top;\n    }\n\n    .dataframe thead th {\n        text-align: right;\n    }\n</style>\n<table border=\"1\" class=\"dataframe\">\n  <thead>\n    <tr style=\"text-align: right;\">\n      <th></th>\n      <th>one</th>\n      <th>two</th>\n      <th>three</th>\n    </tr>\n  </thead>\n  <tbody>\n    <tr>\n      <th>0</th>\n      <td>1</td>\n      <td>2.0</td>\n      <td>-1.0</td>\n    </tr>\n    <tr>\n      <th>1</th>\n      <td>3</td>\n      <td>-1.0</td>\n      <td>4.0</td>\n    </tr>\n    <tr>\n      <th>2</th>\n      <td>0</td>\n      <td>1.0</td>\n      <td>2.0</td>\n    </tr>\n  </tbody>\n</table>\n</div>"
     },
     "metadata": {},
     "execution_count": 8
    }
   ],
   "source": [
    "test_data.fillna(-1)"
   ]
  },
  {
   "cell_type": "code",
   "execution_count": 9,
   "metadata": {},
   "outputs": [
    {
     "output_type": "stream",
     "name": "stdout",
     "text": [
      "<class 'pandas.core.frame.DataFrame'>\nRangeIndex: 250306 entries, 0 to 250305\nData columns (total 34 columns):\n #   Column                      Non-Null Count   Dtype  \n---  ------                      --------------   -----  \n 0   ticket_id                   250306 non-null  int64  \n 1   agency_name                 250306 non-null  object \n 2   inspector_name              250306 non-null  object \n 3   violator_name               250272 non-null  object \n 4   violation_street_number     250306 non-null  float64\n 5   violation_street_name       250306 non-null  object \n 6   violation_zip_code          0 non-null       float64\n 7   mailing_address_str_number  246704 non-null  float64\n 8   mailing_address_str_name    250302 non-null  object \n 9   city                        250306 non-null  object \n 10  state                       250213 non-null  object \n 11  zip_code                    250305 non-null  object \n 12  non_us_str_code             3 non-null       object \n 13  country                     250306 non-null  object \n 14  ticket_issued_date          250306 non-null  object \n 15  hearing_date                237815 non-null  object \n 16  violation_code              250306 non-null  object \n 17  violation_description       250306 non-null  object \n 18  disposition                 250306 non-null  object \n 19  fine_amount                 250305 non-null  float64\n 20  admin_fee                   250306 non-null  float64\n 21  state_fee                   250306 non-null  float64\n 22  late_fee                    250306 non-null  float64\n 23  discount_amount             250306 non-null  float64\n 24  clean_up_cost               250306 non-null  float64\n 25  judgment_amount             250306 non-null  float64\n 26  payment_amount              250306 non-null  float64\n 27  balance_due                 250306 non-null  float64\n 28  payment_date                41113 non-null   object \n 29  payment_status              250306 non-null  object \n 30  collection_status           36897 non-null   object \n 31  grafitti_status             1 non-null       object \n 32  compliance_detail           250306 non-null  object \n 33  compliance                  159880 non-null  float64\ndtypes: float64(13), int64(1), object(20)\nmemory usage: 64.9+ MB\n"
     ]
    }
   ],
   "source": [
    "vis_data = pd.read_csv(\"train.csv\", encoding = 'ISO-8859-1', low_memory = False)\n",
    "vis_data.info()"
   ]
  },
  {
   "cell_type": "code",
   "execution_count": 10,
   "metadata": {},
   "outputs": [
    {
     "output_type": "stream",
     "name": "stdout",
     "text": [
      "<class 'pandas.core.frame.DataFrame'>\nInt64Index: 93 entries, 183911 to 250070\nData columns (total 34 columns):\n #   Column                      Non-Null Count  Dtype  \n---  ------                      --------------  -----  \n 0   ticket_id                   93 non-null     int64  \n 1   agency_name                 93 non-null     object \n 2   inspector_name              93 non-null     object \n 3   violator_name               93 non-null     object \n 4   violation_street_number     93 non-null     float64\n 5   violation_street_name       93 non-null     object \n 6   violation_zip_code          0 non-null      float64\n 7   mailing_address_str_number  82 non-null     float64\n 8   mailing_address_str_name    93 non-null     object \n 9   city                        93 non-null     object \n 10  state                       0 non-null      object \n 11  zip_code                    93 non-null     object \n 12  non_us_str_code             0 non-null      object \n 13  country                     93 non-null     object \n 14  ticket_issued_date          93 non-null     object \n 15  hearing_date                93 non-null     object \n 16  violation_code              93 non-null     object \n 17  violation_description       93 non-null     object \n 18  disposition                 93 non-null     object \n 19  fine_amount                 93 non-null     float64\n 20  admin_fee                   93 non-null     float64\n 21  state_fee                   93 non-null     float64\n 22  late_fee                    93 non-null     float64\n 23  discount_amount             93 non-null     float64\n 24  clean_up_cost               93 non-null     float64\n 25  judgment_amount             93 non-null     float64\n 26  payment_amount              93 non-null     float64\n 27  balance_due                 93 non-null     float64\n 28  payment_date                21 non-null     object \n 29  payment_status              93 non-null     object \n 30  collection_status           3 non-null      object \n 31  grafitti_status             0 non-null      object \n 32  compliance_detail           93 non-null     object \n 33  compliance                  84 non-null     float64\ndtypes: float64(13), int64(1), object(20)\nmemory usage: 25.4+ KB\n"
     ]
    }
   ],
   "source": [
    "vis_data[vis_data.state.isna() == True].info()"
   ]
  },
  {
   "cell_type": "code",
   "execution_count": 11,
   "metadata": {},
   "outputs": [
    {
     "output_type": "execute_result",
     "data": {
      "text/plain": [
       "0         IL\n",
       "1         MI\n",
       "2         MI\n",
       "3         MI\n",
       "4         MI\n",
       "          ..\n",
       "250301    MI\n",
       "250302    MI\n",
       "250303    MI\n",
       "250304    MI\n",
       "250305    MI\n",
       "Name: state, Length: 250306, dtype: object"
      ]
     },
     "metadata": {},
     "execution_count": 11
    }
   ],
   "source": [
    "result = vis_data.state.fillna(vis_data.state.mode()[0])\n",
    "result"
   ]
  },
  {
   "cell_type": "code",
   "execution_count": 12,
   "metadata": {},
   "outputs": [
    {
     "output_type": "error",
     "ename": "AttributeError",
     "evalue": "'Series' object has no attribute 'state'",
     "traceback": [
      "\u001b[0;31m---------------------------------------------------------------------------\u001b[0m",
      "\u001b[0;31mAttributeError\u001b[0m                            Traceback (most recent call last)",
      "\u001b[0;32m<ipython-input-12-8a5edccd3abc>\u001b[0m in \u001b[0;36m<module>\u001b[0;34m\u001b[0m\n\u001b[0;32m----> 1\u001b[0;31m \u001b[0mresult\u001b[0m\u001b[0;34m.\u001b[0m\u001b[0mstate\u001b[0m\u001b[0;34m.\u001b[0m\u001b[0mvalue_counts\u001b[0m\u001b[0;34m(\u001b[0m\u001b[0;34m)\u001b[0m\u001b[0;34m\u001b[0m\u001b[0;34m\u001b[0m\u001b[0m\n\u001b[0m",
      "\u001b[0;32m~/Projects/Misc/DataScience/Repo/.venv/lib/python3.8/site-packages/pandas/core/generic.py\u001b[0m in \u001b[0;36m__getattr__\u001b[0;34m(self, name)\u001b[0m\n\u001b[1;32m   5460\u001b[0m             \u001b[0;32mif\u001b[0m \u001b[0mself\u001b[0m\u001b[0;34m.\u001b[0m\u001b[0m_info_axis\u001b[0m\u001b[0;34m.\u001b[0m\u001b[0m_can_hold_identifiers_and_holds_name\u001b[0m\u001b[0;34m(\u001b[0m\u001b[0mname\u001b[0m\u001b[0;34m)\u001b[0m\u001b[0;34m:\u001b[0m\u001b[0;34m\u001b[0m\u001b[0;34m\u001b[0m\u001b[0m\n\u001b[1;32m   5461\u001b[0m                 \u001b[0;32mreturn\u001b[0m \u001b[0mself\u001b[0m\u001b[0;34m[\u001b[0m\u001b[0mname\u001b[0m\u001b[0;34m]\u001b[0m\u001b[0;34m\u001b[0m\u001b[0;34m\u001b[0m\u001b[0m\n\u001b[0;32m-> 5462\u001b[0;31m             \u001b[0;32mreturn\u001b[0m \u001b[0mobject\u001b[0m\u001b[0;34m.\u001b[0m\u001b[0m__getattribute__\u001b[0m\u001b[0;34m(\u001b[0m\u001b[0mself\u001b[0m\u001b[0;34m,\u001b[0m \u001b[0mname\u001b[0m\u001b[0;34m)\u001b[0m\u001b[0;34m\u001b[0m\u001b[0;34m\u001b[0m\u001b[0m\n\u001b[0m\u001b[1;32m   5463\u001b[0m \u001b[0;34m\u001b[0m\u001b[0m\n\u001b[1;32m   5464\u001b[0m     \u001b[0;32mdef\u001b[0m \u001b[0m__setattr__\u001b[0m\u001b[0;34m(\u001b[0m\u001b[0mself\u001b[0m\u001b[0;34m,\u001b[0m \u001b[0mname\u001b[0m\u001b[0;34m:\u001b[0m \u001b[0mstr\u001b[0m\u001b[0;34m,\u001b[0m \u001b[0mvalue\u001b[0m\u001b[0;34m)\u001b[0m \u001b[0;34m->\u001b[0m \u001b[0;32mNone\u001b[0m\u001b[0;34m:\u001b[0m\u001b[0;34m\u001b[0m\u001b[0;34m\u001b[0m\u001b[0m\n",
      "\u001b[0;31mAttributeError\u001b[0m: 'Series' object has no attribute 'state'"
     ]
    }
   ],
   "source": [
    "result.state.value_counts()"
   ]
  },
  {
   "cell_type": "code",
   "execution_count": 69,
   "metadata": {},
   "outputs": [
    {
     "output_type": "execute_result",
     "data": {
      "text/plain": [
       "   id  full_sq  life_sq  floor           sub_area  preschool_quota  \\\n",
       "0   1       43     27.0    4.0           Bibirevo           5001.0   \n",
       "1   2       34     19.0    3.0  Nagatinskij Zaton           3119.0   \n",
       "2   3       43     29.0    2.0     Tekstil'shhiki           1463.0   \n",
       "3   4       89     50.0    9.0             Mitino           6839.0   \n",
       "4   5       77     77.0    4.0          Basmannoe           3240.0   \n",
       "\n",
       "   preschool_education_centers_raion  school_quota  \\\n",
       "0                                  5       11065.0   \n",
       "1                                  5        6237.0   \n",
       "2                                  4        5580.0   \n",
       "3                                  9       17063.0   \n",
       "4                                  7        7770.0   \n",
       "\n",
       "   school_education_centers_raion  school_education_centers_top_20_raion  ...  \\\n",
       "0                               5                                      0  ...   \n",
       "1                               8                                      0  ...   \n",
       "2                               7                                      0  ...   \n",
       "3                              10                                      0  ...   \n",
       "4                               9                                      0  ...   \n",
       "\n",
       "   shopping_centers_km  office_km  additional_education_km  preschool_km  \\\n",
       "0             0.648488   0.637189                 0.947962      0.177975   \n",
       "1             0.519311   0.688796                 1.072315      0.273345   \n",
       "2             1.486533   1.543049                 0.391957      0.158072   \n",
       "3             0.599914   0.934273                 0.892674      0.236455   \n",
       "4             0.429052   0.077901                 0.810801      0.376838   \n",
       "\n",
       "   big_church_km  church_synagogue_km  theater_km  museum_km    ecology  \\\n",
       "0       0.625783             0.628187   14.053047   7.389498       good   \n",
       "1       0.967821             0.471447    6.829889   0.709260  excellent   \n",
       "2       3.178751             0.755946    4.273200   3.156423       poor   \n",
       "3       1.031777             1.561505   16.990677  16.041521       good   \n",
       "4       0.378756             0.121681    1.112486   1.800125  excellent   \n",
       "\n",
       "   price_doc  \n",
       "0    5850000  \n",
       "1    6000000  \n",
       "2    5700000  \n",
       "3   13100000  \n",
       "4   16331452  \n",
       "\n",
       "[5 rows x 56 columns]"
      ],
      "text/html": "<div>\n<style scoped>\n    .dataframe tbody tr th:only-of-type {\n        vertical-align: middle;\n    }\n\n    .dataframe tbody tr th {\n        vertical-align: top;\n    }\n\n    .dataframe thead th {\n        text-align: right;\n    }\n</style>\n<table border=\"1\" class=\"dataframe\">\n  <thead>\n    <tr style=\"text-align: right;\">\n      <th></th>\n      <th>id</th>\n      <th>full_sq</th>\n      <th>life_sq</th>\n      <th>floor</th>\n      <th>sub_area</th>\n      <th>preschool_quota</th>\n      <th>preschool_education_centers_raion</th>\n      <th>school_quota</th>\n      <th>school_education_centers_raion</th>\n      <th>school_education_centers_top_20_raion</th>\n      <th>...</th>\n      <th>shopping_centers_km</th>\n      <th>office_km</th>\n      <th>additional_education_km</th>\n      <th>preschool_km</th>\n      <th>big_church_km</th>\n      <th>church_synagogue_km</th>\n      <th>theater_km</th>\n      <th>museum_km</th>\n      <th>ecology</th>\n      <th>price_doc</th>\n    </tr>\n  </thead>\n  <tbody>\n    <tr>\n      <th>0</th>\n      <td>1</td>\n      <td>43</td>\n      <td>27.0</td>\n      <td>4.0</td>\n      <td>Bibirevo</td>\n      <td>5001.0</td>\n      <td>5</td>\n      <td>11065.0</td>\n      <td>5</td>\n      <td>0</td>\n      <td>...</td>\n      <td>0.648488</td>\n      <td>0.637189</td>\n      <td>0.947962</td>\n      <td>0.177975</td>\n      <td>0.625783</td>\n      <td>0.628187</td>\n      <td>14.053047</td>\n      <td>7.389498</td>\n      <td>good</td>\n      <td>5850000</td>\n    </tr>\n    <tr>\n      <th>1</th>\n      <td>2</td>\n      <td>34</td>\n      <td>19.0</td>\n      <td>3.0</td>\n      <td>Nagatinskij Zaton</td>\n      <td>3119.0</td>\n      <td>5</td>\n      <td>6237.0</td>\n      <td>8</td>\n      <td>0</td>\n      <td>...</td>\n      <td>0.519311</td>\n      <td>0.688796</td>\n      <td>1.072315</td>\n      <td>0.273345</td>\n      <td>0.967821</td>\n      <td>0.471447</td>\n      <td>6.829889</td>\n      <td>0.709260</td>\n      <td>excellent</td>\n      <td>6000000</td>\n    </tr>\n    <tr>\n      <th>2</th>\n      <td>3</td>\n      <td>43</td>\n      <td>29.0</td>\n      <td>2.0</td>\n      <td>Tekstil'shhiki</td>\n      <td>1463.0</td>\n      <td>4</td>\n      <td>5580.0</td>\n      <td>7</td>\n      <td>0</td>\n      <td>...</td>\n      <td>1.486533</td>\n      <td>1.543049</td>\n      <td>0.391957</td>\n      <td>0.158072</td>\n      <td>3.178751</td>\n      <td>0.755946</td>\n      <td>4.273200</td>\n      <td>3.156423</td>\n      <td>poor</td>\n      <td>5700000</td>\n    </tr>\n    <tr>\n      <th>3</th>\n      <td>4</td>\n      <td>89</td>\n      <td>50.0</td>\n      <td>9.0</td>\n      <td>Mitino</td>\n      <td>6839.0</td>\n      <td>9</td>\n      <td>17063.0</td>\n      <td>10</td>\n      <td>0</td>\n      <td>...</td>\n      <td>0.599914</td>\n      <td>0.934273</td>\n      <td>0.892674</td>\n      <td>0.236455</td>\n      <td>1.031777</td>\n      <td>1.561505</td>\n      <td>16.990677</td>\n      <td>16.041521</td>\n      <td>good</td>\n      <td>13100000</td>\n    </tr>\n    <tr>\n      <th>4</th>\n      <td>5</td>\n      <td>77</td>\n      <td>77.0</td>\n      <td>4.0</td>\n      <td>Basmannoe</td>\n      <td>3240.0</td>\n      <td>7</td>\n      <td>7770.0</td>\n      <td>9</td>\n      <td>0</td>\n      <td>...</td>\n      <td>0.429052</td>\n      <td>0.077901</td>\n      <td>0.810801</td>\n      <td>0.376838</td>\n      <td>0.378756</td>\n      <td>0.121681</td>\n      <td>1.112486</td>\n      <td>1.800125</td>\n      <td>excellent</td>\n      <td>16331452</td>\n    </tr>\n  </tbody>\n</table>\n<p>5 rows × 56 columns</p>\n</div>"
     },
     "metadata": {},
     "execution_count": 69
    }
   ],
   "source": [
    "data.head()"
   ]
  },
  {
   "cell_type": "code",
   "execution_count": 71,
   "metadata": {},
   "outputs": [
    {
     "output_type": "execute_result",
     "data": {
      "text/plain": [
       "          id  full_sq  life_sq  floor           sub_area  preschool_quota  \\\n",
       "0          1       43     27.0    4.0           Bibirevo           5001.0   \n",
       "1          2       34     19.0    3.0  Nagatinskij Zaton           3119.0   \n",
       "2          3       43     29.0    2.0     Tekstil'shhiki           1463.0   \n",
       "4          5       77     77.0    4.0          Basmannoe           3240.0   \n",
       "6          7       25     14.0   10.0         Sokol'niki            933.0   \n",
       "...      ...      ...      ...    ...                ...              ...   \n",
       "30461  30466       56     29.0   13.0   Severnoe Tushino           4116.0   \n",
       "30462  30467       56     51.0   19.0           Sviblovo           2057.0   \n",
       "30465  30470       86     59.0    3.0           Tverskoe           1874.0   \n",
       "30467  30472       64     32.0    5.0       Obruchevskoe           2372.0   \n",
       "30468  30473       43     28.0    1.0        Novogireevo           2215.0   \n",
       "\n",
       "       preschool_education_centers_raion  school_quota  \\\n",
       "0                                      5       11065.0   \n",
       "1                                      5        6237.0   \n",
       "2                                      4        5580.0   \n",
       "4                                      7        7770.0   \n",
       "6                                      5        5050.0   \n",
       "...                                  ...           ...   \n",
       "30461                                  5        9891.0   \n",
       "30462                                  1        3741.0   \n",
       "30465                                  4        6772.0   \n",
       "30467                                  6        6083.0   \n",
       "30468                                  4        5824.0   \n",
       "\n",
       "       school_education_centers_raion  school_education_centers_top_20_raion  \\\n",
       "0                                   5                                      0   \n",
       "1                                   8                                      0   \n",
       "2                                   7                                      0   \n",
       "4                                   9                                      0   \n",
       "6                                   5                                      0   \n",
       "...                               ...                                    ...   \n",
       "30461                               5                                      0   \n",
       "30462                               2                                      0   \n",
       "30465                               4                                      1   \n",
       "30467                               8                                      0   \n",
       "30468                               4                                      0   \n",
       "\n",
       "       ...  shopping_centers_km  office_km  additional_education_km  \\\n",
       "0      ...             0.648488   0.637189                 0.947962   \n",
       "1      ...             0.519311   0.688796                 1.072315   \n",
       "2      ...             1.486533   1.543049                 0.391957   \n",
       "4      ...             0.429052   0.077901                 0.810801   \n",
       "6      ...             0.513689   0.067725                 0.273019   \n",
       "...    ...                  ...        ...                      ...   \n",
       "30461  ...             0.232778   1.491458                 0.648281   \n",
       "30462  ...             0.187828   0.969990                 0.510751   \n",
       "30465  ...             0.540003   0.069986                 0.086552   \n",
       "30467  ...             1.108672   1.204798                 1.340017   \n",
       "30468  ...             0.224601   2.108265                 0.825811   \n",
       "\n",
       "       preschool_km  big_church_km  church_synagogue_km  theater_km  \\\n",
       "0          0.177975       0.625783             0.628187   14.053047   \n",
       "1          0.273345       0.967821             0.471447    6.829889   \n",
       "2          0.158072       3.178751             0.755946    4.273200   \n",
       "4          0.376838       0.378756             0.121681    1.112486   \n",
       "6          0.516979       0.822377             0.318230    0.752223   \n",
       "...             ...            ...                  ...         ...   \n",
       "30461      0.193474       0.283044             2.040548   23.720332   \n",
       "30462      0.566309       1.261711             0.532268    3.672399   \n",
       "30465      0.362681       0.850385             0.310021    0.778428   \n",
       "30467      0.130667       1.644053             0.476021    2.088193   \n",
       "30468      0.378950       0.480531             0.867332    0.688707   \n",
       "\n",
       "       museum_km       ecology  price_doc  \n",
       "0       7.389498          good    5850000  \n",
       "1       0.709260     excellent    6000000  \n",
       "2       3.156423          poor    5700000  \n",
       "4       1.800125     excellent   16331452  \n",
       "6       2.969315          poor    5500000  \n",
       "...          ...           ...        ...  \n",
       "30461  12.198090  satisfactory   12000000  \n",
       "30462   2.988268          poor   10262010  \n",
       "30465   1.450108          poor   25000000  \n",
       "30467   4.119706  satisfactory   13500000  \n",
       "30468   0.127867          poor    5600000  \n",
       "\n",
       "[13652 rows x 56 columns]"
      ],
      "text/html": "<div>\n<style scoped>\n    .dataframe tbody tr th:only-of-type {\n        vertical-align: middle;\n    }\n\n    .dataframe tbody tr th {\n        vertical-align: top;\n    }\n\n    .dataframe thead th {\n        text-align: right;\n    }\n</style>\n<table border=\"1\" class=\"dataframe\">\n  <thead>\n    <tr style=\"text-align: right;\">\n      <th></th>\n      <th>id</th>\n      <th>full_sq</th>\n      <th>life_sq</th>\n      <th>floor</th>\n      <th>sub_area</th>\n      <th>preschool_quota</th>\n      <th>preschool_education_centers_raion</th>\n      <th>school_quota</th>\n      <th>school_education_centers_raion</th>\n      <th>school_education_centers_top_20_raion</th>\n      <th>...</th>\n      <th>shopping_centers_km</th>\n      <th>office_km</th>\n      <th>additional_education_km</th>\n      <th>preschool_km</th>\n      <th>big_church_km</th>\n      <th>church_synagogue_km</th>\n      <th>theater_km</th>\n      <th>museum_km</th>\n      <th>ecology</th>\n      <th>price_doc</th>\n    </tr>\n  </thead>\n  <tbody>\n    <tr>\n      <th>0</th>\n      <td>1</td>\n      <td>43</td>\n      <td>27.0</td>\n      <td>4.0</td>\n      <td>Bibirevo</td>\n      <td>5001.0</td>\n      <td>5</td>\n      <td>11065.0</td>\n      <td>5</td>\n      <td>0</td>\n      <td>...</td>\n      <td>0.648488</td>\n      <td>0.637189</td>\n      <td>0.947962</td>\n      <td>0.177975</td>\n      <td>0.625783</td>\n      <td>0.628187</td>\n      <td>14.053047</td>\n      <td>7.389498</td>\n      <td>good</td>\n      <td>5850000</td>\n    </tr>\n    <tr>\n      <th>1</th>\n      <td>2</td>\n      <td>34</td>\n      <td>19.0</td>\n      <td>3.0</td>\n      <td>Nagatinskij Zaton</td>\n      <td>3119.0</td>\n      <td>5</td>\n      <td>6237.0</td>\n      <td>8</td>\n      <td>0</td>\n      <td>...</td>\n      <td>0.519311</td>\n      <td>0.688796</td>\n      <td>1.072315</td>\n      <td>0.273345</td>\n      <td>0.967821</td>\n      <td>0.471447</td>\n      <td>6.829889</td>\n      <td>0.709260</td>\n      <td>excellent</td>\n      <td>6000000</td>\n    </tr>\n    <tr>\n      <th>2</th>\n      <td>3</td>\n      <td>43</td>\n      <td>29.0</td>\n      <td>2.0</td>\n      <td>Tekstil'shhiki</td>\n      <td>1463.0</td>\n      <td>4</td>\n      <td>5580.0</td>\n      <td>7</td>\n      <td>0</td>\n      <td>...</td>\n      <td>1.486533</td>\n      <td>1.543049</td>\n      <td>0.391957</td>\n      <td>0.158072</td>\n      <td>3.178751</td>\n      <td>0.755946</td>\n      <td>4.273200</td>\n      <td>3.156423</td>\n      <td>poor</td>\n      <td>5700000</td>\n    </tr>\n    <tr>\n      <th>4</th>\n      <td>5</td>\n      <td>77</td>\n      <td>77.0</td>\n      <td>4.0</td>\n      <td>Basmannoe</td>\n      <td>3240.0</td>\n      <td>7</td>\n      <td>7770.0</td>\n      <td>9</td>\n      <td>0</td>\n      <td>...</td>\n      <td>0.429052</td>\n      <td>0.077901</td>\n      <td>0.810801</td>\n      <td>0.376838</td>\n      <td>0.378756</td>\n      <td>0.121681</td>\n      <td>1.112486</td>\n      <td>1.800125</td>\n      <td>excellent</td>\n      <td>16331452</td>\n    </tr>\n    <tr>\n      <th>6</th>\n      <td>7</td>\n      <td>25</td>\n      <td>14.0</td>\n      <td>10.0</td>\n      <td>Sokol'niki</td>\n      <td>933.0</td>\n      <td>5</td>\n      <td>5050.0</td>\n      <td>5</td>\n      <td>0</td>\n      <td>...</td>\n      <td>0.513689</td>\n      <td>0.067725</td>\n      <td>0.273019</td>\n      <td>0.516979</td>\n      <td>0.822377</td>\n      <td>0.318230</td>\n      <td>0.752223</td>\n      <td>2.969315</td>\n      <td>poor</td>\n      <td>5500000</td>\n    </tr>\n    <tr>\n      <th>...</th>\n      <td>...</td>\n      <td>...</td>\n      <td>...</td>\n      <td>...</td>\n      <td>...</td>\n      <td>...</td>\n      <td>...</td>\n      <td>...</td>\n      <td>...</td>\n      <td>...</td>\n      <td>...</td>\n      <td>...</td>\n      <td>...</td>\n      <td>...</td>\n      <td>...</td>\n      <td>...</td>\n      <td>...</td>\n      <td>...</td>\n      <td>...</td>\n      <td>...</td>\n      <td>...</td>\n    </tr>\n    <tr>\n      <th>30461</th>\n      <td>30466</td>\n      <td>56</td>\n      <td>29.0</td>\n      <td>13.0</td>\n      <td>Severnoe Tushino</td>\n      <td>4116.0</td>\n      <td>5</td>\n      <td>9891.0</td>\n      <td>5</td>\n      <td>0</td>\n      <td>...</td>\n      <td>0.232778</td>\n      <td>1.491458</td>\n      <td>0.648281</td>\n      <td>0.193474</td>\n      <td>0.283044</td>\n      <td>2.040548</td>\n      <td>23.720332</td>\n      <td>12.198090</td>\n      <td>satisfactory</td>\n      <td>12000000</td>\n    </tr>\n    <tr>\n      <th>30462</th>\n      <td>30467</td>\n      <td>56</td>\n      <td>51.0</td>\n      <td>19.0</td>\n      <td>Sviblovo</td>\n      <td>2057.0</td>\n      <td>1</td>\n      <td>3741.0</td>\n      <td>2</td>\n      <td>0</td>\n      <td>...</td>\n      <td>0.187828</td>\n      <td>0.969990</td>\n      <td>0.510751</td>\n      <td>0.566309</td>\n      <td>1.261711</td>\n      <td>0.532268</td>\n      <td>3.672399</td>\n      <td>2.988268</td>\n      <td>poor</td>\n      <td>10262010</td>\n    </tr>\n    <tr>\n      <th>30465</th>\n      <td>30470</td>\n      <td>86</td>\n      <td>59.0</td>\n      <td>3.0</td>\n      <td>Tverskoe</td>\n      <td>1874.0</td>\n      <td>4</td>\n      <td>6772.0</td>\n      <td>4</td>\n      <td>1</td>\n      <td>...</td>\n      <td>0.540003</td>\n      <td>0.069986</td>\n      <td>0.086552</td>\n      <td>0.362681</td>\n      <td>0.850385</td>\n      <td>0.310021</td>\n      <td>0.778428</td>\n      <td>1.450108</td>\n      <td>poor</td>\n      <td>25000000</td>\n    </tr>\n    <tr>\n      <th>30467</th>\n      <td>30472</td>\n      <td>64</td>\n      <td>32.0</td>\n      <td>5.0</td>\n      <td>Obruchevskoe</td>\n      <td>2372.0</td>\n      <td>6</td>\n      <td>6083.0</td>\n      <td>8</td>\n      <td>0</td>\n      <td>...</td>\n      <td>1.108672</td>\n      <td>1.204798</td>\n      <td>1.340017</td>\n      <td>0.130667</td>\n      <td>1.644053</td>\n      <td>0.476021</td>\n      <td>2.088193</td>\n      <td>4.119706</td>\n      <td>satisfactory</td>\n      <td>13500000</td>\n    </tr>\n    <tr>\n      <th>30468</th>\n      <td>30473</td>\n      <td>43</td>\n      <td>28.0</td>\n      <td>1.0</td>\n      <td>Novogireevo</td>\n      <td>2215.0</td>\n      <td>4</td>\n      <td>5824.0</td>\n      <td>4</td>\n      <td>0</td>\n      <td>...</td>\n      <td>0.224601</td>\n      <td>2.108265</td>\n      <td>0.825811</td>\n      <td>0.378950</td>\n      <td>0.480531</td>\n      <td>0.867332</td>\n      <td>0.688707</td>\n      <td>0.127867</td>\n      <td>poor</td>\n      <td>5600000</td>\n    </tr>\n  </tbody>\n</table>\n<p>13652 rows × 56 columns</p>\n</div>"
     },
     "metadata": {},
     "execution_count": 71
    }
   ],
   "source": [
    "data.dropna()"
   ]
  },
  {
   "cell_type": "code",
   "execution_count": 73,
   "metadata": {},
   "outputs": [
    {
     "output_type": "execute_result",
     "data": {
      "text/plain": [
       "array([[0.33333333, 1.        ,        nan],\n",
       "       [1.        ,        nan, 1.        ],\n",
       "       [0.        , 0.        , 0.        ]])"
      ]
     },
     "metadata": {},
     "execution_count": 73
    }
   ],
   "source": [
    "from sklearn.preprocessing import MinMaxScaler\n",
    "scaler = MinMaxScaler()\n",
    "scaler.fit_transform(test_data)"
   ]
  },
  {
   "cell_type": "code",
   "execution_count": 74,
   "metadata": {},
   "outputs": [
    {
     "output_type": "execute_result",
     "data": {
      "text/plain": [
       "array([[-0.26726124,  1.        ,         nan],\n",
       "       [ 1.33630621,         nan,  1.        ],\n",
       "       [-1.06904497, -1.        , -1.        ]])"
      ]
     },
     "metadata": {},
     "execution_count": 74
    }
   ],
   "source": [
    "from sklearn.preprocessing import StandardScaler\n",
    "scaler = StandardScaler()\n",
    "scaler.fit_transform(test_data)"
   ]
  },
  {
   "cell_type": "code",
   "execution_count": 75,
   "metadata": {},
   "outputs": [
    {
     "output_type": "execute_result",
     "data": {
      "text/plain": [
       "   two  three\n",
       "0  2.0    NaN\n",
       "1  NaN    4.0\n",
       "2  1.0    2.0"
      ],
      "text/html": "<div>\n<style scoped>\n    .dataframe tbody tr th:only-of-type {\n        vertical-align: middle;\n    }\n\n    .dataframe tbody tr th {\n        vertical-align: top;\n    }\n\n    .dataframe thead th {\n        text-align: right;\n    }\n</style>\n<table border=\"1\" class=\"dataframe\">\n  <thead>\n    <tr style=\"text-align: right;\">\n      <th></th>\n      <th>two</th>\n      <th>three</th>\n    </tr>\n  </thead>\n  <tbody>\n    <tr>\n      <th>0</th>\n      <td>2.0</td>\n      <td>NaN</td>\n    </tr>\n    <tr>\n      <th>1</th>\n      <td>NaN</td>\n      <td>4.0</td>\n    </tr>\n    <tr>\n      <th>2</th>\n      <td>1.0</td>\n      <td>2.0</td>\n    </tr>\n  </tbody>\n</table>\n</div>"
     },
     "metadata": {},
     "execution_count": 75
    }
   ],
   "source": [
    "test_data.drop('one', axis=1)"
   ]
  },
  {
   "cell_type": "code",
   "execution_count": 95,
   "metadata": {},
   "outputs": [
    {
     "output_type": "execute_result",
     "data": {
      "text/plain": [
       "-13.147334652567258"
      ]
     },
     "metadata": {},
     "execution_count": 95
    }
   ],
   "source": [
    "reshaped = vis_data.balance_due.values.reshape(-1,1)\n",
    "scaler = StandardScaler()\n",
    "scaler.fit_transform(reshaped).min()"
   ]
  },
  {
   "cell_type": "code",
   "execution_count": 103,
   "metadata": {},
   "outputs": [
    {
     "output_type": "execute_result",
     "data": {
      "text/plain": [
       "(0         17.464249\n",
       " 1          8.660254\n",
       " 5         17.464249\n",
       " 6         29.240383\n",
       " 7         11.832160\n",
       "             ...    \n",
       " 250277    24.083189\n",
       " 250278    15.811388\n",
       " 250287    33.615473\n",
       " 250288    24.083189\n",
       " 250293    15.811388\n",
       " Name: balance_due, Length: 137678, dtype: float64,\n",
       " 305.0)"
      ]
     },
     "metadata": {},
     "execution_count": 103
    }
   ],
   "source": [
    "sqrt = np.sqrt(vis_data[vis_data.balance_due > 0].balance_due)\n",
    "sqrt"
   ]
  },
  {
   "cell_type": "code",
   "execution_count": 108,
   "metadata": {},
   "outputs": [
    {
     "output_type": "execute_result",
     "data": {
      "text/plain": [
       "17.46424919657298"
      ]
     },
     "metadata": {},
     "execution_count": 108
    }
   ],
   "source": [
    "med = sqrt.median()\n",
    "med"
   ]
  },
  {
   "cell_type": "code",
   "execution_count": 107,
   "metadata": {},
   "outputs": [
    {
     "output_type": "execute_result",
     "data": {
      "text/plain": [
       "17.011653135663007"
      ]
     },
     "metadata": {},
     "execution_count": 107
    }
   ],
   "source": [
    "men = sqrt.mean()\n",
    "men"
   ]
  },
  {
   "cell_type": "code",
   "execution_count": 110,
   "metadata": {},
   "outputs": [
    {
     "output_type": "execute_result",
     "data": {
      "text/plain": [
       "0.45259606090997195"
      ]
     },
     "metadata": {},
     "execution_count": 110
    }
   ],
   "source": [
    "np.abs(men-med)"
   ]
  },
  {
   "cell_type": "code",
   "execution_count": 112,
   "metadata": {},
   "outputs": [
    {
     "output_type": "execute_result",
     "data": {
      "text/plain": [
       "                                  address        lat        lon\n",
       "0  4300 rosa parks blvd, Detroit MI 48208  42.346169 -83.079962\n",
       "1                14512 sussex, Detroit MI  42.394657 -83.194265\n",
       "2                3456 garland, Detroit MI  42.373779 -82.986228\n",
       "3                5787 wayburn, Detroit MI  42.403342 -82.957805\n",
       "4              5766 haverhill, Detroit MI  42.407255 -82.946295"
      ],
      "text/html": "<div>\n<style scoped>\n    .dataframe tbody tr th:only-of-type {\n        vertical-align: middle;\n    }\n\n    .dataframe tbody tr th {\n        vertical-align: top;\n    }\n\n    .dataframe thead th {\n        text-align: right;\n    }\n</style>\n<table border=\"1\" class=\"dataframe\">\n  <thead>\n    <tr style=\"text-align: right;\">\n      <th></th>\n      <th>address</th>\n      <th>lat</th>\n      <th>lon</th>\n    </tr>\n  </thead>\n  <tbody>\n    <tr>\n      <th>0</th>\n      <td>4300 rosa parks blvd, Detroit MI 48208</td>\n      <td>42.346169</td>\n      <td>-83.079962</td>\n    </tr>\n    <tr>\n      <th>1</th>\n      <td>14512 sussex, Detroit MI</td>\n      <td>42.394657</td>\n      <td>-83.194265</td>\n    </tr>\n    <tr>\n      <th>2</th>\n      <td>3456 garland, Detroit MI</td>\n      <td>42.373779</td>\n      <td>-82.986228</td>\n    </tr>\n    <tr>\n      <th>3</th>\n      <td>5787 wayburn, Detroit MI</td>\n      <td>42.403342</td>\n      <td>-82.957805</td>\n    </tr>\n    <tr>\n      <th>4</th>\n      <td>5766 haverhill, Detroit MI</td>\n      <td>42.407255</td>\n      <td>-82.946295</td>\n    </tr>\n  </tbody>\n</table>\n</div>"
     },
     "metadata": {},
     "execution_count": 112
    }
   ],
   "source": [
    "latlon = pd.read_csv('latlons.csv',sep=\",\")\n",
    "latlon.head()"
   ]
  },
  {
   "cell_type": "code",
   "execution_count": 123,
   "metadata": {},
   "outputs": [
    {
     "output_type": "execute_result",
     "data": {
      "text/plain": [
       "Poselenie Sosenskoe               1776\n",
       "Nekrasovka                        1611\n",
       "Poselenie Vnukovskoe              1372\n",
       "Poselenie Moskovskij               925\n",
       "Poselenie Voskresenskoe            713\n",
       "                                  ... \n",
       "Molzhaninovskoe                      3\n",
       "Poselenie Shhapovskoe                2\n",
       "Poselenie Kievskij                   2\n",
       "Poselenie Mihajlovo-Jarcevskoe       1\n",
       "Poselenie Klenovskoe                 1\n",
       "Name: sub_area, Length: 146, dtype: int64"
      ]
     },
     "metadata": {},
     "execution_count": 123
    }
   ],
   "source": [
    "# data.info()\n",
    "data[['sub_area','price_doc']].sub_area.value_counts()"
   ]
  },
  {
   "cell_type": "code",
   "execution_count": 134,
   "metadata": {},
   "outputs": [
    {
     "output_type": "execute_result",
     "data": {
      "text/plain": [
       "          id  full_sq  life_sq  floor     sub_area  preschool_quota  \\\n",
       "4          5       77     77.0    4.0    Basmannoe           3240.0   \n",
       "14        15       31     21.0    3.0    Lefortovo           1768.0   \n",
       "28        29       73     38.0   15.0  Bogorodskoe           3107.0   \n",
       "56        57       56     39.0    4.0  Bogorodskoe           3107.0   \n",
       "83        84       66     42.0    7.0    Basmannoe           3240.0   \n",
       "...      ...      ...      ...    ...          ...              ...   \n",
       "30254  30259       45     28.0   11.0       Perovo           2232.0   \n",
       "30331  30336       38     19.0    6.0    Lefortovo           1768.0   \n",
       "30401  30406       61     34.0    9.0    Lefortovo           1768.0   \n",
       "30438  30443       99     47.0    4.0    Basmannoe           3240.0   \n",
       "30452  30457       40     26.0    3.0  Bogorodskoe           3107.0   \n",
       "\n",
       "       preschool_education_centers_raion  school_quota  \\\n",
       "4                                      7        7770.0   \n",
       "14                                     4        4564.0   \n",
       "28                                     7        7277.0   \n",
       "56                                     7        7277.0   \n",
       "83                                     7        7770.0   \n",
       "...                                  ...           ...   \n",
       "30254                                  7        7966.0   \n",
       "30331                                  4        4564.0   \n",
       "30401                                  4        4564.0   \n",
       "30438                                  7        7770.0   \n",
       "30452                                  7        7277.0   \n",
       "\n",
       "       school_education_centers_raion  school_education_centers_top_20_raion  \\\n",
       "4                                   9                                      0   \n",
       "14                                  4                                      0   \n",
       "28                                  9                                      0   \n",
       "56                                  9                                      0   \n",
       "83                                  9                                      0   \n",
       "...                               ...                                    ...   \n",
       "30254                               7                                      0   \n",
       "30331                               4                                      0   \n",
       "30401                               4                                      0   \n",
       "30438                               9                                      0   \n",
       "30452                               9                                      0   \n",
       "\n",
       "       ...  shopping_centers_km  office_km  additional_education_km  \\\n",
       "4      ...             0.429052   0.077901                 0.810801   \n",
       "14     ...             0.600306   0.317270                 1.028406   \n",
       "28     ...             1.058810   1.058810                 0.260442   \n",
       "56     ...             0.378096   0.512312                 0.653392   \n",
       "83     ...             0.555870   0.360334                 1.040341   \n",
       "...    ...                  ...        ...                      ...   \n",
       "30254  ...             0.803504   1.934090                 1.255926   \n",
       "30331  ...             0.505760   0.137365                 1.575609   \n",
       "30401  ...             0.721847   0.424573                 0.543295   \n",
       "30438  ...             0.638671   0.096033                 1.288612   \n",
       "30452  ...             1.092723   1.286114                 0.733354   \n",
       "\n",
       "       preschool_km  big_church_km  church_synagogue_km  theater_km  \\\n",
       "4          0.376838       0.378756             0.121681    1.112486   \n",
       "14         0.797255       1.510980             0.751314    2.883608   \n",
       "28         0.307315       1.153278             0.438261    4.161080   \n",
       "56         0.233796       1.715970             0.967472    5.197710   \n",
       "83         1.175502       0.835839             0.640938    1.869625   \n",
       "...             ...            ...                  ...         ...   \n",
       "30254      0.432873       0.445659             0.717433    2.114681   \n",
       "30331      0.885490       0.534745             0.688450    2.350280   \n",
       "30401      0.878811       0.189361             0.190215    2.179935   \n",
       "30438      0.304934       0.180359             0.125858    0.936224   \n",
       "30452      0.152964       1.442666             1.440081    4.675517   \n",
       "\n",
       "       museum_km    ecology  price_doc  \n",
       "4       1.800125  excellent   16331452  \n",
       "14      1.895468       poor    5000000  \n",
       "28      4.513773       poor    8254400  \n",
       "56      5.253872       poor    2000000  \n",
       "83      0.700781       poor     990000  \n",
       "...          ...        ...        ...  \n",
       "30254   0.983895       poor    6900000  \n",
       "30331   2.040573  excellent    6800000  \n",
       "30401   0.685291       poor    2000000  \n",
       "30438   1.324667  excellent   10000000  \n",
       "30452   5.438659       poor    6300000  \n",
       "\n",
       "[769 rows x 56 columns]"
      ],
      "text/html": "<div>\n<style scoped>\n    .dataframe tbody tr th:only-of-type {\n        vertical-align: middle;\n    }\n\n    .dataframe tbody tr th {\n        vertical-align: top;\n    }\n\n    .dataframe thead th {\n        text-align: right;\n    }\n</style>\n<table border=\"1\" class=\"dataframe\">\n  <thead>\n    <tr style=\"text-align: right;\">\n      <th></th>\n      <th>id</th>\n      <th>full_sq</th>\n      <th>life_sq</th>\n      <th>floor</th>\n      <th>sub_area</th>\n      <th>preschool_quota</th>\n      <th>preschool_education_centers_raion</th>\n      <th>school_quota</th>\n      <th>school_education_centers_raion</th>\n      <th>school_education_centers_top_20_raion</th>\n      <th>...</th>\n      <th>shopping_centers_km</th>\n      <th>office_km</th>\n      <th>additional_education_km</th>\n      <th>preschool_km</th>\n      <th>big_church_km</th>\n      <th>church_synagogue_km</th>\n      <th>theater_km</th>\n      <th>museum_km</th>\n      <th>ecology</th>\n      <th>price_doc</th>\n    </tr>\n  </thead>\n  <tbody>\n    <tr>\n      <th>4</th>\n      <td>5</td>\n      <td>77</td>\n      <td>77.0</td>\n      <td>4.0</td>\n      <td>Basmannoe</td>\n      <td>3240.0</td>\n      <td>7</td>\n      <td>7770.0</td>\n      <td>9</td>\n      <td>0</td>\n      <td>...</td>\n      <td>0.429052</td>\n      <td>0.077901</td>\n      <td>0.810801</td>\n      <td>0.376838</td>\n      <td>0.378756</td>\n      <td>0.121681</td>\n      <td>1.112486</td>\n      <td>1.800125</td>\n      <td>excellent</td>\n      <td>16331452</td>\n    </tr>\n    <tr>\n      <th>14</th>\n      <td>15</td>\n      <td>31</td>\n      <td>21.0</td>\n      <td>3.0</td>\n      <td>Lefortovo</td>\n      <td>1768.0</td>\n      <td>4</td>\n      <td>4564.0</td>\n      <td>4</td>\n      <td>0</td>\n      <td>...</td>\n      <td>0.600306</td>\n      <td>0.317270</td>\n      <td>1.028406</td>\n      <td>0.797255</td>\n      <td>1.510980</td>\n      <td>0.751314</td>\n      <td>2.883608</td>\n      <td>1.895468</td>\n      <td>poor</td>\n      <td>5000000</td>\n    </tr>\n    <tr>\n      <th>28</th>\n      <td>29</td>\n      <td>73</td>\n      <td>38.0</td>\n      <td>15.0</td>\n      <td>Bogorodskoe</td>\n      <td>3107.0</td>\n      <td>7</td>\n      <td>7277.0</td>\n      <td>9</td>\n      <td>0</td>\n      <td>...</td>\n      <td>1.058810</td>\n      <td>1.058810</td>\n      <td>0.260442</td>\n      <td>0.307315</td>\n      <td>1.153278</td>\n      <td>0.438261</td>\n      <td>4.161080</td>\n      <td>4.513773</td>\n      <td>poor</td>\n      <td>8254400</td>\n    </tr>\n    <tr>\n      <th>56</th>\n      <td>57</td>\n      <td>56</td>\n      <td>39.0</td>\n      <td>4.0</td>\n      <td>Bogorodskoe</td>\n      <td>3107.0</td>\n      <td>7</td>\n      <td>7277.0</td>\n      <td>9</td>\n      <td>0</td>\n      <td>...</td>\n      <td>0.378096</td>\n      <td>0.512312</td>\n      <td>0.653392</td>\n      <td>0.233796</td>\n      <td>1.715970</td>\n      <td>0.967472</td>\n      <td>5.197710</td>\n      <td>5.253872</td>\n      <td>poor</td>\n      <td>2000000</td>\n    </tr>\n    <tr>\n      <th>83</th>\n      <td>84</td>\n      <td>66</td>\n      <td>42.0</td>\n      <td>7.0</td>\n      <td>Basmannoe</td>\n      <td>3240.0</td>\n      <td>7</td>\n      <td>7770.0</td>\n      <td>9</td>\n      <td>0</td>\n      <td>...</td>\n      <td>0.555870</td>\n      <td>0.360334</td>\n      <td>1.040341</td>\n      <td>1.175502</td>\n      <td>0.835839</td>\n      <td>0.640938</td>\n      <td>1.869625</td>\n      <td>0.700781</td>\n      <td>poor</td>\n      <td>990000</td>\n    </tr>\n    <tr>\n      <th>...</th>\n      <td>...</td>\n      <td>...</td>\n      <td>...</td>\n      <td>...</td>\n      <td>...</td>\n      <td>...</td>\n      <td>...</td>\n      <td>...</td>\n      <td>...</td>\n      <td>...</td>\n      <td>...</td>\n      <td>...</td>\n      <td>...</td>\n      <td>...</td>\n      <td>...</td>\n      <td>...</td>\n      <td>...</td>\n      <td>...</td>\n      <td>...</td>\n      <td>...</td>\n      <td>...</td>\n    </tr>\n    <tr>\n      <th>30254</th>\n      <td>30259</td>\n      <td>45</td>\n      <td>28.0</td>\n      <td>11.0</td>\n      <td>Perovo</td>\n      <td>2232.0</td>\n      <td>7</td>\n      <td>7966.0</td>\n      <td>7</td>\n      <td>0</td>\n      <td>...</td>\n      <td>0.803504</td>\n      <td>1.934090</td>\n      <td>1.255926</td>\n      <td>0.432873</td>\n      <td>0.445659</td>\n      <td>0.717433</td>\n      <td>2.114681</td>\n      <td>0.983895</td>\n      <td>poor</td>\n      <td>6900000</td>\n    </tr>\n    <tr>\n      <th>30331</th>\n      <td>30336</td>\n      <td>38</td>\n      <td>19.0</td>\n      <td>6.0</td>\n      <td>Lefortovo</td>\n      <td>1768.0</td>\n      <td>4</td>\n      <td>4564.0</td>\n      <td>4</td>\n      <td>0</td>\n      <td>...</td>\n      <td>0.505760</td>\n      <td>0.137365</td>\n      <td>1.575609</td>\n      <td>0.885490</td>\n      <td>0.534745</td>\n      <td>0.688450</td>\n      <td>2.350280</td>\n      <td>2.040573</td>\n      <td>excellent</td>\n      <td>6800000</td>\n    </tr>\n    <tr>\n      <th>30401</th>\n      <td>30406</td>\n      <td>61</td>\n      <td>34.0</td>\n      <td>9.0</td>\n      <td>Lefortovo</td>\n      <td>1768.0</td>\n      <td>4</td>\n      <td>4564.0</td>\n      <td>4</td>\n      <td>0</td>\n      <td>...</td>\n      <td>0.721847</td>\n      <td>0.424573</td>\n      <td>0.543295</td>\n      <td>0.878811</td>\n      <td>0.189361</td>\n      <td>0.190215</td>\n      <td>2.179935</td>\n      <td>0.685291</td>\n      <td>poor</td>\n      <td>2000000</td>\n    </tr>\n    <tr>\n      <th>30438</th>\n      <td>30443</td>\n      <td>99</td>\n      <td>47.0</td>\n      <td>4.0</td>\n      <td>Basmannoe</td>\n      <td>3240.0</td>\n      <td>7</td>\n      <td>7770.0</td>\n      <td>9</td>\n      <td>0</td>\n      <td>...</td>\n      <td>0.638671</td>\n      <td>0.096033</td>\n      <td>1.288612</td>\n      <td>0.304934</td>\n      <td>0.180359</td>\n      <td>0.125858</td>\n      <td>0.936224</td>\n      <td>1.324667</td>\n      <td>excellent</td>\n      <td>10000000</td>\n    </tr>\n    <tr>\n      <th>30452</th>\n      <td>30457</td>\n      <td>40</td>\n      <td>26.0</td>\n      <td>3.0</td>\n      <td>Bogorodskoe</td>\n      <td>3107.0</td>\n      <td>7</td>\n      <td>7277.0</td>\n      <td>9</td>\n      <td>0</td>\n      <td>...</td>\n      <td>1.092723</td>\n      <td>1.286114</td>\n      <td>0.733354</td>\n      <td>0.152964</td>\n      <td>1.442666</td>\n      <td>1.440081</td>\n      <td>4.675517</td>\n      <td>5.438659</td>\n      <td>poor</td>\n      <td>6300000</td>\n    </tr>\n  </tbody>\n</table>\n<p>769 rows × 56 columns</p>\n</div>"
     },
     "metadata": {},
     "execution_count": 134
    }
   ],
   "source": [
    "import seaborn as sns\n",
    "areas = ['Lefortovo','Basmannoe','Perovo','Bogorodskoe']\n",
    "filtered = data[data.sub_area.isin(areas)]\n",
    "sns.boxplot(x='sub_area', y='price_doc', data=filtered)"
   ]
  },
  {
   "cell_type": "code",
   "execution_count": 13,
   "metadata": {},
   "outputs": [
    {
     "output_type": "execute_result",
     "data": {
      "text/plain": [
       "   ticket_id                                     agency_name  \\\n",
       "0      22056  Buildings, Safety Engineering & Env Department   \n",
       "1      27586  Buildings, Safety Engineering & Env Department   \n",
       "2      22062  Buildings, Safety Engineering & Env Department   \n",
       "3      22084  Buildings, Safety Engineering & Env Department   \n",
       "4      22093  Buildings, Safety Engineering & Env Department   \n",
       "\n",
       "     inspector_name                      violator_name  \\\n",
       "0   Sims, Martinzie  INVESTMENT INC., MIDWEST MORTGAGE   \n",
       "1  Williams, Darrin           Michigan, Covenant House   \n",
       "2   Sims, Martinzie                    SANDERS, DERRON   \n",
       "3   Sims, Martinzie                       MOROSI, MIKE   \n",
       "4   Sims, Martinzie                    NATHANIEL, NEAL   \n",
       "\n",
       "   violation_street_number violation_street_name  mailing_address_str_number  \\\n",
       "0                   2900.0                 TYLER                         3.0   \n",
       "1                   4311.0               CENTRAL                      2959.0   \n",
       "2                   1449.0            LONGFELLOW                     23658.0   \n",
       "3                   1441.0            LONGFELLOW                         5.0   \n",
       "4                   2449.0             CHURCHILL                      7449.0   \n",
       "\n",
       "  mailing_address_str_name     city state  ... balance_due  \\\n",
       "0                S. WICKER  CHICAGO    IL  ...       305.0   \n",
       "1       Martin Luther King  Detroit    MI  ...        75.0   \n",
       "2                 P.O. BOX  DETROIT    MI  ...         0.0   \n",
       "3                ST. CLAIR  DETROIT    MI  ...         0.0   \n",
       "4                CHURCHILL  DETROIT    MI  ...         0.0   \n",
       "\n",
       "          payment_date      payment_status collection_status grafitti_status  \\\n",
       "0                  NaN  NO PAYMENT APPLIED               NaN             NaN   \n",
       "1  2005-06-02 00:00:00        PAID IN FULL               NaN             NaN   \n",
       "2                  NaN  NO PAYMENT APPLIED               NaN             NaN   \n",
       "3                  NaN  NO PAYMENT APPLIED               NaN             NaN   \n",
       "4                  NaN  NO PAYMENT APPLIED               NaN             NaN   \n",
       "\n",
       "                          compliance_detail compliance  \\\n",
       "0               non-compliant by no payment        0.0   \n",
       "1  compliant by late payment within 1 month        1.0   \n",
       "2            not responsible by disposition        NaN   \n",
       "3            not responsible by disposition        NaN   \n",
       "4            not responsible by disposition        NaN   \n",
       "\n",
       "                                  address        lat        lon  \n",
       "0  4300 rosa parks blvd, Detroit MI 48208  42.346169 -83.079962  \n",
       "1                14512 sussex, Detroit MI  42.394657 -83.194265  \n",
       "2                3456 garland, Detroit MI  42.373779 -82.986228  \n",
       "3                5787 wayburn, Detroit MI  42.403342 -82.957805  \n",
       "4              5766 haverhill, Detroit MI  42.407255 -82.946295  \n",
       "\n",
       "[5 rows x 35 columns]"
      ],
      "text/html": "<div>\n<style scoped>\n    .dataframe tbody tr th:only-of-type {\n        vertical-align: middle;\n    }\n\n    .dataframe tbody tr th {\n        vertical-align: top;\n    }\n\n    .dataframe thead th {\n        text-align: right;\n    }\n</style>\n<table border=\"1\" class=\"dataframe\">\n  <thead>\n    <tr style=\"text-align: right;\">\n      <th></th>\n      <th>ticket_id</th>\n      <th>agency_name</th>\n      <th>inspector_name</th>\n      <th>violator_name</th>\n      <th>violation_street_number</th>\n      <th>violation_street_name</th>\n      <th>mailing_address_str_number</th>\n      <th>mailing_address_str_name</th>\n      <th>city</th>\n      <th>state</th>\n      <th>...</th>\n      <th>balance_due</th>\n      <th>payment_date</th>\n      <th>payment_status</th>\n      <th>collection_status</th>\n      <th>grafitti_status</th>\n      <th>compliance_detail</th>\n      <th>compliance</th>\n      <th>address</th>\n      <th>lat</th>\n      <th>lon</th>\n    </tr>\n  </thead>\n  <tbody>\n    <tr>\n      <th>0</th>\n      <td>22056</td>\n      <td>Buildings, Safety Engineering &amp; Env Department</td>\n      <td>Sims, Martinzie</td>\n      <td>INVESTMENT INC., MIDWEST MORTGAGE</td>\n      <td>2900.0</td>\n      <td>TYLER</td>\n      <td>3.0</td>\n      <td>S. WICKER</td>\n      <td>CHICAGO</td>\n      <td>IL</td>\n      <td>...</td>\n      <td>305.0</td>\n      <td>NaN</td>\n      <td>NO PAYMENT APPLIED</td>\n      <td>NaN</td>\n      <td>NaN</td>\n      <td>non-compliant by no payment</td>\n      <td>0.0</td>\n      <td>4300 rosa parks blvd, Detroit MI 48208</td>\n      <td>42.346169</td>\n      <td>-83.079962</td>\n    </tr>\n    <tr>\n      <th>1</th>\n      <td>27586</td>\n      <td>Buildings, Safety Engineering &amp; Env Department</td>\n      <td>Williams, Darrin</td>\n      <td>Michigan, Covenant House</td>\n      <td>4311.0</td>\n      <td>CENTRAL</td>\n      <td>2959.0</td>\n      <td>Martin Luther King</td>\n      <td>Detroit</td>\n      <td>MI</td>\n      <td>...</td>\n      <td>75.0</td>\n      <td>2005-06-02 00:00:00</td>\n      <td>PAID IN FULL</td>\n      <td>NaN</td>\n      <td>NaN</td>\n      <td>compliant by late payment within 1 month</td>\n      <td>1.0</td>\n      <td>14512 sussex, Detroit MI</td>\n      <td>42.394657</td>\n      <td>-83.194265</td>\n    </tr>\n    <tr>\n      <th>2</th>\n      <td>22062</td>\n      <td>Buildings, Safety Engineering &amp; Env Department</td>\n      <td>Sims, Martinzie</td>\n      <td>SANDERS, DERRON</td>\n      <td>1449.0</td>\n      <td>LONGFELLOW</td>\n      <td>23658.0</td>\n      <td>P.O. BOX</td>\n      <td>DETROIT</td>\n      <td>MI</td>\n      <td>...</td>\n      <td>0.0</td>\n      <td>NaN</td>\n      <td>NO PAYMENT APPLIED</td>\n      <td>NaN</td>\n      <td>NaN</td>\n      <td>not responsible by disposition</td>\n      <td>NaN</td>\n      <td>3456 garland, Detroit MI</td>\n      <td>42.373779</td>\n      <td>-82.986228</td>\n    </tr>\n    <tr>\n      <th>3</th>\n      <td>22084</td>\n      <td>Buildings, Safety Engineering &amp; Env Department</td>\n      <td>Sims, Martinzie</td>\n      <td>MOROSI, MIKE</td>\n      <td>1441.0</td>\n      <td>LONGFELLOW</td>\n      <td>5.0</td>\n      <td>ST. CLAIR</td>\n      <td>DETROIT</td>\n      <td>MI</td>\n      <td>...</td>\n      <td>0.0</td>\n      <td>NaN</td>\n      <td>NO PAYMENT APPLIED</td>\n      <td>NaN</td>\n      <td>NaN</td>\n      <td>not responsible by disposition</td>\n      <td>NaN</td>\n      <td>5787 wayburn, Detroit MI</td>\n      <td>42.403342</td>\n      <td>-82.957805</td>\n    </tr>\n    <tr>\n      <th>4</th>\n      <td>22093</td>\n      <td>Buildings, Safety Engineering &amp; Env Department</td>\n      <td>Sims, Martinzie</td>\n      <td>NATHANIEL, NEAL</td>\n      <td>2449.0</td>\n      <td>CHURCHILL</td>\n      <td>7449.0</td>\n      <td>CHURCHILL</td>\n      <td>DETROIT</td>\n      <td>MI</td>\n      <td>...</td>\n      <td>0.0</td>\n      <td>NaN</td>\n      <td>NO PAYMENT APPLIED</td>\n      <td>NaN</td>\n      <td>NaN</td>\n      <td>not responsible by disposition</td>\n      <td>NaN</td>\n      <td>5766 haverhill, Detroit MI</td>\n      <td>42.407255</td>\n      <td>-82.946295</td>\n    </tr>\n  </tbody>\n</table>\n<p>5 rows × 35 columns</p>\n</div>"
     },
     "metadata": {},
     "execution_count": 13
    }
   ],
   "source": [
    "import numpy as np\n",
    "import pandas as pd\n",
    "%matplotlib inline\n",
    "\n",
    "vis_data = pd.read_csv(\"./train.csv\", \n",
    "                       encoding = 'ISO-8859-1', \n",
    "                       low_memory = False)\n",
    "vis_data = vis_data.drop(['violation_zip_code', 'clean_up_cost'], axis=1)\n",
    "latlons = pd.read_csv(\"./latlons.csv\")\n",
    "vis_data = pd.concat([vis_data, latlons], axis=1)\n",
    "vis_data.head()"
   ]
  },
  {
   "cell_type": "code",
   "execution_count": 14,
   "metadata": {},
   "outputs": [
    {
     "output_type": "execute_result",
     "data": {
      "text/plain": [
       "(250306, 6)"
      ]
     },
     "metadata": {},
     "execution_count": 14
    }
   ],
   "source": [
    "from sklearn.preprocessing import PolynomialFeatures\n",
    "\n",
    "pf = PolynomialFeatures(2)\n",
    "poly_features = pf.fit_transform(vis_data[['balance_due', 'payment_amount']])\n",
    "poly_features\n",
    "poly_features.shape"
   ]
  },
  {
   "cell_type": "code",
   "execution_count": 15,
   "metadata": {},
   "outputs": [
    {
     "output_type": "execute_result",
     "data": {
      "text/plain": [
       "(250306, 59)"
      ]
     },
     "metadata": {},
     "execution_count": 15
    }
   ],
   "source": [
    "pd.get_dummies(vis_data.state).shape"
   ]
  },
  {
   "cell_type": "code",
   "execution_count": 16,
   "metadata": {},
   "outputs": [
    {
     "output_type": "execute_result",
     "data": {
      "text/plain": [
       "1    2005-06-02\n",
       "11   2005-03-17\n",
       "15   2005-02-11\n",
       "18   2005-03-18\n",
       "19   2005-03-18\n",
       "Name: payment_date, dtype: datetime64[ns]"
      ]
     },
     "metadata": {},
     "execution_count": 16
    }
   ],
   "source": [
    "datetime_vals = pd.to_datetime(vis_data.payment_date.dropna())\n",
    "datetime_vals.head()"
   ]
  },
  {
   "cell_type": "code",
   "execution_count": 17,
   "metadata": {},
   "outputs": [
    {
     "output_type": "execute_result",
     "data": {
      "text/plain": [
       "6"
      ]
     },
     "metadata": {},
     "execution_count": 17
    }
   ],
   "source": [
    "datetime_vals[1].month"
   ]
  },
  {
   "cell_type": "code",
   "execution_count": 21,
   "metadata": {},
   "outputs": [
    {
     "output_type": "execute_result",
     "data": {
      "text/plain": [
       "0           0.0\n",
       "1         780.0\n",
       "2           0.0\n",
       "3           0.0\n",
       "4           0.0\n",
       "          ...  \n",
       "250301      0.0\n",
       "250302      0.0\n",
       "250303      0.0\n",
       "250304      0.0\n",
       "250305      0.0\n",
       "Name: payment_amount, Length: 250306, dtype: float64"
      ]
     },
     "metadata": {},
     "execution_count": 21
    }
   ],
   "source": [
    "vis_data.payment_amount"
   ]
  },
  {
   "cell_type": "code",
   "execution_count": 18,
   "metadata": {},
   "outputs": [
    {
     "output_type": "execute_result",
     "data": {
      "text/plain": [
       "6"
      ]
     },
     "metadata": {},
     "execution_count": 18
    }
   ],
   "source": [
    "from sklearn.preprocessing import PolynomialFeatures\n",
    "# pf = PolynomialFeatures(3, include_bias=False)\n",
    "# poly_features = pf.fit_transform(vis_data[['balance_due', 'payment_amount']])\n",
    "# feature_names = pf.get_feature_names(['balance_due', 'payment_amount'])\n",
    "# means = [np.mean(x) for x in poly_features]\n",
    "# means\n",
    "# poly_features.argmax()\n",
    "\n",
    "pf = PolynomialFeatures(3)\n",
    "poly_features = pf.fit_transform(vis_data[['balance_due', 'payment_amount']])\n",
    "poly_features.mean(axis=0).argmax()"
   ]
  },
  {
   "cell_type": "code",
   "execution_count": 73,
   "metadata": {},
   "outputs": [
    {
     "output_type": "stream",
     "name": "stdout",
     "text": [
      "1620\n"
     ]
    }
   ],
   "source": [
    "date = pd.to_datetime(vis_data.ticket_issued_date.dropna())\n",
    "k = 0\n",
    "for i in range(0,len(date)):\n",
    "    if date[i].weekday() > 4:\n",
    "        k +=1\n",
    "print(k)"
   ]
  },
  {
   "cell_type": "code",
   "execution_count": 80,
   "metadata": {},
   "outputs": [
    {
     "output_type": "execute_result",
     "data": {
      "text/plain": [
       "0        3\n",
       "1        4\n",
       "2        1\n",
       "3        3\n",
       "4        4\n",
       "        ..\n",
       "30464    3\n",
       "30465    1\n",
       "30466    0\n",
       "30467    2\n",
       "30468    1\n",
       "Name: ecology, Length: 30469, dtype: int64"
      ]
     },
     "metadata": {},
     "execution_count": 80
    }
   ],
   "source": [
    "ecology_dict = {'no data':0, 'poor':1, 'satisfactory':2, 'good':3, 'excellent':4}\n",
    "data.ecology = data.ecology.replace(to_replace=ecology_dict)\n",
    "data.ecology"
   ]
  },
  {
   "cell_type": "code",
   "execution_count": 81,
   "metadata": {},
   "outputs": [
    {
     "output_type": "stream",
     "name": "stdout",
     "text": [
      "<class 'pandas.core.frame.DataFrame'>\nRangeIndex: 30469 entries, 0 to 30468\nData columns (total 56 columns):\n #   Column                                 Non-Null Count  Dtype  \n---  ------                                 --------------  -----  \n 0   id                                     30469 non-null  int64  \n 1   full_sq                                30469 non-null  int64  \n 2   life_sq                                24086 non-null  float64\n 3   floor                                  30302 non-null  float64\n 4   sub_area                               30469 non-null  object \n 5   preschool_quota                        23781 non-null  float64\n 6   preschool_education_centers_raion      30469 non-null  int64  \n 7   school_quota                           23784 non-null  float64\n 8   school_education_centers_raion         30469 non-null  int64  \n 9   school_education_centers_top_20_raion  30469 non-null  int64  \n 10  hospital_beds_raion                    16029 non-null  float64\n 11  healthcare_centers_raion               30469 non-null  int64  \n 12  university_top_20_raion                30469 non-null  int64  \n 13  sport_objects_raion                    30469 non-null  int64  \n 14  additional_education_raion             30469 non-null  int64  \n 15  culture_objects_top_25_raion           30469 non-null  int64  \n 16  shopping_centers_raion                 30469 non-null  int64  \n 17  office_raion                           30469 non-null  int64  \n 18  metro_min_avto                         30469 non-null  float64\n 19  metro_km_avto                          30469 non-null  float64\n 20  metro_min_walk                         30444 non-null  float64\n 21  metro_km_walk                          30444 non-null  float64\n 22  kindergarten_km                        30469 non-null  float64\n 23  school_km                              30469 non-null  float64\n 24  park_km                                30469 non-null  float64\n 25  green_zone_km                          30469 non-null  float64\n 26  industrial_km                          30469 non-null  float64\n 27  railroad_station_walk_km               30444 non-null  float64\n 28  railroad_station_walk_min              30444 non-null  float64\n 29  public_transport_station_km            30469 non-null  float64\n 30  public_transport_station_min_walk      30469 non-null  float64\n 31  mkad_km                                30469 non-null  float64\n 32  ttk_km                                 30469 non-null  float64\n 33  sadovoe_km                             30469 non-null  float64\n 34  bulvar_ring_km                         30469 non-null  float64\n 35  kremlin_km                             30469 non-null  float64\n 36  big_market_km                          30469 non-null  float64\n 37  market_shop_km                         30469 non-null  float64\n 38  fitness_km                             30469 non-null  float64\n 39  swim_pool_km                           30469 non-null  float64\n 40  ice_rink_km                            30469 non-null  float64\n 41  stadium_km                             30469 non-null  float64\n 42  basketball_km                          30469 non-null  float64\n 43  hospice_morgue_km                      30469 non-null  float64\n 44  university_km                          30469 non-null  float64\n 45  workplaces_km                          30469 non-null  float64\n 46  shopping_centers_km                    30469 non-null  float64\n 47  office_km                              30469 non-null  float64\n 48  additional_education_km                30469 non-null  float64\n 49  preschool_km                           30469 non-null  float64\n 50  big_church_km                          30469 non-null  float64\n 51  church_synagogue_km                    30469 non-null  float64\n 52  theater_km                             30469 non-null  float64\n 53  museum_km                              30469 non-null  float64\n 54  ecology                                30469 non-null  int64  \n 55  price_doc                              30469 non-null  int64  \ndtypes: float64(41), int64(14), object(1)\nmemory usage: 13.0+ MB\n"
     ]
    }
   ],
   "source": [
    "data.info()"
   ]
  },
  {
   "cell_type": "code",
   "execution_count": 89,
   "metadata": {},
   "outputs": [
    {
     "output_type": "execute_result",
     "data": {
      "text/plain": [
       "(30469, 201)"
      ]
     },
     "metadata": {},
     "execution_count": 89
    }
   ],
   "source": [
    "pd.get_dummies(data).shape"
   ]
  },
  {
   "cell_type": "code",
   "execution_count": 84,
   "metadata": {},
   "outputs": [
    {
     "output_type": "execute_result",
     "data": {
      "text/plain": [
       "1.7282483836030063"
      ]
     },
     "metadata": {},
     "execution_count": 84
    }
   ],
   "source": [
    "data.ecology.mean()"
   ]
  },
  {
   "cell_type": "code",
   "execution_count": 87,
   "metadata": {},
   "outputs": [
    {
     "output_type": "execute_result",
     "data": {
      "text/plain": [
       "          id  full_sq  life_sq  floor              sub_area  preschool_quota  \\\n",
       "0          1       43     27.0    4.0              Bibirevo           5001.0   \n",
       "1          2       34     19.0    3.0     Nagatinskij Zaton           3119.0   \n",
       "2          3       43     29.0    2.0        Tekstil'shhiki           1463.0   \n",
       "3          4       89     50.0    9.0                Mitino           6839.0   \n",
       "4          5       77     77.0    4.0             Basmannoe           3240.0   \n",
       "...      ...      ...      ...    ...                   ...              ...   \n",
       "30464  30469       44     27.0    7.0              Otradnoe           5088.0   \n",
       "30465  30470       86     59.0    3.0              Tverskoe           1874.0   \n",
       "30466  30471       45      NaN   10.0  Poselenie Vnukovskoe              NaN   \n",
       "30467  30472       64     32.0    5.0          Obruchevskoe           2372.0   \n",
       "30468  30473       43     28.0    1.0           Novogireevo           2215.0   \n",
       "\n",
       "       preschool_education_centers_raion  school_quota  \\\n",
       "0                                      5       11065.0   \n",
       "1                                      5        6237.0   \n",
       "2                                      4        5580.0   \n",
       "3                                      9       17063.0   \n",
       "4                                      7        7770.0   \n",
       "...                                  ...           ...   \n",
       "30464                                  4       12721.0   \n",
       "30465                                  4        6772.0   \n",
       "30466                                  0           NaN   \n",
       "30467                                  6        6083.0   \n",
       "30468                                  4        5824.0   \n",
       "\n",
       "       school_education_centers_raion  school_education_centers_top_20_raion  \\\n",
       "0                                   5                                      0   \n",
       "1                                   8                                      0   \n",
       "2                                   7                                      0   \n",
       "3                                  10                                      0   \n",
       "4                                   9                                      0   \n",
       "...                               ...                                    ...   \n",
       "30464                               4                                      0   \n",
       "30465                               4                                      1   \n",
       "30466                               0                                      0   \n",
       "30467                               8                                      0   \n",
       "30468                               4                                      0   \n",
       "\n",
       "       ...  shopping_centers_km  office_km  additional_education_km  \\\n",
       "0      ...             0.648488   0.637189                 0.947962   \n",
       "1      ...             0.519311   0.688796                 1.072315   \n",
       "2      ...             1.486533   1.543049                 0.391957   \n",
       "3      ...             0.599914   0.934273                 0.892674   \n",
       "4      ...             0.429052   0.077901                 0.810801   \n",
       "...    ...                  ...        ...                      ...   \n",
       "30464  ...             0.325885   1.103579                 0.167718   \n",
       "30465  ...             0.540003   0.069986                 0.086552   \n",
       "30466  ...             1.806570   4.338453                 1.339078   \n",
       "30467  ...             1.108672   1.204798                 1.340017   \n",
       "30468  ...             0.224601   2.108265                 0.825811   \n",
       "\n",
       "       preschool_km  big_church_km  church_synagogue_km  theater_km  \\\n",
       "0          0.177975       0.625783             0.628187   14.053047   \n",
       "1          0.273345       0.967821             0.471447    6.829889   \n",
       "2          0.158072       3.178751             0.755946    4.273200   \n",
       "3          0.236455       1.031777             1.561505   16.990677   \n",
       "4          0.376838       0.378756             0.121681    1.112486   \n",
       "...             ...            ...                  ...         ...   \n",
       "30464      0.349899       1.235066             0.612359    7.482165   \n",
       "30465      0.362681       0.850385             0.310021    0.778428   \n",
       "30466      1.234235       1.192543             1.186621   13.459593   \n",
       "30467      0.130667       1.644053             0.476021    2.088193   \n",
       "30468      0.378950       0.480531             0.867332    0.688707   \n",
       "\n",
       "       museum_km  ecology  price_doc  \n",
       "0       7.389498        3    5850000  \n",
       "1       0.709260        4    6000000  \n",
       "2       3.156423        1    5700000  \n",
       "3      16.041521        3   13100000  \n",
       "4       1.800125        4   16331452  \n",
       "...          ...      ...        ...  \n",
       "30464   4.836787        3    7400000  \n",
       "30465   1.450108        1   25000000  \n",
       "30466   9.890758        0    6970959  \n",
       "30467   4.119706        2   13500000  \n",
       "30468   0.127867        1    5600000  \n",
       "\n",
       "[30469 rows x 56 columns]"
      ],
      "text/html": "<div>\n<style scoped>\n    .dataframe tbody tr th:only-of-type {\n        vertical-align: middle;\n    }\n\n    .dataframe tbody tr th {\n        vertical-align: top;\n    }\n\n    .dataframe thead th {\n        text-align: right;\n    }\n</style>\n<table border=\"1\" class=\"dataframe\">\n  <thead>\n    <tr style=\"text-align: right;\">\n      <th></th>\n      <th>id</th>\n      <th>full_sq</th>\n      <th>life_sq</th>\n      <th>floor</th>\n      <th>sub_area</th>\n      <th>preschool_quota</th>\n      <th>preschool_education_centers_raion</th>\n      <th>school_quota</th>\n      <th>school_education_centers_raion</th>\n      <th>school_education_centers_top_20_raion</th>\n      <th>...</th>\n      <th>shopping_centers_km</th>\n      <th>office_km</th>\n      <th>additional_education_km</th>\n      <th>preschool_km</th>\n      <th>big_church_km</th>\n      <th>church_synagogue_km</th>\n      <th>theater_km</th>\n      <th>museum_km</th>\n      <th>ecology</th>\n      <th>price_doc</th>\n    </tr>\n  </thead>\n  <tbody>\n    <tr>\n      <th>0</th>\n      <td>1</td>\n      <td>43</td>\n      <td>27.0</td>\n      <td>4.0</td>\n      <td>Bibirevo</td>\n      <td>5001.0</td>\n      <td>5</td>\n      <td>11065.0</td>\n      <td>5</td>\n      <td>0</td>\n      <td>...</td>\n      <td>0.648488</td>\n      <td>0.637189</td>\n      <td>0.947962</td>\n      <td>0.177975</td>\n      <td>0.625783</td>\n      <td>0.628187</td>\n      <td>14.053047</td>\n      <td>7.389498</td>\n      <td>3</td>\n      <td>5850000</td>\n    </tr>\n    <tr>\n      <th>1</th>\n      <td>2</td>\n      <td>34</td>\n      <td>19.0</td>\n      <td>3.0</td>\n      <td>Nagatinskij Zaton</td>\n      <td>3119.0</td>\n      <td>5</td>\n      <td>6237.0</td>\n      <td>8</td>\n      <td>0</td>\n      <td>...</td>\n      <td>0.519311</td>\n      <td>0.688796</td>\n      <td>1.072315</td>\n      <td>0.273345</td>\n      <td>0.967821</td>\n      <td>0.471447</td>\n      <td>6.829889</td>\n      <td>0.709260</td>\n      <td>4</td>\n      <td>6000000</td>\n    </tr>\n    <tr>\n      <th>2</th>\n      <td>3</td>\n      <td>43</td>\n      <td>29.0</td>\n      <td>2.0</td>\n      <td>Tekstil'shhiki</td>\n      <td>1463.0</td>\n      <td>4</td>\n      <td>5580.0</td>\n      <td>7</td>\n      <td>0</td>\n      <td>...</td>\n      <td>1.486533</td>\n      <td>1.543049</td>\n      <td>0.391957</td>\n      <td>0.158072</td>\n      <td>3.178751</td>\n      <td>0.755946</td>\n      <td>4.273200</td>\n      <td>3.156423</td>\n      <td>1</td>\n      <td>5700000</td>\n    </tr>\n    <tr>\n      <th>3</th>\n      <td>4</td>\n      <td>89</td>\n      <td>50.0</td>\n      <td>9.0</td>\n      <td>Mitino</td>\n      <td>6839.0</td>\n      <td>9</td>\n      <td>17063.0</td>\n      <td>10</td>\n      <td>0</td>\n      <td>...</td>\n      <td>0.599914</td>\n      <td>0.934273</td>\n      <td>0.892674</td>\n      <td>0.236455</td>\n      <td>1.031777</td>\n      <td>1.561505</td>\n      <td>16.990677</td>\n      <td>16.041521</td>\n      <td>3</td>\n      <td>13100000</td>\n    </tr>\n    <tr>\n      <th>4</th>\n      <td>5</td>\n      <td>77</td>\n      <td>77.0</td>\n      <td>4.0</td>\n      <td>Basmannoe</td>\n      <td>3240.0</td>\n      <td>7</td>\n      <td>7770.0</td>\n      <td>9</td>\n      <td>0</td>\n      <td>...</td>\n      <td>0.429052</td>\n      <td>0.077901</td>\n      <td>0.810801</td>\n      <td>0.376838</td>\n      <td>0.378756</td>\n      <td>0.121681</td>\n      <td>1.112486</td>\n      <td>1.800125</td>\n      <td>4</td>\n      <td>16331452</td>\n    </tr>\n    <tr>\n      <th>...</th>\n      <td>...</td>\n      <td>...</td>\n      <td>...</td>\n      <td>...</td>\n      <td>...</td>\n      <td>...</td>\n      <td>...</td>\n      <td>...</td>\n      <td>...</td>\n      <td>...</td>\n      <td>...</td>\n      <td>...</td>\n      <td>...</td>\n      <td>...</td>\n      <td>...</td>\n      <td>...</td>\n      <td>...</td>\n      <td>...</td>\n      <td>...</td>\n      <td>...</td>\n      <td>...</td>\n    </tr>\n    <tr>\n      <th>30464</th>\n      <td>30469</td>\n      <td>44</td>\n      <td>27.0</td>\n      <td>7.0</td>\n      <td>Otradnoe</td>\n      <td>5088.0</td>\n      <td>4</td>\n      <td>12721.0</td>\n      <td>4</td>\n      <td>0</td>\n      <td>...</td>\n      <td>0.325885</td>\n      <td>1.103579</td>\n      <td>0.167718</td>\n      <td>0.349899</td>\n      <td>1.235066</td>\n      <td>0.612359</td>\n      <td>7.482165</td>\n      <td>4.836787</td>\n      <td>3</td>\n      <td>7400000</td>\n    </tr>\n    <tr>\n      <th>30465</th>\n      <td>30470</td>\n      <td>86</td>\n      <td>59.0</td>\n      <td>3.0</td>\n      <td>Tverskoe</td>\n      <td>1874.0</td>\n      <td>4</td>\n      <td>6772.0</td>\n      <td>4</td>\n      <td>1</td>\n      <td>...</td>\n      <td>0.540003</td>\n      <td>0.069986</td>\n      <td>0.086552</td>\n      <td>0.362681</td>\n      <td>0.850385</td>\n      <td>0.310021</td>\n      <td>0.778428</td>\n      <td>1.450108</td>\n      <td>1</td>\n      <td>25000000</td>\n    </tr>\n    <tr>\n      <th>30466</th>\n      <td>30471</td>\n      <td>45</td>\n      <td>NaN</td>\n      <td>10.0</td>\n      <td>Poselenie Vnukovskoe</td>\n      <td>NaN</td>\n      <td>0</td>\n      <td>NaN</td>\n      <td>0</td>\n      <td>0</td>\n      <td>...</td>\n      <td>1.806570</td>\n      <td>4.338453</td>\n      <td>1.339078</td>\n      <td>1.234235</td>\n      <td>1.192543</td>\n      <td>1.186621</td>\n      <td>13.459593</td>\n      <td>9.890758</td>\n      <td>0</td>\n      <td>6970959</td>\n    </tr>\n    <tr>\n      <th>30467</th>\n      <td>30472</td>\n      <td>64</td>\n      <td>32.0</td>\n      <td>5.0</td>\n      <td>Obruchevskoe</td>\n      <td>2372.0</td>\n      <td>6</td>\n      <td>6083.0</td>\n      <td>8</td>\n      <td>0</td>\n      <td>...</td>\n      <td>1.108672</td>\n      <td>1.204798</td>\n      <td>1.340017</td>\n      <td>0.130667</td>\n      <td>1.644053</td>\n      <td>0.476021</td>\n      <td>2.088193</td>\n      <td>4.119706</td>\n      <td>2</td>\n      <td>13500000</td>\n    </tr>\n    <tr>\n      <th>30468</th>\n      <td>30473</td>\n      <td>43</td>\n      <td>28.0</td>\n      <td>1.0</td>\n      <td>Novogireevo</td>\n      <td>2215.0</td>\n      <td>4</td>\n      <td>5824.0</td>\n      <td>4</td>\n      <td>0</td>\n      <td>...</td>\n      <td>0.224601</td>\n      <td>2.108265</td>\n      <td>0.825811</td>\n      <td>0.378950</td>\n      <td>0.480531</td>\n      <td>0.867332</td>\n      <td>0.688707</td>\n      <td>0.127867</td>\n      <td>1</td>\n      <td>5600000</td>\n    </tr>\n  </tbody>\n</table>\n<p>30469 rows × 56 columns</p>\n</div>"
     },
     "metadata": {},
     "execution_count": 87
    }
   ],
   "source": [
    "data"
   ]
  },
  {
   "cell_type": "code",
   "execution_count": 14,
   "metadata": {},
   "outputs": [
    {
     "output_type": "execute_result",
     "data": {
      "text/plain": [
       "<AxesSubplot:xlabel='sub_area', ylabel='price_doc'>"
      ]
     },
     "metadata": {},
     "execution_count": 14
    },
    {
     "output_type": "display_data",
     "data": {
      "text/plain": "<Figure size 432x288 with 1 Axes>",
      "image/svg+xml": "<?xml version=\"1.0\" encoding=\"utf-8\" standalone=\"no\"?>\n<!DOCTYPE svg PUBLIC \"-//W3C//DTD SVG 1.1//EN\"\n  \"http://www.w3.org/Graphics/SVG/1.1/DTD/svg11.dtd\">\n<!-- Created with matplotlib (https://matplotlib.org/) -->\n<svg height=\"273.072812pt\" version=\"1.1\" viewBox=\"0 0 376.51875 273.072812\" width=\"376.51875pt\" xmlns=\"http://www.w3.org/2000/svg\" xmlns:xlink=\"http://www.w3.org/1999/xlink\">\n <metadata>\n  <rdf:RDF xmlns:cc=\"http://creativecommons.org/ns#\" xmlns:dc=\"http://purl.org/dc/elements/1.1/\" xmlns:rdf=\"http://www.w3.org/1999/02/22-rdf-syntax-ns#\">\n   <cc:Work>\n    <dc:type rdf:resource=\"http://purl.org/dc/dcmitype/StillImage\"/>\n    <dc:date>2021-03-10T21:36:03.278621</dc:date>\n    <dc:format>image/svg+xml</dc:format>\n    <dc:creator>\n     <cc:Agent>\n      <dc:title>Matplotlib v3.3.4, https://matplotlib.org/</dc:title>\n     </cc:Agent>\n    </dc:creator>\n   </cc:Work>\n  </rdf:RDF>\n </metadata>\n <defs>\n  <style type=\"text/css\">*{stroke-linecap:butt;stroke-linejoin:round;}</style>\n </defs>\n <g id=\"figure_1\">\n  <g id=\"patch_1\">\n   <path d=\"M 0 273.072812 \nL 376.51875 273.072812 \nL 376.51875 0 \nL 0 0 \nz\n\" style=\"fill:none;\"/>\n  </g>\n  <g id=\"axes_1\">\n   <g id=\"patch_2\">\n    <path d=\"M 34.51875 235.238438 \nL 369.31875 235.238438 \nL 369.31875 17.798438 \nL 34.51875 17.798438 \nz\n\" style=\"fill:#ffffff;\"/>\n   </g>\n   <g id=\"patch_3\">\n    <path clip-path=\"url(#p137884ca39)\" d=\"M 42.88875 195.60957 \nL 109.84875 195.60957 \nL 109.84875 170.063929 \nL 42.88875 170.063929 \nL 42.88875 195.60957 \nz\n\" style=\"fill:#3274a1;stroke:#3d3d3d;stroke-linejoin:miter;stroke-width:1.5;\"/>\n   </g>\n   <g id=\"patch_4\">\n    <path clip-path=\"url(#p137884ca39)\" d=\"M 126.58875 205.09795 \nL 193.54875 205.09795 \nL 193.54875 189.82671 \nL 126.58875 189.82671 \nL 126.58875 205.09795 \nz\n\" style=\"fill:#e1812c;stroke:#3d3d3d;stroke-linejoin:miter;stroke-width:1.5;\"/>\n   </g>\n   <g id=\"patch_5\">\n    <path clip-path=\"url(#p137884ca39)\" d=\"M 210.28875 207.478467 \nL 277.24875 207.478467 \nL 277.24875 196.564022 \nL 210.28875 196.564022 \nL 210.28875 207.478467 \nz\n\" style=\"fill:#3a923a;stroke:#3d3d3d;stroke-linejoin:miter;stroke-width:1.5;\"/>\n   </g>\n   <g id=\"patch_6\">\n    <path clip-path=\"url(#p137884ca39)\" d=\"M 293.98875 207.792875 \nL 360.94875 207.792875 \nL 360.94875 197.799196 \nL 293.98875 197.799196 \nL 293.98875 207.792875 \nz\n\" style=\"fill:#c03d3e;stroke:#3d3d3d;stroke-linejoin:miter;stroke-width:1.5;\"/>\n   </g>\n   <g id=\"matplotlib.axis_1\">\n    <g id=\"xtick_1\">\n     <g id=\"line2d_1\">\n      <defs>\n       <path d=\"M 0 0 \nL 0 3.5 \n\" id=\"m3e50ada2c1\" style=\"stroke:#000000;stroke-width:0.8;\"/>\n      </defs>\n      <g>\n       <use style=\"stroke:#000000;stroke-width:0.8;\" x=\"76.36875\" xlink:href=\"#m3e50ada2c1\" y=\"235.238438\"/>\n      </g>\n     </g>\n     <g id=\"text_1\">\n      <!-- Basmannoe -->\n      <g transform=\"translate(46.861719 249.836875)scale(0.1 -0.1)\">\n       <defs>\n        <path d=\"M 19.671875 34.8125 \nL 19.671875 8.109375 \nL 35.5 8.109375 \nQ 43.453125 8.109375 47.28125 11.40625 \nQ 51.125 14.703125 51.125 21.484375 \nQ 51.125 28.328125 47.28125 31.5625 \nQ 43.453125 34.8125 35.5 34.8125 \nz\nM 19.671875 64.796875 \nL 19.671875 42.828125 \nL 34.28125 42.828125 \nQ 41.5 42.828125 45.03125 45.53125 \nQ 48.578125 48.25 48.578125 53.8125 \nQ 48.578125 59.328125 45.03125 62.0625 \nQ 41.5 64.796875 34.28125 64.796875 \nz\nM 9.8125 72.90625 \nL 35.015625 72.90625 \nQ 46.296875 72.90625 52.390625 68.21875 \nQ 58.5 63.53125 58.5 54.890625 \nQ 58.5 48.1875 55.375 44.234375 \nQ 52.25 40.28125 46.1875 39.3125 \nQ 53.46875 37.75 57.5 32.78125 \nQ 61.53125 27.828125 61.53125 20.40625 \nQ 61.53125 10.640625 54.890625 5.3125 \nQ 48.25 0 35.984375 0 \nL 9.8125 0 \nz\n\" id=\"DejaVuSans-66\"/>\n        <path d=\"M 34.28125 27.484375 \nQ 23.390625 27.484375 19.1875 25 \nQ 14.984375 22.515625 14.984375 16.5 \nQ 14.984375 11.71875 18.140625 8.90625 \nQ 21.296875 6.109375 26.703125 6.109375 \nQ 34.1875 6.109375 38.703125 11.40625 \nQ 43.21875 16.703125 43.21875 25.484375 \nL 43.21875 27.484375 \nz\nM 52.203125 31.203125 \nL 52.203125 0 \nL 43.21875 0 \nL 43.21875 8.296875 \nQ 40.140625 3.328125 35.546875 0.953125 \nQ 30.953125 -1.421875 24.3125 -1.421875 \nQ 15.921875 -1.421875 10.953125 3.296875 \nQ 6 8.015625 6 15.921875 \nQ 6 25.140625 12.171875 29.828125 \nQ 18.359375 34.515625 30.609375 34.515625 \nL 43.21875 34.515625 \nL 43.21875 35.40625 \nQ 43.21875 41.609375 39.140625 45 \nQ 35.0625 48.390625 27.6875 48.390625 \nQ 23 48.390625 18.546875 47.265625 \nQ 14.109375 46.140625 10.015625 43.890625 \nL 10.015625 52.203125 \nQ 14.9375 54.109375 19.578125 55.046875 \nQ 24.21875 56 28.609375 56 \nQ 40.484375 56 46.34375 49.84375 \nQ 52.203125 43.703125 52.203125 31.203125 \nz\n\" id=\"DejaVuSans-97\"/>\n        <path d=\"M 44.28125 53.078125 \nL 44.28125 44.578125 \nQ 40.484375 46.53125 36.375 47.5 \nQ 32.28125 48.484375 27.875 48.484375 \nQ 21.1875 48.484375 17.84375 46.4375 \nQ 14.5 44.390625 14.5 40.28125 \nQ 14.5 37.15625 16.890625 35.375 \nQ 19.28125 33.59375 26.515625 31.984375 \nL 29.59375 31.296875 \nQ 39.15625 29.25 43.1875 25.515625 \nQ 47.21875 21.78125 47.21875 15.09375 \nQ 47.21875 7.46875 41.1875 3.015625 \nQ 35.15625 -1.421875 24.609375 -1.421875 \nQ 20.21875 -1.421875 15.453125 -0.5625 \nQ 10.6875 0.296875 5.421875 2 \nL 5.421875 11.28125 \nQ 10.40625 8.6875 15.234375 7.390625 \nQ 20.0625 6.109375 24.8125 6.109375 \nQ 31.15625 6.109375 34.5625 8.28125 \nQ 37.984375 10.453125 37.984375 14.40625 \nQ 37.984375 18.0625 35.515625 20.015625 \nQ 33.0625 21.96875 24.703125 23.78125 \nL 21.578125 24.515625 \nQ 13.234375 26.265625 9.515625 29.90625 \nQ 5.8125 33.546875 5.8125 39.890625 \nQ 5.8125 47.609375 11.28125 51.796875 \nQ 16.75 56 26.8125 56 \nQ 31.78125 56 36.171875 55.265625 \nQ 40.578125 54.546875 44.28125 53.078125 \nz\n\" id=\"DejaVuSans-115\"/>\n        <path d=\"M 52 44.1875 \nQ 55.375 50.25 60.0625 53.125 \nQ 64.75 56 71.09375 56 \nQ 79.640625 56 84.28125 50.015625 \nQ 88.921875 44.046875 88.921875 33.015625 \nL 88.921875 0 \nL 79.890625 0 \nL 79.890625 32.71875 \nQ 79.890625 40.578125 77.09375 44.375 \nQ 74.3125 48.1875 68.609375 48.1875 \nQ 61.625 48.1875 57.5625 43.546875 \nQ 53.515625 38.921875 53.515625 30.90625 \nL 53.515625 0 \nL 44.484375 0 \nL 44.484375 32.71875 \nQ 44.484375 40.625 41.703125 44.40625 \nQ 38.921875 48.1875 33.109375 48.1875 \nQ 26.21875 48.1875 22.15625 43.53125 \nQ 18.109375 38.875 18.109375 30.90625 \nL 18.109375 0 \nL 9.078125 0 \nL 9.078125 54.6875 \nL 18.109375 54.6875 \nL 18.109375 46.1875 \nQ 21.1875 51.21875 25.484375 53.609375 \nQ 29.78125 56 35.6875 56 \nQ 41.65625 56 45.828125 52.96875 \nQ 50 49.953125 52 44.1875 \nz\n\" id=\"DejaVuSans-109\"/>\n        <path d=\"M 54.890625 33.015625 \nL 54.890625 0 \nL 45.90625 0 \nL 45.90625 32.71875 \nQ 45.90625 40.484375 42.875 44.328125 \nQ 39.84375 48.1875 33.796875 48.1875 \nQ 26.515625 48.1875 22.3125 43.546875 \nQ 18.109375 38.921875 18.109375 30.90625 \nL 18.109375 0 \nL 9.078125 0 \nL 9.078125 54.6875 \nL 18.109375 54.6875 \nL 18.109375 46.1875 \nQ 21.34375 51.125 25.703125 53.5625 \nQ 30.078125 56 35.796875 56 \nQ 45.21875 56 50.046875 50.171875 \nQ 54.890625 44.34375 54.890625 33.015625 \nz\n\" id=\"DejaVuSans-110\"/>\n        <path d=\"M 30.609375 48.390625 \nQ 23.390625 48.390625 19.1875 42.75 \nQ 14.984375 37.109375 14.984375 27.296875 \nQ 14.984375 17.484375 19.15625 11.84375 \nQ 23.34375 6.203125 30.609375 6.203125 \nQ 37.796875 6.203125 41.984375 11.859375 \nQ 46.1875 17.53125 46.1875 27.296875 \nQ 46.1875 37.015625 41.984375 42.703125 \nQ 37.796875 48.390625 30.609375 48.390625 \nz\nM 30.609375 56 \nQ 42.328125 56 49.015625 48.375 \nQ 55.71875 40.765625 55.71875 27.296875 \nQ 55.71875 13.875 49.015625 6.21875 \nQ 42.328125 -1.421875 30.609375 -1.421875 \nQ 18.84375 -1.421875 12.171875 6.21875 \nQ 5.515625 13.875 5.515625 27.296875 \nQ 5.515625 40.765625 12.171875 48.375 \nQ 18.84375 56 30.609375 56 \nz\n\" id=\"DejaVuSans-111\"/>\n        <path d=\"M 56.203125 29.59375 \nL 56.203125 25.203125 \nL 14.890625 25.203125 \nQ 15.484375 15.921875 20.484375 11.0625 \nQ 25.484375 6.203125 34.421875 6.203125 \nQ 39.59375 6.203125 44.453125 7.46875 \nQ 49.3125 8.734375 54.109375 11.28125 \nL 54.109375 2.78125 \nQ 49.265625 0.734375 44.1875 -0.34375 \nQ 39.109375 -1.421875 33.890625 -1.421875 \nQ 20.796875 -1.421875 13.15625 6.1875 \nQ 5.515625 13.8125 5.515625 26.8125 \nQ 5.515625 40.234375 12.765625 48.109375 \nQ 20.015625 56 32.328125 56 \nQ 43.359375 56 49.78125 48.890625 \nQ 56.203125 41.796875 56.203125 29.59375 \nz\nM 47.21875 32.234375 \nQ 47.125 39.59375 43.09375 43.984375 \nQ 39.0625 48.390625 32.421875 48.390625 \nQ 24.90625 48.390625 20.390625 44.140625 \nQ 15.875 39.890625 15.1875 32.171875 \nz\n\" id=\"DejaVuSans-101\"/>\n       </defs>\n       <use xlink:href=\"#DejaVuSans-66\"/>\n       <use x=\"68.603516\" xlink:href=\"#DejaVuSans-97\"/>\n       <use x=\"129.882812\" xlink:href=\"#DejaVuSans-115\"/>\n       <use x=\"181.982422\" xlink:href=\"#DejaVuSans-109\"/>\n       <use x=\"279.394531\" xlink:href=\"#DejaVuSans-97\"/>\n       <use x=\"340.673828\" xlink:href=\"#DejaVuSans-110\"/>\n       <use x=\"404.052734\" xlink:href=\"#DejaVuSans-110\"/>\n       <use x=\"467.431641\" xlink:href=\"#DejaVuSans-111\"/>\n       <use x=\"528.613281\" xlink:href=\"#DejaVuSans-101\"/>\n      </g>\n     </g>\n    </g>\n    <g id=\"xtick_2\">\n     <g id=\"line2d_2\">\n      <g>\n       <use style=\"stroke:#000000;stroke-width:0.8;\" x=\"160.06875\" xlink:href=\"#m3e50ada2c1\" y=\"235.238438\"/>\n      </g>\n     </g>\n     <g id=\"text_2\">\n      <!-- Lefortovo -->\n      <g transform=\"translate(136.380469 249.836875)scale(0.1 -0.1)\">\n       <defs>\n        <path d=\"M 9.8125 72.90625 \nL 19.671875 72.90625 \nL 19.671875 8.296875 \nL 55.171875 8.296875 \nL 55.171875 0 \nL 9.8125 0 \nz\n\" id=\"DejaVuSans-76\"/>\n        <path d=\"M 37.109375 75.984375 \nL 37.109375 68.5 \nL 28.515625 68.5 \nQ 23.6875 68.5 21.796875 66.546875 \nQ 19.921875 64.59375 19.921875 59.515625 \nL 19.921875 54.6875 \nL 34.71875 54.6875 \nL 34.71875 47.703125 \nL 19.921875 47.703125 \nL 19.921875 0 \nL 10.890625 0 \nL 10.890625 47.703125 \nL 2.296875 47.703125 \nL 2.296875 54.6875 \nL 10.890625 54.6875 \nL 10.890625 58.5 \nQ 10.890625 67.625 15.140625 71.796875 \nQ 19.390625 75.984375 28.609375 75.984375 \nz\n\" id=\"DejaVuSans-102\"/>\n        <path d=\"M 41.109375 46.296875 \nQ 39.59375 47.171875 37.8125 47.578125 \nQ 36.03125 48 33.890625 48 \nQ 26.265625 48 22.1875 43.046875 \nQ 18.109375 38.09375 18.109375 28.8125 \nL 18.109375 0 \nL 9.078125 0 \nL 9.078125 54.6875 \nL 18.109375 54.6875 \nL 18.109375 46.1875 \nQ 20.953125 51.171875 25.484375 53.578125 \nQ 30.03125 56 36.53125 56 \nQ 37.453125 56 38.578125 55.875 \nQ 39.703125 55.765625 41.0625 55.515625 \nz\n\" id=\"DejaVuSans-114\"/>\n        <path d=\"M 18.3125 70.21875 \nL 18.3125 54.6875 \nL 36.8125 54.6875 \nL 36.8125 47.703125 \nL 18.3125 47.703125 \nL 18.3125 18.015625 \nQ 18.3125 11.328125 20.140625 9.421875 \nQ 21.96875 7.515625 27.59375 7.515625 \nL 36.8125 7.515625 \nL 36.8125 0 \nL 27.59375 0 \nQ 17.1875 0 13.234375 3.875 \nQ 9.28125 7.765625 9.28125 18.015625 \nL 9.28125 47.703125 \nL 2.6875 47.703125 \nL 2.6875 54.6875 \nL 9.28125 54.6875 \nL 9.28125 70.21875 \nz\n\" id=\"DejaVuSans-116\"/>\n        <path d=\"M 2.984375 54.6875 \nL 12.5 54.6875 \nL 29.59375 8.796875 \nL 46.6875 54.6875 \nL 56.203125 54.6875 \nL 35.6875 0 \nL 23.484375 0 \nz\n\" id=\"DejaVuSans-118\"/>\n       </defs>\n       <use xlink:href=\"#DejaVuSans-76\"/>\n       <use x=\"53.962891\" xlink:href=\"#DejaVuSans-101\"/>\n       <use x=\"115.486328\" xlink:href=\"#DejaVuSans-102\"/>\n       <use x=\"150.691406\" xlink:href=\"#DejaVuSans-111\"/>\n       <use x=\"211.873047\" xlink:href=\"#DejaVuSans-114\"/>\n       <use x=\"252.986328\" xlink:href=\"#DejaVuSans-116\"/>\n       <use x=\"292.195312\" xlink:href=\"#DejaVuSans-111\"/>\n       <use x=\"353.376953\" xlink:href=\"#DejaVuSans-118\"/>\n       <use x=\"412.556641\" xlink:href=\"#DejaVuSans-111\"/>\n      </g>\n     </g>\n    </g>\n    <g id=\"xtick_3\">\n     <g id=\"line2d_3\">\n      <g>\n       <use style=\"stroke:#000000;stroke-width:0.8;\" x=\"243.76875\" xlink:href=\"#m3e50ada2c1\" y=\"235.238438\"/>\n      </g>\n     </g>\n     <g id=\"text_3\">\n      <!-- Bogorodskoe -->\n      <g transform=\"translate(211.414062 249.836875)scale(0.1 -0.1)\">\n       <defs>\n        <path d=\"M 45.40625 27.984375 \nQ 45.40625 37.75 41.375 43.109375 \nQ 37.359375 48.484375 30.078125 48.484375 \nQ 22.859375 48.484375 18.828125 43.109375 \nQ 14.796875 37.75 14.796875 27.984375 \nQ 14.796875 18.265625 18.828125 12.890625 \nQ 22.859375 7.515625 30.078125 7.515625 \nQ 37.359375 7.515625 41.375 12.890625 \nQ 45.40625 18.265625 45.40625 27.984375 \nz\nM 54.390625 6.78125 \nQ 54.390625 -7.171875 48.1875 -13.984375 \nQ 42 -20.796875 29.203125 -20.796875 \nQ 24.46875 -20.796875 20.265625 -20.09375 \nQ 16.0625 -19.390625 12.109375 -17.921875 \nL 12.109375 -9.1875 \nQ 16.0625 -11.328125 19.921875 -12.34375 \nQ 23.78125 -13.375 27.78125 -13.375 \nQ 36.625 -13.375 41.015625 -8.765625 \nQ 45.40625 -4.15625 45.40625 5.171875 \nL 45.40625 9.625 \nQ 42.625 4.78125 38.28125 2.390625 \nQ 33.9375 0 27.875 0 \nQ 17.828125 0 11.671875 7.65625 \nQ 5.515625 15.328125 5.515625 27.984375 \nQ 5.515625 40.671875 11.671875 48.328125 \nQ 17.828125 56 27.875 56 \nQ 33.9375 56 38.28125 53.609375 \nQ 42.625 51.21875 45.40625 46.390625 \nL 45.40625 54.6875 \nL 54.390625 54.6875 \nz\n\" id=\"DejaVuSans-103\"/>\n        <path d=\"M 45.40625 46.390625 \nL 45.40625 75.984375 \nL 54.390625 75.984375 \nL 54.390625 0 \nL 45.40625 0 \nL 45.40625 8.203125 \nQ 42.578125 3.328125 38.25 0.953125 \nQ 33.9375 -1.421875 27.875 -1.421875 \nQ 17.96875 -1.421875 11.734375 6.484375 \nQ 5.515625 14.40625 5.515625 27.296875 \nQ 5.515625 40.1875 11.734375 48.09375 \nQ 17.96875 56 27.875 56 \nQ 33.9375 56 38.25 53.625 \nQ 42.578125 51.265625 45.40625 46.390625 \nz\nM 14.796875 27.296875 \nQ 14.796875 17.390625 18.875 11.75 \nQ 22.953125 6.109375 30.078125 6.109375 \nQ 37.203125 6.109375 41.296875 11.75 \nQ 45.40625 17.390625 45.40625 27.296875 \nQ 45.40625 37.203125 41.296875 42.84375 \nQ 37.203125 48.484375 30.078125 48.484375 \nQ 22.953125 48.484375 18.875 42.84375 \nQ 14.796875 37.203125 14.796875 27.296875 \nz\n\" id=\"DejaVuSans-100\"/>\n        <path d=\"M 9.078125 75.984375 \nL 18.109375 75.984375 \nL 18.109375 31.109375 \nL 44.921875 54.6875 \nL 56.390625 54.6875 \nL 27.390625 29.109375 \nL 57.625 0 \nL 45.90625 0 \nL 18.109375 26.703125 \nL 18.109375 0 \nL 9.078125 0 \nz\n\" id=\"DejaVuSans-107\"/>\n       </defs>\n       <use xlink:href=\"#DejaVuSans-66\"/>\n       <use x=\"68.603516\" xlink:href=\"#DejaVuSans-111\"/>\n       <use x=\"129.785156\" xlink:href=\"#DejaVuSans-103\"/>\n       <use x=\"193.261719\" xlink:href=\"#DejaVuSans-111\"/>\n       <use x=\"254.443359\" xlink:href=\"#DejaVuSans-114\"/>\n       <use x=\"293.306641\" xlink:href=\"#DejaVuSans-111\"/>\n       <use x=\"354.488281\" xlink:href=\"#DejaVuSans-100\"/>\n       <use x=\"417.964844\" xlink:href=\"#DejaVuSans-115\"/>\n       <use x=\"470.064453\" xlink:href=\"#DejaVuSans-107\"/>\n       <use x=\"524.349609\" xlink:href=\"#DejaVuSans-111\"/>\n       <use x=\"585.53125\" xlink:href=\"#DejaVuSans-101\"/>\n      </g>\n     </g>\n    </g>\n    <g id=\"xtick_4\">\n     <g id=\"line2d_4\">\n      <g>\n       <use style=\"stroke:#000000;stroke-width:0.8;\" x=\"327.46875\" xlink:href=\"#m3e50ada2c1\" y=\"235.238438\"/>\n      </g>\n     </g>\n     <g id=\"text_4\">\n      <!-- Perovo -->\n      <g transform=\"translate(310.5375 249.836875)scale(0.1 -0.1)\">\n       <defs>\n        <path d=\"M 19.671875 64.796875 \nL 19.671875 37.40625 \nL 32.078125 37.40625 \nQ 38.96875 37.40625 42.71875 40.96875 \nQ 46.484375 44.53125 46.484375 51.125 \nQ 46.484375 57.671875 42.71875 61.234375 \nQ 38.96875 64.796875 32.078125 64.796875 \nz\nM 9.8125 72.90625 \nL 32.078125 72.90625 \nQ 44.34375 72.90625 50.609375 67.359375 \nQ 56.890625 61.8125 56.890625 51.125 \nQ 56.890625 40.328125 50.609375 34.8125 \nQ 44.34375 29.296875 32.078125 29.296875 \nL 19.671875 29.296875 \nL 19.671875 0 \nL 9.8125 0 \nz\n\" id=\"DejaVuSans-80\"/>\n       </defs>\n       <use xlink:href=\"#DejaVuSans-80\"/>\n       <use x=\"56.677734\" xlink:href=\"#DejaVuSans-101\"/>\n       <use x=\"118.201172\" xlink:href=\"#DejaVuSans-114\"/>\n       <use x=\"157.064453\" xlink:href=\"#DejaVuSans-111\"/>\n       <use x=\"218.246094\" xlink:href=\"#DejaVuSans-118\"/>\n       <use x=\"277.425781\" xlink:href=\"#DejaVuSans-111\"/>\n      </g>\n     </g>\n    </g>\n    <g id=\"text_5\">\n     <!-- sub_area -->\n     <g transform=\"translate(179.323438 263.515)scale(0.1 -0.1)\">\n      <defs>\n       <path d=\"M 8.5 21.578125 \nL 8.5 54.6875 \nL 17.484375 54.6875 \nL 17.484375 21.921875 \nQ 17.484375 14.15625 20.5 10.265625 \nQ 23.53125 6.390625 29.59375 6.390625 \nQ 36.859375 6.390625 41.078125 11.03125 \nQ 45.3125 15.671875 45.3125 23.6875 \nL 45.3125 54.6875 \nL 54.296875 54.6875 \nL 54.296875 0 \nL 45.3125 0 \nL 45.3125 8.40625 \nQ 42.046875 3.421875 37.71875 1 \nQ 33.40625 -1.421875 27.6875 -1.421875 \nQ 18.265625 -1.421875 13.375 4.4375 \nQ 8.5 10.296875 8.5 21.578125 \nz\nM 31.109375 56 \nz\n\" id=\"DejaVuSans-117\"/>\n       <path d=\"M 48.6875 27.296875 \nQ 48.6875 37.203125 44.609375 42.84375 \nQ 40.53125 48.484375 33.40625 48.484375 \nQ 26.265625 48.484375 22.1875 42.84375 \nQ 18.109375 37.203125 18.109375 27.296875 \nQ 18.109375 17.390625 22.1875 11.75 \nQ 26.265625 6.109375 33.40625 6.109375 \nQ 40.53125 6.109375 44.609375 11.75 \nQ 48.6875 17.390625 48.6875 27.296875 \nz\nM 18.109375 46.390625 \nQ 20.953125 51.265625 25.265625 53.625 \nQ 29.59375 56 35.59375 56 \nQ 45.5625 56 51.78125 48.09375 \nQ 58.015625 40.1875 58.015625 27.296875 \nQ 58.015625 14.40625 51.78125 6.484375 \nQ 45.5625 -1.421875 35.59375 -1.421875 \nQ 29.59375 -1.421875 25.265625 0.953125 \nQ 20.953125 3.328125 18.109375 8.203125 \nL 18.109375 0 \nL 9.078125 0 \nL 9.078125 75.984375 \nL 18.109375 75.984375 \nz\n\" id=\"DejaVuSans-98\"/>\n       <path d=\"M 50.984375 -16.609375 \nL 50.984375 -23.578125 \nL -0.984375 -23.578125 \nL -0.984375 -16.609375 \nz\n\" id=\"DejaVuSans-95\"/>\n      </defs>\n      <use xlink:href=\"#DejaVuSans-115\"/>\n      <use x=\"52.099609\" xlink:href=\"#DejaVuSans-117\"/>\n      <use x=\"115.478516\" xlink:href=\"#DejaVuSans-98\"/>\n      <use x=\"178.955078\" xlink:href=\"#DejaVuSans-95\"/>\n      <use x=\"228.955078\" xlink:href=\"#DejaVuSans-97\"/>\n      <use x=\"290.234375\" xlink:href=\"#DejaVuSans-114\"/>\n      <use x=\"329.097656\" xlink:href=\"#DejaVuSans-101\"/>\n      <use x=\"390.621094\" xlink:href=\"#DejaVuSans-97\"/>\n     </g>\n    </g>\n   </g>\n   <g id=\"matplotlib.axis_2\">\n    <g id=\"ytick_1\">\n     <g id=\"line2d_5\">\n      <defs>\n       <path d=\"M 0 0 \nL -3.5 0 \n\" id=\"mf1314d2038\" style=\"stroke:#000000;stroke-width:0.8;\"/>\n      </defs>\n      <g>\n       <use style=\"stroke:#000000;stroke-width:0.8;\" x=\"34.51875\" xlink:href=\"#mf1314d2038\" y=\"229.801427\"/>\n      </g>\n     </g>\n     <g id=\"text_6\">\n      <!-- 0 -->\n      <g transform=\"translate(21.15625 233.600646)scale(0.1 -0.1)\">\n       <defs>\n        <path d=\"M 31.78125 66.40625 \nQ 24.171875 66.40625 20.328125 58.90625 \nQ 16.5 51.421875 16.5 36.375 \nQ 16.5 21.390625 20.328125 13.890625 \nQ 24.171875 6.390625 31.78125 6.390625 \nQ 39.453125 6.390625 43.28125 13.890625 \nQ 47.125 21.390625 47.125 36.375 \nQ 47.125 51.421875 43.28125 58.90625 \nQ 39.453125 66.40625 31.78125 66.40625 \nz\nM 31.78125 74.21875 \nQ 44.046875 74.21875 50.515625 64.515625 \nQ 56.984375 54.828125 56.984375 36.375 \nQ 56.984375 17.96875 50.515625 8.265625 \nQ 44.046875 -1.421875 31.78125 -1.421875 \nQ 19.53125 -1.421875 13.0625 8.265625 \nQ 6.59375 17.96875 6.59375 36.375 \nQ 6.59375 54.828125 13.0625 64.515625 \nQ 19.53125 74.21875 31.78125 74.21875 \nz\n\" id=\"DejaVuSans-48\"/>\n       </defs>\n       <use xlink:href=\"#DejaVuSans-48\"/>\n      </g>\n     </g>\n    </g>\n    <g id=\"ytick_2\">\n     <g id=\"line2d_6\">\n      <g>\n       <use style=\"stroke:#000000;stroke-width:0.8;\" x=\"34.51875\" xlink:href=\"#mf1314d2038\" y=\"184.886015\"/>\n      </g>\n     </g>\n     <g id=\"text_7\">\n      <!-- 1 -->\n      <g transform=\"translate(21.15625 188.685234)scale(0.1 -0.1)\">\n       <defs>\n        <path d=\"M 12.40625 8.296875 \nL 28.515625 8.296875 \nL 28.515625 63.921875 \nL 10.984375 60.40625 \nL 10.984375 69.390625 \nL 28.421875 72.90625 \nL 38.28125 72.90625 \nL 38.28125 8.296875 \nL 54.390625 8.296875 \nL 54.390625 0 \nL 12.40625 0 \nz\n\" id=\"DejaVuSans-49\"/>\n       </defs>\n       <use xlink:href=\"#DejaVuSans-49\"/>\n      </g>\n     </g>\n    </g>\n    <g id=\"ytick_3\">\n     <g id=\"line2d_7\">\n      <g>\n       <use style=\"stroke:#000000;stroke-width:0.8;\" x=\"34.51875\" xlink:href=\"#mf1314d2038\" y=\"139.970603\"/>\n      </g>\n     </g>\n     <g id=\"text_8\">\n      <!-- 2 -->\n      <g transform=\"translate(21.15625 143.769822)scale(0.1 -0.1)\">\n       <defs>\n        <path d=\"M 19.1875 8.296875 \nL 53.609375 8.296875 \nL 53.609375 0 \nL 7.328125 0 \nL 7.328125 8.296875 \nQ 12.9375 14.109375 22.625 23.890625 \nQ 32.328125 33.6875 34.8125 36.53125 \nQ 39.546875 41.84375 41.421875 45.53125 \nQ 43.3125 49.21875 43.3125 52.78125 \nQ 43.3125 58.59375 39.234375 62.25 \nQ 35.15625 65.921875 28.609375 65.921875 \nQ 23.96875 65.921875 18.8125 64.3125 \nQ 13.671875 62.703125 7.8125 59.421875 \nL 7.8125 69.390625 \nQ 13.765625 71.78125 18.9375 73 \nQ 24.125 74.21875 28.421875 74.21875 \nQ 39.75 74.21875 46.484375 68.546875 \nQ 53.21875 62.890625 53.21875 53.421875 \nQ 53.21875 48.921875 51.53125 44.890625 \nQ 49.859375 40.875 45.40625 35.40625 \nQ 44.1875 33.984375 37.640625 27.21875 \nQ 31.109375 20.453125 19.1875 8.296875 \nz\n\" id=\"DejaVuSans-50\"/>\n       </defs>\n       <use xlink:href=\"#DejaVuSans-50\"/>\n      </g>\n     </g>\n    </g>\n    <g id=\"ytick_4\">\n     <g id=\"line2d_8\">\n      <g>\n       <use style=\"stroke:#000000;stroke-width:0.8;\" x=\"34.51875\" xlink:href=\"#mf1314d2038\" y=\"95.055192\"/>\n      </g>\n     </g>\n     <g id=\"text_9\">\n      <!-- 3 -->\n      <g transform=\"translate(21.15625 98.85441)scale(0.1 -0.1)\">\n       <defs>\n        <path d=\"M 40.578125 39.3125 \nQ 47.65625 37.796875 51.625 33 \nQ 55.609375 28.21875 55.609375 21.1875 \nQ 55.609375 10.40625 48.1875 4.484375 \nQ 40.765625 -1.421875 27.09375 -1.421875 \nQ 22.515625 -1.421875 17.65625 -0.515625 \nQ 12.796875 0.390625 7.625 2.203125 \nL 7.625 11.71875 \nQ 11.71875 9.328125 16.59375 8.109375 \nQ 21.484375 6.890625 26.8125 6.890625 \nQ 36.078125 6.890625 40.9375 10.546875 \nQ 45.796875 14.203125 45.796875 21.1875 \nQ 45.796875 27.640625 41.28125 31.265625 \nQ 36.765625 34.90625 28.71875 34.90625 \nL 20.21875 34.90625 \nL 20.21875 43.015625 \nL 29.109375 43.015625 \nQ 36.375 43.015625 40.234375 45.921875 \nQ 44.09375 48.828125 44.09375 54.296875 \nQ 44.09375 59.90625 40.109375 62.90625 \nQ 36.140625 65.921875 28.71875 65.921875 \nQ 24.65625 65.921875 20.015625 65.03125 \nQ 15.375 64.15625 9.8125 62.3125 \nL 9.8125 71.09375 \nQ 15.4375 72.65625 20.34375 73.4375 \nQ 25.25 74.21875 29.59375 74.21875 \nQ 40.828125 74.21875 47.359375 69.109375 \nQ 53.90625 64.015625 53.90625 55.328125 \nQ 53.90625 49.265625 50.4375 45.09375 \nQ 46.96875 40.921875 40.578125 39.3125 \nz\n\" id=\"DejaVuSans-51\"/>\n       </defs>\n       <use xlink:href=\"#DejaVuSans-51\"/>\n      </g>\n     </g>\n    </g>\n    <g id=\"ytick_5\">\n     <g id=\"line2d_9\">\n      <g>\n       <use style=\"stroke:#000000;stroke-width:0.8;\" x=\"34.51875\" xlink:href=\"#mf1314d2038\" y=\"50.13978\"/>\n      </g>\n     </g>\n     <g id=\"text_10\">\n      <!-- 4 -->\n      <g transform=\"translate(21.15625 53.938999)scale(0.1 -0.1)\">\n       <defs>\n        <path d=\"M 37.796875 64.3125 \nL 12.890625 25.390625 \nL 37.796875 25.390625 \nz\nM 35.203125 72.90625 \nL 47.609375 72.90625 \nL 47.609375 25.390625 \nL 58.015625 25.390625 \nL 58.015625 17.1875 \nL 47.609375 17.1875 \nL 47.609375 0 \nL 37.796875 0 \nL 37.796875 17.1875 \nL 4.890625 17.1875 \nL 4.890625 26.703125 \nz\n\" id=\"DejaVuSans-52\"/>\n       </defs>\n       <use xlink:href=\"#DejaVuSans-52\"/>\n      </g>\n     </g>\n    </g>\n    <g id=\"text_11\">\n     <!-- price_doc -->\n     <g transform=\"translate(14.798438 150.445781)rotate(-90)scale(0.1 -0.1)\">\n      <defs>\n       <path d=\"M 18.109375 8.203125 \nL 18.109375 -20.796875 \nL 9.078125 -20.796875 \nL 9.078125 54.6875 \nL 18.109375 54.6875 \nL 18.109375 46.390625 \nQ 20.953125 51.265625 25.265625 53.625 \nQ 29.59375 56 35.59375 56 \nQ 45.5625 56 51.78125 48.09375 \nQ 58.015625 40.1875 58.015625 27.296875 \nQ 58.015625 14.40625 51.78125 6.484375 \nQ 45.5625 -1.421875 35.59375 -1.421875 \nQ 29.59375 -1.421875 25.265625 0.953125 \nQ 20.953125 3.328125 18.109375 8.203125 \nz\nM 48.6875 27.296875 \nQ 48.6875 37.203125 44.609375 42.84375 \nQ 40.53125 48.484375 33.40625 48.484375 \nQ 26.265625 48.484375 22.1875 42.84375 \nQ 18.109375 37.203125 18.109375 27.296875 \nQ 18.109375 17.390625 22.1875 11.75 \nQ 26.265625 6.109375 33.40625 6.109375 \nQ 40.53125 6.109375 44.609375 11.75 \nQ 48.6875 17.390625 48.6875 27.296875 \nz\n\" id=\"DejaVuSans-112\"/>\n       <path d=\"M 9.421875 54.6875 \nL 18.40625 54.6875 \nL 18.40625 0 \nL 9.421875 0 \nz\nM 9.421875 75.984375 \nL 18.40625 75.984375 \nL 18.40625 64.59375 \nL 9.421875 64.59375 \nz\n\" id=\"DejaVuSans-105\"/>\n       <path d=\"M 48.78125 52.59375 \nL 48.78125 44.1875 \nQ 44.96875 46.296875 41.140625 47.34375 \nQ 37.3125 48.390625 33.40625 48.390625 \nQ 24.65625 48.390625 19.8125 42.84375 \nQ 14.984375 37.3125 14.984375 27.296875 \nQ 14.984375 17.28125 19.8125 11.734375 \nQ 24.65625 6.203125 33.40625 6.203125 \nQ 37.3125 6.203125 41.140625 7.25 \nQ 44.96875 8.296875 48.78125 10.40625 \nL 48.78125 2.09375 \nQ 45.015625 0.34375 40.984375 -0.53125 \nQ 36.96875 -1.421875 32.421875 -1.421875 \nQ 20.0625 -1.421875 12.78125 6.34375 \nQ 5.515625 14.109375 5.515625 27.296875 \nQ 5.515625 40.671875 12.859375 48.328125 \nQ 20.21875 56 33.015625 56 \nQ 37.15625 56 41.109375 55.140625 \nQ 45.0625 54.296875 48.78125 52.59375 \nz\n\" id=\"DejaVuSans-99\"/>\n      </defs>\n      <use xlink:href=\"#DejaVuSans-112\"/>\n      <use x=\"63.476562\" xlink:href=\"#DejaVuSans-114\"/>\n      <use x=\"104.589844\" xlink:href=\"#DejaVuSans-105\"/>\n      <use x=\"132.373047\" xlink:href=\"#DejaVuSans-99\"/>\n      <use x=\"187.353516\" xlink:href=\"#DejaVuSans-101\"/>\n      <use x=\"248.876953\" xlink:href=\"#DejaVuSans-95\"/>\n      <use x=\"298.876953\" xlink:href=\"#DejaVuSans-100\"/>\n      <use x=\"362.353516\" xlink:href=\"#DejaVuSans-111\"/>\n      <use x=\"423.535156\" xlink:href=\"#DejaVuSans-99\"/>\n     </g>\n    </g>\n    <g id=\"text_12\">\n     <!-- 1e7 -->\n     <g transform=\"translate(34.51875 14.798438)scale(0.1 -0.1)\">\n      <defs>\n       <path d=\"M 8.203125 72.90625 \nL 55.078125 72.90625 \nL 55.078125 68.703125 \nL 28.609375 0 \nL 18.3125 0 \nL 43.21875 64.59375 \nL 8.203125 64.59375 \nz\n\" id=\"DejaVuSans-55\"/>\n      </defs>\n      <use xlink:href=\"#DejaVuSans-49\"/>\n      <use x=\"63.623047\" xlink:href=\"#DejaVuSans-101\"/>\n      <use x=\"125.146484\" xlink:href=\"#DejaVuSans-55\"/>\n     </g>\n    </g>\n   </g>\n   <g id=\"line2d_10\">\n    <path clip-path=\"url(#p137884ca39)\" d=\"M 76.36875 195.60957 \nL 76.36875 225.354801 \n\" style=\"fill:none;stroke:#3d3d3d;stroke-linecap:square;stroke-width:1.5;\"/>\n   </g>\n   <g id=\"line2d_11\">\n    <path clip-path=\"url(#p137884ca39)\" d=\"M 76.36875 170.063929 \nL 76.36875 146.707915 \n\" style=\"fill:none;stroke:#3d3d3d;stroke-linecap:square;stroke-width:1.5;\"/>\n   </g>\n   <g id=\"line2d_12\">\n    <path clip-path=\"url(#p137884ca39)\" d=\"M 59.62875 225.354801 \nL 93.10875 225.354801 \n\" style=\"fill:none;stroke:#3d3d3d;stroke-linecap:square;stroke-width:1.5;\"/>\n   </g>\n   <g id=\"line2d_13\">\n    <path clip-path=\"url(#p137884ca39)\" d=\"M 59.62875 146.707915 \nL 93.10875 146.707915 \n\" style=\"fill:none;stroke:#3d3d3d;stroke-linecap:square;stroke-width:1.5;\"/>\n   </g>\n   <g id=\"line2d_14\">\n    <defs>\n     <path d=\"M -0 3.535534 \nL 2.12132 0 \nL -0 -3.535534 \nL -2.12132 -0 \nz\n\" id=\"m08c92783b5\" style=\"stroke:#3d3d3d;stroke-linejoin:miter;\"/>\n    </defs>\n    <g clip-path=\"url(#p137884ca39)\">\n     <use style=\"fill:#3d3d3d;stroke:#3d3d3d;stroke-linejoin:miter;\" x=\"76.36875\" xlink:href=\"#m08c92783b5\" y=\"73.495794\"/>\n     <use style=\"fill:#3d3d3d;stroke:#3d3d3d;stroke-linejoin:miter;\" x=\"76.36875\" xlink:href=\"#m08c92783b5\" y=\"114.368819\"/>\n     <use style=\"fill:#3d3d3d;stroke:#3d3d3d;stroke-linejoin:miter;\" x=\"76.36875\" xlink:href=\"#m08c92783b5\" y=\"108.529815\"/>\n     <use style=\"fill:#3d3d3d;stroke:#3d3d3d;stroke-linejoin:miter;\" x=\"76.36875\" xlink:href=\"#m08c92783b5\" y=\"68.528509\"/>\n     <use style=\"fill:#3d3d3d;stroke:#3d3d3d;stroke-linejoin:miter;\" x=\"76.36875\" xlink:href=\"#m08c92783b5\" y=\"120.802502\"/>\n     <use style=\"fill:#3d3d3d;stroke:#3d3d3d;stroke-linejoin:miter;\" x=\"76.36875\" xlink:href=\"#m08c92783b5\" y=\"27.682074\"/>\n     <use style=\"fill:#3d3d3d;stroke:#3d3d3d;stroke-linejoin:miter;\" x=\"76.36875\" xlink:href=\"#m08c92783b5\" y=\"72.597486\"/>\n    </g>\n   </g>\n   <g id=\"line2d_15\">\n    <path clip-path=\"url(#p137884ca39)\" d=\"M 160.06875 205.09795 \nL 160.06875 225.354801 \n\" style=\"fill:none;stroke:#3d3d3d;stroke-linecap:square;stroke-width:1.5;\"/>\n   </g>\n   <g id=\"line2d_16\">\n    <path clip-path=\"url(#p137884ca39)\" d=\"M 160.06875 189.82671 \nL 160.06875 166.91985 \n\" style=\"fill:none;stroke:#3d3d3d;stroke-linecap:square;stroke-width:1.5;\"/>\n   </g>\n   <g id=\"line2d_17\">\n    <path clip-path=\"url(#p137884ca39)\" d=\"M 143.32875 225.354801 \nL 176.80875 225.354801 \n\" style=\"fill:none;stroke:#3d3d3d;stroke-linecap:square;stroke-width:1.5;\"/>\n   </g>\n   <g id=\"line2d_18\">\n    <path clip-path=\"url(#p137884ca39)\" d=\"M 143.32875 166.91985 \nL 176.80875 166.91985 \n\" style=\"fill:none;stroke:#3d3d3d;stroke-linecap:square;stroke-width:1.5;\"/>\n   </g>\n   <g id=\"line2d_19\">\n    <g clip-path=\"url(#p137884ca39)\">\n     <use style=\"fill:#3d3d3d;stroke:#3d3d3d;stroke-linejoin:miter;\" x=\"160.06875\" xlink:href=\"#m08c92783b5\" y=\"146.707915\"/>\n     <use style=\"fill:#3d3d3d;stroke:#3d3d3d;stroke-linejoin:miter;\" x=\"160.06875\" xlink:href=\"#m08c92783b5\" y=\"139.970603\"/>\n     <use style=\"fill:#3d3d3d;stroke:#3d3d3d;stroke-linejoin:miter;\" x=\"160.06875\" xlink:href=\"#m08c92783b5\" y=\"134.580754\"/>\n    </g>\n   </g>\n   <g id=\"line2d_20\">\n    <path clip-path=\"url(#p137884ca39)\" d=\"M 243.76875 207.478467 \nL 243.76875 223.064115 \n\" style=\"fill:none;stroke:#3d3d3d;stroke-linecap:square;stroke-width:1.5;\"/>\n   </g>\n   <g id=\"line2d_21\">\n    <path clip-path=\"url(#p137884ca39)\" d=\"M 243.76875 196.564022 \nL 243.76875 181.292782 \n\" style=\"fill:none;stroke:#3d3d3d;stroke-linecap:square;stroke-width:1.5;\"/>\n   </g>\n   <g id=\"line2d_22\">\n    <path clip-path=\"url(#p137884ca39)\" d=\"M 227.02875 223.064115 \nL 260.50875 223.064115 \n\" style=\"fill:none;stroke:#3d3d3d;stroke-linecap:square;stroke-width:1.5;\"/>\n   </g>\n   <g id=\"line2d_23\">\n    <path clip-path=\"url(#p137884ca39)\" d=\"M 227.02875 181.292782 \nL 260.50875 181.292782 \n\" style=\"fill:none;stroke:#3d3d3d;stroke-linecap:square;stroke-width:1.5;\"/>\n   </g>\n   <g id=\"line2d_24\">\n    <g clip-path=\"url(#p137884ca39)\">\n     <use style=\"fill:#3d3d3d;stroke:#3d3d3d;stroke-linejoin:miter;\" x=\"243.76875\" xlink:href=\"#m08c92783b5\" y=\"225.354801\"/>\n     <use style=\"fill:#3d3d3d;stroke:#3d3d3d;stroke-linejoin:miter;\" x=\"243.76875\" xlink:href=\"#m08c92783b5\" y=\"225.309886\"/>\n     <use style=\"fill:#3d3d3d;stroke:#3d3d3d;stroke-linejoin:miter;\" x=\"243.76875\" xlink:href=\"#m08c92783b5\" y=\"225.354801\"/>\n     <use style=\"fill:#3d3d3d;stroke:#3d3d3d;stroke-linejoin:miter;\" x=\"243.76875\" xlink:href=\"#m08c92783b5\" y=\"225.309886\"/>\n     <use style=\"fill:#3d3d3d;stroke:#3d3d3d;stroke-linejoin:miter;\" x=\"243.76875\" xlink:href=\"#m08c92783b5\" y=\"224.411577\"/>\n     <use style=\"fill:#3d3d3d;stroke:#3d3d3d;stroke-linejoin:miter;\" x=\"243.76875\" xlink:href=\"#m08c92783b5\" y=\"224.860732\"/>\n     <use style=\"fill:#3d3d3d;stroke:#3d3d3d;stroke-linejoin:miter;\" x=\"243.76875\" xlink:href=\"#m08c92783b5\" y=\"224.067301\"/>\n     <use style=\"fill:#3d3d3d;stroke:#3d3d3d;stroke-linejoin:miter;\" x=\"243.76875\" xlink:href=\"#m08c92783b5\" y=\"225.309886\"/>\n     <use style=\"fill:#3d3d3d;stroke:#3d3d3d;stroke-linejoin:miter;\" x=\"243.76875\" xlink:href=\"#m08c92783b5\" y=\"225.309886\"/>\n     <use style=\"fill:#3d3d3d;stroke:#3d3d3d;stroke-linejoin:miter;\" x=\"243.76875\" xlink:href=\"#m08c92783b5\" y=\"225.314377\"/>\n     <use style=\"fill:#3d3d3d;stroke:#3d3d3d;stroke-linejoin:miter;\" x=\"243.76875\" xlink:href=\"#m08c92783b5\" y=\"225.309886\"/>\n     <use style=\"fill:#3d3d3d;stroke:#3d3d3d;stroke-linejoin:miter;\" x=\"243.76875\" xlink:href=\"#m08c92783b5\" y=\"225.354801\"/>\n     <use style=\"fill:#3d3d3d;stroke:#3d3d3d;stroke-linejoin:miter;\" x=\"243.76875\" xlink:href=\"#m08c92783b5\" y=\"224.411577\"/>\n     <use style=\"fill:#3d3d3d;stroke:#3d3d3d;stroke-linejoin:miter;\" x=\"243.76875\" xlink:href=\"#m08c92783b5\" y=\"225.309886\"/>\n     <use style=\"fill:#3d3d3d;stroke:#3d3d3d;stroke-linejoin:miter;\" x=\"243.76875\" xlink:href=\"#m08c92783b5\" y=\"225.309886\"/>\n     <use style=\"fill:#3d3d3d;stroke:#3d3d3d;stroke-linejoin:miter;\" x=\"243.76875\" xlink:href=\"#m08c92783b5\" y=\"224.860732\"/>\n     <use style=\"fill:#3d3d3d;stroke:#3d3d3d;stroke-linejoin:miter;\" x=\"243.76875\" xlink:href=\"#m08c92783b5\" y=\"225.309886\"/>\n     <use style=\"fill:#3d3d3d;stroke:#3d3d3d;stroke-linejoin:miter;\" x=\"243.76875\" xlink:href=\"#m08c92783b5\" y=\"225.309886\"/>\n     <use style=\"fill:#3d3d3d;stroke:#3d3d3d;stroke-linejoin:miter;\" x=\"243.76875\" xlink:href=\"#m08c92783b5\" y=\"225.309886\"/>\n     <use style=\"fill:#3d3d3d;stroke:#3d3d3d;stroke-linejoin:miter;\" x=\"243.76875\" xlink:href=\"#m08c92783b5\" y=\"225.309886\"/>\n     <use style=\"fill:#3d3d3d;stroke:#3d3d3d;stroke-linejoin:miter;\" x=\"243.76875\" xlink:href=\"#m08c92783b5\" y=\"225.309886\"/>\n     <use style=\"fill:#3d3d3d;stroke:#3d3d3d;stroke-linejoin:miter;\" x=\"243.76875\" xlink:href=\"#m08c92783b5\" y=\"225.309886\"/>\n     <use style=\"fill:#3d3d3d;stroke:#3d3d3d;stroke-linejoin:miter;\" x=\"243.76875\" xlink:href=\"#m08c92783b5\" y=\"225.309886\"/>\n     <use style=\"fill:#3d3d3d;stroke:#3d3d3d;stroke-linejoin:miter;\" x=\"243.76875\" xlink:href=\"#m08c92783b5\" y=\"225.309886\"/>\n     <use style=\"fill:#3d3d3d;stroke:#3d3d3d;stroke-linejoin:miter;\" x=\"243.76875\" xlink:href=\"#m08c92783b5\" y=\"178.687509\"/>\n     <use style=\"fill:#3d3d3d;stroke:#3d3d3d;stroke-linejoin:miter;\" x=\"243.76875\" xlink:href=\"#m08c92783b5\" y=\"157.936768\"/>\n     <use style=\"fill:#3d3d3d;stroke:#3d3d3d;stroke-linejoin:miter;\" x=\"243.76875\" xlink:href=\"#m08c92783b5\" y=\"119.758668\"/>\n     <use style=\"fill:#3d3d3d;stroke:#3d3d3d;stroke-linejoin:miter;\" x=\"243.76875\" xlink:href=\"#m08c92783b5\" y=\"176.08648\"/>\n     <use style=\"fill:#3d3d3d;stroke:#3d3d3d;stroke-linejoin:miter;\" x=\"243.76875\" xlink:href=\"#m08c92783b5\" y=\"173.657162\"/>\n     <use style=\"fill:#3d3d3d;stroke:#3d3d3d;stroke-linejoin:miter;\" x=\"243.76875\" xlink:href=\"#m08c92783b5\" y=\"171.832321\"/>\n     <use style=\"fill:#3d3d3d;stroke:#3d3d3d;stroke-linejoin:miter;\" x=\"243.76875\" xlink:href=\"#m08c92783b5\" y=\"162.359678\"/>\n     <use style=\"fill:#3d3d3d;stroke:#3d3d3d;stroke-linejoin:miter;\" x=\"243.76875\" xlink:href=\"#m08c92783b5\" y=\"170.962237\"/>\n     <use style=\"fill:#3d3d3d;stroke:#3d3d3d;stroke-linejoin:miter;\" x=\"243.76875\" xlink:href=\"#m08c92783b5\" y=\"179.94532\"/>\n     <use style=\"fill:#3d3d3d;stroke:#3d3d3d;stroke-linejoin:miter;\" x=\"243.76875\" xlink:href=\"#m08c92783b5\" y=\"166.695273\"/>\n     <use style=\"fill:#3d3d3d;stroke:#3d3d3d;stroke-linejoin:miter;\" x=\"243.76875\" xlink:href=\"#m08c92783b5\" y=\"174.780047\"/>\n     <use style=\"fill:#3d3d3d;stroke:#3d3d3d;stroke-linejoin:miter;\" x=\"243.76875\" xlink:href=\"#m08c92783b5\" y=\"178.148703\"/>\n     <use style=\"fill:#3d3d3d;stroke:#3d3d3d;stroke-linejoin:miter;\" x=\"243.76875\" xlink:href=\"#m08c92783b5\" y=\"175.902933\"/>\n     <use style=\"fill:#3d3d3d;stroke:#3d3d3d;stroke-linejoin:miter;\" x=\"243.76875\" xlink:href=\"#m08c92783b5\" y=\"164.224926\"/>\n     <use style=\"fill:#3d3d3d;stroke:#3d3d3d;stroke-linejoin:miter;\" x=\"243.76875\" xlink:href=\"#m08c92783b5\" y=\"156.140152\"/>\n     <use style=\"fill:#3d3d3d;stroke:#3d3d3d;stroke-linejoin:miter;\" x=\"243.76875\" xlink:href=\"#m08c92783b5\" y=\"179.047012\"/>\n     <use style=\"fill:#3d3d3d;stroke:#3d3d3d;stroke-linejoin:miter;\" x=\"243.76875\" xlink:href=\"#m08c92783b5\" y=\"157.487614\"/>\n     <use style=\"fill:#3d3d3d;stroke:#3d3d3d;stroke-linejoin:miter;\" x=\"243.76875\" xlink:href=\"#m08c92783b5\" y=\"174.106316\"/>\n     <use style=\"fill:#3d3d3d;stroke:#3d3d3d;stroke-linejoin:miter;\" x=\"243.76875\" xlink:href=\"#m08c92783b5\" y=\"175.004625\"/>\n     <use style=\"fill:#3d3d3d;stroke:#3d3d3d;stroke-linejoin:miter;\" x=\"243.76875\" xlink:href=\"#m08c92783b5\" y=\"175.947848\"/>\n     <use style=\"fill:#3d3d3d;stroke:#3d3d3d;stroke-linejoin:miter;\" x=\"243.76875\" xlink:href=\"#m08c92783b5\" y=\"161.305424\"/>\n     <use style=\"fill:#3d3d3d;stroke:#3d3d3d;stroke-linejoin:miter;\" x=\"243.76875\" xlink:href=\"#m08c92783b5\" y=\"176.801241\"/>\n     <use style=\"fill:#3d3d3d;stroke:#3d3d3d;stroke-linejoin:miter;\" x=\"243.76875\" xlink:href=\"#m08c92783b5\" y=\"178.597857\"/>\n     <use style=\"fill:#3d3d3d;stroke:#3d3d3d;stroke-linejoin:miter;\" x=\"243.76875\" xlink:href=\"#m08c92783b5\" y=\"177.250395\"/>\n     <use style=\"fill:#3d3d3d;stroke:#3d3d3d;stroke-linejoin:miter;\" x=\"243.76875\" xlink:href=\"#m08c92783b5\" y=\"172.534277\"/>\n     <use style=\"fill:#3d3d3d;stroke:#3d3d3d;stroke-linejoin:miter;\" x=\"243.76875\" xlink:href=\"#m08c92783b5\" y=\"169.165621\"/>\n     <use style=\"fill:#3d3d3d;stroke:#3d3d3d;stroke-linejoin:miter;\" x=\"243.76875\" xlink:href=\"#m08c92783b5\" y=\"176.801241\"/>\n     <use style=\"fill:#3d3d3d;stroke:#3d3d3d;stroke-linejoin:miter;\" x=\"243.76875\" xlink:href=\"#m08c92783b5\" y=\"155.690997\"/>\n    </g>\n   </g>\n   <g id=\"line2d_25\">\n    <path clip-path=\"url(#p137884ca39)\" d=\"M 327.46875 207.792875 \nL 327.46875 220.818345 \n\" style=\"fill:none;stroke:#3d3d3d;stroke-linecap:square;stroke-width:1.5;\"/>\n   </g>\n   <g id=\"line2d_26\">\n    <path clip-path=\"url(#p137884ca39)\" d=\"M 327.46875 197.799196 \nL 327.46875 183.538553 \n\" style=\"fill:none;stroke:#3d3d3d;stroke-linecap:square;stroke-width:1.5;\"/>\n   </g>\n   <g id=\"line2d_27\">\n    <path clip-path=\"url(#p137884ca39)\" d=\"M 310.72875 220.818345 \nL 344.20875 220.818345 \n\" style=\"fill:none;stroke:#3d3d3d;stroke-linecap:square;stroke-width:1.5;\"/>\n   </g>\n   <g id=\"line2d_28\">\n    <path clip-path=\"url(#p137884ca39)\" d=\"M 310.72875 183.538553 \nL 344.20875 183.538553 \n\" style=\"fill:none;stroke:#3d3d3d;stroke-linecap:square;stroke-width:1.5;\"/>\n   </g>\n   <g id=\"line2d_29\">\n    <g clip-path=\"url(#p137884ca39)\">\n     <use style=\"fill:#3d3d3d;stroke:#3d3d3d;stroke-linejoin:miter;\" x=\"327.46875\" xlink:href=\"#m08c92783b5\" y=\"225.309886\"/>\n     <use style=\"fill:#3d3d3d;stroke:#3d3d3d;stroke-linejoin:miter;\" x=\"327.46875\" xlink:href=\"#m08c92783b5\" y=\"225.354801\"/>\n     <use style=\"fill:#3d3d3d;stroke:#3d3d3d;stroke-linejoin:miter;\" x=\"327.46875\" xlink:href=\"#m08c92783b5\" y=\"225.309886\"/>\n     <use style=\"fill:#3d3d3d;stroke:#3d3d3d;stroke-linejoin:miter;\" x=\"327.46875\" xlink:href=\"#m08c92783b5\" y=\"225.309886\"/>\n     <use style=\"fill:#3d3d3d;stroke:#3d3d3d;stroke-linejoin:miter;\" x=\"327.46875\" xlink:href=\"#m08c92783b5\" y=\"225.354801\"/>\n     <use style=\"fill:#3d3d3d;stroke:#3d3d3d;stroke-linejoin:miter;\" x=\"327.46875\" xlink:href=\"#m08c92783b5\" y=\"225.309886\"/>\n     <use style=\"fill:#3d3d3d;stroke:#3d3d3d;stroke-linejoin:miter;\" x=\"327.46875\" xlink:href=\"#m08c92783b5\" y=\"223.962423\"/>\n     <use style=\"fill:#3d3d3d;stroke:#3d3d3d;stroke-linejoin:miter;\" x=\"327.46875\" xlink:href=\"#m08c92783b5\" y=\"225.309886\"/>\n     <use style=\"fill:#3d3d3d;stroke:#3d3d3d;stroke-linejoin:miter;\" x=\"327.46875\" xlink:href=\"#m08c92783b5\" y=\"225.309886\"/>\n     <use style=\"fill:#3d3d3d;stroke:#3d3d3d;stroke-linejoin:miter;\" x=\"327.46875\" xlink:href=\"#m08c92783b5\" y=\"225.309886\"/>\n     <use style=\"fill:#3d3d3d;stroke:#3d3d3d;stroke-linejoin:miter;\" x=\"327.46875\" xlink:href=\"#m08c92783b5\" y=\"225.309886\"/>\n     <use style=\"fill:#3d3d3d;stroke:#3d3d3d;stroke-linejoin:miter;\" x=\"327.46875\" xlink:href=\"#m08c92783b5\" y=\"224.411577\"/>\n     <use style=\"fill:#3d3d3d;stroke:#3d3d3d;stroke-linejoin:miter;\" x=\"327.46875\" xlink:href=\"#m08c92783b5\" y=\"223.513269\"/>\n     <use style=\"fill:#3d3d3d;stroke:#3d3d3d;stroke-linejoin:miter;\" x=\"327.46875\" xlink:href=\"#m08c92783b5\" y=\"225.309886\"/>\n     <use style=\"fill:#3d3d3d;stroke:#3d3d3d;stroke-linejoin:miter;\" x=\"327.46875\" xlink:href=\"#m08c92783b5\" y=\"225.309886\"/>\n     <use style=\"fill:#3d3d3d;stroke:#3d3d3d;stroke-linejoin:miter;\" x=\"327.46875\" xlink:href=\"#m08c92783b5\" y=\"225.309886\"/>\n     <use style=\"fill:#3d3d3d;stroke:#3d3d3d;stroke-linejoin:miter;\" x=\"327.46875\" xlink:href=\"#m08c92783b5\" y=\"223.080702\"/>\n     <use style=\"fill:#3d3d3d;stroke:#3d3d3d;stroke-linejoin:miter;\" x=\"327.46875\" xlink:href=\"#m08c92783b5\" y=\"225.309886\"/>\n     <use style=\"fill:#3d3d3d;stroke:#3d3d3d;stroke-linejoin:miter;\" x=\"327.46875\" xlink:href=\"#m08c92783b5\" y=\"178.148703\"/>\n     <use style=\"fill:#3d3d3d;stroke:#3d3d3d;stroke-linejoin:miter;\" x=\"327.46875\" xlink:href=\"#m08c92783b5\" y=\"179.496166\"/>\n     <use style=\"fill:#3d3d3d;stroke:#3d3d3d;stroke-linejoin:miter;\" x=\"327.46875\" xlink:href=\"#m08c92783b5\" y=\"178.148703\"/>\n     <use style=\"fill:#3d3d3d;stroke:#3d3d3d;stroke-linejoin:miter;\" x=\"327.46875\" xlink:href=\"#m08c92783b5\" y=\"178.148703\"/>\n     <use style=\"fill:#3d3d3d;stroke:#3d3d3d;stroke-linejoin:miter;\" x=\"327.46875\" xlink:href=\"#m08c92783b5\" y=\"179.94532\"/>\n     <use style=\"fill:#3d3d3d;stroke:#3d3d3d;stroke-linejoin:miter;\" x=\"327.46875\" xlink:href=\"#m08c92783b5\" y=\"182.640245\"/>\n     <use style=\"fill:#3d3d3d;stroke:#3d3d3d;stroke-linejoin:miter;\" x=\"327.46875\" xlink:href=\"#m08c92783b5\" y=\"153.624889\"/>\n     <use style=\"fill:#3d3d3d;stroke:#3d3d3d;stroke-linejoin:miter;\" x=\"327.46875\" xlink:href=\"#m08c92783b5\" y=\"180.394474\"/>\n     <use style=\"fill:#3d3d3d;stroke:#3d3d3d;stroke-linejoin:miter;\" x=\"327.46875\" xlink:href=\"#m08c92783b5\" y=\"180.843628\"/>\n     <use style=\"fill:#3d3d3d;stroke:#3d3d3d;stroke-linejoin:miter;\" x=\"327.46875\" xlink:href=\"#m08c92783b5\" y=\"174.55547\"/>\n     <use style=\"fill:#3d3d3d;stroke:#3d3d3d;stroke-linejoin:miter;\" x=\"327.46875\" xlink:href=\"#m08c92783b5\" y=\"155.690997\"/>\n     <use style=\"fill:#3d3d3d;stroke:#3d3d3d;stroke-linejoin:miter;\" x=\"327.46875\" xlink:href=\"#m08c92783b5\" y=\"181.02329\"/>\n     <use style=\"fill:#3d3d3d;stroke:#3d3d3d;stroke-linejoin:miter;\" x=\"327.46875\" xlink:href=\"#m08c92783b5\" y=\"179.047012\"/>\n     <use style=\"fill:#3d3d3d;stroke:#3d3d3d;stroke-linejoin:miter;\" x=\"327.46875\" xlink:href=\"#m08c92783b5\" y=\"165.123234\"/>\n     <use style=\"fill:#3d3d3d;stroke:#3d3d3d;stroke-linejoin:miter;\" x=\"327.46875\" xlink:href=\"#m08c92783b5\" y=\"182.19109\"/>\n     <use style=\"fill:#3d3d3d;stroke:#3d3d3d;stroke-linejoin:miter;\" x=\"327.46875\" xlink:href=\"#m08c92783b5\" y=\"177.250395\"/>\n     <use style=\"fill:#3d3d3d;stroke:#3d3d3d;stroke-linejoin:miter;\" x=\"327.46875\" xlink:href=\"#m08c92783b5\" y=\"136.37737\"/>\n    </g>\n   </g>\n   <g id=\"line2d_30\">\n    <path clip-path=\"url(#p137884ca39)\" d=\"M 42.88875 182.864822 \nL 109.84875 182.864822 \n\" style=\"fill:none;stroke:#3d3d3d;stroke-linecap:square;stroke-width:1.5;\"/>\n   </g>\n   <g id=\"line2d_31\">\n    <path clip-path=\"url(#p137884ca39)\" d=\"M 126.58875 199.708101 \nL 193.54875 199.708101 \n\" style=\"fill:none;stroke:#3d3d3d;stroke-linecap:square;stroke-width:1.5;\"/>\n   </g>\n   <g id=\"line2d_32\">\n    <path clip-path=\"url(#p137884ca39)\" d=\"M 210.28875 201.953872 \nL 277.24875 201.953872 \n\" style=\"fill:none;stroke:#3d3d3d;stroke-linecap:square;stroke-width:1.5;\"/>\n   </g>\n   <g id=\"line2d_33\">\n    <path clip-path=\"url(#p137884ca39)\" d=\"M 293.98875 202.85218 \nL 360.94875 202.85218 \n\" style=\"fill:none;stroke:#3d3d3d;stroke-linecap:square;stroke-width:1.5;\"/>\n   </g>\n   <g id=\"patch_7\">\n    <path d=\"M 34.51875 235.238438 \nL 34.51875 17.798438 \n\" style=\"fill:none;stroke:#000000;stroke-linecap:square;stroke-linejoin:miter;stroke-width:0.8;\"/>\n   </g>\n   <g id=\"patch_8\">\n    <path d=\"M 369.31875 235.238438 \nL 369.31875 17.798438 \n\" style=\"fill:none;stroke:#000000;stroke-linecap:square;stroke-linejoin:miter;stroke-width:0.8;\"/>\n   </g>\n   <g id=\"patch_9\">\n    <path d=\"M 34.51875 235.238438 \nL 369.31875 235.238438 \n\" style=\"fill:none;stroke:#000000;stroke-linecap:square;stroke-linejoin:miter;stroke-width:0.8;\"/>\n   </g>\n   <g id=\"patch_10\">\n    <path d=\"M 34.51875 17.798438 \nL 369.31875 17.798438 \n\" style=\"fill:none;stroke:#000000;stroke-linecap:square;stroke-linejoin:miter;stroke-width:0.8;\"/>\n   </g>\n  </g>\n </g>\n <defs>\n  <clipPath id=\"p137884ca39\">\n   <rect height=\"217.44\" width=\"334.8\" x=\"34.51875\" y=\"17.798438\"/>\n  </clipPath>\n </defs>\n</svg>\n",
      "image/png": "[encoded data removed]"
     },
     "metadata": {
      "needs_background": "light"
     }
    }
   ],
   "source": [
    "import seaborn as sns\n",
    "areas = ['Lefortovo','Basmannoe','Perovo','Bogorodskoe']\n",
    "filtered = data[data.sub_area.isin(areas)]\n",
    "sns.boxplot(x='sub_area', y='price_doc', data=filtered)"
   ]
  },
  {
   "cell_type": "code",
   "execution_count": 19,
   "metadata": {},
   "outputs": [
    {
     "output_type": "execute_result",
     "data": {
      "text/plain": [
       "0"
      ]
     },
     "metadata": {},
     "execution_count": 19
    }
   ],
   "source": [
    "np.sum(vis_data.fine_amount < 0)"
   ]
  },
  {
   "cell_type": "code",
   "execution_count": 20,
   "metadata": {},
   "outputs": [
    {
     "output_type": "execute_result",
     "data": {
      "text/plain": [
       "(357, 0.0014262542647799094)"
      ]
     },
     "metadata": {},
     "execution_count": 20
    }
   ],
   "source": [
    "max_fine = np.max(vis_data.fine_amount)\n",
    "max_fine\n",
    "\n",
    "max_fine_count = np.sum(vis_data.fine_amount == max_fine)\n",
    "max_fine_count, max_fine_count/vis_data.shape[0]"
   ]
  },
  {
   "cell_type": "code",
   "execution_count": 35,
   "metadata": {},
   "outputs": [
    {
     "output_type": "execute_result",
     "data": {
      "text/plain": [
       "(305.0, -457.5, 762.5)"
      ]
     },
     "metadata": {},
     "execution_count": 35
    }
   ],
   "source": [
    "clean_vis = vis_data.balance_due.dropna()\n",
    "q25 = clean_vis.quantile(q=0.25)\n",
    "q75 = clean_vis.quantile(q=0.75)\n",
    "iqr = q75 - q25\n",
    "low = q25 - (iqr * 1.5 )\n",
    "high = q75 + (iqr * 1.5 )\n",
    "iqr, low, high"
   ]
  },
  {
   "cell_type": "code",
   "execution_count": 38,
   "metadata": {},
   "outputs": [
    {
     "output_type": "execute_result",
     "data": {
      "text/plain": [
       "1201.3"
      ]
     },
     "metadata": {},
     "execution_count": 38
    }
   ],
   "source": [
    "filtered = vis_data.balance_due[(vis_data.balance_due > low) & (vis_data.balance_due < high)]\n",
    "np.abs(filtered.min() - filtered.max())"
   ]
  },
  {
   "cell_type": "code",
   "execution_count": null,
   "metadata": {},
   "outputs": [],
   "source": []
  }
 ]
}