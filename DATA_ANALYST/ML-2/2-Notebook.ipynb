{
 "metadata": {
  "language_info": {
   "codemirror_mode": {
    "name": "ipython",
    "version": 3
   },
   "file_extension": ".py",
   "mimetype": "text/x-python",
   "name": "python",
   "nbconvert_exporter": "python",
   "pygments_lexer": "ipython3",
   "version": "3.8.3-final"
  },
  "orig_nbformat": 2,
  "kernelspec": {
   "name": "python3",
   "display_name": "Python 3",
   "language": "python"
  }
 },
 "nbformat": 4,
 "nbformat_minor": 2,
 "cells": [
  {
   "cell_type": "code",
   "execution_count": 1,
   "metadata": {},
   "outputs": [
    {
     "output_type": "execute_result",
     "data": {
      "text/plain": [
       "   id  full_sq  life_sq  floor           sub_area  preschool_quota  \\\n",
       "0   1       43     27.0    4.0           Bibirevo           5001.0   \n",
       "1   2       34     19.0    3.0  Nagatinskij Zaton           3119.0   \n",
       "2   3       43     29.0    2.0     Tekstil'shhiki           1463.0   \n",
       "3   4       89     50.0    9.0             Mitino           6839.0   \n",
       "4   5       77     77.0    4.0          Basmannoe           3240.0   \n",
       "\n",
       "   preschool_education_centers_raion  school_quota  \\\n",
       "0                                  5       11065.0   \n",
       "1                                  5        6237.0   \n",
       "2                                  4        5580.0   \n",
       "3                                  9       17063.0   \n",
       "4                                  7        7770.0   \n",
       "\n",
       "   school_education_centers_raion  school_education_centers_top_20_raion  ...  \\\n",
       "0                               5                                      0  ...   \n",
       "1                               8                                      0  ...   \n",
       "2                               7                                      0  ...   \n",
       "3                              10                                      0  ...   \n",
       "4                               9                                      0  ...   \n",
       "\n",
       "   shopping_centers_km  office_km  additional_education_km  preschool_km  \\\n",
       "0             0.648488   0.637189                 0.947962      0.177975   \n",
       "1             0.519311   0.688796                 1.072315      0.273345   \n",
       "2             1.486533   1.543049                 0.391957      0.158072   \n",
       "3             0.599914   0.934273                 0.892674      0.236455   \n",
       "4             0.429052   0.077901                 0.810801      0.376838   \n",
       "\n",
       "   big_church_km  church_synagogue_km  theater_km  museum_km    ecology  \\\n",
       "0       0.625783             0.628187   14.053047   7.389498       good   \n",
       "1       0.967821             0.471447    6.829889   0.709260  excellent   \n",
       "2       3.178751             0.755946    4.273200   3.156423       poor   \n",
       "3       1.031777             1.561505   16.990677  16.041521       good   \n",
       "4       0.378756             0.121681    1.112486   1.800125  excellent   \n",
       "\n",
       "   price_doc  \n",
       "0    5850000  \n",
       "1    6000000  \n",
       "2    5700000  \n",
       "3   13100000  \n",
       "4   16331452  \n",
       "\n",
       "[5 rows x 56 columns]"
      ],
      "text/html": "<div>\n<style scoped>\n    .dataframe tbody tr th:only-of-type {\n        vertical-align: middle;\n    }\n\n    .dataframe tbody tr th {\n        vertical-align: top;\n    }\n\n    .dataframe thead th {\n        text-align: right;\n    }\n</style>\n<table border=\"1\" class=\"dataframe\">\n  <thead>\n    <tr style=\"text-align: right;\">\n      <th></th>\n      <th>id</th>\n      <th>full_sq</th>\n      <th>life_sq</th>\n      <th>floor</th>\n      <th>sub_area</th>\n      <th>preschool_quota</th>\n      <th>preschool_education_centers_raion</th>\n      <th>school_quota</th>\n      <th>school_education_centers_raion</th>\n      <th>school_education_centers_top_20_raion</th>\n      <th>...</th>\n      <th>shopping_centers_km</th>\n      <th>office_km</th>\n      <th>additional_education_km</th>\n      <th>preschool_km</th>\n      <th>big_church_km</th>\n      <th>church_synagogue_km</th>\n      <th>theater_km</th>\n      <th>museum_km</th>\n      <th>ecology</th>\n      <th>price_doc</th>\n    </tr>\n  </thead>\n  <tbody>\n    <tr>\n      <th>0</th>\n      <td>1</td>\n      <td>43</td>\n      <td>27.0</td>\n      <td>4.0</td>\n      <td>Bibirevo</td>\n      <td>5001.0</td>\n      <td>5</td>\n      <td>11065.0</td>\n      <td>5</td>\n      <td>0</td>\n      <td>...</td>\n      <td>0.648488</td>\n      <td>0.637189</td>\n      <td>0.947962</td>\n      <td>0.177975</td>\n      <td>0.625783</td>\n      <td>0.628187</td>\n      <td>14.053047</td>\n      <td>7.389498</td>\n      <td>good</td>\n      <td>5850000</td>\n    </tr>\n    <tr>\n      <th>1</th>\n      <td>2</td>\n      <td>34</td>\n      <td>19.0</td>\n      <td>3.0</td>\n      <td>Nagatinskij Zaton</td>\n      <td>3119.0</td>\n      <td>5</td>\n      <td>6237.0</td>\n      <td>8</td>\n      <td>0</td>\n      <td>...</td>\n      <td>0.519311</td>\n      <td>0.688796</td>\n      <td>1.072315</td>\n      <td>0.273345</td>\n      <td>0.967821</td>\n      <td>0.471447</td>\n      <td>6.829889</td>\n      <td>0.709260</td>\n      <td>excellent</td>\n      <td>6000000</td>\n    </tr>\n    <tr>\n      <th>2</th>\n      <td>3</td>\n      <td>43</td>\n      <td>29.0</td>\n      <td>2.0</td>\n      <td>Tekstil'shhiki</td>\n      <td>1463.0</td>\n      <td>4</td>\n      <td>5580.0</td>\n      <td>7</td>\n      <td>0</td>\n      <td>...</td>\n      <td>1.486533</td>\n      <td>1.543049</td>\n      <td>0.391957</td>\n      <td>0.158072</td>\n      <td>3.178751</td>\n      <td>0.755946</td>\n      <td>4.273200</td>\n      <td>3.156423</td>\n      <td>poor</td>\n      <td>5700000</td>\n    </tr>\n    <tr>\n      <th>3</th>\n      <td>4</td>\n      <td>89</td>\n      <td>50.0</td>\n      <td>9.0</td>\n      <td>Mitino</td>\n      <td>6839.0</td>\n      <td>9</td>\n      <td>17063.0</td>\n      <td>10</td>\n      <td>0</td>\n      <td>...</td>\n      <td>0.599914</td>\n      <td>0.934273</td>\n      <td>0.892674</td>\n      <td>0.236455</td>\n      <td>1.031777</td>\n      <td>1.561505</td>\n      <td>16.990677</td>\n      <td>16.041521</td>\n      <td>good</td>\n      <td>13100000</td>\n    </tr>\n    <tr>\n      <th>4</th>\n      <td>5</td>\n      <td>77</td>\n      <td>77.0</td>\n      <td>4.0</td>\n      <td>Basmannoe</td>\n      <td>3240.0</td>\n      <td>7</td>\n      <td>7770.0</td>\n      <td>9</td>\n      <td>0</td>\n      <td>...</td>\n      <td>0.429052</td>\n      <td>0.077901</td>\n      <td>0.810801</td>\n      <td>0.376838</td>\n      <td>0.378756</td>\n      <td>0.121681</td>\n      <td>1.112486</td>\n      <td>1.800125</td>\n      <td>excellent</td>\n      <td>16331452</td>\n    </tr>\n  </tbody>\n</table>\n<p>5 rows × 56 columns</p>\n</div>"
     },
     "metadata": {},
     "execution_count": 1
    }
   ],
   "source": [
    "import pandas as pd\n",
    "import numpy as np\n",
    "data = pd.read_csv('data_flats.csv',sep=\";\")\n",
    "data.head()"
   ]
  },
  {
   "cell_type": "code",
   "execution_count": 2,
   "metadata": {},
   "outputs": [
    {
     "output_type": "stream",
     "name": "stdout",
     "text": [
      "<class 'pandas.core.frame.DataFrame'>\nRangeIndex: 30469 entries, 0 to 30468\nData columns (total 56 columns):\n #   Column                                 Non-Null Count  Dtype  \n---  ------                                 --------------  -----  \n 0   id                                     30469 non-null  int64  \n 1   full_sq                                30469 non-null  int64  \n 2   life_sq                                24086 non-null  float64\n 3   floor                                  30302 non-null  float64\n 4   sub_area                               30469 non-null  object \n 5   preschool_quota                        23781 non-null  float64\n 6   preschool_education_centers_raion      30469 non-null  int64  \n 7   school_quota                           23784 non-null  float64\n 8   school_education_centers_raion         30469 non-null  int64  \n 9   school_education_centers_top_20_raion  30469 non-null  int64  \n 10  hospital_beds_raion                    16029 non-null  float64\n 11  healthcare_centers_raion               30469 non-null  int64  \n 12  university_top_20_raion                30469 non-null  int64  \n 13  sport_objects_raion                    30469 non-null  int64  \n 14  additional_education_raion             30469 non-null  int64  \n 15  culture_objects_top_25_raion           30469 non-null  int64  \n 16  shopping_centers_raion                 30469 non-null  int64  \n 17  office_raion                           30469 non-null  int64  \n 18  metro_min_avto                         30469 non-null  float64\n 19  metro_km_avto                          30469 non-null  float64\n 20  metro_min_walk                         30444 non-null  float64\n 21  metro_km_walk                          30444 non-null  float64\n 22  kindergarten_km                        30469 non-null  float64\n 23  school_km                              30469 non-null  float64\n 24  park_km                                30469 non-null  float64\n 25  green_zone_km                          30469 non-null  float64\n 26  industrial_km                          30469 non-null  float64\n 27  railroad_station_walk_km               30444 non-null  float64\n 28  railroad_station_walk_min              30444 non-null  float64\n 29  public_transport_station_km            30469 non-null  float64\n 30  public_transport_station_min_walk      30469 non-null  float64\n 31  mkad_km                                30469 non-null  float64\n 32  ttk_km                                 30469 non-null  float64\n 33  sadovoe_km                             30469 non-null  float64\n 34  bulvar_ring_km                         30469 non-null  float64\n 35  kremlin_km                             30469 non-null  float64\n 36  big_market_km                          30469 non-null  float64\n 37  market_shop_km                         30469 non-null  float64\n 38  fitness_km                             30469 non-null  float64\n 39  swim_pool_km                           30469 non-null  float64\n 40  ice_rink_km                            30469 non-null  float64\n 41  stadium_km                             30469 non-null  float64\n 42  basketball_km                          30469 non-null  float64\n 43  hospice_morgue_km                      30469 non-null  float64\n 44  university_km                          30469 non-null  float64\n 45  workplaces_km                          30469 non-null  float64\n 46  shopping_centers_km                    30469 non-null  float64\n 47  office_km                              30469 non-null  float64\n 48  additional_education_km                30469 non-null  float64\n 49  preschool_km                           30469 non-null  float64\n 50  big_church_km                          30469 non-null  float64\n 51  church_synagogue_km                    30469 non-null  float64\n 52  theater_km                             30469 non-null  float64\n 53  museum_km                              30469 non-null  float64\n 54  ecology                                30469 non-null  object \n 55  price_doc                              30469 non-null  int64  \ndtypes: float64(41), int64(13), object(2)\nmemory usage: 13.0+ MB\n"
     ]
    }
   ],
   "source": [
    "data.info()"
   ]
  },
  {
   "cell_type": "code",
   "execution_count": 3,
   "metadata": {},
   "outputs": [
    {
     "output_type": "execute_result",
     "data": {
      "text/plain": [
       "   one  two  three\n",
       "0    1  2.0    NaN\n",
       "1    3  NaN    4.0\n",
       "2    0  1.0    2.0"
      ],
      "text/html": "<div>\n<style scoped>\n    .dataframe tbody tr th:only-of-type {\n        vertical-align: middle;\n    }\n\n    .dataframe tbody tr th {\n        vertical-align: top;\n    }\n\n    .dataframe thead th {\n        text-align: right;\n    }\n</style>\n<table border=\"1\" class=\"dataframe\">\n  <thead>\n    <tr style=\"text-align: right;\">\n      <th></th>\n      <th>one</th>\n      <th>two</th>\n      <th>three</th>\n    </tr>\n  </thead>\n  <tbody>\n    <tr>\n      <th>0</th>\n      <td>1</td>\n      <td>2.0</td>\n      <td>NaN</td>\n    </tr>\n    <tr>\n      <th>1</th>\n      <td>3</td>\n      <td>NaN</td>\n      <td>4.0</td>\n    </tr>\n    <tr>\n      <th>2</th>\n      <td>0</td>\n      <td>1.0</td>\n      <td>2.0</td>\n    </tr>\n  </tbody>\n</table>\n</div>"
     },
     "metadata": {},
     "execution_count": 3
    }
   ],
   "source": [
    "test_data = pd.DataFrame([[1, 2, np.nan], [3, np.nan, 4],\n",
    "                          [0, 1, 2]], columns=['one', 'two', 'three'])\n",
    "test_data.head()"
   ]
  },
  {
   "cell_type": "code",
   "execution_count": 4,
   "metadata": {},
   "outputs": [
    {
     "output_type": "execute_result",
     "data": {
      "text/plain": [
       "     one    two  three\n",
       "0  False  False   True\n",
       "1  False   True  False\n",
       "2  False  False  False"
      ],
      "text/html": "<div>\n<style scoped>\n    .dataframe tbody tr th:only-of-type {\n        vertical-align: middle;\n    }\n\n    .dataframe tbody tr th {\n        vertical-align: top;\n    }\n\n    .dataframe thead th {\n        text-align: right;\n    }\n</style>\n<table border=\"1\" class=\"dataframe\">\n  <thead>\n    <tr style=\"text-align: right;\">\n      <th></th>\n      <th>one</th>\n      <th>two</th>\n      <th>three</th>\n    </tr>\n  </thead>\n  <tbody>\n    <tr>\n      <th>0</th>\n      <td>False</td>\n      <td>False</td>\n      <td>True</td>\n    </tr>\n    <tr>\n      <th>1</th>\n      <td>False</td>\n      <td>True</td>\n      <td>False</td>\n    </tr>\n    <tr>\n      <th>2</th>\n      <td>False</td>\n      <td>False</td>\n      <td>False</td>\n    </tr>\n  </tbody>\n</table>\n</div>"
     },
     "metadata": {},
     "execution_count": 4
    }
   ],
   "source": [
    "test_data.isna()"
   ]
  },
  {
   "cell_type": "code",
   "execution_count": 5,
   "metadata": {},
   "outputs": [
    {
     "output_type": "execute_result",
     "data": {
      "text/plain": [
       "   one  two  three\n",
       "2    0  1.0    2.0"
      ],
      "text/html": "<div>\n<style scoped>\n    .dataframe tbody tr th:only-of-type {\n        vertical-align: middle;\n    }\n\n    .dataframe tbody tr th {\n        vertical-align: top;\n    }\n\n    .dataframe thead th {\n        text-align: right;\n    }\n</style>\n<table border=\"1\" class=\"dataframe\">\n  <thead>\n    <tr style=\"text-align: right;\">\n      <th></th>\n      <th>one</th>\n      <th>two</th>\n      <th>three</th>\n    </tr>\n  </thead>\n  <tbody>\n    <tr>\n      <th>2</th>\n      <td>0</td>\n      <td>1.0</td>\n      <td>2.0</td>\n    </tr>\n  </tbody>\n</table>\n</div>"
     },
     "metadata": {},
     "execution_count": 5
    }
   ],
   "source": [
    "test_data.dropna(axis=0)"
   ]
  },
  {
   "cell_type": "code",
   "execution_count": 6,
   "metadata": {},
   "outputs": [
    {
     "output_type": "execute_result",
     "data": {
      "text/plain": [
       "   one  two  three\n",
       "0    1  2.0   -1.0\n",
       "1    3 -1.0    4.0\n",
       "2    0  1.0    2.0"
      ],
      "text/html": "<div>\n<style scoped>\n    .dataframe tbody tr th:only-of-type {\n        vertical-align: middle;\n    }\n\n    .dataframe tbody tr th {\n        vertical-align: top;\n    }\n\n    .dataframe thead th {\n        text-align: right;\n    }\n</style>\n<table border=\"1\" class=\"dataframe\">\n  <thead>\n    <tr style=\"text-align: right;\">\n      <th></th>\n      <th>one</th>\n      <th>two</th>\n      <th>three</th>\n    </tr>\n  </thead>\n  <tbody>\n    <tr>\n      <th>0</th>\n      <td>1</td>\n      <td>2.0</td>\n      <td>-1.0</td>\n    </tr>\n    <tr>\n      <th>1</th>\n      <td>3</td>\n      <td>-1.0</td>\n      <td>4.0</td>\n    </tr>\n    <tr>\n      <th>2</th>\n      <td>0</td>\n      <td>1.0</td>\n      <td>2.0</td>\n    </tr>\n  </tbody>\n</table>\n</div>"
     },
     "metadata": {},
     "execution_count": 6
    }
   ],
   "source": [
    "test_data.fillna(-1)"
   ]
  },
  {
   "cell_type": "code",
   "execution_count": 7,
   "metadata": {},
   "outputs": [
    {
     "output_type": "stream",
     "name": "stdout",
     "text": [
      "<class 'pandas.core.frame.DataFrame'>\nRangeIndex: 250306 entries, 0 to 250305\nData columns (total 34 columns):\n #   Column                      Non-Null Count   Dtype  \n---  ------                      --------------   -----  \n 0   ticket_id                   250306 non-null  int64  \n 1   agency_name                 250306 non-null  object \n 2   inspector_name              250306 non-null  object \n 3   violator_name               250272 non-null  object \n 4   violation_street_number     250306 non-null  float64\n 5   violation_street_name       250306 non-null  object \n 6   violation_zip_code          0 non-null       float64\n 7   mailing_address_str_number  246704 non-null  float64\n 8   mailing_address_str_name    250302 non-null  object \n 9   city                        250306 non-null  object \n 10  state                       250213 non-null  object \n 11  zip_code                    250305 non-null  object \n 12  non_us_str_code             3 non-null       object \n 13  country                     250306 non-null  object \n 14  ticket_issued_date          250306 non-null  object \n 15  hearing_date                237815 non-null  object \n 16  violation_code              250306 non-null  object \n 17  violation_description       250306 non-null  object \n 18  disposition                 250306 non-null  object \n 19  fine_amount                 250305 non-null  float64\n 20  admin_fee                   250306 non-null  float64\n 21  state_fee                   250306 non-null  float64\n 22  late_fee                    250306 non-null  float64\n 23  discount_amount             250306 non-null  float64\n 24  clean_up_cost               250306 non-null  float64\n 25  judgment_amount             250306 non-null  float64\n 26  payment_amount              250306 non-null  float64\n 27  balance_due                 250306 non-null  float64\n 28  payment_date                41113 non-null   object \n 29  payment_status              250306 non-null  object \n 30  collection_status           36897 non-null   object \n 31  grafitti_status             1 non-null       object \n 32  compliance_detail           250306 non-null  object \n 33  compliance                  159880 non-null  float64\ndtypes: float64(13), int64(1), object(20)\nmemory usage: 64.9+ MB\n"
     ]
    }
   ],
   "source": [
    "vis_data = pd.read_csv(\"train.csv\", encoding = 'ISO-8859-1', low_memory = False)\n",
    "vis_data.info()"
   ]
  },
  {
   "cell_type": "code",
   "execution_count": 8,
   "metadata": {},
   "outputs": [
    {
     "output_type": "stream",
     "name": "stdout",
     "text": [
      "<class 'pandas.core.frame.DataFrame'>\nInt64Index: 93 entries, 183911 to 250070\nData columns (total 34 columns):\n #   Column                      Non-Null Count  Dtype  \n---  ------                      --------------  -----  \n 0   ticket_id                   93 non-null     int64  \n 1   agency_name                 93 non-null     object \n 2   inspector_name              93 non-null     object \n 3   violator_name               93 non-null     object \n 4   violation_street_number     93 non-null     float64\n 5   violation_street_name       93 non-null     object \n 6   violation_zip_code          0 non-null      float64\n 7   mailing_address_str_number  82 non-null     float64\n 8   mailing_address_str_name    93 non-null     object \n 9   city                        93 non-null     object \n 10  state                       0 non-null      object \n 11  zip_code                    93 non-null     object \n 12  non_us_str_code             0 non-null      object \n 13  country                     93 non-null     object \n 14  ticket_issued_date          93 non-null     object \n 15  hearing_date                93 non-null     object \n 16  violation_code              93 non-null     object \n 17  violation_description       93 non-null     object \n 18  disposition                 93 non-null     object \n 19  fine_amount                 93 non-null     float64\n 20  admin_fee                   93 non-null     float64\n 21  state_fee                   93 non-null     float64\n 22  late_fee                    93 non-null     float64\n 23  discount_amount             93 non-null     float64\n 24  clean_up_cost               93 non-null     float64\n 25  judgment_amount             93 non-null     float64\n 26  payment_amount              93 non-null     float64\n 27  balance_due                 93 non-null     float64\n 28  payment_date                21 non-null     object \n 29  payment_status              93 non-null     object \n 30  collection_status           3 non-null      object \n 31  grafitti_status             0 non-null      object \n 32  compliance_detail           93 non-null     object \n 33  compliance                  84 non-null     float64\ndtypes: float64(13), int64(1), object(20)\nmemory usage: 25.4+ KB\n"
     ]
    }
   ],
   "source": [
    "vis_data[vis_data.state.isna() == True].info()"
   ]
  },
  {
   "cell_type": "code",
   "execution_count": 9,
   "metadata": {},
   "outputs": [
    {
     "output_type": "execute_result",
     "data": {
      "text/plain": [
       "0         IL\n",
       "1         MI\n",
       "2         MI\n",
       "3         MI\n",
       "4         MI\n",
       "          ..\n",
       "250301    MI\n",
       "250302    MI\n",
       "250303    MI\n",
       "250304    MI\n",
       "250305    MI\n",
       "Name: state, Length: 250306, dtype: object"
      ]
     },
     "metadata": {},
     "execution_count": 9
    }
   ],
   "source": [
    "result = vis_data.state.fillna(vis_data.state.mode()[0])\n",
    "result"
   ]
  },
  {
   "cell_type": "code",
   "execution_count": 10,
   "metadata": {},
   "outputs": [
    {
     "output_type": "error",
     "ename": "AttributeError",
     "evalue": "'Series' object has no attribute 'state'",
     "traceback": [
      "\u001b[1;31m---------------------------------------------------------------------------\u001b[0m",
      "\u001b[1;31mAttributeError\u001b[0m                            Traceback (most recent call last)",
      "\u001b[1;32m<ipython-input-10-8a5edccd3abc>\u001b[0m in \u001b[0;36m<module>\u001b[1;34m\u001b[0m\n\u001b[1;32m----> 1\u001b[1;33m \u001b[0mresult\u001b[0m\u001b[1;33m.\u001b[0m\u001b[0mstate\u001b[0m\u001b[1;33m.\u001b[0m\u001b[0mvalue_counts\u001b[0m\u001b[1;33m(\u001b[0m\u001b[1;33m)\u001b[0m\u001b[1;33m\u001b[0m\u001b[1;33m\u001b[0m\u001b[0m\n\u001b[0m",
      "\u001b[1;32mD:\\Programms\\Anaconda\\lib\\site-packages\\pandas\\core\\generic.py\u001b[0m in \u001b[0;36m__getattr__\u001b[1;34m(self, name)\u001b[0m\n\u001b[0;32m   5272\u001b[0m             \u001b[1;32mif\u001b[0m \u001b[0mself\u001b[0m\u001b[1;33m.\u001b[0m\u001b[0m_info_axis\u001b[0m\u001b[1;33m.\u001b[0m\u001b[0m_can_hold_identifiers_and_holds_name\u001b[0m\u001b[1;33m(\u001b[0m\u001b[0mname\u001b[0m\u001b[1;33m)\u001b[0m\u001b[1;33m:\u001b[0m\u001b[1;33m\u001b[0m\u001b[1;33m\u001b[0m\u001b[0m\n\u001b[0;32m   5273\u001b[0m                 \u001b[1;32mreturn\u001b[0m \u001b[0mself\u001b[0m\u001b[1;33m[\u001b[0m\u001b[0mname\u001b[0m\u001b[1;33m]\u001b[0m\u001b[1;33m\u001b[0m\u001b[1;33m\u001b[0m\u001b[0m\n\u001b[1;32m-> 5274\u001b[1;33m             \u001b[1;32mreturn\u001b[0m \u001b[0mobject\u001b[0m\u001b[1;33m.\u001b[0m\u001b[0m__getattribute__\u001b[0m\u001b[1;33m(\u001b[0m\u001b[0mself\u001b[0m\u001b[1;33m,\u001b[0m \u001b[0mname\u001b[0m\u001b[1;33m)\u001b[0m\u001b[1;33m\u001b[0m\u001b[1;33m\u001b[0m\u001b[0m\n\u001b[0m\u001b[0;32m   5275\u001b[0m \u001b[1;33m\u001b[0m\u001b[0m\n\u001b[0;32m   5276\u001b[0m     \u001b[1;32mdef\u001b[0m \u001b[0m__setattr__\u001b[0m\u001b[1;33m(\u001b[0m\u001b[0mself\u001b[0m\u001b[1;33m,\u001b[0m \u001b[0mname\u001b[0m\u001b[1;33m:\u001b[0m \u001b[0mstr\u001b[0m\u001b[1;33m,\u001b[0m \u001b[0mvalue\u001b[0m\u001b[1;33m)\u001b[0m \u001b[1;33m->\u001b[0m \u001b[1;32mNone\u001b[0m\u001b[1;33m:\u001b[0m\u001b[1;33m\u001b[0m\u001b[1;33m\u001b[0m\u001b[0m\n",
      "\u001b[1;31mAttributeError\u001b[0m: 'Series' object has no attribute 'state'"
     ]
    }
   ],
   "source": [
    "result.state.value_counts()"
   ]
  },
  {
   "cell_type": "code",
   "execution_count": 69,
   "metadata": {},
   "outputs": [
    {
     "output_type": "execute_result",
     "data": {
      "text/plain": [
       "   id  full_sq  life_sq  floor           sub_area  preschool_quota  \\\n",
       "0   1       43     27.0    4.0           Bibirevo           5001.0   \n",
       "1   2       34     19.0    3.0  Nagatinskij Zaton           3119.0   \n",
       "2   3       43     29.0    2.0     Tekstil'shhiki           1463.0   \n",
       "3   4       89     50.0    9.0             Mitino           6839.0   \n",
       "4   5       77     77.0    4.0          Basmannoe           3240.0   \n",
       "\n",
       "   preschool_education_centers_raion  school_quota  \\\n",
       "0                                  5       11065.0   \n",
       "1                                  5        6237.0   \n",
       "2                                  4        5580.0   \n",
       "3                                  9       17063.0   \n",
       "4                                  7        7770.0   \n",
       "\n",
       "   school_education_centers_raion  school_education_centers_top_20_raion  ...  \\\n",
       "0                               5                                      0  ...   \n",
       "1                               8                                      0  ...   \n",
       "2                               7                                      0  ...   \n",
       "3                              10                                      0  ...   \n",
       "4                               9                                      0  ...   \n",
       "\n",
       "   shopping_centers_km  office_km  additional_education_km  preschool_km  \\\n",
       "0             0.648488   0.637189                 0.947962      0.177975   \n",
       "1             0.519311   0.688796                 1.072315      0.273345   \n",
       "2             1.486533   1.543049                 0.391957      0.158072   \n",
       "3             0.599914   0.934273                 0.892674      0.236455   \n",
       "4             0.429052   0.077901                 0.810801      0.376838   \n",
       "\n",
       "   big_church_km  church_synagogue_km  theater_km  museum_km    ecology  \\\n",
       "0       0.625783             0.628187   14.053047   7.389498       good   \n",
       "1       0.967821             0.471447    6.829889   0.709260  excellent   \n",
       "2       3.178751             0.755946    4.273200   3.156423       poor   \n",
       "3       1.031777             1.561505   16.990677  16.041521       good   \n",
       "4       0.378756             0.121681    1.112486   1.800125  excellent   \n",
       "\n",
       "   price_doc  \n",
       "0    5850000  \n",
       "1    6000000  \n",
       "2    5700000  \n",
       "3   13100000  \n",
       "4   16331452  \n",
       "\n",
       "[5 rows x 56 columns]"
      ],
      "text/html": "<div>\n<style scoped>\n    .dataframe tbody tr th:only-of-type {\n        vertical-align: middle;\n    }\n\n    .dataframe tbody tr th {\n        vertical-align: top;\n    }\n\n    .dataframe thead th {\n        text-align: right;\n    }\n</style>\n<table border=\"1\" class=\"dataframe\">\n  <thead>\n    <tr style=\"text-align: right;\">\n      <th></th>\n      <th>id</th>\n      <th>full_sq</th>\n      <th>life_sq</th>\n      <th>floor</th>\n      <th>sub_area</th>\n      <th>preschool_quota</th>\n      <th>preschool_education_centers_raion</th>\n      <th>school_quota</th>\n      <th>school_education_centers_raion</th>\n      <th>school_education_centers_top_20_raion</th>\n      <th>...</th>\n      <th>shopping_centers_km</th>\n      <th>office_km</th>\n      <th>additional_education_km</th>\n      <th>preschool_km</th>\n      <th>big_church_km</th>\n      <th>church_synagogue_km</th>\n      <th>theater_km</th>\n      <th>museum_km</th>\n      <th>ecology</th>\n      <th>price_doc</th>\n    </tr>\n  </thead>\n  <tbody>\n    <tr>\n      <th>0</th>\n      <td>1</td>\n      <td>43</td>\n      <td>27.0</td>\n      <td>4.0</td>\n      <td>Bibirevo</td>\n      <td>5001.0</td>\n      <td>5</td>\n      <td>11065.0</td>\n      <td>5</td>\n      <td>0</td>\n      <td>...</td>\n      <td>0.648488</td>\n      <td>0.637189</td>\n      <td>0.947962</td>\n      <td>0.177975</td>\n      <td>0.625783</td>\n      <td>0.628187</td>\n      <td>14.053047</td>\n      <td>7.389498</td>\n      <td>good</td>\n      <td>5850000</td>\n    </tr>\n    <tr>\n      <th>1</th>\n      <td>2</td>\n      <td>34</td>\n      <td>19.0</td>\n      <td>3.0</td>\n      <td>Nagatinskij Zaton</td>\n      <td>3119.0</td>\n      <td>5</td>\n      <td>6237.0</td>\n      <td>8</td>\n      <td>0</td>\n      <td>...</td>\n      <td>0.519311</td>\n      <td>0.688796</td>\n      <td>1.072315</td>\n      <td>0.273345</td>\n      <td>0.967821</td>\n      <td>0.471447</td>\n      <td>6.829889</td>\n      <td>0.709260</td>\n      <td>excellent</td>\n      <td>6000000</td>\n    </tr>\n    <tr>\n      <th>2</th>\n      <td>3</td>\n      <td>43</td>\n      <td>29.0</td>\n      <td>2.0</td>\n      <td>Tekstil'shhiki</td>\n      <td>1463.0</td>\n      <td>4</td>\n      <td>5580.0</td>\n      <td>7</td>\n      <td>0</td>\n      <td>...</td>\n      <td>1.486533</td>\n      <td>1.543049</td>\n      <td>0.391957</td>\n      <td>0.158072</td>\n      <td>3.178751</td>\n      <td>0.755946</td>\n      <td>4.273200</td>\n      <td>3.156423</td>\n      <td>poor</td>\n      <td>5700000</td>\n    </tr>\n    <tr>\n      <th>3</th>\n      <td>4</td>\n      <td>89</td>\n      <td>50.0</td>\n      <td>9.0</td>\n      <td>Mitino</td>\n      <td>6839.0</td>\n      <td>9</td>\n      <td>17063.0</td>\n      <td>10</td>\n      <td>0</td>\n      <td>...</td>\n      <td>0.599914</td>\n      <td>0.934273</td>\n      <td>0.892674</td>\n      <td>0.236455</td>\n      <td>1.031777</td>\n      <td>1.561505</td>\n      <td>16.990677</td>\n      <td>16.041521</td>\n      <td>good</td>\n      <td>13100000</td>\n    </tr>\n    <tr>\n      <th>4</th>\n      <td>5</td>\n      <td>77</td>\n      <td>77.0</td>\n      <td>4.0</td>\n      <td>Basmannoe</td>\n      <td>3240.0</td>\n      <td>7</td>\n      <td>7770.0</td>\n      <td>9</td>\n      <td>0</td>\n      <td>...</td>\n      <td>0.429052</td>\n      <td>0.077901</td>\n      <td>0.810801</td>\n      <td>0.376838</td>\n      <td>0.378756</td>\n      <td>0.121681</td>\n      <td>1.112486</td>\n      <td>1.800125</td>\n      <td>excellent</td>\n      <td>16331452</td>\n    </tr>\n  </tbody>\n</table>\n<p>5 rows × 56 columns</p>\n</div>"
     },
     "metadata": {},
     "execution_count": 69
    }
   ],
   "source": [
    "data.head()"
   ]
  },
  {
   "cell_type": "code",
   "execution_count": 71,
   "metadata": {},
   "outputs": [
    {
     "output_type": "execute_result",
     "data": {
      "text/plain": [
       "          id  full_sq  life_sq  floor           sub_area  preschool_quota  \\\n",
       "0          1       43     27.0    4.0           Bibirevo           5001.0   \n",
       "1          2       34     19.0    3.0  Nagatinskij Zaton           3119.0   \n",
       "2          3       43     29.0    2.0     Tekstil'shhiki           1463.0   \n",
       "4          5       77     77.0    4.0          Basmannoe           3240.0   \n",
       "6          7       25     14.0   10.0         Sokol'niki            933.0   \n",
       "...      ...      ...      ...    ...                ...              ...   \n",
       "30461  30466       56     29.0   13.0   Severnoe Tushino           4116.0   \n",
       "30462  30467       56     51.0   19.0           Sviblovo           2057.0   \n",
       "30465  30470       86     59.0    3.0           Tverskoe           1874.0   \n",
       "30467  30472       64     32.0    5.0       Obruchevskoe           2372.0   \n",
       "30468  30473       43     28.0    1.0        Novogireevo           2215.0   \n",
       "\n",
       "       preschool_education_centers_raion  school_quota  \\\n",
       "0                                      5       11065.0   \n",
       "1                                      5        6237.0   \n",
       "2                                      4        5580.0   \n",
       "4                                      7        7770.0   \n",
       "6                                      5        5050.0   \n",
       "...                                  ...           ...   \n",
       "30461                                  5        9891.0   \n",
       "30462                                  1        3741.0   \n",
       "30465                                  4        6772.0   \n",
       "30467                                  6        6083.0   \n",
       "30468                                  4        5824.0   \n",
       "\n",
       "       school_education_centers_raion  school_education_centers_top_20_raion  \\\n",
       "0                                   5                                      0   \n",
       "1                                   8                                      0   \n",
       "2                                   7                                      0   \n",
       "4                                   9                                      0   \n",
       "6                                   5                                      0   \n",
       "...                               ...                                    ...   \n",
       "30461                               5                                      0   \n",
       "30462                               2                                      0   \n",
       "30465                               4                                      1   \n",
       "30467                               8                                      0   \n",
       "30468                               4                                      0   \n",
       "\n",
       "       ...  shopping_centers_km  office_km  additional_education_km  \\\n",
       "0      ...             0.648488   0.637189                 0.947962   \n",
       "1      ...             0.519311   0.688796                 1.072315   \n",
       "2      ...             1.486533   1.543049                 0.391957   \n",
       "4      ...             0.429052   0.077901                 0.810801   \n",
       "6      ...             0.513689   0.067725                 0.273019   \n",
       "...    ...                  ...        ...                      ...   \n",
       "30461  ...             0.232778   1.491458                 0.648281   \n",
       "30462  ...             0.187828   0.969990                 0.510751   \n",
       "30465  ...             0.540003   0.069986                 0.086552   \n",
       "30467  ...             1.108672   1.204798                 1.340017   \n",
       "30468  ...             0.224601   2.108265                 0.825811   \n",
       "\n",
       "       preschool_km  big_church_km  church_synagogue_km  theater_km  \\\n",
       "0          0.177975       0.625783             0.628187   14.053047   \n",
       "1          0.273345       0.967821             0.471447    6.829889   \n",
       "2          0.158072       3.178751             0.755946    4.273200   \n",
       "4          0.376838       0.378756             0.121681    1.112486   \n",
       "6          0.516979       0.822377             0.318230    0.752223   \n",
       "...             ...            ...                  ...         ...   \n",
       "30461      0.193474       0.283044             2.040548   23.720332   \n",
       "30462      0.566309       1.261711             0.532268    3.672399   \n",
       "30465      0.362681       0.850385             0.310021    0.778428   \n",
       "30467      0.130667       1.644053             0.476021    2.088193   \n",
       "30468      0.378950       0.480531             0.867332    0.688707   \n",
       "\n",
       "       museum_km       ecology  price_doc  \n",
       "0       7.389498          good    5850000  \n",
       "1       0.709260     excellent    6000000  \n",
       "2       3.156423          poor    5700000  \n",
       "4       1.800125     excellent   16331452  \n",
       "6       2.969315          poor    5500000  \n",
       "...          ...           ...        ...  \n",
       "30461  12.198090  satisfactory   12000000  \n",
       "30462   2.988268          poor   10262010  \n",
       "30465   1.450108          poor   25000000  \n",
       "30467   4.119706  satisfactory   13500000  \n",
       "30468   0.127867          poor    5600000  \n",
       "\n",
       "[13652 rows x 56 columns]"
      ],
      "text/html": "<div>\n<style scoped>\n    .dataframe tbody tr th:only-of-type {\n        vertical-align: middle;\n    }\n\n    .dataframe tbody tr th {\n        vertical-align: top;\n    }\n\n    .dataframe thead th {\n        text-align: right;\n    }\n</style>\n<table border=\"1\" class=\"dataframe\">\n  <thead>\n    <tr style=\"text-align: right;\">\n      <th></th>\n      <th>id</th>\n      <th>full_sq</th>\n      <th>life_sq</th>\n      <th>floor</th>\n      <th>sub_area</th>\n      <th>preschool_quota</th>\n      <th>preschool_education_centers_raion</th>\n      <th>school_quota</th>\n      <th>school_education_centers_raion</th>\n      <th>school_education_centers_top_20_raion</th>\n      <th>...</th>\n      <th>shopping_centers_km</th>\n      <th>office_km</th>\n      <th>additional_education_km</th>\n      <th>preschool_km</th>\n      <th>big_church_km</th>\n      <th>church_synagogue_km</th>\n      <th>theater_km</th>\n      <th>museum_km</th>\n      <th>ecology</th>\n      <th>price_doc</th>\n    </tr>\n  </thead>\n  <tbody>\n    <tr>\n      <th>0</th>\n      <td>1</td>\n      <td>43</td>\n      <td>27.0</td>\n      <td>4.0</td>\n      <td>Bibirevo</td>\n      <td>5001.0</td>\n      <td>5</td>\n      <td>11065.0</td>\n      <td>5</td>\n      <td>0</td>\n      <td>...</td>\n      <td>0.648488</td>\n      <td>0.637189</td>\n      <td>0.947962</td>\n      <td>0.177975</td>\n      <td>0.625783</td>\n      <td>0.628187</td>\n      <td>14.053047</td>\n      <td>7.389498</td>\n      <td>good</td>\n      <td>5850000</td>\n    </tr>\n    <tr>\n      <th>1</th>\n      <td>2</td>\n      <td>34</td>\n      <td>19.0</td>\n      <td>3.0</td>\n      <td>Nagatinskij Zaton</td>\n      <td>3119.0</td>\n      <td>5</td>\n      <td>6237.0</td>\n      <td>8</td>\n      <td>0</td>\n      <td>...</td>\n      <td>0.519311</td>\n      <td>0.688796</td>\n      <td>1.072315</td>\n      <td>0.273345</td>\n      <td>0.967821</td>\n      <td>0.471447</td>\n      <td>6.829889</td>\n      <td>0.709260</td>\n      <td>excellent</td>\n      <td>6000000</td>\n    </tr>\n    <tr>\n      <th>2</th>\n      <td>3</td>\n      <td>43</td>\n      <td>29.0</td>\n      <td>2.0</td>\n      <td>Tekstil'shhiki</td>\n      <td>1463.0</td>\n      <td>4</td>\n      <td>5580.0</td>\n      <td>7</td>\n      <td>0</td>\n      <td>...</td>\n      <td>1.486533</td>\n      <td>1.543049</td>\n      <td>0.391957</td>\n      <td>0.158072</td>\n      <td>3.178751</td>\n      <td>0.755946</td>\n      <td>4.273200</td>\n      <td>3.156423</td>\n      <td>poor</td>\n      <td>5700000</td>\n    </tr>\n    <tr>\n      <th>4</th>\n      <td>5</td>\n      <td>77</td>\n      <td>77.0</td>\n      <td>4.0</td>\n      <td>Basmannoe</td>\n      <td>3240.0</td>\n      <td>7</td>\n      <td>7770.0</td>\n      <td>9</td>\n      <td>0</td>\n      <td>...</td>\n      <td>0.429052</td>\n      <td>0.077901</td>\n      <td>0.810801</td>\n      <td>0.376838</td>\n      <td>0.378756</td>\n      <td>0.121681</td>\n      <td>1.112486</td>\n      <td>1.800125</td>\n      <td>excellent</td>\n      <td>16331452</td>\n    </tr>\n    <tr>\n      <th>6</th>\n      <td>7</td>\n      <td>25</td>\n      <td>14.0</td>\n      <td>10.0</td>\n      <td>Sokol'niki</td>\n      <td>933.0</td>\n      <td>5</td>\n      <td>5050.0</td>\n      <td>5</td>\n      <td>0</td>\n      <td>...</td>\n      <td>0.513689</td>\n      <td>0.067725</td>\n      <td>0.273019</td>\n      <td>0.516979</td>\n      <td>0.822377</td>\n      <td>0.318230</td>\n      <td>0.752223</td>\n      <td>2.969315</td>\n      <td>poor</td>\n      <td>5500000</td>\n    </tr>\n    <tr>\n      <th>...</th>\n      <td>...</td>\n      <td>...</td>\n      <td>...</td>\n      <td>...</td>\n      <td>...</td>\n      <td>...</td>\n      <td>...</td>\n      <td>...</td>\n      <td>...</td>\n      <td>...</td>\n      <td>...</td>\n      <td>...</td>\n      <td>...</td>\n      <td>...</td>\n      <td>...</td>\n      <td>...</td>\n      <td>...</td>\n      <td>...</td>\n      <td>...</td>\n      <td>...</td>\n      <td>...</td>\n    </tr>\n    <tr>\n      <th>30461</th>\n      <td>30466</td>\n      <td>56</td>\n      <td>29.0</td>\n      <td>13.0</td>\n      <td>Severnoe Tushino</td>\n      <td>4116.0</td>\n      <td>5</td>\n      <td>9891.0</td>\n      <td>5</td>\n      <td>0</td>\n      <td>...</td>\n      <td>0.232778</td>\n      <td>1.491458</td>\n      <td>0.648281</td>\n      <td>0.193474</td>\n      <td>0.283044</td>\n      <td>2.040548</td>\n      <td>23.720332</td>\n      <td>12.198090</td>\n      <td>satisfactory</td>\n      <td>12000000</td>\n    </tr>\n    <tr>\n      <th>30462</th>\n      <td>30467</td>\n      <td>56</td>\n      <td>51.0</td>\n      <td>19.0</td>\n      <td>Sviblovo</td>\n      <td>2057.0</td>\n      <td>1</td>\n      <td>3741.0</td>\n      <td>2</td>\n      <td>0</td>\n      <td>...</td>\n      <td>0.187828</td>\n      <td>0.969990</td>\n      <td>0.510751</td>\n      <td>0.566309</td>\n      <td>1.261711</td>\n      <td>0.532268</td>\n      <td>3.672399</td>\n      <td>2.988268</td>\n      <td>poor</td>\n      <td>10262010</td>\n    </tr>\n    <tr>\n      <th>30465</th>\n      <td>30470</td>\n      <td>86</td>\n      <td>59.0</td>\n      <td>3.0</td>\n      <td>Tverskoe</td>\n      <td>1874.0</td>\n      <td>4</td>\n      <td>6772.0</td>\n      <td>4</td>\n      <td>1</td>\n      <td>...</td>\n      <td>0.540003</td>\n      <td>0.069986</td>\n      <td>0.086552</td>\n      <td>0.362681</td>\n      <td>0.850385</td>\n      <td>0.310021</td>\n      <td>0.778428</td>\n      <td>1.450108</td>\n      <td>poor</td>\n      <td>25000000</td>\n    </tr>\n    <tr>\n      <th>30467</th>\n      <td>30472</td>\n      <td>64</td>\n      <td>32.0</td>\n      <td>5.0</td>\n      <td>Obruchevskoe</td>\n      <td>2372.0</td>\n      <td>6</td>\n      <td>6083.0</td>\n      <td>8</td>\n      <td>0</td>\n      <td>...</td>\n      <td>1.108672</td>\n      <td>1.204798</td>\n      <td>1.340017</td>\n      <td>0.130667</td>\n      <td>1.644053</td>\n      <td>0.476021</td>\n      <td>2.088193</td>\n      <td>4.119706</td>\n      <td>satisfactory</td>\n      <td>13500000</td>\n    </tr>\n    <tr>\n      <th>30468</th>\n      <td>30473</td>\n      <td>43</td>\n      <td>28.0</td>\n      <td>1.0</td>\n      <td>Novogireevo</td>\n      <td>2215.0</td>\n      <td>4</td>\n      <td>5824.0</td>\n      <td>4</td>\n      <td>0</td>\n      <td>...</td>\n      <td>0.224601</td>\n      <td>2.108265</td>\n      <td>0.825811</td>\n      <td>0.378950</td>\n      <td>0.480531</td>\n      <td>0.867332</td>\n      <td>0.688707</td>\n      <td>0.127867</td>\n      <td>poor</td>\n      <td>5600000</td>\n    </tr>\n  </tbody>\n</table>\n<p>13652 rows × 56 columns</p>\n</div>"
     },
     "metadata": {},
     "execution_count": 71
    }
   ],
   "source": [
    "data.dropna()"
   ]
  },
  {
   "cell_type": "code",
   "execution_count": 73,
   "metadata": {},
   "outputs": [
    {
     "output_type": "execute_result",
     "data": {
      "text/plain": [
       "array([[0.33333333, 1.        ,        nan],\n",
       "       [1.        ,        nan, 1.        ],\n",
       "       [0.        , 0.        , 0.        ]])"
      ]
     },
     "metadata": {},
     "execution_count": 73
    }
   ],
   "source": [
    "from sklearn.preprocessing import MinMaxScaler\n",
    "scaler = MinMaxScaler()\n",
    "scaler.fit_transform(test_data)"
   ]
  },
  {
   "cell_type": "code",
   "execution_count": 74,
   "metadata": {},
   "outputs": [
    {
     "output_type": "execute_result",
     "data": {
      "text/plain": [
       "array([[-0.26726124,  1.        ,         nan],\n",
       "       [ 1.33630621,         nan,  1.        ],\n",
       "       [-1.06904497, -1.        , -1.        ]])"
      ]
     },
     "metadata": {},
     "execution_count": 74
    }
   ],
   "source": [
    "from sklearn.preprocessing import StandardScaler\n",
    "scaler = StandardScaler()\n",
    "scaler.fit_transform(test_data)"
   ]
  },
  {
   "cell_type": "code",
   "execution_count": 75,
   "metadata": {},
   "outputs": [
    {
     "output_type": "execute_result",
     "data": {
      "text/plain": [
       "   two  three\n",
       "0  2.0    NaN\n",
       "1  NaN    4.0\n",
       "2  1.0    2.0"
      ],
      "text/html": "<div>\n<style scoped>\n    .dataframe tbody tr th:only-of-type {\n        vertical-align: middle;\n    }\n\n    .dataframe tbody tr th {\n        vertical-align: top;\n    }\n\n    .dataframe thead th {\n        text-align: right;\n    }\n</style>\n<table border=\"1\" class=\"dataframe\">\n  <thead>\n    <tr style=\"text-align: right;\">\n      <th></th>\n      <th>two</th>\n      <th>three</th>\n    </tr>\n  </thead>\n  <tbody>\n    <tr>\n      <th>0</th>\n      <td>2.0</td>\n      <td>NaN</td>\n    </tr>\n    <tr>\n      <th>1</th>\n      <td>NaN</td>\n      <td>4.0</td>\n    </tr>\n    <tr>\n      <th>2</th>\n      <td>1.0</td>\n      <td>2.0</td>\n    </tr>\n  </tbody>\n</table>\n</div>"
     },
     "metadata": {},
     "execution_count": 75
    }
   ],
   "source": [
    "test_data.drop('one', axis=1)"
   ]
  },
  {
   "cell_type": "code",
   "execution_count": 95,
   "metadata": {},
   "outputs": [
    {
     "output_type": "execute_result",
     "data": {
      "text/plain": [
       "-13.147334652567258"
      ]
     },
     "metadata": {},
     "execution_count": 95
    }
   ],
   "source": [
    "reshaped = vis_data.balance_due.values.reshape(-1,1)\n",
    "scaler = StandardScaler()\n",
    "scaler.fit_transform(reshaped).min()"
   ]
  },
  {
   "cell_type": "code",
   "execution_count": 103,
   "metadata": {},
   "outputs": [
    {
     "output_type": "execute_result",
     "data": {
      "text/plain": [
       "(0         17.464249\n",
       " 1          8.660254\n",
       " 5         17.464249\n",
       " 6         29.240383\n",
       " 7         11.832160\n",
       "             ...    \n",
       " 250277    24.083189\n",
       " 250278    15.811388\n",
       " 250287    33.615473\n",
       " 250288    24.083189\n",
       " 250293    15.811388\n",
       " Name: balance_due, Length: 137678, dtype: float64,\n",
       " 305.0)"
      ]
     },
     "metadata": {},
     "execution_count": 103
    }
   ],
   "source": [
    "sqrt = np.sqrt(vis_data[vis_data.balance_due > 0].balance_due)\n",
    "sqrt"
   ]
  },
  {
   "cell_type": "code",
   "execution_count": 108,
   "metadata": {},
   "outputs": [
    {
     "output_type": "execute_result",
     "data": {
      "text/plain": [
       "17.46424919657298"
      ]
     },
     "metadata": {},
     "execution_count": 108
    }
   ],
   "source": [
    "med = sqrt.median()\n",
    "med"
   ]
  },
  {
   "cell_type": "code",
   "execution_count": 107,
   "metadata": {},
   "outputs": [
    {
     "output_type": "execute_result",
     "data": {
      "text/plain": [
       "17.011653135663007"
      ]
     },
     "metadata": {},
     "execution_count": 107
    }
   ],
   "source": [
    "men = sqrt.mean()\n",
    "men"
   ]
  },
  {
   "cell_type": "code",
   "execution_count": 110,
   "metadata": {},
   "outputs": [
    {
     "output_type": "execute_result",
     "data": {
      "text/plain": [
       "0.45259606090997195"
      ]
     },
     "metadata": {},
     "execution_count": 110
    }
   ],
   "source": [
    "np.abs(men-med)"
   ]
  },
  {
   "cell_type": "code",
   "execution_count": 112,
   "metadata": {},
   "outputs": [
    {
     "output_type": "execute_result",
     "data": {
      "text/plain": [
       "                                  address        lat        lon\n",
       "0  4300 rosa parks blvd, Detroit MI 48208  42.346169 -83.079962\n",
       "1                14512 sussex, Detroit MI  42.394657 -83.194265\n",
       "2                3456 garland, Detroit MI  42.373779 -82.986228\n",
       "3                5787 wayburn, Detroit MI  42.403342 -82.957805\n",
       "4              5766 haverhill, Detroit MI  42.407255 -82.946295"
      ],
      "text/html": "<div>\n<style scoped>\n    .dataframe tbody tr th:only-of-type {\n        vertical-align: middle;\n    }\n\n    .dataframe tbody tr th {\n        vertical-align: top;\n    }\n\n    .dataframe thead th {\n        text-align: right;\n    }\n</style>\n<table border=\"1\" class=\"dataframe\">\n  <thead>\n    <tr style=\"text-align: right;\">\n      <th></th>\n      <th>address</th>\n      <th>lat</th>\n      <th>lon</th>\n    </tr>\n  </thead>\n  <tbody>\n    <tr>\n      <th>0</th>\n      <td>4300 rosa parks blvd, Detroit MI 48208</td>\n      <td>42.346169</td>\n      <td>-83.079962</td>\n    </tr>\n    <tr>\n      <th>1</th>\n      <td>14512 sussex, Detroit MI</td>\n      <td>42.394657</td>\n      <td>-83.194265</td>\n    </tr>\n    <tr>\n      <th>2</th>\n      <td>3456 garland, Detroit MI</td>\n      <td>42.373779</td>\n      <td>-82.986228</td>\n    </tr>\n    <tr>\n      <th>3</th>\n      <td>5787 wayburn, Detroit MI</td>\n      <td>42.403342</td>\n      <td>-82.957805</td>\n    </tr>\n    <tr>\n      <th>4</th>\n      <td>5766 haverhill, Detroit MI</td>\n      <td>42.407255</td>\n      <td>-82.946295</td>\n    </tr>\n  </tbody>\n</table>\n</div>"
     },
     "metadata": {},
     "execution_count": 112
    }
   ],
   "source": [
    "latlon = pd.read_csv('latlons.csv',sep=\",\")\n",
    "latlon.head()"
   ]
  },
  {
   "cell_type": "code",
   "execution_count": 123,
   "metadata": {},
   "outputs": [
    {
     "output_type": "execute_result",
     "data": {
      "text/plain": [
       "Poselenie Sosenskoe               1776\n",
       "Nekrasovka                        1611\n",
       "Poselenie Vnukovskoe              1372\n",
       "Poselenie Moskovskij               925\n",
       "Poselenie Voskresenskoe            713\n",
       "                                  ... \n",
       "Molzhaninovskoe                      3\n",
       "Poselenie Shhapovskoe                2\n",
       "Poselenie Kievskij                   2\n",
       "Poselenie Mihajlovo-Jarcevskoe       1\n",
       "Poselenie Klenovskoe                 1\n",
       "Name: sub_area, Length: 146, dtype: int64"
      ]
     },
     "metadata": {},
     "execution_count": 123
    }
   ],
   "source": [
    "# data.info()\n",
    "data[['sub_area','price_doc']].sub_area.value_counts()"
   ]
  },
  {
   "cell_type": "code",
   "execution_count": 134,
   "metadata": {},
   "outputs": [
    {
     "output_type": "execute_result",
     "data": {
      "text/plain": [
       "          id  full_sq  life_sq  floor     sub_area  preschool_quota  \\\n",
       "4          5       77     77.0    4.0    Basmannoe           3240.0   \n",
       "14        15       31     21.0    3.0    Lefortovo           1768.0   \n",
       "28        29       73     38.0   15.0  Bogorodskoe           3107.0   \n",
       "56        57       56     39.0    4.0  Bogorodskoe           3107.0   \n",
       "83        84       66     42.0    7.0    Basmannoe           3240.0   \n",
       "...      ...      ...      ...    ...          ...              ...   \n",
       "30254  30259       45     28.0   11.0       Perovo           2232.0   \n",
       "30331  30336       38     19.0    6.0    Lefortovo           1768.0   \n",
       "30401  30406       61     34.0    9.0    Lefortovo           1768.0   \n",
       "30438  30443       99     47.0    4.0    Basmannoe           3240.0   \n",
       "30452  30457       40     26.0    3.0  Bogorodskoe           3107.0   \n",
       "\n",
       "       preschool_education_centers_raion  school_quota  \\\n",
       "4                                      7        7770.0   \n",
       "14                                     4        4564.0   \n",
       "28                                     7        7277.0   \n",
       "56                                     7        7277.0   \n",
       "83                                     7        7770.0   \n",
       "...                                  ...           ...   \n",
       "30254                                  7        7966.0   \n",
       "30331                                  4        4564.0   \n",
       "30401                                  4        4564.0   \n",
       "30438                                  7        7770.0   \n",
       "30452                                  7        7277.0   \n",
       "\n",
       "       school_education_centers_raion  school_education_centers_top_20_raion  \\\n",
       "4                                   9                                      0   \n",
       "14                                  4                                      0   \n",
       "28                                  9                                      0   \n",
       "56                                  9                                      0   \n",
       "83                                  9                                      0   \n",
       "...                               ...                                    ...   \n",
       "30254                               7                                      0   \n",
       "30331                               4                                      0   \n",
       "30401                               4                                      0   \n",
       "30438                               9                                      0   \n",
       "30452                               9                                      0   \n",
       "\n",
       "       ...  shopping_centers_km  office_km  additional_education_km  \\\n",
       "4      ...             0.429052   0.077901                 0.810801   \n",
       "14     ...             0.600306   0.317270                 1.028406   \n",
       "28     ...             1.058810   1.058810                 0.260442   \n",
       "56     ...             0.378096   0.512312                 0.653392   \n",
       "83     ...             0.555870   0.360334                 1.040341   \n",
       "...    ...                  ...        ...                      ...   \n",
       "30254  ...             0.803504   1.934090                 1.255926   \n",
       "30331  ...             0.505760   0.137365                 1.575609   \n",
       "30401  ...             0.721847   0.424573                 0.543295   \n",
       "30438  ...             0.638671   0.096033                 1.288612   \n",
       "30452  ...             1.092723   1.286114                 0.733354   \n",
       "\n",
       "       preschool_km  big_church_km  church_synagogue_km  theater_km  \\\n",
       "4          0.376838       0.378756             0.121681    1.112486   \n",
       "14         0.797255       1.510980             0.751314    2.883608   \n",
       "28         0.307315       1.153278             0.438261    4.161080   \n",
       "56         0.233796       1.715970             0.967472    5.197710   \n",
       "83         1.175502       0.835839             0.640938    1.869625   \n",
       "...             ...            ...                  ...         ...   \n",
       "30254      0.432873       0.445659             0.717433    2.114681   \n",
       "30331      0.885490       0.534745             0.688450    2.350280   \n",
       "30401      0.878811       0.189361             0.190215    2.179935   \n",
       "30438      0.304934       0.180359             0.125858    0.936224   \n",
       "30452      0.152964       1.442666             1.440081    4.675517   \n",
       "\n",
       "       museum_km    ecology  price_doc  \n",
       "4       1.800125  excellent   16331452  \n",
       "14      1.895468       poor    5000000  \n",
       "28      4.513773       poor    8254400  \n",
       "56      5.253872       poor    2000000  \n",
       "83      0.700781       poor     990000  \n",
       "...          ...        ...        ...  \n",
       "30254   0.983895       poor    6900000  \n",
       "30331   2.040573  excellent    6800000  \n",
       "30401   0.685291       poor    2000000  \n",
       "30438   1.324667  excellent   10000000  \n",
       "30452   5.438659       poor    6300000  \n",
       "\n",
       "[769 rows x 56 columns]"
      ],
      "text/html": "<div>\n<style scoped>\n    .dataframe tbody tr th:only-of-type {\n        vertical-align: middle;\n    }\n\n    .dataframe tbody tr th {\n        vertical-align: top;\n    }\n\n    .dataframe thead th {\n        text-align: right;\n    }\n</style>\n<table border=\"1\" class=\"dataframe\">\n  <thead>\n    <tr style=\"text-align: right;\">\n      <th></th>\n      <th>id</th>\n      <th>full_sq</th>\n      <th>life_sq</th>\n      <th>floor</th>\n      <th>sub_area</th>\n      <th>preschool_quota</th>\n      <th>preschool_education_centers_raion</th>\n      <th>school_quota</th>\n      <th>school_education_centers_raion</th>\n      <th>school_education_centers_top_20_raion</th>\n      <th>...</th>\n      <th>shopping_centers_km</th>\n      <th>office_km</th>\n      <th>additional_education_km</th>\n      <th>preschool_km</th>\n      <th>big_church_km</th>\n      <th>church_synagogue_km</th>\n      <th>theater_km</th>\n      <th>museum_km</th>\n      <th>ecology</th>\n      <th>price_doc</th>\n    </tr>\n  </thead>\n  <tbody>\n    <tr>\n      <th>4</th>\n      <td>5</td>\n      <td>77</td>\n      <td>77.0</td>\n      <td>4.0</td>\n      <td>Basmannoe</td>\n      <td>3240.0</td>\n      <td>7</td>\n      <td>7770.0</td>\n      <td>9</td>\n      <td>0</td>\n      <td>...</td>\n      <td>0.429052</td>\n      <td>0.077901</td>\n      <td>0.810801</td>\n      <td>0.376838</td>\n      <td>0.378756</td>\n      <td>0.121681</td>\n      <td>1.112486</td>\n      <td>1.800125</td>\n      <td>excellent</td>\n      <td>16331452</td>\n    </tr>\n    <tr>\n      <th>14</th>\n      <td>15</td>\n      <td>31</td>\n      <td>21.0</td>\n      <td>3.0</td>\n      <td>Lefortovo</td>\n      <td>1768.0</td>\n      <td>4</td>\n      <td>4564.0</td>\n      <td>4</td>\n      <td>0</td>\n      <td>...</td>\n      <td>0.600306</td>\n      <td>0.317270</td>\n      <td>1.028406</td>\n      <td>0.797255</td>\n      <td>1.510980</td>\n      <td>0.751314</td>\n      <td>2.883608</td>\n      <td>1.895468</td>\n      <td>poor</td>\n      <td>5000000</td>\n    </tr>\n    <tr>\n      <th>28</th>\n      <td>29</td>\n      <td>73</td>\n      <td>38.0</td>\n      <td>15.0</td>\n      <td>Bogorodskoe</td>\n      <td>3107.0</td>\n      <td>7</td>\n      <td>7277.0</td>\n      <td>9</td>\n      <td>0</td>\n      <td>...</td>\n      <td>1.058810</td>\n      <td>1.058810</td>\n      <td>0.260442</td>\n      <td>0.307315</td>\n      <td>1.153278</td>\n      <td>0.438261</td>\n      <td>4.161080</td>\n      <td>4.513773</td>\n      <td>poor</td>\n      <td>8254400</td>\n    </tr>\n    <tr>\n      <th>56</th>\n      <td>57</td>\n      <td>56</td>\n      <td>39.0</td>\n      <td>4.0</td>\n      <td>Bogorodskoe</td>\n      <td>3107.0</td>\n      <td>7</td>\n      <td>7277.0</td>\n      <td>9</td>\n      <td>0</td>\n      <td>...</td>\n      <td>0.378096</td>\n      <td>0.512312</td>\n      <td>0.653392</td>\n      <td>0.233796</td>\n      <td>1.715970</td>\n      <td>0.967472</td>\n      <td>5.197710</td>\n      <td>5.253872</td>\n      <td>poor</td>\n      <td>2000000</td>\n    </tr>\n    <tr>\n      <th>83</th>\n      <td>84</td>\n      <td>66</td>\n      <td>42.0</td>\n      <td>7.0</td>\n      <td>Basmannoe</td>\n      <td>3240.0</td>\n      <td>7</td>\n      <td>7770.0</td>\n      <td>9</td>\n      <td>0</td>\n      <td>...</td>\n      <td>0.555870</td>\n      <td>0.360334</td>\n      <td>1.040341</td>\n      <td>1.175502</td>\n      <td>0.835839</td>\n      <td>0.640938</td>\n      <td>1.869625</td>\n      <td>0.700781</td>\n      <td>poor</td>\n      <td>990000</td>\n    </tr>\n    <tr>\n      <th>...</th>\n      <td>...</td>\n      <td>...</td>\n      <td>...</td>\n      <td>...</td>\n      <td>...</td>\n      <td>...</td>\n      <td>...</td>\n      <td>...</td>\n      <td>...</td>\n      <td>...</td>\n      <td>...</td>\n      <td>...</td>\n      <td>...</td>\n      <td>...</td>\n      <td>...</td>\n      <td>...</td>\n      <td>...</td>\n      <td>...</td>\n      <td>...</td>\n      <td>...</td>\n      <td>...</td>\n    </tr>\n    <tr>\n      <th>30254</th>\n      <td>30259</td>\n      <td>45</td>\n      <td>28.0</td>\n      <td>11.0</td>\n      <td>Perovo</td>\n      <td>2232.0</td>\n      <td>7</td>\n      <td>7966.0</td>\n      <td>7</td>\n      <td>0</td>\n      <td>...</td>\n      <td>0.803504</td>\n      <td>1.934090</td>\n      <td>1.255926</td>\n      <td>0.432873</td>\n      <td>0.445659</td>\n      <td>0.717433</td>\n      <td>2.114681</td>\n      <td>0.983895</td>\n      <td>poor</td>\n      <td>6900000</td>\n    </tr>\n    <tr>\n      <th>30331</th>\n      <td>30336</td>\n      <td>38</td>\n      <td>19.0</td>\n      <td>6.0</td>\n      <td>Lefortovo</td>\n      <td>1768.0</td>\n      <td>4</td>\n      <td>4564.0</td>\n      <td>4</td>\n      <td>0</td>\n      <td>...</td>\n      <td>0.505760</td>\n      <td>0.137365</td>\n      <td>1.575609</td>\n      <td>0.885490</td>\n      <td>0.534745</td>\n      <td>0.688450</td>\n      <td>2.350280</td>\n      <td>2.040573</td>\n      <td>excellent</td>\n      <td>6800000</td>\n    </tr>\n    <tr>\n      <th>30401</th>\n      <td>30406</td>\n      <td>61</td>\n      <td>34.0</td>\n      <td>9.0</td>\n      <td>Lefortovo</td>\n      <td>1768.0</td>\n      <td>4</td>\n      <td>4564.0</td>\n      <td>4</td>\n      <td>0</td>\n      <td>...</td>\n      <td>0.721847</td>\n      <td>0.424573</td>\n      <td>0.543295</td>\n      <td>0.878811</td>\n      <td>0.189361</td>\n      <td>0.190215</td>\n      <td>2.179935</td>\n      <td>0.685291</td>\n      <td>poor</td>\n      <td>2000000</td>\n    </tr>\n    <tr>\n      <th>30438</th>\n      <td>30443</td>\n      <td>99</td>\n      <td>47.0</td>\n      <td>4.0</td>\n      <td>Basmannoe</td>\n      <td>3240.0</td>\n      <td>7</td>\n      <td>7770.0</td>\n      <td>9</td>\n      <td>0</td>\n      <td>...</td>\n      <td>0.638671</td>\n      <td>0.096033</td>\n      <td>1.288612</td>\n      <td>0.304934</td>\n      <td>0.180359</td>\n      <td>0.125858</td>\n      <td>0.936224</td>\n      <td>1.324667</td>\n      <td>excellent</td>\n      <td>10000000</td>\n    </tr>\n    <tr>\n      <th>30452</th>\n      <td>30457</td>\n      <td>40</td>\n      <td>26.0</td>\n      <td>3.0</td>\n      <td>Bogorodskoe</td>\n      <td>3107.0</td>\n      <td>7</td>\n      <td>7277.0</td>\n      <td>9</td>\n      <td>0</td>\n      <td>...</td>\n      <td>1.092723</td>\n      <td>1.286114</td>\n      <td>0.733354</td>\n      <td>0.152964</td>\n      <td>1.442666</td>\n      <td>1.440081</td>\n      <td>4.675517</td>\n      <td>5.438659</td>\n      <td>poor</td>\n      <td>6300000</td>\n    </tr>\n  </tbody>\n</table>\n<p>769 rows × 56 columns</p>\n</div>"
     },
     "metadata": {},
     "execution_count": 134
    }
   ],
   "source": [
    "import seaborn as sns\n",
    "areas = ['Lefortovo','Basmannoe','Perovo','Bogorodskoe']\n",
    "filtered = data[data.sub_area.isin(areas)]\n",
    "sns.boxplot(x='sub_area', y='price_doc', data=filtered)"
   ]
  },
  {
   "cell_type": "code",
   "execution_count": 13,
   "metadata": {},
   "outputs": [
    {
     "output_type": "execute_result",
     "data": {
      "text/plain": [
       "   ticket_id                                     agency_name  \\\n",
       "0      22056  Buildings, Safety Engineering & Env Department   \n",
       "1      27586  Buildings, Safety Engineering & Env Department   \n",
       "2      22062  Buildings, Safety Engineering & Env Department   \n",
       "3      22084  Buildings, Safety Engineering & Env Department   \n",
       "4      22093  Buildings, Safety Engineering & Env Department   \n",
       "\n",
       "     inspector_name                      violator_name  \\\n",
       "0   Sims, Martinzie  INVESTMENT INC., MIDWEST MORTGAGE   \n",
       "1  Williams, Darrin           Michigan, Covenant House   \n",
       "2   Sims, Martinzie                    SANDERS, DERRON   \n",
       "3   Sims, Martinzie                       MOROSI, MIKE   \n",
       "4   Sims, Martinzie                    NATHANIEL, NEAL   \n",
       "\n",
       "   violation_street_number violation_street_name  mailing_address_str_number  \\\n",
       "0                   2900.0                 TYLER                         3.0   \n",
       "1                   4311.0               CENTRAL                      2959.0   \n",
       "2                   1449.0            LONGFELLOW                     23658.0   \n",
       "3                   1441.0            LONGFELLOW                         5.0   \n",
       "4                   2449.0             CHURCHILL                      7449.0   \n",
       "\n",
       "  mailing_address_str_name     city state  ... balance_due  \\\n",
       "0                S. WICKER  CHICAGO    IL  ...       305.0   \n",
       "1       Martin Luther King  Detroit    MI  ...        75.0   \n",
       "2                 P.O. BOX  DETROIT    MI  ...         0.0   \n",
       "3                ST. CLAIR  DETROIT    MI  ...         0.0   \n",
       "4                CHURCHILL  DETROIT    MI  ...         0.0   \n",
       "\n",
       "          payment_date      payment_status collection_status grafitti_status  \\\n",
       "0                  NaN  NO PAYMENT APPLIED               NaN             NaN   \n",
       "1  2005-06-02 00:00:00        PAID IN FULL               NaN             NaN   \n",
       "2                  NaN  NO PAYMENT APPLIED               NaN             NaN   \n",
       "3                  NaN  NO PAYMENT APPLIED               NaN             NaN   \n",
       "4                  NaN  NO PAYMENT APPLIED               NaN             NaN   \n",
       "\n",
       "                          compliance_detail compliance  \\\n",
       "0               non-compliant by no payment        0.0   \n",
       "1  compliant by late payment within 1 month        1.0   \n",
       "2            not responsible by disposition        NaN   \n",
       "3            not responsible by disposition        NaN   \n",
       "4            not responsible by disposition        NaN   \n",
       "\n",
       "                                  address        lat        lon  \n",
       "0  4300 rosa parks blvd, Detroit MI 48208  42.346169 -83.079962  \n",
       "1                14512 sussex, Detroit MI  42.394657 -83.194265  \n",
       "2                3456 garland, Detroit MI  42.373779 -82.986228  \n",
       "3                5787 wayburn, Detroit MI  42.403342 -82.957805  \n",
       "4              5766 haverhill, Detroit MI  42.407255 -82.946295  \n",
       "\n",
       "[5 rows x 35 columns]"
      ],
      "text/html": "<div>\n<style scoped>\n    .dataframe tbody tr th:only-of-type {\n        vertical-align: middle;\n    }\n\n    .dataframe tbody tr th {\n        vertical-align: top;\n    }\n\n    .dataframe thead th {\n        text-align: right;\n    }\n</style>\n<table border=\"1\" class=\"dataframe\">\n  <thead>\n    <tr style=\"text-align: right;\">\n      <th></th>\n      <th>ticket_id</th>\n      <th>agency_name</th>\n      <th>inspector_name</th>\n      <th>violator_name</th>\n      <th>violation_street_number</th>\n      <th>violation_street_name</th>\n      <th>mailing_address_str_number</th>\n      <th>mailing_address_str_name</th>\n      <th>city</th>\n      <th>state</th>\n      <th>...</th>\n      <th>balance_due</th>\n      <th>payment_date</th>\n      <th>payment_status</th>\n      <th>collection_status</th>\n      <th>grafitti_status</th>\n      <th>compliance_detail</th>\n      <th>compliance</th>\n      <th>address</th>\n      <th>lat</th>\n      <th>lon</th>\n    </tr>\n  </thead>\n  <tbody>\n    <tr>\n      <th>0</th>\n      <td>22056</td>\n      <td>Buildings, Safety Engineering &amp; Env Department</td>\n      <td>Sims, Martinzie</td>\n      <td>INVESTMENT INC., MIDWEST MORTGAGE</td>\n      <td>2900.0</td>\n      <td>TYLER</td>\n      <td>3.0</td>\n      <td>S. WICKER</td>\n      <td>CHICAGO</td>\n      <td>IL</td>\n      <td>...</td>\n      <td>305.0</td>\n      <td>NaN</td>\n      <td>NO PAYMENT APPLIED</td>\n      <td>NaN</td>\n      <td>NaN</td>\n      <td>non-compliant by no payment</td>\n      <td>0.0</td>\n      <td>4300 rosa parks blvd, Detroit MI 48208</td>\n      <td>42.346169</td>\n      <td>-83.079962</td>\n    </tr>\n    <tr>\n      <th>1</th>\n      <td>27586</td>\n      <td>Buildings, Safety Engineering &amp; Env Department</td>\n      <td>Williams, Darrin</td>\n      <td>Michigan, Covenant House</td>\n      <td>4311.0</td>\n      <td>CENTRAL</td>\n      <td>2959.0</td>\n      <td>Martin Luther King</td>\n      <td>Detroit</td>\n      <td>MI</td>\n      <td>...</td>\n      <td>75.0</td>\n      <td>2005-06-02 00:00:00</td>\n      <td>PAID IN FULL</td>\n      <td>NaN</td>\n      <td>NaN</td>\n      <td>compliant by late payment within 1 month</td>\n      <td>1.0</td>\n      <td>14512 sussex, Detroit MI</td>\n      <td>42.394657</td>\n      <td>-83.194265</td>\n    </tr>\n    <tr>\n      <th>2</th>\n      <td>22062</td>\n      <td>Buildings, Safety Engineering &amp; Env Department</td>\n      <td>Sims, Martinzie</td>\n      <td>SANDERS, DERRON</td>\n      <td>1449.0</td>\n      <td>LONGFELLOW</td>\n      <td>23658.0</td>\n      <td>P.O. BOX</td>\n      <td>DETROIT</td>\n      <td>MI</td>\n      <td>...</td>\n      <td>0.0</td>\n      <td>NaN</td>\n      <td>NO PAYMENT APPLIED</td>\n      <td>NaN</td>\n      <td>NaN</td>\n      <td>not responsible by disposition</td>\n      <td>NaN</td>\n      <td>3456 garland, Detroit MI</td>\n      <td>42.373779</td>\n      <td>-82.986228</td>\n    </tr>\n    <tr>\n      <th>3</th>\n      <td>22084</td>\n      <td>Buildings, Safety Engineering &amp; Env Department</td>\n      <td>Sims, Martinzie</td>\n      <td>MOROSI, MIKE</td>\n      <td>1441.0</td>\n      <td>LONGFELLOW</td>\n      <td>5.0</td>\n      <td>ST. CLAIR</td>\n      <td>DETROIT</td>\n      <td>MI</td>\n      <td>...</td>\n      <td>0.0</td>\n      <td>NaN</td>\n      <td>NO PAYMENT APPLIED</td>\n      <td>NaN</td>\n      <td>NaN</td>\n      <td>not responsible by disposition</td>\n      <td>NaN</td>\n      <td>5787 wayburn, Detroit MI</td>\n      <td>42.403342</td>\n      <td>-82.957805</td>\n    </tr>\n    <tr>\n      <th>4</th>\n      <td>22093</td>\n      <td>Buildings, Safety Engineering &amp; Env Department</td>\n      <td>Sims, Martinzie</td>\n      <td>NATHANIEL, NEAL</td>\n      <td>2449.0</td>\n      <td>CHURCHILL</td>\n      <td>7449.0</td>\n      <td>CHURCHILL</td>\n      <td>DETROIT</td>\n      <td>MI</td>\n      <td>...</td>\n      <td>0.0</td>\n      <td>NaN</td>\n      <td>NO PAYMENT APPLIED</td>\n      <td>NaN</td>\n      <td>NaN</td>\n      <td>not responsible by disposition</td>\n      <td>NaN</td>\n      <td>5766 haverhill, Detroit MI</td>\n      <td>42.407255</td>\n      <td>-82.946295</td>\n    </tr>\n  </tbody>\n</table>\n<p>5 rows × 35 columns</p>\n</div>"
     },
     "metadata": {},
     "execution_count": 13
    }
   ],
   "source": [
    "import numpy as np\n",
    "import pandas as pd\n",
    "%matplotlib inline\n",
    "\n",
    "vis_data = pd.read_csv(\"./train.csv\", \n",
    "                       encoding = 'ISO-8859-1', \n",
    "                       low_memory = False)\n",
    "vis_data = vis_data.drop(['violation_zip_code', 'clean_up_cost'], axis=1)\n",
    "latlons = pd.read_csv(\"./latlons.csv\")\n",
    "vis_data = pd.concat([vis_data, latlons], axis=1)\n",
    "vis_data.head()"
   ]
  },
  {
   "cell_type": "code",
   "execution_count": 14,
   "metadata": {},
   "outputs": [
    {
     "output_type": "execute_result",
     "data": {
      "text/plain": [
       "(250306, 6)"
      ]
     },
     "metadata": {},
     "execution_count": 14
    }
   ],
   "source": [
    "from sklearn.preprocessing import PolynomialFeatures\n",
    "\n",
    "pf = PolynomialFeatures(2)\n",
    "poly_features = pf.fit_transform(vis_data[['balance_due', 'payment_amount']])\n",
    "poly_features\n",
    "poly_features.shape"
   ]
  },
  {
   "cell_type": "code",
   "execution_count": 15,
   "metadata": {},
   "outputs": [
    {
     "output_type": "execute_result",
     "data": {
      "text/plain": [
       "(250306, 59)"
      ]
     },
     "metadata": {},
     "execution_count": 15
    }
   ],
   "source": [
    "pd.get_dummies(vis_data.state).shape"
   ]
  },
  {
   "cell_type": "code",
   "execution_count": 16,
   "metadata": {},
   "outputs": [
    {
     "output_type": "execute_result",
     "data": {
      "text/plain": [
       "1    2005-06-02\n",
       "11   2005-03-17\n",
       "15   2005-02-11\n",
       "18   2005-03-18\n",
       "19   2005-03-18\n",
       "Name: payment_date, dtype: datetime64[ns]"
      ]
     },
     "metadata": {},
     "execution_count": 16
    }
   ],
   "source": [
    "datetime_vals = pd.to_datetime(vis_data.payment_date.dropna())\n",
    "datetime_vals.head()"
   ]
  },
  {
   "cell_type": "code",
   "execution_count": 17,
   "metadata": {},
   "outputs": [
    {
     "output_type": "execute_result",
     "data": {
      "text/plain": [
       "6"
      ]
     },
     "metadata": {},
     "execution_count": 17
    }
   ],
   "source": [
    "datetime_vals[1].month"
   ]
  },
  {
   "cell_type": "code",
   "execution_count": 21,
   "metadata": {},
   "outputs": [
    {
     "output_type": "execute_result",
     "data": {
      "text/plain": [
       "0           0.0\n",
       "1         780.0\n",
       "2           0.0\n",
       "3           0.0\n",
       "4           0.0\n",
       "          ...  \n",
       "250301      0.0\n",
       "250302      0.0\n",
       "250303      0.0\n",
       "250304      0.0\n",
       "250305      0.0\n",
       "Name: payment_amount, Length: 250306, dtype: float64"
      ]
     },
     "metadata": {},
     "execution_count": 21
    }
   ],
   "source": [
    "vis_data.payment_amount"
   ]
  },
  {
   "cell_type": "code",
   "execution_count": 71,
   "metadata": {},
   "outputs": [
    {
     "output_type": "execute_result",
     "data": {
      "text/plain": [
       "1371932"
      ]
     },
     "metadata": {},
     "execution_count": 71
    }
   ],
   "source": [
    "from sklearn.preprocessing import PolynomialFeatures\n",
    "pf = PolynomialFeatures(3, include_bias=False)\n",
    "poly_features = pf.fit_transform(vis_data[['balance_due', 'payment_amount']])\n",
    "feature_names = pf.get_feature_names(['balance_due', 'payment_amount'])\n",
    "means = [np.mean(x) for x in poly_features]\n",
    "means\n",
    "poly_features.argmax()"
   ]
  },
  {
   "cell_type": "code",
   "execution_count": 73,
   "metadata": {},
   "outputs": [
    {
     "output_type": "stream",
     "name": "stdout",
     "text": [
      "1620\n"
     ]
    }
   ],
   "source": [
    "date = pd.to_datetime(vis_data.ticket_issued_date.dropna())\n",
    "k = 0\n",
    "for i in range(0,len(date)):\n",
    "    if date[i].weekday() > 4:\n",
    "        k +=1\n",
    "print(k)"
   ]
  },
  {
   "cell_type": "code",
   "execution_count": 80,
   "metadata": {},
   "outputs": [
    {
     "output_type": "execute_result",
     "data": {
      "text/plain": [
       "0        3\n",
       "1        4\n",
       "2        1\n",
       "3        3\n",
       "4        4\n",
       "        ..\n",
       "30464    3\n",
       "30465    1\n",
       "30466    0\n",
       "30467    2\n",
       "30468    1\n",
       "Name: ecology, Length: 30469, dtype: int64"
      ]
     },
     "metadata": {},
     "execution_count": 80
    }
   ],
   "source": [
    "ecology_dict = {'no data':0, 'poor':1, 'satisfactory':2, 'good':3, 'excellent':4}\n",
    "data.ecology = data.ecology.replace(to_replace=ecology_dict)\n",
    "data.ecology"
   ]
  },
  {
   "cell_type": "code",
   "execution_count": 81,
   "metadata": {},
   "outputs": [
    {
     "output_type": "stream",
     "name": "stdout",
     "text": [
      "<class 'pandas.core.frame.DataFrame'>\nRangeIndex: 30469 entries, 0 to 30468\nData columns (total 56 columns):\n #   Column                                 Non-Null Count  Dtype  \n---  ------                                 --------------  -----  \n 0   id                                     30469 non-null  int64  \n 1   full_sq                                30469 non-null  int64  \n 2   life_sq                                24086 non-null  float64\n 3   floor                                  30302 non-null  float64\n 4   sub_area                               30469 non-null  object \n 5   preschool_quota                        23781 non-null  float64\n 6   preschool_education_centers_raion      30469 non-null  int64  \n 7   school_quota                           23784 non-null  float64\n 8   school_education_centers_raion         30469 non-null  int64  \n 9   school_education_centers_top_20_raion  30469 non-null  int64  \n 10  hospital_beds_raion                    16029 non-null  float64\n 11  healthcare_centers_raion               30469 non-null  int64  \n 12  university_top_20_raion                30469 non-null  int64  \n 13  sport_objects_raion                    30469 non-null  int64  \n 14  additional_education_raion             30469 non-null  int64  \n 15  culture_objects_top_25_raion           30469 non-null  int64  \n 16  shopping_centers_raion                 30469 non-null  int64  \n 17  office_raion                           30469 non-null  int64  \n 18  metro_min_avto                         30469 non-null  float64\n 19  metro_km_avto                          30469 non-null  float64\n 20  metro_min_walk                         30444 non-null  float64\n 21  metro_km_walk                          30444 non-null  float64\n 22  kindergarten_km                        30469 non-null  float64\n 23  school_km                              30469 non-null  float64\n 24  park_km                                30469 non-null  float64\n 25  green_zone_km                          30469 non-null  float64\n 26  industrial_km                          30469 non-null  float64\n 27  railroad_station_walk_km               30444 non-null  float64\n 28  railroad_station_walk_min              30444 non-null  float64\n 29  public_transport_station_km            30469 non-null  float64\n 30  public_transport_station_min_walk      30469 non-null  float64\n 31  mkad_km                                30469 non-null  float64\n 32  ttk_km                                 30469 non-null  float64\n 33  sadovoe_km                             30469 non-null  float64\n 34  bulvar_ring_km                         30469 non-null  float64\n 35  kremlin_km                             30469 non-null  float64\n 36  big_market_km                          30469 non-null  float64\n 37  market_shop_km                         30469 non-null  float64\n 38  fitness_km                             30469 non-null  float64\n 39  swim_pool_km                           30469 non-null  float64\n 40  ice_rink_km                            30469 non-null  float64\n 41  stadium_km                             30469 non-null  float64\n 42  basketball_km                          30469 non-null  float64\n 43  hospice_morgue_km                      30469 non-null  float64\n 44  university_km                          30469 non-null  float64\n 45  workplaces_km                          30469 non-null  float64\n 46  shopping_centers_km                    30469 non-null  float64\n 47  office_km                              30469 non-null  float64\n 48  additional_education_km                30469 non-null  float64\n 49  preschool_km                           30469 non-null  float64\n 50  big_church_km                          30469 non-null  float64\n 51  church_synagogue_km                    30469 non-null  float64\n 52  theater_km                             30469 non-null  float64\n 53  museum_km                              30469 non-null  float64\n 54  ecology                                30469 non-null  int64  \n 55  price_doc                              30469 non-null  int64  \ndtypes: float64(41), int64(14), object(1)\nmemory usage: 13.0+ MB\n"
     ]
    }
   ],
   "source": [
    "data.info()"
   ]
  },
  {
   "cell_type": "code",
   "execution_count": 89,
   "metadata": {},
   "outputs": [
    {
     "output_type": "execute_result",
     "data": {
      "text/plain": [
       "(30469, 201)"
      ]
     },
     "metadata": {},
     "execution_count": 89
    }
   ],
   "source": [
    "pd.get_dummies(data).shape"
   ]
  },
  {
   "cell_type": "code",
   "execution_count": 84,
   "metadata": {},
   "outputs": [
    {
     "output_type": "execute_result",
     "data": {
      "text/plain": [
       "1.7282483836030063"
      ]
     },
     "metadata": {},
     "execution_count": 84
    }
   ],
   "source": [
    "data.ecology.mean()"
   ]
  },
  {
   "cell_type": "code",
   "execution_count": 87,
   "metadata": {},
   "outputs": [
    {
     "output_type": "execute_result",
     "data": {
      "text/plain": [
       "          id  full_sq  life_sq  floor              sub_area  preschool_quota  \\\n",
       "0          1       43     27.0    4.0              Bibirevo           5001.0   \n",
       "1          2       34     19.0    3.0     Nagatinskij Zaton           3119.0   \n",
       "2          3       43     29.0    2.0        Tekstil'shhiki           1463.0   \n",
       "3          4       89     50.0    9.0                Mitino           6839.0   \n",
       "4          5       77     77.0    4.0             Basmannoe           3240.0   \n",
       "...      ...      ...      ...    ...                   ...              ...   \n",
       "30464  30469       44     27.0    7.0              Otradnoe           5088.0   \n",
       "30465  30470       86     59.0    3.0              Tverskoe           1874.0   \n",
       "30466  30471       45      NaN   10.0  Poselenie Vnukovskoe              NaN   \n",
       "30467  30472       64     32.0    5.0          Obruchevskoe           2372.0   \n",
       "30468  30473       43     28.0    1.0           Novogireevo           2215.0   \n",
       "\n",
       "       preschool_education_centers_raion  school_quota  \\\n",
       "0                                      5       11065.0   \n",
       "1                                      5        6237.0   \n",
       "2                                      4        5580.0   \n",
       "3                                      9       17063.0   \n",
       "4                                      7        7770.0   \n",
       "...                                  ...           ...   \n",
       "30464                                  4       12721.0   \n",
       "30465                                  4        6772.0   \n",
       "30466                                  0           NaN   \n",
       "30467                                  6        6083.0   \n",
       "30468                                  4        5824.0   \n",
       "\n",
       "       school_education_centers_raion  school_education_centers_top_20_raion  \\\n",
       "0                                   5                                      0   \n",
       "1                                   8                                      0   \n",
       "2                                   7                                      0   \n",
       "3                                  10                                      0   \n",
       "4                                   9                                      0   \n",
       "...                               ...                                    ...   \n",
       "30464                               4                                      0   \n",
       "30465                               4                                      1   \n",
       "30466                               0                                      0   \n",
       "30467                               8                                      0   \n",
       "30468                               4                                      0   \n",
       "\n",
       "       ...  shopping_centers_km  office_km  additional_education_km  \\\n",
       "0      ...             0.648488   0.637189                 0.947962   \n",
       "1      ...             0.519311   0.688796                 1.072315   \n",
       "2      ...             1.486533   1.543049                 0.391957   \n",
       "3      ...             0.599914   0.934273                 0.892674   \n",
       "4      ...             0.429052   0.077901                 0.810801   \n",
       "...    ...                  ...        ...                      ...   \n",
       "30464  ...             0.325885   1.103579                 0.167718   \n",
       "30465  ...             0.540003   0.069986                 0.086552   \n",
       "30466  ...             1.806570   4.338453                 1.339078   \n",
       "30467  ...             1.108672   1.204798                 1.340017   \n",
       "30468  ...             0.224601   2.108265                 0.825811   \n",
       "\n",
       "       preschool_km  big_church_km  church_synagogue_km  theater_km  \\\n",
       "0          0.177975       0.625783             0.628187   14.053047   \n",
       "1          0.273345       0.967821             0.471447    6.829889   \n",
       "2          0.158072       3.178751             0.755946    4.273200   \n",
       "3          0.236455       1.031777             1.561505   16.990677   \n",
       "4          0.376838       0.378756             0.121681    1.112486   \n",
       "...             ...            ...                  ...         ...   \n",
       "30464      0.349899       1.235066             0.612359    7.482165   \n",
       "30465      0.362681       0.850385             0.310021    0.778428   \n",
       "30466      1.234235       1.192543             1.186621   13.459593   \n",
       "30467      0.130667       1.644053             0.476021    2.088193   \n",
       "30468      0.378950       0.480531             0.867332    0.688707   \n",
       "\n",
       "       museum_km  ecology  price_doc  \n",
       "0       7.389498        3    5850000  \n",
       "1       0.709260        4    6000000  \n",
       "2       3.156423        1    5700000  \n",
       "3      16.041521        3   13100000  \n",
       "4       1.800125        4   16331452  \n",
       "...          ...      ...        ...  \n",
       "30464   4.836787        3    7400000  \n",
       "30465   1.450108        1   25000000  \n",
       "30466   9.890758        0    6970959  \n",
       "30467   4.119706        2   13500000  \n",
       "30468   0.127867        1    5600000  \n",
       "\n",
       "[30469 rows x 56 columns]"
      ],
      "text/html": "<div>\n<style scoped>\n    .dataframe tbody tr th:only-of-type {\n        vertical-align: middle;\n    }\n\n    .dataframe tbody tr th {\n        vertical-align: top;\n    }\n\n    .dataframe thead th {\n        text-align: right;\n    }\n</style>\n<table border=\"1\" class=\"dataframe\">\n  <thead>\n    <tr style=\"text-align: right;\">\n      <th></th>\n      <th>id</th>\n      <th>full_sq</th>\n      <th>life_sq</th>\n      <th>floor</th>\n      <th>sub_area</th>\n      <th>preschool_quota</th>\n      <th>preschool_education_centers_raion</th>\n      <th>school_quota</th>\n      <th>school_education_centers_raion</th>\n      <th>school_education_centers_top_20_raion</th>\n      <th>...</th>\n      <th>shopping_centers_km</th>\n      <th>office_km</th>\n      <th>additional_education_km</th>\n      <th>preschool_km</th>\n      <th>big_church_km</th>\n      <th>church_synagogue_km</th>\n      <th>theater_km</th>\n      <th>museum_km</th>\n      <th>ecology</th>\n      <th>price_doc</th>\n    </tr>\n  </thead>\n  <tbody>\n    <tr>\n      <th>0</th>\n      <td>1</td>\n      <td>43</td>\n      <td>27.0</td>\n      <td>4.0</td>\n      <td>Bibirevo</td>\n      <td>5001.0</td>\n      <td>5</td>\n      <td>11065.0</td>\n      <td>5</td>\n      <td>0</td>\n      <td>...</td>\n      <td>0.648488</td>\n      <td>0.637189</td>\n      <td>0.947962</td>\n      <td>0.177975</td>\n      <td>0.625783</td>\n      <td>0.628187</td>\n      <td>14.053047</td>\n      <td>7.389498</td>\n      <td>3</td>\n      <td>5850000</td>\n    </tr>\n    <tr>\n      <th>1</th>\n      <td>2</td>\n      <td>34</td>\n      <td>19.0</td>\n      <td>3.0</td>\n      <td>Nagatinskij Zaton</td>\n      <td>3119.0</td>\n      <td>5</td>\n      <td>6237.0</td>\n      <td>8</td>\n      <td>0</td>\n      <td>...</td>\n      <td>0.519311</td>\n      <td>0.688796</td>\n      <td>1.072315</td>\n      <td>0.273345</td>\n      <td>0.967821</td>\n      <td>0.471447</td>\n      <td>6.829889</td>\n      <td>0.709260</td>\n      <td>4</td>\n      <td>6000000</td>\n    </tr>\n    <tr>\n      <th>2</th>\n      <td>3</td>\n      <td>43</td>\n      <td>29.0</td>\n      <td>2.0</td>\n      <td>Tekstil'shhiki</td>\n      <td>1463.0</td>\n      <td>4</td>\n      <td>5580.0</td>\n      <td>7</td>\n      <td>0</td>\n      <td>...</td>\n      <td>1.486533</td>\n      <td>1.543049</td>\n      <td>0.391957</td>\n      <td>0.158072</td>\n      <td>3.178751</td>\n      <td>0.755946</td>\n      <td>4.273200</td>\n      <td>3.156423</td>\n      <td>1</td>\n      <td>5700000</td>\n    </tr>\n    <tr>\n      <th>3</th>\n      <td>4</td>\n      <td>89</td>\n      <td>50.0</td>\n      <td>9.0</td>\n      <td>Mitino</td>\n      <td>6839.0</td>\n      <td>9</td>\n      <td>17063.0</td>\n      <td>10</td>\n      <td>0</td>\n      <td>...</td>\n      <td>0.599914</td>\n      <td>0.934273</td>\n      <td>0.892674</td>\n      <td>0.236455</td>\n      <td>1.031777</td>\n      <td>1.561505</td>\n      <td>16.990677</td>\n      <td>16.041521</td>\n      <td>3</td>\n      <td>13100000</td>\n    </tr>\n    <tr>\n      <th>4</th>\n      <td>5</td>\n      <td>77</td>\n      <td>77.0</td>\n      <td>4.0</td>\n      <td>Basmannoe</td>\n      <td>3240.0</td>\n      <td>7</td>\n      <td>7770.0</td>\n      <td>9</td>\n      <td>0</td>\n      <td>...</td>\n      <td>0.429052</td>\n      <td>0.077901</td>\n      <td>0.810801</td>\n      <td>0.376838</td>\n      <td>0.378756</td>\n      <td>0.121681</td>\n      <td>1.112486</td>\n      <td>1.800125</td>\n      <td>4</td>\n      <td>16331452</td>\n    </tr>\n    <tr>\n      <th>...</th>\n      <td>...</td>\n      <td>...</td>\n      <td>...</td>\n      <td>...</td>\n      <td>...</td>\n      <td>...</td>\n      <td>...</td>\n      <td>...</td>\n      <td>...</td>\n      <td>...</td>\n      <td>...</td>\n      <td>...</td>\n      <td>...</td>\n      <td>...</td>\n      <td>...</td>\n      <td>...</td>\n      <td>...</td>\n      <td>...</td>\n      <td>...</td>\n      <td>...</td>\n      <td>...</td>\n    </tr>\n    <tr>\n      <th>30464</th>\n      <td>30469</td>\n      <td>44</td>\n      <td>27.0</td>\n      <td>7.0</td>\n      <td>Otradnoe</td>\n      <td>5088.0</td>\n      <td>4</td>\n      <td>12721.0</td>\n      <td>4</td>\n      <td>0</td>\n      <td>...</td>\n      <td>0.325885</td>\n      <td>1.103579</td>\n      <td>0.167718</td>\n      <td>0.349899</td>\n      <td>1.235066</td>\n      <td>0.612359</td>\n      <td>7.482165</td>\n      <td>4.836787</td>\n      <td>3</td>\n      <td>7400000</td>\n    </tr>\n    <tr>\n      <th>30465</th>\n      <td>30470</td>\n      <td>86</td>\n      <td>59.0</td>\n      <td>3.0</td>\n      <td>Tverskoe</td>\n      <td>1874.0</td>\n      <td>4</td>\n      <td>6772.0</td>\n      <td>4</td>\n      <td>1</td>\n      <td>...</td>\n      <td>0.540003</td>\n      <td>0.069986</td>\n      <td>0.086552</td>\n      <td>0.362681</td>\n      <td>0.850385</td>\n      <td>0.310021</td>\n      <td>0.778428</td>\n      <td>1.450108</td>\n      <td>1</td>\n      <td>25000000</td>\n    </tr>\n    <tr>\n      <th>30466</th>\n      <td>30471</td>\n      <td>45</td>\n      <td>NaN</td>\n      <td>10.0</td>\n      <td>Poselenie Vnukovskoe</td>\n      <td>NaN</td>\n      <td>0</td>\n      <td>NaN</td>\n      <td>0</td>\n      <td>0</td>\n      <td>...</td>\n      <td>1.806570</td>\n      <td>4.338453</td>\n      <td>1.339078</td>\n      <td>1.234235</td>\n      <td>1.192543</td>\n      <td>1.186621</td>\n      <td>13.459593</td>\n      <td>9.890758</td>\n      <td>0</td>\n      <td>6970959</td>\n    </tr>\n    <tr>\n      <th>30467</th>\n      <td>30472</td>\n      <td>64</td>\n      <td>32.0</td>\n      <td>5.0</td>\n      <td>Obruchevskoe</td>\n      <td>2372.0</td>\n      <td>6</td>\n      <td>6083.0</td>\n      <td>8</td>\n      <td>0</td>\n      <td>...</td>\n      <td>1.108672</td>\n      <td>1.204798</td>\n      <td>1.340017</td>\n      <td>0.130667</td>\n      <td>1.644053</td>\n      <td>0.476021</td>\n      <td>2.088193</td>\n      <td>4.119706</td>\n      <td>2</td>\n      <td>13500000</td>\n    </tr>\n    <tr>\n      <th>30468</th>\n      <td>30473</td>\n      <td>43</td>\n      <td>28.0</td>\n      <td>1.0</td>\n      <td>Novogireevo</td>\n      <td>2215.0</td>\n      <td>4</td>\n      <td>5824.0</td>\n      <td>4</td>\n      <td>0</td>\n      <td>...</td>\n      <td>0.224601</td>\n      <td>2.108265</td>\n      <td>0.825811</td>\n      <td>0.378950</td>\n      <td>0.480531</td>\n      <td>0.867332</td>\n      <td>0.688707</td>\n      <td>0.127867</td>\n      <td>1</td>\n      <td>5600000</td>\n    </tr>\n  </tbody>\n</table>\n<p>30469 rows × 56 columns</p>\n</div>"
     },
     "metadata": {},
     "execution_count": 87
    }
   ],
   "source": [
    "data"
   ]
  },
  {
   "cell_type": "code",
   "execution_count": null,
   "metadata": {},
   "outputs": [],
   "source": []
  }
 ]
}