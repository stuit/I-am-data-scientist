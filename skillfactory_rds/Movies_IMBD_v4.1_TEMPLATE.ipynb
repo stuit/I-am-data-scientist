{
 "cells": [
  {
   "cell_type": "code",
   "execution_count": 2,
   "metadata": {
    "_cell_guid": "b1076dfc-b9ad-4769-8c92-a6c4dae69d19",
    "_uuid": "8f2839f25d086af736a60e9eeb907d3b93b6e0e5",
    "colab": {},
    "colab_type": "code",
    "id": "U2D2gTdJVp90"
   },
   "outputs": [],
   "source": [
    "import numpy as np\n",
    "import pandas as pd\n",
    "import seaborn as sns\n",
    "import matplotlib.pyplot as plt\n",
    "from collections import Counter"
   ]
  },
  {
   "cell_type": "code",
   "execution_count": 3,
   "metadata": {
    "_cell_guid": "79c7e3d0-c299-4dcb-8224-4455121ee9b0",
    "_uuid": "d629ff2d2480ee46fbb7e2d37f6b5fab8052498a",
    "colab": {},
    "colab_type": "code",
    "id": "oyGfxL3eVp9-"
   },
   "outputs": [
    {
     "output_type": "execute_result",
     "data": {
      "text/plain": [
       "        imdb_id    budget    revenue              original_title  \\\n",
       "1276  tt1935179  10000000   21587700                         Mud   \n",
       "1221  tt1817273  15000000   35485608  The Place Beyond the Pines   \n",
       "451   tt1322312  32000000   42045846          Going the Distance   \n",
       "1682  tt0416449  65000000  422610419                         300   \n",
       "566   tt0230838  40000000   65754228              Sweet November   \n",
       "\n",
       "                                                   cast          director  \\\n",
       "1276  Matthew McConaughey|Tye Sheridan|Jacob Lofland...      Jeff Nichols   \n",
       "1221  Ryan Gosling|Bradley Cooper|Eva Mendes|Dane De...  Derek Cianfrance   \n",
       "451   Drew Barrymore|Justin Long|Christina Applegate...  Nanette Burstein   \n",
       "1682  Gerard Butler|Lena Headey|Dominic West|David W...       Zack Snyder   \n",
       "566   Keanu Reeves|Charlize Theron|Jason Isaacs|Greg...      Pat O'Connor   \n",
       "\n",
       "                                                tagline  \\\n",
       "1276  People just sometimes forget why they fell in ...   \n",
       "1221  If you ride like lightning you're gonna crash ...   \n",
       "451          A comedy about meeting each other halfway.   \n",
       "1682                       Spartans, prepare for glory!   \n",
       "566   She Just Needed A Month To Change His Life For...   \n",
       "\n",
       "                                               overview  runtime  \\\n",
       "1276  A drama centered on two teenage boys who encou...      130   \n",
       "1221  A motorcycle stunt rider considers committing ...      140   \n",
       "451   Erin and Garrett are very much in love. When E...      102   \n",
       "1682  Based on Frank Miller's graphic novel, \"300\" i...      117   \n",
       "566   Nelson is a man devoted to his advertising car...      119   \n",
       "\n",
       "                    genres                               production_companies  \\\n",
       "1276                 Drama     FilmNation Entertainment|Everest Entertainment   \n",
       "1221           Drama|Crime  Sidney Kimmel Entertainment|Electric City Ente...   \n",
       "451   Comedy|Drama|Romance            New Line Cinema|Offspring Entertainment   \n",
       "1682  Action|Adventure|War  Virtual Studios|Legendary Pictures|Hollywood G...   \n",
       "566          Drama|Romance                 Bel Air Entertainment|Warner Bros.   \n",
       "\n",
       "     release_date  vote_average  release_year  \n",
       "1276     5/1/2013           6.9          2013  \n",
       "1221    3/20/2013           6.7          2013  \n",
       "451      9/1/2010           6.0          2010  \n",
       "1682     3/7/2007           7.0          2007  \n",
       "566     2/16/2001           6.5          2001  "
      ],
      "text/html": "<div>\n<style scoped>\n    .dataframe tbody tr th:only-of-type {\n        vertical-align: middle;\n    }\n\n    .dataframe tbody tr th {\n        vertical-align: top;\n    }\n\n    .dataframe thead th {\n        text-align: right;\n    }\n</style>\n<table border=\"1\" class=\"dataframe\">\n  <thead>\n    <tr style=\"text-align: right;\">\n      <th></th>\n      <th>imdb_id</th>\n      <th>budget</th>\n      <th>revenue</th>\n      <th>original_title</th>\n      <th>cast</th>\n      <th>director</th>\n      <th>tagline</th>\n      <th>overview</th>\n      <th>runtime</th>\n      <th>genres</th>\n      <th>production_companies</th>\n      <th>release_date</th>\n      <th>vote_average</th>\n      <th>release_year</th>\n    </tr>\n  </thead>\n  <tbody>\n    <tr>\n      <th>1276</th>\n      <td>tt1935179</td>\n      <td>10000000</td>\n      <td>21587700</td>\n      <td>Mud</td>\n      <td>Matthew McConaughey|Tye Sheridan|Jacob Lofland...</td>\n      <td>Jeff Nichols</td>\n      <td>People just sometimes forget why they fell in ...</td>\n      <td>A drama centered on two teenage boys who encou...</td>\n      <td>130</td>\n      <td>Drama</td>\n      <td>FilmNation Entertainment|Everest Entertainment</td>\n      <td>5/1/2013</td>\n      <td>6.9</td>\n      <td>2013</td>\n    </tr>\n    <tr>\n      <th>1221</th>\n      <td>tt1817273</td>\n      <td>15000000</td>\n      <td>35485608</td>\n      <td>The Place Beyond the Pines</td>\n      <td>Ryan Gosling|Bradley Cooper|Eva Mendes|Dane De...</td>\n      <td>Derek Cianfrance</td>\n      <td>If you ride like lightning you're gonna crash ...</td>\n      <td>A motorcycle stunt rider considers committing ...</td>\n      <td>140</td>\n      <td>Drama|Crime</td>\n      <td>Sidney Kimmel Entertainment|Electric City Ente...</td>\n      <td>3/20/2013</td>\n      <td>6.7</td>\n      <td>2013</td>\n    </tr>\n    <tr>\n      <th>451</th>\n      <td>tt1322312</td>\n      <td>32000000</td>\n      <td>42045846</td>\n      <td>Going the Distance</td>\n      <td>Drew Barrymore|Justin Long|Christina Applegate...</td>\n      <td>Nanette Burstein</td>\n      <td>A comedy about meeting each other halfway.</td>\n      <td>Erin and Garrett are very much in love. When E...</td>\n      <td>102</td>\n      <td>Comedy|Drama|Romance</td>\n      <td>New Line Cinema|Offspring Entertainment</td>\n      <td>9/1/2010</td>\n      <td>6.0</td>\n      <td>2010</td>\n    </tr>\n    <tr>\n      <th>1682</th>\n      <td>tt0416449</td>\n      <td>65000000</td>\n      <td>422610419</td>\n      <td>300</td>\n      <td>Gerard Butler|Lena Headey|Dominic West|David W...</td>\n      <td>Zack Snyder</td>\n      <td>Spartans, prepare for glory!</td>\n      <td>Based on Frank Miller's graphic novel, \"300\" i...</td>\n      <td>117</td>\n      <td>Action|Adventure|War</td>\n      <td>Virtual Studios|Legendary Pictures|Hollywood G...</td>\n      <td>3/7/2007</td>\n      <td>7.0</td>\n      <td>2007</td>\n    </tr>\n    <tr>\n      <th>566</th>\n      <td>tt0230838</td>\n      <td>40000000</td>\n      <td>65754228</td>\n      <td>Sweet November</td>\n      <td>Keanu Reeves|Charlize Theron|Jason Isaacs|Greg...</td>\n      <td>Pat O'Connor</td>\n      <td>She Just Needed A Month To Change His Life For...</td>\n      <td>Nelson is a man devoted to his advertising car...</td>\n      <td>119</td>\n      <td>Drama|Romance</td>\n      <td>Bel Air Entertainment|Warner Bros.</td>\n      <td>2/16/2001</td>\n      <td>6.5</td>\n      <td>2001</td>\n    </tr>\n  </tbody>\n</table>\n</div>"
     },
     "metadata": {},
     "execution_count": 3
    }
   ],
   "source": [
    "data = pd.read_csv('movie_bd_v5.csv')\n",
    "data.sample(5)"
   ]
  },
  {
   "cell_type": "code",
   "execution_count": 4,
   "metadata": {
    "colab": {},
    "colab_type": "code",
    "id": "CoYUnagMVp-C"
   },
   "outputs": [
    {
     "output_type": "execute_result",
     "data": {
      "text/plain": [
       "             budget       revenue      runtime  vote_average  release_year\n",
       "count  1.889000e+03  1.889000e+03  1889.000000   1889.000000   1889.000000\n",
       "mean   5.431083e+07  1.553653e+08   109.658549      6.140762   2007.860773\n",
       "std    4.858721e+07  2.146698e+08    18.017041      0.764763      4.468841\n",
       "min    5.000000e+06  2.033165e+06    63.000000      3.300000   2000.000000\n",
       "25%    2.000000e+07  3.456058e+07    97.000000      5.600000   2004.000000\n",
       "50%    3.800000e+07  8.361541e+07   107.000000      6.100000   2008.000000\n",
       "75%    7.200000e+07  1.782626e+08   120.000000      6.600000   2012.000000\n",
       "max    3.800000e+08  2.781506e+09   214.000000      8.100000   2015.000000"
      ],
      "text/html": "<div>\n<style scoped>\n    .dataframe tbody tr th:only-of-type {\n        vertical-align: middle;\n    }\n\n    .dataframe tbody tr th {\n        vertical-align: top;\n    }\n\n    .dataframe thead th {\n        text-align: right;\n    }\n</style>\n<table border=\"1\" class=\"dataframe\">\n  <thead>\n    <tr style=\"text-align: right;\">\n      <th></th>\n      <th>budget</th>\n      <th>revenue</th>\n      <th>runtime</th>\n      <th>vote_average</th>\n      <th>release_year</th>\n    </tr>\n  </thead>\n  <tbody>\n    <tr>\n      <th>count</th>\n      <td>1.889000e+03</td>\n      <td>1.889000e+03</td>\n      <td>1889.000000</td>\n      <td>1889.000000</td>\n      <td>1889.000000</td>\n    </tr>\n    <tr>\n      <th>mean</th>\n      <td>5.431083e+07</td>\n      <td>1.553653e+08</td>\n      <td>109.658549</td>\n      <td>6.140762</td>\n      <td>2007.860773</td>\n    </tr>\n    <tr>\n      <th>std</th>\n      <td>4.858721e+07</td>\n      <td>2.146698e+08</td>\n      <td>18.017041</td>\n      <td>0.764763</td>\n      <td>4.468841</td>\n    </tr>\n    <tr>\n      <th>min</th>\n      <td>5.000000e+06</td>\n      <td>2.033165e+06</td>\n      <td>63.000000</td>\n      <td>3.300000</td>\n      <td>2000.000000</td>\n    </tr>\n    <tr>\n      <th>25%</th>\n      <td>2.000000e+07</td>\n      <td>3.456058e+07</td>\n      <td>97.000000</td>\n      <td>5.600000</td>\n      <td>2004.000000</td>\n    </tr>\n    <tr>\n      <th>50%</th>\n      <td>3.800000e+07</td>\n      <td>8.361541e+07</td>\n      <td>107.000000</td>\n      <td>6.100000</td>\n      <td>2008.000000</td>\n    </tr>\n    <tr>\n      <th>75%</th>\n      <td>7.200000e+07</td>\n      <td>1.782626e+08</td>\n      <td>120.000000</td>\n      <td>6.600000</td>\n      <td>2012.000000</td>\n    </tr>\n    <tr>\n      <th>max</th>\n      <td>3.800000e+08</td>\n      <td>2.781506e+09</td>\n      <td>214.000000</td>\n      <td>8.100000</td>\n      <td>2015.000000</td>\n    </tr>\n  </tbody>\n</table>\n</div>"
     },
     "metadata": {},
     "execution_count": 4
    }
   ],
   "source": [
    "data.describe()"
   ]
  },
  {
   "cell_type": "markdown",
   "metadata": {
    "colab_type": "text",
    "id": "DTIt7ezGVp-G"
   },
   "source": [
    "# Предобработка"
   ]
  },
  {
   "cell_type": "code",
   "execution_count": 5,
   "metadata": {
    "colab": {},
    "colab_type": "code",
    "id": "jNb40DwKVp-H"
   },
   "outputs": [],
   "source": [
    "answers = {} # создадим словарь для ответов\n",
    "\n",
    "# тут другие ваши предобработки колонок например:\n",
    "\n",
    "#the time given in the dataset is in string format.\n",
    "#So we need to change this in datetime format\n",
    "# ..."
   ]
  },
  {
   "cell_type": "markdown",
   "metadata": {
    "colab_type": "text",
    "id": "YxZaH-nPVp-L"
   },
   "source": [
    "# 1. У какого фильма из списка самый большой бюджет?"
   ]
  },
  {
   "cell_type": "markdown",
   "metadata": {
    "colab_type": "text",
    "id": "Nd-G5gX6Vp-M"
   },
   "source": [
    "Использовать варианты ответов в коде решения запрещено.    \n",
    "Вы думаете и в жизни у вас будут варианты ответов?)"
   ]
  },
  {
   "cell_type": "code",
   "execution_count": 6,
   "metadata": {
    "colab": {},
    "colab_type": "code",
    "id": "uVnXAY5RVp-O"
   },
   "outputs": [],
   "source": [
    "# в словарь вставляем номер вопроса и ваш ответ на него\n",
    "# Пример: \n",
    "answers['1'] = '2. Spider-Man 3 (tt0413300)'\n",
    "# запишите свой вариант ответа\n",
    "answers['1'] = '5. Pirates of the Caribbean (tt1298650)'\n",
    "# если ответили верно, можете добавить комментарий со значком \"+\""
   ]
  },
  {
   "cell_type": "code",
   "execution_count": 7,
   "metadata": {
    "colab": {},
    "colab_type": "code",
    "id": "dZwb3m28Vp-S"
   },
   "outputs": [
    {
     "output_type": "display_data",
     "data": {
      "text/plain": "                                  original_title    imdb_id\n723  Pirates of the Caribbean: On Stranger Tides  tt1298650",
      "text/html": "<div>\n<style scoped>\n    .dataframe tbody tr th:only-of-type {\n        vertical-align: middle;\n    }\n\n    .dataframe tbody tr th {\n        vertical-align: top;\n    }\n\n    .dataframe thead th {\n        text-align: right;\n    }\n</style>\n<table border=\"1\" class=\"dataframe\">\n  <thead>\n    <tr style=\"text-align: right;\">\n      <th></th>\n      <th>original_title</th>\n      <th>imdb_id</th>\n    </tr>\n  </thead>\n  <tbody>\n    <tr>\n      <th>723</th>\n      <td>Pirates of the Caribbean: On Stranger Tides</td>\n      <td>tt1298650</td>\n    </tr>\n  </tbody>\n</table>\n</div>"
     },
     "metadata": {}
    }
   ],
   "source": [
    "# тут пишем ваш код для решения данного вопроса:\n",
    "biggest_budget = data[data.budget == data.budget.max()][['original_title','imdb_id']]\n",
    "display(biggest_budget)"
   ]
  },
  {
   "cell_type": "markdown",
   "metadata": {
    "colab_type": "text",
    "id": "K7L3nbRXVp-X"
   },
   "source": [
    "ВАРИАНТ 2"
   ]
  },
  {
   "cell_type": "code",
   "execution_count": 8,
   "metadata": {
    "colab": {},
    "colab_type": "code",
    "id": "OGaoQI7rVp-X"
   },
   "outputs": [
    {
     "output_type": "execute_result",
     "data": {
      "text/plain": [
       "                                  original_title    imdb_id     budget\n",
       "723  Pirates of the Caribbean: On Stranger Tides  tt1298650  380000000"
      ],
      "text/html": "<div>\n<style scoped>\n    .dataframe tbody tr th:only-of-type {\n        vertical-align: middle;\n    }\n\n    .dataframe tbody tr th {\n        vertical-align: top;\n    }\n\n    .dataframe thead th {\n        text-align: right;\n    }\n</style>\n<table border=\"1\" class=\"dataframe\">\n  <thead>\n    <tr style=\"text-align: right;\">\n      <th></th>\n      <th>original_title</th>\n      <th>imdb_id</th>\n      <th>budget</th>\n    </tr>\n  </thead>\n  <tbody>\n    <tr>\n      <th>723</th>\n      <td>Pirates of the Caribbean: On Stranger Tides</td>\n      <td>tt1298650</td>\n      <td>380000000</td>\n    </tr>\n  </tbody>\n</table>\n</div>"
     },
     "metadata": {},
     "execution_count": 8
    }
   ],
   "source": [
    "# можно добавлять разные варианты решения\n",
    "filtereds = data[['original_title','imdb_id','budget']]\n",
    "filtereds.sort_values(by='budget', ascending=False).head(1)"
   ]
  },
  {
   "cell_type": "code",
   "execution_count": 9,
   "metadata": {},
   "outputs": [
    {
     "output_type": "display_data",
     "data": {
      "text/plain": "     imdb_id     budget     revenue  original_title  \\\n0  tt0369610  150000000  1513528810  Jurassic World   \n\n                                                cast         director  \\\n0  Chris Pratt|Bryce Dallas Howard|Irrfan Khan|Vi...  Colin Trevorrow   \n\n             tagline                                           overview  \\\n0  The park is open.  Twenty-two years after the events of Jurassic ...   \n\n   runtime                                     genres  \\\n0      124  Action|Adventure|Science Fiction|Thriller   \n\n                                production_companies release_date  \\\n0  Universal Studios|Amblin Entertainment|Legenda...     6/9/2015   \n\n   vote_average  release_year  \n0           6.5          2015  ",
      "text/html": "<div>\n<style scoped>\n    .dataframe tbody tr th:only-of-type {\n        vertical-align: middle;\n    }\n\n    .dataframe tbody tr th {\n        vertical-align: top;\n    }\n\n    .dataframe thead th {\n        text-align: right;\n    }\n</style>\n<table border=\"1\" class=\"dataframe\">\n  <thead>\n    <tr style=\"text-align: right;\">\n      <th></th>\n      <th>imdb_id</th>\n      <th>budget</th>\n      <th>revenue</th>\n      <th>original_title</th>\n      <th>cast</th>\n      <th>director</th>\n      <th>tagline</th>\n      <th>overview</th>\n      <th>runtime</th>\n      <th>genres</th>\n      <th>production_companies</th>\n      <th>release_date</th>\n      <th>vote_average</th>\n      <th>release_year</th>\n    </tr>\n  </thead>\n  <tbody>\n    <tr>\n      <th>0</th>\n      <td>tt0369610</td>\n      <td>150000000</td>\n      <td>1513528810</td>\n      <td>Jurassic World</td>\n      <td>Chris Pratt|Bryce Dallas Howard|Irrfan Khan|Vi...</td>\n      <td>Colin Trevorrow</td>\n      <td>The park is open.</td>\n      <td>Twenty-two years after the events of Jurassic ...</td>\n      <td>124</td>\n      <td>Action|Adventure|Science Fiction|Thriller</td>\n      <td>Universal Studios|Amblin Entertainment|Legenda...</td>\n      <td>6/9/2015</td>\n      <td>6.5</td>\n      <td>2015</td>\n    </tr>\n  </tbody>\n</table>\n</div>"
     },
     "metadata": {}
    },
    {
     "output_type": "display_data",
     "data": {
      "text/plain": "{'1': '5. Pirates of the Caribbean (tt1298650)'}"
     },
     "metadata": {}
    }
   ],
   "source": [
    "display(data.head(1))\n",
    "display(answers)"
   ]
  },
  {
   "cell_type": "markdown",
   "metadata": {
    "colab_type": "text",
    "id": "FNRbbI3vVp-c"
   },
   "source": [
    "# 2. Какой из фильмов самый длительный (в минутах)?"
   ]
  },
  {
   "cell_type": "code",
   "execution_count": 10,
   "metadata": {
    "colab": {},
    "colab_type": "code",
    "id": "vHAoEXNTVp-d"
   },
   "outputs": [],
   "source": [
    "# думаю логику работы с этим словарем вы уже поняли, \n",
    "# по этому не буду больше его дублировать\n",
    "answers['2'] = '2. Gods and Generals (tt0279111)'"
   ]
  },
  {
   "cell_type": "code",
   "execution_count": 11,
   "metadata": {
    "colab": {},
    "colab_type": "code",
    "id": "ot-VX2XrVp-g"
   },
   "outputs": [
    {
     "output_type": "execute_result",
     "data": {
      "text/plain": [
       "         original_title    imdb_id\n",
       "1157  Gods and Generals  tt0279111"
      ],
      "text/html": "<div>\n<style scoped>\n    .dataframe tbody tr th:only-of-type {\n        vertical-align: middle;\n    }\n\n    .dataframe tbody tr th {\n        vertical-align: top;\n    }\n\n    .dataframe thead th {\n        text-align: right;\n    }\n</style>\n<table border=\"1\" class=\"dataframe\">\n  <thead>\n    <tr style=\"text-align: right;\">\n      <th></th>\n      <th>original_title</th>\n      <th>imdb_id</th>\n    </tr>\n  </thead>\n  <tbody>\n    <tr>\n      <th>1157</th>\n      <td>Gods and Generals</td>\n      <td>tt0279111</td>\n    </tr>\n  </tbody>\n</table>\n</div>"
     },
     "metadata": {},
     "execution_count": 11
    }
   ],
   "source": [
    "data[data.runtime == data.runtime.max()][['original_title', 'imdb_id']]"
   ]
  },
  {
   "cell_type": "code",
   "execution_count": 12,
   "metadata": {},
   "outputs": [
    {
     "output_type": "display_data",
     "data": {
      "text/plain": "     imdb_id     budget     revenue  original_title  \\\n0  tt0369610  150000000  1513528810  Jurassic World   \n\n                                                cast         director  \\\n0  Chris Pratt|Bryce Dallas Howard|Irrfan Khan|Vi...  Colin Trevorrow   \n\n             tagline                                           overview  \\\n0  The park is open.  Twenty-two years after the events of Jurassic ...   \n\n   runtime                                     genres  \\\n0      124  Action|Adventure|Science Fiction|Thriller   \n\n                                production_companies release_date  \\\n0  Universal Studios|Amblin Entertainment|Legenda...     6/9/2015   \n\n   vote_average  release_year  \n0           6.5          2015  ",
      "text/html": "<div>\n<style scoped>\n    .dataframe tbody tr th:only-of-type {\n        vertical-align: middle;\n    }\n\n    .dataframe tbody tr th {\n        vertical-align: top;\n    }\n\n    .dataframe thead th {\n        text-align: right;\n    }\n</style>\n<table border=\"1\" class=\"dataframe\">\n  <thead>\n    <tr style=\"text-align: right;\">\n      <th></th>\n      <th>imdb_id</th>\n      <th>budget</th>\n      <th>revenue</th>\n      <th>original_title</th>\n      <th>cast</th>\n      <th>director</th>\n      <th>tagline</th>\n      <th>overview</th>\n      <th>runtime</th>\n      <th>genres</th>\n      <th>production_companies</th>\n      <th>release_date</th>\n      <th>vote_average</th>\n      <th>release_year</th>\n    </tr>\n  </thead>\n  <tbody>\n    <tr>\n      <th>0</th>\n      <td>tt0369610</td>\n      <td>150000000</td>\n      <td>1513528810</td>\n      <td>Jurassic World</td>\n      <td>Chris Pratt|Bryce Dallas Howard|Irrfan Khan|Vi...</td>\n      <td>Colin Trevorrow</td>\n      <td>The park is open.</td>\n      <td>Twenty-two years after the events of Jurassic ...</td>\n      <td>124</td>\n      <td>Action|Adventure|Science Fiction|Thriller</td>\n      <td>Universal Studios|Amblin Entertainment|Legenda...</td>\n      <td>6/9/2015</td>\n      <td>6.5</td>\n      <td>2015</td>\n    </tr>\n  </tbody>\n</table>\n</div>"
     },
     "metadata": {}
    },
    {
     "output_type": "display_data",
     "data": {
      "text/plain": "{'1': '5. Pirates of the Caribbean (tt1298650)',\n '2': '2. Gods and Generals (tt0279111)'}"
     },
     "metadata": {}
    }
   ],
   "source": [
    "display(data.head(1))\n",
    "display(answers)"
   ]
  },
  {
   "cell_type": "markdown",
   "metadata": {
    "colab_type": "text",
    "id": "bapLlpW8Vp-k"
   },
   "source": [
    "# 3. Какой из фильмов самый короткий (в минутах)?\n",
    "\n",
    "\n",
    "\n"
   ]
  },
  {
   "cell_type": "code",
   "execution_count": 13,
   "metadata": {
    "colab": {},
    "colab_type": "code",
    "id": "YBxaSHuAVp-l"
   },
   "outputs": [
    {
     "output_type": "execute_result",
     "data": {
      "text/plain": [
       "      original_title    imdb_id\n",
       "768  Winnie the Pooh  tt1449283"
      ],
      "text/html": "<div>\n<style scoped>\n    .dataframe tbody tr th:only-of-type {\n        vertical-align: middle;\n    }\n\n    .dataframe tbody tr th {\n        vertical-align: top;\n    }\n\n    .dataframe thead th {\n        text-align: right;\n    }\n</style>\n<table border=\"1\" class=\"dataframe\">\n  <thead>\n    <tr style=\"text-align: right;\">\n      <th></th>\n      <th>original_title</th>\n      <th>imdb_id</th>\n    </tr>\n  </thead>\n  <tbody>\n    <tr>\n      <th>768</th>\n      <td>Winnie the Pooh</td>\n      <td>tt1449283</td>\n    </tr>\n  </tbody>\n</table>\n</div>"
     },
     "metadata": {},
     "execution_count": 13
    }
   ],
   "source": [
    "data[data.runtime == data.runtime.min()][['original_title', 'imdb_id']]"
   ]
  },
  {
   "cell_type": "code",
   "execution_count": 14,
   "metadata": {},
   "outputs": [
    {
     "output_type": "display_data",
     "data": {
      "text/plain": "     imdb_id     budget     revenue  original_title  \\\n0  tt0369610  150000000  1513528810  Jurassic World   \n\n                                                cast         director  \\\n0  Chris Pratt|Bryce Dallas Howard|Irrfan Khan|Vi...  Colin Trevorrow   \n\n             tagline                                           overview  \\\n0  The park is open.  Twenty-two years after the events of Jurassic ...   \n\n   runtime                                     genres  \\\n0      124  Action|Adventure|Science Fiction|Thriller   \n\n                                production_companies release_date  \\\n0  Universal Studios|Amblin Entertainment|Legenda...     6/9/2015   \n\n   vote_average  release_year  \n0           6.5          2015  ",
      "text/html": "<div>\n<style scoped>\n    .dataframe tbody tr th:only-of-type {\n        vertical-align: middle;\n    }\n\n    .dataframe tbody tr th {\n        vertical-align: top;\n    }\n\n    .dataframe thead th {\n        text-align: right;\n    }\n</style>\n<table border=\"1\" class=\"dataframe\">\n  <thead>\n    <tr style=\"text-align: right;\">\n      <th></th>\n      <th>imdb_id</th>\n      <th>budget</th>\n      <th>revenue</th>\n      <th>original_title</th>\n      <th>cast</th>\n      <th>director</th>\n      <th>tagline</th>\n      <th>overview</th>\n      <th>runtime</th>\n      <th>genres</th>\n      <th>production_companies</th>\n      <th>release_date</th>\n      <th>vote_average</th>\n      <th>release_year</th>\n    </tr>\n  </thead>\n  <tbody>\n    <tr>\n      <th>0</th>\n      <td>tt0369610</td>\n      <td>150000000</td>\n      <td>1513528810</td>\n      <td>Jurassic World</td>\n      <td>Chris Pratt|Bryce Dallas Howard|Irrfan Khan|Vi...</td>\n      <td>Colin Trevorrow</td>\n      <td>The park is open.</td>\n      <td>Twenty-two years after the events of Jurassic ...</td>\n      <td>124</td>\n      <td>Action|Adventure|Science Fiction|Thriller</td>\n      <td>Universal Studios|Amblin Entertainment|Legenda...</td>\n      <td>6/9/2015</td>\n      <td>6.5</td>\n      <td>2015</td>\n    </tr>\n  </tbody>\n</table>\n</div>"
     },
     "metadata": {}
    },
    {
     "output_type": "display_data",
     "data": {
      "text/plain": "{'1': '5. Pirates of the Caribbean (tt1298650)',\n '2': '2. Gods and Generals (tt0279111)',\n '3': '3. Winnie the Pooh (tt1449283)'}"
     },
     "metadata": {}
    }
   ],
   "source": [
    "answers['3'] = '3. Winnie the Pooh (tt1449283)'\n",
    "display(data.head(1))\n",
    "display(answers)"
   ]
  },
  {
   "cell_type": "markdown",
   "metadata": {
    "colab_type": "text",
    "id": "TfQbxbfNVp-p"
   },
   "source": [
    "# 4. Какова средняя длительность фильмов?\n"
   ]
  },
  {
   "cell_type": "code",
   "execution_count": 15,
   "metadata": {
    "colab": {},
    "colab_type": "code",
    "id": "5K6dKZYVVp-q"
   },
   "outputs": [
    {
     "output_type": "execute_result",
     "data": {
      "text/plain": [
       "109.6585494970884"
      ]
     },
     "metadata": {},
     "execution_count": 15
    }
   ],
   "source": [
    "data.runtime.mean()"
   ]
  },
  {
   "cell_type": "code",
   "execution_count": 16,
   "metadata": {},
   "outputs": [
    {
     "output_type": "display_data",
     "data": {
      "text/plain": "     imdb_id     budget     revenue  original_title  \\\n0  tt0369610  150000000  1513528810  Jurassic World   \n\n                                                cast         director  \\\n0  Chris Pratt|Bryce Dallas Howard|Irrfan Khan|Vi...  Colin Trevorrow   \n\n             tagline                                           overview  \\\n0  The park is open.  Twenty-two years after the events of Jurassic ...   \n\n   runtime                                     genres  \\\n0      124  Action|Adventure|Science Fiction|Thriller   \n\n                                production_companies release_date  \\\n0  Universal Studios|Amblin Entertainment|Legenda...     6/9/2015   \n\n   vote_average  release_year  \n0           6.5          2015  ",
      "text/html": "<div>\n<style scoped>\n    .dataframe tbody tr th:only-of-type {\n        vertical-align: middle;\n    }\n\n    .dataframe tbody tr th {\n        vertical-align: top;\n    }\n\n    .dataframe thead th {\n        text-align: right;\n    }\n</style>\n<table border=\"1\" class=\"dataframe\">\n  <thead>\n    <tr style=\"text-align: right;\">\n      <th></th>\n      <th>imdb_id</th>\n      <th>budget</th>\n      <th>revenue</th>\n      <th>original_title</th>\n      <th>cast</th>\n      <th>director</th>\n      <th>tagline</th>\n      <th>overview</th>\n      <th>runtime</th>\n      <th>genres</th>\n      <th>production_companies</th>\n      <th>release_date</th>\n      <th>vote_average</th>\n      <th>release_year</th>\n    </tr>\n  </thead>\n  <tbody>\n    <tr>\n      <th>0</th>\n      <td>tt0369610</td>\n      <td>150000000</td>\n      <td>1513528810</td>\n      <td>Jurassic World</td>\n      <td>Chris Pratt|Bryce Dallas Howard|Irrfan Khan|Vi...</td>\n      <td>Colin Trevorrow</td>\n      <td>The park is open.</td>\n      <td>Twenty-two years after the events of Jurassic ...</td>\n      <td>124</td>\n      <td>Action|Adventure|Science Fiction|Thriller</td>\n      <td>Universal Studios|Amblin Entertainment|Legenda...</td>\n      <td>6/9/2015</td>\n      <td>6.5</td>\n      <td>2015</td>\n    </tr>\n  </tbody>\n</table>\n</div>"
     },
     "metadata": {}
    },
    {
     "output_type": "display_data",
     "data": {
      "text/plain": "{'1': '5. Pirates of the Caribbean (tt1298650)',\n '2': '2. Gods and Generals (tt0279111)',\n '3': '3. Winnie the Pooh (tt1449283)',\n '4': '2. 110'}"
     },
     "metadata": {}
    }
   ],
   "source": [
    "answers['4'] = '2. 110'\n",
    "display(data.head(1))\n",
    "display(answers)"
   ]
  },
  {
   "cell_type": "markdown",
   "metadata": {
    "colab_type": "text",
    "id": "r5TvbnT_Vp-u"
   },
   "source": [
    "# 5. Каково медианное значение длительности фильмов? "
   ]
  },
  {
   "cell_type": "code",
   "execution_count": 17,
   "metadata": {},
   "outputs": [
    {
     "output_type": "execute_result",
     "data": {
      "text/plain": [
       "107.0"
      ]
     },
     "metadata": {},
     "execution_count": 17
    }
   ],
   "source": [
    "data.runtime.median()"
   ]
  },
  {
   "cell_type": "code",
   "execution_count": 18,
   "metadata": {
    "colab": {},
    "colab_type": "code",
    "id": "iBROplKnVp-v"
   },
   "outputs": [
    {
     "output_type": "display_data",
     "data": {
      "text/plain": "     imdb_id     budget     revenue  original_title  \\\n0  tt0369610  150000000  1513528810  Jurassic World   \n\n                                                cast         director  \\\n0  Chris Pratt|Bryce Dallas Howard|Irrfan Khan|Vi...  Colin Trevorrow   \n\n             tagline                                           overview  \\\n0  The park is open.  Twenty-two years after the events of Jurassic ...   \n\n   runtime                                     genres  \\\n0      124  Action|Adventure|Science Fiction|Thriller   \n\n                                production_companies release_date  \\\n0  Universal Studios|Amblin Entertainment|Legenda...     6/9/2015   \n\n   vote_average  release_year  \n0           6.5          2015  ",
      "text/html": "<div>\n<style scoped>\n    .dataframe tbody tr th:only-of-type {\n        vertical-align: middle;\n    }\n\n    .dataframe tbody tr th {\n        vertical-align: top;\n    }\n\n    .dataframe thead th {\n        text-align: right;\n    }\n</style>\n<table border=\"1\" class=\"dataframe\">\n  <thead>\n    <tr style=\"text-align: right;\">\n      <th></th>\n      <th>imdb_id</th>\n      <th>budget</th>\n      <th>revenue</th>\n      <th>original_title</th>\n      <th>cast</th>\n      <th>director</th>\n      <th>tagline</th>\n      <th>overview</th>\n      <th>runtime</th>\n      <th>genres</th>\n      <th>production_companies</th>\n      <th>release_date</th>\n      <th>vote_average</th>\n      <th>release_year</th>\n    </tr>\n  </thead>\n  <tbody>\n    <tr>\n      <th>0</th>\n      <td>tt0369610</td>\n      <td>150000000</td>\n      <td>1513528810</td>\n      <td>Jurassic World</td>\n      <td>Chris Pratt|Bryce Dallas Howard|Irrfan Khan|Vi...</td>\n      <td>Colin Trevorrow</td>\n      <td>The park is open.</td>\n      <td>Twenty-two years after the events of Jurassic ...</td>\n      <td>124</td>\n      <td>Action|Adventure|Science Fiction|Thriller</td>\n      <td>Universal Studios|Amblin Entertainment|Legenda...</td>\n      <td>6/9/2015</td>\n      <td>6.5</td>\n      <td>2015</td>\n    </tr>\n  </tbody>\n</table>\n</div>"
     },
     "metadata": {}
    },
    {
     "output_type": "display_data",
     "data": {
      "text/plain": "{'1': '5. Pirates of the Caribbean (tt1298650)',\n '2': '2. Gods and Generals (tt0279111)',\n '3': '3. Winnie the Pooh (tt1449283)',\n '4': '2. 110',\n '5': '1. 107'}"
     },
     "metadata": {}
    }
   ],
   "source": [
    "answers['5'] = '1. 107'\n",
    "display(data.head(1))\n",
    "display(answers)"
   ]
  },
  {
   "cell_type": "markdown",
   "metadata": {
    "colab_type": "text",
    "id": "39P-deDSVp-y"
   },
   "source": [
    "# 6. Какой самый прибыльный фильм?\n",
    "#### Внимание! Здесь и далее под «прибылью» или «убытками» понимается разность между сборами и бюджетом фильма. (прибыль = сборы - бюджет) в нашем датасете это будет (profit = revenue - budget) "
   ]
  },
  {
   "cell_type": "code",
   "execution_count": 19,
   "metadata": {
    "colab": {},
    "colab_type": "code",
    "id": "UYZh4T9WVp-y"
   },
   "outputs": [
    {
     "output_type": "execute_result",
     "data": {
      "text/plain": [
       "     imdb_id     budget     revenue      original_title  \\\n",
       "0  tt0369610  150000000  1513528810      Jurassic World   \n",
       "1  tt1392190  150000000   378436354  Mad Max: Fury Road   \n",
       "\n",
       "                                                cast         director  \\\n",
       "0  Chris Pratt|Bryce Dallas Howard|Irrfan Khan|Vi...  Colin Trevorrow   \n",
       "1  Tom Hardy|Charlize Theron|Hugh Keays-Byrne|Nic...    George Miller   \n",
       "\n",
       "              tagline                                           overview  \\\n",
       "0   The park is open.  Twenty-two years after the events of Jurassic ...   \n",
       "1  What a Lovely Day.  An apocalyptic story set in the furthest reach...   \n",
       "\n",
       "   runtime                                     genres  \\\n",
       "0      124  Action|Adventure|Science Fiction|Thriller   \n",
       "1      120  Action|Adventure|Science Fiction|Thriller   \n",
       "\n",
       "                                production_companies release_date  \\\n",
       "0  Universal Studios|Amblin Entertainment|Legenda...     6/9/2015   \n",
       "1  Village Roadshow Pictures|Kennedy Miller Produ...    5/13/2015   \n",
       "\n",
       "   vote_average  release_year      profit  \n",
       "0           6.5          2015  1363528810  \n",
       "1           7.1          2015   228436354  "
      ],
      "text/html": "<div>\n<style scoped>\n    .dataframe tbody tr th:only-of-type {\n        vertical-align: middle;\n    }\n\n    .dataframe tbody tr th {\n        vertical-align: top;\n    }\n\n    .dataframe thead th {\n        text-align: right;\n    }\n</style>\n<table border=\"1\" class=\"dataframe\">\n  <thead>\n    <tr style=\"text-align: right;\">\n      <th></th>\n      <th>imdb_id</th>\n      <th>budget</th>\n      <th>revenue</th>\n      <th>original_title</th>\n      <th>cast</th>\n      <th>director</th>\n      <th>tagline</th>\n      <th>overview</th>\n      <th>runtime</th>\n      <th>genres</th>\n      <th>production_companies</th>\n      <th>release_date</th>\n      <th>vote_average</th>\n      <th>release_year</th>\n      <th>profit</th>\n    </tr>\n  </thead>\n  <tbody>\n    <tr>\n      <th>0</th>\n      <td>tt0369610</td>\n      <td>150000000</td>\n      <td>1513528810</td>\n      <td>Jurassic World</td>\n      <td>Chris Pratt|Bryce Dallas Howard|Irrfan Khan|Vi...</td>\n      <td>Colin Trevorrow</td>\n      <td>The park is open.</td>\n      <td>Twenty-two years after the events of Jurassic ...</td>\n      <td>124</td>\n      <td>Action|Adventure|Science Fiction|Thriller</td>\n      <td>Universal Studios|Amblin Entertainment|Legenda...</td>\n      <td>6/9/2015</td>\n      <td>6.5</td>\n      <td>2015</td>\n      <td>1363528810</td>\n    </tr>\n    <tr>\n      <th>1</th>\n      <td>tt1392190</td>\n      <td>150000000</td>\n      <td>378436354</td>\n      <td>Mad Max: Fury Road</td>\n      <td>Tom Hardy|Charlize Theron|Hugh Keays-Byrne|Nic...</td>\n      <td>George Miller</td>\n      <td>What a Lovely Day.</td>\n      <td>An apocalyptic story set in the furthest reach...</td>\n      <td>120</td>\n      <td>Action|Adventure|Science Fiction|Thriller</td>\n      <td>Village Roadshow Pictures|Kennedy Miller Produ...</td>\n      <td>5/13/2015</td>\n      <td>7.1</td>\n      <td>2015</td>\n      <td>228436354</td>\n    </tr>\n  </tbody>\n</table>\n</div>"
     },
     "metadata": {},
     "execution_count": 19
    }
   ],
   "source": [
    "# лучше код получения столбца profit вынести в Предобработку что в начале\n",
    "newdf = data\n",
    "newdf['profit'] = data.revenue - data.budget\n",
    "newdf.head(2)"
   ]
  },
  {
   "cell_type": "code",
   "execution_count": 20,
   "metadata": {},
   "outputs": [
    {
     "output_type": "execute_result",
     "data": {
      "text/plain": [
       "    original_title    imdb_id      profit\n",
       "239         Avatar  tt0499549  2544505847"
      ],
      "text/html": "<div>\n<style scoped>\n    .dataframe tbody tr th:only-of-type {\n        vertical-align: middle;\n    }\n\n    .dataframe tbody tr th {\n        vertical-align: top;\n    }\n\n    .dataframe thead th {\n        text-align: right;\n    }\n</style>\n<table border=\"1\" class=\"dataframe\">\n  <thead>\n    <tr style=\"text-align: right;\">\n      <th></th>\n      <th>original_title</th>\n      <th>imdb_id</th>\n      <th>profit</th>\n    </tr>\n  </thead>\n  <tbody>\n    <tr>\n      <th>239</th>\n      <td>Avatar</td>\n      <td>tt0499549</td>\n      <td>2544505847</td>\n    </tr>\n  </tbody>\n</table>\n</div>"
     },
     "metadata": {},
     "execution_count": 20
    }
   ],
   "source": [
    "newdf[newdf.profit == newdf.profit.max()][['original_title', 'imdb_id', 'profit']]"
   ]
  },
  {
   "cell_type": "code",
   "execution_count": 21,
   "metadata": {},
   "outputs": [
    {
     "output_type": "execute_result",
     "data": {
      "text/plain": [
       "                   original_title    imdb_id     revenue     budget  \\\n",
       "239                        Avatar  tt0499549  2781505847  237000000   \n",
       "3    Star Wars: The Force Awakens  tt2488496  2068178225  200000000   \n",
       "0                  Jurassic World  tt0369610  1513528810  150000000   \n",
       "4                       Furious 7  tt2820852  1506249360  190000000   \n",
       "970                  The Avengers  tt0848228  1519557910  220000000   \n",
       "\n",
       "         profit  \n",
       "239  2544505847  \n",
       "3    1868178225  \n",
       "0    1363528810  \n",
       "4    1316249360  \n",
       "970  1299557910  "
      ],
      "text/html": "<div>\n<style scoped>\n    .dataframe tbody tr th:only-of-type {\n        vertical-align: middle;\n    }\n\n    .dataframe tbody tr th {\n        vertical-align: top;\n    }\n\n    .dataframe thead th {\n        text-align: right;\n    }\n</style>\n<table border=\"1\" class=\"dataframe\">\n  <thead>\n    <tr style=\"text-align: right;\">\n      <th></th>\n      <th>original_title</th>\n      <th>imdb_id</th>\n      <th>revenue</th>\n      <th>budget</th>\n      <th>profit</th>\n    </tr>\n  </thead>\n  <tbody>\n    <tr>\n      <th>239</th>\n      <td>Avatar</td>\n      <td>tt0499549</td>\n      <td>2781505847</td>\n      <td>237000000</td>\n      <td>2544505847</td>\n    </tr>\n    <tr>\n      <th>3</th>\n      <td>Star Wars: The Force Awakens</td>\n      <td>tt2488496</td>\n      <td>2068178225</td>\n      <td>200000000</td>\n      <td>1868178225</td>\n    </tr>\n    <tr>\n      <th>0</th>\n      <td>Jurassic World</td>\n      <td>tt0369610</td>\n      <td>1513528810</td>\n      <td>150000000</td>\n      <td>1363528810</td>\n    </tr>\n    <tr>\n      <th>4</th>\n      <td>Furious 7</td>\n      <td>tt2820852</td>\n      <td>1506249360</td>\n      <td>190000000</td>\n      <td>1316249360</td>\n    </tr>\n    <tr>\n      <th>970</th>\n      <td>The Avengers</td>\n      <td>tt0848228</td>\n      <td>1519557910</td>\n      <td>220000000</td>\n      <td>1299557910</td>\n    </tr>\n  </tbody>\n</table>\n</div>"
     },
     "metadata": {},
     "execution_count": 21
    }
   ],
   "source": [
    "filtereds = newdf[['original_title','imdb_id','revenue','budget','profit']]\n",
    "filtereds.sort_values(by='profit', ascending=False).head()"
   ]
  },
  {
   "cell_type": "code",
   "execution_count": 22,
   "metadata": {},
   "outputs": [
    {
     "output_type": "display_data",
     "data": {
      "text/plain": "     imdb_id     budget     revenue  original_title  \\\n0  tt0369610  150000000  1513528810  Jurassic World   \n\n                                                cast         director  \\\n0  Chris Pratt|Bryce Dallas Howard|Irrfan Khan|Vi...  Colin Trevorrow   \n\n             tagline                                           overview  \\\n0  The park is open.  Twenty-two years after the events of Jurassic ...   \n\n   runtime                                     genres  \\\n0      124  Action|Adventure|Science Fiction|Thriller   \n\n                                production_companies release_date  \\\n0  Universal Studios|Amblin Entertainment|Legenda...     6/9/2015   \n\n   vote_average  release_year      profit  \n0           6.5          2015  1363528810  ",
      "text/html": "<div>\n<style scoped>\n    .dataframe tbody tr th:only-of-type {\n        vertical-align: middle;\n    }\n\n    .dataframe tbody tr th {\n        vertical-align: top;\n    }\n\n    .dataframe thead th {\n        text-align: right;\n    }\n</style>\n<table border=\"1\" class=\"dataframe\">\n  <thead>\n    <tr style=\"text-align: right;\">\n      <th></th>\n      <th>imdb_id</th>\n      <th>budget</th>\n      <th>revenue</th>\n      <th>original_title</th>\n      <th>cast</th>\n      <th>director</th>\n      <th>tagline</th>\n      <th>overview</th>\n      <th>runtime</th>\n      <th>genres</th>\n      <th>production_companies</th>\n      <th>release_date</th>\n      <th>vote_average</th>\n      <th>release_year</th>\n      <th>profit</th>\n    </tr>\n  </thead>\n  <tbody>\n    <tr>\n      <th>0</th>\n      <td>tt0369610</td>\n      <td>150000000</td>\n      <td>1513528810</td>\n      <td>Jurassic World</td>\n      <td>Chris Pratt|Bryce Dallas Howard|Irrfan Khan|Vi...</td>\n      <td>Colin Trevorrow</td>\n      <td>The park is open.</td>\n      <td>Twenty-two years after the events of Jurassic ...</td>\n      <td>124</td>\n      <td>Action|Adventure|Science Fiction|Thriller</td>\n      <td>Universal Studios|Amblin Entertainment|Legenda...</td>\n      <td>6/9/2015</td>\n      <td>6.5</td>\n      <td>2015</td>\n      <td>1363528810</td>\n    </tr>\n  </tbody>\n</table>\n</div>"
     },
     "metadata": {}
    },
    {
     "output_type": "display_data",
     "data": {
      "text/plain": "{'1': '5. Pirates of the Caribbean (tt1298650)',\n '2': '2. Gods and Generals (tt0279111)',\n '3': '3. Winnie the Pooh (tt1449283)',\n '4': '2. 110',\n '5': '1. 107',\n '6': '5. Avatar (tt0499549)'}"
     },
     "metadata": {}
    }
   ],
   "source": [
    "answers['6'] = '5. Avatar (tt0499549)'\n",
    "display(data.head(1))\n",
    "display(answers)"
   ]
  },
  {
   "cell_type": "markdown",
   "metadata": {
    "colab_type": "text",
    "id": "M99JmIX4Vp-2"
   },
   "source": [
    "# 7. Какой фильм самый убыточный? "
   ]
  },
  {
   "cell_type": "code",
   "execution_count": 23,
   "metadata": {
    "colab": {},
    "colab_type": "code",
    "id": "w-D2m4XPVp-3"
   },
   "outputs": [
    {
     "output_type": "execute_result",
     "data": {
      "text/plain": [
       "       original_title    imdb_id     profit\n",
       "1245  The Lone Ranger  tt1210819 -165710090"
      ],
      "text/html": "<div>\n<style scoped>\n    .dataframe tbody tr th:only-of-type {\n        vertical-align: middle;\n    }\n\n    .dataframe tbody tr th {\n        vertical-align: top;\n    }\n\n    .dataframe thead th {\n        text-align: right;\n    }\n</style>\n<table border=\"1\" class=\"dataframe\">\n  <thead>\n    <tr style=\"text-align: right;\">\n      <th></th>\n      <th>original_title</th>\n      <th>imdb_id</th>\n      <th>profit</th>\n    </tr>\n  </thead>\n  <tbody>\n    <tr>\n      <th>1245</th>\n      <td>The Lone Ranger</td>\n      <td>tt1210819</td>\n      <td>-165710090</td>\n    </tr>\n  </tbody>\n</table>\n</div>"
     },
     "metadata": {},
     "execution_count": 23
    }
   ],
   "source": [
    "newdf[newdf.profit == newdf.profit.min()][['original_title', 'imdb_id', 'profit']]"
   ]
  },
  {
   "cell_type": "code",
   "execution_count": 24,
   "metadata": {},
   "outputs": [
    {
     "output_type": "execute_result",
     "data": {
      "text/plain": [
       "                    original_title    imdb_id   revenue     budget     profit\n",
       "1245               The Lone Ranger  tt1210819  89289910  255000000 -165710090\n",
       "1616                     The Alamo  tt0318974  25819961  145000000 -119180039\n",
       "809                Mars Needs Moms  tt1305591  38992758  150000000 -111007242\n",
       "958   The Adventures of Pluto Nash  tt0180052   7103973  100000000  -92896027\n",
       "1464                  Flushed Away  tt0424095  64459316  149000000  -84540684"
      ],
      "text/html": "<div>\n<style scoped>\n    .dataframe tbody tr th:only-of-type {\n        vertical-align: middle;\n    }\n\n    .dataframe tbody tr th {\n        vertical-align: top;\n    }\n\n    .dataframe thead th {\n        text-align: right;\n    }\n</style>\n<table border=\"1\" class=\"dataframe\">\n  <thead>\n    <tr style=\"text-align: right;\">\n      <th></th>\n      <th>original_title</th>\n      <th>imdb_id</th>\n      <th>revenue</th>\n      <th>budget</th>\n      <th>profit</th>\n    </tr>\n  </thead>\n  <tbody>\n    <tr>\n      <th>1245</th>\n      <td>The Lone Ranger</td>\n      <td>tt1210819</td>\n      <td>89289910</td>\n      <td>255000000</td>\n      <td>-165710090</td>\n    </tr>\n    <tr>\n      <th>1616</th>\n      <td>The Alamo</td>\n      <td>tt0318974</td>\n      <td>25819961</td>\n      <td>145000000</td>\n      <td>-119180039</td>\n    </tr>\n    <tr>\n      <th>809</th>\n      <td>Mars Needs Moms</td>\n      <td>tt1305591</td>\n      <td>38992758</td>\n      <td>150000000</td>\n      <td>-111007242</td>\n    </tr>\n    <tr>\n      <th>958</th>\n      <td>The Adventures of Pluto Nash</td>\n      <td>tt0180052</td>\n      <td>7103973</td>\n      <td>100000000</td>\n      <td>-92896027</td>\n    </tr>\n    <tr>\n      <th>1464</th>\n      <td>Flushed Away</td>\n      <td>tt0424095</td>\n      <td>64459316</td>\n      <td>149000000</td>\n      <td>-84540684</td>\n    </tr>\n  </tbody>\n</table>\n</div>"
     },
     "metadata": {},
     "execution_count": 24
    }
   ],
   "source": [
    "filtereds = newdf[['original_title','imdb_id','revenue','budget','profit']]\n",
    "filtereds.sort_values(by='profit', ascending=True).head()"
   ]
  },
  {
   "cell_type": "code",
   "execution_count": 25,
   "metadata": {},
   "outputs": [
    {
     "output_type": "display_data",
     "data": {
      "text/plain": "     imdb_id     budget     revenue  original_title  \\\n0  tt0369610  150000000  1513528810  Jurassic World   \n\n                                                cast         director  \\\n0  Chris Pratt|Bryce Dallas Howard|Irrfan Khan|Vi...  Colin Trevorrow   \n\n             tagline                                           overview  \\\n0  The park is open.  Twenty-two years after the events of Jurassic ...   \n\n   runtime                                     genres  \\\n0      124  Action|Adventure|Science Fiction|Thriller   \n\n                                production_companies release_date  \\\n0  Universal Studios|Amblin Entertainment|Legenda...     6/9/2015   \n\n   vote_average  release_year      profit  \n0           6.5          2015  1363528810  ",
      "text/html": "<div>\n<style scoped>\n    .dataframe tbody tr th:only-of-type {\n        vertical-align: middle;\n    }\n\n    .dataframe tbody tr th {\n        vertical-align: top;\n    }\n\n    .dataframe thead th {\n        text-align: right;\n    }\n</style>\n<table border=\"1\" class=\"dataframe\">\n  <thead>\n    <tr style=\"text-align: right;\">\n      <th></th>\n      <th>imdb_id</th>\n      <th>budget</th>\n      <th>revenue</th>\n      <th>original_title</th>\n      <th>cast</th>\n      <th>director</th>\n      <th>tagline</th>\n      <th>overview</th>\n      <th>runtime</th>\n      <th>genres</th>\n      <th>production_companies</th>\n      <th>release_date</th>\n      <th>vote_average</th>\n      <th>release_year</th>\n      <th>profit</th>\n    </tr>\n  </thead>\n  <tbody>\n    <tr>\n      <th>0</th>\n      <td>tt0369610</td>\n      <td>150000000</td>\n      <td>1513528810</td>\n      <td>Jurassic World</td>\n      <td>Chris Pratt|Bryce Dallas Howard|Irrfan Khan|Vi...</td>\n      <td>Colin Trevorrow</td>\n      <td>The park is open.</td>\n      <td>Twenty-two years after the events of Jurassic ...</td>\n      <td>124</td>\n      <td>Action|Adventure|Science Fiction|Thriller</td>\n      <td>Universal Studios|Amblin Entertainment|Legenda...</td>\n      <td>6/9/2015</td>\n      <td>6.5</td>\n      <td>2015</td>\n      <td>1363528810</td>\n    </tr>\n  </tbody>\n</table>\n</div>"
     },
     "metadata": {}
    },
    {
     "output_type": "display_data",
     "data": {
      "text/plain": "{'1': '5. Pirates of the Caribbean (tt1298650)',\n '2': '2. Gods and Generals (tt0279111)',\n '3': '3. Winnie the Pooh (tt1449283)',\n '4': '2. 110',\n '5': '1. 107',\n '6': '5. Avatar (tt0499549)',\n '7': '5. The Lone Ranger (tt1210819)'}"
     },
     "metadata": {}
    }
   ],
   "source": [
    "answers['7'] = '5. The Lone Ranger (tt1210819)'\n",
    "display(newdf.head(1))\n",
    "display(answers)"
   ]
  },
  {
   "cell_type": "markdown",
   "metadata": {
    "colab_type": "text",
    "id": "wEOM5ERVVp-6"
   },
   "source": [
    "# 8. У скольких фильмов из датасета объем сборов оказался выше бюджета?"
   ]
  },
  {
   "cell_type": "code",
   "execution_count": 26,
   "metadata": {
    "colab": {},
    "colab_type": "code",
    "id": "y00_7HD6Vp-7"
   },
   "outputs": [
    {
     "output_type": "execute_result",
     "data": {
      "text/plain": [
       "1478"
      ]
     },
     "metadata": {},
     "execution_count": 26
    }
   ],
   "source": [
    "successfulls = newdf[newdf.revenue > newdf.budget]\n",
    "len(successfulls)"
   ]
  },
  {
   "cell_type": "code",
   "execution_count": 27,
   "metadata": {},
   "outputs": [
    {
     "output_type": "display_data",
     "data": {
      "text/plain": "     imdb_id     budget     revenue  original_title  \\\n0  tt0369610  150000000  1513528810  Jurassic World   \n\n                                                cast         director  \\\n0  Chris Pratt|Bryce Dallas Howard|Irrfan Khan|Vi...  Colin Trevorrow   \n\n             tagline                                           overview  \\\n0  The park is open.  Twenty-two years after the events of Jurassic ...   \n\n   runtime                                     genres  \\\n0      124  Action|Adventure|Science Fiction|Thriller   \n\n                                production_companies release_date  \\\n0  Universal Studios|Amblin Entertainment|Legenda...     6/9/2015   \n\n   vote_average  release_year      profit  \n0           6.5          2015  1363528810  ",
      "text/html": "<div>\n<style scoped>\n    .dataframe tbody tr th:only-of-type {\n        vertical-align: middle;\n    }\n\n    .dataframe tbody tr th {\n        vertical-align: top;\n    }\n\n    .dataframe thead th {\n        text-align: right;\n    }\n</style>\n<table border=\"1\" class=\"dataframe\">\n  <thead>\n    <tr style=\"text-align: right;\">\n      <th></th>\n      <th>imdb_id</th>\n      <th>budget</th>\n      <th>revenue</th>\n      <th>original_title</th>\n      <th>cast</th>\n      <th>director</th>\n      <th>tagline</th>\n      <th>overview</th>\n      <th>runtime</th>\n      <th>genres</th>\n      <th>production_companies</th>\n      <th>release_date</th>\n      <th>vote_average</th>\n      <th>release_year</th>\n      <th>profit</th>\n    </tr>\n  </thead>\n  <tbody>\n    <tr>\n      <th>0</th>\n      <td>tt0369610</td>\n      <td>150000000</td>\n      <td>1513528810</td>\n      <td>Jurassic World</td>\n      <td>Chris Pratt|Bryce Dallas Howard|Irrfan Khan|Vi...</td>\n      <td>Colin Trevorrow</td>\n      <td>The park is open.</td>\n      <td>Twenty-two years after the events of Jurassic ...</td>\n      <td>124</td>\n      <td>Action|Adventure|Science Fiction|Thriller</td>\n      <td>Universal Studios|Amblin Entertainment|Legenda...</td>\n      <td>6/9/2015</td>\n      <td>6.5</td>\n      <td>2015</td>\n      <td>1363528810</td>\n    </tr>\n  </tbody>\n</table>\n</div>"
     },
     "metadata": {}
    },
    {
     "output_type": "display_data",
     "data": {
      "text/plain": "{'1': '5. Pirates of the Caribbean (tt1298650)',\n '2': '2. Gods and Generals (tt0279111)',\n '3': '3. Winnie the Pooh (tt1449283)',\n '4': '2. 110',\n '5': '1. 107',\n '6': '5. Avatar (tt0499549)',\n '7': '5. The Lone Ranger (tt1210819)',\n '8': '1. 1478'}"
     },
     "metadata": {}
    }
   ],
   "source": [
    "answers['8'] = '1. 1478'\n",
    "display(newdf.head(1))\n",
    "display(answers)"
   ]
  },
  {
   "cell_type": "markdown",
   "metadata": {
    "colab_type": "text",
    "id": "xhpspA9KVp_A"
   },
   "source": [
    "# 9. Какой фильм оказался самым кассовым в 2008 году?"
   ]
  },
  {
   "cell_type": "code",
   "execution_count": 28,
   "metadata": {
    "colab": {},
    "colab_type": "code",
    "id": "MoUyQr9RVp_B"
   },
   "outputs": [
    {
     "output_type": "execute_result",
     "data": {
      "text/plain": [
       "      original_title    imdb_id  release_year\n",
       "599  The Dark Knight  tt0468569          2008"
      ],
      "text/html": "<div>\n<style scoped>\n    .dataframe tbody tr th:only-of-type {\n        vertical-align: middle;\n    }\n\n    .dataframe tbody tr th {\n        vertical-align: top;\n    }\n\n    .dataframe thead th {\n        text-align: right;\n    }\n</style>\n<table border=\"1\" class=\"dataframe\">\n  <thead>\n    <tr style=\"text-align: right;\">\n      <th></th>\n      <th>original_title</th>\n      <th>imdb_id</th>\n      <th>release_year</th>\n    </tr>\n  </thead>\n  <tbody>\n    <tr>\n      <th>599</th>\n      <td>The Dark Knight</td>\n      <td>tt0468569</td>\n      <td>2008</td>\n    </tr>\n  </tbody>\n</table>\n</div>"
     },
     "metadata": {},
     "execution_count": 28
    }
   ],
   "source": [
    "year2008s = newdf[newdf.release_year == 2008]\n",
    "year2008s[year2008s.profit == year2008s.profit.max()][['original_title','imdb_id','release_year']]"
   ]
  },
  {
   "cell_type": "code",
   "execution_count": 29,
   "metadata": {},
   "outputs": [
    {
     "output_type": "display_data",
     "data": {
      "text/plain": "     imdb_id     budget     revenue  original_title  \\\n0  tt0369610  150000000  1513528810  Jurassic World   \n\n                                                cast         director  \\\n0  Chris Pratt|Bryce Dallas Howard|Irrfan Khan|Vi...  Colin Trevorrow   \n\n             tagline                                           overview  \\\n0  The park is open.  Twenty-two years after the events of Jurassic ...   \n\n   runtime                                     genres  \\\n0      124  Action|Adventure|Science Fiction|Thriller   \n\n                                production_companies release_date  \\\n0  Universal Studios|Amblin Entertainment|Legenda...     6/9/2015   \n\n   vote_average  release_year      profit  \n0           6.5          2015  1363528810  ",
      "text/html": "<div>\n<style scoped>\n    .dataframe tbody tr th:only-of-type {\n        vertical-align: middle;\n    }\n\n    .dataframe tbody tr th {\n        vertical-align: top;\n    }\n\n    .dataframe thead th {\n        text-align: right;\n    }\n</style>\n<table border=\"1\" class=\"dataframe\">\n  <thead>\n    <tr style=\"text-align: right;\">\n      <th></th>\n      <th>imdb_id</th>\n      <th>budget</th>\n      <th>revenue</th>\n      <th>original_title</th>\n      <th>cast</th>\n      <th>director</th>\n      <th>tagline</th>\n      <th>overview</th>\n      <th>runtime</th>\n      <th>genres</th>\n      <th>production_companies</th>\n      <th>release_date</th>\n      <th>vote_average</th>\n      <th>release_year</th>\n      <th>profit</th>\n    </tr>\n  </thead>\n  <tbody>\n    <tr>\n      <th>0</th>\n      <td>tt0369610</td>\n      <td>150000000</td>\n      <td>1513528810</td>\n      <td>Jurassic World</td>\n      <td>Chris Pratt|Bryce Dallas Howard|Irrfan Khan|Vi...</td>\n      <td>Colin Trevorrow</td>\n      <td>The park is open.</td>\n      <td>Twenty-two years after the events of Jurassic ...</td>\n      <td>124</td>\n      <td>Action|Adventure|Science Fiction|Thriller</td>\n      <td>Universal Studios|Amblin Entertainment|Legenda...</td>\n      <td>6/9/2015</td>\n      <td>6.5</td>\n      <td>2015</td>\n      <td>1363528810</td>\n    </tr>\n  </tbody>\n</table>\n</div>"
     },
     "metadata": {}
    },
    {
     "output_type": "display_data",
     "data": {
      "text/plain": "{'1': '5. Pirates of the Caribbean (tt1298650)',\n '2': '2. Gods and Generals (tt0279111)',\n '3': '3. Winnie the Pooh (tt1449283)',\n '4': '2. 110',\n '5': '1. 107',\n '6': '5. Avatar (tt0499549)',\n '7': '5. The Lone Ranger (tt1210819)',\n '8': '1. 1478',\n '9': '4. The Dark Knight (tt0468569)'}"
     },
     "metadata": {}
    }
   ],
   "source": [
    "answers['9'] = '4. The Dark Knight (tt0468569)'\n",
    "display(newdf.head(1))\n",
    "display(answers)"
   ]
  },
  {
   "cell_type": "markdown",
   "metadata": {
    "colab_type": "text",
    "id": "Zi4hDKidVp_F"
   },
   "source": [
    "# 10. Самый убыточный фильм за период с 2012 по 2014 г. (включительно)?\n"
   ]
  },
  {
   "cell_type": "code",
   "execution_count": 30,
   "metadata": {
    "colab": {},
    "colab_type": "code",
    "id": "XqyRmufJVp_F"
   },
   "outputs": [
    {
     "output_type": "execute_result",
     "data": {
      "text/plain": [
       "       original_title    imdb_id  release_year\n",
       "1245  The Lone Ranger  tt1210819          2013"
      ],
      "text/html": "<div>\n<style scoped>\n    .dataframe tbody tr th:only-of-type {\n        vertical-align: middle;\n    }\n\n    .dataframe tbody tr th {\n        vertical-align: top;\n    }\n\n    .dataframe thead th {\n        text-align: right;\n    }\n</style>\n<table border=\"1\" class=\"dataframe\">\n  <thead>\n    <tr style=\"text-align: right;\">\n      <th></th>\n      <th>original_title</th>\n      <th>imdb_id</th>\n      <th>release_year</th>\n    </tr>\n  </thead>\n  <tbody>\n    <tr>\n      <th>1245</th>\n      <td>The Lone Ranger</td>\n      <td>tt1210819</td>\n      <td>2013</td>\n    </tr>\n  </tbody>\n</table>\n</div>"
     },
     "metadata": {},
     "execution_count": 30
    }
   ],
   "source": [
    "year_period = newdf.query('2012 < release_year <= 2014')\n",
    "year_period[year_period.profit == year_period.profit.min()][['original_title','imdb_id','release_year']]"
   ]
  },
  {
   "cell_type": "code",
   "execution_count": 31,
   "metadata": {},
   "outputs": [
    {
     "output_type": "display_data",
     "data": {
      "text/plain": "     imdb_id     budget     revenue  original_title  \\\n0  tt0369610  150000000  1513528810  Jurassic World   \n\n                                                cast         director  \\\n0  Chris Pratt|Bryce Dallas Howard|Irrfan Khan|Vi...  Colin Trevorrow   \n\n             tagline                                           overview  \\\n0  The park is open.  Twenty-two years after the events of Jurassic ...   \n\n   runtime                                     genres  \\\n0      124  Action|Adventure|Science Fiction|Thriller   \n\n                                production_companies release_date  \\\n0  Universal Studios|Amblin Entertainment|Legenda...     6/9/2015   \n\n   vote_average  release_year      profit  \n0           6.5          2015  1363528810  ",
      "text/html": "<div>\n<style scoped>\n    .dataframe tbody tr th:only-of-type {\n        vertical-align: middle;\n    }\n\n    .dataframe tbody tr th {\n        vertical-align: top;\n    }\n\n    .dataframe thead th {\n        text-align: right;\n    }\n</style>\n<table border=\"1\" class=\"dataframe\">\n  <thead>\n    <tr style=\"text-align: right;\">\n      <th></th>\n      <th>imdb_id</th>\n      <th>budget</th>\n      <th>revenue</th>\n      <th>original_title</th>\n      <th>cast</th>\n      <th>director</th>\n      <th>tagline</th>\n      <th>overview</th>\n      <th>runtime</th>\n      <th>genres</th>\n      <th>production_companies</th>\n      <th>release_date</th>\n      <th>vote_average</th>\n      <th>release_year</th>\n      <th>profit</th>\n    </tr>\n  </thead>\n  <tbody>\n    <tr>\n      <th>0</th>\n      <td>tt0369610</td>\n      <td>150000000</td>\n      <td>1513528810</td>\n      <td>Jurassic World</td>\n      <td>Chris Pratt|Bryce Dallas Howard|Irrfan Khan|Vi...</td>\n      <td>Colin Trevorrow</td>\n      <td>The park is open.</td>\n      <td>Twenty-two years after the events of Jurassic ...</td>\n      <td>124</td>\n      <td>Action|Adventure|Science Fiction|Thriller</td>\n      <td>Universal Studios|Amblin Entertainment|Legenda...</td>\n      <td>6/9/2015</td>\n      <td>6.5</td>\n      <td>2015</td>\n      <td>1363528810</td>\n    </tr>\n  </tbody>\n</table>\n</div>"
     },
     "metadata": {}
    },
    {
     "output_type": "display_data",
     "data": {
      "text/plain": "{'1': '5. Pirates of the Caribbean (tt1298650)',\n '2': '2. Gods and Generals (tt0279111)',\n '3': '3. Winnie the Pooh (tt1449283)',\n '4': '2. 110',\n '5': '1. 107',\n '6': '5. Avatar (tt0499549)',\n '7': '5. The Lone Ranger (tt1210819)',\n '8': '1. 1478',\n '9': '4. The Dark Knight (tt0468569)',\n '10': '5. The Lone Ranger (tt1210819)'}"
     },
     "metadata": {}
    }
   ],
   "source": [
    "answers['10'] = '5. The Lone Ranger (tt1210819)'\n",
    "display(newdf.head(1))\n",
    "display(answers)"
   ]
  },
  {
   "cell_type": "markdown",
   "metadata": {
    "colab_type": "text",
    "id": "EA7Sa9dkVp_I"
   },
   "source": [
    "# 11. Какого жанра фильмов больше всего?"
   ]
  },
  {
   "cell_type": "code",
   "execution_count": 33,
   "metadata": {
    "colab": {},
    "colab_type": "code",
    "id": "zsJAwJ8QVp_J"
   },
   "outputs": [
    {
     "output_type": "execute_result",
     "data": {
      "text/plain": [
       "Drama              782\n",
       "Comedy             683\n",
       "Thriller           596\n",
       "Action             582\n",
       "Adventure          415\n",
       "Crime              315\n",
       "Romance            308\n",
       "Family             260\n",
       "Science Fiction    248\n",
       "Fantasy            222\n",
       "Horror             176\n",
       "Mystery            168\n",
       "Animation          139\n",
       "Music               64\n",
       "History             62\n",
       "War                 58\n",
       "Western             19\n",
       "Documentary          8\n",
       "Foreign              2\n",
       "Name: genres, dtype: int64"
      ]
     },
     "metadata": {},
     "execution_count": 33
    }
   ],
   "source": [
    "# эту задачу тоже можно решать разными подходами, попробуй реализовать разные варианты\n",
    "# если будешь добавлять функцию - выноси ее в предобработку что в начале\n",
    "splitted = newdf.assign(genres=newdf.genres.str.split('|')).explode('genres').reset_index(drop=True)\n",
    "splitted['genres'].value_counts()"
   ]
  },
  {
   "cell_type": "markdown",
   "metadata": {
    "colab_type": "text",
    "id": "Ax6g2C8SVp_M"
   },
   "source": [
    "ВАРИАНТ 2"
   ]
  },
  {
   "cell_type": "code",
   "execution_count": 34,
   "metadata": {
    "colab": {},
    "colab_type": "code",
    "id": "otO3SbrSVp_N"
   },
   "outputs": [
    {
     "output_type": "execute_result",
     "data": {
      "text/plain": [
       "Drama              782\n",
       "Comedy             683\n",
       "Thriller           596\n",
       "Action             582\n",
       "Adventure          415\n",
       "Crime              315\n",
       "Romance            308\n",
       "Family             260\n",
       "Science Fiction    248\n",
       "Fantasy            222\n",
       "Horror             176\n",
       "Mystery            168\n",
       "Animation          139\n",
       "Music               64\n",
       "History             62\n",
       "War                 58\n",
       "Western             19\n",
       "Documentary          8\n",
       "Foreign              2\n",
       "Name: genre, dtype: int64"
      ]
     },
     "metadata": {},
     "execution_count": 34
    }
   ],
   "source": [
    "genre_series = newdf.genres.str.split('|').explode()\n",
    "newdf_2 = newdf.merge(genre_series.rename('genre'), left_index=True, right_index=True)\n",
    "newdf_2.genre.value_counts()"
   ]
  },
  {
   "cell_type": "code",
   "execution_count": 35,
   "metadata": {},
   "outputs": [
    {
     "output_type": "display_data",
     "data": {
      "text/plain": "     imdb_id     budget     revenue  original_title  \\\n0  tt0369610  150000000  1513528810  Jurassic World   \n\n                                                cast         director  \\\n0  Chris Pratt|Bryce Dallas Howard|Irrfan Khan|Vi...  Colin Trevorrow   \n\n             tagline                                           overview  \\\n0  The park is open.  Twenty-two years after the events of Jurassic ...   \n\n   runtime                                     genres  \\\n0      124  Action|Adventure|Science Fiction|Thriller   \n\n                                production_companies release_date  \\\n0  Universal Studios|Amblin Entertainment|Legenda...     6/9/2015   \n\n   vote_average  release_year      profit   genre  \n0           6.5          2015  1363528810  Action  ",
      "text/html": "<div>\n<style scoped>\n    .dataframe tbody tr th:only-of-type {\n        vertical-align: middle;\n    }\n\n    .dataframe tbody tr th {\n        vertical-align: top;\n    }\n\n    .dataframe thead th {\n        text-align: right;\n    }\n</style>\n<table border=\"1\" class=\"dataframe\">\n  <thead>\n    <tr style=\"text-align: right;\">\n      <th></th>\n      <th>imdb_id</th>\n      <th>budget</th>\n      <th>revenue</th>\n      <th>original_title</th>\n      <th>cast</th>\n      <th>director</th>\n      <th>tagline</th>\n      <th>overview</th>\n      <th>runtime</th>\n      <th>genres</th>\n      <th>production_companies</th>\n      <th>release_date</th>\n      <th>vote_average</th>\n      <th>release_year</th>\n      <th>profit</th>\n      <th>genre</th>\n    </tr>\n  </thead>\n  <tbody>\n    <tr>\n      <th>0</th>\n      <td>tt0369610</td>\n      <td>150000000</td>\n      <td>1513528810</td>\n      <td>Jurassic World</td>\n      <td>Chris Pratt|Bryce Dallas Howard|Irrfan Khan|Vi...</td>\n      <td>Colin Trevorrow</td>\n      <td>The park is open.</td>\n      <td>Twenty-two years after the events of Jurassic ...</td>\n      <td>124</td>\n      <td>Action|Adventure|Science Fiction|Thriller</td>\n      <td>Universal Studios|Amblin Entertainment|Legenda...</td>\n      <td>6/9/2015</td>\n      <td>6.5</td>\n      <td>2015</td>\n      <td>1363528810</td>\n      <td>Action</td>\n    </tr>\n  </tbody>\n</table>\n</div>"
     },
     "metadata": {}
    },
    {
     "output_type": "display_data",
     "data": {
      "text/plain": "{'1': '5. Pirates of the Caribbean (tt1298650)',\n '2': '2. Gods and Generals (tt0279111)',\n '3': '3. Winnie the Pooh (tt1449283)',\n '4': '2. 110',\n '5': '1. 107',\n '6': '5. Avatar (tt0499549)',\n '7': '5. The Lone Ranger (tt1210819)',\n '8': '1. 1478',\n '9': '4. The Dark Knight (tt0468569)',\n '10': '5. The Lone Ranger (tt1210819)',\n '11': '3. Drama'}"
     },
     "metadata": {}
    }
   ],
   "source": [
    "answers['11'] = '3. Drama'\n",
    "display(newdf_2.head(1))\n",
    "display(answers)"
   ]
  },
  {
   "cell_type": "markdown",
   "metadata": {
    "colab_type": "text",
    "id": "T9_bPWpkVp_Q"
   },
   "source": [
    "# 12. Фильмы какого жанра чаще всего становятся прибыльными? "
   ]
  },
  {
   "source": [],
   "cell_type": "markdown",
   "metadata": {
    "colab": {},
    "colab_type": "code",
    "id": "Tmt8MaK1Vp_R"
   }
  },
  {
   "cell_type": "code",
   "execution_count": 36,
   "metadata": {},
   "outputs": [
    {
     "output_type": "execute_result",
     "data": {
      "text/plain": [
       "Drama              0.141343\n",
       "Comedy             0.139071\n",
       "Thriller           0.112569\n",
       "Action             0.112065\n",
       "Adventure          0.085058\n",
       "Romance            0.061080\n",
       "Crime              0.058304\n",
       "Family             0.057042\n",
       "Science Fiction    0.049218\n",
       "Fantasy            0.047451\n",
       "Horror             0.037860\n",
       "Animation          0.030288\n",
       "Mystery            0.030035\n",
       "Music              0.011863\n",
       "History            0.011610\n",
       "War                0.010348\n",
       "Western            0.003029\n",
       "Documentary        0.001767\n",
       "Name: genre, dtype: float64"
      ]
     },
     "metadata": {},
     "execution_count": 36
    }
   ],
   "source": [
    "newdf_2[newdf_2.profit > 0].genre.value_counts(normalize=True)"
   ]
  },
  {
   "cell_type": "code",
   "execution_count": 37,
   "metadata": {},
   "outputs": [
    {
     "output_type": "display_data",
     "data": {
      "text/plain": "     imdb_id     budget     revenue  original_title  \\\n0  tt0369610  150000000  1513528810  Jurassic World   \n\n                                                cast         director  \\\n0  Chris Pratt|Bryce Dallas Howard|Irrfan Khan|Vi...  Colin Trevorrow   \n\n             tagline                                           overview  \\\n0  The park is open.  Twenty-two years after the events of Jurassic ...   \n\n   runtime                                     genres  \\\n0      124  Action|Adventure|Science Fiction|Thriller   \n\n                                production_companies release_date  \\\n0  Universal Studios|Amblin Entertainment|Legenda...     6/9/2015   \n\n   vote_average  release_year      profit   genre  \n0           6.5          2015  1363528810  Action  ",
      "text/html": "<div>\n<style scoped>\n    .dataframe tbody tr th:only-of-type {\n        vertical-align: middle;\n    }\n\n    .dataframe tbody tr th {\n        vertical-align: top;\n    }\n\n    .dataframe thead th {\n        text-align: right;\n    }\n</style>\n<table border=\"1\" class=\"dataframe\">\n  <thead>\n    <tr style=\"text-align: right;\">\n      <th></th>\n      <th>imdb_id</th>\n      <th>budget</th>\n      <th>revenue</th>\n      <th>original_title</th>\n      <th>cast</th>\n      <th>director</th>\n      <th>tagline</th>\n      <th>overview</th>\n      <th>runtime</th>\n      <th>genres</th>\n      <th>production_companies</th>\n      <th>release_date</th>\n      <th>vote_average</th>\n      <th>release_year</th>\n      <th>profit</th>\n      <th>genre</th>\n    </tr>\n  </thead>\n  <tbody>\n    <tr>\n      <th>0</th>\n      <td>tt0369610</td>\n      <td>150000000</td>\n      <td>1513528810</td>\n      <td>Jurassic World</td>\n      <td>Chris Pratt|Bryce Dallas Howard|Irrfan Khan|Vi...</td>\n      <td>Colin Trevorrow</td>\n      <td>The park is open.</td>\n      <td>Twenty-two years after the events of Jurassic ...</td>\n      <td>124</td>\n      <td>Action|Adventure|Science Fiction|Thriller</td>\n      <td>Universal Studios|Amblin Entertainment|Legenda...</td>\n      <td>6/9/2015</td>\n      <td>6.5</td>\n      <td>2015</td>\n      <td>1363528810</td>\n      <td>Action</td>\n    </tr>\n  </tbody>\n</table>\n</div>"
     },
     "metadata": {}
    },
    {
     "output_type": "display_data",
     "data": {
      "text/plain": "{'1': '5. Pirates of the Caribbean (tt1298650)',\n '2': '2. Gods and Generals (tt0279111)',\n '3': '3. Winnie the Pooh (tt1449283)',\n '4': '2. 110',\n '5': '1. 107',\n '6': '5. Avatar (tt0499549)',\n '7': '5. The Lone Ranger (tt1210819)',\n '8': '1. 1478',\n '9': '4. The Dark Knight (tt0468569)',\n '10': '5. The Lone Ranger (tt1210819)',\n '11': '3. Drama',\n '12': '1. Drama'}"
     },
     "metadata": {}
    }
   ],
   "source": [
    "answers['12'] = '1. Drama'\n",
    "display(newdf_2.head(1))\n",
    "display(answers)"
   ]
  },
  {
   "cell_type": "markdown",
   "metadata": {
    "colab_type": "text",
    "id": "0F23bgsDVp_U"
   },
   "source": [
    "# 13. У какого режиссера самые большие суммарные кассовые сборы?"
   ]
  },
  {
   "cell_type": "code",
   "execution_count": 38,
   "metadata": {
    "colab": {},
    "colab_type": "code",
    "id": "K6Z3J8ygVp_X"
   },
   "outputs": [
    {
     "output_type": "execute_result",
     "data": {
      "text/plain": [
       "director\n",
       "Peter Jackson        6490593685\n",
       "Christopher Nolan    4167548502\n",
       "David Yates          4154295625\n",
       "Michael Bay          3886938960\n",
       "J.J. Abrams          3579169916\n",
       "                        ...    \n",
       "David MichÃ´d           2295423\n",
       "Steven Shainberg        2281089\n",
       "Paul Schrader           2062066\n",
       "Keanu Reeves            2054941\n",
       "Simon Hunter            2033165\n",
       "Name: revenue, Length: 957, dtype: int64"
      ]
     },
     "metadata": {},
     "execution_count": 38
    }
   ],
   "source": [
    "newdf.groupby(['director'])['revenue'].sum().sort_values(ascending=False)"
   ]
  },
  {
   "cell_type": "code",
   "execution_count": 39,
   "metadata": {},
   "outputs": [
    {
     "output_type": "display_data",
     "data": {
      "text/plain": "     imdb_id     budget     revenue  original_title  \\\n0  tt0369610  150000000  1513528810  Jurassic World   \n\n                                                cast         director  \\\n0  Chris Pratt|Bryce Dallas Howard|Irrfan Khan|Vi...  Colin Trevorrow   \n\n             tagline                                           overview  \\\n0  The park is open.  Twenty-two years after the events of Jurassic ...   \n\n   runtime                                     genres  \\\n0      124  Action|Adventure|Science Fiction|Thriller   \n\n                                production_companies release_date  \\\n0  Universal Studios|Amblin Entertainment|Legenda...     6/9/2015   \n\n   vote_average  release_year      profit  \n0           6.5          2015  1363528810  ",
      "text/html": "<div>\n<style scoped>\n    .dataframe tbody tr th:only-of-type {\n        vertical-align: middle;\n    }\n\n    .dataframe tbody tr th {\n        vertical-align: top;\n    }\n\n    .dataframe thead th {\n        text-align: right;\n    }\n</style>\n<table border=\"1\" class=\"dataframe\">\n  <thead>\n    <tr style=\"text-align: right;\">\n      <th></th>\n      <th>imdb_id</th>\n      <th>budget</th>\n      <th>revenue</th>\n      <th>original_title</th>\n      <th>cast</th>\n      <th>director</th>\n      <th>tagline</th>\n      <th>overview</th>\n      <th>runtime</th>\n      <th>genres</th>\n      <th>production_companies</th>\n      <th>release_date</th>\n      <th>vote_average</th>\n      <th>release_year</th>\n      <th>profit</th>\n    </tr>\n  </thead>\n  <tbody>\n    <tr>\n      <th>0</th>\n      <td>tt0369610</td>\n      <td>150000000</td>\n      <td>1513528810</td>\n      <td>Jurassic World</td>\n      <td>Chris Pratt|Bryce Dallas Howard|Irrfan Khan|Vi...</td>\n      <td>Colin Trevorrow</td>\n      <td>The park is open.</td>\n      <td>Twenty-two years after the events of Jurassic ...</td>\n      <td>124</td>\n      <td>Action|Adventure|Science Fiction|Thriller</td>\n      <td>Universal Studios|Amblin Entertainment|Legenda...</td>\n      <td>6/9/2015</td>\n      <td>6.5</td>\n      <td>2015</td>\n      <td>1363528810</td>\n    </tr>\n  </tbody>\n</table>\n</div>"
     },
     "metadata": {}
    },
    {
     "output_type": "display_data",
     "data": {
      "text/plain": "{'1': '5. Pirates of the Caribbean (tt1298650)',\n '2': '2. Gods and Generals (tt0279111)',\n '3': '3. Winnie the Pooh (tt1449283)',\n '4': '2. 110',\n '5': '1. 107',\n '6': '5. Avatar (tt0499549)',\n '7': '5. The Lone Ranger (tt1210819)',\n '8': '1. 1478',\n '9': '4. The Dark Knight (tt0468569)',\n '10': '5. The Lone Ranger (tt1210819)',\n '11': '3. Drama',\n '12': '1. Drama',\n '13': '5. Peter Jackson'}"
     },
     "metadata": {}
    }
   ],
   "source": [
    "answers['13'] = '5. Peter Jackson'\n",
    "display(newdf.head(1))\n",
    "display(answers)"
   ]
  },
  {
   "cell_type": "markdown",
   "metadata": {
    "colab_type": "text",
    "id": "PsYC9FgRVp_a"
   },
   "source": [
    "# 14. Какой режисер снял больше всего фильмов в стиле Action?"
   ]
  },
  {
   "cell_type": "code",
   "execution_count": 40,
   "metadata": {},
   "outputs": [
    {
     "output_type": "execute_result",
     "data": {
      "text/plain": [
       "Robert Rodriguez      30\n",
       "Paul W.S. Anderson    25\n",
       "Michael Bay           24\n",
       "Paul Greengrass       19\n",
       "Antoine Fuqua         19\n",
       "Lee Tamahori          18\n",
       "Roland Emmerich       18\n",
       "Ridley Scott          18\n",
       "Andrzej Bartkowiak    18\n",
       "Peter Berg            17\n",
       "Name: lone_director, dtype: int64"
      ]
     },
     "metadata": {},
     "execution_count": 40
    }
   ],
   "source": [
    "directors = newdf_2.director.str.split('|').explode()\n",
    "newdf_3 = newdf_2.merge(directors.rename('lone_director'), left_index=True, right_index=True)\n",
    "newdf_3[newdf_3.genre == \"Action\"].lone_director.value_counts().head(10)"
   ]
  },
  {
   "cell_type": "code",
   "execution_count": 41,
   "metadata": {},
   "outputs": [
    {
     "output_type": "display_data",
     "data": {
      "text/plain": "     imdb_id     budget     revenue  original_title  \\\n0  tt0369610  150000000  1513528810  Jurassic World   \n\n                                                cast         director  \\\n0  Chris Pratt|Bryce Dallas Howard|Irrfan Khan|Vi...  Colin Trevorrow   \n\n             tagline                                           overview  \\\n0  The park is open.  Twenty-two years after the events of Jurassic ...   \n\n   runtime                                     genres  \\\n0      124  Action|Adventure|Science Fiction|Thriller   \n\n                                production_companies release_date  \\\n0  Universal Studios|Amblin Entertainment|Legenda...     6/9/2015   \n\n   vote_average  release_year      profit   genre    lone_director  \n0           6.5          2015  1363528810  Action  Colin Trevorrow  ",
      "text/html": "<div>\n<style scoped>\n    .dataframe tbody tr th:only-of-type {\n        vertical-align: middle;\n    }\n\n    .dataframe tbody tr th {\n        vertical-align: top;\n    }\n\n    .dataframe thead th {\n        text-align: right;\n    }\n</style>\n<table border=\"1\" class=\"dataframe\">\n  <thead>\n    <tr style=\"text-align: right;\">\n      <th></th>\n      <th>imdb_id</th>\n      <th>budget</th>\n      <th>revenue</th>\n      <th>original_title</th>\n      <th>cast</th>\n      <th>director</th>\n      <th>tagline</th>\n      <th>overview</th>\n      <th>runtime</th>\n      <th>genres</th>\n      <th>production_companies</th>\n      <th>release_date</th>\n      <th>vote_average</th>\n      <th>release_year</th>\n      <th>profit</th>\n      <th>genre</th>\n      <th>lone_director</th>\n    </tr>\n  </thead>\n  <tbody>\n    <tr>\n      <th>0</th>\n      <td>tt0369610</td>\n      <td>150000000</td>\n      <td>1513528810</td>\n      <td>Jurassic World</td>\n      <td>Chris Pratt|Bryce Dallas Howard|Irrfan Khan|Vi...</td>\n      <td>Colin Trevorrow</td>\n      <td>The park is open.</td>\n      <td>Twenty-two years after the events of Jurassic ...</td>\n      <td>124</td>\n      <td>Action|Adventure|Science Fiction|Thriller</td>\n      <td>Universal Studios|Amblin Entertainment|Legenda...</td>\n      <td>6/9/2015</td>\n      <td>6.5</td>\n      <td>2015</td>\n      <td>1363528810</td>\n      <td>Action</td>\n      <td>Colin Trevorrow</td>\n    </tr>\n  </tbody>\n</table>\n</div>"
     },
     "metadata": {}
    },
    {
     "output_type": "display_data",
     "data": {
      "text/plain": "{'1': '5. Pirates of the Caribbean (tt1298650)',\n '2': '2. Gods and Generals (tt0279111)',\n '3': '3. Winnie the Pooh (tt1449283)',\n '4': '2. 110',\n '5': '1. 107',\n '6': '5. Avatar (tt0499549)',\n '7': '5. The Lone Ranger (tt1210819)',\n '8': '1. 1478',\n '9': '4. The Dark Knight (tt0468569)',\n '10': '5. The Lone Ranger (tt1210819)',\n '11': '3. Drama',\n '12': '1. Drama',\n '13': '5. Peter Jackson',\n '14': '3. Robert Rodriguez'}"
     },
     "metadata": {}
    }
   ],
   "source": [
    "answers['14'] = '3. Robert Rodriguez'\n",
    "display(newdf_3.head(1))\n",
    "display(answers)"
   ]
  },
  {
   "cell_type": "markdown",
   "metadata": {
    "colab_type": "text",
    "id": "PQ0KciD7Vp_f"
   },
   "source": [
    "# 15. Фильмы с каким актером принесли самые высокие кассовые сборы в 2012 году? "
   ]
  },
  {
   "cell_type": "code",
   "execution_count": 42,
   "metadata": {
    "colab": {},
    "colab_type": "code",
    "id": "aga62oeKVp_g"
   },
   "outputs": [],
   "source": [
    "actors = newdf.cast.str.split('|').explode()\n",
    "newdf_4 = newdf.merge(actors.rename('actor'), left_index=True, right_index=True)"
   ]
  },
  {
   "cell_type": "code",
   "execution_count": 43,
   "metadata": {},
   "outputs": [
    {
     "output_type": "execute_result",
     "data": {
      "text/plain": [
       "                       budget     revenue  runtime  vote_average  \\\n",
       "actor                                                              \n",
       "Chris Hemsworth     485000000  2027450773      458          24.8   \n",
       "Denis Leary         310000000  1629460639      224          12.6   \n",
       "Anne Hathaway       311000000  1522851057      322          14.5   \n",
       "Robert Downey Jr.   220000000  1519557910      143           7.3   \n",
       "Mark Ruffalo        220000000  1519557910      143           7.3   \n",
       "Chris Evans         220000000  1519557910      143           7.3   \n",
       "Scarlett Johansson  220000000  1519557910      143           7.3   \n",
       "Ralph Fiennes       350000000  1409561013      242          12.3   \n",
       "Sacha Baron Cohen   271000000  1368110577      333          19.3   \n",
       "Kristen Stewart     315000000  1234384318      379          17.4   \n",
       "\n",
       "                    release_year      profit  \n",
       "actor                                         \n",
       "Chris Hemsworth             8048  1542450773  \n",
       "Denis Leary                 4024  1319460639  \n",
       "Anne Hathaway               4024  1211851057  \n",
       "Robert Downey Jr.           2012  1299557910  \n",
       "Mark Ruffalo                2012  1299557910  \n",
       "Chris Evans                 2012  1299557910  \n",
       "Scarlett Johansson          2012  1299557910  \n",
       "Ralph Fiennes               4024  1059561013  \n",
       "Sacha Baron Cohen           6036  1097110577  \n",
       "Kristen Stewart             6036   919384318  "
      ],
      "text/html": "<div>\n<style scoped>\n    .dataframe tbody tr th:only-of-type {\n        vertical-align: middle;\n    }\n\n    .dataframe tbody tr th {\n        vertical-align: top;\n    }\n\n    .dataframe thead th {\n        text-align: right;\n    }\n</style>\n<table border=\"1\" class=\"dataframe\">\n  <thead>\n    <tr style=\"text-align: right;\">\n      <th></th>\n      <th>budget</th>\n      <th>revenue</th>\n      <th>runtime</th>\n      <th>vote_average</th>\n      <th>release_year</th>\n      <th>profit</th>\n    </tr>\n    <tr>\n      <th>actor</th>\n      <th></th>\n      <th></th>\n      <th></th>\n      <th></th>\n      <th></th>\n      <th></th>\n    </tr>\n  </thead>\n  <tbody>\n    <tr>\n      <th>Chris Hemsworth</th>\n      <td>485000000</td>\n      <td>2027450773</td>\n      <td>458</td>\n      <td>24.8</td>\n      <td>8048</td>\n      <td>1542450773</td>\n    </tr>\n    <tr>\n      <th>Denis Leary</th>\n      <td>310000000</td>\n      <td>1629460639</td>\n      <td>224</td>\n      <td>12.6</td>\n      <td>4024</td>\n      <td>1319460639</td>\n    </tr>\n    <tr>\n      <th>Anne Hathaway</th>\n      <td>311000000</td>\n      <td>1522851057</td>\n      <td>322</td>\n      <td>14.5</td>\n      <td>4024</td>\n      <td>1211851057</td>\n    </tr>\n    <tr>\n      <th>Robert Downey Jr.</th>\n      <td>220000000</td>\n      <td>1519557910</td>\n      <td>143</td>\n      <td>7.3</td>\n      <td>2012</td>\n      <td>1299557910</td>\n    </tr>\n    <tr>\n      <th>Mark Ruffalo</th>\n      <td>220000000</td>\n      <td>1519557910</td>\n      <td>143</td>\n      <td>7.3</td>\n      <td>2012</td>\n      <td>1299557910</td>\n    </tr>\n    <tr>\n      <th>Chris Evans</th>\n      <td>220000000</td>\n      <td>1519557910</td>\n      <td>143</td>\n      <td>7.3</td>\n      <td>2012</td>\n      <td>1299557910</td>\n    </tr>\n    <tr>\n      <th>Scarlett Johansson</th>\n      <td>220000000</td>\n      <td>1519557910</td>\n      <td>143</td>\n      <td>7.3</td>\n      <td>2012</td>\n      <td>1299557910</td>\n    </tr>\n    <tr>\n      <th>Ralph Fiennes</th>\n      <td>350000000</td>\n      <td>1409561013</td>\n      <td>242</td>\n      <td>12.3</td>\n      <td>4024</td>\n      <td>1059561013</td>\n    </tr>\n    <tr>\n      <th>Sacha Baron Cohen</th>\n      <td>271000000</td>\n      <td>1368110577</td>\n      <td>333</td>\n      <td>19.3</td>\n      <td>6036</td>\n      <td>1097110577</td>\n    </tr>\n    <tr>\n      <th>Kristen Stewart</th>\n      <td>315000000</td>\n      <td>1234384318</td>\n      <td>379</td>\n      <td>17.4</td>\n      <td>6036</td>\n      <td>919384318</td>\n    </tr>\n  </tbody>\n</table>\n</div>"
     },
     "metadata": {},
     "execution_count": 43
    }
   ],
   "source": [
    "newdf_4[newdf_4.release_year == 2012].groupby(['actor']).sum().sort_values(['revenue'], ascending=False).head(10)"
   ]
  },
  {
   "cell_type": "code",
   "execution_count": 44,
   "metadata": {},
   "outputs": [
    {
     "output_type": "display_data",
     "data": {
      "text/plain": "     imdb_id     budget     revenue  original_title  \\\n0  tt0369610  150000000  1513528810  Jurassic World   \n\n                                                cast         director  \\\n0  Chris Pratt|Bryce Dallas Howard|Irrfan Khan|Vi...  Colin Trevorrow   \n\n             tagline                                           overview  \\\n0  The park is open.  Twenty-two years after the events of Jurassic ...   \n\n   runtime                                     genres  \\\n0      124  Action|Adventure|Science Fiction|Thriller   \n\n                                production_companies release_date  \\\n0  Universal Studios|Amblin Entertainment|Legenda...     6/9/2015   \n\n   vote_average  release_year      profit        actor  \n0           6.5          2015  1363528810  Chris Pratt  ",
      "text/html": "<div>\n<style scoped>\n    .dataframe tbody tr th:only-of-type {\n        vertical-align: middle;\n    }\n\n    .dataframe tbody tr th {\n        vertical-align: top;\n    }\n\n    .dataframe thead th {\n        text-align: right;\n    }\n</style>\n<table border=\"1\" class=\"dataframe\">\n  <thead>\n    <tr style=\"text-align: right;\">\n      <th></th>\n      <th>imdb_id</th>\n      <th>budget</th>\n      <th>revenue</th>\n      <th>original_title</th>\n      <th>cast</th>\n      <th>director</th>\n      <th>tagline</th>\n      <th>overview</th>\n      <th>runtime</th>\n      <th>genres</th>\n      <th>production_companies</th>\n      <th>release_date</th>\n      <th>vote_average</th>\n      <th>release_year</th>\n      <th>profit</th>\n      <th>actor</th>\n    </tr>\n  </thead>\n  <tbody>\n    <tr>\n      <th>0</th>\n      <td>tt0369610</td>\n      <td>150000000</td>\n      <td>1513528810</td>\n      <td>Jurassic World</td>\n      <td>Chris Pratt|Bryce Dallas Howard|Irrfan Khan|Vi...</td>\n      <td>Colin Trevorrow</td>\n      <td>The park is open.</td>\n      <td>Twenty-two years after the events of Jurassic ...</td>\n      <td>124</td>\n      <td>Action|Adventure|Science Fiction|Thriller</td>\n      <td>Universal Studios|Amblin Entertainment|Legenda...</td>\n      <td>6/9/2015</td>\n      <td>6.5</td>\n      <td>2015</td>\n      <td>1363528810</td>\n      <td>Chris Pratt</td>\n    </tr>\n  </tbody>\n</table>\n</div>"
     },
     "metadata": {}
    },
    {
     "output_type": "display_data",
     "data": {
      "text/plain": "{'1': '5. Pirates of the Caribbean (tt1298650)',\n '2': '2. Gods and Generals (tt0279111)',\n '3': '3. Winnie the Pooh (tt1449283)',\n '4': '2. 110',\n '5': '1. 107',\n '6': '5. Avatar (tt0499549)',\n '7': '5. The Lone Ranger (tt1210819)',\n '8': '1. 1478',\n '9': '4. The Dark Knight (tt0468569)',\n '10': '5. The Lone Ranger (tt1210819)',\n '11': '3. Drama',\n '12': '1. Drama',\n '13': '5. Peter Jackson',\n '14': '3. Robert Rodriguez',\n '15': '3. Chris Hemsworth'}"
     },
     "metadata": {}
    }
   ],
   "source": [
    "answers['15'] = '3. Chris Hemsworth'\n",
    "display(newdf_4.head(1))\n",
    "display(answers)"
   ]
  },
  {
   "cell_type": "markdown",
   "metadata": {
    "colab_type": "text",
    "id": "mWHyyL7QVp_j"
   },
   "source": [
    "# 16. Какой актер снялся в большем количестве высокобюджетных фильмов?"
   ]
  },
  {
   "cell_type": "code",
   "execution_count": 45,
   "metadata": {
    "colab": {},
    "colab_type": "code",
    "id": "qQtmHKTFVp_k"
   },
   "outputs": [
    {
     "output_type": "execute_result",
     "data": {
      "text/plain": [
       "                   budget\n",
       "actor                    \n",
       "Matt Damon             18\n",
       "Adam Sandler           17\n",
       "Angelina Jolie         16\n",
       "Tom Cruise             15\n",
       "Eddie Murphy           15\n",
       "Samuel L. Jackson      15\n",
       "Russell Crowe          14\n",
       "Jamie Foxx             14\n",
       "Mark Wahlberg          14\n",
       "Ben Stiller            14"
      ],
      "text/html": "<div>\n<style scoped>\n    .dataframe tbody tr th:only-of-type {\n        vertical-align: middle;\n    }\n\n    .dataframe tbody tr th {\n        vertical-align: top;\n    }\n\n    .dataframe thead th {\n        text-align: right;\n    }\n</style>\n<table border=\"1\" class=\"dataframe\">\n  <thead>\n    <tr style=\"text-align: right;\">\n      <th></th>\n      <th>budget</th>\n    </tr>\n    <tr>\n      <th>actor</th>\n      <th></th>\n    </tr>\n  </thead>\n  <tbody>\n    <tr>\n      <th>Matt Damon</th>\n      <td>18</td>\n    </tr>\n    <tr>\n      <th>Adam Sandler</th>\n      <td>17</td>\n    </tr>\n    <tr>\n      <th>Angelina Jolie</th>\n      <td>16</td>\n    </tr>\n    <tr>\n      <th>Tom Cruise</th>\n      <td>15</td>\n    </tr>\n    <tr>\n      <th>Eddie Murphy</th>\n      <td>15</td>\n    </tr>\n    <tr>\n      <th>Samuel L. Jackson</th>\n      <td>15</td>\n    </tr>\n    <tr>\n      <th>Russell Crowe</th>\n      <td>14</td>\n    </tr>\n    <tr>\n      <th>Jamie Foxx</th>\n      <td>14</td>\n    </tr>\n    <tr>\n      <th>Mark Wahlberg</th>\n      <td>14</td>\n    </tr>\n    <tr>\n      <th>Ben Stiller</th>\n      <td>14</td>\n    </tr>\n  </tbody>\n</table>\n</div>"
     },
     "metadata": {},
     "execution_count": 45
    }
   ],
   "source": [
    "newdf_4[newdf_4.budget > newdf_4.budget.mean()].groupby(['actor'])[['budget']].count().sort_values(['budget'], ascending=False).head(10)"
   ]
  },
  {
   "cell_type": "code",
   "execution_count": 46,
   "metadata": {},
   "outputs": [
    {
     "output_type": "display_data",
     "data": {
      "text/plain": "     imdb_id     budget     revenue  original_title  \\\n0  tt0369610  150000000  1513528810  Jurassic World   \n\n                                                cast         director  \\\n0  Chris Pratt|Bryce Dallas Howard|Irrfan Khan|Vi...  Colin Trevorrow   \n\n             tagline                                           overview  \\\n0  The park is open.  Twenty-two years after the events of Jurassic ...   \n\n   runtime                                     genres  \\\n0      124  Action|Adventure|Science Fiction|Thriller   \n\n                                production_companies release_date  \\\n0  Universal Studios|Amblin Entertainment|Legenda...     6/9/2015   \n\n   vote_average  release_year      profit        actor  \n0           6.5          2015  1363528810  Chris Pratt  ",
      "text/html": "<div>\n<style scoped>\n    .dataframe tbody tr th:only-of-type {\n        vertical-align: middle;\n    }\n\n    .dataframe tbody tr th {\n        vertical-align: top;\n    }\n\n    .dataframe thead th {\n        text-align: right;\n    }\n</style>\n<table border=\"1\" class=\"dataframe\">\n  <thead>\n    <tr style=\"text-align: right;\">\n      <th></th>\n      <th>imdb_id</th>\n      <th>budget</th>\n      <th>revenue</th>\n      <th>original_title</th>\n      <th>cast</th>\n      <th>director</th>\n      <th>tagline</th>\n      <th>overview</th>\n      <th>runtime</th>\n      <th>genres</th>\n      <th>production_companies</th>\n      <th>release_date</th>\n      <th>vote_average</th>\n      <th>release_year</th>\n      <th>profit</th>\n      <th>actor</th>\n    </tr>\n  </thead>\n  <tbody>\n    <tr>\n      <th>0</th>\n      <td>tt0369610</td>\n      <td>150000000</td>\n      <td>1513528810</td>\n      <td>Jurassic World</td>\n      <td>Chris Pratt|Bryce Dallas Howard|Irrfan Khan|Vi...</td>\n      <td>Colin Trevorrow</td>\n      <td>The park is open.</td>\n      <td>Twenty-two years after the events of Jurassic ...</td>\n      <td>124</td>\n      <td>Action|Adventure|Science Fiction|Thriller</td>\n      <td>Universal Studios|Amblin Entertainment|Legenda...</td>\n      <td>6/9/2015</td>\n      <td>6.5</td>\n      <td>2015</td>\n      <td>1363528810</td>\n      <td>Chris Pratt</td>\n    </tr>\n  </tbody>\n</table>\n</div>"
     },
     "metadata": {}
    },
    {
     "output_type": "display_data",
     "data": {
      "text/plain": "{'1': '5. Pirates of the Caribbean (tt1298650)',\n '2': '2. Gods and Generals (tt0279111)',\n '3': '3. Winnie the Pooh (tt1449283)',\n '4': '2. 110',\n '5': '1. 107',\n '6': '5. Avatar (tt0499549)',\n '7': '5. The Lone Ranger (tt1210819)',\n '8': '1. 1478',\n '9': '4. The Dark Knight (tt0468569)',\n '10': '5. The Lone Ranger (tt1210819)',\n '11': '3. Drama',\n '12': '1. Drama',\n '13': '5. Peter Jackson',\n '14': '3. Robert Rodriguez',\n '15': '3. Chris Hemsworth',\n '16': '3. Matt Damon'}"
     },
     "metadata": {}
    }
   ],
   "source": [
    "answers['16'] = '3. Matt Damon'\n",
    "display(newdf_4.head(1))\n",
    "display(answers)"
   ]
  },
  {
   "cell_type": "markdown",
   "metadata": {
    "colab_type": "text",
    "id": "NIh6AaW5Vp_n"
   },
   "source": [
    "# 17. В фильмах какого жанра больше всего снимался Nicolas Cage? "
   ]
  },
  {
   "cell_type": "code",
   "execution_count": 47,
   "metadata": {
    "colab": {},
    "colab_type": "code",
    "id": "H74SJDIBVp_n"
   },
   "outputs": [
    {
     "output_type": "execute_result",
     "data": {
      "text/plain": [
       "                 imdb_id\n",
       "genre                   \n",
       "Action                17\n",
       "Thriller              15\n",
       "Drama                 12\n",
       "Crime                 10\n",
       "Fantasy                8\n",
       "Adventure              7\n",
       "Comedy                 6\n",
       "Science Fiction        4\n",
       "Animation              3\n",
       "Family                 3\n",
       "Mystery                3\n",
       "History                2\n",
       "Horror                 1\n",
       "Romance                1\n",
       "War                    1"
      ],
      "text/html": "<div>\n<style scoped>\n    .dataframe tbody tr th:only-of-type {\n        vertical-align: middle;\n    }\n\n    .dataframe tbody tr th {\n        vertical-align: top;\n    }\n\n    .dataframe thead th {\n        text-align: right;\n    }\n</style>\n<table border=\"1\" class=\"dataframe\">\n  <thead>\n    <tr style=\"text-align: right;\">\n      <th></th>\n      <th>imdb_id</th>\n    </tr>\n    <tr>\n      <th>genre</th>\n      <th></th>\n    </tr>\n  </thead>\n  <tbody>\n    <tr>\n      <th>Action</th>\n      <td>17</td>\n    </tr>\n    <tr>\n      <th>Thriller</th>\n      <td>15</td>\n    </tr>\n    <tr>\n      <th>Drama</th>\n      <td>12</td>\n    </tr>\n    <tr>\n      <th>Crime</th>\n      <td>10</td>\n    </tr>\n    <tr>\n      <th>Fantasy</th>\n      <td>8</td>\n    </tr>\n    <tr>\n      <th>Adventure</th>\n      <td>7</td>\n    </tr>\n    <tr>\n      <th>Comedy</th>\n      <td>6</td>\n    </tr>\n    <tr>\n      <th>Science Fiction</th>\n      <td>4</td>\n    </tr>\n    <tr>\n      <th>Animation</th>\n      <td>3</td>\n    </tr>\n    <tr>\n      <th>Family</th>\n      <td>3</td>\n    </tr>\n    <tr>\n      <th>Mystery</th>\n      <td>3</td>\n    </tr>\n    <tr>\n      <th>History</th>\n      <td>2</td>\n    </tr>\n    <tr>\n      <th>Horror</th>\n      <td>1</td>\n    </tr>\n    <tr>\n      <th>Romance</th>\n      <td>1</td>\n    </tr>\n    <tr>\n      <th>War</th>\n      <td>1</td>\n    </tr>\n  </tbody>\n</table>\n</div>"
     },
     "metadata": {},
     "execution_count": 47
    }
   ],
   "source": [
    "newdf_5 = newdf_4.merge(genre_series.rename('genre'), left_index=True, right_index=True)\n",
    "newdf_5[newdf_5.actor == \"Nicolas Cage\"].groupby(['genre'])[['imdb_id']].count().sort_values(['imdb_id'], ascending=False)"
   ]
  },
  {
   "cell_type": "code",
   "execution_count": 48,
   "metadata": {},
   "outputs": [
    {
     "output_type": "display_data",
     "data": {
      "text/plain": "     imdb_id     budget     revenue  original_title  \\\n0  tt0369610  150000000  1513528810  Jurassic World   \n\n                                                cast         director  \\\n0  Chris Pratt|Bryce Dallas Howard|Irrfan Khan|Vi...  Colin Trevorrow   \n\n             tagline                                           overview  \\\n0  The park is open.  Twenty-two years after the events of Jurassic ...   \n\n   runtime                                     genres  \\\n0      124  Action|Adventure|Science Fiction|Thriller   \n\n                                production_companies release_date  \\\n0  Universal Studios|Amblin Entertainment|Legenda...     6/9/2015   \n\n   vote_average  release_year      profit        actor   genre  \n0           6.5          2015  1363528810  Chris Pratt  Action  ",
      "text/html": "<div>\n<style scoped>\n    .dataframe tbody tr th:only-of-type {\n        vertical-align: middle;\n    }\n\n    .dataframe tbody tr th {\n        vertical-align: top;\n    }\n\n    .dataframe thead th {\n        text-align: right;\n    }\n</style>\n<table border=\"1\" class=\"dataframe\">\n  <thead>\n    <tr style=\"text-align: right;\">\n      <th></th>\n      <th>imdb_id</th>\n      <th>budget</th>\n      <th>revenue</th>\n      <th>original_title</th>\n      <th>cast</th>\n      <th>director</th>\n      <th>tagline</th>\n      <th>overview</th>\n      <th>runtime</th>\n      <th>genres</th>\n      <th>production_companies</th>\n      <th>release_date</th>\n      <th>vote_average</th>\n      <th>release_year</th>\n      <th>profit</th>\n      <th>actor</th>\n      <th>genre</th>\n    </tr>\n  </thead>\n  <tbody>\n    <tr>\n      <th>0</th>\n      <td>tt0369610</td>\n      <td>150000000</td>\n      <td>1513528810</td>\n      <td>Jurassic World</td>\n      <td>Chris Pratt|Bryce Dallas Howard|Irrfan Khan|Vi...</td>\n      <td>Colin Trevorrow</td>\n      <td>The park is open.</td>\n      <td>Twenty-two years after the events of Jurassic ...</td>\n      <td>124</td>\n      <td>Action|Adventure|Science Fiction|Thriller</td>\n      <td>Universal Studios|Amblin Entertainment|Legenda...</td>\n      <td>6/9/2015</td>\n      <td>6.5</td>\n      <td>2015</td>\n      <td>1363528810</td>\n      <td>Chris Pratt</td>\n      <td>Action</td>\n    </tr>\n  </tbody>\n</table>\n</div>"
     },
     "metadata": {}
    },
    {
     "output_type": "display_data",
     "data": {
      "text/plain": "{'1': '5. Pirates of the Caribbean (tt1298650)',\n '2': '2. Gods and Generals (tt0279111)',\n '3': '3. Winnie the Pooh (tt1449283)',\n '4': '2. 110',\n '5': '1. 107',\n '6': '5. Avatar (tt0499549)',\n '7': '5. The Lone Ranger (tt1210819)',\n '8': '1. 1478',\n '9': '4. The Dark Knight (tt0468569)',\n '10': '5. The Lone Ranger (tt1210819)',\n '11': '3. Drama',\n '12': '1. Drama',\n '13': '5. Peter Jackson',\n '14': '3. Robert Rodriguez',\n '15': '3. Chris Hemsworth',\n '16': '3. Matt Damon',\n '17': '2. Action'}"
     },
     "metadata": {}
    }
   ],
   "source": [
    "answers['17'] = '2. Action'\n",
    "display(newdf_5.head(1))\n",
    "display(answers)"
   ]
  },
  {
   "cell_type": "markdown",
   "metadata": {
    "colab_type": "text",
    "id": "RqOmPRfWVp_q"
   },
   "source": [
    "# 18. Самый убыточный фильм от Paramount Pictures"
   ]
  },
  {
   "cell_type": "code",
   "execution_count": 49,
   "metadata": {
    "colab": {},
    "colab_type": "code",
    "id": "9E_B0Y96Vp_r"
   },
   "outputs": [
    {
     "output_type": "execute_result",
     "data": {
      "text/plain": [
       "        imdb_id     budget   revenue        original_title  \\\n",
       "925   tt0267626  100000000  35168966  K-19: The Widowmaker   \n",
       "1123  tt0300556   80000000  19480739              Timeline   \n",
       "1722  tt0435705   70000000  18211013                  Next   \n",
       "1623  tt0375173   60000000  13395939                 Alfie   \n",
       "1631  tt0315297   50000000  25195000               Twisted   \n",
       "\n",
       "                                                   cast         director  \\\n",
       "925   Harrison Ford|Liam Neeson|Peter Sarsgaard|Joss...  Kathryn Bigelow   \n",
       "1123  Paul Walker|Frances O'Connor|Gerard Butler|Bil...   Richard Donner   \n",
       "1722  Nicolas Cage|Julianne Moore|Jessica Biel|Thoma...     Lee Tamahori   \n",
       "1623  Jude Law|Marisa Tomei|Omar Epps|Jane Krakowski...    Charles Shyer   \n",
       "1631  Ashley Judd|Samuel L. Jackson|Andy GarcÃ­a|Dav...   Philip Kaufman   \n",
       "\n",
       "                                                tagline  \\\n",
       "925                            Fate has found its hero.   \n",
       "1123  They had to travel into the past to save the f...   \n",
       "1722        If you can see the future, you can save it.   \n",
       "1623   Meet a man who never met a woman he didn't love.   \n",
       "1631                           Every murder has a mark.   \n",
       "\n",
       "                                               overview  runtime  \\\n",
       "925   When Russia's first nuclear submarine malfunct...      138   \n",
       "1123  A group of archaeological students become trap...      116   \n",
       "1722  Las Vegas showroom magician Cris Johnson has a...       96   \n",
       "1623  In Manhattan, the British limousine driver Alf...      103   \n",
       "1631  Recently promoted and transferred to the homic...       97   \n",
       "\n",
       "                                     genres  \\\n",
       "925                  Thriller|Drama|History   \n",
       "1123       Action|Adventure|Science Fiction   \n",
       "1722        Action|Science Fiction|Thriller   \n",
       "1623                                 Comedy   \n",
       "1631  Action|Adventure|Crime|Drama|Thriller   \n",
       "\n",
       "                                   production_companies release_date  \\\n",
       "925   Paramount Pictures|Intermedia Films|National G...    7/19/2002   \n",
       "1123  Paramount Pictures|Donners' Company|Mutual Fil...   11/26/2003   \n",
       "1722  Paramount Pictures|Virtual Studios|Revolution ...    4/24/2007   \n",
       "1623             Paramount Pictures|Patalex Productions   10/22/2004   \n",
       "1631  Paramount Pictures|Kopelson Entertainment|Harl...    2/27/2004   \n",
       "\n",
       "      vote_average  release_year    profit             company  \n",
       "925            6.0          2002 -64831034  Paramount Pictures  \n",
       "1123           5.1          2003 -60519261  Paramount Pictures  \n",
       "1722           5.9          2007 -51788987  Paramount Pictures  \n",
       "1623           5.4          2004 -46604061  Paramount Pictures  \n",
       "1631           5.7          2004 -24805000  Paramount Pictures  "
      ],
      "text/html": "<div>\n<style scoped>\n    .dataframe tbody tr th:only-of-type {\n        vertical-align: middle;\n    }\n\n    .dataframe tbody tr th {\n        vertical-align: top;\n    }\n\n    .dataframe thead th {\n        text-align: right;\n    }\n</style>\n<table border=\"1\" class=\"dataframe\">\n  <thead>\n    <tr style=\"text-align: right;\">\n      <th></th>\n      <th>imdb_id</th>\n      <th>budget</th>\n      <th>revenue</th>\n      <th>original_title</th>\n      <th>cast</th>\n      <th>director</th>\n      <th>tagline</th>\n      <th>overview</th>\n      <th>runtime</th>\n      <th>genres</th>\n      <th>production_companies</th>\n      <th>release_date</th>\n      <th>vote_average</th>\n      <th>release_year</th>\n      <th>profit</th>\n      <th>company</th>\n    </tr>\n  </thead>\n  <tbody>\n    <tr>\n      <th>925</th>\n      <td>tt0267626</td>\n      <td>100000000</td>\n      <td>35168966</td>\n      <td>K-19: The Widowmaker</td>\n      <td>Harrison Ford|Liam Neeson|Peter Sarsgaard|Joss...</td>\n      <td>Kathryn Bigelow</td>\n      <td>Fate has found its hero.</td>\n      <td>When Russia's first nuclear submarine malfunct...</td>\n      <td>138</td>\n      <td>Thriller|Drama|History</td>\n      <td>Paramount Pictures|Intermedia Films|National G...</td>\n      <td>7/19/2002</td>\n      <td>6.0</td>\n      <td>2002</td>\n      <td>-64831034</td>\n      <td>Paramount Pictures</td>\n    </tr>\n    <tr>\n      <th>1123</th>\n      <td>tt0300556</td>\n      <td>80000000</td>\n      <td>19480739</td>\n      <td>Timeline</td>\n      <td>Paul Walker|Frances O'Connor|Gerard Butler|Bil...</td>\n      <td>Richard Donner</td>\n      <td>They had to travel into the past to save the f...</td>\n      <td>A group of archaeological students become trap...</td>\n      <td>116</td>\n      <td>Action|Adventure|Science Fiction</td>\n      <td>Paramount Pictures|Donners' Company|Mutual Fil...</td>\n      <td>11/26/2003</td>\n      <td>5.1</td>\n      <td>2003</td>\n      <td>-60519261</td>\n      <td>Paramount Pictures</td>\n    </tr>\n    <tr>\n      <th>1722</th>\n      <td>tt0435705</td>\n      <td>70000000</td>\n      <td>18211013</td>\n      <td>Next</td>\n      <td>Nicolas Cage|Julianne Moore|Jessica Biel|Thoma...</td>\n      <td>Lee Tamahori</td>\n      <td>If you can see the future, you can save it.</td>\n      <td>Las Vegas showroom magician Cris Johnson has a...</td>\n      <td>96</td>\n      <td>Action|Science Fiction|Thriller</td>\n      <td>Paramount Pictures|Virtual Studios|Revolution ...</td>\n      <td>4/24/2007</td>\n      <td>5.9</td>\n      <td>2007</td>\n      <td>-51788987</td>\n      <td>Paramount Pictures</td>\n    </tr>\n    <tr>\n      <th>1623</th>\n      <td>tt0375173</td>\n      <td>60000000</td>\n      <td>13395939</td>\n      <td>Alfie</td>\n      <td>Jude Law|Marisa Tomei|Omar Epps|Jane Krakowski...</td>\n      <td>Charles Shyer</td>\n      <td>Meet a man who never met a woman he didn't love.</td>\n      <td>In Manhattan, the British limousine driver Alf...</td>\n      <td>103</td>\n      <td>Comedy</td>\n      <td>Paramount Pictures|Patalex Productions</td>\n      <td>10/22/2004</td>\n      <td>5.4</td>\n      <td>2004</td>\n      <td>-46604061</td>\n      <td>Paramount Pictures</td>\n    </tr>\n    <tr>\n      <th>1631</th>\n      <td>tt0315297</td>\n      <td>50000000</td>\n      <td>25195000</td>\n      <td>Twisted</td>\n      <td>Ashley Judd|Samuel L. Jackson|Andy GarcÃ­a|Dav...</td>\n      <td>Philip Kaufman</td>\n      <td>Every murder has a mark.</td>\n      <td>Recently promoted and transferred to the homic...</td>\n      <td>97</td>\n      <td>Action|Adventure|Crime|Drama|Thriller</td>\n      <td>Paramount Pictures|Kopelson Entertainment|Harl...</td>\n      <td>2/27/2004</td>\n      <td>5.7</td>\n      <td>2004</td>\n      <td>-24805000</td>\n      <td>Paramount Pictures</td>\n    </tr>\n  </tbody>\n</table>\n</div>"
     },
     "metadata": {},
     "execution_count": 49
    }
   ],
   "source": [
    "companies = newdf.production_companies.str.split('|').explode()\n",
    "newdf_6 = newdf.merge(companies.rename('company'), left_index=True, right_index=True)\n",
    "newdf_6[(newdf_6.company == \"Paramount Pictures\") & (newdf_6.profit < 0)].sort_values(['profit']).head()"
   ]
  },
  {
   "cell_type": "code",
   "execution_count": 50,
   "metadata": {},
   "outputs": [
    {
     "output_type": "display_data",
     "data": {
      "text/plain": "     imdb_id     budget     revenue  original_title  \\\n0  tt0369610  150000000  1513528810  Jurassic World   \n\n                                                cast         director  \\\n0  Chris Pratt|Bryce Dallas Howard|Irrfan Khan|Vi...  Colin Trevorrow   \n\n             tagline                                           overview  \\\n0  The park is open.  Twenty-two years after the events of Jurassic ...   \n\n   runtime                                     genres  \\\n0      124  Action|Adventure|Science Fiction|Thriller   \n\n                                production_companies release_date  \\\n0  Universal Studios|Amblin Entertainment|Legenda...     6/9/2015   \n\n   vote_average  release_year      profit            company  \n0           6.5          2015  1363528810  Universal Studios  ",
      "text/html": "<div>\n<style scoped>\n    .dataframe tbody tr th:only-of-type {\n        vertical-align: middle;\n    }\n\n    .dataframe tbody tr th {\n        vertical-align: top;\n    }\n\n    .dataframe thead th {\n        text-align: right;\n    }\n</style>\n<table border=\"1\" class=\"dataframe\">\n  <thead>\n    <tr style=\"text-align: right;\">\n      <th></th>\n      <th>imdb_id</th>\n      <th>budget</th>\n      <th>revenue</th>\n      <th>original_title</th>\n      <th>cast</th>\n      <th>director</th>\n      <th>tagline</th>\n      <th>overview</th>\n      <th>runtime</th>\n      <th>genres</th>\n      <th>production_companies</th>\n      <th>release_date</th>\n      <th>vote_average</th>\n      <th>release_year</th>\n      <th>profit</th>\n      <th>company</th>\n    </tr>\n  </thead>\n  <tbody>\n    <tr>\n      <th>0</th>\n      <td>tt0369610</td>\n      <td>150000000</td>\n      <td>1513528810</td>\n      <td>Jurassic World</td>\n      <td>Chris Pratt|Bryce Dallas Howard|Irrfan Khan|Vi...</td>\n      <td>Colin Trevorrow</td>\n      <td>The park is open.</td>\n      <td>Twenty-two years after the events of Jurassic ...</td>\n      <td>124</td>\n      <td>Action|Adventure|Science Fiction|Thriller</td>\n      <td>Universal Studios|Amblin Entertainment|Legenda...</td>\n      <td>6/9/2015</td>\n      <td>6.5</td>\n      <td>2015</td>\n      <td>1363528810</td>\n      <td>Universal Studios</td>\n    </tr>\n  </tbody>\n</table>\n</div>"
     },
     "metadata": {}
    },
    {
     "output_type": "display_data",
     "data": {
      "text/plain": "{'1': '5. Pirates of the Caribbean (tt1298650)',\n '2': '2. Gods and Generals (tt0279111)',\n '3': '3. Winnie the Pooh (tt1449283)',\n '4': '2. 110',\n '5': '1. 107',\n '6': '5. Avatar (tt0499549)',\n '7': '5. The Lone Ranger (tt1210819)',\n '8': '1. 1478',\n '9': '4. The Dark Knight (tt0468569)',\n '10': '5. The Lone Ranger (tt1210819)',\n '11': '3. Drama',\n '12': '1. Drama',\n '13': '5. Peter Jackson',\n '14': '3. Robert Rodriguez',\n '15': '3. Chris Hemsworth',\n '16': '3. Matt Damon',\n '17': '2. Action',\n '18': '1. K-19: The Widowmaker (tt0267626)'}"
     },
     "metadata": {}
    }
   ],
   "source": [
    "answers['18'] = '1. K-19: The Widowmaker (tt0267626)'\n",
    "display(newdf_6.head(1))\n",
    "display(answers)"
   ]
  },
  {
   "cell_type": "markdown",
   "metadata": {
    "colab_type": "text",
    "id": "vS8Ur6ddVp_u"
   },
   "source": [
    "# 19. Какой год стал самым успешным по суммарным кассовым сборам?"
   ]
  },
  {
   "cell_type": "code",
   "execution_count": 51,
   "metadata": {
    "colab": {},
    "colab_type": "code",
    "id": "Dnbt4GdIVp_v"
   },
   "outputs": [
    {
     "output_type": "execute_result",
     "data": {
      "text/plain": [
       "                  budget      revenue  runtime  vote_average       profit\n",
       "release_year                                                             \n",
       "2015          6780630004  25449202382    13355         755.2  18668572378\n",
       "2014          7008050000  23405862953    13444         774.5  16397812953\n",
       "2013          7970620000  23213799791    15039         846.9  15243179791\n",
       "2012          7002000000  23079001687    12145         682.1  16077001687\n",
       "2011          7946550531  22676791872    15355         868.5  14730241341\n",
       "2010          7540000000  21071204961    13592         762.1  13531204961\n",
       "2009          6838046652  20261791024    14187         800.2  13423744372\n",
       "2008          6588900000  18252781990    12979         731.1  11663881990\n",
       "2007          6596495000  18162406801    14305         809.3  11565911801\n",
       "2004          6029250000  15663430720    12014         671.3   9634180720\n",
       "2005          6327500000  15309425558    13387         733.5   8981925558\n",
       "2006          6083965000  14775042320    13952         775.4   8691077320\n",
       "2003          5117300000  14346123312    10623         574.4   9228823312\n",
       "2002          5134000000  14136361487    11528         653.1   9002361487\n",
       "2001          5067150000  13017764865    11284         619.8   7950614865\n",
       "2000          4562700000  10664099805     9956         542.5   6101399805"
      ],
      "text/html": "<div>\n<style scoped>\n    .dataframe tbody tr th:only-of-type {\n        vertical-align: middle;\n    }\n\n    .dataframe tbody tr th {\n        vertical-align: top;\n    }\n\n    .dataframe thead th {\n        text-align: right;\n    }\n</style>\n<table border=\"1\" class=\"dataframe\">\n  <thead>\n    <tr style=\"text-align: right;\">\n      <th></th>\n      <th>budget</th>\n      <th>revenue</th>\n      <th>runtime</th>\n      <th>vote_average</th>\n      <th>profit</th>\n    </tr>\n    <tr>\n      <th>release_year</th>\n      <th></th>\n      <th></th>\n      <th></th>\n      <th></th>\n      <th></th>\n    </tr>\n  </thead>\n  <tbody>\n    <tr>\n      <th>2015</th>\n      <td>6780630004</td>\n      <td>25449202382</td>\n      <td>13355</td>\n      <td>755.2</td>\n      <td>18668572378</td>\n    </tr>\n    <tr>\n      <th>2014</th>\n      <td>7008050000</td>\n      <td>23405862953</td>\n      <td>13444</td>\n      <td>774.5</td>\n      <td>16397812953</td>\n    </tr>\n    <tr>\n      <th>2013</th>\n      <td>7970620000</td>\n      <td>23213799791</td>\n      <td>15039</td>\n      <td>846.9</td>\n      <td>15243179791</td>\n    </tr>\n    <tr>\n      <th>2012</th>\n      <td>7002000000</td>\n      <td>23079001687</td>\n      <td>12145</td>\n      <td>682.1</td>\n      <td>16077001687</td>\n    </tr>\n    <tr>\n      <th>2011</th>\n      <td>7946550531</td>\n      <td>22676791872</td>\n      <td>15355</td>\n      <td>868.5</td>\n      <td>14730241341</td>\n    </tr>\n    <tr>\n      <th>2010</th>\n      <td>7540000000</td>\n      <td>21071204961</td>\n      <td>13592</td>\n      <td>762.1</td>\n      <td>13531204961</td>\n    </tr>\n    <tr>\n      <th>2009</th>\n      <td>6838046652</td>\n      <td>20261791024</td>\n      <td>14187</td>\n      <td>800.2</td>\n      <td>13423744372</td>\n    </tr>\n    <tr>\n      <th>2008</th>\n      <td>6588900000</td>\n      <td>18252781990</td>\n      <td>12979</td>\n      <td>731.1</td>\n      <td>11663881990</td>\n    </tr>\n    <tr>\n      <th>2007</th>\n      <td>6596495000</td>\n      <td>18162406801</td>\n      <td>14305</td>\n      <td>809.3</td>\n      <td>11565911801</td>\n    </tr>\n    <tr>\n      <th>2004</th>\n      <td>6029250000</td>\n      <td>15663430720</td>\n      <td>12014</td>\n      <td>671.3</td>\n      <td>9634180720</td>\n    </tr>\n    <tr>\n      <th>2005</th>\n      <td>6327500000</td>\n      <td>15309425558</td>\n      <td>13387</td>\n      <td>733.5</td>\n      <td>8981925558</td>\n    </tr>\n    <tr>\n      <th>2006</th>\n      <td>6083965000</td>\n      <td>14775042320</td>\n      <td>13952</td>\n      <td>775.4</td>\n      <td>8691077320</td>\n    </tr>\n    <tr>\n      <th>2003</th>\n      <td>5117300000</td>\n      <td>14346123312</td>\n      <td>10623</td>\n      <td>574.4</td>\n      <td>9228823312</td>\n    </tr>\n    <tr>\n      <th>2002</th>\n      <td>5134000000</td>\n      <td>14136361487</td>\n      <td>11528</td>\n      <td>653.1</td>\n      <td>9002361487</td>\n    </tr>\n    <tr>\n      <th>2001</th>\n      <td>5067150000</td>\n      <td>13017764865</td>\n      <td>11284</td>\n      <td>619.8</td>\n      <td>7950614865</td>\n    </tr>\n    <tr>\n      <th>2000</th>\n      <td>4562700000</td>\n      <td>10664099805</td>\n      <td>9956</td>\n      <td>542.5</td>\n      <td>6101399805</td>\n    </tr>\n  </tbody>\n</table>\n</div>"
     },
     "metadata": {},
     "execution_count": 51
    }
   ],
   "source": [
    "newdf.groupby(['release_year']).sum().sort_values(['revenue'], ascending=False)"
   ]
  },
  {
   "cell_type": "code",
   "execution_count": 52,
   "metadata": {},
   "outputs": [
    {
     "output_type": "display_data",
     "data": {
      "text/plain": "     imdb_id     budget     revenue  original_title  \\\n0  tt0369610  150000000  1513528810  Jurassic World   \n\n                                                cast         director  \\\n0  Chris Pratt|Bryce Dallas Howard|Irrfan Khan|Vi...  Colin Trevorrow   \n\n             tagline                                           overview  \\\n0  The park is open.  Twenty-two years after the events of Jurassic ...   \n\n   runtime                                     genres  \\\n0      124  Action|Adventure|Science Fiction|Thriller   \n\n                                production_companies release_date  \\\n0  Universal Studios|Amblin Entertainment|Legenda...     6/9/2015   \n\n   vote_average  release_year      profit  \n0           6.5          2015  1363528810  ",
      "text/html": "<div>\n<style scoped>\n    .dataframe tbody tr th:only-of-type {\n        vertical-align: middle;\n    }\n\n    .dataframe tbody tr th {\n        vertical-align: top;\n    }\n\n    .dataframe thead th {\n        text-align: right;\n    }\n</style>\n<table border=\"1\" class=\"dataframe\">\n  <thead>\n    <tr style=\"text-align: right;\">\n      <th></th>\n      <th>imdb_id</th>\n      <th>budget</th>\n      <th>revenue</th>\n      <th>original_title</th>\n      <th>cast</th>\n      <th>director</th>\n      <th>tagline</th>\n      <th>overview</th>\n      <th>runtime</th>\n      <th>genres</th>\n      <th>production_companies</th>\n      <th>release_date</th>\n      <th>vote_average</th>\n      <th>release_year</th>\n      <th>profit</th>\n    </tr>\n  </thead>\n  <tbody>\n    <tr>\n      <th>0</th>\n      <td>tt0369610</td>\n      <td>150000000</td>\n      <td>1513528810</td>\n      <td>Jurassic World</td>\n      <td>Chris Pratt|Bryce Dallas Howard|Irrfan Khan|Vi...</td>\n      <td>Colin Trevorrow</td>\n      <td>The park is open.</td>\n      <td>Twenty-two years after the events of Jurassic ...</td>\n      <td>124</td>\n      <td>Action|Adventure|Science Fiction|Thriller</td>\n      <td>Universal Studios|Amblin Entertainment|Legenda...</td>\n      <td>6/9/2015</td>\n      <td>6.5</td>\n      <td>2015</td>\n      <td>1363528810</td>\n    </tr>\n  </tbody>\n</table>\n</div>"
     },
     "metadata": {}
    },
    {
     "output_type": "display_data",
     "data": {
      "text/plain": "{'1': '5. Pirates of the Caribbean (tt1298650)',\n '2': '2. Gods and Generals (tt0279111)',\n '3': '3. Winnie the Pooh (tt1449283)',\n '4': '2. 110',\n '5': '1. 107',\n '6': '5. Avatar (tt0499549)',\n '7': '5. The Lone Ranger (tt1210819)',\n '8': '1. 1478',\n '9': '4. The Dark Knight (tt0468569)',\n '10': '5. The Lone Ranger (tt1210819)',\n '11': '3. Drama',\n '12': '1. Drama',\n '13': '5. Peter Jackson',\n '14': '3. Robert Rodriguez',\n '15': '3. Chris Hemsworth',\n '16': '3. Matt Damon',\n '17': '2. Action',\n '18': '1. K-19: The Widowmaker (tt0267626)',\n '19': '5. 2015'}"
     },
     "metadata": {}
    }
   ],
   "source": [
    "answers['19'] = '5. 2015'\n",
    "display(newdf.head(1))\n",
    "display(answers)"
   ]
  },
  {
   "cell_type": "markdown",
   "metadata": {
    "colab_type": "text",
    "id": "JAzJh4QAVp_z"
   },
   "source": [
    "# 20. Какой самый прибыльный год для студии Warner Bros?"
   ]
  },
  {
   "cell_type": "code",
   "execution_count": 53,
   "metadata": {
    "colab": {},
    "colab_type": "code",
    "id": "wgVu02DEVp_0"
   },
   "outputs": [
    {
     "output_type": "execute_result",
     "data": {
      "text/plain": [
       "                  budget     revenue  runtime  vote_average      profit\n",
       "release_year                                                           \n",
       "2014           953600000  3246549646     1683          95.2  2292949646\n",
       "2007           982000000  3183675217     1721          95.4  2201675217\n",
       "2008           916000000  3050595031     1366          72.0  2134595031\n",
       "2010          1034000000  3008712985     1421          79.6  1974712985\n",
       "2011           974000000  2845393682     1248          68.3  1871393682\n",
       "2003           970000000  2814008221     1175          62.2  1844008221\n",
       "2009           915500000  2737954136     1305          67.9  1822454136\n",
       "2013           963500000  2599953400     1100          59.9  1636453400\n",
       "2004          1100000000  2731933725     1624          78.7  1631933725\n",
       "2005           861000000  2412980298     1193          63.0  1551980298\n",
       "2001           998000000  2280142579     1666          89.2  1282142579\n",
       "2012           611500000  1869520056      579          30.0  1258020056\n",
       "2002           680000000  1702709901     1281          70.6  1022709901\n",
       "2015           820800003  1691168351     1358          75.9   870368348\n",
       "2006           951000000  1576351872     1592          86.5   625351872\n",
       "2000           572900000  1025531386     1333          68.0   452631386"
      ],
      "text/html": "<div>\n<style scoped>\n    .dataframe tbody tr th:only-of-type {\n        vertical-align: middle;\n    }\n\n    .dataframe tbody tr th {\n        vertical-align: top;\n    }\n\n    .dataframe thead th {\n        text-align: right;\n    }\n</style>\n<table border=\"1\" class=\"dataframe\">\n  <thead>\n    <tr style=\"text-align: right;\">\n      <th></th>\n      <th>budget</th>\n      <th>revenue</th>\n      <th>runtime</th>\n      <th>vote_average</th>\n      <th>profit</th>\n    </tr>\n    <tr>\n      <th>release_year</th>\n      <th></th>\n      <th></th>\n      <th></th>\n      <th></th>\n      <th></th>\n    </tr>\n  </thead>\n  <tbody>\n    <tr>\n      <th>2014</th>\n      <td>953600000</td>\n      <td>3246549646</td>\n      <td>1683</td>\n      <td>95.2</td>\n      <td>2292949646</td>\n    </tr>\n    <tr>\n      <th>2007</th>\n      <td>982000000</td>\n      <td>3183675217</td>\n      <td>1721</td>\n      <td>95.4</td>\n      <td>2201675217</td>\n    </tr>\n    <tr>\n      <th>2008</th>\n      <td>916000000</td>\n      <td>3050595031</td>\n      <td>1366</td>\n      <td>72.0</td>\n      <td>2134595031</td>\n    </tr>\n    <tr>\n      <th>2010</th>\n      <td>1034000000</td>\n      <td>3008712985</td>\n      <td>1421</td>\n      <td>79.6</td>\n      <td>1974712985</td>\n    </tr>\n    <tr>\n      <th>2011</th>\n      <td>974000000</td>\n      <td>2845393682</td>\n      <td>1248</td>\n      <td>68.3</td>\n      <td>1871393682</td>\n    </tr>\n    <tr>\n      <th>2003</th>\n      <td>970000000</td>\n      <td>2814008221</td>\n      <td>1175</td>\n      <td>62.2</td>\n      <td>1844008221</td>\n    </tr>\n    <tr>\n      <th>2009</th>\n      <td>915500000</td>\n      <td>2737954136</td>\n      <td>1305</td>\n      <td>67.9</td>\n      <td>1822454136</td>\n    </tr>\n    <tr>\n      <th>2013</th>\n      <td>963500000</td>\n      <td>2599953400</td>\n      <td>1100</td>\n      <td>59.9</td>\n      <td>1636453400</td>\n    </tr>\n    <tr>\n      <th>2004</th>\n      <td>1100000000</td>\n      <td>2731933725</td>\n      <td>1624</td>\n      <td>78.7</td>\n      <td>1631933725</td>\n    </tr>\n    <tr>\n      <th>2005</th>\n      <td>861000000</td>\n      <td>2412980298</td>\n      <td>1193</td>\n      <td>63.0</td>\n      <td>1551980298</td>\n    </tr>\n    <tr>\n      <th>2001</th>\n      <td>998000000</td>\n      <td>2280142579</td>\n      <td>1666</td>\n      <td>89.2</td>\n      <td>1282142579</td>\n    </tr>\n    <tr>\n      <th>2012</th>\n      <td>611500000</td>\n      <td>1869520056</td>\n      <td>579</td>\n      <td>30.0</td>\n      <td>1258020056</td>\n    </tr>\n    <tr>\n      <th>2002</th>\n      <td>680000000</td>\n      <td>1702709901</td>\n      <td>1281</td>\n      <td>70.6</td>\n      <td>1022709901</td>\n    </tr>\n    <tr>\n      <th>2015</th>\n      <td>820800003</td>\n      <td>1691168351</td>\n      <td>1358</td>\n      <td>75.9</td>\n      <td>870368348</td>\n    </tr>\n    <tr>\n      <th>2006</th>\n      <td>951000000</td>\n      <td>1576351872</td>\n      <td>1592</td>\n      <td>86.5</td>\n      <td>625351872</td>\n    </tr>\n    <tr>\n      <th>2000</th>\n      <td>572900000</td>\n      <td>1025531386</td>\n      <td>1333</td>\n      <td>68.0</td>\n      <td>452631386</td>\n    </tr>\n  </tbody>\n</table>\n</div>"
     },
     "metadata": {},
     "execution_count": 53
    }
   ],
   "source": [
    "newdf_6[newdf_6.company.str.contains('Warner Bros')].groupby(['release_year']).sum().sort_values(['profit'], ascending=False)"
   ]
  },
  {
   "cell_type": "code",
   "execution_count": 54,
   "metadata": {},
   "outputs": [
    {
     "output_type": "display_data",
     "data": {
      "text/plain": "     imdb_id     budget     revenue  original_title  \\\n0  tt0369610  150000000  1513528810  Jurassic World   \n\n                                                cast         director  \\\n0  Chris Pratt|Bryce Dallas Howard|Irrfan Khan|Vi...  Colin Trevorrow   \n\n             tagline                                           overview  \\\n0  The park is open.  Twenty-two years after the events of Jurassic ...   \n\n   runtime                                     genres  \\\n0      124  Action|Adventure|Science Fiction|Thriller   \n\n                                production_companies release_date  \\\n0  Universal Studios|Amblin Entertainment|Legenda...     6/9/2015   \n\n   vote_average  release_year      profit  \n0           6.5          2015  1363528810  ",
      "text/html": "<div>\n<style scoped>\n    .dataframe tbody tr th:only-of-type {\n        vertical-align: middle;\n    }\n\n    .dataframe tbody tr th {\n        vertical-align: top;\n    }\n\n    .dataframe thead th {\n        text-align: right;\n    }\n</style>\n<table border=\"1\" class=\"dataframe\">\n  <thead>\n    <tr style=\"text-align: right;\">\n      <th></th>\n      <th>imdb_id</th>\n      <th>budget</th>\n      <th>revenue</th>\n      <th>original_title</th>\n      <th>cast</th>\n      <th>director</th>\n      <th>tagline</th>\n      <th>overview</th>\n      <th>runtime</th>\n      <th>genres</th>\n      <th>production_companies</th>\n      <th>release_date</th>\n      <th>vote_average</th>\n      <th>release_year</th>\n      <th>profit</th>\n    </tr>\n  </thead>\n  <tbody>\n    <tr>\n      <th>0</th>\n      <td>tt0369610</td>\n      <td>150000000</td>\n      <td>1513528810</td>\n      <td>Jurassic World</td>\n      <td>Chris Pratt|Bryce Dallas Howard|Irrfan Khan|Vi...</td>\n      <td>Colin Trevorrow</td>\n      <td>The park is open.</td>\n      <td>Twenty-two years after the events of Jurassic ...</td>\n      <td>124</td>\n      <td>Action|Adventure|Science Fiction|Thriller</td>\n      <td>Universal Studios|Amblin Entertainment|Legenda...</td>\n      <td>6/9/2015</td>\n      <td>6.5</td>\n      <td>2015</td>\n      <td>1363528810</td>\n    </tr>\n  </tbody>\n</table>\n</div>"
     },
     "metadata": {}
    },
    {
     "output_type": "display_data",
     "data": {
      "text/plain": "{'1': '5. Pirates of the Caribbean (tt1298650)',\n '2': '2. Gods and Generals (tt0279111)',\n '3': '3. Winnie the Pooh (tt1449283)',\n '4': '2. 110',\n '5': '1. 107',\n '6': '5. Avatar (tt0499549)',\n '7': '5. The Lone Ranger (tt1210819)',\n '8': '1. 1478',\n '9': '4. The Dark Knight (tt0468569)',\n '10': '5. The Lone Ranger (tt1210819)',\n '11': '3. Drama',\n '12': '1. Drama',\n '13': '5. Peter Jackson',\n '14': '3. Robert Rodriguez',\n '15': '3. Chris Hemsworth',\n '16': '3. Matt Damon',\n '17': '2. Action',\n '18': '1. K-19: The Widowmaker (tt0267626)',\n '19': '5. 2015',\n '20': '1. 2014'}"
     },
     "metadata": {}
    }
   ],
   "source": [
    "answers['20'] = '1. 2014'\n",
    "display(newdf.head(1))\n",
    "display(answers)"
   ]
  },
  {
   "cell_type": "markdown",
   "metadata": {
    "colab_type": "text",
    "id": "8Im1S2HRVp_4"
   },
   "source": [
    "# 21. В каком месяце за все годы суммарно вышло больше всего фильмов?"
   ]
  },
  {
   "cell_type": "code",
   "execution_count": 55,
   "metadata": {
    "colab": {},
    "colab_type": "code",
    "id": "lev6TH7gVp_4"
   },
   "outputs": [
    {
     "output_type": "execute_result",
     "data": {
      "text/plain": [
       "       imdb_id  budget  revenue  original_title  cast  director  tagline  \\\n",
       "month                                                                      \n",
       "9          227     227      227             227   227       227      227   \n",
       "12         189     189      189             189   189       189      189   \n",
       "10         186     186      186             186   186       186      186   \n",
       "8          161     161      161             161   161       161      161   \n",
       "3          156     156      156             156   156       156      156   \n",
       "4          149     149      149             149   149       149      149   \n",
       "6          147     147      147             147   147       147      147   \n",
       "11         146     146      146             146   146       146      146   \n",
       "7          141     141      141             141   141       141      141   \n",
       "5          140     140      140             140   140       140      140   \n",
       "2          135     135      135             135   135       135      135   \n",
       "1          110     110      110             110   110       110      110   \n",
       "\n",
       "       overview  runtime  genres  production_companies  release_date  \\\n",
       "month                                                                  \n",
       "9           227      227     227                   227           227   \n",
       "12          189      189     189                   189           189   \n",
       "10          186      186     186                   186           186   \n",
       "8           161      161     161                   161           161   \n",
       "3           156      156     156                   156           156   \n",
       "4           149      149     149                   149           149   \n",
       "6           147      147     147                   147           147   \n",
       "11          146      146     146                   146           146   \n",
       "7           141      141     141                   141           141   \n",
       "5           140      140     140                   140           140   \n",
       "2           135      135     135                   135           135   \n",
       "1           110      110     110                   110           110   \n",
       "\n",
       "       vote_average  release_year  profit  \n",
       "month                                      \n",
       "9               227           227     227  \n",
       "12              189           189     189  \n",
       "10              186           186     186  \n",
       "8               161           161     161  \n",
       "3               156           156     156  \n",
       "4               149           149     149  \n",
       "6               147           147     147  \n",
       "11              146           146     146  \n",
       "7               141           141     141  \n",
       "5               140           140     140  \n",
       "2               135           135     135  \n",
       "1               110           110     110  "
      ],
      "text/html": "<div>\n<style scoped>\n    .dataframe tbody tr th:only-of-type {\n        vertical-align: middle;\n    }\n\n    .dataframe tbody tr th {\n        vertical-align: top;\n    }\n\n    .dataframe thead th {\n        text-align: right;\n    }\n</style>\n<table border=\"1\" class=\"dataframe\">\n  <thead>\n    <tr style=\"text-align: right;\">\n      <th></th>\n      <th>imdb_id</th>\n      <th>budget</th>\n      <th>revenue</th>\n      <th>original_title</th>\n      <th>cast</th>\n      <th>director</th>\n      <th>tagline</th>\n      <th>overview</th>\n      <th>runtime</th>\n      <th>genres</th>\n      <th>production_companies</th>\n      <th>release_date</th>\n      <th>vote_average</th>\n      <th>release_year</th>\n      <th>profit</th>\n    </tr>\n    <tr>\n      <th>month</th>\n      <th></th>\n      <th></th>\n      <th></th>\n      <th></th>\n      <th></th>\n      <th></th>\n      <th></th>\n      <th></th>\n      <th></th>\n      <th></th>\n      <th></th>\n      <th></th>\n      <th></th>\n      <th></th>\n      <th></th>\n    </tr>\n  </thead>\n  <tbody>\n    <tr>\n      <th>9</th>\n      <td>227</td>\n      <td>227</td>\n      <td>227</td>\n      <td>227</td>\n      <td>227</td>\n      <td>227</td>\n      <td>227</td>\n      <td>227</td>\n      <td>227</td>\n      <td>227</td>\n      <td>227</td>\n      <td>227</td>\n      <td>227</td>\n      <td>227</td>\n      <td>227</td>\n    </tr>\n    <tr>\n      <th>12</th>\n      <td>189</td>\n      <td>189</td>\n      <td>189</td>\n      <td>189</td>\n      <td>189</td>\n      <td>189</td>\n      <td>189</td>\n      <td>189</td>\n      <td>189</td>\n      <td>189</td>\n      <td>189</td>\n      <td>189</td>\n      <td>189</td>\n      <td>189</td>\n      <td>189</td>\n    </tr>\n    <tr>\n      <th>10</th>\n      <td>186</td>\n      <td>186</td>\n      <td>186</td>\n      <td>186</td>\n      <td>186</td>\n      <td>186</td>\n      <td>186</td>\n      <td>186</td>\n      <td>186</td>\n      <td>186</td>\n      <td>186</td>\n      <td>186</td>\n      <td>186</td>\n      <td>186</td>\n      <td>186</td>\n    </tr>\n    <tr>\n      <th>8</th>\n      <td>161</td>\n      <td>161</td>\n      <td>161</td>\n      <td>161</td>\n      <td>161</td>\n      <td>161</td>\n      <td>161</td>\n      <td>161</td>\n      <td>161</td>\n      <td>161</td>\n      <td>161</td>\n      <td>161</td>\n      <td>161</td>\n      <td>161</td>\n      <td>161</td>\n    </tr>\n    <tr>\n      <th>3</th>\n      <td>156</td>\n      <td>156</td>\n      <td>156</td>\n      <td>156</td>\n      <td>156</td>\n      <td>156</td>\n      <td>156</td>\n      <td>156</td>\n      <td>156</td>\n      <td>156</td>\n      <td>156</td>\n      <td>156</td>\n      <td>156</td>\n      <td>156</td>\n      <td>156</td>\n    </tr>\n    <tr>\n      <th>4</th>\n      <td>149</td>\n      <td>149</td>\n      <td>149</td>\n      <td>149</td>\n      <td>149</td>\n      <td>149</td>\n      <td>149</td>\n      <td>149</td>\n      <td>149</td>\n      <td>149</td>\n      <td>149</td>\n      <td>149</td>\n      <td>149</td>\n      <td>149</td>\n      <td>149</td>\n    </tr>\n    <tr>\n      <th>6</th>\n      <td>147</td>\n      <td>147</td>\n      <td>147</td>\n      <td>147</td>\n      <td>147</td>\n      <td>147</td>\n      <td>147</td>\n      <td>147</td>\n      <td>147</td>\n      <td>147</td>\n      <td>147</td>\n      <td>147</td>\n      <td>147</td>\n      <td>147</td>\n      <td>147</td>\n    </tr>\n    <tr>\n      <th>11</th>\n      <td>146</td>\n      <td>146</td>\n      <td>146</td>\n      <td>146</td>\n      <td>146</td>\n      <td>146</td>\n      <td>146</td>\n      <td>146</td>\n      <td>146</td>\n      <td>146</td>\n      <td>146</td>\n      <td>146</td>\n      <td>146</td>\n      <td>146</td>\n      <td>146</td>\n    </tr>\n    <tr>\n      <th>7</th>\n      <td>141</td>\n      <td>141</td>\n      <td>141</td>\n      <td>141</td>\n      <td>141</td>\n      <td>141</td>\n      <td>141</td>\n      <td>141</td>\n      <td>141</td>\n      <td>141</td>\n      <td>141</td>\n      <td>141</td>\n      <td>141</td>\n      <td>141</td>\n      <td>141</td>\n    </tr>\n    <tr>\n      <th>5</th>\n      <td>140</td>\n      <td>140</td>\n      <td>140</td>\n      <td>140</td>\n      <td>140</td>\n      <td>140</td>\n      <td>140</td>\n      <td>140</td>\n      <td>140</td>\n      <td>140</td>\n      <td>140</td>\n      <td>140</td>\n      <td>140</td>\n      <td>140</td>\n      <td>140</td>\n    </tr>\n    <tr>\n      <th>2</th>\n      <td>135</td>\n      <td>135</td>\n      <td>135</td>\n      <td>135</td>\n      <td>135</td>\n      <td>135</td>\n      <td>135</td>\n      <td>135</td>\n      <td>135</td>\n      <td>135</td>\n      <td>135</td>\n      <td>135</td>\n      <td>135</td>\n      <td>135</td>\n      <td>135</td>\n    </tr>\n    <tr>\n      <th>1</th>\n      <td>110</td>\n      <td>110</td>\n      <td>110</td>\n      <td>110</td>\n      <td>110</td>\n      <td>110</td>\n      <td>110</td>\n      <td>110</td>\n      <td>110</td>\n      <td>110</td>\n      <td>110</td>\n      <td>110</td>\n      <td>110</td>\n      <td>110</td>\n      <td>110</td>\n    </tr>\n  </tbody>\n</table>\n</div>"
     },
     "metadata": {},
     "execution_count": 55
    }
   ],
   "source": [
    "newdf['month'] = pd.DatetimeIndex(newdf['release_date']).month\n",
    "newdf.drop_duplicates(subset=['original_title']).groupby(['month']).count().sort_values(['imdb_id'], ascending=False)"
   ]
  },
  {
   "cell_type": "code",
   "execution_count": 56,
   "metadata": {},
   "outputs": [
    {
     "output_type": "display_data",
     "data": {
      "text/plain": "     imdb_id     budget     revenue  original_title  \\\n0  tt0369610  150000000  1513528810  Jurassic World   \n\n                                                cast         director  \\\n0  Chris Pratt|Bryce Dallas Howard|Irrfan Khan|Vi...  Colin Trevorrow   \n\n             tagline                                           overview  \\\n0  The park is open.  Twenty-two years after the events of Jurassic ...   \n\n   runtime                                     genres  \\\n0      124  Action|Adventure|Science Fiction|Thriller   \n\n                                production_companies release_date  \\\n0  Universal Studios|Amblin Entertainment|Legenda...     6/9/2015   \n\n   vote_average  release_year      profit  month  \n0           6.5          2015  1363528810      6  ",
      "text/html": "<div>\n<style scoped>\n    .dataframe tbody tr th:only-of-type {\n        vertical-align: middle;\n    }\n\n    .dataframe tbody tr th {\n        vertical-align: top;\n    }\n\n    .dataframe thead th {\n        text-align: right;\n    }\n</style>\n<table border=\"1\" class=\"dataframe\">\n  <thead>\n    <tr style=\"text-align: right;\">\n      <th></th>\n      <th>imdb_id</th>\n      <th>budget</th>\n      <th>revenue</th>\n      <th>original_title</th>\n      <th>cast</th>\n      <th>director</th>\n      <th>tagline</th>\n      <th>overview</th>\n      <th>runtime</th>\n      <th>genres</th>\n      <th>production_companies</th>\n      <th>release_date</th>\n      <th>vote_average</th>\n      <th>release_year</th>\n      <th>profit</th>\n      <th>month</th>\n    </tr>\n  </thead>\n  <tbody>\n    <tr>\n      <th>0</th>\n      <td>tt0369610</td>\n      <td>150000000</td>\n      <td>1513528810</td>\n      <td>Jurassic World</td>\n      <td>Chris Pratt|Bryce Dallas Howard|Irrfan Khan|Vi...</td>\n      <td>Colin Trevorrow</td>\n      <td>The park is open.</td>\n      <td>Twenty-two years after the events of Jurassic ...</td>\n      <td>124</td>\n      <td>Action|Adventure|Science Fiction|Thriller</td>\n      <td>Universal Studios|Amblin Entertainment|Legenda...</td>\n      <td>6/9/2015</td>\n      <td>6.5</td>\n      <td>2015</td>\n      <td>1363528810</td>\n      <td>6</td>\n    </tr>\n  </tbody>\n</table>\n</div>"
     },
     "metadata": {}
    },
    {
     "output_type": "display_data",
     "data": {
      "text/plain": "{'1': '5. Pirates of the Caribbean (tt1298650)',\n '2': '2. Gods and Generals (tt0279111)',\n '3': '3. Winnie the Pooh (tt1449283)',\n '4': '2. 110',\n '5': '1. 107',\n '6': '5. Avatar (tt0499549)',\n '7': '5. The Lone Ranger (tt1210819)',\n '8': '1. 1478',\n '9': '4. The Dark Knight (tt0468569)',\n '10': '5. The Lone Ranger (tt1210819)',\n '11': '3. Drama',\n '12': '1. Drama',\n '13': '5. Peter Jackson',\n '14': '3. Robert Rodriguez',\n '15': '3. Chris Hemsworth',\n '16': '3. Matt Damon',\n '17': '2. Action',\n '18': '1. K-19: The Widowmaker (tt0267626)',\n '19': '5. 2015',\n '20': '1. 2014',\n '21': '4. Сентябрь'}"
     },
     "metadata": {}
    }
   ],
   "source": [
    "answers['21'] = '4. Сентябрь'\n",
    "display(newdf.head(1))\n",
    "display(answers)"
   ]
  },
  {
   "cell_type": "markdown",
   "metadata": {
    "colab_type": "text",
    "id": "uAJsZ_NeVp_7"
   },
   "source": [
    "# 22. Сколько суммарно вышло фильмов летом? (за июнь, июль, август)"
   ]
  },
  {
   "cell_type": "code",
   "execution_count": 57,
   "metadata": {
    "colab": {},
    "colab_type": "code",
    "id": "Aa-hEREoVp_8"
   },
   "outputs": [
    {
     "output_type": "execute_result",
     "data": {
      "text/plain": [
       "imdb_id                 450\n",
       "budget                  450\n",
       "revenue                 450\n",
       "original_title          450\n",
       "cast                    450\n",
       "director                450\n",
       "tagline                 450\n",
       "overview                450\n",
       "runtime                 450\n",
       "genres                  450\n",
       "production_companies    450\n",
       "release_date            450\n",
       "vote_average            450\n",
       "release_year            450\n",
       "profit                  450\n",
       "month                   450\n",
       "dtype: int64"
      ]
     },
     "metadata": {},
     "execution_count": 57
    }
   ],
   "source": [
    "newdf.query('month in [6,7,8]').count()"
   ]
  },
  {
   "cell_type": "code",
   "execution_count": 58,
   "metadata": {},
   "outputs": [
    {
     "output_type": "display_data",
     "data": {
      "text/plain": "     imdb_id     budget     revenue  original_title  \\\n0  tt0369610  150000000  1513528810  Jurassic World   \n\n                                                cast         director  \\\n0  Chris Pratt|Bryce Dallas Howard|Irrfan Khan|Vi...  Colin Trevorrow   \n\n             tagline                                           overview  \\\n0  The park is open.  Twenty-two years after the events of Jurassic ...   \n\n   runtime                                     genres  \\\n0      124  Action|Adventure|Science Fiction|Thriller   \n\n                                production_companies release_date  \\\n0  Universal Studios|Amblin Entertainment|Legenda...     6/9/2015   \n\n   vote_average  release_year      profit  month  \n0           6.5          2015  1363528810      6  ",
      "text/html": "<div>\n<style scoped>\n    .dataframe tbody tr th:only-of-type {\n        vertical-align: middle;\n    }\n\n    .dataframe tbody tr th {\n        vertical-align: top;\n    }\n\n    .dataframe thead th {\n        text-align: right;\n    }\n</style>\n<table border=\"1\" class=\"dataframe\">\n  <thead>\n    <tr style=\"text-align: right;\">\n      <th></th>\n      <th>imdb_id</th>\n      <th>budget</th>\n      <th>revenue</th>\n      <th>original_title</th>\n      <th>cast</th>\n      <th>director</th>\n      <th>tagline</th>\n      <th>overview</th>\n      <th>runtime</th>\n      <th>genres</th>\n      <th>production_companies</th>\n      <th>release_date</th>\n      <th>vote_average</th>\n      <th>release_year</th>\n      <th>profit</th>\n      <th>month</th>\n    </tr>\n  </thead>\n  <tbody>\n    <tr>\n      <th>0</th>\n      <td>tt0369610</td>\n      <td>150000000</td>\n      <td>1513528810</td>\n      <td>Jurassic World</td>\n      <td>Chris Pratt|Bryce Dallas Howard|Irrfan Khan|Vi...</td>\n      <td>Colin Trevorrow</td>\n      <td>The park is open.</td>\n      <td>Twenty-two years after the events of Jurassic ...</td>\n      <td>124</td>\n      <td>Action|Adventure|Science Fiction|Thriller</td>\n      <td>Universal Studios|Amblin Entertainment|Legenda...</td>\n      <td>6/9/2015</td>\n      <td>6.5</td>\n      <td>2015</td>\n      <td>1363528810</td>\n      <td>6</td>\n    </tr>\n  </tbody>\n</table>\n</div>"
     },
     "metadata": {}
    },
    {
     "output_type": "display_data",
     "data": {
      "text/plain": "{'1': '5. Pirates of the Caribbean (tt1298650)',\n '2': '2. Gods and Generals (tt0279111)',\n '3': '3. Winnie the Pooh (tt1449283)',\n '4': '2. 110',\n '5': '1. 107',\n '6': '5. Avatar (tt0499549)',\n '7': '5. The Lone Ranger (tt1210819)',\n '8': '1. 1478',\n '9': '4. The Dark Knight (tt0468569)',\n '10': '5. The Lone Ranger (tt1210819)',\n '11': '3. Drama',\n '12': '1. Drama',\n '13': '5. Peter Jackson',\n '14': '3. Robert Rodriguez',\n '15': '3. Chris Hemsworth',\n '16': '3. Matt Damon',\n '17': '2. Action',\n '18': '1. K-19: The Widowmaker (tt0267626)',\n '19': '5. 2015',\n '20': '1. 2014',\n '21': '4. Сентябрь',\n '22': '2. 450'}"
     },
     "metadata": {}
    }
   ],
   "source": [
    "answers['22'] = '2. 450'\n",
    "display(newdf.head(1))\n",
    "display(answers)"
   ]
  },
  {
   "cell_type": "markdown",
   "metadata": {
    "colab_type": "text",
    "id": "G94ppOY1VqAA"
   },
   "source": [
    "# 23. Для какого режиссера зима – самое продуктивное время года? "
   ]
  },
  {
   "cell_type": "code",
   "execution_count": 59,
   "metadata": {
    "colab": {},
    "colab_type": "code",
    "id": "RhNTsamuVqAB"
   },
   "outputs": [
    {
     "output_type": "execute_result",
     "data": {
      "text/plain": [
       "Peter Jackson        7\n",
       "Steven Soderbergh    6\n",
       "Clint Eastwood       6\n",
       "Shawn Levy           4\n",
       "Martin Scorsese      4\n",
       "Name: lone_director, dtype: int64"
      ]
     },
     "metadata": {},
     "execution_count": 59
    }
   ],
   "source": [
    "directors = newdf.director.str.split('|').explode()\n",
    "newdf_7 = newdf.merge(directors.rename('lone_director'), left_index=True, right_index=True)\n",
    "newdf_7.query('month in [12,1,2]').lone_director.value_counts().head()"
   ]
  },
  {
   "cell_type": "code",
   "execution_count": 60,
   "metadata": {},
   "outputs": [
    {
     "output_type": "display_data",
     "data": {
      "text/plain": "     imdb_id     budget     revenue  original_title  \\\n0  tt0369610  150000000  1513528810  Jurassic World   \n\n                                                cast         director  \\\n0  Chris Pratt|Bryce Dallas Howard|Irrfan Khan|Vi...  Colin Trevorrow   \n\n             tagline                                           overview  \\\n0  The park is open.  Twenty-two years after the events of Jurassic ...   \n\n   runtime                                     genres  \\\n0      124  Action|Adventure|Science Fiction|Thriller   \n\n                                production_companies release_date  \\\n0  Universal Studios|Amblin Entertainment|Legenda...     6/9/2015   \n\n   vote_average  release_year      profit  month    lone_director  \n0           6.5          2015  1363528810      6  Colin Trevorrow  ",
      "text/html": "<div>\n<style scoped>\n    .dataframe tbody tr th:only-of-type {\n        vertical-align: middle;\n    }\n\n    .dataframe tbody tr th {\n        vertical-align: top;\n    }\n\n    .dataframe thead th {\n        text-align: right;\n    }\n</style>\n<table border=\"1\" class=\"dataframe\">\n  <thead>\n    <tr style=\"text-align: right;\">\n      <th></th>\n      <th>imdb_id</th>\n      <th>budget</th>\n      <th>revenue</th>\n      <th>original_title</th>\n      <th>cast</th>\n      <th>director</th>\n      <th>tagline</th>\n      <th>overview</th>\n      <th>runtime</th>\n      <th>genres</th>\n      <th>production_companies</th>\n      <th>release_date</th>\n      <th>vote_average</th>\n      <th>release_year</th>\n      <th>profit</th>\n      <th>month</th>\n      <th>lone_director</th>\n    </tr>\n  </thead>\n  <tbody>\n    <tr>\n      <th>0</th>\n      <td>tt0369610</td>\n      <td>150000000</td>\n      <td>1513528810</td>\n      <td>Jurassic World</td>\n      <td>Chris Pratt|Bryce Dallas Howard|Irrfan Khan|Vi...</td>\n      <td>Colin Trevorrow</td>\n      <td>The park is open.</td>\n      <td>Twenty-two years after the events of Jurassic ...</td>\n      <td>124</td>\n      <td>Action|Adventure|Science Fiction|Thriller</td>\n      <td>Universal Studios|Amblin Entertainment|Legenda...</td>\n      <td>6/9/2015</td>\n      <td>6.5</td>\n      <td>2015</td>\n      <td>1363528810</td>\n      <td>6</td>\n      <td>Colin Trevorrow</td>\n    </tr>\n  </tbody>\n</table>\n</div>"
     },
     "metadata": {}
    },
    {
     "output_type": "display_data",
     "data": {
      "text/plain": "{'1': '5. Pirates of the Caribbean (tt1298650)',\n '2': '2. Gods and Generals (tt0279111)',\n '3': '3. Winnie the Pooh (tt1449283)',\n '4': '2. 110',\n '5': '1. 107',\n '6': '5. Avatar (tt0499549)',\n '7': '5. The Lone Ranger (tt1210819)',\n '8': '1. 1478',\n '9': '4. The Dark Knight (tt0468569)',\n '10': '5. The Lone Ranger (tt1210819)',\n '11': '3. Drama',\n '12': '1. Drama',\n '13': '5. Peter Jackson',\n '14': '3. Robert Rodriguez',\n '15': '3. Chris Hemsworth',\n '16': '3. Matt Damon',\n '17': '2. Action',\n '18': '1. K-19: The Widowmaker (tt0267626)',\n '19': '5. 2015',\n '20': '1. 2014',\n '21': '4. Сентябрь',\n '22': '2. 450',\n '23': '5. Peter Jackson'}"
     },
     "metadata": {}
    }
   ],
   "source": [
    "answers['23'] = '5. Peter Jackson'\n",
    "display(newdf_7.head(1))\n",
    "display(answers)"
   ]
  },
  {
   "cell_type": "markdown",
   "metadata": {
    "colab_type": "text",
    "id": "RBo0JVjVVqAF"
   },
   "source": [
    "# 24. Какая студия дает самые длинные названия своим фильмам по количеству символов?"
   ]
  },
  {
   "cell_type": "code",
   "execution_count": 61,
   "metadata": {
    "colab": {},
    "colab_type": "code",
    "id": "QRGS8L0iVqAG"
   },
   "outputs": [
    {
     "output_type": "execute_result",
     "data": {
      "text/plain": [
       "                                budget      revenue  runtime  vote_average  \\\n",
       "company                                                                      \n",
       "Four By Two Productions     18000000.0  261572744.0     82.0           6.4   \n",
       "Jim Henson Company, The     28000000.0  100654149.0     81.0           6.2   \n",
       "Dos Corazones               12000000.0    9622846.0    145.0           6.8   \n",
       "Polsky Films                25000000.0   10589102.0    122.0           5.8   \n",
       "Museum Canada Productions  150000000.0  413106170.0    105.0           5.9   \n",
       "\n",
       "                           release_year       profit  title_length  \n",
       "company                                                             \n",
       "Four By Two Productions          2006.0  243572744.0          83.0  \n",
       "Jim Henson Company, The          2014.0   72654149.0          59.0  \n",
       "Dos Corazones                    2012.0   -2377154.0          47.0  \n",
       "Polsky Films                     2009.0  -14410898.0          46.0  \n",
       "Museum Canada Productions        2009.0  263106170.0          46.0  "
      ],
      "text/html": "<div>\n<style scoped>\n    .dataframe tbody tr th:only-of-type {\n        vertical-align: middle;\n    }\n\n    .dataframe tbody tr th {\n        vertical-align: top;\n    }\n\n    .dataframe thead th {\n        text-align: right;\n    }\n</style>\n<table border=\"1\" class=\"dataframe\">\n  <thead>\n    <tr style=\"text-align: right;\">\n      <th></th>\n      <th>budget</th>\n      <th>revenue</th>\n      <th>runtime</th>\n      <th>vote_average</th>\n      <th>release_year</th>\n      <th>profit</th>\n      <th>title_length</th>\n    </tr>\n    <tr>\n      <th>company</th>\n      <th></th>\n      <th></th>\n      <th></th>\n      <th></th>\n      <th></th>\n      <th></th>\n      <th></th>\n    </tr>\n  </thead>\n  <tbody>\n    <tr>\n      <th>Four By Two Productions</th>\n      <td>18000000.0</td>\n      <td>261572744.0</td>\n      <td>82.0</td>\n      <td>6.4</td>\n      <td>2006.0</td>\n      <td>243572744.0</td>\n      <td>83.0</td>\n    </tr>\n    <tr>\n      <th>Jim Henson Company, The</th>\n      <td>28000000.0</td>\n      <td>100654149.0</td>\n      <td>81.0</td>\n      <td>6.2</td>\n      <td>2014.0</td>\n      <td>72654149.0</td>\n      <td>59.0</td>\n    </tr>\n    <tr>\n      <th>Dos Corazones</th>\n      <td>12000000.0</td>\n      <td>9622846.0</td>\n      <td>145.0</td>\n      <td>6.8</td>\n      <td>2012.0</td>\n      <td>-2377154.0</td>\n      <td>47.0</td>\n    </tr>\n    <tr>\n      <th>Polsky Films</th>\n      <td>25000000.0</td>\n      <td>10589102.0</td>\n      <td>122.0</td>\n      <td>5.8</td>\n      <td>2009.0</td>\n      <td>-14410898.0</td>\n      <td>46.0</td>\n    </tr>\n    <tr>\n      <th>Museum Canada Productions</th>\n      <td>150000000.0</td>\n      <td>413106170.0</td>\n      <td>105.0</td>\n      <td>5.9</td>\n      <td>2009.0</td>\n      <td>263106170.0</td>\n      <td>46.0</td>\n    </tr>\n  </tbody>\n</table>\n</div>"
     },
     "metadata": {},
     "execution_count": 61
    }
   ],
   "source": [
    "newdf_6['title_length'] = newdf_6.original_title.str.len()\n",
    "newdf_6.groupby(['company']).mean().sort_values(['title_length'], ascending=False).head()"
   ]
  },
  {
   "cell_type": "code",
   "execution_count": 62,
   "metadata": {},
   "outputs": [
    {
     "output_type": "display_data",
     "data": {
      "text/plain": "     imdb_id     budget     revenue  original_title  \\\n0  tt0369610  150000000  1513528810  Jurassic World   \n\n                                                cast         director  \\\n0  Chris Pratt|Bryce Dallas Howard|Irrfan Khan|Vi...  Colin Trevorrow   \n\n             tagline                                           overview  \\\n0  The park is open.  Twenty-two years after the events of Jurassic ...   \n\n   runtime                                     genres  \\\n0      124  Action|Adventure|Science Fiction|Thriller   \n\n                                production_companies release_date  \\\n0  Universal Studios|Amblin Entertainment|Legenda...     6/9/2015   \n\n   vote_average  release_year      profit            company  title_length  \n0           6.5          2015  1363528810  Universal Studios            14  ",
      "text/html": "<div>\n<style scoped>\n    .dataframe tbody tr th:only-of-type {\n        vertical-align: middle;\n    }\n\n    .dataframe tbody tr th {\n        vertical-align: top;\n    }\n\n    .dataframe thead th {\n        text-align: right;\n    }\n</style>\n<table border=\"1\" class=\"dataframe\">\n  <thead>\n    <tr style=\"text-align: right;\">\n      <th></th>\n      <th>imdb_id</th>\n      <th>budget</th>\n      <th>revenue</th>\n      <th>original_title</th>\n      <th>cast</th>\n      <th>director</th>\n      <th>tagline</th>\n      <th>overview</th>\n      <th>runtime</th>\n      <th>genres</th>\n      <th>production_companies</th>\n      <th>release_date</th>\n      <th>vote_average</th>\n      <th>release_year</th>\n      <th>profit</th>\n      <th>company</th>\n      <th>title_length</th>\n    </tr>\n  </thead>\n  <tbody>\n    <tr>\n      <th>0</th>\n      <td>tt0369610</td>\n      <td>150000000</td>\n      <td>1513528810</td>\n      <td>Jurassic World</td>\n      <td>Chris Pratt|Bryce Dallas Howard|Irrfan Khan|Vi...</td>\n      <td>Colin Trevorrow</td>\n      <td>The park is open.</td>\n      <td>Twenty-two years after the events of Jurassic ...</td>\n      <td>124</td>\n      <td>Action|Adventure|Science Fiction|Thriller</td>\n      <td>Universal Studios|Amblin Entertainment|Legenda...</td>\n      <td>6/9/2015</td>\n      <td>6.5</td>\n      <td>2015</td>\n      <td>1363528810</td>\n      <td>Universal Studios</td>\n      <td>14</td>\n    </tr>\n  </tbody>\n</table>\n</div>"
     },
     "metadata": {}
    },
    {
     "output_type": "display_data",
     "data": {
      "text/plain": "{'1': '5. Pirates of the Caribbean (tt1298650)',\n '2': '2. Gods and Generals (tt0279111)',\n '3': '3. Winnie the Pooh (tt1449283)',\n '4': '2. 110',\n '5': '1. 107',\n '6': '5. Avatar (tt0499549)',\n '7': '5. The Lone Ranger (tt1210819)',\n '8': '1. 1478',\n '9': '4. The Dark Knight (tt0468569)',\n '10': '5. The Lone Ranger (tt1210819)',\n '11': '3. Drama',\n '12': '1. Drama',\n '13': '5. Peter Jackson',\n '14': '3. Robert Rodriguez',\n '15': '3. Chris Hemsworth',\n '16': '3. Matt Damon',\n '17': '2. Action',\n '18': '1. K-19: The Widowmaker (tt0267626)',\n '19': '5. 2015',\n '20': '1. 2014',\n '21': '4. Сентябрь',\n '22': '2. 450',\n '23': '5. Peter Jackson',\n '24': '5. Four By Two Productions'}"
     },
     "metadata": {}
    }
   ],
   "source": [
    "answers['24'] = '5. Four By Two Productions'\n",
    "display(newdf_6.head(1))\n",
    "display(answers)"
   ]
  },
  {
   "cell_type": "markdown",
   "metadata": {
    "colab_type": "text",
    "id": "9G0hbvR7VqAK"
   },
   "source": [
    "# 25. Описание фильмов какой студии в среднем самые длинные по количеству слов?"
   ]
  },
  {
   "cell_type": "code",
   "execution_count": 63,
   "metadata": {
    "colab": {},
    "colab_type": "code",
    "id": "Ge2GsLNxVqAK"
   },
   "outputs": [
    {
     "output_type": "execute_result",
     "data": {
      "text/plain": [
       "                                      budget     revenue  runtime  \\\n",
       "company                                                             \n",
       "Midnight Picture Show             15000000.0   3533227.0     98.0   \n",
       "Room 9 Entertainment               6500000.0  24793509.0     92.0   \n",
       "Brookwell-McNamara Entertainment  18000000.0  47088990.0    106.0   \n",
       "Lions Gate Family Entertainment   20000000.0  39300000.0     88.0   \n",
       "Crest Animation Productions       20000000.0  39300000.0     88.0   \n",
       "\n",
       "                                  vote_average  release_year      profit  \\\n",
       "company                                                                    \n",
       "Midnight Picture Show                      5.7        2008.0 -11466773.0   \n",
       "Room 9 Entertainment                       7.1        2005.0  18293509.0   \n",
       "Brookwell-McNamara Entertainment           6.9        2011.0  29088990.0   \n",
       "Lions Gate Family Entertainment            5.5        2010.0  19300000.0   \n",
       "Crest Animation Productions                5.5        2010.0  19300000.0   \n",
       "\n",
       "                                  title_length  overview_length  \n",
       "company                                                          \n",
       "Midnight Picture Show                     23.0           1000.0  \n",
       "Room 9 Entertainment                      21.0            964.0  \n",
       "Brookwell-McNamara Entertainment          11.0            936.0  \n",
       "Lions Gate Family Entertainment           15.0            909.0  \n",
       "Crest Animation Productions               15.0            909.0  "
      ],
      "text/html": "<div>\n<style scoped>\n    .dataframe tbody tr th:only-of-type {\n        vertical-align: middle;\n    }\n\n    .dataframe tbody tr th {\n        vertical-align: top;\n    }\n\n    .dataframe thead th {\n        text-align: right;\n    }\n</style>\n<table border=\"1\" class=\"dataframe\">\n  <thead>\n    <tr style=\"text-align: right;\">\n      <th></th>\n      <th>budget</th>\n      <th>revenue</th>\n      <th>runtime</th>\n      <th>vote_average</th>\n      <th>release_year</th>\n      <th>profit</th>\n      <th>title_length</th>\n      <th>overview_length</th>\n    </tr>\n    <tr>\n      <th>company</th>\n      <th></th>\n      <th></th>\n      <th></th>\n      <th></th>\n      <th></th>\n      <th></th>\n      <th></th>\n      <th></th>\n    </tr>\n  </thead>\n  <tbody>\n    <tr>\n      <th>Midnight Picture Show</th>\n      <td>15000000.0</td>\n      <td>3533227.0</td>\n      <td>98.0</td>\n      <td>5.7</td>\n      <td>2008.0</td>\n      <td>-11466773.0</td>\n      <td>23.0</td>\n      <td>1000.0</td>\n    </tr>\n    <tr>\n      <th>Room 9 Entertainment</th>\n      <td>6500000.0</td>\n      <td>24793509.0</td>\n      <td>92.0</td>\n      <td>7.1</td>\n      <td>2005.0</td>\n      <td>18293509.0</td>\n      <td>21.0</td>\n      <td>964.0</td>\n    </tr>\n    <tr>\n      <th>Brookwell-McNamara Entertainment</th>\n      <td>18000000.0</td>\n      <td>47088990.0</td>\n      <td>106.0</td>\n      <td>6.9</td>\n      <td>2011.0</td>\n      <td>29088990.0</td>\n      <td>11.0</td>\n      <td>936.0</td>\n    </tr>\n    <tr>\n      <th>Lions Gate Family Entertainment</th>\n      <td>20000000.0</td>\n      <td>39300000.0</td>\n      <td>88.0</td>\n      <td>5.5</td>\n      <td>2010.0</td>\n      <td>19300000.0</td>\n      <td>15.0</td>\n      <td>909.0</td>\n    </tr>\n    <tr>\n      <th>Crest Animation Productions</th>\n      <td>20000000.0</td>\n      <td>39300000.0</td>\n      <td>88.0</td>\n      <td>5.5</td>\n      <td>2010.0</td>\n      <td>19300000.0</td>\n      <td>15.0</td>\n      <td>909.0</td>\n    </tr>\n  </tbody>\n</table>\n</div>"
     },
     "metadata": {},
     "execution_count": 63
    }
   ],
   "source": [
    "newdf_6['overview_length'] = newdf_6.overview.str.len()\n",
    "newdf_6.groupby(['company']).mean().sort_values(['overview_length'], ascending=False).head()"
   ]
  },
  {
   "cell_type": "code",
   "execution_count": 64,
   "metadata": {},
   "outputs": [
    {
     "output_type": "display_data",
     "data": {
      "text/plain": "     imdb_id     budget     revenue  original_title  \\\n0  tt0369610  150000000  1513528810  Jurassic World   \n\n                                                cast         director  \\\n0  Chris Pratt|Bryce Dallas Howard|Irrfan Khan|Vi...  Colin Trevorrow   \n\n             tagline                                           overview  \\\n0  The park is open.  Twenty-two years after the events of Jurassic ...   \n\n   runtime                                     genres  \\\n0      124  Action|Adventure|Science Fiction|Thriller   \n\n                                production_companies release_date  \\\n0  Universal Studios|Amblin Entertainment|Legenda...     6/9/2015   \n\n   vote_average  release_year      profit            company  title_length  \\\n0           6.5          2015  1363528810  Universal Studios            14   \n\n   overview_length  \n0              175  ",
      "text/html": "<div>\n<style scoped>\n    .dataframe tbody tr th:only-of-type {\n        vertical-align: middle;\n    }\n\n    .dataframe tbody tr th {\n        vertical-align: top;\n    }\n\n    .dataframe thead th {\n        text-align: right;\n    }\n</style>\n<table border=\"1\" class=\"dataframe\">\n  <thead>\n    <tr style=\"text-align: right;\">\n      <th></th>\n      <th>imdb_id</th>\n      <th>budget</th>\n      <th>revenue</th>\n      <th>original_title</th>\n      <th>cast</th>\n      <th>director</th>\n      <th>tagline</th>\n      <th>overview</th>\n      <th>runtime</th>\n      <th>genres</th>\n      <th>production_companies</th>\n      <th>release_date</th>\n      <th>vote_average</th>\n      <th>release_year</th>\n      <th>profit</th>\n      <th>company</th>\n      <th>title_length</th>\n      <th>overview_length</th>\n    </tr>\n  </thead>\n  <tbody>\n    <tr>\n      <th>0</th>\n      <td>tt0369610</td>\n      <td>150000000</td>\n      <td>1513528810</td>\n      <td>Jurassic World</td>\n      <td>Chris Pratt|Bryce Dallas Howard|Irrfan Khan|Vi...</td>\n      <td>Colin Trevorrow</td>\n      <td>The park is open.</td>\n      <td>Twenty-two years after the events of Jurassic ...</td>\n      <td>124</td>\n      <td>Action|Adventure|Science Fiction|Thriller</td>\n      <td>Universal Studios|Amblin Entertainment|Legenda...</td>\n      <td>6/9/2015</td>\n      <td>6.5</td>\n      <td>2015</td>\n      <td>1363528810</td>\n      <td>Universal Studios</td>\n      <td>14</td>\n      <td>175</td>\n    </tr>\n  </tbody>\n</table>\n</div>"
     },
     "metadata": {}
    },
    {
     "output_type": "display_data",
     "data": {
      "text/plain": "{'1': '5. Pirates of the Caribbean (tt1298650)',\n '2': '2. Gods and Generals (tt0279111)',\n '3': '3. Winnie the Pooh (tt1449283)',\n '4': '2. 110',\n '5': '1. 107',\n '6': '5. Avatar (tt0499549)',\n '7': '5. The Lone Ranger (tt1210819)',\n '8': '1. 1478',\n '9': '4. The Dark Knight (tt0468569)',\n '10': '5. The Lone Ranger (tt1210819)',\n '11': '3. Drama',\n '12': '1. Drama',\n '13': '5. Peter Jackson',\n '14': '3. Robert Rodriguez',\n '15': '3. Chris Hemsworth',\n '16': '3. Matt Damon',\n '17': '2. Action',\n '18': '1. K-19: The Widowmaker (tt0267626)',\n '19': '5. 2015',\n '20': '1. 2014',\n '21': '4. Сентябрь',\n '22': '2. 450',\n '23': '5. Peter Jackson',\n '24': '5. Four By Two Productions',\n '25': '3. Midnight Picture Show'}"
     },
     "metadata": {}
    }
   ],
   "source": [
    "answers['25'] = '3. Midnight Picture Show'\n",
    "display(newdf_6.head(1))\n",
    "display(answers)"
   ]
  },
  {
   "cell_type": "markdown",
   "metadata": {
    "colab_type": "text",
    "id": "FJ1AFt90VqAP"
   },
   "source": [
    "# 26. Какие фильмы входят в 1 процент лучших по рейтингу? \n",
    "по vote_average"
   ]
  },
  {
   "cell_type": "code",
   "execution_count": 65,
   "metadata": {
    "colab": {},
    "colab_type": "code",
    "id": "8qmJVq4CVqAQ"
   },
   "outputs": [
    {
     "output_type": "execute_result",
     "data": {
      "text/plain": [
       "        imdb_id     budget     revenue  \\\n",
       "599   tt0468569  185000000  1001921825   \n",
       "9     tt2096673  175000000   853708609   \n",
       "34    tt3170832    6000000    35401758   \n",
       "118   tt0816692  165000000   621752480   \n",
       "125   tt2084970   14000000   233555708   \n",
       "119   tt2015381  170000000   773312399   \n",
       "128   tt2267998   61000000   369330363   \n",
       "138   tt2278388   30000000   174600318   \n",
       "370   tt1375666  160000000   825500000   \n",
       "872   tt0253474   35000000   120072577   \n",
       "1081  tt0167260   94000000  1118888979   \n",
       "1183  tt0993846  100000000   392000694   \n",
       "1191  tt2024544   20000000   187000000   \n",
       "1800  tt0209144    9000000    39723096   \n",
       "\n",
       "                                     original_title  \\\n",
       "599                                 The Dark Knight   \n",
       "9                                        Inside Out   \n",
       "34                                             Room   \n",
       "118                                    Interstellar   \n",
       "125                              The Imitation Game   \n",
       "119                         Guardians of the Galaxy   \n",
       "128                                       Gone Girl   \n",
       "138                        The Grand Budapest Hotel   \n",
       "370                                       Inception   \n",
       "872                                     The Pianist   \n",
       "1081  The Lord of the Rings: The Return of the King   \n",
       "1183                        The Wolf of Wall Street   \n",
       "1191                               12 Years a Slave   \n",
       "1800                                        Memento   \n",
       "\n",
       "                                                   cast           director  \\\n",
       "599   Christian Bale|Michael Caine|Heath Ledger|Aaro...  Christopher Nolan   \n",
       "9     Amy Poehler|Phyllis Smith|Richard Kind|Bill Ha...        Pete Docter   \n",
       "34    Brie Larson|Jacob Tremblay|Joan Allen|Sean Bri...   Lenny Abrahamson   \n",
       "118   Matthew McConaughey|Jessica Chastain|Anne Hath...  Christopher Nolan   \n",
       "125   Benedict Cumberbatch|Keira Knightley|Matthew G...      Morten Tyldum   \n",
       "119   Chris Pratt|Zoe Saldana|Dave Bautista|Vin Dies...         James Gunn   \n",
       "128   Ben Affleck|Rosamund Pike|Carrie Coon|Neil Pat...      David Fincher   \n",
       "138   Ralph Fiennes|Tony Revolori|F. Murray Abraham|...       Wes Anderson   \n",
       "370   Leonardo DiCaprio|Joseph Gordon-Levitt|Ellen P...  Christopher Nolan   \n",
       "872   Adrien Brody|Thomas Kretschmann|Frank Finlay|M...     Roman Polanski   \n",
       "1081  Elijah Wood|Ian McKellen|Viggo Mortensen|Liv T...      Peter Jackson   \n",
       "1183  Leonardo DiCaprio|Jonah Hill|Margot Robbie|Kyl...    Martin Scorsese   \n",
       "1191  Chiwetel Ejiofor|Michael Fassbender|Lupita Nyo...      Steve McQueen   \n",
       "1800  Guy Pearce|Carrie-Anne Moss|Joe Pantoliano|Mar...  Christopher Nolan   \n",
       "\n",
       "                                                tagline  \\\n",
       "599                                     Why So Serious?   \n",
       "9              Meet the little voices inside your head.   \n",
       "34                             Love knows no boundaries   \n",
       "118   Mankind was born on Earth. It was never meant ...   \n",
       "125   The true enigma was the man who cracked the code.   \n",
       "119                         All heroes start somewhere.   \n",
       "128         You don't know what you've got 'til it's...   \n",
       "138             A perfect holiday without leaving home.   \n",
       "370                Your mind is the scene of the crime.   \n",
       "872   Music was his passion. Survival was his master...   \n",
       "1081                    The eye of the enemy is moving.   \n",
       "1183                                EARN. SPEND. PARTY.   \n",
       "1191    The extraordinary true story of Solomon Northup   \n",
       "1800                  Some memories are best forgotten.   \n",
       "\n",
       "                                               overview  runtime  \\\n",
       "599   Batman raises the stakes in his war on crime. ...      152   \n",
       "9     Growing up can be a bumpy road, and it's no ex...       94   \n",
       "34    Jack is a young boy of 5 years old who has liv...      117   \n",
       "118   Interstellar chronicles the adventures of a gr...      169   \n",
       "125   Based on the real life story of legendary cryp...      113   \n",
       "119   Light years from Earth, 26 years after being a...      121   \n",
       "128   With his wife's disappearance having become th...      145   \n",
       "138   The Grand Budapest Hotel tells of a legendary ...       99   \n",
       "370   Cobb, a skilled thief who commits corporate es...      148   \n",
       "872   The Pianist is a film adapted from the biograp...      150   \n",
       "1081  Aragorn is revealed as the heir to the ancient...      201   \n",
       "1183  A New York stockbroker refuses to cooperate in...      180   \n",
       "1191  In the pre-Civil War United States, Solomon No...      134   \n",
       "1800  Suffering short-term memory loss after a head ...      113   \n",
       "\n",
       "                                                 genres  \\\n",
       "599                         Drama|Action|Crime|Thriller   \n",
       "9                               Comedy|Animation|Family   \n",
       "34                                       Drama|Thriller   \n",
       "118                     Adventure|Drama|Science Fiction   \n",
       "125                          History|Drama|Thriller|War   \n",
       "119                    Action|Science Fiction|Adventure   \n",
       "128                              Mystery|Thriller|Drama   \n",
       "138                                        Comedy|Drama   \n",
       "370   Action|Thriller|Science Fiction|Mystery|Adventure   \n",
       "872                                           Drama|War   \n",
       "1081                           Adventure|Fantasy|Action   \n",
       "1183                                 Crime|Drama|Comedy   \n",
       "1191                                      Drama|History   \n",
       "1800                                   Mystery|Thriller   \n",
       "\n",
       "                                   production_companies release_date  \\\n",
       "599   DC Comics|Legendary Pictures|Warner Bros.|Syncopy    7/16/2008   \n",
       "9     Walt Disney Pictures|Pixar Animation Studios|W...     6/9/2015   \n",
       "34    Element Pictures|No Trace Camping|A24|Duperele...   10/16/2015   \n",
       "118   Paramount Pictures|Legendary Pictures|Warner B...    11/5/2014   \n",
       "125              Black Bear Pictures|Bristol Automotive   11/14/2014   \n",
       "119   Marvel Studios|Moving Picture Company (MPC)|Bu...    7/30/2014   \n",
       "128   Twentieth Century Fox Film Corporation|Regency...    10/1/2014   \n",
       "138   Fox Searchlight Pictures|Scott Rudin Productio...    2/26/2014   \n",
       "370             Legendary Pictures|Warner Bros.|Syncopy    7/14/2010   \n",
       "872   Bac Films|Canal+Polska|Heritage Films|Studio B...    9/24/2002   \n",
       "1081                      WingNut Films|New Line Cinema    12/1/2003   \n",
       "1183  Paramount Pictures|Appian Way|EMJAG Production...   12/25/2013   \n",
       "1191  Plan B Entertainment|Regency Enterprises|River...   10/18/2013   \n",
       "1800  Summit Entertainment|Newmarket Capital Group|T...   10/11/2000   \n",
       "\n",
       "      vote_average  release_year      profit  month  \n",
       "599            8.1          2008   816921825      7  \n",
       "9              8.0          2015   678708609      6  \n",
       "34             8.0          2015    29401758     10  \n",
       "118            8.0          2014   456752480     11  \n",
       "125            8.0          2014   219555708     11  \n",
       "119            7.9          2014   603312399      7  \n",
       "128            7.9          2014   308330363     10  \n",
       "138            7.9          2014   144600318      2  \n",
       "370            7.9          2010   665500000      7  \n",
       "872            7.9          2002    85072577      9  \n",
       "1081           7.9          2003  1024888979     12  \n",
       "1183           7.9          2013   292000694     12  \n",
       "1191           7.9          2013   167000000     10  \n",
       "1800           7.9          2000    30723096     10  "
      ],
      "text/html": "<div>\n<style scoped>\n    .dataframe tbody tr th:only-of-type {\n        vertical-align: middle;\n    }\n\n    .dataframe tbody tr th {\n        vertical-align: top;\n    }\n\n    .dataframe thead th {\n        text-align: right;\n    }\n</style>\n<table border=\"1\" class=\"dataframe\">\n  <thead>\n    <tr style=\"text-align: right;\">\n      <th></th>\n      <th>imdb_id</th>\n      <th>budget</th>\n      <th>revenue</th>\n      <th>original_title</th>\n      <th>cast</th>\n      <th>director</th>\n      <th>tagline</th>\n      <th>overview</th>\n      <th>runtime</th>\n      <th>genres</th>\n      <th>production_companies</th>\n      <th>release_date</th>\n      <th>vote_average</th>\n      <th>release_year</th>\n      <th>profit</th>\n      <th>month</th>\n    </tr>\n  </thead>\n  <tbody>\n    <tr>\n      <th>599</th>\n      <td>tt0468569</td>\n      <td>185000000</td>\n      <td>1001921825</td>\n      <td>The Dark Knight</td>\n      <td>Christian Bale|Michael Caine|Heath Ledger|Aaro...</td>\n      <td>Christopher Nolan</td>\n      <td>Why So Serious?</td>\n      <td>Batman raises the stakes in his war on crime. ...</td>\n      <td>152</td>\n      <td>Drama|Action|Crime|Thriller</td>\n      <td>DC Comics|Legendary Pictures|Warner Bros.|Syncopy</td>\n      <td>7/16/2008</td>\n      <td>8.1</td>\n      <td>2008</td>\n      <td>816921825</td>\n      <td>7</td>\n    </tr>\n    <tr>\n      <th>9</th>\n      <td>tt2096673</td>\n      <td>175000000</td>\n      <td>853708609</td>\n      <td>Inside Out</td>\n      <td>Amy Poehler|Phyllis Smith|Richard Kind|Bill Ha...</td>\n      <td>Pete Docter</td>\n      <td>Meet the little voices inside your head.</td>\n      <td>Growing up can be a bumpy road, and it's no ex...</td>\n      <td>94</td>\n      <td>Comedy|Animation|Family</td>\n      <td>Walt Disney Pictures|Pixar Animation Studios|W...</td>\n      <td>6/9/2015</td>\n      <td>8.0</td>\n      <td>2015</td>\n      <td>678708609</td>\n      <td>6</td>\n    </tr>\n    <tr>\n      <th>34</th>\n      <td>tt3170832</td>\n      <td>6000000</td>\n      <td>35401758</td>\n      <td>Room</td>\n      <td>Brie Larson|Jacob Tremblay|Joan Allen|Sean Bri...</td>\n      <td>Lenny Abrahamson</td>\n      <td>Love knows no boundaries</td>\n      <td>Jack is a young boy of 5 years old who has liv...</td>\n      <td>117</td>\n      <td>Drama|Thriller</td>\n      <td>Element Pictures|No Trace Camping|A24|Duperele...</td>\n      <td>10/16/2015</td>\n      <td>8.0</td>\n      <td>2015</td>\n      <td>29401758</td>\n      <td>10</td>\n    </tr>\n    <tr>\n      <th>118</th>\n      <td>tt0816692</td>\n      <td>165000000</td>\n      <td>621752480</td>\n      <td>Interstellar</td>\n      <td>Matthew McConaughey|Jessica Chastain|Anne Hath...</td>\n      <td>Christopher Nolan</td>\n      <td>Mankind was born on Earth. It was never meant ...</td>\n      <td>Interstellar chronicles the adventures of a gr...</td>\n      <td>169</td>\n      <td>Adventure|Drama|Science Fiction</td>\n      <td>Paramount Pictures|Legendary Pictures|Warner B...</td>\n      <td>11/5/2014</td>\n      <td>8.0</td>\n      <td>2014</td>\n      <td>456752480</td>\n      <td>11</td>\n    </tr>\n    <tr>\n      <th>125</th>\n      <td>tt2084970</td>\n      <td>14000000</td>\n      <td>233555708</td>\n      <td>The Imitation Game</td>\n      <td>Benedict Cumberbatch|Keira Knightley|Matthew G...</td>\n      <td>Morten Tyldum</td>\n      <td>The true enigma was the man who cracked the code.</td>\n      <td>Based on the real life story of legendary cryp...</td>\n      <td>113</td>\n      <td>History|Drama|Thriller|War</td>\n      <td>Black Bear Pictures|Bristol Automotive</td>\n      <td>11/14/2014</td>\n      <td>8.0</td>\n      <td>2014</td>\n      <td>219555708</td>\n      <td>11</td>\n    </tr>\n    <tr>\n      <th>119</th>\n      <td>tt2015381</td>\n      <td>170000000</td>\n      <td>773312399</td>\n      <td>Guardians of the Galaxy</td>\n      <td>Chris Pratt|Zoe Saldana|Dave Bautista|Vin Dies...</td>\n      <td>James Gunn</td>\n      <td>All heroes start somewhere.</td>\n      <td>Light years from Earth, 26 years after being a...</td>\n      <td>121</td>\n      <td>Action|Science Fiction|Adventure</td>\n      <td>Marvel Studios|Moving Picture Company (MPC)|Bu...</td>\n      <td>7/30/2014</td>\n      <td>7.9</td>\n      <td>2014</td>\n      <td>603312399</td>\n      <td>7</td>\n    </tr>\n    <tr>\n      <th>128</th>\n      <td>tt2267998</td>\n      <td>61000000</td>\n      <td>369330363</td>\n      <td>Gone Girl</td>\n      <td>Ben Affleck|Rosamund Pike|Carrie Coon|Neil Pat...</td>\n      <td>David Fincher</td>\n      <td>You don't know what you've got 'til it's...</td>\n      <td>With his wife's disappearance having become th...</td>\n      <td>145</td>\n      <td>Mystery|Thriller|Drama</td>\n      <td>Twentieth Century Fox Film Corporation|Regency...</td>\n      <td>10/1/2014</td>\n      <td>7.9</td>\n      <td>2014</td>\n      <td>308330363</td>\n      <td>10</td>\n    </tr>\n    <tr>\n      <th>138</th>\n      <td>tt2278388</td>\n      <td>30000000</td>\n      <td>174600318</td>\n      <td>The Grand Budapest Hotel</td>\n      <td>Ralph Fiennes|Tony Revolori|F. Murray Abraham|...</td>\n      <td>Wes Anderson</td>\n      <td>A perfect holiday without leaving home.</td>\n      <td>The Grand Budapest Hotel tells of a legendary ...</td>\n      <td>99</td>\n      <td>Comedy|Drama</td>\n      <td>Fox Searchlight Pictures|Scott Rudin Productio...</td>\n      <td>2/26/2014</td>\n      <td>7.9</td>\n      <td>2014</td>\n      <td>144600318</td>\n      <td>2</td>\n    </tr>\n    <tr>\n      <th>370</th>\n      <td>tt1375666</td>\n      <td>160000000</td>\n      <td>825500000</td>\n      <td>Inception</td>\n      <td>Leonardo DiCaprio|Joseph Gordon-Levitt|Ellen P...</td>\n      <td>Christopher Nolan</td>\n      <td>Your mind is the scene of the crime.</td>\n      <td>Cobb, a skilled thief who commits corporate es...</td>\n      <td>148</td>\n      <td>Action|Thriller|Science Fiction|Mystery|Adventure</td>\n      <td>Legendary Pictures|Warner Bros.|Syncopy</td>\n      <td>7/14/2010</td>\n      <td>7.9</td>\n      <td>2010</td>\n      <td>665500000</td>\n      <td>7</td>\n    </tr>\n    <tr>\n      <th>872</th>\n      <td>tt0253474</td>\n      <td>35000000</td>\n      <td>120072577</td>\n      <td>The Pianist</td>\n      <td>Adrien Brody|Thomas Kretschmann|Frank Finlay|M...</td>\n      <td>Roman Polanski</td>\n      <td>Music was his passion. Survival was his master...</td>\n      <td>The Pianist is a film adapted from the biograp...</td>\n      <td>150</td>\n      <td>Drama|War</td>\n      <td>Bac Films|Canal+Polska|Heritage Films|Studio B...</td>\n      <td>9/24/2002</td>\n      <td>7.9</td>\n      <td>2002</td>\n      <td>85072577</td>\n      <td>9</td>\n    </tr>\n    <tr>\n      <th>1081</th>\n      <td>tt0167260</td>\n      <td>94000000</td>\n      <td>1118888979</td>\n      <td>The Lord of the Rings: The Return of the King</td>\n      <td>Elijah Wood|Ian McKellen|Viggo Mortensen|Liv T...</td>\n      <td>Peter Jackson</td>\n      <td>The eye of the enemy is moving.</td>\n      <td>Aragorn is revealed as the heir to the ancient...</td>\n      <td>201</td>\n      <td>Adventure|Fantasy|Action</td>\n      <td>WingNut Films|New Line Cinema</td>\n      <td>12/1/2003</td>\n      <td>7.9</td>\n      <td>2003</td>\n      <td>1024888979</td>\n      <td>12</td>\n    </tr>\n    <tr>\n      <th>1183</th>\n      <td>tt0993846</td>\n      <td>100000000</td>\n      <td>392000694</td>\n      <td>The Wolf of Wall Street</td>\n      <td>Leonardo DiCaprio|Jonah Hill|Margot Robbie|Kyl...</td>\n      <td>Martin Scorsese</td>\n      <td>EARN. SPEND. PARTY.</td>\n      <td>A New York stockbroker refuses to cooperate in...</td>\n      <td>180</td>\n      <td>Crime|Drama|Comedy</td>\n      <td>Paramount Pictures|Appian Way|EMJAG Production...</td>\n      <td>12/25/2013</td>\n      <td>7.9</td>\n      <td>2013</td>\n      <td>292000694</td>\n      <td>12</td>\n    </tr>\n    <tr>\n      <th>1191</th>\n      <td>tt2024544</td>\n      <td>20000000</td>\n      <td>187000000</td>\n      <td>12 Years a Slave</td>\n      <td>Chiwetel Ejiofor|Michael Fassbender|Lupita Nyo...</td>\n      <td>Steve McQueen</td>\n      <td>The extraordinary true story of Solomon Northup</td>\n      <td>In the pre-Civil War United States, Solomon No...</td>\n      <td>134</td>\n      <td>Drama|History</td>\n      <td>Plan B Entertainment|Regency Enterprises|River...</td>\n      <td>10/18/2013</td>\n      <td>7.9</td>\n      <td>2013</td>\n      <td>167000000</td>\n      <td>10</td>\n    </tr>\n    <tr>\n      <th>1800</th>\n      <td>tt0209144</td>\n      <td>9000000</td>\n      <td>39723096</td>\n      <td>Memento</td>\n      <td>Guy Pearce|Carrie-Anne Moss|Joe Pantoliano|Mar...</td>\n      <td>Christopher Nolan</td>\n      <td>Some memories are best forgotten.</td>\n      <td>Suffering short-term memory loss after a head ...</td>\n      <td>113</td>\n      <td>Mystery|Thriller</td>\n      <td>Summit Entertainment|Newmarket Capital Group|T...</td>\n      <td>10/11/2000</td>\n      <td>7.9</td>\n      <td>2000</td>\n      <td>30723096</td>\n      <td>10</td>\n    </tr>\n  </tbody>\n</table>\n</div>"
     },
     "metadata": {},
     "execution_count": 65
    }
   ],
   "source": [
    "newdf[newdf.vote_average > newdf.vote_average.quantile(.99)].sort_values(['vote_average'], ascending=False)"
   ]
  },
  {
   "cell_type": "code",
   "execution_count": 66,
   "metadata": {},
   "outputs": [
    {
     "output_type": "display_data",
     "data": {
      "text/plain": "     imdb_id     budget     revenue  original_title  \\\n0  tt0369610  150000000  1513528810  Jurassic World   \n\n                                                cast         director  \\\n0  Chris Pratt|Bryce Dallas Howard|Irrfan Khan|Vi...  Colin Trevorrow   \n\n             tagline                                           overview  \\\n0  The park is open.  Twenty-two years after the events of Jurassic ...   \n\n   runtime                                     genres  \\\n0      124  Action|Adventure|Science Fiction|Thriller   \n\n                                production_companies release_date  \\\n0  Universal Studios|Amblin Entertainment|Legenda...     6/9/2015   \n\n   vote_average  release_year      profit            company  title_length  \\\n0           6.5          2015  1363528810  Universal Studios            14   \n\n   overview_length  \n0              175  ",
      "text/html": "<div>\n<style scoped>\n    .dataframe tbody tr th:only-of-type {\n        vertical-align: middle;\n    }\n\n    .dataframe tbody tr th {\n        vertical-align: top;\n    }\n\n    .dataframe thead th {\n        text-align: right;\n    }\n</style>\n<table border=\"1\" class=\"dataframe\">\n  <thead>\n    <tr style=\"text-align: right;\">\n      <th></th>\n      <th>imdb_id</th>\n      <th>budget</th>\n      <th>revenue</th>\n      <th>original_title</th>\n      <th>cast</th>\n      <th>director</th>\n      <th>tagline</th>\n      <th>overview</th>\n      <th>runtime</th>\n      <th>genres</th>\n      <th>production_companies</th>\n      <th>release_date</th>\n      <th>vote_average</th>\n      <th>release_year</th>\n      <th>profit</th>\n      <th>company</th>\n      <th>title_length</th>\n      <th>overview_length</th>\n    </tr>\n  </thead>\n  <tbody>\n    <tr>\n      <th>0</th>\n      <td>tt0369610</td>\n      <td>150000000</td>\n      <td>1513528810</td>\n      <td>Jurassic World</td>\n      <td>Chris Pratt|Bryce Dallas Howard|Irrfan Khan|Vi...</td>\n      <td>Colin Trevorrow</td>\n      <td>The park is open.</td>\n      <td>Twenty-two years after the events of Jurassic ...</td>\n      <td>124</td>\n      <td>Action|Adventure|Science Fiction|Thriller</td>\n      <td>Universal Studios|Amblin Entertainment|Legenda...</td>\n      <td>6/9/2015</td>\n      <td>6.5</td>\n      <td>2015</td>\n      <td>1363528810</td>\n      <td>Universal Studios</td>\n      <td>14</td>\n      <td>175</td>\n    </tr>\n  </tbody>\n</table>\n</div>"
     },
     "metadata": {}
    },
    {
     "output_type": "display_data",
     "data": {
      "text/plain": "{'1': '5. Pirates of the Caribbean (tt1298650)',\n '2': '2. Gods and Generals (tt0279111)',\n '3': '3. Winnie the Pooh (tt1449283)',\n '4': '2. 110',\n '5': '1. 107',\n '6': '5. Avatar (tt0499549)',\n '7': '5. The Lone Ranger (tt1210819)',\n '8': '1. 1478',\n '9': '4. The Dark Knight (tt0468569)',\n '10': '5. The Lone Ranger (tt1210819)',\n '11': '3. Drama',\n '12': '1. Drama',\n '13': '5. Peter Jackson',\n '14': '3. Robert Rodriguez',\n '15': '3. Chris Hemsworth',\n '16': '3. Matt Damon',\n '17': '2. Action',\n '18': '1. K-19: The Widowmaker (tt0267626)',\n '19': '5. 2015',\n '20': '1. 2014',\n '21': '4. Сентябрь',\n '22': '2. 450',\n '23': '5. Peter Jackson',\n '24': '5. Four By Two Productions',\n '25': '3. Midnight Picture Show',\n '26': '1. Inside Out, The Dark Knight, 12 Years a Slave'}"
     },
     "metadata": {}
    }
   ],
   "source": [
    "answers['26'] = '1. Inside Out, The Dark Knight, 12 Years a Slave'\n",
    "display(newdf_6.head(1))\n",
    "display(answers)"
   ]
  },
  {
   "cell_type": "markdown",
   "metadata": {
    "colab_type": "text",
    "id": "MdXsUXbCVqAV"
   },
   "source": [
    "# 27. Какие актеры чаще всего снимаются в одном фильме вместе?\n"
   ]
  },
  {
   "cell_type": "code",
   "execution_count": 87,
   "metadata": {},
   "outputs": [],
   "source": [
    "from itertools import combinations\n",
    "newdf_8 = newdf"
   ]
  },
  {
   "cell_type": "code",
   "execution_count": 88,
   "metadata": {},
   "outputs": [
    {
     "output_type": "execute_result",
     "data": {
      "text/plain": [
       "Daniel Radcliffe & Emma Watson         8\n",
       "Daniel Radcliffe & Rupert Grint        8\n",
       "Rupert Grint & Emma Watson             7\n",
       "Johnny Depp & Helena Bonham Carter     6\n",
       "Ben Stiller & Owen Wilson              6\n",
       "Hugh Jackman & Ian McKellen            5\n",
       "Kristen Stewart & Taylor Lautner       5\n",
       "Kristen Stewart & Robert Pattinson     5\n",
       "Adam Sandler & Kevin James             5\n",
       "Robert Pattinson & Taylor Lautner      5\n",
       "Josh Hutcherson & Woody Harrelson      4\n",
       "Robert Pattinson & Peter Facinelli     4\n",
       "Tobin Bell & Betsy Russell             4\n",
       "Taylor Lautner & Peter Facinelli       4\n",
       "Liam Hemsworth & Woody Harrelson       4\n",
       "Jennifer Lawrence & Woody Harrelson    4\n",
       "Tobin Bell & Costas Mandylor           4\n",
       "Mike Myers & Eddie Murphy              4\n",
       "Paul Walker & Jordana Brewster         4\n",
       "Costas Mandylor & Betsy Russell        4\n",
       "Name: pairs, dtype: int64"
      ]
     },
     "metadata": {},
     "execution_count": 88
    }
   ],
   "source": [
    "casties = newdf.cast.str.split('|')\n",
    "newdf_8 = newdf.merge(casties.rename('cast_list'), left_index=True, right_index=True)\n",
    "combs = newdf_8.cast_list.apply(lambda r: list(combinations(r, 2))).explode().str.join(' & ')\n",
    "newdf_8 = newdf_8.merge(combs.rename('pairs'), left_index=True, right_index=True)\n",
    "newdf_8.pairs.value_counts().head(20)"
   ]
  },
  {
   "cell_type": "markdown",
   "metadata": {
    "colab_type": "text",
    "id": "4ymnxEVoVqAW"
   },
   "source": [
    "ВАРИАНТ 2"
   ]
  },
  {
   "cell_type": "code",
   "execution_count": null,
   "metadata": {},
   "outputs": [],
   "source": []
  },
  {
   "cell_type": "code",
   "execution_count": 89,
   "metadata": {},
   "outputs": [
    {
     "output_type": "display_data",
     "data": {
      "text/plain": "     imdb_id     budget     revenue  original_title  \\\n0  tt0369610  150000000  1513528810  Jurassic World   \n\n                                                cast         director  \\\n0  Chris Pratt|Bryce Dallas Howard|Irrfan Khan|Vi...  Colin Trevorrow   \n\n             tagline                                           overview  \\\n0  The park is open.  Twenty-two years after the events of Jurassic ...   \n\n   runtime                                     genres  \\\n0      124  Action|Adventure|Science Fiction|Thriller   \n\n                                production_companies release_date  \\\n0  Universal Studios|Amblin Entertainment|Legenda...     6/9/2015   \n\n   vote_average  release_year      profit  month  \\\n0           6.5          2015  1363528810      6   \n\n                                           cast_list  \\\n0  [Chris Pratt, Bryce Dallas Howard, Irrfan Khan...   \n\n                               pairs  \n0  Chris Pratt & Bryce Dallas Howard  ",
      "text/html": "<div>\n<style scoped>\n    .dataframe tbody tr th:only-of-type {\n        vertical-align: middle;\n    }\n\n    .dataframe tbody tr th {\n        vertical-align: top;\n    }\n\n    .dataframe thead th {\n        text-align: right;\n    }\n</style>\n<table border=\"1\" class=\"dataframe\">\n  <thead>\n    <tr style=\"text-align: right;\">\n      <th></th>\n      <th>imdb_id</th>\n      <th>budget</th>\n      <th>revenue</th>\n      <th>original_title</th>\n      <th>cast</th>\n      <th>director</th>\n      <th>tagline</th>\n      <th>overview</th>\n      <th>runtime</th>\n      <th>genres</th>\n      <th>production_companies</th>\n      <th>release_date</th>\n      <th>vote_average</th>\n      <th>release_year</th>\n      <th>profit</th>\n      <th>month</th>\n      <th>cast_list</th>\n      <th>pairs</th>\n    </tr>\n  </thead>\n  <tbody>\n    <tr>\n      <th>0</th>\n      <td>tt0369610</td>\n      <td>150000000</td>\n      <td>1513528810</td>\n      <td>Jurassic World</td>\n      <td>Chris Pratt|Bryce Dallas Howard|Irrfan Khan|Vi...</td>\n      <td>Colin Trevorrow</td>\n      <td>The park is open.</td>\n      <td>Twenty-two years after the events of Jurassic ...</td>\n      <td>124</td>\n      <td>Action|Adventure|Science Fiction|Thriller</td>\n      <td>Universal Studios|Amblin Entertainment|Legenda...</td>\n      <td>6/9/2015</td>\n      <td>6.5</td>\n      <td>2015</td>\n      <td>1363528810</td>\n      <td>6</td>\n      <td>[Chris Pratt, Bryce Dallas Howard, Irrfan Khan...</td>\n      <td>Chris Pratt &amp; Bryce Dallas Howard</td>\n    </tr>\n  </tbody>\n</table>\n</div>"
     },
     "metadata": {}
    },
    {
     "output_type": "display_data",
     "data": {
      "text/plain": "{'1': '5. Pirates of the Caribbean (tt1298650)',\n '2': '2. Gods and Generals (tt0279111)',\n '3': '3. Winnie the Pooh (tt1449283)',\n '4': '2. 110',\n '5': '1. 107',\n '6': '5. Avatar (tt0499549)',\n '7': '5. The Lone Ranger (tt1210819)',\n '8': '1. 1478',\n '9': '4. The Dark Knight (tt0468569)',\n '10': '5. The Lone Ranger (tt1210819)',\n '11': '3. Drama',\n '12': '1. Drama',\n '13': '5. Peter Jackson',\n '14': '3. Robert Rodriguez',\n '15': '3. Chris Hemsworth',\n '16': '3. Matt Damon',\n '17': '2. Action',\n '18': '1. K-19: The Widowmaker (tt0267626)',\n '19': '5. 2015',\n '20': '1. 2014',\n '21': '4. Сентябрь',\n '22': '2. 450',\n '23': '5. Peter Jackson',\n '24': '5. Four By Two Productions',\n '25': '3. Midnight Picture Show',\n '26': '1. Inside Out, The Dark Knight, 12 Years a Slave',\n '27': '5. Daniel Radcliffe & Rupert Grint'}"
     },
     "metadata": {}
    }
   ],
   "source": [
    "answers['27'] = '5. Daniel Radcliffe & Rupert Grint'\n",
    "display(newdf_8.head(1))\n",
    "display(answers)"
   ]
  },
  {
   "cell_type": "markdown",
   "metadata": {
    "colab_type": "text",
    "id": "U0nONFnGVqAX"
   },
   "source": [
    "# Submission"
   ]
  },
  {
   "cell_type": "code",
   "execution_count": 91,
   "metadata": {
    "colab": {},
    "colab_type": "code",
    "id": "IfcaRO9-VqAX",
    "outputId": "0f132912-32bb-4196-c98c-abfbc4ad5a5f"
   },
   "outputs": [
    {
     "output_type": "execute_result",
     "data": {
      "text/plain": [
       "{'1': '5. Pirates of the Caribbean (tt1298650)',\n",
       " '2': '2. Gods and Generals (tt0279111)',\n",
       " '3': '3. Winnie the Pooh (tt1449283)',\n",
       " '4': '2. 110',\n",
       " '5': '1. 107',\n",
       " '6': '5. Avatar (tt0499549)',\n",
       " '7': '5. The Lone Ranger (tt1210819)',\n",
       " '8': '1. 1478',\n",
       " '9': '4. The Dark Knight (tt0468569)',\n",
       " '10': '5. The Lone Ranger (tt1210819)',\n",
       " '11': '3. Drama',\n",
       " '12': '1. Drama',\n",
       " '13': '5. Peter Jackson',\n",
       " '14': '3. Robert Rodriguez',\n",
       " '15': '3. Chris Hemsworth',\n",
       " '16': '3. Matt Damon',\n",
       " '17': '2. Action',\n",
       " '18': '1. K-19: The Widowmaker (tt0267626)',\n",
       " '19': '5. 2015',\n",
       " '20': '1. 2014',\n",
       " '21': '4. Сентябрь',\n",
       " '22': '2. 450',\n",
       " '23': '5. Peter Jackson',\n",
       " '24': '5. Four By Two Productions',\n",
       " '25': '3. Midnight Picture Show',\n",
       " '26': '1. Inside Out, The Dark Knight, 12 Years a Slave',\n",
       " '27': '5. Daniel Radcliffe & Rupert Grint'}"
      ]
     },
     "metadata": {},
     "execution_count": 91
    }
   ],
   "source": [
    "# в конце можно посмотреть свои ответы к каждому вопросу\n",
    "answers"
   ]
  },
  {
   "cell_type": "code",
   "execution_count": 92,
   "metadata": {
    "colab": {},
    "colab_type": "code",
    "id": "SiRmHPl8VqAd"
   },
   "outputs": [
    {
     "output_type": "execute_result",
     "data": {
      "text/plain": [
       "27"
      ]
     },
     "metadata": {},
     "execution_count": 92
    }
   ],
   "source": [
    "# и убедиться что ни чего не пропустил)\n",
    "len(answers)"
   ]
  },
  {
   "cell_type": "code",
   "execution_count": 0,
   "metadata": {
    "colab": {},
    "colab_type": "code",
    "id": "uCfuTkRbVqAg"
   },
   "outputs": [],
   "source": []
  },
  {
   "cell_type": "code",
   "execution_count": 0,
   "metadata": {
    "colab": {},
    "colab_type": "code",
    "id": "Vwx3NrkSVqAl"
   },
   "outputs": [],
   "source": []
  }
 ],
 "metadata": {
  "colab": {
   "name": "Copy of [SF-DST] Movies IMBD v4.1 TEMPLATE.ipynb",
   "provenance": []
  },
  "kernelspec": {
   "name": "python3",
   "display_name": "Python 3.6.3 64-bit ('.venv')",
   "metadata": {
    "interpreter": {
     "hash": "a6730fb0a06c18af636869813f8eb69d9f4a51b49b9b87b39aeaf81c3d64a67b"
    }
   }
  },
  "language_info": {
   "codemirror_mode": {
    "name": "ipython",
    "version": 3
   },
   "file_extension": ".py",
   "mimetype": "text/x-python",
   "name": "python",
   "nbconvert_exporter": "python",
   "pygments_lexer": "ipython3",
   "version": "3.6.3-final"
  }
 },
 "nbformat": 4,
 "nbformat_minor": 1
}