{
 "metadata": {
  "language_info": {
   "codemirror_mode": {
    "name": "ipython",
    "version": 3
   },
   "file_extension": ".py",
   "mimetype": "text/x-python",
   "name": "python",
   "nbconvert_exporter": "python",
   "pygments_lexer": "ipython3",
   "version": "3.8.2-final"
  },
  "orig_nbformat": 2,
  "kernelspec": {
   "name": "python3",
   "display_name": "Python 3.8.2 64-bit ('.venv')",
   "metadata": {
    "interpreter": {
     "hash": "a6730fb0a06c18af636869813f8eb69d9f4a51b49b9b87b39aeaf81c3d64a67b"
    }
   }
  }
 },
 "nbformat": 4,
 "nbformat_minor": 2,
 "cells": [
  {
   "source": [
    "# Проект 3. О вкусной и здоровой пище"
   ],
   "cell_type": "markdown",
   "metadata": {}
  },
  {
   "cell_type": "code",
   "execution_count": 157,
   "metadata": {},
   "outputs": [],
   "source": [
    "import pandas as pd\n",
    "import numpy as np"
   ]
  },
  {
   "cell_type": "code",
   "execution_count": 158,
   "metadata": {},
   "outputs": [
    {
     "output_type": "stream",
     "name": "stdout",
     "text": [
      "<class 'pandas.core.frame.DataFrame'>\nRangeIndex: 40000 entries, 0 to 39999\nData columns (total 10 columns):\n #   Column             Non-Null Count  Dtype  \n---  ------             --------------  -----  \n 0   Restaurant_id      40000 non-null  object \n 1   City               40000 non-null  object \n 2   Cuisine Style      30717 non-null  object \n 3   Ranking            40000 non-null  float64\n 4   Rating             40000 non-null  float64\n 5   Price Range        26114 non-null  object \n 6   Number of Reviews  37457 non-null  float64\n 7   Reviews            40000 non-null  object \n 8   URL_TA             40000 non-null  object \n 9   ID_TA              40000 non-null  object \ndtypes: float64(3), object(7)\nmemory usage: 3.1+ MB\n"
     ]
    }
   ],
   "source": [
    "data = pd.read_csv('main_task.csv') # загружаем данные\n",
    "data.info() # смотрим краткую инфу"
   ]
  },
  {
   "cell_type": "code",
   "execution_count": 159,
   "metadata": {},
   "outputs": [
    {
     "output_type": "execute_result",
     "data": {
      "text/plain": [
       "  Restaurant_id       City                                      Cuisine Style  \\\n",
       "0       id_5569      Paris            ['European', 'French', 'International']   \n",
       "1       id_1535  Stockholm                                                NaN   \n",
       "2        id_352     London  ['Japanese', 'Sushi', 'Asian', 'Grill', 'Veget...   \n",
       "3       id_3456     Berlin                                                NaN   \n",
       "4        id_615     Munich  ['German', 'Central European', 'Vegetarian Fri...   \n",
       "\n",
       "   Ranking  Rating Price Range  Number of Reviews  \\\n",
       "0   5570.0     3.5    $$ - $$$              194.0   \n",
       "1   1537.0     4.0         NaN               10.0   \n",
       "2    353.0     4.5        $$$$              688.0   \n",
       "3   3458.0     5.0         NaN                3.0   \n",
       "4    621.0     4.0    $$ - $$$               84.0   \n",
       "\n",
       "                                             Reviews  \\\n",
       "0  [['Good food at your doorstep', 'A good hotel ...   \n",
       "1  [['Unique cuisine', 'Delicious Nepalese food']...   \n",
       "2  [['Catch up with friends', 'Not exceptional'],...   \n",
       "3                                           [[], []]   \n",
       "4  [['Best place to try a Bavarian food', 'Nice b...   \n",
       "\n",
       "                                              URL_TA     ID_TA  \n",
       "0  /Restaurant_Review-g187147-d1912643-Reviews-R_...  d1912643  \n",
       "1  /Restaurant_Review-g189852-d7992032-Reviews-Bu...  d7992032  \n",
       "2  /Restaurant_Review-g186338-d8632781-Reviews-RO...  d8632781  \n",
       "3  /Restaurant_Review-g187323-d1358776-Reviews-Es...  d1358776  \n",
       "4  /Restaurant_Review-g187309-d6864963-Reviews-Au...  d6864963  "
      ],
      "text/html": "<div>\n<style scoped>\n    .dataframe tbody tr th:only-of-type {\n        vertical-align: middle;\n    }\n\n    .dataframe tbody tr th {\n        vertical-align: top;\n    }\n\n    .dataframe thead th {\n        text-align: right;\n    }\n</style>\n<table border=\"1\" class=\"dataframe\">\n  <thead>\n    <tr style=\"text-align: right;\">\n      <th></th>\n      <th>Restaurant_id</th>\n      <th>City</th>\n      <th>Cuisine Style</th>\n      <th>Ranking</th>\n      <th>Rating</th>\n      <th>Price Range</th>\n      <th>Number of Reviews</th>\n      <th>Reviews</th>\n      <th>URL_TA</th>\n      <th>ID_TA</th>\n    </tr>\n  </thead>\n  <tbody>\n    <tr>\n      <th>0</th>\n      <td>id_5569</td>\n      <td>Paris</td>\n      <td>['European', 'French', 'International']</td>\n      <td>5570.0</td>\n      <td>3.5</td>\n      <td>$$ - $$$</td>\n      <td>194.0</td>\n      <td>[['Good food at your doorstep', 'A good hotel ...</td>\n      <td>/Restaurant_Review-g187147-d1912643-Reviews-R_...</td>\n      <td>d1912643</td>\n    </tr>\n    <tr>\n      <th>1</th>\n      <td>id_1535</td>\n      <td>Stockholm</td>\n      <td>NaN</td>\n      <td>1537.0</td>\n      <td>4.0</td>\n      <td>NaN</td>\n      <td>10.0</td>\n      <td>[['Unique cuisine', 'Delicious Nepalese food']...</td>\n      <td>/Restaurant_Review-g189852-d7992032-Reviews-Bu...</td>\n      <td>d7992032</td>\n    </tr>\n    <tr>\n      <th>2</th>\n      <td>id_352</td>\n      <td>London</td>\n      <td>['Japanese', 'Sushi', 'Asian', 'Grill', 'Veget...</td>\n      <td>353.0</td>\n      <td>4.5</td>\n      <td>$$$$</td>\n      <td>688.0</td>\n      <td>[['Catch up with friends', 'Not exceptional'],...</td>\n      <td>/Restaurant_Review-g186338-d8632781-Reviews-RO...</td>\n      <td>d8632781</td>\n    </tr>\n    <tr>\n      <th>3</th>\n      <td>id_3456</td>\n      <td>Berlin</td>\n      <td>NaN</td>\n      <td>3458.0</td>\n      <td>5.0</td>\n      <td>NaN</td>\n      <td>3.0</td>\n      <td>[[], []]</td>\n      <td>/Restaurant_Review-g187323-d1358776-Reviews-Es...</td>\n      <td>d1358776</td>\n    </tr>\n    <tr>\n      <th>4</th>\n      <td>id_615</td>\n      <td>Munich</td>\n      <td>['German', 'Central European', 'Vegetarian Fri...</td>\n      <td>621.0</td>\n      <td>4.0</td>\n      <td>$$ - $$$</td>\n      <td>84.0</td>\n      <td>[['Best place to try a Bavarian food', 'Nice b...</td>\n      <td>/Restaurant_Review-g187309-d6864963-Reviews-Au...</td>\n      <td>d6864963</td>\n    </tr>\n  </tbody>\n</table>\n</div>"
     },
     "metadata": {},
     "execution_count": 159
    }
   ],
   "source": [
    "data.head() # смотрим данные"
   ]
  },
  {
   "cell_type": "code",
   "execution_count": 160,
   "metadata": {},
   "outputs": [
    {
     "output_type": "execute_result",
     "data": {
      "text/plain": [
       "  Restaurant_id    City                                      Cuisine Style  \\\n",
       "0       id_5569   Paris            ['European', 'French', 'International']   \n",
       "2        id_352  London  ['Japanese', 'Sushi', 'Asian', 'Grill', 'Veget...   \n",
       "4        id_615  Munich  ['German', 'Central European', 'Vegetarian Fri...   \n",
       "6       id_1720   Milan                               ['Italian', 'Pizza']   \n",
       "9       id_4209    Rome                  ['Italian', 'Pizza', 'Fast Food']   \n",
       "\n",
       "   Ranking  Rating Price Range  Number of Reviews  \\\n",
       "0   5570.0     3.5    $$ - $$$              194.0   \n",
       "2    353.0     4.5        $$$$              688.0   \n",
       "4    621.0     4.0    $$ - $$$               84.0   \n",
       "6   1722.0     4.0           $               50.0   \n",
       "9   4210.0     4.0           $               55.0   \n",
       "\n",
       "                                             Reviews  \\\n",
       "0  [['Good food at your doorstep', 'A good hotel ...   \n",
       "2  [['Catch up with friends', 'Not exceptional'],...   \n",
       "4  [['Best place to try a Bavarian food', 'Nice b...   \n",
       "6  [['Excellent simple local eatery.', 'Excellent...   \n",
       "9  [['Clean efficient staff', 'Nice little pizza ...   \n",
       "\n",
       "                                              URL_TA     ID_TA  \n",
       "0  /Restaurant_Review-g187147-d1912643-Reviews-R_...  d1912643  \n",
       "2  /Restaurant_Review-g186338-d8632781-Reviews-RO...  d8632781  \n",
       "4  /Restaurant_Review-g187309-d6864963-Reviews-Au...  d6864963  \n",
       "6  /Restaurant_Review-g187849-d5808504-Reviews-Pi...  d5808504  \n",
       "9  /Restaurant_Review-g187791-d8020681-Reviews-Qu...  d8020681  "
      ],
      "text/html": "<div>\n<style scoped>\n    .dataframe tbody tr th:only-of-type {\n        vertical-align: middle;\n    }\n\n    .dataframe tbody tr th {\n        vertical-align: top;\n    }\n\n    .dataframe thead th {\n        text-align: right;\n    }\n</style>\n<table border=\"1\" class=\"dataframe\">\n  <thead>\n    <tr style=\"text-align: right;\">\n      <th></th>\n      <th>Restaurant_id</th>\n      <th>City</th>\n      <th>Cuisine Style</th>\n      <th>Ranking</th>\n      <th>Rating</th>\n      <th>Price Range</th>\n      <th>Number of Reviews</th>\n      <th>Reviews</th>\n      <th>URL_TA</th>\n      <th>ID_TA</th>\n    </tr>\n  </thead>\n  <tbody>\n    <tr>\n      <th>0</th>\n      <td>id_5569</td>\n      <td>Paris</td>\n      <td>['European', 'French', 'International']</td>\n      <td>5570.0</td>\n      <td>3.5</td>\n      <td>$$ - $$$</td>\n      <td>194.0</td>\n      <td>[['Good food at your doorstep', 'A good hotel ...</td>\n      <td>/Restaurant_Review-g187147-d1912643-Reviews-R_...</td>\n      <td>d1912643</td>\n    </tr>\n    <tr>\n      <th>2</th>\n      <td>id_352</td>\n      <td>London</td>\n      <td>['Japanese', 'Sushi', 'Asian', 'Grill', 'Veget...</td>\n      <td>353.0</td>\n      <td>4.5</td>\n      <td>$$$$</td>\n      <td>688.0</td>\n      <td>[['Catch up with friends', 'Not exceptional'],...</td>\n      <td>/Restaurant_Review-g186338-d8632781-Reviews-RO...</td>\n      <td>d8632781</td>\n    </tr>\n    <tr>\n      <th>4</th>\n      <td>id_615</td>\n      <td>Munich</td>\n      <td>['German', 'Central European', 'Vegetarian Fri...</td>\n      <td>621.0</td>\n      <td>4.0</td>\n      <td>$$ - $$$</td>\n      <td>84.0</td>\n      <td>[['Best place to try a Bavarian food', 'Nice b...</td>\n      <td>/Restaurant_Review-g187309-d6864963-Reviews-Au...</td>\n      <td>d6864963</td>\n    </tr>\n    <tr>\n      <th>6</th>\n      <td>id_1720</td>\n      <td>Milan</td>\n      <td>['Italian', 'Pizza']</td>\n      <td>1722.0</td>\n      <td>4.0</td>\n      <td>$</td>\n      <td>50.0</td>\n      <td>[['Excellent simple local eatery.', 'Excellent...</td>\n      <td>/Restaurant_Review-g187849-d5808504-Reviews-Pi...</td>\n      <td>d5808504</td>\n    </tr>\n    <tr>\n      <th>9</th>\n      <td>id_4209</td>\n      <td>Rome</td>\n      <td>['Italian', 'Pizza', 'Fast Food']</td>\n      <td>4210.0</td>\n      <td>4.0</td>\n      <td>$</td>\n      <td>55.0</td>\n      <td>[['Clean efficient staff', 'Nice little pizza ...</td>\n      <td>/Restaurant_Review-g187791-d8020681-Reviews-Qu...</td>\n      <td>d8020681</td>\n    </tr>\n  </tbody>\n</table>\n</div>"
     },
     "metadata": {},
     "execution_count": 160
    }
   ],
   "source": [
    "data[(data['Price Range'].isna() == False)].head() # проверяю кое что)"
   ]
  },
  {
   "cell_type": "code",
   "execution_count": 161,
   "metadata": {},
   "outputs": [
    {
     "output_type": "execute_result",
     "data": {
      "text/plain": [
       "array(['$$ - $$$', nan, '$$$$', '$'], dtype=object)"
      ]
     },
     "metadata": {},
     "execution_count": 161
    }
   ],
   "source": [
    "data['Price Range'].unique() # смотрим на уникальные ключи"
   ]
  },
  {
   "cell_type": "code",
   "execution_count": 162,
   "metadata": {},
   "outputs": [
    {
     "output_type": "execute_result",
     "data": {
      "text/plain": [
       "18412"
      ]
     },
     "metadata": {},
     "execution_count": 162
    }
   ],
   "source": [
    "len(data[data['Price Range'] == '$$ - $$$']) # смотрим количество среднего ценового сегмента"
   ]
  },
  {
   "cell_type": "code",
   "execution_count": 163,
   "metadata": {},
   "outputs": [
    {
     "output_type": "execute_result",
     "data": {
      "text/plain": [
       "31"
      ]
     },
     "metadata": {},
     "execution_count": 163
    }
   ],
   "source": [
    "len(data['City'].unique()) # смотрим количество городов"
   ]
  },
  {
   "cell_type": "code",
   "execution_count": 164,
   "metadata": {},
   "outputs": [
    {
     "output_type": "execute_result",
     "data": {
      "text/plain": [
       "(array([ 0,  1,  2, ...,  1, 15,  6]),\n",
       " Index(['Paris', 'Stockholm', 'London', 'Berlin', 'Munich', 'Oporto', 'Milan',\n",
       "        'Bratislava', 'Vienna', 'Rome', 'Barcelona', 'Madrid', 'Dublin',\n",
       "        'Brussels', 'Zurich', 'Warsaw', 'Budapest', 'Copenhagen', 'Amsterdam',\n",
       "        'Lyon', 'Hamburg', 'Lisbon', 'Prague', 'Oslo', 'Helsinki', 'Edinburgh',\n",
       "        'Geneva', 'Ljubljana', 'Athens', 'Luxembourg', 'Krakow'],\n",
       "       dtype='object'))"
      ]
     },
     "metadata": {},
     "execution_count": 164
    }
   ],
   "source": [
    "codes, uniques = data['City'].factorize() # использовал когда писал код без dummy-variables\n",
    "codes, uniques"
   ]
  },
  {
   "cell_type": "code",
   "execution_count": 165,
   "metadata": {},
   "outputs": [
    {
     "output_type": "execute_result",
     "data": {
      "text/plain": [
       "0                        [European, French, International]\n",
       "1                                                [Default]\n",
       "2        [Japanese, Sushi, Asian, Grill, Vegetarian Fri...\n",
       "3                                                [Default]\n",
       "4          [German, Central European, Vegetarian Friendly]\n",
       "                               ...                        \n",
       "39995    [Italian, Vegetarian Friendly, Vegan Options, ...\n",
       "39996    [French, American, Bar, European, Vegetarian F...\n",
       "39997                                    [Japanese, Sushi]\n",
       "39998    [Polish, European, Eastern European, Central E...\n",
       "39999                                            [Spanish]\n",
       "Name: Cuisine Style, Length: 40000, dtype: object"
      ]
     },
     "metadata": {},
     "execution_count": 165
    }
   ],
   "source": [
    "# Импортируем либы для Regex и коллекций\n",
    "import re\n",
    "import collections\n",
    "\n",
    "# Метод для приведения строковое значение кухонь в вид списка\n",
    "def filter_cus(arr):\n",
    "    obj = arr\n",
    "    ret = []\n",
    "    if type(arr) is str:\n",
    "        obj = re.split(\"\\['|', '|'\\]\", arr)\n",
    "    else:\n",
    "        ret.append('Default')\n",
    "    for cus in obj:\n",
    "        if cus != '':\n",
    "            ret.append(cus)\n",
    "    return ret\n",
    "\n",
    "cuisine = data['Cuisine Style'].apply(lambda x: [] if x != x else x) # NaN переназначаем на пустой список\n",
    "parsed = cuisine.apply(lambda x: filter_cus(x)) # парсим данные о кухонь\n",
    "cus_num = parsed.apply(lambda x: len(x)) # сохраняем инфу о количество кухонь для дальнейшего оспользования\n",
    "parsed # спарсенные кухни"
   ]
  },
  {
   "cell_type": "code",
   "execution_count": 166,
   "metadata": {},
   "outputs": [
    {
     "output_type": "execute_result",
     "data": {
      "text/plain": [
       "['12/31/2017', '11/20/2017']"
      ]
     },
     "metadata": {},
     "execution_count": 166
    }
   ],
   "source": [
    "re.findall(\"\\d\\d/\\d\\d/\\d\\d\\d\\d\", data.Reviews[0]) # проверяю регулярку"
   ]
  },
  {
   "cell_type": "code",
   "execution_count": 167,
   "metadata": {},
   "outputs": [
    {
     "output_type": "execute_result",
     "data": {
      "text/plain": [
       "3207"
      ]
     },
     "metadata": {},
     "execution_count": 167
    }
   ],
   "source": [
    "# Импортирую либу для даты\n",
    "from datetime import datetime\n",
    "\n",
    "dates = []\n",
    "# Промежуточный метод для проверки всех дат\n",
    "def get_dates(arr):\n",
    "    for item in arr:\n",
    "        dates.append(datetime.strptime(item, '%m/%d/%Y'))\n",
    "\n",
    "# Метод для извлечения количества дней между первым и последними комментами\n",
    "def split_dates(arr):\n",
    "    if len(arr) == 0: # если длина списка равна 0 то возвращаем 0 дней\n",
    "        return datetime.strptime('01/01/2000', '%m/%d/%Y')-datetime.strptime('01/01/2000', '%m/%d/%Y')\n",
    "    dts = []\n",
    "    for item in arr: # пробегаемся по списку и извлекаем инфу\n",
    "        dts.append(datetime.strptime(item, '%m/%d/%Y'))\n",
    "    srt_arr = sorted(dts, reverse=True) # сортируем даты\n",
    "    return srt_arr[0]-srt_arr[len(srt_arr)-1] # извлекаем дни\n",
    "\n",
    "newdata = data.copy() # дабы не портить начальные данные делаем копию данных\n",
    "revs = data.Reviews.apply(lambda x: re.findall(\"\\d\\d/\\d\\d/\\d\\d\\d\\d\", x)) # находим все даты в данных об отзывах\n",
    "newdata['Rev_Days'] = revs.apply(lambda x: split_dates(x).days) # пишем результаты в новый столбец\n",
    "newdata['Rev_Days'].max()"
   ]
  },
  {
   "cell_type": "code",
   "execution_count": 168,
   "metadata": {},
   "outputs": [
    {
     "output_type": "execute_result",
     "data": {
      "text/plain": [
       "366"
      ]
     },
     "metadata": {},
     "execution_count": 168
    }
   ],
   "source": [
    "dt = datetime.strptime('01/01/2001', '%m/%d/%Y')-datetime.strptime('01/01/2000', '%m/%d/%Y')\n",
    "dt.days"
   ]
  },
  {
   "cell_type": "code",
   "execution_count": 169,
   "metadata": {},
   "outputs": [],
   "source": [
    "# Метод для приведения ценовых категорий под конкретные числа\n",
    "def parse_range(symb):\n",
    "    if symb == '$':\n",
    "        return 1\n",
    "    elif symb == '$$ - $$$':\n",
    "        return 2\n",
    "    else:\n",
    "        return 3\n",
    "\n",
    "temp_range = data['Price Range'].apply(lambda x: None if x != x else parse_range(x)) # сохраняем данные в промежуточную серию\n",
    "rng_medn = temp_range.dropna().median() # находим медиану так как она целая\n",
    "newdata['Price_Range_Id'] = data['Price Range'].apply(lambda x: rng_medn if x != x else parse_range(x)) # применяем метод с заменой NaN значений на найденную выше медиану"
   ]
  },
  {
   "cell_type": "code",
   "execution_count": 170,
   "metadata": {},
   "outputs": [
    {
     "output_type": "execute_result",
     "data": {
      "text/plain": [
       "Index(['Paris', 'Stockholm', 'London', 'Berlin', 'Munich', 'Oporto', 'Milan',\n",
       "       'Bratislava', 'Vienna', 'Rome', 'Barcelona', 'Madrid', 'Dublin',\n",
       "       'Brussels', 'Zurich', 'Warsaw', 'Budapest', 'Copenhagen', 'Amsterdam',\n",
       "       'Lyon', 'Hamburg', 'Lisbon', 'Prague', 'Oslo', 'Helsinki', 'Edinburgh',\n",
       "       'Geneva', 'Ljubljana', 'Athens', 'Luxembourg', 'Krakow'],\n",
       "      dtype='object')"
      ]
     },
     "metadata": {},
     "execution_count": 170
    }
   ],
   "source": [
    "# newdata['City_Id'] = pd.Series(codes) # не изпользуем приведение городов под идентификационные номера\n",
    "\n",
    "# Метод с задания Python 12 который пибавляет единицу если находит в списке\n",
    "def find_item(cell):\n",
    "    if item in cell:\n",
    "        return 1\n",
    "    return 0\n",
    "\n",
    "for item in uniques: # пробегаемся по названиям городов\n",
    "    newdata[item] = newdata['City'].apply(find_item) # находим города и создаем под них новые столбцы и ставим единицу если ресторан находится в этом городе\n",
    "uniques # список уникальных названий городов"
   ]
  },
  {
   "cell_type": "code",
   "execution_count": 171,
   "metadata": {},
   "outputs": [
    {
     "output_type": "execute_result",
     "data": {
      "text/plain": [
       "'Barcelona'"
      ]
     },
     "metadata": {},
     "execution_count": 171
    }
   ],
   "source": [
    "# вручную составляем словарь стран с городами в данных\n",
    "states = {'Spain': ['Barcelona','Madrid'], 'Portugal':['Lisbon','Oporto'], 'Slovakia':['Bratislava'], 'Austria':['Vienna'],\n",
    "        'Switzerland':['Zurich','Geneva'], 'France':['Paris','Lyon'], 'Sweden':['Stockholm'], 'Poland':['Warsaw','Krakow'],\n",
    "        'Germany':['Berlin','Munich','Hamburg'], 'UK':['London'], 'Italy':['Milan','Rome'],\n",
    "        'Slovenia':['Ljubljana'], 'Greece':['Athens'], 'Luxembourg':['Luxembourg'], 'Norway':['Oslo'],\n",
    "        'Belgium':['Brussels'], 'Ireland':['Dublin'], 'Finland':['Helsinki'], 'Denmark':['Copenhagen'],\n",
    "        'Scotland':['Edinburgh'], 'Netherlands':['Amsterdam'], 'Hungary':['Budapest'],\n",
    "        'Czechia':['Prague']}\n",
    "states['Spain'][0]"
   ]
  },
  {
   "cell_type": "code",
   "execution_count": 172,
   "metadata": {},
   "outputs": [
    {
     "output_type": "execute_result",
     "data": {
      "text/plain": [
       "0     France\n",
       "1     Sweden\n",
       "2         UK\n",
       "3    Germany\n",
       "4    Germany\n",
       "Name: Country, dtype: object"
      ]
     },
     "metadata": {},
     "execution_count": 172
    }
   ],
   "source": [
    "# Метод для нахождения страны по городу\n",
    "def find_cnty(city):\n",
    "    for key in states:\n",
    "        if city in states[key]:\n",
    "            return key\n",
    "\n",
    "newdata['Country'] = newdata['City'].apply(find_cnty) # находим страны и присваиваем в новый столбец\n",
    "newdata['Country'].head()"
   ]
  },
  {
   "cell_type": "code",
   "execution_count": 173,
   "metadata": {},
   "outputs": [],
   "source": [
    "for item in states.keys():\n",
    "    newdata[item] = newdata['Country'].apply(find_item) # применяем тот же метод который использовали для распределения ресторанов по городам"
   ]
  },
  {
   "cell_type": "code",
   "execution_count": 174,
   "metadata": {},
   "outputs": [
    {
     "output_type": "stream",
     "name": "stdout",
     "text": [
      "<class 'pandas.core.frame.DataFrame'>\nRangeIndex: 40000 entries, 0 to 39999\nColumns: 193 entries, Restaurant_id to Italian\ndtypes: float64(4), int64(181), object(8)\nmemory usage: 58.9+ MB\n"
     ]
    }
   ],
   "source": [
    "newdata['Cuisine_Num'] = parsed.apply(lambda x: len(x)) # используем лямбду для расставления количества кухонь в датасет\n",
    "newdata['Cuisine Style'] = pd.Series(parsed) # перепишем строковые данные под список\n",
    "\n",
    "# фильтруем данные в сет\n",
    "cuisine_set = set()\n",
    "for cus in parsed:\n",
    "    for item in cus:\n",
    "        cuisine_set.add(item)\n",
    "len(cuisine_set) # количество кухонь\n",
    "for item in cuisine_set:\n",
    "    newdata[item] = newdata['Cuisine Style'].apply(find_item) # применяем тот же метод который использовали для распределения ресторанов по городам\n",
    "newdata.info()"
   ]
  },
  {
   "cell_type": "code",
   "execution_count": 175,
   "metadata": {},
   "outputs": [
    {
     "output_type": "execute_result",
     "data": {
      "text/plain": [
       "  Restaurant_id       City                                      Cuisine Style  \\\n",
       "0       id_5569      Paris                  [European, French, International]   \n",
       "1       id_1535  Stockholm                                          [Default]   \n",
       "2        id_352     London  [Japanese, Sushi, Asian, Grill, Vegetarian Fri...   \n",
       "3       id_3456     Berlin                                          [Default]   \n",
       "4        id_615     Munich    [German, Central European, Vegetarian Friendly]   \n",
       "\n",
       "   Ranking  Rating Price Range  Number of Reviews  \\\n",
       "0   5570.0     3.5    $$ - $$$              194.0   \n",
       "1   1537.0     4.0         NaN               10.0   \n",
       "2    353.0     4.5        $$$$              688.0   \n",
       "3   3458.0     5.0         NaN                3.0   \n",
       "4    621.0     4.0    $$ - $$$               84.0   \n",
       "\n",
       "                                             Reviews  \\\n",
       "0  [['Good food at your doorstep', 'A good hotel ...   \n",
       "1  [['Unique cuisine', 'Delicious Nepalese food']...   \n",
       "2  [['Catch up with friends', 'Not exceptional'],...   \n",
       "3                                           [[], []]   \n",
       "4  [['Best place to try a Bavarian food', 'Nice b...   \n",
       "\n",
       "                                              URL_TA     ID_TA  ...  \\\n",
       "0  /Restaurant_Review-g187147-d1912643-Reviews-R_...  d1912643  ...   \n",
       "1  /Restaurant_Review-g189852-d7992032-Reviews-Bu...  d7992032  ...   \n",
       "2  /Restaurant_Review-g186338-d8632781-Reviews-RO...  d8632781  ...   \n",
       "3  /Restaurant_Review-g187323-d1358776-Reviews-Es...  d1358776  ...   \n",
       "4  /Restaurant_Review-g187309-d6864963-Reviews-Au...  d6864963  ...   \n",
       "\n",
       "   Native American  American  Street Food  Georgian  Salvadoran  Bar  \\\n",
       "0                0         0            0         0           0    0   \n",
       "1                0         0            0         0           0    0   \n",
       "2                0         0            0         0           0    0   \n",
       "3                0         0            0         0           0    0   \n",
       "4                0         0            0         0           0    0   \n",
       "\n",
       "   Azerbaijani  Tibetan  Slovenian  Italian  \n",
       "0            0        0          0        0  \n",
       "1            0        0          0        0  \n",
       "2            0        0          0        0  \n",
       "3            0        0          0        0  \n",
       "4            0        0          0        0  \n",
       "\n",
       "[5 rows x 193 columns]"
      ],
      "text/html": "<div>\n<style scoped>\n    .dataframe tbody tr th:only-of-type {\n        vertical-align: middle;\n    }\n\n    .dataframe tbody tr th {\n        vertical-align: top;\n    }\n\n    .dataframe thead th {\n        text-align: right;\n    }\n</style>\n<table border=\"1\" class=\"dataframe\">\n  <thead>\n    <tr style=\"text-align: right;\">\n      <th></th>\n      <th>Restaurant_id</th>\n      <th>City</th>\n      <th>Cuisine Style</th>\n      <th>Ranking</th>\n      <th>Rating</th>\n      <th>Price Range</th>\n      <th>Number of Reviews</th>\n      <th>Reviews</th>\n      <th>URL_TA</th>\n      <th>ID_TA</th>\n      <th>...</th>\n      <th>Native American</th>\n      <th>American</th>\n      <th>Street Food</th>\n      <th>Georgian</th>\n      <th>Salvadoran</th>\n      <th>Bar</th>\n      <th>Azerbaijani</th>\n      <th>Tibetan</th>\n      <th>Slovenian</th>\n      <th>Italian</th>\n    </tr>\n  </thead>\n  <tbody>\n    <tr>\n      <th>0</th>\n      <td>id_5569</td>\n      <td>Paris</td>\n      <td>[European, French, International]</td>\n      <td>5570.0</td>\n      <td>3.5</td>\n      <td>$$ - $$$</td>\n      <td>194.0</td>\n      <td>[['Good food at your doorstep', 'A good hotel ...</td>\n      <td>/Restaurant_Review-g187147-d1912643-Reviews-R_...</td>\n      <td>d1912643</td>\n      <td>...</td>\n      <td>0</td>\n      <td>0</td>\n      <td>0</td>\n      <td>0</td>\n      <td>0</td>\n      <td>0</td>\n      <td>0</td>\n      <td>0</td>\n      <td>0</td>\n      <td>0</td>\n    </tr>\n    <tr>\n      <th>1</th>\n      <td>id_1535</td>\n      <td>Stockholm</td>\n      <td>[Default]</td>\n      <td>1537.0</td>\n      <td>4.0</td>\n      <td>NaN</td>\n      <td>10.0</td>\n      <td>[['Unique cuisine', 'Delicious Nepalese food']...</td>\n      <td>/Restaurant_Review-g189852-d7992032-Reviews-Bu...</td>\n      <td>d7992032</td>\n      <td>...</td>\n      <td>0</td>\n      <td>0</td>\n      <td>0</td>\n      <td>0</td>\n      <td>0</td>\n      <td>0</td>\n      <td>0</td>\n      <td>0</td>\n      <td>0</td>\n      <td>0</td>\n    </tr>\n    <tr>\n      <th>2</th>\n      <td>id_352</td>\n      <td>London</td>\n      <td>[Japanese, Sushi, Asian, Grill, Vegetarian Fri...</td>\n      <td>353.0</td>\n      <td>4.5</td>\n      <td>$$$$</td>\n      <td>688.0</td>\n      <td>[['Catch up with friends', 'Not exceptional'],...</td>\n      <td>/Restaurant_Review-g186338-d8632781-Reviews-RO...</td>\n      <td>d8632781</td>\n      <td>...</td>\n      <td>0</td>\n      <td>0</td>\n      <td>0</td>\n      <td>0</td>\n      <td>0</td>\n      <td>0</td>\n      <td>0</td>\n      <td>0</td>\n      <td>0</td>\n      <td>0</td>\n    </tr>\n    <tr>\n      <th>3</th>\n      <td>id_3456</td>\n      <td>Berlin</td>\n      <td>[Default]</td>\n      <td>3458.0</td>\n      <td>5.0</td>\n      <td>NaN</td>\n      <td>3.0</td>\n      <td>[[], []]</td>\n      <td>/Restaurant_Review-g187323-d1358776-Reviews-Es...</td>\n      <td>d1358776</td>\n      <td>...</td>\n      <td>0</td>\n      <td>0</td>\n      <td>0</td>\n      <td>0</td>\n      <td>0</td>\n      <td>0</td>\n      <td>0</td>\n      <td>0</td>\n      <td>0</td>\n      <td>0</td>\n    </tr>\n    <tr>\n      <th>4</th>\n      <td>id_615</td>\n      <td>Munich</td>\n      <td>[German, Central European, Vegetarian Friendly]</td>\n      <td>621.0</td>\n      <td>4.0</td>\n      <td>$$ - $$$</td>\n      <td>84.0</td>\n      <td>[['Best place to try a Bavarian food', 'Nice b...</td>\n      <td>/Restaurant_Review-g187309-d6864963-Reviews-Au...</td>\n      <td>d6864963</td>\n      <td>...</td>\n      <td>0</td>\n      <td>0</td>\n      <td>0</td>\n      <td>0</td>\n      <td>0</td>\n      <td>0</td>\n      <td>0</td>\n      <td>0</td>\n      <td>0</td>\n      <td>0</td>\n    </tr>\n  </tbody>\n</table>\n<p>5 rows × 193 columns</p>\n</div>"
     },
     "metadata": {},
     "execution_count": 175
    }
   ],
   "source": [
    "newdata.head()"
   ]
  },
  {
   "cell_type": "code",
   "execution_count": 176,
   "metadata": {},
   "outputs": [
    {
     "output_type": "stream",
     "name": "stdout",
     "text": [
      "<class 'pandas.core.frame.DataFrame'>\nRangeIndex: 40000 entries, 0 to 39999\nData columns (total 186 columns):\n #    Column               Dtype  \n---   ------               -----  \n 0    Restaurant_id        object \n 1    Ranking              float64\n 2    Rating               float64\n 3    Number of Reviews    float64\n 4    Rev_Days             int64  \n 5    Price_Range_Id       float64\n 6    Paris                int64  \n 7    Stockholm            int64  \n 8    London               int64  \n 9    Berlin               int64  \n 10   Munich               int64  \n 11   Oporto               int64  \n 12   Milan                int64  \n 13   Bratislava           int64  \n 14   Vienna               int64  \n 15   Rome                 int64  \n 16   Barcelona            int64  \n 17   Madrid               int64  \n 18   Dublin               int64  \n 19   Brussels             int64  \n 20   Zurich               int64  \n 21   Warsaw               int64  \n 22   Budapest             int64  \n 23   Copenhagen           int64  \n 24   Amsterdam            int64  \n 25   Lyon                 int64  \n 26   Hamburg              int64  \n 27   Lisbon               int64  \n 28   Prague               int64  \n 29   Oslo                 int64  \n 30   Helsinki             int64  \n 31   Edinburgh            int64  \n 32   Geneva               int64  \n 33   Ljubljana            int64  \n 34   Athens               int64  \n 35   Luxembourg           int64  \n 36   Krakow               int64  \n 37   Spain                int64  \n 38   Portugal             int64  \n 39   Slovakia             int64  \n 40   Austria              int64  \n 41   Switzerland          int64  \n 42   France               int64  \n 43   Sweden               int64  \n 44   Poland               int64  \n 45   Germany              int64  \n 46   UK                   int64  \n 47   Italy                int64  \n 48   Slovenia             int64  \n 49   Greece               int64  \n 50   Norway               int64  \n 51   Belgium              int64  \n 52   Ireland              int64  \n 53   Finland              int64  \n 54   Denmark              int64  \n 55   Scotland             int64  \n 56   Netherlands          int64  \n 57   Hungary              int64  \n 58   Czechia              int64  \n 59   Cuisine_Num          int64  \n 60   German               int64  \n 61   Russian              int64  \n 62   Austrian             int64  \n 63   Sushi                int64  \n 64   Indian               int64  \n 65   Brew Pub             int64  \n 66   Swedish              int64  \n 67   Pizza                int64  \n 68   French               int64  \n 69   Cafe                 int64  \n 70   Singaporean          int64  \n 71   Cajun & Creole       int64  \n 72   Afghani              int64  \n 73   Australian           int64  \n 74   Portuguese           int64  \n 75   African              int64  \n 76   Hawaiian             int64  \n 77   Albanian             int64  \n 78   Croatian             int64  \n 79   Chinese              int64  \n 80   Armenian             int64  \n 81   Uzbek                int64  \n 82   Hungarian            int64  \n 83   Pub                  int64  \n 84   Mongolian            int64  \n 85   Default              int64  \n 86   Kosher               int64  \n 87   Japanese             int64  \n 88   Spanish              int64  \n 89   Halal                int64  \n 90   Thai                 int64  \n 91   Southwestern         int64  \n 92   Minority Chinese     int64  \n 93   Vegan Options        int64  \n 94   Ukrainian            int64  \n 95   Yunnan               int64  \n 96   Wine Bar             int64  \n 97   Filipino             int64  \n 98   Tunisian             int64  \n 99   Central European     int64  \n 100  Delicatessen         int64  \n 101  Scottish             int64  \n 102  Healthy              int64  \n 103  Arabic               int64  \n 104  Soups                int64  \n 105  Grill                int64  \n 106  Czech                int64  \n 107  Cambodian            int64  \n 108  Latin                int64  \n 109  Ethiopian            int64  \n 110  Colombian            int64  \n 111  Fusion               int64  \n 112  Korean               int64  \n 113  Cuban                int64  \n 114  Vegetarian Friendly  int64  \n 115  Argentinean          int64  \n 116  Jamaican             int64  \n 117  Gluten Free Options  int64  \n 118  Fast Food            int64  \n 119  Latvian              int64  \n 120  Ecuadorean           int64  \n 121  Bangladeshi          int64  \n 122  Egyptian             int64  \n 123  Contemporary         int64  \n 124  Indonesian           int64  \n 125  Irish                int64  \n 126  Fujian               int64  \n 127  Peruvian             int64  \n 128  Polish               int64  \n 129  Steakhouse           int64  \n 130  South American       int64  \n 131  Taiwanese            int64  \n 132  Caucasian            int64  \n 133  Sri Lankan           int64  \n 134  Nepali               int64  \n 135  Turkish              int64  \n 136  Burmese              int64  \n 137  Middle Eastern       int64  \n 138  Chilean              int64  \n 139  Xinjiang             int64  \n 140  Dutch                int64  \n 141  Central American     int64  \n 142  Welsh                int64  \n 143  Diner                int64  \n 144  British              int64  \n 145  Romanian             int64  \n 146  Danish               int64  \n 147  Vietnamese           int64  \n 148  Belgian              int64  \n 149  Malaysian            int64  \n 150  Asian                int64  \n 151  Central Asian        int64  \n 152  Mediterranean        int64  \n 153  Scandinavian         int64  \n 154  International        int64  \n 155  Brazilian            int64  \n 156  Israeli              int64  \n 157  Eastern European     int64  \n 158  Polynesian           int64  \n 159  Venezuelan           int64  \n 160  Norwegian            int64  \n 161  Swiss                int64  \n 162  Pakistani            int64  \n 163  Mexican              int64  \n 164  Barbecue             int64  \n 165  Greek                int64  \n 166  Canadian             int64  \n 167  Seafood              int64  \n 168  New Zealand          int64  \n 169  Moroccan             int64  \n 170  Gastropub            int64  \n 171  Caribbean            int64  \n 172  Lebanese             int64  \n 173  Persian              int64  \n 174  European             int64  \n 175  Balti                int64  \n 176  Native American      int64  \n 177  American             int64  \n 178  Street Food          int64  \n 179  Georgian             int64  \n 180  Salvadoran           int64  \n 181  Bar                  int64  \n 182  Azerbaijani          int64  \n 183  Tibetan              int64  \n 184  Slovenian            int64  \n 185  Italian              int64  \ndtypes: float64(4), int64(181), object(1)\nmemory usage: 56.8+ MB\n"
     ]
    }
   ],
   "source": [
    "# Чистим данные по количеству отзывов\n",
    "newdf = newdata.drop(columns=['Restaurant_id','City','Country','Cuisine Style','Price Range','Reviews','URL_TA','ID_TA'])\n",
    "newdf.rename(columns={'Number of Reviews': 'review_num'}, inplace=True) # заменяем название на более удобное\n",
    "\n",
    "# убираем выбросы\n",
    "IQR = newdf.review_num.quantile(0.75) - newdf.review_num.quantile(0.25)\n",
    "perc25 = newdf.review_num.quantile(0.25)\n",
    "perc75 = newdf.review_num.quantile(0.75)\n",
    "real_mean = newdf.review_num.loc[newdf.review_num.between(perc25 - 1.5*IQR, perc75 + 1.5*IQR)].mean()\n",
    "\n",
    "# используем медиану для заполнения NaN значений\n",
    "newdata['Number of Reviews'] = newdf.review_num.fillna(real_mean)\n",
    "# убираем строковые данные\n",
    "testdf = newdata.drop(columns=['City','Country','Cuisine Style','Price Range','Reviews','URL_TA','ID_TA'])\n",
    "testdf.info(verbose=True)"
   ]
  },
  {
   "cell_type": "code",
   "execution_count": 177,
   "metadata": {},
   "outputs": [],
   "source": [
    "# Закоментил код ниже, так как из за него увеличился MAE\n",
    "\n",
    "# testdf['Rev_Per_Day'] = testdf['Number of Reviews'] / testdf['Rev_Days']\n",
    "# testdf['Rev_Per_Day'] = testdf['Rev_Per_Day'].replace(np.inf, 0)\n",
    "# newdata[newdata['Rev_Per_Day'] > 0 ]"
   ]
  },
  {
   "cell_type": "code",
   "execution_count": 178,
   "metadata": {},
   "outputs": [
    {
     "output_type": "stream",
     "name": "stdout",
     "text": [
      "MAE: 0.21521500000000002\n"
     ]
    }
   ],
   "source": [
    "# Загружаем специальный инструмент для разбивки:\n",
    "from sklearn.model_selection import train_test_split\n",
    "\n",
    "# Х - данные с информацией о ресторанах, у - целевая переменная (рейтинги ресторанов)\n",
    "X = testdf.drop(['Restaurant_id', 'Rating'], axis = 1)\n",
    "y = testdf['Rating']\n",
    "\n",
    "# Наборы данных с меткой \"train\" будут использоваться для обучения модели, \"test\" - для тестирования.\n",
    "# Для тестирования мы будем использовать 25% от исходного датасета.\n",
    "X_train, X_test, y_train, y_test = train_test_split(X, y, test_size=0.25)\n",
    "\n",
    "# Импортируем необходимые библиотеки:\n",
    "from sklearn.ensemble import RandomForestRegressor # инструмент для создания и обучения модели\n",
    "from sklearn import metrics # инструменты для оценки точности модели\n",
    "\n",
    "# Создаём модель\n",
    "regr = RandomForestRegressor(n_estimators=100)\n",
    "\n",
    "# Обучаем модель на тестовом наборе данных\n",
    "regr.fit(X_train, y_train)\n",
    "\n",
    "# Используем обученную модель для предсказания рейтинга ресторанов в тестовой выборке.\n",
    "# Предсказанные значения записываем в переменную y_pred\n",
    "y_pred = regr.predict(X_test)\n",
    "\n",
    "# Сравниваем предсказанные значения (y_pred) с реальными (y_test), и смотрим насколько они в среднем отличаются\n",
    "# Метрика называется Mean Absolute Error (MAE) и показывает среднее отклонение предсказанных значений от фактических.\n",
    "print('MAE:', metrics.mean_absolute_error(y_test, y_pred))"
   ]
  },
  {
   "cell_type": "code",
   "execution_count": 180,
   "metadata": {},
   "outputs": [
    {
     "output_type": "execute_result",
     "data": {
      "text/plain": [
       "  Restaurant_id  Ranking  Rating  Number of Reviews  Rev_Days  Price_Range_Id  \\\n",
       "0       id_5569   5570.0     3.5              194.0        41             2.0   \n",
       "1       id_1535   1537.0     4.0               10.0       382             2.0   \n",
       "2        id_352    353.0     4.5              688.0         2             3.0   \n",
       "3       id_3456   3458.0     5.0                3.0         0             2.0   \n",
       "4        id_615    621.0     4.0               84.0       272             2.0   \n",
       "\n",
       "   Paris  Stockholm  London  Berlin  ...  Native American  American  \\\n",
       "0      1          0       0       0  ...                0         0   \n",
       "1      0          1       0       0  ...                0         0   \n",
       "2      0          0       1       0  ...                0         0   \n",
       "3      0          0       0       1  ...                0         0   \n",
       "4      0          0       0       0  ...                0         0   \n",
       "\n",
       "   Street Food  Georgian  Salvadoran  Bar  Azerbaijani  Tibetan  Slovenian  \\\n",
       "0            0         0           0    0            0        0          0   \n",
       "1            0         0           0    0            0        0          0   \n",
       "2            0         0           0    0            0        0          0   \n",
       "3            0         0           0    0            0        0          0   \n",
       "4            0         0           0    0            0        0          0   \n",
       "\n",
       "   Italian  \n",
       "0        0  \n",
       "1        0  \n",
       "2        0  \n",
       "3        0  \n",
       "4        0  \n",
       "\n",
       "[5 rows x 186 columns]"
      ],
      "text/html": "<div>\n<style scoped>\n    .dataframe tbody tr th:only-of-type {\n        vertical-align: middle;\n    }\n\n    .dataframe tbody tr th {\n        vertical-align: top;\n    }\n\n    .dataframe thead th {\n        text-align: right;\n    }\n</style>\n<table border=\"1\" class=\"dataframe\">\n  <thead>\n    <tr style=\"text-align: right;\">\n      <th></th>\n      <th>Restaurant_id</th>\n      <th>Ranking</th>\n      <th>Rating</th>\n      <th>Number of Reviews</th>\n      <th>Rev_Days</th>\n      <th>Price_Range_Id</th>\n      <th>Paris</th>\n      <th>Stockholm</th>\n      <th>London</th>\n      <th>Berlin</th>\n      <th>...</th>\n      <th>Native American</th>\n      <th>American</th>\n      <th>Street Food</th>\n      <th>Georgian</th>\n      <th>Salvadoran</th>\n      <th>Bar</th>\n      <th>Azerbaijani</th>\n      <th>Tibetan</th>\n      <th>Slovenian</th>\n      <th>Italian</th>\n    </tr>\n  </thead>\n  <tbody>\n    <tr>\n      <th>0</th>\n      <td>id_5569</td>\n      <td>5570.0</td>\n      <td>3.5</td>\n      <td>194.0</td>\n      <td>41</td>\n      <td>2.0</td>\n      <td>1</td>\n      <td>0</td>\n      <td>0</td>\n      <td>0</td>\n      <td>...</td>\n      <td>0</td>\n      <td>0</td>\n      <td>0</td>\n      <td>0</td>\n      <td>0</td>\n      <td>0</td>\n      <td>0</td>\n      <td>0</td>\n      <td>0</td>\n      <td>0</td>\n    </tr>\n    <tr>\n      <th>1</th>\n      <td>id_1535</td>\n      <td>1537.0</td>\n      <td>4.0</td>\n      <td>10.0</td>\n      <td>382</td>\n      <td>2.0</td>\n      <td>0</td>\n      <td>1</td>\n      <td>0</td>\n      <td>0</td>\n      <td>...</td>\n      <td>0</td>\n      <td>0</td>\n      <td>0</td>\n      <td>0</td>\n      <td>0</td>\n      <td>0</td>\n      <td>0</td>\n      <td>0</td>\n      <td>0</td>\n      <td>0</td>\n    </tr>\n    <tr>\n      <th>2</th>\n      <td>id_352</td>\n      <td>353.0</td>\n      <td>4.5</td>\n      <td>688.0</td>\n      <td>2</td>\n      <td>3.0</td>\n      <td>0</td>\n      <td>0</td>\n      <td>1</td>\n      <td>0</td>\n      <td>...</td>\n      <td>0</td>\n      <td>0</td>\n      <td>0</td>\n      <td>0</td>\n      <td>0</td>\n      <td>0</td>\n      <td>0</td>\n      <td>0</td>\n      <td>0</td>\n      <td>0</td>\n    </tr>\n    <tr>\n      <th>3</th>\n      <td>id_3456</td>\n      <td>3458.0</td>\n      <td>5.0</td>\n      <td>3.0</td>\n      <td>0</td>\n      <td>2.0</td>\n      <td>0</td>\n      <td>0</td>\n      <td>0</td>\n      <td>1</td>\n      <td>...</td>\n      <td>0</td>\n      <td>0</td>\n      <td>0</td>\n      <td>0</td>\n      <td>0</td>\n      <td>0</td>\n      <td>0</td>\n      <td>0</td>\n      <td>0</td>\n      <td>0</td>\n    </tr>\n    <tr>\n      <th>4</th>\n      <td>id_615</td>\n      <td>621.0</td>\n      <td>4.0</td>\n      <td>84.0</td>\n      <td>272</td>\n      <td>2.0</td>\n      <td>0</td>\n      <td>0</td>\n      <td>0</td>\n      <td>0</td>\n      <td>...</td>\n      <td>0</td>\n      <td>0</td>\n      <td>0</td>\n      <td>0</td>\n      <td>0</td>\n      <td>0</td>\n      <td>0</td>\n      <td>0</td>\n      <td>0</td>\n      <td>0</td>\n    </tr>\n  </tbody>\n</table>\n<p>5 rows × 186 columns</p>\n</div>"
     },
     "metadata": {},
     "execution_count": 180
    }
   ],
   "source": [
    "testdf.head()"
   ]
  },
  {
   "cell_type": "code",
   "execution_count": 182,
   "metadata": {},
   "outputs": [
    {
     "output_type": "stream",
     "name": "stdout",
     "text": [
      "<class 'pandas.core.frame.DataFrame'>\nRangeIndex: 40000 entries, 0 to 39999\nData columns (total 186 columns):\n #    Column               Dtype  \n---   ------               -----  \n 0    Restaurant_id        object \n 1    Ranking              float64\n 2    Rating               float64\n 3    Number of Reviews    float64\n 4    Rev_Days             int64  \n 5    Price_Range_Id       float64\n 6    Paris                int64  \n 7    Stockholm            int64  \n 8    London               int64  \n 9    Berlin               int64  \n 10   Munich               int64  \n 11   Oporto               int64  \n 12   Milan                int64  \n 13   Bratislava           int64  \n 14   Vienna               int64  \n 15   Rome                 int64  \n 16   Barcelona            int64  \n 17   Madrid               int64  \n 18   Dublin               int64  \n 19   Brussels             int64  \n 20   Zurich               int64  \n 21   Warsaw               int64  \n 22   Budapest             int64  \n 23   Copenhagen           int64  \n 24   Amsterdam            int64  \n 25   Lyon                 int64  \n 26   Hamburg              int64  \n 27   Lisbon               int64  \n 28   Prague               int64  \n 29   Oslo                 int64  \n 30   Helsinki             int64  \n 31   Edinburgh            int64  \n 32   Geneva               int64  \n 33   Ljubljana            int64  \n 34   Athens               int64  \n 35   Luxembourg           int64  \n 36   Krakow               int64  \n 37   Spain                int64  \n 38   Portugal             int64  \n 39   Slovakia             int64  \n 40   Austria              int64  \n 41   Switzerland          int64  \n 42   France               int64  \n 43   Sweden               int64  \n 44   Poland               int64  \n 45   Germany              int64  \n 46   UK                   int64  \n 47   Italy                int64  \n 48   Slovenia             int64  \n 49   Greece               int64  \n 50   Norway               int64  \n 51   Belgium              int64  \n 52   Ireland              int64  \n 53   Finland              int64  \n 54   Denmark              int64  \n 55   Scotland             int64  \n 56   Netherlands          int64  \n 57   Hungary              int64  \n 58   Czechia              int64  \n 59   Cuisine_Num          int64  \n 60   German               int64  \n 61   Russian              int64  \n 62   Austrian             int64  \n 63   Sushi                int64  \n 64   Indian               int64  \n 65   Brew Pub             int64  \n 66   Swedish              int64  \n 67   Pizza                int64  \n 68   French               int64  \n 69   Cafe                 int64  \n 70   Singaporean          int64  \n 71   Cajun & Creole       int64  \n 72   Afghani              int64  \n 73   Australian           int64  \n 74   Portuguese           int64  \n 75   African              int64  \n 76   Hawaiian             int64  \n 77   Albanian             int64  \n 78   Croatian             int64  \n 79   Chinese              int64  \n 80   Armenian             int64  \n 81   Uzbek                int64  \n 82   Hungarian            int64  \n 83   Pub                  int64  \n 84   Mongolian            int64  \n 85   Default              int64  \n 86   Kosher               int64  \n 87   Japanese             int64  \n 88   Spanish              int64  \n 89   Halal                int64  \n 90   Thai                 int64  \n 91   Southwestern         int64  \n 92   Minority Chinese     int64  \n 93   Vegan Options        int64  \n 94   Ukrainian            int64  \n 95   Yunnan               int64  \n 96   Wine Bar             int64  \n 97   Filipino             int64  \n 98   Tunisian             int64  \n 99   Central European     int64  \n 100  Delicatessen         int64  \n 101  Scottish             int64  \n 102  Healthy              int64  \n 103  Arabic               int64  \n 104  Soups                int64  \n 105  Grill                int64  \n 106  Czech                int64  \n 107  Cambodian            int64  \n 108  Latin                int64  \n 109  Ethiopian            int64  \n 110  Colombian            int64  \n 111  Fusion               int64  \n 112  Korean               int64  \n 113  Cuban                int64  \n 114  Vegetarian Friendly  int64  \n 115  Argentinean          int64  \n 116  Jamaican             int64  \n 117  Gluten Free Options  int64  \n 118  Fast Food            int64  \n 119  Latvian              int64  \n 120  Ecuadorean           int64  \n 121  Bangladeshi          int64  \n 122  Egyptian             int64  \n 123  Contemporary         int64  \n 124  Indonesian           int64  \n 125  Irish                int64  \n 126  Fujian               int64  \n 127  Peruvian             int64  \n 128  Polish               int64  \n 129  Steakhouse           int64  \n 130  South American       int64  \n 131  Taiwanese            int64  \n 132  Caucasian            int64  \n 133  Sri Lankan           int64  \n 134  Nepali               int64  \n 135  Turkish              int64  \n 136  Burmese              int64  \n 137  Middle Eastern       int64  \n 138  Chilean              int64  \n 139  Xinjiang             int64  \n 140  Dutch                int64  \n 141  Central American     int64  \n 142  Welsh                int64  \n 143  Diner                int64  \n 144  British              int64  \n 145  Romanian             int64  \n 146  Danish               int64  \n 147  Vietnamese           int64  \n 148  Belgian              int64  \n 149  Malaysian            int64  \n 150  Asian                int64  \n 151  Central Asian        int64  \n 152  Mediterranean        int64  \n 153  Scandinavian         int64  \n 154  International        int64  \n 155  Brazilian            int64  \n 156  Israeli              int64  \n 157  Eastern European     int64  \n 158  Polynesian           int64  \n 159  Venezuelan           int64  \n 160  Norwegian            int64  \n 161  Swiss                int64  \n 162  Pakistani            int64  \n 163  Mexican              int64  \n 164  Barbecue             int64  \n 165  Greek                int64  \n 166  Canadian             int64  \n 167  Seafood              int64  \n 168  New Zealand          int64  \n 169  Moroccan             int64  \n 170  Gastropub            int64  \n 171  Caribbean            int64  \n 172  Lebanese             int64  \n 173  Persian              int64  \n 174  European             int64  \n 175  Balti                int64  \n 176  Native American      int64  \n 177  American             int64  \n 178  Street Food          int64  \n 179  Georgian             int64  \n 180  Salvadoran           int64  \n 181  Bar                  int64  \n 182  Azerbaijani          int64  \n 183  Tibetan              int64  \n 184  Slovenian            int64  \n 185  Italian              int64  \ndtypes: float64(4), int64(181), object(1)\nmemory usage: 56.8+ MB\n"
     ]
    }
   ],
   "source": [
    "testdf.info(verbose=True)"
   ]
  },
  {
   "cell_type": "code",
   "execution_count": null,
   "metadata": {},
   "outputs": [],
   "source": []
  }
 ]
}