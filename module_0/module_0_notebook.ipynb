{
 "cells": [
  {
   "cell_type": "code",
   "execution_count": 42,
   "metadata": {},
   "outputs": [
    {
     "name": "stdout",
     "output_type": "stream",
     "text": [
      "Загадано число от 1 до 100\n",
      "Вы угадали число 97 за 7 попыток.\n"
     ]
    }
   ],
   "source": [
    "import numpy as np\n",
    "count = 0                            # счетчик попыток\n",
    "max_num = 100                        # максимальное заданное число\n",
    "secret = np.random.randint(1,max_num+1)    # загадали число\n",
    "print (\"Загадано число от 1 до 100\")\n",
    "\n",
    "\n",
    "def binary_search(high, low=1):\n",
    "    ''' Функция по бинарному поиску загадонного числа '''\n",
    "    global count, secret\n",
    "    count += 1\n",
    "    half = low + (high-low)//2       # вычисляем середину между high и low значениями\n",
    "    \n",
    "    if half > secret > low:          # если число ниже середины\n",
    "        return binary_search(half, low)   # ищем дальше в промежутке границ середней и низкой\n",
    "    elif half < secret < high:       # если число выще середины\n",
    "        return binary_search(high, half)  # ищем дальше в промежутке границ высщей и средней\n",
    "    else:                            # если число не ниже или выше имеющихся границ\n",
    "        return True                  # то число найдено\n",
    "\n",
    "\n",
    "if binary_search(max_num):\n",
    "    print (f\"Вы угадали число {secret} за {count} попыток.\") # максимальное количество попыток \n",
    "                                                             # в данном промежутке - 7"
   ]
  },
  {
   "cell_type": "code",
   "execution_count": 11,
   "metadata": {},
   "outputs": [
    {
     "data": {
      "text/plain": [
       "67"
      ]
     },
     "execution_count": 11,
     "metadata": {},
     "output_type": "execute_result"
    }
   ],
   "source": [
    "61+(74-61)//2"
   ]
  }
 ],
 "metadata": {
  "kernelspec": {
   "display_name": "Python 3",
   "language": "python",
   "name": "python3"
  },
  "language_info": {
   "codemirror_mode": {
    "name": "ipython",
    "version": 3
   },
   "file_extension": ".py",
   "mimetype": "text/x-python",
   "name": "python",
   "nbconvert_exporter": "python",
   "pygments_lexer": "ipython3",
   "version": "3.8.3"
  }
 },
 "nbformat": 4,
 "nbformat_minor": 4
}
